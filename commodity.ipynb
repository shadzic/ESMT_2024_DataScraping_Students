{
 "cells": [
  {
   "cell_type": "code",
   "execution_count": 23,
   "metadata": {},
   "outputs": [
    {
     "name": "stdout",
     "output_type": "stream",
     "text": [
      "         Date Base Coffee_Rate\n",
      "0  2024-07-24                 \n",
      "1  2024-07-25                 \n"
     ]
    }
   ],
   "source": [
    "import http.client\n",
    "import json\n",
    "import pandas as pd\n",
    "\n",
    "import http.client\n",
    "\n",
    "dates = [\"2024-07-24\", \"2024-07-25\"] #\"2024-07-26\", \"2024-07-27\", \"2024-07-28\", \"2024-07-29\", \"2024-07-30\", \"2024-07-31\", \"2024-08-01\", \"2024-08-02\", \"2024-08-03\", \"2024-08-04\", \"2024-08-05\", \"2024-08-06\", \"2024-08-07\", \"2024-08-08\", \"2024-08-09\", \"2024-08-10\", \"2024-08-11\", \"2024-08-12\", \"2024-08-13\", \"2024-08-14\", \"2024-08-15\", \"2024-08-16\", \"2024-08-17\", \"2024-08-18\", \"2024-08-19\", \"2024-08-20\", \"2024-08-21\", \"2024-08-22\", \"2024-08-23\", \"2024-08-24\", \"2024-08-25\", \"2024-08-26\", \"2024-08-27\", \"2024-08-28\", \"2024-08-29\", \"2024-08-30\", \"2024-08-31\", \"2024-09-01\", \"2024-09-02\", \"2024-09-03\", \"2024-09-04\", \"2024-09-05\", \"2024-09-06\", \"2024-09-07\", \"2024-09-08\", \"2024-09-09\", \"2024-09-10\", \"2024-09-11\", \"2024-09-12\", \"2024-09-13\", \"2024-09-14\", \"2024-09-15\", \"2024-09-16\", \"2024-09-17\", \"2024-09-18\", \"2024-09-19\", \"2024-09-20\", \"2024-09-21\", \"2024-09-22\", \"2024-09-23\", \"2024-09-24\", \"2024-09-25\", \"2024-09-26\", \"2024-09-27\", \"2024-09-28\", \"2024-09-29\", \"2024-09-30\", \"2024-10-01\", \"2024-10-02\", \"2024-10-03\", \"2024-10-04\", \"2024-10-05\", \"2024-10-06\", \"2024-10-07\", \"2024-10-08\", \"2024-10-09\", \"2024-10-10\", \"2024-10-11\", \"2024-10-12\", \"2024-10-13\", \"2024-10-14\", \"2024-10-15\", \"2024-10-16\", \"2024-10-17\", \"2024-10-18\", \"2024-10-19\", \"2024-10-20\", \"2024-10-21\"]\n",
    "\n",
    "# Define a empty dataframe\n",
    "df_total = pd.DataFrame()\n",
    "\n",
    "for date_var in dates:\n",
    "    conn = http.client.HTTPSConnection(\"commodity-rates-api.p.rapidapi.com\")\n",
    "\n",
    "    headers = {\n",
    "        'x-rapidapi-key': \"927292a0f0mshdfc04695978314bp18b876jsnb88a41ae2206\",\n",
    "        'x-rapidapi-host': \"commodity-rates-api.p.rapidapi.com\"\n",
    "    }\n",
    "\n",
    "    conn.request(\"GET\", \"/\"+date_var+\"?base=EUR&symbols=COFFEE\", headers=headers)\n",
    "\n",
    "    res = conn.getresponse()\n",
    "    data = res.read()\n",
    "\n",
    "\n",
    "    decoded_data = data.decode(\"utf-8\")\n",
    "\n",
    "    # Parse the JSON data\n",
    "    json_data = json.loads(decoded_data)\n",
    "\n",
    "    # Create a temporary DataFrame with the parsed data\n",
    "    df_temp = pd.DataFrame({\n",
    "        'Date': [date_var],\n",
    "        'Base': [json_data.get('base', '')],  # Use get() with a default value\n",
    "        'Coffee_Rate': [json_data.get('rates', {}).get('COFFEE', '')]  # Use get() with a default value\n",
    "    })\n",
    "\n",
    "    # Concatenate the temporary DataFrame with the total DataFrame\n",
    "    df_total = pd.concat([df_total, df_temp], ignore_index=True)\n",
    "\n",
    "# Print the total DataFrame\n",
    "print(df_total)"
   ]
  }
 ],
 "metadata": {
  "kernelspec": {
   "display_name": "datascraping",
   "language": "python",
   "name": "python3"
  },
  "language_info": {
   "codemirror_mode": {
    "name": "ipython",
    "version": 3
   },
   "file_extension": ".py",
   "mimetype": "text/x-python",
   "name": "python",
   "nbconvert_exporter": "python",
   "pygments_lexer": "ipython3",
   "version": "3.9.20"
  }
 },
 "nbformat": 4,
 "nbformat_minor": 2
}

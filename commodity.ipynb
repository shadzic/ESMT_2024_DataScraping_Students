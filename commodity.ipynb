{
 "cells": [
  {
   "cell_type": "code",
   "execution_count": 47,
   "metadata": {},
   "outputs": [
    {
     "name": "stdout",
     "output_type": "stream",
     "text": [
      "Empty DataFrame\n",
      "Columns: []\n",
      "Index: []\n"
     ]
    }
   ],
   "source": [
    "import http.client\n",
    "import json\n",
    "import pandas as pd\n",
    "import time\n",
    "\n",
    "def fetch_commodity_data(dates, base=\"EUR\", symbols=\"COFFEE\"):\n",
    "    \"\"\"\n",
    "    Fetch commodity data for multiple dates and return as a DataFrame\n",
    "    \n",
    "    Returns:\n",
    "    pandas.DataFrame: Combined data for all dates\n",
    "    \"\"\"\n",
    "\n",
    "    all_data = []\n",
    "    \n",
    "    conn = http.client.HTTPSConnection(\"commodity-rates-api.p.rapidapi.com\")\n",
    "    headers = {\n",
    "        'x-rapidapi-key': \"ee6cdd8a4dmsh63a9d7133a022c3p182506jsn54b9ce17f4d9\",\n",
    "        'x-rapidapi-host': \"commodity-rates-api.p.rapidapi.com\"\n",
    "    }\n",
    "    \n",
    "    for date in dates:\n",
    "        try:\n",
    "            # Construct the endpoint\n",
    "            endpoint = f\"/open-high-low-close/{date}?base={base}&symbols={symbols}\"\n",
    "            conn.request(\"GET\", endpoint, headers=headers)\n",
    "            response = conn.getresponse()\n",
    "            data = response.read()\n",
    "            json_data = json.loads(data.decode('utf-8'))\n",
    "            \n",
    "            # Extract the relevant data\n",
    "            if json_data.get('success') and 'rates' in json_data:\n",
    "                row_data = {\n",
    "                    'date': json_data['date'],\n",
    "                    'timestamp': json_data['timestamp'],\n",
    "                    'base': json_data['base'],\n",
    "                    'symbol': json_data['symbol'],\n",
    "                    'unit': json_data['unit'],\n",
    "                    'open': json_data['rates']['open'],\n",
    "                    'high': json_data['rates']['high'],\n",
    "                    'low': json_data['rates']['low'],\n",
    "                    'close': json_data['rates']['close']\n",
    "                }\n",
    "                all_data.append(row_data)\n",
    "            \n",
    "            # Add a small delay to avoid hitting rate limits\n",
    "            time.sleep(1)\n",
    "            \n",
    "        except Exception as e:\n",
    "            print(f\"Error fetching data for date {date}: {str(e)}\")\n",
    "            continue\n",
    "    \n",
    "    conn.close()\n",
    "    \n",
    "    \n",
    "    if all_data:\n",
    "        df = pd.DataFrame(all_data)\n",
    "        df['date'] = pd.to_datetime(df['date'])\n",
    "        df = df.sort_values('date')\n",
    "        \n",
    "        cols = ['date', 'timestamp', 'base', 'symbol', 'unit', 'open', 'high', 'low', 'close']\n",
    "        df = df[cols]\n",
    "        \n",
    "        return df\n",
    "    else:\n",
    "        return pd.DataFrame()\n",
    "\n",
    "\n",
    "\n",
    "\n",
    "\n",
    "dates = [\"2024-07-24\", \"2024-07-25\", \"2024-07-26\", \"2024-07-27\", \"2024-07-28\", \"2024-07-29\", \"2024-07-30\", \"2024-07-31\", \"2024-08-01\", \"2024-08-02\", \"2024-08-03\", \"2024-08-04\", \"2024-08-05\", \"2024-08-06\", \"2024-08-07\", \"2024-08-08\", \"2024-08-09\", \"2024-08-10\", \"2024-08-11\", \"2024-08-12\", \"2024-08-13\", \"2024-08-14\", \"2024-08-15\", \"2024-08-16\", \"2024-08-17\", \"2024-08-18\", \"2024-08-19\", \"2024-08-20\", \"2024-08-21\", \"2024-08-22\", \"2024-08-23\", \"2024-08-24\", \"2024-08-25\", \"2024-08-26\", \"2024-08-27\", \"2024-08-28\", \"2024-08-29\", \"2024-08-30\", \"2024-08-31\", \"2024-09-01\", \"2024-09-02\", \"2024-09-03\", \"2024-09-04\", \"2024-09-05\", \"2024-09-06\", \"2024-09-07\", \"2024-09-08\", \"2024-09-09\", \"2024-09-10\", \"2024-09-11\", \"2024-09-12\", \"2024-09-13\", \"2024-09-14\", \"2024-09-15\", \"2024-09-16\", \"2024-09-17\", \"2024-09-18\", \"2024-09-19\", \"2024-09-20\", \"2024-09-21\", \"2024-09-22\", \"2024-09-23\", \"2024-09-24\", \"2024-09-25\", \"2024-09-26\", \"2024-09-27\", \"2024-09-28\", \"2024-09-29\", \"2024-09-30\", \"2024-10-01\", \"2024-10-02\", \"2024-10-03\", \"2024-10-04\", \"2024-10-05\", \"2024-10-06\", \"2024-10-07\", \"2024-10-08\", \"2024-10-09\", \"2024-10-10\", \"2024-10-11\", \"2024-10-12\", \"2024-10-13\", \"2024-10-14\", \"2024-10-15\", \"2024-10-16\", \"2024-10-17\", \"2024-10-18\", \"2024-10-19\", \"2024-10-20\", \"2024-10-21\"]\n",
    "\n",
    "df = fetch_commodity_data(dates)\n",
    "\n",
    "print(df.head())"
   ]
  },
  {
   "cell_type": "code",
   "execution_count": 48,
   "metadata": {},
   "outputs": [
    {
     "data": {
      "text/html": [
       "<div>\n",
       "<style scoped>\n",
       "    .dataframe tbody tr th:only-of-type {\n",
       "        vertical-align: middle;\n",
       "    }\n",
       "\n",
       "    .dataframe tbody tr th {\n",
       "        vertical-align: top;\n",
       "    }\n",
       "\n",
       "    .dataframe thead th {\n",
       "        text-align: right;\n",
       "    }\n",
       "</style>\n",
       "<table border=\"1\" class=\"dataframe\">\n",
       "  <thead>\n",
       "    <tr style=\"text-align: right;\">\n",
       "      <th></th>\n",
       "    </tr>\n",
       "  </thead>\n",
       "  <tbody>\n",
       "  </tbody>\n",
       "</table>\n",
       "</div>"
      ],
      "text/plain": [
       "Empty DataFrame\n",
       "Columns: []\n",
       "Index: []"
      ]
     },
     "execution_count": 48,
     "metadata": {},
     "output_type": "execute_result"
    }
   ],
   "source": [
    "df"
   ]
  },
  {
   "cell_type": "code",
   "execution_count": 49,
   "metadata": {},
   "outputs": [],
   "source": [
    "df.to_csv(\"./df_commodity_coffee_priceEUR.csv\", index=False)"
   ]
  },
  {
   "cell_type": "markdown",
   "metadata": {},
   "source": []
  }
 ],
 "metadata": {
  "kernelspec": {
   "display_name": "datascraping",
   "language": "python",
   "name": "python3"
  },
  "language_info": {
   "codemirror_mode": {
    "name": "ipython",
    "version": 3
   },
   "file_extension": ".py",
   "mimetype": "text/x-python",
   "name": "python",
   "nbconvert_exporter": "python",
   "pygments_lexer": "ipython3",
   "version": "3.9.20"
  }
 },
 "nbformat": 4,
 "nbformat_minor": 2
}

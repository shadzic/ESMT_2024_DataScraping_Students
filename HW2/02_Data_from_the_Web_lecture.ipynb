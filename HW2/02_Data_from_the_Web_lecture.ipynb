{
 "cells": [
  {
   "cell_type": "markdown",
   "id": "65096cc5",
   "metadata": {},
   "source": [
    "# Working with Data from the Web"
   ]
  },
  {
   "cell_type": "markdown",
   "id": "71396e4f-a70c-4e1f-ac89-945d008d486f",
   "metadata": {},
   "source": [
    "## Grading instructions\n",
    "\n",
    "1. Launch VS Code and open your working-folder\n",
    "2. Create a `Session_02` folder, in which you create another folder called `data`\n",
    "3. Copy paste this notebook `02_Data_from_the_Web_lecture` from the lectures repo to the working-folder. \n",
    "4. Copy the json file `animals.json` and the zip file `arbeitsmarktstatistik_erwerbslosenquoten_geschlecht.zip` into the `working-folder/Session_02/data` directory.\n",
    "\n",
    "#### There are two `Self-work exercises` in this notebook\n",
    "1. During the course, do the self-work exercises\n",
    "2. Once finished, copy-Paste this notebook `02_Data_from_the_Web_lecture` into `ESMT_2024_DataScraping_Students` folder in your computer\n",
    "3. Commit and push your self-work in your branch before the deadline. **Push only the notebook, not the files!**\n",
    "\n",
    "#### Number of points: 10 (weights 10% in the final grade)\n",
    "- `Self-work exercises #1`: 4 points\n",
    "- `Self-work exercises #2`: 6 points\n",
    "\n",
    "\n",
    "\n",
    "#### Deadline: October 18th 08:59 am CET\n",
    "#### Any missed deadline without justification to the Administration will result in 0 points for this homework.\n",
    "#### If the Github branch is not correctly named using the indicated format **LASTNAME_firstname**, then a penalty of -2 points will be applied"
   ]
  },
  {
   "cell_type": "markdown",
   "id": "8344deb5-6e30-464e-8dfa-a9abe593dba2",
   "metadata": {},
   "source": [
    "## Course content\n",
    "\n",
    "* Introduction to APIs\n",
    "* Using request package to download files\n",
    "* Loading files and tables from URLs (wikipedia)\n",
    "* Working with zip files in Python\n",
    "* Introduction to JSON (read_json, json_normalise)"
   ]
  },
  {
   "cell_type": "markdown",
   "id": "05b40e70",
   "metadata": {},
   "source": [
    "# Introduction to API\n",
    "\n",
    "An API, short for Application Programming Interface, is a concept used to describe – essentially – a piece of intermediary software (the interface) that facilitates communication between 2 other pieces of software (the applications). \n",
    "\n",
    "This very broad term is frequently used for web-based systems, database systems, operating systems, or even computer hardware. \n",
    "\n",
    "In this chapter we will focus on web-based APIs."
   ]
  },
  {
   "cell_type": "markdown",
   "id": "71e04021",
   "metadata": {},
   "source": [
    "### What is a Web API?\n",
    "\n",
    "A Web API typically means some kind of special website or URL that we use as a channel to get data from some company or web based program. \n",
    "\n",
    "We can write a Python program to retrieve data from the API. Put very bluntly, an API is a website providing data that is easy for a machine (e.g. python code) to understand (as opposed to a prettier, HTML-rendered, user interface for humans)."
   ]
  },
  {
   "cell_type": "markdown",
   "id": "64435555",
   "metadata": {},
   "source": [
    "**Intro to API (duration: 3'24):**\n",
    "https://www.youtube.com/watch?v=s7wmiS2mSXY"
   ]
  },
  {
   "cell_type": "markdown",
   "id": "0fde923d",
   "metadata": {},
   "source": [
    "### Examples of Web APIs\n",
    "* Google Maps: get map coordinates for an address\n",
    "* Spotify: read and modify a playlist\n",
    "* GitHub: read statistics on your code repo\n",
    "* WeatherAPI: get weather data for specific location\n",
    "* Google Translate: translate texts directly from a Python script\n",
    "\n",
    "<br>"
   ]
  },
  {
   "cell_type": "markdown",
   "id": "afa1c8da",
   "metadata": {},
   "source": [
    "# Python Requests Library\n",
    "\n",
    "The Python requests library is a popular third-party library that simplifies the process of making HTTP requests and working with HTTP responses. \n",
    "\n",
    "It provides a high-level interface for sending HTTP requests to web servers and receiving their responses. \n",
    "\n",
    "This library is widely used for tasks like fetching data from APIs, sending data to servers, and interacting with web resources."
   ]
  },
  {
   "cell_type": "markdown",
   "id": "9fa216a0",
   "metadata": {},
   "source": [
    "    Installation: You can install the requests library using pip, a package installer for Python:"
   ]
  },
  {
   "cell_type": "code",
   "execution_count": 52,
   "id": "fc56cd82",
   "metadata": {},
   "outputs": [
    {
     "name": "stdout",
     "output_type": "stream",
     "text": [
      "Requirement already satisfied: requests==2.32.3 in d:\\conda\\lib\\site-packages (2.32.3)\n",
      "Requirement already satisfied: charset-normalizer<4,>=2 in d:\\conda\\lib\\site-packages (from requests==2.32.3) (2.0.4)\n",
      "Requirement already satisfied: idna<4,>=2.5 in d:\\conda\\lib\\site-packages (from requests==2.32.3) (3.7)\n",
      "Requirement already satisfied: urllib3<3,>=1.21.1 in d:\\conda\\lib\\site-packages (from requests==2.32.3) (2.2.2)\n",
      "Requirement already satisfied: certifi>=2017.4.17 in d:\\conda\\lib\\site-packages (from requests==2.32.3) (2024.8.30)\n"
     ]
    }
   ],
   "source": [
    "!pip install requests==2.32.3"
   ]
  },
  {
   "cell_type": "markdown",
   "id": "53a668a4",
   "metadata": {},
   "source": [
    "    Importing: After installation, you need to import the library in your Python code before you can use it:"
   ]
  },
  {
   "cell_type": "code",
   "execution_count": 54,
   "id": "ee6ca8f4",
   "metadata": {},
   "outputs": [],
   "source": [
    "import requests"
   ]
  },
  {
   "cell_type": "markdown",
   "id": "b1b0f097",
   "metadata": {},
   "source": [
    "    HTTP Methods: The library supports various HTTP methods, such as GET, POST, PUT, DELETE, etc. These correspond to create, read, update, and delete (or CRUD) operations, respectively. You can choose the appropriate method for your request. \n",
    "\n",
    "To make a GET request:"
   ]
  },
  {
   "cell_type": "code",
   "execution_count": 56,
   "id": "ce5249be",
   "metadata": {},
   "outputs": [],
   "source": [
    "response = requests.get(\"https://randomuser.me/api/\")"
   ]
  },
  {
   "cell_type": "markdown",
   "id": "5e40d769",
   "metadata": {},
   "source": [
    "## API status code"
   ]
  },
  {
   "cell_type": "code",
   "execution_count": 58,
   "id": "05753289",
   "metadata": {},
   "outputs": [
    {
     "name": "stdout",
     "output_type": "stream",
     "text": [
      "200\n"
     ]
    }
   ],
   "source": [
    "print(response.status_code)"
   ]
  },
  {
   "cell_type": "markdown",
   "id": "f3bbd1cb",
   "metadata": {},
   "source": [
    "    API Status code:\n",
    "\n",
    "Status codes are returned with every request that is made to a web server. Status codes indicate information about what happened with a request. Here are some codes that are relevant to GET requests:\n",
    "\n",
    "    200: Everything went okay, and the result has been returned (if any).\n",
    "    301: The server is redirecting you to a different endpoint. This can happen when a company switches domain names, or an endpoint name is changed.\n",
    "    400: The server thinks you made a bad request. This can happen when you don’t send along the right data, among other things.\n",
    "    401: The server thinks you’re not authenticated. Many APIs require login credentials, so this happens when you don’t send the right credentials to access an API.\n",
    "    403: The resource you’re trying to access is forbidden: you don’t have the right permissions to see it.\n",
    "    404: The resource you tried to access wasn’t found on the server.\n",
    "    503: The server is not ready to handle the request."
   ]
  },
  {
   "cell_type": "markdown",
   "id": "9295e1d4-5607-43d6-97ee-bee5b8d3db60",
   "metadata": {},
   "source": [
    "For more information about the various HTTP status codes [click here](https://en.wikipedia.org/wiki/List_of_HTTP_status_codes)"
   ]
  },
  {
   "cell_type": "markdown",
   "id": "ffd88355",
   "metadata": {},
   "source": [
    "## Response Object"
   ]
  },
  {
   "cell_type": "markdown",
   "id": "bd95aa99",
   "metadata": {},
   "source": [
    "\n",
    "    Response Object: When you send a request using the requests library, you receive a response object that contains information about the server’s response:\n",
    "\n",
    "   * response.status_code: HTTP status code of the response (200 is a code meaning a successful operation)\n",
    "* response.content: Raw content of the response\n",
    "* response.text: Content of the response in text format\n",
    "* response.json(): Parses the response content as JSON if applicable\n",
    "* response.headers: Headers received from the server (additional information passed through both request and response. It could be for example List of acceptable encodings. It is usually hidden to end-user)\n",
    "* response.url: The URL that was accessed\n"
   ]
  },
  {
   "cell_type": "code",
   "execution_count": 63,
   "id": "8d975782",
   "metadata": {},
   "outputs": [
    {
     "data": {
      "text/plain": [
       "{'results': [{'gender': 'female',\n",
       "   'name': {'title': 'Ms', 'first': 'Freja', 'last': 'Thomsen'},\n",
       "   'location': {'street': {'number': 7985, 'name': 'Tingvej'},\n",
       "    'city': 'Randers Nv',\n",
       "    'state': 'Nordjylland',\n",
       "    'country': 'Denmark',\n",
       "    'postcode': 16465,\n",
       "    'coordinates': {'latitude': '-44.2638', 'longitude': '138.4669'},\n",
       "    'timezone': {'offset': '-2:00', 'description': 'Mid-Atlantic'}},\n",
       "   'email': 'freja.thomsen@example.com',\n",
       "   'login': {'uuid': '5ff6cd98-1a6d-4ffa-938f-594ea57a0560',\n",
       "    'username': 'yellowgoose638',\n",
       "    'password': 'leeann',\n",
       "    'salt': 'PxY79Pto',\n",
       "    'md5': 'fdc923374e4f95c7046ae2ccf06e4b8b',\n",
       "    'sha1': '6757a3ea7861dea3f76bff01a41bbe33cc45c4bc',\n",
       "    'sha256': '6660b3f5aa7200902568b0e00ff73d05cfb08b4dad31403da609a974ec78a192'},\n",
       "   'dob': {'date': '1960-03-30T03:37:29.401Z', 'age': 64},\n",
       "   'registered': {'date': '2020-09-18T22:03:17.614Z', 'age': 4},\n",
       "   'phone': '34603309',\n",
       "   'cell': '07322987',\n",
       "   'id': {'name': 'CPR', 'value': '290360-7295'},\n",
       "   'picture': {'large': 'https://randomuser.me/api/portraits/women/61.jpg',\n",
       "    'medium': 'https://randomuser.me/api/portraits/med/women/61.jpg',\n",
       "    'thumbnail': 'https://randomuser.me/api/portraits/thumb/women/61.jpg'},\n",
       "   'nat': 'DK'}],\n",
       " 'info': {'seed': 'e2cefdcb64ad4f24',\n",
       "  'results': 1,\n",
       "  'page': 1,\n",
       "  'version': '1.4'}}"
      ]
     },
     "execution_count": 63,
     "metadata": {},
     "output_type": "execute_result"
    }
   ],
   "source": [
    "response.json()"
   ]
  },
  {
   "cell_type": "markdown",
   "id": "866a1889",
   "metadata": {},
   "source": [
    "## Query String Parameters\n",
    "\n",
    "One common way to customize a GET request is to pass values through query string parameters in the URL. \n",
    "\n",
    "To do this using get(), you pass data to params."
   ]
  },
  {
   "cell_type": "markdown",
   "id": "03bda1f8",
   "metadata": {},
   "source": [
    "### Weather API:\n",
    "1. Sign up to RapidAPI: https://rapidapi.com/signup\n",
    "2. Select the free plan: https://rapidapi.com/meteostat/api/meteostat/pricing \n",
    "\n",
    "It allows you to 500 requests per months, with 3 requests per second maximum.\n",
    "\n",
    "3. Go to this page and click on `Get Daily Station Data` on the left pane: https://rapidapi.com/meteostat/api/meteostat\n",
    "\n",
    "4. On the right part `Code snippets` should appear the `x-rapidapi-key`: copy paste it below\n",
    "\n",
    "5. Complete the information below to get the weather of Berlin today"
   ]
  },
  {
   "cell_type": "markdown",
   "id": "00c545a2",
   "metadata": {},
   "source": [
    "### Important note: do not push this notebook to Github! It contains your API Key, which you don't want to reveal. If you were to push this content to github, delete your API key before!\n"
   ]
  },
  {
   "cell_type": "code",
   "execution_count": 242,
   "id": "2411f5f4-24ab-462d-8b07-780b2ad31d3a",
   "metadata": {},
   "outputs": [],
   "source": [
    "# Use double quotes to assign your API key to private_api_key variable as a string\n",
    "private_api_key = \"\""
   ]
  },
  {
   "cell_type": "code",
   "execution_count": 252,
   "id": "34d5b30c",
   "metadata": {},
   "outputs": [],
   "source": [
    "# Define your parameters as a dictionary\n",
    "params = {\n",
    "    \"lat\": 52.5200,  # Find Berlin's latitude and add it here\n",
    "    \"lon\": 13.4050,  # Find Berlin's longitude and add it here\n",
    "    \"start\": \"2024-10-08\",  # Replace with today's date\n",
    "    \"end\": \"2024-10-08\"  # Replace with today's date\n",
    "}\n",
    "\n",
    "response = requests.get(\"https://meteostat.p.rapidapi.com/point/daily\",\n",
    "                       params=params,\n",
    "                       headers={\n",
    "                           \"X-RapidAPI-Host\": \"meteostat.p.rapidapi.com\",\n",
    "                           \"X-RapidAPI-Key\": private_api_key # Add the private_api_key variable \n",
    "                       })\n",
    "\n",
    "# Do not push your API key to Github!"
   ]
  },
  {
   "cell_type": "code",
   "execution_count": 254,
   "id": "5880f166",
   "metadata": {},
   "outputs": [
    {
     "name": "stdout",
     "output_type": "stream",
     "text": [
      "{'meta': {'generated': '2024-10-08 07:40:06', 'stations': ['10389', '10384', '10382', 'ETNB0']}, 'data': [{'date': '2024-10-08', 'tavg': 15.5, 'tmin': 12.2, 'tmax': 20.0, 'prcp': 2.2, 'snow': None, 'wdir': 153.0, 'wspd': 11.7, 'wpgt': 25.9, 'pres': 1002.5, 'tsun': None}]}\n"
     ]
    }
   ],
   "source": [
    "print(response.json())"
   ]
  },
  {
   "cell_type": "markdown",
   "id": "4dd174ca",
   "metadata": {},
   "source": [
    "<br>\n",
    "<br>\n",
    "<br>\n",
    "<br><br><br><br><br><br>"
   ]
  },
  {
   "cell_type": "markdown",
   "id": "7c05a62f",
   "metadata": {},
   "source": [
    "# Data from Wikipedia"
   ]
  },
  {
   "cell_type": "markdown",
   "id": "9873e241",
   "metadata": {},
   "source": [
    "## Installation"
   ]
  },
  {
   "cell_type": "markdown",
   "id": "c6bb1353",
   "metadata": {},
   "source": [
    "First, install and import the package\n",
    "\n",
    "*Note: all information about the packages and their versions can be found on [Pypi](https://pypi.org/), for example the [wikipedia package](https://pypi.org/project/wikipedia/)*"
   ]
  },
  {
   "cell_type": "code",
   "execution_count": 256,
   "id": "5073812e",
   "metadata": {},
   "outputs": [
    {
     "name": "stdout",
     "output_type": "stream",
     "text": [
      "Requirement already satisfied: wikipedia==1.4.0 in d:\\conda\\lib\\site-packages (1.4.0)\n",
      "Requirement already satisfied: beautifulsoup4 in d:\\conda\\lib\\site-packages (from wikipedia==1.4.0) (4.12.3)\n",
      "Requirement already satisfied: requests<3.0.0,>=2.0.0 in d:\\conda\\lib\\site-packages (from wikipedia==1.4.0) (2.32.3)\n",
      "Requirement already satisfied: charset-normalizer<4,>=2 in d:\\conda\\lib\\site-packages (from requests<3.0.0,>=2.0.0->wikipedia==1.4.0) (2.0.4)\n",
      "Requirement already satisfied: idna<4,>=2.5 in d:\\conda\\lib\\site-packages (from requests<3.0.0,>=2.0.0->wikipedia==1.4.0) (3.7)\n",
      "Requirement already satisfied: urllib3<3,>=1.21.1 in d:\\conda\\lib\\site-packages (from requests<3.0.0,>=2.0.0->wikipedia==1.4.0) (2.2.2)\n",
      "Requirement already satisfied: certifi>=2017.4.17 in d:\\conda\\lib\\site-packages (from requests<3.0.0,>=2.0.0->wikipedia==1.4.0) (2024.8.30)\n",
      "Requirement already satisfied: soupsieve>1.2 in d:\\conda\\lib\\site-packages (from beautifulsoup4->wikipedia==1.4.0) (2.5)\n"
     ]
    }
   ],
   "source": [
    "!pip install wikipedia==1.4.0"
   ]
  },
  {
   "cell_type": "code",
   "execution_count": 257,
   "id": "07e1b7a6",
   "metadata": {},
   "outputs": [],
   "source": [
    "# Import the package\n",
    "import wikipedia"
   ]
  },
  {
   "cell_type": "markdown",
   "id": "9886296c",
   "metadata": {},
   "source": [
    "## First commands\n",
    "* wikipedia.summary(<>): provides a summary of the page\n",
    "* wikipedia.page(<>).content: provides the content\n",
    "* wikipedia.page(<>).url: provides the URL of the page\n",
    "* wikipedia.set_lang(<>): changes the request language\n",
    "\n",
    "### Try the following commands:"
   ]
  },
  {
   "cell_type": "code",
   "execution_count": 258,
   "id": "de601b62",
   "metadata": {},
   "outputs": [
    {
     "data": {
      "text/plain": [
       "'Volleyball () ist eine olympische Mannschaftssportart aus der Gruppe der Rückschlagspiele. Zwei Mannschaften mit jeweils sechs Spielern stehen sich dabei auf einem Spielfeld gegenüber, das durch ein Netz geteilt ist. Ziel des Spiels ist es, einen Ball so über das Netz zu schlagen, dass der Ball den Boden der gegnerischen Spielfeldhälfte berührt oder die gegnerische Mannschaft einen Fehler begeht. Eine Mannschaft darf den Ball dreimal in Folge berühren, um ihn zurückzuspielen. Ein etwaiger Block zählt dabei nicht mit. Der Ball wird volley gespielt (daher kommt der Name der Sportart) und darf mit jedem Körperteil berührt werden, jedoch werden in der Praxis fast ausschließlich die Hände oder Arme verwendet.\\nVolleyball entstand Ende des 19. Jahrhunderts in den Vereinigten Staaten. Die Sportart wird mittlerweile weltweit betrieben. Der Weltverband FIVB umfasst 222 nationale Verbände und somit mehr Mitglieder als die FIFA oder die Vereinten Nationen. Seit Mitte des 20. Jahrhunderts werden Weltmeisterschaften und olympische Turniere ausgetragen. Weitere hochklassige Wettbewerbe sind die jährlich ausgetragene Volleyball Nations League und der Volleyball World Cup. Hinzu kommen die kontinentalen Turniere (beispielsweise die Europameisterschaft), die Europapokal-Wettbewerbe für Vereinsmannschaften sowie nationale Meisterschaften und Pokalwettbewerbe.\\nIn den frühen Jahrzehnten (Mitte des 20. Jahrhunderts) dominierten in Wettbewerben vor allem die National- und Vereinsmannschaften der Sowjetunion, Nationalteams der Tschechoslowakei (Männer) und Japan (Frauen) und Vereinsmannschaften aus Rumänien. Ende des 20. Jahrhunderts kamen die Vereinigten Staaten, Brasilien und Italien als führende Nationen hinzu. Bei den Männern ist außerdem Polen erfolgreich und bei den Frauen haben China und Kuba mehrere Titel gewonnen.\\nTrotz der weltweiten Verbreitung wird Volleyball in einzelnen Ländern unterschiedlich wahrgenommen. Während es im deutschsprachigen Raum eher eine Randsportart ist, werden die Spiele in Polen intensiv in den Medien übertragen. Es gibt mehrere Sportarten und Varianten, die sich aus dem Volleyball entwickelt haben. Die bekannteste Variante ist das ebenfalls olympische Beachvolleyball.'"
      ]
     },
     "execution_count": 258,
     "metadata": {},
     "output_type": "execute_result"
    }
   ],
   "source": [
    "wikipedia.summary(\"FIVB Volleyball Women World Cup\")"
   ]
  },
  {
   "cell_type": "code",
   "execution_count": 259,
   "id": "c805dd79",
   "metadata": {},
   "outputs": [
    {
     "data": {
      "text/plain": [
       "'Volleyball () ist eine olympische Mannschaftssportart aus der Gruppe der Rückschlagspiele. Zwei Mannschaften mit jeweils sechs Spielern stehen sich dabei auf einem Spielfeld gegenüber, das durch ein Netz geteilt ist. Ziel des Spiels ist es, einen Ball so über das Netz zu schlagen, dass der Ball den Boden der gegnerischen Spielfeldhälfte berührt oder die gegnerische Mannschaft einen Fehler begeht. Eine Mannschaft darf den Ball dreimal in Folge berühren, um ihn zurückzuspielen. Ein etwaiger Block zählt dabei nicht mit. Der Ball wird volley gespielt (daher kommt der Name der Sportart) und darf mit jedem Körperteil berührt werden, jedoch werden in der Praxis fast ausschließlich die Hände oder Arme verwendet.\\nVolleyball entstand Ende des 19. Jahrhunderts in den Vereinigten Staaten. Die Sportart wird mittlerweile weltweit betrieben. Der Weltverband FIVB umfasst 222 nationale Verbände und somit mehr Mitglieder als die FIFA oder die Vereinten Nationen. Seit Mitte des 20. Jahrhunderts werden Weltmeisterschaften und olympische Turniere ausgetragen. Weitere hochklassige Wettbewerbe sind die jährlich ausgetragene Volleyball Nations League und der Volleyball World Cup. Hinzu kommen die kontinentalen Turniere (beispielsweise die Europameisterschaft), die Europapokal-Wettbewerbe für Vereinsmannschaften sowie nationale Meisterschaften und Pokalwettbewerbe.\\nIn den frühen Jahrzehnten (Mitte des 20. Jahrhunderts) dominierten in Wettbewerben vor allem die National- und Vereinsmannschaften der Sowjetunion, Nationalteams der Tschechoslowakei (Männer) und Japan (Frauen) und Vereinsmannschaften aus Rumänien. Ende des 20. Jahrhunderts kamen die Vereinigten Staaten, Brasilien und Italien als führende Nationen hinzu. Bei den Männern ist außerdem Polen erfolgreich und bei den Frauen haben China und Kuba mehrere Titel gewonnen.\\nTrotz der weltweiten Verbreitung wird Volleyball in einzelnen Ländern unterschiedlich wahrgenommen. Während es im deutschsprachigen Raum eher eine Randsportart ist, werden die Spiele in Polen intensiv in den Medien übertragen. Es gibt mehrere Sportarten und Varianten, die sich aus dem Volleyball entwickelt haben. Die bekannteste Variante ist das ebenfalls olympische Beachvolleyball.\\n\\n\\n== Regeln ==\\nDie internationalen Volleyballregeln werden vom Weltverband FIVB festgelegt. Die aktuelle Version des Regelwerks wurde beim 37. FIVB-Kongress 2021 festgelegt und gilt seit 2021.\\n\\n\\n=== Spielfeld ===\\n\\nDas Spielfeld ist 18 Meter lang und 9 Meter breit. Durch die Mittellinie und das Netz wird es in zwei Hälften geteilt, sodass jede Mannschaft auf einer Feldhälfte in der Größe von 9-mal 9 Meter spielt. Drei Meter vom Netz entfernt befindet sich eine weitere Linie, die die Angriffszone abgrenzt. Links und rechts gibt es die Seitenlinien und am hinteren Ende die Grundlinie. Alle Linien eines Volleyballfeldes sind jeweils 5 Zentimeter breit und gehören zum Spielfeld.\\nDas Netz hängt über der Mittellinie. Die obere Kante befindet sich bei Männern 2,43 Meter, bei Frauen 2,24 Meter und im Mixed 2,35 Meter über dem Boden. Das Netz muss straff gespannt sein. Es ist selbst einen Meter hoch und 9,5 bis 10 Meter breit, sodass es auf jeder Seite 25 bis 50 Zentimeter über die Seitenlinien des Feldes hinausragt. Die quadratischen Maschen des Netzes haben eine Seitenlänge von 10 Zentimeter, seine Ränder sind mit Bändern eingefasst. An den Enden ist es an Pfosten befestigt, die 0,5 bis 1 m außerhalb des Feldes stehen. Über den Seitenlinien sind an beiden Seiten des Netzes Antennen angebracht. Diese 80 Zentimeter über die Netzoberkante hinausragenden, flexiblen Stäbe begrenzen den Bereich, innerhalb dessen der Ball über das Netz gespielt werden muss.\\nDas Spielfeld ist an allen Seiten von einer mindestens drei Meter breiten Freizone umgeben, in der der Ball ebenfalls gespielt werden darf. Oberhalb des Spielfelds und der Freizone muss mindestens sieben Meter (bei internationalen Wettbewerb mindestens 12,5 Meter) Platz sein, der frei von Hindernissen ist. Hinter der gesamten Länge der Grundlinie befindet sich die Aufschlagzone, in der der Aufschlag ausgeführt wird.\\nAn beiden Enden des Netzes stehen die Schiedsrichter. Hinter dem zweiten Schiedsrichter befindet sich der Tisch der Schreiber (weitere Informationen zu diesen Personen im Abschnitt „Schiedsgericht“). Neben dem Schreibertisch stehen die Bänke, auf denen die Trainer und andere Teammitglieder sitzen. Ersatzspieler können sich in einem 3-mal 3 Meter großen Bereich in den Ecken außerhalb der Freizone oder hinter den Mannschaftsbänken aufhalten.\\nIm wettbewerbsmäßigen Spielbetrieb werden von den Volleyballverbänden in den unterklassigeren Ligen aufgrund der begrenzten Möglichkeiten vieler kleinerer Vereine geringere Anforderungen an die räumlichen Abmessungen gestellt.\\n\\n\\n=== Ball ===\\n\\nDer Volleyball besteht aus Leder oder Kunststoff mit einer luftgefüllten Gummiblase im Inneren. Mit einem Umfang von 65 bis 67 Zentimeter und einem Gewicht von 260 bis 280 Gramm ist er kleiner und leichter als ein Basketball oder ein Fußball. Er ist entweder einfarbig hell oder hat ein Muster aus verschiedenen Farben. Der Innendruck (Überdruck) muss zwischen 294,3 und 318,82 Millibar betragen.\\nDie Marke der Spielbälle wird von den nationalen Volleyballverbänden für ihren Zuständigkeitsbereich festgelegt. Im internationalen Bereich gibt es mehrere zugelassene Spielbälle, die sich in Kleinigkeiten bezüglich Farbe und Materialbeschaffenheit unterscheiden. Die allgemeinen Grundsätze bezüglich Umfang und Gewicht sind bei allen Bällen gleich.\\n\\n\\n=== Mannschaft ===\\n\\nDer Kader einer Volleyballmannschaft besteht meistens aus zwölf Spielern, manchmal auch mehr. Auf dem Spielberichtsbogen ist pro Mannschaft Platz für die Eintragung von vierzehn Spielern. Jeweils sechs Spieler stehen gleichzeitig auf dem Feld. Die sechs Spieler der Startaufstellung bezeichnet man auch als Starting Six. Die Spieler einer Mannschaft tragen die gleichen Trikots. Eine Ausnahme bildet dabei der Libero, für den einige Sonderregeln gelten (siehe unten). Ein Spieler wird zum Kapitän der Mannschaft ernannt. Nach einer Regeländerung darf ab Anfang 2022 auch der Libero dieses Amt übernehmen. Der Kapitän führt nicht nur seine Mitspieler, sondern ist auch für die Kommunikation mit dem Schiedsgericht und Formalitäten wie das Unterschreiben des Spielberichts zuständig. Der Trainer ist neben der Betreuung seiner Mannschaft unter anderem für die Aufstellung, Auswechslungen und Auszeiten verantwortlich. In seiner Arbeit wird er häufig von einem Co-Trainer unterstützt. Weitere Offizielle, die während des Spiels auf der Bank sitzen können, sind der Mannschaftsarzt und der Physiotherapeut.\\n\\n\\n=== Rotation ===\\nDie Startaufstellung der Mannschaft bestimmt die Rotationsfolge der Spieler auf dem Feld (siehe Grafik), die für die Dauer des jeweiligen Satzes gilt. Die Positionen werden von hinten rechts gegen den Uhrzeigersinn von 1 bis 6 nummeriert. Die Spieler auf den Positionen 2, 3 und 4 gelten als Vorderspieler, die anderen drei als Hinterspieler. Bekommt eine Mannschaft das Aufschlagsrecht, so rotieren ihre Spieler um eine Position im Uhrzeigersinn. Dadurch rückt beispielsweise der Spieler, der zuvor auf Position 2 am Netz stand, nun auf Position 1 und wird damit zum Aufschläger für sein Team. Diese Positionen behält die Mannschaft so lange bei, bis sie das verlorene Aufschlagrecht zurückgewinnt. Ein Teil des Körpers auf dem Boden eines Vorderspielers (i. d. R. die Füße) muss am Anfang eines Ballwechsels immer mindestens auf gleicher Höhe oder näher an der Mittellinie sein wie ein Teil des Körpers des entsprechenden Hinterspielers. Auch nebeneinander stehende Spieler müssen in der richtigen Reihenfolge angeordnet sein. Sobald der Ball im Spiel ist, können sie sich frei auf dem Spielfeld bewegen und sich gemäß der taktischen Ausrichtung anordnen.\\n\\n\\n=== Spielzug ===\\nNachdem der Ball mit dem Aufschlag ins Spiel gebracht worden ist, sind für jede Mannschaft bis zu drei Ballkontakte erlaubt, bevor der Ball das Netz überqueren muss. Bei einem typischen Ballwechsel werden die drei Ballkontakte für drei Bestandteile eines Spielzugs genutzt. Der erste Kontakt ist die Annahme oder die Abwehr, mit der der Ball in der Defensive kontrolliert wird. Durch das Zuspiel (zweiter Kontakt) gelangt der Ball in die Nähe des Netzes. Der dritte Kontakt ist üblicherweise der Angriffsschlag über das Netz. Die andere Mannschaft kann nun versuchen, den Angriff durch einen Block direkt am Netz abzuwehren. Gelangt der Ball danach in die Hälfte der abwehrenden Mannschaft, wird weitergespielt. Der Blockkontakt wird bei den drei Ballkontakten, die pro Spielzug erlaubt sind, nicht mitgezählt. Wenn kein Block eingesetzt wird oder kein direkter Blockpunkt gelingt, baut die Mannschaft mit ihren drei Ballkontakten einen neuen Angriff auf.\\n\\n\\n=== Fehler ===\\nEine Mannschaft erzielt einen Punkt, wenn sie den Ball auf den Boden der gegnerischen Spielfeldhälfte schlägt oder dem Gegner ein Fehler unterläuft. Folgende Fehler sind möglich:\\n\\nBall aus: Der Ball fällt zu Boden, ohne das gegnerische Feld zu treffen. Die Linie gehört dabei zum Feld.\\nVier Kontakte: Eine Mannschaft berührt den Ball mehr als dreimal nacheinander. Eine Berührung im Block wird dabei nicht mitgezählt. Das gilt auch für eine mehrfache Blockberührung durch einen oder mehrere Spieler. Die nächste Berührung nach einem Block darf auch durch einen Spieler erfolgen, der im Rahmen der Blockaktion unmittelbar zuvor den Ball berührt hat. Außer beim Aufschlag darf der Ball mit dem gesamten Körper berührt werden.\\nDoppelberührung: Ein Spieler berührt den Ball zweimal direkt hintereinander. Ausnahmen: Nach dem Block darf derselbe Spieler den ersten Ballkontakt durchführen und bei der Annahme darf der Ball mehrere Körperteile des annehmenden Spielers gleichzeitig oder unmittelbar hintereinander berühren. In der Praxis wird die Doppelberührung meist an der Rotation des Balles festgestellt.\\nBall geführt: Ein Spieler hält oder wirft den Ball, statt ihn zu schlagen.\\nNetzberührung: Ein Spieler berührt das Netz. Zwischen 2009 und 2015 gab es eine liberalere Auslegung dieser Regel, wonach eine Netzberührung nur als Fehler galt, wenn dadurch das Spielgeschehen beeinflusst wurde.\\nFehler beim Aufschlag: Der Ball überquert das Netz nicht im vollen Durchmesser zwischen den Antennen oder deren gedachter Verlängerung bis zur Hallendecke. Berührt bei Überquerung des Netzes ein aufgeschlagener Ball die Netzkante, so gilt dies nach aktuellem Reglement nicht als Fehler. Außerdem darf der aufschlagende Spieler nicht mehr als acht Sekunden für diese Aktion benötigen und er muss aufschlagen, bevor er das Spielfeld berührt. Der Gegner darf den Aufschlag nicht blocken, und den Ball nicht direkt zurückspielen, während er sich in der Vorderzone und vollständig über der Netzoberkante befindet.\\nÜbergreifen: Ein Spieler greift über das Netz. Ausnahmen: Wenn beim Angriffsschlag der Ballkontakt noch im eigenen Spielraum stattfindet; beim Block, falls der Spielaufbau des Gegners nicht behindert wird.\\nÜbertreten: Ein Spieler tritt unterhalb des Netzes über die Mittellinie. Der Spieler berührt dabei mit dem Fuß das Spielfeld, die Fußsohle befindet sich vollständig im gegnerischen Spielraum. Eine Behinderung des Gegners muss nicht gegeben sein.\\nEindringen in den gegnerischen Spielraum: Der Spieler dringt in den gegnerischen Spielraum ein, und behindert dabei den Gegner.\\nKontakt mit unbeteiligten Personen oder Gegenständen: Der Ball berührt einen nicht im Spiel befindlichen Spieler, Trainer, Zuschauer oder einen Gegenstand außerhalb des Spielfelds. Dazu gehören auch die Netzanlage außerhalb der Antennen, die Antennen selbst sowie die Hallendecke.\\nVerwendung von Hilfsmitteln beim Schlag: Ein Spieler darf weder von einem Mitspieler beim Schlag unterstützt werden (bspw. auf die Schultern nehmen) noch ein anderes Hilfsmittel (bspw. von der Bank aus abspringen) verwenden.\\nFehler von Hinterspielern: Ein Hinterspieler ist an einem Block beteiligt. Der Block gilt dabei als eine Einheit, d. h. berührt beim Block an dem ein Hinterspieler beteiligt ist irgendein Spieler den Ball gilt das als Fehler. Hinterspieler dürfen Angriffsschläge nur von oberhalb der Netzkante spielen, wenn sie in der Hinterzone stehen, oder aus der Hinterzone hochspringen.\\nFehler des Liberos oder nach einem Zuspiel des Liberos: Der Libero tätigt ein oberes Zuspiel in der Vorderzone und ein Mitspieler führt einen Angriffsschlag aus, bei dem sich der Ball im Moment des Kontaktes vollständig oberhalb der Netzoberkante befindet. Der Libero führt einen Blockversuch durch oder einen Angriffsschlag aus, bei dem sich der Ball im Moment des Kontaktes vollständig oberhalb der Netzoberkante befindet.\\nPositionsfehler: Eine Mannschaft muss zu Beginn jedes Aufschlags gemäß der Rotationsfolge aufgestellt sein (siehe oben). Ob eine Mannschaft richtig aufgestellt ist, ergibt sich ausschließlich aus der Position ihrer Spieler zueinander. Außerdem ist es den Spielern nicht gestattet, vor der Ausführung des Aufschlags über die Seitenlinien hinaus das Spielfeld zu verlassen.\\nSichtblock: Wenn einer oder mehrere Spieler so stehen (oder sich so bewegen), dass dem Gegner die Sicht auf den aufschlagenden Spieler und die Flugbahn des Balles verwehrt ist, handelt es sich um einen verbotenen Sichtblock. Verwehren also Spieler die Sicht auf die aufschlagende Person, darf nicht über diese Spieler hinweg aufgeschlagen werden.\\n\\n\\n=== Videobeweis (Challenge) ===\\n\\nIn einigen internationalen Wettbewerben der FIVB und CEV sowie beim Finale im DVV-Pokal und teilweise auch in der Bundesliga wird seit 2013 ein Videobeweis genutzt, der auch als „Challenge“ (englisch für Anzweifeln, Infragestellen) bezeichnet wird. Wenn eine Mannschaft eine Entscheidung des Schiedsrichters anzweifelt, kann sie diese überprüfen lassen. Eine Challenge ist bei der Frage Ball im Feld oder aus sowie bei Blockberührungen, Netzfehlern, Antennenberührungen und bei Übertritten möglich. Sie muss direkt nach dem Auftreten des jeweiligen Fehlers angezeigt werden. Jede Mannschaft hat pro Satz mindestens zweimal die Möglichkeit, den Videobeweis anzufordern. Wenn sie zu Recht Einspruch eingelegt hat, erhält sie eine weitere Chance.\\n\\n\\n=== Zählweise ===\\n\\nIm Volleyball erzielt die Mannschaft, die einen Spielzug gewinnt, einen Punkt („Rally-Point-System“). Begeht die aufschlagende Mannschaft einen Fehler, erhält die andere Mannschaft sowohl einen Punkt als auch das Aufschlagsrecht. Deren Spieler wechseln die Positionen gemäß der Rotationsfolge. Aufschläger ist dann der Spieler, der nach der Rotation auf der Position 1 steht.\\nEin Satz ist gewonnen, wenn eine Mannschaft 25 Punkte erreicht und dabei mindestens zwei Punkte Vorsprung hat. Hat eine Mannschaft bei Erreichen der 25 Punkte keinen derartigen Vorsprung, wird der Satz verlängert, bis sich eine Mannschaft einen Zwei-Punkte-Vorsprung erspielt hat (also mindestens bis 26:24).\\nUm ein Spiel zu gewinnen, muss eine Mannschaft drei Sätze für sich entscheiden („Best of five“). Nach jedem Satz gibt es einen Seitenwechsel. Zwischen den Sätzen gibt es eine dreiminütige Pause (nach dem zweiten Satz eventuell auch eine Zehn-Minuten-Pause). Der fünfte Satz wird als Tiebreak bezeichnet und endet, wenn eine Mannschaft 15 Punkte erreicht (mit mindestens zwei Punkten Vorsprung). Sobald eine Mannschaft acht Punkte erreicht hat, wechseln die Mannschaften die Seiten.\\nVor dem ersten und erneut vor einem eventuellen fünften Satz wirft der Schiedsrichter eine Münze. Der Kapitän, der die Auslosung gewinnt, kann sich für oder gegen den Aufschlag oder für eine Seite des Spielfelds entscheiden, während der andere Kapitän die andere Entscheidung trifft.\\nIn den Europapokal-Wettbewerben gibt es als zusätzlichen Entscheidungssatz den „Golden Set“, der für eine Entscheidung sorgt, wenn nach Hin- und Rückspiel jede Mannschaft einen Sieg verbucht hat.\\nDas Rally-Point-System wurde 1999 eingeführt, um die Dauer eines Spiels besser zu kontrollieren und das Spiel damit angenehmer für Zuschauer und vorteilhafter für Fernsehsender zu gestalten. Zuvor konnte nur die aufschlagende Mannschaft einen Punkt erzielen. Vor den Regeländerungen galt die Zählung bis 15 Punkte grundsätzlich für alle Sätze, wobei die ersten vier Durchgänge spätestens – das heißt unabhängig vom Vorsprung – entschieden waren, wenn eines der beiden Teams 17 Punkte erreicht hatte. Der fünfte Satz wurde bis zu 15 Punkten gespielt, wobei der Satz erst bei zwei Punkten Vorsprung zu Ende war.\\n\\n\\n=== Auszeiten und Auswechslungen ===\\n\\nErreicht die jeweils führende Mannschaft den achten oder den sechzehnten Punkt, sehen die Regeln in den ersten vier Sätzen eine technische Auszeit von einer Minute vor. Zusätzlich können beide Trainer beim zweiten Schiedsrichter pro Satz zwei Auszeiten beantragen, die jeweils 30 Sekunden dauern. In den unteren Spielklassen gibt es üblicherweise keine technischen Auszeiten. Mit der Regeländerung 2021 wurde die technische Auszeit abgeschafft.\\nMit den taktischen Auszeiten kann der Trainer das Spiel beeinflussen. Die möglichen Gründe für eine solche Unterbrechung sind vielfältig. Der Trainer kann eine Auszeit nehmen, um seine Mannschaft in einer schlechten Phase zu beruhigen. Er kann versuchen, dem Team neue Anweisungen zu geben, wobei die Aufnahmefähigkeit allerdings in der kurzen Zeit begrenzt ist. Außerdem kann eine Auszeit dazu dienen, den Spielfluss beim Gegner zu unterbrechen. Wenn ein gegnerischer Spieler beispielsweise mehrere Aufschläge nacheinander gut getroffen hat, stört die Unterbrechung eventuell seine Konzentration.\\nPro Satz und Mannschaft sind sechs Auswechslungen erlaubt. Der Einwechselspieler hält üblicherweise eine Tafel mit der Nummer des auszuwechselnden Spielers. Möglich sind auch Mehrfachwechsel, bei dem mehrere Spieler gleichzeitig ausgetauscht werden. Sobald ein Spieler für einen anderen eingewechselt wurde, kann er auch nur für diesen wieder ausgewechselt werden (Rückwechsel). Danach ist in diesem Satz für diese beiden Spieler das Wechselkontingent erschöpft, mit der Folge, dass der Startspieler den Satz zu Ende spielen und der Ersatzspieler bis zum nächsten Satz auf der Bank Platz nehmen muss. Er darf nach seiner Auswechslung auch nicht für einen anderen Startspieler eingesetzt werden. Unabhängig von diesen Regeln darf der Libero auf den drei Rückraumpositionen beliebig oft ein- und ausgetauscht werden. Eine Ausnahme von diesen Bestimmungen besteht für den Fall, dass sich ein im Spiel befindlicher Spieler (außer Libero, zweiter Libero oder deren Austauschspieler) verletzt oder erkrankt und nicht mehr weiterspielen kann, außerdem seit der Regeländerung 2021, wenn er hinausgestellt oder disqualifiziert wurde.\\nWenn ein verletzter, erkrankter oder hinausgestellter Spieler ausnahmsweise gewechselt wird, darf dieser Spieler nicht mehr in dieses Spiel zurückkehren. Ein ausnahmsweiser Wechsel wird nicht als normaler Wechsel gezählt. Trotzdem wird er im Spielberichtsbogen vermerkt und in der Summe der Wechsel vom betreffenden Satz und des gesamten Spiels insgesamt mitgezählt.\\n\\n\\n=== Sanktionen ===\\n\\nBei „einfachen“ Regelverstößen (ungebührliches Verhalten) wird zunächst eine mündliche Verwarnung ausgesprochen. Bei weiterem Fehlverhalten wird die Mannschaft des Spielers, der den Regelverstoß begangen hat, mit einer gelben Karte formell verwarnt. Mit einer roten Karte zeigt der Schiedsrichter eine Bestrafung an. In diesem Fall erhält der Gegner einen zusätzlichen Punkt und das Aufschlagsrecht. Eine gelb-rote Karte bedeutet, dass der betroffene Spieler hinausgestellt (Karten in einer Hand) oder disqualifiziert wird (Karten in zwei Händen). Die Hinausstellung gilt für den laufenden Satz, die Disqualifikation für das gesamte Spiel. Der Spieler muss in beiden Fällen sofort durch eine reguläre Auswechslung ersetzt werden. Ist die Auswechslung nicht möglich, wird die Mannschaft für unvollständig erklärt und die gegnerische Mannschaft gewinnt den Satz. Nach einer Regeländerung 2021 kann ein hinausgestellter oder disqualifizierter Spieler unabhängig von den bisherigen Auswechslungen durch einen anderen Spieler ausnahmsweise ersetzt werden. Der hinausgestellte Spieler darf dann allerdings nicht mehr ins Spiel zurückkehren.\\nBis zur Regeländerung im Jahr 2021 gab es Strafflächen von 1 Meter Breite und Länge, welche sich am Rande des Wettkampfbereiches auf Höhe der Verlängerung von den Grundlinien befanden. Dort wurden 2 Stühle aufgestellt. In dieser Fläche mussten sich hinausgestellte Teammitglieder (Spieler, Trainer, Offizielle) während des restlichen aktuellen Satzes aufhalten. Mit der Regeländerung 2021 entfällt die Straffläche. Ein hinausgestelltes Teammitglied (Spieler, Trainer, Offizielle) muss nun die Sporthalle verlassen und sich für den Rest des aktuellen Satzes in die Umkleidekabine seiner Mannschaft begeben. Bei der Disqualifikation gilt die Dauer für den Rest des Spiels.\\nBis zu einer Regeländerung im Jahr 2013 waren die Bedeutungen der Karten und Schiedsrichterzeichen anders definiert. Eine gelbe Karte galt damals als Sanktion, die mit einem Punkt für den Gegner verbunden war, die rote Karte bewirkte die Hinausstellung eines Spielers und die gelb-rote Karte, die zusammen in einer Hand gezeigt wurde, die Disqualifikation.\\n\\n\\n=== Punkte und Tabellen ===\\nIn Tabellen von nationalen und internationalen Turnieren werden die Anzahl der Siege, die daraus resultierenden Punkte, die gespielten Sätze und die Ballpunkte berücksichtigt. Ballpunkte sind die gespielten Punkte innerhalb eines Satzes. Beispielsweise hat eine Mannschaft, die ein Spiel 25:20, 25:22, 25:23 gewinnt, einen Wert von 75:65. Den Quotienten aus diesen Zahlen (75:65 = 1,154) bezeichnet man als Ballpunktquotient (BPQ).\\nIn internationalen Wettbewerben, in den Ligen der führenden Volleyballnationen und (seit der Saison 2013/14) auch in allen deutschen Ligen gilt die Drei-Punkte-Regel. Dabei erhält eine Mannschaft, die 3:0 oder 3:1 gewinnt, drei Punkte, während der Verlierer leer ausgeht. Bei einem Spiel, das nach einem Entscheidungssatz 3:2 endet, gibt es zwei Punkte für den Sieger und einen für den Verlierer.\\n\\n\\n== Schiedsgericht ==\\n\\nDas Schiedsgericht besteht aus dem ersten und zweiten Schiedsrichter, zwei oder vier Linienrichtern und dem Schreiber; zusätzlich kann es noch einen Assistenten des Schreibers geben. Die Zusammensetzung des Schiedsgerichtes und deren Aufgabenteilung ist je nach Ligastufe und Art des Wettbewerbs unterschiedlich. Während internationale Spiele mit zwei Schiedsrichtern und vier Linienrichtern gespielt werden, kamen in der 1. Bundesliga nur zwei Linienrichter zum Einsatz. Mit der flächendeckenden Einführung des Videobeweises im Männerbereich wurden diese aber abgeschafft, bei Frauenspielen gibt es sie zum Teil weiterhin. Wenn mit Videobeweis gespielt wird gibt es einen dritten Schiedsrichter, den so genannten Challenge-Schiedsrichter. Er ist via Headsets mit seinen beiden Kollegen verbunden. Dieser dritte Schiedsrichter trifft nach Ansicht der Video-Bilder die finale Entscheidung, wenn eine Challenge durch eine der beiden Mannschaften oder  das Schiedsgericht selbst beantragt wurde. \\nIn tieferen Ligen wird in der Regel ohne Linienrichter gespielt.\\n\\n\\n=== Erster Schiedsrichter ===\\nDer erste Schiedsrichter steht auf einem Schiedsrichterstuhl am Ende des Netzes. Sein horizontales Sichtfeld muss sich ungefähr 50 cm über dem Netz befinden. Er leitet das Spiel und hat Entscheidungsbefugnis über alle Mitglieder des Schiedsgerichts und der Mannschaften. Seine Entscheidung ist endgültig, sobald der nächste Aufschlag genehmigt oder der Satz beendet wurde. Er darf andere Mitglieder des Schiedsgerichts überstimmen, wenn sich herausstellt, dass sie sich geirrt haben. Er muss aber auf die Beobachtungen seiner Assistenten achten. Auf Nachfrage des Spielkapitäns muss er seine Entscheidung erklären. Er kann das Verhalten aller Personen, die auf dem Spielbericht eingetragen sind, sanktionieren.\\nDer erste Schiedsrichter gibt den Aufschlag mit Handzeichen und Pfiff frei. Erkennt er einen Fehler, pfeift er sofort. Nach Blickkontakt mit seinem Assistenten und ggf. den Linienrichtern vergibt er den Punkt, indem er den Arm auf die entsprechende Seite ausstreckt. Anschließend weist er mit Handzeichen auf die Art des Fehlers und gegebenenfalls den betreffenden Spieler hin. Der erste Schiedsrichter kann den Spielzug bei einem Doppelfehler wiederholen lassen: Entweder haben beide Mannschaften gleichzeitig einen Fehler begangen, oder der Schiedsrichter kann nicht erkennen, welcher der beiden Fehler zuerst geschehen ist. Im Ermessen des Schiedsgerichts kann ein Spielzug auch aus anderen Gründen wiederholt werden.\\nDie Heimmannschaft ist dafür zuständig, dass Zuschauer und andere Unbeteiligte das Spiel nicht stören, und das Spielfeld rechtzeitig bereit ist. Scheitert sie dabei, kann der Schiedsrichter diese Mannschaft bestrafen.\\n\\n\\n=== Zweiter Schiedsrichter ===\\nDer zweite Schiedsrichter steht am gegenüberliegenden Ende des Netzes. Er assistiert dem ersten Schiedsrichter und kommuniziert ständig mit ihm. Während der erste Schiedsrichter (fast) ausschließlich den Ball und die dazugehörigen Aktionen beobachtet, hat der zweite Schiedsrichter vor allem das Netz und die Mittellinie im Auge. Dabei achtet er auf Netzberührungen, Übertritte, Blockaktionen, Behinderung des Gegners, Positionsfehler und Ballkontakte. Findet das Spielgeschehen nicht dort statt, beobachtet er die Spielaktionen. Er bewegt sich seitwärts und steht in aller Regel auf der Seite des Teams, welches verteidigt. Erkennt der zweite Schiedsrichter innerhalb seines Zuständigkeitsbereiches einen Fehler, signalisiert er das durch einen Pfiff, zeigt aber zuerst die Art des Fehlers an und falls nötig auf den Spieler, der den Fehler begangen hat. Wurde ein Fehler gepfiffen – gleich, welcher Schiedsrichter – bleibt er auf der Seite der Mannschaft, die nach Ansicht des zweiten Schiedsrichters den Fehler begangen hat, stehen. Hat der erste Schiedsrichter gepfiffen, der zweite konnte jedoch keinen Fehler feststellen, so bleibt er mittig stehen. Bei Fehlern, die außerhalb seines Zuständigkeitsbereichs liegen, darf er diese dem ersten Schiedsrichter zwar durch Handzeichen anzeigen, aber das Spiel nicht unterbrechen. Früher wiederholte der zweite Schiedsrichter das Handzeichen des ersten Schiedsrichters.\\nEr überwacht auch die Schreiber, sich gerade nicht im Feld befindende Spieler, Auszeiten und Auswechslungen. Er nimmt Anfragen für Auszeiten und Auswechslungen von den Trainern entgegen und weist diese zurück, falls sie ungültig sind. Sind sie zulässig, macht er den ersten Schiedsrichter mit einem Pfiff und dem entsprechenden Handzeichen aufmerksam.\\nVor dem Spiel prüfen beide Schiedsrichter das korrekte Ausfüllen des Spielberichts sowie die Lizenzen und die Identität der Spieler. Außerdem prüfen sie die Halle, das Spielmaterial (Bälle, Netz, Feldlinien usw.) und die Spielertrikots und weisen den Schreiber ein.\\n\\n\\n=== Handzeichen der Schiedsrichter ===\\n\\n\\t\\t\\n\\t\\t\\t\\n\\t\\t\\t\\n\\t\\t\\n\\t\\t\\n\\t\\t\\t\\n\\t\\t\\t\\n\\t\\t\\n\\t\\t\\n\\t\\t\\t\\n\\t\\t\\t\\n\\t\\t\\n\\t\\t\\n\\t\\t\\t\\n\\t\\t\\t\\n\\t\\t\\n\\t\\t\\n\\t\\t\\t\\n\\t\\t\\t\\n\\t\\t\\n\\t\\t\\n\\t\\t\\t\\n\\t\\t\\t\\n\\t\\t\\n\\t\\t\\n\\t\\t\\t\\n\\t\\t\\t\\n\\t\\t\\n\\nDie beiden Schiedsrichter nutzen in den offiziellen Regeln definierte Handzeichen, um ihre Entscheidungen anzuzeigen. Sie sind in der folgenden Tabelle nach ihrer Reihenfolge im Regelwerk aufgeführt. Der erste Schiedsrichter kann jedes der Handzeichen zeigen, der zweite nur manche davon.\\n\\n* Die Zahlen geben an, welcher Schiedsrichter dieses Zeichen benutzen darf.\\n\\n\\n=== Linienrichter ===\\n\\nDie Linienrichter unterstützen die beiden Schiedsrichter. Bei einem Spiel mit vier Linienrichtern ist jeder für eine der vier Außenlinien des Spielfelds zuständig, bei zwei Linienrichtern achtet jeder von ihnen auf zwei Linien. Sie befinden sich an je einer Ecke des Spielfeldes oder (wenn sie zu zweit sind) an diagonal gegenüberliegenden Ecken. Die Linienrichter geben mit einer 40 mal 40 cm großen Fahne Zeichen an die Schiedsrichter. Folgende Zeichen sind im Regelwerk definiert:\\n\\n\\n=== Schreiber ===\\n\\nDer Schreiber und sein Assistent sitzen am Schreibertisch hinter dem zweiten Schiedsrichter. Der Schreiber ist zunächst für das korrekte Ausfüllen des Spielberichts zuständig. Dazu gehören Aufstellungen, Punkte, Auszeiten und Sanktionen. Bei internationalen Spielen, in der Bundesliga und zunehmend auch in unteren Ligen kommt dabei ein elektronischer Spielbericht (E-Score) zum Einsatz. Der Schreiber unterbricht das Spiel unmittelbar nach dem Aufschlag, wenn der falsche Spieler aufgeschlagen hat (Rotationsfehler). Er zeigt den Schiedsrichtern an, wenn ein Trainer regelwidrig eine Auszeit oder eine Auswechslung beantragt. Der Schreiber-Assistent bedient das Zählgerät zur Anzeige des aktuellen Spielstands. Außerdem notiert er die Wechsel des Liberos.\\nVom Spielbericht werden jeweils drei Ausfertigungen erstellt, je eine für die beiden Teams und eine für den Schiedsrichter. Die Mannschaftskapitäne, der Schreiber, die Linienrichter, der zweite Schiedsrichter und zuletzt der erste Schiedsrichter unterzeichnen das Dokument in der genannten Reihenfolge. Hat eine Person unterschrieben, sind ihm keine Eintragungen oder Änderungen mehr gestattet; jede weitere Bemerkung oder Richtigstellung muss dann in einem separaten Bericht erfolgen. Wenn der Kapitän wegen einer beliebigen Sache Protest einlegen möchte, muss er dies zum frühestmöglichen Zeitpunkt beim ersten Schiedsrichter ankündigen. Geschieht dies nicht, ist der Protest hinfällig. Der Schiedsrichter muss dem Kapitän die Eintragung eines Protestes ohne Ausnahme gestatten, auch wenn der Protest inhaltlich unzulässig wäre.\\n\\n\\n== Ablauf vor und nach dem Spiel ==\\n\\nRund um ein Spiel haben sich im Volleyball feste Abläufe entwickelt. Für manche Wettbewerbe sind diese Abläufe genau vorgeschrieben. So gibt es für Spiele in der deutschen Bundesliga beispielsweise ein Spielablaufprotokoll der VBL.\\nEin typischer Ablauf sieht folgendermaßen aus: Vor dem Anpfiff erwärmen sich die Spieler auf dem Feld. Dann folgt das gemeinsame Einschlagen am Netz. Wenige Minuten vor dem Anpfiff stellt der Hallensprecher das Schiedsgericht sowie die Spieler und Offiziellen beider Mannschaften vor, die sich dazu auf beiden Seiten des Netzes aufstellen. Während des Spiels kann das Publikum in den Satzpausen und Auszeiten mit Musik und anderen Aktionen unterhalten werden. Nach dem Abpfiff gehen die Spieler in entgegengesetzter Richtung am Netz entlang und geben sich als Zeichen des Fair Play die Hand; außerdem bedanken sie sich bei den Schiedsrichtern. In der Bundesliga und anderen Wettbewerben gibt es außerdem nach jedem Spiel eine Wahl des wertvollsten Spielers (most valuable player, MVP).\\n\\n\\n== Techniken ==\\n\\n\\t\\t\\n\\t\\t\\t\\n\\t\\t\\t\\n\\t\\t\\n\\t\\t\\n\\t\\t\\t\\n\\t\\t\\t\\n\\t\\t\\n\\t\\t\\n\\t\\t\\t\\n\\t\\t\\t\\n\\t\\t\\n\\t\\t\\n\\t\\t\\t\\n\\t\\t\\t\\n\\t\\t\\n\\t\\t\\n\\t\\t\\t\\n\\t\\t\\t\\n\\t\\t\\n\\t\\t\\n\\t\\t\\t\\n\\t\\t\\t\\n\\t\\t\\n\\t\\t\\n\\t\\t\\t\\n\\t\\t\\t\\n\\t\\t\\n\\t\\t\\n\\t\\t\\t\\n\\t\\t\\t\\n\\t\\t\\n\\t\\t\\n\\t\\t\\t\\n\\t\\t\\t\\n\\t\\t\\n\\n\\n=== Aufschlag ===\\nMit dem Aufschlag (auch Service genannt) beginnt ein neuer Ballwechsel. Der aufschlagende Spieler spielt den Ball über das Netz ins gegnerische Halbfeld mit dem Ziel, einen direkten Punkt zu erzielen („Ass“) oder zumindest den gegnerischen Spielaufbau zu erschweren. Der Aufschlag kann im Stand oder aus dem Sprung heraus ausgeführt werden. Der aufschlagende Spieler muss sich zu Beginn des Aufschlags hinter der Grundlinie befinden, darf aber bei einem Sprungaufschlag nach dem Ballkontakt im Feld landen.\\nDer Aufschlag kann von unten oder oben gespielt werden. Beim Aufschlag von unten wirft der Spieler den Ball nur leicht hoch und trifft ihn mit der flachen Hand oder dem Unterarm. Beim Aufschlag von oben wirft der Spieler den Ball hoch und schlägt ihn mit der flachen Hand. Beim Sprungaufschlag wird der Ball meistens hart geschlagen. Man unterscheidet außerdem einen Float-Aufschlag oder Float-Serve, bei dem der Ball mit der flachen, offenen Handfläche getroffen wird und dadurch im Flug flattert, von einem hart geschlagenen Aufschlag, bei dem das Handgelenk beim Treffen des Balls nach unten gekippt wird, um dem Ball eine Abwärtsrotation zu verleihen.\\n\\n\\n=== Unteres Zuspiel ===\\nDas untere Zuspiel (auch Bagger und in der Schweiz Manchette genannt) wird hauptsächlich bei der Annahme und Abwehr eingesetzt, wobei die Annahme beim gegnerischen Aufschlag oder Angriffen mit wenig Druck und die Abwehr bei einem härteren Angriffsschlag des Gegners erfolgt. In Ausnahmefällen wird beim Zuspiel zu einem Angriffsschlag gebaggert. In Extremsituationen kommt auch eine einhändige Variante des Baggers zum Einsatz, um den Ball im Spiel zu halten.\\nBeim unteren Zuspiel wird der Ball mit parallel gehaltenen, durchgestreckten Unterarmen, dem sogenannten Spielbrett, von unten gespielt. Die Spielfläche liegt dabei auf den Innenseiten der Unterarme. Beidarmiges Spielen ist nicht zwingend vorgeschrieben, erhöht jedoch durch die größere Auflagefläche die Ballkontrolle. Optimale Ballkontrolle erreicht man, wenn man die Ellenbogen streckt und den Winkel der Arme zum Boden nicht verändert. Der Winkel zwischen Armen und Oberkörper sollte etwa 90° betragen. Die Richtung erhält der Ball durch die Streckung der Beine und die Ausrichtung des Spielbretts.\\nEine Sonderform ist der Hechtbagger. Er kommt zum Einsatz, wenn der Ball nicht mehr im Laufen, sondern nur noch durch einen Hechtsprung zu erreichen ist. Die Technik kann mit einem oder beiden Armen ausgeführt werden. Die japanischen Frauen zeigten bei den Olympischen Spielen 1964 außerdem erstmals die nach ihnen benannte Japan-Rolle, bei der sich der Spieler nach dem Spielen des Balls seitlich über die Schulter abrollt.\\n\\n\\n=== Oberes Zuspiel ===\\nDas obere Zuspiel (auch Pritschen oder Pass genannt) kommt hauptsächlich beim Zuspiel zur Vorbereitung eines Angriffsschlags zum Einsatz und kann frontal, seitlich oder über den Kopf ausgeführt werden. Im Vergleich zum unteren Zuspiel ermöglicht es eine präzisere Kontrolle des Balls. Es kann auch in einer einhändigen Variante gespielt werden, die jedoch einige Anforderungen an Technik und Koordination stellt, um nicht vom Schiedsgericht als unsauberes Spiel und damit als Fehler gewertet zu werden.\\nBeim oberen Zuspiel zeigen die Handflächen in Richtung des Balles, der sich oberhalb der Stirn befinden sollte. Die Handrücken sind nach hinten geklappt, während Daumen und Zeigefinger beider Hände jeweils ein offenes Dreieck bilden. Der Ball wird mit einer kurzen, schnellen Bewegung aus den Handgelenken gespielt.\\n\\n\\n=== Angriffsschlag ===\\nMit einem Angriffsschlag versucht der Spieler, den Ball so über das Netz zu spielen, dass es für den Gegner schwierig ist, ihn zu kontrollieren. Im offiziellen Regelwerk der FIVB (Regel 14.1) ist ein Angriffsschlag als Aktion definiert, bei der der Ball in Richtung des Gegners gespielt wird, ausgenommen Aufschlag und Block. Man unterscheidet verschiedene Arten von Angriffsschlägen.\\n\\nDer Schmetterschlag (auch „Smash“ genannt) ist die am häufigsten verwendete Variante und erzeugt viel Druck. Der Spieler führt dabei vor dem Angriffsschlag drei Schritte aus. Beim Orientierungs- oder Auftaktschritt, der ohne großen Tempogewinn mit der der Schlaghand gegenüberliegenden Seite erfolgt, führt er die Arme leicht nach vorne. Mit dem schnellen, langen Stemmschritt senkt er den Körperschwerpunkt, wobei die Arme hinter den Körper geführt werden. Beim Absprungschritt setzt der Spieler den hinteren Fuß knapp diagonal vor den vorderen, um die Vorwärts- in eine Aufwärtsbewegung überzuleiten. Das ist wichtig, um nach dem Schlag nicht im gegnerischen Feld zu landen. Beim Absprung führt der Spieler die Arme schnell nach oben und den Schlagarm nach hinten. Am höchsten Punkt schlägt er den Ball kräftig nach unten übers Netz. Mit der Handfläche, den Fingern und dem Handgelenk kann die Richtung des Schlags angepasst werden.\\nBei einem Schnellangriff (auch als „erstes Tempo“ bezeichnet) wird über eine kurze Distanz gespielt, wobei der Stemmschritt oft leicht eingesprungen erfolgt. Als Varianten unterscheidet man den Aufsteiger, bei dem der Angreifer direkt vor oder hinter dem Zuspieler abspringt, und den Schuss mit einem schnellen und flachen Zuspiel über rund zwei Meter Entfernung.\\nBeim Rückraum- oder Hinterfeldangriff springt ein Spieler von einer hinteren Position hinter der Angriffslinie ab. Er begeht einen Fehler, wenn er die Angriffslinie beziehungsweise ihre gedachte seitliche Verlängerung vor dem Schlag übertritt und danach den Ball oberhalb der oberen Netzkante schlägt.\\nEin Lob ist ein lang und hoch gespielter Ball, der – oft als Finte – über einen Block oder an diesem vorbeifliegt, um den Gegner ins Leere laufen zu lassen.\\nBei einem Heber wird der Ball kurz von unten mit den Fingern der Schlaghand berührt und ins gegnerische Felds gespielt, oft auch über einen gegnerischen Block hinweg.\\nZuspieler spielen den Ball manchmal auch schon mit dem zweiten von drei möglichen Ballkontakten in einen leeren Bereich des gegnerischen Feldes, um den Gegner, der ein Zuspiel zum Angreifer erwartet, zu überraschen.\\n\\n\\n=== Block ===\\n\\nEin Block ist eine Aktion, bei der Spieler der verteidigenden Mannschaft versuchen, einen Angriffsschlag über dem oder nahe dem Netz direkt abzuwehren. Bis zu drei Spieler, die auf den vorderen Positionen stehen, springen dabei am Netz hoch und versuchen, mit gestreckten Armen und gespreizten, starren Fingern, den Ball abprallen zu lassen. Je nach Anzahl der beteiligten Spieler spricht man von einem Einer-, Doppel- oder Dreierblock.\\n\\n\\n== Taktik ==\\n\\n\\n=== Spielpositionen ===\\nÜblicherweise werden die Aufgaben in einer Mannschaft auf zwei Mittelblocker, zwei Außenangreifer, einen Diagonalangreifer und einen Zuspieler verteilt. Je nach Spielsystem (siehe unten) ist auch ein zweiter Zuspieler statt des Diagonalangreifers möglich. Als Sonderrolle kommt der Libero hinzu.\\n\\nDer Mittelblocker agiert hauptsächlich am Netz. Er wehrt die gegnerische Angriffe mit einem Block ab. Außerdem kann er für einen Schnellangriff durch die Mitte eingebunden werden.\\nDer Außenangreifer vereint zwei Aufgaben, weshalb diese Position auch Annahme/Außen genannt wird. Er kümmert sich zusammen mit dem Libero um die Annahme und Abwehr der vom Gegner kommenden Bälle. Außerdem greift er über die linke Seite des Spielfelds an und beteiligt sich auf dieser Seite am Block.\\nDer Diagonalangreifer hat seine Bezeichnung daher, dass er beim Aufschlag dem eigenen Zuspieler diagonal gegenübersteht. Er greift üblicherweise über die rechte Seite an und blockt dort auch. Er ist meistens der Hauptangreifer der Mannschaft. Daher wird er selten in der Defensive eingebunden. Der Einsatz des Diagonalspielers hängt stark von der Annahmequalität der Mannschaft sowie den Fähigkeiten des Zuspielers ab, da die Zuspiele häufig nach hinten über den Kopf erfolgen.\\nDer Zuspieler (auch Steller, Passeur oder Aufspieler genannt) ist meistens für den zweiten Ballkontakt zuständig. Nach der Annahme spielt er den Ball zu einem der Angreifer. Durch das sogenannte Läufersystem gelangt der Zuspieler immer auf die Position, von der aus er am besten stellen kann.\\nDer Libero ist ein Spezialist für Annahme und Abwehr. Er kommt nur auf den hinteren Positionen zum Einsatz. Er darf – von wo auch immer – Angriffsschläge nur durchführen, wenn sich der Ball unterhalb der Netzoberkante befindet. Der Libero darf außerdem keinen Block sowie keinen Aufschlag ausführen. Der Spieler unterscheidet sich durch ein andersfarbiges Trikot vom Rest der Mannschaft. Die Position wurde erst Ende 1998 in den Regeln festgeschrieben.\\nAls Universalspieler werden solche Spieler bezeichnet, die aufgrund ihrer Fähigkeiten auf verschiedenen Positionen eingesetzt werden können (in der Regel mit Ausnahme des Liberos und Zuspielers).\\n\\n\\n=== Spielsysteme ===\\n\\nIm professionellen Volleyball unterscheidet man heutzutage zwei wesentliche taktische Systeme. Die am häufigsten verwendete Formation ist das 5-1-System; als Alternative gibt es das 4-2-System. Die Zahlen geben dabei das Verhältnis von angreifenden Spielern und Zuspielern an: Im 5-1-System stehen dem Zuspieler also fünf Spieler gegenüber, die Angriffe ausführen können, während beim 4-2-System zwei Zuspieler auf dem Feld stehen; hinzu kommt jeweils der Libero. Da der Zuspieler von seiner Grundposition, die er beim Aufschlag einnehmen muss, zur optimalen Stelle für sein Zuspiel läuft, spricht man in diesem Zusammenhang auch vom Läufersystem. Der Zuspieler kann beim Spielaufbau zwischen kurzen, schnellen Angriffen über die Mitte, dem sogenannten „ersten Tempo“, und weiter nach außen gespielten Angriffen wählen. Die gegnerischen Block- und Annahmespieler müssen die Entscheidung so schnell wie möglich erkennen, um sich entsprechend zu positionieren.\\nDie Aktionen der Spieler unterscheiden sich auch danach, ob die Mannschaft in der Annahme steht oder gerade selbst Aufschlag hat. Die erste Situation bezeichnet man als Komplex 1, kurz K1, die zweite Situation als K2.\\nDie Situation im K1 wird auch „Sideout“ genannt; dieser Begriff stammt aus der Zeit vor dem Rally-Point-System, als man als annehmende Mannschaft zunächst nur das Aufschlagsrecht gewann. Im K1 rücken die Annahmespieler inklusive Libero nach hinten und versuchen, möglichst viel Fläche abzusichern. Nach einer erfolgreichen Annahme entscheidet der Zuspieler, welchen Pass er spielt. Die Entscheidung hängt nicht nur davon ab, wie der Ball aus der eigenen Annahme zu ihm gelangt, sondern vor allem auch von der Beobachtung der gegnerischen Mannschaft. Der Zuspieler versucht, die Mittelblocker des Gegners ins Leere laufen zu lassen und seine eigenen Angreifer möglichst präzise zu bedienen. Die Angreifer können den Ball mit hoher Geschwindigkeit ins gegnerische Feld schlagen. Sie können aber auch taktisch spielen, indem sie den Ball beispielsweise so gegen den Block schlagen, dass er davon abprallt und ins Aus fliegt. Bei einem erfolgreichen Block des Gegners müssen die Annahmespieler als Angriffssicherung bereitstehen, um den abprallenden Ball im Spiel zu halten.\\nIm K2 ist der Aufschlag die erste Gelegenheit, einen Punkt zu erzielen. Der aufschlagende Spieler muss dabei abwägen, welches Risiko er eingeht. Mit einem harten, schnellen Aufschlag kann er ein Ass erzielen oder die gegnerische Annahme zumindest so unter Druck setzen, dass der Spielaufbau deutlich erschwert ist; gleichzeitig ist das Risiko groß, dass der Ball bei einem ungenauen Aufschlag im Netz oder im Aus landet. Ein Flatteraufschlag (Float) trifft mit größerer Wahrscheinlichkeit das gegnerische Feld, ist aber weniger druckvoll. Während des Aufschlags versuchen die Mitspieler am Netz, das Sichtfeld der gegnerischen Spieler einzuschränken, indem sie die Arme nach oben strecken. Dabei darf der Gegner nicht zu sehr behindert werden.\\nWenn der Gegner den Ball zurückspielt, stellt der Block das erste Hindernis dar. Die Blockspieler beobachten den gegnerischen Spielaufbau, um möglichst früh zu erkennen, von wo welcher Angriff gespielt wird. Dann bewegen sie sich an diese Stelle und versuchen, im richtigen Moment hochzuspringen und die Arme auszustrecken. Ein Block kann von einem oder mehreren Spielern ausgeführt werden. Besonders einfach wird die Annahme bei einem „Dankeball“. So bezeichnen die Volleyballer eine Situation, in der der Gegner keinen druckvollen Angriff schafft und den Ball nur leicht über das Netz schlägt. Dabei verzichtet die annehmende Mannschaft häufig auf einen Block.\\n\\n\\n=== Handzeichen ===\\n\\nBeim Aufschlag zeigen die Spieler der eigenen Mannschaft, die am Netz stehen, mit Handzeichen hinter dem Rücken, wie der nächste Spielzug geplant ist. Dabei können sie die Hand zur Faust ballen oder einen oder mehrere Finger ausstrecken. Je nach Zeichen kommen dabei eine Hand oder beide Hände zum Einsatz. Mit den Zeichen geben die Spieler Informationen darüber, welches Zuspiel und welche Angriffsvariante geplant sind. Die genaue Zuordnung der einzelnen Zeichen wird innerhalb der Mannschaft abgesprochen, so dass die Bedeutung eines Zeichens variieren kann.\\n\\n\\n=== Scouting ===\\nNeben Cheftrainer und Co-Trainer beschäftigen viele Profivereine auch einen Scout. Der Scout sitzt während eines Spiels neben dem Feld und gibt Daten dazu in einen Laptop ein. Dabei notiert er mit Codes in einer speziellen Software, welcher Spieler gerade welche Aktion ausführt. Der Trainer kann die Daten in Auszeiten nutzen, um taktische Hinweise zu geben. Außerdem werden die gesammelten Daten zur Vor- und Nachbereitung von Spielen genutzt. So kann der Trainer seiner Mannschaft vor dem Spiel beispielsweise zeigen, welcher gegnerische Spieler Schwächen in der Annahme hat und deshalb mit Aufschlägen angespielt werden sollte. Nach dem Spiel dienen die Daten zur Veranschaulichung bei der Fehleranalyse. Neben den Daten kommen auch Videos zum Einsatz.\\n\\n\\n== Geschichte ==\\n\\n\\n=== Entstehung der Sportart ===\\n\\nDer Erfinder des Volleyballs ist William G. Morgan. Er lernte während seines Studiums am Springfield College des YMCA James Naismith, den Erfinder des Basketballs, kennen. Nachdem Morgan 1895 Sportlehrer am YMCA im benachbarten Holyoke geworden war, suchte er eine sanfte Alternative zum Basketball, weil es dort einige ältere, gesundheitlich angeschlagene Studierende gab, denen kein harter Körperkontakt beim Sport zuzumuten war. Anfang 1896 stellte er die neue Sportart vor, die er zunächst „Mintonette“ nannte. Den Namen leitete er von Minton ab, einer Version des Federfußballs, die David McConaughy, Premierminister der britischen Krone in Indien, entwickelt hatte.\\nMorgan übernahm die Idee eines trennenden Netzes vom Tennis und ließ einen leichteren Ball als beim Basketball entwickeln. Seine Freunde Frank Wood and John Lynch beauftragte er, die ersten Regeln festzuhalten. Bei einer YMCA-Konferenz in Springfield gab es im Juli 1896 das erste Spiel. Professor Alfred T. Halstead sah, dass der Ball volley, also direkt, gespielt wird und schlug deshalb den Namen „Volley Ball“ vor, der seit 1952 in einem Wort geschrieben wird. Die ersten Regeln unterschieden sich noch deutlich vom heutigen Regelwerk und wurden in den folgenden Jahrzehnten mit regionalen Unterschieden immer weiter entwickelt und vereinheitlicht (siehe unten).\\n\\n\\n=== Weltweite Verbreitung ===\\nIn den folgenden Jahren verbreitete sich die Sportart in die ganze Welt. Zunächst kam sie im Jahr 1900 nach Kanada und 1906 durch einen Offizier der US Army nach Kuba. 1908 brachte sie ein Absolvent des YMCA Springfield nach Japan und zwei Jahre später erreichte sie China. Mit den Soldaten des Ersten Weltkriegs gelangte Volleyball über die Normandie nach Europa und wurde anschließend vor allem in Osteuropa beliebt. Ägypten war 1915 das erste afrikanische Land, das die Sportart kennenlernte. 1916 wurde sie ins Programm der NCAA aufgenommen. 1920 kam Volleyball in die Sowjetunion und 1922 wurde in der Tschechoslowakei der erste nationale Verband gegründet. Die Vereinigten Staaten richteten im gleichen Jahr die erste nationale Meisterschaft aus, an der aber nur YMCA-Teams teilnahmen. 1924 wurde Volleyball bei den Olympischen Sommerspielen in Paris als Demonstrationssportart in einer Reihe amerikanischer Sportarten gezeigt.\\n1933 fand die erste sowjetische Meisterschaft statt. Dort gab es zu der Zeit rund 400.000 aktive Spieler und es gab ein Spiel im Bolschoi-Theater. Im Zweiten Weltkrieg trugen Soldaten zur weiteren weltweiten Verbreitung der Sportart bei. Im Jahr 1946 entstand die Confederación Sudamericana de Voleibol als ältester Kontinentalverband. Nachdem sich im Sommer 1946 bereits Offizielle aus der Tschechoslowakei, Frankreich und Polen getroffen hatten, kamen vom 18. bis 20. September 1947 vierzehn Nationen in Paris zusammen, um den Weltverband FIVB zu gründen. Zum ersten Präsidenten wurde der Franzose Paul Libaud gewählt. Die Anzahl der FIVB-Mitglieder stieg in den folgenden Jahrzehnten auf mehr als 200 Nationalverbände.\\nIn den Jahren 1948 bis 1952 fanden die ersten Europameisterschaften und Weltmeisterschaften der Männer und Frauen statt (mehr zu den Wettbewerben in den folgenden Kapiteln). Bei der 53. IOC-Session 1957 auf Antrag des Olympischen Komitees der UdSSR in Sofia wurde nach einem Demonstrationsspiel die Aufnahme des Volleyballs ins olympische Programm beschlossen. Am 21. Oktober 1963 wurde der europäische Verband CEV gegründet. 1964 fand in Tokio das erste olympische Volleyballturnier statt. 1967 und 1969 entstanden der afrikanische Verband CAVB und die NORCECA für Nord- und Mittelamerika, die in den jeweiligen Jahren auch ihre ersten Turniere ausrichteten.\\n1983 sorgte ein Spiel zwischen Brasilien und der Sowjetunion im Maracanã-Stadion vor fast 100.000 Zuschauern für Aufsehen. Im folgenden Jahr wurde der mexikanische Anwalt Rubén Acosta Hernández zum neuen FIVB-Präsidenten gewählt. Unter seiner Führung bemühte sich der Weltverband, der seinen Hauptsitz nach Lausanne verlegte, um mehr Aufmerksamkeit in den Medien und führte deshalb eine Reihe von neuen Wettbewerben ein. Dazu gehören die Volleyball-Klub-Weltmeisterschaft (erste Ausgabe 1989), die Volleyball-Weltliga (1990) und der Volleyball World Grand Prix (1993).\\n\\n\\n=== Entwicklung der Regeln und Spieltechniken ===\\n\\nDie ersten Volleyball-Regeln, die William G. Morgan 1896 vorstellte, sahen unter anderem ein 25 mal 50 Fuß (7,62 mal 15,24 Meter) großes Spielfeld und ein 6 Fuß, 6 Inch (1,98 Meter) hohes Netz vor. Die Anzahl der erlaubten Ballkontakte pro Spielzug war noch unbegrenzt und es gab wie beim Tennis einen zweiten Aufschlag. Im Laufe der folgenden Jahrzehnten wurden die Regeln oft geändert und es entwickelten sich regionale Varianten. Die Unterschiede bezogen sich unter anderem auf die Feldgröße, die Netzhöhe, die Anzahl der Spieler und die pro Satz zu erzielenden Punkte. So wurden 1912 erstmals sechs Spieler und eine Rotation und 1916 ein Spiel mit zwei Gewinnsätzen erwähnt. 1920 kam die Beschränkung auf drei Ballkontakte und 1925 die Auszeit hinzu. Doch erst die Gründung der FIVB sorgte 1947 für eine Vereinheitlichung der Regeln aus Amerika und Europa. Die noch heute gültigen Maße für Spielfeld und Netzhöhe wurden eingeführt. In den folgenden Jahrzehnten wurden die Regeln weiter präzisiert und vereinheitlicht.\\nDie Techniken und taktischen Systeme, die den modernen Volleyball prägen, entstanden ebenfalls erst im Laufe der Geschichte. 1920 brachten die Philippiner den Angriffsschlag ins Spiel, der damals als „Filipino bomb“ bekannt wurde. In den 1930er Jahren verbreiteten sich erste Bücher zum Volleyballtraining in den Vereinigten Staaten. Bei anderen Spieltechniken zeigte sich der Erfolg der osteuropäischen Nationen. 1938 zeigte die Tschechoslowakei erstmals professionelles Blockspiel und 1958 führte sie das untere Zuspiel (Bagger) ein. 1974 vollführte Polen den ersten Hinterfeldangriff.\\n\\n\\n== Organisation ==\\n\\nDer Weltverband Fédération Internationale de Volleyball (FIVB) wurde in Paris gegründet, hat seinen Hauptsitz aber mittlerweile in Lausanne. Amtierender Präsident ist seit 2012 der Brasilianer Ary Graça. Das oberste Organ der FIVB ist der World Congress, während das Board of Administration sich um das Management kümmert. Aus dem Board stammen auch die Mitglieder des Exekutivkomitees. Der Weltverband legt die internationalen Regeln der Sportart fest. Er organisiert die Weltmeisterschaften, die olympischen Turniere, den World Cup und die Nations League.\\nDer FIVB sind fünf Kontintentalverbände untergeordnet. Dies sind die Confédération Africaine de Volleyball (CAVB) für Afrika, die Asian Volleyball Confederation (AVC) für Asien und Ozeanien, die Confédération Européenne de Volleyball (CEV) für Europa, die North, Central America and Caribbean Volleyball Confederation (NORCECA) für Nord- und Mittelamerika sowie die Karibik und die Confederación Sudamericana de Voleibol (CSV) für Südamerika. Von den aktuell 222 Mitgliedsverbänden der FIVB gehören 54 zur CAVB, 65 zur AVC, 56 zur CEV, 35 zur NORCECA und 12 zur CSV.\\nDie CEV wurde in Den Haag gegründet und hat ihren Hauptsitz aktuell in Luxemburg. Präsident ist seit 2015 der Serbe Aleksandar Boričić. Die CEV organisiert die Europameisterschaften, deren erste Turniere allerdings schon mehrere Jahrzehnte vor der Gründung des Verbands stattfanden. Sie veranstaltet außerdem Qualifikationsturniere zu FIVB-Turnieren sowie die Europapokal-Wettbewerbe für Vereine. Die anderen Kontinentalverbände organisieren ebenfalls kontinentale Turniere.\\nZu den nationalen Mitgliedsverbänden der CEV gehören unter anderem der Deutsche Volleyball-Verband (DVV), der Österreichische Volleyballverband (ÖVV) und der Schweizer Verband Swiss Volley (früher SVBV). Der DVV organisiert den deutschen Volleyball auf nationaler Ebene. Die wichtigsten Wettbewerbe sind die Volleyball-Bundesliga der Männer und der Frauen, die von der zum DVV gehörenden VBL GmbH veranstaltet wird, und der DVV-Pokal. Außerdem betreut der DVV die deutschen Nationalmannschaften der Männer und der Frauen. Untergeordnet gibt es siebzehn Landesverbände (einen je Bundesland, drei in Baden-Württemberg und für Niedersachsen/Bremen einen gemeinsamen). Der ÖVV hat seinen Hauptsitz in Wien. Dem ÖVV sind neun regionale Verbände untergeordnet. Swiss Volley ist in Bern beheimatet. Untergeordnet sind vierzehn Regionen. Die beiden nationalen Verbände in Österreich und der Schweiz organisieren wie der DVV ihre nationalen Meisterschaft und Pokalwettbewerbe und kümmern sich um die Nationalmannschaften.\\n\\n\\n== Internationale Wettbewerbe für Nationalmannschaften ==\\n\\n\\n=== Olympische Spiele ===\\n\\nVolleyball wurde bei den Olympischen Spielen 1924 in Paris als Demonstrationssportart vorgestellt. Die Aufnahme ins olympische Programm erfolgte jedoch erst nach dem Zweiten Weltkrieg. Am Rande der 53. IOC-Session 1957 in Sofia veranstalteten die Volleyballer ein Turnier, um auf die Sportart aufmerksam zu machen. 1961 folgte der Beschluss, bei den Olympischen Spielen 1964 in Tokio den ersten Volleyballwettbewerb auszutragen.\\nDas Turnier der Männer gewann die Sowjetunion gegen die Tschechoslowakei, während die Gastgeber den dritten Rang belegten. Vier Jahre später gelang die Titelverteidigung. Nach Bronze und Silber gewannen die Japaner 1972 in München Gold; Gegner im Endspiel war die Mannschaft der DDR. 1976 siegte Polen im Finale gegen die Sowjets, die vier Jahre später in Moskau in Abwesenheit der westlichen Nationen ihre dritte Goldmedaille gewannen. Als 1984 in Los Angeles die UdSSR nicht teilnahm, siegten wieder die Gastgeber. 1988 standen sich die USA und die Sowjetunion im Endspiel gegenüber und die Amerikaner verteidigten ihren Titel erfolgreich. 1992 in Barcelona triumphierte erstmals Brasilien und 1996 in Atlanta setzten sich die zuvor im Finale unterlegenen Niederlande durch. Vier Jahre später gab es den ersten Erfolg für Jugoslawien. Danach standen die Brasilianer viermal in Folge im Endspiel. 2004 in Athen und beim Heimspiel 2016 in Rio de Janeiro gewannen sie Gold, während sie 2008 den USA und 2012 Russland unterlagen. 2021 gewann erstmals Frankreich die Goldmedaille. Die Russen sind (einschließlich der Ergebnisse der Sowjetunion) die erfolgreichste Nation bei den olympischen Turnieren der Männer. Dahinter folgen Brasilien und die Vereinigten Staaten.\\nDie ersten vier Olympiaturniere der Frauen waren vom Duell zwischen Japan und der Sowjetunion geprägt, die jeweils zweimal gewannen. Die Bronzemedaillen gingen in den ersten Jahren an Polen sowie Nord- und Südkorea. 1980 in Moskau siegten die Gastgeberinnen gegen die DDR-Mannschaft. In ihrer Abwesenheit siegte 1984 China im Endspiel gegen die Vereinigten Staaten.  Vier Jahre später meldete sich die UdSSR mit dem Titelgewinn gegen Peru zurück. 1992 bis 2000 war dann die erfolgreiche Zeit der Kubanerinnen, die dreimal in Folge Gold gewannen. 2004 in Athen siegte wieder China, während Russland wie vier Jahre zuvor Zweiter wurde. Brasilien, das 1996 und 2000 Bronze gewonnen hatte, siegte in den Endspielen 2008 in Peking und 2012 in London. Beim Heimturnier 2016 in Rio de Janeiro verpassten sie jedoch die Medaillen, die an China, Serbien und die USA gingen. Das im Jahr 2021 ausgetragene olympische Turnier gewann erstmals die USA. Den Medaillenspiegel bei den Frauen führt Russland (inklusive Sowjetunion) vor China und Kuba an.\\n\\n\\n=== Special Olympics ===\\n\\nVolleyball (Special Olympics) ist eine Sportart, die auf den Regeln von Volleyball beruht und in Wettbewerben und Trainingseinheiten der Organisation Special Olympics weltweit für geistig und mehrfach behinderte Menschen angeboten wird. Volleyball ist seit 1983 bei Special Olympics World Games vertreten.\\n\\n\\n=== Weltmeisterschaften ===\\n\\nDie Volleyball-Weltmeisterschaften finden – bis auf Ausnahmen in den Anfangszeiten – alle vier Jahre statt. Die ersten sechs Turniere der Männer wurden von den Mannschaften des Ostblocks dominiert. Die ersten beiden Turniere 1949 in Moskau und 1952 in Moskau gewann jeweils die Sowjetunion vor der Tschechoslowakei und Bulgarien. Die CSSR siegte dann 1956 in Paris im Finale gegen Rumänien. 1960 in Brasilien und zwei Jahre später in der Sowjetunion reihten sich diese beiden Länder dann wieder auf den Medaillenrängen hinter den Sowjets ein. 1966 gewann die Tschechoslowakei in der Heimat ein erneutes Endspiel gegen Rumänien. 1970 siegte erstmals die DDR gegen Gastgeber Bulgarien. Japan wurde Dritter, ebenso wie 1974 in Mexiko, als Polen im Finale die Sowjetunion besiegte. Letztere gewann 1978 in Italien und 1982 in Argentinien ihre letzten Titel. 1986 stand sie nochmal im Endspiel, musste sich aber den Vereinigten Staaten geschlagen geben, die ihren bislang einzigen WM-Titel holten. Anschließend gab es Erfolgsserien der Italiener und Brasilianer, die jeweils dreimal in Folge Weltmeister wurden. Die Silber- und Bronzemedaillen gingen an verschiedene Nationen, drei von ihnen an Kuba. 2014 in Polen setzten sich die Gastgeber im Finale gegen Brasilien durch, während Deutschland 44 Jahre nach dem Titelgewinn der DDR die nächste Medaille holte. Bei der WM 2018 gab es das gleiche Finale mit der erfolgreichen Titelverteidigung für Polen.\\nAuch bei den Frauen dominierten anfangs die Ostblockstaaten. Bei den ersten drei Turnieren wurde die Sowjetunion Weltmeister und die weiteren Medaillen gingen u. a. an Polen und die Tschechoslowakei. Von 1960 bis 1974 kam es zu vier Endspielen zwischen der UdSSR und Japan, die jeweils zwei davon gewannen. 1967 in Tokio setzten sich die Gastgeberinnen außerdem gegen die Vereinigten Staaten durch. 1978 in der Sowjetunion gewann Kuba das Finale gegen Japan. 1982 in Peru besiegte China die Gastgeberinnen, die vier Jahre später bei Chinas Titelverteidigung gegen Kuba Bronze holten. 1990 in China war die Sowjetunion gegen die Heimmannschaft erfolgreich. Die nächsten beiden Weltmeisterschaften gewann Kuba gegen Brasilien und China. 2002 fand zum ersten Mal eine Weltmeisterschaft in Deutschland statt. Das Finale gewann Italien gegen die USA, während Russland zum dritten Mal in Folge den dritten Rang belegte. Anschließend gewannen die Russen jedoch die nächsten beiden Turniere, die jeweils in Japan stattfanden. 2014 in Italien gingen die Medaillen an die USA, China und Brasilien. 2018 in Japan setzte sich Serbien vor Italien und China durch.\\nBei Männern und Frauen ist Russland (einschließlich der Ergebnisse der Sowjetunion) der erfolgreichste WM-Teilnehmer. Das Land ist auch Gastgeber der Weltmeisterschaft der Männer 2022. Das Turnier der Frauen findet im gleichen Jahr in Polen und den Niederlanden statt.\\n\\n\\n=== Volleyball World Cup ===\\n\\nDer Volleyball World Cup findet alle vier Jahre statt und wird jeweils im Jahr vor den Olympischen Spielen ausgetragen. Gastgeber ist dabei seit 1977 immer Japan. Neben dem Gastgeber nehmen bei Männern und Frauen jeweils der amtierende Weltmeister sowie zwei weitere Teams pro Kontinentalverband teil, die in der Weltrangliste am besten platziert sind. Lange Zeit galt das Turnier auch als Teil der Olympiaqualifikation. Bei der neusten Ausgabe (2019) gilt dies jedoch nicht mehr. Der World Cup 2019 wurde vom 14. bis 29. September (Frauen) und 1. bis 15. Oktober (Männer) ausgetragen. Bei den Frauen gelang China die Titelverteidigung, während die brasilianischen Männer Nachfolger der Vereinigten Staaten wurden.\\n\\n\\n=== Volleyball Nations League ===\\n\\nDie Volleyball Nations League ist ein weiterer weltweiter Wettbewerb für Nationalmannschaften. Sie findet seit 2018 jährlich statt und umfasst mehrere Wochen mit Gruppenspielen und eine Finalrunde der sechs besten Mannschaften. Die Nations League löste die Volleyball-Weltliga der Männer und den Volleyball World Grand Prix der Frauen ab und sorgte für einen einheitlichen Wettbewerb. Bei der Ausgabe 2019 der Frauen gewannen die US-Amerikanerinnen ihren zweiten Titel. Bei den Männern gelang Russland ebenfalls die Titelverteidigung. 2020 wurde die Nations League wegen der COVID-19-Pandemie komplett abgesagt. Der Wettbewerb 2021 soll komplett in Rimini ausgetragen werden.\\n\\n\\n=== Europameisterschaften ===\\n\\nDie erste Europameisterschaft wurde bei den Männern 1948 in Rom und bei den Frauen im folgenden Jahr in Prag ausgetragen. Zunächst fanden die Turniere in unregelmäßigen Abständen statt. Seit 1975 gibt es einen zweijährigen Rhythmus in den ungeraden Jahren. Ebenso wie die Olympischen Spiele und Weltmeisterschaften waren auch die Europameisterschaften in den frühen Jahren von den osteuropäischen Mannschaften geprägt.\\nErster Europameister der Männer wurde die Tschechoslowakei, bevor die Sowjetunion die nächsten beiden Titel gewann. 1955 in Bukarest und 1958 in Prag gewannen die Tschechoslowaken jeweils das Finale gegen Rumänien, das sich 1963 beim Heimturnier gegen Ungarn durchsetzte. Danach wurde die Sowjetunion neunmal in Folge Europameister, zunächst zweimal gegen die CSSR und dann fünfmal gegen Polen, bevor wieder die Tschechoslowakei und Frankreich die Gegner waren. Von 1989 bis 2005 folgte die erfolgreiche Zeit der Italiener, die sechsmal Europameister, zweimal Zweiter und einmal Dritter wurden. Die anderen Titel in dieser Periode gingen 1991 in Deutschland an die Sowjetunion, 1997 in den Niederlanden an die Gastgeber und 2001 in Tschechien an Jugoslawien. In den folgenden Turnieren gab es fünf verschiedene Europameister. Bei der neusten Ausgabe 2017 in Polen setzte sich Russland im Finale gegen Deutschland durch. Die EM 2019 wurde erstmals in vier Ländern ausgetragen. Serbien gewann das Finale gegen Slowenien.\\nBei den Frauen gewann die Sowjetunion zehn der ersten elf Europameisterschaften, nur unterbrochen von der Finalniederlage gegen die Tschechoslowakei 1955 in Bukarest. Die Tschechoslowakinnen und Polinnen gewannen in dieser Zeit die meisten anderen Medaillen. Die Mannschaft der DDR holte 1975 in Jugoslawien Bronze und dann zweimal Silber. Nachdem Bulgarien 1981 sein Heimturnier gewonnen hatte, gelang dies zwei Jahre später auch den Ostdeutschen. Diese wechselten sich bei den nächsten drei Turnieren im Finale mit der Sowjetunion ab. 1991 in Italien wurde die gesamtdeutsche Mannschaft Dritter und die Sowjetunion siegte im Endspiel gegen die Niederlande. Russland als Nachfolger gewann vier der nächsten fünf Turniere. Nur die Niederlande gewannen dazwischen 1995 ihr Turnier im eigenen Land. Dort und in den nächsten beiden Endspielen war Kroatien der Gegner. 2003 in Ankara gab es wieder Bronze für Deutschland und den ersten Titel für Polen, den die Mannschaft zwei Jahre später erfolgreich verteidigte. Die Italienerinnen waren anschließend zwei Mal Europameister. Die Endspiele 2011 und 2013 verlor die deutsche Mannschaft gegen Serbien und Russland, letzteres im eigenen Land. Dieses Ergebnis gab es 2015 für die Niederländerinnen, die auch 2017 im Finale gegen Serbien standen. Bei der EM 2019, die in vier Ländern ausgetragen wurde, gelang Serbien mit einem 3:2 gegen die Türkei die Titelverteidigung.\\n\\n\\n=== Weitere kontinentale Meisterschaften ===\\nNeben der Europameisterschaft finden weitere kontinentale Meisterschaften statt.\\nDie CAVB veranstaltet die Volleyball-Afrikameisterschaften, die seit 1967 für Männer und 1976 für Frauen stattfinden. Bei den Männern gingen bis 2003 die meisten Titel an Tunesien. Als größte Konkurrenten entwickelten sich Ägypten, Algerien und Kamerun, die in dieser Zeit jeweils zweimal Afrikameister wurden. Von 2005 bis 2015 gingen dann fünf Titel in Folge an die Ägypter, bevor 2017 in Kairo und 2019 in Tunis wieder Tunesien siegte. Bei den Frauen gewannen zunächst Ägypten und Tunesien jeweils zweimal. Von 1991 bis 2015 setzte sich meistens Kenia durch. Bei den Meisterschaften 2017 und 2019 gewann jedoch Kamerun die Endspiele gegen die Kenianerinnen.\\nDie AVC trägt seit 1975 die Volleyball-Asienmeisterschaften aus. Bei den Männern gewannen bis 2005 China, Japan und Südkorea alle Titel und die meisten Medaillen. Nach einigen zweiten und dritten Plätzen setzte sich 2007 Australien durch. 2009 siegte Japan gegen den Iran, der dann die nächsten beiden Turniere gewann. 2015 und 2017 war Japan erfolgreich. 2019 in Teheran nutzte der Iran den Heimvorteil und gewann das Finale gegen Australien. Bei den Frauen gewann Japan die Turniere 1975, 1983 und ansonsten dominierte bis zum erneuten japanischen Erfolg 2007 die Chinesinnen. Von 2009 bis 2015 siegten abwechselnd China und Thailand und 2017 wieder Japan. Die Japanerinnen setzten sich auch 2019 in Seoul gegen Thailand durch.\\nDie NORCECA ist Veranstalter der NORCECA-Meisterschaft für Nord- und Mittelamerika sowie die Karibik. Bei den Männern teilten sich von 1969 bis 2013 Kuba und die Vereinigten Staaten die Titel. 2015 beendeten die Kanadier, die zuvor mehrmals Zweiter und Dritter geworden waren, diese Serie. Die weiteren Medaillen gingen anfangs an Mexiko und in den letzten Jahren an Puerto Rico. Beim Turnier 2019 in Kanada setzte sich Kuba im Finale gegen die USA durch. Bei den Frauen gewann Mexiko die ersten beiden Turnieren, bevor ebenfalls das Duell zwischen Kuba und den USA begann. 2009 gab es mit der Dominikanischen Republik einen anderen NORCECA-Meister. Anschließend entschieden die Vereinigten Staaten die nächsten drei Meisterschaften für sich. 2017 gab es nur Spiele in drei Gruppen ohne KO-Runde. Das Frauenturnier 2019 in Puerto Rico gewann die Dominikanische Republik im Endspiel gegen die Vereinigten Staaten.\\nDie CSV richtet die Volleyball-Südamerikameisterschaften aus. Die brasilianischen Männer gewannen bisher bis auf eine Ausnahme alle Turniere. Als sie 1964 nicht teilnahmen, siegte Argentinien. Die Argentinier und Venezuela belegten bei den meisten Turnieren den zweiten oder dritten Platz. Auch 2019 in Santiago de Chile setzte sich Brasilien im Finale gegen Argentinien durch. Bei den Frauen setzte sich zunächst fünfmal Brasilien durch. Von 1964 bis 1993 gewann Peru zwölf und Brasilien drei Meisterschaften. Seit 1995 sind die Brasilianerinnen ungeschlagen; sie setzten sich seitdem fünfmal gegen Peru, sechsmal gegen Argentinien und zuletzt 2017 gegen Kolumbien durch. Das gleiche Finale gab es 2019 in Lima und Brasilien besiegte Kolumbien erneut.\\nEin weiterer großer Wettbewerb sind die Panamerikanischen Spiele, bei denen Nationalmannschaften aus Nord- und Südamerika antreten. Die 18. Ausgabe fand vom 26. Juli bis 11. August 2019 in Lima statt. Dabei setzten sich die argentinischen Männer und die Frauen aus der Dominikanischen Republik durch.\\n\\n\\n== Internationale Wettbewerbe für Vereinsmannschaften ==\\n\\n\\n=== Champions League ===\\n\\nDie Champions League ist der höchstrangige Europapokal-Wettbewerb, den die CEV ausrichtet. Bis 1995 hieß er Europapokal der Landesmeister. Die nationalen Meister und weitere Spitzenvereine aus den europäischen Ligen treten dabei an.\\nIn den ersten Jahren wurde der Wettbewerb von Mannschaften aus Osteuropa dominiert. Vor allem VK ZSKA Moskau und die Vereine aus Bukarest gewannen damals die Titel bei den Männern. 1964 siegte der SC Leipzig als erster deutscher Verein. 1980 unterbrach Klippan Turin als erster westeuropäischer Verein die Siegesserie der Osteuropäer und in den folgenden Jahren kam es zum Duell zwischen den italienischen Teilnehmern und ZSKA Moskau. Nach dem Zusammenbruch des Ostblocks gingen zehn von elf Titeln nach Italien. In der Saison 2006/07 siegte der VfB Friedrichshafen als bisher einziger Bundesligist. 2009 bis 2011 gewann Trentino Volley drei Jahre in Folge, bevor russische Teams bis 2018 ungeschlagen blieben. Die Berlin Recycling Volleys wurden beim Final Four 2014/15 in eigener Halle Dritter. In der Saison 2018/19 war die Max-Schmeling-Halle in Berlin auch Schauplatz des sogenannten Super Finals, bei dem Lube Macerata (Italien) die Revanche gegen Vorjahressieger VK Zenit-Kasan gelang. Der Wettbewerb 2019/20 wurde wegen der COVID-19-Pandemie ohne Sieger abgebrochen.\\nBei den Frauen ergibt sich ein ähnliches Bild. Von 1966 bis 1990 gewannen die beiden Moskauer Vereine und Jekaterinburg 21 Titel. 1978 setzte sich der SC Traktor Schwerin, der Vorgänger des heutigen Bundesligisten Schweriner SC, durch. In den 1970er und 1980er Jahren holten die Vereine aus der DDR, vor allem der SC Dynamo Berlin, diverse Bronzemedaillen. Ansonsten waren vor allem die Vereine aus Budapest und Sofia sowie der italienische Vertreter Olimpia Teodora Ravenna erfolgreich. Wie bei den Männern erlebten von 1990 bis 2010 auch die italienischen Frauen eine Siegesserie. In den folgenden Jahren gingen dann viele Titel an unterschiedliche Teams aus Istanbul. 2019 in Berlin kam es jedoch zum rein italienischen Finale, das Novara gegen Conegliano gewann. 2020 gab es wie bei den Männern keinen Sieger. In den beiden darauffolgenden Jahren siegte bei den Männern Zaksa Kędzierzyn-Koźle aus Polen, bei den Frauen 2021 Imoco Volley Conegliano aus Italien und 2022 der türkische Club VakıfBank Istanbul.\\n\\n\\n=== CEV-Pokal ===\\n\\nDer CEV-Pokal ist der zweite Europapokal-Wettbewerb der CEV. Er wurde zunächst als Europapokal der Pokalsieger und später unter dem Namen Top Teams Cup ausgetragen. In diesem Wettbewerb spielen die Vereine, die in ihrer nationalen Ligen hinter den Champions-League-Teilnehmern platziert sind.\\nVon der ersten Saison 1972/73 bis 1985 waren bei den Männern vor allem die Vereine aus der Sowjetunion erfolgreich. Anschließend kamen bis 1998 fast alle Sieger aus Italien. 1992 wurde der Moerser SC vor eigenem Publikum Dritter und 1996 verlor der SV Bayer Wuppertal das Endspiel in Athen gegen Olympiakos Piräus. Seit Ende der 1990er Jahre kommen die Sieger aus vielen verschiedenen Ländern. Die Berlin Recycling Volleys gewannen in der Saison 2015/16 im Finale gegen ZSK Gazprom-Ugra Surgut als erster deutscher Verein den Wettbewerb. Aktueller Titelträger ist Trentino Volley, das sich im Endspiel 2019 gegen Galatasaray Istanbul durchsetzte. Die Saison 2019/20 wurde wegen der COVID-19-Pandemie ohne Sieger abgebrochen.\\nBei den Frauen gab es schon zahlreiche Medaillen für deutsche Vereine. 1975 gewann der SC Traktor Schwerin das Finale gegen den zweimaligen Titelträger VK ZSKA Moskau. In der folgenden Saison wurde der USC Münster Dritter und 1978 gab es mit dem Sieger SC Dynamo Berlin und dem Dritten VC Schwerte zwei Vereine unter den Medaillengewinnern. 1984 und 1985 siegten die Berlinerinnen erneut und in den folgenden beiden Jahren gab es Medaillen für den SV Lohhof und SG/JDZ Feuerbach. Die nächsten drei Jahre platzierte sich Schwerin wieder in den Top 3, während die sowjetischen Vereinen die Endspiele gewannen. Nach der Bronzemedaille für Bayern Lohhof gewann der USC Münster ebenfalls vor heimischer Kulisse 1992 den Wettbewerb, wobei Schwerin erneut den dritten Rang belegte. Ein Jahr später gab es mit CJD Berlin den nächsten deutschen Sieger. Dann triumphierten in den meisten Jahren italienische Vereine, wobei Münster 1995 nochmal ins Finale kam. In den 2000er Jahren gab es weitere Top-Ergebnisse für die Bundesligisten Aliud Pharma Ulm, Bayer Leverkusen (Finalisten 2004 und 2005) sowie den Schweriner SC (Dritter 2007). Nach drei russischen und zwei türkischen Erfolgen knüpfte Yamamay Busto Arsizio in der Saison 2018/19 mit dem Finalsieg gegen CS Volei Alba-Blaj an die italienische Erfolgsserie an. Die Saison 2019/20 endete vorzeitig ohne Sieger.\\n\\n\\n=== Challenge Cup ===\\n\\nDer Challenge Cup ist der dritte Europapokal-Wettbewerb der CEV. Er trug bis 2007 den Namen CEV-Pokal, der anschließend für den ranghöheren Wettbewerb verwendet wurde.\\nBei den Männern wird der Challenge Cup bisher klar von den italienischen Vereinen dominiert, die seit der ersten Austragung 1980/81 insgesamt 27 Endspiele und viele weitere Medaillen gewannen. Der Moerser SC gewann 1990 das Finale in eigener Halle gegen OK Partizan Belgrad. Der SV Bayer Wuppertal (1992 und 1997), der VfB Friedrichshafen (1994) und der SCC Berlin (1999 und 2010) wurden jeweils Dritter. Aktueller Titelträger ist der VK Lokomotiv-Belogorje, der das Finale 2019 gegen Vero Volley Monza gewann. Die Saison 2019/20 endete vorzeitig ohne Sieger.\\nNoch erfolgreicher als die Männer waren bisher die deutschen Frauen. Der SV Lohhof, der USC Münster, SG/JDZ Feuerbach und die TG Viktoria Augsburg gewannen in den 1980er Jahren die jeweils in deutschen Städten ausgetragenen Endspiele gegen italienische Vereine. Außerdem gab es bis 1990 diverse zweite und dritte Plätze für deutsche Vereine. Der USC Münster gewann 1994 und 1996 den Wettbewerb. Ansonsten siegten – ähnlich wie bei den Männern – bis 2009 vor allem die italienischen Teilnehmer. Der Dresdner SC wurde 2008 Dritter und gewann 2010 das Endspiel in eigener Halle gegen Asterix Kieldrecht. Im Finale der Saison 2018/19 besiegte Saugella Monza den türkischen Verein Aydın Büyükşehir Belediyespor. Die Saison 2019/20 wurde ohne Sieger abgebrochen.\\n\\n\\n=== Klub-Weltmeisterschaft ===\\n\\nBei der Klub-Weltmeisterschaft, die der Weltverband FIVB veranstaltet, treten die Champions-League-Sieger gegen die besten Vereine der anderen Kontinentalverbände an. Der Wettbewerb wurde bei den Männern zunächst von 1989 bis 1992 ausgetragen und 2009 wieder eingeführt. Die Frauen spielten 1991, 1992 und 1994 und treten seit 2010 wieder an.\\nBei den Männern gingen die Titel der früheren Jahre alle an Italien. Von 2009 bis 2012 knüpfte Trentino Volley daran an und siegte jeweils in Doha. Dann fand das Turnier viermal in Brasilien statt und drei Titel gewann Sada Cruzeiro Vôlei. 2014 und 2017 siegten die russischen Vereine VK Lokomotiv-Belogorje und VK Zenit-Kasan. 2018 kam es in Polen zu einem italienischen Finale, in dem Trentino gegen Cucine Lube Civitanova siegte.\\nVon den drei früheren Turnieren der Frauen fanden zwei in Brasilien und einer in Italien statt und dabei setzte sich jeweils eine Mannschaft aus dem Land des Gastgebers durch. Bei den Ausgaben seit 2010, die zunächst jeweils dreimal in Doha und Zürich ausgetragen wurden, gingen sechs Titel an türkische Vereine. Zuletzt gelang Vakifbank Telekom Istanbul in Shaoxing mit einem Finalsieg gegen den brasilianischen Verein Minas Tênis Clube die erfolgreiche Titelverteidigung.\\n\\n\\n== Volleyball in einzelnen Ländern ==\\n\\n\\n=== Deutschland ===\\n\\nIn der Bundesrepublik Deutschland werden seit 1957 die deutschen Meister im Volleyball ermittelt. Erster Meister bei Männern und Frauen wurden die Mannschaften der Pädagogischen Hochschule Hannover. Hannover blieb in den ersten Jahren auch das Zentrum des deutschen Volleyballs; bei den Frauen war der 1. VC Hannover ununterbrochen bis 1973 deutscher Meister. Bei den Männern gewann der USC Münster von 1965 an acht Titel in Folge. Dann wurden Vereine wie der Hamburger SV und der TSV 1860 München erfolgreich, die vor allem durch den Fußball bekannt sind. Zwei Titel gingen an die SSF Bonn. Ab 1982 gab es drei Meistertitel für den USC Gießen, vier für den HSV und zwei für Bayer Leverkusen. Bei den Frauen kamen nach der Siegesserie der Hannoveranerinnen der USC Münster und der VC Schwerte als Meister hinzu. 1982 begann die große Zeit des SV Lohhof und die letzten Titel vor der Wiedervereinigung gingen an CJD Feuerbach.\\nIn der DDR richtete der Sportverband Volleyball bereits seit 1951 eine Meisterschaft aus. Die ersten Titel bei Männern und Frauen gewannen Mannschaften von Hochschul- und Betriebssportgemeinschaften. In den folgenden Jahren gab es in beiden Ligen nur noch drei verschiedene Meister: SC Leipzig (inklusive seiner Vorgänger), SC Dynamo Berlin und SC Traktor Schwerin.\\nDie Saison 1991/92 war die erste Spielzeit nach der Wiedervereinigung. Die Bundesliga besteht aus einer Hauptrunde und anschließend Play-off-Spielen. Der Moerser SC (Männer) und der USC Münster (Frauen) waren die ersten gesamtdeutschen Volleyball-Meister. Bei den Männern gingen nach dem ersten Titelgewinn des SCC Berlin vier Titel an den SV Bayer Wuppertal und ASV Dachau. Seit 1998 wurden nur noch der VfB Friedrichshafen und die Berliner deutscher Meister. Letztere gewannen seit 2012 sieben von acht Meisterschaften. Bei den Frauen entwickelte sich nach einigen Titeln für Münster, CJD Berlin und Rote Raben Vilsbiburg allmählich ein Dreikampf zwischen dem Schweriner SC, dem Dresdner SC und Allianz MTV Stuttgart. Die Stuttgarterinnen wurden nach mehreren zweiten und dritten Plätzen in der Saison 2018/19 erstmals Meister. Die Saison 2019/20 wurde wegen der COVID-19-Pandemie kurz vor dem Ende der Hauptrunde abgebrochen, ohne Meister zu küren.\\n\\nDer DVV-Pokal ist der nationale Pokalwettbewerb. Daran nehmen alle aktuellen Bundesligisten teil. Hinzu kommen Zweit- oder Drittligisten, die sich über Regionalpokale qualifizieren. Die erste Ausgabe fand in der Saison 1972/73 statt. Die Siegerliste umfasst ungefähr die gleichen Mannschaften wie die Bundesliga. In der DDR wurde bis 1991 der FDGB-Pokal ausgespielt, wobei zeitweise nur Sportgemeinschaften (BSG, HSG) zugelassen waren. Seit 1992 gibt es einen gesamtdeutschen Wettbewerb. Bei den Männern war in den vergangenen Jahren neben Friedrichshafen und Berlin noch Generali Haching mit vier Titeln erfolgreich. Bei den Frauen gingen nach ersten Erfolgen für CJD Berlin und den USC Münster die meisten Titel an das Trio Schwerin / Dresden / Stuttgart. Die Endspiele 2020 gewannen die Berlin Recyling Volleys gegen die SWD Powervolleys Düren sowie der Dresdner SC gegen Allianz MTV Stuttgart. In der Saison 2020/21 werden wegen der Auswirkungen der COVID-19-Pandemie ausnahmsweise nur die Erstligisten antreten.\\nDie Bundesliga wird heute von der VBL GmbH mit Sitz in Berlin organisiert, deren aktueller Präsident Michael Evers ist. Sie entstand 2006 unter dem Namen Deutsche Volleyball-Liga (DVL) und wurde 2014 umbenannt. Die VBL gehört zum Deutschen Volleyball-Verband. Zur Steigerung des medialen Interesses und zur Verbesserung der Strukturen beschloss sie 2014 einen „Masterplan“ (siehe dazu das Kapitel „Volleyball in den Medien“). Der DVV ist der Dachverband des deutschen Volleyballs mit Sitz in Frankfurt am Main. Er organisiert er unter anderem den DVV-Pokal und kümmert sich um die deutschen Nationalmannschaften. Präsident ist seit 2018 René Hecht.\\nSeit 1979 werden in Deutschland die Volleyballer des Jahres gewählt. Die meisten Auszeichnungen erhielten dabei bisher bei den Männern Burkhard Sude und Georg Grozer junior (jeweils fünf) sowie bei den Frauen Angelina Grün (neun) und Margareta Kozuch (fünf). 2018 wurden Lukas Kampa und Louisa Lippmann jeweils zum zweiten Mal in Folge geehrt. Das Volleyball-Magazin erstellt seit 1987 außerdem am Ende jeder Bundesliga-Saison Ranglisten mit den besten Spielern und Spielerinnen, unterteilt nach Positionen und Kategorien wie MVP und Aufsteiger der Saison.\\n\\n\\n=== Österreich ===\\n\\nIn Österreich wird seit 1972 eine Bundesliga ausgetragen, nachdem es als Vorläufer eine Wiener Meisterschaft und eine Bundesmeisterschaft gegeben hatte. Seit 2017 heißt der Wettbewerb Austrian Volley League (AVL). Die AVL besteht aus einem Grunddurchgang (Hauptrunde) und einem Meister-Playoff. Der Wettbewerb der Männer wurde lange Zeit vom HotVolleys Volleyballteam aus Wien und seinen Vorgängervereinen dominiert. Von 2005 bis 2017 gewann dann das Hypo Tirol Volleyballteam Innsbruck zehn Meisterschaften. Wegen fehlender Konkurrenz in Österreich wechselte der Verein anschließend unter dem Namen Hypo Tirol Alpenvolleys Haching in die deutsche Bundesliga. 2018 und 2019 wurde SK Posojilnica Aich/Dob österreichischer Meister der Männer. Bei den Frauen war Wien ebenfalls lange Zeit dominant. 2002 begann die erfolgreiche Zeit von Volleyball Niederösterreich Sokol/Post SV. Der Verein aus Schwechat gewann von 2002 bis 2017 alle Meisterschaften. Die letzten beiden Titel gingen 2018 an UVC Graz und 2019 an ASKÖ Linz Steg.\\n\\nDer österreichische Pokalwettbewerb wird seit 1981 ausgetragen. Bei den Männern waren lange Zeit wie in der Liga Wien und Innsbruck die Titelträger. Seit 2012 gewannen jedoch Graz und VCA Amstetten NÖ jeweils drei Titel. Bei den Frauen löste Schwechat Wien als Dauersieger ab. Seit 2002 gewann auch Linz viermal den Pokal, zuletzt 2019, nachdem zuvor zweimal Graz erfolgreich gewesen war.\\nDer Österreichische Volleyballverband wurde 1953 gegründet und hat seinen Sitz in Wien. Er organisiert die Liga und den Pokalwettbewerb. Außerdem ist er für die Nationalmannschaften und weitere Wettbewerbe zuständig. Der Präsident ist seit 2017 Georg Leitner.\\n\\n\\n=== Schweiz ===\\n\\nDie Schweizer Meister werden in der Nationalliga A ermittelt. Rekordmeister der Männer ist Servette Star-Onex Genf mit zwölf Titeln. Dahinter folgen Volley Näfels und Lausanne UC mit jeweils neun Titeln. Amtierender Meister ist Chênois Genève Volleyball. Bei den Frauen gewann SC Uni Basel 22 Titel. Von 2005 bis 2018 wurde VBC Voléro Zürich bis auf eine Ausnahme immer Meister. 2019 und 2021 setzte sich Viteos NUC durch.\\nIm Schweizer Pokalwettbewerb sind Servette Genf, Näfels und Chênois Genève Volleyball die erfolgreichsten Vereine der Männer. In den vergangenen Jahren siegte dreimal in Folge Volley Amriswil, zuletzt 2019 gegen VBC Züri Unterland. Das Finale 2021 gewann TSV Jona Volleyball gegen Volley Schönenwerd. Bei den Frauen sind Basel mit 17 und Voléro Zürich mit 13 Titeln die erfolgreichsten Vereine. Das Finale 2021 gewann VC Kanti Schaffhausen gegen Viteos NUC.\\nDer nationale Volleyballverband Swiss Volley wurde 1958 als Schweizerischer Volleyballverband gegründet. 2002 wurde er unter dem heutigen Namen neu aufgestellt. Swiss Volley ist unter anderem für die Liga, den Pokalwettbewerb, den Supercup und die Schweizer Nationalmannschaften zuständig. Der Verband wählte 2015 Nora Willi zur neuen Präsidentin.\\nWeiter wird auch innerhalb des Schweizerischen Turnverbands Volleyball gespielt. Hauptsächlich wird dort der Wettbewerb in Meisterschaften und Turnieren in den einzelnen Regional- und Kantonalverbänden ausgetragen und die Gewinner der einzelnen Wettbewerbsgewinner der Teilverbände nehmen dann am schweizweiten Schweizer Volleyballturnier teil, dessen Sieger das STV-Meisterabzeichen erhält. Dabei wird auch beim STV nach den Volleyballregeln von Swiss Volley gespielt.\\n\\n\\n=== Andere Länder ===\\nIn Polen ist Volleyball eine sehr beliebte Sportart. Nach der ersten Teilnahme an der Weltliga 1998 begann der Aufschwung, der von sportlichen Erfolgen in den folgenden Jahren begleitet wurde. Nach den EM-Titeln der Frauennationalmannschaft 2003 und 2005 wurden die Männer 2006 Vizeweltmeister, 2009 Europameister sowie 2014 und 2018 Weltmeister. Die WM 2014 fand in Polen statt und das Eröffnungsspiel wurde vor 62.000 Zuschauern ausgetragen. Das polnische Sportministerium fördert Volleyball sowohl bei den Profis als auch im Nachwuchs mit mehreren Millionen Euro. Auch das Fernsehen spielt eine wichtige Rolle (siehe unten). In der PlusLiga, der ersten Liga der Männer, sind der amtierende Meister Zaksa Kędzierzyn-Koźle und sein Vorgänger Skra Bełchatów die erfolgreichsten Vereine der letzten Jahre. Bei den Frauen wurde 2019 ŁKS Łódź polnischer Meister, nachdem zuvor Chemik Police fünf Titel in Folge gewonnen hatte.\\nDie erfolgreichste Zeit des italienischen Volleyballs waren die 1990er und 2000er Jahre, in denen die Nationalmannschaften mehrere WM- und EM-Titel sowie olympischen Medaillen gewannen und die Vereine die Europapokal-Wettbewerbe dominierten. Die höchste nationale Liga ist die Serie A. 2019 wurde Lube Civitanova zum vierten Mal seit 2012 Meister bei den Männern und bei den Frauen siegte Imoco Volley Conegliano zum dritten Mal in den vergangenen vier Jahren.\\nFrankreich feierte seine größten Erfolge mit der Männernationalmannschaft, die 2002 WM-Dritter wurde und 2015 nach mehreren EM-Medaillen die Europameisterschaft gewann. Die Meisterschaft wird in der Ligue Nationale de Volley (LNV) ausgetragen. Bei den Männern waren in den letzten Jahren zunächst Paris Volley und zuletzt Tours VB, der auch 2019 den Titel gewann, erfolgreich. Bei den Frauen siegte in der Saison 2018/19 wieder RC Cannes, nachdem zuvor drei andere Vereine deren Siegesserie unterbrochen hatten.\\nRussland hatte seine erfolgreichsten Jahre zur Zeit der Sowjetunion, die damals neben der Tschechoslowakei die meisten Titel in allen Wettbewerben gewann. Aber auch in den letzten zehn Jahren gab es diverse Erfolge für die Nationalmannschaften. Die erfolgreichsten Vereine sind die Rekordsieger im Landesmeisterpokal ZSKA Moskau (Männer, 13 Titel) und Dynamo Moskau (Frauen, 11 Titel). Aktuell dominieren Zenit Kasan und Belgorod bei den Männern sowie Dynamo Kasan und Krasnodar bei den Frauen, die in den jeweiligen Europapokal-Wettbewerben zahlreiche Titel gewannen.\\nDie Vereinigten Staaten gewannen mit ihren Nationalmannschaften bei den letzten Olympischen Spielen und Weltmeisterschaften diverse Medaillen. Auf nationaler Ebene gibt es keine Meisterschaft mit Vereinen. Stattdessen treten Teams aus den Colleges bei der Meisterschaft der NCAA an. Im Wettbewerb der Männer siegte 2019 die Long Beach State und bei den Frauen setzte sich die Stanford University durch.\\nBrasilien hat zuletzt mit diversen Titeln und Medaillen bei Olympischen Spielen und Weltmeisterschaften seine Rolle als eine der führenden Nationen im Volleyball bestätigt. Die heimische Superliga wird seit den 1970er Jahren ausgetragen und die erfolgreichsten Mannschaften der letzten Jahre sind Sada Cruzeiro Vôlei und Rio de Janeiro VC. Einer Studie aus dem Jahr 2011 zufolge ist Volleyball in Brasilien nach Fußball die Sportart mit den zweitmeisten Interessierten. Zudem ist es die Sportart, die am siebthäufigsten ausgeübt wird (nach Fußball, Laufen, Fitness, Tennis, Schwimmen und Radsport).\\nJapans größte Erfolge im Volleyball gab es in den 1960er Jahren, aber das Land ist heute auch als Gastgeber vieler internationaler Turniere präsent. Zudem ist Volleyball als Breitensport sehr populär und der Leistungssport in den Medien sehr präsent. Die nationale Liga ist die V.League.\\n\\n\\n== Herausragende Volleyballspieler und Trainer ==\\n\\n146 prägende Persönlichkeiten des Volleyballs (Spieler, Trainer und Funktionäre) werden in der Volleyball Hall of Fame geehrt, die 1985 in Holyoke, dem Ursprungsort der Sportart, errichtet wurde. Bis 1998 wurden nur US-Amerikaner aufgenommen, ehe die Liste auch auf andere Nationen ausgeweitet wurde. Das deutsche Volleyball-Magazin führte einige Jahre lang eine Rubrik Hall of Fame.\\n\\nZu den herausragenden US-Amerikanern gehört Karch Kiraly, der sowohl in der Halle als auch im Beachvolleyball Olympiasieger wurde. Das erfolgreiche US-Team der 1980er Jahre prägte er mit Steve Timmons, der Olympiasieger und Weltmeister wurde und weitere Wettbewerbe gewann. Mit der Sowjetunion wurden Alexander Borissowitsch Sawin und Wjatscheslaw Alexejewitsch Saizew in den 1970er und 1980er Jahren Olympiasieger, zweimal Weltmeister und mehrfache Europameister. Zuspieler Josef Musil gewann mit der Tschechoslowakei in den 1950er und 1960er Jahren Olympiasilber sowie jeweils zwei WM- und EM-Titel. Der Italiener Lorenzo Bernardi, der zweimal Welt- und Europameister wurde und auch mit seinen Vereinen erfolgreich war, wurde gemeinsam mit Karch Kiraly von der FIVB zum Spieler des Jahrhunderts gewählt. Peter Blangé wurde 1996 Olympiasieger und absolvierte 500 Länderspiele für die Niederlande, zu deren Stars auch Jan Posthuma und Ronald Zwerver gehören. Gilberto Godoy Filho, bekannt als Giba, gewann mit Brasilien das olympische Turnier 2004 und zwei Weltmeisterschaften. Das Spiel der Jugoslawen/Serben wurde von den Brüdern Vladimir und Nikola Grbić geprägt, die beide in die Hall of Fame aufgenommen wurden. Andrea Giani nahm als Spieler mit Italien an fünf olympischen Turnieren teil. Zu den herausragenden deutschen Spielern gehören die jeweils fünfmal als Volleyball des Jahres ausgezeichneten Burkhard Sude (erster deutscher Italien-Legionär) und Georg Grozer junior, dessen Vater Georg Grozer senior und der aktuelle DVV-Präsident und 385-fache Nationalspieler René Hecht.\\nBei den Frauen erhielt die Kubanerin Regla Torres, die dreimal in Folge olympisches Gold und zwei Weltmeisterschaften gewann, die Auszeichnung als Volleyballerin des Jahrhunderts. Ebenfalls zu dieser erfolgreichen Mannschaft gehörte Mireya Luis. Lang Ping wurde als Spielerin mit China Olympiasiegerin und Weltmeisterin und war anschließend auch als Trainerin der Chinesinnen und US-Amerikanerinnen erfolgreich. Die Russin Irina Parchomtschuk (heute Kirillowa) gewann Gold bei Olympia, WM und EM sowie viele Titel in Italien. Ihre Landsfrau Jewgenija Wiktorowna Artamonowa-Estes nahm an sechs Olympischen Spielen teil, bei denen sie vier Silbermedaillen gewann, und wurde viermal Europameisterin sowie vielfach nationale Meisterin. In den Vereinigten Staaten war Flo Hyman die herausragende Spielerin der 1980er Jahre. In den 2000er Jahren gewann die fünfmalige Olympiateilnehmerin Danielle Scott-Arruda mit den USA zweimal Olympiasilber und wurde Vizeweltmeisterin. Terry Place-Brandel absolvierte insgesamt 601 Länderspiele für die USA und Deutschland. Die deutsche Rekordnationalspielerin Renate Riek (518 Länderspiele) war bis zum Alter von 49 Jahren aktiv. Angelina Grün (heute Hübner) und Margareta Kozuch führen mit neun bzw. fünf Auszeichnungen die Rangliste bei den Volleyballerinnen des Jahres an. Ein Star im DDR-Team war außerdem Ariane Radfan.\\nZu den herausragenden Trainern gehört der für seine Wutanfälle bekannte Nikolai Karpol, der die sowjetischen bzw. russischen Frauennationalmannschaften zu zahlreichen Titeln bei allen großen Wettbewerben führte und auch in der heimischen Liga erfolgreich war. Yasutaka Matsudaira prägte in den 1960er und 1970er Jahren als Trainer der japanischen Frauen die Volleyball-Technik. Der Israeli Arie Selinger führte die US-Frauen und die niederländischen Männer zu Olympiasilber. Julio Velasco trainierte sechs verschiedene Nationalmannschaften. Der erfolgreichste Trainer in Deutschland ist Stelian Moculescu, der die deutschen Männer zu den Olympischen Spielen führte und vor allem mit Friedrichshafen viele Titel gewann. Weitere einflussreiche Bundestrainer in Deutschland waren Lee Hee-wan, Andrzej Niemczyk und Siegfried Köhler.\\n\\n\\n== Nachwuchs ==\\nDer Nachwuchs wird im Volleyball in verschiedenen Altersklassen ausgebildet. Je nach Alter werden dabei die Anzahl der Spieler auf dem Feld, die Feldgröße und die Netzhöhe angepasst.\\nIn Deutschland kümmert sich die Deutsche Volleyball-Jugend (DVJ) als Unterabteilung des Deutschen Volleyball-Verbands um die jungen Spieler. Deutsche Meisterschaften, die jedes Jahr als Turniere an einem Wochenende durchgeführt werden, gibt es in den Altersklassen U14, U16, U18 und U20 jeweils für Jungen und Mädchen. Zudem treten Mannschaften der Landesverbände zum Bundespokal in verschiedenen Altersklassen an. Viele Vereine haben neben eigenen Nachwuchsmannschaften auch Kooperationen mit Schulen, bei denen Profis den Sportunterricht besuchen. Die besten Spieler treten für die deutschen Nachwuchsnationalmannschaften bei internationalen Wettbewerben an und gewannen in den vergangenen Jahren diverse Medaillen.\\nDie FIVB veranstaltet Weltmeisterschaften von der U18 bis zur U23.\\n\\nDie Europameisterschaften, die die CEV veranstaltet, reichen von der U16 bis zur U20.\\n\\n\\n== Untere Ligen und Freizeitsport ==\\n\\nAuch im Freizeitbereich ist Volleyball ein populärer Sport. Nach Angaben von 2006 sind weltweit rund 800 Millionen Volleyballspieler wöchentlich mindestens ein Mal aktiv.\\nIn Deutschland lösten die Olympischen Spiele 1972 im eigenen Land einen Volleyball-Boom aus. Durch die Fernsehübertragungen erreichte die Sportart erstmals ein großes Publikum. Bis Anfang 1973 erhöhte sich die Mitgliederzahl beim Deutschen Volleyball-Verband innerhalb von zwölf Monaten um 90 % auf rund 46.000 Mitglieder. Beim Westdeutschen Volleyball-Verband meldeten sich beispielsweise innerhalb von vier Monaten 300 neue Mannschaften an und in Hamburg stieg die Zahl der Vereine von 30 auf 50. Die Begeisterung führte auch zu Problemen, vor allem weil es in vielen Städten keine oder nur zu kleine Hallen gab. Der DVV-Vorstand dachte vorübergehend darüber nach, sich nur auf Volkssport zu konzentrieren und die Nationalmannschaft abzuschaffen.\\nDen Höhepunkt bei den Mitgliederzahlen hatte der DVV 1998 mit gut 535.000 Mitgliedern und fast 12.000 Mannschaften. In den folgenden Jahren gingen die Zahlen zurück. Anfang 2022 waren es nach Angaben des DOSB 392.122 Mitglieder, womit der DVV in der Rangliste der Spitzenverbände den 15. Platz belegte. Unterhalb der ersten und zweiten Bundesliga gibt es seit der Saison 2012/13 eine Dritte Liga mit den Bereichen Nord, West, Süd und Ost. Darunter folgen acht Regionalligen. Die weitere Ligastruktur wird von den Landesverbänden festgelegt und besteht beispielsweise im Westdeutschen-Volleyball-Verband aus der Oberliga, Verbandsliga, Landesliga und Bezirksliga. Hinzu kommen Wettbewerbe für den Nachwuchs (siehe oben). Außerhalb von Ligen und Vereinen wird Volleyball als Freizeitsport betrieben; im ganzen Land finden regelmäßig Turniere statt.\\nIn Österreich trug die Freie Österreichische Jugend, die Volleyball bei Besuchen in Osteuropa kennengelernt hatte, nach dem Zweiten Weltkrieg maßgeblich zur Popularität der Sportart bei. Unterhalb der Austrian Volley League gibt es in jedem Regionalverband eine Landesliga für Männer und Frauen sowie Nachwuchswettbewerbe. In der Schweiz hatte Swiss Volley in der Saison 2017/18 rund 44.000 lizenzierte Mitglieder und 480 Vereine. In den vergangenen Jahren verzeichnete der Verband einen Anstieg der Mitgliederzahlen. In den einzelnen Regionen werden unter dem Begriff Regionalliga Ligen der zweiten bis fünften Liga zusammengefasst.\\n\\n\\n== Medizinische Aspekte ==\\nVolleyball sorgt für eine hohe Belastung des Körpers, die Mediziner als anaerob alactacid beschreiben. Besonders verletzungsanfällig sind die Knöchel, die Knie, der untere Rücken, die Schultern und die Hände und Finger. Profispieler absolvieren im Training und Spiel mehrere hundert Sprünge pro Tag, was häufig zu Verletzungen am Knie und am Sprunggelenk führt. Die Füße sind zusätzlich gefährdet, wenn ein Spieler nach einem Sprung am Netz umknickt (manchmal mit einer Berührung am Fuß des Gegenspielers). Auch an der Schulter gibt es viele Verletzungen, da diese durch Bewegungen bei Aufschlägen und Angriffsschlägen intensiv belastet wird. Vor allem bei Mittelblockern kommt es außerdem zu Verletzungen an den Fingern, vor allem den Bändern, wenn diese durch die Ballkontakte beim Block überdehnt werden.\\n\\n\\n== Volleyball in den Medien ==\\nObwohl Volleyball weltweit gespielt wird, ist die öffentliche Wahrnehmung in den einzelnen Ländern sehr unterschiedlich ausgeprägt. In Deutschland gilt es als Randsportart, auch wenn die Präsenz in den Medien in den letzten Jahren deutlich gestiegen ist. In Polen erfreut sich diese Sportart hingegen einer großen Beliebtheit.\\nDer Wunsch nach größerem öffentlichen Interesse führte auch zu Anpassungen bei den Regeln der Sportart und Vorschriften für einzelne Wettbewerbe. Das von der FIVB 1999 eingeführte Rally-Point-System, nach dem jeder Ballwechsel einen Punkt bringt und ein Satz (im Normalfall) mit 25 Punkten gewonnen wird, sorgte dafür, dass die Länge eines Volleyballspiels begrenzt wurde und die Fernsehsender bei Übertragungen besser planen konnten. Für die Teilnahme an der Volleyball Champions League verpflichtete die CEV die Vereine vor einigen Jahren, ausführliche Berichte im Fernsehen vorzuweisen.\\n\\n\\n=== Deutschland ===\\nIn Deutschland wird Volleyball vor allem in Sportsendern und auf Streaming-Plattformen gezeigt. Seit der Saison 2023/2024 sind alle Spiele der 1. Liga der Männer, der Volleyball-Ligacup und der DVV-Pokal der Männer im Sportsender Dyn zu sehen. Die Spiele der 1. Liga der Frauen, alle Spiele ab dem Achtelfinale des DVV-Pokals der Frauen und der Volleyball Supercup der Frauen sind bei Sport1 und Dyn im Programm. Dyn hat hierfür eine Sublizenz von Sport1 erworben.\\nDavor wurden die Spiele der deutschen Bundesligen seit der Saison 2018/19 auf dem Portal Sporttotal.tv in Livestreams und on-demand gezeigt. Vorher gab es ein ähnliches Angebot auf dem Portal Sportdeutschland.tv, das vom Deutschen Olympischen Sportbund und ProSiebenSat.1 Media betrieben wird. Seit der Saison 2017/18 gab es zusätzlich Live-Übertragungen einzelner Spiele bei Sport1; der Sportsender präsentierte zunächst die Frauen-Bundesliga und mittlerweile auch Partien der Männer. Außerdem zeigt Sport1 Spiele des DVV-Pokals. Beim Pokalfinale gibt es zum Teil auch Übertragungen in den dritten Programmen. Spiele im Europapokal sind in Livestreams und on-demand auf dem Online-Portal Laola1.tv zu sehen. Seit der Saison 2018/19 überträgt Eurosport einzelne Champions-League-Spiele deutscher Mannschaften. Bei Länderspielen der deutschen Nationalmannschaften ist Sport1 seit der Volleyball-Europameisterschaft der Frauen 2013 aktiv und hat mittlerweile diverse Turniere der Frauen und Männer im Programm.\\nVor allem vor dem Engagement der Online-Plattformen und von Sport1 gab es häufig Kritik an der mangelnden Präsenz des Volleyballs in deutschen Medien. So wurden die öffentlich-rechtlichen Sender ARD und ZDF kritisiert, als sie die mit dem Gewinn der Bronzemedaille erfolgreiche Männernationalmannschaft bei der Weltmeisterschaft 2014 nur in kurzen Zusammenfassung zeigten.\\nDeutsche Verbände und Vereine suchen deshalb andere Wege, um das öffentliche Interesse am Volleyball zu erhöhen. Die Volleyball-Bundesliga reagierte 2014 mit einem Masterplan auf die Probleme. Die Maßnahmen sollten zur Verbesserung der Strukturen beitragen, die beispielsweise der erfolgreiche Trainer Stelian Moculescu als „Turnhallenmief“ beschrieb. Allerdings gab es auch Bedenken, weil kleinere Vereine dadurch belastet werden.\\nVereine erstellen in Eigenregie kurze Videos und Magazine, die sie auf ihrer Website oder YouTube veröffentlichen. Volleyball-Fans und Moderatoren nutzen das Internet, um auf ihre Sportart aufmerksam zu machen und eine größere mediale Präsenz zu erreichen. Bei Facebook gründete Daniel R. Schmidt, der sich als Hallensprecher für die Eventisierung interessiert, 2012 die Initiative Bringt Volleyball in die Medien. Mit Daniel Höhr moderierte er zunächst den Podcast Block und Spike und nun alleine den Nachfolger Baggern, Bienenstich etc. Höhr moderierte seit Oktober 2018 bei Sport1 mit Katharina Hosser das Online-Format Volley Talk. Jedoch werden keine der Formate noch fortgeführt. Ein weiterer Podcast heißt Ohne Netz und sandigen Boden und wird u. a. von den Beachvolleyball-Profis Alexander Walkenhorst und Daniel Wernitz moderiert. Der Nachfolger heißt SCAM (für Sports Content and more) und wird mit Dirk Funk anstatt Daniel Wernitz moderiert. Der Podcast Volleyball Insider von Eduard Penner hat regelmäßig Menschen aus der Volleyball-Branche zu Gast.\\nDas monatlich erscheinende Volleyball-Magazin (1977 bis 2002 Deutsche Volleyball-Zeitschrift) ist mit einer Auflage von rund 4.000 Exemplaren das am weitesten verbreitete Printmedium für Volleyball und Beachvolleyball in Deutschland. Es bietet neben aktuellen Berichten und Reportagen auch Informationen zum Training.\\nDie japanische Anime-Serie Mila Superstar, bei der eine junge Volleyballspielerin im Mittelpunkt steht, sorgte in den 1990er Jahren für ein steigendes Interesse am Volleyball in Deutschland, insbesondere bei Mädchen im Alter zwischen sieben und elf Jahren. Seit 2014 verzeichnet die Anime-Serie Haikyu!! mit dem Hauptdarsteller Shōyō Hinata in Deutschland sowie weltweit zahlreiche Fans. Für Aufmerksamkeit in den Medien sorgte auch Burkhard Sude, der 1982 in der Fernsehshow Wetten, dass..? alleine gegen eine Verbandsliga-Mannschaft siegte.\\n\\n\\n=== Andere Länder ===\\nIn Österreich und in der Schweiz wird Volleyball als Randsportart behandelt. Übertragungen von Länderspielen oder Endspiele in Vereinswettbewerbe sind in Spartenkanälen wie ORF SPORT + oder in Online-Streams der SRG SSR zu sehen.\\nIn Polen wird Volleyball ausführlich im Fernsehen gezeigt. Polsat überträgt sowohl Spiele der Nationalmannschaften als auch Partien der nationalen Liga mit großem technischem Aufwand. Der Sender hat seit dem Jahr 2000 nach eigenen Angaben mehr als eine Milliarde Złoty (rund 235 Millionen €) in Sport investiert und bezeichnet Volleyball dabei als seine wichtigste Sportart.\\nAuch in den brasilianischen Medien wird verstärkt über Volleyball berichtet. Einer Studie von 2011 zufolge, ist Volleyball nach Fußball und Tennis die Sportart mit der dritthöchsten Medienpräsenz.\\n\\n\\n== Fans ==\\n\\nDie Vereine der deutschen Volleyball-Bundesliga werden von Fans unterstützt, die zum großen Teil in Fanclubs organisiert sind. Die Fans verschiedener Vereine arbeiten auch zusammen, wenn sie beispielsweise beim DVV-Pokalfinale gemeinsam ihre Vereine unterstützen. Im Sommer veranstalten die Fanclubs auch ihre eigene Meisterschaft in Form eines Beachvolleyballturniers. Der DVV gründete 2013 einen Fanclub für die deutschen Nationalmannschaften, der unter anderem Reisen zu großen Turnieren anbietet.\\nIn anderen Ländern ist die Fankultur sehr unterschiedlich. In Polen, wo Volleyball sich zu einer der führenden Sportarten entwickelt hat, gibt es viele enthusiastische Fans. Das war beispielsweise bei der WM 2014 zu sehen, deren Eröffnungsspiel vor 62.000 Zuschauern stattfand. In Griechenland gibt es hingegen Fans bestimmter Vereine, die unabhängig von der Sportart auftreten und durch teils gewalttätige Ausschreitungen auffallen.\\n\\n\\n== Varianten ==\\nBeachvolleyball ist eine ebenfalls olympische Variante, die in der Regel unter freiem Himmel auf Sand gespielt wird. Die Regeln entsprechen weitgehend denen des Hallenvolleyballs. Jedoch stehen nur zwei Spieler pro Team auf dem etwas kleineren Feld und es gibt zwei Gewinnsätze. Viele Spieler sind im Winter in der Halle und im Sommer beim Beachvolleyball aktiv. Der US-Amerikaner Karch Kiraly wurde beispielsweise Olympiasieger in beiden Disziplinen.\\nSnowvolleyball wird ähnlich wie Beachvolleyball, aber auf Schnee und mit drei Spielern pro Mannschaft gespielt. Die FIVB strebt eine Aufnahme ins Programm der Olympischen Winterspiele an.\\nSitzvolleyball wird vor allem von Menschen mit Behinderung gespielt. Dabei sitzen die Sportler auf dem Spielfeld. Die Variante gehört zu den paralympischen Disziplinen. Eine andere Variante für Menschen mit Behinderung ist Standvolleyball.\\nWeitere Volleyball-Varianten und ähnliche Sportarten sind Faustball, bei dem der Ball mit einem Arm gespielt wird, Park Volley (mit vereinfachten Regeln), Volleyclub (mit Keulen), Wasservolleyball (Spielfeld im Wasser) und Indiaca (mit einer Art Federball).\\nCachibol basiert auf den Volleyball-Regeln und nutzt ein gleich großes Feld. Der Ball wird allerdings mit zwei Händen gefangen und muss innerhalb einer Sekunde weitergeworfen werden. Ähnlich ist Hooverball, es wird mit einem Medizinball gespielt.\\nEcuavóley wird in Ecuador gespielt.\\nBeim Teqvoly wird Volleyball mit Tischtennis kombiniert. Diese Variante entstand in Ungarn, wo 2019 auch die erste Weltmeisterschaft ausgetragen wurde.\\nRoundnet ähnelt dem Beachvolleyball, jedoch ist das Netz horizontal und der Ball muss dieses treffen.\\n\\n\\n== Literatur ==\\nFédération Internationale de Volleyball (Hrsg.): 100 Years of Global Link. Publieditor, Mailand 1996, keine ISBN.\\nJimmy Czimek, Deutscher Volleyball-Verband (Hrsg.): Volleyball – Training & Coaching: vom Jugend- zum Leistungsvolleyballer. Meyer & Meyer, Aachen 2017, ISBN 978-3-8403-7537-8.\\nAthanasios Papageorgiou, Willy Spitzley: Handbuch für Volleyball. Meyer & Meyer, Aachen 2015, ISBN 978-3-89899-622-8.\\nBonnie Kenny, Cindy Gregory: Volleyball: Steps to success. Human Kinetics, Champaign 2006, ISBN 978-0-7360-6337-1.\\nVolleyball-Magazin. Philippka-Sportverlag, Münster, ISSN 1610-336X.\\n\\n\\n== Weblinks ==\\n\\n\\n=== Verbände ===\\nFédération Internationale de Volleyball (FIVB) – Welt (englisch)\\nConfédération Européenne de Volleyball (CEV) – Europa (englisch)\\nConfédération Africaine de Volleyball (CAVB) – Afrika (englisch)\\nAsian Volleyball Confederation (AVC) – Asien (englisch)\\nNorth, Central America and Caribbean Volleyball Confederation (NORCECA) – Nord- und Mittelamerika, Karibik (englisch)\\nConfederación Sudamericana de Voleibol (CSV) – Südamerika (spanisch)\\nDeutscher Volleyball-Verband (DVV)\\nÖsterreichischer Volleyballverband (ÖVV)\\nSchweizer Volleyballverband (Swiss Volley)\\n\\n\\n=== Regeln ===\\nOffizielle Regeln der FIVB 2021–2024 (englisch)\\nInternationaler Spielberichtsbogen, inklusive Anleitung zum Ausfüllen (englisch; PDF, 913 KiB)\\n\\n\\n=== Weitere Informationen ===\\nVolleyball-Magazin\\nvolleyballer.de\\nVolleyball-Bundesliga (VBL)\\nVolleyball Hall of Fame (englisch)\\nVolleyball im Schulsport – Portal des Westdeutschen Volleyball-Verbands\\n\\n\\n=== Livestreams und Videos ===\\nSporttotal.tv\\nSportdeutschland.tv\\nLaola1.tv\\n\\n\\n== Einzelnachweise =='"
      ]
     },
     "execution_count": 259,
     "metadata": {},
     "output_type": "execute_result"
    }
   ],
   "source": [
    "wikipedia.page(\"FIVB Volleyball Women World Cup\").content"
   ]
  },
  {
   "cell_type": "code",
   "execution_count": 264,
   "id": "1cdacd55",
   "metadata": {},
   "outputs": [
    {
     "data": {
      "text/plain": [
       "'https://de.wikipedia.org/wiki/Volleyball'"
      ]
     },
     "execution_count": 264,
     "metadata": {},
     "output_type": "execute_result"
    }
   ],
   "source": [
    "wikipedia.page(\"FIVB Volleyball Women World Cup\").url"
   ]
  },
  {
   "cell_type": "code",
   "execution_count": 266,
   "id": "46b4cdf6",
   "metadata": {},
   "outputs": [
    {
     "data": {
      "text/plain": [
       "'Volleyball () ist eine olympische Mannschaftssportart aus der Gruppe der Rückschlagspiele. Zwei Mannschaften mit jeweils sechs Spielern stehen sich dabei auf einem Spielfeld gegenüber, das durch ein Netz geteilt ist. Ziel des Spiels ist es, einen Ball so über das Netz zu schlagen, dass der Ball den Boden der gegnerischen Spielfeldhälfte berührt oder die gegnerische Mannschaft einen Fehler begeht. Eine Mannschaft darf den Ball dreimal in Folge berühren, um ihn zurückzuspielen. Ein etwaiger Block zählt dabei nicht mit. Der Ball wird volley gespielt (daher kommt der Name der Sportart) und darf mit jedem Körperteil berührt werden, jedoch werden in der Praxis fast ausschließlich die Hände oder Arme verwendet.\\nVolleyball entstand Ende des 19. Jahrhunderts in den Vereinigten Staaten. Die Sportart wird mittlerweile weltweit betrieben. Der Weltverband FIVB umfasst 222 nationale Verbände und somit mehr Mitglieder als die FIFA oder die Vereinten Nationen. Seit Mitte des 20. Jahrhunderts werden Weltmeisterschaften und olympische Turniere ausgetragen. Weitere hochklassige Wettbewerbe sind die jährlich ausgetragene Volleyball Nations League und der Volleyball World Cup. Hinzu kommen die kontinentalen Turniere (beispielsweise die Europameisterschaft), die Europapokal-Wettbewerbe für Vereinsmannschaften sowie nationale Meisterschaften und Pokalwettbewerbe.\\nIn den frühen Jahrzehnten (Mitte des 20. Jahrhunderts) dominierten in Wettbewerben vor allem die National- und Vereinsmannschaften der Sowjetunion, Nationalteams der Tschechoslowakei (Männer) und Japan (Frauen) und Vereinsmannschaften aus Rumänien. Ende des 20. Jahrhunderts kamen die Vereinigten Staaten, Brasilien und Italien als führende Nationen hinzu. Bei den Männern ist außerdem Polen erfolgreich und bei den Frauen haben China und Kuba mehrere Titel gewonnen.\\nTrotz der weltweiten Verbreitung wird Volleyball in einzelnen Ländern unterschiedlich wahrgenommen. Während es im deutschsprachigen Raum eher eine Randsportart ist, werden die Spiele in Polen intensiv in den Medien übertragen. Es gibt mehrere Sportarten und Varianten, die sich aus dem Volleyball entwickelt haben. Die bekannteste Variante ist das ebenfalls olympische Beachvolleyball.'"
      ]
     },
     "execution_count": 266,
     "metadata": {},
     "output_type": "execute_result"
    }
   ],
   "source": [
    "wikipedia.set_lang('de')\n",
    "wikipedia.summary(\"FIVB Volleyball Women World Cup\")"
   ]
  },
  {
   "cell_type": "markdown",
   "id": "30db374c",
   "metadata": {},
   "source": [
    "## Extract tabular data from wikipedia into a Pandas dataframe"
   ]
  },
  {
   "cell_type": "code",
   "execution_count": 270,
   "id": "fe4d27b0",
   "metadata": {},
   "outputs": [],
   "source": [
    "# First, import the pandas package\n",
    "import pandas as pd"
   ]
  },
  {
   "cell_type": "code",
   "execution_count": 272,
   "id": "fc84bb61",
   "metadata": {},
   "outputs": [
    {
     "name": "stdout",
     "output_type": "stream",
     "text": [
      "Requirement already satisfied: lxml in d:\\conda\\lib\\site-packages (5.2.1)\n"
     ]
    }
   ],
   "source": [
    "# You may need to pip install lxml package\n",
    "!pip install lxml"
   ]
  },
  {
   "cell_type": "code",
   "execution_count": 273,
   "id": "bbfc4d88",
   "metadata": {},
   "outputs": [],
   "source": [
    "# Import the lxml package\n",
    "import lxml"
   ]
  },
  {
   "cell_type": "code",
   "execution_count": 274,
   "id": "9ec891ca",
   "metadata": {},
   "outputs": [],
   "source": [
    "# Extract tabular data from wikipedia into a Pandas dataframe.\n",
    "# We will use pandas.read_html\n",
    "\n",
    "tables = pd.read_html(\"https://en.wikipedia.org/wiki/FIVB_Volleyball_Women%27s_World_Cup#Results_summary\",\n",
    "                     match='Champions')"
   ]
  },
  {
   "cell_type": "code",
   "execution_count": 275,
   "id": "93a0c25d",
   "metadata": {
    "scrolled": true
   },
   "outputs": [
    {
     "data": {
      "text/plain": [
       "[            Year     Host    Unnamed: 2      Champions     Runners-up  \\\n",
       " 0            NaN      NaN           NaN            NaN            NaN   \n",
       " 1            NaN      NaN           NaN            NaN            NaN   \n",
       " 2            NaN      NaN           NaN            NaN            NaN   \n",
       " 3            NaN      NaN           NaN            NaN            NaN   \n",
       " 4            NaN      NaN           NaN            NaN            NaN   \n",
       " 5            NaN      NaN           NaN            NaN            NaN   \n",
       " 6            NaN      NaN           NaN            NaN            NaN   \n",
       " 7            NaN      NaN           NaN            NaN            NaN   \n",
       " 8            NaN      NaN           NaN            NaN            NaN   \n",
       " 9            NaN      NaN           NaN            NaN            NaN   \n",
       " 10           NaN      NaN           NaN            NaN            NaN   \n",
       " 11           NaN      NaN           NaN            NaN            NaN   \n",
       " 12           NaN      NaN           NaN            NaN            NaN   \n",
       " 13           NaN      NaN           NaN            NaN            NaN   \n",
       " 14  1973 Details  Uruguay  Soviet Union          Japan    South Korea   \n",
       " 15  1977 Details    Japan         Japan           Cuba    South Korea   \n",
       " 16  1981 Details    Japan         China          Japan   Soviet Union   \n",
       " 17  1985 Details    Japan         China           Cuba   Soviet Union   \n",
       " 18  1989 Details    Japan          Cuba   Soviet Union          China   \n",
       " 19  1991 Details    Japan          Cuba          China   Soviet Union   \n",
       " 20  1995 Details    Japan          Cuba         Brazil          China   \n",
       " 21  1999 Details    Japan          Cuba         Russia         Brazil   \n",
       " 22  2003 Details    Japan         China         Brazil  United States   \n",
       " 23  2007 Details    Japan         Italy         Brazil  United States   \n",
       " 24  2011 Details    Japan         Italy  United States          China   \n",
       " 25  2015 Details    Japan         China         Serbia  United States   \n",
       " 26  2019 Details    Japan         China  United States         Russia   \n",
       " \n",
       "         3rd place  4th place  Unnamed: 7  Teams  \n",
       " 0             NaN        NaN         NaN    NaN  \n",
       " 1             NaN        NaN         NaN    NaN  \n",
       " 2             NaN        NaN         NaN    NaN  \n",
       " 3             NaN        NaN         NaN    NaN  \n",
       " 4             NaN        NaN         NaN    NaN  \n",
       " 5             NaN        NaN         NaN    NaN  \n",
       " 6             NaN        NaN         NaN    NaN  \n",
       " 7             NaN        NaN         NaN    NaN  \n",
       " 8             NaN        NaN         NaN    NaN  \n",
       " 9             NaN        NaN         NaN    NaN  \n",
       " 10            NaN        NaN         NaN    NaN  \n",
       " 11            NaN        NaN         NaN    NaN  \n",
       " 12            NaN        NaN         NaN    NaN  \n",
       " 13            NaN        NaN         NaN    NaN  \n",
       " 14           Peru       10.0         NaN    NaN  \n",
       " 15          China        8.0         NaN    NaN  \n",
       " 16  United States        8.0         NaN    NaN  \n",
       " 17          Japan        8.0         NaN    NaN  \n",
       " 18          Japan        8.0         NaN    NaN  \n",
       " 19  United States       12.0         NaN    NaN  \n",
       " 20        Croatia       12.0         NaN    NaN  \n",
       " 21    South Korea       12.0         NaN    NaN  \n",
       " 22          Italy       12.0         NaN    NaN  \n",
       " 23           Cuba       12.0         NaN    NaN  \n",
       " 24          Japan       12.0         NaN    NaN  \n",
       " 25         Russia       12.0         NaN    NaN  \n",
       " 26         Brazil       12.0         NaN    NaN  ,\n",
       "    vteInternational Federation of Volleyball (FIVB) competitions  \\\n",
       " 0                                      National teams              \n",
       " 1                                       Championships              \n",
       " 2                                                Cups              \n",
       " 3                                             Leagues              \n",
       " 4                                Youth national teams              \n",
       " 5                                       Championships              \n",
       " 6                                   Club competitions              \n",
       " 7                                       Championships              \n",
       " 8                                    Beach volleyball              \n",
       " 9                                       Championships              \n",
       " 10                                        World Tours              \n",
       " 11                                       Discontinued              \n",
       " 12                                      Championships              \n",
       " 13                                               Cups              \n",
       " 14                                            Leagues              \n",
       " \n",
       "    vteInternational Federation of Volleyball (FIVB) competitions.1  \n",
       " 0   Championships World championships Men's Women'...               \n",
       " 1                   World championships Men's Women's               \n",
       " 2                            World Cups Men's Women's               \n",
       " 3                       Nations Leagues Men's Women's               \n",
       " 4   Championships World championships Men's U21 Wo...               \n",
       " 5   World championships Men's U21 Women's U21 Boys...               \n",
       " 6   Championships World Club Championships Men's W...               \n",
       " 7              World Club Championships Men's Women's               \n",
       " 8   Championships World Championships Men's Women'...               \n",
       " 9                   World Championships Men's Women's               \n",
       " 10                     World Beach Tour Men's Women's               \n",
       " 11  Championships World Championships Men's U23 Wo...               \n",
       " 12          World Championships Men's U23 Women's U23               \n",
       " 13           World Grand Champions Cups Men's Women's               \n",
       " 14  World League World Grand Prix World Challenger...               ,\n",
       "                0                                  1\n",
       " 0  Championships  World championships Men's Women's\n",
       " 1           Cups           World Cups Men's Women's\n",
       " 2        Leagues      Nations Leagues Men's Women's,\n",
       "                0                                                  1\n",
       " 0  Championships  World championships Men's U21 Women's U21 Boys...,\n",
       "                0                                       1\n",
       " 0  Championships  World Club Championships Men's Women's,\n",
       "                0                                  1\n",
       " 0  Championships  World Championships Men's Women's\n",
       " 1    World Tours     World Beach Tour Men's Women's,\n",
       "                0                                                  1\n",
       " 0  Championships          World Championships Men's U23 Women's U23\n",
       " 1           Cups           World Grand Champions Cups Men's Women's\n",
       " 2        Leagues  World League World Grand Prix World Challenger...,\n",
       "                  vteInternational women's volleyball  \\\n",
       " 0  FIVB World Ranking Summer Olympic Games FIVB W...   \n",
       " 1                                             Africa   \n",
       " 2                                     Asia & Oceania   \n",
       " 3                                             Europe   \n",
       " 4                                      North America   \n",
       " 5                                    Central America   \n",
       " 6                                      South America   \n",
       " 7                                 Multi-sport events   \n",
       " 8                                       Discontinued   \n",
       " \n",
       "                vteInternational women's volleyball.1  \n",
       " 0  FIVB World Ranking Summer Olympic Games FIVB W...  \n",
       " 1            CAVB African Championship African Games  \n",
       " 2  AVC Asian Championship Asian Cup Asian Challen...  \n",
       " 3  CEV European Championship European League Smal...  \n",
       " 4  NORCECA NORCECA Championship Pan American Cup ...  \n",
       " 5  AFECAVOL Central American Championship Central...  \n",
       " 6  CSV South American Championship Pan American C...  \n",
       " 7  Arab Games Bolivarian Games Lusophone Games Me...  \n",
       " 8  FIVB World Grand Prix FIVB World Grand Champio...  ,\n",
       "                           vteInternational volleyball  \\\n",
       " 0   FIVB World Rankings Achievements by nation Rec...   \n",
       " 1                                           Worldwide   \n",
       " 2                                      Junior / Youth   \n",
       " 3                                  Multi-sport events   \n",
       " 4                                         Continental   \n",
       " 5                                       Africa (CAVB)   \n",
       " 6                              Asia and Oceania (AVC)   \n",
       " 7                                        Europe (CEV)   \n",
       " 8                                            Americas   \n",
       " 9                                          Top events   \n",
       " 10                            North America (NORCECA)   \n",
       " 11                         Central America (AFECAVOL)   \n",
       " 12                                South America (CSV)   \n",
       " \n",
       "                         vteInternational volleyball.1  \n",
       " 0   FIVB World Rankings Achievements by nation Rec...  \n",
       " 1   Olympic Games World Championships men women Na...  \n",
       " 2   Youth Olympic Games World Championships men U2...  \n",
       " 3   Arab Games Bolivarian Games Goodwill Games Isl...  \n",
       " 4   Africa (CAVB) African Championship men women m...  \n",
       " 5   African Championship men women men U23 women U...  \n",
       " 6   Asian Championship men women men U23 (defunct)...  \n",
       " 7   European Championship men women men U22 women ...  \n",
       " 8   Top events Pan American Games Pan-American Cup...  \n",
       " 9   Pan American Games Pan-American Cup men women ...  \n",
       " 10  NORCECA Championship men women men U21 women U...  \n",
       " 11  Central American Championship men women Centra...  \n",
       " 12  South American Championship men women men U23 ...  ,\n",
       "                             0  \\\n",
       " 0               Africa (CAVB)   \n",
       " 1      Asia and Oceania (AVC)   \n",
       " 2                Europe (CEV)   \n",
       " 3                    Americas   \n",
       " 4                  Top events   \n",
       " 5     North America (NORCECA)   \n",
       " 6  Central America (AFECAVOL)   \n",
       " 7         South America (CSV)   \n",
       " \n",
       "                                                    1  \n",
       " 0  African Championship men women men U23 women U...  \n",
       " 1  Asian Championship men women men U23 (defunct)...  \n",
       " 2  European Championship men women men U22 women ...  \n",
       " 3  Top events Pan American Games Pan-American Cup...  \n",
       " 4  Pan American Games Pan-American Cup men women ...  \n",
       " 5  NORCECA Championship men women men U21 women U...  \n",
       " 6  Central American Championship men women Centra...  \n",
       " 7  South American Championship men women men U23 ...  ,\n",
       "                             0  \\\n",
       " 0                  Top events   \n",
       " 1     North America (NORCECA)   \n",
       " 2  Central America (AFECAVOL)   \n",
       " 3         South America (CSV)   \n",
       " \n",
       "                                                    1  \n",
       " 0  Pan American Games Pan-American Cup men women ...  \n",
       " 1  NORCECA Championship men women men U21 women U...  \n",
       " 2  Central American Championship men women Centra...  \n",
       " 3  South American Championship men women men U23 ...  ]"
      ]
     },
     "execution_count": 275,
     "metadata": {},
     "output_type": "execute_result"
    }
   ],
   "source": [
    "# Show the tables variable\n",
    "tables"
   ]
  },
  {
   "cell_type": "code",
   "execution_count": 280,
   "id": "22ca6cc6-f388-4f80-8371-28c4c80fb674",
   "metadata": {},
   "outputs": [
    {
     "data": {
      "text/plain": [
       "11"
      ]
     },
     "execution_count": 280,
     "metadata": {},
     "output_type": "execute_result"
    }
   ],
   "source": [
    "# How big is tables?\n",
    "len(tables)"
   ]
  },
  {
   "cell_type": "code",
   "execution_count": 282,
   "id": "043c3f87",
   "metadata": {},
   "outputs": [],
   "source": [
    "# Let's get only the first result \n",
    "results_df = tables[0]"
   ]
  },
  {
   "cell_type": "code",
   "execution_count": 284,
   "id": "ad58e50b-4051-4d49-ab10-321ef64e99c8",
   "metadata": {},
   "outputs": [
    {
     "data": {
      "text/html": [
       "<div>\n",
       "<style scoped>\n",
       "    .dataframe tbody tr th:only-of-type {\n",
       "        vertical-align: middle;\n",
       "    }\n",
       "\n",
       "    .dataframe tbody tr th {\n",
       "        vertical-align: top;\n",
       "    }\n",
       "\n",
       "    .dataframe thead th {\n",
       "        text-align: right;\n",
       "    }\n",
       "</style>\n",
       "<table border=\"1\" class=\"dataframe\">\n",
       "  <thead>\n",
       "    <tr style=\"text-align: right;\">\n",
       "      <th></th>\n",
       "      <th>Year</th>\n",
       "      <th>Host</th>\n",
       "      <th>Unnamed: 2</th>\n",
       "      <th>Champions</th>\n",
       "      <th>Runners-up</th>\n",
       "      <th>3rd place</th>\n",
       "      <th>4th place</th>\n",
       "      <th>Unnamed: 7</th>\n",
       "      <th>Teams</th>\n",
       "    </tr>\n",
       "  </thead>\n",
       "  <tbody>\n",
       "    <tr>\n",
       "      <th>0</th>\n",
       "      <td>NaN</td>\n",
       "      <td>NaN</td>\n",
       "      <td>NaN</td>\n",
       "      <td>NaN</td>\n",
       "      <td>NaN</td>\n",
       "      <td>NaN</td>\n",
       "      <td>NaN</td>\n",
       "      <td>NaN</td>\n",
       "      <td>NaN</td>\n",
       "    </tr>\n",
       "    <tr>\n",
       "      <th>1</th>\n",
       "      <td>NaN</td>\n",
       "      <td>NaN</td>\n",
       "      <td>NaN</td>\n",
       "      <td>NaN</td>\n",
       "      <td>NaN</td>\n",
       "      <td>NaN</td>\n",
       "      <td>NaN</td>\n",
       "      <td>NaN</td>\n",
       "      <td>NaN</td>\n",
       "    </tr>\n",
       "    <tr>\n",
       "      <th>2</th>\n",
       "      <td>NaN</td>\n",
       "      <td>NaN</td>\n",
       "      <td>NaN</td>\n",
       "      <td>NaN</td>\n",
       "      <td>NaN</td>\n",
       "      <td>NaN</td>\n",
       "      <td>NaN</td>\n",
       "      <td>NaN</td>\n",
       "      <td>NaN</td>\n",
       "    </tr>\n",
       "    <tr>\n",
       "      <th>3</th>\n",
       "      <td>NaN</td>\n",
       "      <td>NaN</td>\n",
       "      <td>NaN</td>\n",
       "      <td>NaN</td>\n",
       "      <td>NaN</td>\n",
       "      <td>NaN</td>\n",
       "      <td>NaN</td>\n",
       "      <td>NaN</td>\n",
       "      <td>NaN</td>\n",
       "    </tr>\n",
       "    <tr>\n",
       "      <th>4</th>\n",
       "      <td>NaN</td>\n",
       "      <td>NaN</td>\n",
       "      <td>NaN</td>\n",
       "      <td>NaN</td>\n",
       "      <td>NaN</td>\n",
       "      <td>NaN</td>\n",
       "      <td>NaN</td>\n",
       "      <td>NaN</td>\n",
       "      <td>NaN</td>\n",
       "    </tr>\n",
       "    <tr>\n",
       "      <th>5</th>\n",
       "      <td>NaN</td>\n",
       "      <td>NaN</td>\n",
       "      <td>NaN</td>\n",
       "      <td>NaN</td>\n",
       "      <td>NaN</td>\n",
       "      <td>NaN</td>\n",
       "      <td>NaN</td>\n",
       "      <td>NaN</td>\n",
       "      <td>NaN</td>\n",
       "    </tr>\n",
       "    <tr>\n",
       "      <th>6</th>\n",
       "      <td>NaN</td>\n",
       "      <td>NaN</td>\n",
       "      <td>NaN</td>\n",
       "      <td>NaN</td>\n",
       "      <td>NaN</td>\n",
       "      <td>NaN</td>\n",
       "      <td>NaN</td>\n",
       "      <td>NaN</td>\n",
       "      <td>NaN</td>\n",
       "    </tr>\n",
       "    <tr>\n",
       "      <th>7</th>\n",
       "      <td>NaN</td>\n",
       "      <td>NaN</td>\n",
       "      <td>NaN</td>\n",
       "      <td>NaN</td>\n",
       "      <td>NaN</td>\n",
       "      <td>NaN</td>\n",
       "      <td>NaN</td>\n",
       "      <td>NaN</td>\n",
       "      <td>NaN</td>\n",
       "    </tr>\n",
       "    <tr>\n",
       "      <th>8</th>\n",
       "      <td>NaN</td>\n",
       "      <td>NaN</td>\n",
       "      <td>NaN</td>\n",
       "      <td>NaN</td>\n",
       "      <td>NaN</td>\n",
       "      <td>NaN</td>\n",
       "      <td>NaN</td>\n",
       "      <td>NaN</td>\n",
       "      <td>NaN</td>\n",
       "    </tr>\n",
       "    <tr>\n",
       "      <th>9</th>\n",
       "      <td>NaN</td>\n",
       "      <td>NaN</td>\n",
       "      <td>NaN</td>\n",
       "      <td>NaN</td>\n",
       "      <td>NaN</td>\n",
       "      <td>NaN</td>\n",
       "      <td>NaN</td>\n",
       "      <td>NaN</td>\n",
       "      <td>NaN</td>\n",
       "    </tr>\n",
       "    <tr>\n",
       "      <th>10</th>\n",
       "      <td>NaN</td>\n",
       "      <td>NaN</td>\n",
       "      <td>NaN</td>\n",
       "      <td>NaN</td>\n",
       "      <td>NaN</td>\n",
       "      <td>NaN</td>\n",
       "      <td>NaN</td>\n",
       "      <td>NaN</td>\n",
       "      <td>NaN</td>\n",
       "    </tr>\n",
       "    <tr>\n",
       "      <th>11</th>\n",
       "      <td>NaN</td>\n",
       "      <td>NaN</td>\n",
       "      <td>NaN</td>\n",
       "      <td>NaN</td>\n",
       "      <td>NaN</td>\n",
       "      <td>NaN</td>\n",
       "      <td>NaN</td>\n",
       "      <td>NaN</td>\n",
       "      <td>NaN</td>\n",
       "    </tr>\n",
       "    <tr>\n",
       "      <th>12</th>\n",
       "      <td>NaN</td>\n",
       "      <td>NaN</td>\n",
       "      <td>NaN</td>\n",
       "      <td>NaN</td>\n",
       "      <td>NaN</td>\n",
       "      <td>NaN</td>\n",
       "      <td>NaN</td>\n",
       "      <td>NaN</td>\n",
       "      <td>NaN</td>\n",
       "    </tr>\n",
       "    <tr>\n",
       "      <th>13</th>\n",
       "      <td>NaN</td>\n",
       "      <td>NaN</td>\n",
       "      <td>NaN</td>\n",
       "      <td>NaN</td>\n",
       "      <td>NaN</td>\n",
       "      <td>NaN</td>\n",
       "      <td>NaN</td>\n",
       "      <td>NaN</td>\n",
       "      <td>NaN</td>\n",
       "    </tr>\n",
       "    <tr>\n",
       "      <th>14</th>\n",
       "      <td>1973 Details</td>\n",
       "      <td>Uruguay</td>\n",
       "      <td>Soviet Union</td>\n",
       "      <td>Japan</td>\n",
       "      <td>South Korea</td>\n",
       "      <td>Peru</td>\n",
       "      <td>10.0</td>\n",
       "      <td>NaN</td>\n",
       "      <td>NaN</td>\n",
       "    </tr>\n",
       "    <tr>\n",
       "      <th>15</th>\n",
       "      <td>1977 Details</td>\n",
       "      <td>Japan</td>\n",
       "      <td>Japan</td>\n",
       "      <td>Cuba</td>\n",
       "      <td>South Korea</td>\n",
       "      <td>China</td>\n",
       "      <td>8.0</td>\n",
       "      <td>NaN</td>\n",
       "      <td>NaN</td>\n",
       "    </tr>\n",
       "    <tr>\n",
       "      <th>16</th>\n",
       "      <td>1981 Details</td>\n",
       "      <td>Japan</td>\n",
       "      <td>China</td>\n",
       "      <td>Japan</td>\n",
       "      <td>Soviet Union</td>\n",
       "      <td>United States</td>\n",
       "      <td>8.0</td>\n",
       "      <td>NaN</td>\n",
       "      <td>NaN</td>\n",
       "    </tr>\n",
       "    <tr>\n",
       "      <th>17</th>\n",
       "      <td>1985 Details</td>\n",
       "      <td>Japan</td>\n",
       "      <td>China</td>\n",
       "      <td>Cuba</td>\n",
       "      <td>Soviet Union</td>\n",
       "      <td>Japan</td>\n",
       "      <td>8.0</td>\n",
       "      <td>NaN</td>\n",
       "      <td>NaN</td>\n",
       "    </tr>\n",
       "    <tr>\n",
       "      <th>18</th>\n",
       "      <td>1989 Details</td>\n",
       "      <td>Japan</td>\n",
       "      <td>Cuba</td>\n",
       "      <td>Soviet Union</td>\n",
       "      <td>China</td>\n",
       "      <td>Japan</td>\n",
       "      <td>8.0</td>\n",
       "      <td>NaN</td>\n",
       "      <td>NaN</td>\n",
       "    </tr>\n",
       "    <tr>\n",
       "      <th>19</th>\n",
       "      <td>1991 Details</td>\n",
       "      <td>Japan</td>\n",
       "      <td>Cuba</td>\n",
       "      <td>China</td>\n",
       "      <td>Soviet Union</td>\n",
       "      <td>United States</td>\n",
       "      <td>12.0</td>\n",
       "      <td>NaN</td>\n",
       "      <td>NaN</td>\n",
       "    </tr>\n",
       "    <tr>\n",
       "      <th>20</th>\n",
       "      <td>1995 Details</td>\n",
       "      <td>Japan</td>\n",
       "      <td>Cuba</td>\n",
       "      <td>Brazil</td>\n",
       "      <td>China</td>\n",
       "      <td>Croatia</td>\n",
       "      <td>12.0</td>\n",
       "      <td>NaN</td>\n",
       "      <td>NaN</td>\n",
       "    </tr>\n",
       "    <tr>\n",
       "      <th>21</th>\n",
       "      <td>1999 Details</td>\n",
       "      <td>Japan</td>\n",
       "      <td>Cuba</td>\n",
       "      <td>Russia</td>\n",
       "      <td>Brazil</td>\n",
       "      <td>South Korea</td>\n",
       "      <td>12.0</td>\n",
       "      <td>NaN</td>\n",
       "      <td>NaN</td>\n",
       "    </tr>\n",
       "    <tr>\n",
       "      <th>22</th>\n",
       "      <td>2003 Details</td>\n",
       "      <td>Japan</td>\n",
       "      <td>China</td>\n",
       "      <td>Brazil</td>\n",
       "      <td>United States</td>\n",
       "      <td>Italy</td>\n",
       "      <td>12.0</td>\n",
       "      <td>NaN</td>\n",
       "      <td>NaN</td>\n",
       "    </tr>\n",
       "    <tr>\n",
       "      <th>23</th>\n",
       "      <td>2007 Details</td>\n",
       "      <td>Japan</td>\n",
       "      <td>Italy</td>\n",
       "      <td>Brazil</td>\n",
       "      <td>United States</td>\n",
       "      <td>Cuba</td>\n",
       "      <td>12.0</td>\n",
       "      <td>NaN</td>\n",
       "      <td>NaN</td>\n",
       "    </tr>\n",
       "    <tr>\n",
       "      <th>24</th>\n",
       "      <td>2011 Details</td>\n",
       "      <td>Japan</td>\n",
       "      <td>Italy</td>\n",
       "      <td>United States</td>\n",
       "      <td>China</td>\n",
       "      <td>Japan</td>\n",
       "      <td>12.0</td>\n",
       "      <td>NaN</td>\n",
       "      <td>NaN</td>\n",
       "    </tr>\n",
       "    <tr>\n",
       "      <th>25</th>\n",
       "      <td>2015 Details</td>\n",
       "      <td>Japan</td>\n",
       "      <td>China</td>\n",
       "      <td>Serbia</td>\n",
       "      <td>United States</td>\n",
       "      <td>Russia</td>\n",
       "      <td>12.0</td>\n",
       "      <td>NaN</td>\n",
       "      <td>NaN</td>\n",
       "    </tr>\n",
       "    <tr>\n",
       "      <th>26</th>\n",
       "      <td>2019 Details</td>\n",
       "      <td>Japan</td>\n",
       "      <td>China</td>\n",
       "      <td>United States</td>\n",
       "      <td>Russia</td>\n",
       "      <td>Brazil</td>\n",
       "      <td>12.0</td>\n",
       "      <td>NaN</td>\n",
       "      <td>NaN</td>\n",
       "    </tr>\n",
       "  </tbody>\n",
       "</table>\n",
       "</div>"
      ],
      "text/plain": [
       "            Year     Host    Unnamed: 2      Champions     Runners-up  \\\n",
       "0            NaN      NaN           NaN            NaN            NaN   \n",
       "1            NaN      NaN           NaN            NaN            NaN   \n",
       "2            NaN      NaN           NaN            NaN            NaN   \n",
       "3            NaN      NaN           NaN            NaN            NaN   \n",
       "4            NaN      NaN           NaN            NaN            NaN   \n",
       "5            NaN      NaN           NaN            NaN            NaN   \n",
       "6            NaN      NaN           NaN            NaN            NaN   \n",
       "7            NaN      NaN           NaN            NaN            NaN   \n",
       "8            NaN      NaN           NaN            NaN            NaN   \n",
       "9            NaN      NaN           NaN            NaN            NaN   \n",
       "10           NaN      NaN           NaN            NaN            NaN   \n",
       "11           NaN      NaN           NaN            NaN            NaN   \n",
       "12           NaN      NaN           NaN            NaN            NaN   \n",
       "13           NaN      NaN           NaN            NaN            NaN   \n",
       "14  1973 Details  Uruguay  Soviet Union          Japan    South Korea   \n",
       "15  1977 Details    Japan         Japan           Cuba    South Korea   \n",
       "16  1981 Details    Japan         China          Japan   Soviet Union   \n",
       "17  1985 Details    Japan         China           Cuba   Soviet Union   \n",
       "18  1989 Details    Japan          Cuba   Soviet Union          China   \n",
       "19  1991 Details    Japan          Cuba          China   Soviet Union   \n",
       "20  1995 Details    Japan          Cuba         Brazil          China   \n",
       "21  1999 Details    Japan          Cuba         Russia         Brazil   \n",
       "22  2003 Details    Japan         China         Brazil  United States   \n",
       "23  2007 Details    Japan         Italy         Brazil  United States   \n",
       "24  2011 Details    Japan         Italy  United States          China   \n",
       "25  2015 Details    Japan         China         Serbia  United States   \n",
       "26  2019 Details    Japan         China  United States         Russia   \n",
       "\n",
       "        3rd place  4th place  Unnamed: 7  Teams  \n",
       "0             NaN        NaN         NaN    NaN  \n",
       "1             NaN        NaN         NaN    NaN  \n",
       "2             NaN        NaN         NaN    NaN  \n",
       "3             NaN        NaN         NaN    NaN  \n",
       "4             NaN        NaN         NaN    NaN  \n",
       "5             NaN        NaN         NaN    NaN  \n",
       "6             NaN        NaN         NaN    NaN  \n",
       "7             NaN        NaN         NaN    NaN  \n",
       "8             NaN        NaN         NaN    NaN  \n",
       "9             NaN        NaN         NaN    NaN  \n",
       "10            NaN        NaN         NaN    NaN  \n",
       "11            NaN        NaN         NaN    NaN  \n",
       "12            NaN        NaN         NaN    NaN  \n",
       "13            NaN        NaN         NaN    NaN  \n",
       "14           Peru       10.0         NaN    NaN  \n",
       "15          China        8.0         NaN    NaN  \n",
       "16  United States        8.0         NaN    NaN  \n",
       "17          Japan        8.0         NaN    NaN  \n",
       "18          Japan        8.0         NaN    NaN  \n",
       "19  United States       12.0         NaN    NaN  \n",
       "20        Croatia       12.0         NaN    NaN  \n",
       "21    South Korea       12.0         NaN    NaN  \n",
       "22          Italy       12.0         NaN    NaN  \n",
       "23           Cuba       12.0         NaN    NaN  \n",
       "24          Japan       12.0         NaN    NaN  \n",
       "25         Russia       12.0         NaN    NaN  \n",
       "26         Brazil       12.0         NaN    NaN  "
      ]
     },
     "execution_count": 284,
     "metadata": {},
     "output_type": "execute_result"
    }
   ],
   "source": [
    "# Display the content of results_df\n",
    "results_df"
   ]
  },
  {
   "cell_type": "code",
   "execution_count": 286,
   "id": "ccad4c78",
   "metadata": {},
   "outputs": [
    {
     "data": {
      "text/html": [
       "<div>\n",
       "<style scoped>\n",
       "    .dataframe tbody tr th:only-of-type {\n",
       "        vertical-align: middle;\n",
       "    }\n",
       "\n",
       "    .dataframe tbody tr th {\n",
       "        vertical-align: top;\n",
       "    }\n",
       "\n",
       "    .dataframe thead th {\n",
       "        text-align: right;\n",
       "    }\n",
       "</style>\n",
       "<table border=\"1\" class=\"dataframe\">\n",
       "  <thead>\n",
       "    <tr style=\"text-align: right;\">\n",
       "      <th></th>\n",
       "      <th>Year</th>\n",
       "      <th>Host</th>\n",
       "      <th>Unnamed: 2</th>\n",
       "      <th>Champions</th>\n",
       "      <th>Runners-up</th>\n",
       "      <th>3rd place</th>\n",
       "      <th>4th place</th>\n",
       "      <th>Unnamed: 7</th>\n",
       "      <th>Teams</th>\n",
       "    </tr>\n",
       "  </thead>\n",
       "  <tbody>\n",
       "    <tr>\n",
       "      <th>14</th>\n",
       "      <td>1973 Details</td>\n",
       "      <td>Uruguay</td>\n",
       "      <td>Soviet Union</td>\n",
       "      <td>Japan</td>\n",
       "      <td>South Korea</td>\n",
       "      <td>Peru</td>\n",
       "      <td>10.0</td>\n",
       "      <td>NaN</td>\n",
       "      <td>NaN</td>\n",
       "    </tr>\n",
       "    <tr>\n",
       "      <th>15</th>\n",
       "      <td>1977 Details</td>\n",
       "      <td>Japan</td>\n",
       "      <td>Japan</td>\n",
       "      <td>Cuba</td>\n",
       "      <td>South Korea</td>\n",
       "      <td>China</td>\n",
       "      <td>8.0</td>\n",
       "      <td>NaN</td>\n",
       "      <td>NaN</td>\n",
       "    </tr>\n",
       "    <tr>\n",
       "      <th>16</th>\n",
       "      <td>1981 Details</td>\n",
       "      <td>Japan</td>\n",
       "      <td>China</td>\n",
       "      <td>Japan</td>\n",
       "      <td>Soviet Union</td>\n",
       "      <td>United States</td>\n",
       "      <td>8.0</td>\n",
       "      <td>NaN</td>\n",
       "      <td>NaN</td>\n",
       "    </tr>\n",
       "    <tr>\n",
       "      <th>17</th>\n",
       "      <td>1985 Details</td>\n",
       "      <td>Japan</td>\n",
       "      <td>China</td>\n",
       "      <td>Cuba</td>\n",
       "      <td>Soviet Union</td>\n",
       "      <td>Japan</td>\n",
       "      <td>8.0</td>\n",
       "      <td>NaN</td>\n",
       "      <td>NaN</td>\n",
       "    </tr>\n",
       "    <tr>\n",
       "      <th>18</th>\n",
       "      <td>1989 Details</td>\n",
       "      <td>Japan</td>\n",
       "      <td>Cuba</td>\n",
       "      <td>Soviet Union</td>\n",
       "      <td>China</td>\n",
       "      <td>Japan</td>\n",
       "      <td>8.0</td>\n",
       "      <td>NaN</td>\n",
       "      <td>NaN</td>\n",
       "    </tr>\n",
       "    <tr>\n",
       "      <th>19</th>\n",
       "      <td>1991 Details</td>\n",
       "      <td>Japan</td>\n",
       "      <td>Cuba</td>\n",
       "      <td>China</td>\n",
       "      <td>Soviet Union</td>\n",
       "      <td>United States</td>\n",
       "      <td>12.0</td>\n",
       "      <td>NaN</td>\n",
       "      <td>NaN</td>\n",
       "    </tr>\n",
       "    <tr>\n",
       "      <th>20</th>\n",
       "      <td>1995 Details</td>\n",
       "      <td>Japan</td>\n",
       "      <td>Cuba</td>\n",
       "      <td>Brazil</td>\n",
       "      <td>China</td>\n",
       "      <td>Croatia</td>\n",
       "      <td>12.0</td>\n",
       "      <td>NaN</td>\n",
       "      <td>NaN</td>\n",
       "    </tr>\n",
       "    <tr>\n",
       "      <th>21</th>\n",
       "      <td>1999 Details</td>\n",
       "      <td>Japan</td>\n",
       "      <td>Cuba</td>\n",
       "      <td>Russia</td>\n",
       "      <td>Brazil</td>\n",
       "      <td>South Korea</td>\n",
       "      <td>12.0</td>\n",
       "      <td>NaN</td>\n",
       "      <td>NaN</td>\n",
       "    </tr>\n",
       "    <tr>\n",
       "      <th>22</th>\n",
       "      <td>2003 Details</td>\n",
       "      <td>Japan</td>\n",
       "      <td>China</td>\n",
       "      <td>Brazil</td>\n",
       "      <td>United States</td>\n",
       "      <td>Italy</td>\n",
       "      <td>12.0</td>\n",
       "      <td>NaN</td>\n",
       "      <td>NaN</td>\n",
       "    </tr>\n",
       "    <tr>\n",
       "      <th>23</th>\n",
       "      <td>2007 Details</td>\n",
       "      <td>Japan</td>\n",
       "      <td>Italy</td>\n",
       "      <td>Brazil</td>\n",
       "      <td>United States</td>\n",
       "      <td>Cuba</td>\n",
       "      <td>12.0</td>\n",
       "      <td>NaN</td>\n",
       "      <td>NaN</td>\n",
       "    </tr>\n",
       "    <tr>\n",
       "      <th>24</th>\n",
       "      <td>2011 Details</td>\n",
       "      <td>Japan</td>\n",
       "      <td>Italy</td>\n",
       "      <td>United States</td>\n",
       "      <td>China</td>\n",
       "      <td>Japan</td>\n",
       "      <td>12.0</td>\n",
       "      <td>NaN</td>\n",
       "      <td>NaN</td>\n",
       "    </tr>\n",
       "    <tr>\n",
       "      <th>25</th>\n",
       "      <td>2015 Details</td>\n",
       "      <td>Japan</td>\n",
       "      <td>China</td>\n",
       "      <td>Serbia</td>\n",
       "      <td>United States</td>\n",
       "      <td>Russia</td>\n",
       "      <td>12.0</td>\n",
       "      <td>NaN</td>\n",
       "      <td>NaN</td>\n",
       "    </tr>\n",
       "    <tr>\n",
       "      <th>26</th>\n",
       "      <td>2019 Details</td>\n",
       "      <td>Japan</td>\n",
       "      <td>China</td>\n",
       "      <td>United States</td>\n",
       "      <td>Russia</td>\n",
       "      <td>Brazil</td>\n",
       "      <td>12.0</td>\n",
       "      <td>NaN</td>\n",
       "      <td>NaN</td>\n",
       "    </tr>\n",
       "  </tbody>\n",
       "</table>\n",
       "</div>"
      ],
      "text/plain": [
       "            Year     Host    Unnamed: 2      Champions     Runners-up  \\\n",
       "14  1973 Details  Uruguay  Soviet Union          Japan    South Korea   \n",
       "15  1977 Details    Japan         Japan           Cuba    South Korea   \n",
       "16  1981 Details    Japan         China          Japan   Soviet Union   \n",
       "17  1985 Details    Japan         China           Cuba   Soviet Union   \n",
       "18  1989 Details    Japan          Cuba   Soviet Union          China   \n",
       "19  1991 Details    Japan          Cuba          China   Soviet Union   \n",
       "20  1995 Details    Japan          Cuba         Brazil          China   \n",
       "21  1999 Details    Japan          Cuba         Russia         Brazil   \n",
       "22  2003 Details    Japan         China         Brazil  United States   \n",
       "23  2007 Details    Japan         Italy         Brazil  United States   \n",
       "24  2011 Details    Japan         Italy  United States          China   \n",
       "25  2015 Details    Japan         China         Serbia  United States   \n",
       "26  2019 Details    Japan         China  United States         Russia   \n",
       "\n",
       "        3rd place  4th place  Unnamed: 7  Teams  \n",
       "14           Peru       10.0         NaN    NaN  \n",
       "15          China        8.0         NaN    NaN  \n",
       "16  United States        8.0         NaN    NaN  \n",
       "17          Japan        8.0         NaN    NaN  \n",
       "18          Japan        8.0         NaN    NaN  \n",
       "19  United States       12.0         NaN    NaN  \n",
       "20        Croatia       12.0         NaN    NaN  \n",
       "21    South Korea       12.0         NaN    NaN  \n",
       "22          Italy       12.0         NaN    NaN  \n",
       "23           Cuba       12.0         NaN    NaN  \n",
       "24          Japan       12.0         NaN    NaN  \n",
       "25         Russia       12.0         NaN    NaN  \n",
       "26         Brazil       12.0         NaN    NaN  "
      ]
     },
     "execution_count": 286,
     "metadata": {},
     "output_type": "execute_result"
    }
   ],
   "source": [
    "# Let' clean the data:\n",
    "## Remove all rows that contain only null values\n",
    "\n",
    "clean_df = results_df.dropna(how = 'all')\n",
    "clean_df"
   ]
  },
  {
   "cell_type": "markdown",
   "id": "676d3a3f-e72a-45c3-bb65-90521254cc78",
   "metadata": {},
   "source": [
    "#### Jump to the `Self-Work Exercises #1` Section"
   ]
  },
  {
   "cell_type": "markdown",
   "id": "4897a6dc",
   "metadata": {},
   "source": [
    "# Read zip files "
   ]
  },
  {
   "cell_type": "code",
   "execution_count": 290,
   "id": "d7f13fb6",
   "metadata": {},
   "outputs": [],
   "source": [
    "unemployment_rates = pd.read_csv(\"./data/arbeitsmarktstatistik_erwerbslosenquoten_geschlecht.zip\", \n",
    "                        sep=\";\",\n",
    "                        encoding='latin-1')\n",
    "\n",
    "# Note: erwerbslosenquoten means unemployment rate\n",
    "# arbeitsmarktstatistik means Statistics about the work market"
   ]
  },
  {
   "cell_type": "code",
   "execution_count": 292,
   "id": "23b13dfa",
   "metadata": {},
   "outputs": [
    {
     "data": {
      "text/html": [
       "<div>\n",
       "<style scoped>\n",
       "    .dataframe tbody tr th:only-of-type {\n",
       "        vertical-align: middle;\n",
       "    }\n",
       "\n",
       "    .dataframe tbody tr th {\n",
       "        vertical-align: top;\n",
       "    }\n",
       "\n",
       "    .dataframe thead th {\n",
       "        text-align: right;\n",
       "    }\n",
       "</style>\n",
       "<table border=\"1\" class=\"dataframe\">\n",
       "  <thead>\n",
       "    <tr style=\"text-align: right;\">\n",
       "      <th></th>\n",
       "      <th></th>\n",
       "      <th></th>\n",
       "      <th></th>\n",
       "      <th></th>\n",
       "      <th></th>\n",
       "      <th>ILO-Arbeitsmarktstatistik</th>\n",
       "    </tr>\n",
       "  </thead>\n",
       "  <tbody>\n",
       "    <tr>\n",
       "      <th>Datum</th>\n",
       "      <th>Erwerbslosenquoten Männer insgesamt, in %</th>\n",
       "      <th>Erwerbslosenquoten Männer unter 25 Jahren, in %</th>\n",
       "      <th>Erwerbslosenquoten Männer ab 25 Jahren, in %</th>\n",
       "      <th>Erwerbslosenquoten Frauen insgesamt, in %</th>\n",
       "      <th>Erwerbslosenquoten Frauen unter 25 Jahren, in %</th>\n",
       "      <td>Erwerbslosenquoten Frauen ab 25 Jahren, in %</td>\n",
       "    </tr>\n",
       "    <tr>\n",
       "      <th>01/03/2007</th>\n",
       "      <th>9,5</th>\n",
       "      <th>12,7</th>\n",
       "      <th>9,1</th>\n",
       "      <th>8,8</th>\n",
       "      <th>8,7</th>\n",
       "      <td>8,8</td>\n",
       "    </tr>\n",
       "    <tr>\n",
       "      <th>01/04/2007</th>\n",
       "      <th>8,3</th>\n",
       "      <th>13,6</th>\n",
       "      <th>7,7</th>\n",
       "      <th>9,0</th>\n",
       "      <th>10,6</th>\n",
       "      <td>8,7</td>\n",
       "    </tr>\n",
       "    <tr>\n",
       "      <th>01/05/2007</th>\n",
       "      <th>8,5</th>\n",
       "      <th>11,7</th>\n",
       "      <th>8,1</th>\n",
       "      <th>8,5</th>\n",
       "      <th>10,4</th>\n",
       "      <td>8,3</td>\n",
       "    </tr>\n",
       "    <tr>\n",
       "      <th>01/06/2007</th>\n",
       "      <th>8,0</th>\n",
       "      <th>12,5</th>\n",
       "      <th>7,4</th>\n",
       "      <th>8,7</th>\n",
       "      <th>12,9</th>\n",
       "      <td>8,2</td>\n",
       "    </tr>\n",
       "    <tr>\n",
       "      <th>...</th>\n",
       "      <th>...</th>\n",
       "      <th>...</th>\n",
       "      <th>...</th>\n",
       "      <th>...</th>\n",
       "      <th>...</th>\n",
       "      <td>...</td>\n",
       "    </tr>\n",
       "    <tr>\n",
       "      <th>01/04/2023</th>\n",
       "      <th>3,2</th>\n",
       "      <th>7,5</th>\n",
       "      <th>2,7</th>\n",
       "      <th>2,9</th>\n",
       "      <th>5,0</th>\n",
       "      <td>2,6</td>\n",
       "    </tr>\n",
       "    <tr>\n",
       "      <th>01/05/2023</th>\n",
       "      <th>3,1</th>\n",
       "      <th>5,8</th>\n",
       "      <th>2,8</th>\n",
       "      <th>2,5</th>\n",
       "      <th>4,4</th>\n",
       "      <td>2,3</td>\n",
       "    </tr>\n",
       "    <tr>\n",
       "      <th>01/06/2023</th>\n",
       "      <th>3,2</th>\n",
       "      <th>7,1</th>\n",
       "      <th>2,8</th>\n",
       "      <th>2,8</th>\n",
       "      <th>5,9</th>\n",
       "      <td>2,4</td>\n",
       "    </tr>\n",
       "    <tr>\n",
       "      <th>01/07/2023</th>\n",
       "      <th>3,2</th>\n",
       "      <th>6,9</th>\n",
       "      <th>2,8</th>\n",
       "      <th>2,8</th>\n",
       "      <th>7,1</th>\n",
       "      <td>2,3</td>\n",
       "    </tr>\n",
       "    <tr>\n",
       "      <th>01/08/2023</th>\n",
       "      <th>3,5</th>\n",
       "      <th>7,9</th>\n",
       "      <th>3,0</th>\n",
       "      <th>2,9</th>\n",
       "      <th>5,9</th>\n",
       "      <td>2,6</td>\n",
       "    </tr>\n",
       "  </tbody>\n",
       "</table>\n",
       "<p>199 rows × 1 columns</p>\n",
       "</div>"
      ],
      "text/plain": [
       "                                                                                                                                                                                                                                                                ILO-Arbeitsmarktstatistik\n",
       "Datum      Erwerbslosenquoten Männer insgesamt, in % Erwerbslosenquoten Männer unter 25 Jahren, in % Erwerbslosenquoten Männer ab 25 Jahren, in % Erwerbslosenquoten Frauen insgesamt, in % Erwerbslosenquoten Frauen unter 25 Jahren, in %  Erwerbslosenquoten Frauen ab 25 Jahren, in %\n",
       "01/03/2007 9,5                                       12,7                                            9,1                                          8,8                                       8,7                                                                                       8,8\n",
       "01/04/2007 8,3                                       13,6                                            7,7                                          9,0                                       10,6                                                                                      8,7\n",
       "01/05/2007 8,5                                       11,7                                            8,1                                          8,5                                       10,4                                                                                      8,3\n",
       "01/06/2007 8,0                                       12,5                                            7,4                                          8,7                                       12,9                                                                                      8,2\n",
       "...                                                                                                                                                                                                                                                                                   ...\n",
       "01/04/2023 3,2                                       7,5                                             2,7                                          2,9                                       5,0                                                                                       2,6\n",
       "01/05/2023 3,1                                       5,8                                             2,8                                          2,5                                       4,4                                                                                       2,3\n",
       "01/06/2023 3,2                                       7,1                                             2,8                                          2,8                                       5,9                                                                                       2,4\n",
       "01/07/2023 3,2                                       6,9                                             2,8                                          2,8                                       7,1                                                                                       2,3\n",
       "01/08/2023 3,5                                       7,9                                             3,0                                          2,9                                       5,9                                                                                       2,6\n",
       "\n",
       "[199 rows x 1 columns]"
      ]
     },
     "execution_count": 292,
     "metadata": {},
     "output_type": "execute_result"
    }
   ],
   "source": [
    "# Display the data\n",
    "unemployment_rates"
   ]
  },
  {
   "cell_type": "markdown",
   "id": "e2d44384",
   "metadata": {},
   "source": [
    "<br><br>\n",
    "# Introduction to JSON"
   ]
  },
  {
   "cell_type": "code",
   "execution_count": 295,
   "id": "1dcdde31",
   "metadata": {},
   "outputs": [],
   "source": [
    "# Import the json package\n",
    "import json"
   ]
  },
  {
   "cell_type": "code",
   "execution_count": 297,
   "id": "2e6e6e1a",
   "metadata": {},
   "outputs": [],
   "source": [
    "# Creating student records\n",
    "student1 = {\n",
    "    \"name\": \"Alice\",\n",
    "    \"age\": 15,\n",
    "    \"grade\": 10,\n",
    "    \"subjects\": [\"Math\", \"Science\", \"History\"],\n",
    "    \"city\": \"Augsburg\"\n",
    "}\n",
    "\n",
    "student2 = {\n",
    "    \"name\": \"Bob\",\n",
    "    \"age\": 16,\n",
    "    \"grade\": 11,\n",
    "    \"subjects\": [\"English\", \"Physics\", \"Geography\"],\n",
    "    \"city\": \"Berlin\"\n",
    "}\n",
    "\n",
    "student3 = {\n",
    "    \"name\": \"Carol\",\n",
    "    \"age\": 14,\n",
    "    \"grade\": 9,\n",
    "    \"subjects\": [\"Art\", \"Music\", \"PE\"],\n",
    "    \"city\": \"Cottbus\"\n",
    "}"
   ]
  },
  {
   "cell_type": "code",
   "execution_count": 299,
   "id": "3851d582",
   "metadata": {},
   "outputs": [],
   "source": [
    "# Creating a list of student records\n",
    "student_database = [student1, student2, student3]"
   ]
  },
  {
   "cell_type": "code",
   "execution_count": 301,
   "id": "c8959507",
   "metadata": {},
   "outputs": [],
   "source": [
    "# Converting the student database to JSON format\n",
    "json_data = json.dumps(student_database, indent = 4)"
   ]
  },
  {
   "cell_type": "markdown",
   "id": "8765a0c7-2782-4874-8de4-bd8227f6408f",
   "metadata": {},
   "source": [
    "With indent=4: Each level of the JSON structure will be indented by 4 spaces, making it easier to read and visually understand the nested structure."
   ]
  },
  {
   "cell_type": "code",
   "execution_count": 304,
   "id": "a48ec2b3",
   "metadata": {},
   "outputs": [
    {
     "name": "stdout",
     "output_type": "stream",
     "text": [
      "[\n",
      "    {\n",
      "        \"name\": \"Alice\",\n",
      "        \"age\": 15,\n",
      "        \"grade\": 10,\n",
      "        \"subjects\": [\n",
      "            \"Math\",\n",
      "            \"Science\",\n",
      "            \"History\"\n",
      "        ],\n",
      "        \"city\": \"Augsburg\"\n",
      "    },\n",
      "    {\n",
      "        \"name\": \"Bob\",\n",
      "        \"age\": 16,\n",
      "        \"grade\": 11,\n",
      "        \"subjects\": [\n",
      "            \"English\",\n",
      "            \"Physics\",\n",
      "            \"Geography\"\n",
      "        ],\n",
      "        \"city\": \"Berlin\"\n",
      "    },\n",
      "    {\n",
      "        \"name\": \"Carol\",\n",
      "        \"age\": 14,\n",
      "        \"grade\": 9,\n",
      "        \"subjects\": [\n",
      "            \"Art\",\n",
      "            \"Music\",\n",
      "            \"PE\"\n",
      "        ],\n",
      "        \"city\": \"Cottbus\"\n",
      "    }\n",
      "]\n"
     ]
    }
   ],
   "source": [
    "# Printing the JSON data\n",
    "print(json_data)"
   ]
  },
  {
   "cell_type": "markdown",
   "id": "2c9ecb0b-25f3-465f-9d07-69f6a8bb1149",
   "metadata": {},
   "source": [
    "### Read a json file\n",
    "\n",
    "First, copy and paste the `animals.json` file into the `data` folder of your working directory"
   ]
  },
  {
   "cell_type": "markdown",
   "id": "635549cf",
   "metadata": {},
   "source": [
    "### Load the file"
   ]
  },
  {
   "cell_type": "code",
   "execution_count": 308,
   "id": "48a0bccf",
   "metadata": {},
   "outputs": [
    {
     "name": "stdout",
     "output_type": "stream",
     "text": [
      "[{'name': 'Ace', 'animal': 'Alpaca', 'tricks': ['spit'], 'demographics': {'sex': 'male', 'age': 2}, 'owner': 'Alice', 'city': 'Augsburg'}, {'name': 'Biscuit', 'animal': 'Beagle', 'tricks': ['sit', 'hunt'], 'demographics': {'sex': 'female', 'age': 1}, 'owner': 'Bob', 'city': 'Berlin'}, {'name': 'Coco', 'animal': 'Chinchilla', 'tricks': ['explore', 'climb'], 'demographics': {'sex': 'male', 'age': 5}, 'owner': 'Carol', 'city': 'Cottbus'}]\n"
     ]
    }
   ],
   "source": [
    "## We first load the file\n",
    "with open(\"./data/animals.json\") as f:\n",
    "    d = json.load(f)\n",
    "\n",
    "print(d)"
   ]
  },
  {
   "cell_type": "markdown",
   "id": "e8dfabe5",
   "metadata": {},
   "source": [
    "### Normalise the loaded data"
   ]
  },
  {
   "cell_type": "code",
   "execution_count": 311,
   "id": "54559a99",
   "metadata": {},
   "outputs": [],
   "source": [
    "# To convert each element in \"demographics\" section into new columns,\n",
    "# We prefer to use : pd.json_nomalize\n",
    "animals_v1 = pd.json_normalize(d)"
   ]
  },
  {
   "cell_type": "code",
   "execution_count": 313,
   "id": "b9d60ca6",
   "metadata": {
    "scrolled": true
   },
   "outputs": [
    {
     "data": {
      "text/html": [
       "<div>\n",
       "<style scoped>\n",
       "    .dataframe tbody tr th:only-of-type {\n",
       "        vertical-align: middle;\n",
       "    }\n",
       "\n",
       "    .dataframe tbody tr th {\n",
       "        vertical-align: top;\n",
       "    }\n",
       "\n",
       "    .dataframe thead th {\n",
       "        text-align: right;\n",
       "    }\n",
       "</style>\n",
       "<table border=\"1\" class=\"dataframe\">\n",
       "  <thead>\n",
       "    <tr style=\"text-align: right;\">\n",
       "      <th></th>\n",
       "      <th>name</th>\n",
       "      <th>animal</th>\n",
       "      <th>tricks</th>\n",
       "      <th>owner</th>\n",
       "      <th>city</th>\n",
       "      <th>demographics.sex</th>\n",
       "      <th>demographics.age</th>\n",
       "    </tr>\n",
       "  </thead>\n",
       "  <tbody>\n",
       "    <tr>\n",
       "      <th>0</th>\n",
       "      <td>Ace</td>\n",
       "      <td>Alpaca</td>\n",
       "      <td>[spit]</td>\n",
       "      <td>Alice</td>\n",
       "      <td>Augsburg</td>\n",
       "      <td>male</td>\n",
       "      <td>2</td>\n",
       "    </tr>\n",
       "    <tr>\n",
       "      <th>1</th>\n",
       "      <td>Biscuit</td>\n",
       "      <td>Beagle</td>\n",
       "      <td>[sit, hunt]</td>\n",
       "      <td>Bob</td>\n",
       "      <td>Berlin</td>\n",
       "      <td>female</td>\n",
       "      <td>1</td>\n",
       "    </tr>\n",
       "    <tr>\n",
       "      <th>2</th>\n",
       "      <td>Coco</td>\n",
       "      <td>Chinchilla</td>\n",
       "      <td>[explore, climb]</td>\n",
       "      <td>Carol</td>\n",
       "      <td>Cottbus</td>\n",
       "      <td>male</td>\n",
       "      <td>5</td>\n",
       "    </tr>\n",
       "  </tbody>\n",
       "</table>\n",
       "</div>"
      ],
      "text/plain": [
       "      name      animal            tricks  owner      city demographics.sex  \\\n",
       "0      Ace      Alpaca            [spit]  Alice  Augsburg             male   \n",
       "1  Biscuit      Beagle       [sit, hunt]    Bob    Berlin           female   \n",
       "2     Coco  Chinchilla  [explore, climb]  Carol   Cottbus             male   \n",
       "\n",
       "   demographics.age  \n",
       "0                 2  \n",
       "1                 1  \n",
       "2                 5  "
      ]
     },
     "execution_count": 313,
     "metadata": {},
     "output_type": "execute_result"
    }
   ],
   "source": [
    "# Display animals_v1\n",
    "animals_v1"
   ]
  },
  {
   "cell_type": "markdown",
   "id": "94dd5f3d",
   "metadata": {},
   "source": [
    "### Read a json file as a dataframe directly"
   ]
  },
  {
   "cell_type": "code",
   "execution_count": 316,
   "id": "32a5a977",
   "metadata": {},
   "outputs": [],
   "source": [
    "import pandas as pd\n",
    "animals_v2 = pd.read_json(\"./data/animals.json\")"
   ]
  },
  {
   "cell_type": "code",
   "execution_count": 318,
   "id": "679b1a24",
   "metadata": {
    "scrolled": true
   },
   "outputs": [
    {
     "data": {
      "text/html": [
       "<div>\n",
       "<style scoped>\n",
       "    .dataframe tbody tr th:only-of-type {\n",
       "        vertical-align: middle;\n",
       "    }\n",
       "\n",
       "    .dataframe tbody tr th {\n",
       "        vertical-align: top;\n",
       "    }\n",
       "\n",
       "    .dataframe thead th {\n",
       "        text-align: right;\n",
       "    }\n",
       "</style>\n",
       "<table border=\"1\" class=\"dataframe\">\n",
       "  <thead>\n",
       "    <tr style=\"text-align: right;\">\n",
       "      <th></th>\n",
       "      <th>name</th>\n",
       "      <th>animal</th>\n",
       "      <th>tricks</th>\n",
       "      <th>demographics</th>\n",
       "      <th>owner</th>\n",
       "      <th>city</th>\n",
       "    </tr>\n",
       "  </thead>\n",
       "  <tbody>\n",
       "    <tr>\n",
       "      <th>0</th>\n",
       "      <td>Ace</td>\n",
       "      <td>Alpaca</td>\n",
       "      <td>[spit]</td>\n",
       "      <td>{'sex': 'male', 'age': 2}</td>\n",
       "      <td>Alice</td>\n",
       "      <td>Augsburg</td>\n",
       "    </tr>\n",
       "    <tr>\n",
       "      <th>1</th>\n",
       "      <td>Biscuit</td>\n",
       "      <td>Beagle</td>\n",
       "      <td>[sit, hunt]</td>\n",
       "      <td>{'sex': 'female', 'age': 1}</td>\n",
       "      <td>Bob</td>\n",
       "      <td>Berlin</td>\n",
       "    </tr>\n",
       "    <tr>\n",
       "      <th>2</th>\n",
       "      <td>Coco</td>\n",
       "      <td>Chinchilla</td>\n",
       "      <td>[explore, climb]</td>\n",
       "      <td>{'sex': 'male', 'age': 5}</td>\n",
       "      <td>Carol</td>\n",
       "      <td>Cottbus</td>\n",
       "    </tr>\n",
       "  </tbody>\n",
       "</table>\n",
       "</div>"
      ],
      "text/plain": [
       "      name      animal            tricks                 demographics  owner  \\\n",
       "0      Ace      Alpaca            [spit]    {'sex': 'male', 'age': 2}  Alice   \n",
       "1  Biscuit      Beagle       [sit, hunt]  {'sex': 'female', 'age': 1}    Bob   \n",
       "2     Coco  Chinchilla  [explore, climb]    {'sex': 'male', 'age': 5}  Carol   \n",
       "\n",
       "       city  \n",
       "0  Augsburg  \n",
       "1    Berlin  \n",
       "2   Cottbus  "
      ]
     },
     "execution_count": 318,
     "metadata": {},
     "output_type": "execute_result"
    }
   ],
   "source": [
    "# Display animals_v2\n",
    "animals_v2"
   ]
  },
  {
   "cell_type": "markdown",
   "id": "75098733-0de6-486a-87cf-057e42a99833",
   "metadata": {},
   "source": [
    "### Self-work exercises #1: 4 points\n",
    "\n",
    "#### What problems do you see with `clean_df`? Can you clean the DataFrame to obtain a clean one?\n",
    "\n",
    "Write a series of code commands in order to clean the DataFrame:\n",
    "- create a deep copy of the DataFrame `clean_df` and assign it to the variable `df`\n",
    "- get the list of useful columns, without copy-pasting them (use code!)\n",
    "- drop the columns that contain missing values\n",
    "- rename the columns so that each column corresponds to the correct header\n",
    "- transform the `Year` column to remove `Details`, which we don't need\n",
    "\n",
    "*Tip: this might be useful https://pandas.pydata.org/docs/reference/api/pandas.DataFrame.dropna.html*"
   ]
  },
  {
   "cell_type": "code",
   "execution_count": 321,
   "id": "1b181d44",
   "metadata": {},
   "outputs": [
    {
     "data": {
      "text/html": [
       "<div>\n",
       "<style scoped>\n",
       "    .dataframe tbody tr th:only-of-type {\n",
       "        vertical-align: middle;\n",
       "    }\n",
       "\n",
       "    .dataframe tbody tr th {\n",
       "        vertical-align: top;\n",
       "    }\n",
       "\n",
       "    .dataframe thead th {\n",
       "        text-align: right;\n",
       "    }\n",
       "</style>\n",
       "<table border=\"1\" class=\"dataframe\">\n",
       "  <thead>\n",
       "    <tr style=\"text-align: right;\">\n",
       "      <th></th>\n",
       "      <th>Year</th>\n",
       "      <th>Host</th>\n",
       "      <th>Champions</th>\n",
       "      <th>Runners-up</th>\n",
       "      <th>3rd place</th>\n",
       "      <th>4th place</th>\n",
       "      <th>Teams</th>\n",
       "    </tr>\n",
       "  </thead>\n",
       "  <tbody>\n",
       "    <tr>\n",
       "      <th>14</th>\n",
       "      <td>1973</td>\n",
       "      <td>Uruguay</td>\n",
       "      <td>Soviet Union</td>\n",
       "      <td>Japan</td>\n",
       "      <td>South Korea</td>\n",
       "      <td>Peru</td>\n",
       "      <td>10.0</td>\n",
       "    </tr>\n",
       "    <tr>\n",
       "      <th>15</th>\n",
       "      <td>1977</td>\n",
       "      <td>Japan</td>\n",
       "      <td>Japan</td>\n",
       "      <td>Cuba</td>\n",
       "      <td>South Korea</td>\n",
       "      <td>China</td>\n",
       "      <td>8.0</td>\n",
       "    </tr>\n",
       "    <tr>\n",
       "      <th>16</th>\n",
       "      <td>1981</td>\n",
       "      <td>Japan</td>\n",
       "      <td>China</td>\n",
       "      <td>Japan</td>\n",
       "      <td>Soviet Union</td>\n",
       "      <td>United States</td>\n",
       "      <td>8.0</td>\n",
       "    </tr>\n",
       "    <tr>\n",
       "      <th>17</th>\n",
       "      <td>1985</td>\n",
       "      <td>Japan</td>\n",
       "      <td>China</td>\n",
       "      <td>Cuba</td>\n",
       "      <td>Soviet Union</td>\n",
       "      <td>Japan</td>\n",
       "      <td>8.0</td>\n",
       "    </tr>\n",
       "    <tr>\n",
       "      <th>18</th>\n",
       "      <td>1989</td>\n",
       "      <td>Japan</td>\n",
       "      <td>Cuba</td>\n",
       "      <td>Soviet Union</td>\n",
       "      <td>China</td>\n",
       "      <td>Japan</td>\n",
       "      <td>8.0</td>\n",
       "    </tr>\n",
       "    <tr>\n",
       "      <th>19</th>\n",
       "      <td>1991</td>\n",
       "      <td>Japan</td>\n",
       "      <td>Cuba</td>\n",
       "      <td>China</td>\n",
       "      <td>Soviet Union</td>\n",
       "      <td>United States</td>\n",
       "      <td>12.0</td>\n",
       "    </tr>\n",
       "    <tr>\n",
       "      <th>20</th>\n",
       "      <td>1995</td>\n",
       "      <td>Japan</td>\n",
       "      <td>Cuba</td>\n",
       "      <td>Brazil</td>\n",
       "      <td>China</td>\n",
       "      <td>Croatia</td>\n",
       "      <td>12.0</td>\n",
       "    </tr>\n",
       "    <tr>\n",
       "      <th>21</th>\n",
       "      <td>1999</td>\n",
       "      <td>Japan</td>\n",
       "      <td>Cuba</td>\n",
       "      <td>Russia</td>\n",
       "      <td>Brazil</td>\n",
       "      <td>South Korea</td>\n",
       "      <td>12.0</td>\n",
       "    </tr>\n",
       "    <tr>\n",
       "      <th>22</th>\n",
       "      <td>2003</td>\n",
       "      <td>Japan</td>\n",
       "      <td>China</td>\n",
       "      <td>Brazil</td>\n",
       "      <td>United States</td>\n",
       "      <td>Italy</td>\n",
       "      <td>12.0</td>\n",
       "    </tr>\n",
       "    <tr>\n",
       "      <th>23</th>\n",
       "      <td>2007</td>\n",
       "      <td>Japan</td>\n",
       "      <td>Italy</td>\n",
       "      <td>Brazil</td>\n",
       "      <td>United States</td>\n",
       "      <td>Cuba</td>\n",
       "      <td>12.0</td>\n",
       "    </tr>\n",
       "    <tr>\n",
       "      <th>24</th>\n",
       "      <td>2011</td>\n",
       "      <td>Japan</td>\n",
       "      <td>Italy</td>\n",
       "      <td>United States</td>\n",
       "      <td>China</td>\n",
       "      <td>Japan</td>\n",
       "      <td>12.0</td>\n",
       "    </tr>\n",
       "    <tr>\n",
       "      <th>25</th>\n",
       "      <td>2015</td>\n",
       "      <td>Japan</td>\n",
       "      <td>China</td>\n",
       "      <td>Serbia</td>\n",
       "      <td>United States</td>\n",
       "      <td>Russia</td>\n",
       "      <td>12.0</td>\n",
       "    </tr>\n",
       "    <tr>\n",
       "      <th>26</th>\n",
       "      <td>2019</td>\n",
       "      <td>Japan</td>\n",
       "      <td>China</td>\n",
       "      <td>United States</td>\n",
       "      <td>Russia</td>\n",
       "      <td>Brazil</td>\n",
       "      <td>12.0</td>\n",
       "    </tr>\n",
       "  </tbody>\n",
       "</table>\n",
       "</div>"
      ],
      "text/plain": [
       "    Year     Host     Champions     Runners-up      3rd place      4th place  \\\n",
       "14  1973  Uruguay  Soviet Union          Japan    South Korea           Peru   \n",
       "15  1977    Japan         Japan           Cuba    South Korea          China   \n",
       "16  1981    Japan         China          Japan   Soviet Union  United States   \n",
       "17  1985    Japan         China           Cuba   Soviet Union          Japan   \n",
       "18  1989    Japan          Cuba   Soviet Union          China          Japan   \n",
       "19  1991    Japan          Cuba          China   Soviet Union  United States   \n",
       "20  1995    Japan          Cuba         Brazil          China        Croatia   \n",
       "21  1999    Japan          Cuba         Russia         Brazil    South Korea   \n",
       "22  2003    Japan         China         Brazil  United States          Italy   \n",
       "23  2007    Japan         Italy         Brazil  United States           Cuba   \n",
       "24  2011    Japan         Italy  United States          China          Japan   \n",
       "25  2015    Japan         China         Serbia  United States         Russia   \n",
       "26  2019    Japan         China  United States         Russia         Brazil   \n",
       "\n",
       "    Teams  \n",
       "14   10.0  \n",
       "15    8.0  \n",
       "16    8.0  \n",
       "17    8.0  \n",
       "18    8.0  \n",
       "19   12.0  \n",
       "20   12.0  \n",
       "21   12.0  \n",
       "22   12.0  \n",
       "23   12.0  \n",
       "24   12.0  \n",
       "25   12.0  \n",
       "26   12.0  "
      ]
     },
     "execution_count": 321,
     "metadata": {},
     "output_type": "execute_result"
    }
   ],
   "source": [
    "# Create a copy of the dataframe\n",
    "df = clean_df.copy(deep=True)\n",
    "\n",
    "# Get the list of columns, and remove the weird \"Unnamed\" ones\n",
    "    # column_list = [c for c in df.columns if not(c.startswith(\"Unnamed\"))]\n",
    "\n",
    "# Remove the columns that contain only null values\n",
    "    # df.dropna(axis=\"columns\", how = \"all\", inplace = True)\n",
    "\n",
    "# Give the right column names to the dataframe\n",
    "    # df.columns = column_list\n",
    "\n",
    "#my original code\n",
    "df.columns = ['Year', 'Host', 'Champions', 'Runners-up', '3rd place',\n",
    "              '4th place', 'Teams', 'NA', 'NA']\n",
    "df = df[['Year', 'Host', 'Champions', 'Runners-up', '3rd place',\n",
    "         '4th place', 'Teams']]\n",
    "\n",
    "# Remove \"Details\" from the \"Year\" column\n",
    "df['Year'] = df['Year'].str.split(\" \").str[0]\n",
    "\n",
    "# Display the content of the dataframe\n",
    "df"
   ]
  },
  {
   "cell_type": "markdown",
   "id": "dfb83778",
   "metadata": {},
   "source": [
    "### Self-work exercises #2: 6 points\n",
    "\n",
    "#### Use the python commands to answer the following questions"
   ]
  },
  {
   "cell_type": "markdown",
   "id": "3f7e2173-0196-464f-b12a-0a1965bb2aaa",
   "metadata": {},
   "source": [
    "**1. What type is the resulting data (the loaded json: d) ?**"
   ]
  },
  {
   "cell_type": "code",
   "execution_count": 325,
   "id": "260ac9f1",
   "metadata": {},
   "outputs": [
    {
     "data": {
      "text/plain": [
       "list"
      ]
     },
     "execution_count": 325,
     "metadata": {},
     "output_type": "execute_result"
    }
   ],
   "source": [
    "type(d) #it is a list"
   ]
  },
  {
   "cell_type": "markdown",
   "id": "edd259ec-2dee-44ab-951e-aebd169a7bca",
   "metadata": {},
   "source": [
    "**2. How many items does the resulting data have (the loaded json: d) ?**"
   ]
  },
  {
   "cell_type": "code",
   "execution_count": 328,
   "id": "0ad895d8",
   "metadata": {},
   "outputs": [
    {
     "data": {
      "text/plain": [
       "3"
      ]
     },
     "execution_count": 328,
     "metadata": {},
     "output_type": "execute_result"
    }
   ],
   "source": [
    "len(d)  #3 items"
   ]
  },
  {
   "cell_type": "markdown",
   "id": "11183a6f-63a9-4378-aec5-164a091781a9",
   "metadata": {},
   "source": [
    "**3. What is the type of each item in the resulting data (the loaded json: d) ?**"
   ]
  },
  {
   "cell_type": "code",
   "execution_count": 331,
   "id": "92c06130",
   "metadata": {},
   "outputs": [
    {
     "data": {
      "text/plain": [
       "dict"
      ]
     },
     "execution_count": 331,
     "metadata": {},
     "output_type": "execute_result"
    }
   ],
   "source": [
    "type(d[0])\n",
    " # or: [type(i) for i in d]"
   ]
  },
  {
   "cell_type": "markdown",
   "id": "0da87931-2591-4fa6-9a76-ba74fe1d5c01",
   "metadata": {},
   "source": [
    "**4. How many tricks does Coco know ? Use the code to output it**"
   ]
  },
  {
   "cell_type": "code",
   "execution_count": 334,
   "id": "1e0a0dfe",
   "metadata": {},
   "outputs": [
    {
     "name": "stdout",
     "output_type": "stream",
     "text": [
      "2\n"
     ]
    }
   ],
   "source": [
    "if animal[\"name\"] == \"Coco\":\n",
    "        print(len(animal[\"tricks\"]))"
   ]
  },
  {
   "cell_type": "markdown",
   "id": "b7316743-0ac4-4e66-a19f-1b9a1c6c26fa",
   "metadata": {},
   "source": [
    "**5. How can you change the column name to be demographics_sex and demographics_age instead of demographics.sex and demographics.age?**\n",
    "\n",
    "Save it into animals_v3 variable\n",
    "\n",
    "*Tip: research online the pandas.json_normalize method*"
   ]
  },
  {
   "cell_type": "code",
   "execution_count": 337,
   "id": "581b4acf",
   "metadata": {},
   "outputs": [
    {
     "data": {
      "text/html": [
       "<div>\n",
       "<style scoped>\n",
       "    .dataframe tbody tr th:only-of-type {\n",
       "        vertical-align: middle;\n",
       "    }\n",
       "\n",
       "    .dataframe tbody tr th {\n",
       "        vertical-align: top;\n",
       "    }\n",
       "\n",
       "    .dataframe thead th {\n",
       "        text-align: right;\n",
       "    }\n",
       "</style>\n",
       "<table border=\"1\" class=\"dataframe\">\n",
       "  <thead>\n",
       "    <tr style=\"text-align: right;\">\n",
       "      <th></th>\n",
       "      <th>name</th>\n",
       "      <th>animal</th>\n",
       "      <th>tricks</th>\n",
       "      <th>owner</th>\n",
       "      <th>city</th>\n",
       "      <th>demographics_sex</th>\n",
       "      <th>demographics_age</th>\n",
       "    </tr>\n",
       "  </thead>\n",
       "  <tbody>\n",
       "    <tr>\n",
       "      <th>0</th>\n",
       "      <td>Ace</td>\n",
       "      <td>Alpaca</td>\n",
       "      <td>[spit]</td>\n",
       "      <td>Alice</td>\n",
       "      <td>Augsburg</td>\n",
       "      <td>male</td>\n",
       "      <td>2</td>\n",
       "    </tr>\n",
       "    <tr>\n",
       "      <th>1</th>\n",
       "      <td>Biscuit</td>\n",
       "      <td>Beagle</td>\n",
       "      <td>[sit, hunt]</td>\n",
       "      <td>Bob</td>\n",
       "      <td>Berlin</td>\n",
       "      <td>female</td>\n",
       "      <td>1</td>\n",
       "    </tr>\n",
       "    <tr>\n",
       "      <th>2</th>\n",
       "      <td>Coco</td>\n",
       "      <td>Chinchilla</td>\n",
       "      <td>[explore, climb]</td>\n",
       "      <td>Carol</td>\n",
       "      <td>Cottbus</td>\n",
       "      <td>male</td>\n",
       "      <td>5</td>\n",
       "    </tr>\n",
       "  </tbody>\n",
       "</table>\n",
       "</div>"
      ],
      "text/plain": [
       "      name      animal            tricks  owner      city demographics_sex  \\\n",
       "0      Ace      Alpaca            [spit]  Alice  Augsburg             male   \n",
       "1  Biscuit      Beagle       [sit, hunt]    Bob    Berlin           female   \n",
       "2     Coco  Chinchilla  [explore, climb]  Carol   Cottbus             male   \n",
       "\n",
       "   demographics_age  \n",
       "0                 2  \n",
       "1                 1  \n",
       "2                 5  "
      ]
     },
     "execution_count": 337,
     "metadata": {},
     "output_type": "execute_result"
    }
   ],
   "source": [
    "animals_v3 = pd.json_normalize(d, sep=\"_\")\n",
    "animals_v3"
   ]
  },
  {
   "cell_type": "markdown",
   "id": "8c93821b-9e19-4b34-82f3-255195e1e2ad",
   "metadata": {},
   "source": [
    "**6. Following the examples of students_database, create the teachers_database**\n",
    "\n",
    "Hints:\n",
    "- the teacher is very wise, therefore they are at least 100 years old!\n",
    "- Selma's city starts with S and is located in Germany\n",
    "- The subject is the course you are taking"
   ]
  },
  {
   "cell_type": "code",
   "execution_count": 340,
   "id": "0f3499d4",
   "metadata": {},
   "outputs": [
    {
     "name": "stderr",
     "output_type": "stream",
     "text": [
      "C:\\Users\\tmafr\\AppData\\Local\\Temp\\ipykernel_44408\\1089824025.py:13: FutureWarning: Passing literal json to 'read_json' is deprecated and will be removed in a future version. To read from a literal string, wrap it in a 'StringIO' object.\n",
      "  teachers_df = pd.read_json(teacher_data)\n"
     ]
    }
   ],
   "source": [
    "### Complete the following program:\n",
    "\n",
    "teacher = {\n",
    "    \"name\": \"Selma\",\n",
    "    \"age\": 107,\n",
    "    \"grade\": \"XX\",\n",
    "    \"subjects\": [\"Data Scrapping\", \"Data Processing\"],\n",
    "    \"city\": \"Stuttgart\"\n",
    "}\n",
    "\n",
    "teacher_database = [teacher]\n",
    "teacher_data = json.dumps(teacher_database)\n",
    "teachers_df = pd.read_json(teacher_data)"
   ]
  },
  {
   "cell_type": "code",
   "execution_count": 342,
   "id": "d776f3a3-fff5-423f-a7f3-bbc07c1461b1",
   "metadata": {},
   "outputs": [
    {
     "data": {
      "text/html": [
       "<div>\n",
       "<style scoped>\n",
       "    .dataframe tbody tr th:only-of-type {\n",
       "        vertical-align: middle;\n",
       "    }\n",
       "\n",
       "    .dataframe tbody tr th {\n",
       "        vertical-align: top;\n",
       "    }\n",
       "\n",
       "    .dataframe thead th {\n",
       "        text-align: right;\n",
       "    }\n",
       "</style>\n",
       "<table border=\"1\" class=\"dataframe\">\n",
       "  <thead>\n",
       "    <tr style=\"text-align: right;\">\n",
       "      <th></th>\n",
       "      <th>name</th>\n",
       "      <th>age</th>\n",
       "      <th>grade</th>\n",
       "      <th>subjects</th>\n",
       "      <th>city</th>\n",
       "    </tr>\n",
       "  </thead>\n",
       "  <tbody>\n",
       "    <tr>\n",
       "      <th>0</th>\n",
       "      <td>Selma</td>\n",
       "      <td>107</td>\n",
       "      <td>XX</td>\n",
       "      <td>[Data Scrapping, Data Processing]</td>\n",
       "      <td>Stuttgart</td>\n",
       "    </tr>\n",
       "  </tbody>\n",
       "</table>\n",
       "</div>"
      ],
      "text/plain": [
       "    name  age grade                           subjects       city\n",
       "0  Selma  107    XX  [Data Scrapping, Data Processing]  Stuttgart"
      ]
     },
     "execution_count": 342,
     "metadata": {},
     "output_type": "execute_result"
    }
   ],
   "source": [
    "teachers_df"
   ]
  }
 ],
 "metadata": {
  "kernelspec": {
   "display_name": "Python 3 (ipykernel)",
   "language": "python",
   "name": "python3"
  },
  "language_info": {
   "codemirror_mode": {
    "name": "ipython",
    "version": 3
   },
   "file_extension": ".py",
   "mimetype": "text/x-python",
   "name": "python",
   "nbconvert_exporter": "python",
   "pygments_lexer": "ipython3",
   "version": "3.12.4"
  }
 },
 "nbformat": 4,
 "nbformat_minor": 5
}

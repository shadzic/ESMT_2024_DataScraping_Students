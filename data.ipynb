{
 "cells": [
  {
   "cell_type": "markdown",
   "id": "7617b4b9",
   "metadata": {},
   "source": [
    "Get the APIs"
   ]
  },
  {
   "cell_type": "code",
   "execution_count": 3,
   "id": "7aa8a972",
   "metadata": {},
   "outputs": [],
   "source": [
    "import requests"
   ]
  },
  {
   "cell_type": "code",
   "execution_count": 7,
   "id": "ec61497e-301e-48bb-b005-65a802bf99dd",
   "metadata": {},
   "outputs": [],
   "source": [
    "import pandas as pd"
   ]
  },
  {
   "cell_type": "markdown",
   "id": "b14190e2",
   "metadata": {},
   "source": [
    "Weather API"
   ]
  },
  {
   "cell_type": "code",
   "execution_count": null,
   "id": "abd4bcb3-3314-4640-9b51-d3051a0d85c5",
   "metadata": {},
   "outputs": [],
   "source": [
    "#Location of Berlin\n",
    "L = requests.get(\"http://api.openweathermap.org/geo/1.0/direct?q=Berlin&limit=5&appid=b658d4211c02ef5cc3ab87ad1c933843\")\n",
    "w= L.json()\n",
    "print(w)"
   ]
  },
  {
   "cell_type": "code",
   "execution_count": 35,
   "id": "cff98af0",
   "metadata": {},
   "outputs": [
    {
     "name": "stdout",
     "output_type": "stream",
     "text": [
      "{'coord': {'lon': 13.3889, 'lat': 52.517}, 'weather': [{'id': 800, 'main': 'Clear', 'description': 'clear sky', 'icon': '01d'}], 'base': 'stations', 'main': {'temp': 16.14, 'feels_like': 15.61, 'temp_min': 15.01, 'temp_max': 17.27, 'pressure': 1017, 'humidity': 69, 'sea_level': 1017, 'grnd_level': 1012}, 'visibility': 10000, 'wind': {'speed': 5.14, 'deg': 150}, 'clouds': {'all': 0}, 'dt': 1729247363, 'sys': {'type': 2, 'id': 2011538, 'country': 'DE', 'sunrise': 1729229852, 'sunset': 1729267512}, 'timezone': 7200, 'id': 7576815, 'name': 'Alt-Kölln', 'cod': 200}\n"
     ]
    }
   ],
   "source": [
    "#Berlin Current Weather\n",
    "response = requests.get(\"https://api.openweathermap.org/data/2.5/weather?lat=52.5170365&lon=13.3888599&exclude=hourly&units=metric&appid=b658d4211c02ef5cc3ab87ad1c933843\")\n",
    "Q = response.json()\n",
    "print(Q)\n"
   ]
  },
  {
   "cell_type": "code",
   "execution_count": 41,
   "id": "fa723029-024e-472d-b4a0-cb025d192ca0",
   "metadata": {},
   "outputs": [
    {
     "data": {
      "text/html": [
       "<div>\n",
       "<style scoped>\n",
       "    .dataframe tbody tr th:only-of-type {\n",
       "        vertical-align: middle;\n",
       "    }\n",
       "\n",
       "    .dataframe tbody tr th {\n",
       "        vertical-align: top;\n",
       "    }\n",
       "\n",
       "    .dataframe thead th {\n",
       "        text-align: right;\n",
       "    }\n",
       "</style>\n",
       "<table border=\"1\" class=\"dataframe\">\n",
       "  <thead>\n",
       "    <tr style=\"text-align: right;\">\n",
       "      <th></th>\n",
       "      <th>coord</th>\n",
       "      <th>weather</th>\n",
       "      <th>base</th>\n",
       "      <th>main</th>\n",
       "      <th>visibility</th>\n",
       "      <th>wind</th>\n",
       "      <th>clouds</th>\n",
       "      <th>dt</th>\n",
       "      <th>sys</th>\n",
       "      <th>timezone</th>\n",
       "      <th>id</th>\n",
       "      <th>name</th>\n",
       "      <th>cod</th>\n",
       "    </tr>\n",
       "  </thead>\n",
       "  <tbody>\n",
       "    <tr>\n",
       "      <th>0</th>\n",
       "      <td>{'lon': 13.3889, 'lat': 52.517}</td>\n",
       "      <td>[{'id': 800, 'main': 'Clear', 'description': '...</td>\n",
       "      <td>stations</td>\n",
       "      <td>{'temp': 16.14, 'feels_like': 15.61, 'temp_min...</td>\n",
       "      <td>10000</td>\n",
       "      <td>{'speed': 5.14, 'deg': 150}</td>\n",
       "      <td>{'all': 0}</td>\n",
       "      <td>1729247363</td>\n",
       "      <td>{'type': 2, 'id': 2011538, 'country': 'DE', 's...</td>\n",
       "      <td>7200</td>\n",
       "      <td>7576815</td>\n",
       "      <td>Alt-Kölln</td>\n",
       "      <td>200</td>\n",
       "    </tr>\n",
       "  </tbody>\n",
       "</table>\n",
       "</div>"
      ],
      "text/plain": [
       "                             coord  \\\n",
       "0  {'lon': 13.3889, 'lat': 52.517}   \n",
       "\n",
       "                                             weather      base  \\\n",
       "0  [{'id': 800, 'main': 'Clear', 'description': '...  stations   \n",
       "\n",
       "                                                main  visibility  \\\n",
       "0  {'temp': 16.14, 'feels_like': 15.61, 'temp_min...       10000   \n",
       "\n",
       "                          wind      clouds          dt  \\\n",
       "0  {'speed': 5.14, 'deg': 150}  {'all': 0}  1729247363   \n",
       "\n",
       "                                                 sys  timezone       id  \\\n",
       "0  {'type': 2, 'id': 2011538, 'country': 'DE', 's...      7200  7576815   \n",
       "\n",
       "        name  cod  \n",
       "0  Alt-Kölln  200  "
      ]
     },
     "execution_count": 41,
     "metadata": {},
     "output_type": "execute_result"
    }
   ],
   "source": [
    "import pandas as pd\n",
    "berlin_weather_current = pd.DataFrame([Q])\n",
    "berlin_weather_current"
   ]
  },
  {
   "cell_type": "code",
   "execution_count": 17,
   "id": "329ed7d3-842a-4252-b7ae-715c9337dfb0",
   "metadata": {},
   "outputs": [
    {
     "name": "stdout",
     "output_type": "stream",
     "text": [
      "{'cod': '200', 'message': 0, 'cnt': 40, 'list': [{'dt': 1729512000, 'main': {'temp': 16.45, 'feels_like': 16.34, 'temp_min': 16.45, 'temp_max': 16.6, 'pressure': 1024, 'sea_level': 1024, 'grnd_level': 1019, 'humidity': 84, 'temp_kf': -0.15}, 'weather': [{'id': 802, 'main': 'Clouds', 'description': 'scattered clouds', 'icon': '03d'}], 'clouds': {'all': 47}, 'wind': {'speed': 2.45, 'deg': 207, 'gust': 5.94}, 'visibility': 10000, 'pop': 0, 'sys': {'pod': 'd'}, 'dt_txt': '2024-10-21 12:00:00'}, {'dt': 1729522800, 'main': {'temp': 16.85, 'feels_like': 16.76, 'temp_min': 16.85, 'temp_max': 17.09, 'pressure': 1025, 'sea_level': 1025, 'grnd_level': 1020, 'humidity': 83, 'temp_kf': -0.24}, 'weather': [{'id': 803, 'main': 'Clouds', 'description': 'broken clouds', 'icon': '04d'}], 'clouds': {'all': 70}, 'wind': {'speed': 1.26, 'deg': 237, 'gust': 2}, 'visibility': 10000, 'pop': 0, 'sys': {'pod': 'd'}, 'dt_txt': '2024-10-21 15:00:00'}, {'dt': 1729533600, 'main': {'temp': 16.52, 'feels_like': 16.45, 'temp_min': 16.52, 'temp_max': 16.52, 'pressure': 1025, 'sea_level': 1025, 'grnd_level': 1019, 'humidity': 85, 'temp_kf': 0}, 'weather': [{'id': 804, 'main': 'Clouds', 'description': 'overcast clouds', 'icon': '04n'}], 'clouds': {'all': 96}, 'wind': {'speed': 0.78, 'deg': 138, 'gust': 0.88}, 'visibility': 10000, 'pop': 0, 'sys': {'pod': 'n'}, 'dt_txt': '2024-10-21 18:00:00'}, {'dt': 1729544400, 'main': {'temp': 15.64, 'feels_like': 15.51, 'temp_min': 15.64, 'temp_max': 15.64, 'pressure': 1025, 'sea_level': 1025, 'grnd_level': 1019, 'humidity': 86, 'temp_kf': 0}, 'weather': [{'id': 804, 'main': 'Clouds', 'description': 'overcast clouds', 'icon': '04n'}], 'clouds': {'all': 93}, 'wind': {'speed': 2.44, 'deg': 146, 'gust': 4.91}, 'visibility': 10000, 'pop': 0, 'sys': {'pod': 'n'}, 'dt_txt': '2024-10-21 21:00:00'}, {'dt': 1729555200, 'main': {'temp': 15.22, 'feels_like': 14.89, 'temp_min': 15.22, 'temp_max': 15.22, 'pressure': 1023, 'sea_level': 1023, 'grnd_level': 1018, 'humidity': 80, 'temp_kf': 0}, 'weather': [{'id': 804, 'main': 'Clouds', 'description': 'overcast clouds', 'icon': '04n'}], 'clouds': {'all': 97}, 'wind': {'speed': 2.5, 'deg': 149, 'gust': 6.12}, 'visibility': 10000, 'pop': 0, 'sys': {'pod': 'n'}, 'dt_txt': '2024-10-22 00:00:00'}, {'dt': 1729566000, 'main': {'temp': 14.29, 'feels_like': 13.73, 'temp_min': 14.29, 'temp_max': 14.29, 'pressure': 1022, 'sea_level': 1022, 'grnd_level': 1017, 'humidity': 75, 'temp_kf': 0}, 'weather': [{'id': 804, 'main': 'Clouds', 'description': 'overcast clouds', 'icon': '04n'}], 'clouds': {'all': 100}, 'wind': {'speed': 3.06, 'deg': 171, 'gust': 8.53}, 'visibility': 10000, 'pop': 0, 'sys': {'pod': 'n'}, 'dt_txt': '2024-10-22 03:00:00'}, {'dt': 1729576800, 'main': {'temp': 13.11, 'feels_like': 12.51, 'temp_min': 13.11, 'temp_max': 13.11, 'pressure': 1022, 'sea_level': 1022, 'grnd_level': 1016, 'humidity': 78, 'temp_kf': 0}, 'weather': [{'id': 804, 'main': 'Clouds', 'description': 'overcast clouds', 'icon': '04d'}], 'clouds': {'all': 85}, 'wind': {'speed': 3.29, 'deg': 175, 'gust': 9.31}, 'visibility': 10000, 'pop': 0, 'sys': {'pod': 'd'}, 'dt_txt': '2024-10-22 06:00:00'}, {'dt': 1729587600, 'main': {'temp': 15.8, 'feels_like': 15.34, 'temp_min': 15.8, 'temp_max': 15.8, 'pressure': 1022, 'sea_level': 1022, 'grnd_level': 1016, 'humidity': 73, 'temp_kf': 0}, 'weather': [{'id': 804, 'main': 'Clouds', 'description': 'overcast clouds', 'icon': '04d'}], 'clouds': {'all': 88}, 'wind': {'speed': 2.7, 'deg': 249, 'gust': 6.98}, 'visibility': 10000, 'pop': 0, 'sys': {'pod': 'd'}, 'dt_txt': '2024-10-22 09:00:00'}, {'dt': 1729598400, 'main': {'temp': 14.18, 'feels_like': 13.87, 'temp_min': 14.18, 'temp_max': 14.18, 'pressure': 1024, 'sea_level': 1024, 'grnd_level': 1019, 'humidity': 85, 'temp_kf': 0}, 'weather': [{'id': 804, 'main': 'Clouds', 'description': 'overcast clouds', 'icon': '04d'}], 'clouds': {'all': 94}, 'wind': {'speed': 5.48, 'deg': 308, 'gust': 8.6}, 'visibility': 10000, 'pop': 0, 'sys': {'pod': 'd'}, 'dt_txt': '2024-10-22 12:00:00'}, {'dt': 1729609200, 'main': {'temp': 13.3, 'feels_like': 12.62, 'temp_min': 13.3, 'temp_max': 13.3, 'pressure': 1027, 'sea_level': 1027, 'grnd_level': 1021, 'humidity': 74, 'temp_kf': 0}, 'weather': [{'id': 804, 'main': 'Clouds', 'description': 'overcast clouds', 'icon': '04d'}], 'clouds': {'all': 97}, 'wind': {'speed': 4.21, 'deg': 311, 'gust': 6.28}, 'visibility': 10000, 'pop': 0, 'sys': {'pod': 'd'}, 'dt_txt': '2024-10-22 15:00:00'}, {'dt': 1729620000, 'main': {'temp': 11.28, 'feels_like': 10.63, 'temp_min': 11.28, 'temp_max': 11.28, 'pressure': 1029, 'sea_level': 1029, 'grnd_level': 1024, 'humidity': 83, 'temp_kf': 0}, 'weather': [{'id': 804, 'main': 'Clouds', 'description': 'overcast clouds', 'icon': '04n'}], 'clouds': {'all': 88}, 'wind': {'speed': 3.31, 'deg': 307, 'gust': 7.51}, 'visibility': 10000, 'pop': 0, 'sys': {'pod': 'n'}, 'dt_txt': '2024-10-22 18:00:00'}, {'dt': 1729630800, 'main': {'temp': 10.22, 'feels_like': 9.57, 'temp_min': 10.22, 'temp_max': 10.22, 'pressure': 1031, 'sea_level': 1031, 'grnd_level': 1025, 'humidity': 87, 'temp_kf': 0}, 'weather': [{'id': 803, 'main': 'Clouds', 'description': 'broken clouds', 'icon': '04n'}], 'clouds': {'all': 66}, 'wind': {'speed': 2.34, 'deg': 257, 'gust': 5.26}, 'visibility': 10000, 'pop': 0, 'sys': {'pod': 'n'}, 'dt_txt': '2024-10-22 21:00:00'}, {'dt': 1729641600, 'main': {'temp': 9.56, 'feels_like': 8.42, 'temp_min': 9.56, 'temp_max': 9.56, 'pressure': 1032, 'sea_level': 1032, 'grnd_level': 1027, 'humidity': 87, 'temp_kf': 0}, 'weather': [{'id': 803, 'main': 'Clouds', 'description': 'broken clouds', 'icon': '04n'}], 'clouds': {'all': 83}, 'wind': {'speed': 2.34, 'deg': 265, 'gust': 6.11}, 'visibility': 10000, 'pop': 0, 'sys': {'pod': 'n'}, 'dt_txt': '2024-10-23 00:00:00'}, {'dt': 1729652400, 'main': {'temp': 8.86, 'feels_like': 7.86, 'temp_min': 8.86, 'temp_max': 8.86, 'pressure': 1033, 'sea_level': 1033, 'grnd_level': 1027, 'humidity': 91, 'temp_kf': 0}, 'weather': [{'id': 800, 'main': 'Clear', 'description': 'clear sky', 'icon': '01n'}], 'clouds': {'all': 7}, 'wind': {'speed': 2, 'deg': 266, 'gust': 4.57}, 'visibility': 10000, 'pop': 0, 'sys': {'pod': 'n'}, 'dt_txt': '2024-10-23 03:00:00'}, {'dt': 1729663200, 'main': {'temp': 8.17, 'feels_like': 7.26, 'temp_min': 8.17, 'temp_max': 8.17, 'pressure': 1033, 'sea_level': 1033, 'grnd_level': 1028, 'humidity': 92, 'temp_kf': 0}, 'weather': [{'id': 800, 'main': 'Clear', 'description': 'clear sky', 'icon': '01d'}], 'clouds': {'all': 7}, 'wind': {'speed': 1.79, 'deg': 274, 'gust': 3.76}, 'visibility': 10000, 'pop': 0, 'sys': {'pod': 'd'}, 'dt_txt': '2024-10-23 06:00:00'}, {'dt': 1729674000, 'main': {'temp': 11.63, 'feels_like': 10.75, 'temp_min': 11.63, 'temp_max': 11.63, 'pressure': 1034, 'sea_level': 1034, 'grnd_level': 1029, 'humidity': 73, 'temp_kf': 0}, 'weather': [{'id': 802, 'main': 'Clouds', 'description': 'scattered clouds', 'icon': '03d'}], 'clouds': {'all': 27}, 'wind': {'speed': 1.89, 'deg': 259, 'gust': 2.63}, 'visibility': 10000, 'pop': 0, 'sys': {'pod': 'd'}, 'dt_txt': '2024-10-23 09:00:00'}, {'dt': 1729684800, 'main': {'temp': 14.6, 'feels_like': 13.66, 'temp_min': 14.6, 'temp_max': 14.6, 'pressure': 1034, 'sea_level': 1034, 'grnd_level': 1028, 'humidity': 59, 'temp_kf': 0}, 'weather': [{'id': 801, 'main': 'Clouds', 'description': 'few clouds', 'icon': '02d'}], 'clouds': {'all': 13}, 'wind': {'speed': 1.56, 'deg': 278, 'gust': 2}, 'visibility': 10000, 'pop': 0, 'sys': {'pod': 'd'}, 'dt_txt': '2024-10-23 12:00:00'}, {'dt': 1729695600, 'main': {'temp': 14.38, 'feels_like': 13.47, 'temp_min': 14.38, 'temp_max': 14.38, 'pressure': 1033, 'sea_level': 1033, 'grnd_level': 1028, 'humidity': 61, 'temp_kf': 0}, 'weather': [{'id': 800, 'main': 'Clear', 'description': 'clear sky', 'icon': '01d'}], 'clouds': {'all': 3}, 'wind': {'speed': 0.92, 'deg': 320, 'gust': 1.18}, 'visibility': 10000, 'pop': 0, 'sys': {'pod': 'd'}, 'dt_txt': '2024-10-23 15:00:00'}, {'dt': 1729706400, 'main': {'temp': 12.02, 'feels_like': 11.13, 'temp_min': 12.02, 'temp_max': 12.02, 'pressure': 1033, 'sea_level': 1033, 'grnd_level': 1028, 'humidity': 71, 'temp_kf': 0}, 'weather': [{'id': 800, 'main': 'Clear', 'description': 'clear sky', 'icon': '01n'}], 'clouds': {'all': 2}, 'wind': {'speed': 0.65, 'deg': 50, 'gust': 0.71}, 'visibility': 10000, 'pop': 0, 'sys': {'pod': 'n'}, 'dt_txt': '2024-10-23 18:00:00'}, {'dt': 1729717200, 'main': {'temp': 10.98, 'feels_like': 10.07, 'temp_min': 10.98, 'temp_max': 10.98, 'pressure': 1033, 'sea_level': 1033, 'grnd_level': 1028, 'humidity': 74, 'temp_kf': 0}, 'weather': [{'id': 800, 'main': 'Clear', 'description': 'clear sky', 'icon': '01n'}], 'clouds': {'all': 0}, 'wind': {'speed': 1.5, 'deg': 115, 'gust': 1.48}, 'visibility': 10000, 'pop': 0, 'sys': {'pod': 'n'}, 'dt_txt': '2024-10-23 21:00:00'}, {'dt': 1729728000, 'main': {'temp': 9.86, 'feels_like': 9.36, 'temp_min': 9.86, 'temp_max': 9.86, 'pressure': 1033, 'sea_level': 1033, 'grnd_level': 1027, 'humidity': 79, 'temp_kf': 0}, 'weather': [{'id': 800, 'main': 'Clear', 'description': 'clear sky', 'icon': '01n'}], 'clouds': {'all': 0}, 'wind': {'speed': 1.63, 'deg': 120, 'gust': 2.12}, 'visibility': 10000, 'pop': 0, 'sys': {'pod': 'n'}, 'dt_txt': '2024-10-24 00:00:00'}, {'dt': 1729738800, 'main': {'temp': 8.9, 'feels_like': 7.98, 'temp_min': 8.9, 'temp_max': 8.9, 'pressure': 1032, 'sea_level': 1032, 'grnd_level': 1027, 'humidity': 81, 'temp_kf': 0}, 'weather': [{'id': 800, 'main': 'Clear', 'description': 'clear sky', 'icon': '01n'}], 'clouds': {'all': 0}, 'wind': {'speed': 1.92, 'deg': 106, 'gust': 3.46}, 'visibility': 10000, 'pop': 0, 'sys': {'pod': 'n'}, 'dt_txt': '2024-10-24 03:00:00'}, {'dt': 1729749600, 'main': {'temp': 8.12, 'feels_like': 6.69, 'temp_min': 8.12, 'temp_max': 8.12, 'pressure': 1031, 'sea_level': 1031, 'grnd_level': 1026, 'humidity': 81, 'temp_kf': 0}, 'weather': [{'id': 800, 'main': 'Clear', 'description': 'clear sky', 'icon': '01d'}], 'clouds': {'all': 0}, 'wind': {'speed': 2.38, 'deg': 120, 'gust': 5.57}, 'visibility': 10000, 'pop': 0, 'sys': {'pod': 'd'}, 'dt_txt': '2024-10-24 06:00:00'}, {'dt': 1729760400, 'main': {'temp': 11.9, 'feels_like': 10.82, 'temp_min': 11.9, 'temp_max': 11.9, 'pressure': 1031, 'sea_level': 1031, 'grnd_level': 1025, 'humidity': 64, 'temp_kf': 0}, 'weather': [{'id': 800, 'main': 'Clear', 'description': 'clear sky', 'icon': '01d'}], 'clouds': {'all': 0}, 'wind': {'speed': 3.79, 'deg': 116, 'gust': 7.04}, 'visibility': 10000, 'pop': 0, 'sys': {'pod': 'd'}, 'dt_txt': '2024-10-24 09:00:00'}, {'dt': 1729771200, 'main': {'temp': 15.74, 'feels_like': 14.6, 'temp_min': 15.74, 'temp_max': 15.74, 'pressure': 1029, 'sea_level': 1029, 'grnd_level': 1023, 'humidity': 47, 'temp_kf': 0}, 'weather': [{'id': 800, 'main': 'Clear', 'description': 'clear sky', 'icon': '01d'}], 'clouds': {'all': 0}, 'wind': {'speed': 4.37, 'deg': 121, 'gust': 6.39}, 'visibility': 10000, 'pop': 0, 'sys': {'pod': 'd'}, 'dt_txt': '2024-10-24 12:00:00'}, {'dt': 1729782000, 'main': {'temp': 15.4, 'feels_like': 14.28, 'temp_min': 15.4, 'temp_max': 15.4, 'pressure': 1027, 'sea_level': 1027, 'grnd_level': 1021, 'humidity': 49, 'temp_kf': 0}, 'weather': [{'id': 800, 'main': 'Clear', 'description': 'clear sky', 'icon': '01d'}], 'clouds': {'all': 0}, 'wind': {'speed': 3.76, 'deg': 118, 'gust': 7.58}, 'visibility': 10000, 'pop': 0, 'sys': {'pod': 'd'}, 'dt_txt': '2024-10-24 15:00:00'}, {'dt': 1729792800, 'main': {'temp': 12.87, 'feels_like': 11.73, 'temp_min': 12.87, 'temp_max': 12.87, 'pressure': 1026, 'sea_level': 1026, 'grnd_level': 1021, 'humidity': 58, 'temp_kf': 0}, 'weather': [{'id': 800, 'main': 'Clear', 'description': 'clear sky', 'icon': '01n'}], 'clouds': {'all': 0}, 'wind': {'speed': 4.06, 'deg': 115, 'gust': 10.51}, 'visibility': 10000, 'pop': 0, 'sys': {'pod': 'n'}, 'dt_txt': '2024-10-24 18:00:00'}, {'dt': 1729803600, 'main': {'temp': 11.51, 'feels_like': 10.41, 'temp_min': 11.51, 'temp_max': 11.51, 'pressure': 1025, 'sea_level': 1025, 'grnd_level': 1020, 'humidity': 65, 'temp_kf': 0}, 'weather': [{'id': 800, 'main': 'Clear', 'description': 'clear sky', 'icon': '01n'}], 'clouds': {'all': 0}, 'wind': {'speed': 3.6, 'deg': 127, 'gust': 9.81}, 'visibility': 10000, 'pop': 0, 'sys': {'pod': 'n'}, 'dt_txt': '2024-10-24 21:00:00'}, {'dt': 1729814400, 'main': {'temp': 11, 'feels_like': 10.09, 'temp_min': 11, 'temp_max': 11, 'pressure': 1024, 'sea_level': 1024, 'grnd_level': 1018, 'humidity': 74, 'temp_kf': 0}, 'weather': [{'id': 800, 'main': 'Clear', 'description': 'clear sky', 'icon': '01n'}], 'clouds': {'all': 0}, 'wind': {'speed': 3.55, 'deg': 132, 'gust': 10.37}, 'visibility': 10000, 'pop': 0, 'sys': {'pod': 'n'}, 'dt_txt': '2024-10-25 00:00:00'}, {'dt': 1729825200, 'main': {'temp': 10.45, 'feels_like': 9.72, 'temp_min': 10.45, 'temp_max': 10.45, 'pressure': 1023, 'sea_level': 1023, 'grnd_level': 1017, 'humidity': 83, 'temp_kf': 0}, 'weather': [{'id': 800, 'main': 'Clear', 'description': 'clear sky', 'icon': '01n'}], 'clouds': {'all': 0}, 'wind': {'speed': 3.36, 'deg': 134, 'gust': 9.67}, 'visibility': 10000, 'pop': 0, 'sys': {'pod': 'n'}, 'dt_txt': '2024-10-25 03:00:00'}, {'dt': 1729836000, 'main': {'temp': 10.05, 'feels_like': 9.43, 'temp_min': 10.05, 'temp_max': 10.05, 'pressure': 1022, 'sea_level': 1022, 'grnd_level': 1016, 'humidity': 89, 'temp_kf': 0}, 'weather': [{'id': 800, 'main': 'Clear', 'description': 'clear sky', 'icon': '01d'}], 'clouds': {'all': 3}, 'wind': {'speed': 3.26, 'deg': 144, 'gust': 8.11}, 'visibility': 10000, 'pop': 0, 'sys': {'pod': 'd'}, 'dt_txt': '2024-10-25 06:00:00'}, {'dt': 1729846800, 'main': {'temp': 13.69, 'feels_like': 12.99, 'temp_min': 13.69, 'temp_max': 13.69, 'pressure': 1022, 'sea_level': 1022, 'grnd_level': 1016, 'humidity': 72, 'temp_kf': 0}, 'weather': [{'id': 802, 'main': 'Clouds', 'description': 'scattered clouds', 'icon': '03d'}], 'clouds': {'all': 27}, 'wind': {'speed': 3.51, 'deg': 164, 'gust': 6.08}, 'visibility': 10000, 'pop': 0, 'sys': {'pod': 'd'}, 'dt_txt': '2024-10-25 09:00:00'}, {'dt': 1729857600, 'main': {'temp': 17.59, 'feels_like': 16.95, 'temp_min': 17.59, 'temp_max': 17.59, 'pressure': 1021, 'sea_level': 1021, 'grnd_level': 1015, 'humidity': 59, 'temp_kf': 0}, 'weather': [{'id': 802, 'main': 'Clouds', 'description': 'scattered clouds', 'icon': '03d'}], 'clouds': {'all': 29}, 'wind': {'speed': 3.09, 'deg': 172, 'gust': 4.6}, 'visibility': 10000, 'pop': 0, 'sys': {'pod': 'd'}, 'dt_txt': '2024-10-25 12:00:00'}, {'dt': 1729868400, 'main': {'temp': 17, 'feels_like': 16.4, 'temp_min': 17, 'temp_max': 17, 'pressure': 1020, 'sea_level': 1020, 'grnd_level': 1015, 'humidity': 63, 'temp_kf': 0}, 'weather': [{'id': 800, 'main': 'Clear', 'description': 'clear sky', 'icon': '01d'}], 'clouds': {'all': 4}, 'wind': {'speed': 1.91, 'deg': 153, 'gust': 2.78}, 'visibility': 10000, 'pop': 0, 'sys': {'pod': 'd'}, 'dt_txt': '2024-10-25 15:00:00'}, {'dt': 1729879200, 'main': {'temp': 14.29, 'feels_like': 13.73, 'temp_min': 14.29, 'temp_max': 14.29, 'pressure': 1021, 'sea_level': 1021, 'grnd_level': 1015, 'humidity': 75, 'temp_kf': 0}, 'weather': [{'id': 801, 'main': 'Clouds', 'description': 'few clouds', 'icon': '02n'}], 'clouds': {'all': 11}, 'wind': {'speed': 2.35, 'deg': 141, 'gust': 4.67}, 'visibility': 10000, 'pop': 0, 'sys': {'pod': 'n'}, 'dt_txt': '2024-10-25 18:00:00'}, {'dt': 1729890000, 'main': {'temp': 12.89, 'feels_like': 12.35, 'temp_min': 12.89, 'temp_max': 12.89, 'pressure': 1021, 'sea_level': 1021, 'grnd_level': 1016, 'humidity': 81, 'temp_kf': 0}, 'weather': [{'id': 800, 'main': 'Clear', 'description': 'clear sky', 'icon': '01n'}], 'clouds': {'all': 0}, 'wind': {'speed': 2.16, 'deg': 147, 'gust': 3.82}, 'visibility': 10000, 'pop': 0, 'sys': {'pod': 'n'}, 'dt_txt': '2024-10-25 21:00:00'}, {'dt': 1729900800, 'main': {'temp': 11.88, 'feels_like': 11.32, 'temp_min': 11.88, 'temp_max': 11.88, 'pressure': 1021, 'sea_level': 1021, 'grnd_level': 1016, 'humidity': 84, 'temp_kf': 0}, 'weather': [{'id': 800, 'main': 'Clear', 'description': 'clear sky', 'icon': '01n'}], 'clouds': {'all': 0}, 'wind': {'speed': 2.11, 'deg': 137, 'gust': 3.14}, 'visibility': 10000, 'pop': 0, 'sys': {'pod': 'n'}, 'dt_txt': '2024-10-26 00:00:00'}, {'dt': 1729911600, 'main': {'temp': 10.92, 'feels_like': 10.29, 'temp_min': 10.92, 'temp_max': 10.92, 'pressure': 1021, 'sea_level': 1021, 'grnd_level': 1015, 'humidity': 85, 'temp_kf': 0}, 'weather': [{'id': 800, 'main': 'Clear', 'description': 'clear sky', 'icon': '01n'}], 'clouds': {'all': 0}, 'wind': {'speed': 2.31, 'deg': 131, 'gust': 4.53}, 'visibility': 10000, 'pop': 0, 'sys': {'pod': 'n'}, 'dt_txt': '2024-10-26 03:00:00'}, {'dt': 1729922400, 'main': {'temp': 10.3, 'feels_like': 9.63, 'temp_min': 10.3, 'temp_max': 10.3, 'pressure': 1021, 'sea_level': 1021, 'grnd_level': 1016, 'humidity': 86, 'temp_kf': 0}, 'weather': [{'id': 800, 'main': 'Clear', 'description': 'clear sky', 'icon': '01d'}], 'clouds': {'all': 4}, 'wind': {'speed': 2.25, 'deg': 131, 'gust': 4.06}, 'visibility': 10000, 'pop': 0, 'sys': {'pod': 'd'}, 'dt_txt': '2024-10-26 06:00:00'}, {'dt': 1729933200, 'main': {'temp': 13.87, 'feels_like': 12.98, 'temp_min': 13.87, 'temp_max': 13.87, 'pressure': 1021, 'sea_level': 1021, 'grnd_level': 1016, 'humidity': 64, 'temp_kf': 0}, 'weather': [{'id': 801, 'main': 'Clouds', 'description': 'few clouds', 'icon': '02d'}], 'clouds': {'all': 12}, 'wind': {'speed': 2.19, 'deg': 147, 'gust': 3.14}, 'visibility': 10000, 'pop': 0, 'sys': {'pod': 'd'}, 'dt_txt': '2024-10-26 09:00:00'}], 'city': {'id': 7576815, 'name': 'Alt-Kölln', 'coord': {'lat': 52.517, 'lon': 13.3889}, 'country': 'DE', 'population': 2000, 'timezone': 7200, 'sunrise': 1729489377, 'sunset': 1729526327}}\n"
     ]
    }
   ],
   "source": [
    "#Forecast Weather\n",
    "response1 = requests.get(\"https://api.openweathermap.org/data/2.5/forecast?lat=52.5170365&lon=13.3888599&exclude=hourly&units=metric&appid=b658d4211c02ef5cc3ab87ad1c933843\")\n",
    "Forecast = response1.json()\n",
    "print(Forecast)\n",
    "berlin_weather_forecast = pd.DataFrame([Forecast['list']])\n",
    "berlin_weather_forecast\n",
    "berlin_weather_forecast2 = pd.json_normalize(Forecast)"
   ]
  },
  {
   "cell_type": "code",
   "execution_count": 21,
   "id": "cc921338-e222-484e-8f61-9e8e6315adf4",
   "metadata": {},
   "outputs": [
    {
     "data": {
      "text/html": [
       "<div>\n",
       "<style scoped>\n",
       "    .dataframe tbody tr th:only-of-type {\n",
       "        vertical-align: middle;\n",
       "    }\n",
       "\n",
       "    .dataframe tbody tr th {\n",
       "        vertical-align: top;\n",
       "    }\n",
       "\n",
       "    .dataframe thead th {\n",
       "        text-align: right;\n",
       "    }\n",
       "</style>\n",
       "<table border=\"1\" class=\"dataframe\">\n",
       "  <thead>\n",
       "    <tr style=\"text-align: right;\">\n",
       "      <th></th>\n",
       "      <th>cod</th>\n",
       "      <th>message</th>\n",
       "      <th>cnt</th>\n",
       "      <th>list</th>\n",
       "      <th>city.id</th>\n",
       "      <th>city.name</th>\n",
       "      <th>city.coord.lat</th>\n",
       "      <th>city.coord.lon</th>\n",
       "      <th>city.country</th>\n",
       "      <th>city.population</th>\n",
       "      <th>city.timezone</th>\n",
       "      <th>city.sunrise</th>\n",
       "      <th>city.sunset</th>\n",
       "    </tr>\n",
       "  </thead>\n",
       "  <tbody>\n",
       "    <tr>\n",
       "      <th>0</th>\n",
       "      <td>200</td>\n",
       "      <td>0</td>\n",
       "      <td>40</td>\n",
       "      <td>[{'dt': 1729512000, 'main': {'temp': 16.45, 'f...</td>\n",
       "      <td>7576815</td>\n",
       "      <td>Alt-Kölln</td>\n",
       "      <td>52.517</td>\n",
       "      <td>13.3889</td>\n",
       "      <td>DE</td>\n",
       "      <td>2000</td>\n",
       "      <td>7200</td>\n",
       "      <td>1729489377</td>\n",
       "      <td>1729526327</td>\n",
       "    </tr>\n",
       "  </tbody>\n",
       "</table>\n",
       "</div>"
      ],
      "text/plain": [
       "   cod  message  cnt                                               list  \\\n",
       "0  200        0   40  [{'dt': 1729512000, 'main': {'temp': 16.45, 'f...   \n",
       "\n",
       "   city.id  city.name  city.coord.lat  city.coord.lon city.country  \\\n",
       "0  7576815  Alt-Kölln          52.517         13.3889           DE   \n",
       "\n",
       "   city.population  city.timezone  city.sunrise  city.sunset  \n",
       "0             2000           7200    1729489377   1729526327  "
      ]
     },
     "execution_count": 21,
     "metadata": {},
     "output_type": "execute_result"
    }
   ],
   "source": [
    "berlin_weather_forecast2.head(20)\n"
   ]
  },
  {
   "cell_type": "code",
   "execution_count": 15,
   "id": "07ca2049-7e19-4483-be56-185cbcdd2e08",
   "metadata": {},
   "outputs": [
    {
     "name": "stdout",
     "output_type": "stream",
     "text": [
      "   cod  message  cnt                                               list  \\\n",
      "0  200        0   40  [{'dt': 1729501200, 'main': {'temp': 15.31, 'f...   \n",
      "\n",
      "   city.id  city.name  city.coord.lat  city.coord.lon city.country  \\\n",
      "0  7576815  Alt-Kölln          52.517         13.3889           DE   \n",
      "\n",
      "   city.population  city.timezone  city.sunrise  city.sunset  \n",
      "0             2000           7200    1729489377   1729526327  \n"
     ]
    }
   ],
   "source": [
    "print(berlin_weather_forecast2)"
   ]
  }
 ],
 "metadata": {
  "kernelspec": {
   "display_name": "Python 3 (ipykernel)",
   "language": "python",
   "name": "python3"
  },
  "language_info": {
   "codemirror_mode": {
    "name": "ipython",
    "version": 3
   },
   "file_extension": ".py",
   "mimetype": "text/x-python",
   "name": "python",
   "nbconvert_exporter": "python",
   "pygments_lexer": "ipython3",
   "version": "3.9.20"
  }
 },
 "nbformat": 4,
 "nbformat_minor": 5
}

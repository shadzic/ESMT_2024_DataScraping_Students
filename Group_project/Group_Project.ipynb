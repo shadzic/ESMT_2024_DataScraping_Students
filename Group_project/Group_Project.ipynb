{
 "cells": [
  {
   "cell_type": "markdown",
   "id": "ec53c0a8-133a-4675-96cb-a540991f9b62",
   "metadata": {},
   "source": [
    "# Group Project: Data-driven Business Manager with APIs\n",
    "\n",
    "#### Number of points: 30 (weights 30% in the final grade)\n",
    "#### Deadline to form the groups: October 18th at 12:30 pm CET\n",
    "#### Deadline for the code submission: October 24th at 01:29 pm CET\n",
    "#### Presentations on October 24th"
   ]
  },
  {
   "cell_type": "markdown",
   "id": "9f539776-8b27-44a9-8cfd-a71371dbe043",
   "metadata": {},
   "source": [
    "## Objective\n",
    "In this project, you will create a Business that utilizes various APIs to make informed decisions about running your local business. If you want to sell drinks or street food or whatever floats your boat, do not hesitate to find your data and design the project accordingly. You will collect data from meteorological and non-meteorological APIs to help your business determine when, where, and how much inventory is needed to maximize sales. "
   ]
  },
  {
   "cell_type": "markdown",
   "id": "c6b11027-afe7-4f63-a309-e512995375df",
   "metadata": {},
   "source": [
    "## Grading\n",
    "\n",
    "In total, the group project counts for 30% of the final grade and represents 30 points.\n",
    "\n",
    "The points are distributed in two parts: the code and the presentation.\n",
    "\n",
    "- Some items e.g. Statistics are represented in both parts and will require to compute them in the code **and** present them during the presentation.\n",
    "- Please note that the data must come from an API. You need to use at least 3 APIs (weather + two others). You can also of course use data downloaded from the internet, however they cannot replace the API data.\n",
    "- Additionally, emphasis will be put on the **Storytelling** and whether or not the choice of APIs, data processing, statistics and visualisations are relevant for your business.\n",
    "- To make grading easier, please provide **clean code** with **relevant comments** to make it straightforward what you are doing.\n",
    "- Everyone in the group project must present during presentation day. **A penalty of -2 points** will be applied to each person **who does not present a significant part** during the presentation.\n",
    "\n",
    "\n",
    "| **Code** | **15 points** |\n",
    "| --- | --- |\n",
    "| A. Collect data from weather API | 3 points |\n",
    "| B. Collect data from two other non-meteorological APIs | 4 points |\n",
    "| C. Data cleaning and processing | 3 points |\n",
    "| D. Compute relevant statistics | 2 points |\n",
    "| E. Clean and clear visualisations  | 3 points |\n",
    "\n",
    "\n",
    "| **Presentation** | **15 points** |\n",
    "| --- | --- |\n",
    "| 1. Description of unique business idea | 1 point |\n",
    "| 2. Presentation of all the APIs used and how it serves your business | 3 points |\n",
    "| 3. Presentation of the data cleaning and processing | 2 points |\n",
    "| 4. Presentation of the statistics | 2 points |\n",
    "| 5. Presentation of the visualisations and how they serve the business| 3 points |\n",
    "| 6. Storytelling | 4 points |\n",
    "\n",
    "**Penalty: -2 points to each person who does not present a significant part during the presentation.**\n",
    "\n",
    "\n",
    "**Penalty for unexcused absence or lateness**: \n",
    "- If you are absent or late on presentation day without an official excuse, you will receive 0 for the presentation part of the group project.\n",
    "- If you are late without an official excuse and can still make it to the presentation of your team, you will still receive 0 for the presentation part of the group project."
   ]
  },
  {
   "cell_type": "markdown",
   "id": "519e47f3-51ae-440c-a2ed-cbf2647c7d7e",
   "metadata": {},
   "source": [
    "## Getting Ready\n",
    "#### Recommended deadline: October 8th\n",
    "#### Deadline: October 18th at 12:30 pm CET\n",
    "\n",
    "1. Form your group and select a group name. Communicate your group name to the teacher along with the First Name and Last Name of all the team members.\n",
    "\n",
    "2. Create a branch on the **Students** repository with your group name (exactly the same as the one communicated to the teacher).\n",
    "\n",
    "3. Discuss with your group and answer the following questions:\n",
    "\n",
    "   - What kind of business do we run? What do we sell ? The choice of the business must be original and unique to your group.\n",
    "   - How do we name our business?\n",
    "   - When do we operate? Is it an all-year-round business or a seasonal one? If so, which seasons? Which months / weeks / days / hours of the day do we operate?\n",
    "   - Where do we operate? In which countries / cities are we currently active ? Where do we want to develop in the future ? Determine where to set up your business stand based on weather conditions, local attractions, or events. The location should maximize customer traffic and sales."
   ]
  },
  {
   "cell_type": "markdown",
   "id": "5f57de6f-d6ae-4dde-a79d-7c3e1b9f9470",
   "metadata": {},
   "source": [
    "## Code | A. Collect data from weather API | 3 points\n",
    "#### Recommended deadline: October 18th\n",
    "#### Deadline: October 24th at 01:29 pm CET\n",
    "Use the OpenWeatherMap API to fetch weather data for your chosen location. You can select any city or location for your business.\n",
    "\n",
    "- Fetch your chosen location's current temperature and weather conditions.\n",
    "- Fetch the forecasted weather data for the next few days (e.g., five days)."
   ]
  },
  {
   "cell_type": "code",
   "execution_count": null,
   "id": "da73d6cb-81b3-4d7e-a6d8-2f113f2663d9",
   "metadata": {},
   "outputs": [],
   "source": []
  },
  {
   "cell_type": "code",
   "execution_count": null,
   "id": "43c3e8f9-79c1-4a48-b734-da3e32f0b154",
   "metadata": {},
   "outputs": [],
   "source": []
  },
  {
   "cell_type": "code",
   "execution_count": null,
   "id": "473164ba-fbf9-4d5a-96d1-c8964e581b49",
   "metadata": {},
   "outputs": [],
   "source": []
  },
  {
   "cell_type": "code",
   "execution_count": null,
   "id": "648bfcf3-4bbf-43ea-af80-d23bb42b96a9",
   "metadata": {},
   "outputs": [],
   "source": []
  },
  {
   "cell_type": "markdown",
   "id": "364b194b-8443-4fd5-8bda-3b7205e929c7",
   "metadata": {},
   "source": [
    "## Code | B. Collect data from two other APIs | 4 points\n",
    "#### Recommended deadline: October 18th\n",
    "#### Deadline: October 24th at 01:29 pm CET\n",
    "Integrate with **at least two** of the non-meteorological APIs you've learned about based on the location and the season.\n",
    "\n",
    "It has to be with an API (not a downloaded dataset). \n",
    "\n",
    "You can of course use a downloaded dataset on top of the two APIs you've chosen.\n",
    "\n",
    "You can also use more APIs, sky is the limit!\n",
    "\n",
    "You can choose from:\n",
    "- Google Maps,\n",
    "- TripAdvisor,\n",
    "- News API,\n",
    "- Yelp,\n",
    "- Wikipedia,\n",
    "- Booking,\n",
    "- Amadeus Travel API,\n",
    "- Foursquare,\n",
    "- etc. (make your own research and be original!)\n",
    "\n",
    "Each API can provide different types of information. Pick the ones that best suit your application.\n",
    "\n",
    "\n",
    "After collecting all the data you need, save them."
   ]
  },
  {
   "cell_type": "code",
   "execution_count": null,
   "id": "144a84df-e09f-449a-82a0-ea6098121cf1",
   "metadata": {},
   "outputs": [],
   "source": []
  },
  {
   "cell_type": "code",
   "execution_count": null,
   "id": "c065bbc7-4643-4a65-a5e9-0615517f7999",
   "metadata": {},
   "outputs": [],
   "source": []
  },
  {
   "cell_type": "code",
   "execution_count": null,
   "id": "49cc290e-cad6-4a9d-b7c0-fe27bc52c7c9",
   "metadata": {},
   "outputs": [],
   "source": []
  },
  {
   "cell_type": "code",
   "execution_count": null,
   "id": "b881f54d-a451-4f15-889c-226be6285310",
   "metadata": {},
   "outputs": [],
   "source": []
  },
  {
   "cell_type": "code",
   "execution_count": null,
   "id": "e930dd77-2b42-4cd8-87dc-53bbc4771706",
   "metadata": {},
   "outputs": [],
   "source": []
  },
  {
   "cell_type": "markdown",
   "id": "255dc3ee-d438-429b-8fde-1ee6db039f34",
   "metadata": {},
   "source": [
    "## Code | C. Data cleaning and processing | 3 points\n",
    "#### Recommended deadline: from October 18th until October 21st\n",
    "#### Deadline: October 24th at 01:29 pm CET\n",
    "\n",
    "In order to make data-driven decisions, you will need to clean the collected data, fill missing values, merge datasets etc.\n",
    "\n",
    "Take some time to clean and process the collected data so that you can use it.\n",
    "\n",
    "Organize the dataset into a structured format, such as a CSV file, HTML file, EXCEL file, and a table where each row represents the achieved data."
   ]
  },
  {
   "cell_type": "markdown",
   "id": "7dc974d5-52c1-4bf4-9044-d17735e02ed4",
   "metadata": {},
   "source": []
  },
  {
   "cell_type": "code",
   "execution_count": null,
   "id": "3d7fba14-1628-4ce3-96ab-215d153e9f0c",
   "metadata": {},
   "outputs": [],
   "source": []
  },
  {
   "cell_type": "code",
   "execution_count": null,
   "id": "f7a38507-2c5b-4517-8cab-eb9b8427af7f",
   "metadata": {},
   "outputs": [],
   "source": []
  },
  {
   "cell_type": "code",
   "execution_count": null,
   "id": "08210ca2-d9b9-4c82-adeb-edb755ff7788",
   "metadata": {},
   "outputs": [],
   "source": []
  },
  {
   "cell_type": "markdown",
   "id": "fb4c7552-5ee6-4ea0-a1fa-6578f9fc9ca0",
   "metadata": {},
   "source": [
    "## Code | D. Compute relevant statistics | 2 points\n",
    "#### Recommended deadline: from October 18th until October 21st\n",
    "#### Deadline: October 24th at 01:29 pm CET\n",
    "\n",
    "Get together as a group and ask yourselves: what business questions would you like to answer? For example:\n",
    "\n",
    "- On which days are there maximum customer traffic?\n",
    "- On which days do we expect to make more sales?\n",
    "- How much inventory should we get? Why?\n",
    "- Which impact would the weather conditions, local attractions or events have on your business?\n",
    "- How would you like to develop the business in the future?\n",
    "    - Do you wish to expand to new locations?\n",
    "    - Launch a new product?\n",
    "    - Target more elderly or young people?\n",
    "    - Target vegetarian or book-worm people?\n",
    "\n",
    "Compute descriptive statistics that inform you about the future of your business and enable you to answer the business questions.|\n"
   ]
  },
  {
   "cell_type": "code",
   "execution_count": null,
   "id": "975c6735-11dd-49b5-a85e-a2d48a2fe6f4",
   "metadata": {},
   "outputs": [],
   "source": []
  },
  {
   "cell_type": "code",
   "execution_count": null,
   "id": "eba758c6-6733-4602-a949-b4624647ec5f",
   "metadata": {},
   "outputs": [],
   "source": []
  },
  {
   "cell_type": "code",
   "execution_count": null,
   "id": "92d92851-8daa-4e06-88ea-add4af0c3f5b",
   "metadata": {},
   "outputs": [],
   "source": []
  },
  {
   "cell_type": "code",
   "execution_count": null,
   "id": "e14d8e15-a194-452d-a423-ef1f0fc9fb6f",
   "metadata": {},
   "outputs": [],
   "source": []
  },
  {
   "cell_type": "markdown",
   "id": "7f1a6a40-648f-40f4-a3b9-f8e971297a4b",
   "metadata": {},
   "source": [
    "## Code | E. Clean and clear visualisations  | 3 points\n",
    "#### Deadline: October 24th at 01:29 pm CET\n",
    "\n",
    "Create **at least 3 data visualisations** that clearly state your point and support your decision-making. \n",
    "\n",
    "\n",
    "**Presentation: present each data visualisation and integrate them in your storytelling. Explain why they are relevant for your decision-making.**"
   ]
  },
  {
   "cell_type": "code",
   "execution_count": null,
   "id": "cb0dcc38-af9c-42f9-aef2-ffb428cfd04d",
   "metadata": {},
   "outputs": [],
   "source": []
  },
  {
   "cell_type": "code",
   "execution_count": null,
   "id": "a58095da-633f-4a13-9e9b-3219f77f75cb",
   "metadata": {},
   "outputs": [],
   "source": []
  },
  {
   "cell_type": "code",
   "execution_count": null,
   "id": "6aebae1b-11d2-4b55-a6dc-a15026deb042",
   "metadata": {},
   "outputs": [],
   "source": []
  },
  {
   "cell_type": "code",
   "execution_count": null,
   "id": "e2f0d147-aadb-486d-8454-a98efb0e810f",
   "metadata": {},
   "outputs": [],
   "source": []
  },
  {
   "cell_type": "markdown",
   "id": "b0948046-36fe-4cd8-bc28-0dc914fef0fe",
   "metadata": {},
   "source": [
    "## Presentation | 15 points\n",
    "#### Deadline: October 24th during class\n",
    "\n",
    "> Make a presentation about your business, the data you've collected and the direction you're taking the business in the next months.\n",
    "\n",
    "**Presentation | 1. Description of unique business idea | 1 point**\n",
    "\n",
    "Summarise the name and choice of business as well as location and the time of year it operates (you can add some branding, logo, etc.)\n",
    "\n",
    "\n",
    "**Presentation | 2. Presentation of all the APIs used and how it serves your business | 3 points**\n",
    "\n",
    "Present each API and explain why the collected data is relevant for your business.\n",
    "\n",
    "\n",
    "**Presentation | 3. Presentation of the data cleaning and processing | 2 points**\n",
    "\n",
    "Explain the steps your team took in order to get to a clean and structured dataset.\n",
    "\n",
    "\n",
    "**Presentation | 4. Presentation of the statistics  & 5. Data visualisations | 5 points**\n",
    "\n",
    "Display the statistics and relevant data visualisations that helped you make informed decisions about your business. The descriptive statistics and visualisations enable you to draw conclusions that take your business in one or the other direction. You need to explain how this information serves your business and the next steps you will take.\n",
    "\n",
    "**Presentation | 6. Storytelling | 4 points**\n",
    "\n",
    "Why did you pick this business idea? Why this name?\n",
    "\n",
    "Who is your target audience? What problem does it solve?\n",
    "\n",
    "What decisions did you make to make your business thrive in the future? What are your current challenges? Opportunities?\n",
    "\n",
    "Can Data save your business or make it expand to new territories?\n",
    "\n",
    "\n",
    "Create a good story!"
   ]
  },
  {
   "cell_type": "code",
   "execution_count": null,
   "id": "a25c20df-95ec-4f57-b1ea-9cb4ae1fa8ac",
   "metadata": {},
   "outputs": [],
   "source": []
  }
 ],
 "metadata": {
  "kernelspec": {
   "display_name": "Python 3 (ipykernel)",
   "language": "python",
   "name": "python3"
  },
  "language_info": {
   "codemirror_mode": {
    "name": "ipython",
    "version": 3
   },
   "file_extension": ".py",
   "mimetype": "text/x-python",
   "name": "python",
   "nbconvert_exporter": "python",
   "pygments_lexer": "ipython3",
   "version": "3.9.19"
  }
 },
 "nbformat": 4,
 "nbformat_minor": 5
}

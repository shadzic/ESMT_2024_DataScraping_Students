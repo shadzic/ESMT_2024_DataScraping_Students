{
 "cells": [
  {
   "cell_type": "markdown",
   "id": "ec53c0a8-133a-4675-96cb-a540991f9b62",
   "metadata": {},
   "source": [
    "# Group Project: Data-driven Business Manager with APIs\n",
    "\n",
    "#### Number of points: 30 (weights 30% in the final grade)\n",
    "#### Deadline to form the groups: October 18th at 12:30 pm CET\n",
    "#### Deadline for the code submission: October 24th at 01:29 pm CET\n",
    "#### Presentations on October 24th"
   ]
  },
  {
   "cell_type": "markdown",
   "id": "9f539776-8b27-44a9-8cfd-a71371dbe043",
   "metadata": {},
   "source": [
    "## Objective\n",
    "In this project, you will create a Business that utilizes various APIs to make informed decisions about running your local business. If you want to sell drinks or street food or whatever floats your boat, do not hesitate to find your data and design the project accordingly. You will collect data from meteorological and non-meteorological APIs to help your business determine when, where, and how much inventory is needed to maximize sales. "
   ]
  },
  {
   "cell_type": "markdown",
   "id": "c6b11027-afe7-4f63-a309-e512995375df",
   "metadata": {},
   "source": [
    "## Grading\n",
    "\n",
    "In total, the group project counts for 30% of the final grade and represents 30 points.\n",
    "\n",
    "The points are distributed in two parts: the code and the presentation.\n",
    "\n",
    "- Some items e.g. Statistics are represented in both parts and will require to compute them in the code **and** present them during the presentation.\n",
    "- Please note that the data must come from an API. You need to use at least 3 APIs (weather + two others). You can also of course use data downloaded from the internet, however they cannot replace the API data.\n",
    "- Additionally, emphasis will be put on the **Storytelling** and whether or not the choice of APIs, data processing, statistics and visualisations are relevant for your business.\n",
    "- To make grading easier, please provide **clean code** with **relevant comments** to make it straightforward what you are doing.\n",
    "- Everyone in the group project must present during presentation day. **A penalty of -2 points** will be applied to each person **who does not present a significant part** during the presentation.\n",
    "\n",
    "\n",
    "| **Code** | **15 points** |\n",
    "| --- | --- |\n",
    "| A. Collect data from weather API | 3 points |\n",
    "| B. Collect data from two other non-meteorological APIs | 4 points |\n",
    "| C. Data cleaning and processing | 3 points |\n",
    "| D. Compute relevant statistics | 2 points |\n",
    "| E. Clean and clear visualisations  | 3 points |\n",
    "\n",
    "\n",
    "| **Presentation** | **15 points** |\n",
    "| --- | --- |\n",
    "| 1. Description of unique business idea | 1 point |\n",
    "| 2. Presentation of all the APIs used and how it serves your business | 3 points |\n",
    "| 3. Presentation of the data cleaning and processing | 2 points |\n",
    "| 4. Presentation of the statistics | 2 points |\n",
    "| 5. Presentation of the visualisations and how they serve the business| 3 points |\n",
    "| 6. Storytelling | 4 points |\n",
    "\n",
    "**Penalty: -2 points to each person who does not present a significant part during the presentation.**\n",
    "\n",
    "\n",
    "**Penalty for unexcused absence or lateness**: \n",
    "- If you are absent or late on presentation day without an official excuse, you will receive 0 for the presentation part of the group project.\n",
    "- If you are late without an official excuse and can still make it to the presentation of your team, you will still receive 0 for the presentation part of the group project."
   ]
  },
  {
   "cell_type": "markdown",
   "id": "519e47f3-51ae-440c-a2ed-cbf2647c7d7e",
   "metadata": {},
   "source": [
    "## Getting Ready\n",
    "#### Recommended deadline: October 8th\n",
    "#### Deadline: October 18th at 12:30 pm CET\n",
    "\n",
    "1. Form your group and select a group name. Communicate your group name to the teacher along with the First Name and Last Name of all the team members.\n",
    "\n",
    "2. Create a branch on the **Students** repository with your group name (exactly the same as the one communicated to the teacher).\n",
    "\n",
    "3. Discuss with your group and answer the following questions:\n",
    "\n",
    "   - What kind of business do we run? What do we sell ? The choice of the business must be original and unique to your group.\n",
    "   - How do we name our business?\n",
    "   - When do we operate? Is it an all-year-round business or a seasonal one? If so, which seasons? Which months / weeks / days / hours of the day do we operate?\n",
    "   - Where do we operate? In which countries / cities are we currently active ? Where do we want to develop in the future ? Determine where to set up your business stand based on weather conditions, local attractions, or events. The location should maximize customer traffic and sales."
   ]
  },
  {
   "cell_type": "markdown",
   "id": "5f57de6f-d6ae-4dde-a79d-7c3e1b9f9470",
   "metadata": {},
   "source": [
    "## Code | A. Collect data from weather API | 3 points\n",
    "#### Recommended deadline: October 18th\n",
    "#### Deadline: October 24th at 01:29 pm CET\n",
    "Use the OpenWeatherMap API to fetch weather data for your chosen location. You can select any city or location for your business.\n",
    "\n",
    "- Fetch your chosen location's current temperature and weather conditions.\n",
    "- Fetch the forecasted weather data for the next few days (e.g., five days)."
   ]
  },
  {
   "cell_type": "code",
   "execution_count": 322,
   "id": "da73d6cb-81b3-4d7e-a6d8-2f113f2663d9",
   "metadata": {
    "ExecuteTime": {
     "end_time": "2024-10-15T08:43:54.874092Z",
     "start_time": "2024-10-15T08:43:54.841903Z"
    }
   },
   "outputs": [],
   "source": [
    "import requests\n",
    "import pandas as pd\n",
    "import matplotlib.pyplot as plt\n",
    "from datetime import datetime, timedelta\n",
    "\n",
    "private_api_key = \"\"\n",
    "\n",
    "#Set the dates for the upcoming week dynamically \n",
    "today = datetime.today()\n",
    "\n",
    "# Set the start date as today\n",
    "start_date = today.strftime('%Y-%m-%d')\n",
    "\n",
    "# Set the end date as 7 days from today\n",
    "end_date = (today + timedelta(days=7)).strftime('%Y-%m-%d')"
   ]
  },
  {
   "cell_type": "code",
   "execution_count": 337,
   "id": "43c3e8f9-79c1-4a48-b734-da3e32f0b154",
   "metadata": {},
   "outputs": [],
   "source": [
    "# Parameters for the next 7 days\n",
    "params = {\n",
    "    \"lat\": 52.5200,  # Berlin's latitude\n",
    "    \"lon\": 13.404954,  # Berlin's longitude\n",
    "    \"start\": start_date,  # Dynamic start date (today)\n",
    "    \"end\": end_date  # Dynamic end date (7 days from today)\n",
    "}\n",
    "\n",
    "# API Request\n",
    "response = requests.get(\n",
    "    \"https://meteostat.p.rapidapi.com/point/daily\",\n",
    "    params=params,\n",
    "    headers={\n",
    "        \"X-RapidAPI-Host\": \"meteostat.p.rapidapi.com\",\n",
    "        \"X-RapidAPI-Key\": private_api_key  # Add your private API key here\n",
    "    }\n",
    ")\n",
    "\n",
    "if response.status_code == 200:\n",
    "    # Parse JSON data\n",
    "    data = response.json()['data']\n",
    "    \n",
    "    # Create DataFrame\n",
    "    df_weather = pd.DataFrame(data)\n",
    "\n",
    "else:\n",
    "    print(f\"Failed to retrieve data: {response.status_code}\")"
   ]
  },
  {
   "cell_type": "code",
   "execution_count": 338,
   "id": "bba43a8b-d76d-4380-a830-a62167af4785",
   "metadata": {},
   "outputs": [
    {
     "data": {
      "text/html": [
       "<div>\n",
       "<style scoped>\n",
       "    .dataframe tbody tr th:only-of-type {\n",
       "        vertical-align: middle;\n",
       "    }\n",
       "\n",
       "    .dataframe tbody tr th {\n",
       "        vertical-align: top;\n",
       "    }\n",
       "\n",
       "    .dataframe thead th {\n",
       "        text-align: right;\n",
       "    }\n",
       "</style>\n",
       "<table border=\"1\" class=\"dataframe\">\n",
       "  <thead>\n",
       "    <tr style=\"text-align: right;\">\n",
       "      <th></th>\n",
       "      <th>date</th>\n",
       "      <th>tavg</th>\n",
       "      <th>tmin</th>\n",
       "      <th>tmax</th>\n",
       "      <th>prcp</th>\n",
       "      <th>snow</th>\n",
       "      <th>wdir</th>\n",
       "      <th>wspd</th>\n",
       "      <th>wpgt</th>\n",
       "      <th>pres</th>\n",
       "      <th>tsun</th>\n",
       "    </tr>\n",
       "  </thead>\n",
       "  <tbody>\n",
       "    <tr>\n",
       "      <th>0</th>\n",
       "      <td>2024-10-21</td>\n",
       "      <td>14.3</td>\n",
       "      <td>11.8</td>\n",
       "      <td>17.4</td>\n",
       "      <td>0.6</td>\n",
       "      <td>None</td>\n",
       "      <td>192.0</td>\n",
       "      <td>12.7</td>\n",
       "      <td>24.1</td>\n",
       "      <td>1022.9</td>\n",
       "      <td>None</td>\n",
       "    </tr>\n",
       "    <tr>\n",
       "      <th>1</th>\n",
       "      <td>2024-10-22</td>\n",
       "      <td>12.6</td>\n",
       "      <td>8.8</td>\n",
       "      <td>14.0</td>\n",
       "      <td>NaN</td>\n",
       "      <td>None</td>\n",
       "      <td>250.0</td>\n",
       "      <td>11.5</td>\n",
       "      <td>27.8</td>\n",
       "      <td>1025.9</td>\n",
       "      <td>None</td>\n",
       "    </tr>\n",
       "    <tr>\n",
       "      <th>2</th>\n",
       "      <td>2024-10-23</td>\n",
       "      <td>9.9</td>\n",
       "      <td>6.6</td>\n",
       "      <td>15.1</td>\n",
       "      <td>NaN</td>\n",
       "      <td>None</td>\n",
       "      <td>229.0</td>\n",
       "      <td>9.9</td>\n",
       "      <td>20.4</td>\n",
       "      <td>1033.1</td>\n",
       "      <td>None</td>\n",
       "    </tr>\n",
       "    <tr>\n",
       "      <th>3</th>\n",
       "      <td>2024-10-24</td>\n",
       "      <td>9.7</td>\n",
       "      <td>5.4</td>\n",
       "      <td>15.4</td>\n",
       "      <td>NaN</td>\n",
       "      <td>None</td>\n",
       "      <td>147.0</td>\n",
       "      <td>11.5</td>\n",
       "      <td>24.1</td>\n",
       "      <td>1030.0</td>\n",
       "      <td>None</td>\n",
       "    </tr>\n",
       "    <tr>\n",
       "      <th>4</th>\n",
       "      <td>2024-10-25</td>\n",
       "      <td>11.0</td>\n",
       "      <td>8.1</td>\n",
       "      <td>15.2</td>\n",
       "      <td>NaN</td>\n",
       "      <td>None</td>\n",
       "      <td>150.0</td>\n",
       "      <td>13.2</td>\n",
       "      <td>27.8</td>\n",
       "      <td>1022.3</td>\n",
       "      <td>None</td>\n",
       "    </tr>\n",
       "    <tr>\n",
       "      <th>5</th>\n",
       "      <td>2024-10-26</td>\n",
       "      <td>10.6</td>\n",
       "      <td>8.7</td>\n",
       "      <td>13.4</td>\n",
       "      <td>NaN</td>\n",
       "      <td>None</td>\n",
       "      <td>175.0</td>\n",
       "      <td>11.7</td>\n",
       "      <td>25.9</td>\n",
       "      <td>1019.8</td>\n",
       "      <td>None</td>\n",
       "    </tr>\n",
       "    <tr>\n",
       "      <th>6</th>\n",
       "      <td>2024-10-27</td>\n",
       "      <td>9.4</td>\n",
       "      <td>7.7</td>\n",
       "      <td>12.4</td>\n",
       "      <td>NaN</td>\n",
       "      <td>None</td>\n",
       "      <td>188.0</td>\n",
       "      <td>11.6</td>\n",
       "      <td>25.9</td>\n",
       "      <td>1020.7</td>\n",
       "      <td>None</td>\n",
       "    </tr>\n",
       "    <tr>\n",
       "      <th>7</th>\n",
       "      <td>2024-10-28</td>\n",
       "      <td>8.5</td>\n",
       "      <td>6.7</td>\n",
       "      <td>11.1</td>\n",
       "      <td>NaN</td>\n",
       "      <td>None</td>\n",
       "      <td>209.0</td>\n",
       "      <td>12.8</td>\n",
       "      <td>27.8</td>\n",
       "      <td>1019.9</td>\n",
       "      <td>None</td>\n",
       "    </tr>\n",
       "  </tbody>\n",
       "</table>\n",
       "</div>"
      ],
      "text/plain": [
       "         date  tavg  tmin  tmax  prcp  snow   wdir  wspd  wpgt    pres  tsun\n",
       "0  2024-10-21  14.3  11.8  17.4   0.6  None  192.0  12.7  24.1  1022.9  None\n",
       "1  2024-10-22  12.6   8.8  14.0   NaN  None  250.0  11.5  27.8  1025.9  None\n",
       "2  2024-10-23   9.9   6.6  15.1   NaN  None  229.0   9.9  20.4  1033.1  None\n",
       "3  2024-10-24   9.7   5.4  15.4   NaN  None  147.0  11.5  24.1  1030.0  None\n",
       "4  2024-10-25  11.0   8.1  15.2   NaN  None  150.0  13.2  27.8  1022.3  None\n",
       "5  2024-10-26  10.6   8.7  13.4   NaN  None  175.0  11.7  25.9  1019.8  None\n",
       "6  2024-10-27   9.4   7.7  12.4   NaN  None  188.0  11.6  25.9  1020.7  None\n",
       "7  2024-10-28   8.5   6.7  11.1   NaN  None  209.0  12.8  27.8  1019.9  None"
      ]
     },
     "execution_count": 338,
     "metadata": {},
     "output_type": "execute_result"
    }
   ],
   "source": [
    "df_weather"
   ]
  },
  {
   "cell_type": "markdown",
   "id": "364b194b-8443-4fd5-8bda-3b7205e929c7",
   "metadata": {},
   "source": [
    "## Code | B. Collect data from two other APIs | 4 points\n",
    "#### Recommended deadline: October 18th\n",
    "#### Deadline: October 24th at 01:29 pm CET\n",
    "Integrate with **at least two** of the non-meteorological APIs you've learned about based on the location and the season.\n",
    "\n",
    "It has to be with an API (not a downloaded dataset). \n",
    "\n",
    "You can of course use a downloaded dataset on top of the two APIs you've chosen.\n",
    "\n",
    "You can also use more APIs, sky is the limit!\n",
    "\n",
    "You can choose from:\n",
    "- Google Maps,\n",
    "- TripAdvisor,\n",
    "- News API,\n",
    "- Yelp,\n",
    "- Wikipedia,\n",
    "- Booking,\n",
    "- Amadeus Travel API,\n",
    "- Foursquare,\n",
    "- etc. (make your own research and be original!)\n",
    "\n",
    "Each API can provide different types of information. Pick the ones that best suit your application.\n",
    "\n",
    "\n",
    "After collecting all the data you need, save them."
   ]
  },
  {
   "cell_type": "code",
   "execution_count": 3,
   "id": "144a84df-e09f-449a-82a0-ea6098121cf1",
   "metadata": {},
   "outputs": [],
   "source": [
    "# Read the token from the file\n",
    "with open('token.txt', 'r') as file:\n",
    "    # Read the content and store it in a string\n",
    "    api_key = file.read().strip()\n"
   ]
  },
  {
   "cell_type": "code",
   "execution_count": 119,
   "id": "c065bbc7-4643-4a65-a5e9-0615517f7999",
   "metadata": {},
   "outputs": [],
   "source": [
    "from serpapi import GoogleSearch\n",
    "\n",
    "def get_events(api_key, num_pages=5):\n",
    "    all_events = []\n",
    "    \n",
    "    for page in range(num_pages):\n",
    "        params = {\n",
    "            \"engine\": \"google_events\",\n",
    "            \"q\": \"Events in Berlin\",\n",
    "            \"hl\": \"en\",\n",
    "            \"gl\": \"us\",\n",
    "            \"api_key\": api_key,\n",
    "            \"start\": page * 10  # Pagination logic: starts at 0, 10, 20, etc.\n",
    "        }\n",
    "\n",
    "        search = GoogleSearch(params)\n",
    "        results = search.get_dict()\n",
    "        \n",
    "        # Append events from current page to all_events\n",
    "        if \"events_results\" in results:\n",
    "            all_events.extend(results[\"events_results\"])\n",
    "    \n",
    "    return all_events\n",
    "\n",
    "# Example usage\n",
    "events_results = get_events(api_key, num_pages=20)"
   ]
  },
  {
   "cell_type": "code",
   "execution_count": 120,
   "id": "b881f54d-a451-4f15-889c-226be6285310",
   "metadata": {},
   "outputs": [
    {
     "name": "stdout",
     "output_type": "stream",
     "text": [
      "Successfully retrieved 163 events\n"
     ]
    }
   ],
   "source": [
    "print(f\"Successfully retrieved {len(events_results)} events\")"
   ]
  },
  {
   "cell_type": "code",
   "execution_count": 121,
   "id": "e930dd77-2b42-4cd8-87dc-53bbc4771706",
   "metadata": {},
   "outputs": [
    {
     "name": "stdout",
     "output_type": "stream",
     "text": [
      "'venue'\n",
      "list index out of range\n",
      "'venue'\n",
      "list index out of range\n",
      "list index out of range\n",
      "'venue'\n",
      "list index out of range\n",
      "Extracted data for 156 events.\n"
     ]
    }
   ],
   "source": [
    "events = []\n",
    "for event in events_results:\n",
    "    try:\n",
    "        current_event = {\n",
    "            \"name\": event['title'],\n",
    "            \"date\": event['date'].get('start_date'),\n",
    "            \"address\": f\"{event.get('address')[0].split(', ')[1]} {event.get('address')[1]}\",\n",
    "            \"rating\": event['venue'].get('rating'),\n",
    "            \"reviews\": event['venue'].get('reviews'),\n",
    "        }\n",
    "        events.append(current_event)\n",
    "    except Exception as e:\n",
    "        print(e)\n",
    "    \n",
    "print(f\"Extracted data for {len(events)} events.\")"
   ]
  },
  {
   "cell_type": "code",
   "execution_count": 122,
   "id": "e16dec67-a942-494d-ba84-6dba84077249",
   "metadata": {},
   "outputs": [],
   "source": [
    "from geopy.geocoders import Nominatim\n",
    "import pandas as pd\n",
    "import time\n",
    "\n",
    "# Create a geolocator object\n",
    "geolocator = Nominatim(user_agent=\"event_locator\")\n",
    "\n",
    "# Function to get the coordinates\n",
    "def get_coordinates(address):\n",
    "    try:\n",
    "        # To avoid overloading the geocoding service, it's a good idea to add a delay between requests\n",
    "        time.sleep(1)\n",
    "        location = geolocator.geocode(address)\n",
    "        if location:\n",
    "            return (location.latitude, location.longitude)\n",
    "        else:\n",
    "            return (None, None)\n",
    "    except Exception as e:\n",
    "        print(f\"Error fetching coordinates for {address}: {e}\")\n",
    "        return (None, None)"
   ]
  },
  {
   "cell_type": "code",
   "execution_count": 123,
   "id": "a68f4885-e675-470d-8c5a-b3a7be93ee9b",
   "metadata": {},
   "outputs": [],
   "source": [
    "# Extract data into lists\n",
    "event_names = [item['name'] for item in events]\n",
    "event_dates = [item['date'] for item in events]\n",
    "addresses = [item['address'] for item in events]\n",
    "ratings = [item['rating'] for item in events]\n",
    "nr_reviews = [item['reviews'] for item in events]\n",
    "\n",
    "# Get coordinates for each address\n",
    "coordinates = [get_coordinates(address) for address in addresses]\n",
    "\n",
    "# Split coordinates into separate latitude and longitude columns\n",
    "latitudes = [coord[0] for coord in coordinates]\n",
    "longitudes = [coord[1] for coord in coordinates]"
   ]
  },
  {
   "cell_type": "code",
   "execution_count": 329,
   "id": "b2b10b55-3c02-4afc-9e10-dcad5e30c634",
   "metadata": {},
   "outputs": [],
   "source": [
    "# Create a DataFrame\n",
    "df = pd.DataFrame({\n",
    "    \"Event Name\": event_names,\n",
    "    \"Date\": event_dates,\n",
    "    \"Address\": addresses,\n",
    "    \"Latitude\": latitudes,\n",
    "    \"Longitude\": longitudes,\n",
    "    \"Rating\": ratings,\n",
    "    \"Reviews\": nr_reviews\n",
    "    \n",
    "})"
   ]
  },
  {
   "cell_type": "code",
   "execution_count": 330,
   "id": "14b092d1-072c-4527-abc4-2cb0d8bb3fb6",
   "metadata": {},
   "outputs": [
    {
     "data": {
      "text/html": [
       "<div>\n",
       "<style scoped>\n",
       "    .dataframe tbody tr th:only-of-type {\n",
       "        vertical-align: middle;\n",
       "    }\n",
       "\n",
       "    .dataframe tbody tr th {\n",
       "        vertical-align: top;\n",
       "    }\n",
       "\n",
       "    .dataframe thead th {\n",
       "        text-align: right;\n",
       "    }\n",
       "</style>\n",
       "<table border=\"1\" class=\"dataframe\">\n",
       "  <thead>\n",
       "    <tr style=\"text-align: right;\">\n",
       "      <th></th>\n",
       "      <th>Event Name</th>\n",
       "      <th>Date</th>\n",
       "      <th>Address</th>\n",
       "      <th>Latitude</th>\n",
       "      <th>Longitude</th>\n",
       "      <th>Rating</th>\n",
       "      <th>Reviews</th>\n",
       "    </tr>\n",
       "  </thead>\n",
       "  <tbody>\n",
       "    <tr>\n",
       "      <th>0</th>\n",
       "      <td>Nena</td>\n",
       "      <td>Oct 25</td>\n",
       "      <td>Am Falkpl. 1 Berlin, Germany</td>\n",
       "      <td>52.545948</td>\n",
       "      <td>13.406041</td>\n",
       "      <td>4.5</td>\n",
       "      <td>4818</td>\n",
       "    </tr>\n",
       "    <tr>\n",
       "      <th>1</th>\n",
       "      <td>Interpol</td>\n",
       "      <td>Oct 23</td>\n",
       "      <td>Möckernstraße 10 Berlin, Germany</td>\n",
       "      <td>52.501606</td>\n",
       "      <td>13.381191</td>\n",
       "      <td>4.4</td>\n",
       "      <td>9778</td>\n",
       "    </tr>\n",
       "    <tr>\n",
       "      <th>2</th>\n",
       "      <td>Imminence / Aviana / ALLT</td>\n",
       "      <td>Oct 24</td>\n",
       "      <td>Columbiadamm 9-11 Berlin, Germany</td>\n",
       "      <td>52.484730</td>\n",
       "      <td>13.391437</td>\n",
       "      <td>4.4</td>\n",
       "      <td>2189</td>\n",
       "    </tr>\n",
       "    <tr>\n",
       "      <th>3</th>\n",
       "      <td>Eivør</td>\n",
       "      <td>Oct 21</td>\n",
       "      <td>Nollendorfpl. 5 Berlin, Germany</td>\n",
       "      <td>52.498940</td>\n",
       "      <td>13.352705</td>\n",
       "      <td>4.3</td>\n",
       "      <td>1504</td>\n",
       "    </tr>\n",
       "    <tr>\n",
       "      <th>4</th>\n",
       "      <td>The World of Hans Zimmer 2024 - A New Dimension</td>\n",
       "      <td>Oct 21</td>\n",
       "      <td>Uber Platz 1 Berlin, Germany</td>\n",
       "      <td>52.506369</td>\n",
       "      <td>13.443765</td>\n",
       "      <td>4.5</td>\n",
       "      <td>31072</td>\n",
       "    </tr>\n",
       "    <tr>\n",
       "      <th>...</th>\n",
       "      <td>...</td>\n",
       "      <td>...</td>\n",
       "      <td>...</td>\n",
       "      <td>...</td>\n",
       "      <td>...</td>\n",
       "      <td>...</td>\n",
       "      <td>...</td>\n",
       "    </tr>\n",
       "    <tr>\n",
       "      <th>151</th>\n",
       "      <td>Mix Fest - Selda Bağcan, Emel Mathlouthi, Mira...</td>\n",
       "      <td>Dec 1</td>\n",
       "      <td>Columbiadamm 13-21 Berlin, Germany</td>\n",
       "      <td>52.484738</td>\n",
       "      <td>13.392546</td>\n",
       "      <td>4.2</td>\n",
       "      <td>4983</td>\n",
       "    </tr>\n",
       "    <tr>\n",
       "      <th>152</th>\n",
       "      <td>Lydia Benecke - Teufelswerk oder Hexenjagd?</td>\n",
       "      <td>Nov 8</td>\n",
       "      <td>Columbiadamm 13-21 Berlin, Germany</td>\n",
       "      <td>52.484738</td>\n",
       "      <td>13.392546</td>\n",
       "      <td>4.2</td>\n",
       "      <td>4983</td>\n",
       "    </tr>\n",
       "    <tr>\n",
       "      <th>153</th>\n",
       "      <td>Rumours of Fleetwood Mac</td>\n",
       "      <td>Feb 15</td>\n",
       "      <td>Friedrichstraße 101 Berlin, Germany</td>\n",
       "      <td>52.520771</td>\n",
       "      <td>13.388902</td>\n",
       "      <td>4.4</td>\n",
       "      <td>7115</td>\n",
       "    </tr>\n",
       "    <tr>\n",
       "      <th>154</th>\n",
       "      <td>The Libertines - European Tour 2025</td>\n",
       "      <td>Feb 5</td>\n",
       "      <td>Columbiadamm 13-21 Berlin, Germany</td>\n",
       "      <td>52.484738</td>\n",
       "      <td>13.392546</td>\n",
       "      <td>4.2</td>\n",
       "      <td>4983</td>\n",
       "    </tr>\n",
       "    <tr>\n",
       "      <th>155</th>\n",
       "      <td>Sido</td>\n",
       "      <td>Dec 22</td>\n",
       "      <td>Columbiadamm 13-21 Berlin, Germany</td>\n",
       "      <td>52.484738</td>\n",
       "      <td>13.392546</td>\n",
       "      <td>4.2</td>\n",
       "      <td>4983</td>\n",
       "    </tr>\n",
       "  </tbody>\n",
       "</table>\n",
       "<p>156 rows × 7 columns</p>\n",
       "</div>"
      ],
      "text/plain": [
       "                                            Event Name    Date  \\\n",
       "0                                                 Nena  Oct 25   \n",
       "1                                             Interpol  Oct 23   \n",
       "2                            Imminence / Aviana / ALLT  Oct 24   \n",
       "3                                                Eivør  Oct 21   \n",
       "4      The World of Hans Zimmer 2024 - A New Dimension  Oct 21   \n",
       "..                                                 ...     ...   \n",
       "151  Mix Fest - Selda Bağcan, Emel Mathlouthi, Mira...   Dec 1   \n",
       "152        Lydia Benecke - Teufelswerk oder Hexenjagd?   Nov 8   \n",
       "153                           Rumours of Fleetwood Mac  Feb 15   \n",
       "154                The Libertines - European Tour 2025   Feb 5   \n",
       "155                                               Sido  Dec 22   \n",
       "\n",
       "                                 Address   Latitude  Longitude  Rating  \\\n",
       "0           Am Falkpl. 1 Berlin, Germany  52.545948  13.406041     4.5   \n",
       "1       Möckernstraße 10 Berlin, Germany  52.501606  13.381191     4.4   \n",
       "2      Columbiadamm 9-11 Berlin, Germany  52.484730  13.391437     4.4   \n",
       "3        Nollendorfpl. 5 Berlin, Germany  52.498940  13.352705     4.3   \n",
       "4           Uber Platz 1 Berlin, Germany  52.506369  13.443765     4.5   \n",
       "..                                   ...        ...        ...     ...   \n",
       "151   Columbiadamm 13-21 Berlin, Germany  52.484738  13.392546     4.2   \n",
       "152   Columbiadamm 13-21 Berlin, Germany  52.484738  13.392546     4.2   \n",
       "153  Friedrichstraße 101 Berlin, Germany  52.520771  13.388902     4.4   \n",
       "154   Columbiadamm 13-21 Berlin, Germany  52.484738  13.392546     4.2   \n",
       "155   Columbiadamm 13-21 Berlin, Germany  52.484738  13.392546     4.2   \n",
       "\n",
       "     Reviews  \n",
       "0       4818  \n",
       "1       9778  \n",
       "2       2189  \n",
       "3       1504  \n",
       "4      31072  \n",
       "..       ...  \n",
       "151     4983  \n",
       "152     4983  \n",
       "153     7115  \n",
       "154     4983  \n",
       "155     4983  \n",
       "\n",
       "[156 rows x 7 columns]"
      ]
     },
     "execution_count": 330,
     "metadata": {},
     "output_type": "execute_result"
    }
   ],
   "source": [
    "df"
   ]
  },
  {
   "cell_type": "markdown",
   "id": "255dc3ee-d438-429b-8fde-1ee6db039f34",
   "metadata": {},
   "source": [
    "## Code | C. Data cleaning and processing | 3 points\n",
    "#### Recommended deadline: from October 18th until October 21st\n",
    "#### Deadline: October 24th at 01:29 pm CET\n",
    "\n",
    "In order to make data-driven decisions, you will need to clean the collected data, fill missing values, merge datasets etc.\n",
    "\n",
    "Take some time to clean and process the collected data so that you can use it.\n",
    "\n",
    "Organize the dataset into a structured format, such as a CSV file, HTML file, EXCEL file, and a table where each row represents the achieved data."
   ]
  },
  {
   "cell_type": "code",
   "execution_count": 331,
   "id": "3d7fba14-1628-4ce3-96ab-215d153e9f0c",
   "metadata": {},
   "outputs": [],
   "source": [
    "# Drop duplicates\n",
    "\n",
    "df.drop_duplicates(inplace=True)"
   ]
  },
  {
   "cell_type": "code",
   "execution_count": 332,
   "id": "f7a38507-2c5b-4517-8cab-eb9b8427af7f",
   "metadata": {},
   "outputs": [],
   "source": [
    "# Remove missing values\n",
    "\n",
    "df.dropna(inplace=True)"
   ]
  },
  {
   "cell_type": "code",
   "execution_count": 334,
   "id": "1bf1403c-2423-4795-99f3-051c89b9717d",
   "metadata": {},
   "outputs": [],
   "source": [
    "df['Date'] = pd.to_datetime(df['Date'] + ' 2024', format='%b %d %Y')\n",
    "df['Date'] = df['Date'].apply(lambda x: x.replace(year=2024) if x.month >= 9 else x.replace(year=2025))\n",
    "df['Day'] = df['Date'].dt.day_name()"
   ]
  },
  {
   "cell_type": "code",
   "execution_count": 335,
   "id": "27515ba3-b7fd-4632-ac14-6da1384c45c5",
   "metadata": {},
   "outputs": [
    {
     "data": {
      "text/html": [
       "<div>\n",
       "<style scoped>\n",
       "    .dataframe tbody tr th:only-of-type {\n",
       "        vertical-align: middle;\n",
       "    }\n",
       "\n",
       "    .dataframe tbody tr th {\n",
       "        vertical-align: top;\n",
       "    }\n",
       "\n",
       "    .dataframe thead th {\n",
       "        text-align: right;\n",
       "    }\n",
       "</style>\n",
       "<table border=\"1\" class=\"dataframe\">\n",
       "  <thead>\n",
       "    <tr style=\"text-align: right;\">\n",
       "      <th></th>\n",
       "      <th>Event Name</th>\n",
       "      <th>Date</th>\n",
       "      <th>Address</th>\n",
       "      <th>Latitude</th>\n",
       "      <th>Longitude</th>\n",
       "      <th>Rating</th>\n",
       "      <th>Reviews</th>\n",
       "      <th>Day</th>\n",
       "    </tr>\n",
       "  </thead>\n",
       "  <tbody>\n",
       "    <tr>\n",
       "      <th>0</th>\n",
       "      <td>Nena</td>\n",
       "      <td>2024-10-25</td>\n",
       "      <td>Am Falkpl. 1 Berlin, Germany</td>\n",
       "      <td>52.545948</td>\n",
       "      <td>13.406041</td>\n",
       "      <td>4.5</td>\n",
       "      <td>4818</td>\n",
       "      <td>Friday</td>\n",
       "    </tr>\n",
       "    <tr>\n",
       "      <th>1</th>\n",
       "      <td>Interpol</td>\n",
       "      <td>2024-10-23</td>\n",
       "      <td>Möckernstraße 10 Berlin, Germany</td>\n",
       "      <td>52.501606</td>\n",
       "      <td>13.381191</td>\n",
       "      <td>4.4</td>\n",
       "      <td>9778</td>\n",
       "      <td>Wednesday</td>\n",
       "    </tr>\n",
       "    <tr>\n",
       "      <th>2</th>\n",
       "      <td>Imminence / Aviana / ALLT</td>\n",
       "      <td>2024-10-24</td>\n",
       "      <td>Columbiadamm 9-11 Berlin, Germany</td>\n",
       "      <td>52.484730</td>\n",
       "      <td>13.391437</td>\n",
       "      <td>4.4</td>\n",
       "      <td>2189</td>\n",
       "      <td>Thursday</td>\n",
       "    </tr>\n",
       "    <tr>\n",
       "      <th>3</th>\n",
       "      <td>Eivør</td>\n",
       "      <td>2024-10-21</td>\n",
       "      <td>Nollendorfpl. 5 Berlin, Germany</td>\n",
       "      <td>52.498940</td>\n",
       "      <td>13.352705</td>\n",
       "      <td>4.3</td>\n",
       "      <td>1504</td>\n",
       "      <td>Monday</td>\n",
       "    </tr>\n",
       "    <tr>\n",
       "      <th>4</th>\n",
       "      <td>The World of Hans Zimmer 2024 - A New Dimension</td>\n",
       "      <td>2024-10-21</td>\n",
       "      <td>Uber Platz 1 Berlin, Germany</td>\n",
       "      <td>52.506369</td>\n",
       "      <td>13.443765</td>\n",
       "      <td>4.5</td>\n",
       "      <td>31072</td>\n",
       "      <td>Monday</td>\n",
       "    </tr>\n",
       "    <tr>\n",
       "      <th>...</th>\n",
       "      <td>...</td>\n",
       "      <td>...</td>\n",
       "      <td>...</td>\n",
       "      <td>...</td>\n",
       "      <td>...</td>\n",
       "      <td>...</td>\n",
       "      <td>...</td>\n",
       "      <td>...</td>\n",
       "    </tr>\n",
       "    <tr>\n",
       "      <th>151</th>\n",
       "      <td>Mix Fest - Selda Bağcan, Emel Mathlouthi, Mira...</td>\n",
       "      <td>2024-12-01</td>\n",
       "      <td>Columbiadamm 13-21 Berlin, Germany</td>\n",
       "      <td>52.484738</td>\n",
       "      <td>13.392546</td>\n",
       "      <td>4.2</td>\n",
       "      <td>4983</td>\n",
       "      <td>Sunday</td>\n",
       "    </tr>\n",
       "    <tr>\n",
       "      <th>152</th>\n",
       "      <td>Lydia Benecke - Teufelswerk oder Hexenjagd?</td>\n",
       "      <td>2024-11-08</td>\n",
       "      <td>Columbiadamm 13-21 Berlin, Germany</td>\n",
       "      <td>52.484738</td>\n",
       "      <td>13.392546</td>\n",
       "      <td>4.2</td>\n",
       "      <td>4983</td>\n",
       "      <td>Friday</td>\n",
       "    </tr>\n",
       "    <tr>\n",
       "      <th>153</th>\n",
       "      <td>Rumours of Fleetwood Mac</td>\n",
       "      <td>2025-02-15</td>\n",
       "      <td>Friedrichstraße 101 Berlin, Germany</td>\n",
       "      <td>52.520771</td>\n",
       "      <td>13.388902</td>\n",
       "      <td>4.4</td>\n",
       "      <td>7115</td>\n",
       "      <td>Saturday</td>\n",
       "    </tr>\n",
       "    <tr>\n",
       "      <th>154</th>\n",
       "      <td>The Libertines - European Tour 2025</td>\n",
       "      <td>2025-02-05</td>\n",
       "      <td>Columbiadamm 13-21 Berlin, Germany</td>\n",
       "      <td>52.484738</td>\n",
       "      <td>13.392546</td>\n",
       "      <td>4.2</td>\n",
       "      <td>4983</td>\n",
       "      <td>Wednesday</td>\n",
       "    </tr>\n",
       "    <tr>\n",
       "      <th>155</th>\n",
       "      <td>Sido</td>\n",
       "      <td>2024-12-22</td>\n",
       "      <td>Columbiadamm 13-21 Berlin, Germany</td>\n",
       "      <td>52.484738</td>\n",
       "      <td>13.392546</td>\n",
       "      <td>4.2</td>\n",
       "      <td>4983</td>\n",
       "      <td>Sunday</td>\n",
       "    </tr>\n",
       "  </tbody>\n",
       "</table>\n",
       "<p>154 rows × 8 columns</p>\n",
       "</div>"
      ],
      "text/plain": [
       "                                            Event Name       Date  \\\n",
       "0                                                 Nena 2024-10-25   \n",
       "1                                             Interpol 2024-10-23   \n",
       "2                            Imminence / Aviana / ALLT 2024-10-24   \n",
       "3                                                Eivør 2024-10-21   \n",
       "4      The World of Hans Zimmer 2024 - A New Dimension 2024-10-21   \n",
       "..                                                 ...        ...   \n",
       "151  Mix Fest - Selda Bağcan, Emel Mathlouthi, Mira... 2024-12-01   \n",
       "152        Lydia Benecke - Teufelswerk oder Hexenjagd? 2024-11-08   \n",
       "153                           Rumours of Fleetwood Mac 2025-02-15   \n",
       "154                The Libertines - European Tour 2025 2025-02-05   \n",
       "155                                               Sido 2024-12-22   \n",
       "\n",
       "                                 Address   Latitude  Longitude  Rating  \\\n",
       "0           Am Falkpl. 1 Berlin, Germany  52.545948  13.406041     4.5   \n",
       "1       Möckernstraße 10 Berlin, Germany  52.501606  13.381191     4.4   \n",
       "2      Columbiadamm 9-11 Berlin, Germany  52.484730  13.391437     4.4   \n",
       "3        Nollendorfpl. 5 Berlin, Germany  52.498940  13.352705     4.3   \n",
       "4           Uber Platz 1 Berlin, Germany  52.506369  13.443765     4.5   \n",
       "..                                   ...        ...        ...     ...   \n",
       "151   Columbiadamm 13-21 Berlin, Germany  52.484738  13.392546     4.2   \n",
       "152   Columbiadamm 13-21 Berlin, Germany  52.484738  13.392546     4.2   \n",
       "153  Friedrichstraße 101 Berlin, Germany  52.520771  13.388902     4.4   \n",
       "154   Columbiadamm 13-21 Berlin, Germany  52.484738  13.392546     4.2   \n",
       "155   Columbiadamm 13-21 Berlin, Germany  52.484738  13.392546     4.2   \n",
       "\n",
       "     Reviews        Day  \n",
       "0       4818     Friday  \n",
       "1       9778  Wednesday  \n",
       "2       2189   Thursday  \n",
       "3       1504     Monday  \n",
       "4      31072     Monday  \n",
       "..       ...        ...  \n",
       "151     4983     Sunday  \n",
       "152     4983     Friday  \n",
       "153     7115   Saturday  \n",
       "154     4983  Wednesday  \n",
       "155     4983     Sunday  \n",
       "\n",
       "[154 rows x 8 columns]"
      ]
     },
     "execution_count": 335,
     "metadata": {},
     "output_type": "execute_result"
    }
   ],
   "source": [
    "df"
   ]
  },
  {
   "cell_type": "code",
   "execution_count": 339,
   "id": "c64eac73-93ce-4a0f-9b51-a993dd836cb7",
   "metadata": {},
   "outputs": [
    {
     "name": "stdout",
     "output_type": "stream",
     "text": [
      "         date  tavg  tmin  tmax  prcp\n",
      "0  2024-10-21  14.3  11.8  17.4   0.6\n",
      "1  2024-10-22  12.6   8.8  14.0   NaN\n",
      "2  2024-10-23   9.9   6.6  15.1   NaN\n",
      "3  2024-10-24   9.7   5.4  15.4   NaN\n",
      "4  2024-10-25  11.0   8.1  15.2   NaN\n",
      "5  2024-10-26  10.6   8.7  13.4   NaN\n",
      "6  2024-10-27   9.4   7.7  12.4   NaN\n",
      "7  2024-10-28   8.5   6.7  11.1   NaN\n"
     ]
    },
    {
     "name": "stderr",
     "output_type": "stream",
     "text": [
      "C:\\Users\\peter\\AppData\\Local\\Temp\\ipykernel_14736\\1925280758.py:10: SettingWithCopyWarning:\n",
      "\n",
      "\n",
      "A value is trying to be set on a copy of a slice from a DataFrame.\n",
      "Try using .loc[row_indexer,col_indexer] = value instead\n",
      "\n",
      "See the caveats in the documentation: https://pandas.pydata.org/pandas-docs/stable/user_guide/indexing.html#returning-a-view-versus-a-copy\n",
      "\n"
     ]
    }
   ],
   "source": [
    "#cleaning the Weather dataset \n",
    "  \n",
    "# Clean the data to keep only necessary columns for visualization\n",
    "df_cleaned = df_weather[['date', 'tavg', 'tmin', 'tmax', 'prcp']]\n",
    "\n",
    "# Display the cleaned DataFrame\n",
    "print(df_cleaned)\n",
    "\n",
    "# Convert 'date' to datetime format\n",
    "df_cleaned['date'] = pd.to_datetime(df_cleaned['date'])\n",
    "\n",
    "# Set 'date' as the index for easy plotting\n",
    "df_cleaned.set_index('date', inplace=True)"
   ]
  },
  {
   "cell_type": "code",
   "execution_count": null,
   "id": "fe1de301-d9c9-4af8-8140-e255cdfba1e4",
   "metadata": {},
   "outputs": [],
   "source": []
  },
  {
   "cell_type": "code",
   "execution_count": null,
   "id": "3dbe1f88-38ed-44f3-bf0e-a0d58f60d35b",
   "metadata": {},
   "outputs": [],
   "source": []
  },
  {
   "cell_type": "code",
   "execution_count": null,
   "id": "0af25bb5-83c3-4fc0-a47b-c8cb203af09f",
   "metadata": {},
   "outputs": [],
   "source": []
  },
  {
   "cell_type": "markdown",
   "id": "fb4c7552-5ee6-4ea0-a1fa-6578f9fc9ca0",
   "metadata": {},
   "source": [
    "## Code | D. Compute relevant statistics | 2 points\n",
    "#### Recommended deadline: from October 18th until October 21st\n",
    "#### Deadline: October 24th at 01:29 pm CET\n",
    "\n",
    "Get together as a group and ask yourselves: what business questions would you like to answer? For example:\n",
    "\n",
    "- On which days are there maximum customer traffic?\n",
    "- On which days do we expect to make more sales?\n",
    "- How much inventory should we get? Why?\n",
    "- Which impact would the weather conditions, local attractions or events have on your business?\n",
    "- How would you like to develop the business in the future?\n",
    "    - Do you wish to expand to new locations?\n",
    "    - Launch a new product?\n",
    "    - Target more elderly or young people?\n",
    "    - Target vegetarian or book-worm people?\n",
    "\n",
    "Compute descriptive statistics that inform you about the future of your business and enable you to answer the business questions.|\n"
   ]
  },
  {
   "cell_type": "code",
   "execution_count": 341,
   "id": "975c6735-11dd-49b5-a85e-a2d48a2fe6f4",
   "metadata": {},
   "outputs": [],
   "source": [
    "df['Popularity'] = df['Rating'] * df['Reviews'] / df['Reviews'].max() * 100 / 5.0\n",
    "df['Popularity'] = df['Popularity'] + 40"
   ]
  },
  {
   "cell_type": "code",
   "execution_count": 342,
   "id": "d8906189-53c8-4f79-9cec-3a2e2b41bc4e",
   "metadata": {},
   "outputs": [],
   "source": [
    "import pandas as pd\n",
    "from sklearn.cluster import DBSCAN\n",
    "from sklearn.preprocessing import StandardScaler\n",
    "import numpy as np\n",
    "\n",
    "# Assuming your DataFrame has columns: 'lat', 'long', 'popularity'\n",
    "# Normalize the data\n",
    "coords_radians = np.radians(df[['Latitude', 'Longitude']].to_numpy())\n",
    "\n",
    "dbscan = DBSCAN(eps=0.0001, min_samples=3, metric='haversine')  # Using haversine distance for geo-coordinates\n",
    "df['cluster'] = dbscan.fit_predict(coords_radians)\n",
    "centroids = df[df['cluster'] != -1].groupby('cluster')[['Latitude', 'Longitude', 'Popularity']].mean()\n",
    "centroids['cluster'] = centroids.index\n",
    "centroids['Event Name'] = \"Center of cluster \" + centroids['cluster'].astype(str)\n",
    "df = pd.concat([df, centroids], ignore_index=True)"
   ]
  },
  {
   "cell_type": "code",
   "execution_count": null,
   "id": "9abfe1f6-5234-47a1-90d9-a2cb2d5aa06d",
   "metadata": {},
   "outputs": [],
   "source": []
  },
  {
   "cell_type": "code",
   "execution_count": null,
   "id": "c5018659-9033-42d9-be77-7105ebfc592d",
   "metadata": {},
   "outputs": [],
   "source": []
  },
  {
   "cell_type": "code",
   "execution_count": null,
   "id": "ced1c152-c643-4e55-b922-c6338bc0f334",
   "metadata": {},
   "outputs": [],
   "source": []
  },
  {
   "cell_type": "markdown",
   "id": "7f1a6a40-648f-40f4-a3b9-f8e971297a4b",
   "metadata": {},
   "source": [
    "## Code | E. Clean and clear visualisations  | 3 points\n",
    "#### Deadline: October 24th at 01:29 pm CET\n",
    "\n",
    "Create **at least 3 data visualisations** that clearly state your point and support your decision-making. \n",
    "\n",
    "\n",
    "**Presentation: present each data visualisation and integrate them in your storytelling. Explain why they are relevant for your decision-making.**"
   ]
  },
  {
   "cell_type": "code",
   "execution_count": 346,
   "id": "f1708a2e-3f08-4154-9849-2e76f4d0a037",
   "metadata": {},
   "outputs": [
    {
     "data": {
      "image/png": "[encoded data removed]",
      "text/plain": [
       "<Figure size 1000x600 with 1 Axes>"
      ]
     },
     "metadata": {},
     "output_type": "display_data"
    }
   ],
   "source": [
    "#Visualizing the Weather data\n",
    "\n",
    "# Plot temperature changes (average, min, max)\n",
    "plt.figure(figsize=(10, 6))\n",
    "plt.plot(df_cleaned.index, df_cleaned['tavg'], label='Average Temperature (°C)', marker='o')\n",
    "plt.plot(df_cleaned.index, df_cleaned['tmin'], label='Min Temperature (°C)', linestyle='--', marker='x')\n",
    "plt.plot(df_cleaned.index, df_cleaned['tmax'], label='Max Temperature (°C)', linestyle='--', marker='x')\n",
    "plt.title('Temperature Changes in Berlin (Next Week)')\n",
    "plt.xlabel('Date')\n",
    "plt.ylabel('Temperature (°C)')\n",
    "plt.legend()\n",
    "plt.grid(True)\n",
    "plt.xticks(rotation=45)\n",
    "plt.tight_layout()\n",
    "plt.show()"
   ]
  },
  {
   "cell_type": "code",
   "execution_count": 360,
   "id": "6aebae1b-11d2-4b55-a6dc-a15026deb042",
   "metadata": {},
   "outputs": [],
   "source": [
    "import plotly.express as px\n",
    "\n",
    "center_lat = df['Latitude'].mean()\n",
    "center_lon = df['Longitude'].mean()\n",
    "\n",
    "# Create the scatter map\n",
    "fig = px.scatter_map(df, lat=\"Latitude\", lon=\"Longitude\", size=\"Popularity\", color=\"cluster\", size_max=15, zoom=10, hover_name=\"Event Name\", title=\"Event Hotspots in Berlin\")\n",
    "fig.update_layout(showlegend=False, coloraxis_showscale=False,\n",
    "                  mapbox=dict(\n",
    "                      center ={\"lat\": center_lat, \"lon\": center_lon},\n",
    "                      zoom = 12\n",
    "                  ))\n",
    "\n",
    "# Save the figure as an HTML file and open it in the browser\n",
    "fig.write_html(\"scatter_map.html\", auto_open=True)"
   ]
  },
  {
   "cell_type": "code",
   "execution_count": 361,
   "id": "b866b340-6f1a-49d0-92ff-490c260027d5",
   "metadata": {},
   "outputs": [],
   "source": [
    "fig.write_image(\"map.png\", width=1920, height=1080, scale=2)"
   ]
  },
  {
   "cell_type": "code",
   "execution_count": 362,
   "id": "90503c8f-05df-4b05-a4d7-f5d4a8272a1b",
   "metadata": {},
   "outputs": [
    {
     "data": {
      "application/vnd.plotly.v1+json": {
       "config": {
        "plotlyServerURL": "https://plot.ly"
       },
       "data": [
        {
         "hovertemplate": "<b>%{hovertext}</b><br><br>Popularity=%{marker.size}<br>Latitude=%{lat}<br>Longitude=%{lon}<br>cluster=%{marker.color}<extra></extra>",
         "hovertext": [
          "Nena",
          "Interpol",
          "Imminence / Aviana / ALLT",
          "Eivør",
          "The World of Hans Zimmer 2024 - A New Dimension",
          "Alien Ant Farm, CKY",
          "Esther Graf",
          "Autechre",
          "Call Me Karizma - The Gloomy Tapes Tour: Europe",
          "The Ghost Inside",
          "Camouflage - Rewind To The Future And Goodbye",
          "Foy Vance",
          "Ellen Allien",
          "Dream Theater",
          "Nasty C",
          "DOECHII: Alligator Bites Never Heal Tour",
          "Lil Tjay",
          "Cultura Profética",
          "CHANCE PEÑA",
          "Aaron Frazer",
          "REDD KROSS",
          "STRFKR",
          "Ikke Hüftgold",
          "The Stranglers",
          "In Flames",
          "Ski Aggu",
          "Lampe",
          "Roy Bianco & Die Abbrunzati Boys",
          "Monster Magnet - 35th Anniversary Tour",
          "Samantha Fish",
          "Emilíana Torrini",
          "EMMANUEL PAHUD & YEFIM BRONFMAN",
          "Joan As Police Woman",
          "Ahmet Aslan - Europe Tour 2024",
          "Hilary Hahn - Orchestre Philharmonique de Radio France",
          "Mireille Mathieu",
          "Teodor Currentzis",
          "Josef Hader - Hader on Ice",
          "Gregor Meyle",
          "Daniel Barenboim conducts Beethoven and Brahms",
          "Lo Moon",
          "Aterciopelados",
          "Saint Levant",
          "THE LAST DINNER PARTY",
          "PARTYNEXTDOOR",
          "Accept",
          "G-Eazy",
          "Azahriah",
          "Seasick Steve",
          "Iron & Wine",
          "Morad",
          "Dormir Bien",
          "Ravyn Lenae",
          "6arelyhuman",
          "Beach Weather",
          "ZHU",
          "The Marías - The Submarine Tour",
          "SMASH INTO PIECES",
          "Cradle of Filth",
          "Meshell Ndegeocello, aja monet",
          "Victoria Canal",
          "Cuco",
          "Gitte Haenning",
          "Marcus King",
          "Sido",
          "Ice Spice",
          "Max Richter",
          "NAS - Illmatic 30 Year Anniversary Tour",
          "Bon Entendeur",
          "Smokie",
          "Gianna Nannini",
          "Baby Gang",
          "Sido",
          "ELYANNA - Europe 2024",
          "Nia Archives",
          "Vicky Leandros",
          "Sido",
          "Amyl and The Sniffers",
          "Sido",
          "Dark Tranquillity",
          "Maximo Park",
          "Wanda",
          "Tom Walker",
          "Pablo López",
          "Myles Kennedy, Black River Delta",
          "Tayc, Dadju",
          "Ben Howard, Bess Atwell",
          "The Sheepdogs",
          "London Grammar - The Greatest Love Arena Tour",
          "Mark Eliyahu",
          "Ben Böhmer",
          "Jake Bugg",
          "Benson Boone",
          "Sido",
          "FRANZ KAFKA: DIE VERWANDLUNG",
          "Molchat Doma",
          "Falling In Reverse",
          "Sido",
          "Berlin: Transmission - The Sound of Joy Division (UK) \"45 years of Closer Tour 2025\"",
          "Sido",
          "Sound of Nashville präsentiert: Koe Wetzel - Damn Near Normal World Tour 2024",
          "Russ",
          "The Human League - Generations",
          "Beth Hart",
          "Sasha Alex Sloan",
          "NCT",
          "Bülent Ceylan",
          "Fontaines D.C.",
          "Cigarettes After Sex",
          "Twenty One Pilots",
          "Peter Cat Recording Co.",
          "Bradley Simpson",
          "KYGO WORLD TOUR – VIP PACKAGES",
          "Beabadoobee",
          "Good Neighbours",
          "Magdalena Bay",
          "UB40",
          "BLADEE",
          "Gracie Abrams",
          "Carson Coma",
          "Ludovico Einaudi",
          "Royel Otis",
          "XG",
          "Hava, Dardan",
          "Pete & Bas - Euro Trash Tour",
          "Tori Kelly",
          "Jacob Collier - Djesse UK & Europe Tour",
          "Jinjer",
          "Shawn Mendes",
          "Tribute to The Bee Gees",
          "Timmy Trumpet",
          "RUSS - It Was You All Along Europe Tour 2024",
          "Jethro Tull",
          "Sido",
          "Sum 41",
          "Lord Zeppelin",
          "Nada Surf",
          "Sebastian Fitzek",
          "Gitte Hænning",
          "The Dare",
          "Kelly Lee Owens",
          "Sido",
          "Tokio Hotel",
          "Jess Glynne Berlin Tickets",
          "Yung Gravy",
          "Zemfira",
          "Fally Ipupa",
          "Tango",
          "Sofi Tukker",
          "Mix Fest - Selda Bağcan, Emel Mathlouthi, Miraz & Co.",
          "Lydia Benecke - Teufelswerk oder Hexenjagd?",
          "Rumours of Fleetwood Mac",
          "The Libertines - European Tour 2025",
          "Sido",
          "Center of cluster 0",
          "Center of cluster 1",
          "Center of cluster 2",
          "Center of cluster 3",
          "Center of cluster 4",
          "Center of cluster 5",
          "Center of cluster 6",
          "Center of cluster 7",
          "Center of cluster 8",
          "Center of cluster 9",
          "Center of cluster 10",
          "Center of cluster 11",
          "Center of cluster 12"
         ],
         "lat": [
          52.5459484,
          52.501606300000006,
          52.4847302,
          52.498939899999996,
          52.506368699999996,
          52.4847302,
          52.496887,
          52.4872491,
          52.539321349999994,
          52.4864896,
          52.48473825,
          52.5000715,
          52.4745562,
          52.5055537,
          52.5000715,
          52.4992172,
          52.5055537,
          52.50761155,
          52.50761155,
          52.4847302,
          52.4992172,
          52.4643506,
          52.498939899999996,
          52.5207714,
          52.48473825,
          52.5459484,
          52.5000715,
          52.48473825,
          52.4864896,
          52.4643506,
          52.507941849999995,
          52.5154359,
          52.4770235,
          52.48948105,
          52.509988750000005,
          52.5207714,
          52.509988750000005,
          52.5207714,
          52.40333,
          52.509988750000005,
          52.539321349999994,
          52.5003909,
          52.50761155,
          52.50761155,
          52.48473825,
          52.4864896,
          52.48473825,
          52.498939899999996,
          52.498939899999996,
          52.4864896,
          52.501606300000006,
          52.5008511,
          52.51190285,
          52.4794629,
          52.539321349999994,
          52.496887,
          52.540292199999996,
          52.4864896,
          52.5003909,
          52.5306542,
          52.539321349999994,
          52.4643506,
          52.5193308,
          52.498939899999996,
          52.48473825,
          52.48473825,
          52.5207714,
          52.5055537,
          52.498939899999996,
          52.5239216,
          52.5055537,
          52.50761155,
          52.48473825,
          52.498939899999996,
          52.498939899999996,
          52.501606300000006,
          52.48473825,
          52.48473825,
          52.48473825,
          52.50761155,
          52.498939899999996,
          52.5459484,
          52.50761155,
          52.5003909,
          52.4847302,
          52.48473825,
          52.5055537,
          52.539321349999994,
          52.529188000000005,
          52.501240100000004,
          52.529188000000005,
          52.4992172,
          52.5055537,
          52.48473825,
          52.5185239,
          52.501606300000006,
          52.529188000000005,
          52.48473825,
          52.539321349999994,
          52.48473825,
          52.539321349999994,
          52.5055537,
          52.4864896,
          52.5459484,
          52.49606705,
          52.506368699999996,
          52.5207714,
          52.5055537,
          52.506368699999996,
          52.506368699999996,
          52.496887,
          52.49606705,
          52.506368699999996,
          52.48473825,
          52.5001814,
          52.539321349999994,
          52.48473825,
          52.48473825,
          52.529188000000005,
          52.539321349999994,
          52.509988750000005,
          52.498939899999996,
          52.506368699999996,
          52.48473825,
          52.5003909,
          52.498939899999996,
          52.5459484,
          52.48473825,
          52.501606300000006,
          52.5207714,
          52.5055537,
          52.5055537,
          52.5207714,
          52.48473825,
          52.5055537,
          52.5092347,
          52.498939899999996,
          52.506368699999996,
          52.5135351,
          52.49606705,
          52.5114866,
          52.48473825,
          52.5055537,
          52.4847302,
          52.498939899999996,
          52.5055537,
          52.5055537,
          52.509988750000005,
          52.5055537,
          52.48473825,
          52.48473825,
          52.5207714,
          52.48473825,
          52.48473825,
          52.5459484,
          52.501606300000006,
          52.4848852046875,
          52.4991042,
          52.50426817125,
          52.539418434999995,
          52.4864896,
          52.46435060000001,
          52.520368418181825,
          52.51057980833334,
          52.5003909,
          52.529188000000005,
          52.49606705
         ],
         "legendgroup": "",
         "lon": [
          13.406041,
          13.381190860617572,
          13.391436690214334,
          13.352704762253847,
          13.443765151369332,
          13.391436690214334,
          13.4514731,
          13.4774693,
          13.413965534751178,
          13.4217418,
          13.392545968363551,
          13.4348491,
          13.4573503,
          13.443475210273935,
          13.4348491,
          13.4450748,
          13.443475210273935,
          13.45164500939796,
          13.45164500939796,
          13.391436690214334,
          13.4450748,
          13.4333842,
          13.352704762253847,
          13.3889021,
          13.392545968363551,
          13.406041,
          13.4348491,
          13.392545968363551,
          13.4217418,
          13.4333842,
          13.276628110730936,
          13.3963671,
          13.4399161,
          13.397182238768197,
          13.369605892605993,
          13.3889021,
          13.369605892605993,
          13.3889021,
          13.073322676473726,
          13.369605892605993,
          13.413965534751178,
          13.4221612,
          13.45164500939796,
          13.45164500939796,
          13.392545968363551,
          13.4217418,
          13.392545968363551,
          13.352704762253847,
          13.352704762253847,
          13.4217418,
          13.381190860617572,
          13.441528917329597,
          13.42536489035857,
          13.4337837,
          13.413965534751178,
          13.4514731,
          13.414078305125324,
          13.4217418,
          13.4221612,
          13.4286665,
          13.413965534751178,
          13.4333842,
          13.3681627,
          13.352704762253847,
          13.392545968363551,
          13.392545968363551,
          13.3889021,
          13.443475210273935,
          13.352704762253847,
          13.3888786,
          13.443475210273935,
          13.45164500939796,
          13.392545968363551,
          13.352704762253847,
          13.352704762253847,
          13.381190860617572,
          13.392545968363551,
          13.392545968363551,
          13.392545968363551,
          13.45164500939796,
          13.352704762253847,
          13.406041,
          13.45164500939796,
          13.4221612,
          13.391436690214334,
          13.392545968363551,
          13.443475210273935,
          13.413965534751178,
          13.452652736989002,
          13.348062339960975,
          13.452652736989002,
          13.4450748,
          13.443475210273935,
          13.392545968363551,
          13.3954981,
          13.381190860617572,
          13.452652736989002,
          13.392545968363551,
          13.413965534751178,
          13.392545968363551,
          13.413965534751178,
          13.443475210273935,
          13.4217418,
          13.406041,
          13.387467168215412,
          13.443765151369332,
          13.3889021,
          13.443475210273935,
          13.443765151369332,
          13.443765151369332,
          13.4514731,
          13.387467168215412,
          13.443765151369332,
          13.392545968363551,
          13.435547,
          13.413965534751178,
          13.392545968363551,
          13.392545968363551,
          13.452652736989002,
          13.413965534751178,
          13.369605892605993,
          13.352704762253847,
          13.443765151369332,
          13.392545968363551,
          13.4221612,
          13.352704762253847,
          13.406041,
          13.392545968363551,
          13.381190860617572,
          13.3889021,
          13.443475210273935,
          13.443475210273935,
          13.3889021,
          13.392545968363551,
          13.443475210273935,
          13.3022355,
          13.352704762253847,
          13.443765151369332,
          13.3647609,
          13.387467168215412,
          13.4268355,
          13.392545968363551,
          13.443475210273935,
          13.391436690214334,
          13.352704762253847,
          13.443475210273935,
          13.443475210273935,
          13.369605892605993,
          13.443475210273935,
          13.392545968363551,
          13.392545968363551,
          13.3889021,
          13.392545968363551,
          13.392545968363551,
          13.406040999999998,
          13.381190860617574,
          13.392517527102882,
          13.352373160661498,
          13.444781654920243,
          13.413976811788592,
          13.4217418,
          13.4333842,
          13.390178236363635,
          13.368798393838327,
          13.4221612,
          13.452652736989002,
          13.387467168215414
         ],
         "marker": {
          "color": [
           0,
           1,
           2,
           3,
           4,
           2,
           4,
           -1,
           5,
           6,
           2,
           4,
           -1,
           4,
           4,
           4,
           4,
           4,
           4,
           2,
           4,
           7,
           3,
           8,
           2,
           0,
           4,
           2,
           6,
           7,
           -1,
           8,
           -1,
           2,
           9,
           8,
           9,
           8,
           -1,
           9,
           5,
           10,
           4,
           4,
           2,
           6,
           2,
           3,
           3,
           6,
           1,
           4,
           -1,
           -1,
           5,
           4,
           5,
           6,
           10,
           -1,
           5,
           7,
           -1,
           3,
           2,
           2,
           8,
           4,
           3,
           8,
           4,
           4,
           2,
           3,
           3,
           1,
           2,
           2,
           2,
           4,
           3,
           0,
           4,
           10,
           2,
           2,
           4,
           5,
           11,
           3,
           11,
           4,
           4,
           2,
           8,
           1,
           11,
           2,
           5,
           2,
           5,
           4,
           6,
           0,
           12,
           4,
           8,
           4,
           4,
           4,
           4,
           12,
           4,
           2,
           4,
           5,
           2,
           2,
           11,
           5,
           9,
           3,
           4,
           2,
           10,
           3,
           0,
           2,
           1,
           8,
           4,
           4,
           8,
           2,
           4,
           -1,
           3,
           4,
           9,
           12,
           -1,
           2,
           4,
           2,
           3,
           4,
           4,
           9,
           4,
           2,
           2,
           8,
           2,
           2,
           0,
           1,
           2,
           3,
           4,
           5,
           6,
           7,
           8,
           9,
           10,
           11,
           12
          ],
          "coloraxis": "coloraxis",
          "size": [
           53.95488044282818,
           67.69169375341937,
           46.19933704502301,
           44.162584880764655,
           129.99710359476072,
           46.19933704502301,
           49.52415280146751,
           40.32529849065105,
           43.027837672577476,
           56.046342483828404,
           53.47060148682136,
           42.89151353264892,
           40.003218228043636,
           49.65082225726515,
           42.89151353264892,
           44.181958613587355,
           49.65082225726515,
           50.428603610851866,
           50.428603610851866,
           46.19933704502301,
           44.181958613587355,
           42.42422682071252,
           44.162584880764655,
           60.14996942683359,
           53.47060148682136,
           53.95488044282818,
           42.89151353264892,
           53.47060148682136,
           56.046342483828404,
           42.42422682071252,
           42.39513403919802,
           42.42525665368648,
           44.75499629903775,
           40.00579281047855,
           70.66945579763782,
           60.14996942683359,
           70.66945579763782,
           60.14996942683359,
           42.65735526019374,
           70.66945579763782,
           43.027837672577476,
           47.1512245357706,
           50.428603610851866,
           50.428603610851866,
           53.47060148682136,
           56.046342483828404,
           53.47060148682136,
           44.162584880764655,
           44.162584880764655,
           56.046342483828404,
           67.69169375341937,
           41.02185176841631,
           41.065877128053295,
           42.15865864255141,
           40.046342483828404,
           49.52415280146751,
           46.91867537733724,
           56.046342483828404,
           47.1512245357706,
           41.18462974286358,
           43.027837672577476,
           42.42422682071252,
           49.91561806069578,
           44.162584880764655,
           53.47060148682136,
           53.47060148682136,
           60.14996942683359,
           49.65082225726515,
           44.162584880764655,
           100.51176262349951,
           49.65082225726515,
           50.428603610851866,
           53.47060148682136,
           44.162584880764655,
           44.162584880764655,
           67.69169375341937,
           53.47060148682136,
           53.47060148682136,
           53.47060148682136,
           50.428603610851866,
           44.162584880764655,
           53.957776848067454,
           50.428603610851866,
           47.1512245357706,
           46.19933704502301,
           53.47060148682136,
           49.65082225726515,
           43.027837672577476,
           54.80024458533131,
           43.068258616805586,
           54.80024458533131,
           44.181958613587355,
           49.65082225726515,
           53.47060148682136,
           40.39674315321984,
           67.69169375341937,
           54.80024458533131,
           53.47060148682136,
           43.027837672577476,
           53.47060148682136,
           43.027837672577476,
           49.65082225726515,
           56.04917452450681,
           53.957776848067454,
           41.76545554017957,
           130,
           60.14996942683359,
           49.65082225726515,
           130,
           130,
           49.52415280146751,
           41.76545554017957,
           130,
           53.47060148682136,
           42.89151353264892,
           43.027837672577476,
           53.47060148682136,
           53.47060148682136,
           54.80024458533131,
           43.027837672577476,
           70.66945579763782,
           44.162584880764655,
           130,
           53.47060148682136,
           47.15412094100988,
           44.162584880764655,
           53.957776848067454,
           53.47060148682136,
           67.69169375341937,
           60.14996942683359,
           49.65082225726515,
           49.65082225726515,
           60.14996942683359,
           53.47060148682136,
           49.65082225726515,
           41.036526888295306,
           44.162584880764655,
           130,
           49.91561806069578,
           41.76545554017957,
           41.065877128053295,
           53.47060148682136,
           49.65082225726515,
           46.19933704502301,
           44.162584880764655,
           49.65082225726515,
           49.65082225726515,
           70.66945579763782,
           49.65082225726515,
           53.47060148682136,
           53.47060148682136,
           60.14996942683359,
           53.47060148682136,
           53.47060148682136,
           53.95661828597174,
           67.69169375341937,
           51.91369114665466,
           44.084418719053296,
           62.536647571846935,
           43.118771924178546,
           56.04681449060814,
           42.42422682071252,
           60.41213798591587,
           67.21048284148081,
           47.15194863708042,
           54.80024458533131,
           41.76545554017957
          ],
          "sizemode": "area",
          "sizeref": 0.5777777777777777
         },
         "mode": "markers",
         "name": "",
         "showlegend": false,
         "subplot": "map",
         "type": "scattermap"
        }
       ],
       "layout": {
        "autosize": true,
        "coloraxis": {
         "colorbar": {
          "title": {
           "text": "cluster"
          }
         },
         "colorscale": [
          [
           0,
           "#0d0887"
          ],
          [
           0.1111111111111111,
           "#46039f"
          ],
          [
           0.2222222222222222,
           "#7201a8"
          ],
          [
           0.3333333333333333,
           "#9c179e"
          ],
          [
           0.4444444444444444,
           "#bd3786"
          ],
          [
           0.5555555555555556,
           "#d8576b"
          ],
          [
           0.6666666666666666,
           "#ed7953"
          ],
          [
           0.7777777777777778,
           "#fb9f3a"
          ],
          [
           0.8888888888888888,
           "#fdca26"
          ],
          [
           1,
           "#f0f921"
          ]
         ],
         "showscale": false
        },
        "legend": {
         "itemsizing": "constant",
         "tracegroupgap": 0
        },
        "map": {
         "bearing": 0,
         "center": {
          "lat": 52.52429567498433,
          "lon": 13.351531593479422
         },
         "domain": {
          "x": [
           0,
           1
          ],
          "y": [
           0,
           1
          ]
         },
         "pitch": 0,
         "zoom": 12.663371016296338
        },
        "mapbox": {
         "center": {
          "lat": 52.50303799663146,
          "lon": 13.405598744778617
         },
         "zoom": 12
        },
        "showlegend": false,
        "template": {
         "data": {
          "bar": [
           {
            "error_x": {
             "color": "#2a3f5f"
            },
            "error_y": {
             "color": "#2a3f5f"
            },
            "marker": {
             "line": {
              "color": "#E5ECF6",
              "width": 0.5
             },
             "pattern": {
              "fillmode": "overlay",
              "size": 10,
              "solidity": 0.2
             }
            },
            "type": "bar"
           }
          ],
          "barpolar": [
           {
            "marker": {
             "line": {
              "color": "#E5ECF6",
              "width": 0.5
             },
             "pattern": {
              "fillmode": "overlay",
              "size": 10,
              "solidity": 0.2
             }
            },
            "type": "barpolar"
           }
          ],
          "carpet": [
           {
            "aaxis": {
             "endlinecolor": "#2a3f5f",
             "gridcolor": "white",
             "linecolor": "white",
             "minorgridcolor": "white",
             "startlinecolor": "#2a3f5f"
            },
            "baxis": {
             "endlinecolor": "#2a3f5f",
             "gridcolor": "white",
             "linecolor": "white",
             "minorgridcolor": "white",
             "startlinecolor": "#2a3f5f"
            },
            "type": "carpet"
           }
          ],
          "choropleth": [
           {
            "colorbar": {
             "outlinewidth": 0,
             "ticks": ""
            },
            "type": "choropleth"
           }
          ],
          "contour": [
           {
            "colorbar": {
             "outlinewidth": 0,
             "ticks": ""
            },
            "colorscale": [
             [
              0,
              "#0d0887"
             ],
             [
              0.1111111111111111,
              "#46039f"
             ],
             [
              0.2222222222222222,
              "#7201a8"
             ],
             [
              0.3333333333333333,
              "#9c179e"
             ],
             [
              0.4444444444444444,
              "#bd3786"
             ],
             [
              0.5555555555555556,
              "#d8576b"
             ],
             [
              0.6666666666666666,
              "#ed7953"
             ],
             [
              0.7777777777777778,
              "#fb9f3a"
             ],
             [
              0.8888888888888888,
              "#fdca26"
             ],
             [
              1,
              "#f0f921"
             ]
            ],
            "type": "contour"
           }
          ],
          "contourcarpet": [
           {
            "colorbar": {
             "outlinewidth": 0,
             "ticks": ""
            },
            "type": "contourcarpet"
           }
          ],
          "heatmap": [
           {
            "colorbar": {
             "outlinewidth": 0,
             "ticks": ""
            },
            "colorscale": [
             [
              0,
              "#0d0887"
             ],
             [
              0.1111111111111111,
              "#46039f"
             ],
             [
              0.2222222222222222,
              "#7201a8"
             ],
             [
              0.3333333333333333,
              "#9c179e"
             ],
             [
              0.4444444444444444,
              "#bd3786"
             ],
             [
              0.5555555555555556,
              "#d8576b"
             ],
             [
              0.6666666666666666,
              "#ed7953"
             ],
             [
              0.7777777777777778,
              "#fb9f3a"
             ],
             [
              0.8888888888888888,
              "#fdca26"
             ],
             [
              1,
              "#f0f921"
             ]
            ],
            "type": "heatmap"
           }
          ],
          "heatmapgl": [
           {
            "colorbar": {
             "outlinewidth": 0,
             "ticks": ""
            },
            "colorscale": [
             [
              0,
              "#0d0887"
             ],
             [
              0.1111111111111111,
              "#46039f"
             ],
             [
              0.2222222222222222,
              "#7201a8"
             ],
             [
              0.3333333333333333,
              "#9c179e"
             ],
             [
              0.4444444444444444,
              "#bd3786"
             ],
             [
              0.5555555555555556,
              "#d8576b"
             ],
             [
              0.6666666666666666,
              "#ed7953"
             ],
             [
              0.7777777777777778,
              "#fb9f3a"
             ],
             [
              0.8888888888888888,
              "#fdca26"
             ],
             [
              1,
              "#f0f921"
             ]
            ],
            "type": "heatmapgl"
           }
          ],
          "histogram": [
           {
            "marker": {
             "pattern": {
              "fillmode": "overlay",
              "size": 10,
              "solidity": 0.2
             }
            },
            "type": "histogram"
           }
          ],
          "histogram2d": [
           {
            "colorbar": {
             "outlinewidth": 0,
             "ticks": ""
            },
            "colorscale": [
             [
              0,
              "#0d0887"
             ],
             [
              0.1111111111111111,
              "#46039f"
             ],
             [
              0.2222222222222222,
              "#7201a8"
             ],
             [
              0.3333333333333333,
              "#9c179e"
             ],
             [
              0.4444444444444444,
              "#bd3786"
             ],
             [
              0.5555555555555556,
              "#d8576b"
             ],
             [
              0.6666666666666666,
              "#ed7953"
             ],
             [
              0.7777777777777778,
              "#fb9f3a"
             ],
             [
              0.8888888888888888,
              "#fdca26"
             ],
             [
              1,
              "#f0f921"
             ]
            ],
            "type": "histogram2d"
           }
          ],
          "histogram2dcontour": [
           {
            "colorbar": {
             "outlinewidth": 0,
             "ticks": ""
            },
            "colorscale": [
             [
              0,
              "#0d0887"
             ],
             [
              0.1111111111111111,
              "#46039f"
             ],
             [
              0.2222222222222222,
              "#7201a8"
             ],
             [
              0.3333333333333333,
              "#9c179e"
             ],
             [
              0.4444444444444444,
              "#bd3786"
             ],
             [
              0.5555555555555556,
              "#d8576b"
             ],
             [
              0.6666666666666666,
              "#ed7953"
             ],
             [
              0.7777777777777778,
              "#fb9f3a"
             ],
             [
              0.8888888888888888,
              "#fdca26"
             ],
             [
              1,
              "#f0f921"
             ]
            ],
            "type": "histogram2dcontour"
           }
          ],
          "mesh3d": [
           {
            "colorbar": {
             "outlinewidth": 0,
             "ticks": ""
            },
            "type": "mesh3d"
           }
          ],
          "parcoords": [
           {
            "line": {
             "colorbar": {
              "outlinewidth": 0,
              "ticks": ""
             }
            },
            "type": "parcoords"
           }
          ],
          "pie": [
           {
            "automargin": true,
            "type": "pie"
           }
          ],
          "scatter": [
           {
            "fillpattern": {
             "fillmode": "overlay",
             "size": 10,
             "solidity": 0.2
            },
            "type": "scatter"
           }
          ],
          "scatter3d": [
           {
            "line": {
             "colorbar": {
              "outlinewidth": 0,
              "ticks": ""
             }
            },
            "marker": {
             "colorbar": {
              "outlinewidth": 0,
              "ticks": ""
             }
            },
            "type": "scatter3d"
           }
          ],
          "scattercarpet": [
           {
            "marker": {
             "colorbar": {
              "outlinewidth": 0,
              "ticks": ""
             }
            },
            "type": "scattercarpet"
           }
          ],
          "scattergeo": [
           {
            "marker": {
             "colorbar": {
              "outlinewidth": 0,
              "ticks": ""
             }
            },
            "type": "scattergeo"
           }
          ],
          "scattergl": [
           {
            "marker": {
             "colorbar": {
              "outlinewidth": 0,
              "ticks": ""
             }
            },
            "type": "scattergl"
           }
          ],
          "scattermapbox": [
           {
            "marker": {
             "colorbar": {
              "outlinewidth": 0,
              "ticks": ""
             }
            },
            "type": "scattermapbox"
           }
          ],
          "scatterpolar": [
           {
            "marker": {
             "colorbar": {
              "outlinewidth": 0,
              "ticks": ""
             }
            },
            "type": "scatterpolar"
           }
          ],
          "scatterpolargl": [
           {
            "marker": {
             "colorbar": {
              "outlinewidth": 0,
              "ticks": ""
             }
            },
            "type": "scatterpolargl"
           }
          ],
          "scatterternary": [
           {
            "marker": {
             "colorbar": {
              "outlinewidth": 0,
              "ticks": ""
             }
            },
            "type": "scatterternary"
           }
          ],
          "surface": [
           {
            "colorbar": {
             "outlinewidth": 0,
             "ticks": ""
            },
            "colorscale": [
             [
              0,
              "#0d0887"
             ],
             [
              0.1111111111111111,
              "#46039f"
             ],
             [
              0.2222222222222222,
              "#7201a8"
             ],
             [
              0.3333333333333333,
              "#9c179e"
             ],
             [
              0.4444444444444444,
              "#bd3786"
             ],
             [
              0.5555555555555556,
              "#d8576b"
             ],
             [
              0.6666666666666666,
              "#ed7953"
             ],
             [
              0.7777777777777778,
              "#fb9f3a"
             ],
             [
              0.8888888888888888,
              "#fdca26"
             ],
             [
              1,
              "#f0f921"
             ]
            ],
            "type": "surface"
           }
          ],
          "table": [
           {
            "cells": {
             "fill": {
              "color": "#EBF0F8"
             },
             "line": {
              "color": "white"
             }
            },
            "header": {
             "fill": {
              "color": "#C8D4E3"
             },
             "line": {
              "color": "white"
             }
            },
            "type": "table"
           }
          ]
         },
         "layout": {
          "annotationdefaults": {
           "arrowcolor": "#2a3f5f",
           "arrowhead": 0,
           "arrowwidth": 1
          },
          "autotypenumbers": "strict",
          "coloraxis": {
           "colorbar": {
            "outlinewidth": 0,
            "ticks": ""
           }
          },
          "colorscale": {
           "diverging": [
            [
             0,
             "#8e0152"
            ],
            [
             0.1,
             "#c51b7d"
            ],
            [
             0.2,
             "#de77ae"
            ],
            [
             0.3,
             "#f1b6da"
            ],
            [
             0.4,
             "#fde0ef"
            ],
            [
             0.5,
             "#f7f7f7"
            ],
            [
             0.6,
             "#e6f5d0"
            ],
            [
             0.7,
             "#b8e186"
            ],
            [
             0.8,
             "#7fbc41"
            ],
            [
             0.9,
             "#4d9221"
            ],
            [
             1,
             "#276419"
            ]
           ],
           "sequential": [
            [
             0,
             "#0d0887"
            ],
            [
             0.1111111111111111,
             "#46039f"
            ],
            [
             0.2222222222222222,
             "#7201a8"
            ],
            [
             0.3333333333333333,
             "#9c179e"
            ],
            [
             0.4444444444444444,
             "#bd3786"
            ],
            [
             0.5555555555555556,
             "#d8576b"
            ],
            [
             0.6666666666666666,
             "#ed7953"
            ],
            [
             0.7777777777777778,
             "#fb9f3a"
            ],
            [
             0.8888888888888888,
             "#fdca26"
            ],
            [
             1,
             "#f0f921"
            ]
           ],
           "sequentialminus": [
            [
             0,
             "#0d0887"
            ],
            [
             0.1111111111111111,
             "#46039f"
            ],
            [
             0.2222222222222222,
             "#7201a8"
            ],
            [
             0.3333333333333333,
             "#9c179e"
            ],
            [
             0.4444444444444444,
             "#bd3786"
            ],
            [
             0.5555555555555556,
             "#d8576b"
            ],
            [
             0.6666666666666666,
             "#ed7953"
            ],
            [
             0.7777777777777778,
             "#fb9f3a"
            ],
            [
             0.8888888888888888,
             "#fdca26"
            ],
            [
             1,
             "#f0f921"
            ]
           ]
          },
          "colorway": [
           "#636efa",
           "#EF553B",
           "#00cc96",
           "#ab63fa",
           "#FFA15A",
           "#19d3f3",
           "#FF6692",
           "#B6E880",
           "#FF97FF",
           "#FECB52"
          ],
          "font": {
           "color": "#2a3f5f"
          },
          "geo": {
           "bgcolor": "white",
           "lakecolor": "white",
           "landcolor": "#E5ECF6",
           "showlakes": true,
           "showland": true,
           "subunitcolor": "white"
          },
          "hoverlabel": {
           "align": "left"
          },
          "hovermode": "closest",
          "mapbox": {
           "style": "light"
          },
          "paper_bgcolor": "white",
          "plot_bgcolor": "#E5ECF6",
          "polar": {
           "angularaxis": {
            "gridcolor": "white",
            "linecolor": "white",
            "ticks": ""
           },
           "bgcolor": "#E5ECF6",
           "radialaxis": {
            "gridcolor": "white",
            "linecolor": "white",
            "ticks": ""
           }
          },
          "scene": {
           "xaxis": {
            "backgroundcolor": "#E5ECF6",
            "gridcolor": "white",
            "gridwidth": 2,
            "linecolor": "white",
            "showbackground": true,
            "ticks": "",
            "zerolinecolor": "white"
           },
           "yaxis": {
            "backgroundcolor": "#E5ECF6",
            "gridcolor": "white",
            "gridwidth": 2,
            "linecolor": "white",
            "showbackground": true,
            "ticks": "",
            "zerolinecolor": "white"
           },
           "zaxis": {
            "backgroundcolor": "#E5ECF6",
            "gridcolor": "white",
            "gridwidth": 2,
            "linecolor": "white",
            "showbackground": true,
            "ticks": "",
            "zerolinecolor": "white"
           }
          },
          "shapedefaults": {
           "line": {
            "color": "#2a3f5f"
           }
          },
          "ternary": {
           "aaxis": {
            "gridcolor": "white",
            "linecolor": "white",
            "ticks": ""
           },
           "baxis": {
            "gridcolor": "white",
            "linecolor": "white",
            "ticks": ""
           },
           "bgcolor": "#E5ECF6",
           "caxis": {
            "gridcolor": "white",
            "linecolor": "white",
            "ticks": ""
           }
          },
          "title": {
           "x": 0.05
          },
          "xaxis": {
           "automargin": true,
           "gridcolor": "white",
           "linecolor": "white",
           "ticks": "",
           "title": {
            "standoff": 15
           },
           "zerolinecolor": "white",
           "zerolinewidth": 2
          },
          "yaxis": {
           "automargin": true,
           "gridcolor": "white",
           "linecolor": "white",
           "ticks": "",
           "title": {
            "standoff": 15
           },
           "zerolinecolor": "white",
           "zerolinewidth": 2
          }
         }
        },
        "title": {
         "text": "Event Hotspots in Berlin"
        }
       }
      },
      "text/html": [
       "<div>                            <div id=\"961c7c8c-ca75-4f8c-be0b-7188356ba3bc\" class=\"plotly-graph-div\" style=\"height:525px; width:100%;\"></div>            <script type=\"text/javascript\">                require([\"plotly\"], function(Plotly) {                    window.PLOTLYENV=window.PLOTLYENV || {};                                    if (document.getElementById(\"961c7c8c-ca75-4f8c-be0b-7188356ba3bc\")) {                    Plotly.newPlot(                        \"961c7c8c-ca75-4f8c-be0b-7188356ba3bc\",                        [{\"hovertemplate\":\"\\u003cb\\u003e%{hovertext}\\u003c\\u002fb\\u003e\\u003cbr\\u003e\\u003cbr\\u003ePopularity=%{marker.size}\\u003cbr\\u003eLatitude=%{lat}\\u003cbr\\u003eLongitude=%{lon}\\u003cbr\\u003ecluster=%{marker.color}\\u003cextra\\u003e\\u003c\\u002fextra\\u003e\",\"hovertext\":[\"Nena\",\"Interpol\",\"Imminence \\u002f Aviana \\u002f ALLT\",\"Eiv\\u00f8r\",\"The World of Hans Zimmer 2024 - A New Dimension\",\"Alien Ant Farm, CKY\",\"Esther Graf\",\"Autechre\",\"Call Me Karizma - The Gloomy Tapes Tour: Europe\",\"The Ghost Inside\",\"Camouflage - Rewind To The Future And Goodbye\",\"Foy Vance\",\"Ellen Allien\",\"Dream Theater\",\"Nasty C\",\"DOECHII: Alligator Bites Never Heal Tour\",\"Lil Tjay\",\"Cultura Prof\\u00e9tica\",\"CHANCE PE\\u00d1A\",\"Aaron Frazer\",\"REDD KROSS\",\"STRFKR\",\"Ikke H\\u00fcftgold\",\"The Stranglers\",\"In Flames\",\"Ski Aggu\",\"Lampe\",\"Roy Bianco & Die Abbrunzati Boys\",\"Monster Magnet - 35th Anniversary Tour\",\"Samantha Fish\",\"Emil\\u00edana Torrini\",\"EMMANUEL PAHUD & YEFIM BRONFMAN\",\"Joan As Police Woman\",\"Ahmet Aslan - Europe Tour 2024\",\"Hilary Hahn - Orchestre Philharmonique de Radio France\",\"Mireille Mathieu\",\"Teodor Currentzis\",\"Josef Hader - Hader on Ice\",\"Gregor Meyle\",\"Daniel Barenboim conducts Beethoven and Brahms\",\"Lo Moon\",\"Aterciopelados\",\"Saint Levant\",\"THE LAST DINNER PARTY\",\"PARTYNEXTDOOR\",\"Accept\",\"G-Eazy\",\"Azahriah\",\"Seasick Steve\",\"Iron & Wine\",\"Morad\",\"Dormir Bien\",\"Ravyn Lenae\",\"6arelyhuman\",\"Beach Weather\",\"ZHU\",\"The Mar\\u00edas - The Submarine Tour\",\"SMASH INTO PIECES\",\"Cradle of Filth\",\"Meshell Ndegeocello, aja monet\",\"Victoria Canal\",\"Cuco\",\"Gitte Haenning\",\"Marcus King\",\"Sido\",\"Ice Spice\",\"Max Richter\",\"NAS - Illmatic 30 Year Anniversary Tour\",\"Bon Entendeur\",\"Smokie\",\"Gianna Nannini\",\"Baby Gang\",\"Sido\",\"ELYANNA - Europe 2024\",\"Nia Archives\",\"Vicky Leandros\",\"Sido\",\"Amyl and The Sniffers\",\"Sido\",\"Dark Tranquillity\",\"Maximo Park\",\"Wanda\",\"Tom Walker\",\"Pablo L\\u00f3pez\",\"Myles Kennedy, Black River Delta\",\"Tayc, Dadju\",\"Ben Howard, Bess Atwell\",\"The Sheepdogs\",\"London Grammar - The Greatest Love Arena Tour\",\"Mark Eliyahu\",\"Ben B\\u00f6hmer\",\"Jake Bugg\",\"Benson Boone\",\"Sido\",\"FRANZ KAFKA: DIE VERWANDLUNG\",\"Molchat Doma\",\"Falling In Reverse\",\"Sido\",\"Berlin: Transmission - The Sound of Joy Division (UK) \\\"45 years of Closer Tour 2025\\\"\",\"Sido\",\"Sound of Nashville pr\\u00e4sentiert: Koe Wetzel - Damn Near Normal World Tour 2024\",\"Russ\",\"The Human League - Generations\",\"Beth Hart\",\"Sasha Alex Sloan\",\"NCT\",\"B\\u00fclent Ceylan\",\"Fontaines D.C.\",\"Cigarettes After Sex\",\"Twenty One Pilots\",\"Peter Cat Recording Co.\",\"Bradley Simpson\",\"KYGO WORLD TOUR \\u2013 VIP PACKAGES\",\"Beabadoobee\",\"Good Neighbours\",\"Magdalena Bay\",\"UB40\",\"BLADEE\",\"Gracie Abrams\",\"Carson Coma\",\"Ludovico Einaudi\",\"Royel Otis\",\"XG\",\"Hava, Dardan\",\"Pete & Bas - Euro Trash Tour\",\"Tori Kelly\",\"Jacob Collier - Djesse UK & Europe Tour\",\"Jinjer\",\"Shawn Mendes\",\"Tribute to The Bee Gees\",\"Timmy Trumpet\",\"RUSS - It Was You All Along Europe Tour 2024\",\"Jethro Tull\",\"Sido\",\"Sum 41\",\"Lord Zeppelin\",\"Nada Surf\",\"Sebastian Fitzek\",\"Gitte H\\u00e6nning\",\"The Dare\",\"Kelly Lee Owens\",\"Sido\",\"Tokio Hotel\",\"Jess Glynne Berlin Tickets\",\"Yung Gravy\",\"Zemfira\",\"Fally Ipupa\",\"Tango\",\"Sofi Tukker\",\"Mix Fest - Selda Ba\\u011fcan, Emel Mathlouthi, Miraz & Co.\",\"Lydia Benecke - Teufelswerk oder Hexenjagd?\",\"Rumours of Fleetwood Mac\",\"The Libertines - European Tour 2025\",\"Sido\",\"Center of cluster 0\",\"Center of cluster 1\",\"Center of cluster 2\",\"Center of cluster 3\",\"Center of cluster 4\",\"Center of cluster 5\",\"Center of cluster 6\",\"Center of cluster 7\",\"Center of cluster 8\",\"Center of cluster 9\",\"Center of cluster 10\",\"Center of cluster 11\",\"Center of cluster 12\"],\"lat\":[52.5459484,52.501606300000006,52.4847302,52.498939899999996,52.506368699999996,52.4847302,52.496887,52.4872491,52.539321349999994,52.4864896,52.48473825,52.5000715,52.4745562,52.5055537,52.5000715,52.4992172,52.5055537,52.50761155,52.50761155,52.4847302,52.4992172,52.4643506,52.498939899999996,52.5207714,52.48473825,52.5459484,52.5000715,52.48473825,52.4864896,52.4643506,52.507941849999995,52.5154359,52.4770235,52.48948105,52.509988750000005,52.5207714,52.509988750000005,52.5207714,52.40333,52.509988750000005,52.539321349999994,52.5003909,52.50761155,52.50761155,52.48473825,52.4864896,52.48473825,52.498939899999996,52.498939899999996,52.4864896,52.501606300000006,52.5008511,52.51190285,52.4794629,52.539321349999994,52.496887,52.540292199999996,52.4864896,52.5003909,52.5306542,52.539321349999994,52.4643506,52.5193308,52.498939899999996,52.48473825,52.48473825,52.5207714,52.5055537,52.498939899999996,52.5239216,52.5055537,52.50761155,52.48473825,52.498939899999996,52.498939899999996,52.501606300000006,52.48473825,52.48473825,52.48473825,52.50761155,52.498939899999996,52.5459484,52.50761155,52.5003909,52.4847302,52.48473825,52.5055537,52.539321349999994,52.529188000000005,52.501240100000004,52.529188000000005,52.4992172,52.5055537,52.48473825,52.5185239,52.501606300000006,52.529188000000005,52.48473825,52.539321349999994,52.48473825,52.539321349999994,52.5055537,52.4864896,52.5459484,52.49606705,52.506368699999996,52.5207714,52.5055537,52.506368699999996,52.506368699999996,52.496887,52.49606705,52.506368699999996,52.48473825,52.5001814,52.539321349999994,52.48473825,52.48473825,52.529188000000005,52.539321349999994,52.509988750000005,52.498939899999996,52.506368699999996,52.48473825,52.5003909,52.498939899999996,52.5459484,52.48473825,52.501606300000006,52.5207714,52.5055537,52.5055537,52.5207714,52.48473825,52.5055537,52.5092347,52.498939899999996,52.506368699999996,52.5135351,52.49606705,52.5114866,52.48473825,52.5055537,52.4847302,52.498939899999996,52.5055537,52.5055537,52.509988750000005,52.5055537,52.48473825,52.48473825,52.5207714,52.48473825,52.48473825,52.5459484,52.501606300000006,52.4848852046875,52.4991042,52.50426817125,52.539418434999995,52.4864896,52.46435060000001,52.520368418181825,52.51057980833334,52.5003909,52.529188000000005,52.49606705],\"legendgroup\":\"\",\"lon\":[13.406041,13.381190860617572,13.391436690214334,13.352704762253847,13.443765151369332,13.391436690214334,13.4514731,13.4774693,13.413965534751178,13.4217418,13.392545968363551,13.4348491,13.4573503,13.443475210273935,13.4348491,13.4450748,13.443475210273935,13.45164500939796,13.45164500939796,13.391436690214334,13.4450748,13.4333842,13.352704762253847,13.3889021,13.392545968363551,13.406041,13.4348491,13.392545968363551,13.4217418,13.4333842,13.276628110730936,13.3963671,13.4399161,13.397182238768197,13.369605892605993,13.3889021,13.369605892605993,13.3889021,13.073322676473726,13.369605892605993,13.413965534751178,13.4221612,13.45164500939796,13.45164500939796,13.392545968363551,13.4217418,13.392545968363551,13.352704762253847,13.352704762253847,13.4217418,13.381190860617572,13.441528917329597,13.42536489035857,13.4337837,13.413965534751178,13.4514731,13.414078305125324,13.4217418,13.4221612,13.4286665,13.413965534751178,13.4333842,13.3681627,13.352704762253847,13.392545968363551,13.392545968363551,13.3889021,13.443475210273935,13.352704762253847,13.3888786,13.443475210273935,13.45164500939796,13.392545968363551,13.352704762253847,13.352704762253847,13.381190860617572,13.392545968363551,13.392545968363551,13.392545968363551,13.45164500939796,13.352704762253847,13.406041,13.45164500939796,13.4221612,13.391436690214334,13.392545968363551,13.443475210273935,13.413965534751178,13.452652736989002,13.348062339960975,13.452652736989002,13.4450748,13.443475210273935,13.392545968363551,13.3954981,13.381190860617572,13.452652736989002,13.392545968363551,13.413965534751178,13.392545968363551,13.413965534751178,13.443475210273935,13.4217418,13.406041,13.387467168215412,13.443765151369332,13.3889021,13.443475210273935,13.443765151369332,13.443765151369332,13.4514731,13.387467168215412,13.443765151369332,13.392545968363551,13.435547,13.413965534751178,13.392545968363551,13.392545968363551,13.452652736989002,13.413965534751178,13.369605892605993,13.352704762253847,13.443765151369332,13.392545968363551,13.4221612,13.352704762253847,13.406041,13.392545968363551,13.381190860617572,13.3889021,13.443475210273935,13.443475210273935,13.3889021,13.392545968363551,13.443475210273935,13.3022355,13.352704762253847,13.443765151369332,13.3647609,13.387467168215412,13.4268355,13.392545968363551,13.443475210273935,13.391436690214334,13.352704762253847,13.443475210273935,13.443475210273935,13.369605892605993,13.443475210273935,13.392545968363551,13.392545968363551,13.3889021,13.392545968363551,13.392545968363551,13.406040999999998,13.381190860617574,13.392517527102882,13.352373160661498,13.444781654920243,13.413976811788592,13.4217418,13.4333842,13.390178236363635,13.368798393838327,13.4221612,13.452652736989002,13.387467168215414],\"marker\":{\"color\":[0,1,2,3,4,2,4,-1,5,6,2,4,-1,4,4,4,4,4,4,2,4,7,3,8,2,0,4,2,6,7,-1,8,-1,2,9,8,9,8,-1,9,5,10,4,4,2,6,2,3,3,6,1,4,-1,-1,5,4,5,6,10,-1,5,7,-1,3,2,2,8,4,3,8,4,4,2,3,3,1,2,2,2,4,3,0,4,10,2,2,4,5,11,3,11,4,4,2,8,1,11,2,5,2,5,4,6,0,12,4,8,4,4,4,4,12,4,2,4,5,2,2,11,5,9,3,4,2,10,3,0,2,1,8,4,4,8,2,4,-1,3,4,9,12,-1,2,4,2,3,4,4,9,4,2,2,8,2,2,0,1,2,3,4,5,6,7,8,9,10,11,12],\"coloraxis\":\"coloraxis\",\"size\":[53.95488044282818,67.69169375341937,46.19933704502301,44.162584880764655,129.99710359476072,46.19933704502301,49.52415280146751,40.32529849065105,43.027837672577476,56.046342483828404,53.47060148682136,42.89151353264892,40.003218228043636,49.65082225726515,42.89151353264892,44.181958613587355,49.65082225726515,50.428603610851866,50.428603610851866,46.19933704502301,44.181958613587355,42.42422682071252,44.162584880764655,60.14996942683359,53.47060148682136,53.95488044282818,42.89151353264892,53.47060148682136,56.046342483828404,42.42422682071252,42.39513403919802,42.42525665368648,44.75499629903775,40.00579281047855,70.66945579763782,60.14996942683359,70.66945579763782,60.14996942683359,42.65735526019374,70.66945579763782,43.027837672577476,47.1512245357706,50.428603610851866,50.428603610851866,53.47060148682136,56.046342483828404,53.47060148682136,44.162584880764655,44.162584880764655,56.046342483828404,67.69169375341937,41.02185176841631,41.065877128053295,42.15865864255141,40.046342483828404,49.52415280146751,46.91867537733724,56.046342483828404,47.1512245357706,41.18462974286358,43.027837672577476,42.42422682071252,49.91561806069578,44.162584880764655,53.47060148682136,53.47060148682136,60.14996942683359,49.65082225726515,44.162584880764655,100.51176262349951,49.65082225726515,50.428603610851866,53.47060148682136,44.162584880764655,44.162584880764655,67.69169375341937,53.47060148682136,53.47060148682136,53.47060148682136,50.428603610851866,44.162584880764655,53.957776848067454,50.428603610851866,47.1512245357706,46.19933704502301,53.47060148682136,49.65082225726515,43.027837672577476,54.80024458533131,43.068258616805586,54.80024458533131,44.181958613587355,49.65082225726515,53.47060148682136,40.39674315321984,67.69169375341937,54.80024458533131,53.47060148682136,43.027837672577476,53.47060148682136,43.027837672577476,49.65082225726515,56.04917452450681,53.957776848067454,41.76545554017957,130.0,60.14996942683359,49.65082225726515,130.0,130.0,49.52415280146751,41.76545554017957,130.0,53.47060148682136,42.89151353264892,43.027837672577476,53.47060148682136,53.47060148682136,54.80024458533131,43.027837672577476,70.66945579763782,44.162584880764655,130.0,53.47060148682136,47.15412094100988,44.162584880764655,53.957776848067454,53.47060148682136,67.69169375341937,60.14996942683359,49.65082225726515,49.65082225726515,60.14996942683359,53.47060148682136,49.65082225726515,41.036526888295306,44.162584880764655,130.0,49.91561806069578,41.76545554017957,41.065877128053295,53.47060148682136,49.65082225726515,46.19933704502301,44.162584880764655,49.65082225726515,49.65082225726515,70.66945579763782,49.65082225726515,53.47060148682136,53.47060148682136,60.14996942683359,53.47060148682136,53.47060148682136,53.95661828597174,67.69169375341937,51.91369114665466,44.084418719053296,62.536647571846935,43.118771924178546,56.04681449060814,42.42422682071252,60.41213798591587,67.21048284148081,47.15194863708042,54.80024458533131,41.76545554017957],\"sizemode\":\"area\",\"sizeref\":0.5777777777777777},\"mode\":\"markers\",\"name\":\"\",\"showlegend\":false,\"subplot\":\"map\",\"type\":\"scattermap\"}],                        {\"template\":{\"data\":{\"histogram2dcontour\":[{\"type\":\"histogram2dcontour\",\"colorbar\":{\"outlinewidth\":0,\"ticks\":\"\"},\"colorscale\":[[0.0,\"#0d0887\"],[0.1111111111111111,\"#46039f\"],[0.2222222222222222,\"#7201a8\"],[0.3333333333333333,\"#9c179e\"],[0.4444444444444444,\"#bd3786\"],[0.5555555555555556,\"#d8576b\"],[0.6666666666666666,\"#ed7953\"],[0.7777777777777778,\"#fb9f3a\"],[0.8888888888888888,\"#fdca26\"],[1.0,\"#f0f921\"]]}],\"choropleth\":[{\"type\":\"choropleth\",\"colorbar\":{\"outlinewidth\":0,\"ticks\":\"\"}}],\"histogram2d\":[{\"type\":\"histogram2d\",\"colorbar\":{\"outlinewidth\":0,\"ticks\":\"\"},\"colorscale\":[[0.0,\"#0d0887\"],[0.1111111111111111,\"#46039f\"],[0.2222222222222222,\"#7201a8\"],[0.3333333333333333,\"#9c179e\"],[0.4444444444444444,\"#bd3786\"],[0.5555555555555556,\"#d8576b\"],[0.6666666666666666,\"#ed7953\"],[0.7777777777777778,\"#fb9f3a\"],[0.8888888888888888,\"#fdca26\"],[1.0,\"#f0f921\"]]}],\"heatmap\":[{\"type\":\"heatmap\",\"colorbar\":{\"outlinewidth\":0,\"ticks\":\"\"},\"colorscale\":[[0.0,\"#0d0887\"],[0.1111111111111111,\"#46039f\"],[0.2222222222222222,\"#7201a8\"],[0.3333333333333333,\"#9c179e\"],[0.4444444444444444,\"#bd3786\"],[0.5555555555555556,\"#d8576b\"],[0.6666666666666666,\"#ed7953\"],[0.7777777777777778,\"#fb9f3a\"],[0.8888888888888888,\"#fdca26\"],[1.0,\"#f0f921\"]]}],\"heatmapgl\":[{\"type\":\"heatmapgl\",\"colorbar\":{\"outlinewidth\":0,\"ticks\":\"\"},\"colorscale\":[[0.0,\"#0d0887\"],[0.1111111111111111,\"#46039f\"],[0.2222222222222222,\"#7201a8\"],[0.3333333333333333,\"#9c179e\"],[0.4444444444444444,\"#bd3786\"],[0.5555555555555556,\"#d8576b\"],[0.6666666666666666,\"#ed7953\"],[0.7777777777777778,\"#fb9f3a\"],[0.8888888888888888,\"#fdca26\"],[1.0,\"#f0f921\"]]}],\"contourcarpet\":[{\"type\":\"contourcarpet\",\"colorbar\":{\"outlinewidth\":0,\"ticks\":\"\"}}],\"contour\":[{\"type\":\"contour\",\"colorbar\":{\"outlinewidth\":0,\"ticks\":\"\"},\"colorscale\":[[0.0,\"#0d0887\"],[0.1111111111111111,\"#46039f\"],[0.2222222222222222,\"#7201a8\"],[0.3333333333333333,\"#9c179e\"],[0.4444444444444444,\"#bd3786\"],[0.5555555555555556,\"#d8576b\"],[0.6666666666666666,\"#ed7953\"],[0.7777777777777778,\"#fb9f3a\"],[0.8888888888888888,\"#fdca26\"],[1.0,\"#f0f921\"]]}],\"surface\":[{\"type\":\"surface\",\"colorbar\":{\"outlinewidth\":0,\"ticks\":\"\"},\"colorscale\":[[0.0,\"#0d0887\"],[0.1111111111111111,\"#46039f\"],[0.2222222222222222,\"#7201a8\"],[0.3333333333333333,\"#9c179e\"],[0.4444444444444444,\"#bd3786\"],[0.5555555555555556,\"#d8576b\"],[0.6666666666666666,\"#ed7953\"],[0.7777777777777778,\"#fb9f3a\"],[0.8888888888888888,\"#fdca26\"],[1.0,\"#f0f921\"]]}],\"mesh3d\":[{\"type\":\"mesh3d\",\"colorbar\":{\"outlinewidth\":0,\"ticks\":\"\"}}],\"scatter\":[{\"fillpattern\":{\"fillmode\":\"overlay\",\"size\":10,\"solidity\":0.2},\"type\":\"scatter\"}],\"parcoords\":[{\"type\":\"parcoords\",\"line\":{\"colorbar\":{\"outlinewidth\":0,\"ticks\":\"\"}}}],\"scatterpolargl\":[{\"type\":\"scatterpolargl\",\"marker\":{\"colorbar\":{\"outlinewidth\":0,\"ticks\":\"\"}}}],\"bar\":[{\"error_x\":{\"color\":\"#2a3f5f\"},\"error_y\":{\"color\":\"#2a3f5f\"},\"marker\":{\"line\":{\"color\":\"#E5ECF6\",\"width\":0.5},\"pattern\":{\"fillmode\":\"overlay\",\"size\":10,\"solidity\":0.2}},\"type\":\"bar\"}],\"scattergeo\":[{\"type\":\"scattergeo\",\"marker\":{\"colorbar\":{\"outlinewidth\":0,\"ticks\":\"\"}}}],\"scatterpolar\":[{\"type\":\"scatterpolar\",\"marker\":{\"colorbar\":{\"outlinewidth\":0,\"ticks\":\"\"}}}],\"histogram\":[{\"marker\":{\"pattern\":{\"fillmode\":\"overlay\",\"size\":10,\"solidity\":0.2}},\"type\":\"histogram\"}],\"scattergl\":[{\"type\":\"scattergl\",\"marker\":{\"colorbar\":{\"outlinewidth\":0,\"ticks\":\"\"}}}],\"scatter3d\":[{\"type\":\"scatter3d\",\"line\":{\"colorbar\":{\"outlinewidth\":0,\"ticks\":\"\"}},\"marker\":{\"colorbar\":{\"outlinewidth\":0,\"ticks\":\"\"}}}],\"scattermapbox\":[{\"type\":\"scattermapbox\",\"marker\":{\"colorbar\":{\"outlinewidth\":0,\"ticks\":\"\"}}}],\"scatterternary\":[{\"type\":\"scatterternary\",\"marker\":{\"colorbar\":{\"outlinewidth\":0,\"ticks\":\"\"}}}],\"scattercarpet\":[{\"type\":\"scattercarpet\",\"marker\":{\"colorbar\":{\"outlinewidth\":0,\"ticks\":\"\"}}}],\"carpet\":[{\"aaxis\":{\"endlinecolor\":\"#2a3f5f\",\"gridcolor\":\"white\",\"linecolor\":\"white\",\"minorgridcolor\":\"white\",\"startlinecolor\":\"#2a3f5f\"},\"baxis\":{\"endlinecolor\":\"#2a3f5f\",\"gridcolor\":\"white\",\"linecolor\":\"white\",\"minorgridcolor\":\"white\",\"startlinecolor\":\"#2a3f5f\"},\"type\":\"carpet\"}],\"table\":[{\"cells\":{\"fill\":{\"color\":\"#EBF0F8\"},\"line\":{\"color\":\"white\"}},\"header\":{\"fill\":{\"color\":\"#C8D4E3\"},\"line\":{\"color\":\"white\"}},\"type\":\"table\"}],\"barpolar\":[{\"marker\":{\"line\":{\"color\":\"#E5ECF6\",\"width\":0.5},\"pattern\":{\"fillmode\":\"overlay\",\"size\":10,\"solidity\":0.2}},\"type\":\"barpolar\"}],\"pie\":[{\"automargin\":true,\"type\":\"pie\"}]},\"layout\":{\"autotypenumbers\":\"strict\",\"colorway\":[\"#636efa\",\"#EF553B\",\"#00cc96\",\"#ab63fa\",\"#FFA15A\",\"#19d3f3\",\"#FF6692\",\"#B6E880\",\"#FF97FF\",\"#FECB52\"],\"font\":{\"color\":\"#2a3f5f\"},\"hovermode\":\"closest\",\"hoverlabel\":{\"align\":\"left\"},\"paper_bgcolor\":\"white\",\"plot_bgcolor\":\"#E5ECF6\",\"polar\":{\"bgcolor\":\"#E5ECF6\",\"angularaxis\":{\"gridcolor\":\"white\",\"linecolor\":\"white\",\"ticks\":\"\"},\"radialaxis\":{\"gridcolor\":\"white\",\"linecolor\":\"white\",\"ticks\":\"\"}},\"ternary\":{\"bgcolor\":\"#E5ECF6\",\"aaxis\":{\"gridcolor\":\"white\",\"linecolor\":\"white\",\"ticks\":\"\"},\"baxis\":{\"gridcolor\":\"white\",\"linecolor\":\"white\",\"ticks\":\"\"},\"caxis\":{\"gridcolor\":\"white\",\"linecolor\":\"white\",\"ticks\":\"\"}},\"coloraxis\":{\"colorbar\":{\"outlinewidth\":0,\"ticks\":\"\"}},\"colorscale\":{\"sequential\":[[0.0,\"#0d0887\"],[0.1111111111111111,\"#46039f\"],[0.2222222222222222,\"#7201a8\"],[0.3333333333333333,\"#9c179e\"],[0.4444444444444444,\"#bd3786\"],[0.5555555555555556,\"#d8576b\"],[0.6666666666666666,\"#ed7953\"],[0.7777777777777778,\"#fb9f3a\"],[0.8888888888888888,\"#fdca26\"],[1.0,\"#f0f921\"]],\"sequentialminus\":[[0.0,\"#0d0887\"],[0.1111111111111111,\"#46039f\"],[0.2222222222222222,\"#7201a8\"],[0.3333333333333333,\"#9c179e\"],[0.4444444444444444,\"#bd3786\"],[0.5555555555555556,\"#d8576b\"],[0.6666666666666666,\"#ed7953\"],[0.7777777777777778,\"#fb9f3a\"],[0.8888888888888888,\"#fdca26\"],[1.0,\"#f0f921\"]],\"diverging\":[[0,\"#8e0152\"],[0.1,\"#c51b7d\"],[0.2,\"#de77ae\"],[0.3,\"#f1b6da\"],[0.4,\"#fde0ef\"],[0.5,\"#f7f7f7\"],[0.6,\"#e6f5d0\"],[0.7,\"#b8e186\"],[0.8,\"#7fbc41\"],[0.9,\"#4d9221\"],[1,\"#276419\"]]},\"xaxis\":{\"gridcolor\":\"white\",\"linecolor\":\"white\",\"ticks\":\"\",\"title\":{\"standoff\":15},\"zerolinecolor\":\"white\",\"automargin\":true,\"zerolinewidth\":2},\"yaxis\":{\"gridcolor\":\"white\",\"linecolor\":\"white\",\"ticks\":\"\",\"title\":{\"standoff\":15},\"zerolinecolor\":\"white\",\"automargin\":true,\"zerolinewidth\":2},\"scene\":{\"xaxis\":{\"backgroundcolor\":\"#E5ECF6\",\"gridcolor\":\"white\",\"linecolor\":\"white\",\"showbackground\":true,\"ticks\":\"\",\"zerolinecolor\":\"white\",\"gridwidth\":2},\"yaxis\":{\"backgroundcolor\":\"#E5ECF6\",\"gridcolor\":\"white\",\"linecolor\":\"white\",\"showbackground\":true,\"ticks\":\"\",\"zerolinecolor\":\"white\",\"gridwidth\":2},\"zaxis\":{\"backgroundcolor\":\"#E5ECF6\",\"gridcolor\":\"white\",\"linecolor\":\"white\",\"showbackground\":true,\"ticks\":\"\",\"zerolinecolor\":\"white\",\"gridwidth\":2}},\"shapedefaults\":{\"line\":{\"color\":\"#2a3f5f\"}},\"annotationdefaults\":{\"arrowcolor\":\"#2a3f5f\",\"arrowhead\":0,\"arrowwidth\":1},\"geo\":{\"bgcolor\":\"white\",\"landcolor\":\"#E5ECF6\",\"subunitcolor\":\"white\",\"showland\":true,\"showlakes\":true,\"lakecolor\":\"white\"},\"title\":{\"x\":0.05},\"mapbox\":{\"style\":\"light\"}}},\"map\":{\"domain\":{\"x\":[0.0,1.0],\"y\":[0.0,1.0]},\"center\":{\"lat\":52.50303799663146,\"lon\":13.405598744778617},\"zoom\":10},\"coloraxis\":{\"colorbar\":{\"title\":{\"text\":\"cluster\"}},\"colorscale\":[[0.0,\"#0d0887\"],[0.1111111111111111,\"#46039f\"],[0.2222222222222222,\"#7201a8\"],[0.3333333333333333,\"#9c179e\"],[0.4444444444444444,\"#bd3786\"],[0.5555555555555556,\"#d8576b\"],[0.6666666666666666,\"#ed7953\"],[0.7777777777777778,\"#fb9f3a\"],[0.8888888888888888,\"#fdca26\"],[1.0,\"#f0f921\"]],\"showscale\":false},\"legend\":{\"tracegroupgap\":0,\"itemsizing\":\"constant\"},\"title\":{\"text\":\"Event Hotspots in Berlin\"},\"mapbox\":{\"center\":{\"lat\":52.50303799663146,\"lon\":13.405598744778617},\"zoom\":12},\"showlegend\":false},                        {\"responsive\": true}                    ).then(function(){\n",
       "                            \n",
       "var gd = document.getElementById('961c7c8c-ca75-4f8c-be0b-7188356ba3bc');\n",
       "var x = new MutationObserver(function (mutations, observer) {{\n",
       "        var display = window.getComputedStyle(gd).display;\n",
       "        if (!display || display === 'none') {{\n",
       "            console.log([gd, 'removed!']);\n",
       "            Plotly.purge(gd);\n",
       "            observer.disconnect();\n",
       "        }}\n",
       "}});\n",
       "\n",
       "// Listen for the removal of the full notebook cells\n",
       "var notebookContainer = gd.closest('#notebook-container');\n",
       "if (notebookContainer) {{\n",
       "    x.observe(notebookContainer, {childList: true});\n",
       "}}\n",
       "\n",
       "// Listen for the clearing of the current output cell\n",
       "var outputEl = gd.closest('.output');\n",
       "if (outputEl) {{\n",
       "    x.observe(outputEl, {childList: true});\n",
       "}}\n",
       "\n",
       "                        })                };                });            </script>        </div>"
      ]
     },
     "metadata": {},
     "output_type": "display_data"
    }
   ],
   "source": [
    "fig.show()"
   ]
  },
  {
   "cell_type": "code",
   "execution_count": 345,
   "id": "fc81c4c7-2452-4c80-b70c-c5a3a3d59dfc",
   "metadata": {},
   "outputs": [
    {
     "data": {
      "image/png": "[encoded data removed]",
      "text/plain": [
       "<Figure size 1200x700 with 1 Axes>"
      ]
     },
     "metadata": {},
     "output_type": "display_data"
    }
   ],
   "source": [
    "#the clusters with higher popularity scores indicate areas with more events and possibly greater attendance or interest\n",
    "\n",
    "#Aggregate popularity by cluster and sort\n",
    "cluster_popularity = df[df['cluster'] != -1].groupby('cluster')['Popularity'].sum().reset_index()\n",
    "cluster_popularity = cluster_popularity.sort_values(by='Popularity', ascending=False)\n",
    "\n",
    "#Create a bar chart for cluster popularity\n",
    "plt.figure(figsize=(12, 7))\n",
    "\n",
    "# Set colors, highlight the top 5 clusters\n",
    "colors = ['gold' if i < 5 else 'skyblue' for i in range(len(cluster_popularity))]\n",
    "\n",
    "plt.bar(cluster_popularity['cluster'].astype(str), cluster_popularity['Popularity'], color=colors)\n",
    "plt.title('Popularity of Each Hotspot (Top 5 Highlighted)')\n",
    "plt.xlabel('Event Hotspots ')\n",
    "plt.ylabel('Total Popularity')\n",
    "plt.grid(axis='y')\n",
    "\n",
    "# Annotate the top 5 clusters with their popularity values\n",
    "for i in range(min(5, len(cluster_popularity))):\n",
    "    plt.text(i, cluster_popularity['Popularity'].iloc[i] + 5, \n",
    "             f\"{cluster_popularity['Popularity'].iloc[i]:.1f}\", \n",
    "             ha='center', va='bottom', fontsize=10, color='black')\n",
    "\n",
    "plt.tight_layout()\n",
    "plt.show()"
   ]
  },
  {
   "cell_type": "markdown",
   "id": "b0948046-36fe-4cd8-bc28-0dc914fef0fe",
   "metadata": {
    "jp-MarkdownHeadingCollapsed": true
   },
   "source": [
    "## Presentation | 15 points\n",
    "#### Deadline: October 24th during class\n",
    "\n",
    "> Make a presentation about your business, the data you've collected and the direction you're taking the business in the next months.\n",
    "\n",
    "**Presentation | 1. Description of unique business idea | 1 point**\n",
    "\n",
    "Summarise the name and choice of business as well as location and the time of year it operates (you can add some branding, logo, etc.)\n",
    "\n",
    "\n",
    "**Presentation | 2. Presentation of all the APIs used and how it serves your business | 3 points**\n",
    "\n",
    "Present each API and explain why the collected data is relevant for your business.\n",
    "\n",
    "\n",
    "**Presentation | 3. Presentation of the data cleaning and processing | 2 points**\n",
    "\n",
    "Explain the steps your team took in order to get to a clean and structured dataset.\n",
    "\n",
    "\n",
    "**Presentation | 4. Presentation of the statistics  & 5. Data visualisations | 5 points**\n",
    "\n",
    "Display the statistics and relevant data visualisations that helped you make informed decisions about your business. The descriptive statistics and visualisations enable you to draw conclusions that take your business in one or the other direction. You need to explain how this information serves your business and the next steps you will take.\n",
    "\n",
    "**Presentation | 6. Storytelling | 4 points**\n",
    "\n",
    "Why did you pick this business idea? Why this name?\n",
    "\n",
    "Who is your target audience? What problem does it solve?\n",
    "\n",
    "What decisions did you make to make your business thrive in the future? What are your current challenges? Opportunities?\n",
    "\n",
    "Can Data save your business or make it expand to new territories?\n",
    "\n",
    "\n",
    "Create a good story!"
   ]
  },
  {
   "cell_type": "code",
   "execution_count": null,
   "id": "a25c20df-95ec-4f57-b1ea-9cb4ae1fa8ac",
   "metadata": {},
   "outputs": [],
   "source": []
  }
 ],
 "metadata": {
  "kernelspec": {
   "display_name": "Python 3 (ipykernel)",
   "language": "python",
   "name": "python3"
  },
  "language_info": {
   "codemirror_mode": {
    "name": "ipython",
    "version": 3
   },
   "file_extension": ".py",
   "mimetype": "text/x-python",
   "name": "python",
   "nbconvert_exporter": "python",
   "pygments_lexer": "ipython3",
   "version": "3.9.13"
  }
 },
 "nbformat": 4,
 "nbformat_minor": 5
}

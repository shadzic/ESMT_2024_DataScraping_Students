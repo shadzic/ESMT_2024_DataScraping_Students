{
 "cells": [
  {
   "cell_type": "markdown",
   "id": "ec53c0a8-133a-4675-96cb-a540991f9b62",
   "metadata": {},
   "source": [
    "# Group Project: Data-driven Business Manager with APIs\n",
    "\n",
    "#### Number of points: 30 (weights 30% in the final grade)\n",
    "#### Deadline to form the groups: October 18th at 12:30 pm CET\n",
    "#### Deadline for the code submission: October 24th at 01:29 pm CET\n",
    "#### Presentations on October 24th"
   ]
  },
  {
   "cell_type": "markdown",
   "id": "9f539776-8b27-44a9-8cfd-a71371dbe043",
   "metadata": {},
   "source": [
    "## Objective\n",
    "In this project, you will create a Business that utilizes various APIs to make informed decisions about running your local business. If you want to sell drinks or street food or whatever floats your boat, do not hesitate to find your data and design the project accordingly. You will collect data from meteorological and non-meteorological APIs to help your business determine when, where, and how much inventory is needed to maximize sales. "
   ]
  },
  {
   "cell_type": "markdown",
   "id": "c6b11027-afe7-4f63-a309-e512995375df",
   "metadata": {},
   "source": [
    "## Grading\n",
    "\n",
    "In total, the group project counts for 30% of the final grade and represents 30 points.\n",
    "\n",
    "The points are distributed in two parts: the code and the presentation.\n",
    "\n",
    "- Some items e.g. Statistics are represented in both parts and will require to compute them in the code **and** present them during the presentation.\n",
    "- Please note that the data must come from an API. You need to use at least 3 APIs (weather + two others). You can also of course use data downloaded from the internet, however they cannot replace the API data.\n",
    "- Additionally, emphasis will be put on the **Storytelling** and whether or not the choice of APIs, data processing, statistics and visualisations are relevant for your business.\n",
    "- To make grading easier, please provide **clean code** with **relevant comments** to make it straightforward what you are doing.\n",
    "- Everyone in the group project must present during presentation day. **A penalty of -2 points** will be applied to each person **who does not present a significant part** during the presentation.\n",
    "\n",
    "\n",
    "| **Code** | **15 points** |\n",
    "| --- | --- |\n",
    "| A. Collect data from weather API | 3 points |\n",
    "| B. Collect data from two other non-meteorological APIs | 4 points |\n",
    "| C. Data cleaning and processing | 3 points |\n",
    "| D. Compute relevant statistics | 2 points |\n",
    "| E. Clean and clear visualisations  | 3 points |\n",
    "\n",
    "\n",
    "| **Presentation** | **15 points** |\n",
    "| --- | --- |\n",
    "| 1. Description of unique business idea | 1 point |\n",
    "| 2. Presentation of all the APIs used and how it serves your business | 3 points |\n",
    "| 3. Presentation of the data cleaning and processing | 2 points |\n",
    "| 4. Presentation of the statistics | 2 points |\n",
    "| 5. Presentation of the visualisations and how they serve the business| 3 points |\n",
    "| 6. Storytelling | 4 points |\n",
    "\n",
    "**Penalty: -2 points to each person who does not present a significant part during the presentation.**\n",
    "\n",
    "\n",
    "**Penalty for unexcused absence or lateness**: \n",
    "- If you are absent or late on presentation day without an official excuse, you will receive 0 for the presentation part of the group project.\n",
    "- If you are late without an official excuse and can still make it to the presentation of your team, you will still receive 0 for the presentation part of the group project."
   ]
  },
  {
   "cell_type": "markdown",
   "id": "519e47f3-51ae-440c-a2ed-cbf2647c7d7e",
   "metadata": {},
   "source": [
    "## Getting Ready\n",
    "#### Recommended deadline: October 8th\n",
    "#### Deadline: October 18th at 12:30 pm CET\n",
    "\n",
    "1. Form your group and select a group name. Communicate your group name to the teacher along with the First Name and Last Name of all the team members.\n",
    "\n",
    "2. Create a branch on the **Students** repository with your group name (exactly the same as the one communicated to the teacher).\n",
    "\n",
    "3. Discuss with your group and answer the following questions:\n",
    "\n",
    "   - What kind of business do we run? What do we sell ? The choice of the business must be original and unique to your group.\n",
    "   - How do we name our business?\n",
    "   - When do we operate? Is it an all-year-round business or a seasonal one? If so, which seasons? Which months / weeks / days / hours of the day do we operate?\n",
    "   - Where do we operate? In which countries / cities are we currently active ? Where do we want to develop in the future ? Determine where to set up your business stand based on weather conditions, local attractions, or events. The location should maximize customer traffic and sales."
   ]
  },
  {
   "cell_type": "markdown",
   "id": "5f57de6f-d6ae-4dde-a79d-7c3e1b9f9470",
   "metadata": {},
   "source": [
    "## Code | A. Collect data from weather API | 3 points\n",
    "#### Recommended deadline: October 18th\n",
    "#### Deadline: October 24th at 01:29 pm CET\n",
    "Use the OpenWeatherMap API to fetch weather data for your chosen location. You can select any city or location for your business.\n",
    "\n",
    "- Fetch your chosen location's current temperature and weather conditions.\n",
    "- Fetch the forecasted weather data for the next few days (e.g., five days)."
   ]
  },
  {
   "cell_type": "code",
   "execution_count": 1,
   "id": "da73d6cb-81b3-4d7e-a6d8-2f113f2663d9",
   "metadata": {
    "ExecuteTime": {
     "end_time": "2024-10-15T08:43:54.874092Z",
     "start_time": "2024-10-15T08:43:54.841903Z"
    }
   },
   "outputs": [],
   "source": [
    "import requests\n",
    "\n",
    "api_key = \"cf4c2a40050f1c31dbd700bdc269eb1f\"\n",
    "base_url = 'http://api.openweathermap.org/data/2.5/weather?'\n",
    "city = 'Berlin'\n",
    "complete_url = f\"{base_url}q={city}&appid={api_key}&units=metric\""
   ]
  },
  {
   "cell_type": "code",
   "execution_count": 2,
   "id": "43c3e8f9-79c1-4a48-b734-da3e32f0b154",
   "metadata": {},
   "outputs": [
    {
     "name": "stdout",
     "output_type": "stream",
     "text": [
      "Current Temperature in Berlin: 16.45°C\n",
      "Weather Description: clear sky\n"
     ]
    }
   ],
   "source": [
    "response = requests.get(complete_url)\n",
    "\n",
    "# Check if the response is valid (status code 200)\n",
    "if response.status_code == 200:\n",
    "    data = response.json()\n",
    "    \n",
    "    # Extract temperature and weather description\n",
    "    current_temp = data['main']['temp']\n",
    "    weather_desc = data['weather'][0]['description']\n",
    "    \n",
    "    # Output the data\n",
    "    print(f\"Current Temperature in {city}: {current_temp}°C\")\n",
    "    print(f\"Weather Description: {weather_desc}\")\n",
    "else:\n",
    "    print(f\"Error fetching data: {response.status_code}\")"
   ]
  },
  {
   "cell_type": "markdown",
   "id": "364b194b-8443-4fd5-8bda-3b7205e929c7",
   "metadata": {},
   "source": [
    "## Code | B. Collect data from two other APIs | 4 points\n",
    "#### Recommended deadline: October 18th\n",
    "#### Deadline: October 24th at 01:29 pm CET\n",
    "Integrate with **at least two** of the non-meteorological APIs you've learned about based on the location and the season.\n",
    "\n",
    "It has to be with an API (not a downloaded dataset). \n",
    "\n",
    "You can of course use a downloaded dataset on top of the two APIs you've chosen.\n",
    "\n",
    "You can also use more APIs, sky is the limit!\n",
    "\n",
    "You can choose from:\n",
    "- Google Maps,\n",
    "- TripAdvisor,\n",
    "- News API,\n",
    "- Yelp,\n",
    "- Wikipedia,\n",
    "- Booking,\n",
    "- Amadeus Travel API,\n",
    "- Foursquare,\n",
    "- etc. (make your own research and be original!)\n",
    "\n",
    "Each API can provide different types of information. Pick the ones that best suit your application.\n",
    "\n",
    "\n",
    "After collecting all the data you need, save them."
   ]
  },
  {
   "cell_type": "code",
   "execution_count": 1,
   "id": "144a84df-e09f-449a-82a0-ea6098121cf1",
   "metadata": {},
   "outputs": [],
   "source": [
    "# Read the token from the file\n",
    "with open('token.txt', 'r') as file:\n",
    "    # Read the content and store it in a string\n",
    "    api_key = file.read().strip()\n"
   ]
  },
  {
   "cell_type": "code",
   "execution_count": 2,
   "id": "c065bbc7-4643-4a65-a5e9-0615517f7999",
   "metadata": {},
   "outputs": [],
   "source": [
    "from serpapi import GoogleSearch\n",
    "\n",
    "params = {\n",
    "  \"engine\": \"google_events\",\n",
    "  \"q\": \"Events in Berlin\",\n",
    "  \"hl\": \"en\",\n",
    "  \"gl\": \"us\",\n",
    "  \"api_key\": api_key\n",
    "}\n",
    "\n",
    "search = GoogleSearch(params)\n",
    "results = search.get_dict()\n",
    "events_results = results[\"events_results\"]"
   ]
  },
  {
   "cell_type": "code",
   "execution_count": 14,
   "id": "b881f54d-a451-4f15-889c-226be6285310",
   "metadata": {},
   "outputs": [
    {
     "name": "stdout",
     "output_type": "stream",
     "text": [
      "Successfully retrieved 10 events\n"
     ]
    }
   ],
   "source": [
    "print(f\"Successfully retrieved {len(events_results)} events\")"
   ]
  },
  {
   "cell_type": "code",
   "execution_count": 27,
   "id": "be7edc2a-1e27-47de-85a3-199b9a292b00",
   "metadata": {},
   "outputs": [],
   "source": [
    "address = \" \".join(events_results[0].get('address'))"
   ]
  },
  {
   "cell_type": "code",
   "execution_count": 28,
   "id": "ce276e2b-01bc-452c-acc4-aca6aa0d7bba",
   "metadata": {},
   "outputs": [
    {
     "data": {
      "text/plain": [
       "'Hole⁴⁴, Hermannstraße 146 Berlin, Germany'"
      ]
     },
     "execution_count": 28,
     "metadata": {},
     "output_type": "execute_result"
    }
   ],
   "source": [
    "address"
   ]
  },
  {
   "cell_type": "code",
   "execution_count": 41,
   "id": "c2631515-66cf-42f0-9c21-c4b939ebf0f7",
   "metadata": {},
   "outputs": [
    {
     "data": {
      "text/plain": [
       "'Hermannstraße 146 Berlin, Germany'"
      ]
     },
     "execution_count": 41,
     "metadata": {},
     "output_type": "execute_result"
    }
   ],
   "source": [
    "f\"{events_results[0].get('address')[0].split(', ')[1]} {events_results[0].get('address')[1]}\""
   ]
  },
  {
   "cell_type": "code",
   "execution_count": null,
   "id": "6dfaaeb5-8889-468e-9b91-229557b4111c",
   "metadata": {},
   "outputs": [],
   "source": []
  },
  {
   "cell_type": "code",
   "execution_count": 42,
   "id": "e930dd77-2b42-4cd8-87dc-53bbc4771706",
   "metadata": {},
   "outputs": [],
   "source": [
    "events = []\n",
    "for event in events_results:\n",
    "    current_event = {\n",
    "        \"name\": event['title'],\n",
    "        \"date\": event['date'].get('start_date'),\n",
    "        \"description\": event['description'],\n",
    "        \"address\": f\"{event.get('address')[0].split(', ')[1]} {event.get('address')[1]}\",\n",
    "        \"rating\": event['venue'].get('rating'),\n",
    "        \"reviews\": event['venue'].get('reviews'),\n",
    "    }\n",
    "    events.append(current_event)"
   ]
  },
  {
   "cell_type": "code",
   "execution_count": 57,
   "id": "e16dec67-a942-494d-ba84-6dba84077249",
   "metadata": {},
   "outputs": [],
   "source": [
    "from geopy.geocoders import Nominatim\n",
    "import pandas as pd\n",
    "import time\n",
    "\n",
    "# Create a geolocator object\n",
    "geolocator = Nominatim(user_agent=\"event_locator\")\n",
    "\n",
    "# Function to get the coordinates\n",
    "def get_coordinates(address):\n",
    "    try:\n",
    "        # To avoid overloading the geocoding service, it's a good idea to add a delay between requests\n",
    "        time.sleep(1)\n",
    "        location = geolocator.geocode(address)\n",
    "        if location:\n",
    "            return (location.latitude, location.longitude)\n",
    "        else:\n",
    "            return (None, None)\n",
    "    except Exception as e:\n",
    "        print(f\"Error fetching coordinates for {address}: {e}\")\n",
    "        return (None, None)\n",
    "\n",
    "# Extract data into lists\n",
    "event_names = [item['name'] for item in events]\n",
    "addresses = [item['address'] for item in events]\n",
    "ratings = [item['rating'] for item in events]\n",
    "nr_reviews = [item['reviews'] for item in events]\n",
    "\n",
    "# Get coordinates for each address\n",
    "coordinates = [get_coordinates(address) for address in addresses]\n",
    "\n",
    "# Split coordinates into separate latitude and longitude columns\n",
    "latitudes = [coord[0] for coord in coordinates]\n",
    "longitudes = [coord[1] for coord in coordinates]\n",
    "\n",
    "# Create a DataFrame\n",
    "df = pd.DataFrame({\n",
    "    \"Event Name\": event_names,\n",
    "    \"Address\": addresses,\n",
    "    \"Latitude\": latitudes,\n",
    "    \"Longitude\": longitudes,\n",
    "    \"Rating\": ratings,\n",
    "    \"Reviews\": nr_reviews\n",
    "    \n",
    "})"
   ]
  },
  {
   "cell_type": "code",
   "execution_count": 58,
   "id": "8418372d-2a93-42de-a879-df56ad6a890e",
   "metadata": {},
   "outputs": [
    {
     "data": {
      "text/html": [
       "<div>\n",
       "<style scoped>\n",
       "    .dataframe tbody tr th:only-of-type {\n",
       "        vertical-align: middle;\n",
       "    }\n",
       "\n",
       "    .dataframe tbody tr th {\n",
       "        vertical-align: top;\n",
       "    }\n",
       "\n",
       "    .dataframe thead th {\n",
       "        text-align: right;\n",
       "    }\n",
       "</style>\n",
       "<table border=\"1\" class=\"dataframe\">\n",
       "  <thead>\n",
       "    <tr style=\"text-align: right;\">\n",
       "      <th></th>\n",
       "      <th>Event Name</th>\n",
       "      <th>Address</th>\n",
       "      <th>Latitude</th>\n",
       "      <th>Longitude</th>\n",
       "      <th>Rating</th>\n",
       "      <th>Reviews</th>\n",
       "    </tr>\n",
       "  </thead>\n",
       "  <tbody>\n",
       "    <tr>\n",
       "      <th>0</th>\n",
       "      <td>INJI</td>\n",
       "      <td>Hermannstraße 146 Berlin, Germany</td>\n",
       "      <td>52.464351</td>\n",
       "      <td>13.433384</td>\n",
       "      <td>4.4</td>\n",
       "      <td>850</td>\n",
       "    </tr>\n",
       "    <tr>\n",
       "      <th>1</th>\n",
       "      <td>Mister Misery</td>\n",
       "      <td>Revaler Strasse 99 Berlin, Germany</td>\n",
       "      <td>52.506442</td>\n",
       "      <td>13.457215</td>\n",
       "      <td>4.3</td>\n",
       "      <td>1444</td>\n",
       "    </tr>\n",
       "    <tr>\n",
       "      <th>2</th>\n",
       "      <td>Lindsey Stirling</td>\n",
       "      <td>Mercedes-Platz 2 Berlin, Germany</td>\n",
       "      <td>52.505554</td>\n",
       "      <td>13.443475</td>\n",
       "      <td>4.2</td>\n",
       "      <td>3568</td>\n",
       "    </tr>\n",
       "    <tr>\n",
       "      <th>3</th>\n",
       "      <td>Gurriers</td>\n",
       "      <td>Skalitzer Str. 85-86 Berlin, Germany</td>\n",
       "      <td>52.500071</td>\n",
       "      <td>13.434849</td>\n",
       "      <td>4.4</td>\n",
       "      <td>1019</td>\n",
       "    </tr>\n",
       "    <tr>\n",
       "      <th>4</th>\n",
       "      <td>The Irrepressibles</td>\n",
       "      <td>Obentrautstraße 19-21 Berlin, Germany</td>\n",
       "      <td>52.496067</td>\n",
       "      <td>13.387467</td>\n",
       "      <td>4.1</td>\n",
       "      <td>667</td>\n",
       "    </tr>\n",
       "    <tr>\n",
       "      <th>5</th>\n",
       "      <td>Cem Adrian</td>\n",
       "      <td>Vorderhaus Berlin, Germany</td>\n",
       "      <td>52.544675</td>\n",
       "      <td>13.416486</td>\n",
       "      <td>4.5</td>\n",
       "      <td>1889</td>\n",
       "    </tr>\n",
       "    <tr>\n",
       "      <th>6</th>\n",
       "      <td>Powerwolf</td>\n",
       "      <td>Paul-Heyse-Straße 26 Berlin, Germany</td>\n",
       "      <td>52.529188</td>\n",
       "      <td>13.452653</td>\n",
       "      <td>4.4</td>\n",
       "      <td>5179</td>\n",
       "    </tr>\n",
       "    <tr>\n",
       "      <th>7</th>\n",
       "      <td>Arooj Aftab</td>\n",
       "      <td>Karl-Marx-Straße 141 Berlin, Germany</td>\n",
       "      <td>52.477050</td>\n",
       "      <td>13.439682</td>\n",
       "      <td>4.6</td>\n",
       "      <td>1600</td>\n",
       "    </tr>\n",
       "    <tr>\n",
       "      <th>8</th>\n",
       "      <td>Bianca Del Rio</td>\n",
       "      <td>Mercedes-Platz 2 Berlin, Germany</td>\n",
       "      <td>52.505554</td>\n",
       "      <td>13.443475</td>\n",
       "      <td>4.2</td>\n",
       "      <td>3568</td>\n",
       "    </tr>\n",
       "    <tr>\n",
       "      <th>9</th>\n",
       "      <td>FRONT 242 - \"Black out - The final shows\" - Sp...</td>\n",
       "      <td>Hasenheide 107/113 Berlin, Germany</td>\n",
       "      <td>52.486490</td>\n",
       "      <td>13.421742</td>\n",
       "      <td>4.4</td>\n",
       "      <td>5628</td>\n",
       "    </tr>\n",
       "  </tbody>\n",
       "</table>\n",
       "</div>"
      ],
      "text/plain": [
       "                                          Event Name  \\\n",
       "0                                               INJI   \n",
       "1                                      Mister Misery   \n",
       "2                                   Lindsey Stirling   \n",
       "3                                           Gurriers   \n",
       "4                                 The Irrepressibles   \n",
       "5                                         Cem Adrian   \n",
       "6                                          Powerwolf   \n",
       "7                                        Arooj Aftab   \n",
       "8                                     Bianca Del Rio   \n",
       "9  FRONT 242 - \"Black out - The final shows\" - Sp...   \n",
       "\n",
       "                                 Address   Latitude  Longitude  Rating  \\\n",
       "0      Hermannstraße 146 Berlin, Germany  52.464351  13.433384     4.4   \n",
       "1     Revaler Strasse 99 Berlin, Germany  52.506442  13.457215     4.3   \n",
       "2       Mercedes-Platz 2 Berlin, Germany  52.505554  13.443475     4.2   \n",
       "3   Skalitzer Str. 85-86 Berlin, Germany  52.500071  13.434849     4.4   \n",
       "4  Obentrautstraße 19-21 Berlin, Germany  52.496067  13.387467     4.1   \n",
       "5             Vorderhaus Berlin, Germany  52.544675  13.416486     4.5   \n",
       "6   Paul-Heyse-Straße 26 Berlin, Germany  52.529188  13.452653     4.4   \n",
       "7   Karl-Marx-Straße 141 Berlin, Germany  52.477050  13.439682     4.6   \n",
       "8       Mercedes-Platz 2 Berlin, Germany  52.505554  13.443475     4.2   \n",
       "9     Hasenheide 107/113 Berlin, Germany  52.486490  13.421742     4.4   \n",
       "\n",
       "   Reviews  \n",
       "0      850  \n",
       "1     1444  \n",
       "2     3568  \n",
       "3     1019  \n",
       "4      667  \n",
       "5     1889  \n",
       "6     5179  \n",
       "7     1600  \n",
       "8     3568  \n",
       "9     5628  "
      ]
     },
     "execution_count": 58,
     "metadata": {},
     "output_type": "execute_result"
    }
   ],
   "source": [
    "df"
   ]
  },
  {
   "cell_type": "code",
   "execution_count": 79,
   "id": "de6b975c-8ecb-4607-ac97-c9a00741f18f",
   "metadata": {},
   "outputs": [
    {
     "data": {
      "image/png": "[encoded data removed]",
      "text/plain": [
       "<Figure size 640x480 with 1 Axes>"
      ]
     },
     "metadata": {},
     "output_type": "display_data"
    }
   ],
   "source": [
    "import geopandas as gpd\n",
    "import matplotlib.pyplot as plt\n",
    "from shapely.geometry import Point\n",
    "\n",
    "# List of latitudes and longitudes\n",
    "latitudes = df['Latitude']  # Replace with your latitudes\n",
    "longitudes = df['Longitude']  # Replace with your longitudes\n",
    "# Create a GeoDataFrame\n",
    "gdf = gpd.GeoDataFrame(\n",
    "    {\n",
    "        'Latitude': latitudes,\n",
    "        'Longitude': longitudes,\n",
    "        \"Rating\": ratings,\n",
    "        'Reviews': nr_reviews\n",
    "    },\n",
    "    geometry=[Point(lon, lat) for lon, lat in zip(longitudes, latitudes)]\n",
    ")\n",
    "\n",
    "# Load a map of Berlin (world basemap)\n",
    "berlin = gpd.read_file('bezirksgrenzen.shp')\n",
    "\n",
    "# Plot the map and the points\n",
    "ax = berlin.plot(color='lightgrey', edgecolor='black')\n",
    "\n",
    "# Plot points\n",
    "gdf.plot(ax=ax, color='blue', markersize=gdf['Rating'] * gdf['Reviews'] / gdf['Reviews'].max() * 100 / 5.0)\n",
    "\n",
    "# Set title and labels\n",
    "plt.title(\"Points in Berlin\")\n",
    "plt.xlabel(\"Longitude\")\n",
    "plt.ylabel(\"Latitude\")\n",
    "\n",
    "ax.set_xlim([13.35, 13.5])  # Longitude limits\n",
    "ax.set_ylim([52.4, 52.6])  # Latitude limits (zooming in around Berlin)\n",
    "\n",
    "plt.show()\n"
   ]
  },
  {
   "cell_type": "code",
   "execution_count": null,
   "id": "ecec6948-4c1a-47f9-a06c-ea1d2ea815ac",
   "metadata": {},
   "outputs": [],
   "source": []
  },
  {
   "cell_type": "markdown",
   "id": "255dc3ee-d438-429b-8fde-1ee6db039f34",
   "metadata": {},
   "source": [
    "## Code | C. Data cleaning and processing | 3 points\n",
    "#### Recommended deadline: from October 18th until October 21st\n",
    "#### Deadline: October 24th at 01:29 pm CET\n",
    "\n",
    "In order to make data-driven decisions, you will need to clean the collected data, fill missing values, merge datasets etc.\n",
    "\n",
    "Take some time to clean and process the collected data so that you can use it.\n",
    "\n",
    "Organize the dataset into a structured format, such as a CSV file, HTML file, EXCEL file, and a table where each row represents the achieved data."
   ]
  },
  {
   "cell_type": "markdown",
   "id": "7dc974d5-52c1-4bf4-9044-d17735e02ed4",
   "metadata": {},
   "source": []
  },
  {
   "cell_type": "code",
   "execution_count": null,
   "id": "3d7fba14-1628-4ce3-96ab-215d153e9f0c",
   "metadata": {},
   "outputs": [],
   "source": []
  },
  {
   "cell_type": "code",
   "execution_count": null,
   "id": "f7a38507-2c5b-4517-8cab-eb9b8427af7f",
   "metadata": {},
   "outputs": [],
   "source": []
  },
  {
   "cell_type": "code",
   "execution_count": null,
   "id": "08210ca2-d9b9-4c82-adeb-edb755ff7788",
   "metadata": {},
   "outputs": [],
   "source": []
  },
  {
   "cell_type": "markdown",
   "id": "fb4c7552-5ee6-4ea0-a1fa-6578f9fc9ca0",
   "metadata": {},
   "source": [
    "## Code | D. Compute relevant statistics | 2 points\n",
    "#### Recommended deadline: from October 18th until October 21st\n",
    "#### Deadline: October 24th at 01:29 pm CET\n",
    "\n",
    "Get together as a group and ask yourselves: what business questions would you like to answer? For example:\n",
    "\n",
    "- On which days are there maximum customer traffic?\n",
    "- On which days do we expect to make more sales?\n",
    "- How much inventory should we get? Why?\n",
    "- Which impact would the weather conditions, local attractions or events have on your business?\n",
    "- How would you like to develop the business in the future?\n",
    "    - Do you wish to expand to new locations?\n",
    "    - Launch a new product?\n",
    "    - Target more elderly or young people?\n",
    "    - Target vegetarian or book-worm people?\n",
    "\n",
    "Compute descriptive statistics that inform you about the future of your business and enable you to answer the business questions.|\n"
   ]
  },
  {
   "cell_type": "code",
   "execution_count": null,
   "id": "975c6735-11dd-49b5-a85e-a2d48a2fe6f4",
   "metadata": {},
   "outputs": [],
   "source": []
  },
  {
   "cell_type": "code",
   "execution_count": null,
   "id": "eba758c6-6733-4602-a949-b4624647ec5f",
   "metadata": {},
   "outputs": [],
   "source": []
  },
  {
   "cell_type": "code",
   "execution_count": null,
   "id": "92d92851-8daa-4e06-88ea-add4af0c3f5b",
   "metadata": {},
   "outputs": [],
   "source": []
  },
  {
   "cell_type": "code",
   "execution_count": null,
   "id": "e14d8e15-a194-452d-a423-ef1f0fc9fb6f",
   "metadata": {},
   "outputs": [],
   "source": []
  },
  {
   "cell_type": "markdown",
   "id": "7f1a6a40-648f-40f4-a3b9-f8e971297a4b",
   "metadata": {},
   "source": [
    "## Code | E. Clean and clear visualisations  | 3 points\n",
    "#### Deadline: October 24th at 01:29 pm CET\n",
    "\n",
    "Create **at least 3 data visualisations** that clearly state your point and support your decision-making. \n",
    "\n",
    "\n",
    "**Presentation: present each data visualisation and integrate them in your storytelling. Explain why they are relevant for your decision-making.**"
   ]
  },
  {
   "cell_type": "code",
   "execution_count": null,
   "id": "cb0dcc38-af9c-42f9-aef2-ffb428cfd04d",
   "metadata": {},
   "outputs": [],
   "source": []
  },
  {
   "cell_type": "code",
   "execution_count": null,
   "id": "a58095da-633f-4a13-9e9b-3219f77f75cb",
   "metadata": {},
   "outputs": [],
   "source": []
  },
  {
   "cell_type": "code",
   "execution_count": null,
   "id": "6aebae1b-11d2-4b55-a6dc-a15026deb042",
   "metadata": {},
   "outputs": [],
   "source": []
  },
  {
   "cell_type": "code",
   "execution_count": null,
   "id": "e2f0d147-aadb-486d-8454-a98efb0e810f",
   "metadata": {},
   "outputs": [],
   "source": []
  },
  {
   "cell_type": "markdown",
   "id": "b0948046-36fe-4cd8-bc28-0dc914fef0fe",
   "metadata": {},
   "source": [
    "## Presentation | 15 points\n",
    "#### Deadline: October 24th during class\n",
    "\n",
    "> Make a presentation about your business, the data you've collected and the direction you're taking the business in the next months.\n",
    "\n",
    "**Presentation | 1. Description of unique business idea | 1 point**\n",
    "\n",
    "Summarise the name and choice of business as well as location and the time of year it operates (you can add some branding, logo, etc.)\n",
    "\n",
    "\n",
    "**Presentation | 2. Presentation of all the APIs used and how it serves your business | 3 points**\n",
    "\n",
    "Present each API and explain why the collected data is relevant for your business.\n",
    "\n",
    "\n",
    "**Presentation | 3. Presentation of the data cleaning and processing | 2 points**\n",
    "\n",
    "Explain the steps your team took in order to get to a clean and structured dataset.\n",
    "\n",
    "\n",
    "**Presentation | 4. Presentation of the statistics  & 5. Data visualisations | 5 points**\n",
    "\n",
    "Display the statistics and relevant data visualisations that helped you make informed decisions about your business. The descriptive statistics and visualisations enable you to draw conclusions that take your business in one or the other direction. You need to explain how this information serves your business and the next steps you will take.\n",
    "\n",
    "**Presentation | 6. Storytelling | 4 points**\n",
    "\n",
    "Why did you pick this business idea? Why this name?\n",
    "\n",
    "Who is your target audience? What problem does it solve?\n",
    "\n",
    "What decisions did you make to make your business thrive in the future? What are your current challenges? Opportunities?\n",
    "\n",
    "Can Data save your business or make it expand to new territories?\n",
    "\n",
    "\n",
    "Create a good story!"
   ]
  },
  {
   "cell_type": "code",
   "execution_count": null,
   "id": "a25c20df-95ec-4f57-b1ea-9cb4ae1fa8ac",
   "metadata": {},
   "outputs": [],
   "source": []
  }
 ],
 "metadata": {
  "kernelspec": {
   "display_name": "Python 3 (ipykernel)",
   "language": "python",
   "name": "python3"
  },
  "language_info": {
   "codemirror_mode": {
    "name": "ipython",
    "version": 3
   },
   "file_extension": ".py",
   "mimetype": "text/x-python",
   "name": "python",
   "nbconvert_exporter": "python",
   "pygments_lexer": "ipython3",
   "version": "3.9.13"
  }
 },
 "nbformat": 4,
 "nbformat_minor": 5
}

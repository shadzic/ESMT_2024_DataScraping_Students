{
 "cells": [
  {
   "cell_type": "markdown",
   "id": "2abb51e6-e8ae-4cb3-a1b7-43706ea2d5f7",
   "metadata": {},
   "source": [
    "# 03 Homework\n",
    "© Copyright: 2024, Selma Hadzic, all rights reserved.\n",
    "\n",
    "#### Number of points: 15 (weights 15% in the final grade)\n",
    "\n",
    "\n",
    "1. Pull from the `ESMT_2024_DataScraping_Lectures` repository: you should get this `03_Homework` file\n",
    "2. Launch VS Code and open your working-folder\n",
    "3. Create a `Session_03` folder, in which you create another folder called `data`\n",
    "4. Copy paste the notebook `03_Homework` from the lectures repo to the working-folder. Copy the csv files `movies.csv` and `movies_metadata.csv` into the `working-folder/Session_03/data` directory.\n",
    "5. Do the exercises on 03_Homework in your working-folder\n",
    "6. Once you are finished, copy-Paste the notebook into `ESMT_2024_DataScraping_Students` folder in your computer\n",
    "8. Commit and push your homework in your branch before the deadline\n",
    "\n",
    "#### Deadline: October 21st 08:59 am CET\n",
    "\n",
    "#### Any missed deadline without justification to the Administration will result in 0 points for this homework.\n",
    "#### If the Github branch is not correctly named using the indicated format **LASTNAME_firstname**, then a penalty of -2 points will be applied"
   ]
  },
  {
   "cell_type": "markdown",
   "id": "2ea70485-ebf4-460f-9030-e08b673127a2",
   "metadata": {},
   "source": [
    "## 1. Exploration and data cleaning (6 points)"
   ]
  },
  {
   "cell_type": "markdown",
   "id": "b76c778b-c041-4c18-acc9-5186aef41c88",
   "metadata": {},
   "source": [
    "**1.1. Read the dataset `movies.csv` and visualise it**"
   ]
  },
  {
   "cell_type": "code",
   "execution_count": 4,
   "id": "1c158e75-df74-4241-9c7c-7b6cbaf27935",
   "metadata": {},
   "outputs": [
    {
     "name": "stdout",
     "output_type": "stream",
     "text": [
      "Requirement already satisfied: matplotlib in d:\\conda\\lib\\site-packages (3.8.4)\n",
      "Requirement already satisfied: contourpy>=1.0.1 in d:\\conda\\lib\\site-packages (from matplotlib) (1.2.0)\n",
      "Requirement already satisfied: cycler>=0.10 in d:\\conda\\lib\\site-packages (from matplotlib) (0.11.0)\n",
      "Requirement already satisfied: fonttools>=4.22.0 in d:\\conda\\lib\\site-packages (from matplotlib) (4.51.0)\n",
      "Requirement already satisfied: kiwisolver>=1.3.1 in d:\\conda\\lib\\site-packages (from matplotlib) (1.4.4)\n",
      "Requirement already satisfied: numpy>=1.21 in d:\\conda\\lib\\site-packages (from matplotlib) (1.26.4)\n",
      "Requirement already satisfied: packaging>=20.0 in d:\\conda\\lib\\site-packages (from matplotlib) (23.2)\n",
      "Requirement already satisfied: pillow>=8 in d:\\conda\\lib\\site-packages (from matplotlib) (10.3.0)\n",
      "Requirement already satisfied: pyparsing>=2.3.1 in d:\\conda\\lib\\site-packages (from matplotlib) (3.0.9)\n",
      "Requirement already satisfied: python-dateutil>=2.7 in d:\\conda\\lib\\site-packages (from matplotlib) (2.9.0.post0)\n",
      "Requirement already satisfied: six>=1.5 in d:\\conda\\lib\\site-packages (from python-dateutil>=2.7->matplotlib) (1.16.0)\n"
     ]
    }
   ],
   "source": [
    "!pip install matplotlib\n",
    "import pandas as pd\n",
    "import matplotlib.pyplot as plt"
   ]
  },
  {
   "cell_type": "code",
   "execution_count": 5,
   "id": "cd8f705d-05ea-4af9-b40e-f5f3df582455",
   "metadata": {},
   "outputs": [
    {
     "data": {
      "text/plain": [
       "<bound method DataFrame.info of                                    MOVIES         YEAR  \\\n",
       "0                           Blood Red Sky       (2021)   \n",
       "1     Masters of the Universe: Revelation     (2021– )   \n",
       "2                        The Walking Dead  (2010–2022)   \n",
       "3                          Rick and Morty     (2013– )   \n",
       "4                         Army of Thieves       (2021)   \n",
       "...                                   ...          ...   \n",
       "9994                       The Imperfects     (2021– )   \n",
       "9995                               Arcane     (2021– )   \n",
       "9996                    Heart of Invictus     (2022– )   \n",
       "9997                       The Imperfects     (2021– )   \n",
       "9998                       The Imperfects     (2021– )   \n",
       "\n",
       "                                           GENRE  RATING  \\\n",
       "0         \\nAction, Horror, Thriller                 6.1   \n",
       "1     \\nAnimation, Action, Adventure                 5.0   \n",
       "2          \\nDrama, Horror, Thriller                 8.2   \n",
       "3     \\nAnimation, Adventure, Comedy                 9.2   \n",
       "4            \\nAction, Crime, Horror                 NaN   \n",
       "...                                          ...     ...   \n",
       "9994     \\nAdventure, Drama, Fantasy                 NaN   \n",
       "9995  \\nAnimation, Action, Adventure                 NaN   \n",
       "9996            \\nDocumentary, Sport                 NaN   \n",
       "9997     \\nAdventure, Drama, Fantasy                 NaN   \n",
       "9998     \\nAdventure, Drama, Fantasy                 NaN   \n",
       "\n",
       "                                               ONE-LINE  \\\n",
       "0     \\nA woman with a mysterious illness is forced ...   \n",
       "1     \\nThe war for Eternia begins again in what may...   \n",
       "2     \\nSheriff Deputy Rick Grimes wakes up from a c...   \n",
       "3     \\nAn animated series that follows the exploits...   \n",
       "4     \\nA prequel, set before the events of Army of ...   \n",
       "...                                                 ...   \n",
       "9994                                     \\nAdd a Plot\\n   \n",
       "9995                                     \\nAdd a Plot\\n   \n",
       "9996                                     \\nAdd a Plot\\n   \n",
       "9997                                     \\nAdd a Plot\\n   \n",
       "9998                                     \\nAdd a Plot\\n   \n",
       "\n",
       "                                                  STARS    VOTES  RunTime  \\\n",
       "0     \\n    Director:\\nPeter Thorwarth\\n| \\n    Star...   21,062    121.0   \n",
       "1     \\n            \\n    Stars:\\nChris Wood, \\nSara...   17,870     25.0   \n",
       "2     \\n            \\n    Stars:\\nAndrew Lincoln, \\n...  885,805     44.0   \n",
       "3     \\n            \\n    Stars:\\nJustin Roiland, \\n...  414,849     23.0   \n",
       "4     \\n    Director:\\nMatthias Schweighöfer\\n| \\n  ...      NaN      NaN   \n",
       "...                                                 ...      ...      ...   \n",
       "9994  \\n            \\n    Stars:\\nMorgan Taylor Camp...      NaN      NaN   \n",
       "9995                                                 \\n      NaN      NaN   \n",
       "9996  \\n    Director:\\nOrlando von Einsiedel\\n| \\n  ...      NaN      NaN   \n",
       "9997  \\n    Director:\\nJovanka Vuckovic\\n| \\n    Sta...      NaN      NaN   \n",
       "9998  \\n    Director:\\nJovanka Vuckovic\\n| \\n    Sta...      NaN      NaN   \n",
       "\n",
       "     Gross  \n",
       "0      NaN  \n",
       "1      NaN  \n",
       "2      NaN  \n",
       "3      NaN  \n",
       "4      NaN  \n",
       "...    ...  \n",
       "9994   NaN  \n",
       "9995   NaN  \n",
       "9996   NaN  \n",
       "9997   NaN  \n",
       "9998   NaN  \n",
       "\n",
       "[9999 rows x 9 columns]>"
      ]
     },
     "execution_count": 5,
     "metadata": {},
     "output_type": "execute_result"
    }
   ],
   "source": [
    "df = pd.read_csv(\"./data/movies.csv\")\n",
    "df.head(10)\n",
    "df.info"
   ]
  },
  {
   "cell_type": "markdown",
   "id": "c7357647-fad3-483f-bdf8-d72c7c0d0ed5",
   "metadata": {},
   "source": [
    "**1.2 Display the size and the number of missing data points per column of the DataFrame**"
   ]
  },
  {
   "cell_type": "code",
   "execution_count": 7,
   "id": "4675b85b-5d7e-4bcb-a8b1-da8e59d050ab",
   "metadata": {},
   "outputs": [
    {
     "data": {
      "text/plain": [
       "(9999, 9)"
      ]
     },
     "execution_count": 7,
     "metadata": {},
     "output_type": "execute_result"
    }
   ],
   "source": [
    "# gives shape of the table: there are 9999 rows and 10 columns\n",
    "df.shape"
   ]
  },
  {
   "cell_type": "code",
   "execution_count": 8,
   "id": "f71bd766-c8ca-47be-be3d-cb939f4fa1b7",
   "metadata": {},
   "outputs": [
    {
     "data": {
      "text/plain": [
       "16861"
      ]
     },
     "execution_count": 8,
     "metadata": {},
     "output_type": "execute_result"
    }
   ],
   "source": [
    "# df.isnull().sum() gives you the sum of each category, sum in sum gives the sum of all missing values\n",
    "df.isnull().sum().sum()"
   ]
  },
  {
   "cell_type": "markdown",
   "id": "e2990509-31bf-45f1-bda1-f1c6116fe765",
   "metadata": {},
   "source": [
    "**1.3 Fill the NaN and replace the original dataset**\n",
    "- YEAR: 'Unknown'\n",
    "- GENRE: 'Unknown'\n",
    "- RATING: with the median value\n",
    "- VOTES: 0\n",
    "\n",
    "We leave the NaN of RunTime and Gross for now, as there is no straightforward way to fill them."
   ]
  },
  {
   "cell_type": "code",
   "execution_count": 10,
   "id": "f0b8410d-5477-4ba7-8c83-1d9f241d2695",
   "metadata": {},
   "outputs": [],
   "source": [
    "df.YEAR = df.YEAR.fillna(\"Unknown\")\n",
    "df.GENRE = df.GENRE.fillna(\"Unknown\")\n",
    "df.RATING = df.RATING.fillna(df.RATING.median())\n",
    "df.VOTES = df.VOTES.fillna(0)"
   ]
  },
  {
   "cell_type": "code",
   "execution_count": 11,
   "id": "2f25ffa6-f640-4647-ae1b-5825d722e1f0",
   "metadata": {},
   "outputs": [
    {
     "data": {
      "text/plain": [
       "<bound method DataFrame.info of                                    MOVIES         YEAR  \\\n",
       "0                           Blood Red Sky       (2021)   \n",
       "1     Masters of the Universe: Revelation     (2021– )   \n",
       "2                        The Walking Dead  (2010–2022)   \n",
       "3                          Rick and Morty     (2013– )   \n",
       "4                         Army of Thieves       (2021)   \n",
       "...                                   ...          ...   \n",
       "9994                       The Imperfects     (2021– )   \n",
       "9995                               Arcane     (2021– )   \n",
       "9996                    Heart of Invictus     (2022– )   \n",
       "9997                       The Imperfects     (2021– )   \n",
       "9998                       The Imperfects     (2021– )   \n",
       "\n",
       "                                           GENRE  RATING  \\\n",
       "0         \\nAction, Horror, Thriller                 6.1   \n",
       "1     \\nAnimation, Action, Adventure                 5.0   \n",
       "2          \\nDrama, Horror, Thriller                 8.2   \n",
       "3     \\nAnimation, Adventure, Comedy                 9.2   \n",
       "4            \\nAction, Crime, Horror                 7.1   \n",
       "...                                          ...     ...   \n",
       "9994     \\nAdventure, Drama, Fantasy                 7.1   \n",
       "9995  \\nAnimation, Action, Adventure                 7.1   \n",
       "9996            \\nDocumentary, Sport                 7.1   \n",
       "9997     \\nAdventure, Drama, Fantasy                 7.1   \n",
       "9998     \\nAdventure, Drama, Fantasy                 7.1   \n",
       "\n",
       "                                               ONE-LINE  \\\n",
       "0     \\nA woman with a mysterious illness is forced ...   \n",
       "1     \\nThe war for Eternia begins again in what may...   \n",
       "2     \\nSheriff Deputy Rick Grimes wakes up from a c...   \n",
       "3     \\nAn animated series that follows the exploits...   \n",
       "4     \\nA prequel, set before the events of Army of ...   \n",
       "...                                                 ...   \n",
       "9994                                     \\nAdd a Plot\\n   \n",
       "9995                                     \\nAdd a Plot\\n   \n",
       "9996                                     \\nAdd a Plot\\n   \n",
       "9997                                     \\nAdd a Plot\\n   \n",
       "9998                                     \\nAdd a Plot\\n   \n",
       "\n",
       "                                                  STARS    VOTES  RunTime  \\\n",
       "0     \\n    Director:\\nPeter Thorwarth\\n| \\n    Star...   21,062    121.0   \n",
       "1     \\n            \\n    Stars:\\nChris Wood, \\nSara...   17,870     25.0   \n",
       "2     \\n            \\n    Stars:\\nAndrew Lincoln, \\n...  885,805     44.0   \n",
       "3     \\n            \\n    Stars:\\nJustin Roiland, \\n...  414,849     23.0   \n",
       "4     \\n    Director:\\nMatthias Schweighöfer\\n| \\n  ...        0      NaN   \n",
       "...                                                 ...      ...      ...   \n",
       "9994  \\n            \\n    Stars:\\nMorgan Taylor Camp...        0      NaN   \n",
       "9995                                                 \\n        0      NaN   \n",
       "9996  \\n    Director:\\nOrlando von Einsiedel\\n| \\n  ...        0      NaN   \n",
       "9997  \\n    Director:\\nJovanka Vuckovic\\n| \\n    Sta...        0      NaN   \n",
       "9998  \\n    Director:\\nJovanka Vuckovic\\n| \\n    Sta...        0      NaN   \n",
       "\n",
       "     Gross  \n",
       "0      NaN  \n",
       "1      NaN  \n",
       "2      NaN  \n",
       "3      NaN  \n",
       "4      NaN  \n",
       "...    ...  \n",
       "9994   NaN  \n",
       "9995   NaN  \n",
       "9996   NaN  \n",
       "9997   NaN  \n",
       "9998   NaN  \n",
       "\n",
       "[9999 rows x 9 columns]>"
      ]
     },
     "execution_count": 11,
     "metadata": {},
     "output_type": "execute_result"
    }
   ],
   "source": [
    "df.info"
   ]
  },
  {
   "cell_type": "markdown",
   "id": "eff0a902-87b7-4c8d-8503-06b32ff01638",
   "metadata": {},
   "source": [
    "**1.4 Drop the duplicated rows**"
   ]
  },
  {
   "cell_type": "code",
   "execution_count": 13,
   "id": "5bcfa8ef-101f-463a-b2a9-cbd65fba9e43",
   "metadata": {},
   "outputs": [],
   "source": [
    "df.drop_duplicates(inplace=True)"
   ]
  },
  {
   "cell_type": "markdown",
   "id": "57744aba-ddb9-4738-a937-e0c64829b038",
   "metadata": {},
   "source": [
    "**1.5 Replace the columns names to make them all lowercase**"
   ]
  },
  {
   "cell_type": "code",
   "execution_count": 15,
   "id": "ce4fb9c5-6d6d-4b10-a5c5-597a7e3213c9",
   "metadata": {},
   "outputs": [],
   "source": [
    "df.columns = [x.lower() for x in df.columns]"
   ]
  },
  {
   "cell_type": "code",
   "execution_count": 16,
   "id": "00be34ab-0c87-49f0-ae75-67172573b057",
   "metadata": {},
   "outputs": [
    {
     "data": {
      "text/html": [
       "<div>\n",
       "<style scoped>\n",
       "    .dataframe tbody tr th:only-of-type {\n",
       "        vertical-align: middle;\n",
       "    }\n",
       "\n",
       "    .dataframe tbody tr th {\n",
       "        vertical-align: top;\n",
       "    }\n",
       "\n",
       "    .dataframe thead th {\n",
       "        text-align: right;\n",
       "    }\n",
       "</style>\n",
       "<table border=\"1\" class=\"dataframe\">\n",
       "  <thead>\n",
       "    <tr style=\"text-align: right;\">\n",
       "      <th></th>\n",
       "      <th>movies</th>\n",
       "      <th>year</th>\n",
       "      <th>genre</th>\n",
       "      <th>rating</th>\n",
       "      <th>one-line</th>\n",
       "      <th>stars</th>\n",
       "      <th>votes</th>\n",
       "      <th>runtime</th>\n",
       "      <th>gross</th>\n",
       "    </tr>\n",
       "  </thead>\n",
       "  <tbody>\n",
       "    <tr>\n",
       "      <th>0</th>\n",
       "      <td>Blood Red Sky</td>\n",
       "      <td>(2021)</td>\n",
       "      <td>\\nAction, Horror, Thriller</td>\n",
       "      <td>6.1</td>\n",
       "      <td>\\nA woman with a mysterious illness is forced ...</td>\n",
       "      <td>\\n    Director:\\nPeter Thorwarth\\n| \\n    Star...</td>\n",
       "      <td>21,062</td>\n",
       "      <td>121.0</td>\n",
       "      <td>NaN</td>\n",
       "    </tr>\n",
       "  </tbody>\n",
       "</table>\n",
       "</div>"
      ],
      "text/plain": [
       "          movies    year                                   genre  rating  \\\n",
       "0  Blood Red Sky  (2021)  \\nAction, Horror, Thriller                 6.1   \n",
       "\n",
       "                                            one-line  \\\n",
       "0  \\nA woman with a mysterious illness is forced ...   \n",
       "\n",
       "                                               stars   votes  runtime gross  \n",
       "0  \\n    Director:\\nPeter Thorwarth\\n| \\n    Star...  21,062    121.0   NaN  "
      ]
     },
     "execution_count": 16,
     "metadata": {},
     "output_type": "execute_result"
    }
   ],
   "source": [
    "df.head(1)"
   ]
  },
  {
   "cell_type": "markdown",
   "id": "2f4750a5-964b-4ad7-beb5-74935b5841e4",
   "metadata": {},
   "source": [
    "**1.6 Convert the `votes` column into a `float type`**\n",
    "\n",
    "*Hint: the U.K. and U.S. use a comma to separate groups of thousands. You might need to remove this comma first before converting the numbers*"
   ]
  },
  {
   "cell_type": "code",
   "execution_count": 18,
   "id": "beabfbe6-7e57-494b-a853-274b9c191187",
   "metadata": {},
   "outputs": [],
   "source": [
    "df.votes = df.votes.str.replace(\",\", \"\")"
   ]
  },
  {
   "cell_type": "code",
   "execution_count": 19,
   "id": "65a4c40a-0924-4b57-bcb7-eb4d787be363",
   "metadata": {},
   "outputs": [
    {
     "data": {
      "text/plain": [
       "dtype('float64')"
      ]
     },
     "execution_count": 19,
     "metadata": {},
     "output_type": "execute_result"
    }
   ],
   "source": [
    "df.votes = df.votes.astype(float)\n",
    "df.votes.dtypes"
   ]
  },
  {
   "cell_type": "markdown",
   "id": "e581e6d2-7046-4db5-9300-73072f0e3c6d",
   "metadata": {},
   "source": [
    "## 2. Descriptive statistics (5 points)"
   ]
  },
  {
   "cell_type": "markdown",
   "id": "793e3799-dcb8-4b69-a18a-438a6c9bce64",
   "metadata": {},
   "source": [
    "**2.1 What is the average rating?**"
   ]
  },
  {
   "cell_type": "code",
   "execution_count": 22,
   "id": "12f35963-d581-4673-873c-718e2a3d49e4",
   "metadata": {},
   "outputs": [
    {
     "data": {
      "text/plain": [
       "6.94608068561873"
      ]
     },
     "execution_count": 22,
     "metadata": {},
     "output_type": "execute_result"
    }
   ],
   "source": [
    "#the mean rating for listed movies is 6.95\n",
    "df.rating.mean()"
   ]
  },
  {
   "cell_type": "markdown",
   "id": "264e2420-45b8-4b9e-a289-8a8496f83bf0",
   "metadata": {},
   "source": [
    "**2.2 What is the maximum runtime?**"
   ]
  },
  {
   "cell_type": "code",
   "execution_count": 24,
   "id": "659af824-504c-4ed4-863d-bac28f76d210",
   "metadata": {},
   "outputs": [
    {
     "data": {
      "text/plain": [
       "853.0"
      ]
     },
     "execution_count": 24,
     "metadata": {},
     "output_type": "execute_result"
    }
   ],
   "source": [
    "#max runtime is 853 minutes\n",
    "df.runtime.max()"
   ]
  },
  {
   "cell_type": "markdown",
   "id": "48a0f4b9-7999-4455-a253-ea660288db77",
   "metadata": {},
   "source": [
    "**2.3 Filter the dataset to show which movie/serie has the longest runtime**"
   ]
  },
  {
   "cell_type": "code",
   "execution_count": 26,
   "id": "30493be7-1eea-4675-9bc8-38d8c5d9acf8",
   "metadata": {},
   "outputs": [
    {
     "data": {
      "text/html": [
       "<div>\n",
       "<style scoped>\n",
       "    .dataframe tbody tr th:only-of-type {\n",
       "        vertical-align: middle;\n",
       "    }\n",
       "\n",
       "    .dataframe tbody tr th {\n",
       "        vertical-align: top;\n",
       "    }\n",
       "\n",
       "    .dataframe thead th {\n",
       "        text-align: right;\n",
       "    }\n",
       "</style>\n",
       "<table border=\"1\" class=\"dataframe\">\n",
       "  <thead>\n",
       "    <tr style=\"text-align: right;\">\n",
       "      <th></th>\n",
       "      <th>movies</th>\n",
       "      <th>year</th>\n",
       "      <th>genre</th>\n",
       "      <th>rating</th>\n",
       "      <th>one-line</th>\n",
       "      <th>stars</th>\n",
       "      <th>votes</th>\n",
       "      <th>runtime</th>\n",
       "      <th>gross</th>\n",
       "    </tr>\n",
       "  </thead>\n",
       "  <tbody>\n",
       "    <tr>\n",
       "      <th>1902</th>\n",
       "      <td>El tiempo entre costuras</td>\n",
       "      <td>(2013–2014)</td>\n",
       "      <td>\\nAdventure, Drama, History</td>\n",
       "      <td>8.3</td>\n",
       "      <td>\\nSira Quiroga is a young Spanish dressmaker e...</td>\n",
       "      <td>\\n            \\n    Stars:\\nAdriana Ugarte, \\n...</td>\n",
       "      <td>3876.0</td>\n",
       "      <td>853.0</td>\n",
       "      <td>NaN</td>\n",
       "    </tr>\n",
       "  </tbody>\n",
       "</table>\n",
       "</div>"
      ],
      "text/plain": [
       "                        movies         year  \\\n",
       "1902  El tiempo entre costuras  (2013–2014)   \n",
       "\n",
       "                                        genre  rating  \\\n",
       "1902  \\nAdventure, Drama, History                 8.3   \n",
       "\n",
       "                                               one-line  \\\n",
       "1902  \\nSira Quiroga is a young Spanish dressmaker e...   \n",
       "\n",
       "                                                  stars   votes  runtime gross  \n",
       "1902  \\n            \\n    Stars:\\nAdriana Ugarte, \\n...  3876.0    853.0   NaN  "
      ]
     },
     "execution_count": 26,
     "metadata": {},
     "output_type": "execute_result"
    }
   ],
   "source": [
    "df[df.runtime == df.runtime.max()]"
   ]
  },
  {
   "cell_type": "markdown",
   "id": "37a367eb-d842-45a7-a48e-af0d7fcb77f0",
   "metadata": {},
   "source": [
    "**2.4 Plot the histogram of runtimes, filtering on (0, 200) range with 200 bins**"
   ]
  },
  {
   "cell_type": "code",
   "execution_count": 28,
   "id": "b18e1799-6cc0-49ad-8e7e-e4c7e1e9efae",
   "metadata": {},
   "outputs": [
    {
     "data": {
      "image/png": "[encoded data removed]",
      "text/plain": [
       "<Figure size 640x480 with 1 Axes>"
      ]
     },
     "metadata": {},
     "output_type": "display_data"
    }
   ],
   "source": [
    "df.runtime.plot(kind='hist', title=\"Movies Runtime\", range = (0,200), bins = 200);"
   ]
  },
  {
   "cell_type": "markdown",
   "id": "29d75e94-ce19-454b-9365-0ac37e468765",
   "metadata": {},
   "source": [
    "**2.5 What is the number of votes a movie needs to have, to be in the top 10% most voted film?**\n",
    "\n",
    "*Tip: the 90th quantile*"
   ]
  },
  {
   "cell_type": "code",
   "execution_count": 30,
   "id": "5e49a5b6-9aa6-402a-b6e9-4941a56c7cd7",
   "metadata": {},
   "outputs": [
    {
     "data": {
      "text/plain": [
       "22193.100000000035"
      ]
     },
     "execution_count": 30,
     "metadata": {},
     "output_type": "execute_result"
    }
   ],
   "source": [
    "#to be part of the top 10% of movies when it comes to votes, a movie will need  22,194 votes\n",
    "df.votes.quantile(0.9)"
   ]
  },
  {
   "cell_type": "markdown",
   "id": "2ff85744-7efb-4723-a145-f933af5d1232",
   "metadata": {},
   "source": [
    "## 3. Merging datasets (4 points)"
   ]
  },
  {
   "cell_type": "markdown",
   "id": "4af297a4-e487-490e-819c-0437d256a7ef",
   "metadata": {},
   "source": [
    "**Read `movies_metadata.csv` and assign it to a `df_meta` variable**\n",
    "\n",
    "**Create a `merge_df` DataFrame from an `inner join` between `df` and `df_meta`**\n",
    "\n",
    "*Hint: you need to find the right key to join on*"
   ]
  },
  {
   "cell_type": "code",
   "execution_count": 38,
   "id": "052e3ae0-9fe9-4f4a-b5ea-c6375897a13c",
   "metadata": {},
   "outputs": [],
   "source": [
    "df_meta = pd.read_csv(\"./data/movies_metadata.csv\", low_memory=False)"
   ]
  },
  {
   "cell_type": "code",
   "execution_count": 48,
   "id": "ca68a335-9f5c-42dc-b577-9ca7bf905dba",
   "metadata": {},
   "outputs": [
    {
     "name": "stdout",
     "output_type": "stream",
     "text": [
      "<class 'pandas.core.frame.DataFrame'>\n",
      "RangeIndex: 45466 entries, 0 to 45465\n",
      "Data columns (total 24 columns):\n",
      " #   Column                 Non-Null Count  Dtype  \n",
      "---  ------                 --------------  -----  \n",
      " 0   adult                  45466 non-null  object \n",
      " 1   belongs_to_collection  4494 non-null   object \n",
      " 2   budget                 45466 non-null  object \n",
      " 3   genres                 45466 non-null  object \n",
      " 4   homepage               7782 non-null   object \n",
      " 5   id                     45466 non-null  object \n",
      " 6   imdb_id                45449 non-null  object \n",
      " 7   original_language      45455 non-null  object \n",
      " 8   movies                 45466 non-null  object \n",
      " 9   overview               44512 non-null  object \n",
      " 10  popularity             45461 non-null  object \n",
      " 11  poster_path            45080 non-null  object \n",
      " 12  production_companies   45463 non-null  object \n",
      " 13  production_countries   45463 non-null  object \n",
      " 14  release_date           45379 non-null  object \n",
      " 15  revenue                45460 non-null  float64\n",
      " 16  runtime                45203 non-null  float64\n",
      " 17  spoken_languages       45460 non-null  object \n",
      " 18  status                 45379 non-null  object \n",
      " 19  tagline                20412 non-null  object \n",
      " 20  title                  45460 non-null  object \n",
      " 21  video                  45460 non-null  object \n",
      " 22  vote_average           45460 non-null  float64\n",
      " 23  vote_count             45460 non-null  float64\n",
      "dtypes: float64(4), object(20)\n",
      "memory usage: 8.3+ MB\n"
     ]
    }
   ],
   "source": [
    "#change name of original_title header to \"movies\", as the \"movies\" column in the first dataset used original titles\n",
    "df_meta = df_meta.rename(columns={\"original_title\": \"movies\"}) \n",
    "df_meta.info()"
   ]
  },
  {
   "cell_type": "code",
   "execution_count": 46,
   "id": "ef0d120a-5ac7-4a0e-b7e4-b0589f6efcac",
   "metadata": {},
   "outputs": [
    {
     "data": {
      "text/html": [
       "<div>\n",
       "<style scoped>\n",
       "    .dataframe tbody tr th:only-of-type {\n",
       "        vertical-align: middle;\n",
       "    }\n",
       "\n",
       "    .dataframe tbody tr th {\n",
       "        vertical-align: top;\n",
       "    }\n",
       "\n",
       "    .dataframe thead th {\n",
       "        text-align: right;\n",
       "    }\n",
       "</style>\n",
       "<table border=\"1\" class=\"dataframe\">\n",
       "  <thead>\n",
       "    <tr style=\"text-align: right;\">\n",
       "      <th></th>\n",
       "      <th>movies</th>\n",
       "      <th>year</th>\n",
       "      <th>genre</th>\n",
       "      <th>rating</th>\n",
       "      <th>one-line</th>\n",
       "      <th>stars</th>\n",
       "      <th>votes</th>\n",
       "      <th>runtime_x</th>\n",
       "      <th>gross</th>\n",
       "      <th>adult</th>\n",
       "      <th>...</th>\n",
       "      <th>release_date</th>\n",
       "      <th>revenue</th>\n",
       "      <th>runtime_y</th>\n",
       "      <th>spoken_languages</th>\n",
       "      <th>status</th>\n",
       "      <th>tagline</th>\n",
       "      <th>title</th>\n",
       "      <th>video</th>\n",
       "      <th>vote_average</th>\n",
       "      <th>vote_count</th>\n",
       "    </tr>\n",
       "  </thead>\n",
       "  <tbody>\n",
       "    <tr>\n",
       "      <th>0</th>\n",
       "      <td>The Walking Dead</td>\n",
       "      <td>(2010–2022)</td>\n",
       "      <td>\\nDrama, Horror, Thriller</td>\n",
       "      <td>8.2</td>\n",
       "      <td>\\nSheriff Deputy Rick Grimes wakes up from a c...</td>\n",
       "      <td>\\n            \\n    Stars:\\nAndrew Lincoln, \\n...</td>\n",
       "      <td>885805.0</td>\n",
       "      <td>44.0</td>\n",
       "      <td>NaN</td>\n",
       "      <td>False</td>\n",
       "      <td>...</td>\n",
       "      <td>1995-02-24</td>\n",
       "      <td>0.0</td>\n",
       "      <td>88.0</td>\n",
       "      <td>[{'iso_639_1': 'en', 'name': 'English'}]</td>\n",
       "      <td>Released</td>\n",
       "      <td>Surviving the streets was just a rehearsal.</td>\n",
       "      <td>The Walking Dead</td>\n",
       "      <td>False</td>\n",
       "      <td>6.6</td>\n",
       "      <td>4.0</td>\n",
       "    </tr>\n",
       "    <tr>\n",
       "      <th>1</th>\n",
       "      <td>The Walking Dead</td>\n",
       "      <td>(2010–2022)</td>\n",
       "      <td>\\nDrama, Horror, Thriller</td>\n",
       "      <td>8.2</td>\n",
       "      <td>\\nSheriff Deputy Rick Grimes wakes up from a c...</td>\n",
       "      <td>\\n            \\n    Stars:\\nAndrew Lincoln, \\n...</td>\n",
       "      <td>885805.0</td>\n",
       "      <td>44.0</td>\n",
       "      <td>NaN</td>\n",
       "      <td>False</td>\n",
       "      <td>...</td>\n",
       "      <td>1936-03-14</td>\n",
       "      <td>0.0</td>\n",
       "      <td>66.0</td>\n",
       "      <td>[{'iso_639_1': 'en', 'name': 'English'}]</td>\n",
       "      <td>Released</td>\n",
       "      <td>HE DIED a man with a hunger to love... and ret...</td>\n",
       "      <td>The Walking Dead</td>\n",
       "      <td>False</td>\n",
       "      <td>6.6</td>\n",
       "      <td>14.0</td>\n",
       "    </tr>\n",
       "    <tr>\n",
       "      <th>2</th>\n",
       "      <td>Lucifer</td>\n",
       "      <td>(2016–2021)</td>\n",
       "      <td>\\nCrime, Drama, Fantasy</td>\n",
       "      <td>8.1</td>\n",
       "      <td>\\nLucifer Morningstar has decided he's had eno...</td>\n",
       "      <td>\\n            \\n    Stars:\\nTom Ellis, \\nLesle...</td>\n",
       "      <td>264222.0</td>\n",
       "      <td>42.0</td>\n",
       "      <td>NaN</td>\n",
       "      <td>False</td>\n",
       "      <td>...</td>\n",
       "      <td>2014-10-22</td>\n",
       "      <td>0.0</td>\n",
       "      <td>108.0</td>\n",
       "      <td>[{'iso_639_1': 'es', 'name': 'Español'}]</td>\n",
       "      <td>Released</td>\n",
       "      <td>NaN</td>\n",
       "      <td>Lucifer</td>\n",
       "      <td>False</td>\n",
       "      <td>5.8</td>\n",
       "      <td>4.0</td>\n",
       "    </tr>\n",
       "    <tr>\n",
       "      <th>3</th>\n",
       "      <td>The Good Doctor</td>\n",
       "      <td>(2017– )</td>\n",
       "      <td>\\nDrama</td>\n",
       "      <td>8.1</td>\n",
       "      <td>\\nShaun Murphy, a young surgeon with autism an...</td>\n",
       "      <td>\\n            \\n    Stars:\\nFreddie Highmore, ...</td>\n",
       "      <td>70871.0</td>\n",
       "      <td>41.0</td>\n",
       "      <td>NaN</td>\n",
       "      <td>False</td>\n",
       "      <td>...</td>\n",
       "      <td>2011-01-01</td>\n",
       "      <td>5206.0</td>\n",
       "      <td>93.0</td>\n",
       "      <td>[{'iso_639_1': 'en', 'name': 'English'}, {'iso...</td>\n",
       "      <td>Released</td>\n",
       "      <td>Do no harm.</td>\n",
       "      <td>The Good Doctor</td>\n",
       "      <td>False</td>\n",
       "      <td>5.0</td>\n",
       "      <td>52.0</td>\n",
       "    </tr>\n",
       "    <tr>\n",
       "      <th>4</th>\n",
       "      <td>Supernatural</td>\n",
       "      <td>(2005–2020)</td>\n",
       "      <td>\\nDrama, Fantasy, Horror</td>\n",
       "      <td>8.4</td>\n",
       "      <td>\\nTwo brothers follow their father's footsteps...</td>\n",
       "      <td>\\n            \\n    Stars:\\nJared Padalecki, \\...</td>\n",
       "      <td>404273.0</td>\n",
       "      <td>44.0</td>\n",
       "      <td>NaN</td>\n",
       "      <td>False</td>\n",
       "      <td>...</td>\n",
       "      <td>1933-05-12</td>\n",
       "      <td>0.0</td>\n",
       "      <td>65.0</td>\n",
       "      <td>[{'iso_639_1': 'en', 'name': 'English'}]</td>\n",
       "      <td>Released</td>\n",
       "      <td>NaN</td>\n",
       "      <td>Supernatural</td>\n",
       "      <td>False</td>\n",
       "      <td>4.3</td>\n",
       "      <td>4.0</td>\n",
       "    </tr>\n",
       "    <tr>\n",
       "      <th>5</th>\n",
       "      <td>Animal Kingdom</td>\n",
       "      <td>(2016– )</td>\n",
       "      <td>\\nCrime, Drama</td>\n",
       "      <td>8.2</td>\n",
       "      <td>\\nCenters on a Southern California family, who...</td>\n",
       "      <td>\\n            \\n    Stars:\\nShawn Hatosy, \\nBe...</td>\n",
       "      <td>26926.0</td>\n",
       "      <td>60.0</td>\n",
       "      <td>NaN</td>\n",
       "      <td>False</td>\n",
       "      <td>...</td>\n",
       "      <td>2010-06-03</td>\n",
       "      <td>1000000.0</td>\n",
       "      <td>113.0</td>\n",
       "      <td>[{'iso_639_1': 'en', 'name': 'English'}]</td>\n",
       "      <td>Released</td>\n",
       "      <td>A crime story.</td>\n",
       "      <td>Animal Kingdom</td>\n",
       "      <td>False</td>\n",
       "      <td>6.7</td>\n",
       "      <td>240.0</td>\n",
       "    </tr>\n",
       "    <tr>\n",
       "      <th>6</th>\n",
       "      <td>Outlander</td>\n",
       "      <td>(2014– )</td>\n",
       "      <td>\\nDrama, Fantasy, Romance</td>\n",
       "      <td>8.4</td>\n",
       "      <td>\\nAn English combat nurse from 1945 is mysteri...</td>\n",
       "      <td>\\n            \\n    Stars:\\nCaitriona Balfe, \\...</td>\n",
       "      <td>134991.0</td>\n",
       "      <td>64.0</td>\n",
       "      <td>NaN</td>\n",
       "      <td>False</td>\n",
       "      <td>...</td>\n",
       "      <td>2008-04-24</td>\n",
       "      <td>7033683.0</td>\n",
       "      <td>115.0</td>\n",
       "      <td>[{'iso_639_1': 'en', 'name': 'English'}]</td>\n",
       "      <td>Released</td>\n",
       "      <td>It destroyed his world. He won't let it destro...</td>\n",
       "      <td>Outlander</td>\n",
       "      <td>False</td>\n",
       "      <td>6.1</td>\n",
       "      <td>354.0</td>\n",
       "    </tr>\n",
       "    <tr>\n",
       "      <th>7</th>\n",
       "      <td>Fargo</td>\n",
       "      <td>(2014– )</td>\n",
       "      <td>\\nCrime, Drama, Thriller</td>\n",
       "      <td>8.9</td>\n",
       "      <td>\\nVarious chronicles of deception, intrigue an...</td>\n",
       "      <td>\\n            \\n    Stars:\\nBilly Bob Thornton...</td>\n",
       "      <td>341221.0</td>\n",
       "      <td>53.0</td>\n",
       "      <td>NaN</td>\n",
       "      <td>False</td>\n",
       "      <td>...</td>\n",
       "      <td>1996-04-05</td>\n",
       "      <td>60611975.0</td>\n",
       "      <td>98.0</td>\n",
       "      <td>[{'iso_639_1': 'en', 'name': 'English'}]</td>\n",
       "      <td>Released</td>\n",
       "      <td>A lot can happen in the middle of nowhere.</td>\n",
       "      <td>Fargo</td>\n",
       "      <td>False</td>\n",
       "      <td>7.7</td>\n",
       "      <td>2080.0</td>\n",
       "    </tr>\n",
       "    <tr>\n",
       "      <th>8</th>\n",
       "      <td>Jurassic Park</td>\n",
       "      <td>(1993)</td>\n",
       "      <td>\\nAction, Adventure, Sci-Fi</td>\n",
       "      <td>8.1</td>\n",
       "      <td>\\nA pragmatic paleontologist visiting an almos...</td>\n",
       "      <td>\\n    Director:\\nSteven Spielberg\\n| \\n    Sta...</td>\n",
       "      <td>897444.0</td>\n",
       "      <td>127.0</td>\n",
       "      <td>$402.45M</td>\n",
       "      <td>False</td>\n",
       "      <td>...</td>\n",
       "      <td>1993-06-11</td>\n",
       "      <td>920100000.0</td>\n",
       "      <td>127.0</td>\n",
       "      <td>[{'iso_639_1': 'en', 'name': 'English'}, {'iso...</td>\n",
       "      <td>Released</td>\n",
       "      <td>An adventure 65 million years in the making.</td>\n",
       "      <td>Jurassic Park</td>\n",
       "      <td>False</td>\n",
       "      <td>7.6</td>\n",
       "      <td>4956.0</td>\n",
       "    </tr>\n",
       "    <tr>\n",
       "      <th>9</th>\n",
       "      <td>Daredevil</td>\n",
       "      <td>(2015–2018)</td>\n",
       "      <td>\\nAction, Crime, Drama</td>\n",
       "      <td>8.6</td>\n",
       "      <td>\\nA blind lawyer by day, vigilante by night. M...</td>\n",
       "      <td>\\n            \\n    Stars:\\nCharlie Cox, \\nVin...</td>\n",
       "      <td>374963.0</td>\n",
       "      <td>54.0</td>\n",
       "      <td>NaN</td>\n",
       "      <td>False</td>\n",
       "      <td>...</td>\n",
       "      <td>2003-02-14</td>\n",
       "      <td>179179718.0</td>\n",
       "      <td>103.0</td>\n",
       "      <td>[{'iso_639_1': 'en', 'name': 'English'}, {'iso...</td>\n",
       "      <td>Released</td>\n",
       "      <td>A Guardian Devil</td>\n",
       "      <td>Daredevil</td>\n",
       "      <td>False</td>\n",
       "      <td>5.0</td>\n",
       "      <td>1551.0</td>\n",
       "    </tr>\n",
       "  </tbody>\n",
       "</table>\n",
       "<p>10 rows × 32 columns</p>\n",
       "</div>"
      ],
      "text/plain": [
       "             movies         year                                    genre  \\\n",
       "0  The Walking Dead  (2010–2022)    \\nDrama, Horror, Thriller               \n",
       "1  The Walking Dead  (2010–2022)    \\nDrama, Horror, Thriller               \n",
       "2           Lucifer  (2016–2021)      \\nCrime, Drama, Fantasy               \n",
       "3   The Good Doctor     (2017– )                      \\nDrama               \n",
       "4      Supernatural  (2005–2020)     \\nDrama, Fantasy, Horror               \n",
       "5    Animal Kingdom     (2016– )               \\nCrime, Drama               \n",
       "6         Outlander     (2014– )    \\nDrama, Fantasy, Romance               \n",
       "7             Fargo     (2014– )     \\nCrime, Drama, Thriller               \n",
       "8     Jurassic Park       (1993)  \\nAction, Adventure, Sci-Fi               \n",
       "9         Daredevil  (2015–2018)       \\nAction, Crime, Drama               \n",
       "\n",
       "   rating                                           one-line  \\\n",
       "0     8.2  \\nSheriff Deputy Rick Grimes wakes up from a c...   \n",
       "1     8.2  \\nSheriff Deputy Rick Grimes wakes up from a c...   \n",
       "2     8.1  \\nLucifer Morningstar has decided he's had eno...   \n",
       "3     8.1  \\nShaun Murphy, a young surgeon with autism an...   \n",
       "4     8.4  \\nTwo brothers follow their father's footsteps...   \n",
       "5     8.2  \\nCenters on a Southern California family, who...   \n",
       "6     8.4  \\nAn English combat nurse from 1945 is mysteri...   \n",
       "7     8.9  \\nVarious chronicles of deception, intrigue an...   \n",
       "8     8.1  \\nA pragmatic paleontologist visiting an almos...   \n",
       "9     8.6  \\nA blind lawyer by day, vigilante by night. M...   \n",
       "\n",
       "                                               stars     votes  runtime_x  \\\n",
       "0  \\n            \\n    Stars:\\nAndrew Lincoln, \\n...  885805.0       44.0   \n",
       "1  \\n            \\n    Stars:\\nAndrew Lincoln, \\n...  885805.0       44.0   \n",
       "2  \\n            \\n    Stars:\\nTom Ellis, \\nLesle...  264222.0       42.0   \n",
       "3  \\n            \\n    Stars:\\nFreddie Highmore, ...   70871.0       41.0   \n",
       "4  \\n            \\n    Stars:\\nJared Padalecki, \\...  404273.0       44.0   \n",
       "5  \\n            \\n    Stars:\\nShawn Hatosy, \\nBe...   26926.0       60.0   \n",
       "6  \\n            \\n    Stars:\\nCaitriona Balfe, \\...  134991.0       64.0   \n",
       "7  \\n            \\n    Stars:\\nBilly Bob Thornton...  341221.0       53.0   \n",
       "8  \\n    Director:\\nSteven Spielberg\\n| \\n    Sta...  897444.0      127.0   \n",
       "9  \\n            \\n    Stars:\\nCharlie Cox, \\nVin...  374963.0       54.0   \n",
       "\n",
       "      gross  adult  ... release_date      revenue runtime_y  \\\n",
       "0       NaN  False  ...   1995-02-24          0.0      88.0   \n",
       "1       NaN  False  ...   1936-03-14          0.0      66.0   \n",
       "2       NaN  False  ...   2014-10-22          0.0     108.0   \n",
       "3       NaN  False  ...   2011-01-01       5206.0      93.0   \n",
       "4       NaN  False  ...   1933-05-12          0.0      65.0   \n",
       "5       NaN  False  ...   2010-06-03    1000000.0     113.0   \n",
       "6       NaN  False  ...   2008-04-24    7033683.0     115.0   \n",
       "7       NaN  False  ...   1996-04-05   60611975.0      98.0   \n",
       "8  $402.45M  False  ...   1993-06-11  920100000.0     127.0   \n",
       "9       NaN  False  ...   2003-02-14  179179718.0     103.0   \n",
       "\n",
       "                                    spoken_languages    status  \\\n",
       "0           [{'iso_639_1': 'en', 'name': 'English'}]  Released   \n",
       "1           [{'iso_639_1': 'en', 'name': 'English'}]  Released   \n",
       "2           [{'iso_639_1': 'es', 'name': 'Español'}]  Released   \n",
       "3  [{'iso_639_1': 'en', 'name': 'English'}, {'iso...  Released   \n",
       "4           [{'iso_639_1': 'en', 'name': 'English'}]  Released   \n",
       "5           [{'iso_639_1': 'en', 'name': 'English'}]  Released   \n",
       "6           [{'iso_639_1': 'en', 'name': 'English'}]  Released   \n",
       "7           [{'iso_639_1': 'en', 'name': 'English'}]  Released   \n",
       "8  [{'iso_639_1': 'en', 'name': 'English'}, {'iso...  Released   \n",
       "9  [{'iso_639_1': 'en', 'name': 'English'}, {'iso...  Released   \n",
       "\n",
       "                                             tagline             title  video  \\\n",
       "0        Surviving the streets was just a rehearsal.  The Walking Dead  False   \n",
       "1  HE DIED a man with a hunger to love... and ret...  The Walking Dead  False   \n",
       "2                                                NaN           Lucifer  False   \n",
       "3                                        Do no harm.   The Good Doctor  False   \n",
       "4                                                NaN      Supernatural  False   \n",
       "5                                     A crime story.    Animal Kingdom  False   \n",
       "6  It destroyed his world. He won't let it destro...         Outlander  False   \n",
       "7         A lot can happen in the middle of nowhere.             Fargo  False   \n",
       "8       An adventure 65 million years in the making.     Jurassic Park  False   \n",
       "9                                   A Guardian Devil         Daredevil  False   \n",
       "\n",
       "  vote_average vote_count  \n",
       "0          6.6        4.0  \n",
       "1          6.6       14.0  \n",
       "2          5.8        4.0  \n",
       "3          5.0       52.0  \n",
       "4          4.3        4.0  \n",
       "5          6.7      240.0  \n",
       "6          6.1      354.0  \n",
       "7          7.7     2080.0  \n",
       "8          7.6     4956.0  \n",
       "9          5.0     1551.0  \n",
       "\n",
       "[10 rows x 32 columns]"
      ]
     },
     "execution_count": 46,
     "metadata": {},
     "output_type": "execute_result"
    }
   ],
   "source": [
    "inner_movies_df = df.merge(df_meta, how = \"inner\", on = \"movies\")\n",
    "inner_movies_df.head(10)"
   ]
  }
 ],
 "metadata": {
  "kernelspec": {
   "display_name": "Python 3 (ipykernel)",
   "language": "python",
   "name": "python3"
  },
  "language_info": {
   "codemirror_mode": {
    "name": "ipython",
    "version": 3
   },
   "file_extension": ".py",
   "mimetype": "text/x-python",
   "name": "python",
   "nbconvert_exporter": "python",
   "pygments_lexer": "ipython3",
   "version": "3.12.4"
  }
 },
 "nbformat": 4,
 "nbformat_minor": 5
}

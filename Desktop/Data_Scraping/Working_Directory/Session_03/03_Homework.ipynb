{
 "cells": [
  {
   "cell_type": "markdown",
   "id": "2abb51e6-e8ae-4cb3-a1b7-43706ea2d5f7",
   "metadata": {},
   "source": [
    "# 03 Homework\n",
    "© Copyright: 2024, Selma Hadzic, all rights reserved.\n",
    "\n",
    "#### Number of points: 15 (weights 15% in the final grade)\n",
    "\n",
    "\n",
    "1. Pull from the `ESMT_2024_DataScraping_Lectures` repository: you should get this `03_Homework` file\n",
    "2. Launch VS Code and open your working-folder\n",
    "3. Create a `Session_03` folder, in which you create another folder called `data`\n",
    "4. Copy paste the notebook `03_Homework` from the lectures repo to the working-folder. Copy the csv files `movies.csv` and `movies_metadata.csv` into the `working-folder/Session_03/data` directory.\n",
    "5. Do the exercises on 03_Homework in your working-folder\n",
    "6. Once you are finished, copy-Paste the notebook into `ESMT_2024_DataScraping_Students` folder in your computer\n",
    "8. Commit and push your homework in your branch before the deadline\n",
    "\n",
    "#### Deadline: October 21st 08:59 am CET\n",
    "\n",
    "#### Any missed deadline without justification to the Administration will result in 0 points for this homework.\n",
    "#### If the Github branch is not correctly named using the indicated format **LASTNAME_firstname**, then a penalty of -2 points will be applied"
   ]
  },
  {
   "cell_type": "markdown",
   "id": "2ea70485-ebf4-460f-9030-e08b673127a2",
   "metadata": {},
   "source": [
    "## 1. Exploration and data cleaning (6 points)"
   ]
  },
  {
   "cell_type": "markdown",
   "id": "b76c778b-c041-4c18-acc9-5186aef41c88",
   "metadata": {},
   "source": [
    "**1.1. Read the dataset `movies.csv` and visualise it**"
   ]
  },
  {
   "cell_type": "code",
   "execution_count": 8,
   "id": "1c158e75-df74-4241-9c7c-7b6cbaf27935",
   "metadata": {},
   "outputs": [
    {
     "name": "stdout",
     "output_type": "stream",
     "text": [
      "                                MOVIES         YEAR  \\\n",
      "0                        Blood Red Sky       (2021)   \n",
      "1  Masters of the Universe: Revelation     (2021– )   \n",
      "2                     The Walking Dead  (2010–2022)   \n",
      "3                       Rick and Morty     (2013– )   \n",
      "4                      Army of Thieves       (2021)   \n",
      "\n",
      "                                        GENRE  RATING  \\\n",
      "0      \\nAction, Horror, Thriller                 6.1   \n",
      "1  \\nAnimation, Action, Adventure                 5.0   \n",
      "2       \\nDrama, Horror, Thriller                 8.2   \n",
      "3  \\nAnimation, Adventure, Comedy                 9.2   \n",
      "4         \\nAction, Crime, Horror                 NaN   \n",
      "\n",
      "                                            ONE-LINE  \\\n",
      "0  \\nA woman with a mysterious illness is forced ...   \n",
      "1  \\nThe war for Eternia begins again in what may...   \n",
      "2  \\nSheriff Deputy Rick Grimes wakes up from a c...   \n",
      "3  \\nAn animated series that follows the exploits...   \n",
      "4  \\nA prequel, set before the events of Army of ...   \n",
      "\n",
      "                                               STARS    VOTES  RunTime Gross  \n",
      "0  \\n    Director:\\nPeter Thorwarth\\n| \\n    Star...   21,062    121.0   NaN  \n",
      "1  \\n            \\n    Stars:\\nChris Wood, \\nSara...   17,870     25.0   NaN  \n",
      "2  \\n            \\n    Stars:\\nAndrew Lincoln, \\n...  885,805     44.0   NaN  \n",
      "3  \\n            \\n    Stars:\\nJustin Roiland, \\n...  414,849     23.0   NaN  \n",
      "4  \\n    Director:\\nMatthias Schweighöfer\\n| \\n  ...      NaN      NaN   NaN  \n",
      "<class 'pandas.core.frame.DataFrame'>\n",
      "RangeIndex: 9999 entries, 0 to 9998\n",
      "Data columns (total 9 columns):\n",
      " #   Column    Non-Null Count  Dtype  \n",
      "---  ------    --------------  -----  \n",
      " 0   MOVIES    9999 non-null   object \n",
      " 1   YEAR      9355 non-null   object \n",
      " 2   GENRE     9919 non-null   object \n",
      " 3   RATING    8179 non-null   float64\n",
      " 4   ONE-LINE  9999 non-null   object \n",
      " 5   STARS     9999 non-null   object \n",
      " 6   VOTES     8179 non-null   object \n",
      " 7   RunTime   7041 non-null   float64\n",
      " 8   Gross     460 non-null    object \n",
      "dtypes: float64(2), object(7)\n",
      "memory usage: 703.2+ KB\n",
      "None\n"
     ]
    }
   ],
   "source": [
    "movies_df = pd.read_csv('data/movies.csv')\n",
    "\n",
    "print(movies_df.head())\n",
    "print(movies_df.info()) "
   ]
  },
  {
   "cell_type": "markdown",
   "id": "c7357647-fad3-483f-bdf8-d72c7c0d0ed5",
   "metadata": {},
   "source": [
    "**1.2 Display the size and the number of missing data points per column of the DataFrame**"
   ]
  },
  {
   "cell_type": "code",
   "execution_count": 9,
   "id": "4675b85b-5d7e-4bcb-a8b1-da8e59d050ab",
   "metadata": {},
   "outputs": [
    {
     "name": "stdout",
     "output_type": "stream",
     "text": [
      "Dataset size: (9999, 9)\n",
      "MOVIES         0\n",
      "YEAR         644\n",
      "GENRE         80\n",
      "RATING      1820\n",
      "ONE-LINE       0\n",
      "STARS          0\n",
      "VOTES       1820\n",
      "RunTime     2958\n",
      "Gross       9539\n",
      "dtype: int64\n"
     ]
    }
   ],
   "source": [
    "print(f\"Dataset size: {movies_df.shape}\")\n",
    "\n",
    "missing_data = movies_df.isnull().sum()\n",
    "print(missing_data)"
   ]
  },
  {
   "cell_type": "markdown",
   "id": "e2990509-31bf-45f1-bda1-f1c6116fe765",
   "metadata": {},
   "source": [
    "**1.3 Fill the NaN and replace the original dataset**\n",
    "- YEAR: 'Unknown'\n",
    "- GENRE: 'Unknown'\n",
    "- RATING: with the median value\n",
    "- VOTES: 0\n",
    "\n",
    "We leave the NaN of RunTime and Gross for now, as there is no straightforward way to fill them."
   ]
  },
  {
   "cell_type": "code",
   "execution_count": 12,
   "id": "f0b8410d-5477-4ba7-8c83-1d9f241d2695",
   "metadata": {},
   "outputs": [],
   "source": [
    "movies_df = movies_df.copy()\n",
    "\n",
    "movies_df['YEAR'] = movies_df['YEAR'].fillna('Unknown')\n",
    "\n",
    "movies_df['GENRE'] = movies_df['GENRE'].fillna('Unknown')\n",
    "\n",
    "movies_df['RATING'] = movies_df['RATING'].fillna(movies_df['RATING'].median())\n",
    "\n",
    "movies_df['VOTES'] = movies_df['VOTES'].fillna('0')"
   ]
  },
  {
   "cell_type": "code",
   "execution_count": 13,
   "id": "2f25ffa6-f640-4647-ae1b-5825d722e1f0",
   "metadata": {
    "scrolled": true
   },
   "outputs": [
    {
     "name": "stdout",
     "output_type": "stream",
     "text": [
      "MOVIES         0\n",
      "YEAR           0\n",
      "GENRE          0\n",
      "RATING         0\n",
      "ONE-LINE       0\n",
      "STARS          0\n",
      "VOTES          0\n",
      "RunTime     2958\n",
      "Gross       9539\n",
      "dtype: int64\n",
      "                                MOVIES         YEAR  \\\n",
      "0                        Blood Red Sky       (2021)   \n",
      "1  Masters of the Universe: Revelation     (2021– )   \n",
      "2                     The Walking Dead  (2010–2022)   \n",
      "3                       Rick and Morty     (2013– )   \n",
      "4                      Army of Thieves       (2021)   \n",
      "\n",
      "                                        GENRE  RATING  \\\n",
      "0      \\nAction, Horror, Thriller                 6.1   \n",
      "1  \\nAnimation, Action, Adventure                 5.0   \n",
      "2       \\nDrama, Horror, Thriller                 8.2   \n",
      "3  \\nAnimation, Adventure, Comedy                 9.2   \n",
      "4         \\nAction, Crime, Horror                 7.1   \n",
      "\n",
      "                                            ONE-LINE  \\\n",
      "0  \\nA woman with a mysterious illness is forced ...   \n",
      "1  \\nThe war for Eternia begins again in what may...   \n",
      "2  \\nSheriff Deputy Rick Grimes wakes up from a c...   \n",
      "3  \\nAn animated series that follows the exploits...   \n",
      "4  \\nA prequel, set before the events of Army of ...   \n",
      "\n",
      "                                               STARS    VOTES  RunTime Gross  \n",
      "0  \\n    Director:\\nPeter Thorwarth\\n| \\n    Star...   21,062    121.0   NaN  \n",
      "1  \\n            \\n    Stars:\\nChris Wood, \\nSara...   17,870     25.0   NaN  \n",
      "2  \\n            \\n    Stars:\\nAndrew Lincoln, \\n...  885,805     44.0   NaN  \n",
      "3  \\n            \\n    Stars:\\nJustin Roiland, \\n...  414,849     23.0   NaN  \n",
      "4  \\n    Director:\\nMatthias Schweighöfer\\n| \\n  ...        0      NaN   NaN  \n"
     ]
    }
   ],
   "source": [
    "\n",
    "print(movies_df.isnull().sum())\n",
    "\n",
    "\n",
    "print(movies_df.head())"
   ]
  },
  {
   "cell_type": "markdown",
   "id": "eff0a902-87b7-4c8d-8503-06b32ff01638",
   "metadata": {},
   "source": [
    "**1.4 Drop the duplicated rows**"
   ]
  },
  {
   "cell_type": "code",
   "execution_count": 14,
   "id": "5bcfa8ef-101f-463a-b2a9-cbd65fba9e43",
   "metadata": {},
   "outputs": [
    {
     "name": "stdout",
     "output_type": "stream",
     "text": [
      "(9568, 9)\n"
     ]
    }
   ],
   "source": [
    "movies_df = movies_df.drop_duplicates()\n",
    "print(movies_df.shape)"
   ]
  },
  {
   "cell_type": "markdown",
   "id": "57744aba-ddb9-4738-a937-e0c64829b038",
   "metadata": {},
   "source": [
    "**1.5 Replace the columns names to make them all lowercase**"
   ]
  },
  {
   "cell_type": "code",
   "execution_count": 17,
   "id": "ce4fb9c5-6d6d-4b10-a5c5-597a7e3213c9",
   "metadata": {},
   "outputs": [
    {
     "name": "stdout",
     "output_type": "stream",
     "text": [
      "Index(['movies', 'year', 'genre', 'rating', 'one-line', 'stars', 'votes',\n",
      "       'runtime', 'gross'],\n",
      "      dtype='object')\n"
     ]
    }
   ],
   "source": [
    "movies_df.columns = movies_df.columns.str.lower()\n",
    "print(movies_df.columns)"
   ]
  },
  {
   "cell_type": "markdown",
   "id": "2f4750a5-964b-4ad7-beb5-74935b5841e4",
   "metadata": {},
   "source": [
    "**1.6 Convert the `votes` column into a `float type`**\n",
    "\n",
    "*Hint: the U.K. and U.S. use a comma to separate groups of thousands. You might need to remove this comma first before converting the numbers*"
   ]
  },
  {
   "cell_type": "code",
   "execution_count": 18,
   "id": "beabfbe6-7e57-494b-a853-274b9c191187",
   "metadata": {},
   "outputs": [
    {
     "name": "stdout",
     "output_type": "stream",
     "text": [
      "float64\n"
     ]
    }
   ],
   "source": [
    "movies_df['votes'] = movies_df['votes'].str.replace(',', '').astype(float)\n",
    "print(movies_df['votes'].dtype)"
   ]
  },
  {
   "cell_type": "markdown",
   "id": "e581e6d2-7046-4db5-9300-73072f0e3c6d",
   "metadata": {},
   "source": [
    "## 2. Descriptive statistics (5 points)"
   ]
  },
  {
   "cell_type": "markdown",
   "id": "793e3799-dcb8-4b69-a18a-438a6c9bce64",
   "metadata": {},
   "source": [
    "**2.1 What is the average rating?**"
   ]
  },
  {
   "cell_type": "code",
   "execution_count": 19,
   "id": "12f35963-d581-4673-873c-718e2a3d49e4",
   "metadata": {},
   "outputs": [
    {
     "name": "stdout",
     "output_type": "stream",
     "text": [
      "The average rating is: 6.94608068561873\n"
     ]
    }
   ],
   "source": [
    "average_rating = movies_df['rating'].mean()\n",
    "print(f\"The average rating is: {average_rating}\")"
   ]
  },
  {
   "cell_type": "markdown",
   "id": "264e2420-45b8-4b9e-a289-8a8496f83bf0",
   "metadata": {},
   "source": [
    "**2.2 What is the maximum runtime?**"
   ]
  },
  {
   "cell_type": "code",
   "execution_count": 20,
   "id": "659af824-504c-4ed4-863d-bac28f76d210",
   "metadata": {},
   "outputs": [
    {
     "name": "stdout",
     "output_type": "stream",
     "text": [
      "The maximum runtime is: 853.0\n"
     ]
    }
   ],
   "source": [
    "max_runtime = movies_df['runtime'].max()\n",
    "print(f\"The maximum runtime is: {max_runtime}\")"
   ]
  },
  {
   "cell_type": "markdown",
   "id": "48a0f4b9-7999-4455-a253-ea660288db77",
   "metadata": {},
   "source": [
    "**2.3 Filter the dataset to show which movie/serie has the longest runtime**"
   ]
  },
  {
   "cell_type": "code",
   "execution_count": 21,
   "id": "30493be7-1eea-4675-9bc8-38d8c5d9acf8",
   "metadata": {},
   "outputs": [
    {
     "name": "stdout",
     "output_type": "stream",
     "text": [
      "                        movies         year  \\\n",
      "1902  El tiempo entre costuras  (2013–2014)   \n",
      "\n",
      "                                        genre  rating  \\\n",
      "1902  \\nAdventure, Drama, History                 8.3   \n",
      "\n",
      "                                               one-line  \\\n",
      "1902  \\nSira Quiroga is a young Spanish dressmaker e...   \n",
      "\n",
      "                                                  stars   votes  runtime gross  \n",
      "1902  \\n            \\n    Stars:\\nAdriana Ugarte, \\n...  3876.0    853.0   NaN  \n"
     ]
    }
   ],
   "source": [
    "longest_runtime_movie = movies_df[movies_df['runtime'] == max_runtime]\n",
    "print(longest_runtime_movie)"
   ]
  },
  {
   "cell_type": "markdown",
   "id": "37a367eb-d842-45a7-a48e-af0d7fcb77f0",
   "metadata": {},
   "source": [
    "**2.4 Plot the histogram of runtimes, filtering on (0, 200) range with 200 bins**"
   ]
  },
  {
   "cell_type": "code",
   "execution_count": 23,
   "id": "b18e1799-6cc0-49ad-8e7e-e4c7e1e9efae",
   "metadata": {},
   "outputs": [
    {
     "data": {
      "image/png": "[encoded data removed]",
      "text/plain": [
       "<Figure size 640x480 with 1 Axes>"
      ]
     },
     "metadata": {},
     "output_type": "display_data"
    }
   ],
   "source": [
    "import matplotlib.pyplot as plt\n",
    "\n",
    "\n",
    "filtered_runtimes = movies_df[movies_df['runtime'].between(0, 200)]\n",
    "\n",
    "\n",
    "plt.hist(filtered_runtimes['runtime'], bins=200)\n",
    "plt.title('Runtime Distribution (0-200)')\n",
    "plt.xlabel('Runtime (minutes)')\n",
    "plt.ylabel('Frequency')\n",
    "plt.show()"
   ]
  },
  {
   "cell_type": "markdown",
   "id": "29d75e94-ce19-454b-9365-0ac37e468765",
   "metadata": {},
   "source": [
    "**2.5 What is the number of votes a movie needs to have, to be in the top 10% most voted film?**\n",
    "\n",
    "*Tip: the 90th quantile*"
   ]
  },
  {
   "cell_type": "code",
   "execution_count": 24,
   "id": "5e49a5b6-9aa6-402a-b6e9-4941a56c7cd7",
   "metadata": {},
   "outputs": [
    {
     "name": "stdout",
     "output_type": "stream",
     "text": [
      "A movie needs at least 16266.200000000015 votes to be in the top 10% most voted films.\n"
     ]
    }
   ],
   "source": [
    "top_10_percent_votes = movies_df['votes'].quantile(0.90)\n",
    "print(f\"A movie needs at least {top_10_percent_votes} votes to be in the top 10% most voted films.\")"
   ]
  },
  {
   "cell_type": "markdown",
   "id": "2ff85744-7efb-4723-a145-f933af5d1232",
   "metadata": {},
   "source": [
    "## 3. Merging datasets (4 points)"
   ]
  },
  {
   "cell_type": "markdown",
   "id": "4af297a4-e487-490e-819c-0437d256a7ef",
   "metadata": {},
   "source": [
    "**Read `movies_metadata.csv` and assign it to a `df_meta` variable**\n",
    "\n",
    "**Create a `merge_df` DataFrame from an `inner join` between `df` and `df_meta`**\n",
    "\n",
    "*Hint: you need to find the right key to join on*"
   ]
  },
  {
   "cell_type": "code",
   "execution_count": 25,
   "id": "ca68a335-9f5c-42dc-b577-9ca7bf905dba",
   "metadata": {},
   "outputs": [
    {
     "name": "stdout",
     "output_type": "stream",
     "text": [
      "   adult                              belongs_to_collection    budget  \\\n",
      "0  False  {'id': 10194, 'name': 'Toy Story Collection', ...  30000000   \n",
      "1  False                                                NaN  65000000   \n",
      "2  False  {'id': 119050, 'name': 'Grumpy Old Men Collect...         0   \n",
      "3  False                                                NaN  16000000   \n",
      "4  False  {'id': 96871, 'name': 'Father of the Bride Col...         0   \n",
      "\n",
      "                                              genres  \\\n",
      "0  [{'id': 16, 'name': 'Animation'}, {'id': 35, '...   \n",
      "1  [{'id': 12, 'name': 'Adventure'}, {'id': 14, '...   \n",
      "2  [{'id': 10749, 'name': 'Romance'}, {'id': 35, ...   \n",
      "3  [{'id': 35, 'name': 'Comedy'}, {'id': 18, 'nam...   \n",
      "4                     [{'id': 35, 'name': 'Comedy'}]   \n",
      "\n",
      "                               homepage     id    imdb_id original_language  \\\n",
      "0  http://toystory.disney.com/toy-story    862  tt0114709                en   \n",
      "1                                   NaN   8844  tt0113497                en   \n",
      "2                                   NaN  15602  tt0113228                en   \n",
      "3                                   NaN  31357  tt0114885                en   \n",
      "4                                   NaN  11862  tt0113041                en   \n",
      "\n",
      "                original_title  \\\n",
      "0                    Toy Story   \n",
      "1                      Jumanji   \n",
      "2             Grumpier Old Men   \n",
      "3            Waiting to Exhale   \n",
      "4  Father of the Bride Part II   \n",
      "\n",
      "                                            overview  ... release_date  \\\n",
      "0  Led by Woody, Andy's toys live happily in his ...  ...   1995-10-30   \n",
      "1  When siblings Judy and Peter discover an encha...  ...   1995-12-15   \n",
      "2  A family wedding reignites the ancient feud be...  ...   1995-12-22   \n",
      "3  Cheated on, mistreated and stepped on, the wom...  ...   1995-12-22   \n",
      "4  Just when George Banks has recovered from his ...  ...   1995-02-10   \n",
      "\n",
      "       revenue runtime                                   spoken_languages  \\\n",
      "0  373554033.0    81.0           [{'iso_639_1': 'en', 'name': 'English'}]   \n",
      "1  262797249.0   104.0  [{'iso_639_1': 'en', 'name': 'English'}, {'iso...   \n",
      "2          0.0   101.0           [{'iso_639_1': 'en', 'name': 'English'}]   \n",
      "3   81452156.0   127.0           [{'iso_639_1': 'en', 'name': 'English'}]   \n",
      "4   76578911.0   106.0           [{'iso_639_1': 'en', 'name': 'English'}]   \n",
      "\n",
      "     status                                            tagline  \\\n",
      "0  Released                                                NaN   \n",
      "1  Released          Roll the dice and unleash the excitement!   \n",
      "2  Released  Still Yelling. Still Fighting. Still Ready for...   \n",
      "3  Released  Friends are the people who let you be yourself...   \n",
      "4  Released  Just When His World Is Back To Normal... He's ...   \n",
      "\n",
      "                         title  video vote_average vote_count  \n",
      "0                    Toy Story  False          7.7     5415.0  \n",
      "1                      Jumanji  False          6.9     2413.0  \n",
      "2             Grumpier Old Men  False          6.5       92.0  \n",
      "3            Waiting to Exhale  False          6.1       34.0  \n",
      "4  Father of the Bride Part II  False          5.7      173.0  \n",
      "\n",
      "[5 rows x 24 columns]\n"
     ]
    },
    {
     "name": "stderr",
     "output_type": "stream",
     "text": [
      "/var/folders/k1/kpcfrnw11qzgdpmzw0nlpfqm0000gn/T/ipykernel_70176/1599413901.py:1: DtypeWarning: Columns (10) have mixed types. Specify dtype option on import or set low_memory=False.\n",
      "  df_meta = pd.read_csv('data/movies_metadata.csv')\n"
     ]
    }
   ],
   "source": [
    "df_meta = pd.read_csv('data/movies_metadata.csv')\n",
    "print(df_meta.head())"
   ]
  },
  {
   "cell_type": "code",
   "execution_count": 26,
   "id": "052e3ae0-9fe9-4f4a-b5ea-c6375897a13c",
   "metadata": {},
   "outputs": [
    {
     "name": "stdout",
     "output_type": "stream",
     "text": [
      "             movies         year                                  genre  \\\n",
      "0  The Walking Dead  (2010–2022)  \\nDrama, Horror, Thriller               \n",
      "1  The Walking Dead  (2010–2022)  \\nDrama, Horror, Thriller               \n",
      "2           Lucifer  (2016–2021)    \\nCrime, Drama, Fantasy               \n",
      "3   The Good Doctor     (2017– )                    \\nDrama               \n",
      "4      Supernatural  (2005–2020)   \\nDrama, Fantasy, Horror               \n",
      "\n",
      "   rating                                           one-line  \\\n",
      "0     8.2  \\nSheriff Deputy Rick Grimes wakes up from a c...   \n",
      "1     8.2  \\nSheriff Deputy Rick Grimes wakes up from a c...   \n",
      "2     8.1  \\nLucifer Morningstar has decided he's had eno...   \n",
      "3     8.1  \\nShaun Murphy, a young surgeon with autism an...   \n",
      "4     8.4  \\nTwo brothers follow their father's footsteps...   \n",
      "\n",
      "                                               stars     votes  runtime_x  \\\n",
      "0  \\n            \\n    Stars:\\nAndrew Lincoln, \\n...  885805.0       44.0   \n",
      "1  \\n            \\n    Stars:\\nAndrew Lincoln, \\n...  885805.0       44.0   \n",
      "2  \\n            \\n    Stars:\\nTom Ellis, \\nLesle...  264222.0       42.0   \n",
      "3  \\n            \\n    Stars:\\nFreddie Highmore, ...   70871.0       41.0   \n",
      "4  \\n            \\n    Stars:\\nJared Padalecki, \\...  404273.0       44.0   \n",
      "\n",
      "  gross  adult  ... release_date revenue runtime_y  \\\n",
      "0   NaN  False  ...   1995-02-24     0.0      88.0   \n",
      "1   NaN  False  ...   1936-03-14     0.0      66.0   \n",
      "2   NaN  False  ...   2014-10-22     0.0     108.0   \n",
      "3   NaN  False  ...   2011-01-01  5206.0      93.0   \n",
      "4   NaN  False  ...   1933-05-12     0.0      65.0   \n",
      "\n",
      "                                    spoken_languages    status  \\\n",
      "0           [{'iso_639_1': 'en', 'name': 'English'}]  Released   \n",
      "1           [{'iso_639_1': 'en', 'name': 'English'}]  Released   \n",
      "2           [{'iso_639_1': 'es', 'name': 'Español'}]  Released   \n",
      "3  [{'iso_639_1': 'en', 'name': 'English'}, {'iso...  Released   \n",
      "4           [{'iso_639_1': 'en', 'name': 'English'}]  Released   \n",
      "\n",
      "                                             tagline             title  video  \\\n",
      "0        Surviving the streets was just a rehearsal.  The Walking Dead  False   \n",
      "1  HE DIED a man with a hunger to love... and ret...  The Walking Dead  False   \n",
      "2                                                NaN           Lucifer  False   \n",
      "3                                        Do no harm.   The Good Doctor  False   \n",
      "4                                                NaN      Supernatural  False   \n",
      "\n",
      "  vote_average vote_count  \n",
      "0          6.6        4.0  \n",
      "1          6.6       14.0  \n",
      "2          5.8        4.0  \n",
      "3          5.0       52.0  \n",
      "4          4.3        4.0  \n",
      "\n",
      "[5 rows x 33 columns]\n"
     ]
    }
   ],
   "source": [
    "merge_df = pd.merge(movies_df, df_meta, left_on='movies', right_on='title', how='inner')\n",
    "\n",
    "print(merge_df.head())"
   ]
  }
 ],
 "metadata": {
  "kernelspec": {
   "display_name": "Python 3 (ipykernel)",
   "language": "python",
   "name": "python3"
  },
  "language_info": {
   "codemirror_mode": {
    "name": "ipython",
    "version": 3
   },
   "file_extension": ".py",
   "mimetype": "text/x-python",
   "name": "python",
   "nbconvert_exporter": "python",
   "pygments_lexer": "ipython3",
   "version": "3.12.7"
  }
 },
 "nbformat": 4,
 "nbformat_minor": 5
}

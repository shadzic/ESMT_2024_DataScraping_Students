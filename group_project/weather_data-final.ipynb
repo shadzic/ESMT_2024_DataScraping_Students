{
 "cells": [
  {
   "cell_type": "markdown",
   "id": "7617b4b9",
   "metadata": {},
   "source": [
    "Get the APIs"
   ]
  },
  {
   "cell_type": "code",
   "execution_count": 3,
   "id": "7aa8a972",
   "metadata": {},
   "outputs": [],
   "source": [
    "import requests"
   ]
  },
  {
   "cell_type": "code",
   "execution_count": 5,
   "id": "ec61497e-301e-48bb-b005-65a802bf99dd",
   "metadata": {},
   "outputs": [],
   "source": [
    "import pandas as pd"
   ]
  },
  {
   "cell_type": "markdown",
   "id": "b14190e2",
   "metadata": {},
   "source": [
    "Weather API"
   ]
  },
  {
   "cell_type": "code",
   "execution_count": 23,
   "id": "abd4bcb3-3314-4640-9b51-d3051a0d85c5",
   "metadata": {},
   "outputs": [
    {
     "name": "stdout",
     "output_type": "stream",
     "text": [
      "[{'name': 'Berlin', 'local_names': {'ko': '베를린', 'mi': 'Pearīni', 'ar': 'برلين', 'cu': 'Берлинъ', 'mt': 'Berlin', 'mg': 'Berlin', 'ab': 'Берлин', 'ba': 'Берлин', 'ia': 'Berlin', 'ja': 'ベルリン', 'my': 'ဘာလင်မြို့', 'tl': 'Berlin', 'sr': 'Берлин', 'ty': 'Berlin', 'es': 'Berlín', 'kw': 'Berlin', 'ps': 'برلين', 'th': 'เบอร์ลิน', 'pt': 'Berlim', 'ku': 'Berlîn', 'bs': 'Berlin', 'bg': 'Берлин', 'gl': 'Berlín', 'na': 'Berlin', 'hr': 'Berlin', 'cy': 'Berlin', 'hu': 'Berlin', 'gv': 'Berleen', 'nl': 'Berlijn', 'br': 'Berlin', 'fy': 'Berlyn', 'id': 'Berlin', 'lt': 'Berlynas', 'zh': '柏林', 'kn': 'ಬೆರ್ಲಿನ್', 'hi': 'बर्लिन', 'so': 'Berlin', 'fa': 'برلین', 'fo': 'Berlin', 'uz': 'Berlin', 'eo': 'Berlino', 'uk': 'Берлін', 'nn': 'Berlin', 'ro': 'Berlin', 'sk': 'Berlín', 'os': 'Берлин', 'et': 'Berliin', 'sw': 'Berlin', 'sh': 'Berlin', 'ug': 'Bérlin', 'ur': 'برلن', 'ln': 'Berlin', 'da': 'Berlin', 'ga': 'Beirlín', 'te': 'బెర్లిన్', 'iu': 'ᐱᕐᓖᓐ', 'tg': 'Берлин', 'ru': 'Берлин', 'si': 'බර්ලිනය', 'mn': 'Берлин', 'pl': 'Berlin', 'en': 'Berlin', 'be': 'Берлін', 'co': 'Berlinu', 'af': 'Berlyn', 'am': 'በርሊን', 'jv': 'Berlin', 'oc': 'Berlin', 'io': 'Berlin', 'ht': 'Bèlen', 'an': 'Berlín', 'lb': 'Berlin', 'sv': 'Berlin', 'tt': 'Берлин', 'rm': 'Berlin', 'it': 'Berlino', 'ie': 'Berlin', 'is': 'Berlín', 'li': 'Berlien', 'ka': 'ბერლინი', 'gn': 'Berlin', 'no': 'Berlin', 'su': 'Berliini', 'cs': 'Berlín', 'lg': 'Berlin', 'kv': 'Берлин', 'fr': 'Berlin', 'bn': 'বার্লিন', 'hy': 'Բեռլին', 'la': 'Berolinum', 'bo': 'པེ་ལིང་', 'qu': 'Berlin', 'wo': 'Berlin', 'el': 'Βερολίνο', 'de': 'Berlin', 'sc': 'Berlinu', 'gd': 'Berlin', 'mr': 'बर्लिन', 'yo': 'Berlin', 'fi': 'Berliini', 'he': 'ברלין', 'bi': 'Berlin', 'sl': 'Berlin', 'sq': 'Berlini', 'mk': 'Берлин', 'kk': 'Берлин', 'ms': 'Berlin', 'ml': 'ബെര്\\u200dലിന്', 'cv': 'Берлин', 'ta': 'பெர்லின்', 'ky': 'Берлин', 'ca': 'Berlín', 'tr': 'Berlin', 'az': 'Berlin', 'lv': 'Berlīne', 'vi': 'Berlin', 'yi': 'בערלין', 'zu': 'Berlin', 'se': 'Berlin', 'eu': 'Berlin'}, 'lat': 52.5170365, 'lon': 13.3888599, 'country': 'DE'}, {'name': 'Berlin', 'lat': 44.4688795, 'lon': -71.1836547, 'country': 'US', 'state': 'New Hampshire'}, {'name': 'Berlin', 'lat': 39.7589387, 'lon': -89.9031635, 'country': 'US', 'state': 'Illinois'}, {'name': 'Berlin', 'lat': 41.621488, 'lon': -72.7456519, 'country': 'US', 'state': 'Connecticut'}, {'name': 'Berlin', 'lat': 38.3226154, 'lon': -75.2176892, 'country': 'US', 'state': 'Maryland'}]\n"
     ]
    }
   ],
   "source": [
    "#Location of Berlin\n",
    "L = requests.get(\"http://api.openweathermap.org/geo/1.0/direct?q=Berlin&limit=5&appid=b658d4211c02ef5cc3ab87ad1c933843\")\n",
    "w= L.json()\n",
    "print(w)"
   ]
  },
  {
   "cell_type": "code",
   "execution_count": 15,
   "id": "cff98af0",
   "metadata": {},
   "outputs": [
    {
     "name": "stdout",
     "output_type": "stream",
     "text": [
      "{'coord': {'lon': 13.3889, 'lat': 52.517}, 'weather': [{'id': 801, 'main': 'Clouds', 'description': 'few clouds', 'icon': '02d'}], 'base': 'stations', 'main': {'temp': 16.61, 'feels_like': 16.52, 'temp_min': 15.55, 'temp_max': 17.23, 'pressure': 1024, 'humidity': 84, 'sea_level': 1024, 'grnd_level': 1019}, 'visibility': 10000, 'wind': {'speed': 4.02, 'deg': 192, 'gust': 6.26}, 'clouds': {'all': 20}, 'dt': 1729502394, 'sys': {'type': 2, 'id': 2009543, 'country': 'DE', 'sunrise': 1729489377, 'sunset': 1729526327}, 'timezone': 7200, 'id': 7576815, 'name': 'Alt-Kölln', 'cod': 200}\n"
     ]
    }
   ],
   "source": [
    "#Berlin Current Weather\n",
    "response = requests.get(\"https://api.openweathermap.org/data/2.5/weather?lat=52.5170365&lon=13.3888599&exclude=hourly&units=metric&appid=b658d4211c02ef5cc3ab87ad1c933843\")\n",
    "Q = response.json()\n",
    "print(Q)\n"
   ]
  },
  {
   "cell_type": "code",
   "execution_count": 25,
   "id": "fa723029-024e-472d-b4a0-cb025d192ca0",
   "metadata": {},
   "outputs": [
    {
     "data": {
      "text/html": [
       "<div>\n",
       "<style scoped>\n",
       "    .dataframe tbody tr th:only-of-type {\n",
       "        vertical-align: middle;\n",
       "    }\n",
       "\n",
       "    .dataframe tbody tr th {\n",
       "        vertical-align: top;\n",
       "    }\n",
       "\n",
       "    .dataframe thead th {\n",
       "        text-align: right;\n",
       "    }\n",
       "</style>\n",
       "<table border=\"1\" class=\"dataframe\">\n",
       "  <thead>\n",
       "    <tr style=\"text-align: right;\">\n",
       "      <th></th>\n",
       "      <th>coord</th>\n",
       "      <th>temp</th>\n",
       "      <th>feels_like</th>\n",
       "      <th>temp_min</th>\n",
       "      <th>temp_max</th>\n",
       "      <th>description</th>\n",
       "    </tr>\n",
       "  </thead>\n",
       "  <tbody>\n",
       "    <tr>\n",
       "      <th>0</th>\n",
       "      <td>{'lon': 13.3889, 'lat': 52.517}</td>\n",
       "      <td>16.61</td>\n",
       "      <td>16.52</td>\n",
       "      <td>15.55</td>\n",
       "      <td>17.23</td>\n",
       "      <td>few clouds</td>\n",
       "    </tr>\n",
       "  </tbody>\n",
       "</table>\n",
       "</div>"
      ],
      "text/plain": [
       "                             coord   temp  feels_like  temp_min  temp_max  \\\n",
       "0  {'lon': 13.3889, 'lat': 52.517}  16.61       16.52     15.55     17.23   \n",
       "\n",
       "  description  \n",
       "0  few clouds  "
      ]
     },
     "execution_count": 25,
     "metadata": {},
     "output_type": "execute_result"
    }
   ],
   "source": [
    "import pandas as pd\n",
    "berlin_weather_current = pd.DataFrame([Q])\n",
    "\n",
    "berlin_weather_current_main = berlin_weather_current['main'].apply(pd.Series)\n",
    "\n",
    "# You can also expand other nested fields similarly\n",
    "berlin_weather_current_weather = berlin_weather_current['weather'].apply(lambda x: x[0]).apply(pd.Series)\n",
    "\n",
    "# Concatenate the expanded DataFrames with the main DataFrame (dropping the original nested columns)\n",
    "berlin_weather_current_final = pd.concat([berlin_weather_current, berlin_weather_current_main, berlin_weather_current_weather], axis=1).drop(['main', 'weather','base','wind','clouds','dt','sys','timezone','id','pressure','humidity','sea_level','grnd_level','icon','visibility','name','cod'], axis=1)\n",
    "\n",
    "# Now df_final contains all the relevant data\n",
    "berlin_weather_current_final.head()"
   ]
  },
  {
   "cell_type": "code",
   "execution_count": 35,
   "id": "329ed7d3-842a-4252-b7ae-715c9337dfb0",
   "metadata": {},
   "outputs": [
    {
     "data": {
      "text/html": [
       "<div>\n",
       "<style scoped>\n",
       "    .dataframe tbody tr th:only-of-type {\n",
       "        vertical-align: middle;\n",
       "    }\n",
       "\n",
       "    .dataframe tbody tr th {\n",
       "        vertical-align: top;\n",
       "    }\n",
       "\n",
       "    .dataframe thead th {\n",
       "        text-align: right;\n",
       "    }\n",
       "</style>\n",
       "<table border=\"1\" class=\"dataframe\">\n",
       "  <thead>\n",
       "    <tr style=\"text-align: right;\">\n",
       "      <th></th>\n",
       "      <th>dt_txt</th>\n",
       "      <th>temp</th>\n",
       "      <th>feels_like</th>\n",
       "      <th>temp_min</th>\n",
       "      <th>temp_max</th>\n",
       "      <th>description</th>\n",
       "    </tr>\n",
       "  </thead>\n",
       "  <tbody>\n",
       "    <tr>\n",
       "      <th>0</th>\n",
       "      <td>2024-10-21 12:00:00</td>\n",
       "      <td>16.77</td>\n",
       "      <td>16.67</td>\n",
       "      <td>16.60</td>\n",
       "      <td>16.77</td>\n",
       "      <td>scattered clouds</td>\n",
       "    </tr>\n",
       "    <tr>\n",
       "      <th>1</th>\n",
       "      <td>2024-10-21 15:00:00</td>\n",
       "      <td>17.01</td>\n",
       "      <td>16.91</td>\n",
       "      <td>17.01</td>\n",
       "      <td>17.09</td>\n",
       "      <td>broken clouds</td>\n",
       "    </tr>\n",
       "    <tr>\n",
       "      <th>2</th>\n",
       "      <td>2024-10-21 18:00:00</td>\n",
       "      <td>16.52</td>\n",
       "      <td>16.45</td>\n",
       "      <td>16.52</td>\n",
       "      <td>16.52</td>\n",
       "      <td>overcast clouds</td>\n",
       "    </tr>\n",
       "    <tr>\n",
       "      <th>3</th>\n",
       "      <td>2024-10-21 21:00:00</td>\n",
       "      <td>15.64</td>\n",
       "      <td>15.51</td>\n",
       "      <td>15.64</td>\n",
       "      <td>15.64</td>\n",
       "      <td>overcast clouds</td>\n",
       "    </tr>\n",
       "    <tr>\n",
       "      <th>4</th>\n",
       "      <td>2024-10-22 00:00:00</td>\n",
       "      <td>15.22</td>\n",
       "      <td>14.89</td>\n",
       "      <td>15.22</td>\n",
       "      <td>15.22</td>\n",
       "      <td>overcast clouds</td>\n",
       "    </tr>\n",
       "  </tbody>\n",
       "</table>\n",
       "</div>"
      ],
      "text/plain": [
       "                dt_txt   temp  feels_like  temp_min  temp_max  \\\n",
       "0  2024-10-21 12:00:00  16.77       16.67     16.60     16.77   \n",
       "1  2024-10-21 15:00:00  17.01       16.91     17.01     17.09   \n",
       "2  2024-10-21 18:00:00  16.52       16.45     16.52     16.52   \n",
       "3  2024-10-21 21:00:00  15.64       15.51     15.64     15.64   \n",
       "4  2024-10-22 00:00:00  15.22       14.89     15.22     15.22   \n",
       "\n",
       "        description  \n",
       "0  scattered clouds  \n",
       "1     broken clouds  \n",
       "2   overcast clouds  \n",
       "3   overcast clouds  \n",
       "4   overcast clouds  "
      ]
     },
     "execution_count": 35,
     "metadata": {},
     "output_type": "execute_result"
    }
   ],
   "source": [
    "#Forecast Weather\n",
    "response1 = requests.get(\"https://api.openweathermap.org/data/2.5/forecast?lat=52.5170365&lon=13.3888599&exclude=hourly&units=metric&appid=b658d4211c02ef5cc3ab87ad1c933843\")\n",
    "Forecast = response1.json()# Parse the JSON response\n",
    "\n",
    "# Extract the list of forecasts (usually under the 'list' key)\n",
    "forecast_list = Forecast['list']\n",
    "\n",
    "# Create a DataFrame from the forecast list\n",
    "df = pd.DataFrame(forecast_list)\n",
    "\n",
    "df_main = df['main'].apply(pd.Series)\n",
    "\n",
    "# You can also expand other nested fields similarly\n",
    "df_weather = df['weather'].apply(lambda x: x[0]).apply(pd.Series)\n",
    "\n",
    "# Concatenate the expanded DataFrames with the main DataFrame (dropping the original nested columns)\n",
    "df_final = pd.concat([df, df_main, df_weather], axis=1).drop(['main', 'weather','dt','clouds','wind','visibility','pop','sys','pressure','sea_level','grnd_level','humidity','temp_kf','id','icon'], axis=1)\n",
    "\n",
    "\n",
    "# Now df_final contains all the relevant data\n",
    "df_final.head()\n"
   ]
  },
  {
   "cell_type": "code",
   "execution_count": 37,
   "id": "77f51be4-9314-439a-ab6b-a85acead83bb",
   "metadata": {},
   "outputs": [
    {
     "data": {
      "text/html": [
       "<div>\n",
       "<style scoped>\n",
       "    .dataframe tbody tr th:only-of-type {\n",
       "        vertical-align: middle;\n",
       "    }\n",
       "\n",
       "    .dataframe tbody tr th {\n",
       "        vertical-align: top;\n",
       "    }\n",
       "\n",
       "    .dataframe thead th {\n",
       "        text-align: right;\n",
       "    }\n",
       "</style>\n",
       "<table border=\"1\" class=\"dataframe\">\n",
       "  <thead>\n",
       "    <tr style=\"text-align: right;\">\n",
       "      <th></th>\n",
       "      <th>dt_txt</th>\n",
       "      <th>temp</th>\n",
       "      <th>feels_like</th>\n",
       "      <th>temp_min</th>\n",
       "      <th>temp_max</th>\n",
       "      <th>description</th>\n",
       "    </tr>\n",
       "  </thead>\n",
       "  <tbody>\n",
       "    <tr>\n",
       "      <th>0</th>\n",
       "      <td>2024-10-21 12:00:00</td>\n",
       "      <td>16.77</td>\n",
       "      <td>16.67</td>\n",
       "      <td>16.60</td>\n",
       "      <td>16.77</td>\n",
       "      <td>scattered clouds</td>\n",
       "    </tr>\n",
       "    <tr>\n",
       "      <th>1</th>\n",
       "      <td>2024-10-21 15:00:00</td>\n",
       "      <td>17.01</td>\n",
       "      <td>16.91</td>\n",
       "      <td>17.01</td>\n",
       "      <td>17.09</td>\n",
       "      <td>broken clouds</td>\n",
       "    </tr>\n",
       "    <tr>\n",
       "      <th>2</th>\n",
       "      <td>2024-10-21 18:00:00</td>\n",
       "      <td>16.52</td>\n",
       "      <td>16.45</td>\n",
       "      <td>16.52</td>\n",
       "      <td>16.52</td>\n",
       "      <td>overcast clouds</td>\n",
       "    </tr>\n",
       "    <tr>\n",
       "      <th>3</th>\n",
       "      <td>2024-10-21 21:00:00</td>\n",
       "      <td>15.64</td>\n",
       "      <td>15.51</td>\n",
       "      <td>15.64</td>\n",
       "      <td>15.64</td>\n",
       "      <td>overcast clouds</td>\n",
       "    </tr>\n",
       "    <tr>\n",
       "      <th>4</th>\n",
       "      <td>2024-10-22 00:00:00</td>\n",
       "      <td>15.22</td>\n",
       "      <td>14.89</td>\n",
       "      <td>15.22</td>\n",
       "      <td>15.22</td>\n",
       "      <td>overcast clouds</td>\n",
       "    </tr>\n",
       "  </tbody>\n",
       "</table>\n",
       "</div>"
      ],
      "text/plain": [
       "                dt_txt   temp  feels_like  temp_min  temp_max  \\\n",
       "0  2024-10-21 12:00:00  16.77       16.67     16.60     16.77   \n",
       "1  2024-10-21 15:00:00  17.01       16.91     17.01     17.09   \n",
       "2  2024-10-21 18:00:00  16.52       16.45     16.52     16.52   \n",
       "3  2024-10-21 21:00:00  15.64       15.51     15.64     15.64   \n",
       "4  2024-10-22 00:00:00  15.22       14.89     15.22     15.22   \n",
       "\n",
       "        description  \n",
       "0  scattered clouds  \n",
       "1     broken clouds  \n",
       "2   overcast clouds  \n",
       "3   overcast clouds  \n",
       "4   overcast clouds  "
      ]
     },
     "execution_count": 37,
     "metadata": {},
     "output_type": "execute_result"
    }
   ],
   "source": [
    "df_final.head(5)"
   ]
  }
 ],
 "metadata": {
  "kernelspec": {
   "display_name": "Python 3 (ipykernel)",
   "language": "python",
   "name": "python3"
  },
  "language_info": {
   "codemirror_mode": {
    "name": "ipython",
    "version": 3
   },
   "file_extension": ".py",
   "mimetype": "text/x-python",
   "name": "python",
   "nbconvert_exporter": "python",
   "pygments_lexer": "ipython3",
   "version": "3.9.20"
  }
 },
 "nbformat": 4,
 "nbformat_minor": 5
}

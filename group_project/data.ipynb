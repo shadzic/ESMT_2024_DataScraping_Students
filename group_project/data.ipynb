{
 "cells": [
  {
   "cell_type": "markdown",
   "id": "7617b4b9",
   "metadata": {},
   "source": [
    "Get the APIs"
   ]
  },
  {
   "cell_type": "code",
   "execution_count": 1,
   "id": "7aa8a972",
   "metadata": {},
   "outputs": [],
   "source": [
    "import requests"
   ]
  },
  {
   "cell_type": "markdown",
   "id": "00e93d80",
   "metadata": {},
   "source": [
    "Orange API"
   ]
  },
  {
   "cell_type": "code",
   "execution_count": 11,
   "id": "96fb0f94",
   "metadata": {},
   "outputs": [
    {
     "name": "stdout",
     "output_type": "stream",
     "text": [
      "{\"success\":true,\"errors\":[],\"base_currency\":\"USD\",\"rates\":{\"ORANGEJUICE\":{\"open\":4.60363,\"high\":4.72281,\"low\":4.57388,\"prev\":4.60307,\"current\":4.70631}}}\n"
     ]
    }
   ],
   "source": [
    "import http.client\n",
    "\n",
    "conn = http.client.HTTPSConnection(\"commodities-apised.p.rapidapi.com\")\n",
    "\n",
    "headers = {\n",
    "    'x-rapidapi-key': \"5af5038f2cmsh57e6cd35f4d7007p1f68cbjsn3f2122a2613b\",\n",
    "    'x-rapidapi-host': \"commodities-apised.p.rapidapi.com\"\n",
    "}\n",
    "\n",
    "conn.request(\"GET\", \"/v1/market-data?symbols=ORANGEJUICE&base=USD\", headers=headers)\n",
    "\n",
    "res = conn.getresponse()\n",
    "data = res.read()\n",
    "\n",
    "print(data.decode(\"utf-8\"))"
   ]
  },
  {
   "cell_type": "code",
   "execution_count": 12,
   "id": "0c6d9761",
   "metadata": {},
   "outputs": [
    {
     "name": "stdout",
     "output_type": "stream",
     "text": [
      "{\"success\":true,\"errors\":[],\"base_currency\":\"EUR\",\"rates\":{\"ORANGEJUICE\":4.34792}}\n"
     ]
    }
   ],
   "source": [
    "import http.client\n",
    "\n",
    "conn = http.client.HTTPSConnection(\"commodities-apised.p.rapidapi.com\")\n",
    "\n",
    "headers = {\n",
    "    'x-rapidapi-key': \"5af5038f2cmsh57e6cd35f4d7007p1f68cbjsn3f2122a2613b\",\n",
    "    'x-rapidapi-host': \"commodities-apised.p.rapidapi.com\"\n",
    "}\n",
    "\n",
    "conn.request(\"GET\", \"/v1/latest?base=EUR&symbols=ORANGEJUICE\", headers=headers)\n",
    "\n",
    "res = conn.getresponse()\n",
    "data = res.read()\n",
    "\n",
    "print(data.decode(\"utf-8\"))\n",
    "\n",
    "#the price is per pounds in Euro"
   ]
  },
  {
   "cell_type": "markdown",
   "id": "b14190e2",
   "metadata": {},
   "source": [
    "Weather API"
   ]
  },
  {
   "cell_type": "code",
   "execution_count": 6,
   "id": "29864e48",
   "metadata": {},
   "outputs": [],
   "source": [
    "private_api_key = \"5af5038f2cmsh57e6cd35f4d7007p1f68cbjsn3f2122a2613b\""
   ]
  },
  {
   "cell_type": "code",
   "execution_count": 7,
   "id": "cff98af0",
   "metadata": {},
   "outputs": [],
   "source": [
    "params = {\n",
    "    \"lat\": 52.520008,  # Find Berlin's latitude and add it here\n",
    "    \"lon\": 13.404954,  # Find Berlin's longitude and add it here\n",
    "    \"start\": \"2024-10-08\",  # Replace with today's date\n",
    "    \"end\": \"2024-10-08\"  # Replace with today's date\n",
    "}\n",
    "\n",
    "response = requests.get(\"https://meteostat.p.rapidapi.com/point/daily\",\n",
    "                       params=params,\n",
    "                       headers={\n",
    "                           \"X-RapidAPI-Host\": \"meteostat.p.rapidapi.com\",\n",
    "                           \"X-RapidAPI-Key\": private_api_key # Add the private_api_key variable \n",
    "                       })"
   ]
  },
  {
   "cell_type": "markdown",
   "id": "03a57dfe",
   "metadata": {},
   "source": [
    "Envent API"
   ]
  },
  {
   "cell_type": "code",
   "execution_count": null,
   "id": "80d0f2e8",
   "metadata": {},
   "outputs": [],
   "source": []
  }
 ],
 "metadata": {
  "kernelspec": {
   "display_name": "Python 3 (ipykernel)",
   "language": "python",
   "name": "python3"
  },
  "language_info": {
   "codemirror_mode": {
    "name": "ipython",
    "version": 3
   },
   "file_extension": ".py",
   "mimetype": "text/x-python",
   "name": "python",
   "nbconvert_exporter": "python",
   "pygments_lexer": "ipython3",
   "version": "3.11.4"
  }
 },
 "nbformat": 4,
 "nbformat_minor": 5
}

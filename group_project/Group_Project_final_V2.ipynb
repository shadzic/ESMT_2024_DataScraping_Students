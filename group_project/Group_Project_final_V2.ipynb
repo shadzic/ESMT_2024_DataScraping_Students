{
 "cells": [
  {
   "cell_type": "markdown",
   "id": "ec53c0a8-133a-4675-96cb-a540991f9b62",
   "metadata": {},
   "source": [
    "# Group Project: Data-driven Business Manager with APIs\n",
    "\n",
    "#### Number of points: 30 (weights 30% in the final grade)\n",
    "#### Deadline to form the groups: October 18th at 12:30 pm CET\n",
    "#### Deadline for the code submission: October 24th at 01:29 pm CET\n",
    "#### Presentations on October 24th"
   ]
  },
  {
   "cell_type": "markdown",
   "id": "9f539776-8b27-44a9-8cfd-a71371dbe043",
   "metadata": {},
   "source": [
    "## Objective\n",
    "In this project, you will create a Business that utilizes various APIs to make informed decisions about running your local business. If you want to sell drinks or street food or whatever floats your boat, do not hesitate to find your data and design the project accordingly. You will collect data from meteorological and non-meteorological APIs to help your business determine when, where, and how much inventory is needed to maximize sales. "
   ]
  },
  {
   "cell_type": "markdown",
   "id": "c6b11027-afe7-4f63-a309-e512995375df",
   "metadata": {},
   "source": [
    "## Grading\n",
    "\n",
    "In total, the group project counts for 30% of the final grade and represents 30 points.\n",
    "\n",
    "The points are distributed in two parts: the code and the presentation.\n",
    "\n",
    "- Some items e.g. Statistics are represented in both parts and will require to compute them in the code **and** present them during the presentation.\n",
    "- Please note that the data must come from an API. You need to use at least 3 APIs (weather + two others). You can also of course use data downloaded from the internet, however they cannot replace the API data.\n",
    "- Additionally, emphasis will be put on the **Storytelling** and whether or not the choice of APIs, data processing, statistics and visualisations are relevant for your business.\n",
    "- To make grading easier, please provide **clean code** with **relevant comments** to make it straightforward what you are doing.\n",
    "- Everyone in the group project must present during presentation day. **A penalty of -2 points** will be applied to each person **who does not present a significant part** during the presentation.\n",
    "\n",
    "\n",
    "| **Code** | **15 points** |\n",
    "| --- | --- |\n",
    "| A. Collect data from weather API | 3 points |\n",
    "| B. Collect data from two other non-meteorological APIs | 4 points |\n",
    "| C. Data cleaning and processing | 3 points |\n",
    "| D. Compute relevant statistics | 2 points |\n",
    "| E. Clean and clear visualisations  | 3 points |\n",
    "\n",
    "\n",
    "| **Presentation** | **15 points** |\n",
    "| --- | --- |\n",
    "| 1. Description of unique business idea | 1 point |\n",
    "| 2. Presentation of all the APIs used and how it serves your business | 3 points |\n",
    "| 3. Presentation of the data cleaning and processing | 2 points |\n",
    "| 4. Presentation of the statistics | 2 points |\n",
    "| 5. Presentation of the visualisations and how they serve the business| 3 points |\n",
    "| 6. Storytelling | 4 points |\n",
    "\n",
    "**Penalty: -2 points to each person who does not present a significant part during the presentation.**\n",
    "\n",
    "\n",
    "**Penalty for unexcused absence or lateness**: \n",
    "- If you are absent or late on presentation day without an official excuse, you will receive 0 for the presentation part of the group project.\n",
    "- If you are late without an official excuse and can still make it to the presentation of your team, you will still receive 0 for the presentation part of the group project."
   ]
  },
  {
   "cell_type": "markdown",
   "id": "519e47f3-51ae-440c-a2ed-cbf2647c7d7e",
   "metadata": {},
   "source": [
    "## Getting Ready\n",
    "#### Recommended deadline: October 8th\n",
    "#### Deadline: October 18th at 12:30 pm CET\n",
    "\n",
    "1. Form your group and select a group name. Communicate your group name to the teacher along with the First Name and Last Name of all the team members.\n",
    "\n",
    "2. Create a branch on the **Students** repository with your group name (exactly the same as the one communicated to the teacher).\n",
    "\n",
    "3. Discuss with your group and answer the following questions:\n",
    "\n",
    "   - What kind of business do we run? What do we sell ? The choice of the business must be original and unique to your group.\n",
    "   - How do we name our business?\n",
    "   - When do we operate? Is it an all-year-round business or a seasonal one? If so, which seasons? Which months / weeks / days / hours of the day do we operate?\n",
    "   - Where do we operate? In which countries / cities are we currently active ? Where do we want to develop in the future ? Determine where to set up your business stand based on weather conditions, local attractions, or events. The location should maximize customer traffic and sales."
   ]
  },
  {
   "cell_type": "code",
   "execution_count": 78,
   "id": "4fb11d8a",
   "metadata": {},
   "outputs": [],
   "source": [
    "import requests\n",
    "import pandas as pd\n",
    "import http.client\n",
    "import json\n",
    "from datetime import datetime, timedelta\n",
    "import matplotlib.pyplot as plt\n",
    "import plotly.express as px\n",
    "import seaborn as sns\n",
    "import matplotlib.ticker as ticker\n",
    "import numpy as np"
   ]
  },
  {
   "cell_type": "markdown",
   "id": "5f57de6f-d6ae-4dde-a79d-7c3e1b9f9470",
   "metadata": {},
   "source": [
    "## Code | A. Collect data from weather API | 3 points\n",
    "#### Recommended deadline: October 18th\n",
    "#### Deadline: October 24th at 01:29 pm CET\n",
    "Use the OpenWeatherMap API to fetch weather data for your chosen location. You can select any city or location for your business.\n",
    "\n",
    "- Fetch your chosen location's current temperature and weather conditions.\n",
    "- Fetch the forecasted weather data for the next few days (e.g., five days)."
   ]
  },
  {
   "cell_type": "code",
   "execution_count": 19,
   "id": "18178e12",
   "metadata": {},
   "outputs": [],
   "source": [
    "#Location of Berlin\n",
    "L = requests.get(\"http://api.openweathermap.org/geo/1.0/direct?q=Berlin&limit=5&appid=b658d4211c02ef5cc3ab87ad1c933843\")\n",
    "w= L.json()\n",
    "\n",
    "#Berlin Current Weather\n",
    "response = requests.get(\"https://api.openweathermap.org/data/2.5/weather?lat=52.5170365&lon=13.3888599&exclude=hourly&units=metric&appid=b658d4211c02ef5cc3ab87ad1c933843\")\n",
    "Q = response.json()"
   ]
  },
  {
   "cell_type": "code",
   "execution_count": 20,
   "id": "1567aa94",
   "metadata": {},
   "outputs": [
    {
     "data": {
      "text/html": [
       "<div>\n",
       "<style scoped>\n",
       "    .dataframe tbody tr th:only-of-type {\n",
       "        vertical-align: middle;\n",
       "    }\n",
       "\n",
       "    .dataframe tbody tr th {\n",
       "        vertical-align: top;\n",
       "    }\n",
       "\n",
       "    .dataframe thead th {\n",
       "        text-align: right;\n",
       "    }\n",
       "</style>\n",
       "<table border=\"1\" class=\"dataframe\">\n",
       "  <thead>\n",
       "    <tr style=\"text-align: right;\">\n",
       "      <th></th>\n",
       "      <th>coord</th>\n",
       "      <th>temp</th>\n",
       "      <th>feels_like</th>\n",
       "      <th>temp_min</th>\n",
       "      <th>temp_max</th>\n",
       "      <th>description</th>\n",
       "    </tr>\n",
       "  </thead>\n",
       "  <tbody>\n",
       "    <tr>\n",
       "      <th>0</th>\n",
       "      <td>{'lon': 13.3889, 'lat': 52.517}</td>\n",
       "      <td>11.32</td>\n",
       "      <td>10.73</td>\n",
       "      <td>8.9</td>\n",
       "      <td>13.3</td>\n",
       "      <td>clear sky</td>\n",
       "    </tr>\n",
       "  </tbody>\n",
       "</table>\n",
       "</div>"
      ],
      "text/plain": [
       "                             coord   temp  feels_like  temp_min  temp_max  \\\n",
       "0  {'lon': 13.3889, 'lat': 52.517}  11.32       10.73       8.9      13.3   \n",
       "\n",
       "  description  \n",
       "0   clear sky  "
      ]
     },
     "execution_count": 20,
     "metadata": {},
     "output_type": "execute_result"
    }
   ],
   "source": [
    "berlin_weather_current = pd.DataFrame([Q])\n",
    "\n",
    "# Expand nested fields\n",
    "berlin_weather_current_main = berlin_weather_current['main'].apply(pd.Series)\n",
    "berlin_weather_current_weather = berlin_weather_current['weather'].apply(lambda x: x[0]).apply(pd.Series)\n",
    "\n",
    "# Concatenate the expanded dfs with the main df and dropping the original nested columns\n",
    "berlin_weather_current_final = pd.concat([berlin_weather_current, berlin_weather_current_main, berlin_weather_current_weather], axis=1).drop(['main', 'weather','base','wind','clouds','dt','sys','timezone','id','pressure','humidity','sea_level','grnd_level','icon','visibility','name','cod'], axis=1)\n",
    "\n",
    "berlin_weather_current_final.head()"
   ]
  },
  {
   "cell_type": "markdown",
   "id": "b86a960c",
   "metadata": {},
   "source": [
    "### Weather forecast"
   ]
  },
  {
   "cell_type": "code",
   "execution_count": 22,
   "id": "88e171ad",
   "metadata": {},
   "outputs": [
    {
     "data": {
      "text/html": [
       "<div>\n",
       "<style scoped>\n",
       "    .dataframe tbody tr th:only-of-type {\n",
       "        vertical-align: middle;\n",
       "    }\n",
       "\n",
       "    .dataframe tbody tr th {\n",
       "        vertical-align: top;\n",
       "    }\n",
       "\n",
       "    .dataframe thead th {\n",
       "        text-align: right;\n",
       "    }\n",
       "</style>\n",
       "<table border=\"1\" class=\"dataframe\">\n",
       "  <thead>\n",
       "    <tr style=\"text-align: right;\">\n",
       "      <th></th>\n",
       "      <th>pop</th>\n",
       "      <th>dt_txt</th>\n",
       "      <th>temp</th>\n",
       "      <th>feels_like</th>\n",
       "      <th>temp_min</th>\n",
       "      <th>temp_max</th>\n",
       "      <th>description</th>\n",
       "    </tr>\n",
       "  </thead>\n",
       "  <tbody>\n",
       "    <tr>\n",
       "      <th>0</th>\n",
       "      <td>0</td>\n",
       "      <td>2024-10-23 18:00:00</td>\n",
       "      <td>11.28</td>\n",
       "      <td>10.68</td>\n",
       "      <td>11.28</td>\n",
       "      <td>12.72</td>\n",
       "      <td>clear sky</td>\n",
       "    </tr>\n",
       "    <tr>\n",
       "      <th>1</th>\n",
       "      <td>0</td>\n",
       "      <td>2024-10-23 21:00:00</td>\n",
       "      <td>11.28</td>\n",
       "      <td>10.60</td>\n",
       "      <td>11.28</td>\n",
       "      <td>11.29</td>\n",
       "      <td>clear sky</td>\n",
       "    </tr>\n",
       "    <tr>\n",
       "      <th>2</th>\n",
       "      <td>0</td>\n",
       "      <td>2024-10-24 00:00:00</td>\n",
       "      <td>10.55</td>\n",
       "      <td>9.83</td>\n",
       "      <td>10.19</td>\n",
       "      <td>10.55</td>\n",
       "      <td>clear sky</td>\n",
       "    </tr>\n",
       "    <tr>\n",
       "      <th>3</th>\n",
       "      <td>0</td>\n",
       "      <td>2024-10-24 03:00:00</td>\n",
       "      <td>9.17</td>\n",
       "      <td>8.34</td>\n",
       "      <td>9.17</td>\n",
       "      <td>9.17</td>\n",
       "      <td>clear sky</td>\n",
       "    </tr>\n",
       "    <tr>\n",
       "      <th>4</th>\n",
       "      <td>0</td>\n",
       "      <td>2024-10-24 06:00:00</td>\n",
       "      <td>8.46</td>\n",
       "      <td>7.15</td>\n",
       "      <td>8.46</td>\n",
       "      <td>8.46</td>\n",
       "      <td>clear sky</td>\n",
       "    </tr>\n",
       "  </tbody>\n",
       "</table>\n",
       "</div>"
      ],
      "text/plain": [
       "   pop               dt_txt   temp  feels_like  temp_min  temp_max description\n",
       "0    0  2024-10-23 18:00:00  11.28       10.68     11.28     12.72   clear sky\n",
       "1    0  2024-10-23 21:00:00  11.28       10.60     11.28     11.29   clear sky\n",
       "2    0  2024-10-24 00:00:00  10.55        9.83     10.19     10.55   clear sky\n",
       "3    0  2024-10-24 03:00:00   9.17        8.34      9.17      9.17   clear sky\n",
       "4    0  2024-10-24 06:00:00   8.46        7.15      8.46      8.46   clear sky"
      ]
     },
     "execution_count": 22,
     "metadata": {},
     "output_type": "execute_result"
    }
   ],
   "source": [
    "#Forecast Weather\n",
    "response1 = requests.get(\"https://api.openweathermap.org/data/2.5/forecast?lat=52.5170365&lon=13.3888599&exclude=hourly&units=metric&appid=b658d4211c02ef5cc3ab87ad1c933843\")\n",
    "Forecast = response1.json()\n",
    "\n",
    "# Extract the list of forecasts\n",
    "forecast_list = Forecast['list']\n",
    "\n",
    "# Create a df\n",
    "df = pd.DataFrame(forecast_list)\n",
    "\n",
    "# Expand nested fields\n",
    "df_main = df['main'].apply(pd.Series)\n",
    "df_weather = df['weather'].apply(lambda x: x[0]).apply(pd.Series)\n",
    "\n",
    "# Concatenate the expanded dfs with the main df and dropping the original nested columns\n",
    "df_forecast = pd.concat([df, df_main, df_weather], axis=1).drop(['main', 'weather','dt','clouds','visibility','wind','sys','pressure','sea_level','grnd_level','humidity','temp_kf','id','icon'], axis=1)\n",
    "\n",
    "df_forecast.head(5)"
   ]
  },
  {
   "cell_type": "markdown",
   "id": "364b194b-8443-4fd5-8bda-3b7205e929c7",
   "metadata": {},
   "source": [
    "## Code | B. Collect data from two other APIs | 4 points\n",
    "#### Recommended deadline: October 18th\n",
    "#### Deadline: October 24th at 01:29 pm CET\n",
    "Integrate with **at least two** of the non-meteorological APIs you've learned about based on the location and the season.\n",
    "\n",
    "It has to be with an API (not a downloaded dataset). \n",
    "\n",
    "You can of course use a downloaded dataset on top of the two APIs you've chosen.\n",
    "\n",
    "You can also use more APIs, sky is the limit!\n",
    "\n",
    "You can choose from:\n",
    "- Google Maps,\n",
    "- TripAdvisor,\n",
    "- News API,\n",
    "- Yelp,\n",
    "- Wikipedia,\n",
    "- Booking,\n",
    "- Amadeus Travel API,\n",
    "- Foursquare,\n",
    "- etc. (make your own research and be original!)\n",
    "\n",
    "Each API can provide different types of information. Pick the ones that best suit your application.\n",
    "\n",
    "\n",
    "After collecting all the data you need, save them."
   ]
  },
  {
   "cell_type": "markdown",
   "id": "5de936c1",
   "metadata": {},
   "source": [
    "#### Orange juice API"
   ]
  },
  {
   "cell_type": "code",
   "execution_count": 25,
   "id": "8fbbd815",
   "metadata": {},
   "outputs": [
    {
     "name": "stdout",
     "output_type": "stream",
     "text": [
      "The rates are in euros per pound of orange juice:\n",
      "     open     high      low     prev  current\n",
      "0  4.2736  4.38423  4.24598  4.27308  4.36891\n"
     ]
    }
   ],
   "source": [
    "private_api_key = \"5af5038f2cmsh57e6cd35f4d7007p1f68cbjsn3f2122a2613b\"\n",
    "\n",
    "params = {\n",
    "    \"symbols\": \"ORANGEJUICE\",  # Commodity \n",
    "    \"base\": \"EUR\"              # Currency\n",
    "}\n",
    "\n",
    "response = requests.get(\n",
    "    \"https://commodities-apised.p.rapidapi.com/v1/market-data\",  \n",
    "    params=params, \n",
    "    headers={\n",
    "        \"X-RapidAPI-Host\": \"commodities-apised.p.rapidapi.com\",\n",
    "        \"X-RapidAPI-Key\": private_api_key  \n",
    "    }\n",
    ")\n",
    "\n",
    "json_data = response.json()\n",
    "\n",
    "# Extract rates information\n",
    "if json_data['success']:\n",
    "    rates = json_data['rates']['ORANGEJUICE']\n",
    "\n",
    "    # Convert the extracted data into a DataFrame\n",
    "    df = pd.DataFrame([rates])\n",
    "\n",
    "    print(\"The rates are in euros per pound of orange juice:\")\n",
    "    print(df)\n",
    "else:\n",
    "    print(\"Error: Could not retrieve data.\")\n",
    "    print(json_data['errors'])\n"
   ]
  },
  {
   "cell_type": "markdown",
   "id": "d85f54a6",
   "metadata": {},
   "source": [
    "#### Events Data"
   ]
  },
  {
   "cell_type": "code",
   "execution_count": 27,
   "id": "b881f54d-a451-4f15-889c-226be6285310",
   "metadata": {},
   "outputs": [],
   "source": [
    "# Calculate date range for the next month\n",
    "today = datetime.now().date()\n",
    "next_month = today + timedelta(days=90)\n",
    "today_str = today.strftime(\"%Y-%m-%d\")\n",
    "next_month_str = next_month.strftime(\"%Y-%m-%d\")\n",
    "\n",
    "api_token = \"a9kompRf5e_NPnPID6Hg9PeJBB9qwaZZTmMAJ0jO\"\n",
    "\n",
    "# Creating events formula for pagins\n",
    "def get_events(api_token, start_date, end_date, max_results=1000):\n",
    "    url = \"https://api.predicthq.com/v1/events/\"\n",
    "    headers = {\n",
    "        \"Authorization\": f\"Bearer {api_token}\",\n",
    "        \"Accept\": \"application/json\"\n",
    "    }\n",
    "    params = {\n",
    "        \"categories\": \"community, festivals, sports\",\n",
    "        \"saved_location.location_id\": \"N333B4M3T98yr-3FQ3nIHw\",\n",
    "        \"phq_attendance.gte\": \"500\", # Avoid minor events which would not be profitable for us\n",
    "        \"active.gte\": start_date,\n",
    "        \"active.lte\": end_date,\n",
    "        \"limit\": 100  # Maximum allowed by the API\n",
    "    }\n",
    "\n",
    "    all_events = []\n",
    "    while len(all_events) < max_results:\n",
    "        response = requests.get(url, headers=headers, params=params)\n",
    "        if response.status_code != 200:\n",
    "            print(f\"Error: {response.status_code}\")\n",
    "            print(response.text)\n",
    "            break\n",
    "\n",
    "        data = response.json()\n",
    "        events = data['results']\n",
    "        all_events.extend(events)\n",
    "\n",
    "        if not data['next']:\n",
    "            break  # No more pages\n",
    "\n",
    "        params['offset'] = data['next'].split('offset=')[1].split('&')[0]\n",
    "\n",
    "    return all_events[:max_results]"
   ]
  },
  {
   "cell_type": "code",
   "execution_count": 28,
   "id": "e930dd77-2b42-4cd8-87dc-53bbc4771706",
   "metadata": {},
   "outputs": [],
   "source": [
    "# Get events into dataframe\n",
    "events = get_events(api_token, today_str, next_month_str)\n",
    "berlin_events = pd.DataFrame(events)"
   ]
  },
  {
   "cell_type": "code",
   "execution_count": 83,
   "id": "510ce8ee",
   "metadata": {},
   "outputs": [
    {
     "data": {
      "text/html": [
       "<div>\n",
       "<style scoped>\n",
       "    .dataframe tbody tr th:only-of-type {\n",
       "        vertical-align: middle;\n",
       "    }\n",
       "\n",
       "    .dataframe tbody tr th {\n",
       "        vertical-align: top;\n",
       "    }\n",
       "\n",
       "    .dataframe thead th {\n",
       "        text-align: right;\n",
       "    }\n",
       "</style>\n",
       "<table border=\"1\" class=\"dataframe\">\n",
       "  <thead>\n",
       "    <tr style=\"text-align: right;\">\n",
       "      <th></th>\n",
       "      <th>title</th>\n",
       "      <th>category</th>\n",
       "      <th>labels</th>\n",
       "      <th>phq_attendance</th>\n",
       "      <th>predicted_event_spend</th>\n",
       "      <th>start_local</th>\n",
       "      <th>predicted_end_local</th>\n",
       "      <th>location</th>\n",
       "      <th>date</th>\n",
       "      <th>start_time</th>\n",
       "      <th>end_date</th>\n",
       "      <th>end_time</th>\n",
       "      <th>time_day</th>\n",
       "    </tr>\n",
       "  </thead>\n",
       "  <tbody>\n",
       "    <tr>\n",
       "      <th>0</th>\n",
       "      <td>Aynur Dogan</td>\n",
       "      <td>concerts</td>\n",
       "      <td>[concert, music]</td>\n",
       "      <td>1756</td>\n",
       "      <td>55921</td>\n",
       "      <td>2025-01-20T20:00:00</td>\n",
       "      <td>2025-01-21T00:10:00</td>\n",
       "      <td>[13.3883474, 52.5207127]</td>\n",
       "      <td>2025-01-20</td>\n",
       "      <td>20:00:00</td>\n",
       "      <td>2025-01-21</td>\n",
       "      <td>00:10:00</td>\n",
       "      <td>night</td>\n",
       "    </tr>\n",
       "    <tr>\n",
       "      <th>1</th>\n",
       "      <td>jpegmafia</td>\n",
       "      <td>concerts</td>\n",
       "      <td>[concert, music]</td>\n",
       "      <td>1900</td>\n",
       "      <td>60507</td>\n",
       "      <td>2025-01-20T20:00:00</td>\n",
       "      <td>2025-01-21T00:30:00</td>\n",
       "      <td>[13.421503, 52.486301]</td>\n",
       "      <td>2025-01-20</td>\n",
       "      <td>20:00:00</td>\n",
       "      <td>2025-01-21</td>\n",
       "      <td>00:30:00</td>\n",
       "      <td>night</td>\n",
       "    </tr>\n",
       "    <tr>\n",
       "      <th>2</th>\n",
       "      <td>Die Schöne und das Biest - Die große Jubiläums...</td>\n",
       "      <td>performing-arts</td>\n",
       "      <td>[entertainment, music, performing-arts]</td>\n",
       "      <td>748</td>\n",
       "      <td>21550</td>\n",
       "      <td>2025-01-20T19:30:00</td>\n",
       "      <td>2025-01-20T21:40:00</td>\n",
       "      <td>[13.372268, 52.50757]</td>\n",
       "      <td>2025-01-20</td>\n",
       "      <td>19:30:00</td>\n",
       "      <td>2025-01-20</td>\n",
       "      <td>21:40:00</td>\n",
       "      <td>night</td>\n",
       "    </tr>\n",
       "    <tr>\n",
       "      <th>3</th>\n",
       "      <td>EarthGang</td>\n",
       "      <td>concerts</td>\n",
       "      <td>[concert, music]</td>\n",
       "      <td>732</td>\n",
       "      <td>23311</td>\n",
       "      <td>2025-01-19T20:00:00</td>\n",
       "      <td>2025-01-20T00:30:00</td>\n",
       "      <td>[13.3877258, 52.495972]</td>\n",
       "      <td>2025-01-19</td>\n",
       "      <td>20:00:00</td>\n",
       "      <td>2025-01-20</td>\n",
       "      <td>00:30:00</td>\n",
       "      <td>night</td>\n",
       "    </tr>\n",
       "    <tr>\n",
       "      <th>4</th>\n",
       "      <td>DIE NEUE HEINZ ERHARDT REVUE</td>\n",
       "      <td>concerts</td>\n",
       "      <td>[concert, music]</td>\n",
       "      <td>1777</td>\n",
       "      <td>56590</td>\n",
       "      <td>2025-01-19T19:00:00</td>\n",
       "      <td>2025-01-19T22:40:00</td>\n",
       "      <td>[13.372268, 52.50757]</td>\n",
       "      <td>2025-01-19</td>\n",
       "      <td>19:00:00</td>\n",
       "      <td>2025-01-19</td>\n",
       "      <td>22:40:00</td>\n",
       "      <td>night</td>\n",
       "    </tr>\n",
       "  </tbody>\n",
       "</table>\n",
       "</div>"
      ],
      "text/plain": [
       "                                               title         category  \\\n",
       "0                                        Aynur Dogan         concerts   \n",
       "1                                          jpegmafia         concerts   \n",
       "2  Die Schöne und das Biest - Die große Jubiläums...  performing-arts   \n",
       "3                                          EarthGang         concerts   \n",
       "4                       DIE NEUE HEINZ ERHARDT REVUE         concerts   \n",
       "\n",
       "                                    labels  phq_attendance  \\\n",
       "0                         [concert, music]            1756   \n",
       "1                         [concert, music]            1900   \n",
       "2  [entertainment, music, performing-arts]             748   \n",
       "3                         [concert, music]             732   \n",
       "4                         [concert, music]            1777   \n",
       "\n",
       "   predicted_event_spend          start_local  predicted_end_local  \\\n",
       "0                  55921  2025-01-20T20:00:00  2025-01-21T00:10:00   \n",
       "1                  60507  2025-01-20T20:00:00  2025-01-21T00:30:00   \n",
       "2                  21550  2025-01-20T19:30:00  2025-01-20T21:40:00   \n",
       "3                  23311  2025-01-19T20:00:00  2025-01-20T00:30:00   \n",
       "4                  56590  2025-01-19T19:00:00  2025-01-19T22:40:00   \n",
       "\n",
       "                   location       date start_time   end_date  end_time  \\\n",
       "0  [13.3883474, 52.5207127] 2025-01-20   20:00:00 2025-01-21  00:10:00   \n",
       "1    [13.421503, 52.486301] 2025-01-20   20:00:00 2025-01-21  00:30:00   \n",
       "2     [13.372268, 52.50757] 2025-01-20   19:30:00 2025-01-20  21:40:00   \n",
       "3   [13.3877258, 52.495972] 2025-01-19   20:00:00 2025-01-20  00:30:00   \n",
       "4     [13.372268, 52.50757] 2025-01-19   19:00:00 2025-01-19  22:40:00   \n",
       "\n",
       "  time_day  \n",
       "0    night  \n",
       "1    night  \n",
       "2    night  \n",
       "3    night  \n",
       "4    night  "
      ]
     },
     "execution_count": 83,
     "metadata": {},
     "output_type": "execute_result"
    }
   ],
   "source": [
    "# Create table with relevant variables\n",
    "events_summary = berlin_events[[\"title\", \"category\", \"labels\", \"phq_attendance\", \"predicted_event_spend\", \"start_local\", \"predicted_end_local\", \"location\"]]\n",
    "events_summary = events_summary.copy()\n",
    "\n",
    "# Create new columns for start date and time + convert data type\n",
    "events_summary.loc[:, \"date\"] = events_summary[\"start_local\"].str.split('T').str[0]\n",
    "events_summary.loc[:, \"start_time\"] = events_summary[\"start_local\"].str.split('T').str[1]\n",
    "events_summary[\"date\"] = pd.to_datetime(events_summary[\"date\"], format=\"%Y-%m-%d\")\n",
    "\n",
    "# Create new columns for end date and time + convert data type\n",
    "events_summary.loc[:, \"end_date\"] = events_summary['predicted_end_local'].str.split('T').str[0]\n",
    "events_summary.loc[:, \"end_time\"] = events_summary['predicted_end_local'].str.split('T').str[1]\n",
    "events_summary[\"end_date\"] = pd.to_datetime(events_summary[\"end_date\"], format=\"%Y-%m-%d\")\n",
    "\n",
    "# Ensure 'start_time' is converted to string\n",
    "events_summary[\"start_time\"] = events_summary[\"start_time\"].astype(str)\n",
    "\n",
    "# Create the 'time_day' column based on the condition\n",
    "events_summary[\"time_day\"] = np.where(\n",
    "    (events_summary[\"start_time\"].str[:2].astype(int) >= 6) & \n",
    "    (events_summary[\"start_time\"].str[:2].astype(int) <= 18),\n",
    "    \"noon\", \"night\")\n",
    "events_summary.head(5)"
   ]
  },
  {
   "cell_type": "markdown",
   "id": "255dc3ee-d438-429b-8fde-1ee6db039f34",
   "metadata": {},
   "source": [
    "## Code | C. Data cleaning and processing | 3 points\n",
    "#### Recommended deadline: from October 18th until October 21st\n",
    "#### Deadline: October 24th at 01:29 pm CET\n",
    "\n",
    "In order to make data-driven decisions, you will need to clean the collected data, fill missing values, merge datasets etc.\n",
    "\n",
    "Take some time to clean and process the collected data so that you can use it.\n",
    "\n",
    "Organize the dataset into a structured format, such as a CSV file, HTML file, EXCEL file, and a table where each row represents the achieved data."
   ]
  },
  {
   "cell_type": "markdown",
   "id": "7dc974d5-52c1-4bf4-9044-d17735e02ed4",
   "metadata": {},
   "source": []
  },
  {
   "cell_type": "markdown",
   "id": "012b9c0b",
   "metadata": {},
   "source": [
    "#### The average temp daily for the forecast"
   ]
  },
  {
   "cell_type": "code",
   "execution_count": 38,
   "id": "f7a38507-2c5b-4517-8cab-eb9b8427af7f",
   "metadata": {
    "scrolled": true
   },
   "outputs": [
    {
     "name": "stdout",
     "output_type": "stream",
     "text": [
      "   pop              dt_txt   temp  feels_like  temp_min  temp_max description  \\\n",
      "0    0 2024-10-23 18:00:00  11.28       10.68     11.28     12.72   clear sky   \n",
      "1    0 2024-10-23 21:00:00  11.28       10.60     11.28     11.29   clear sky   \n",
      "2    0 2024-10-24 00:00:00  10.55        9.83     10.19     10.55   clear sky   \n",
      "3    0 2024-10-24 03:00:00   9.17        8.34      9.17      9.17   clear sky   \n",
      "4    0 2024-10-24 06:00:00   8.46        7.15      8.46      8.46   clear sky   \n",
      "\n",
      "         date  \n",
      "0  2024-10-23  \n",
      "1  2024-10-23  \n",
      "2  2024-10-24  \n",
      "3  2024-10-24  \n",
      "4  2024-10-24  \n"
     ]
    }
   ],
   "source": [
    "df_forecast['dt_txt'] = df_forecast['dt_txt'].astype(str)\n",
    "df_forecast['dt_txt'] = pd.to_datetime(df_forecast['dt_txt'], errors='coerce')\n",
    "\n",
    "df_forecast['date'] = df_forecast['dt_txt'].dt.date  # Extract the date part\n",
    "print(df_forecast.head(5))"
   ]
  },
  {
   "cell_type": "markdown",
   "id": "f1480ab4",
   "metadata": {},
   "source": [
    "Reduce the daily temperatures from every 3 hours to day and night"
   ]
  },
  {
   "cell_type": "code",
   "execution_count": 40,
   "id": "c8e2f057-440d-4ad4-a0e3-c9d12cd1c876",
   "metadata": {
    "scrolled": true
   },
   "outputs": [
    {
     "name": "stdout",
     "output_type": "stream",
     "text": [
      "         date    day_tem  night_tem\n",
      "0  2024-10-23  11.280000     11.280\n",
      "1  2024-10-24  14.087500     12.210\n",
      "2  2024-10-25  15.780000     13.985\n",
      "3  2024-10-26  16.265000     14.330\n",
      "4  2024-10-27  16.232500     14.205\n",
      "5  2024-10-28  14.013333        NaN\n"
     ]
    }
   ],
   "source": [
    "df_forecast['dt_txt'] = pd.to_datetime(df_forecast['dt_txt'])\n",
    "\n",
    "# Create new columns for day and night temperature\n",
    "df_forecast['date'] = df_forecast['dt_txt'].dt.date  # Extract the date part for grouping\n",
    "df_forecast['time'] = df_forecast['dt_txt'].dt.time  # Extract the time part\n",
    "\n",
    "# Define the time ranges for day and night\n",
    "day_start = pd.to_datetime('09:00:00').time()\n",
    "day_end = pd.to_datetime('18:00:00').time()\n",
    "night_start = pd.to_datetime('18:00:00').time()\n",
    "night_end = pd.to_datetime('00:00:00').time()\n",
    "\n",
    "# Filter for day temperatures\n",
    "day_tem = df_forecast[(df_forecast['time'] >= day_start) & (df_forecast['time'] <= day_end)].groupby('date')['temp'].mean().reset_index()\n",
    "day_tem.rename(columns={'temp': 'day_tem'}, inplace=True)\n",
    "\n",
    "# Filter for night temperatures\n",
    "night_tem = df_forecast[(df_forecast['time'] >= night_start) | (df_forecast['time'] < night_end)].groupby('date')['temp'].mean().reset_index()\n",
    "night_tem.rename(columns={'temp': 'night_tem'}, inplace=True)\n",
    "\n",
    "# Merge the two new dfs back into the original df\n",
    "df_weather_forecast = pd.merge(df_forecast[['date']].drop_duplicates(), day_tem, on='date', how='left')\n",
    "df_weather_forecast = pd.merge(df_weather_forecast, night_tem, on='date', how='left')\n",
    "\n",
    "print(df_weather_forecast)"
   ]
  },
  {
   "cell_type": "markdown",
   "id": "e5edf3b6",
   "metadata": {},
   "source": [
    "To determine quality, we assigned to each temperature interval a score form 0 to 1 indicating how good the weather is and how impactful it will be on the sales.\n",
    "\n",
    "If the weather is below 10°C, quality = 0.\n",
    "\n",
    "If the weather is between 10°C and 15°C, quality = 0.4.\n",
    "\n",
    "If the weather is between 15°C and 20°C, quality = 0.7.\n",
    "\n",
    "If the weather is between 20°C and 25°C, quality = 0.85.\n",
    "\n",
    "If the weather is above 25°C, quality = 1."
   ]
  },
  {
   "cell_type": "code",
   "execution_count": 42,
   "id": "76215148-5b34-4b1d-a35c-a3452235d2d5",
   "metadata": {
    "scrolled": true
   },
   "outputs": [
    {
     "name": "stdout",
     "output_type": "stream",
     "text": [
      "         date    day_tem  night_tem  quality_day  quality_night\n",
      "0  2024-10-23  11.280000     11.280          0.4            0.4\n",
      "1  2024-10-24  14.087500     12.210          0.4            0.4\n",
      "2  2024-10-25  15.780000     13.985          0.7            0.4\n",
      "3  2024-10-26  16.265000     14.330          0.7            0.4\n",
      "4  2024-10-27  16.232500     14.205          0.7            0.4\n",
      "5  2024-10-28  14.013333        NaN          0.4            NaN\n"
     ]
    }
   ],
   "source": [
    "def determine_quality(temp):\n",
    "    if pd.isna(temp):  # Handle NaN values\n",
    "        return None\n",
    "    elif temp < 10:\n",
    "        return 0\n",
    "    elif 10 <= temp < 15:\n",
    "        return 0.4\n",
    "    elif 15 <= temp < 20:\n",
    "        return 0.7\n",
    "    elif 20 <= temp < 25:\n",
    "        return 0.85\n",
    "    else:\n",
    "        return 1\n",
    "\n",
    "# Apply the function to both day_tem and night_tem to create the quality column\n",
    "df_weather_forecast['quality_day'] = df_weather_forecast['day_tem'].apply(determine_quality)\n",
    "df_weather_forecast['quality_night'] = df_weather_forecast['night_tem'].apply(determine_quality)\n",
    "\n",
    "print(df_weather_forecast[['date', 'day_tem', 'night_tem', 'quality_day', 'quality_night']])"
   ]
  },
  {
   "cell_type": "markdown",
   "id": "954897c8",
   "metadata": {},
   "source": [
    "### Weather and Event Dataframe"
   ]
  },
  {
   "cell_type": "markdown",
   "id": "03fd0e38",
   "metadata": {},
   "source": [
    "Now, we can merge the event and weather forecast dfs."
   ]
  },
  {
   "cell_type": "code",
   "execution_count": 44,
   "id": "08210ca2-d9b9-4c82-adeb-edb755ff7788",
   "metadata": {
    "scrolled": true
   },
   "outputs": [
    {
     "data": {
      "text/html": [
       "<div>\n",
       "<style scoped>\n",
       "    .dataframe tbody tr th:only-of-type {\n",
       "        vertical-align: middle;\n",
       "    }\n",
       "\n",
       "    .dataframe tbody tr th {\n",
       "        vertical-align: top;\n",
       "    }\n",
       "\n",
       "    .dataframe thead th {\n",
       "        text-align: right;\n",
       "    }\n",
       "</style>\n",
       "<table border=\"1\" class=\"dataframe\">\n",
       "  <thead>\n",
       "    <tr style=\"text-align: right;\">\n",
       "      <th></th>\n",
       "      <th>title</th>\n",
       "      <th>category</th>\n",
       "      <th>phq_attendance</th>\n",
       "      <th>date</th>\n",
       "      <th>time_day</th>\n",
       "      <th>day_tem</th>\n",
       "      <th>night_tem</th>\n",
       "      <th>quality_day</th>\n",
       "      <th>quality_night</th>\n",
       "    </tr>\n",
       "  </thead>\n",
       "  <tbody>\n",
       "    <tr>\n",
       "      <th>0</th>\n",
       "      <td>PARTYNEXTDOOR</td>\n",
       "      <td>concerts</td>\n",
       "      <td>2281</td>\n",
       "      <td>2024-10-28</td>\n",
       "      <td>night</td>\n",
       "      <td>14.013333</td>\n",
       "      <td>NaN</td>\n",
       "      <td>0.4</td>\n",
       "      <td>NaN</td>\n",
       "    </tr>\n",
       "    <tr>\n",
       "      <th>1</th>\n",
       "      <td>WET - Europe</td>\n",
       "      <td>festivals</td>\n",
       "      <td>700</td>\n",
       "      <td>2024-10-28</td>\n",
       "      <td>night</td>\n",
       "      <td>14.013333</td>\n",
       "      <td>NaN</td>\n",
       "      <td>0.4</td>\n",
       "      <td>NaN</td>\n",
       "    </tr>\n",
       "    <tr>\n",
       "      <th>2</th>\n",
       "      <td>Georgian National Ballet \"Sukhishvili\"</td>\n",
       "      <td>performing-arts</td>\n",
       "      <td>748</td>\n",
       "      <td>2024-10-28</td>\n",
       "      <td>night</td>\n",
       "      <td>14.013333</td>\n",
       "      <td>NaN</td>\n",
       "      <td>0.4</td>\n",
       "      <td>NaN</td>\n",
       "    </tr>\n",
       "    <tr>\n",
       "      <th>3</th>\n",
       "      <td>Matija</td>\n",
       "      <td>concerts</td>\n",
       "      <td>500</td>\n",
       "      <td>2024-10-27</td>\n",
       "      <td>night</td>\n",
       "      <td>16.232500</td>\n",
       "      <td>14.205</td>\n",
       "      <td>0.7</td>\n",
       "      <td>0.4</td>\n",
       "    </tr>\n",
       "    <tr>\n",
       "      <th>4</th>\n",
       "      <td>STRFKR</td>\n",
       "      <td>concerts</td>\n",
       "      <td>724</td>\n",
       "      <td>2024-10-27</td>\n",
       "      <td>night</td>\n",
       "      <td>16.232500</td>\n",
       "      <td>14.205</td>\n",
       "      <td>0.7</td>\n",
       "      <td>0.4</td>\n",
       "    </tr>\n",
       "  </tbody>\n",
       "</table>\n",
       "</div>"
      ],
      "text/plain": [
       "                                    title         category  phq_attendance  \\\n",
       "0                           PARTYNEXTDOOR         concerts            2281   \n",
       "1                            WET - Europe        festivals             700   \n",
       "2  Georgian National Ballet \"Sukhishvili\"  performing-arts             748   \n",
       "3                                  Matija         concerts             500   \n",
       "4                                  STRFKR         concerts             724   \n",
       "\n",
       "        date time_day    day_tem  night_tem  quality_day  quality_night  \n",
       "0 2024-10-28    night  14.013333        NaN          0.4            NaN  \n",
       "1 2024-10-28    night  14.013333        NaN          0.4            NaN  \n",
       "2 2024-10-28    night  14.013333        NaN          0.4            NaN  \n",
       "3 2024-10-27    night  16.232500     14.205          0.7            0.4  \n",
       "4 2024-10-27    night  16.232500     14.205          0.7            0.4  "
      ]
     },
     "execution_count": 44,
     "metadata": {},
     "output_type": "execute_result"
    }
   ],
   "source": [
    "events_summary['date'] = pd.to_datetime(events_summary['date'])\n",
    "df_weather_forecast['date'] = pd.to_datetime(df_weather_forecast['date'])\n",
    "\n",
    "# Merge\n",
    "weather_and_event = events_summary.merge(df_weather_forecast, how=\"inner\", left_on=\"date\", right_on=\"date\")\n",
    "\n",
    "weather_and_event_final = weather_and_event[['title','category','phq_attendance','date','time_day','day_tem','night_tem','quality_day','quality_night']]\n",
    "weather_and_event_final.head(5)"
   ]
  },
  {
   "cell_type": "markdown",
   "id": "b2bae935",
   "metadata": {},
   "source": [
    "We create a column quality to have the quality of the weather during the event according to the time the event takes place"
   ]
  },
  {
   "cell_type": "code",
   "execution_count": 46,
   "id": "971e868f",
   "metadata": {},
   "outputs": [
    {
     "name": "stderr",
     "output_type": "stream",
     "text": [
      "C:\\Users\\tmafr\\AppData\\Local\\Temp\\ipykernel_26112\\1997963920.py:1: SettingWithCopyWarning: \n",
      "A value is trying to be set on a copy of a slice from a DataFrame.\n",
      "Try using .loc[row_indexer,col_indexer] = value instead\n",
      "\n",
      "See the caveats in the documentation: https://pandas.pydata.org/pandas-docs/stable/user_guide/indexing.html#returning-a-view-versus-a-copy\n",
      "  weather_and_event_final['quality'] = np.where(weather_and_event_final['time_day'] == 'day', weather_and_event_final['quality_day'], weather_and_event_final['quality_night'])\n"
     ]
    },
    {
     "data": {
      "text/html": [
       "<div>\n",
       "<style scoped>\n",
       "    .dataframe tbody tr th:only-of-type {\n",
       "        vertical-align: middle;\n",
       "    }\n",
       "\n",
       "    .dataframe tbody tr th {\n",
       "        vertical-align: top;\n",
       "    }\n",
       "\n",
       "    .dataframe thead th {\n",
       "        text-align: right;\n",
       "    }\n",
       "</style>\n",
       "<table border=\"1\" class=\"dataframe\">\n",
       "  <thead>\n",
       "    <tr style=\"text-align: right;\">\n",
       "      <th></th>\n",
       "      <th>title</th>\n",
       "      <th>category</th>\n",
       "      <th>phq_attendance</th>\n",
       "      <th>date</th>\n",
       "      <th>time_day</th>\n",
       "      <th>day_tem</th>\n",
       "      <th>night_tem</th>\n",
       "      <th>quality_day</th>\n",
       "      <th>quality_night</th>\n",
       "      <th>quality</th>\n",
       "    </tr>\n",
       "  </thead>\n",
       "  <tbody>\n",
       "    <tr>\n",
       "      <th>0</th>\n",
       "      <td>PARTYNEXTDOOR</td>\n",
       "      <td>concerts</td>\n",
       "      <td>2281</td>\n",
       "      <td>2024-10-28</td>\n",
       "      <td>night</td>\n",
       "      <td>14.013333</td>\n",
       "      <td>NaN</td>\n",
       "      <td>0.4</td>\n",
       "      <td>NaN</td>\n",
       "      <td>NaN</td>\n",
       "    </tr>\n",
       "    <tr>\n",
       "      <th>1</th>\n",
       "      <td>WET - Europe</td>\n",
       "      <td>festivals</td>\n",
       "      <td>700</td>\n",
       "      <td>2024-10-28</td>\n",
       "      <td>night</td>\n",
       "      <td>14.013333</td>\n",
       "      <td>NaN</td>\n",
       "      <td>0.4</td>\n",
       "      <td>NaN</td>\n",
       "      <td>NaN</td>\n",
       "    </tr>\n",
       "    <tr>\n",
       "      <th>2</th>\n",
       "      <td>Georgian National Ballet \"Sukhishvili\"</td>\n",
       "      <td>performing-arts</td>\n",
       "      <td>748</td>\n",
       "      <td>2024-10-28</td>\n",
       "      <td>night</td>\n",
       "      <td>14.013333</td>\n",
       "      <td>NaN</td>\n",
       "      <td>0.4</td>\n",
       "      <td>NaN</td>\n",
       "      <td>NaN</td>\n",
       "    </tr>\n",
       "    <tr>\n",
       "      <th>3</th>\n",
       "      <td>Matija</td>\n",
       "      <td>concerts</td>\n",
       "      <td>500</td>\n",
       "      <td>2024-10-27</td>\n",
       "      <td>night</td>\n",
       "      <td>16.232500</td>\n",
       "      <td>14.205</td>\n",
       "      <td>0.7</td>\n",
       "      <td>0.4</td>\n",
       "      <td>0.4</td>\n",
       "    </tr>\n",
       "    <tr>\n",
       "      <th>4</th>\n",
       "      <td>STRFKR</td>\n",
       "      <td>concerts</td>\n",
       "      <td>724</td>\n",
       "      <td>2024-10-27</td>\n",
       "      <td>night</td>\n",
       "      <td>16.232500</td>\n",
       "      <td>14.205</td>\n",
       "      <td>0.7</td>\n",
       "      <td>0.4</td>\n",
       "      <td>0.4</td>\n",
       "    </tr>\n",
       "  </tbody>\n",
       "</table>\n",
       "</div>"
      ],
      "text/plain": [
       "                                    title         category  phq_attendance  \\\n",
       "0                           PARTYNEXTDOOR         concerts            2281   \n",
       "1                            WET - Europe        festivals             700   \n",
       "2  Georgian National Ballet \"Sukhishvili\"  performing-arts             748   \n",
       "3                                  Matija         concerts             500   \n",
       "4                                  STRFKR         concerts             724   \n",
       "\n",
       "        date time_day    day_tem  night_tem  quality_day  quality_night  \\\n",
       "0 2024-10-28    night  14.013333        NaN          0.4            NaN   \n",
       "1 2024-10-28    night  14.013333        NaN          0.4            NaN   \n",
       "2 2024-10-28    night  14.013333        NaN          0.4            NaN   \n",
       "3 2024-10-27    night  16.232500     14.205          0.7            0.4   \n",
       "4 2024-10-27    night  16.232500     14.205          0.7            0.4   \n",
       "\n",
       "   quality  \n",
       "0      NaN  \n",
       "1      NaN  \n",
       "2      NaN  \n",
       "3      0.4  \n",
       "4      0.4  "
      ]
     },
     "execution_count": 46,
     "metadata": {},
     "output_type": "execute_result"
    }
   ],
   "source": [
    "weather_and_event_final['quality'] = np.where(weather_and_event_final['time_day'] == 'day', weather_and_event_final['quality_day'], weather_and_event_final['quality_night'])\n",
    "weather_and_event_final.head(5)"
   ]
  },
  {
   "cell_type": "markdown",
   "id": "fb4c7552-5ee6-4ea0-a1fa-6578f9fc9ca0",
   "metadata": {},
   "source": [
    "## Code | D. Compute relevant statistics | 2 points\n",
    "#### Recommended deadline: from October 18th until October 21st\n",
    "#### Deadline: October 24th at 01:29 pm CET\n",
    "\n",
    "Get together as a group and ask yourselves: what business questions would you like to answer? For example:\n",
    "\n",
    "- On which days are there maximum customer traffic?\n",
    "- On which days do we expect to make more sales?\n",
    "- How much inventory should we get? Why?\n",
    "- Which impact would the weather conditions, local attractions or events have on your business?\n",
    "- How would you like to develop the business in the future?\n",
    "    - Do you wish to expand to new locations?\n",
    "    - Launch a new product?\n",
    "    - Target more elderly or young people?\n",
    "    - Target vegetarian or book-worm people?\n",
    "\n",
    "Compute descriptive statistics that inform you about the future of your business and enable you to answer the business questions.|\n"
   ]
  },
  {
   "cell_type": "markdown",
   "id": "e4a77bd5",
   "metadata": {},
   "source": [
    "We want to compute the expected quantity sold for each event in the following days. We base the statistic on the attendance, the demand and the quality of the weather.\n",
    "\n",
    "**Quantity sold = Attendance * Demand * Quality**\n",
    "\n",
    "The demand is the percentage of people willing to buy orange juice at events at the price we have set. After a thorough market research, we found that figure to be about 20% of people in the city of Berlin."
   ]
  },
  {
   "cell_type": "code",
   "execution_count": 51,
   "id": "eba758c6-6733-4602-a949-b4624647ec5f",
   "metadata": {},
   "outputs": [
    {
     "name": "stderr",
     "output_type": "stream",
     "text": [
      "C:\\Users\\tmafr\\AppData\\Local\\Temp\\ipykernel_26112\\2909280759.py:1: SettingWithCopyWarning: \n",
      "A value is trying to be set on a copy of a slice from a DataFrame.\n",
      "Try using .loc[row_indexer,col_indexer] = value instead\n",
      "\n",
      "See the caveats in the documentation: https://pandas.pydata.org/pandas-docs/stable/user_guide/indexing.html#returning-a-view-versus-a-copy\n",
      "  weather_and_event_final['quantity_sold'] = weather_and_event_final['phq_attendance']* 0.2 *weather_and_event_final['quality']\n"
     ]
    },
    {
     "data": {
      "text/html": [
       "<div>\n",
       "<style scoped>\n",
       "    .dataframe tbody tr th:only-of-type {\n",
       "        vertical-align: middle;\n",
       "    }\n",
       "\n",
       "    .dataframe tbody tr th {\n",
       "        vertical-align: top;\n",
       "    }\n",
       "\n",
       "    .dataframe thead th {\n",
       "        text-align: right;\n",
       "    }\n",
       "</style>\n",
       "<table border=\"1\" class=\"dataframe\">\n",
       "  <thead>\n",
       "    <tr style=\"text-align: right;\">\n",
       "      <th></th>\n",
       "      <th>title</th>\n",
       "      <th>category</th>\n",
       "      <th>phq_attendance</th>\n",
       "      <th>date</th>\n",
       "      <th>time_day</th>\n",
       "      <th>day_tem</th>\n",
       "      <th>night_tem</th>\n",
       "      <th>quality_day</th>\n",
       "      <th>quality_night</th>\n",
       "      <th>quality</th>\n",
       "      <th>quantity_sold</th>\n",
       "    </tr>\n",
       "  </thead>\n",
       "  <tbody>\n",
       "    <tr>\n",
       "      <th>0</th>\n",
       "      <td>PARTYNEXTDOOR</td>\n",
       "      <td>concerts</td>\n",
       "      <td>2281</td>\n",
       "      <td>2024-10-28</td>\n",
       "      <td>night</td>\n",
       "      <td>14.013333</td>\n",
       "      <td>NaN</td>\n",
       "      <td>0.4</td>\n",
       "      <td>NaN</td>\n",
       "      <td>NaN</td>\n",
       "      <td>NaN</td>\n",
       "    </tr>\n",
       "    <tr>\n",
       "      <th>1</th>\n",
       "      <td>WET - Europe</td>\n",
       "      <td>festivals</td>\n",
       "      <td>700</td>\n",
       "      <td>2024-10-28</td>\n",
       "      <td>night</td>\n",
       "      <td>14.013333</td>\n",
       "      <td>NaN</td>\n",
       "      <td>0.4</td>\n",
       "      <td>NaN</td>\n",
       "      <td>NaN</td>\n",
       "      <td>NaN</td>\n",
       "    </tr>\n",
       "    <tr>\n",
       "      <th>2</th>\n",
       "      <td>Georgian National Ballet \"Sukhishvili\"</td>\n",
       "      <td>performing-arts</td>\n",
       "      <td>748</td>\n",
       "      <td>2024-10-28</td>\n",
       "      <td>night</td>\n",
       "      <td>14.013333</td>\n",
       "      <td>NaN</td>\n",
       "      <td>0.4</td>\n",
       "      <td>NaN</td>\n",
       "      <td>NaN</td>\n",
       "      <td>NaN</td>\n",
       "    </tr>\n",
       "    <tr>\n",
       "      <th>3</th>\n",
       "      <td>Matija</td>\n",
       "      <td>concerts</td>\n",
       "      <td>500</td>\n",
       "      <td>2024-10-27</td>\n",
       "      <td>night</td>\n",
       "      <td>16.232500</td>\n",
       "      <td>14.205</td>\n",
       "      <td>0.7</td>\n",
       "      <td>0.4</td>\n",
       "      <td>0.4</td>\n",
       "      <td>40.00</td>\n",
       "    </tr>\n",
       "    <tr>\n",
       "      <th>4</th>\n",
       "      <td>STRFKR</td>\n",
       "      <td>concerts</td>\n",
       "      <td>724</td>\n",
       "      <td>2024-10-27</td>\n",
       "      <td>night</td>\n",
       "      <td>16.232500</td>\n",
       "      <td>14.205</td>\n",
       "      <td>0.7</td>\n",
       "      <td>0.4</td>\n",
       "      <td>0.4</td>\n",
       "      <td>57.92</td>\n",
       "    </tr>\n",
       "  </tbody>\n",
       "</table>\n",
       "</div>"
      ],
      "text/plain": [
       "                                    title         category  phq_attendance  \\\n",
       "0                           PARTYNEXTDOOR         concerts            2281   \n",
       "1                            WET - Europe        festivals             700   \n",
       "2  Georgian National Ballet \"Sukhishvili\"  performing-arts             748   \n",
       "3                                  Matija         concerts             500   \n",
       "4                                  STRFKR         concerts             724   \n",
       "\n",
       "        date time_day    day_tem  night_tem  quality_day  quality_night  \\\n",
       "0 2024-10-28    night  14.013333        NaN          0.4            NaN   \n",
       "1 2024-10-28    night  14.013333        NaN          0.4            NaN   \n",
       "2 2024-10-28    night  14.013333        NaN          0.4            NaN   \n",
       "3 2024-10-27    night  16.232500     14.205          0.7            0.4   \n",
       "4 2024-10-27    night  16.232500     14.205          0.7            0.4   \n",
       "\n",
       "   quality  quantity_sold  \n",
       "0      NaN            NaN  \n",
       "1      NaN            NaN  \n",
       "2      NaN            NaN  \n",
       "3      0.4          40.00  \n",
       "4      0.4          57.92  "
      ]
     },
     "execution_count": 51,
     "metadata": {},
     "output_type": "execute_result"
    }
   ],
   "source": [
    "weather_and_event_final['quantity_sold'] = weather_and_event_final['phq_attendance']* 0.2 *weather_and_event_final['quality']\n",
    "weather_and_event_final.head(5)"
   ]
  },
  {
   "cell_type": "code",
   "execution_count": 85,
   "id": "92d92851-8daa-4e06-88ea-add4af0c3f5b",
   "metadata": {},
   "outputs": [],
   "source": [
    "# Filtering for major autumn/winter events spread out through the city of Berlin\n",
    "events_filtered = events_summary[~events_summary['title'].isin([\"Breitscheidplatz Christmas Market\", \"Gendarmenmarkt Christmas Market\", \"Oktoberfest Berlin\"])]"
   ]
  },
  {
   "cell_type": "code",
   "execution_count": null,
   "id": "e14d8e15-a194-452d-a423-ef1f0fc9fb6f",
   "metadata": {},
   "outputs": [],
   "source": []
  },
  {
   "cell_type": "markdown",
   "id": "7f1a6a40-648f-40f4-a3b9-f8e971297a4b",
   "metadata": {},
   "source": [
    "## Code | E. Clean and clear visualisations  | 3 points\n",
    "#### Deadline: October 24th at 01:29 pm CET\n",
    "\n",
    "Create **at least 3 data visualisations** that clearly state your point and support your decision-making. \n",
    "\n",
    "\n",
    "**Presentation: present each data visualisation and integrate them in your storytelling. Explain why they are relevant for your decision-making.**"
   ]
  },
  {
   "cell_type": "markdown",
   "id": "a50af5fe",
   "metadata": {},
   "source": [
    "### Mean expected day v. night temperate in the next five days"
   ]
  },
  {
   "cell_type": "code",
   "execution_count": 68,
   "id": "cb0dcc38-af9c-42f9-aef2-ffb428cfd04d",
   "metadata": {},
   "outputs": [
    {
     "data": {
      "image/png": "[encoded data removed]",
      "text/plain": [
       "<Figure size 1000x600 with 1 Axes>"
      ]
     },
     "metadata": {},
     "output_type": "display_data"
    }
   ],
   "source": [
    "plt.figure(figsize=(10, 6))\n",
    "plt.plot(weather_and_event_final['date'], weather_and_event_final['day_tem'], marker='o', label='Day temperature', color='red')\n",
    "plt.plot(weather_and_event_final['date'], weather_and_event_final['night_tem'], marker='o', label='Night temperature', color='blue')\n",
    "\n",
    "# Titles and labels\n",
    "plt.title('Day and night temperatures over time')\n",
    "plt.xlabel('')\n",
    "plt.ylabel('Temperature (°C)')\n",
    "plt.xticks(rotation=45)\n",
    "plt.legend()\n",
    "plt.grid()\n",
    "\n",
    "# Show the plot\n",
    "plt.tight_layout()\n",
    "plt.show()"
   ]
  },
  {
   "cell_type": "markdown",
   "id": "f70b2fa7",
   "metadata": {},
   "source": [
    "### Potential quantity of OJ bottles sold at events in the next five days"
   ]
  },
  {
   "cell_type": "code",
   "execution_count": 71,
   "id": "25306485",
   "metadata": {},
   "outputs": [
    {
     "data": {
      "image/png": "[encoded data removed]",
      "text/plain": [
       "<Figure size 1200x600 with 1 Axes>"
      ]
     },
     "metadata": {},
     "output_type": "display_data"
    }
   ],
   "source": [
    "weather_and_event_final = weather_and_event_final.copy()\n",
    "\n",
    "# Drop the row if we do not have the quantity sold\n",
    "weather_and_event_final = weather_and_event_final.dropna(subset=['quantity_sold'])\n",
    "\n",
    "# Group by date and title, then sum quantity_sold\n",
    "quantity_per_day_per_event = weather_and_event_final.groupby(['date', 'category'])['quantity_sold'].sum().reset_index()\n",
    "\n",
    "# Pivot the data\n",
    "pivot_data = quantity_per_day_per_event.pivot(index='date', columns='category', values='quantity_sold').fillna(0)\n",
    "\n",
    "# Stacked bar plot\n",
    "fig, ax = plt.subplots(figsize=(12, 6))\n",
    "pivot_data.plot(kind='bar', stacked=True, ax=ax, colormap='tab20')\n",
    "\n",
    "plt.title('Quantity sold per day')\n",
    "plt.xlabel('')\n",
    "plt.ylabel('Quantity sold (in bottle of 500ml)')\n",
    "\n",
    "# Format x-axis dates\n",
    "x_labels = [d.strftime('%Y-%m-%d') for d in pivot_data.index]\n",
    "plt.xticks(range(len(x_labels)), x_labels, rotation=45, ha='right')\n",
    "\n",
    "plt.legend(title='Category of event')\n",
    "\n",
    "plt.grid(axis='y', alpha=0.7)\n",
    "plt.tight_layout()\n",
    "plt.show()"
   ]
  },
  {
   "cell_type": "markdown",
   "id": "9ff0c5ac-369b-4c93-a1cc-695551915244",
   "metadata": {},
   "source": [
    "### Expected total event attendance within the next 90 days\n",
    "- This data helps us calculate orange purchases for the upcoming months"
   ]
  },
  {
   "cell_type": "code",
   "execution_count": 101,
   "id": "6aebae1b-11d2-4b55-a6dc-a15026deb042",
   "metadata": {},
   "outputs": [
    {
     "name": "stderr",
     "output_type": "stream",
     "text": [
      "C:\\Users\\tmafr\\AppData\\Local\\Temp\\ipykernel_26112\\59122147.py:9: FutureWarning:\n",
      "\n",
      "\n",
      "\n",
      "Passing `palette` without assigning `hue` is deprecated and will be removed in v0.14.0. Assign the `x` variable to `hue` and set `legend=False` for the same effect.\n",
      "\n",
      "\n",
      "C:\\Users\\tmafr\\AppData\\Local\\Temp\\ipykernel_26112\\59122147.py:12: UserWarning:\n",
      "\n",
      "set_ticklabels() should only be used with a fixed number of ticks, i.e. after set_ticks() or using a FixedLocator.\n",
      "\n"
     ]
    },
    {
     "data": {
      "image/png": "[encoded data removed]",
      "text/plain": [
       "<Figure size 1400x700 with 1 Axes>"
      ]
     },
     "metadata": {},
     "output_type": "display_data"
    }
   ],
   "source": [
    "# Group by 'start_date' and sum up 'phq_attendance'\n",
    "attendees_per_day = events_filtered.groupby(\"date\")[\"phq_attendance\"].sum().reset_index()\n",
    "\n",
    "# Set the style of the plot\n",
    "sns.set(style = \"whitegrid\")\n",
    "\n",
    "# Create a larger figure and bar plot with a custom color palette\n",
    "plt.figure(figsize = (14, 7))\n",
    "ax = sns.barplot(x = \"date\", y = \"phq_attendance\", data = attendees_per_day, palette = \"Blues_d\")\n",
    "\n",
    "# Rotate x-axis labels for readability\n",
    "ax.set_xticklabels(ax.get_xticklabels(), rotation=45, ha='right')\n",
    "\n",
    "# Set x and y labels, title, and limits\n",
    "plt.xlabel(\"\")\n",
    "plt.ylabel(\"Number of Attendees\", fontsize=12)\n",
    "plt.title(\"Total Number of Attendees Per Day (90-day range)\", fontsize=16)\n",
    "\n",
    "# Format the x-axis ticks to display every 7th day for readability\n",
    "ax.xaxis.set_major_locator(plt.MaxNLocator(10))  # Adjust this number to control frequency of labels\n",
    "\n",
    "# Add gridlines for the y-axis\n",
    "ax.grid(True, which = \"both\", axis = \"y\", linestyle = \"--\", linewidth=0.5)\n",
    "\n",
    "# Improve layout and show the plot\n",
    "plt.tight_layout()\n",
    "plt.show()"
   ]
  },
  {
   "cell_type": "markdown",
   "id": "a9e4e738-1ff2-4604-8639-ef24ffb05531",
   "metadata": {},
   "source": [
    "### Treemap of top 50 events in the next 90 days\n",
    "- We use this data to help us with partnership outreach, that is, decide which companies to reach out to for collaboration in the future"
   ]
  },
  {
   "cell_type": "code",
   "execution_count": 107,
   "id": "5309938b-02da-429d-bb58-6258095651b9",
   "metadata": {},
   "outputs": [
    {
     "data": {
      "application/vnd.plotly.v1+json": {
       "config": {
        "plotlyServerURL": "https://plot.ly"
       },
       "data": [
        {
         "branchvalues": "total",
         "customdata": [
          [
           "1. DBBL - Alba Berlin vs Angels",
           6374
          ],
          [
           "1. DBBL - Alba Berlin vs Eisvögel Freiburg",
           6106
          ],
          [
           "1. DBBL - Alba Berlin vs Marburg",
           6158
          ],
          [
           "1. DBBL - Alba Berlin vs Panthers Osnabrück",
           6034
          ],
          [
           "1. DBBL - Alba Berlin vs Saarlouis Royals",
           6030
          ],
          [
           "AS Monaco vs Alba Berlin",
           8855
          ],
          [
           "Adler Mannheim vs Eisbaren Berlin",
           9974
          ],
          [
           "Anadolu Efes SK vs Alba Berlin",
           9506
          ],
          [
           "BC Zalgiris Kaunas vs Alba Berlin",
           10126
          ],
          [
           "Basketball Lowen Braunschweig vs Alba Berlin",
           8686
          ],
          [
           "Ben Böhmer",
           6593
          ],
          [
           "Bodo Wartke",
           5268
          ],
          [
           "Bundesliga - Berlin Recycling vs Lüneburg",
           5022
          ],
          [
           "Bundesliga - Olympia Berlin vs Karlsruhe",
           5026
          ],
          [
           "CEV Champions League - Group Stage - Berlin Recycling vs Maaseik",
           5481
          ],
          [
           "Cavalluna | Logen-Seat in der Ticketmaster Suite",
           68000
          ],
          [
           "Cigarettes After Sex",
           9655
          ],
          [
           "Die Fantastischen Vier",
           9379
          ],
          [
           "Dusseldorfer EG vs Eisbaren Berlin",
           9259
          ],
          [
           "ERC Ingolstadt vs Eisbaren Berlin",
           19309
          ],
          [
           "Ehrlich Brothers: Diamonds | Logen-Seat in der Ticketmaster Suite",
           17000
          ],
          [
           "Fischtown Pinguins vs Eisbaren Berlin",
           11140
          ],
          [
           "GENSHIN CONCERT TOUR and Ticketmaster Suite Berlin",
           17000
          ],
          [
           "Iserlohn Roosters vs Eisbaren Berlin",
           20348
          ],
          [
           "Jacob Collier",
           5692
          ],
          [
           "Justice",
           6690
          ],
          [
           "KK Partizan Belgrade vs Alba Berlin",
           8147
          ],
          [
           "Kolner Haie vs Eisbaren Berlin",
           9792
          ],
          [
           "Kygo, Gryffin, and Klangkarussell",
           11651
          ],
          [
           "Lowen Frankfurt vs Eisbaren Berlin",
           18740
          ],
          [
           "Lucia Weihnachtsmarkt",
           50000
          ],
          [
           "MAMMA MIA! - Das Original-Musical",
           16456
          ],
          [
           "Maccabi Tel-Aviv vs Alba Berlin",
           9373
          ],
          [
           "Matthias Reim",
           6577
          ],
          [
           "Mord im Orientexpress",
           12733
          ],
          [
           "Ms. Lauryn Hill, Fugees, and YG Marley",
           11100
          ],
          [
           "NCT DREAM",
           10203
          ],
          [
           "Nena",
           5176
          ],
          [
           "OEB",
           25000
          ],
          [
           "Olimpia Milano vs Alba Berlin",
           9292
          ],
          [
           "Paris Basketball vs Alba Berlin",
           9805
          ],
          [
           "Real Madrid vs Alba Berlin",
           8495
          ],
          [
           "Red Bull Munich vs Eisbaren Berlin",
           9469
          ],
          [
           "SLEEP TOKEN and Bilmuri",
           5383
          ],
          [
           "Schlagernacht des Jahres and Ticketmaster Suite Berlin",
           17000
          ],
          [
           "Schwenninger Wild Wings vs Eisbaren Berlin",
           19319
          ],
          [
           "Ski Aggu",
           6771
          ],
          [
           "Straubing Tigers vs Eisbaren Berlin",
           10968
          ],
          [
           "Ulm Basketball vs Alba Berlin",
           10055
          ],
          [
           "We love MMA 78| Logen-Seat in der Ticketmaster Suite",
           17000
          ]
         ],
         "domain": {
          "x": [
           0,
           1
          ],
          "y": [
           0,
           1
          ]
         },
         "hovertemplate": "<b>Event Title:</b> %{label}<br><b>Attendance:</b> %{value}<br>",
         "ids": [
          "1. DBBL - Alba Berlin vs Angels",
          "1. DBBL - Alba Berlin vs Eisvögel Freiburg",
          "1. DBBL - Alba Berlin vs Marburg",
          "1. DBBL - Alba Berlin vs Panthers Osnabrück",
          "1. DBBL - Alba Berlin vs Saarlouis Royals",
          "AS Monaco vs Alba Berlin",
          "Adler Mannheim vs Eisbaren Berlin",
          "Anadolu Efes SK vs Alba Berlin",
          "BC Zalgiris Kaunas vs Alba Berlin",
          "Basketball Lowen Braunschweig vs Alba Berlin",
          "Ben Böhmer",
          "Bodo Wartke",
          "Bundesliga - Berlin Recycling vs Lüneburg",
          "Bundesliga - Olympia Berlin vs Karlsruhe",
          "CEV Champions League - Group Stage - Berlin Recycling vs Maaseik",
          "Cavalluna | Logen-Seat in der Ticketmaster Suite",
          "Cigarettes After Sex",
          "Die Fantastischen Vier",
          "Dusseldorfer EG vs Eisbaren Berlin",
          "ERC Ingolstadt vs Eisbaren Berlin",
          "Ehrlich Brothers: Diamonds | Logen-Seat in der Ticketmaster Suite",
          "Fischtown Pinguins vs Eisbaren Berlin",
          "GENSHIN CONCERT TOUR and Ticketmaster Suite Berlin",
          "Iserlohn Roosters vs Eisbaren Berlin",
          "Jacob Collier",
          "Justice",
          "KK Partizan Belgrade vs Alba Berlin",
          "Kolner Haie vs Eisbaren Berlin",
          "Kygo, Gryffin, and Klangkarussell",
          "Lowen Frankfurt vs Eisbaren Berlin",
          "Lucia Weihnachtsmarkt",
          "MAMMA MIA! - Das Original-Musical",
          "Maccabi Tel-Aviv vs Alba Berlin",
          "Matthias Reim",
          "Mord im Orientexpress",
          "Ms. Lauryn Hill, Fugees, and YG Marley",
          "NCT DREAM",
          "Nena",
          "OEB",
          "Olimpia Milano vs Alba Berlin",
          "Paris Basketball vs Alba Berlin",
          "Real Madrid vs Alba Berlin",
          "Red Bull Munich vs Eisbaren Berlin",
          "SLEEP TOKEN and Bilmuri",
          "Schlagernacht des Jahres and Ticketmaster Suite Berlin",
          "Schwenninger Wild Wings vs Eisbaren Berlin",
          "Ski Aggu",
          "Straubing Tigers vs Eisbaren Berlin",
          "Ulm Basketball vs Alba Berlin",
          "We love MMA 78| Logen-Seat in der Ticketmaster Suite"
         ],
         "labels": [
          "1. DBBL - Alba Berlin vs Angels",
          "1. DBBL - Alba Berlin vs Eisvögel Freiburg",
          "1. DBBL - Alba Berlin vs Marburg",
          "1. DBBL - Alba Berlin vs Panthers Osnabrück",
          "1. DBBL - Alba Berlin vs Saarlouis Royals",
          "AS Monaco vs Alba Berlin",
          "Adler Mannheim vs Eisbaren Berlin",
          "Anadolu Efes SK vs Alba Berlin",
          "BC Zalgiris Kaunas vs Alba Berlin",
          "Basketball Lowen Braunschweig vs Alba Berlin",
          "Ben Böhmer",
          "Bodo Wartke",
          "Bundesliga - Berlin Recycling vs Lüneburg",
          "Bundesliga - Olympia Berlin vs Karlsruhe",
          "CEV Champions League - Group Stage - Berlin Recycling vs Maaseik",
          "Cavalluna | Logen-Seat in der Ticketmaster Suite",
          "Cigarettes After Sex",
          "Die Fantastischen Vier",
          "Dusseldorfer EG vs Eisbaren Berlin",
          "ERC Ingolstadt vs Eisbaren Berlin",
          "Ehrlich Brothers: Diamonds | Logen-Seat in der Ticketmaster Suite",
          "Fischtown Pinguins vs Eisbaren Berlin",
          "GENSHIN CONCERT TOUR and Ticketmaster Suite Berlin",
          "Iserlohn Roosters vs Eisbaren Berlin",
          "Jacob Collier",
          "Justice",
          "KK Partizan Belgrade vs Alba Berlin",
          "Kolner Haie vs Eisbaren Berlin",
          "Kygo, Gryffin, and Klangkarussell",
          "Lowen Frankfurt vs Eisbaren Berlin",
          "Lucia Weihnachtsmarkt",
          "MAMMA MIA! - Das Original-Musical",
          "Maccabi Tel-Aviv vs Alba Berlin",
          "Matthias Reim",
          "Mord im Orientexpress",
          "Ms. Lauryn Hill, Fugees, and YG Marley",
          "NCT DREAM",
          "Nena",
          "OEB",
          "Olimpia Milano vs Alba Berlin",
          "Paris Basketball vs Alba Berlin",
          "Real Madrid vs Alba Berlin",
          "Red Bull Munich vs Eisbaren Berlin",
          "SLEEP TOKEN and Bilmuri",
          "Schlagernacht des Jahres and Ticketmaster Suite Berlin",
          "Schwenninger Wild Wings vs Eisbaren Berlin",
          "Ski Aggu",
          "Straubing Tigers vs Eisbaren Berlin",
          "Ulm Basketball vs Alba Berlin",
          "We love MMA 78| Logen-Seat in der Ticketmaster Suite"
         ],
         "name": "",
         "parents": [
          "",
          "",
          "",
          "",
          "",
          "",
          "",
          "",
          "",
          "",
          "",
          "",
          "",
          "",
          "",
          "",
          "",
          "",
          "",
          "",
          "",
          "",
          "",
          "",
          "",
          "",
          "",
          "",
          "",
          "",
          "",
          "",
          "",
          "",
          "",
          "",
          "",
          "",
          "",
          "",
          "",
          "",
          "",
          "",
          "",
          "",
          "",
          "",
          "",
          ""
         ],
         "textinfo": "label+value",
         "type": "treemap",
         "values": [
          6374,
          6106,
          6158,
          6034,
          6030,
          8855,
          9974,
          9506,
          10126,
          8686,
          6593,
          5268,
          5022,
          5026,
          5481,
          68000,
          9655,
          9379,
          9259,
          19309,
          17000,
          11140,
          17000,
          20348,
          5692,
          6690,
          8147,
          9792,
          11651,
          18740,
          50000,
          16456,
          9373,
          6577,
          12733,
          11100,
          10203,
          5176,
          25000,
          9292,
          9805,
          8495,
          9469,
          5383,
          17000,
          19319,
          6771,
          10968,
          10055,
          17000
         ]
        }
       ],
       "layout": {
        "autosize": true,
        "legend": {
         "tracegroupgap": 0
        },
        "template": {
         "data": {
          "bar": [
           {
            "error_x": {
             "color": "#2a3f5f"
            },
            "error_y": {
             "color": "#2a3f5f"
            },
            "marker": {
             "line": {
              "color": "#E5ECF6",
              "width": 0.5
             },
             "pattern": {
              "fillmode": "overlay",
              "size": 10,
              "solidity": 0.2
             }
            },
            "type": "bar"
           }
          ],
          "barpolar": [
           {
            "marker": {
             "line": {
              "color": "#E5ECF6",
              "width": 0.5
             },
             "pattern": {
              "fillmode": "overlay",
              "size": 10,
              "solidity": 0.2
             }
            },
            "type": "barpolar"
           }
          ],
          "carpet": [
           {
            "aaxis": {
             "endlinecolor": "#2a3f5f",
             "gridcolor": "white",
             "linecolor": "white",
             "minorgridcolor": "white",
             "startlinecolor": "#2a3f5f"
            },
            "baxis": {
             "endlinecolor": "#2a3f5f",
             "gridcolor": "white",
             "linecolor": "white",
             "minorgridcolor": "white",
             "startlinecolor": "#2a3f5f"
            },
            "type": "carpet"
           }
          ],
          "choropleth": [
           {
            "colorbar": {
             "outlinewidth": 0,
             "ticks": ""
            },
            "type": "choropleth"
           }
          ],
          "contour": [
           {
            "colorbar": {
             "outlinewidth": 0,
             "ticks": ""
            },
            "colorscale": [
             [
              0,
              "#0d0887"
             ],
             [
              0.1111111111111111,
              "#46039f"
             ],
             [
              0.2222222222222222,
              "#7201a8"
             ],
             [
              0.3333333333333333,
              "#9c179e"
             ],
             [
              0.4444444444444444,
              "#bd3786"
             ],
             [
              0.5555555555555556,
              "#d8576b"
             ],
             [
              0.6666666666666666,
              "#ed7953"
             ],
             [
              0.7777777777777778,
              "#fb9f3a"
             ],
             [
              0.8888888888888888,
              "#fdca26"
             ],
             [
              1,
              "#f0f921"
             ]
            ],
            "type": "contour"
           }
          ],
          "contourcarpet": [
           {
            "colorbar": {
             "outlinewidth": 0,
             "ticks": ""
            },
            "type": "contourcarpet"
           }
          ],
          "heatmap": [
           {
            "colorbar": {
             "outlinewidth": 0,
             "ticks": ""
            },
            "colorscale": [
             [
              0,
              "#0d0887"
             ],
             [
              0.1111111111111111,
              "#46039f"
             ],
             [
              0.2222222222222222,
              "#7201a8"
             ],
             [
              0.3333333333333333,
              "#9c179e"
             ],
             [
              0.4444444444444444,
              "#bd3786"
             ],
             [
              0.5555555555555556,
              "#d8576b"
             ],
             [
              0.6666666666666666,
              "#ed7953"
             ],
             [
              0.7777777777777778,
              "#fb9f3a"
             ],
             [
              0.8888888888888888,
              "#fdca26"
             ],
             [
              1,
              "#f0f921"
             ]
            ],
            "type": "heatmap"
           }
          ],
          "heatmapgl": [
           {
            "colorbar": {
             "outlinewidth": 0,
             "ticks": ""
            },
            "colorscale": [
             [
              0,
              "#0d0887"
             ],
             [
              0.1111111111111111,
              "#46039f"
             ],
             [
              0.2222222222222222,
              "#7201a8"
             ],
             [
              0.3333333333333333,
              "#9c179e"
             ],
             [
              0.4444444444444444,
              "#bd3786"
             ],
             [
              0.5555555555555556,
              "#d8576b"
             ],
             [
              0.6666666666666666,
              "#ed7953"
             ],
             [
              0.7777777777777778,
              "#fb9f3a"
             ],
             [
              0.8888888888888888,
              "#fdca26"
             ],
             [
              1,
              "#f0f921"
             ]
            ],
            "type": "heatmapgl"
           }
          ],
          "histogram": [
           {
            "marker": {
             "pattern": {
              "fillmode": "overlay",
              "size": 10,
              "solidity": 0.2
             }
            },
            "type": "histogram"
           }
          ],
          "histogram2d": [
           {
            "colorbar": {
             "outlinewidth": 0,
             "ticks": ""
            },
            "colorscale": [
             [
              0,
              "#0d0887"
             ],
             [
              0.1111111111111111,
              "#46039f"
             ],
             [
              0.2222222222222222,
              "#7201a8"
             ],
             [
              0.3333333333333333,
              "#9c179e"
             ],
             [
              0.4444444444444444,
              "#bd3786"
             ],
             [
              0.5555555555555556,
              "#d8576b"
             ],
             [
              0.6666666666666666,
              "#ed7953"
             ],
             [
              0.7777777777777778,
              "#fb9f3a"
             ],
             [
              0.8888888888888888,
              "#fdca26"
             ],
             [
              1,
              "#f0f921"
             ]
            ],
            "type": "histogram2d"
           }
          ],
          "histogram2dcontour": [
           {
            "colorbar": {
             "outlinewidth": 0,
             "ticks": ""
            },
            "colorscale": [
             [
              0,
              "#0d0887"
             ],
             [
              0.1111111111111111,
              "#46039f"
             ],
             [
              0.2222222222222222,
              "#7201a8"
             ],
             [
              0.3333333333333333,
              "#9c179e"
             ],
             [
              0.4444444444444444,
              "#bd3786"
             ],
             [
              0.5555555555555556,
              "#d8576b"
             ],
             [
              0.6666666666666666,
              "#ed7953"
             ],
             [
              0.7777777777777778,
              "#fb9f3a"
             ],
             [
              0.8888888888888888,
              "#fdca26"
             ],
             [
              1,
              "#f0f921"
             ]
            ],
            "type": "histogram2dcontour"
           }
          ],
          "mesh3d": [
           {
            "colorbar": {
             "outlinewidth": 0,
             "ticks": ""
            },
            "type": "mesh3d"
           }
          ],
          "parcoords": [
           {
            "line": {
             "colorbar": {
              "outlinewidth": 0,
              "ticks": ""
             }
            },
            "type": "parcoords"
           }
          ],
          "pie": [
           {
            "automargin": true,
            "type": "pie"
           }
          ],
          "scatter": [
           {
            "fillpattern": {
             "fillmode": "overlay",
             "size": 10,
             "solidity": 0.2
            },
            "type": "scatter"
           }
          ],
          "scatter3d": [
           {
            "line": {
             "colorbar": {
              "outlinewidth": 0,
              "ticks": ""
             }
            },
            "marker": {
             "colorbar": {
              "outlinewidth": 0,
              "ticks": ""
             }
            },
            "type": "scatter3d"
           }
          ],
          "scattercarpet": [
           {
            "marker": {
             "colorbar": {
              "outlinewidth": 0,
              "ticks": ""
             }
            },
            "type": "scattercarpet"
           }
          ],
          "scattergeo": [
           {
            "marker": {
             "colorbar": {
              "outlinewidth": 0,
              "ticks": ""
             }
            },
            "type": "scattergeo"
           }
          ],
          "scattergl": [
           {
            "marker": {
             "colorbar": {
              "outlinewidth": 0,
              "ticks": ""
             }
            },
            "type": "scattergl"
           }
          ],
          "scattermapbox": [
           {
            "marker": {
             "colorbar": {
              "outlinewidth": 0,
              "ticks": ""
             }
            },
            "type": "scattermapbox"
           }
          ],
          "scatterpolar": [
           {
            "marker": {
             "colorbar": {
              "outlinewidth": 0,
              "ticks": ""
             }
            },
            "type": "scatterpolar"
           }
          ],
          "scatterpolargl": [
           {
            "marker": {
             "colorbar": {
              "outlinewidth": 0,
              "ticks": ""
             }
            },
            "type": "scatterpolargl"
           }
          ],
          "scatterternary": [
           {
            "marker": {
             "colorbar": {
              "outlinewidth": 0,
              "ticks": ""
             }
            },
            "type": "scatterternary"
           }
          ],
          "surface": [
           {
            "colorbar": {
             "outlinewidth": 0,
             "ticks": ""
            },
            "colorscale": [
             [
              0,
              "#0d0887"
             ],
             [
              0.1111111111111111,
              "#46039f"
             ],
             [
              0.2222222222222222,
              "#7201a8"
             ],
             [
              0.3333333333333333,
              "#9c179e"
             ],
             [
              0.4444444444444444,
              "#bd3786"
             ],
             [
              0.5555555555555556,
              "#d8576b"
             ],
             [
              0.6666666666666666,
              "#ed7953"
             ],
             [
              0.7777777777777778,
              "#fb9f3a"
             ],
             [
              0.8888888888888888,
              "#fdca26"
             ],
             [
              1,
              "#f0f921"
             ]
            ],
            "type": "surface"
           }
          ],
          "table": [
           {
            "cells": {
             "fill": {
              "color": "#EBF0F8"
             },
             "line": {
              "color": "white"
             }
            },
            "header": {
             "fill": {
              "color": "#C8D4E3"
             },
             "line": {
              "color": "white"
             }
            },
            "type": "table"
           }
          ]
         },
         "layout": {
          "annotationdefaults": {
           "arrowcolor": "#2a3f5f",
           "arrowhead": 0,
           "arrowwidth": 1
          },
          "autotypenumbers": "strict",
          "coloraxis": {
           "colorbar": {
            "outlinewidth": 0,
            "ticks": ""
           }
          },
          "colorscale": {
           "diverging": [
            [
             0,
             "#8e0152"
            ],
            [
             0.1,
             "#c51b7d"
            ],
            [
             0.2,
             "#de77ae"
            ],
            [
             0.3,
             "#f1b6da"
            ],
            [
             0.4,
             "#fde0ef"
            ],
            [
             0.5,
             "#f7f7f7"
            ],
            [
             0.6,
             "#e6f5d0"
            ],
            [
             0.7,
             "#b8e186"
            ],
            [
             0.8,
             "#7fbc41"
            ],
            [
             0.9,
             "#4d9221"
            ],
            [
             1,
             "#276419"
            ]
           ],
           "sequential": [
            [
             0,
             "#0d0887"
            ],
            [
             0.1111111111111111,
             "#46039f"
            ],
            [
             0.2222222222222222,
             "#7201a8"
            ],
            [
             0.3333333333333333,
             "#9c179e"
            ],
            [
             0.4444444444444444,
             "#bd3786"
            ],
            [
             0.5555555555555556,
             "#d8576b"
            ],
            [
             0.6666666666666666,
             "#ed7953"
            ],
            [
             0.7777777777777778,
             "#fb9f3a"
            ],
            [
             0.8888888888888888,
             "#fdca26"
            ],
            [
             1,
             "#f0f921"
            ]
           ],
           "sequentialminus": [
            [
             0,
             "#0d0887"
            ],
            [
             0.1111111111111111,
             "#46039f"
            ],
            [
             0.2222222222222222,
             "#7201a8"
            ],
            [
             0.3333333333333333,
             "#9c179e"
            ],
            [
             0.4444444444444444,
             "#bd3786"
            ],
            [
             0.5555555555555556,
             "#d8576b"
            ],
            [
             0.6666666666666666,
             "#ed7953"
            ],
            [
             0.7777777777777778,
             "#fb9f3a"
            ],
            [
             0.8888888888888888,
             "#fdca26"
            ],
            [
             1,
             "#f0f921"
            ]
           ]
          },
          "colorway": [
           "#636efa",
           "#EF553B",
           "#00cc96",
           "#ab63fa",
           "#FFA15A",
           "#19d3f3",
           "#FF6692",
           "#B6E880",
           "#FF97FF",
           "#FECB52"
          ],
          "font": {
           "color": "#2a3f5f"
          },
          "geo": {
           "bgcolor": "white",
           "lakecolor": "white",
           "landcolor": "#E5ECF6",
           "showlakes": true,
           "showland": true,
           "subunitcolor": "white"
          },
          "hoverlabel": {
           "align": "left"
          },
          "hovermode": "closest",
          "mapbox": {
           "style": "light"
          },
          "paper_bgcolor": "white",
          "plot_bgcolor": "#E5ECF6",
          "polar": {
           "angularaxis": {
            "gridcolor": "white",
            "linecolor": "white",
            "ticks": ""
           },
           "bgcolor": "#E5ECF6",
           "radialaxis": {
            "gridcolor": "white",
            "linecolor": "white",
            "ticks": ""
           }
          },
          "scene": {
           "xaxis": {
            "backgroundcolor": "#E5ECF6",
            "gridcolor": "white",
            "gridwidth": 2,
            "linecolor": "white",
            "showbackground": true,
            "ticks": "",
            "zerolinecolor": "white"
           },
           "yaxis": {
            "backgroundcolor": "#E5ECF6",
            "gridcolor": "white",
            "gridwidth": 2,
            "linecolor": "white",
            "showbackground": true,
            "ticks": "",
            "zerolinecolor": "white"
           },
           "zaxis": {
            "backgroundcolor": "#E5ECF6",
            "gridcolor": "white",
            "gridwidth": 2,
            "linecolor": "white",
            "showbackground": true,
            "ticks": "",
            "zerolinecolor": "white"
           }
          },
          "shapedefaults": {
           "line": {
            "color": "#2a3f5f"
           }
          },
          "ternary": {
           "aaxis": {
            "gridcolor": "white",
            "linecolor": "white",
            "ticks": ""
           },
           "baxis": {
            "gridcolor": "white",
            "linecolor": "white",
            "ticks": ""
           },
           "bgcolor": "#E5ECF6",
           "caxis": {
            "gridcolor": "white",
            "linecolor": "white",
            "ticks": ""
           }
          },
          "title": {
           "x": 0.05
          },
          "xaxis": {
           "automargin": true,
           "gridcolor": "white",
           "linecolor": "white",
           "ticks": "",
           "title": {
            "standoff": 15
           },
           "zerolinecolor": "white",
           "zerolinewidth": 2
          },
          "yaxis": {
           "automargin": true,
           "gridcolor": "white",
           "linecolor": "white",
           "ticks": "",
           "title": {
            "standoff": 15
           },
           "zerolinecolor": "white",
           "zerolinewidth": 2
          }
         }
        },
        "title": {
         "text": "Treemap of top 50 events in the next 90 days"
        }
       }
      },
      "image/png": "[encoded data removed]",
      "text/html": [
       "<div>                            <div id=\"d6f4f7c3-6e0c-4100-92ac-4108e26cb8c2\" class=\"plotly-graph-div\" style=\"height:525px; width:100%;\"></div>            <script type=\"text/javascript\">                require([\"plotly\"], function(Plotly) {                    window.PLOTLYENV=window.PLOTLYENV || {};                                    if (document.getElementById(\"d6f4f7c3-6e0c-4100-92ac-4108e26cb8c2\")) {                    Plotly.newPlot(                        \"d6f4f7c3-6e0c-4100-92ac-4108e26cb8c2\",                        [{\"branchvalues\":\"total\",\"customdata\":[[\"1. DBBL - Alba Berlin vs Angels\",6374],[\"1. DBBL - Alba Berlin vs Eisv\\u00f6gel Freiburg\",6106],[\"1. DBBL - Alba Berlin vs Marburg\",6158],[\"1. DBBL - Alba Berlin vs Panthers Osnabr\\u00fcck\",6034],[\"1. DBBL - Alba Berlin vs Saarlouis Royals\",6030],[\"AS Monaco vs Alba Berlin\",8855],[\"Adler Mannheim vs Eisbaren Berlin\",9974],[\"Anadolu Efes SK vs Alba Berlin\",9506],[\"BC Zalgiris Kaunas vs Alba Berlin\",10126],[\"Basketball Lowen Braunschweig vs Alba Berlin\",8686],[\"Ben B\\u00f6hmer\",6593],[\"Bodo Wartke\",5268],[\"Bundesliga - Berlin Recycling vs L\\u00fcneburg\",5022],[\"Bundesliga - Olympia Berlin vs Karlsruhe\",5026],[\"CEV Champions League - Group Stage - Berlin Recycling vs Maaseik\",5481],[\"Cavalluna | Logen-Seat in der Ticketmaster Suite\",68000],[\"Cigarettes After Sex\",9655],[\"Die Fantastischen Vier\",9379],[\"Dusseldorfer EG vs Eisbaren Berlin\",9259],[\"ERC Ingolstadt vs Eisbaren Berlin\",19309],[\"Ehrlich Brothers: Diamonds | Logen-Seat in der Ticketmaster Suite\",17000],[\"Fischtown Pinguins vs Eisbaren Berlin\",11140],[\"GENSHIN CONCERT TOUR and Ticketmaster Suite Berlin\",17000],[\"Iserlohn Roosters vs Eisbaren Berlin\",20348],[\"Jacob Collier\",5692],[\"Justice\",6690],[\"KK Partizan Belgrade vs Alba Berlin\",8147],[\"Kolner Haie vs Eisbaren Berlin\",9792],[\"Kygo, Gryffin, and Klangkarussell\",11651],[\"Lowen Frankfurt vs Eisbaren Berlin\",18740],[\"Lucia Weihnachtsmarkt\",50000],[\"MAMMA MIA! - Das Original-Musical\",16456],[\"Maccabi Tel-Aviv vs Alba Berlin\",9373],[\"Matthias Reim\",6577],[\"Mord im Orientexpress\",12733],[\"Ms. Lauryn Hill, Fugees, and YG Marley\",11100],[\"NCT DREAM\",10203],[\"Nena\",5176],[\"OEB\",25000],[\"Olimpia Milano vs Alba Berlin\",9292],[\"Paris Basketball vs Alba Berlin\",9805],[\"Real Madrid vs Alba Berlin\",8495],[\"Red Bull Munich vs Eisbaren Berlin\",9469],[\"SLEEP TOKEN and Bilmuri\",5383],[\"Schlagernacht des Jahres and Ticketmaster Suite Berlin\",17000],[\"Schwenninger Wild Wings vs Eisbaren Berlin\",19319],[\"Ski Aggu\",6771],[\"Straubing Tigers vs Eisbaren Berlin\",10968],[\"Ulm Basketball vs Alba Berlin\",10055],[\"We love MMA 78| Logen-Seat in der Ticketmaster Suite\",17000]],\"domain\":{\"x\":[0.0,1.0],\"y\":[0.0,1.0]},\"hovertemplate\":\"\\u003cb\\u003eEvent Title:\\u003c\\u002fb\\u003e %{label}\\u003cbr\\u003e\\u003cb\\u003eAttendance:\\u003c\\u002fb\\u003e %{value}\\u003cbr\\u003e\",\"ids\":[\"1. DBBL - Alba Berlin vs Angels\",\"1. DBBL - Alba Berlin vs Eisv\\u00f6gel Freiburg\",\"1. DBBL - Alba Berlin vs Marburg\",\"1. DBBL - Alba Berlin vs Panthers Osnabr\\u00fcck\",\"1. DBBL - Alba Berlin vs Saarlouis Royals\",\"AS Monaco vs Alba Berlin\",\"Adler Mannheim vs Eisbaren Berlin\",\"Anadolu Efes SK vs Alba Berlin\",\"BC Zalgiris Kaunas vs Alba Berlin\",\"Basketball Lowen Braunschweig vs Alba Berlin\",\"Ben B\\u00f6hmer\",\"Bodo Wartke\",\"Bundesliga - Berlin Recycling vs L\\u00fcneburg\",\"Bundesliga - Olympia Berlin vs Karlsruhe\",\"CEV Champions League - Group Stage - Berlin Recycling vs Maaseik\",\"Cavalluna | Logen-Seat in der Ticketmaster Suite\",\"Cigarettes After Sex\",\"Die Fantastischen Vier\",\"Dusseldorfer EG vs Eisbaren Berlin\",\"ERC Ingolstadt vs Eisbaren Berlin\",\"Ehrlich Brothers: Diamonds | Logen-Seat in der Ticketmaster Suite\",\"Fischtown Pinguins vs Eisbaren Berlin\",\"GENSHIN CONCERT TOUR and Ticketmaster Suite Berlin\",\"Iserlohn Roosters vs Eisbaren Berlin\",\"Jacob Collier\",\"Justice\",\"KK Partizan Belgrade vs Alba Berlin\",\"Kolner Haie vs Eisbaren Berlin\",\"Kygo, Gryffin, and Klangkarussell\",\"Lowen Frankfurt vs Eisbaren Berlin\",\"Lucia Weihnachtsmarkt\",\"MAMMA MIA! - Das Original-Musical\",\"Maccabi Tel-Aviv vs Alba Berlin\",\"Matthias Reim\",\"Mord im Orientexpress\",\"Ms. Lauryn Hill, Fugees, and YG Marley\",\"NCT DREAM\",\"Nena\",\"OEB\",\"Olimpia Milano vs Alba Berlin\",\"Paris Basketball vs Alba Berlin\",\"Real Madrid vs Alba Berlin\",\"Red Bull Munich vs Eisbaren Berlin\",\"SLEEP TOKEN and Bilmuri\",\"Schlagernacht des Jahres and Ticketmaster Suite Berlin\",\"Schwenninger Wild Wings vs Eisbaren Berlin\",\"Ski Aggu\",\"Straubing Tigers vs Eisbaren Berlin\",\"Ulm Basketball vs Alba Berlin\",\"We love MMA 78| Logen-Seat in der Ticketmaster Suite\"],\"labels\":[\"1. DBBL - Alba Berlin vs Angels\",\"1. DBBL - Alba Berlin vs Eisv\\u00f6gel Freiburg\",\"1. DBBL - Alba Berlin vs Marburg\",\"1. DBBL - Alba Berlin vs Panthers Osnabr\\u00fcck\",\"1. DBBL - Alba Berlin vs Saarlouis Royals\",\"AS Monaco vs Alba Berlin\",\"Adler Mannheim vs Eisbaren Berlin\",\"Anadolu Efes SK vs Alba Berlin\",\"BC Zalgiris Kaunas vs Alba Berlin\",\"Basketball Lowen Braunschweig vs Alba Berlin\",\"Ben B\\u00f6hmer\",\"Bodo Wartke\",\"Bundesliga - Berlin Recycling vs L\\u00fcneburg\",\"Bundesliga - Olympia Berlin vs Karlsruhe\",\"CEV Champions League - Group Stage - Berlin Recycling vs Maaseik\",\"Cavalluna | Logen-Seat in der Ticketmaster Suite\",\"Cigarettes After Sex\",\"Die Fantastischen Vier\",\"Dusseldorfer EG vs Eisbaren Berlin\",\"ERC Ingolstadt vs Eisbaren Berlin\",\"Ehrlich Brothers: Diamonds | Logen-Seat in der Ticketmaster Suite\",\"Fischtown Pinguins vs Eisbaren Berlin\",\"GENSHIN CONCERT TOUR and Ticketmaster Suite Berlin\",\"Iserlohn Roosters vs Eisbaren Berlin\",\"Jacob Collier\",\"Justice\",\"KK Partizan Belgrade vs Alba Berlin\",\"Kolner Haie vs Eisbaren Berlin\",\"Kygo, Gryffin, and Klangkarussell\",\"Lowen Frankfurt vs Eisbaren Berlin\",\"Lucia Weihnachtsmarkt\",\"MAMMA MIA! - Das Original-Musical\",\"Maccabi Tel-Aviv vs Alba Berlin\",\"Matthias Reim\",\"Mord im Orientexpress\",\"Ms. Lauryn Hill, Fugees, and YG Marley\",\"NCT DREAM\",\"Nena\",\"OEB\",\"Olimpia Milano vs Alba Berlin\",\"Paris Basketball vs Alba Berlin\",\"Real Madrid vs Alba Berlin\",\"Red Bull Munich vs Eisbaren Berlin\",\"SLEEP TOKEN and Bilmuri\",\"Schlagernacht des Jahres and Ticketmaster Suite Berlin\",\"Schwenninger Wild Wings vs Eisbaren Berlin\",\"Ski Aggu\",\"Straubing Tigers vs Eisbaren Berlin\",\"Ulm Basketball vs Alba Berlin\",\"We love MMA 78| Logen-Seat in der Ticketmaster Suite\"],\"name\":\"\",\"parents\":[\"\",\"\",\"\",\"\",\"\",\"\",\"\",\"\",\"\",\"\",\"\",\"\",\"\",\"\",\"\",\"\",\"\",\"\",\"\",\"\",\"\",\"\",\"\",\"\",\"\",\"\",\"\",\"\",\"\",\"\",\"\",\"\",\"\",\"\",\"\",\"\",\"\",\"\",\"\",\"\",\"\",\"\",\"\",\"\",\"\",\"\",\"\",\"\",\"\",\"\"],\"values\":[6374,6106,6158,6034,6030,8855,9974,9506,10126,8686,6593,5268,5022,5026,5481,68000,9655,9379,9259,19309,17000,11140,17000,20348,5692,6690,8147,9792,11651,18740,50000,16456,9373,6577,12733,11100,10203,5176,25000,9292,9805,8495,9469,5383,17000,19319,6771,10968,10055,17000],\"type\":\"treemap\",\"textinfo\":\"label+value\"}],                        {\"template\":{\"data\":{\"histogram2dcontour\":[{\"type\":\"histogram2dcontour\",\"colorbar\":{\"outlinewidth\":0,\"ticks\":\"\"},\"colorscale\":[[0.0,\"#0d0887\"],[0.1111111111111111,\"#46039f\"],[0.2222222222222222,\"#7201a8\"],[0.3333333333333333,\"#9c179e\"],[0.4444444444444444,\"#bd3786\"],[0.5555555555555556,\"#d8576b\"],[0.6666666666666666,\"#ed7953\"],[0.7777777777777778,\"#fb9f3a\"],[0.8888888888888888,\"#fdca26\"],[1.0,\"#f0f921\"]]}],\"choropleth\":[{\"type\":\"choropleth\",\"colorbar\":{\"outlinewidth\":0,\"ticks\":\"\"}}],\"histogram2d\":[{\"type\":\"histogram2d\",\"colorbar\":{\"outlinewidth\":0,\"ticks\":\"\"},\"colorscale\":[[0.0,\"#0d0887\"],[0.1111111111111111,\"#46039f\"],[0.2222222222222222,\"#7201a8\"],[0.3333333333333333,\"#9c179e\"],[0.4444444444444444,\"#bd3786\"],[0.5555555555555556,\"#d8576b\"],[0.6666666666666666,\"#ed7953\"],[0.7777777777777778,\"#fb9f3a\"],[0.8888888888888888,\"#fdca26\"],[1.0,\"#f0f921\"]]}],\"heatmap\":[{\"type\":\"heatmap\",\"colorbar\":{\"outlinewidth\":0,\"ticks\":\"\"},\"colorscale\":[[0.0,\"#0d0887\"],[0.1111111111111111,\"#46039f\"],[0.2222222222222222,\"#7201a8\"],[0.3333333333333333,\"#9c179e\"],[0.4444444444444444,\"#bd3786\"],[0.5555555555555556,\"#d8576b\"],[0.6666666666666666,\"#ed7953\"],[0.7777777777777778,\"#fb9f3a\"],[0.8888888888888888,\"#fdca26\"],[1.0,\"#f0f921\"]]}],\"heatmapgl\":[{\"type\":\"heatmapgl\",\"colorbar\":{\"outlinewidth\":0,\"ticks\":\"\"},\"colorscale\":[[0.0,\"#0d0887\"],[0.1111111111111111,\"#46039f\"],[0.2222222222222222,\"#7201a8\"],[0.3333333333333333,\"#9c179e\"],[0.4444444444444444,\"#bd3786\"],[0.5555555555555556,\"#d8576b\"],[0.6666666666666666,\"#ed7953\"],[0.7777777777777778,\"#fb9f3a\"],[0.8888888888888888,\"#fdca26\"],[1.0,\"#f0f921\"]]}],\"contourcarpet\":[{\"type\":\"contourcarpet\",\"colorbar\":{\"outlinewidth\":0,\"ticks\":\"\"}}],\"contour\":[{\"type\":\"contour\",\"colorbar\":{\"outlinewidth\":0,\"ticks\":\"\"},\"colorscale\":[[0.0,\"#0d0887\"],[0.1111111111111111,\"#46039f\"],[0.2222222222222222,\"#7201a8\"],[0.3333333333333333,\"#9c179e\"],[0.4444444444444444,\"#bd3786\"],[0.5555555555555556,\"#d8576b\"],[0.6666666666666666,\"#ed7953\"],[0.7777777777777778,\"#fb9f3a\"],[0.8888888888888888,\"#fdca26\"],[1.0,\"#f0f921\"]]}],\"surface\":[{\"type\":\"surface\",\"colorbar\":{\"outlinewidth\":0,\"ticks\":\"\"},\"colorscale\":[[0.0,\"#0d0887\"],[0.1111111111111111,\"#46039f\"],[0.2222222222222222,\"#7201a8\"],[0.3333333333333333,\"#9c179e\"],[0.4444444444444444,\"#bd3786\"],[0.5555555555555556,\"#d8576b\"],[0.6666666666666666,\"#ed7953\"],[0.7777777777777778,\"#fb9f3a\"],[0.8888888888888888,\"#fdca26\"],[1.0,\"#f0f921\"]]}],\"mesh3d\":[{\"type\":\"mesh3d\",\"colorbar\":{\"outlinewidth\":0,\"ticks\":\"\"}}],\"scatter\":[{\"fillpattern\":{\"fillmode\":\"overlay\",\"size\":10,\"solidity\":0.2},\"type\":\"scatter\"}],\"parcoords\":[{\"type\":\"parcoords\",\"line\":{\"colorbar\":{\"outlinewidth\":0,\"ticks\":\"\"}}}],\"scatterpolargl\":[{\"type\":\"scatterpolargl\",\"marker\":{\"colorbar\":{\"outlinewidth\":0,\"ticks\":\"\"}}}],\"bar\":[{\"error_x\":{\"color\":\"#2a3f5f\"},\"error_y\":{\"color\":\"#2a3f5f\"},\"marker\":{\"line\":{\"color\":\"#E5ECF6\",\"width\":0.5},\"pattern\":{\"fillmode\":\"overlay\",\"size\":10,\"solidity\":0.2}},\"type\":\"bar\"}],\"scattergeo\":[{\"type\":\"scattergeo\",\"marker\":{\"colorbar\":{\"outlinewidth\":0,\"ticks\":\"\"}}}],\"scatterpolar\":[{\"type\":\"scatterpolar\",\"marker\":{\"colorbar\":{\"outlinewidth\":0,\"ticks\":\"\"}}}],\"histogram\":[{\"marker\":{\"pattern\":{\"fillmode\":\"overlay\",\"size\":10,\"solidity\":0.2}},\"type\":\"histogram\"}],\"scattergl\":[{\"type\":\"scattergl\",\"marker\":{\"colorbar\":{\"outlinewidth\":0,\"ticks\":\"\"}}}],\"scatter3d\":[{\"type\":\"scatter3d\",\"line\":{\"colorbar\":{\"outlinewidth\":0,\"ticks\":\"\"}},\"marker\":{\"colorbar\":{\"outlinewidth\":0,\"ticks\":\"\"}}}],\"scattermapbox\":[{\"type\":\"scattermapbox\",\"marker\":{\"colorbar\":{\"outlinewidth\":0,\"ticks\":\"\"}}}],\"scatterternary\":[{\"type\":\"scatterternary\",\"marker\":{\"colorbar\":{\"outlinewidth\":0,\"ticks\":\"\"}}}],\"scattercarpet\":[{\"type\":\"scattercarpet\",\"marker\":{\"colorbar\":{\"outlinewidth\":0,\"ticks\":\"\"}}}],\"carpet\":[{\"aaxis\":{\"endlinecolor\":\"#2a3f5f\",\"gridcolor\":\"white\",\"linecolor\":\"white\",\"minorgridcolor\":\"white\",\"startlinecolor\":\"#2a3f5f\"},\"baxis\":{\"endlinecolor\":\"#2a3f5f\",\"gridcolor\":\"white\",\"linecolor\":\"white\",\"minorgridcolor\":\"white\",\"startlinecolor\":\"#2a3f5f\"},\"type\":\"carpet\"}],\"table\":[{\"cells\":{\"fill\":{\"color\":\"#EBF0F8\"},\"line\":{\"color\":\"white\"}},\"header\":{\"fill\":{\"color\":\"#C8D4E3\"},\"line\":{\"color\":\"white\"}},\"type\":\"table\"}],\"barpolar\":[{\"marker\":{\"line\":{\"color\":\"#E5ECF6\",\"width\":0.5},\"pattern\":{\"fillmode\":\"overlay\",\"size\":10,\"solidity\":0.2}},\"type\":\"barpolar\"}],\"pie\":[{\"automargin\":true,\"type\":\"pie\"}]},\"layout\":{\"autotypenumbers\":\"strict\",\"colorway\":[\"#636efa\",\"#EF553B\",\"#00cc96\",\"#ab63fa\",\"#FFA15A\",\"#19d3f3\",\"#FF6692\",\"#B6E880\",\"#FF97FF\",\"#FECB52\"],\"font\":{\"color\":\"#2a3f5f\"},\"hovermode\":\"closest\",\"hoverlabel\":{\"align\":\"left\"},\"paper_bgcolor\":\"white\",\"plot_bgcolor\":\"#E5ECF6\",\"polar\":{\"bgcolor\":\"#E5ECF6\",\"angularaxis\":{\"gridcolor\":\"white\",\"linecolor\":\"white\",\"ticks\":\"\"},\"radialaxis\":{\"gridcolor\":\"white\",\"linecolor\":\"white\",\"ticks\":\"\"}},\"ternary\":{\"bgcolor\":\"#E5ECF6\",\"aaxis\":{\"gridcolor\":\"white\",\"linecolor\":\"white\",\"ticks\":\"\"},\"baxis\":{\"gridcolor\":\"white\",\"linecolor\":\"white\",\"ticks\":\"\"},\"caxis\":{\"gridcolor\":\"white\",\"linecolor\":\"white\",\"ticks\":\"\"}},\"coloraxis\":{\"colorbar\":{\"outlinewidth\":0,\"ticks\":\"\"}},\"colorscale\":{\"sequential\":[[0.0,\"#0d0887\"],[0.1111111111111111,\"#46039f\"],[0.2222222222222222,\"#7201a8\"],[0.3333333333333333,\"#9c179e\"],[0.4444444444444444,\"#bd3786\"],[0.5555555555555556,\"#d8576b\"],[0.6666666666666666,\"#ed7953\"],[0.7777777777777778,\"#fb9f3a\"],[0.8888888888888888,\"#fdca26\"],[1.0,\"#f0f921\"]],\"sequentialminus\":[[0.0,\"#0d0887\"],[0.1111111111111111,\"#46039f\"],[0.2222222222222222,\"#7201a8\"],[0.3333333333333333,\"#9c179e\"],[0.4444444444444444,\"#bd3786\"],[0.5555555555555556,\"#d8576b\"],[0.6666666666666666,\"#ed7953\"],[0.7777777777777778,\"#fb9f3a\"],[0.8888888888888888,\"#fdca26\"],[1.0,\"#f0f921\"]],\"diverging\":[[0,\"#8e0152\"],[0.1,\"#c51b7d\"],[0.2,\"#de77ae\"],[0.3,\"#f1b6da\"],[0.4,\"#fde0ef\"],[0.5,\"#f7f7f7\"],[0.6,\"#e6f5d0\"],[0.7,\"#b8e186\"],[0.8,\"#7fbc41\"],[0.9,\"#4d9221\"],[1,\"#276419\"]]},\"xaxis\":{\"gridcolor\":\"white\",\"linecolor\":\"white\",\"ticks\":\"\",\"title\":{\"standoff\":15},\"zerolinecolor\":\"white\",\"automargin\":true,\"zerolinewidth\":2},\"yaxis\":{\"gridcolor\":\"white\",\"linecolor\":\"white\",\"ticks\":\"\",\"title\":{\"standoff\":15},\"zerolinecolor\":\"white\",\"automargin\":true,\"zerolinewidth\":2},\"scene\":{\"xaxis\":{\"backgroundcolor\":\"#E5ECF6\",\"gridcolor\":\"white\",\"linecolor\":\"white\",\"showbackground\":true,\"ticks\":\"\",\"zerolinecolor\":\"white\",\"gridwidth\":2},\"yaxis\":{\"backgroundcolor\":\"#E5ECF6\",\"gridcolor\":\"white\",\"linecolor\":\"white\",\"showbackground\":true,\"ticks\":\"\",\"zerolinecolor\":\"white\",\"gridwidth\":2},\"zaxis\":{\"backgroundcolor\":\"#E5ECF6\",\"gridcolor\":\"white\",\"linecolor\":\"white\",\"showbackground\":true,\"ticks\":\"\",\"zerolinecolor\":\"white\",\"gridwidth\":2}},\"shapedefaults\":{\"line\":{\"color\":\"#2a3f5f\"}},\"annotationdefaults\":{\"arrowcolor\":\"#2a3f5f\",\"arrowhead\":0,\"arrowwidth\":1},\"geo\":{\"bgcolor\":\"white\",\"landcolor\":\"#E5ECF6\",\"subunitcolor\":\"white\",\"showland\":true,\"showlakes\":true,\"lakecolor\":\"white\"},\"title\":{\"x\":0.05},\"mapbox\":{\"style\":\"light\"}}},\"legend\":{\"tracegroupgap\":0},\"title\":{\"text\":\"Treemap of top 50 events in the next 90 days\"}},                        {\"responsive\": true}                    ).then(function(){\n",
       "                            \n",
       "var gd = document.getElementById('d6f4f7c3-6e0c-4100-92ac-4108e26cb8c2');\n",
       "var x = new MutationObserver(function (mutations, observer) {{\n",
       "        var display = window.getComputedStyle(gd).display;\n",
       "        if (!display || display === 'none') {{\n",
       "            console.log([gd, 'removed!']);\n",
       "            Plotly.purge(gd);\n",
       "            observer.disconnect();\n",
       "        }}\n",
       "}});\n",
       "\n",
       "// Listen for the removal of the full notebook cells\n",
       "var notebookContainer = gd.closest('#notebook-container');\n",
       "if (notebookContainer) {{\n",
       "    x.observe(notebookContainer, {childList: true});\n",
       "}}\n",
       "\n",
       "// Listen for the clearing of the current output cell\n",
       "var outputEl = gd.closest('.output');\n",
       "if (outputEl) {{\n",
       "    x.observe(outputEl, {childList: true});\n",
       "}}\n",
       "\n",
       "                        })                };                });            </script>        </div>"
      ]
     },
     "metadata": {},
     "output_type": "display_data"
    }
   ],
   "source": [
    "# Group by 'title' and sum 'phq_attendance'\n",
    "attendees_per_title = events_filtered.groupby(\"title\")[\"phq_attendance\"].sum().reset_index()\n",
    "\n",
    "# Sort by 'phq_attendance' and keep only the top 50\n",
    "attendees_per_title_top50 = attendees_per_title.sort_values(by = \"phq_attendance\", ascending=False).head(50)\n",
    "\n",
    "# Create a treemap with custom hover labels\n",
    "fig = px.treemap(\n",
    "    attendees_per_title_top50, \n",
    "    path = [\"title\"],  # Group by title\n",
    "    values = \"phq_attendance\",  # Size of each block based on total attendees\n",
    "    title = \"Treemap of top 50 events in the next 90 days\",\n",
    "    hover_data = {\"title\": False, \"phq_attendance\": True})\n",
    "\n",
    "# Update the hover labels to display only \"Event Title\" and \"Attendance\"\n",
    "fig.update_traces(\n",
    "    hovertemplate = \"<b>Event Title:</b> %{label}<br>\" + \"<b>Attendance:</b> %{value}<br>\",\n",
    "    textinfo = \"label+value\")\n",
    "\n",
    "# Show the treemap\n",
    "fig.show()"
   ]
  },
  {
   "cell_type": "markdown",
   "id": "b0948046-36fe-4cd8-bc28-0dc914fef0fe",
   "metadata": {},
   "source": [
    "## Presentation | 15 points\n",
    "#### Deadline: October 24th during class\n",
    "\n",
    "> Make a presentation about your business, the data you've collected and the direction you're taking the business in the next months.\n",
    "\n",
    "**Presentation | 1. Description of unique business idea | 1 point**\n",
    "\n",
    "Summarise the name and choice of business as well as location and the time of year it operates (you can add some branding, logo, etc.)\n",
    "\n",
    "\n",
    "**Presentation | 2. Presentation of all the APIs used and how it serves your business | 3 points**\n",
    "\n",
    "Present each API and explain why the collected data is relevant for your business.\n",
    "\n",
    "\n",
    "**Presentation | 3. Presentation of the data cleaning and processing | 2 points**\n",
    "\n",
    "Explain the steps your team took in order to get to a clean and structured dataset.\n",
    "\n",
    "\n",
    "**Presentation | 4. Presentation of the statistics  & 5. Data visualisations | 5 points**\n",
    "\n",
    "Display the statistics and relevant data visualisations that helped you make informed decisions about your business. The descriptive statistics and visualisations enable you to draw conclusions that take your business in one or the other direction. You need to explain how this information serves your business and the next steps you will take.\n",
    "\n",
    "**Presentation | 6. Storytelling | 4 points**\n",
    "\n",
    "Why did you pick this business idea? Why this name?\n",
    "\n",
    "Who is your target audience? What problem does it solve?\n",
    "\n",
    "What decisions did you make to make your business thrive in the future? What are your current challenges? Opportunities?\n",
    "\n",
    "Can Data save your business or make it expand to new territories?\n",
    "\n",
    "\n",
    "Create a good story!"
   ]
  },
  {
   "cell_type": "code",
   "execution_count": null,
   "id": "a25c20df-95ec-4f57-b1ea-9cb4ae1fa8ac",
   "metadata": {},
   "outputs": [],
   "source": []
  }
 ],
 "metadata": {
  "kernelspec": {
   "display_name": "Python 3 (ipykernel)",
   "language": "python",
   "name": "python3"
  },
  "language_info": {
   "codemirror_mode": {
    "name": "ipython",
    "version": 3
   },
   "file_extension": ".py",
   "mimetype": "text/x-python",
   "name": "python",
   "nbconvert_exporter": "python",
   "pygments_lexer": "ipython3",
   "version": "3.12.4"
  }
 },
 "nbformat": 4,
 "nbformat_minor": 5
}

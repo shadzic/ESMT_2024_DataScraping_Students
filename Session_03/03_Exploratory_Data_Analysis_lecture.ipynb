{
 "cells": [
  {
   "cell_type": "markdown",
   "id": "a9e22543-7f7d-48c1-9a3a-1c15034bd24a",
   "metadata": {},
   "source": [
    "# EDA: Exploratory Data Analysis\n",
    "© Copyright: 2024, Selma Hadzic, all rights reserved.\n",
    "\n",
    "\n",
    "1. Exploration\n",
    "2. Cleaning\n",
    "3. Descriptive statistics\n",
    "4. Merging datasets"
   ]
  },
  {
   "cell_type": "markdown",
   "id": "cf551e2a-3fd3-44dd-b383-5a21e4267a76",
   "metadata": {},
   "source": [
    "## 1. Exploration"
   ]
  },
  {
   "cell_type": "markdown",
   "id": "da0da0a4-3cbe-4ffc-9e1b-ef8264821391",
   "metadata": {},
   "source": [
    "\"Exploratory data analysis (EDA) is an approach of analyzing data sets to summarize their main characteristics, often using statistical graphics and other data visualization methods.\"\n",
    "\n",
    "The mains goals are:\n",
    "- understand what the data represents, its size and type\n",
    "- understand the quality of the data\n",
    "- understand its content through some visual data tools\n",
    "\n",
    "Generally, we perform the following steps during exploration:\n",
    "1. Dataset overview: what is the size of the data? The columns names? The type of data? Can you view a few rows?\n",
    "2. Missing values\n",
    "3. Duplicated values and proportion of unique values\n",
    "4. Distribution of the data points and visualisations\n",
    "\n",
    "After the exploration, we have better knowledge of what the dataset represents and can move on to Data Cleaning."
   ]
  },
  {
   "cell_type": "markdown",
   "id": "ed55005a-3f99-456f-9da3-74d6f70fb7eb",
   "metadata": {},
   "source": [
    "### 1.1 Dataset overview"
   ]
  },
  {
   "cell_type": "code",
   "execution_count": null,
   "id": "dfdfbb00-642f-4915-ae31-6de8fa85aa77",
   "metadata": {
    "scrolled": true
   },
   "outputs": [],
   "source": [
    "# Install matplotlib package\n",
    "!pip install matplotlib"
   ]
  },
  {
   "cell_type": "code",
   "execution_count": null,
   "id": "6814a608-7279-4a2a-a62e-273d920b71fe",
   "metadata": {},
   "outputs": [],
   "source": [
    "# Import the pandas and matplotlib packages\n",
    "import pandas as pd\n",
    "import matplotlib.pyplot as plt"
   ]
  },
  {
   "cell_type": "code",
   "execution_count": null,
   "id": "cceedbed-fbf8-4753-a177-36b322f2905f",
   "metadata": {},
   "outputs": [],
   "source": [
    "# Read the data\n",
    "df = pd.read_csv(\"./data/listings.csv\")"
   ]
  },
  {
   "cell_type": "code",
   "execution_count": null,
   "id": "67658acf-ec41-4971-a000-ff8fdf96cd93",
   "metadata": {
    "scrolled": true
   },
   "outputs": [],
   "source": [
    "# Visualise the first 10 rows\n"
   ]
  },
  {
   "cell_type": "code",
   "execution_count": null,
   "id": "e4e95a1d-2653-499b-8e11-36fcd892aa92",
   "metadata": {},
   "outputs": [],
   "source": [
    "# What is the size of the dataset?\n"
   ]
  },
  {
   "cell_type": "code",
   "execution_count": null,
   "id": "dca3939a-2608-4fa7-9cea-b642beed970c",
   "metadata": {
    "scrolled": true
   },
   "outputs": [],
   "source": [
    "# General description of the dataset\n"
   ]
  },
  {
   "cell_type": "code",
   "execution_count": null,
   "id": "b98b0d84-b8e7-4059-b474-bd84df46c7a1",
   "metadata": {
    "scrolled": true
   },
   "outputs": [],
   "source": [
    "# What are the types in each column?\n",
    "pd.set_option('display.max_rows', 75)\n"
   ]
  },
  {
   "cell_type": "markdown",
   "id": "78ff6853-60db-4a6b-b8ea-8f4bdef84eef",
   "metadata": {},
   "source": [
    "If the data has the wrong type, e.g. `string` instead of `integer`, then we need to convert the data to the right type.\n",
    "\n",
    ">`.astype()`: cast a pandas object to a specified dtype\n",
    "\n",
    "\n",
    "Columns with mixed types are stored with the `object` dtype. More information about dtype: [here](https://pandas.pydata.org/pandas-docs/stable/user_guide/basics.html#basics-dtypes)"
   ]
  },
  {
   "cell_type": "markdown",
   "id": "6cdfabc7-fb9a-48fb-8399-6b031f4e7280",
   "metadata": {},
   "source": [
    "### 1.2 Missing data\n",
    "\n",
    "` ` an empty space is data: it consists of a `data` of `type string` that has one space \n",
    "\n",
    "When there is no data, or missing data, it is represented with `null` or `NaN` (\"Not a Number\").\n",
    "\n",
    "Missing data appear when:\n",
    "- **the data was not collected**. For example, some countries do not collect certain data points, which may be missing for this country in a world dataset\n",
    "- **the data was not transferred**, some data were lost. For example, one day on the 1st of September, the data ingestion pipelines did not execute. Therefore, all the data for that particular date is missing.\n",
    "- **two datasets are merged together**. For example if we merge two datasets that both represents neighbourhoods in a city, one with schools and the other one with supermarkets. There might be different nomemclature for the neighbourhoods between the two datasets. Therefore some entries might not appear in the other dataset, creating missing values when they get merged into one.\n",
    "- **the collected data is optional**: it happens when we ask customers to fill in a satisfaction survey and mark some questions as optional\n",
    "- etc."
   ]
  },
  {
   "cell_type": "code",
   "execution_count": null,
   "id": "43707929-2bff-4b2c-91b7-26e870bd2f31",
   "metadata": {
    "scrolled": true
   },
   "outputs": [],
   "source": [
    "# Use the .isnull() method\n"
   ]
  },
  {
   "cell_type": "code",
   "execution_count": null,
   "id": "b8f27a6b-968a-48e3-8e52-6f3205653c01",
   "metadata": {
    "scrolled": true
   },
   "outputs": [],
   "source": [
    "# Get a summary of missing data per column\n"
   ]
  },
  {
   "cell_type": "code",
   "execution_count": null,
   "id": "1ee9649c-ee58-47f7-8aa1-7549a093fa5e",
   "metadata": {
    "scrolled": true
   },
   "outputs": [],
   "source": [
    "# We can also check the .isna() method\n"
   ]
  },
  {
   "cell_type": "code",
   "execution_count": null,
   "id": "cfde948a-b00d-40ef-91f5-223c190ef9a9",
   "metadata": {},
   "outputs": [],
   "source": [
    "# We can in particular verify a specific column, e.g. `neighbourhood`\n"
   ]
  },
  {
   "cell_type": "markdown",
   "id": "19913705-77df-4d3b-ad0c-669864f634d0",
   "metadata": {},
   "source": [
    "### 1.3 Duplicated and unique values"
   ]
  },
  {
   "cell_type": "code",
   "execution_count": null,
   "id": "d561ad8f-34fd-4c76-aa0c-250c07b28003",
   "metadata": {},
   "outputs": [],
   "source": [
    "# Duplicated rows are rows that contain exactly the same records for each column\n"
   ]
  },
  {
   "cell_type": "code",
   "execution_count": null,
   "id": "bcf80190-d198-4d4a-aff9-4be5668cda40",
   "metadata": {},
   "outputs": [],
   "source": [
    "# We can count the number of duplicated entries\n"
   ]
  },
  {
   "cell_type": "code",
   "execution_count": null,
   "id": "62c2fdf9-7676-48d3-b613-5ef46b79a7b2",
   "metadata": {},
   "outputs": [],
   "source": [
    "# We can check the unique values per column, for example `neighbourhood`\n"
   ]
  },
  {
   "cell_type": "markdown",
   "id": "ebb89fc7-f403-49c1-a0c0-09dcfbe93172",
   "metadata": {},
   "source": [
    "*Note: `df['neighbourhood']` and `df.neighbourhood` are equivalent, as long as the column name does not contain spaces*"
   ]
  },
  {
   "cell_type": "code",
   "execution_count": null,
   "id": "93a6ed95-ca99-474f-97f8-49967bc9ca8d",
   "metadata": {},
   "outputs": [],
   "source": [
    "# We can list the unique values for each column, for example `neighbourhood`\n"
   ]
  },
  {
   "cell_type": "code",
   "execution_count": null,
   "id": "ebcb10fb-af31-4849-a067-7216f1356e18",
   "metadata": {},
   "outputs": [],
   "source": [
    "# We can count the number of occurrences of each neighbourhood\n",
    "df.neighbourhood."
   ]
  },
  {
   "cell_type": "code",
   "execution_count": null,
   "id": "fa750222-b087-404f-9255-87289689ef27",
   "metadata": {
    "scrolled": true
   },
   "outputs": [],
   "source": [
    "# What happens if we include the missing values?\n",
    "df.neighbourhood."
   ]
  },
  {
   "cell_type": "code",
   "execution_count": null,
   "id": "4b1851a8-bc5e-43cd-8656-99e4abcfe2e0",
   "metadata": {
    "scrolled": true
   },
   "outputs": [],
   "source": [
    "# We can also compute the proportion of each occurrence:\n",
    "100*(df.neighbourhood.value_counts(dropna=False, ))"
   ]
  },
  {
   "cell_type": "markdown",
   "id": "4d17187f-f2df-42e0-bfad-bfa8046f3ed1",
   "metadata": {},
   "source": [
    "### 1.4 Distribution of the data points and visualisations\n"
   ]
  },
  {
   "cell_type": "code",
   "execution_count": null,
   "id": "3ef0e4fd-e159-4630-85a0-263d1b872e0c",
   "metadata": {},
   "outputs": [],
   "source": [
    "# Plot a histogram of the number of listings per host:\n",
    "df.host_total_listings_count.plot();"
   ]
  },
  {
   "cell_type": "code",
   "execution_count": null,
   "id": "57503bfc-76d8-472e-bde2-88ff218d1cf3",
   "metadata": {},
   "outputs": [],
   "source": [
    "# We can zoom in by setting an upper bound of the x-axis using range and adding more granularity with bins\n",
    "df.host_total_listings_count.plot(kind='hist', title=\"Histogram of the host's listings\", );\n"
   ]
  },
  {
   "cell_type": "markdown",
   "id": "b0d4b96c-cbc1-4865-859f-506a2a3fb9bb",
   "metadata": {},
   "source": [
    "## 2. Data Cleaning\n",
    "\n",
    "We will perform the following:\n",
    "- fill NaN with `Berlin, Germany` for: df.neighbourhood\n",
    "- fill NaN with the median value for `review_scores_rating`\n",
    "- replace a value inside a record i.e. removing `DE` from `Berlin, DE, Germany` in df.neighbourhood\n",
    "- convert `calendar_last_scraped` into a date format\n",
    "- drop duplicates\n",
    "- reset the index\n",
    "- drop columns full of missing values"
   ]
  },
  {
   "cell_type": "code",
   "execution_count": null,
   "id": "825ab8d8-3fea-4f35-b678-09bfbbc74b08",
   "metadata": {},
   "outputs": [],
   "source": [
    "# Let's copy the dataframe first, so that we can avoid making mistakes on the original dataset\n",
    "data = df.copy(deep=True)"
   ]
  },
  {
   "cell_type": "markdown",
   "id": "2643202f-dbbc-4482-8a0a-13684554c6d4",
   "metadata": {},
   "source": [
    "### 2.1 Fill NaN with `Berlin, Germany`"
   ]
  },
  {
   "cell_type": "code",
   "execution_count": null,
   "id": "c9de9fc0-78c6-4268-9b33-0261e1a2d742",
   "metadata": {},
   "outputs": [],
   "source": [
    "data.fillna({'neighbourhood': 'Berlin, Germany'}, inplace=True)"
   ]
  },
  {
   "cell_type": "code",
   "execution_count": null,
   "id": "98c5b00b-f50b-41d1-bf0b-96b5ebfb0e95",
   "metadata": {},
   "outputs": [],
   "source": [
    "# Let's verify\n",
    "data.neighbourhood.isna().sum()"
   ]
  },
  {
   "cell_type": "markdown",
   "id": "94a6c183-7eb3-4c0e-a6e4-3a6e1dbd78cc",
   "metadata": {},
   "source": [
    "### 2.2 Fill NaN with the median value"
   ]
  },
  {
   "cell_type": "code",
   "execution_count": null,
   "id": "7808d204-f317-4465-9dc7-269a6d71a70f",
   "metadata": {},
   "outputs": [],
   "source": [
    "# Calculate the median value for review_scores_rating\n",
    "median = \n",
    "print(median)"
   ]
  },
  {
   "cell_type": "code",
   "execution_count": null,
   "id": "8effddea-accd-4da7-8216-02208bf688f6",
   "metadata": {},
   "outputs": [],
   "source": [
    "# Replace the NaN with the median\n",
    "data.fillna({}, inplace=True)"
   ]
  },
  {
   "cell_type": "code",
   "execution_count": null,
   "id": "b5116b92-fe24-41a8-9791-20aa0df70754",
   "metadata": {},
   "outputs": [],
   "source": [
    "# Verify that it worked\n",
    "print(df.review_scores_rating.isna().sum())\n",
    "print(data.review_scores_rating.isna().sum())"
   ]
  },
  {
   "cell_type": "markdown",
   "id": "884ab4cc-e148-42e9-bcab-b1ee2f0c5be8",
   "metadata": {},
   "source": [
    "### 2.3 Replace a value inside a record"
   ]
  },
  {
   "cell_type": "code",
   "execution_count": null,
   "id": "f13dbdf7-9b76-4cd1-a714-400c43827a14",
   "metadata": {},
   "outputs": [],
   "source": [
    "# We replace `DE` with nothing\n",
    "data.neighbourhood = data.neighbourhood.str.replace()"
   ]
  },
  {
   "cell_type": "code",
   "execution_count": null,
   "id": "6ced4300-d2f3-4335-a9c9-5c6b67f2c093",
   "metadata": {},
   "outputs": [],
   "source": [
    "# Verify\n"
   ]
  },
  {
   "cell_type": "markdown",
   "id": "85e0af4d-db8f-48d8-8ad2-357b6b3b0733",
   "metadata": {},
   "source": [
    "### 2.4 Convert a column into a date format"
   ]
  },
  {
   "cell_type": "code",
   "execution_count": null,
   "id": "15c21158-3f12-4b79-954d-05f33f6425e4",
   "metadata": {},
   "outputs": [],
   "source": [
    "data['calendar_last_scraped'] = "
   ]
  },
  {
   "cell_type": "code",
   "execution_count": null,
   "id": "9ffa89cb-9a02-4211-a84a-541d5f85494e",
   "metadata": {},
   "outputs": [],
   "source": [
    "# Verify\n",
    "data['calendar_last_scraped'].info()"
   ]
  },
  {
   "cell_type": "markdown",
   "id": "1b643639-c2c1-4c2e-a471-f9cb0e35fd2c",
   "metadata": {},
   "source": [
    "### 2.5 Drop duplicates"
   ]
  },
  {
   "cell_type": "code",
   "execution_count": null,
   "id": "d284eae7-2bbc-4c9c-9cbc-14d44bac893b",
   "metadata": {},
   "outputs": [],
   "source": [
    "# Drop the duplicates and replace the original data\n"
   ]
  },
  {
   "cell_type": "code",
   "execution_count": null,
   "id": "235bed1f-b271-4b44-86c5-3e14686ae906",
   "metadata": {
    "scrolled": true
   },
   "outputs": [],
   "source": [
    "# Verify\n",
    "print(data.shape[0], df.shape[0])"
   ]
  },
  {
   "cell_type": "code",
   "execution_count": null,
   "id": "23beaa37-3354-4721-9e5e-16b9d42ea42b",
   "metadata": {},
   "outputs": [],
   "source": [
    "# By default, drop_duplicates takes all columns\n",
    "# We can also select columns on which to deduplicate \n",
    "# e.g. here let's select: 'neighbourhood', 'bedrooms', 'price'\n",
    "subset_unique = data.drop_duplicates()"
   ]
  },
  {
   "cell_type": "code",
   "execution_count": null,
   "id": "c567fe88-825a-4582-9a8a-ca7c897fa321",
   "metadata": {},
   "outputs": [],
   "source": [
    "# Verify\n",
    "print(subset_unique.shape[0], data.shape[0])"
   ]
  },
  {
   "cell_type": "markdown",
   "id": "3d192092-fa8a-4220-8ed8-0fbd25c0c7ff",
   "metadata": {},
   "source": [
    "### 2.6 Reset the index\n",
    "\n",
    "What happened to the index?"
   ]
  },
  {
   "cell_type": "code",
   "execution_count": null,
   "id": "fec889b4-2a76-4695-b2ae-43f6d3a31f87",
   "metadata": {
    "scrolled": true
   },
   "outputs": [],
   "source": [
    "subset_unique.iloc[300:310, :]"
   ]
  },
  {
   "cell_type": "markdown",
   "id": "0b82eb84-6caf-4c84-b681-26b29c2cf5b2",
   "metadata": {},
   "source": [
    "By dropping some rows, the index is upside down.\n",
    "\n",
    "To reset the index:"
   ]
  },
  {
   "cell_type": "code",
   "execution_count": null,
   "id": "0c410538-5792-4336-bc18-c77be956a280",
   "metadata": {},
   "outputs": [],
   "source": []
  },
  {
   "cell_type": "code",
   "execution_count": null,
   "id": "69d2d966-0396-4678-b5c9-6b098082e24e",
   "metadata": {
    "scrolled": true
   },
   "outputs": [],
   "source": [
    "# Let's verify\n",
    "subset_unique.iloc[300:310, :]"
   ]
  },
  {
   "cell_type": "markdown",
   "id": "146f53be-ec5e-47d2-8dd5-0e53e21b7248",
   "metadata": {},
   "source": [
    "### 2.7 Drop columns full of missing values"
   ]
  },
  {
   "cell_type": "code",
   "execution_count": null,
   "id": "5a2f7565-5326-4cd9-a54b-5599cf1fd92e",
   "metadata": {},
   "outputs": [],
   "source": [
    "# calendar_updated is full of missing values\n",
    "data.calendar_updated.unique()"
   ]
  },
  {
   "cell_type": "code",
   "execution_count": null,
   "id": "477f8077-8c4f-4836-874a-e6e9973dfbe8",
   "metadata": {},
   "outputs": [],
   "source": [
    "# Let's drop that column\n"
   ]
  },
  {
   "cell_type": "code",
   "execution_count": null,
   "id": "6f38b8ef-655e-40ce-9229-9ab6b8957fc6",
   "metadata": {},
   "outputs": [],
   "source": [
    "# Verify\n",
    "print(data.shape, df.shape)\n",
    "print(set(df.columns)-set(data.columns))"
   ]
  },
  {
   "cell_type": "markdown",
   "id": "139c6cc0-806a-4006-bd64-253283f6fcf5",
   "metadata": {},
   "source": [
    "## 3. Descriptive Statistics"
   ]
  },
  {
   "cell_type": "code",
   "execution_count": null,
   "id": "2f741d7d-6c19-4666-999e-f526505b5f78",
   "metadata": {},
   "outputs": [],
   "source": [
    "df.describe()"
   ]
  },
  {
   "cell_type": "markdown",
   "id": "dbe50ebd-0807-4eea-aebb-3ed72d6ffa4a",
   "metadata": {},
   "source": [
    "- `df['column'].mean()`\t calculates arithmetic mean of a column\n",
    "- `df['column'].median()`\tcalculates median of a column\n",
    "- `df['column'].var()`\t calculates variance of a column\n",
    "- `df['column'].min()`\tcalculates the minimum of a column\n",
    "- `df['column'].max()`\tcalculates the maximum of a column\n",
    "- `df['column'].quantile()`\tcalculates quantiles of a column\n",
    "- `df['column'].value_counts()`\tcreate a (relative) frequency tables for a column\n",
    "- `df['column'].corr()`\tcalculates correlation between two columns"
   ]
  },
  {
   "cell_type": "code",
   "execution_count": null,
   "id": "79524652-4ad6-4199-a4f0-43c9f93fbb89",
   "metadata": {},
   "outputs": [],
   "source": [
    "data[\"review_scores_rating\"].min()"
   ]
  },
  {
   "cell_type": "code",
   "execution_count": null,
   "id": "083e3f23-c784-4f5b-989d-3da371fc683f",
   "metadata": {},
   "outputs": [],
   "source": [
    "data[\"review_scores_rating\"].max()"
   ]
  },
  {
   "cell_type": "code",
   "execution_count": null,
   "id": "b4eb70d4-edb4-4558-b0f4-0deeab1a23db",
   "metadata": {},
   "outputs": [],
   "source": [
    "data[\"review_scores_rating\"].mean()"
   ]
  },
  {
   "cell_type": "code",
   "execution_count": null,
   "id": "5c3302bf-0c76-4d5d-998e-8007da5b9bb5",
   "metadata": {},
   "outputs": [],
   "source": [
    "data[\"review_scores_rating\"].median()"
   ]
  },
  {
   "cell_type": "markdown",
   "id": "955f8aad-31e0-4c70-950f-89926c961f1b",
   "metadata": {},
   "source": [
    "## 4. Merging datasets"
   ]
  },
  {
   "cell_type": "markdown",
   "id": "e45b61fb-8a7c-46c1-9fa5-1998804221e5",
   "metadata": {},
   "source": [
    "### 4.1 Concatenate horizontally: add a column"
   ]
  },
  {
   "cell_type": "code",
   "execution_count": null,
   "id": "6914654e-309d-410c-b708-10a4dbc62c28",
   "metadata": {},
   "outputs": [],
   "source": [
    "# Let's import the datetime package\n",
    "import datetime as datetime"
   ]
  },
  {
   "cell_type": "code",
   "execution_count": null,
   "id": "d236c8b7-b843-40ab-8adb-c6edcbffb11a",
   "metadata": {},
   "outputs": [],
   "source": [
    "# Create a new DataFrame that contains one column date_analysis` and contains today's date\n",
    "today = datetime.datetime.today().date()\n",
    "date_df = pd.DataFrame({\"date_analysis\": [today] * len(df)})"
   ]
  },
  {
   "cell_type": "code",
   "execution_count": null,
   "id": "0703f789-bf7f-4039-9898-34add7c520d6",
   "metadata": {},
   "outputs": [],
   "source": [
    "# Let's visualise the newly created DataFrame\n"
   ]
  },
  {
   "cell_type": "code",
   "execution_count": null,
   "id": "f19b7686-d7e6-4576-abd2-9c3bb3a65555",
   "metadata": {},
   "outputs": [],
   "source": [
    "# Let's use pandas.Dataframe.concat method to add the column\n",
    "hor_concat_df = "
   ]
  },
  {
   "cell_type": "code",
   "execution_count": null,
   "id": "37c22cd9-7a5f-4f52-ba1e-31f58a1d89e0",
   "metadata": {
    "scrolled": true
   },
   "outputs": [],
   "source": [
    "# Let's visualise the concatenated DataFrame\n",
    "hor_concat_df.head(6)"
   ]
  },
  {
   "cell_type": "markdown",
   "id": "19511179-74c9-4168-b99f-a8a6dc836619",
   "metadata": {},
   "source": [
    "### 4.2 Concatenate vertically: stack dataframes"
   ]
  },
  {
   "cell_type": "code",
   "execution_count": null,
   "id": "faffe892-2cea-4641-a88d-3a7383015d41",
   "metadata": {},
   "outputs": [],
   "source": [
    "# Let's select the last 3 rows of the DataFrame\n",
    "new_rows = df[-3:]"
   ]
  },
  {
   "cell_type": "code",
   "execution_count": null,
   "id": "5b47bcf7-8dbd-4888-8e5f-460aa79cb0e5",
   "metadata": {},
   "outputs": [],
   "source": [
    "# Let's visualise\n"
   ]
  },
  {
   "cell_type": "code",
   "execution_count": null,
   "id": "ef200863-e060-468d-a225-8187e0155c9e",
   "metadata": {},
   "outputs": [],
   "source": [
    "# Let's concatenate them to the original DataFrame\n",
    "vert_concat_df = "
   ]
  },
  {
   "cell_type": "code",
   "execution_count": null,
   "id": "fcb2b0cc-56f2-4abc-83f7-3e4d811c16be",
   "metadata": {},
   "outputs": [],
   "source": [
    "# Let's verify\n",
    "vert_concat_df.tail(7)"
   ]
  },
  {
   "cell_type": "markdown",
   "id": "f77d41da-8996-4791-afb7-36a64c005e13",
   "metadata": {},
   "source": [
    "### 4.3 Merge"
   ]
  },
  {
   "cell_type": "markdown",
   "id": "99380a46-8143-4236-8dac-7ffdfed098e1",
   "metadata": {},
   "source": [
    "#### 4.3.1 Preparations"
   ]
  },
  {
   "cell_type": "code",
   "execution_count": null,
   "id": "06c93418-8b30-4cda-ba71-4fa95c56963b",
   "metadata": {},
   "outputs": [],
   "source": [
    "# Let's select a subset of the DataFrame\n",
    "\n",
    "flat_columns = ['id', 'host_id',  'neighbourhood', 'latitude', 'longitude', 'property_type']\n",
    "host_columns = ['host_id', 'host_name', 'host_location', 'host_is_superhost']\n"
   ]
  },
  {
   "cell_type": "code",
   "execution_count": null,
   "id": "fbc18b7d-074b-4c9f-8ce8-aa8efeac2e9f",
   "metadata": {},
   "outputs": [],
   "source": [
    "# Create two DataFrames flat_df and host_df that have the respective columns\n",
    "flat_df = df[flat_columns]\n",
    "host_df = df[host_columns]"
   ]
  },
  {
   "cell_type": "code",
   "execution_count": null,
   "id": "09f66408-9afd-4618-8e51-f414c786e96c",
   "metadata": {},
   "outputs": [],
   "source": [
    "# Let's select specific rows, so that both DataFrames have an overlap + some extra rows\n",
    "flat_df = flat_df[10:30]\n",
    "host_df = host_df[:20]"
   ]
  },
  {
   "cell_type": "code",
   "execution_count": null,
   "id": "6c4c562d-dee9-4847-a476-e7dcf155847f",
   "metadata": {},
   "outputs": [],
   "source": [
    "# Let's visualise\n"
   ]
  },
  {
   "cell_type": "code",
   "execution_count": null,
   "id": "c3d80904-3ae1-4d1d-a2b9-688fa4bf834f",
   "metadata": {},
   "outputs": [],
   "source": []
  },
  {
   "cell_type": "code",
   "execution_count": null,
   "id": "48738821-12d3-40bc-9d9d-0f0bd9dcc3e3",
   "metadata": {},
   "outputs": [],
   "source": [
    "# Let's deduplicate\n",
    "host_df.drop_duplicates(inplace=True)"
   ]
  },
  {
   "cell_type": "code",
   "execution_count": null,
   "id": "58b3116b-3374-43c5-9b9a-e03e7787ed55",
   "metadata": {},
   "outputs": [],
   "source": [
    "host_df"
   ]
  },
  {
   "cell_type": "markdown",
   "id": "c1edc727-1d5a-4f07-953f-59e9547638e6",
   "metadata": {},
   "source": [
    "#### 4.3.2 `Inner merge` "
   ]
  },
  {
   "cell_type": "code",
   "execution_count": null,
   "id": "119361a6-3941-4fcb-a7aa-9a9e9b96f5a8",
   "metadata": {},
   "outputs": [],
   "source": [
    "inner_df = flat_df.merge(host_df, how=\"inner\", left_on= \"host_id\", right_on=\"host_id\")"
   ]
  },
  {
   "cell_type": "code",
   "execution_count": null,
   "id": "b9cfe807-9547-4128-a790-48d2a2d812d4",
   "metadata": {},
   "outputs": [],
   "source": [
    "inner_df"
   ]
  },
  {
   "cell_type": "markdown",
   "id": "4a0c79a4-24da-46fb-b731-614e7d2e776c",
   "metadata": {},
   "source": [
    "#### 4.3.3 `Left merge`"
   ]
  },
  {
   "cell_type": "code",
   "execution_count": null,
   "id": "3bb5122d-a644-4b4e-9d99-ecc0f28792ab",
   "metadata": {},
   "outputs": [],
   "source": [
    "left_df = flat_df.merge(host_df, how=\"left\", left_on= \"host_id\", right_on=\"host_id\")"
   ]
  },
  {
   "cell_type": "code",
   "execution_count": null,
   "id": "68b9b8f7-6c49-4c92-bc30-482945b064b3",
   "metadata": {},
   "outputs": [],
   "source": [
    "left_df"
   ]
  },
  {
   "cell_type": "markdown",
   "id": "32bd60ff-cdf9-4997-b908-e8d91e60d77b",
   "metadata": {},
   "source": [
    "#### 4.3.4 `Right merge`\n",
    "\n",
    "Actually a `right merge` is the same as a `left merge` where the DataFrames are switched. \n",
    "\n",
    "For clarity, we always prefer to use `left merge` over `right merge`"
   ]
  },
  {
   "cell_type": "code",
   "execution_count": null,
   "id": "4fe86ee5-b1ea-4dc3-8dbd-c3532ccdac74",
   "metadata": {},
   "outputs": [],
   "source": [
    "right_df = flat_df.merge(host_df, how=\"right\", left_on= \"host_id\", right_on=\"host_id\")"
   ]
  },
  {
   "cell_type": "code",
   "execution_count": null,
   "id": "5ab76a0a-68a5-43fd-a3e7-1b16778d69b0",
   "metadata": {},
   "outputs": [],
   "source": [
    "switched_left_df = host_df.merge(flat_df, how=\"left\", left_on= \"host_id\", right_on=\"host_id\")"
   ]
  },
  {
   "cell_type": "code",
   "execution_count": null,
   "id": "da036e66-89a6-42c2-a24f-4e55de02a92e",
   "metadata": {},
   "outputs": [],
   "source": [
    "right_df"
   ]
  },
  {
   "cell_type": "code",
   "execution_count": null,
   "id": "4ca6b155-2f23-459a-a483-0850f6ad27a7",
   "metadata": {},
   "outputs": [],
   "source": [
    "switched_left_df"
   ]
  },
  {
   "cell_type": "code",
   "execution_count": null,
   "id": "ebf7ce04-7ee7-488c-8a8f-ad770c490822",
   "metadata": {},
   "outputs": [],
   "source": []
  }
 ],
 "metadata": {
  "kernelspec": {
   "display_name": "Python 3 (ipykernel)",
   "language": "python",
   "name": "python3"
  },
  "language_info": {
   "codemirror_mode": {
    "name": "ipython",
    "version": 3
   },
   "file_extension": ".py",
   "mimetype": "text/x-python",
   "name": "python",
   "nbconvert_exporter": "python",
   "pygments_lexer": "ipython3",
   "version": "3.9.19"
  }
 },
 "nbformat": 4,
 "nbformat_minor": 5
}

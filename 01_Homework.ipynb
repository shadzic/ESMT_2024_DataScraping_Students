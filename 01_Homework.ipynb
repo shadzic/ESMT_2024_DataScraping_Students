{
 "cells": [
  {
   "cell_type": "markdown",
   "id": "2c645cb7-0d2f-4676-b2b1-6ab036c699b2",
   "metadata": {},
   "source": [
    "# 01 Homework\n",
    "© Copyright: 2024, Selma Hadzic, all rights reserved.\n",
    "#### Number of points: 20 (weights 20% in the final grade)\n",
    "\n",
    "1. Pull from the `ESMT_2024_DataScraping_Lectures` repository: you should get this `01_Homework` file\n",
    "2. Launch VS Code and open your working-folder\n",
    "3. Create a `Session_01` folder, in which you create another folder called `data`\n",
    "4. Copy paste the notebook `01_Homework` from the lectures repo to the working-folder. Copy the csv file `world_population.csv` into the `working-folder/Session_01/data` directory.\n",
    "5. Do the exercises on 01_Homework in your working-folder. Keep all cells outputs/results in the notebook to be visible directly.\n",
    "6. Once you are finished, create a branch named **LASTNAME_firstname** (please use capital letters for the lastname - replace with your own name) in the `ESMT_2024_DataScraping_Students` repository\n",
    "7. Copy-Paste the notebook into `ESMT_2024_DataScraping_Students` folder in your computer\n",
    "8. Commit and push your homework in your branch before the deadline. **Push only the notebook, not the csv file!**"
   ]
  },
  {
   "cell_type": "markdown",
   "id": "130f7246-8f28-4192-93ef-c738ee63c9fb",
   "metadata": {},
   "source": [
    "#### Deadline: October 18th 08:59 am CET\n",
    "#### Any missed deadline without justification to the Administration will result in 0 points for this homework.\n",
    "#### If the Github branch is not correctly named using the indicated format **LASTNAME_firstname**, then a penalty of -5 points will be applied"
   ]
  },
  {
   "cell_type": "markdown",
   "id": "f8a20754-b809-4554-8580-24887bf1af6e",
   "metadata": {},
   "source": [
    " "
   ]
  },
  {
   "cell_type": "markdown",
   "id": "1e4985a0-09d6-44ba-b59b-e117168130de",
   "metadata": {},
   "source": [
    " "
   ]
  },
  {
   "cell_type": "markdown",
   "id": "737cc185-21f1-4164-9db0-8e8bac839151",
   "metadata": {},
   "source": [
    "\n",
    "\n",
    "\n",
    "\n",
    "\n",
    "\n",
    "## World Population"
   ]
  },
  {
   "cell_type": "markdown",
   "id": "fcf99d05-cb0f-4523-ac45-2477c7e0c2c0",
   "metadata": {},
   "source": [
    "The World Bank Open Data provides the population of the world per country and per year."
   ]
  },
  {
   "cell_type": "markdown",
   "id": "b9f2fd46-3278-4eaf-8c65-34896b45b7af",
   "metadata": {},
   "source": [
    "**1. Import the pandas package**"
   ]
  },
  {
   "cell_type": "code",
   "execution_count": null,
   "id": "8131ebcf-4a44-4559-9199-966c41b8f6d1",
   "metadata": {},
   "outputs": [],
   "source": [
    "import pandas as pd"
   ]
  },
  {
   "cell_type": "markdown",
   "id": "3f9d367e-cbdc-4dcb-8c4c-a849dec8e50e",
   "metadata": {},
   "source": [
    "**2. Load the data as a DataFrame and assign it to a variable called `df`**"
   ]
  },
  {
   "cell_type": "code",
   "execution_count": null,
   "id": "42d9b267-dd97-465e-9fb4-1d2fed40f7e9",
   "metadata": {},
   "outputs": [],
   "source": [
    "df = pd.read_csv('./data/world_population.csv')"
   ]
  },
  {
   "cell_type": "markdown",
   "id": "58c4848f-a9aa-4632-a245-9745d62b7d65",
   "metadata": {},
   "source": [
    "**3. Display the first 5 rows**"
   ]
  },
  {
   "cell_type": "code",
   "execution_count": null,
   "id": "0f2a3ade-b287-44d0-8fb5-8258d2e3bebc",
   "metadata": {},
   "outputs": [],
   "source": [
    "df.head(5)"
   ]
  },
  {
   "cell_type": "markdown",
   "id": "d8b5d2e3-41ff-441b-a4be-ad63dcf41c4e",
   "metadata": {},
   "source": [
    "**4 Display the last 5 rows**"
   ]
  },
  {
   "cell_type": "code",
   "execution_count": null,
   "id": "706580cd-9b02-4250-9702-43a8cb58a07e",
   "metadata": {},
   "outputs": [],
   "source": [
    "df.tail(5)"
   ]
  },
  {
   "cell_type": "markdown",
   "id": "5fdaa331-11cc-4a65-bac3-81e79322dd51",
   "metadata": {},
   "source": [
    "**5 Display the number of rows and columns**"
   ]
  },
  {
   "cell_type": "code",
   "execution_count": null,
   "id": "2d8804d5-9018-41c7-9408-24781954f2f1",
   "metadata": {},
   "outputs": [],
   "source": [
    "df.shape"
   ]
  },
  {
   "cell_type": "markdown",
   "id": "5a565dfb-951c-4c2e-8bc0-a6cf8057f7a7",
   "metadata": {},
   "source": [
    "**6 Show the columns names**"
   ]
  },
  {
   "cell_type": "code",
   "execution_count": null,
   "id": "4da6426e-0ea0-44b9-9ff7-3e4565e145e0",
   "metadata": {},
   "outputs": [],
   "source": [
    "df.columns"
   ]
  },
  {
   "cell_type": "markdown",
   "id": "bdb0ae51-6c7b-4b51-958b-02e5d6972b40",
   "metadata": {},
   "source": [
    "**7 Select only the following columns: 'Continent', 'Country/Territory', 'Capital' and 'World Population Percentage'**\n",
    "\n",
    "**Assign this new DataFrame to the variable called `df_col`**"
   ]
  },
  {
   "cell_type": "code",
   "execution_count": null,
   "id": "3261d98f-29fa-440d-805d-8a177b09e126",
   "metadata": {},
   "outputs": [],
   "source": [
    "df_col = df.loc[:, ['Continent', 'Country/Territory', 'Capital', 'World Population Percentage']]"
   ]
  },
  {
   "cell_type": "markdown",
   "id": "57d81d97-b44d-49cc-9d6c-797c035d0d7b",
   "metadata": {},
   "source": [
    "**8 Filter the DataFrame `df_col` created at the previous step to show only `Germany`**"
   ]
  },
  {
   "cell_type": "code",
   "execution_count": null,
   "id": "dfb19d0f-672f-42b8-bb4a-f1e9f5b45fc7",
   "metadata": {
    "scrolled": true
   },
   "outputs": [],
   "source": [
    "df_8 = df_col[df_col['Country/Territory'] == 'Germany']"
   ]
  },
  {
   "cell_type": "markdown",
   "id": "194bc086-c44c-41c4-955f-7d9317a0c4c4",
   "metadata": {},
   "source": [
    "**9 Filter the DataFrame `df_col` created at step 7 to show only `Albania`, `Kiribati` and `Taiwan`**\n",
    "\n",
    "_Tip: research `.isin()`_"
   ]
  },
  {
   "cell_type": "code",
   "execution_count": null,
   "id": "f931ab48-9294-423b-aa81-57f77199f282",
   "metadata": {},
   "outputs": [],
   "source": [
    "df_9 = df_col[df_col['Country/Territory'].isin(['Albania', 'Kiribati', 'Taiwan'])]"
   ]
  },
  {
   "cell_type": "markdown",
   "id": "5611caa8-9569-49f2-aa7c-0ef98a7d86c2",
   "metadata": {},
   "source": [
    "**10 Using `df_col` from step 7, display the rows in the DataFrame where the `World Population Percentage is strictly bigger than 17`**"
   ]
  },
  {
   "cell_type": "code",
   "execution_count": null,
   "id": "c5da58e1-312d-48a7-a014-30127de3ce2e",
   "metadata": {},
   "outputs": [],
   "source": [
    "df_10 = df_col[df_col['World Population Percentage'] > 17]"
   ]
  },
  {
   "cell_type": "markdown",
   "id": "33918842-d757-4953-b62e-223560667944",
   "metadata": {},
   "source": [
    "**10 Using `df_col` from step 7, select all rows where the `World Population Percentage` is strictly lower than 0.05 and the countries are located in `Africa`**\n",
    "\n",
    "*Tip: use a boolean mask*"
   ]
  },
  {
   "cell_type": "code",
   "execution_count": null,
   "id": "ca5d5e38-ffa2-45cd-9796-af2d77d426f2",
   "metadata": {},
   "outputs": [],
   "source": [
    "df_10_2 = df_col[(df_col['World Population Percentage'] < 0.05) & (df_col['Continent'] == 'Africa')]"
   ]
  },
  {
   "cell_type": "markdown",
   "id": "81441fea-f324-4505-9fb1-e2cea6021557",
   "metadata": {},
   "source": [
    "**11 Filter the `df_col` DataFrame to show only the countries whose name start with the letter `B`**"
   ]
  },
  {
   "cell_type": "code",
   "execution_count": null,
   "id": "ed57a0ac-68bb-4810-a5d9-75344325fd03",
   "metadata": {},
   "outputs": [],
   "source": [
    "df_11 = df_col[df_col['Country/Territory'].str.startswith('B')]"
   ]
  },
  {
   "cell_type": "markdown",
   "id": "8f6db571-9d59-4baf-b088-54054b0012c4",
   "metadata": {},
   "source": [
    "**12 Filter the `df_col` DataFrame to show all the countries whose `World Population Percentage` are between 1 and 3**\n",
    "\n",
    "*Tip: use `.between()`*"
   ]
  },
  {
   "cell_type": "code",
   "execution_count": null,
   "id": "4ce59f2b-9cdf-4f65-81b8-3616fe67063e",
   "metadata": {},
   "outputs": [],
   "source": [
    "df_12 = df_col[df_col['World Population Percentage'].between(1,3)]"
   ]
  },
  {
   "cell_type": "markdown",
   "id": "ea7e12fc-6917-4e8b-b0d6-59477d704980",
   "metadata": {},
   "source": [
    "**13 Show the unique list of `Continents`**\n",
    "\n",
    "*Tip: use `.unique()`*"
   ]
  },
  {
   "cell_type": "code",
   "execution_count": null,
   "id": "b4610ae8-c04d-483a-b5de-2a4f55870383",
   "metadata": {},
   "outputs": [],
   "source": [
    "df_13 = df_col['Continent'].unique()"
   ]
  },
  {
   "cell_type": "markdown",
   "id": "72c51c4b-90c0-45fb-914a-91301a7abc93",
   "metadata": {},
   "source": [
    "**14 Count the number of unique countries**\n",
    "\n",
    "*Tip: use `.nunique()`*"
   ]
  },
  {
   "cell_type": "code",
   "execution_count": null,
   "id": "97dbaeba-3bb6-418b-ab9a-29af60884e48",
   "metadata": {},
   "outputs": [],
   "source": [
    "df_14 = df_col['Country/Territory'].nunique()"
   ]
  },
  {
   "cell_type": "markdown",
   "id": "5e6ef737-280f-4eb1-8a87-31385166a69d",
   "metadata": {},
   "source": [
    "**15 Using iloc and slicing, show the first 3 rows of the original DataFrame `df`**"
   ]
  },
  {
   "cell_type": "code",
   "execution_count": null,
   "id": "c48505cf-9961-4634-bfa4-0c8355889d6e",
   "metadata": {},
   "outputs": [],
   "source": [
    "df_15 = df.iloc[0:3,:]"
   ]
  },
  {
   "cell_type": "markdown",
   "id": "c212d888-c0e0-42c2-859c-a67a9c23adc4",
   "metadata": {},
   "source": [
    "**16 Starting from the original DataFrame `df`, create a new DataFrame called `europe` that contains only the countries from Europe**"
   ]
  },
  {
   "cell_type": "code",
   "execution_count": null,
   "id": "29ff2841-616f-48be-9804-a531893400e0",
   "metadata": {},
   "outputs": [],
   "source": [
    "europe = df[df['Continent'] == 'Europe']"
   ]
  },
  {
   "cell_type": "markdown",
   "id": "47c864fc-897c-4d0d-b843-d524aafb4d5c",
   "metadata": {},
   "source": [
    "**17 How many countries in Europe have a 2022 Population strictly smaller than in 1990?**\n",
    "\n",
    "*Tip: one line of code should suffice*"
   ]
  },
  {
   "cell_type": "code",
   "execution_count": null,
   "id": "a89428f1-e922-4a71-a3e1-ba1389fd5bfd",
   "metadata": {},
   "outputs": [],
   "source": [
    "n = europe[europe['2022 Population'] < europe['1990 Population']].shape[0]"
   ]
  },
  {
   "cell_type": "markdown",
   "id": "b70f24f2-4bb7-4c8a-9c57-f541c8bf0360",
   "metadata": {},
   "source": [
    "**18 Based on the provided data, what does `Rank` mean?**"
   ]
  },
  {
   "cell_type": "code",
   "execution_count": null,
   "id": "57e21a2d-a473-4372-94d7-278f49eed8de",
   "metadata": {},
   "outputs": [],
   "source": [
    "df_sort = df.sort_values(by = 'Rank')[0:10]\n",
    "df_sort\n",
    "# Rank means the rank of country by population, since from the code above we can observe a positive relation between Rank and Population"
   ]
  },
  {
   "cell_type": "markdown",
   "id": "8665fe73-41b1-4b25-8c20-4d9f21c0c3e4",
   "metadata": {},
   "source": [
    "**19 Which has the smallest World Population in 2022?**\n",
    "\n",
    "*Tip: one line of code should suffice*"
   ]
  },
  {
   "cell_type": "code",
   "execution_count": null,
   "id": "e96abf8b-da4b-4dad-a0e9-3e36b591e21a",
   "metadata": {},
   "outputs": [],
   "source": [
    "small = df[df['2022 Population'] == min(df['2022 Population'])]"
   ]
  },
  {
   "cell_type": "markdown",
   "id": "c1e31b4c-c821-40cc-b4e4-4bcd69192db2",
   "metadata": {},
   "source": [
    "**20 Save the europe DataFrame into a new csv file named `europe_population.csv` in your data folder**\n",
    "\n",
    "*Tip: make sure to set the index to False*"
   ]
  },
  {
   "cell_type": "code",
   "execution_count": null,
   "id": "1e64bc57-ea03-494d-a6b7-586deb71bda2",
   "metadata": {},
   "outputs": [],
   "source": [
    "europe.to_csv(\"./data/europe_population.csv\", index=False)"
   ]
  }
 ],
 "metadata": {
  "kernelspec": {
   "display_name": "DataScraping Environment",
   "language": "python",
   "name": "datascraping"
  },
  "language_info": {
   "codemirror_mode": {
    "name": "ipython",
    "version": 3
   },
   "file_extension": ".py",
   "mimetype": "text/x-python",
   "name": "python",
   "nbconvert_exporter": "python",
   "pygments_lexer": "ipython3",
   "version": "3.9.20"
  }
 },
 "nbformat": 4,
 "nbformat_minor": 5
}

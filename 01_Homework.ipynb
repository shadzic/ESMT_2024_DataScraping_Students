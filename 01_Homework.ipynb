{
 "cells": [
  {
   "cell_type": "markdown",
   "id": "2c645cb7-0d2f-4676-b2b1-6ab036c699b2",
   "metadata": {},
   "source": [
    "# 01 Homework\n",
    "© Copyright: 2024, Selma Hadzic, all rights reserved.\n",
    "#### Number of points: 20 (weights 20% in the final grade)\n",
    "\n",
    "1. Pull from the `ESMT_2024_DataScraping_Lectures` repository: you should get this `01_Homework` file\n",
    "2. Launch VS Code and open your working-folder\n",
    "3. Create a `Session_01` folder, in which you create another folder called `data`\n",
    "4. Copy paste the notebook `01_Homework` from the lectures repo to the working-folder. Copy the csv file `world_population.csv` into the `working-folder/Session_01/data` directory.\n",
    "5. Do the exercises on 01_Homework in your working-folder. Keep all cells outputs/results in the notebook to be visible directly.\n",
    "6. Once you are finished, create a branch named **LASTNAME_firstname** (please use capital letters for the lastname - replace with your own name) in the `ESMT_2024_DataScraping_Students` repository\n",
    "7. Copy-Paste the notebook into `ESMT_2024_DataScraping_Students` folder in your computer\n",
    "8. Commit and push your homework in your branch before the deadline. **Push only the notebook, not the csv file!**"
   ]
  },
  {
   "cell_type": "markdown",
   "id": "130f7246-8f28-4192-93ef-c738ee63c9fb",
   "metadata": {},
   "source": [
    "#### Deadline: October 18th 08:59 am CET\n",
    "#### Any missed deadline without justification to the Administration will result in 0 points for this homework.\n",
    "#### If the Github branch is not correctly named using the indicated format **LASTNAME_firstname**, then a penalty of -5 points will be applied"
   ]
  },
  {
   "cell_type": "markdown",
   "id": "f8a20754-b809-4554-8580-24887bf1af6e",
   "metadata": {},
   "source": [
    " "
   ]
  },
  {
   "cell_type": "markdown",
   "id": "1e4985a0-09d6-44ba-b59b-e117168130de",
   "metadata": {},
   "source": [
    " "
   ]
  },
  {
   "cell_type": "markdown",
   "id": "737cc185-21f1-4164-9db0-8e8bac839151",
   "metadata": {},
   "source": [
    "\n",
    "\n",
    "\n",
    "\n",
    "\n",
    "\n",
    "## World Population"
   ]
  },
  {
   "cell_type": "markdown",
   "id": "fcf99d05-cb0f-4523-ac45-2477c7e0c2c0",
   "metadata": {},
   "source": [
    "The World Bank Open Data provides the population of the world per country and per year."
   ]
  },
  {
   "cell_type": "markdown",
   "id": "b9f2fd46-3278-4eaf-8c65-34896b45b7af",
   "metadata": {},
   "source": [
    "**1. Import the pandas package**"
   ]
  },
  {
   "cell_type": "code",
   "execution_count": 1,
   "id": "8131ebcf-4a44-4559-9199-966c41b8f6d1",
   "metadata": {},
   "outputs": [],
   "source": [
    "import pandas as pd"
   ]
  },
  {
   "cell_type": "markdown",
   "id": "3f9d367e-cbdc-4dcb-8c4c-a849dec8e50e",
   "metadata": {},
   "source": [
    "**2. Load the data as a DataFrame and assign it to a variable called `df`**"
   ]
  },
  {
   "cell_type": "code",
   "execution_count": 2,
   "id": "42d9b267-dd97-465e-9fb4-1d2fed40f7e9",
   "metadata": {},
   "outputs": [],
   "source": [
    "df = pd.read_csv('data/world_population.csv')"
   ]
  },
  {
   "cell_type": "markdown",
   "id": "58c4848f-a9aa-4632-a245-9745d62b7d65",
   "metadata": {},
   "source": [
    "**3. Display the first 5 rows**"
   ]
  },
  {
   "cell_type": "code",
   "execution_count": 3,
   "id": "0f2a3ade-b287-44d0-8fb5-8258d2e3bebc",
   "metadata": {},
   "outputs": [
    {
     "name": "stdout",
     "output_type": "stream",
     "text": [
      "   Rank CCA3 Country/Territory           Capital Continent  2022 Population  \\\n",
      "0    36  AFG       Afghanistan             Kabul      Asia         41128771   \n",
      "1   138  ALB           Albania            Tirana    Europe          2842321   \n",
      "2    34  DZA           Algeria           Algiers    Africa         44903225   \n",
      "3   213  ASM    American Samoa         Pago Pago   Oceania            44273   \n",
      "4   203  AND           Andorra  Andorra la Vella    Europe            79824   \n",
      "\n",
      "   2020 Population  2015 Population  2010 Population  2000 Population  \\\n",
      "0         38972230         33753499         28189672         19542982   \n",
      "1          2866849          2882481          2913399          3182021   \n",
      "2         43451666         39543154         35856344         30774621   \n",
      "3            46189            51368            54849            58230   \n",
      "4            77700            71746            71519            66097   \n",
      "\n",
      "   1990 Population  1980 Population  1970 Population  Area (km²)  \\\n",
      "0         10694796         12486631         10752971      652230   \n",
      "1          3295066          2941651          2324731       28748   \n",
      "2         25518074         18739378         13795915     2381741   \n",
      "3            47818            32886            27075         199   \n",
      "4            53569            35611            19860         468   \n",
      "\n",
      "   Density (per km²)  Growth Rate  World Population Percentage  \n",
      "0            63.0587       1.0257                         0.52  \n",
      "1            98.8702       0.9957                         0.04  \n",
      "2            18.8531       1.0164                         0.56  \n",
      "3           222.4774       0.9831                         0.00  \n",
      "4           170.5641       1.0100                         0.00  \n"
     ]
    }
   ],
   "source": [
    "print(df.head(5))"
   ]
  },
  {
   "cell_type": "markdown",
   "id": "d8b5d2e3-41ff-441b-a4be-ad63dcf41c4e",
   "metadata": {},
   "source": [
    "**4 Display the last 5 rows**"
   ]
  },
  {
   "cell_type": "code",
   "execution_count": 4,
   "id": "706580cd-9b02-4250-9702-43a8cb58a07e",
   "metadata": {},
   "outputs": [
    {
     "name": "stdout",
     "output_type": "stream",
     "text": [
      "     Rank CCA3  Country/Territory   Capital Continent  2022 Population  \\\n",
      "229   226  WLF  Wallis and Futuna  Mata-Utu   Oceania            11572   \n",
      "230   172  ESH     Western Sahara  El Aaiún    Africa           575986   \n",
      "231    46  YEM              Yemen     Sanaa      Asia         33696614   \n",
      "232    63  ZMB             Zambia    Lusaka    Africa         20017675   \n",
      "233    74  ZWE           Zimbabwe    Harare    Africa         16320537   \n",
      "\n",
      "     2020 Population  2015 Population  2010 Population  2000 Population  \\\n",
      "229            11655            12182            13142            14723   \n",
      "230           556048           491824           413296           270375   \n",
      "231         32284046         28516545         24743946         18628700   \n",
      "232         18927715         16248230         13792086          9891136   \n",
      "233         15669666         14154937         12839771         11834676   \n",
      "\n",
      "     1990 Population  1980 Population  1970 Population  Area (km²)  \\\n",
      "229            13454            11315             9377         142   \n",
      "230           178529           116775            76371      266000   \n",
      "231         13375121          9204938          6843607      527968   \n",
      "232          7686401          5720438          4281671      752612   \n",
      "233         10113893          7049926          5202918      390757   \n",
      "\n",
      "     Density (per km²)  Growth Rate  World Population Percentage  \n",
      "229            81.4930       0.9953                         0.00  \n",
      "230             2.1654       1.0184                         0.01  \n",
      "231            63.8232       1.0217                         0.42  \n",
      "232            26.5976       1.0280                         0.25  \n",
      "233            41.7665       1.0204                         0.20  \n"
     ]
    }
   ],
   "source": [
    "print(df.tail(5))"
   ]
  },
  {
   "cell_type": "markdown",
   "id": "5fdaa331-11cc-4a65-bac3-81e79322dd51",
   "metadata": {},
   "source": [
    "**5 Display the number of rows and columns**"
   ]
  },
  {
   "cell_type": "code",
   "execution_count": 5,
   "id": "2d8804d5-9018-41c7-9408-24781954f2f1",
   "metadata": {},
   "outputs": [
    {
     "name": "stdout",
     "output_type": "stream",
     "text": [
      "\n",
      "Number of rows: 234\n",
      "Number of columns: 17\n"
     ]
    }
   ],
   "source": [
    "num_rows, num_cols = df.shape\n",
    "print(\"\\nNumber of rows:\", num_rows)\n",
    "print(\"Number of columns:\", num_cols)"
   ]
  },
  {
   "cell_type": "markdown",
   "id": "5a565dfb-951c-4c2e-8bc0-a6cf8057f7a7",
   "metadata": {},
   "source": [
    "**6 Show the columns names**"
   ]
  },
  {
   "cell_type": "code",
   "execution_count": 6,
   "id": "4da6426e-0ea0-44b9-9ff7-3e4565e145e0",
   "metadata": {},
   "outputs": [
    {
     "data": {
      "text/plain": [
       "Index(['Rank', 'CCA3', 'Country/Territory', 'Capital', 'Continent',\n",
       "       '2022 Population', '2020 Population', '2015 Population',\n",
       "       '2010 Population', '2000 Population', '1990 Population',\n",
       "       '1980 Population', '1970 Population', 'Area (km²)', 'Density (per km²)',\n",
       "       'Growth Rate', 'World Population Percentage'],\n",
       "      dtype='object')"
      ]
     },
     "execution_count": 6,
     "metadata": {},
     "output_type": "execute_result"
    }
   ],
   "source": [
    "df.columns"
   ]
  },
  {
   "cell_type": "markdown",
   "id": "bdb0ae51-6c7b-4b51-958b-02e5d6972b40",
   "metadata": {},
   "source": [
    "**7 Select only the following columns: 'Continent', 'Country/Territory', 'Capital' and 'World Population Percentage'**\n",
    "\n",
    "**Assign this new DataFrame to the variable called `df_col`**"
   ]
  },
  {
   "cell_type": "code",
   "execution_count": 7,
   "id": "3261d98f-29fa-440d-805d-8a177b09e126",
   "metadata": {},
   "outputs": [],
   "source": [
    "df_col = df[['Continent', 'Country/Territory', 'Capital', 'World Population Percentage']]"
   ]
  },
  {
   "cell_type": "markdown",
   "id": "57d81d97-b44d-49cc-9d6c-797c035d0d7b",
   "metadata": {},
   "source": [
    "**8 Filter the DataFrame `df_col` created at the previous step to show only `Germany`**"
   ]
  },
  {
   "cell_type": "code",
   "execution_count": 32,
   "id": "dfb19d0f-672f-42b8-bb4a-f1e9f5b45fc7",
   "metadata": {},
   "outputs": [
    {
     "name": "stdout",
     "output_type": "stream",
     "text": [
      "   Continent Country/Territory Capital  World Population Percentage\n",
      "74    Europe           Germany  Berlin                         1.05\n"
     ]
    }
   ],
   "source": [
    "g_data = df_col[df_col['Country/Territory'] == 'Germany']\n",
    "print(g_data)"
   ]
  },
  {
   "cell_type": "markdown",
   "id": "194bc086-c44c-41c4-955f-7d9317a0c4c4",
   "metadata": {},
   "source": [
    "**9 Filter the DataFrame `df_col` created at step 7 to show only `Albania`, `Kiribati` and `Taiwan`**\n",
    "\n",
    "_Tip: research `.isin()`_"
   ]
  },
  {
   "cell_type": "code",
   "execution_count": 11,
   "id": "f931ab48-9294-423b-aa81-57f77199f282",
   "metadata": {},
   "outputs": [
    {
     "name": "stdout",
     "output_type": "stream",
     "text": [
      "    Continent Country/Territory Capital  World Population Percentage\n",
      "1      Europe           Albania  Tirana                         0.04\n",
      "107   Oceania          Kiribati  Tarawa                         0.00\n",
      "203      Asia            Taiwan  Taipei                         0.30\n"
     ]
    }
   ],
   "source": [
    "specific_countries = df_col[df_col['Country/Territory'].isin(['Albania', 'Kiribati', 'Taiwan'])]\n",
    "print(specific_countries)"
   ]
  },
  {
   "cell_type": "markdown",
   "id": "5611caa8-9569-49f2-aa7c-0ef98a7d86c2",
   "metadata": {},
   "source": [
    "**10 Using `df_col` from step 7, display the rows in the DataFrame where the `World Population Percentage is strictly bigger than 17`**"
   ]
  },
  {
   "cell_type": "code",
   "execution_count": 33,
   "id": "c5da58e1-312d-48a7-a014-30127de3ce2e",
   "metadata": {},
   "outputs": [
    {
     "name": "stdout",
     "output_type": "stream",
     "text": [
      "   Continent Country/Territory    Capital  World Population Percentage\n",
      "41      Asia             China    Beijing                        17.88\n",
      "92      Asia             India  New Delhi                        17.77\n"
     ]
    }
   ],
   "source": [
    "big_pop_percentage = df_col[df_col['World Population Percentage'] > 17]\n",
    "print(big_pop_percentage)"
   ]
  },
  {
   "cell_type": "markdown",
   "id": "33918842-d757-4953-b62e-223560667944",
   "metadata": {},
   "source": [
    "**10 Using `df_col` from step 7, select all rows where the `World Population Percentage` is strictly lower than 0.05 and the countries are located in `Africa`**\n",
    "\n",
    "*Tip: use a boolean mask*"
   ]
  },
  {
   "cell_type": "code",
   "execution_count": 18,
   "id": "ca5d5e38-ffa2-45cd-9796-af2d77d426f2",
   "metadata": {},
   "outputs": [
    {
     "name": "stdout",
     "output_type": "stream",
     "text": [
      "    Continent      Country/Territory      Capital  World Population Percentage\n",
      "26     Africa               Botswana     Gaborone                         0.03\n",
      "36     Africa             Cape Verde        Praia                         0.01\n",
      "43     Africa                Comoros       Moroni                         0.01\n",
      "52     Africa               Djibouti     Djibouti                         0.01\n",
      "59     Africa      Equatorial Guinea       Malabo                         0.02\n",
      "62     Africa               Eswatini      Mbabane                         0.02\n",
      "71     Africa                  Gabon   Libreville                         0.03\n",
      "72     Africa                 Gambia       Banjul                         0.03\n",
      "85     Africa          Guinea-Bissau       Bissau                         0.03\n",
      "113    Africa                Lesotho       Maseru                         0.03\n",
      "129    Africa              Mauritius   Port Louis                         0.02\n",
      "130    Africa                Mayotte    Mamoudzou                         0.00\n",
      "141    Africa                Namibia     Windhoek                         0.03\n",
      "169    Africa                Reunion  Saint-Denis                         0.01\n",
      "181    Africa  Sao Tome and Principe     São Tomé                         0.00\n",
      "185    Africa             Seychelles     Victoria                         0.00\n",
      "230    Africa         Western Sahara     El Aaiún                         0.01\n"
     ]
    }
   ],
   "source": [
    "low_pop_africa = df_col[(df_col['World Population Percentage'] < 0.05) & (df_col['Continent'] == 'Africa')]\n",
    "print(low_pop_africa)"
   ]
  },
  {
   "cell_type": "markdown",
   "id": "81441fea-f324-4505-9fb1-e2cea6021557",
   "metadata": {},
   "source": [
    "**11 Filter the `df_col` DataFrame to show only the countries whose name start with the letter `B`**"
   ]
  },
  {
   "cell_type": "code",
   "execution_count": 17,
   "id": "ed57a0ac-68bb-4810-a5d9-75344325fd03",
   "metadata": {},
   "outputs": [
    {
     "name": "stdout",
     "output_type": "stream",
     "text": [
      "        Continent       Country/Territory              Capital  \\\n",
      "14  North America                 Bahamas               Nassau   \n",
      "15           Asia                 Bahrain               Manama   \n",
      "16           Asia              Bangladesh                Dhaka   \n",
      "17  North America                Barbados           Bridgetown   \n",
      "18         Europe                 Belarus                Minsk   \n",
      "19         Europe                 Belgium             Brussels   \n",
      "20  North America                  Belize             Belmopan   \n",
      "21         Africa                   Benin           Porto-Novo   \n",
      "22  North America                 Bermuda             Hamilton   \n",
      "23           Asia                  Bhutan              Thimphu   \n",
      "24  South America                 Bolivia                Sucre   \n",
      "25         Europe  Bosnia and Herzegovina             Sarajevo   \n",
      "26         Africa                Botswana             Gaborone   \n",
      "27  South America                  Brazil             Brasilia   \n",
      "28  North America  British Virgin Islands            Road Town   \n",
      "29           Asia                  Brunei  Bandar Seri Begawan   \n",
      "30         Europe                Bulgaria                Sofia   \n",
      "31         Africa            Burkina Faso          Ouagadougou   \n",
      "32         Africa                 Burundi            Bujumbura   \n",
      "\n",
      "    World Population Percentage  \n",
      "14                         0.01  \n",
      "15                         0.02  \n",
      "16                         2.15  \n",
      "17                         0.00  \n",
      "18                         0.12  \n",
      "19                         0.15  \n",
      "20                         0.01  \n",
      "21                         0.17  \n",
      "22                         0.00  \n",
      "23                         0.01  \n",
      "24                         0.15  \n",
      "25                         0.04  \n",
      "26                         0.03  \n",
      "27                         2.70  \n",
      "28                         0.00  \n",
      "29                         0.01  \n",
      "30                         0.09  \n",
      "31                         0.28  \n",
      "32                         0.16  \n"
     ]
    }
   ],
   "source": [
    "countries_start_B = df_col[df_col['Country/Territory'].str.startswith('B')]\n",
    "print(countries_start_B)"
   ]
  },
  {
   "cell_type": "markdown",
   "id": "8f6db571-9d59-4baf-b088-54054b0012c4",
   "metadata": {},
   "source": [
    "**12 Filter the `df_col` DataFrame to show all the countries whose `World Population Percentage` are between 1 and 3**\n",
    "\n",
    "*Tip: use `.between()`*"
   ]
  },
  {
   "cell_type": "code",
   "execution_count": 16,
   "id": "4ce59f2b-9cdf-4f65-81b8-3616fe67063e",
   "metadata": {},
   "outputs": [
    {
     "name": "stdout",
     "output_type": "stream",
     "text": [
      "         Continent Country/Territory      Capital  World Population Percentage\n",
      "16            Asia        Bangladesh        Dhaka                         2.15\n",
      "27   South America            Brazil     Brasilia                         2.70\n",
      "55          Africa          DR Congo     Kinshasa                         1.24\n",
      "57          Africa             Egypt        Cairo                         1.39\n",
      "63          Africa          Ethiopia  Addis Ababa                         1.55\n",
      "74          Europe           Germany       Berlin                         1.05\n",
      "94            Asia              Iran       Tehran                         1.11\n",
      "102           Asia             Japan        Tokyo                         1.55\n",
      "131  North America            Mexico  Mexico City                         1.60\n",
      "149         Africa           Nigeria        Abuja                         2.74\n",
      "156           Asia          Pakistan    Islamabad                         2.96\n",
      "163           Asia       Philippines       Manila                         1.45\n",
      "171         Europe            Russia       Moscow                         1.81\n",
      "213           Asia            Turkey       Ankara                         1.07\n",
      "228           Asia           Vietnam        Hanoi                         1.23\n"
     ]
    }
   ],
   "source": [
    "countries_pop_1_and_3 = df_col[df_col['World Population Percentage'].between(1, 3)]\n",
    "print(countries_pop_1_and_3)"
   ]
  },
  {
   "cell_type": "markdown",
   "id": "ea7e12fc-6917-4e8b-b0d6-59477d704980",
   "metadata": {},
   "source": [
    "**13 Show the unique list of `Continents`**\n",
    "\n",
    "*Tip: use `.unique()`*"
   ]
  },
  {
   "cell_type": "code",
   "execution_count": 19,
   "id": "b4610ae8-c04d-483a-b5de-2a4f55870383",
   "metadata": {},
   "outputs": [
    {
     "data": {
      "text/plain": [
       "array(['Asia', 'Europe', 'Africa', 'Oceania', 'North America',\n",
       "       'South America'], dtype=object)"
      ]
     },
     "execution_count": 19,
     "metadata": {},
     "output_type": "execute_result"
    }
   ],
   "source": [
    "df['Continent'].unique()"
   ]
  },
  {
   "cell_type": "markdown",
   "id": "72c51c4b-90c0-45fb-914a-91301a7abc93",
   "metadata": {},
   "source": [
    "**14 Count the number of unique countries**\n",
    "\n",
    "*Tip: use `.nunique()`*"
   ]
  },
  {
   "cell_type": "code",
   "execution_count": 20,
   "id": "97dbaeba-3bb6-418b-ab9a-29af60884e48",
   "metadata": {},
   "outputs": [
    {
     "data": {
      "text/plain": [
       "234"
      ]
     },
     "execution_count": 20,
     "metadata": {},
     "output_type": "execute_result"
    }
   ],
   "source": [
    "df['Country/Territory'].nunique()"
   ]
  },
  {
   "cell_type": "markdown",
   "id": "5e6ef737-280f-4eb1-8a87-31385166a69d",
   "metadata": {},
   "source": [
    "**15 Using iloc and slicing, show the first 3 rows of the original DataFrame `df`**"
   ]
  },
  {
   "cell_type": "code",
   "execution_count": 21,
   "id": "c48505cf-9961-4634-bfa4-0c8355889d6e",
   "metadata": {},
   "outputs": [
    {
     "data": {
      "text/html": [
       "<div>\n",
       "<style scoped>\n",
       "    .dataframe tbody tr th:only-of-type {\n",
       "        vertical-align: middle;\n",
       "    }\n",
       "\n",
       "    .dataframe tbody tr th {\n",
       "        vertical-align: top;\n",
       "    }\n",
       "\n",
       "    .dataframe thead th {\n",
       "        text-align: right;\n",
       "    }\n",
       "</style>\n",
       "<table border=\"1\" class=\"dataframe\">\n",
       "  <thead>\n",
       "    <tr style=\"text-align: right;\">\n",
       "      <th></th>\n",
       "      <th>Rank</th>\n",
       "      <th>CCA3</th>\n",
       "      <th>Country/Territory</th>\n",
       "      <th>Capital</th>\n",
       "      <th>Continent</th>\n",
       "      <th>2022 Population</th>\n",
       "      <th>2020 Population</th>\n",
       "      <th>2015 Population</th>\n",
       "      <th>2010 Population</th>\n",
       "      <th>2000 Population</th>\n",
       "      <th>1990 Population</th>\n",
       "      <th>1980 Population</th>\n",
       "      <th>1970 Population</th>\n",
       "      <th>Area (km²)</th>\n",
       "      <th>Density (per km²)</th>\n",
       "      <th>Growth Rate</th>\n",
       "      <th>World Population Percentage</th>\n",
       "    </tr>\n",
       "  </thead>\n",
       "  <tbody>\n",
       "    <tr>\n",
       "      <th>0</th>\n",
       "      <td>36</td>\n",
       "      <td>AFG</td>\n",
       "      <td>Afghanistan</td>\n",
       "      <td>Kabul</td>\n",
       "      <td>Asia</td>\n",
       "      <td>41128771</td>\n",
       "      <td>38972230</td>\n",
       "      <td>33753499</td>\n",
       "      <td>28189672</td>\n",
       "      <td>19542982</td>\n",
       "      <td>10694796</td>\n",
       "      <td>12486631</td>\n",
       "      <td>10752971</td>\n",
       "      <td>652230</td>\n",
       "      <td>63.0587</td>\n",
       "      <td>1.0257</td>\n",
       "      <td>0.52</td>\n",
       "    </tr>\n",
       "    <tr>\n",
       "      <th>1</th>\n",
       "      <td>138</td>\n",
       "      <td>ALB</td>\n",
       "      <td>Albania</td>\n",
       "      <td>Tirana</td>\n",
       "      <td>Europe</td>\n",
       "      <td>2842321</td>\n",
       "      <td>2866849</td>\n",
       "      <td>2882481</td>\n",
       "      <td>2913399</td>\n",
       "      <td>3182021</td>\n",
       "      <td>3295066</td>\n",
       "      <td>2941651</td>\n",
       "      <td>2324731</td>\n",
       "      <td>28748</td>\n",
       "      <td>98.8702</td>\n",
       "      <td>0.9957</td>\n",
       "      <td>0.04</td>\n",
       "    </tr>\n",
       "    <tr>\n",
       "      <th>2</th>\n",
       "      <td>34</td>\n",
       "      <td>DZA</td>\n",
       "      <td>Algeria</td>\n",
       "      <td>Algiers</td>\n",
       "      <td>Africa</td>\n",
       "      <td>44903225</td>\n",
       "      <td>43451666</td>\n",
       "      <td>39543154</td>\n",
       "      <td>35856344</td>\n",
       "      <td>30774621</td>\n",
       "      <td>25518074</td>\n",
       "      <td>18739378</td>\n",
       "      <td>13795915</td>\n",
       "      <td>2381741</td>\n",
       "      <td>18.8531</td>\n",
       "      <td>1.0164</td>\n",
       "      <td>0.56</td>\n",
       "    </tr>\n",
       "  </tbody>\n",
       "</table>\n",
       "</div>"
      ],
      "text/plain": [
       "   Rank CCA3 Country/Territory  Capital Continent  2022 Population  \\\n",
       "0    36  AFG       Afghanistan    Kabul      Asia         41128771   \n",
       "1   138  ALB           Albania   Tirana    Europe          2842321   \n",
       "2    34  DZA           Algeria  Algiers    Africa         44903225   \n",
       "\n",
       "   2020 Population  2015 Population  2010 Population  2000 Population  \\\n",
       "0         38972230         33753499         28189672         19542982   \n",
       "1          2866849          2882481          2913399          3182021   \n",
       "2         43451666         39543154         35856344         30774621   \n",
       "\n",
       "   1990 Population  1980 Population  1970 Population  Area (km²)  \\\n",
       "0         10694796         12486631         10752971      652230   \n",
       "1          3295066          2941651          2324731       28748   \n",
       "2         25518074         18739378         13795915     2381741   \n",
       "\n",
       "   Density (per km²)  Growth Rate  World Population Percentage  \n",
       "0            63.0587       1.0257                         0.52  \n",
       "1            98.8702       0.9957                         0.04  \n",
       "2            18.8531       1.0164                         0.56  "
      ]
     },
     "execution_count": 21,
     "metadata": {},
     "output_type": "execute_result"
    }
   ],
   "source": [
    "df.iloc[:3]"
   ]
  },
  {
   "cell_type": "markdown",
   "id": "c212d888-c0e0-42c2-859c-a67a9c23adc4",
   "metadata": {},
   "source": [
    "**16 Starting from the original DataFrame `df`, create a new DataFrame called `europe` that contains only the countries from Europe**"
   ]
  },
  {
   "cell_type": "code",
   "execution_count": 24,
   "id": "29ff2841-616f-48be-9804-a531893400e0",
   "metadata": {},
   "outputs": [],
   "source": [
    "europe = df[df['Continent'] == 'Europe']\n"
   ]
  },
  {
   "cell_type": "markdown",
   "id": "47c864fc-897c-4d0d-b843-d524aafb4d5c",
   "metadata": {},
   "source": [
    "**17 How many countries in Europe have a 2022 Population strictly smaller than in 1990?**\n",
    "\n",
    "*Tip: one line of code should suffice*"
   ]
  },
  {
   "cell_type": "code",
   "execution_count": 36,
   "id": "a89428f1-e922-4a71-a3e1-ba1389fd5bfd",
   "metadata": {},
   "outputs": [
    {
     "name": "stdout",
     "output_type": "stream",
     "text": [
      "\n",
      "Nr of countries in Europe with 2022 Population smaller than population in 1990: 15\n"
     ]
    }
   ],
   "source": [
    "countries = europe[europe['2022 Population'] < europe['1990 Population']]\n",
    "nr_smaller_countries = countries.shape[0]\n",
    "print(\"\\nNr of countries in Europe with 2022 Population smaller than population in 1990:\", nr_smaller_countries)"
   ]
  },
  {
   "cell_type": "markdown",
   "id": "b70f24f2-4bb7-4c8a-9c57-f541c8bf0360",
   "metadata": {},
   "source": [
    "**18 Based on the provided data, what does `Rank` mean?**"
   ]
  },
  {
   "cell_type": "code",
   "execution_count": 37,
   "id": "57e21a2d-a473-4372-94d7-278f49eed8de",
   "metadata": {},
   "outputs": [
    {
     "name": "stdout",
     "output_type": "stream",
     "text": [
      "     Rank  2022 Population  2020 Population  2015 Population  2010 Population  \\\n",
      "41      1       1425887337       1424929781       1393715448       1348191368   \n",
      "92      2       1417173173       1396387127       1322866505       1240613620   \n",
      "221     3        338289857        335942003        324607776        311182845   \n",
      "93      4        275501339        271857970        259091970        244016173   \n",
      "156     5        235824862        227196741        210969298        194454498   \n",
      "..    ...              ...              ...              ...              ...   \n",
      "137   230             4390             4500             5059             4938   \n",
      "64    231             3780             3747             3408             3187   \n",
      "150   232             1934             1942             1847             1812   \n",
      "209   233             1871             1827             1454             1367   \n",
      "226   234              510              520              564              596   \n",
      "\n",
      "     2000 Population  1990 Population  1980 Population  1970 Population  \n",
      "41        1264099069       1153704252        982372466        822534450  \n",
      "92        1059633675        870452165        696828385        557501301  \n",
      "221        282398554        248083732        223140018        200328340  \n",
      "93         214072421        182159874        148177096        115228394  \n",
      "156        154369924        115414069         80624057         59290872  \n",
      "..               ...              ...              ...              ...  \n",
      "137             5138            10805            11452            11402  \n",
      "64              3080             2332             2240             2274  \n",
      "150             2074             2533             3637             5185  \n",
      "209             1666             1669             1647             1714  \n",
      "226              651              700              733              752  \n",
      "\n",
      "[234 rows x 9 columns]\n"
     ]
    }
   ],
   "source": [
    "# Give your answer using a comment and add some code to explain why\n",
    "#The 'Rank' shows the order of countries based on the population size for a 2022, starting with the highest population.\n",
    "\n",
    "#print(df.head())\n",
    "\n",
    "sorted_df = df.sort_values(by='2022 Population', ascending=False)\n",
    "\n",
    "print(sorted_df[['Rank', '2022 Population', '2020 Population', '2015 Population',\n",
    "       '2010 Population', '2000 Population', '1990 Population',\n",
    "       '1980 Population', '1970 Population']]) #as we can see from the output the rank is in ascending order and the number of population for 2022 is descending"
   ]
  },
  {
   "cell_type": "markdown",
   "id": "8665fe73-41b1-4b25-8c20-4d9f21c0c3e4",
   "metadata": {},
   "source": [
    "**19 Which has the smallest World Population in 2022?**\n",
    "\n",
    "*Tip: one line of code should suffice*"
   ]
  },
  {
   "cell_type": "code",
   "execution_count": 28,
   "id": "e96abf8b-da4b-4dad-a0e9-3e36b591e21a",
   "metadata": {},
   "outputs": [
    {
     "data": {
      "text/plain": [
       "Country/Territory    Vatican City\n",
       "2022 Population               510\n",
       "Name: 226, dtype: object"
      ]
     },
     "execution_count": 28,
     "metadata": {},
     "output_type": "execute_result"
    }
   ],
   "source": [
    "df.loc[df['2022 Population'].idxmin(), ['Country/Territory', '2022 Population']]\n"
   ]
  },
  {
   "cell_type": "markdown",
   "id": "c1e31b4c-c821-40cc-b4e4-4bcd69192db2",
   "metadata": {},
   "source": [
    "**20 Save the europe DataFrame into a new csv file named `europe_population.csv` in your data folder**\n",
    "\n",
    "*Tip: make sure to set the index to False*"
   ]
  },
  {
   "cell_type": "code",
   "execution_count": 27,
   "id": "1e64bc57-ea03-494d-a6b7-586deb71bda2",
   "metadata": {},
   "outputs": [],
   "source": [
    "europe.to_csv('data/europe_population.csv', index=False)"
   ]
  },
  {
   "cell_type": "code",
   "execution_count": null,
   "id": "f26aaa9f-83c5-475e-82a0-ed114749c773",
   "metadata": {},
   "outputs": [],
   "source": []
  }
 ],
 "metadata": {
  "kernelspec": {
   "display_name": "Python 3",
   "language": "python",
   "name": "python3"
  },
  "language_info": {
   "codemirror_mode": {
    "name": "ipython",
    "version": 3
   },
   "file_extension": ".py",
   "mimetype": "text/x-python",
   "name": "python",
   "nbconvert_exporter": "python",
   "pygments_lexer": "ipython3",
   "version": "3.10.11"
  }
 },
 "nbformat": 4,
 "nbformat_minor": 5
}

{
 "cells": [
  {
   "cell_type": "markdown",
   "id": "ce9be197",
   "metadata": {},
   "source": [
    "# 01 Homework\n",
    "© Copyright: 2024, Selma Hadzic, all rights reserved.\n",
    "#### Number of points: 20 (weights 20% in the final grade)\n",
    "\n",
    "1. Pull from the `ESMT_2024_DataScraping_Lectures` repository: you should get this `01_Homework` file\n",
    "2. Launch VS Code and open your working-folder\n",
    "3. Create a `Session_01` folder, in which you create another folder called `data`\n",
    "4. Copy paste the notebook `01_Homework` from the lectures repo to the working-folder. Copy the csv file `world_population.csv` into the `working-folder/Session_01/data` directory.\n",
    "5. Do the exercises on 01_Homework in your working-folder. Keep all cells outputs/results in the notebook to be visible directly.\n",
    "6. Once you are finished, create a branch named **LASTNAME_firstname** (please use capital letters for the lastname - replace with your own name) in the `ESMT_2024_DataScraping_Students` repository\n",
    "7. Copy-Paste the notebook into `ESMT_2024_DataScraping_Students` folder in your computer\n",
    "8. Commit and push your homework in your branch before the deadline. **Push only the notebook, not the csv file!**"
   ]
  },
  {
   "cell_type": "markdown",
   "id": "121dbb97",
   "metadata": {},
   "source": [
    "#### Deadline: October 18th 08:59 am CET\n",
    "#### Any missed deadline without justification to the Administration will result in 0 points for this homework.\n",
    "#### If the Github branch is not correctly named using the indicated format **LASTNAME_firstname**, then a penalty of -5 points will be applied"
   ]
  },
  {
   "cell_type": "markdown",
   "id": "61b48d76",
   "metadata": {},
   "source": [
    " "
   ]
  },
  {
   "cell_type": "markdown",
   "id": "6b403aa0",
   "metadata": {},
   "source": [
    " "
   ]
  },
  {
   "cell_type": "markdown",
   "id": "965d2b7e",
   "metadata": {},
   "source": [
    "\n",
    "\n",
    "\n",
    "\n",
    "\n",
    "\n",
    "## World Population"
   ]
  },
  {
   "cell_type": "markdown",
   "id": "0ae34232",
   "metadata": {},
   "source": [
    "The World Bank Open Data provides the population of the world per country and per year."
   ]
  },
  {
   "cell_type": "markdown",
   "id": "8deca233",
   "metadata": {},
   "source": [
    "**1. Import the pandas package**"
   ]
  },
  {
   "cell_type": "code",
   "execution_count": 1,
   "id": "160680d9",
   "metadata": {},
   "outputs": [],
   "source": [
    "import pandas as pd"
   ]
  },
  {
   "cell_type": "markdown",
   "id": "a1bf4ff1",
   "metadata": {},
   "source": [
    "**2. Load the data as a DataFrame and assign it to a variable called `df`**"
   ]
  },
  {
   "cell_type": "code",
   "execution_count": 2,
   "id": "59ac3fbd",
   "metadata": {},
   "outputs": [],
   "source": [
    "df = pd.read_csv('./data/world_population.csv')"
   ]
  },
  {
   "cell_type": "markdown",
   "id": "da5b30b0",
   "metadata": {},
   "source": [
    "**3. Display the first 5 rows**"
   ]
  },
  {
   "cell_type": "code",
   "execution_count": 8,
   "id": "721d4d9f",
   "metadata": {},
   "outputs": [
    {
     "name": "stdout",
     "output_type": "stream",
     "text": [
      "   Rank CCA3 Country/Territory           Capital Continent  2022 Population  \\\n",
      "0    36  AFG       Afghanistan             Kabul      Asia         41128771   \n",
      "1   138  ALB           Albania            Tirana    Europe          2842321   \n",
      "2    34  DZA           Algeria           Algiers    Africa         44903225   \n",
      "3   213  ASM    American Samoa         Pago Pago   Oceania            44273   \n",
      "4   203  AND           Andorra  Andorra la Vella    Europe            79824   \n",
      "\n",
      "   2020 Population  2015 Population  2010 Population  2000 Population  \\\n",
      "0         38972230         33753499         28189672         19542982   \n",
      "1          2866849          2882481          2913399          3182021   \n",
      "2         43451666         39543154         35856344         30774621   \n",
      "3            46189            51368            54849            58230   \n",
      "4            77700            71746            71519            66097   \n",
      "\n",
      "   1990 Population  1980 Population  1970 Population  Area (km²)  \\\n",
      "0         10694796         12486631         10752971      652230   \n",
      "1          3295066          2941651          2324731       28748   \n",
      "2         25518074         18739378         13795915     2381741   \n",
      "3            47818            32886            27075         199   \n",
      "4            53569            35611            19860         468   \n",
      "\n",
      "   Density (per km²)  Growth Rate  World Population Percentage  \n",
      "0            63.0587       1.0257                         0.52  \n",
      "1            98.8702       0.9957                         0.04  \n",
      "2            18.8531       1.0164                         0.56  \n",
      "3           222.4774       0.9831                         0.00  \n",
      "4           170.5641       1.0100                         0.00  \n"
     ]
    }
   ],
   "source": [
    "# To get the first 5 rows\n",
    "print(df.head(5))"
   ]
  },
  {
   "cell_type": "markdown",
   "id": "e6290601",
   "metadata": {},
   "source": [
    "**4 Display the last 5 rows**"
   ]
  },
  {
   "cell_type": "code",
   "execution_count": 9,
   "id": "65d26988",
   "metadata": {},
   "outputs": [
    {
     "name": "stdout",
     "output_type": "stream",
     "text": [
      "     Rank CCA3  Country/Territory   Capital Continent  2022 Population  \\\n",
      "229   226  WLF  Wallis and Futuna  Mata-Utu   Oceania            11572   \n",
      "230   172  ESH     Western Sahara  El Aaiún    Africa           575986   \n",
      "231    46  YEM              Yemen     Sanaa      Asia         33696614   \n",
      "232    63  ZMB             Zambia    Lusaka    Africa         20017675   \n",
      "233    74  ZWE           Zimbabwe    Harare    Africa         16320537   \n",
      "\n",
      "     2020 Population  2015 Population  2010 Population  2000 Population  \\\n",
      "229            11655            12182            13142            14723   \n",
      "230           556048           491824           413296           270375   \n",
      "231         32284046         28516545         24743946         18628700   \n",
      "232         18927715         16248230         13792086          9891136   \n",
      "233         15669666         14154937         12839771         11834676   \n",
      "\n",
      "     1990 Population  1980 Population  1970 Population  Area (km²)  \\\n",
      "229            13454            11315             9377         142   \n",
      "230           178529           116775            76371      266000   \n",
      "231         13375121          9204938          6843607      527968   \n",
      "232          7686401          5720438          4281671      752612   \n",
      "233         10113893          7049926          5202918      390757   \n",
      "\n",
      "     Density (per km²)  Growth Rate  World Population Percentage  \n",
      "229            81.4930       0.9953                         0.00  \n",
      "230             2.1654       1.0184                         0.01  \n",
      "231            63.8232       1.0217                         0.42  \n",
      "232            26.5976       1.0280                         0.25  \n",
      "233            41.7665       1.0204                         0.20  \n"
     ]
    }
   ],
   "source": [
    "# To get the last 5 rows\n",
    "print(df.tail(5))"
   ]
  },
  {
   "cell_type": "markdown",
   "id": "3cfa2f13",
   "metadata": {},
   "source": [
    "**5 Display the number of rows and columns**"
   ]
  },
  {
   "cell_type": "code",
   "execution_count": 11,
   "id": "e3f255eb",
   "metadata": {},
   "outputs": [
    {
     "name": "stdout",
     "output_type": "stream",
     "text": [
      "Number of Rows:  234\n",
      "Number of Columns:  17\n"
     ]
    }
   ],
   "source": [
    "# Computing number of rows\n",
    "rows = len(df.axes[0])\n",
    " \n",
    "# Computing number of columns\n",
    "cols = len(df.axes[1])\n",
    " \n",
    "print(\"Number of Rows: \", rows)\n",
    "print(\"Number of Columns: \", cols)"
   ]
  },
  {
   "cell_type": "markdown",
   "id": "5506c0d9",
   "metadata": {},
   "source": [
    "**6 Show the columns names**"
   ]
  },
  {
   "cell_type": "code",
   "execution_count": 14,
   "id": "653b4e8a",
   "metadata": {},
   "outputs": [
    {
     "name": "stdout",
     "output_type": "stream",
     "text": [
      "Index(['Rank', 'CCA3', 'Country/Territory', 'Capital', 'Continent',\n",
      "       '2022 Population', '2020 Population', '2015 Population',\n",
      "       '2010 Population', '2000 Population', '1990 Population',\n",
      "       '1980 Population', '1970 Population', 'Area (km²)', 'Density (per km²)',\n",
      "       'Growth Rate', 'World Population Percentage'],\n",
      "      dtype='object')\n"
     ]
    }
   ],
   "source": [
    "print(df.columns)"
   ]
  },
  {
   "cell_type": "markdown",
   "id": "faef3e1f",
   "metadata": {},
   "source": [
    "**7 Select only the following columns: 'Continent', 'Country/Territory', 'Capital' and 'World Population Percentage'**\n",
    "\n",
    "**Assign this new DataFrame to the variable called `df_col`**"
   ]
  },
  {
   "cell_type": "code",
   "execution_count": 16,
   "id": "5452be93",
   "metadata": {
    "scrolled": true
   },
   "outputs": [
    {
     "name": "stdout",
     "output_type": "stream",
     "text": [
      "    Continent  Country/Territory           Capital  \\\n",
      "0        Asia        Afghanistan             Kabul   \n",
      "1      Europe            Albania            Tirana   \n",
      "2      Africa            Algeria           Algiers   \n",
      "3     Oceania     American Samoa         Pago Pago   \n",
      "4      Europe            Andorra  Andorra la Vella   \n",
      "..        ...                ...               ...   \n",
      "229   Oceania  Wallis and Futuna          Mata-Utu   \n",
      "230    Africa     Western Sahara          El Aaiún   \n",
      "231      Asia              Yemen             Sanaa   \n",
      "232    Africa             Zambia            Lusaka   \n",
      "233    Africa           Zimbabwe            Harare   \n",
      "\n",
      "     World Population Percentage  \n",
      "0                           0.52  \n",
      "1                           0.04  \n",
      "2                           0.56  \n",
      "3                           0.00  \n",
      "4                           0.00  \n",
      "..                           ...  \n",
      "229                         0.00  \n",
      "230                         0.01  \n",
      "231                         0.42  \n",
      "232                         0.25  \n",
      "233                         0.20  \n",
      "\n",
      "[234 rows x 4 columns]\n"
     ]
    }
   ],
   "source": [
    "# Select specific columns and assign to a new DataFrame\n",
    "df_col = df[['Continent', 'Country/Territory', 'Capital', 'World Population Percentage']]\n",
    "print(df_col)"
   ]
  },
  {
   "cell_type": "markdown",
   "id": "e6b93f43",
   "metadata": {},
   "source": [
    "**8 Filter the DataFrame `df_col` created at the previous step to show only `Germany`**"
   ]
  },
  {
   "cell_type": "code",
   "execution_count": 17,
   "id": "484c87d6",
   "metadata": {},
   "outputs": [
    {
     "name": "stdout",
     "output_type": "stream",
     "text": [
      "   Continent Country/Territory Capital  World Population Percentage\n",
      "74    Europe           Germany  Berlin                         1.05\n"
     ]
    }
   ],
   "source": [
    "# Filter the DataFrame to show only Germany\n",
    "germany_df = df_col[df_col['Country/Territory'] == 'Germany']\n",
    "print(germany_df)\n"
   ]
  },
  {
   "cell_type": "markdown",
   "id": "1f5824dc",
   "metadata": {},
   "source": [
    "**9 Filter the DataFrame `df_col` created at step 7 to show only `Albania`, `Kiribati` and `Taiwan`**\n",
    "\n",
    "_Tip: research `.isin()`_"
   ]
  },
  {
   "cell_type": "code",
   "execution_count": 18,
   "id": "e77cf66d",
   "metadata": {},
   "outputs": [
    {
     "name": "stdout",
     "output_type": "stream",
     "text": [
      "    Continent Country/Territory Capital  World Population Percentage\n",
      "1      Europe           Albania  Tirana                         0.04\n",
      "107   Oceania          Kiribati  Tarawa                         0.00\n",
      "203      Asia            Taiwan  Taipei                         0.30\n"
     ]
    }
   ],
   "source": [
    "# Filter the DataFrame to show only Albania, Kiribati, and Taiwan\n",
    "new_df = df_col[df_col['Country/Territory'].isin(['Albania', 'Kiribati', 'Taiwan'])]\n",
    "print(new_df)\n"
   ]
  },
  {
   "cell_type": "markdown",
   "id": "21c2a669",
   "metadata": {},
   "source": [
    "**10 Using `df_col` from step 7, display the rows in the DataFrame where the `World Population Percentage is strictly bigger than 17`**"
   ]
  },
  {
   "cell_type": "code",
   "execution_count": 19,
   "id": "f4e20491",
   "metadata": {},
   "outputs": [
    {
     "name": "stdout",
     "output_type": "stream",
     "text": [
      "   Continent Country/Territory    Capital  World Population Percentage\n",
      "41      Asia             China    Beijing                        17.88\n",
      "92      Asia             India  New Delhi                        17.77\n"
     ]
    }
   ],
   "source": [
    "# Filter the DataFrame for World Population Percentage greater than 17\n",
    "filtered_population = df_col[df_col['World Population Percentage'] > 17]\n",
    "print(filtered_population)\n"
   ]
  },
  {
   "cell_type": "markdown",
   "id": "067aa273",
   "metadata": {},
   "source": [
    "**10 Using `df_col` from step 7, select all rows where the `World Population Percentage` is strictly lower than 0.05 and the countries are located in `Africa`**\n",
    "\n",
    "*Tip: use a boolean mask*"
   ]
  },
  {
   "cell_type": "code",
   "execution_count": 20,
   "id": "ceb11b6c",
   "metadata": {},
   "outputs": [
    {
     "name": "stdout",
     "output_type": "stream",
     "text": [
      "    Continent      Country/Territory      Capital  World Population Percentage\n",
      "26     Africa               Botswana     Gaborone                         0.03\n",
      "36     Africa             Cape Verde        Praia                         0.01\n",
      "43     Africa                Comoros       Moroni                         0.01\n",
      "52     Africa               Djibouti     Djibouti                         0.01\n",
      "59     Africa      Equatorial Guinea       Malabo                         0.02\n",
      "62     Africa               Eswatini      Mbabane                         0.02\n",
      "71     Africa                  Gabon   Libreville                         0.03\n",
      "72     Africa                 Gambia       Banjul                         0.03\n",
      "85     Africa          Guinea-Bissau       Bissau                         0.03\n",
      "113    Africa                Lesotho       Maseru                         0.03\n",
      "129    Africa              Mauritius   Port Louis                         0.02\n",
      "130    Africa                Mayotte    Mamoudzou                         0.00\n",
      "141    Africa                Namibia     Windhoek                         0.03\n",
      "169    Africa                Reunion  Saint-Denis                         0.01\n",
      "181    Africa  Sao Tome and Principe     São Tomé                         0.00\n",
      "185    Africa             Seychelles     Victoria                         0.00\n",
      "230    Africa         Western Sahara     El Aaiún                         0.01\n"
     ]
    }
   ],
   "source": [
    "# Filter the DataFrame for countries in Africa with World Population Percentage lower than 0.05\n",
    "africa_population = df_col[(df_col['World Population Percentage'] < 0.05) & (df_col['Continent'] == 'Africa')]\n",
    "\n",
    "# Display the result\n",
    "print(africa_population)"
   ]
  },
  {
   "cell_type": "markdown",
   "id": "e9dd0946",
   "metadata": {},
   "source": [
    "**11 Filter the `df_col` DataFrame to show only the countries whose name start with the letter `B`**"
   ]
  },
  {
   "cell_type": "code",
   "execution_count": 21,
   "id": "520972e9",
   "metadata": {},
   "outputs": [
    {
     "name": "stdout",
     "output_type": "stream",
     "text": [
      "        Continent       Country/Territory              Capital  \\\n",
      "14  North America                 Bahamas               Nassau   \n",
      "15           Asia                 Bahrain               Manama   \n",
      "16           Asia              Bangladesh                Dhaka   \n",
      "17  North America                Barbados           Bridgetown   \n",
      "18         Europe                 Belarus                Minsk   \n",
      "19         Europe                 Belgium             Brussels   \n",
      "20  North America                  Belize             Belmopan   \n",
      "21         Africa                   Benin           Porto-Novo   \n",
      "22  North America                 Bermuda             Hamilton   \n",
      "23           Asia                  Bhutan              Thimphu   \n",
      "24  South America                 Bolivia                Sucre   \n",
      "25         Europe  Bosnia and Herzegovina             Sarajevo   \n",
      "26         Africa                Botswana             Gaborone   \n",
      "27  South America                  Brazil             Brasilia   \n",
      "28  North America  British Virgin Islands            Road Town   \n",
      "29           Asia                  Brunei  Bandar Seri Begawan   \n",
      "30         Europe                Bulgaria                Sofia   \n",
      "31         Africa            Burkina Faso          Ouagadougou   \n",
      "32         Africa                 Burundi            Bujumbura   \n",
      "\n",
      "    World Population Percentage  \n",
      "14                         0.01  \n",
      "15                         0.02  \n",
      "16                         2.15  \n",
      "17                         0.00  \n",
      "18                         0.12  \n",
      "19                         0.15  \n",
      "20                         0.01  \n",
      "21                         0.17  \n",
      "22                         0.00  \n",
      "23                         0.01  \n",
      "24                         0.15  \n",
      "25                         0.04  \n",
      "26                         0.03  \n",
      "27                         2.70  \n",
      "28                         0.00  \n",
      "29                         0.01  \n",
      "30                         0.09  \n",
      "31                         0.28  \n",
      "32                         0.16  \n"
     ]
    }
   ],
   "source": [
    "B = df_col[df_col['Country/Territory'].str.startswith('B')]\n",
    "print(B)"
   ]
  },
  {
   "cell_type": "markdown",
   "id": "c833d696",
   "metadata": {},
   "source": [
    "**12 Filter the `df_col` DataFrame to show all the countries whose `World Population Percentage` are between 1 and 3**\n",
    "\n",
    "*Tip: use `.between()`*"
   ]
  },
  {
   "cell_type": "code",
   "execution_count": 22,
   "id": "6c5e5886",
   "metadata": {},
   "outputs": [
    {
     "name": "stdout",
     "output_type": "stream",
     "text": [
      "         Continent Country/Territory      Capital  World Population Percentage\n",
      "16            Asia        Bangladesh        Dhaka                         2.15\n",
      "27   South America            Brazil     Brasilia                         2.70\n",
      "55          Africa          DR Congo     Kinshasa                         1.24\n",
      "57          Africa             Egypt        Cairo                         1.39\n",
      "63          Africa          Ethiopia  Addis Ababa                         1.55\n",
      "74          Europe           Germany       Berlin                         1.05\n",
      "94            Asia              Iran       Tehran                         1.11\n",
      "102           Asia             Japan        Tokyo                         1.55\n",
      "131  North America            Mexico  Mexico City                         1.60\n",
      "149         Africa           Nigeria        Abuja                         2.74\n",
      "156           Asia          Pakistan    Islamabad                         2.96\n",
      "163           Asia       Philippines       Manila                         1.45\n",
      "171         Europe            Russia       Moscow                         1.81\n",
      "213           Asia            Turkey       Ankara                         1.07\n",
      "228           Asia           Vietnam        Hanoi                         1.23\n"
     ]
    }
   ],
   "source": [
    "# Filter the DataFrame for World Population Percentage between 1 and 3\n",
    "country_population = df_col[df_col['World Population Percentage'].between(1, 3)]\n",
    "print(country_population)\n"
   ]
  },
  {
   "cell_type": "markdown",
   "id": "09609615",
   "metadata": {},
   "source": [
    "**13 Show the unique list of `Continents`**\n",
    "\n",
    "*Tip: use `.unique()`*"
   ]
  },
  {
   "cell_type": "code",
   "execution_count": 23,
   "id": "3154d7cb",
   "metadata": {},
   "outputs": [
    {
     "name": "stdout",
     "output_type": "stream",
     "text": [
      "['Asia' 'Europe' 'Africa' 'Oceania' 'North America' 'South America']\n"
     ]
    }
   ],
   "source": [
    "# Get the unique list of continents\n",
    "unique_continents = df_col['Continent'].unique()\n",
    "print(unique_continents)"
   ]
  },
  {
   "cell_type": "markdown",
   "id": "6ad53de1",
   "metadata": {},
   "source": [
    "**14 Count the number of unique countries**\n",
    "\n",
    "*Tip: use `.nunique()`*"
   ]
  },
  {
   "cell_type": "code",
   "execution_count": 26,
   "id": "25884cf4",
   "metadata": {},
   "outputs": [
    {
     "name": "stdout",
     "output_type": "stream",
     "text": [
      "234\n"
     ]
    }
   ],
   "source": [
    "# Count the number of unique countries\n",
    "unique_country_count = df['Country/Territory'].nunique()\n",
    "print(unique_country_count)\n"
   ]
  },
  {
   "cell_type": "markdown",
   "id": "c7d25c0d",
   "metadata": {},
   "source": [
    "**15 Using iloc and slicing, show the first 3 rows of the original DataFrame `df`**"
   ]
  },
  {
   "cell_type": "code",
   "execution_count": 24,
   "id": "5b6c014b",
   "metadata": {},
   "outputs": [
    {
     "name": "stdout",
     "output_type": "stream",
     "text": [
      "   Rank CCA3 Country/Territory  Capital Continent  2022 Population  \\\n",
      "0    36  AFG       Afghanistan    Kabul      Asia         41128771   \n",
      "1   138  ALB           Albania   Tirana    Europe          2842321   \n",
      "2    34  DZA           Algeria  Algiers    Africa         44903225   \n",
      "\n",
      "   2020 Population  2015 Population  2010 Population  2000 Population  \\\n",
      "0         38972230         33753499         28189672         19542982   \n",
      "1          2866849          2882481          2913399          3182021   \n",
      "2         43451666         39543154         35856344         30774621   \n",
      "\n",
      "   1990 Population  1980 Population  1970 Population  Area (km²)  \\\n",
      "0         10694796         12486631         10752971      652230   \n",
      "1          3295066          2941651          2324731       28748   \n",
      "2         25518074         18739378         13795915     2381741   \n",
      "\n",
      "   Density (per km²)  Growth Rate  World Population Percentage  \n",
      "0            63.0587       1.0257                         0.52  \n",
      "1            98.8702       0.9957                         0.04  \n",
      "2            18.8531       1.0164                         0.56  \n"
     ]
    }
   ],
   "source": [
    "# Getting first 3 rows from df \n",
    "df_first_3 = df.iloc[:3] \n",
    "print(df_first_3)"
   ]
  },
  {
   "cell_type": "markdown",
   "id": "8a8032d7",
   "metadata": {},
   "source": [
    "**16 Starting from the original DataFrame `df`, create a new DataFrame called `europe` that contains only the countries from Europe**"
   ]
  },
  {
   "cell_type": "code",
   "execution_count": 25,
   "id": "bc86fbbc",
   "metadata": {},
   "outputs": [
    {
     "name": "stdout",
     "output_type": "stream",
     "text": [
      "     Rank CCA3       Country/Territory           Capital Continent  \\\n",
      "1     138  ALB                 Albania            Tirana    Europe   \n",
      "4     203  AND                 Andorra  Andorra la Vella    Europe   \n",
      "12     99  AUT                 Austria            Vienna    Europe   \n",
      "18     96  BLR                 Belarus             Minsk    Europe   \n",
      "19     81  BEL                 Belgium          Brussels    Europe   \n",
      "25    137  BIH  Bosnia and Herzegovina          Sarajevo    Europe   \n",
      "30    108  BGR                Bulgaria             Sofia    Europe   \n",
      "46    130  HRV                 Croatia            Zagreb    Europe   \n",
      "49    158  CYP                  Cyprus           Nicosia    Europe   \n",
      "50     88  CZE          Czech Republic            Prague    Europe   \n",
      "51    115  DNK                 Denmark        Copenhagen    Europe   \n",
      "61    156  EST                 Estonia           Tallinn    Europe   \n",
      "65    209  FRO           Faroe Islands          Tórshavn    Europe   \n",
      "67    118  FIN                 Finland          Helsinki    Europe   \n",
      "68     23  FRA                  France             Paris    Europe   \n",
      "74     19  DEU                 Germany            Berlin    Europe   \n",
      "76    219  GIB               Gibraltar         Gibraltar    Europe   \n",
      "77     90  GRC                  Greece            Athens    Europe   \n",
      "83    207  GGY                Guernsey  Saint Peter Port    Europe   \n",
      "90     94  HUN                 Hungary          Budapest    Europe   \n",
      "91    179  ISL                 Iceland         Reykjavík    Europe   \n",
      "96    125  IRL                 Ireland            Dublin    Europe   \n",
      "97    202  IMN             Isle of Man           Douglas    Europe   \n",
      "99     25  ITA                   Italy              Rome    Europe   \n",
      "103   195  JEY                  Jersey      Saint Helier    Europe   \n",
      "111   151  LVA                  Latvia              Riga    Europe   \n",
      "116   216  LIE           Liechtenstein             Vaduz    Europe   \n",
      "117   141  LTU               Lithuania           Vilnius    Europe   \n",
      "118   168  LUX              Luxembourg        Luxembourg    Europe   \n",
      "125   173  MLT                   Malta          Valletta    Europe   \n",
      "133   135  MDA                 Moldova          Chisinau    Europe   \n",
      "134   217  MCO                  Monaco            Monaco    Europe   \n",
      "136   169  MNE              Montenegro         Podgorica    Europe   \n",
      "144    71  NLD             Netherlands         Amsterdam    Europe   \n",
      "152   150  MKD         North Macedonia            Skopje    Europe   \n",
      "154   120  NOR                  Norway              Oslo    Europe   \n",
      "164    37  POL                  Poland            Warsaw    Europe   \n",
      "165    92  PRT                Portugal            Lisbon    Europe   \n",
      "170    64  ROU                 Romania         Bucharest    Europe   \n",
      "171     9  RUS                  Russia            Moscow    Europe   \n",
      "180   218  SMR              San Marino        San Marino    Europe   \n",
      "184   105  SRB                  Serbia          Belgrade    Europe   \n",
      "189   116  SVK                Slovakia        Bratislava    Europe   \n",
      "190   148  SVN                Slovenia         Ljubljana    Europe   \n",
      "196    30  ESP                   Spain            Madrid    Europe   \n",
      "200    87  SWE                  Sweden         Stockholm    Europe   \n",
      "201   101  CHE             Switzerland              Bern    Europe   \n",
      "218    38  UKR                 Ukraine              Kiev    Europe   \n",
      "220    21  GBR          United Kingdom            London    Europe   \n",
      "226   234  VAT            Vatican City      Vatican City    Europe   \n",
      "\n",
      "     2022 Population  2020 Population  2015 Population  2010 Population  \\\n",
      "1            2842321          2866849          2882481          2913399   \n",
      "4              79824            77700            71746            71519   \n",
      "12           8939617          8907777          8642421          8362829   \n",
      "18           9534954          9633740          9700609          9731427   \n",
      "19          11655930         11561717         11248303         10877947   \n",
      "25           3233526          3318407          3524324          3811088   \n",
      "30           6781953          6979175          7309253          7592273   \n",
      "46           4030358          4096868          4254815          4368682   \n",
      "49           1251488          1237537          1187280          1129686   \n",
      "50          10493986         10530953         10523798         10464749   \n",
      "51           5882261          5825641          5677796          5550849   \n",
      "61           1326062          1329444          1314657          1331535   \n",
      "65             53090            52415            48816            48410   \n",
      "67           5540745          5529468          5479461          5363271   \n",
      "68          64626628         64480053         63809769         62444567   \n",
      "74          83369843         83328988         82073226         81325090   \n",
      "76             32649            32709            32520            31262   \n",
      "77          10384971         10512232         10806641         11033783   \n",
      "83             63301            62794            61629            60782   \n",
      "90           9967308          9750573          9844246          9986825   \n",
      "91            372899           366669           331060           318333   \n",
      "96           5023109          4946119          4665760          4524585   \n",
      "97             84519            84046            83593            83828   \n",
      "99          59037474         59500579         60232906         59822450   \n",
      "103           110778           108319           100561            96151   \n",
      "111          1850651          1897052          1991955          2101530   \n",
      "116            39327            38756            37355            35926   \n",
      "117          2750055          2820267          2963765          3139019   \n",
      "118           647599           630399           569408           507070   \n",
      "125           533286           515357           456579           418755   \n",
      "133          3272996          3084847          3277388          3678186   \n",
      "134            36469            36922            36760            33178   \n",
      "136           627082           629048           633966           631044   \n",
      "144         17564014         17434557         17041107         16617116   \n",
      "152          2093599          2111072          2107962          2093828   \n",
      "154          5434319          5379839          5190356          4889741   \n",
      "164         39857145         38428366         38553146         38597353   \n",
      "165         10270865         10298192         10365435         10588401   \n",
      "170         19659267         19442038         19906079         20335211   \n",
      "171        144713314        145617329        144668389        143242599   \n",
      "180            33660            34007            33570            31608   \n",
      "184          7221365          7358005          7519496          7653748   \n",
      "189          5643453          5456681          5424444          5396424   \n",
      "190          2119844          2117641          2080862          2057286   \n",
      "196         47558630         47363807         46431342         46572772   \n",
      "200         10549347         10368969          9849349          9381729   \n",
      "201          8740472          8638613          8281732          7822435   \n",
      "218         39701739         43909666         44982564         45683020   \n",
      "220         67508936         67059474         65224364         62760039   \n",
      "226              510              520              564              596   \n",
      "\n",
      "     2000 Population  1990 Population  1980 Population  1970 Population  \\\n",
      "1            3182021          3295066          2941651          2324731   \n",
      "4              66097            53569            35611            19860   \n",
      "12           8010428          7678729          7547561          7465301   \n",
      "18          10256483         10428525          9817257          9170786   \n",
      "19          10264343          9959560          9828986          9629376   \n",
      "25           4179350          4494310          4199820          3815561   \n",
      "30           8097691          8767778          8980606          8582950   \n",
      "46           4548434          4873707          4680144          4492638   \n",
      "49            948237           788500           679327           640804   \n",
      "50          10234710         10301192         10270060          9795744   \n",
      "51           5340655          5144623          5125392          4922963   \n",
      "61           1396877          1570674          1476983          1361999   \n",
      "65             45660            47479            43054            38416   \n",
      "67           5176209          4986545          4779418          4606621   \n",
      "68          58665453         56412897         53713830         50523586   \n",
      "74          81551677         79370196         77786703         78294583   \n",
      "76             27741            27317            28734            26685   \n",
      "77          11038109         10302255          9307148          8544873   \n",
      "83             59114            57727            52860            52656   \n",
      "90          10202055         10375989         10698679         10315366   \n",
      "91            281462           255019           228263           204468   \n",
      "96           3768950          3485374          3391387          2937637   \n",
      "97             75562            68865            64022            55298   \n",
      "99          56966397         56756561         56329482         53324036   \n",
      "103            86192            82874            75124            68347   \n",
      "111          2392530          2689391          2572037          2397414   \n",
      "116            33026            28765            25003            21089   \n",
      "117          3599637          3785847          3521206          3210147   \n",
      "118           435628           381267           363741           339342   \n",
      "125           399212           365392           333587           315414   \n",
      "133          4251573          4480199          4103240          3711140   \n",
      "134            32465            30329            27076            24270   \n",
      "136           633324           621442           589324           530268   \n",
      "144         15899135         14944548         14130387         13037686   \n",
      "152          2037936          2044174          1907023          1656783   \n",
      "154          4491202          4241636          4085776          3875546   \n",
      "164         38504431         38064255         35521429         32482943   \n",
      "165         10300626         10007346          9785252          8683631   \n",
      "170         21919876         22836234         22125224         19922618   \n",
      "171        146844839        148005704        138257420        130093010   \n",
      "180            26823            23132            21346            18169   \n",
      "184          7935022          7987529          7777010          7193533   \n",
      "189          5376690          5261305          4973883          4522867   \n",
      "190          1984339          1986024          1901570          1741286   \n",
      "196         40741651         38889889         37491666         33792617   \n",
      "200          8871043          8548406          8311763          8027702   \n",
      "201          7182059          6711693          6319113          6181227   \n",
      "218         48879755         51589817         49973920         47279086   \n",
      "220         58850043         57210442         56326328         55650166   \n",
      "226              651              700              733              752   \n",
      "\n",
      "     Area (km²)  Density (per km²)  Growth Rate  World Population Percentage  \n",
      "1         28748            98.8702       0.9957                         0.04  \n",
      "4           468           170.5641       1.0100                         0.00  \n",
      "12        83871           106.5877       1.0020                         0.11  \n",
      "18       207600            45.9295       0.9955                         0.12  \n",
      "19        30528           381.8111       1.0038                         0.15  \n",
      "25        51209            63.1437       0.9886                         0.04  \n",
      "30       110879            61.1654       0.9849                         0.09  \n",
      "46        56594            71.2153       0.9927                         0.05  \n",
      "49         9251           135.2814       1.0059                         0.02  \n",
      "50        78865           133.0627       0.9984                         0.13  \n",
      "51        43094           136.4984       1.0048                         0.07  \n",
      "61        45227            29.3201       0.9980                         0.02  \n",
      "65         1393            38.1120       1.0038                         0.00  \n",
      "67       338424            16.3722       1.0009                         0.07  \n",
      "68       551695           117.1419       1.0015                         0.81  \n",
      "74       357114           233.4544       0.9995                         1.05  \n",
      "76            6          5441.5000       0.9994                         0.00  \n",
      "77       131990            78.6800       0.9942                         0.13  \n",
      "83           78           811.5513       1.0037                         0.00  \n",
      "90        93028           107.1431       1.0265                         0.12  \n",
      "91       103000             3.6204       1.0069                         0.00  \n",
      "96        70273            71.4799       1.0073                         0.06  \n",
      "97          572           147.7605       1.0030                         0.00  \n",
      "99       301336           195.9191       0.9966                         0.74  \n",
      "103         116           954.9828       1.0106                         0.00  \n",
      "111       64559            28.6660       0.9876                         0.02  \n",
      "116         160           245.7937       1.0074                         0.00  \n",
      "117       65300            42.1142       0.9869                         0.03  \n",
      "118        2586           250.4250       1.0129                         0.01  \n",
      "125         316          1687.6139       1.0124                         0.01  \n",
      "133       33846            96.7026       1.0691                         0.04  \n",
      "134           2         18234.5000       0.9941                         0.00  \n",
      "136       13812            45.4012       0.9988                         0.01  \n",
      "144       41850           419.6897       1.0036                         0.22  \n",
      "152       25713            81.4218       0.9954                         0.03  \n",
      "154      323802            16.7828       1.0058                         0.07  \n",
      "164      312679           127.4698       1.0404                         0.50  \n",
      "165       92090           111.5307       0.9981                         0.13  \n",
      "170      238391            82.4665       1.0171                         0.25  \n",
      "171    17098242             8.4636       0.9973                         1.81  \n",
      "180          61           551.8033       0.9975                         0.00  \n",
      "184       88361            81.7257       0.9897                         0.09  \n",
      "189       49037           115.0856       1.0359                         0.07  \n",
      "190       20273           104.5649       1.0002                         0.03  \n",
      "196      505992            93.9909       1.0015                         0.60  \n",
      "200      450295            23.4276       1.0079                         0.13  \n",
      "201       41284           211.7157       1.0056                         0.11  \n",
      "218      603500            65.7858       0.9120                         0.50  \n",
      "220      242900           277.9289       1.0034                         0.85  \n",
      "226           1           510.0000       0.9980                         0.00  \n"
     ]
    }
   ],
   "source": [
    "# Filter the DataFrame to show only Europe\n",
    "europe = df[df['Continent'] == 'Europe']\n",
    "print(europe)\n"
   ]
  },
  {
   "cell_type": "markdown",
   "id": "51ec3249",
   "metadata": {},
   "source": [
    "**17 How many countries in Europe have a 2022 Population strictly smaller than in 1990?**\n",
    "\n",
    "*Tip: one line of code should suffice*"
   ]
  },
  {
   "cell_type": "code",
   "execution_count": 33,
   "id": "eba56f8a",
   "metadata": {},
   "outputs": [
    {
     "name": "stdout",
     "output_type": "stream",
     "text": [
      "15\n"
     ]
    }
   ],
   "source": [
    "# Filter the DataFrame for countries in Europe with a 2022 population less than the 1990 population\n",
    "num_countries = len(europe[europe['2022 Population'] < europe['1990 Population']])\n",
    "print(num_countries)\n"
   ]
  },
  {
   "cell_type": "markdown",
   "id": "3dd7da03",
   "metadata": {},
   "source": [
    "**18 Based on the provided data, what does `Rank` mean?**"
   ]
  },
  {
   "cell_type": "code",
   "execution_count": 34,
   "id": "a980df4e",
   "metadata": {},
   "outputs": [
    {
     "name": "stdout",
     "output_type": "stream",
     "text": [
      "  Country/Territory  2022 Population  Rank\n",
      "0             China       1425887337     1\n",
      "1             India       1417173173     2\n",
      "2     United States        338289857     3\n",
      "3         Indonesia        275501339     4\n",
      "4          Pakistan        235824862     5\n"
     ]
    }
   ],
   "source": [
    "# Give your answer using a comment and add some code to explain why\n",
    "# The \"Rank\" column generally indicates the position of a country based on a specific metric, such as population size.\n",
    "# For example, a Rank of 1 would mean the country has the largest population, Rank 2 the second largest, and so on.\n",
    "# To demonstrate this, we can sort the DataFrame by population and display the ranks.\n",
    "\n",
    "# Sort the DataFrame by the '2022 Population' in descending order and reset the index\n",
    "ranked_countries = df.sort_values(by='2022 Population', ascending=False).reset_index(drop=True)\n",
    "\n",
    "# Add a Rank column based on the sorted order\n",
    "ranked_countries['Rank'] = ranked_countries.index + 1\n",
    "\n",
    "# Display the top countries with their ranks and populations\n",
    "print(ranked_countries[['Country/Territory', '2022 Population', 'Rank']].head())\n",
    "\n",
    "\n"
   ]
  },
  {
   "cell_type": "markdown",
   "id": "14a090bb",
   "metadata": {},
   "source": [
    "**19 Which has the smallest World Population in 2022?**\n",
    "\n",
    "*Tip: one line of code should suffice*"
   ]
  },
  {
   "cell_type": "code",
   "execution_count": 29,
   "id": "c3fe00c8",
   "metadata": {},
   "outputs": [
    {
     "name": "stdout",
     "output_type": "stream",
     "text": [
      "Country/Territory    Vatican City\n",
      "2022 Population               510\n",
      "Name: 226, dtype: object\n"
     ]
    }
   ],
   "source": [
    "# Find the index of the country with the smallest population in 2022 and retrieve the country name and its population\n",
    "smallest_population_country = df.loc[df['2022 Population'].idxmin(), ['Country/Territory', '2022 Population']]\n",
    "print(smallest_population_country)\n"
   ]
  },
  {
   "cell_type": "markdown",
   "id": "ea7d3f6c",
   "metadata": {},
   "source": [
    "**20 Save the europe DataFrame into a new csv file named `europe_population.csv` in your data folder**\n",
    "\n",
    "*Tip: make sure to set the index to False*"
   ]
  },
  {
   "cell_type": "code",
   "execution_count": 30,
   "id": "d46cbc3f",
   "metadata": {},
   "outputs": [],
   "source": [
    "# Filter the DataFrame for countries in Europe\n",
    "europe_df = df[df['Continent'] == 'Europe']\n"
   ]
  },
  {
   "cell_type": "code",
   "execution_count": 31,
   "id": "807d6a2f",
   "metadata": {},
   "outputs": [],
   "source": [
    "# Save the Europe DataFrame to a CSV file without the index\n",
    "europe_df.to_csv('data/europe_population.csv', index=False)"
   ]
  },
  {
   "cell_type": "code",
   "execution_count": null,
   "id": "562bb83b-320a-4a41-bb39-4b26dce68ce5",
   "metadata": {},
   "outputs": [],
   "source": []
  }
 ],
 "metadata": {
  "kernelspec": {
   "display_name": "Python 3 (ipykernel)",
   "language": "python",
   "name": "python3"
  },
  "language_info": {
   "codemirror_mode": {
    "name": "ipython",
    "version": 3
   },
   "file_extension": ".py",
   "mimetype": "text/x-python",
   "name": "python",
   "nbconvert_exporter": "python",
   "pygments_lexer": "ipython3",
   "version": "3.9.20"
  }
 },
 "nbformat": 4,
 "nbformat_minor": 5
}

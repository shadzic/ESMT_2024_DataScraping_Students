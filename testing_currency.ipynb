{
 "cells": [
  {
   "cell_type": "code",
   "execution_count": 10,
   "metadata": {},
   "outputs": [
    {
     "name": "stdout",
     "output_type": "stream",
     "text": [
      "Collecting response\n",
      "  Downloading response-0.5.0-py3-none-any.whl.metadata (2.8 kB)\n",
      "Requirement already satisfied: numpy in /Users/isabel/opt/anaconda3/envs/datascrapping/lib/python3.9/site-packages (from response) (2.0.2)\n",
      "Collecting scipy (from response)\n",
      "  Downloading scipy-1.13.1-cp39-cp39-macosx_10_9_x86_64.whl.metadata (60 kB)\n",
      "Requirement already satisfied: matplotlib>=2.2.0 in /Users/isabel/opt/anaconda3/envs/datascrapping/lib/python3.9/site-packages (from response) (3.9.2)\n",
      "Requirement already satisfied: contourpy>=1.0.1 in /Users/isabel/opt/anaconda3/envs/datascrapping/lib/python3.9/site-packages (from matplotlib>=2.2.0->response) (1.3.0)\n",
      "Requirement already satisfied: cycler>=0.10 in /Users/isabel/opt/anaconda3/envs/datascrapping/lib/python3.9/site-packages (from matplotlib>=2.2.0->response) (0.12.1)\n",
      "Requirement already satisfied: fonttools>=4.22.0 in /Users/isabel/opt/anaconda3/envs/datascrapping/lib/python3.9/site-packages (from matplotlib>=2.2.0->response) (4.54.1)\n",
      "Requirement already satisfied: kiwisolver>=1.3.1 in /Users/isabel/opt/anaconda3/envs/datascrapping/lib/python3.9/site-packages (from matplotlib>=2.2.0->response) (1.4.7)\n",
      "Requirement already satisfied: packaging>=20.0 in /Users/isabel/opt/anaconda3/envs/datascrapping/lib/python3.9/site-packages (from matplotlib>=2.2.0->response) (24.1)\n",
      "Requirement already satisfied: pillow>=8 in /Users/isabel/opt/anaconda3/envs/datascrapping/lib/python3.9/site-packages (from matplotlib>=2.2.0->response) (11.0.0)\n",
      "Requirement already satisfied: pyparsing>=2.3.1 in /Users/isabel/opt/anaconda3/envs/datascrapping/lib/python3.9/site-packages (from matplotlib>=2.2.0->response) (3.2.0)\n",
      "Requirement already satisfied: python-dateutil>=2.7 in /Users/isabel/opt/anaconda3/envs/datascrapping/lib/python3.9/site-packages (from matplotlib>=2.2.0->response) (2.9.0)\n",
      "Requirement already satisfied: importlib-resources>=3.2.0 in /Users/isabel/opt/anaconda3/envs/datascrapping/lib/python3.9/site-packages (from matplotlib>=2.2.0->response) (6.4.5)\n",
      "Requirement already satisfied: zipp>=3.1.0 in /Users/isabel/opt/anaconda3/envs/datascrapping/lib/python3.9/site-packages (from importlib-resources>=3.2.0->matplotlib>=2.2.0->response) (3.20.2)\n",
      "Requirement already satisfied: six>=1.5 in /Users/isabel/opt/anaconda3/envs/datascrapping/lib/python3.9/site-packages (from python-dateutil>=2.7->matplotlib>=2.2.0->response) (1.16.0)\n",
      "Downloading response-0.5.0-py3-none-any.whl (14 kB)\n",
      "Downloading scipy-1.13.1-cp39-cp39-macosx_10_9_x86_64.whl (39.4 MB)\n",
      "\u001b[2K   \u001b[90m━━━━━━━━━━━━━━━━━━━━━━━━━━━━━━━━━━━━━━━━\u001b[0m \u001b[32m39.4/39.4 MB\u001b[0m \u001b[31m3.1 MB/s\u001b[0m eta \u001b[36m0:00:00\u001b[0m00:01\u001b[0m00:01\u001b[0m\n",
      "\u001b[?25hInstalling collected packages: scipy, response\n",
      "Successfully installed response-0.5.0 scipy-1.13.1\n"
     ]
    }
   ],
   "source": [
    "!pip install response"
   ]
  },
  {
   "cell_type": "code",
   "execution_count": 12,
   "metadata": {},
   "outputs": [],
   "source": [
    "import pandas as pd\n",
    "import requests\n",
    "import http.client\n",
    "import json"
   ]
  },
  {
   "cell_type": "code",
   "execution_count": 4,
   "metadata": {},
   "outputs": [],
   "source": [
    "# Use double quotes to assign your API key to private_api_key variable as a string\n",
    "private_api_key = \"ddfde50cd1mshe28434f212e78bap142fa2jsn0423e3ebd2b4\""
   ]
  },
  {
   "cell_type": "code",
   "execution_count": 31,
   "metadata": {},
   "outputs": [
    {
     "name": "stdout",
     "output_type": "stream",
     "text": [
      "{\"timestamp\":1571270399,\"base\":\"EUR\",\"success\":true,\"rates\":{\"ANG\":1.943172,\"SVC\":9.688416,\"CAD\":1.462103,\"XCD\":2.992923,\"MVR\":17.057524,\"HRK\":7.432833,\"AUD\":1.639189,\"MWK\":809.54142,\"XAG\":0.06365,\"MAD\":10.664205,\"PHP\":57.099896,\"NAD\":16.600243,\"GNF\":10230.000814,\"KES\":114.897564,\"MZN\":68.9164,\"BTN\":79.111057,\"MGA\":4038.848548,\"AZN\":1.878957,\"XAU\":0.000743,\"RON\":4.754374,\"CHF\":1.10132,\"EGP\":17.972269,\"BSD\":1.107223,\"TWD\":33.799456,\"GGP\":0.86377,\"LVL\":0.669882,\"MMK\":1695.735386,\"WST\":2.981987,\"ILS\":3.912987,\"BHD\":0.417477,\"GBP\":0.86369,\"TZS\":2546.679865,\"SDG\":49.950779,\"LAK\":9778.731896,\"DJF\":196.814577,\"BYN\":2.266468,\"LBP\":1674.455911,\"RWF\":1025.493254,\"PEN\":3.723258,\"EUR\":1,\"ZMK\":9968.326162,\"RSD\":117.444723,\"INR\":79.32637,\"MUR\":40.36614,\"BWP\":12.141091,\"GEL\":3.289136,\"KMF\":493.42139,\"UZS\":10459.809545,\"RUB\":71.006767,\"CUC\":1.107444,\"BGN\":1.955858,\"JOD\":0.78515,\"NGN\":400.346069,\"BDT\":93.777581,\"PKR\":172.484224,\"BRL\":4.596002,\"KZT\":431.972699,\"CVE\":111.021112,\"HNL\":27.386629,\"NZD\":1.761435,\"ERN\":16.612293,\"NPR\":126.577806,\"ZMW\":14.626794,\"FKP\":0.900219,\"DZD\":132.688312,\"JMD\":148.7301,\"CRC\":642.938434,\"GMD\":56.203022,\"PLN\":4.283095,\"AMD\":527.984573,\"BMD\":1.107444,\"BZD\":2.231921,\"BBD\":2.235637,\"SBD\":9.198167,\"IDR\":15756.714927,\"ALL\":123.966974,\"IQD\":1317.858502,\"BIF\":2060.953506,\"HKD\":8.687954,\"GIP\":0.90022,\"BAM\":1.964209,\"LKR\":201.323584,\"QAR\":4.032198,\"SAR\":4.15359,\"TOP\":2.578574,\"SEK\":10.828812,\"ZAR\":16.549532,\"ARS\":63.95496,\"MYR\":4.640857,\"BYR\":21705.904736,\"KPW\":996.786865,\"CZK\":25.762249,\"STD\":23877.37009,\"BTC\":0.000138,\"ZWL\":356.597007,\"LSL\":16.600659,\"COP\":3830.095486,\"PAB\":1.107223,\"IRR\":46628.934847,\"NOK\":10.163779,\"OMR\":0.426338,\"CNY\":7.855873,\"XPF\":119.331742,\"AOA\":472.48494,\"SCR\":15.155234,\"MOP\":8.947588,\"XOF\":658.929313,\"XDR\":0.806284,\"NIO\":37.376303,\"ISK\":138.297994,\"VND\":25702.11684,\"VEF\":11.060596,\"UYU\":41.205401,\"USD\":1.107444,\"DOP\":58.716452,\"UGX\":4085.728805,\"BOB\":7.656592,\"UAH\":27.489062,\"TTD\":7.507827,\"KGS\":77.354781,\"SGD\":1.518078,\"TND\":3.14533,\"GHS\":6.012985,\"TMT\":3.876054,\"KHR\":4501.760041,\"ETB\":32.83584,\"PGK\":3.748717,\"TJS\":10.729269,\"AED\":4.067862,\"THB\":33.63322,\"LRD\":234.212817,\"CLP\":794.145004,\"KYD\":0.922728,\"SYP\":570.334243,\"SRD\":8.259314,\"LYD\":1.555956,\"GTQ\":8.597776,\"SLL\":10520.719703,\"SHP\":1.462821,\"IMP\":0.86377,\"FJD\":2.437264,\"PYG\":7138.888457,\"KRW\":1313.157379,\"SZL\":16.600933,\"GYD\":231.164013,\"MDL\":19.309068,\"MXN\":21.273892,\"LTL\":3.269994,\"HTG\":105.911836,\"SOS\":642.317898,\"MNT\":2959.330303,\"AFN\":86.950123,\"CUP\":29.347269,\"CLF\":0.028781,\"JPY\":120.359264,\"TRY\":6.51742,\"YER\":277.248677,\"HUF\":332.709198,\"BND\":1.519769,\"JEP\":0.86377,\"MKD\":61.48856,\"AWG\":1.993399,\"CDF\":1843.894542,\"VUV\":130.782866,\"XAF\":658.761185,\"KWD\":0.336718,\"DKK\":7.470811},\"date\":\"2019-10-16\",\"historical\":true}\n"
     ]
    }
   ],
   "source": [
    "conn = http.client.HTTPSConnection(\"currency-conversion-and-exchange-rates.p.rapidapi.com\")\n",
    "\n",
    "headers = {\n",
    "    'x-rapidapi-key': \"ddfde50cd1mshe28434f212e78bap142fa2jsn0423e3ebd2b4\",\n",
    "    'x-rapidapi-host': \"currency-conversion-and-exchange-rates.p.rapidapi.com\"\n",
    "}\n",
    "\n",
    "conn.request(\"GET\", \"/2019-10-16?from=EUR&to=COP%2CBRL\", headers=headers)\n",
    "\n",
    "res = conn.getresponse()\n",
    "data = res.read()\n",
    "\n",
    "print(data.decode(\"utf-8\"))"
   ]
  },
  {
   "cell_type": "code",
   "execution_count": 32,
   "metadata": {},
   "outputs": [
    {
     "data": {
      "text/plain": [
       "bytes"
      ]
     },
     "execution_count": 32,
     "metadata": {},
     "output_type": "execute_result"
    }
   ],
   "source": [
    "type(data)"
   ]
  },
  {
   "cell_type": "code",
   "execution_count": 33,
   "metadata": {},
   "outputs": [],
   "source": [
    "dict_resp = json.loads(data.decode(\"utf-8\"))"
   ]
  },
  {
   "cell_type": "code",
   "execution_count": 34,
   "metadata": {},
   "outputs": [],
   "source": [
    "exchange_rates = pd.DataFrame.from_dict(dict_resp)"
   ]
  },
  {
   "cell_type": "code",
   "execution_count": 35,
   "metadata": {},
   "outputs": [],
   "source": [
    "exchange_rates.reset_index(inplace=True)"
   ]
  },
  {
   "cell_type": "code",
   "execution_count": 36,
   "metadata": {},
   "outputs": [
    {
     "data": {
      "text/html": [
       "<div>\n",
       "<style scoped>\n",
       "    .dataframe tbody tr th:only-of-type {\n",
       "        vertical-align: middle;\n",
       "    }\n",
       "\n",
       "    .dataframe tbody tr th {\n",
       "        vertical-align: top;\n",
       "    }\n",
       "\n",
       "    .dataframe thead th {\n",
       "        text-align: right;\n",
       "    }\n",
       "</style>\n",
       "<table border=\"1\" class=\"dataframe\">\n",
       "  <thead>\n",
       "    <tr style=\"text-align: right;\">\n",
       "      <th></th>\n",
       "      <th>index</th>\n",
       "      <th>timestamp</th>\n",
       "      <th>base</th>\n",
       "      <th>success</th>\n",
       "      <th>rates</th>\n",
       "      <th>date</th>\n",
       "      <th>historical</th>\n",
       "    </tr>\n",
       "  </thead>\n",
       "  <tbody>\n",
       "    <tr>\n",
       "      <th>55</th>\n",
       "      <td>BRL</td>\n",
       "      <td>1571270399</td>\n",
       "      <td>EUR</td>\n",
       "      <td>True</td>\n",
       "      <td>4.596002</td>\n",
       "      <td>2019-10-16</td>\n",
       "      <td>True</td>\n",
       "    </tr>\n",
       "  </tbody>\n",
       "</table>\n",
       "</div>"
      ],
      "text/plain": [
       "   index   timestamp base  success     rates        date  historical\n",
       "55   BRL  1571270399  EUR     True  4.596002  2019-10-16        True"
      ]
     },
     "execution_count": 36,
     "metadata": {},
     "output_type": "execute_result"
    }
   ],
   "source": [
    "exchange_rates[exchange_rates['index']== 'BRL']"
   ]
  },
  {
   "cell_type": "code",
   "execution_count": null,
   "metadata": {},
   "outputs": [],
   "source": []
  }
 ],
 "metadata": {
  "kernelspec": {
   "display_name": "datascrapping",
   "language": "python",
   "name": "python3"
  },
  "language_info": {
   "codemirror_mode": {
    "name": "ipython",
    "version": 3
   },
   "file_extension": ".py",
   "mimetype": "text/x-python",
   "name": "python",
   "nbconvert_exporter": "python",
   "pygments_lexer": "ipython3",
   "version": "3.9.20"
  }
 },
 "nbformat": 4,
 "nbformat_minor": 2
}

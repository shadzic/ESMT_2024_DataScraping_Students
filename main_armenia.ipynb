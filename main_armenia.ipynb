{
 "cells": [
  {
   "cell_type": "code",
   "execution_count": 3,
   "metadata": {},
   "outputs": [],
   "source": [
    "!pip install matplotlib"
   ]
  },
  {
   "cell_type": "code",
   "execution_count": 4,
   "metadata": {},
   "outputs": [],
   "source": [
    "import requests\n",
    "import pandas as pd\n",
    "import matplotlib as mpl"
   ]
  },
  {
   "cell_type": "markdown",
   "metadata": {},
   "source": [
    "Import information from weather API"
   ]
  },
  {
   "cell_type": "code",
   "execution_count": 5,
   "metadata": {},
   "outputs": [],
   "source": [
    "# Use double quotes to assign your API key to private_api_key variable as a string\n",
    "private_api_key = \"\""
   ]
  },
  {
   "cell_type": "code",
   "execution_count": null,
   "metadata": {},
   "outputs": [],
   "source": [
    "# Define your parameters as a dictionary\n",
    "params = {\n",
    "    \"lat\": \"52.520008\",  # Find Berlin's latitude and add it here\n",
    "    \"lon\": \"13.404954\",  # Find Berlin's longitude and add it here\n",
    "    \"start\": \"2024-10-08\",  # Replace with today's date\n",
    "    \"end\": \"2024-10-08\"  # Replace with today's date\n",
    "}\n",
    "\n",
    "response = requests.get(\"https://meteostat.p.rapidapi.com/point/daily\",\n",
    "                       params=params,\n",
    "                       headers={\n",
    "                           \"X-RapidAPI-Host\": \"meteostat.p.rapidapi.com\",\n",
    "                           \"X-RapidAPI-Key\": private_api_key # Add the private_api_key variable \n",
    "                       })"
   ]
  }
 ],
 "metadata": {
  "kernelspec": {
   "display_name": "datascrapping",
   "language": "python",
   "name": "python3"
  },
  "language_info": {
   "codemirror_mode": {
    "name": "ipython",
    "version": 3
   },
   "file_extension": ".py",
   "mimetype": "text/x-python",
   "name": "python",
   "nbconvert_exporter": "python",
   "pygments_lexer": "ipython3",
   "version": "3.9.20"
  }
 },
 "nbformat": 4,
 "nbformat_minor": 2
}

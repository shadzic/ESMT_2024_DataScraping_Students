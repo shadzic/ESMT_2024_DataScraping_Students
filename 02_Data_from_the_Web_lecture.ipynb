{
 "cells": [
  {
   "cell_type": "markdown",
   "id": "65096cc5",
   "metadata": {},
   "source": [
    "# Working with Data from the Web"
   ]
  },
  {
   "cell_type": "markdown",
   "id": "71396e4f-a70c-4e1f-ac89-945d008d486f",
   "metadata": {},
   "source": [
    "## Grading instructions\n",
    "\n",
    "1. Launch VS Code and open your working-folder\n",
    "2. Create a `Session_02` folder, in which you create another folder called `data`\n",
    "3. Copy paste this notebook `02_Data_from_the_Web_lecture` from the lectures repo to the working-folder. \n",
    "4. Copy the json file `animals.json` and the zip file `arbeitsmarktstatistik_erwerbslosenquoten_geschlecht.zip` into the `working-folder/Session_02/data` directory.\n",
    "\n",
    "#### There are two `Self-work exercises` in this notebook\n",
    "1. During the course, do the self-work exercises\n",
    "2. Once finished, copy-Paste this notebook `02_Data_from_the_Web_lecture` into `ESMT_2024_DataScraping_Students` folder in your computer\n",
    "3. Commit and push your self-work in your branch before the deadline. **Push only the notebook, not the files!**\n",
    "\n",
    "#### Number of points: 10 (weights 10% in the final grade)\n",
    "- `Self-work exercises #1`: 4 points\n",
    "- `Self-work exercises #2`: 6 points\n",
    "\n",
    "\n",
    "\n",
    "#### Deadline: October 18th 08:59 am CET\n",
    "#### Any missed deadline without justification to the Administration will result in 0 points for this homework.\n",
    "#### If the Github branch is not correctly named using the indicated format **LASTNAME_firstname**, then a penalty of -2 points will be applied"
   ]
  },
  {
   "cell_type": "markdown",
   "id": "8344deb5-6e30-464e-8dfa-a9abe593dba2",
   "metadata": {},
   "source": [
    "## Course content\n",
    "\n",
    "* Introduction to APIs\n",
    "* Using request package to download files\n",
    "* Loading files and tables from URLs (wikipedia)\n",
    "* Working with zip files in Python\n",
    "* Introduction to JSON (read_json, json_normalise)"
   ]
  },
  {
   "cell_type": "markdown",
   "id": "05b40e70",
   "metadata": {},
   "source": [
    "# Introduction to API\n",
    "\n",
    "An API, short for Application Programming Interface, is a concept used to describe – essentially – a piece of intermediary software (the interface) that facilitates communication between 2 other pieces of software (the applications). \n",
    "\n",
    "This very broad term is frequently used for web-based systems, database systems, operating systems, or even computer hardware. \n",
    "\n",
    "In this chapter we will focus on web-based APIs."
   ]
  },
  {
   "cell_type": "markdown",
   "id": "71e04021",
   "metadata": {},
   "source": [
    "### What is a Web API?\n",
    "\n",
    "A Web API typically means some kind of special website or URL that we use as a channel to get data from some company or web based program. \n",
    "\n",
    "We can write a Python program to retrieve data from the API. Put very bluntly, an API is a website providing data that is easy for a machine (e.g. python code) to understand (as opposed to a prettier, HTML-rendered, user interface for humans)."
   ]
  },
  {
   "cell_type": "markdown",
   "id": "64435555",
   "metadata": {},
   "source": [
    "**Intro to API (duration: 3'24):**\n",
    "https://www.youtube.com/watch?v=s7wmiS2mSXY"
   ]
  },
  {
   "cell_type": "markdown",
   "id": "0fde923d",
   "metadata": {},
   "source": [
    "### Examples of Web APIs\n",
    "* Google Maps: get map coordinates for an address\n",
    "* Spotify: read and modify a playlist\n",
    "* GitHub: read statistics on your code repo\n",
    "* WeatherAPI: get weather data for specific location\n",
    "* Google Translate: translate texts directly from a Python script\n",
    "\n",
    "<br>"
   ]
  },
  {
   "cell_type": "markdown",
   "id": "afa1c8da",
   "metadata": {},
   "source": [
    "# Python Requests Library\n",
    "\n",
    "The Python requests library is a popular third-party library that simplifies the process of making HTTP requests and working with HTTP responses. \n",
    "\n",
    "It provides a high-level interface for sending HTTP requests to web servers and receiving their responses. \n",
    "\n",
    "This library is widely used for tasks like fetching data from APIs, sending data to servers, and interacting with web resources."
   ]
  },
  {
   "cell_type": "markdown",
   "id": "9fa216a0",
   "metadata": {},
   "source": [
    "    Installation: You can install the requests library using pip, a package installer for Python:"
   ]
  },
  {
   "cell_type": "code",
   "execution_count": 1,
   "id": "fc56cd82",
   "metadata": {},
   "outputs": [
    {
     "name": "stdout",
     "output_type": "stream",
     "text": [
      "Requirement already satisfied: requests==2.32.3 in c:\\programdata\\anaconda3\\lib\\site-packages (2.32.3)\n",
      "Requirement already satisfied: charset-normalizer<4,>=2 in c:\\programdata\\anaconda3\\lib\\site-packages (from requests==2.32.3) (2.0.4)\n",
      "Requirement already satisfied: idna<4,>=2.5 in c:\\programdata\\anaconda3\\lib\\site-packages (from requests==2.32.3) (3.7)\n",
      "Requirement already satisfied: urllib3<3,>=1.21.1 in c:\\programdata\\anaconda3\\lib\\site-packages (from requests==2.32.3) (2.2.2)\n",
      "Requirement already satisfied: certifi>=2017.4.17 in c:\\programdata\\anaconda3\\lib\\site-packages (from requests==2.32.3) (2024.8.30)\n"
     ]
    }
   ],
   "source": [
    "!pip install requests==2.32.3"
   ]
  },
  {
   "cell_type": "markdown",
   "id": "53a668a4",
   "metadata": {},
   "source": [
    "    Importing: After installation, you need to import the library in your Python code before you can use it:"
   ]
  },
  {
   "cell_type": "code",
   "execution_count": 3,
   "id": "ee6ca8f4",
   "metadata": {},
   "outputs": [],
   "source": [
    "import requests"
   ]
  },
  {
   "cell_type": "markdown",
   "id": "b1b0f097",
   "metadata": {},
   "source": [
    "    HTTP Methods: The library supports various HTTP methods, such as GET, POST, PUT, DELETE, etc. These correspond to create, read, update, and delete (or CRUD) operations, respectively. You can choose the appropriate method for your request. \n",
    "\n",
    "To make a GET request:"
   ]
  },
  {
   "cell_type": "code",
   "execution_count": 5,
   "id": "ce5249be",
   "metadata": {},
   "outputs": [],
   "source": [
    "response = requests.get(\"https://randomuser.me/api/\")"
   ]
  },
  {
   "cell_type": "markdown",
   "id": "5e40d769",
   "metadata": {},
   "source": [
    "## API status code"
   ]
  },
  {
   "cell_type": "code",
   "execution_count": 13,
   "id": "05753289",
   "metadata": {},
   "outputs": [
    {
     "name": "stdout",
     "output_type": "stream",
     "text": [
      "200\n"
     ]
    }
   ],
   "source": [
    "print(response.status_code)"
   ]
  },
  {
   "cell_type": "markdown",
   "id": "f3bbd1cb",
   "metadata": {},
   "source": [
    "    API Status code:\n",
    "\n",
    "Status codes are returned with every request that is made to a web server. Status codes indicate information about what happened with a request. Here are some codes that are relevant to GET requests:\n",
    "\n",
    "    200: Everything went okay, and the result has been returned (if any).\n",
    "    301: The server is redirecting you to a different endpoint. This can happen when a company switches domain names, or an endpoint name is changed.\n",
    "    400: The server thinks you made a bad request. This can happen when you don’t send along the right data, among other things.\n",
    "    401: The server thinks you’re not authenticated. Many APIs require login credentials, so this happens when you don’t send the right credentials to access an API.\n",
    "    403: The resource you’re trying to access is forbidden: you don’t have the right permissions to see it.\n",
    "    404: The resource you tried to access wasn’t found on the server.\n",
    "    503: The server is not ready to handle the request."
   ]
  },
  {
   "cell_type": "markdown",
   "id": "9295e1d4-5607-43d6-97ee-bee5b8d3db60",
   "metadata": {},
   "source": [
    "For more information about the various HTTP status codes [click here](https://en.wikipedia.org/wiki/List_of_HTTP_status_codes)"
   ]
  },
  {
   "cell_type": "markdown",
   "id": "ffd88355",
   "metadata": {},
   "source": [
    "## Response Object"
   ]
  },
  {
   "cell_type": "markdown",
   "id": "bd95aa99",
   "metadata": {},
   "source": [
    "\n",
    "    Response Object: When you send a request using the requests library, you receive a response object that contains information about the server’s response:\n",
    "\n",
    "   * response.status_code: HTTP status code of the response (200 is a code meaning a successful operation)\n",
    "* response.content: Raw content of the response\n",
    "* response.text: Content of the response in text format\n",
    "* response.json(): Parses the response content as JSON if applicable\n",
    "* response.headers: Headers received from the server (additional information passed through both request and response. It could be for example List of acceptable encodings. It is usually hidden to end-user)\n",
    "* response.url: The URL that was accessed\n"
   ]
  },
  {
   "cell_type": "code",
   "execution_count": 15,
   "id": "8d975782",
   "metadata": {},
   "outputs": [
    {
     "data": {
      "text/plain": [
       "{'results': [{'gender': 'male',\n",
       "   'name': {'title': 'Mr', 'first': 'William', 'last': 'Walker'},\n",
       "   'location': {'street': {'number': 102, 'name': 'Cedar St'},\n",
       "    'city': 'Hampton',\n",
       "    'state': 'Nova Scotia',\n",
       "    'country': 'Canada',\n",
       "    'postcode': 'E4F 0M5',\n",
       "    'coordinates': {'latitude': '-68.7472', 'longitude': '-67.4390'},\n",
       "    'timezone': {'offset': '+7:00', 'description': 'Bangkok, Hanoi, Jakarta'}},\n",
       "   'email': 'william.walker@example.com',\n",
       "   'login': {'uuid': 'fec0368c-9cf2-47ad-b09a-a2c9aa785962',\n",
       "    'username': 'organicmouse713',\n",
       "    'password': '7grout',\n",
       "    'salt': 'JX9lCP27',\n",
       "    'md5': 'a57f7b5fbe93bfd77704ad4cf0738e43',\n",
       "    'sha1': '6ccfd2fe51ebb2eeea16d92c8c835d4166a825df',\n",
       "    'sha256': '5808524ab250b17be8f29cbc28ccb746a64a1b03f63835c9958e06cfa0e1e069'},\n",
       "   'dob': {'date': '1953-11-17T01:12:18.286Z', 'age': 70},\n",
       "   'registered': {'date': '2018-05-14T20:20:21.523Z', 'age': 6},\n",
       "   'phone': 'R64 N35-4112',\n",
       "   'cell': 'Q75 M21-1222',\n",
       "   'id': {'name': 'SIN', 'value': '462662610'},\n",
       "   'picture': {'large': 'https://randomuser.me/api/portraits/men/56.jpg',\n",
       "    'medium': 'https://randomuser.me/api/portraits/med/men/56.jpg',\n",
       "    'thumbnail': 'https://randomuser.me/api/portraits/thumb/men/56.jpg'},\n",
       "   'nat': 'CA'}],\n",
       " 'info': {'seed': '6175d1dbfe5e6a6b',\n",
       "  'results': 1,\n",
       "  'page': 1,\n",
       "  'version': '1.4'}}"
      ]
     },
     "execution_count": 15,
     "metadata": {},
     "output_type": "execute_result"
    }
   ],
   "source": [
    "response.json()"
   ]
  },
  {
   "cell_type": "markdown",
   "id": "866a1889",
   "metadata": {},
   "source": [
    "## Query String Parameters\n",
    "\n",
    "One common way to customize a GET request is to pass values through query string parameters in the URL. \n",
    "\n",
    "To do this using get(), you pass data to params."
   ]
  },
  {
   "cell_type": "markdown",
   "id": "03bda1f8",
   "metadata": {},
   "source": [
    "### Weather API:\n",
    "1. Sign up to RapidAPI: https://rapidapi.com/signup\n",
    "2. Select the free plan: https://rapidapi.com/meteostat/api/meteostat/pricing \n",
    "\n",
    "It allows you to 500 requests per months, with 3 requests per second maximum.\n",
    "\n",
    "3. Go to this page and click on `Get Daily Station Data` on the left pane: https://rapidapi.com/meteostat/api/meteostat\n",
    "\n",
    "4. On the right part `Code snippets` should appear the `x-rapidapi-key`: copy paste it below\n",
    "\n",
    "5. Complete the information below to get the weather of Berlin today"
   ]
  },
  {
   "cell_type": "markdown",
   "id": "00c545a2",
   "metadata": {},
   "source": [
    "### Important note: do not push this notebook to Github! It contains your API Key, which you don't want to reveal. If you were to push this content to github, delete your API key before!\n"
   ]
  },
  {
   "cell_type": "code",
   "execution_count": 39,
   "id": "2411f5f4-24ab-462d-8b07-780b2ad31d3a",
   "metadata": {},
   "outputs": [],
   "source": [
    "# Use double quotes to assign your API key to private_api_key variable as a string\n",
    "private_api_key = 8"
   ]
  },
  {
   "cell_type": "code",
   "execution_count": 35,
   "id": "34d5b30c",
   "metadata": {},
   "outputs": [],
   "source": [
    "# Define your parameters as a dictionary\n",
    "params = {\n",
    "    \"lat\":  52.520008,  # Find Berlin's latitude and add it here\n",
    "    \"lon\": 13.404954,  # Find Berlin's longitude and add it here\n",
    "    \"start\": \"2023-10-09\",  # Replace with today's date\n",
    "    \"end\": \"2023-10-09\"  # Replace with today's date\n",
    "}\n",
    "\n",
    "response = requests.get(\"https://meteostat.p.rapidapi.com/point/daily\",\n",
    "                       params=params,\n",
    "                       headers={\n",
    "                           \"X-RapidAPI-Host\": \"meteostat.p.rapidapi.com\",\n",
    "                           \"X-RapidAPI-Key\":  private_api_key# Add the private_api_key variable \n",
    "                       })\n",
    "\n",
    "# Do not push your API key to Github!"
   ]
  },
  {
   "cell_type": "code",
   "execution_count": 37,
   "id": "5880f166",
   "metadata": {},
   "outputs": [
    {
     "data": {
      "text/plain": [
       "{'meta': {'generated': '2024-10-08 07:49:25',\n",
       "  'stations': ['10384', '10381', 'D0400', '10385']},\n",
       " 'data': [{'date': '2023-10-09',\n",
       "   'tavg': 10.2,\n",
       "   'tmin': 8.9,\n",
       "   'tmax': 11.7,\n",
       "   'prcp': 6.8,\n",
       "   'snow': 0.0,\n",
       "   'wdir': 127.0,\n",
       "   'wspd': 8.3,\n",
       "   'wpgt': 20.5,\n",
       "   'pres': 1019.0,\n",
       "   'tsun': 0}]}"
      ]
     },
     "execution_count": 37,
     "metadata": {},
     "output_type": "execute_result"
    }
   ],
   "source": [
    "response.json()"
   ]
  },
  {
   "cell_type": "markdown",
   "id": "4dd174ca",
   "metadata": {},
   "source": [
    "<br>\n",
    "<br>\n",
    "<br>\n",
    "<br><br><br><br><br><br>"
   ]
  },
  {
   "cell_type": "markdown",
   "id": "7c05a62f",
   "metadata": {},
   "source": [
    "# Data from Wikipedia"
   ]
  },
  {
   "cell_type": "markdown",
   "id": "9873e241",
   "metadata": {},
   "source": [
    "## Installation"
   ]
  },
  {
   "cell_type": "markdown",
   "id": "c6bb1353",
   "metadata": {},
   "source": [
    "First, install and import the package\n",
    "\n",
    "*Note: all information about the packages and their versions can be found on [Pypi](https://pypi.org/), for example the [wikipedia package](https://pypi.org/project/wikipedia/)*"
   ]
  },
  {
   "cell_type": "code",
   "execution_count": 41,
   "id": "5073812e",
   "metadata": {},
   "outputs": [
    {
     "name": "stdout",
     "output_type": "stream",
     "text": [
      "Collecting wikipedia==1.4.0\n",
      "  Downloading wikipedia-1.4.0.tar.gz (27 kB)\n",
      "  Preparing metadata (setup.py): started\n",
      "  Preparing metadata (setup.py): finished with status 'done'\n",
      "Requirement already satisfied: beautifulsoup4 in c:\\programdata\\anaconda3\\lib\\site-packages (from wikipedia==1.4.0) (4.12.3)\n",
      "Requirement already satisfied: requests<3.0.0,>=2.0.0 in c:\\programdata\\anaconda3\\lib\\site-packages (from wikipedia==1.4.0) (2.32.3)\n",
      "Requirement already satisfied: charset-normalizer<4,>=2 in c:\\programdata\\anaconda3\\lib\\site-packages (from requests<3.0.0,>=2.0.0->wikipedia==1.4.0) (2.0.4)\n",
      "Requirement already satisfied: idna<4,>=2.5 in c:\\programdata\\anaconda3\\lib\\site-packages (from requests<3.0.0,>=2.0.0->wikipedia==1.4.0) (3.7)\n",
      "Requirement already satisfied: urllib3<3,>=1.21.1 in c:\\programdata\\anaconda3\\lib\\site-packages (from requests<3.0.0,>=2.0.0->wikipedia==1.4.0) (2.2.2)\n",
      "Requirement already satisfied: certifi>=2017.4.17 in c:\\programdata\\anaconda3\\lib\\site-packages (from requests<3.0.0,>=2.0.0->wikipedia==1.4.0) (2024.8.30)\n",
      "Requirement already satisfied: soupsieve>1.2 in c:\\programdata\\anaconda3\\lib\\site-packages (from beautifulsoup4->wikipedia==1.4.0) (2.5)\n",
      "Building wheels for collected packages: wikipedia\n",
      "  Building wheel for wikipedia (setup.py): started\n",
      "  Building wheel for wikipedia (setup.py): finished with status 'done'\n",
      "  Created wheel for wikipedia: filename=wikipedia-1.4.0-py3-none-any.whl size=11706 sha256=0c0ecb310fb2f33aabd96391d176d90a2d117342004f71c2960bca8e378d36e1\n",
      "  Stored in directory: c:\\users\\taylor\\appdata\\local\\pip\\cache\\wheels\\63\\47\\7c\\a9688349aa74d228ce0a9023229c6c0ac52ca2a40fe87679b8\n",
      "Successfully built wikipedia\n",
      "Installing collected packages: wikipedia\n",
      "Successfully installed wikipedia-1.4.0\n"
     ]
    }
   ],
   "source": [
    "!pip install wikipedia==1.4.0"
   ]
  },
  {
   "cell_type": "code",
   "execution_count": 43,
   "id": "07e1b7a6",
   "metadata": {},
   "outputs": [],
   "source": [
    "# Import the package\n",
    "import wikipedia"
   ]
  },
  {
   "cell_type": "markdown",
   "id": "9886296c",
   "metadata": {},
   "source": [
    "## First commands\n",
    "* wikipedia.summary(<>): provides a summary of the page\n",
    "* wikipedia.page(<>).content: provides the content\n",
    "* wikipedia.page(<>).url: provides the URL of the page\n",
    "* wikipedia.set_lang(<>): changes the request language\n",
    "\n",
    "### Try the following commands:"
   ]
  },
  {
   "cell_type": "code",
   "execution_count": 67,
   "id": "bf49f8c2-4db5-4642-894d-7f638e5eec1d",
   "metadata": {},
   "outputs": [
    {
     "data": {
      "text/plain": [
       "\"Neon Genesis Evangelion (Japanese: 新世紀エヴァンゲリオン, Hepburn: Shinseiki Evangerion, lit.\\u2009'New Century Evangelion' in Japanese and lit.\\u2009'New Beginning Gospel' in Greek), also known as Evangelion or Eva, is a Japanese mecha anime television series produced by Gainax, animated by Tatsunoko, and directed by Hideaki Anno. It was broadcast on TV Tokyo from October 1995 to March 1996. \\nEvangelion is set 15 years after a worldwide cataclysm in the futuristic fortified city of Tokyo-3. The protagonist is Shinji Ikari, a teenage boy recruited by his father Gendo to the mysterious organization Nerv. Shinji must pilot an Evangelion, a giant biomechanical mecha, to fight beings known as Angels.\\nThe series explores the experiences and emotions of the Evangelion pilots and Nerv members as they battle Angels. They are called upon to understand the ultimate cause of events and the motives behind human action. The series has been described as a deconstruction of the mecha genre, and features archetypal imagery derived from Shinto cosmology and mystical Judeo-Christian traditions, including Midrashic tales and Kabbalah. The psychoanalytic accounts of human behavior put forward by Freud and Jung are prominently featured.\\nNeon Genesis Evangelion is widely considered one of the greatest anime series of all time. Its final two episodes drew controversy, as many viewers found the ending confusing and abstract. In 1997, Anno and Gainax released the feature film The End of Evangelion, serving as an alternate ending. A series of four films, Rebuild of Evangelion, retelling the events of the series with different plot elements and a new ending, were released between 2007 and 2021. Film, manga, home video, and other products in the Evangelion franchise have achieved record sales in Japanese markets and strong sales in overseas markets, with related goods selling over ¥150 billion by 2007 and Evangelion pachinko machines generating ¥700 billion by 2015.\""
      ]
     },
     "execution_count": 67,
     "metadata": {},
     "output_type": "execute_result"
    }
   ],
   "source": [
    "wikipedia.summary(\"Neon Genesis Evangelion\")"
   ]
  },
  {
   "cell_type": "code",
   "execution_count": 61,
   "id": "18774c06-91d2-4f2b-a0ce-b428311d174e",
   "metadata": {},
   "outputs": [
    {
     "data": {
      "text/plain": [
       "'Gurren Lagann, known in Japan as Tengen Toppa Gurren Lagann (Japanese: 天元突破グレンラガン, Hepburn: Tengen Toppa Guren Ragan, lit. \"Heaven-Piercing Gurren Lagann\"), is a Japanese mecha anime television series animated by Gainax and co-produced by Aniplex and Konami. It ran for 27 episodes on TV Tokyo between April and September 2007. It was directed by Hiroyuki Imaishi and written by veteran playwright Kazuki Nakashima. Gurren Lagann takes place in a fictional future where the Spiral King, Lordgenome, rules Earth and forces mankind to live in isolated subterranean villages. The plot focuses on two teenagers, Simon and Kamina, who live in a subterranean village and wish to go to the surface. Using a mecha known as Lagann, they reach the surface and start fighting alongside other humans against Lordgenome\\'s forces before fighting the forces of their true enemy.\\nIn North America, although initially announced to be licensed by ADV Films in 2007, the license was transferred to Bandai Entertainment in 2008 and then to Aniplex of America in 2013. In the United Kingdom, it was licensed by Manga Entertainment in 2007, then transferred to Beez Entertainment in 2008, and then to Anime Limited in 2013. The Sci Fi Channel acquired the broadcasting rights of Gurren Lagann and began airing it in July 2008, as part of Sci Fi\\'s Ani-Monday anime block. A manga adaptation was published by ASCII Media Works between 2007 and 2013, which Bandai Entertainment licensed and released in English in North America. A series of four light novels was published by Shogakukan between 2007 and 2008. A Nintendo DS video game was released in October 2007, bundled with a special episode of the anime series. Two animated film versions were produced; the first premiered in Japanese theaters in September 2008, and the second premiered in April 2009.\\nGurren Lagann has received several awards, including the 7th Tokyo Anime Awards, the 12th Animation Kobe and the Excellence Prize at the 11th Japan Media Arts Festival.\\nAs of 2021, alongside Imaishi\\'s other works during his time in Gainax, the rights to the series are owned by Studio Trigger, which was formed by Imaishi in 2011.'"
      ]
     },
     "execution_count": 61,
     "metadata": {},
     "output_type": "execute_result"
    }
   ],
   "source": [
    "wikipedia.summary(\"Gurren Lagann\")"
   ]
  },
  {
   "cell_type": "code",
   "execution_count": 65,
   "id": "fc8af8e5-c034-4959-8a60-ed29e214a152",
   "metadata": {},
   "outputs": [
    {
     "data": {
      "text/plain": [
       "'Gurren Lagann, known in Japan as Tengen Toppa Gurren Lagann (Japanese: 天元突破グレンラガン, Hepburn: Tengen Toppa Guren Ragan, lit. \"Heaven-Piercing Gurren Lagann\"), is a Japanese mecha anime television series animated by Gainax and co-produced by Aniplex and Konami. It ran for 27 episodes on TV Tokyo between April and September 2007. It was directed by Hiroyuki Imaishi and written by veteran playwright Kazuki Nakashima. Gurren Lagann takes place in a fictional future where the Spiral King, Lordgenome, rules Earth and forces mankind to live in isolated subterranean villages. The plot focuses on two teenagers, Simon and Kamina, who live in a subterranean village and wish to go to the surface. Using a mecha known as Lagann, they reach the surface and start fighting alongside other humans against Lordgenome\\'s forces before fighting the forces of their true enemy.\\nIn North America, although initially announced to be licensed by ADV Films in 2007, the license was transferred to Bandai Entertainment in 2008 and then to Aniplex of America in 2013. In the United Kingdom, it was licensed by Manga Entertainment in 2007, then transferred to Beez Entertainment in 2008, and then to Anime Limited in 2013. The Sci Fi Channel acquired the broadcasting rights of Gurren Lagann and began airing it in July 2008, as part of Sci Fi\\'s Ani-Monday anime block. A manga adaptation was published by ASCII Media Works between 2007 and 2013, which Bandai Entertainment licensed and released in English in North America. A series of four light novels was published by Shogakukan between 2007 and 2008. A Nintendo DS video game was released in October 2007, bundled with a special episode of the anime series. Two animated film versions were produced; the first premiered in Japanese theaters in September 2008, and the second premiered in April 2009.\\nGurren Lagann has received several awards, including the 7th Tokyo Anime Awards, the 12th Animation Kobe and the Excellence Prize at the 11th Japan Media Arts Festival.\\nAs of 2021, alongside Imaishi\\'s other works during his time in Gainax, the rights to the series are owned by Studio Trigger, which was formed by Imaishi in 2011.\\n\\n\\n== Plot ==\\n\\n\\n=== Story ===\\n\\nGurren Lagann takes place in a future where the Spiral King, Lordgenome, rules Earth and forces mankind to live in isolated subterranean villages which have no contact with the surface world or other villages and are under constant threat from earthquakes. Selected villagers called diggers are conscripted to expand their homes deeper underground. Simon, a meek young digger living in Giha village who is ostracized by his peers, finds solace in his best friend Kamina, an eccentric delinquent who is like an older brother figure to him. Kamina encourages Simon to join his gang, Team Gurren, to help him achieve his dream of visiting the surface world. One day, Simon unearths a drill-shaped key called a Core Drill, followed by a small mecha resembling a face called a Gunmen. Soon after, a giant Gunmen crashes through the ceiling and begins attacking the village, followed by a girl named Yoko who attempts to repel the Gunmen. Simon uses his Core Drill to activate the smaller Gunmen, which Kamina names Lagann, and its drilling-based abilities. He successfully uses it to destroy the larger Gunmen and break through the ceiling, allowing him and Kamina to reach the surface world.\\nYoko tells Simon and Kamina that humans on the surface face daily attacks from Gunmen, with their pilots being Beastmen, humanoid creatures that serve as Lordgenome\\'s army. Kamina hijacks a Gunmen and names it Gurren, combining it with Lagann to form the mecha Gurren Lagann. Their actions inspire other humans to steal their own Gunmen and join Team Gurren, leading Kamina to rename it Team Dai-Gurren. Eventually, Team Dai-Gurren captures an enemy Gunmen fortress to use as their base of operations, but one of Lordgenome\\'s four generals kills Kamina in the preceding battle. Rossiu, a boy from another village, takes over as Gurren\\'s pilot, but Kamina\\'s death causes Simon to sink into depression until he meets Nia, who is revealed to be Lordgenome\\'s daughter. Team Dai-Gurren is initially distrustful of her, but allow her to join them after it becomes apparent that Lordgenome abandoned her, like many before her. Nia helps Simon come to terms with Kamina\\'s death, and the rest of Team Dai-Gurren prompt him to take on the role of the team\\'s leader, leading them and other teams of humans, who had captured other Gunmen and Gunmen fortresses, to Lordgenome\\'s palace, which is revealed to be a gigantic Gunmen called the Teppelin and launches armies of other Gunmen. The human forces engage them while Simon, Nia, and Rossiu pilot Gurren Lagann against Lordgenome, who fights them in a similar Gunmen called Lazengann. With both Lazengann and Gurren damaged, Lordgenome fights Simon in Lagann with his bare hands, and emerges victorious until Simon uses his Core Drill to defeat him for good.\\nOver the next seven years, mankind prospers on the surface world, with Simon and the other members of Team Dai-Gurren serving as the world\\'s government in their new capital of Kamina City. When the human population reaches one million people, an alien race called the Anti-Spirals emerges and uses Nia to announce their intentions. They have sent the Moon on a collision course with the Earth to wipe out the planet\\'s life and prevent them from evolving to the extent they will risk destroying the universe in a cataclysmic event called the Spiral Nemesis. It is revealed that Lordgenome, who was resurrected as a bio-computer, was once part of an intergalactic army of warriors who failed to stop the Anti-Spirals and forced mankind underground to protect them. With help from Lordgenome and Viral, an old enemy of Simon who pilots Gurren, Simon, Gurren Lagann and Team Dai-Gurren prevent the Moon\\'s collision, in the process revealing it to be Lordgenome\\'s flagship that the Anti-Spirals reprogrammed. Using it, they retrieve the real Moon from the pocket dimension the Anti-Spirals had hidden it in and go to their homeworld. They rescue Nia, and in a one-on-one Gunmen battle across the universe, Simon and Lagann destroy the Anti-Spirals. However, this causes Nia to fade away into nothing, as her existence is tied to that of the Anti-Spirals. With his life in battle finally over, Simon hands his Core Drill over to Gimmy and leaves his friends to wander the planet as a nameless vagrant, stating that his destiny was merely to \"dig the tunnel to the future\", not to travel down it himself.\\nThe epilogue is set twenty years after the team\\'s victory over the Anti-Spirals. With most of Team Dai-Gurren having retired, a new generation of pilots has been tasked with preventing the Spiral Nemesis and ensuring the universe\\'s safety. Other races from across the galaxy who contacted Earth after being freed from the Anti-Spirals have joined forces with President Rossiu of Kamina City and created the Galactic Spiral Peace Conference. Yoko, now as Miss Yomako, has become the principal of the small school she taught at during her seven year absence from the team. One of her students, Nakim, has become a representative of the galaxy in the Grapearl Squadron. Gimmy and Darry have used Simon\\'s Core Drill to become the new pilots of Gurren Lagann. Viral has become the captain of the Super Galaxy Dai-Gurren and an emissary for Earth. Nia\\'s memorial and her engagement ring are shown to have been placed next to the graves of Kamina and the members of Team Dai-Gurren who sacrificed themselves in the final battle. Simon, still living as Simon the Digger, watches over them as a squadron of Gurren Laganns flies through the night sky to join their Spiral brethren in the stars.\\n\\n\\n=== Main characters ===\\n\\nSimon (シモン, Shimon)\\nVoiced by: Tetsuya Kakihara (Japanese); Josh Grelle (A.D. Vision dub), Yuri Lowenthal (Bang Zoom! dub) (English)\\nSimon () is the main protagonist of Gurren Lagann. He is introduced as a fourteen-year-old digger from Giha village who many of his peers look down upon for his timid and weak character. He greatly admires Kamina, one of his few friends in the village, and refers to him as his brother despite them not being related by blood. His discovery of the Core Drill and the Gunmen Lagann set the events of the series in motion. Simon spends much of the first quarter of the series in Kamina\\'s footsteps, but over time gradually acquires his own fighting spirit and determination, acting independently more often until his personality mirrors that of Kamina. Throughout the series, Simon primarily pilots Lagann (Japanese for \"head/face\"), which can produce drills from his body when reacting to Simon\\'s Spiral energy. He can use this ability to combine with Kamina\\'s Gunmen, Gurren, to form Gurren Lagann, and to take control of other Gunmen.\\nKamina (カミナ)\\nVoiced by: Katsuyuki Konishi (Japanese); Brett Weaver (A.D. Vision dub), Kyle Hebert (Bang Zoom! dub) (English)\\nKamina is a rebellious youth from Giha village who dreams of leaving his underground home and going to the surface world, which he saw as a child. His passionate and confident personality serves as a foil for the more timid and weak-willed Simon, and serves to instill courage in Simon. He is known for wearing sunglasses and a tattered cape that belonged to his late father. He wields a nodachi he stole from the chief of Giha village and his catchphrase of \"just who the hell do you think I/we am/are?!\" becomes the battle cry of his group. Although he dies early on in the show, his actions are greatly influential, as he founds Team Gurren, later renaming it Team Dai-Gurren, and acts as its leader to combat Lordgenome and the beastmen. Early on in the series, Kamina hijacks a Gunmen he names Gurren (Japanese for \"scarlet\"), which he pilots while combined with Simon\\'s Lagann to form Gurren Lagann.\\nYoko Littner (ヨーコ・リットナー, Yōko Rittonā)\\nVoiced by: Marina Inoue (Japanese); Tiffany Grant (A.D. Vision dub), Michelle Ruff (Bang Zoom! dub) (English)\\nYoko is a young woman from Littner, a village neighboring Giha, and is introduced as a member of a small resistance against the beastmen. She helps to introduce Simon and Kamina to the surface world, and becomes a member of Team Gurren soon after. She falls in love with Kamina early on the series, and thinks little of Simon until he begins showing signs of self-confidence. After Kamina\\'s death, she tries to help Simon cope and forms a sisterly relationship with him. Instead of piloting a Gunmen, she wields a high-powered energy rifle and uses her marksmanship and wise counsel to aid her teammates.\\nNia Teppelin (ニア・テッペリン, Nia Tepperin)\\nVoiced by: Yukari Fukui (Japanese); Luci Christian (A.D. Vision dub), Hynden Walch (young, Bang Zoom! dub), Bridget Hoffman (Bang Zoom! dub) (English)\\nNia is a major character introduced later in the series. Having lived a sheltered life as the daughter of Lordgenome, she is unaware of the war between the humans and Lordgenome until Lordgenome abandons her and Simon discovers her. She is polite, naive, and curious about the world, and acts as a soothing influence for Simon after he falls into depression following Kamina\\'s death. The two fall in love and become engaged at the start of the second half of the series, after which she is discovered to be an agent of the Anti-Spirals. During this time, a cold and uncaring personality called \"Messenger Nia\" takes over her and she is forced to fight Simon against her will until he rescues her. Because her existence is tied to the Anti-Spirals, she fades away along with them following their defeat, but keeps herself alive long enough to marry Simon.\\n\\n\\n== Production ==\\n\\nGurren Lagann was first announced in July 2006 with Aniplex and Konami assisting Gainax in its making. Konami director Koichi Natsume suggested possibilities of the series getting multiple sequels. The series was directed by Hiroyuki Imaishi, who was a fan of the mecha genre, having previously done animation work for Neon Genesis Evangelion, and ever since he started working he had wanted to work in a mecha series. After working on Re: Cutey Honey with Kazuki Nakashima, Imaishi appointed him as the writer, believing him to be the best choice. Imaishi was surprised with how much material Nakashima could condense into 27 episodes. Imaishi had finished writing the main storyline long before reaching the end which facilitated the staff in making the episodes. According to Gainax president Hiroyuki Yamaga the series was in planning phases for a long time. Animation producer Yasuhiro Takeda used the time to research how the characters would live underground, although this aspect is used only briefly. Once the series started production, the team did not have much time to research materials.\\nIn contrast to other popular series, Imaishi decided to include drills as the robot\\'s main weapons despite its impact on the suspension of disbelief. Imaishi also wanted the series to only have robots. The robots were made organic so that they would be easier to animate. Nevertheless, animating episode 15 was challenging to the staff due to the number of shots it required. Its animator Sushio called himself the \"super animator\" for his work. Deciding the design of the Gurren Lagann was complicated since it was the basis for the other mechas appearing in the story.\\nIn the making of the series, the team wanted to focus more on the underground life and Simon\\'s imprisonment but their ideas could not be used. In the eighth episode Kamina dies to provide Simon\\'s character development and make him become the main character. Simon\\'s development kept on going until the final arc when staff planned ideas to make him surpass Kamina. The ending was written to finalize Simon\\'s growth and not leave signs of a sequel. The finale had the pre-planned tragic event of Nia\\'s death which left several staff members saddened. While the staff acknowledged how people were not satisfied with the sad conclusion, they noted that there were still issues that made her survival difficult for the characters. Once the series ended, Yamaga had the idea of releasing a film that retells the events of the series to expand the audience.\\n\\n\\n=== Influences ===\\nIn an interview, the writer Kazuki Nakashima cites Ken Ishikawa, co-creator of Getter Robo, as one of Gurren Lagann\\'s influences. Gurren Lagann occasionally pays homage to Ishikawa\\'s Getter Robo, particularly towards the end of the series, where the scale becomes absurd, with the robots steadily becoming bigger and bigger, much like Getter Robo and more specifically, the manga version of Getter Robo Go. The final enemy also bears a striking resemblance to La Gooth of Records of Nothingness, another work by Ishikawa. Nakashima, however, wanted to conclude the story of Gurren Lagann in a more reasonable fashion than what Ishikawa usually does in his works. According to Jason Green from Anime News Network, the anime was influenced by previous Gainax anime, particularly in the character development of the protagonist Simon, who goes through three stages in his character development during the three arcs of the series. Each of these stages in his development were influenced by protagonists from several previous Gainax anime: Shinji Ikari from the Neon Genesis Evangelion franchise, Noriko Takaya from Gunbuster, and Ken Kubo from Otaku no Video. The animation on the show pays special tribute to the animation and character designs of Yoshinori Kanada.\\n\\n\\n=== Conflicts ===\\nTakami Akai, an animation producer of the series and a co-founder of Gainax, announced that he would resign his position effective episode five, which aired on April 29, 2007, over comments that he made regarding posts on the Japanese textboard 2channel. Akai and another Gainax employee, Keiko Mimori, made disparaging remarks about comments criticizing the animation style of the fourth episode of Gurren Lagann, which was completely directed by guest and friend Osamu Kobayashi. With regard to reading the fan criticisms, Akai stated that it was \"like putting [his] face next to an anus and breathing deeply.\" Fans later became aware of his comments, and he announced his departure from the company he helped found.\\nAs a result of the series airing in a child-friendly time slot, the staff members had problems with episode 6. Although that episode had a subplot involving peeking into the women\\'s bath, the television stations believed it was suitable when reading the script. After seeing the finished episode, the station said that it could not be aired, and a revised version of the episode was produced.\\n\\n\\n== Media ==\\n\\n\\n=== Anime series ===\\n\\nProduced by the animation studio Gainax and directed by Hiroyuki Imaishi, Gurren Lagann aired in Japan on TXN stations between April 1 and September 30, 2007. The anime has 27 episodes plus two specials, the first being the uncensored version of the sixth episode, and the second is episode 5.5, a bonus that came with the Nintendo DS game.\\nThe English version had been previously licensed by ADV Films, but was later acquired by Bandai Entertainment. A subtitle-only version was released in three volumes from July to September 2008, and an official English dub, with the episodes collected in three DVD sets, was released from November 18, 2008, to May 5, 2009. The show premiered on the Sci Fi Channel on July 28, 2008, as part of Sci Fi\\'s Ani-Monday anime block, airing two episodes each week (and three the final week). The European distribution branch of Bandai, Beez Entertainment, distributed the series in the UK and Europe but has gone out of print since January 2012. In 2013, Anime Limited announced that they have the distribution license for Gurren Lagann on DVD and Blu-ray in the UK. In 2014, they released a limited Blu-ray Ultimate Edition on October 20, 2014, featuring the entire series, both film adaptations and the complete Parallel Works series, as well as a hardcover artbook. A standard edition Blu-ray containing the complete series was also released on the same day with the DVD release following later that year. The English version also aired on Animax across its English-language networks in Southeast Asia and South Asia starting on May 22, 2009. It was broadcast in Italy on Rai 4 between September 24, 2009, and April 1, 2010. Aniplex of America re-released the series in a limited edition DVD box set on May 9, 2013. A Blu-ray Disc box set, which includes both the television series and the two film adaptations, was released on June 26, 2013. Adult Swim began airing the series in English as part of the Toonami block on August 16, 2014.\\n\\n\\n==== Music ====\\nTaku Iwasaki composed the show\\'s main background music. Four theme songs are used for the episodes; one opening theme and three ending themes. The opening theme is \"Sorairo Days\" (空色デイズ, Sorairo Deizu, lit. \"Sky-Blue Days\") by Shoko Nakagawa. Starting from episode 17, the second verse and chorus was used, as compared to the first verse and chorus used in the previous episodes. For episodes 1 through 15 the ending theme is \"Underground\" by High Voltage. \"Happily Ever After\" by Shoko Nakagawa was used in episode 16. \"Minna no Peace\" (みんなのピース, Minna no Pīsu, \"Everyone\\'s Peace\") by Afromania was used for episodes 17 to 27.\\nTengen Toppa Gurren Lagann Character Song was released on July 25, 2007, by Aniplex, including image songs by the main voice cast, with songs sung by Tetsuya Kakihara (Simon), Katsuyuki Konishi (Kamina), and Marina Inoue (Yoko), the latter of which is a playable song in Dance Dance Revolution SuperNOVA 2. In addition, several music compilation albums have been released, most consisting of background music.\\n\\n\\n=== Manga ===\\nThe Tengen Toppa Gurren Lagann manga, illustrated by Kotaro Mori, started serialization in the June 2007 issue of MediaWorks\\' magazine Dengeki Comic Gao!. The manga ended serialization in Dengeki Comic Gao! with the April 2008 issue when the magazine was discontinued, but continued serialization in ASCII Media Works\\' manga magazine Dengeki Daioh with the June 2008 issue and continued until the July 2013 issue. Ten tankōbon volumes were published between September 27, 2007, and June 27, 2013, in Japan under ASCII Media Works\\' Dengeki Comics imprint. Bandai Entertainment licensed the manga and released an English translation of the first six volumes in North America. The manga follows the same basic story as the anime, although there are some changes to the order of events, and the addition of character backstories that had been cut from the anime, such as the relationship between Dayakka and Kiyoh.\\nA spin-off manga entitled Tengen Toppa Gurren Lagann: Gurren Gakuen-hen (天元突破グレンラガン −紅蓮学園篇−) was serialized in Comp Ace between August 26, 2008, and January 26, 2009; a single tankōbon volume was released on March 26, 2009. The manga takes the characters from the original story and puts them in a school in a parallel world. In the manga, Simon attends Dai-Gurren Academy (ダイグレン学園, Dai Guren Gakuen) with his childhood friends Kamina and Yoko. Simon, who lives in a run down apartment building, wishes for a normal life, and meets the mysterious Nia one day when she trips down the stairs. She immediately takes a liking to Simon and declares him her husband. Kamina finds another \"sister\" in Nia, who shares his hot-blooded style. She enrolls in Dai-Gurren Academy, and all three must deal with the threat of students from Teppelin Academy, who wish to bring Nia back to her father, the principal.\\nAnother spin-off manga titled Tengen Toppa Gurren Lagann 4-koma Kingdom: Yoko no Oheso-hen (天元突破グレンラガン4コマKINGDOM ヨーコのおヘソ編, Tengen Toppa Gurren Lagann 4-panel Kingdom: Yoko\\'s Belly Button Chapter) was published by Futabasha in 2008 as a compilation of various short stories.\\n\\n\\n=== Video games ===\\nAn online video game was developed by Konami called Tengen Toppa Gurren Lagann Chōzetsu Hakkutsu ONLINE (天元突破グレンラガン 超絶発掘ONLINE, literally \"Tengen Toppa Gurren Lagann: Superior Excavation Online\"). Beta testing had ended on April 16, 2007. The player takes up the role of a driller and drills for treasures in first person view. There is a shop to purchase drills—the shopkeeper is an original character named Asaki. The player can also collect digital trading cards. The game was canceled at the closed beta stage, as installing the game crashed Windows indefinitely. Konami even had to send out 500GB external hard drives to beta users so that they could back up files while reinstalling their operating systems.\\nA game for the Nintendo DS was released October 25, 2007, not only featuring the characters from the series, but also containing a special episode set in the early stages of the story as a pre-order bonus. In June 2010, Gainax re-acquired the video game rights to the series from Konami, which allowed Banpresto to include it in the latest installment of its storied Super Robot Wars franchise, 2nd Super Robot Wars Z: Destruction Chapter, released in April 2011.\\nA Pachislot game based on the anime teased by Konami was later released in February 2016.\\n\\n\\n=== Anime films ===\\nAn animated film entitled Gurren Lagann the Movie: Childhood\\'s End (劇場版 天元突破グレンラガン 紅蓮篇, Gekijōban Tengen Toppa Gurren Lagann Gurren-hen, Tengen Toppa Gurren Lagann The Movie: The Crimson Lotus Chapter), once again directed by Hiroyuki Imaishi, and written by Kazuki Nakashima, was produced by Gainax and released on September 6, 2008, in Japanese theaters and the DVD was released on April 22, 2009. The film is a compilation of the events of the first arc of the series (episodes one through fifteen) with around 20 minutes of newly animated scenes. In conjunction with the release of the film, Gainax released a series of music videos entitled Gurren Lagann Parallel Works, which contains alternative stories of Gurren Lagann set to songs from the original soundtrack. The film had a limited theatrical release on 11 screens, and grossed ¥150 million ($1.88 million) at the Japanese box office. The film had its first official English release at the Viz Pictures cinema in San Francisco, California on September 8, 2009.\\nA second film, Gurren Lagann The Movie: The Lights in the Sky are Stars (劇場版 天元突破グレンラガン 螺巌篇, Gekijōban Tengen Toppa Guren Lagann Lagann-hen, Tengen Toppa Gurren Lagann the Movie: The Spiral Stone Chapter) was released in Japanese theaters on April 25, 2009. It focuses on the second half of the series, contributing more new animation than the first film. The Japanese DVD for The Lights in the Sky are Stars was released on January 27, 2010. For both films, Shoko Nakagawa sang the theme songs: \"Tsuzuku Sekai\" (続く世界, \"The World Goes On\") for Childhood\\'s End and \"Namida no Tane, Egao no Hana\" (涙の種、笑顔の花, \"Seed of Tears, Flower of Smiles\") for The Lights in the Sky are Stars. Taku Iwasaki returned to compose the films\\' scores.\\nAniplex of America distributed both films on DVD in regular and special editions. Childhood\\'s End was released on July 1, 2010, while The Lights in the Sky are Stars was released on July 30, 2010. Aniplex of America released the films on Blu-ray Disc as part of the Gurren Lagann Blu-ray box set on June 26, 2013. Aniplex of America re-released the films in a separate Blu-ray Disc set on July 15, 2014.\\nFor the series\\' 15th anniversary, it was announced that both films would be re-shown in theaters in Japan, Taiwan and the United States as both a 2D and 4D film, along with a new release on Ultra HD Blu-ray. At the 15th Anniversary panel at AnimeNYC, it was announced the North American screenings for Childhood\\'s End would be held on January 16 and 17, 2024 with The Lights in the Sky Are Stars following on January 23 and 24; the films were available for viewing in the original subtitled Japanese or a newly-recorded English dub.\\n\\n\\n== Reception ==\\n\\n\\n=== Critical reception ===\\nGurren Lagann received widespread critical acclaim since its release. The show currently sits at 100% on Rotten Tomatoes, based on 17 reviews, with the critic consensus reading, \"This subterranean romp blazes on the screen with brilliant animation, charismatic characters, and subversive writing – making for a humorous spectacle that any anime connoisseur can appreciate.\" It is one of several science fiction anime to receive a 100% rating on Rotten Tomatoes.\\nAnime News Network gave Gurren Lagann a full \\'A\\' rating, with reviewer Theron Martin describing it as \"one of the liveliest series of the decade\" and concluding that \"Gainax\\'s paean to boisterous, macho mecha action delivers in triumphant fashion.\" Anime News Network also gave the dubbed version of the first volume an \\'A\\' rating. IGN gave the series a score of 9.7 out of 10, with reviewer Ramsey Isler describing it as \"an inspiring story\" and concluding that \"overall it succeeds at being a great tale of the indomitable spirit of determined people.\" Anime World Order also gave the series a positive review, noting that it has become one of the most popular mecha anime on the Internet, which reviewer Clarissa Graffeo ascribes to its crossover appeal among various audiences who do not usually watch giant robot anime, by combining aspects from a number of different anime genres, including elements of the Super Robot, Real Robot, Shōnen, Shōjo, Seinen and Josei genres.\\nTHEM Anime Reviews gave the anime a score of 4 out of 5 stars, with reviewer Tim Jones describing it as \"Almost five-star material,\" and stating that it is \"chuck full of action, comedy, drama, adventure, and sci-fi elements, managing to even entertain a person who couldn\\'t care less about mecha in the process.\" UK Anime Network gave the first third of the series a score of 8/10, with reviewer Ross Liversidge noting that from episode 7 onwards, \"the show\\'s newfound edge makes it far more gripping,\" and concludes that it is a \"high quality release\" and \"a fun, punchy series that stands out from the crowd.\" On the review website Mania.com, reviewer Chris Beveridge gave the first two-thirds of the series a full \\'A\\' grade. He described the first third as \"chaotic, magical and engaging,\" and then described the second third as captivating \"with non-standard storytelling ideas for an anime series\" and concluded that it was \"fun, exciting, unpredictable and filled with the usual positive messages but done without any serious preaching.\"\\nIan Wolf of Anime UK News stated, \"when you look at the way that it was made as a whole, the story that was created, the characters that were portrayed, and the sheer scale of the entire project, it all combines into what is probably one of the greatest anime of all time.\" Guillermo Kurten of Comic Book Resources (CBR) called it one of the \"modern classics\" of anime, praising the art style and animation, the action, the mechs, the cast of characters and their emotional relationships, the world-building with gradually rising stakes, the \"over-the-top and light-hearted\" tone, and for dealing with real-world issues. Michael Iacono of CBR also praised the anime\\'s use of hip hop music, including \"what might be the greatest hip-hop song in the genre\" of anime in hip hop.\\nIn an April 2019 interview with Diego Molano, creator of Victor & Valentino, he said that the series is \"one of my all-time favorite series to watch,\" and even puts it in the background when he draws or writes. He also called the series brilliant, as he always finds \"new things to admire\" and praises the storyboards of the show for being \"incredibly energetic, expressive and appealing.\"\\n\\n\\n=== Accolades ===\\nThe Gurren Lagann anime series received an Excellence Prize at the 11th Japan Media Arts Festival in 2007. Its director Hiroyuki Imaishi received an individual award for \"Personal Best\" at the 12th Animation Kobe Festival that same year for his work on the series. In 2008, during the 7th annual Tokyo Anime Awards held at the Tokyo International Anime Fair, Gurren Lagann won the \"Best Television Production\" award. In addition, the \"Best Character Design\" award was given to the character designer Atsushi Nishigori for his work on the anime. The series was also nominated for the 39th Seiun Awards in the Best Media category in 2008.\\nJapanator named Gurren Lagann the fourth best anime of the 2000s, calling it \"a flawless execution of storytelling\". Android Authority ranked it the second best anime on Netflix. Paste Magazine ranked it among the top 40 anime of all time.\\n\\n\\n=== Popular culture ===\\nInfluences from and references to Gurren Lagann can be found in popular culture ranging from Japanese anime and video games, to American comics and animation, as well as politics in Europe. During a political debate over whether the British Union Flag should be updated by incorporating the Welsh Dragon, The Daily Telegraph newspaper held a contest for readers to submit their designs and have other readers vote for the winning design. On December 11, 2007, a Gurren Lagann-based design submitted from Norway won the contest, winning by a wide margin of 55% of the votes. Gurren Lagann has had an influence on the Transformers franchise, with the creators of Transformers Animated citing it as an inspiration. The art director and lead character designer Derrick Wyatt stated that, while he \"hadn\\'t seen Gurren Lagann until after\" they \"had finished most of the first season of TFA,\" he confirmed that the creators have \"definitely been inspired\" by it ever since, particularly during the second and third seasons of Transformers Animated.\\nThe success of Gurren Lagann led to the creation of Studio Trigger, founded by director Hiroyuki Imaishi. Gurren Lagann\\'s visual humor and style defined their work, and the studio is seen as a successor to Gainax. Mecha designer Shigeto Koyama, who did design work for Gurren Lagann, later worked on the concept design for Baymax in the 2014 Disney film Big Hero 6. Upon the film\\'s release in Japan, comparisons were drawn to Gurren Lagann from Japanese audiences. Gurren Lagann is frequently referenced in the 2016 video game Kirby: Planet Robobot. The French television show Wakfu also pays homage to Gurren Lagann. In League of Legends, Rumble\\'s \"Super Galaxy Rumble\" skin, as well as many of the quotes with the skin, is based on the anime. In South Park: The Fractured but Whole, one of Stan Marsh\\'s catch phrases is from the anime.\\n\\n\\n== Notes ==\\n\\n\\n== References ==\\n\\n\\n== Further reading ==\\nBeviridge, Chris (June 23, 2010). \"Gurren Lagann the Movie -Childhood\\'s End- (also w/LE)\". Mania. Archived from the original on March 25, 2015.\\nMartin, Theron (June 25, 2010). \"Gurren Lagann: The Movie ~Childhood\\'s End~ DVD\". Anime News Network. Retrieved September 8, 2011.\\nFinnegan, Erin (July 5, 2010). \"Shelf Life: Inner Childhood\". Anime News Network. Retrieved September 8, 2011.\\nSantos, Carlo (July 26, 2010). \"Gurren Lagann the Movie: The Lights in the Sky Are Stars\". Anime News Network. Retrieved September 8, 2011.\\n\\n\\n== External links ==\\n\\nOfficial website (in Japanese)\\nGainax\\'s Gurren Lagann website (in Japanese)\\nGurren Lagann film official website (in Japanese)\\nKonami\\'s Gurren Lagann website (in Japanese)\\nBandai Entertainment\\'s Gurren Lagann website\\nManga Entertainment\\'s Gurren Lagann website\\nAniplex of America\\'s Gurren Lagann website\\n\"The Secrets of Gurren Lagann\" (Gainax panel)\\nGurren Lagann at IMDb\\nGurren Lagann (anime) at Anime News Network\\'s encyclopedia'"
      ]
     },
     "execution_count": 65,
     "metadata": {},
     "output_type": "execute_result"
    }
   ],
   "source": [
    "wikipedia.page(\"Gurren Lagann\").content"
   ]
  },
  {
   "cell_type": "code",
   "execution_count": 45,
   "id": "de601b62",
   "metadata": {},
   "outputs": [
    {
     "data": {
      "text/plain": [
       "\"The FIVB Volleyball Women's World Cup is an international volleyball competition contested by the senior women's national teams of the members of Fédération Internationale de Volleyball (FIVB), the sport's global governing body. Initially the tournament was played in the year following the Olympic Games, but since 1991 the World Cup has been awarded in the year preceding the Olympic Games. The current champion is China, which won its fifth title at the 2019 tournament.\\nThe historical format of the competition involves 12 teams, including the automatically qualifying host nation Japan, competing in the tournament phase for the title at venues within the host nation over a period of about two weeks. The World Cup (with exception of the 2019 edition) acts as the first qualification event for the following year's Olympic Games with the top two teams qualifying.\\nThe 14 World Cup tournaments have been won by six different national teams. China have won five times. The other World Cup winners are Cuba, with four titles; Italy, with two titles; Japan and Russia (as Soviet Union) with one title each.\\nThis tournament should not be confused with the FIVB Volleyball Women's World Championship.\\n\\n\""
      ]
     },
     "execution_count": 45,
     "metadata": {},
     "output_type": "execute_result"
    }
   ],
   "source": [
    "wikipedia.summary(\"FIVB Volleyball Women World Cup\")"
   ]
  },
  {
   "cell_type": "code",
   "execution_count": 52,
   "id": "c805dd79",
   "metadata": {},
   "outputs": [
    {
     "data": {
      "text/plain": [
       "'The FIVB Volleyball Women\\'s World Cup is an international volleyball competition contested by the senior women\\'s national teams of the members of Fédération Internationale de Volleyball (FIVB), the sport\\'s global governing body. Initially the tournament was played in the year following the Olympic Games, but since 1991 the World Cup has been awarded in the year preceding the Olympic Games. The current champion is China, which won its fifth title at the 2019 tournament.\\nThe historical format of the competition involves 12 teams, including the automatically qualifying host nation Japan, competing in the tournament phase for the title at venues within the host nation over a period of about two weeks. The World Cup (with exception of the 2019 edition) acts as the first qualification event for the following year\\'s Olympic Games with the top two teams qualifying.\\nThe 14 World Cup tournaments have been won by six different national teams. China have won five times. The other World Cup winners are Cuba, with four titles; Italy, with two titles; Japan and Russia (as Soviet Union) with one title each.\\nThis tournament should not be confused with the FIVB Volleyball Women\\'s World Championship.\\n\\n\\n== History ==\\n\\n\\n=== Origins ===\\nThe World Cup was created in 1965 with the purpose of partially filling the gap between the two most important volleyball tournaments, the Olympic Games and the World Championship, which take place in alternating 4-year cycles. The establishment of a third international competition would leave only one in every four years with no major events. The World Cup has a smaller entry than the World Championship, with at most 12 teams.\\nThe World Cup was to be held in the year following the Olympic Games. The first two tournaments were for men\\'s volleyball only; in 1973, a women\\'s tournament was also introduced. Originally, each tournament had a different host, but in 1977 the competition was transferred to Japan on a permanent basis.\\nIn the 1990s, the installment of annual international events such as the World League and the Grand Prix made the original motivations for the creation of the World Cup obsolete. Instead of letting a consolidated event disappear for lack of interest, the FIVB decided to change its format in 1991: it would be held in the year preceding, and not following, the Olympic Games; and it would be considered a first international Olympic qualification tournament, granting the winner a direct berth in the games.\\nThis move saved the competition. The possibility of securing an early berth for the Olympic Games, thus avoiding extraneous and in some cases tight continental qualification procedures, became a consistent motivation for the national federations to participate in the World Cup. In 1995, the number of Olympic spots granted at the competition was increased to three, as it remained until 2011. In 2015 the number of spots was only two again.\\n\\n\\n=== 2023 edition ===\\nWith the change of qualification for the Paris Summer Olympics, the 2023 World Cup will serve as one of the three Olympic qualification tournaments. Only eight teams will participate in this edition, with two tickets to the Paris Olympics for the top two teams.\\n\\n\\n=== Winners ===\\nThe Women\\'s World Cup has had not one great winner, like its counterpart for men\\'s volleyball, but two: China and Cuba.\\nThe first edition of the tournament was won by the Soviet Union. Japan, the runner-up of 1973, took the gold in 1977. With the help of superstar player Lang Ping, China won the following two editions, in 1981 and 1985.\\nThen Cuba stepped forward to begin its amazing World Cup career, winning its first title in 1989. With the tournament now as an Olympic qualifier, there followed three more consecutive victories, in 1991, 1995 and 1999.\\nChina came back in 2003 with a remarkably offensive team to win its third title.\\nItaly won the 2007 edition with an outstanding record of eleven wins in eleven games and only two sets left to the opponents (both lost against Serbia). Italy took a second win in a row in 2011, getting the better hand on United States and China. In 2015, China regained the title and then successfully defended it in 2019.\\n\\n\\n== Competition formula ==\\nThe World Cup is the most stable from all competition formulas employed by the FIVB. The following rules apply:\\n\\nThe competition takes place in Japan.\\nTwelve teams participate in each event: ten qualified, two per invitation.\\nJapan are always pre-qualified as host nation.\\nThe winners of the FIVB World Championship in the previous year are automatically granted a spot.\\nThe champion and runner-up of each continental tournament of that year are granted two spots.\\nSince the 1999 edition, only teams not yet qualified for the following Olympic Games can compete in the World Cup; hence hosts of the following year\\'s Olympic Games are not allowed to compete. There was an exception for the 2019 World Cup, as the tournament will be hosted by Japan and the country will host the 2020 Summer Olympics.\\nThe competition is divided in exactly two phases (called \"legs\").\\nTeams are divided in two pools.\\nAt the first leg, each team plays one match against all other teams in its pool.\\nAt the second leg, each team plays one match against all the teams in the other pool.\\nMatches take place continuously through two weeks, with one-day breaks every two or three days. Each day, six matches are played.\\nFinal standings are calculated by usual volleyball criteria: match points, numbers of matches won, sets ratio (the total number of sets won divided by the total number of sets lost), points ratio, direct confrontation.\\nThe top two teams in overall standings, regardless of pools, qualify for the following Olympic Games.\\nThe tournament implements very tight line-up restrictions: only twelve players are allowed, and no replacement is permitted, even in the case of injuries.\\n\\n\\n== Results summary ==\\n\\n\\n== Medals summary ==\\n\\n\\n== Debut of national teams ==\\n\\n\\n== Participating nations ==\\nLegend\\n1st – Champions\\n2nd – Runners-up\\n3rd – Third place\\n4th – Fourth place\\n •  – Did not enter / Did not qualify\\n   – Hosts\\n= – More than one team tied for that rank\\nQ – Qualified for forthcoming tournament\\n\\n\\n== Most valuable player by edition ==\\n1973 –  Jo Hea-jung (KOR)\\n1977 –  Takako Shirai (JPN)\\n1981 –  Sun Jinfang (CHN)\\n1985 –  Lang Ping (CHN)\\n1989 –  Mireya Luis (CUB)\\n1991 –  Caren Kemner (USA)\\n1995 –  Mireya Luis (CUB)\\n1999 –  Taismary Agüero (CUB)\\n2003 –  Małgorzata Glinka (POL)\\n2007 –  Simona Gioli (ITA)\\n2011 –  Carolina Costagrande (ITA)\\n2015 –  Zhu Ting (CHN)\\n2019 –  Zhu Ting (CHN)\\n\\n\\n== See also ==\\n\\nVolleyball at the Summer Olympics\\nFIVB Volleyball Men\\'s World Cup\\nFIVB Volleyball Women\\'s World Championship\\nFIVB Volleyball World Grand Champions Cup\\nFIVB Volleyball World Grand Prix\\nFIVB Volleyball Women\\'s Nations League\\nList of Indoor Volleyball World Medalists\\n\\n\\n== Notes ==\\n\\n\\n== References ==\\n\\n\\n== External links ==\\nFIVB'"
      ]
     },
     "execution_count": 52,
     "metadata": {},
     "output_type": "execute_result"
    }
   ],
   "source": [
    "wikipedia.page(\"FIVB Volleyball Women World Cup\").content"
   ]
  },
  {
   "cell_type": "code",
   "execution_count": 91,
   "id": "1cdacd55",
   "metadata": {},
   "outputs": [
    {
     "data": {
      "text/plain": [
       "'https://en.wikipedia.org/wiki/FIVB_Volleyball_Women%27s_World_Cup'"
      ]
     },
     "execution_count": 91,
     "metadata": {},
     "output_type": "execute_result"
    }
   ],
   "source": [
    "wikipedia.page(\"FIVB Volleyball Women World Cup\").url"
   ]
  },
  {
   "cell_type": "code",
   "execution_count": null,
   "id": "46b4cdf6",
   "metadata": {},
   "outputs": [],
   "source": [
    "wikipedia.set_lang('de')\n",
    "wikipedia.summary(\"FIVB Volleyball Women World Cup\")"
   ]
  },
  {
   "cell_type": "markdown",
   "id": "30db374c",
   "metadata": {},
   "source": [
    "## Extract tabular data from wikipedia into a Pandas dataframe"
   ]
  },
  {
   "cell_type": "code",
   "execution_count": 49,
   "id": "fe4d27b0",
   "metadata": {},
   "outputs": [],
   "source": [
    "# First, import the pandas package\n",
    "import pandas as pd"
   ]
  },
  {
   "cell_type": "code",
   "execution_count": 51,
   "id": "fc84bb61",
   "metadata": {},
   "outputs": [
    {
     "name": "stdout",
     "output_type": "stream",
     "text": [
      "Requirement already satisfied: lxml in c:\\programdata\\anaconda3\\lib\\site-packages (5.2.1)\n"
     ]
    }
   ],
   "source": [
    "# You may need to pip install lxml package\n",
    "!pip install lxml"
   ]
  },
  {
   "cell_type": "code",
   "execution_count": 69,
   "id": "bbfc4d88",
   "metadata": {},
   "outputs": [],
   "source": [
    "# Import the lxml package\n",
    "import lxml"
   ]
  },
  {
   "cell_type": "code",
   "execution_count": 71,
   "id": "9ec891ca",
   "metadata": {},
   "outputs": [],
   "source": [
    "# Extract tabular data from wikipedia into a Pandas dataframe.\n",
    "# We will use pandas.read_html\n",
    "\n",
    "tables = pd.read_html(\"https://en.wikipedia.org/wiki/FIVB_Volleyball_Women%27s_World_Cup#Results_summary\",\n",
    "                     match='Champions')"
   ]
  },
  {
   "cell_type": "code",
   "execution_count": 73,
   "id": "93a0c25d",
   "metadata": {
    "scrolled": true
   },
   "outputs": [
    {
     "data": {
      "text/plain": [
       "[            Year     Host    Unnamed: 2      Champions     Runners-up  \\\n",
       " 0            NaN      NaN           NaN            NaN            NaN   \n",
       " 1            NaN      NaN           NaN            NaN            NaN   \n",
       " 2            NaN      NaN           NaN            NaN            NaN   \n",
       " 3            NaN      NaN           NaN            NaN            NaN   \n",
       " 4            NaN      NaN           NaN            NaN            NaN   \n",
       " 5            NaN      NaN           NaN            NaN            NaN   \n",
       " 6            NaN      NaN           NaN            NaN            NaN   \n",
       " 7            NaN      NaN           NaN            NaN            NaN   \n",
       " 8            NaN      NaN           NaN            NaN            NaN   \n",
       " 9            NaN      NaN           NaN            NaN            NaN   \n",
       " 10           NaN      NaN           NaN            NaN            NaN   \n",
       " 11           NaN      NaN           NaN            NaN            NaN   \n",
       " 12           NaN      NaN           NaN            NaN            NaN   \n",
       " 13           NaN      NaN           NaN            NaN            NaN   \n",
       " 14  1973 Details  Uruguay  Soviet Union          Japan    South Korea   \n",
       " 15  1977 Details    Japan         Japan           Cuba    South Korea   \n",
       " 16  1981 Details    Japan         China          Japan   Soviet Union   \n",
       " 17  1985 Details    Japan         China           Cuba   Soviet Union   \n",
       " 18  1989 Details    Japan          Cuba   Soviet Union          China   \n",
       " 19  1991 Details    Japan          Cuba          China   Soviet Union   \n",
       " 20  1995 Details    Japan          Cuba         Brazil          China   \n",
       " 21  1999 Details    Japan          Cuba         Russia         Brazil   \n",
       " 22  2003 Details    Japan         China         Brazil  United States   \n",
       " 23  2007 Details    Japan         Italy         Brazil  United States   \n",
       " 24  2011 Details    Japan         Italy  United States          China   \n",
       " 25  2015 Details    Japan         China         Serbia  United States   \n",
       " 26  2019 Details    Japan         China  United States         Russia   \n",
       " \n",
       "         3rd place  4th place  Unnamed: 7  Teams  \n",
       " 0             NaN        NaN         NaN    NaN  \n",
       " 1             NaN        NaN         NaN    NaN  \n",
       " 2             NaN        NaN         NaN    NaN  \n",
       " 3             NaN        NaN         NaN    NaN  \n",
       " 4             NaN        NaN         NaN    NaN  \n",
       " 5             NaN        NaN         NaN    NaN  \n",
       " 6             NaN        NaN         NaN    NaN  \n",
       " 7             NaN        NaN         NaN    NaN  \n",
       " 8             NaN        NaN         NaN    NaN  \n",
       " 9             NaN        NaN         NaN    NaN  \n",
       " 10            NaN        NaN         NaN    NaN  \n",
       " 11            NaN        NaN         NaN    NaN  \n",
       " 12            NaN        NaN         NaN    NaN  \n",
       " 13            NaN        NaN         NaN    NaN  \n",
       " 14           Peru       10.0         NaN    NaN  \n",
       " 15          China        8.0         NaN    NaN  \n",
       " 16  United States        8.0         NaN    NaN  \n",
       " 17          Japan        8.0         NaN    NaN  \n",
       " 18          Japan        8.0         NaN    NaN  \n",
       " 19  United States       12.0         NaN    NaN  \n",
       " 20        Croatia       12.0         NaN    NaN  \n",
       " 21    South Korea       12.0         NaN    NaN  \n",
       " 22          Italy       12.0         NaN    NaN  \n",
       " 23           Cuba       12.0         NaN    NaN  \n",
       " 24          Japan       12.0         NaN    NaN  \n",
       " 25         Russia       12.0         NaN    NaN  \n",
       " 26         Brazil       12.0         NaN    NaN  ,\n",
       "    vteInternational Federation of Volleyball (FIVB) competitions  \\\n",
       " 0                                      National teams              \n",
       " 1                                       Championships              \n",
       " 2                                                Cups              \n",
       " 3                                             Leagues              \n",
       " 4                                Youth national teams              \n",
       " 5                                       Championships              \n",
       " 6                                   Club competitions              \n",
       " 7                                       Championships              \n",
       " 8                                    Beach volleyball              \n",
       " 9                                       Championships              \n",
       " 10                                        World Tours              \n",
       " 11                                       Discontinued              \n",
       " 12                                      Championships              \n",
       " 13                                               Cups              \n",
       " 14                                            Leagues              \n",
       " \n",
       "    vteInternational Federation of Volleyball (FIVB) competitions.1  \n",
       " 0   Championships World championships Men's Women'...               \n",
       " 1                   World championships Men's Women's               \n",
       " 2                            World Cups Men's Women's               \n",
       " 3                       Nations Leagues Men's Women's               \n",
       " 4   Championships World championships Men's U21 Wo...               \n",
       " 5   World championships Men's U21 Women's U21 Boys...               \n",
       " 6   Championships World Club Championships Men's W...               \n",
       " 7              World Club Championships Men's Women's               \n",
       " 8   Championships World Championships Men's Women'...               \n",
       " 9                   World Championships Men's Women's               \n",
       " 10                     World Beach Tour Men's Women's               \n",
       " 11  Championships World Championships Men's U23 Wo...               \n",
       " 12          World Championships Men's U23 Women's U23               \n",
       " 13           World Grand Champions Cups Men's Women's               \n",
       " 14  World League World Grand Prix World Challenger...               ,\n",
       "                0                                  1\n",
       " 0  Championships  World championships Men's Women's\n",
       " 1           Cups           World Cups Men's Women's\n",
       " 2        Leagues      Nations Leagues Men's Women's,\n",
       "                0                                                  1\n",
       " 0  Championships  World championships Men's U21 Women's U21 Boys...,\n",
       "                0                                       1\n",
       " 0  Championships  World Club Championships Men's Women's,\n",
       "                0                                  1\n",
       " 0  Championships  World Championships Men's Women's\n",
       " 1    World Tours     World Beach Tour Men's Women's,\n",
       "                0                                                  1\n",
       " 0  Championships          World Championships Men's U23 Women's U23\n",
       " 1           Cups           World Grand Champions Cups Men's Women's\n",
       " 2        Leagues  World League World Grand Prix World Challenger...,\n",
       "                  vteInternational women's volleyball  \\\n",
       " 0  FIVB World Ranking Summer Olympic Games FIVB W...   \n",
       " 1                                             Africa   \n",
       " 2                                     Asia & Oceania   \n",
       " 3                                             Europe   \n",
       " 4                                      North America   \n",
       " 5                                    Central America   \n",
       " 6                                      South America   \n",
       " 7                                 Multi-sport events   \n",
       " 8                                       Discontinued   \n",
       " \n",
       "                vteInternational women's volleyball.1  \n",
       " 0  FIVB World Ranking Summer Olympic Games FIVB W...  \n",
       " 1            CAVB African Championship African Games  \n",
       " 2  AVC Asian Championship Asian Cup Asian Challen...  \n",
       " 3  CEV European Championship European League Smal...  \n",
       " 4  NORCECA NORCECA Championship Pan American Cup ...  \n",
       " 5  AFECAVOL Central American Championship Central...  \n",
       " 6  CSV South American Championship Pan American C...  \n",
       " 7  Arab Games Bolivarian Games Lusophone Games Me...  \n",
       " 8  FIVB World Grand Prix FIVB World Grand Champio...  ,\n",
       "                           vteInternational volleyball  \\\n",
       " 0   FIVB World Rankings Achievements by nation Rec...   \n",
       " 1                                           Worldwide   \n",
       " 2                                      Junior / Youth   \n",
       " 3                                  Multi-sport events   \n",
       " 4                                         Continental   \n",
       " 5                                       Africa (CAVB)   \n",
       " 6                              Asia and Oceania (AVC)   \n",
       " 7                                        Europe (CEV)   \n",
       " 8                                            Americas   \n",
       " 9                                          Top events   \n",
       " 10                            North America (NORCECA)   \n",
       " 11                         Central America (AFECAVOL)   \n",
       " 12                                South America (CSV)   \n",
       " \n",
       "                         vteInternational volleyball.1  \n",
       " 0   FIVB World Rankings Achievements by nation Rec...  \n",
       " 1   Olympic Games World Championships men women Na...  \n",
       " 2   Youth Olympic Games World Championships men U2...  \n",
       " 3   Arab Games Bolivarian Games Goodwill Games Isl...  \n",
       " 4   Africa (CAVB) African Championship men women m...  \n",
       " 5   African Championship men women men U23 women U...  \n",
       " 6   Asian Championship men women men U23 (defunct)...  \n",
       " 7   European Championship men women men U22 women ...  \n",
       " 8   Top events Pan American Games Pan-American Cup...  \n",
       " 9   Pan American Games Pan-American Cup men women ...  \n",
       " 10  NORCECA Championship men women men U21 women U...  \n",
       " 11  Central American Championship men women Centra...  \n",
       " 12  South American Championship men women men U23 ...  ,\n",
       "                             0  \\\n",
       " 0               Africa (CAVB)   \n",
       " 1      Asia and Oceania (AVC)   \n",
       " 2                Europe (CEV)   \n",
       " 3                    Americas   \n",
       " 4                  Top events   \n",
       " 5     North America (NORCECA)   \n",
       " 6  Central America (AFECAVOL)   \n",
       " 7         South America (CSV)   \n",
       " \n",
       "                                                    1  \n",
       " 0  African Championship men women men U23 women U...  \n",
       " 1  Asian Championship men women men U23 (defunct)...  \n",
       " 2  European Championship men women men U22 women ...  \n",
       " 3  Top events Pan American Games Pan-American Cup...  \n",
       " 4  Pan American Games Pan-American Cup men women ...  \n",
       " 5  NORCECA Championship men women men U21 women U...  \n",
       " 6  Central American Championship men women Centra...  \n",
       " 7  South American Championship men women men U23 ...  ,\n",
       "                             0  \\\n",
       " 0                  Top events   \n",
       " 1     North America (NORCECA)   \n",
       " 2  Central America (AFECAVOL)   \n",
       " 3         South America (CSV)   \n",
       " \n",
       "                                                    1  \n",
       " 0  Pan American Games Pan-American Cup men women ...  \n",
       " 1  NORCECA Championship men women men U21 women U...  \n",
       " 2  Central American Championship men women Centra...  \n",
       " 3  South American Championship men women men U23 ...  ]"
      ]
     },
     "execution_count": 73,
     "metadata": {},
     "output_type": "execute_result"
    }
   ],
   "source": [
    "# Show the tables variable\n",
    "tables"
   ]
  },
  {
   "cell_type": "code",
   "execution_count": 93,
   "id": "22ca6cc6-f388-4f80-8371-28c4c80fb674",
   "metadata": {},
   "outputs": [
    {
     "data": {
      "text/plain": [
       "11"
      ]
     },
     "execution_count": 93,
     "metadata": {},
     "output_type": "execute_result"
    }
   ],
   "source": [
    "# How big is tables?\n",
    "len(tables)"
   ]
  },
  {
   "cell_type": "code",
   "execution_count": 95,
   "id": "043c3f87",
   "metadata": {},
   "outputs": [],
   "source": [
    "# Let's get only the first result \n",
    "results_df = tables[0]"
   ]
  },
  {
   "cell_type": "code",
   "execution_count": 97,
   "id": "ad58e50b-4051-4d49-ab10-321ef64e99c8",
   "metadata": {},
   "outputs": [
    {
     "data": {
      "text/html": [
       "<div>\n",
       "<style scoped>\n",
       "    .dataframe tbody tr th:only-of-type {\n",
       "        vertical-align: middle;\n",
       "    }\n",
       "\n",
       "    .dataframe tbody tr th {\n",
       "        vertical-align: top;\n",
       "    }\n",
       "\n",
       "    .dataframe thead th {\n",
       "        text-align: right;\n",
       "    }\n",
       "</style>\n",
       "<table border=\"1\" class=\"dataframe\">\n",
       "  <thead>\n",
       "    <tr style=\"text-align: right;\">\n",
       "      <th></th>\n",
       "      <th>Year</th>\n",
       "      <th>Host</th>\n",
       "      <th>Unnamed: 2</th>\n",
       "      <th>Champions</th>\n",
       "      <th>Runners-up</th>\n",
       "      <th>3rd place</th>\n",
       "      <th>4th place</th>\n",
       "      <th>Unnamed: 7</th>\n",
       "      <th>Teams</th>\n",
       "    </tr>\n",
       "  </thead>\n",
       "  <tbody>\n",
       "    <tr>\n",
       "      <th>0</th>\n",
       "      <td>NaN</td>\n",
       "      <td>NaN</td>\n",
       "      <td>NaN</td>\n",
       "      <td>NaN</td>\n",
       "      <td>NaN</td>\n",
       "      <td>NaN</td>\n",
       "      <td>NaN</td>\n",
       "      <td>NaN</td>\n",
       "      <td>NaN</td>\n",
       "    </tr>\n",
       "    <tr>\n",
       "      <th>1</th>\n",
       "      <td>NaN</td>\n",
       "      <td>NaN</td>\n",
       "      <td>NaN</td>\n",
       "      <td>NaN</td>\n",
       "      <td>NaN</td>\n",
       "      <td>NaN</td>\n",
       "      <td>NaN</td>\n",
       "      <td>NaN</td>\n",
       "      <td>NaN</td>\n",
       "    </tr>\n",
       "    <tr>\n",
       "      <th>2</th>\n",
       "      <td>NaN</td>\n",
       "      <td>NaN</td>\n",
       "      <td>NaN</td>\n",
       "      <td>NaN</td>\n",
       "      <td>NaN</td>\n",
       "      <td>NaN</td>\n",
       "      <td>NaN</td>\n",
       "      <td>NaN</td>\n",
       "      <td>NaN</td>\n",
       "    </tr>\n",
       "    <tr>\n",
       "      <th>3</th>\n",
       "      <td>NaN</td>\n",
       "      <td>NaN</td>\n",
       "      <td>NaN</td>\n",
       "      <td>NaN</td>\n",
       "      <td>NaN</td>\n",
       "      <td>NaN</td>\n",
       "      <td>NaN</td>\n",
       "      <td>NaN</td>\n",
       "      <td>NaN</td>\n",
       "    </tr>\n",
       "    <tr>\n",
       "      <th>4</th>\n",
       "      <td>NaN</td>\n",
       "      <td>NaN</td>\n",
       "      <td>NaN</td>\n",
       "      <td>NaN</td>\n",
       "      <td>NaN</td>\n",
       "      <td>NaN</td>\n",
       "      <td>NaN</td>\n",
       "      <td>NaN</td>\n",
       "      <td>NaN</td>\n",
       "    </tr>\n",
       "    <tr>\n",
       "      <th>5</th>\n",
       "      <td>NaN</td>\n",
       "      <td>NaN</td>\n",
       "      <td>NaN</td>\n",
       "      <td>NaN</td>\n",
       "      <td>NaN</td>\n",
       "      <td>NaN</td>\n",
       "      <td>NaN</td>\n",
       "      <td>NaN</td>\n",
       "      <td>NaN</td>\n",
       "    </tr>\n",
       "    <tr>\n",
       "      <th>6</th>\n",
       "      <td>NaN</td>\n",
       "      <td>NaN</td>\n",
       "      <td>NaN</td>\n",
       "      <td>NaN</td>\n",
       "      <td>NaN</td>\n",
       "      <td>NaN</td>\n",
       "      <td>NaN</td>\n",
       "      <td>NaN</td>\n",
       "      <td>NaN</td>\n",
       "    </tr>\n",
       "    <tr>\n",
       "      <th>7</th>\n",
       "      <td>NaN</td>\n",
       "      <td>NaN</td>\n",
       "      <td>NaN</td>\n",
       "      <td>NaN</td>\n",
       "      <td>NaN</td>\n",
       "      <td>NaN</td>\n",
       "      <td>NaN</td>\n",
       "      <td>NaN</td>\n",
       "      <td>NaN</td>\n",
       "    </tr>\n",
       "    <tr>\n",
       "      <th>8</th>\n",
       "      <td>NaN</td>\n",
       "      <td>NaN</td>\n",
       "      <td>NaN</td>\n",
       "      <td>NaN</td>\n",
       "      <td>NaN</td>\n",
       "      <td>NaN</td>\n",
       "      <td>NaN</td>\n",
       "      <td>NaN</td>\n",
       "      <td>NaN</td>\n",
       "    </tr>\n",
       "    <tr>\n",
       "      <th>9</th>\n",
       "      <td>NaN</td>\n",
       "      <td>NaN</td>\n",
       "      <td>NaN</td>\n",
       "      <td>NaN</td>\n",
       "      <td>NaN</td>\n",
       "      <td>NaN</td>\n",
       "      <td>NaN</td>\n",
       "      <td>NaN</td>\n",
       "      <td>NaN</td>\n",
       "    </tr>\n",
       "    <tr>\n",
       "      <th>10</th>\n",
       "      <td>NaN</td>\n",
       "      <td>NaN</td>\n",
       "      <td>NaN</td>\n",
       "      <td>NaN</td>\n",
       "      <td>NaN</td>\n",
       "      <td>NaN</td>\n",
       "      <td>NaN</td>\n",
       "      <td>NaN</td>\n",
       "      <td>NaN</td>\n",
       "    </tr>\n",
       "    <tr>\n",
       "      <th>11</th>\n",
       "      <td>NaN</td>\n",
       "      <td>NaN</td>\n",
       "      <td>NaN</td>\n",
       "      <td>NaN</td>\n",
       "      <td>NaN</td>\n",
       "      <td>NaN</td>\n",
       "      <td>NaN</td>\n",
       "      <td>NaN</td>\n",
       "      <td>NaN</td>\n",
       "    </tr>\n",
       "    <tr>\n",
       "      <th>12</th>\n",
       "      <td>NaN</td>\n",
       "      <td>NaN</td>\n",
       "      <td>NaN</td>\n",
       "      <td>NaN</td>\n",
       "      <td>NaN</td>\n",
       "      <td>NaN</td>\n",
       "      <td>NaN</td>\n",
       "      <td>NaN</td>\n",
       "      <td>NaN</td>\n",
       "    </tr>\n",
       "    <tr>\n",
       "      <th>13</th>\n",
       "      <td>NaN</td>\n",
       "      <td>NaN</td>\n",
       "      <td>NaN</td>\n",
       "      <td>NaN</td>\n",
       "      <td>NaN</td>\n",
       "      <td>NaN</td>\n",
       "      <td>NaN</td>\n",
       "      <td>NaN</td>\n",
       "      <td>NaN</td>\n",
       "    </tr>\n",
       "    <tr>\n",
       "      <th>14</th>\n",
       "      <td>1973 Details</td>\n",
       "      <td>Uruguay</td>\n",
       "      <td>Soviet Union</td>\n",
       "      <td>Japan</td>\n",
       "      <td>South Korea</td>\n",
       "      <td>Peru</td>\n",
       "      <td>10.0</td>\n",
       "      <td>NaN</td>\n",
       "      <td>NaN</td>\n",
       "    </tr>\n",
       "    <tr>\n",
       "      <th>15</th>\n",
       "      <td>1977 Details</td>\n",
       "      <td>Japan</td>\n",
       "      <td>Japan</td>\n",
       "      <td>Cuba</td>\n",
       "      <td>South Korea</td>\n",
       "      <td>China</td>\n",
       "      <td>8.0</td>\n",
       "      <td>NaN</td>\n",
       "      <td>NaN</td>\n",
       "    </tr>\n",
       "    <tr>\n",
       "      <th>16</th>\n",
       "      <td>1981 Details</td>\n",
       "      <td>Japan</td>\n",
       "      <td>China</td>\n",
       "      <td>Japan</td>\n",
       "      <td>Soviet Union</td>\n",
       "      <td>United States</td>\n",
       "      <td>8.0</td>\n",
       "      <td>NaN</td>\n",
       "      <td>NaN</td>\n",
       "    </tr>\n",
       "    <tr>\n",
       "      <th>17</th>\n",
       "      <td>1985 Details</td>\n",
       "      <td>Japan</td>\n",
       "      <td>China</td>\n",
       "      <td>Cuba</td>\n",
       "      <td>Soviet Union</td>\n",
       "      <td>Japan</td>\n",
       "      <td>8.0</td>\n",
       "      <td>NaN</td>\n",
       "      <td>NaN</td>\n",
       "    </tr>\n",
       "    <tr>\n",
       "      <th>18</th>\n",
       "      <td>1989 Details</td>\n",
       "      <td>Japan</td>\n",
       "      <td>Cuba</td>\n",
       "      <td>Soviet Union</td>\n",
       "      <td>China</td>\n",
       "      <td>Japan</td>\n",
       "      <td>8.0</td>\n",
       "      <td>NaN</td>\n",
       "      <td>NaN</td>\n",
       "    </tr>\n",
       "    <tr>\n",
       "      <th>19</th>\n",
       "      <td>1991 Details</td>\n",
       "      <td>Japan</td>\n",
       "      <td>Cuba</td>\n",
       "      <td>China</td>\n",
       "      <td>Soviet Union</td>\n",
       "      <td>United States</td>\n",
       "      <td>12.0</td>\n",
       "      <td>NaN</td>\n",
       "      <td>NaN</td>\n",
       "    </tr>\n",
       "    <tr>\n",
       "      <th>20</th>\n",
       "      <td>1995 Details</td>\n",
       "      <td>Japan</td>\n",
       "      <td>Cuba</td>\n",
       "      <td>Brazil</td>\n",
       "      <td>China</td>\n",
       "      <td>Croatia</td>\n",
       "      <td>12.0</td>\n",
       "      <td>NaN</td>\n",
       "      <td>NaN</td>\n",
       "    </tr>\n",
       "    <tr>\n",
       "      <th>21</th>\n",
       "      <td>1999 Details</td>\n",
       "      <td>Japan</td>\n",
       "      <td>Cuba</td>\n",
       "      <td>Russia</td>\n",
       "      <td>Brazil</td>\n",
       "      <td>South Korea</td>\n",
       "      <td>12.0</td>\n",
       "      <td>NaN</td>\n",
       "      <td>NaN</td>\n",
       "    </tr>\n",
       "    <tr>\n",
       "      <th>22</th>\n",
       "      <td>2003 Details</td>\n",
       "      <td>Japan</td>\n",
       "      <td>China</td>\n",
       "      <td>Brazil</td>\n",
       "      <td>United States</td>\n",
       "      <td>Italy</td>\n",
       "      <td>12.0</td>\n",
       "      <td>NaN</td>\n",
       "      <td>NaN</td>\n",
       "    </tr>\n",
       "    <tr>\n",
       "      <th>23</th>\n",
       "      <td>2007 Details</td>\n",
       "      <td>Japan</td>\n",
       "      <td>Italy</td>\n",
       "      <td>Brazil</td>\n",
       "      <td>United States</td>\n",
       "      <td>Cuba</td>\n",
       "      <td>12.0</td>\n",
       "      <td>NaN</td>\n",
       "      <td>NaN</td>\n",
       "    </tr>\n",
       "    <tr>\n",
       "      <th>24</th>\n",
       "      <td>2011 Details</td>\n",
       "      <td>Japan</td>\n",
       "      <td>Italy</td>\n",
       "      <td>United States</td>\n",
       "      <td>China</td>\n",
       "      <td>Japan</td>\n",
       "      <td>12.0</td>\n",
       "      <td>NaN</td>\n",
       "      <td>NaN</td>\n",
       "    </tr>\n",
       "    <tr>\n",
       "      <th>25</th>\n",
       "      <td>2015 Details</td>\n",
       "      <td>Japan</td>\n",
       "      <td>China</td>\n",
       "      <td>Serbia</td>\n",
       "      <td>United States</td>\n",
       "      <td>Russia</td>\n",
       "      <td>12.0</td>\n",
       "      <td>NaN</td>\n",
       "      <td>NaN</td>\n",
       "    </tr>\n",
       "    <tr>\n",
       "      <th>26</th>\n",
       "      <td>2019 Details</td>\n",
       "      <td>Japan</td>\n",
       "      <td>China</td>\n",
       "      <td>United States</td>\n",
       "      <td>Russia</td>\n",
       "      <td>Brazil</td>\n",
       "      <td>12.0</td>\n",
       "      <td>NaN</td>\n",
       "      <td>NaN</td>\n",
       "    </tr>\n",
       "  </tbody>\n",
       "</table>\n",
       "</div>"
      ],
      "text/plain": [
       "            Year     Host    Unnamed: 2      Champions     Runners-up  \\\n",
       "0            NaN      NaN           NaN            NaN            NaN   \n",
       "1            NaN      NaN           NaN            NaN            NaN   \n",
       "2            NaN      NaN           NaN            NaN            NaN   \n",
       "3            NaN      NaN           NaN            NaN            NaN   \n",
       "4            NaN      NaN           NaN            NaN            NaN   \n",
       "5            NaN      NaN           NaN            NaN            NaN   \n",
       "6            NaN      NaN           NaN            NaN            NaN   \n",
       "7            NaN      NaN           NaN            NaN            NaN   \n",
       "8            NaN      NaN           NaN            NaN            NaN   \n",
       "9            NaN      NaN           NaN            NaN            NaN   \n",
       "10           NaN      NaN           NaN            NaN            NaN   \n",
       "11           NaN      NaN           NaN            NaN            NaN   \n",
       "12           NaN      NaN           NaN            NaN            NaN   \n",
       "13           NaN      NaN           NaN            NaN            NaN   \n",
       "14  1973 Details  Uruguay  Soviet Union          Japan    South Korea   \n",
       "15  1977 Details    Japan         Japan           Cuba    South Korea   \n",
       "16  1981 Details    Japan         China          Japan   Soviet Union   \n",
       "17  1985 Details    Japan         China           Cuba   Soviet Union   \n",
       "18  1989 Details    Japan          Cuba   Soviet Union          China   \n",
       "19  1991 Details    Japan          Cuba          China   Soviet Union   \n",
       "20  1995 Details    Japan          Cuba         Brazil          China   \n",
       "21  1999 Details    Japan          Cuba         Russia         Brazil   \n",
       "22  2003 Details    Japan         China         Brazil  United States   \n",
       "23  2007 Details    Japan         Italy         Brazil  United States   \n",
       "24  2011 Details    Japan         Italy  United States          China   \n",
       "25  2015 Details    Japan         China         Serbia  United States   \n",
       "26  2019 Details    Japan         China  United States         Russia   \n",
       "\n",
       "        3rd place  4th place  Unnamed: 7  Teams  \n",
       "0             NaN        NaN         NaN    NaN  \n",
       "1             NaN        NaN         NaN    NaN  \n",
       "2             NaN        NaN         NaN    NaN  \n",
       "3             NaN        NaN         NaN    NaN  \n",
       "4             NaN        NaN         NaN    NaN  \n",
       "5             NaN        NaN         NaN    NaN  \n",
       "6             NaN        NaN         NaN    NaN  \n",
       "7             NaN        NaN         NaN    NaN  \n",
       "8             NaN        NaN         NaN    NaN  \n",
       "9             NaN        NaN         NaN    NaN  \n",
       "10            NaN        NaN         NaN    NaN  \n",
       "11            NaN        NaN         NaN    NaN  \n",
       "12            NaN        NaN         NaN    NaN  \n",
       "13            NaN        NaN         NaN    NaN  \n",
       "14           Peru       10.0         NaN    NaN  \n",
       "15          China        8.0         NaN    NaN  \n",
       "16  United States        8.0         NaN    NaN  \n",
       "17          Japan        8.0         NaN    NaN  \n",
       "18          Japan        8.0         NaN    NaN  \n",
       "19  United States       12.0         NaN    NaN  \n",
       "20        Croatia       12.0         NaN    NaN  \n",
       "21    South Korea       12.0         NaN    NaN  \n",
       "22          Italy       12.0         NaN    NaN  \n",
       "23           Cuba       12.0         NaN    NaN  \n",
       "24          Japan       12.0         NaN    NaN  \n",
       "25         Russia       12.0         NaN    NaN  \n",
       "26         Brazil       12.0         NaN    NaN  "
      ]
     },
     "execution_count": 97,
     "metadata": {},
     "output_type": "execute_result"
    }
   ],
   "source": [
    "# Display the content of results_df\n",
    "results_df"
   ]
  },
  {
   "cell_type": "code",
   "execution_count": 105,
   "id": "ccad4c78",
   "metadata": {},
   "outputs": [
    {
     "data": {
      "text/html": [
       "<div>\n",
       "<style scoped>\n",
       "    .dataframe tbody tr th:only-of-type {\n",
       "        vertical-align: middle;\n",
       "    }\n",
       "\n",
       "    .dataframe tbody tr th {\n",
       "        vertical-align: top;\n",
       "    }\n",
       "\n",
       "    .dataframe thead th {\n",
       "        text-align: right;\n",
       "    }\n",
       "</style>\n",
       "<table border=\"1\" class=\"dataframe\">\n",
       "  <thead>\n",
       "    <tr style=\"text-align: right;\">\n",
       "      <th></th>\n",
       "      <th>Year</th>\n",
       "      <th>Host</th>\n",
       "      <th>Unnamed: 2</th>\n",
       "      <th>Champions</th>\n",
       "      <th>Runners-up</th>\n",
       "      <th>3rd place</th>\n",
       "      <th>4th place</th>\n",
       "      <th>Unnamed: 7</th>\n",
       "      <th>Teams</th>\n",
       "    </tr>\n",
       "  </thead>\n",
       "  <tbody>\n",
       "    <tr>\n",
       "      <th>14</th>\n",
       "      <td>1973 Details</td>\n",
       "      <td>Uruguay</td>\n",
       "      <td>Soviet Union</td>\n",
       "      <td>Japan</td>\n",
       "      <td>South Korea</td>\n",
       "      <td>Peru</td>\n",
       "      <td>10.0</td>\n",
       "      <td>NaN</td>\n",
       "      <td>NaN</td>\n",
       "    </tr>\n",
       "    <tr>\n",
       "      <th>15</th>\n",
       "      <td>1977 Details</td>\n",
       "      <td>Japan</td>\n",
       "      <td>Japan</td>\n",
       "      <td>Cuba</td>\n",
       "      <td>South Korea</td>\n",
       "      <td>China</td>\n",
       "      <td>8.0</td>\n",
       "      <td>NaN</td>\n",
       "      <td>NaN</td>\n",
       "    </tr>\n",
       "    <tr>\n",
       "      <th>16</th>\n",
       "      <td>1981 Details</td>\n",
       "      <td>Japan</td>\n",
       "      <td>China</td>\n",
       "      <td>Japan</td>\n",
       "      <td>Soviet Union</td>\n",
       "      <td>United States</td>\n",
       "      <td>8.0</td>\n",
       "      <td>NaN</td>\n",
       "      <td>NaN</td>\n",
       "    </tr>\n",
       "    <tr>\n",
       "      <th>17</th>\n",
       "      <td>1985 Details</td>\n",
       "      <td>Japan</td>\n",
       "      <td>China</td>\n",
       "      <td>Cuba</td>\n",
       "      <td>Soviet Union</td>\n",
       "      <td>Japan</td>\n",
       "      <td>8.0</td>\n",
       "      <td>NaN</td>\n",
       "      <td>NaN</td>\n",
       "    </tr>\n",
       "    <tr>\n",
       "      <th>18</th>\n",
       "      <td>1989 Details</td>\n",
       "      <td>Japan</td>\n",
       "      <td>Cuba</td>\n",
       "      <td>Soviet Union</td>\n",
       "      <td>China</td>\n",
       "      <td>Japan</td>\n",
       "      <td>8.0</td>\n",
       "      <td>NaN</td>\n",
       "      <td>NaN</td>\n",
       "    </tr>\n",
       "    <tr>\n",
       "      <th>19</th>\n",
       "      <td>1991 Details</td>\n",
       "      <td>Japan</td>\n",
       "      <td>Cuba</td>\n",
       "      <td>China</td>\n",
       "      <td>Soviet Union</td>\n",
       "      <td>United States</td>\n",
       "      <td>12.0</td>\n",
       "      <td>NaN</td>\n",
       "      <td>NaN</td>\n",
       "    </tr>\n",
       "    <tr>\n",
       "      <th>20</th>\n",
       "      <td>1995 Details</td>\n",
       "      <td>Japan</td>\n",
       "      <td>Cuba</td>\n",
       "      <td>Brazil</td>\n",
       "      <td>China</td>\n",
       "      <td>Croatia</td>\n",
       "      <td>12.0</td>\n",
       "      <td>NaN</td>\n",
       "      <td>NaN</td>\n",
       "    </tr>\n",
       "    <tr>\n",
       "      <th>21</th>\n",
       "      <td>1999 Details</td>\n",
       "      <td>Japan</td>\n",
       "      <td>Cuba</td>\n",
       "      <td>Russia</td>\n",
       "      <td>Brazil</td>\n",
       "      <td>South Korea</td>\n",
       "      <td>12.0</td>\n",
       "      <td>NaN</td>\n",
       "      <td>NaN</td>\n",
       "    </tr>\n",
       "    <tr>\n",
       "      <th>22</th>\n",
       "      <td>2003 Details</td>\n",
       "      <td>Japan</td>\n",
       "      <td>China</td>\n",
       "      <td>Brazil</td>\n",
       "      <td>United States</td>\n",
       "      <td>Italy</td>\n",
       "      <td>12.0</td>\n",
       "      <td>NaN</td>\n",
       "      <td>NaN</td>\n",
       "    </tr>\n",
       "    <tr>\n",
       "      <th>23</th>\n",
       "      <td>2007 Details</td>\n",
       "      <td>Japan</td>\n",
       "      <td>Italy</td>\n",
       "      <td>Brazil</td>\n",
       "      <td>United States</td>\n",
       "      <td>Cuba</td>\n",
       "      <td>12.0</td>\n",
       "      <td>NaN</td>\n",
       "      <td>NaN</td>\n",
       "    </tr>\n",
       "    <tr>\n",
       "      <th>24</th>\n",
       "      <td>2011 Details</td>\n",
       "      <td>Japan</td>\n",
       "      <td>Italy</td>\n",
       "      <td>United States</td>\n",
       "      <td>China</td>\n",
       "      <td>Japan</td>\n",
       "      <td>12.0</td>\n",
       "      <td>NaN</td>\n",
       "      <td>NaN</td>\n",
       "    </tr>\n",
       "    <tr>\n",
       "      <th>25</th>\n",
       "      <td>2015 Details</td>\n",
       "      <td>Japan</td>\n",
       "      <td>China</td>\n",
       "      <td>Serbia</td>\n",
       "      <td>United States</td>\n",
       "      <td>Russia</td>\n",
       "      <td>12.0</td>\n",
       "      <td>NaN</td>\n",
       "      <td>NaN</td>\n",
       "    </tr>\n",
       "    <tr>\n",
       "      <th>26</th>\n",
       "      <td>2019 Details</td>\n",
       "      <td>Japan</td>\n",
       "      <td>China</td>\n",
       "      <td>United States</td>\n",
       "      <td>Russia</td>\n",
       "      <td>Brazil</td>\n",
       "      <td>12.0</td>\n",
       "      <td>NaN</td>\n",
       "      <td>NaN</td>\n",
       "    </tr>\n",
       "  </tbody>\n",
       "</table>\n",
       "</div>"
      ],
      "text/plain": [
       "            Year     Host    Unnamed: 2      Champions     Runners-up  \\\n",
       "14  1973 Details  Uruguay  Soviet Union          Japan    South Korea   \n",
       "15  1977 Details    Japan         Japan           Cuba    South Korea   \n",
       "16  1981 Details    Japan         China          Japan   Soviet Union   \n",
       "17  1985 Details    Japan         China           Cuba   Soviet Union   \n",
       "18  1989 Details    Japan          Cuba   Soviet Union          China   \n",
       "19  1991 Details    Japan          Cuba          China   Soviet Union   \n",
       "20  1995 Details    Japan          Cuba         Brazil          China   \n",
       "21  1999 Details    Japan          Cuba         Russia         Brazil   \n",
       "22  2003 Details    Japan         China         Brazil  United States   \n",
       "23  2007 Details    Japan         Italy         Brazil  United States   \n",
       "24  2011 Details    Japan         Italy  United States          China   \n",
       "25  2015 Details    Japan         China         Serbia  United States   \n",
       "26  2019 Details    Japan         China  United States         Russia   \n",
       "\n",
       "        3rd place  4th place  Unnamed: 7  Teams  \n",
       "14           Peru       10.0         NaN    NaN  \n",
       "15          China        8.0         NaN    NaN  \n",
       "16  United States        8.0         NaN    NaN  \n",
       "17          Japan        8.0         NaN    NaN  \n",
       "18          Japan        8.0         NaN    NaN  \n",
       "19  United States       12.0         NaN    NaN  \n",
       "20        Croatia       12.0         NaN    NaN  \n",
       "21    South Korea       12.0         NaN    NaN  \n",
       "22          Italy       12.0         NaN    NaN  \n",
       "23           Cuba       12.0         NaN    NaN  \n",
       "24          Japan       12.0         NaN    NaN  \n",
       "25         Russia       12.0         NaN    NaN  \n",
       "26         Brazil       12.0         NaN    NaN  "
      ]
     },
     "execution_count": 105,
     "metadata": {},
     "output_type": "execute_result"
    }
   ],
   "source": [
    "# Let' clean the data:\n",
    "## Remove all rows that contain only null values\n",
    "\n",
    "clean_df = results_df.dropna(how='all')\n",
    "clean_df"
   ]
  },
  {
   "cell_type": "markdown",
   "id": "676d3a3f-e72a-45c3-bb65-90521254cc78",
   "metadata": {},
   "source": [
    "#### Jump to the `Self-Work Exercises #1` Section"
   ]
  },
  {
   "cell_type": "markdown",
   "id": "4897a6dc",
   "metadata": {},
   "source": [
    "# Read zip files "
   ]
  },
  {
   "cell_type": "code",
   "execution_count": 107,
   "id": "d7f13fb6",
   "metadata": {},
   "outputs": [],
   "source": [
    "unemployment_rates = pd.read_csv(\"./data/arbeitsmarktstatistik_erwerbslosenquoten_geschlecht.zip\", \n",
    "                        sep=\";\",\n",
    "                        encoding='latin-1')\n",
    "\n",
    "# Note: erwerbslosenquoten means unemployment rate\n",
    "# arbeitsmarktstatistik means Statistics about the work market"
   ]
  },
  {
   "cell_type": "code",
   "execution_count": 109,
   "id": "23b13dfa",
   "metadata": {},
   "outputs": [
    {
     "data": {
      "text/html": [
       "<div>\n",
       "<style scoped>\n",
       "    .dataframe tbody tr th:only-of-type {\n",
       "        vertical-align: middle;\n",
       "    }\n",
       "\n",
       "    .dataframe tbody tr th {\n",
       "        vertical-align: top;\n",
       "    }\n",
       "\n",
       "    .dataframe thead th {\n",
       "        text-align: right;\n",
       "    }\n",
       "</style>\n",
       "<table border=\"1\" class=\"dataframe\">\n",
       "  <thead>\n",
       "    <tr style=\"text-align: right;\">\n",
       "      <th></th>\n",
       "      <th></th>\n",
       "      <th></th>\n",
       "      <th></th>\n",
       "      <th></th>\n",
       "      <th></th>\n",
       "      <th>ILO-Arbeitsmarktstatistik</th>\n",
       "    </tr>\n",
       "  </thead>\n",
       "  <tbody>\n",
       "    <tr>\n",
       "      <th>Datum</th>\n",
       "      <th>Erwerbslosenquoten Männer insgesamt, in %</th>\n",
       "      <th>Erwerbslosenquoten Männer unter 25 Jahren, in %</th>\n",
       "      <th>Erwerbslosenquoten Männer ab 25 Jahren, in %</th>\n",
       "      <th>Erwerbslosenquoten Frauen insgesamt, in %</th>\n",
       "      <th>Erwerbslosenquoten Frauen unter 25 Jahren, in %</th>\n",
       "      <td>Erwerbslosenquoten Frauen ab 25 Jahren, in %</td>\n",
       "    </tr>\n",
       "    <tr>\n",
       "      <th>01/03/2007</th>\n",
       "      <th>9,5</th>\n",
       "      <th>12,7</th>\n",
       "      <th>9,1</th>\n",
       "      <th>8,8</th>\n",
       "      <th>8,7</th>\n",
       "      <td>8,8</td>\n",
       "    </tr>\n",
       "    <tr>\n",
       "      <th>01/04/2007</th>\n",
       "      <th>8,3</th>\n",
       "      <th>13,6</th>\n",
       "      <th>7,7</th>\n",
       "      <th>9,0</th>\n",
       "      <th>10,6</th>\n",
       "      <td>8,7</td>\n",
       "    </tr>\n",
       "    <tr>\n",
       "      <th>01/05/2007</th>\n",
       "      <th>8,5</th>\n",
       "      <th>11,7</th>\n",
       "      <th>8,1</th>\n",
       "      <th>8,5</th>\n",
       "      <th>10,4</th>\n",
       "      <td>8,3</td>\n",
       "    </tr>\n",
       "    <tr>\n",
       "      <th>01/06/2007</th>\n",
       "      <th>8,0</th>\n",
       "      <th>12,5</th>\n",
       "      <th>7,4</th>\n",
       "      <th>8,7</th>\n",
       "      <th>12,9</th>\n",
       "      <td>8,2</td>\n",
       "    </tr>\n",
       "    <tr>\n",
       "      <th>...</th>\n",
       "      <th>...</th>\n",
       "      <th>...</th>\n",
       "      <th>...</th>\n",
       "      <th>...</th>\n",
       "      <th>...</th>\n",
       "      <td>...</td>\n",
       "    </tr>\n",
       "    <tr>\n",
       "      <th>01/04/2023</th>\n",
       "      <th>3,2</th>\n",
       "      <th>7,5</th>\n",
       "      <th>2,7</th>\n",
       "      <th>2,9</th>\n",
       "      <th>5,0</th>\n",
       "      <td>2,6</td>\n",
       "    </tr>\n",
       "    <tr>\n",
       "      <th>01/05/2023</th>\n",
       "      <th>3,1</th>\n",
       "      <th>5,8</th>\n",
       "      <th>2,8</th>\n",
       "      <th>2,5</th>\n",
       "      <th>4,4</th>\n",
       "      <td>2,3</td>\n",
       "    </tr>\n",
       "    <tr>\n",
       "      <th>01/06/2023</th>\n",
       "      <th>3,2</th>\n",
       "      <th>7,1</th>\n",
       "      <th>2,8</th>\n",
       "      <th>2,8</th>\n",
       "      <th>5,9</th>\n",
       "      <td>2,4</td>\n",
       "    </tr>\n",
       "    <tr>\n",
       "      <th>01/07/2023</th>\n",
       "      <th>3,2</th>\n",
       "      <th>6,9</th>\n",
       "      <th>2,8</th>\n",
       "      <th>2,8</th>\n",
       "      <th>7,1</th>\n",
       "      <td>2,3</td>\n",
       "    </tr>\n",
       "    <tr>\n",
       "      <th>01/08/2023</th>\n",
       "      <th>3,5</th>\n",
       "      <th>7,9</th>\n",
       "      <th>3,0</th>\n",
       "      <th>2,9</th>\n",
       "      <th>5,9</th>\n",
       "      <td>2,6</td>\n",
       "    </tr>\n",
       "  </tbody>\n",
       "</table>\n",
       "<p>199 rows × 1 columns</p>\n",
       "</div>"
      ],
      "text/plain": [
       "                                                                                                                                                                                                                                                                ILO-Arbeitsmarktstatistik\n",
       "Datum      Erwerbslosenquoten Männer insgesamt, in % Erwerbslosenquoten Männer unter 25 Jahren, in % Erwerbslosenquoten Männer ab 25 Jahren, in % Erwerbslosenquoten Frauen insgesamt, in % Erwerbslosenquoten Frauen unter 25 Jahren, in %  Erwerbslosenquoten Frauen ab 25 Jahren, in %\n",
       "01/03/2007 9,5                                       12,7                                            9,1                                          8,8                                       8,7                                                                                       8,8\n",
       "01/04/2007 8,3                                       13,6                                            7,7                                          9,0                                       10,6                                                                                      8,7\n",
       "01/05/2007 8,5                                       11,7                                            8,1                                          8,5                                       10,4                                                                                      8,3\n",
       "01/06/2007 8,0                                       12,5                                            7,4                                          8,7                                       12,9                                                                                      8,2\n",
       "...                                                                                                                                                                                                                                                                                   ...\n",
       "01/04/2023 3,2                                       7,5                                             2,7                                          2,9                                       5,0                                                                                       2,6\n",
       "01/05/2023 3,1                                       5,8                                             2,8                                          2,5                                       4,4                                                                                       2,3\n",
       "01/06/2023 3,2                                       7,1                                             2,8                                          2,8                                       5,9                                                                                       2,4\n",
       "01/07/2023 3,2                                       6,9                                             2,8                                          2,8                                       7,1                                                                                       2,3\n",
       "01/08/2023 3,5                                       7,9                                             3,0                                          2,9                                       5,9                                                                                       2,6\n",
       "\n",
       "[199 rows x 1 columns]"
      ]
     },
     "execution_count": 109,
     "metadata": {},
     "output_type": "execute_result"
    }
   ],
   "source": [
    "# Display the data\n",
    "unemployment_rates"
   ]
  },
  {
   "cell_type": "markdown",
   "id": "e2d44384",
   "metadata": {},
   "source": [
    "<br><br>\n",
    "# Introduction to JSON"
   ]
  },
  {
   "cell_type": "code",
   "execution_count": 111,
   "id": "1dcdde31",
   "metadata": {},
   "outputs": [],
   "source": [
    "# Import the json package\n",
    "import json"
   ]
  },
  {
   "cell_type": "code",
   "execution_count": 113,
   "id": "2e6e6e1a",
   "metadata": {},
   "outputs": [],
   "source": [
    "# Creating student records\n",
    "student1 = {\n",
    "    \"name\": \"Alice\",\n",
    "    \"age\": 15,\n",
    "    \"grade\": 10,\n",
    "    \"subjects\": [\"Math\", \"Science\", \"History\"],\n",
    "    \"city\": \"Augsburg\"\n",
    "}\n",
    "\n",
    "student2 = {\n",
    "    \"name\": \"Bob\",\n",
    "    \"age\": 16,\n",
    "    \"grade\": 11,\n",
    "    \"subjects\": [\"English\", \"Physics\", \"Geography\"],\n",
    "    \"city\": \"Berlin\"\n",
    "}\n",
    "\n",
    "student3 = {\n",
    "    \"name\": \"Carol\",\n",
    "    \"age\": 14,\n",
    "    \"grade\": 9,\n",
    "    \"subjects\": [\"Art\", \"Music\", \"PE\"],\n",
    "    \"city\": \"Cottbus\"\n",
    "}"
   ]
  },
  {
   "cell_type": "code",
   "execution_count": 115,
   "id": "3851d582",
   "metadata": {},
   "outputs": [],
   "source": [
    "# Creating a list of student records\n",
    "student_database = [student1,student2,student3]"
   ]
  },
  {
   "cell_type": "code",
   "execution_count": 169,
   "id": "c8959507",
   "metadata": {},
   "outputs": [],
   "source": [
    "# Converting the student database to JSON format\n",
    "json_data = json.dumps(student_database, indent=4)\n"
   ]
  },
  {
   "cell_type": "markdown",
   "id": "8765a0c7-2782-4874-8de4-bd8227f6408f",
   "metadata": {},
   "source": [
    "With indent=4: Each level of the JSON structure will be indented by 4 spaces, making it easier to read and visually understand the nested structure."
   ]
  },
  {
   "cell_type": "code",
   "execution_count": 173,
   "id": "a48ec2b3",
   "metadata": {},
   "outputs": [
    {
     "name": "stdout",
     "output_type": "stream",
     "text": [
      "[\n",
      "    {\n",
      "        \"name\": \"Alice\",\n",
      "        \"age\": 15,\n",
      "        \"grade\": 10,\n",
      "        \"subjects\": [\n",
      "            \"Math\",\n",
      "            \"Science\",\n",
      "            \"History\"\n",
      "        ],\n",
      "        \"city\": \"Augsburg\"\n",
      "    },\n",
      "    {\n",
      "        \"name\": \"Bob\",\n",
      "        \"age\": 16,\n",
      "        \"grade\": 11,\n",
      "        \"subjects\": [\n",
      "            \"English\",\n",
      "            \"Physics\",\n",
      "            \"Geography\"\n",
      "        ],\n",
      "        \"city\": \"Berlin\"\n",
      "    },\n",
      "    {\n",
      "        \"name\": \"Carol\",\n",
      "        \"age\": 14,\n",
      "        \"grade\": 9,\n",
      "        \"subjects\": [\n",
      "            \"Art\",\n",
      "            \"Music\",\n",
      "            \"PE\"\n",
      "        ],\n",
      "        \"city\": \"Cottbus\"\n",
      "    }\n",
      "]\n"
     ]
    }
   ],
   "source": [
    "# Printing the JSON data\n",
    "print(json_data)"
   ]
  },
  {
   "cell_type": "markdown",
   "id": "2c9ecb0b-25f3-465f-9d07-69f6a8bb1149",
   "metadata": {},
   "source": [
    "### Read a json file\n",
    "\n",
    "First, copy and paste the `animals.json` file into the `data` folder of your working directory"
   ]
  },
  {
   "cell_type": "markdown",
   "id": "635549cf",
   "metadata": {},
   "source": [
    "### Load the file"
   ]
  },
  {
   "cell_type": "code",
   "execution_count": 121,
   "id": "48a0bccf",
   "metadata": {},
   "outputs": [
    {
     "name": "stdout",
     "output_type": "stream",
     "text": [
      "[{'name': 'Ace', 'animal': 'Alpaca', 'tricks': ['spit'], 'demographics': {'sex': 'male', 'age': 2}, 'owner': 'Alice', 'city': 'Augsburg'}, {'name': 'Biscuit', 'animal': 'Beagle', 'tricks': ['sit', 'hunt'], 'demographics': {'sex': 'female', 'age': 1}, 'owner': 'Bob', 'city': 'Berlin'}, {'name': 'Coco', 'animal': 'Chinchilla', 'tricks': ['explore', 'climb'], 'demographics': {'sex': 'male', 'age': 5}, 'owner': 'Carol', 'city': 'Cottbus'}]\n"
     ]
    }
   ],
   "source": [
    "## We first load the file\n",
    "with open(\"./data/animals.json\") as f:\n",
    "    d = json.load(f)\n",
    "\n",
    "print(d)"
   ]
  },
  {
   "cell_type": "markdown",
   "id": "e8dfabe5",
   "metadata": {},
   "source": [
    "### Normalise the loaded data"
   ]
  },
  {
   "cell_type": "code",
   "execution_count": 165,
   "id": "54559a99",
   "metadata": {},
   "outputs": [],
   "source": [
    "# To convert each element in \"demographics\" section into new columns,\n",
    "# We prefer to use : pd.json_nomalize\n",
    "animals_v1 = pd.json_normalize(d)"
   ]
  },
  {
   "cell_type": "code",
   "execution_count": 167,
   "id": "b9d60ca6",
   "metadata": {
    "scrolled": true
   },
   "outputs": [
    {
     "data": {
      "text/html": [
       "<div>\n",
       "<style scoped>\n",
       "    .dataframe tbody tr th:only-of-type {\n",
       "        vertical-align: middle;\n",
       "    }\n",
       "\n",
       "    .dataframe tbody tr th {\n",
       "        vertical-align: top;\n",
       "    }\n",
       "\n",
       "    .dataframe thead th {\n",
       "        text-align: right;\n",
       "    }\n",
       "</style>\n",
       "<table border=\"1\" class=\"dataframe\">\n",
       "  <thead>\n",
       "    <tr style=\"text-align: right;\">\n",
       "      <th></th>\n",
       "      <th>name</th>\n",
       "      <th>animal</th>\n",
       "      <th>tricks</th>\n",
       "      <th>owner</th>\n",
       "      <th>city</th>\n",
       "      <th>demographics.sex</th>\n",
       "      <th>demographics.age</th>\n",
       "    </tr>\n",
       "  </thead>\n",
       "  <tbody>\n",
       "    <tr>\n",
       "      <th>0</th>\n",
       "      <td>Ace</td>\n",
       "      <td>Alpaca</td>\n",
       "      <td>[spit]</td>\n",
       "      <td>Alice</td>\n",
       "      <td>Augsburg</td>\n",
       "      <td>male</td>\n",
       "      <td>2</td>\n",
       "    </tr>\n",
       "    <tr>\n",
       "      <th>1</th>\n",
       "      <td>Biscuit</td>\n",
       "      <td>Beagle</td>\n",
       "      <td>[sit, hunt]</td>\n",
       "      <td>Bob</td>\n",
       "      <td>Berlin</td>\n",
       "      <td>female</td>\n",
       "      <td>1</td>\n",
       "    </tr>\n",
       "    <tr>\n",
       "      <th>2</th>\n",
       "      <td>Coco</td>\n",
       "      <td>Chinchilla</td>\n",
       "      <td>[explore, climb]</td>\n",
       "      <td>Carol</td>\n",
       "      <td>Cottbus</td>\n",
       "      <td>male</td>\n",
       "      <td>5</td>\n",
       "    </tr>\n",
       "  </tbody>\n",
       "</table>\n",
       "</div>"
      ],
      "text/plain": [
       "      name      animal            tricks  owner      city demographics.sex  \\\n",
       "0      Ace      Alpaca            [spit]  Alice  Augsburg             male   \n",
       "1  Biscuit      Beagle       [sit, hunt]    Bob    Berlin           female   \n",
       "2     Coco  Chinchilla  [explore, climb]  Carol   Cottbus             male   \n",
       "\n",
       "   demographics.age  \n",
       "0                 2  \n",
       "1                 1  \n",
       "2                 5  "
      ]
     },
     "execution_count": 167,
     "metadata": {},
     "output_type": "execute_result"
    }
   ],
   "source": [
    "# Display animals_v1\n",
    "animals_v1"
   ]
  },
  {
   "cell_type": "markdown",
   "id": "94dd5f3d",
   "metadata": {},
   "source": [
    "### Read a json file as a dataframe directly"
   ]
  },
  {
   "cell_type": "code",
   "execution_count": 177,
   "id": "32a5a977",
   "metadata": {},
   "outputs": [],
   "source": [
    "animals_v2 = pd.read_json('./data/animals.json')"
   ]
  },
  {
   "cell_type": "code",
   "execution_count": 179,
   "id": "679b1a24",
   "metadata": {
    "scrolled": true
   },
   "outputs": [
    {
     "data": {
      "text/html": [
       "<div>\n",
       "<style scoped>\n",
       "    .dataframe tbody tr th:only-of-type {\n",
       "        vertical-align: middle;\n",
       "    }\n",
       "\n",
       "    .dataframe tbody tr th {\n",
       "        vertical-align: top;\n",
       "    }\n",
       "\n",
       "    .dataframe thead th {\n",
       "        text-align: right;\n",
       "    }\n",
       "</style>\n",
       "<table border=\"1\" class=\"dataframe\">\n",
       "  <thead>\n",
       "    <tr style=\"text-align: right;\">\n",
       "      <th></th>\n",
       "      <th>name</th>\n",
       "      <th>animal</th>\n",
       "      <th>tricks</th>\n",
       "      <th>demographics</th>\n",
       "      <th>owner</th>\n",
       "      <th>city</th>\n",
       "    </tr>\n",
       "  </thead>\n",
       "  <tbody>\n",
       "    <tr>\n",
       "      <th>0</th>\n",
       "      <td>Ace</td>\n",
       "      <td>Alpaca</td>\n",
       "      <td>[spit]</td>\n",
       "      <td>{'sex': 'male', 'age': 2}</td>\n",
       "      <td>Alice</td>\n",
       "      <td>Augsburg</td>\n",
       "    </tr>\n",
       "    <tr>\n",
       "      <th>1</th>\n",
       "      <td>Biscuit</td>\n",
       "      <td>Beagle</td>\n",
       "      <td>[sit, hunt]</td>\n",
       "      <td>{'sex': 'female', 'age': 1}</td>\n",
       "      <td>Bob</td>\n",
       "      <td>Berlin</td>\n",
       "    </tr>\n",
       "    <tr>\n",
       "      <th>2</th>\n",
       "      <td>Coco</td>\n",
       "      <td>Chinchilla</td>\n",
       "      <td>[explore, climb]</td>\n",
       "      <td>{'sex': 'male', 'age': 5}</td>\n",
       "      <td>Carol</td>\n",
       "      <td>Cottbus</td>\n",
       "    </tr>\n",
       "  </tbody>\n",
       "</table>\n",
       "</div>"
      ],
      "text/plain": [
       "      name      animal            tricks                 demographics  owner  \\\n",
       "0      Ace      Alpaca            [spit]    {'sex': 'male', 'age': 2}  Alice   \n",
       "1  Biscuit      Beagle       [sit, hunt]  {'sex': 'female', 'age': 1}    Bob   \n",
       "2     Coco  Chinchilla  [explore, climb]    {'sex': 'male', 'age': 5}  Carol   \n",
       "\n",
       "       city  \n",
       "0  Augsburg  \n",
       "1    Berlin  \n",
       "2   Cottbus  "
      ]
     },
     "execution_count": 179,
     "metadata": {},
     "output_type": "execute_result"
    }
   ],
   "source": [
    "# Display animals_v2\n",
    "animals_v2"
   ]
  },
  {
   "cell_type": "markdown",
   "id": "75098733-0de6-486a-87cf-057e42a99833",
   "metadata": {},
   "source": [
    "### Self-work exercises #1: 4 points\n",
    "\n",
    "#### What problems do you see with `clean_df`? Can you clean the DataFrame to obtain a clean one?\n",
    "\n",
    "Write a series of code commands in order to clean the DataFrame:\n",
    "- create a deep copy of the DataFrame `clean_df` and assign it to the variable `df`\n",
    "- get the list of useful columns, without copy-pasting them (use code!)\n",
    "- drop the columns that contain missing values\n",
    "- rename the columns so that each column corresponds to the correct header\n",
    "- transform the `Year` column to remove `Details`, which we don't need\n",
    "\n",
    "*Tip: this might be useful https://pandas.pydata.org/docs/reference/api/pandas.DataFrame.dropna.html*"
   ]
  },
  {
   "cell_type": "code",
   "execution_count": 159,
   "id": "1b181d44",
   "metadata": {},
   "outputs": [
    {
     "data": {
      "text/html": [
       "<div>\n",
       "<style scoped>\n",
       "    .dataframe tbody tr th:only-of-type {\n",
       "        vertical-align: middle;\n",
       "    }\n",
       "\n",
       "    .dataframe tbody tr th {\n",
       "        vertical-align: top;\n",
       "    }\n",
       "\n",
       "    .dataframe thead th {\n",
       "        text-align: right;\n",
       "    }\n",
       "</style>\n",
       "<table border=\"1\" class=\"dataframe\">\n",
       "  <thead>\n",
       "    <tr style=\"text-align: right;\">\n",
       "      <th></th>\n",
       "      <th>Year</th>\n",
       "      <th>Host</th>\n",
       "      <th>Champions</th>\n",
       "      <th>Runners-up</th>\n",
       "      <th>3rd Place</th>\n",
       "      <th>4th Place</th>\n",
       "      <th>Teams</th>\n",
       "    </tr>\n",
       "  </thead>\n",
       "  <tbody>\n",
       "    <tr>\n",
       "      <th>14</th>\n",
       "      <td>1973</td>\n",
       "      <td>Uruguay</td>\n",
       "      <td>Soviet Union</td>\n",
       "      <td>Japan</td>\n",
       "      <td>South Korea</td>\n",
       "      <td>Peru</td>\n",
       "      <td>10.0</td>\n",
       "    </tr>\n",
       "    <tr>\n",
       "      <th>15</th>\n",
       "      <td>1977</td>\n",
       "      <td>Japan</td>\n",
       "      <td>Japan</td>\n",
       "      <td>Cuba</td>\n",
       "      <td>South Korea</td>\n",
       "      <td>China</td>\n",
       "      <td>8.0</td>\n",
       "    </tr>\n",
       "    <tr>\n",
       "      <th>16</th>\n",
       "      <td>1981</td>\n",
       "      <td>Japan</td>\n",
       "      <td>China</td>\n",
       "      <td>Japan</td>\n",
       "      <td>Soviet Union</td>\n",
       "      <td>United States</td>\n",
       "      <td>8.0</td>\n",
       "    </tr>\n",
       "    <tr>\n",
       "      <th>17</th>\n",
       "      <td>1985</td>\n",
       "      <td>Japan</td>\n",
       "      <td>China</td>\n",
       "      <td>Cuba</td>\n",
       "      <td>Soviet Union</td>\n",
       "      <td>Japan</td>\n",
       "      <td>8.0</td>\n",
       "    </tr>\n",
       "    <tr>\n",
       "      <th>18</th>\n",
       "      <td>1989</td>\n",
       "      <td>Japan</td>\n",
       "      <td>Cuba</td>\n",
       "      <td>Soviet Union</td>\n",
       "      <td>China</td>\n",
       "      <td>Japan</td>\n",
       "      <td>8.0</td>\n",
       "    </tr>\n",
       "    <tr>\n",
       "      <th>19</th>\n",
       "      <td>1991</td>\n",
       "      <td>Japan</td>\n",
       "      <td>Cuba</td>\n",
       "      <td>China</td>\n",
       "      <td>Soviet Union</td>\n",
       "      <td>United States</td>\n",
       "      <td>12.0</td>\n",
       "    </tr>\n",
       "    <tr>\n",
       "      <th>20</th>\n",
       "      <td>1995</td>\n",
       "      <td>Japan</td>\n",
       "      <td>Cuba</td>\n",
       "      <td>Brazil</td>\n",
       "      <td>China</td>\n",
       "      <td>Croatia</td>\n",
       "      <td>12.0</td>\n",
       "    </tr>\n",
       "    <tr>\n",
       "      <th>21</th>\n",
       "      <td>1999</td>\n",
       "      <td>Japan</td>\n",
       "      <td>Cuba</td>\n",
       "      <td>Russia</td>\n",
       "      <td>Brazil</td>\n",
       "      <td>South Korea</td>\n",
       "      <td>12.0</td>\n",
       "    </tr>\n",
       "    <tr>\n",
       "      <th>22</th>\n",
       "      <td>2003</td>\n",
       "      <td>Japan</td>\n",
       "      <td>China</td>\n",
       "      <td>Brazil</td>\n",
       "      <td>United States</td>\n",
       "      <td>Italy</td>\n",
       "      <td>12.0</td>\n",
       "    </tr>\n",
       "    <tr>\n",
       "      <th>23</th>\n",
       "      <td>2007</td>\n",
       "      <td>Japan</td>\n",
       "      <td>Italy</td>\n",
       "      <td>Brazil</td>\n",
       "      <td>United States</td>\n",
       "      <td>Cuba</td>\n",
       "      <td>12.0</td>\n",
       "    </tr>\n",
       "    <tr>\n",
       "      <th>24</th>\n",
       "      <td>2011</td>\n",
       "      <td>Japan</td>\n",
       "      <td>Italy</td>\n",
       "      <td>United States</td>\n",
       "      <td>China</td>\n",
       "      <td>Japan</td>\n",
       "      <td>12.0</td>\n",
       "    </tr>\n",
       "    <tr>\n",
       "      <th>25</th>\n",
       "      <td>2015</td>\n",
       "      <td>Japan</td>\n",
       "      <td>China</td>\n",
       "      <td>Serbia</td>\n",
       "      <td>United States</td>\n",
       "      <td>Russia</td>\n",
       "      <td>12.0</td>\n",
       "    </tr>\n",
       "    <tr>\n",
       "      <th>26</th>\n",
       "      <td>2019</td>\n",
       "      <td>Japan</td>\n",
       "      <td>China</td>\n",
       "      <td>United States</td>\n",
       "      <td>Russia</td>\n",
       "      <td>Brazil</td>\n",
       "      <td>12.0</td>\n",
       "    </tr>\n",
       "  </tbody>\n",
       "</table>\n",
       "</div>"
      ],
      "text/plain": [
       "     Year     Host     Champions     Runners-up      3rd Place      4th Place  \\\n",
       "14  1973   Uruguay  Soviet Union          Japan    South Korea           Peru   \n",
       "15  1977     Japan         Japan           Cuba    South Korea          China   \n",
       "16  1981     Japan         China          Japan   Soviet Union  United States   \n",
       "17  1985     Japan         China           Cuba   Soviet Union          Japan   \n",
       "18  1989     Japan          Cuba   Soviet Union          China          Japan   \n",
       "19  1991     Japan          Cuba          China   Soviet Union  United States   \n",
       "20  1995     Japan          Cuba         Brazil          China        Croatia   \n",
       "21  1999     Japan          Cuba         Russia         Brazil    South Korea   \n",
       "22  2003     Japan         China         Brazil  United States          Italy   \n",
       "23  2007     Japan         Italy         Brazil  United States           Cuba   \n",
       "24  2011     Japan         Italy  United States          China          Japan   \n",
       "25  2015     Japan         China         Serbia  United States         Russia   \n",
       "26  2019     Japan         China  United States         Russia         Brazil   \n",
       "\n",
       "    Teams  \n",
       "14   10.0  \n",
       "15    8.0  \n",
       "16    8.0  \n",
       "17    8.0  \n",
       "18    8.0  \n",
       "19   12.0  \n",
       "20   12.0  \n",
       "21   12.0  \n",
       "22   12.0  \n",
       "23   12.0  \n",
       "24   12.0  \n",
       "25   12.0  \n",
       "26   12.0  "
      ]
     },
     "execution_count": 159,
     "metadata": {},
     "output_type": "execute_result"
    }
   ],
   "source": [
    "# Create a copy of the dataframe\n",
    "df = clean_df.copy(True)\n",
    "# Get the list of columns, and remove the weird \"Unnamed\" ones\n",
    "df.columns\n",
    "df.drop(['Unnamed: 7'], axis='columns',inplace=True)\n",
    "# columns_list = for loop, if not c.sstartswith(\"Unanmed\")\n",
    "\n",
    "# Remove the columns that contain only null values\n",
    "df.dropna(how='all', axis='columns',inplace=True)\n",
    "\n",
    "# Give the right column names to the dataframe\n",
    "df.rename(columns={'4th place':'Teams','3rd place':'4th Place','Runners-up':'3rd Place','Champions':'Runners-up','Unnamed: 2': 'Champions'},inplace=True)\n",
    "#df.columns = columns_list\n",
    "\n",
    "# Remove \"Details\" from the \"Year\" column\n",
    "df.Year = df.Year.str.replace('Details', '')\n",
    "\n",
    "# Display the content of the dataframe\n",
    "df"
   ]
  },
  {
   "cell_type": "markdown",
   "id": "dfb83778",
   "metadata": {},
   "source": [
    "### Self-work exercises #2: 6 points\n",
    "\n",
    "#### Use the python commands to answer the following questions"
   ]
  },
  {
   "cell_type": "markdown",
   "id": "3f7e2173-0196-464f-b12a-0a1965bb2aaa",
   "metadata": {},
   "source": [
    "**1. What type is the resulting data (the loaded json: d) ?**"
   ]
  },
  {
   "cell_type": "code",
   "execution_count": 185,
   "id": "260ac9f1",
   "metadata": {},
   "outputs": [
    {
     "data": {
      "text/plain": [
       "list"
      ]
     },
     "execution_count": 185,
     "metadata": {},
     "output_type": "execute_result"
    }
   ],
   "source": [
    "type(d)"
   ]
  },
  {
   "cell_type": "markdown",
   "id": "edd259ec-2dee-44ab-951e-aebd169a7bca",
   "metadata": {},
   "source": [
    "**2. How many items does the resulting data have (the loaded json: d) ?**"
   ]
  },
  {
   "cell_type": "code",
   "execution_count": 187,
   "id": "0ad895d8",
   "metadata": {},
   "outputs": [
    {
     "data": {
      "text/plain": [
       "3"
      ]
     },
     "execution_count": 187,
     "metadata": {},
     "output_type": "execute_result"
    }
   ],
   "source": [
    "len(d)"
   ]
  },
  {
   "cell_type": "markdown",
   "id": "11183a6f-63a9-4378-aec5-164a091781a9",
   "metadata": {},
   "source": [
    "**3. What is the type of each item in the resulting data (the loaded json: d) ?**"
   ]
  },
  {
   "cell_type": "code",
   "execution_count": 191,
   "id": "92c06130",
   "metadata": {},
   "outputs": [
    {
     "name": "stdout",
     "output_type": "stream",
     "text": [
      "<class 'dict'>\n",
      "<class 'dict'>\n",
      "<class 'dict'>\n"
     ]
    }
   ],
   "source": [
    "for item in d:\n",
    "    print(type(item))"
   ]
  },
  {
   "cell_type": "markdown",
   "id": "0da87931-2591-4fa6-9a76-ba74fe1d5c01",
   "metadata": {},
   "source": [
    "**4. How many tricks does Coco know ? Use the code to output it**"
   ]
  },
  {
   "cell_type": "code",
   "execution_count": 233,
   "id": "1e0a0dfe",
   "metadata": {},
   "outputs": [
    {
     "data": {
      "text/plain": [
       "['explore', 'climb']"
      ]
     },
     "execution_count": 233,
     "metadata": {},
     "output_type": "execute_result"
    }
   ],
   "source": [
    "#len(d[tricks])\n",
    "d[2]['tricks']\n",
    "\n",
    "\n"
   ]
  },
  {
   "cell_type": "markdown",
   "id": "b7316743-0ac4-4e66-a19f-1b9a1c6c26fa",
   "metadata": {},
   "source": [
    "**5. How can you change the column name to be demographics_sex and demographics_age instead of demographics.sex and demographics.age?**\n",
    "\n",
    "Save it into animals_v3 variable\n",
    "\n",
    "*Tip: research online the pandas.json_normalize method*"
   ]
  },
  {
   "cell_type": "code",
   "execution_count": 239,
   "id": "581b4acf",
   "metadata": {},
   "outputs": [
    {
     "data": {
      "text/html": [
       "<div>\n",
       "<style scoped>\n",
       "    .dataframe tbody tr th:only-of-type {\n",
       "        vertical-align: middle;\n",
       "    }\n",
       "\n",
       "    .dataframe tbody tr th {\n",
       "        vertical-align: top;\n",
       "    }\n",
       "\n",
       "    .dataframe thead th {\n",
       "        text-align: right;\n",
       "    }\n",
       "</style>\n",
       "<table border=\"1\" class=\"dataframe\">\n",
       "  <thead>\n",
       "    <tr style=\"text-align: right;\">\n",
       "      <th></th>\n",
       "      <th>name</th>\n",
       "      <th>animal</th>\n",
       "      <th>tricks</th>\n",
       "      <th>owner</th>\n",
       "      <th>city</th>\n",
       "      <th>demographics_sex</th>\n",
       "      <th>demographics_age</th>\n",
       "    </tr>\n",
       "  </thead>\n",
       "  <tbody>\n",
       "    <tr>\n",
       "      <th>0</th>\n",
       "      <td>Ace</td>\n",
       "      <td>Alpaca</td>\n",
       "      <td>[spit]</td>\n",
       "      <td>Alice</td>\n",
       "      <td>Augsburg</td>\n",
       "      <td>male</td>\n",
       "      <td>2</td>\n",
       "    </tr>\n",
       "    <tr>\n",
       "      <th>1</th>\n",
       "      <td>Biscuit</td>\n",
       "      <td>Beagle</td>\n",
       "      <td>[sit, hunt]</td>\n",
       "      <td>Bob</td>\n",
       "      <td>Berlin</td>\n",
       "      <td>female</td>\n",
       "      <td>1</td>\n",
       "    </tr>\n",
       "    <tr>\n",
       "      <th>2</th>\n",
       "      <td>Coco</td>\n",
       "      <td>Chinchilla</td>\n",
       "      <td>[explore, climb]</td>\n",
       "      <td>Carol</td>\n",
       "      <td>Cottbus</td>\n",
       "      <td>male</td>\n",
       "      <td>5</td>\n",
       "    </tr>\n",
       "  </tbody>\n",
       "</table>\n",
       "</div>"
      ],
      "text/plain": [
       "      name      animal            tricks  owner      city demographics_sex  \\\n",
       "0      Ace      Alpaca            [spit]  Alice  Augsburg             male   \n",
       "1  Biscuit      Beagle       [sit, hunt]    Bob    Berlin           female   \n",
       "2     Coco  Chinchilla  [explore, climb]  Carol   Cottbus             male   \n",
       "\n",
       "   demographics_age  \n",
       "0                 2  \n",
       "1                 1  \n",
       "2                 5  "
      ]
     },
     "execution_count": 239,
     "metadata": {},
     "output_type": "execute_result"
    }
   ],
   "source": [
    "animals_v3 = pd.json_normalize(d,sep='_')\n",
    "animals_v3"
   ]
  },
  {
   "cell_type": "markdown",
   "id": "8c93821b-9e19-4b34-82f3-255195e1e2ad",
   "metadata": {},
   "source": [
    "**6. Following the examples of students_database, create the teachers_database**\n",
    "\n",
    "Hints:\n",
    "- the teacher is very wise, therefore they are at least 100 years old!\n",
    "- Selma's city starts with S and is located in Germany\n",
    "- The subject is the course you are taking"
   ]
  },
  {
   "cell_type": "code",
   "execution_count": 247,
   "id": "0f3499d4",
   "metadata": {},
   "outputs": [
    {
     "name": "stderr",
     "output_type": "stream",
     "text": [
      "C:\\Users\\Taylor\\AppData\\Local\\Temp\\ipykernel_16040\\1607059486.py:15: FutureWarning: Passing literal json to 'read_json' is deprecated and will be removed in a future version. To read from a literal string, wrap it in a 'StringIO' object.\n",
      "  teachers_df = pd.read_json(teacher_data)\n"
     ]
    }
   ],
   "source": [
    "### Complete the following program:\n",
    "\n",
    "teacher = {\n",
    "    \"name\": \"Selma\",\n",
    "    \"age\": 100,\n",
    "    \"grade\": \"Teacher\",\n",
    "    \"subjects\": \"Data Scraping\",\n",
    "    \"city\": \"Schönstedt\"\n",
    "}\n",
    "\n",
    "\n",
    "\n",
    "teacher_database = [teacher]\n",
    "teacher_data = json.dumps(teacher_database)\n",
    "teachers_df = pd.read_json(teacher_data)"
   ]
  },
  {
   "cell_type": "code",
   "execution_count": 249,
   "id": "f4b0fb7c-9740-49f3-bb9c-24820cb46025",
   "metadata": {},
   "outputs": [
    {
     "data": {
      "text/html": [
       "<div>\n",
       "<style scoped>\n",
       "    .dataframe tbody tr th:only-of-type {\n",
       "        vertical-align: middle;\n",
       "    }\n",
       "\n",
       "    .dataframe tbody tr th {\n",
       "        vertical-align: top;\n",
       "    }\n",
       "\n",
       "    .dataframe thead th {\n",
       "        text-align: right;\n",
       "    }\n",
       "</style>\n",
       "<table border=\"1\" class=\"dataframe\">\n",
       "  <thead>\n",
       "    <tr style=\"text-align: right;\">\n",
       "      <th></th>\n",
       "      <th>name</th>\n",
       "      <th>age</th>\n",
       "      <th>grade</th>\n",
       "      <th>subjects</th>\n",
       "      <th>city</th>\n",
       "    </tr>\n",
       "  </thead>\n",
       "  <tbody>\n",
       "    <tr>\n",
       "      <th>0</th>\n",
       "      <td>Selma</td>\n",
       "      <td>100</td>\n",
       "      <td>Teacher</td>\n",
       "      <td>Data Scraping</td>\n",
       "      <td>Schönstedt</td>\n",
       "    </tr>\n",
       "  </tbody>\n",
       "</table>\n",
       "</div>"
      ],
      "text/plain": [
       "    name  age    grade       subjects        city\n",
       "0  Selma  100  Teacher  Data Scraping  Schönstedt"
      ]
     },
     "execution_count": 249,
     "metadata": {},
     "output_type": "execute_result"
    }
   ],
   "source": [
    "teachers_df"
   ]
  },
  {
   "cell_type": "code",
   "execution_count": null,
   "id": "7e9517b9-cd50-41a3-ab10-0e386622fb5e",
   "metadata": {},
   "outputs": [],
   "source": []
  }
 ],
 "metadata": {
  "kernelspec": {
   "display_name": "Python 3 (ipykernel)",
   "language": "python",
   "name": "python3"
  },
  "language_info": {
   "codemirror_mode": {
    "name": "ipython",
    "version": 3
   },
   "file_extension": ".py",
   "mimetype": "text/x-python",
   "name": "python",
   "nbconvert_exporter": "python",
   "pygments_lexer": "ipython3",
   "version": "3.12.4"
  }
 },
 "nbformat": 4,
 "nbformat_minor": 5
}

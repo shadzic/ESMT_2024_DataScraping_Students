{
 "cells": [
  {
   "cell_type": "markdown",
   "id": "65096cc5",
   "metadata": {},
   "source": [
    "# Working with Data from the Web"
   ]
  },
  {
   "cell_type": "markdown",
   "id": "71396e4f-a70c-4e1f-ac89-945d008d486f",
   "metadata": {},
   "source": [
    "## Grading instructions\n",
    "\n",
    "1. Launch VS Code and open your working-folder\n",
    "2. Create a `Session_02` folder, in which you create another folder called `data`\n",
    "3. Copy paste this notebook `02_Data_from_the_Web_lecture` from the lectures repo to the working-folder. \n",
    "4. Copy the json file `animals.json` and the zip file `arbeitsmarktstatistik_erwerbslosenquoten_geschlecht.zip` into the `working-folder/Session_02/data` directory.\n",
    "\n",
    "#### There are two `Self-work exercises` in this notebook\n",
    "1. During the course, do the self-work exercises\n",
    "2. Once finished, copy-Paste this notebook `02_Data_from_the_Web_lecture` into `ESMT_2024_DataScraping_Students` folder in your computer\n",
    "3. Commit and push your self-work in your branch before the deadline. **Push only the notebook, not the files!**\n",
    "\n",
    "#### Number of points: 10 (weights 10% in the final grade)\n",
    "- `Self-work exercises #1`: 4 points\n",
    "- `Self-work exercises #2`: 6 points\n",
    "\n",
    "\n",
    "\n",
    "#### Deadline: October 18th 08:59 am CET\n",
    "#### Any missed deadline without justification to the Administration will result in 0 points for this homework.\n",
    "#### If the Github branch is not correctly named using the indicated format **LASTNAME_firstname**, then a penalty of -2 points will be applied"
   ]
  },
  {
   "cell_type": "markdown",
   "id": "8344deb5-6e30-464e-8dfa-a9abe593dba2",
   "metadata": {},
   "source": [
    "## Course content\n",
    "\n",
    "* Introduction to APIs\n",
    "* Using request package to download files\n",
    "* Loading files and tables from URLs (wikipedia)\n",
    "* Working with zip files in Python\n",
    "* Introduction to JSON (read_json, json_normalise)"
   ]
  },
  {
   "cell_type": "markdown",
   "id": "05b40e70",
   "metadata": {},
   "source": [
    "# Introduction to API\n",
    "\n",
    "An API, short for Application Programming Interface, is a concept used to describe – essentially – a piece of intermediary software (the interface) that facilitates communication between 2 other pieces of software (the applications). \n",
    "\n",
    "This very broad term is frequently used for web-based systems, database systems, operating systems, or even computer hardware. \n",
    "\n",
    "In this chapter we will focus on web-based APIs."
   ]
  },
  {
   "cell_type": "markdown",
   "id": "71e04021",
   "metadata": {},
   "source": [
    "### What is a Web API?\n",
    "\n",
    "A Web API typically means some kind of special website or URL that we use as a channel to get data from some company or web based program. \n",
    "\n",
    "We can write a Python program to retrieve data from the API. Put very bluntly, an API is a website providing data that is easy for a machine (e.g. python code) to understand (as opposed to a prettier, HTML-rendered, user interface for humans)."
   ]
  },
  {
   "cell_type": "markdown",
   "id": "64435555",
   "metadata": {},
   "source": [
    "**Intro to API (duration: 3'24):**\n",
    "https://www.youtube.com/watch?v=s7wmiS2mSXY"
   ]
  },
  {
   "cell_type": "markdown",
   "id": "0fde923d",
   "metadata": {},
   "source": [
    "### Examples of Web APIs\n",
    "* Google Maps: get map coordinates for an address\n",
    "* Spotify: read and modify a playlist\n",
    "* GitHub: read statistics on your code repo\n",
    "* WeatherAPI: get weather data for specific location\n",
    "* Google Translate: translate texts directly from a Python script\n",
    "\n",
    "<br>"
   ]
  },
  {
   "cell_type": "markdown",
   "id": "afa1c8da",
   "metadata": {},
   "source": [
    "# Python Requests Library\n",
    "\n",
    "The Python requests library is a popular third-party library that simplifies the process of making HTTP requests and working with HTTP responses. \n",
    "\n",
    "It provides a high-level interface for sending HTTP requests to web servers and receiving their responses. \n",
    "\n",
    "This library is widely used for tasks like fetching data from APIs, sending data to servers, and interacting with web resources."
   ]
  },
  {
   "cell_type": "markdown",
   "id": "9fa216a0",
   "metadata": {},
   "source": [
    "    Installation: You can install the requests library using pip, a package installer for Python:"
   ]
  },
  {
   "cell_type": "code",
   "execution_count": 2,
   "id": "fc56cd82",
   "metadata": {},
   "outputs": [
    {
     "name": "stdout",
     "output_type": "stream",
     "text": [
      "Requirement already satisfied: requests==2.32.3 in /Users/fynn/miniconda3/envs/datascraping/lib/python3.9/site-packages (2.32.3)\n",
      "Requirement already satisfied: charset-normalizer<4,>=2 in /Users/fynn/miniconda3/envs/datascraping/lib/python3.9/site-packages (from requests==2.32.3) (3.3.2)\n",
      "Requirement already satisfied: idna<4,>=2.5 in /Users/fynn/miniconda3/envs/datascraping/lib/python3.9/site-packages (from requests==2.32.3) (3.7)\n",
      "Requirement already satisfied: urllib3<3,>=1.21.1 in /Users/fynn/miniconda3/envs/datascraping/lib/python3.9/site-packages (from requests==2.32.3) (2.2.3)\n",
      "Requirement already satisfied: certifi>=2017.4.17 in /Users/fynn/miniconda3/envs/datascraping/lib/python3.9/site-packages (from requests==2.32.3) (2024.8.30)\n"
     ]
    }
   ],
   "source": [
    "!pip install requests==2.32.3"
   ]
  },
  {
   "cell_type": "markdown",
   "id": "53a668a4",
   "metadata": {},
   "source": [
    "    Importing: After installation, you need to import the library in your Python code before you can use it:"
   ]
  },
  {
   "cell_type": "code",
   "execution_count": 4,
   "id": "ee6ca8f4",
   "metadata": {},
   "outputs": [],
   "source": [
    "import requests"
   ]
  },
  {
   "cell_type": "markdown",
   "id": "b1b0f097",
   "metadata": {},
   "source": [
    "    HTTP Methods: The library supports various HTTP methods, such as GET, POST, PUT, DELETE, etc. These correspond to create, read, update, and delete (or CRUD) operations, respectively. You can choose the appropriate method for your request. \n",
    "\n",
    "To make a GET request:"
   ]
  },
  {
   "cell_type": "code",
   "execution_count": 5,
   "id": "ce5249be",
   "metadata": {},
   "outputs": [],
   "source": [
    "response = requests.get(\"https://randomuser.me/api/\")"
   ]
  },
  {
   "cell_type": "markdown",
   "id": "5e40d769",
   "metadata": {},
   "source": [
    "## API status code"
   ]
  },
  {
   "cell_type": "code",
   "execution_count": 6,
   "id": "05753289",
   "metadata": {},
   "outputs": [
    {
     "name": "stdout",
     "output_type": "stream",
     "text": [
      "200\n"
     ]
    }
   ],
   "source": [
    "print(response.status_code)\n",
    "\n",
    "#200 = success\n",
    "#4$$ = failure"
   ]
  },
  {
   "cell_type": "markdown",
   "id": "f3bbd1cb",
   "metadata": {},
   "source": [
    "    API Status code:\n",
    "\n",
    "Status codes are returned with every request that is made to a web server. Status codes indicate information about what happened with a request. Here are some codes that are relevant to GET requests:\n",
    "\n",
    "    200: Everything went okay, and the result has been returned (if any).\n",
    "    301: The server is redirecting you to a different endpoint. This can happen when a company switches domain names, or an endpoint name is changed.\n",
    "    400: The server thinks you made a bad request. This can happen when you don’t send along the right data, among other things.\n",
    "    401: The server thinks you’re not authenticated. Many APIs require login credentials, so this happens when you don’t send the right credentials to access an API.\n",
    "    403: The resource you’re trying to access is forbidden: you don’t have the right permissions to see it.\n",
    "    404: The resource you tried to access wasn’t found on the server.\n",
    "    503: The server is not ready to handle the request."
   ]
  },
  {
   "cell_type": "markdown",
   "id": "9295e1d4-5607-43d6-97ee-bee5b8d3db60",
   "metadata": {},
   "source": [
    "For more information about the various HTTP status codes [click here](https://en.wikipedia.org/wiki/List_of_HTTP_status_codes)"
   ]
  },
  {
   "cell_type": "markdown",
   "id": "ffd88355",
   "metadata": {},
   "source": [
    "## Response Object"
   ]
  },
  {
   "cell_type": "markdown",
   "id": "bd95aa99",
   "metadata": {},
   "source": [
    "\n",
    "    Response Object: When you send a request using the requests library, you receive a response object that contains information about the server’s response:\n",
    "\n",
    "   * response.status_code: HTTP status code of the response (200 is a code meaning a successful operation)\n",
    "* response.content: Raw content of the response\n",
    "* response.text: Content of the response in text format\n",
    "* response.json(): Parses the response content as JSON if applicable\n",
    "* response.headers: Headers received from the server (additional information passed through both request and response. It could be for example List of acceptable encodings. It is usually hidden to end-user)\n",
    "* response.url: The URL that was accessed\n"
   ]
  },
  {
   "cell_type": "code",
   "execution_count": 7,
   "id": "8d975782",
   "metadata": {},
   "outputs": [
    {
     "data": {
      "text/plain": [
       "{'results': [{'gender': 'male',\n",
       "   'name': {'title': 'Mr', 'first': 'Draško', 'last': 'Milovanović'},\n",
       "   'location': {'street': {'number': 1204,\n",
       "     'name': 'Katarine Popovine Midžine '},\n",
       "    'city': 'Kraljevo',\n",
       "    'state': 'Rasina',\n",
       "    'country': 'Serbia',\n",
       "    'postcode': 94670,\n",
       "    'coordinates': {'latitude': '58.8458', 'longitude': '-102.0928'},\n",
       "    'timezone': {'offset': '+6:00', 'description': 'Almaty, Dhaka, Colombo'}},\n",
       "   'email': 'drasko.milovanovic@example.com',\n",
       "   'login': {'uuid': '46c155bf-d8b2-4c52-bab6-f5d8e3ea5695',\n",
       "    'username': 'sadgorilla991',\n",
       "    'password': 'panthers',\n",
       "    'salt': 'YFRlWwkE',\n",
       "    'md5': 'fae9d2ecb41d662d600e26a30cb9e6de',\n",
       "    'sha1': '456171ad0e882f7908e37f0c4c025c59e048c464',\n",
       "    'sha256': '0b1d90db5dfbec5645f043a63a5e6c5f23a58947312931a4dca91e2e2dc39207'},\n",
       "   'dob': {'date': '1962-11-26T10:17:15.304Z', 'age': 61},\n",
       "   'registered': {'date': '2019-10-29T11:06:55.446Z', 'age': 4},\n",
       "   'phone': '031-9634-530',\n",
       "   'cell': '064-0155-874',\n",
       "   'id': {'name': 'SID', 'value': '890827361'},\n",
       "   'picture': {'large': 'https://randomuser.me/api/portraits/men/50.jpg',\n",
       "    'medium': 'https://randomuser.me/api/portraits/med/men/50.jpg',\n",
       "    'thumbnail': 'https://randomuser.me/api/portraits/thumb/men/50.jpg'},\n",
       "   'nat': 'RS'}],\n",
       " 'info': {'seed': 'bf00e592e99cd1ce',\n",
       "  'results': 1,\n",
       "  'page': 1,\n",
       "  'version': '1.4'}}"
      ]
     },
     "execution_count": 7,
     "metadata": {},
     "output_type": "execute_result"
    }
   ],
   "source": [
    "response.json()\n",
    "\n",
    "#json is the most common API-format"
   ]
  },
  {
   "cell_type": "markdown",
   "id": "866a1889",
   "metadata": {},
   "source": [
    "## Query String Parameters\n",
    "\n",
    "One common way to customize a GET request is to pass values through query string parameters in the URL. \n",
    "\n",
    "To do this using get(), you pass data to params."
   ]
  },
  {
   "cell_type": "markdown",
   "id": "03bda1f8",
   "metadata": {},
   "source": [
    "### Weather API:\n",
    "1. Sign up to RapidAPI: https://rapidapi.com/signup\n",
    "2. Select the free plan: https://rapidapi.com/meteostat/api/meteostat/pricing \n",
    "\n",
    "It allows you to 500 requests per months, with 3 requests per second maximum.\n",
    "\n",
    "3. Go to this page and click on `Get Daily Station Data` on the left pane: https://rapidapi.com/meteostat/api/meteostat\n",
    "\n",
    "4. On the right part `Code snippets` should appear the `x-rapidapi-key`: copy paste it below\n",
    "\n",
    "5. Complete the information below to get the weather of Berlin today"
   ]
  },
  {
   "cell_type": "markdown",
   "id": "00c545a2",
   "metadata": {},
   "source": [
    "### Important note: do not push this notebook to Github! It contains your API Key, which you don't want to reveal. If you were to push this content to github, delete your API key before!\n"
   ]
  },
  {
   "cell_type": "code",
   "execution_count": 8,
   "id": "2411f5f4-24ab-462d-8b07-780b2ad31d3a",
   "metadata": {},
   "outputs": [],
   "source": [
    "# Use double quotes to assign your API key to private_api_key variable as a string\n",
    "private_api_key = \"\""
   ]
  },
  {
   "cell_type": "code",
   "execution_count": 9,
   "id": "34d5b30c",
   "metadata": {},
   "outputs": [],
   "source": [
    "# Define your parameters as a dictionary\n",
    "params = {\n",
    "    \"lat\": 52.520008,  # Find Berlin's latitude and add it here\n",
    "    \"lon\": 13.404954,  # Find Berlin's longitude and add it here\n",
    "    \"start\": \"2024-10-09\",  # Replace with today's date\n",
    "    \"end\": \"2024-10-09\"  # Replace with today's date\n",
    "}\n",
    "\n",
    "response = requests.get(\"https://meteostat.p.rapidapi.com/point/daily\",\n",
    "                       params=params,\n",
    "                       headers={\n",
    "                           \"X-RapidAPI-Host\": \"meteostat.p.rapidapi.com\",\n",
    "                           \"X-RapidAPI-Key\": private_api_key # Add the private_api_key variable \n",
    "                       })\n",
    "\n",
    "# Do not push your API key to Github!"
   ]
  },
  {
   "cell_type": "code",
   "execution_count": 10,
   "id": "5880f166",
   "metadata": {},
   "outputs": [
    {
     "name": "stdout",
     "output_type": "stream",
     "text": [
      "{'message': 'Invalid API key. Go to https://docs.rapidapi.com/docs/keys for more info.'}\n"
     ]
    }
   ],
   "source": [
    "print(response.json())"
   ]
  },
  {
   "cell_type": "markdown",
   "id": "4dd174ca",
   "metadata": {},
   "source": [
    "<br>\n",
    "<br>\n",
    "<br>\n",
    "<br><br><br><br><br><br>"
   ]
  },
  {
   "cell_type": "markdown",
   "id": "7c05a62f",
   "metadata": {},
   "source": [
    "# Data from Wikipedia"
   ]
  },
  {
   "cell_type": "markdown",
   "id": "9873e241",
   "metadata": {},
   "source": [
    "## Installation"
   ]
  },
  {
   "cell_type": "markdown",
   "id": "c6bb1353",
   "metadata": {},
   "source": [
    "First, install and import the package\n",
    "\n",
    "*Note: all information about the packages and their versions can be found on [Pypi](https://pypi.org/), for example the [wikipedia package](https://pypi.org/project/wikipedia/)*"
   ]
  },
  {
   "cell_type": "code",
   "execution_count": 11,
   "id": "5073812e",
   "metadata": {},
   "outputs": [
    {
     "name": "stdout",
     "output_type": "stream",
     "text": [
      "Requirement already satisfied: wikipedia==1.4.0 in /Users/fynn/miniconda3/envs/datascraping/lib/python3.9/site-packages (1.4.0)\n",
      "Requirement already satisfied: beautifulsoup4 in /Users/fynn/miniconda3/envs/datascraping/lib/python3.9/site-packages (from wikipedia==1.4.0) (4.12.3)\n",
      "Requirement already satisfied: requests<3.0.0,>=2.0.0 in /Users/fynn/miniconda3/envs/datascraping/lib/python3.9/site-packages (from wikipedia==1.4.0) (2.32.3)\n",
      "Requirement already satisfied: charset-normalizer<4,>=2 in /Users/fynn/miniconda3/envs/datascraping/lib/python3.9/site-packages (from requests<3.0.0,>=2.0.0->wikipedia==1.4.0) (3.3.2)\n",
      "Requirement already satisfied: idna<4,>=2.5 in /Users/fynn/miniconda3/envs/datascraping/lib/python3.9/site-packages (from requests<3.0.0,>=2.0.0->wikipedia==1.4.0) (3.7)\n",
      "Requirement already satisfied: urllib3<3,>=1.21.1 in /Users/fynn/miniconda3/envs/datascraping/lib/python3.9/site-packages (from requests<3.0.0,>=2.0.0->wikipedia==1.4.0) (2.2.3)\n",
      "Requirement already satisfied: certifi>=2017.4.17 in /Users/fynn/miniconda3/envs/datascraping/lib/python3.9/site-packages (from requests<3.0.0,>=2.0.0->wikipedia==1.4.0) (2024.8.30)\n",
      "Requirement already satisfied: soupsieve>1.2 in /Users/fynn/miniconda3/envs/datascraping/lib/python3.9/site-packages (from beautifulsoup4->wikipedia==1.4.0) (2.5)\n"
     ]
    }
   ],
   "source": [
    "!pip install wikipedia==1.4.0"
   ]
  },
  {
   "cell_type": "code",
   "execution_count": 12,
   "id": "07e1b7a6",
   "metadata": {},
   "outputs": [],
   "source": [
    "# Import the package\n",
    "import wikipedia"
   ]
  },
  {
   "cell_type": "markdown",
   "id": "9886296c",
   "metadata": {},
   "source": [
    "## First commands\n",
    "* wikipedia.summary(<>): provides a summary of the page\n",
    "* wikipedia.page(<>).content: provides the content\n",
    "* wikipedia.page(<>).url: provides the URL of the page\n",
    "* wikipedia.set_lang(<>): changes the request language\n",
    "\n",
    "### Try the following commands:"
   ]
  },
  {
   "cell_type": "code",
   "execution_count": 13,
   "id": "de601b62",
   "metadata": {},
   "outputs": [
    {
     "data": {
      "text/plain": [
       "\"The FIVB Volleyball Women's World Cup is an international volleyball competition contested by the senior women's national teams of the members of Fédération Internationale de Volleyball (FIVB), the sport's global governing body. Initially the tournament was played in the year following the Olympic Games, but since 1991 the World Cup has been awarded in the year preceding the Olympic Games. The current champion is China, which won its fifth title at the 2019 tournament.\\nThe historical format of the competition involves 12 teams, including the automatically qualifying host nation Japan, competing in the tournament phase for the title at venues within the host nation over a period of about two weeks. The World Cup (with exception of the 2019 edition) acts as the first qualification event for the following year's Olympic Games with the top two teams qualifying.\\nThe 14 World Cup tournaments have been won by six different national teams. China have won five times. The other World Cup winners are Cuba, with four titles; Italy, with two titles; Japan and Russia (as Soviet Union) with one title each.\\nThis tournament should not be confused with the FIVB Volleyball Women's World Championship.\""
      ]
     },
     "execution_count": 13,
     "metadata": {},
     "output_type": "execute_result"
    }
   ],
   "source": [
    "wikipedia.summary(\"FIVB Volleyball Women World Cup\")"
   ]
  },
  {
   "cell_type": "code",
   "execution_count": 14,
   "id": "c805dd79",
   "metadata": {},
   "outputs": [
    {
     "data": {
      "text/plain": [
       "'The FIVB Volleyball Women\\'s World Cup is an international volleyball competition contested by the senior women\\'s national teams of the members of Fédération Internationale de Volleyball (FIVB), the sport\\'s global governing body. Initially the tournament was played in the year following the Olympic Games, but since 1991 the World Cup has been awarded in the year preceding the Olympic Games. The current champion is China, which won its fifth title at the 2019 tournament.\\nThe historical format of the competition involves 12 teams, including the automatically qualifying host nation Japan, competing in the tournament phase for the title at venues within the host nation over a period of about two weeks. The World Cup (with exception of the 2019 edition) acts as the first qualification event for the following year\\'s Olympic Games with the top two teams qualifying.\\nThe 14 World Cup tournaments have been won by six different national teams. China have won five times. The other World Cup winners are Cuba, with four titles; Italy, with two titles; Japan and Russia (as Soviet Union) with one title each.\\nThis tournament should not be confused with the FIVB Volleyball Women\\'s World Championship.\\n\\n\\n== History ==\\n\\n\\n=== Origins ===\\nThe World Cup was created in 1965 with the purpose of partially filling the gap between the two most important volleyball tournaments, the Olympic Games and the World Championship, which take place in alternating 4-year cycles. The establishment of a third international competition would leave only one in every four years with no major events. The World Cup has a smaller entry than the World Championship, with at most 12 teams.\\nThe World Cup was to be held in the year following the Olympic Games. The first two tournaments were for men\\'s volleyball only; in 1973, a women\\'s tournament was also introduced. Originally, each tournament had a different host, but in 1977 the competition was transferred to Japan on a permanent basis.\\nIn the 1990s, the installment of annual international events such as the World League and the Grand Prix made the original motivations for the creation of the World Cup obsolete. Instead of letting a consolidated event disappear for lack of interest, the FIVB decided to change its format in 1991: it would be held in the year preceding, and not following, the Olympic Games; and it would be considered a first international Olympic qualification tournament, granting the winner a direct berth in the games.\\nThis move saved the competition. The possibility of securing an early berth for the Olympic Games, thus avoiding extraneous and in some cases tight continental qualification procedures, became a consistent motivation for the national federations to participate in the World Cup. In 1995, the number of Olympic spots granted at the competition was increased to three, as it remained until 2011. In 2015 the number of spots was only two again.\\n\\n\\n=== 2023 edition ===\\nWith the change of qualification for the Paris Summer Olympics, the 2023 World Cup will serve as one of the three Olympic qualification tournaments. Only eight teams will participate in this edition, with two tickets to the Paris Olympics for the top two teams.\\n\\n\\n=== Winners ===\\nThe Women\\'s World Cup has had not one great winner, like its counterpart for men\\'s volleyball, but two: China and Cuba.\\nThe first edition of the tournament was won by the Soviet Union. Japan, the runner-up of 1973, took the gold in 1977. With the help of superstar player Lang Ping, China won the following two editions, in 1981 and 1985.\\nThen Cuba stepped forward to begin its amazing World Cup career, winning its first title in 1989. With the tournament now as an Olympic qualifier, there followed three more consecutive victories, in 1991, 1995 and 1999.\\nChina came back in 2003 with a remarkably offensive team to win its third title.\\nItaly won the 2007 edition with an outstanding record of eleven wins in eleven games and only two sets left to the opponents (both lost against Serbia). Italy took a second win in a row in 2011, getting the better hand on United States and China. In 2015, China regained the title and then successfully defended it in 2019.\\n\\n\\n== Competition formula ==\\nThe World Cup is the most stable from all competition formulas employed by the FIVB. The following rules apply:\\n\\nThe competition takes place in Japan.\\nTwelve teams participate in each event: ten qualified, two per invitation.\\nJapan are always pre-qualified as host nation.\\nThe winners of the FIVB World Championship in the previous year are automatically granted a spot.\\nThe champion and runner-up of each continental tournament of that year are granted two spots.\\nSince the 1999 edition, only teams not yet qualified for the following Olympic Games can compete in the World Cup; hence hosts of the following year\\'s Olympic Games are not allowed to compete. There was an exception for the 2019 World Cup, as the tournament will be hosted by Japan and the country will host the 2020 Summer Olympics.\\nThe competition is divided in exactly two phases (called \"legs\").\\nTeams are divided in two pools.\\nAt the first leg, each team plays one match against all other teams in its pool.\\nAt the second leg, each team plays one match against all the teams in the other pool.\\nMatches take place continuously through two weeks, with one-day breaks every two or three days. Each day, six matches are played.\\nFinal standings are calculated by usual volleyball criteria: match points, numbers of matches won, sets ratio (the total number of sets won divided by the total number of sets lost), points ratio, direct confrontation.\\nThe top two teams in overall standings, regardless of pools, qualify for the following Olympic Games.\\nThe tournament implements very tight line-up restrictions: only twelve players are allowed, and no replacement is permitted, even in the case of injuries.\\n\\n\\n== Results summary ==\\n\\n\\n== Medals summary ==\\n\\n\\n== Debut of national teams ==\\n\\n\\n== Participating nations ==\\nLegend\\n1st – Champions\\n2nd – Runners-up\\n3rd – Third place\\n4th – Fourth place\\n •  – Did not enter / Did not qualify\\n   – Hosts\\n= – More than one team tied for that rank\\nQ – Qualified for forthcoming tournament\\n\\n\\n== Most valuable player by edition ==\\n1973 –  Jo Hea-jung (KOR)\\n1977 –  Takako Shirai (JPN)\\n1981 –  Sun Jinfang (CHN)\\n1985 –  Lang Ping (CHN)\\n1989 –  Mireya Luis (CUB)\\n1991 –  Caren Kemner (USA)\\n1995 –  Mireya Luis (CUB)\\n1999 –  Taismary Agüero (CUB)\\n2003 –  Małgorzata Glinka (POL)\\n2007 –  Simona Gioli (ITA)\\n2011 –  Carolina Costagrande (ITA)\\n2015 –  Zhu Ting (CHN)\\n2019 –  Zhu Ting (CHN)\\n\\n\\n== See also ==\\n\\nVolleyball at the Summer Olympics\\nFIVB Volleyball Men\\'s World Cup\\nFIVB Volleyball Women\\'s World Championship\\nFIVB Volleyball World Grand Champions Cup\\nFIVB Volleyball World Grand Prix\\nFIVB Volleyball Women\\'s Nations League\\nList of Indoor Volleyball World Medalists\\n\\n\\n== Notes ==\\n\\n\\n== References ==\\n\\n\\n== External links ==\\nFIVB'"
      ]
     },
     "execution_count": 14,
     "metadata": {},
     "output_type": "execute_result"
    }
   ],
   "source": [
    "wikipedia.page(\"FIVB Volleyball Women World Cup\").content"
   ]
  },
  {
   "cell_type": "code",
   "execution_count": 15,
   "id": "1cdacd55",
   "metadata": {},
   "outputs": [
    {
     "data": {
      "text/plain": [
       "'https://en.wikipedia.org/wiki/FIVB_Volleyball_Women%27s_World_Cup'"
      ]
     },
     "execution_count": 15,
     "metadata": {},
     "output_type": "execute_result"
    }
   ],
   "source": [
    "wikipedia.page(\"FIVB Volleyball Women World Cup\").url"
   ]
  },
  {
   "cell_type": "code",
   "execution_count": 16,
   "id": "46b4cdf6",
   "metadata": {},
   "outputs": [
    {
     "data": {
      "text/plain": [
       "'Volleyball () ist eine olympische Mannschaftssportart aus der Gruppe der Rückschlagspiele. Zwei Mannschaften mit jeweils sechs Spielern stehen sich dabei auf einem Spielfeld gegenüber, das durch ein Netz geteilt ist. Ziel des Spiels ist es, einen Ball so über das Netz zu schlagen, dass der Ball den Boden der gegnerischen Spielfeldhälfte berührt oder die gegnerische Mannschaft einen Fehler begeht. Eine Mannschaft darf den Ball dreimal in Folge berühren, um ihn zurückzuspielen. Ein etwaiger Block zählt dabei nicht mit. Der Ball wird volley gespielt (daher kommt der Name der Sportart) und darf mit jedem Körperteil berührt werden, jedoch werden in der Praxis fast ausschließlich die Hände oder Arme verwendet.\\nVolleyball entstand Ende des 19. Jahrhunderts in den Vereinigten Staaten. Die Sportart wird mittlerweile weltweit betrieben. Der Weltverband FIVB umfasst 222 nationale Verbände und somit mehr Mitglieder als die FIFA oder die Vereinten Nationen. Seit Mitte des 20. Jahrhunderts werden Weltmeisterschaften und olympische Turniere ausgetragen. Weitere hochklassige Wettbewerbe sind die jährlich ausgetragene Volleyball Nations League und der Volleyball World Cup. Hinzu kommen die kontinentalen Turniere (beispielsweise die Europameisterschaft), die Europapokal-Wettbewerbe für Vereinsmannschaften sowie nationale Meisterschaften und Pokalwettbewerbe.\\nIn den frühen Jahrzehnten (Mitte des 20. Jahrhunderts) dominierten in Wettbewerben vor allem die National- und Vereinsmannschaften der Sowjetunion, Nationalteams der Tschechoslowakei (Männer) und Japan (Frauen) und Vereinsmannschaften aus Rumänien. Ende des 20. Jahrhunderts kamen die Vereinigten Staaten, Brasilien und Italien als führende Nationen hinzu. Bei den Männern ist außerdem Polen erfolgreich und bei den Frauen haben China und Kuba mehrere Titel gewonnen.\\nTrotz der weltweiten Verbreitung wird Volleyball in einzelnen Ländern unterschiedlich wahrgenommen. Während es im deutschsprachigen Raum eher eine Randsportart ist, werden die Spiele in Polen intensiv in den Medien übertragen. Es gibt mehrere Sportarten und Varianten, die sich aus dem Volleyball entwickelt haben. Die bekannteste Variante ist das ebenfalls olympische Beachvolleyball.'"
      ]
     },
     "execution_count": 16,
     "metadata": {},
     "output_type": "execute_result"
    }
   ],
   "source": [
    "wikipedia.set_lang('de')\n",
    "wikipedia.summary(\"FIVB Volleyball Women World Cup\")"
   ]
  },
  {
   "cell_type": "markdown",
   "id": "30db374c",
   "metadata": {},
   "source": [
    "## Extract tabular data from wikipedia into a Pandas dataframe"
   ]
  },
  {
   "cell_type": "code",
   "execution_count": 17,
   "id": "fe4d27b0",
   "metadata": {},
   "outputs": [],
   "source": [
    "# First, import the pandas package\n",
    "import pandas as pd"
   ]
  },
  {
   "cell_type": "code",
   "execution_count": 18,
   "id": "fc84bb61",
   "metadata": {},
   "outputs": [
    {
     "name": "stdout",
     "output_type": "stream",
     "text": [
      "Requirement already satisfied: lxml in /Users/fynn/miniconda3/envs/datascraping/lib/python3.9/site-packages (5.3.0)\n"
     ]
    }
   ],
   "source": [
    "# You may need to pip install lxml package\n",
    "!pip install lxml"
   ]
  },
  {
   "cell_type": "code",
   "execution_count": 19,
   "id": "bbfc4d88",
   "metadata": {},
   "outputs": [],
   "source": [
    "# Import the lxml package\n",
    "import lxml"
   ]
  },
  {
   "cell_type": "code",
   "execution_count": 20,
   "id": "9ec891ca",
   "metadata": {},
   "outputs": [],
   "source": [
    "# Extract tabular data from wikipedia into a Pandas dataframe.\n",
    "# We will use pandas.read_html\n",
    "\n",
    "tables = pd.read_html(\"https://en.wikipedia.org/wiki/FIVB_Volleyball_Women%27s_World_Cup#Results_summary\",\n",
    "                     match='Champions')\n",
    "\n",
    "#tables = pd.read_html(wikipedia.page(\"FIVB Volleyball Women World Cup\").url, match='Champions)"
   ]
  },
  {
   "cell_type": "code",
   "execution_count": 21,
   "id": "93a0c25d",
   "metadata": {
    "scrolled": true
   },
   "outputs": [
    {
     "data": {
      "text/plain": [
       "[            Year     Host    Unnamed: 2      Champions     Runners-up  \\\n",
       " 0            NaN      NaN           NaN            NaN            NaN   \n",
       " 1            NaN      NaN           NaN            NaN            NaN   \n",
       " 2            NaN      NaN           NaN            NaN            NaN   \n",
       " 3            NaN      NaN           NaN            NaN            NaN   \n",
       " 4            NaN      NaN           NaN            NaN            NaN   \n",
       " 5            NaN      NaN           NaN            NaN            NaN   \n",
       " 6            NaN      NaN           NaN            NaN            NaN   \n",
       " 7            NaN      NaN           NaN            NaN            NaN   \n",
       " 8            NaN      NaN           NaN            NaN            NaN   \n",
       " 9            NaN      NaN           NaN            NaN            NaN   \n",
       " 10           NaN      NaN           NaN            NaN            NaN   \n",
       " 11           NaN      NaN           NaN            NaN            NaN   \n",
       " 12           NaN      NaN           NaN            NaN            NaN   \n",
       " 13           NaN      NaN           NaN            NaN            NaN   \n",
       " 14  1973 Details  Uruguay  Soviet Union          Japan    South Korea   \n",
       " 15  1977 Details    Japan         Japan           Cuba    South Korea   \n",
       " 16  1981 Details    Japan         China          Japan   Soviet Union   \n",
       " 17  1985 Details    Japan         China           Cuba   Soviet Union   \n",
       " 18  1989 Details    Japan          Cuba   Soviet Union          China   \n",
       " 19  1991 Details    Japan          Cuba          China   Soviet Union   \n",
       " 20  1995 Details    Japan          Cuba         Brazil          China   \n",
       " 21  1999 Details    Japan          Cuba         Russia         Brazil   \n",
       " 22  2003 Details    Japan         China         Brazil  United States   \n",
       " 23  2007 Details    Japan         Italy         Brazil  United States   \n",
       " 24  2011 Details    Japan         Italy  United States          China   \n",
       " 25  2015 Details    Japan         China         Serbia  United States   \n",
       " 26  2019 Details    Japan         China  United States         Russia   \n",
       " \n",
       "         3rd place  4th place  Unnamed: 7  Teams  \n",
       " 0             NaN        NaN         NaN    NaN  \n",
       " 1             NaN        NaN         NaN    NaN  \n",
       " 2             NaN        NaN         NaN    NaN  \n",
       " 3             NaN        NaN         NaN    NaN  \n",
       " 4             NaN        NaN         NaN    NaN  \n",
       " 5             NaN        NaN         NaN    NaN  \n",
       " 6             NaN        NaN         NaN    NaN  \n",
       " 7             NaN        NaN         NaN    NaN  \n",
       " 8             NaN        NaN         NaN    NaN  \n",
       " 9             NaN        NaN         NaN    NaN  \n",
       " 10            NaN        NaN         NaN    NaN  \n",
       " 11            NaN        NaN         NaN    NaN  \n",
       " 12            NaN        NaN         NaN    NaN  \n",
       " 13            NaN        NaN         NaN    NaN  \n",
       " 14           Peru       10.0         NaN    NaN  \n",
       " 15          China        8.0         NaN    NaN  \n",
       " 16  United States        8.0         NaN    NaN  \n",
       " 17          Japan        8.0         NaN    NaN  \n",
       " 18          Japan        8.0         NaN    NaN  \n",
       " 19  United States       12.0         NaN    NaN  \n",
       " 20        Croatia       12.0         NaN    NaN  \n",
       " 21    South Korea       12.0         NaN    NaN  \n",
       " 22          Italy       12.0         NaN    NaN  \n",
       " 23           Cuba       12.0         NaN    NaN  \n",
       " 24          Japan       12.0         NaN    NaN  \n",
       " 25         Russia       12.0         NaN    NaN  \n",
       " 26         Brazil       12.0         NaN    NaN  ,\n",
       "    vteInternational Federation of Volleyball (FIVB) competitions  \\\n",
       " 0                                      National teams              \n",
       " 1                                       Championships              \n",
       " 2                                                Cups              \n",
       " 3                                             Leagues              \n",
       " 4                                Youth national teams              \n",
       " 5                                       Championships              \n",
       " 6                                   Club competitions              \n",
       " 7                                       Championships              \n",
       " 8                                    Beach volleyball              \n",
       " 9                                       Championships              \n",
       " 10                                        World Tours              \n",
       " 11                                       Discontinued              \n",
       " 12                                      Championships              \n",
       " 13                                               Cups              \n",
       " 14                                            Leagues              \n",
       " \n",
       "    vteInternational Federation of Volleyball (FIVB) competitions.1  \n",
       " 0   Championships World championships Men's Women'...               \n",
       " 1                   World championships Men's Women's               \n",
       " 2                            World Cups Men's Women's               \n",
       " 3                       Nations Leagues Men's Women's               \n",
       " 4   Championships World championships Men's U21 Wo...               \n",
       " 5   World championships Men's U21 Women's U21 Boys...               \n",
       " 6   Championships World Club Championships Men's W...               \n",
       " 7              World Club Championships Men's Women's               \n",
       " 8   Championships World Championships Men's Women'...               \n",
       " 9                   World Championships Men's Women's               \n",
       " 10                     World Beach Tour Men's Women's               \n",
       " 11  Championships World Championships Men's U23 Wo...               \n",
       " 12          World Championships Men's U23 Women's U23               \n",
       " 13           World Grand Champions Cups Men's Women's               \n",
       " 14  World League World Grand Prix World Challenger...               ,\n",
       "                0                                  1\n",
       " 0  Championships  World championships Men's Women's\n",
       " 1           Cups           World Cups Men's Women's\n",
       " 2        Leagues      Nations Leagues Men's Women's,\n",
       "                0                                                  1\n",
       " 0  Championships  World championships Men's U21 Women's U21 Boys...,\n",
       "                0                                       1\n",
       " 0  Championships  World Club Championships Men's Women's,\n",
       "                0                                  1\n",
       " 0  Championships  World Championships Men's Women's\n",
       " 1    World Tours     World Beach Tour Men's Women's,\n",
       "                0                                                  1\n",
       " 0  Championships          World Championships Men's U23 Women's U23\n",
       " 1           Cups           World Grand Champions Cups Men's Women's\n",
       " 2        Leagues  World League World Grand Prix World Challenger...,\n",
       "                  vteInternational women's volleyball  \\\n",
       " 0  FIVB World Ranking Summer Olympic Games FIVB W...   \n",
       " 1                                             Africa   \n",
       " 2                                     Asia & Oceania   \n",
       " 3                                             Europe   \n",
       " 4                                      North America   \n",
       " 5                                    Central America   \n",
       " 6                                      South America   \n",
       " 7                                 Multi-sport events   \n",
       " 8                                       Discontinued   \n",
       " \n",
       "                vteInternational women's volleyball.1  \n",
       " 0  FIVB World Ranking Summer Olympic Games FIVB W...  \n",
       " 1            CAVB African Championship African Games  \n",
       " 2  AVC Asian Championship Asian Cup Asian Challen...  \n",
       " 3  CEV European Championship European League Smal...  \n",
       " 4  NORCECA NORCECA Championship Pan American Cup ...  \n",
       " 5  AFECAVOL Central American Championship Central...  \n",
       " 6  CSV South American Championship Pan American C...  \n",
       " 7  Arab Games Bolivarian Games Lusophone Games Me...  \n",
       " 8  FIVB World Grand Prix FIVB World Grand Champio...  ,\n",
       "                           vteInternational volleyball  \\\n",
       " 0   FIVB World Rankings Achievements by nation Rec...   \n",
       " 1                                           Worldwide   \n",
       " 2                                      Junior / Youth   \n",
       " 3                                  Multi-sport events   \n",
       " 4                                         Continental   \n",
       " 5                                       Africa (CAVB)   \n",
       " 6                              Asia and Oceania (AVC)   \n",
       " 7                                        Europe (CEV)   \n",
       " 8                                            Americas   \n",
       " 9                                          Top events   \n",
       " 10                            North America (NORCECA)   \n",
       " 11                         Central America (AFECAVOL)   \n",
       " 12                                South America (CSV)   \n",
       " \n",
       "                         vteInternational volleyball.1  \n",
       " 0   FIVB World Rankings Achievements by nation Rec...  \n",
       " 1   Olympic Games World Championships men women Na...  \n",
       " 2   Youth Olympic Games World Championships men U2...  \n",
       " 3   Arab Games Bolivarian Games Goodwill Games Isl...  \n",
       " 4   Africa (CAVB) African Championship men women m...  \n",
       " 5   African Championship men women men U23 women U...  \n",
       " 6   Asian Championship men women men U23 (defunct)...  \n",
       " 7   European Championship men women men U22 women ...  \n",
       " 8   Top events Pan American Games Pan-American Cup...  \n",
       " 9   Pan American Games Pan-American Cup men women ...  \n",
       " 10  NORCECA Championship men women men U21 women U...  \n",
       " 11  Central American Championship men women Centra...  \n",
       " 12  South American Championship men women men U23 ...  ,\n",
       "                             0  \\\n",
       " 0               Africa (CAVB)   \n",
       " 1      Asia and Oceania (AVC)   \n",
       " 2                Europe (CEV)   \n",
       " 3                    Americas   \n",
       " 4                  Top events   \n",
       " 5     North America (NORCECA)   \n",
       " 6  Central America (AFECAVOL)   \n",
       " 7         South America (CSV)   \n",
       " \n",
       "                                                    1  \n",
       " 0  African Championship men women men U23 women U...  \n",
       " 1  Asian Championship men women men U23 (defunct)...  \n",
       " 2  European Championship men women men U22 women ...  \n",
       " 3  Top events Pan American Games Pan-American Cup...  \n",
       " 4  Pan American Games Pan-American Cup men women ...  \n",
       " 5  NORCECA Championship men women men U21 women U...  \n",
       " 6  Central American Championship men women Centra...  \n",
       " 7  South American Championship men women men U23 ...  ,\n",
       "                             0  \\\n",
       " 0                  Top events   \n",
       " 1     North America (NORCECA)   \n",
       " 2  Central America (AFECAVOL)   \n",
       " 3         South America (CSV)   \n",
       " \n",
       "                                                    1  \n",
       " 0  Pan American Games Pan-American Cup men women ...  \n",
       " 1  NORCECA Championship men women men U21 women U...  \n",
       " 2  Central American Championship men women Centra...  \n",
       " 3  South American Championship men women men U23 ...  ]"
      ]
     },
     "execution_count": 21,
     "metadata": {},
     "output_type": "execute_result"
    }
   ],
   "source": [
    "# Show the tables variable\n",
    "tables"
   ]
  },
  {
   "cell_type": "code",
   "execution_count": 22,
   "id": "22ca6cc6-f388-4f80-8371-28c4c80fb674",
   "metadata": {},
   "outputs": [
    {
     "data": {
      "text/plain": [
       "11"
      ]
     },
     "execution_count": 22,
     "metadata": {},
     "output_type": "execute_result"
    }
   ],
   "source": [
    "# How big is tables?\n",
    "len(tables)"
   ]
  },
  {
   "cell_type": "code",
   "execution_count": 23,
   "id": "043c3f87",
   "metadata": {},
   "outputs": [],
   "source": [
    "# Let's get only the first result \n",
    "results_df = tables[0]"
   ]
  },
  {
   "cell_type": "code",
   "execution_count": 24,
   "id": "ad58e50b-4051-4d49-ab10-321ef64e99c8",
   "metadata": {},
   "outputs": [
    {
     "data": {
      "text/html": [
       "<div>\n",
       "<style scoped>\n",
       "    .dataframe tbody tr th:only-of-type {\n",
       "        vertical-align: middle;\n",
       "    }\n",
       "\n",
       "    .dataframe tbody tr th {\n",
       "        vertical-align: top;\n",
       "    }\n",
       "\n",
       "    .dataframe thead th {\n",
       "        text-align: right;\n",
       "    }\n",
       "</style>\n",
       "<table border=\"1\" class=\"dataframe\">\n",
       "  <thead>\n",
       "    <tr style=\"text-align: right;\">\n",
       "      <th></th>\n",
       "      <th>Year</th>\n",
       "      <th>Host</th>\n",
       "      <th>Unnamed: 2</th>\n",
       "      <th>Champions</th>\n",
       "      <th>Runners-up</th>\n",
       "      <th>3rd place</th>\n",
       "      <th>4th place</th>\n",
       "      <th>Unnamed: 7</th>\n",
       "      <th>Teams</th>\n",
       "    </tr>\n",
       "  </thead>\n",
       "  <tbody>\n",
       "    <tr>\n",
       "      <th>0</th>\n",
       "      <td>NaN</td>\n",
       "      <td>NaN</td>\n",
       "      <td>NaN</td>\n",
       "      <td>NaN</td>\n",
       "      <td>NaN</td>\n",
       "      <td>NaN</td>\n",
       "      <td>NaN</td>\n",
       "      <td>NaN</td>\n",
       "      <td>NaN</td>\n",
       "    </tr>\n",
       "    <tr>\n",
       "      <th>1</th>\n",
       "      <td>NaN</td>\n",
       "      <td>NaN</td>\n",
       "      <td>NaN</td>\n",
       "      <td>NaN</td>\n",
       "      <td>NaN</td>\n",
       "      <td>NaN</td>\n",
       "      <td>NaN</td>\n",
       "      <td>NaN</td>\n",
       "      <td>NaN</td>\n",
       "    </tr>\n",
       "    <tr>\n",
       "      <th>2</th>\n",
       "      <td>NaN</td>\n",
       "      <td>NaN</td>\n",
       "      <td>NaN</td>\n",
       "      <td>NaN</td>\n",
       "      <td>NaN</td>\n",
       "      <td>NaN</td>\n",
       "      <td>NaN</td>\n",
       "      <td>NaN</td>\n",
       "      <td>NaN</td>\n",
       "    </tr>\n",
       "    <tr>\n",
       "      <th>3</th>\n",
       "      <td>NaN</td>\n",
       "      <td>NaN</td>\n",
       "      <td>NaN</td>\n",
       "      <td>NaN</td>\n",
       "      <td>NaN</td>\n",
       "      <td>NaN</td>\n",
       "      <td>NaN</td>\n",
       "      <td>NaN</td>\n",
       "      <td>NaN</td>\n",
       "    </tr>\n",
       "    <tr>\n",
       "      <th>4</th>\n",
       "      <td>NaN</td>\n",
       "      <td>NaN</td>\n",
       "      <td>NaN</td>\n",
       "      <td>NaN</td>\n",
       "      <td>NaN</td>\n",
       "      <td>NaN</td>\n",
       "      <td>NaN</td>\n",
       "      <td>NaN</td>\n",
       "      <td>NaN</td>\n",
       "    </tr>\n",
       "    <tr>\n",
       "      <th>5</th>\n",
       "      <td>NaN</td>\n",
       "      <td>NaN</td>\n",
       "      <td>NaN</td>\n",
       "      <td>NaN</td>\n",
       "      <td>NaN</td>\n",
       "      <td>NaN</td>\n",
       "      <td>NaN</td>\n",
       "      <td>NaN</td>\n",
       "      <td>NaN</td>\n",
       "    </tr>\n",
       "    <tr>\n",
       "      <th>6</th>\n",
       "      <td>NaN</td>\n",
       "      <td>NaN</td>\n",
       "      <td>NaN</td>\n",
       "      <td>NaN</td>\n",
       "      <td>NaN</td>\n",
       "      <td>NaN</td>\n",
       "      <td>NaN</td>\n",
       "      <td>NaN</td>\n",
       "      <td>NaN</td>\n",
       "    </tr>\n",
       "    <tr>\n",
       "      <th>7</th>\n",
       "      <td>NaN</td>\n",
       "      <td>NaN</td>\n",
       "      <td>NaN</td>\n",
       "      <td>NaN</td>\n",
       "      <td>NaN</td>\n",
       "      <td>NaN</td>\n",
       "      <td>NaN</td>\n",
       "      <td>NaN</td>\n",
       "      <td>NaN</td>\n",
       "    </tr>\n",
       "    <tr>\n",
       "      <th>8</th>\n",
       "      <td>NaN</td>\n",
       "      <td>NaN</td>\n",
       "      <td>NaN</td>\n",
       "      <td>NaN</td>\n",
       "      <td>NaN</td>\n",
       "      <td>NaN</td>\n",
       "      <td>NaN</td>\n",
       "      <td>NaN</td>\n",
       "      <td>NaN</td>\n",
       "    </tr>\n",
       "    <tr>\n",
       "      <th>9</th>\n",
       "      <td>NaN</td>\n",
       "      <td>NaN</td>\n",
       "      <td>NaN</td>\n",
       "      <td>NaN</td>\n",
       "      <td>NaN</td>\n",
       "      <td>NaN</td>\n",
       "      <td>NaN</td>\n",
       "      <td>NaN</td>\n",
       "      <td>NaN</td>\n",
       "    </tr>\n",
       "    <tr>\n",
       "      <th>10</th>\n",
       "      <td>NaN</td>\n",
       "      <td>NaN</td>\n",
       "      <td>NaN</td>\n",
       "      <td>NaN</td>\n",
       "      <td>NaN</td>\n",
       "      <td>NaN</td>\n",
       "      <td>NaN</td>\n",
       "      <td>NaN</td>\n",
       "      <td>NaN</td>\n",
       "    </tr>\n",
       "    <tr>\n",
       "      <th>11</th>\n",
       "      <td>NaN</td>\n",
       "      <td>NaN</td>\n",
       "      <td>NaN</td>\n",
       "      <td>NaN</td>\n",
       "      <td>NaN</td>\n",
       "      <td>NaN</td>\n",
       "      <td>NaN</td>\n",
       "      <td>NaN</td>\n",
       "      <td>NaN</td>\n",
       "    </tr>\n",
       "    <tr>\n",
       "      <th>12</th>\n",
       "      <td>NaN</td>\n",
       "      <td>NaN</td>\n",
       "      <td>NaN</td>\n",
       "      <td>NaN</td>\n",
       "      <td>NaN</td>\n",
       "      <td>NaN</td>\n",
       "      <td>NaN</td>\n",
       "      <td>NaN</td>\n",
       "      <td>NaN</td>\n",
       "    </tr>\n",
       "    <tr>\n",
       "      <th>13</th>\n",
       "      <td>NaN</td>\n",
       "      <td>NaN</td>\n",
       "      <td>NaN</td>\n",
       "      <td>NaN</td>\n",
       "      <td>NaN</td>\n",
       "      <td>NaN</td>\n",
       "      <td>NaN</td>\n",
       "      <td>NaN</td>\n",
       "      <td>NaN</td>\n",
       "    </tr>\n",
       "    <tr>\n",
       "      <th>14</th>\n",
       "      <td>1973 Details</td>\n",
       "      <td>Uruguay</td>\n",
       "      <td>Soviet Union</td>\n",
       "      <td>Japan</td>\n",
       "      <td>South Korea</td>\n",
       "      <td>Peru</td>\n",
       "      <td>10.0</td>\n",
       "      <td>NaN</td>\n",
       "      <td>NaN</td>\n",
       "    </tr>\n",
       "    <tr>\n",
       "      <th>15</th>\n",
       "      <td>1977 Details</td>\n",
       "      <td>Japan</td>\n",
       "      <td>Japan</td>\n",
       "      <td>Cuba</td>\n",
       "      <td>South Korea</td>\n",
       "      <td>China</td>\n",
       "      <td>8.0</td>\n",
       "      <td>NaN</td>\n",
       "      <td>NaN</td>\n",
       "    </tr>\n",
       "    <tr>\n",
       "      <th>16</th>\n",
       "      <td>1981 Details</td>\n",
       "      <td>Japan</td>\n",
       "      <td>China</td>\n",
       "      <td>Japan</td>\n",
       "      <td>Soviet Union</td>\n",
       "      <td>United States</td>\n",
       "      <td>8.0</td>\n",
       "      <td>NaN</td>\n",
       "      <td>NaN</td>\n",
       "    </tr>\n",
       "    <tr>\n",
       "      <th>17</th>\n",
       "      <td>1985 Details</td>\n",
       "      <td>Japan</td>\n",
       "      <td>China</td>\n",
       "      <td>Cuba</td>\n",
       "      <td>Soviet Union</td>\n",
       "      <td>Japan</td>\n",
       "      <td>8.0</td>\n",
       "      <td>NaN</td>\n",
       "      <td>NaN</td>\n",
       "    </tr>\n",
       "    <tr>\n",
       "      <th>18</th>\n",
       "      <td>1989 Details</td>\n",
       "      <td>Japan</td>\n",
       "      <td>Cuba</td>\n",
       "      <td>Soviet Union</td>\n",
       "      <td>China</td>\n",
       "      <td>Japan</td>\n",
       "      <td>8.0</td>\n",
       "      <td>NaN</td>\n",
       "      <td>NaN</td>\n",
       "    </tr>\n",
       "    <tr>\n",
       "      <th>19</th>\n",
       "      <td>1991 Details</td>\n",
       "      <td>Japan</td>\n",
       "      <td>Cuba</td>\n",
       "      <td>China</td>\n",
       "      <td>Soviet Union</td>\n",
       "      <td>United States</td>\n",
       "      <td>12.0</td>\n",
       "      <td>NaN</td>\n",
       "      <td>NaN</td>\n",
       "    </tr>\n",
       "    <tr>\n",
       "      <th>20</th>\n",
       "      <td>1995 Details</td>\n",
       "      <td>Japan</td>\n",
       "      <td>Cuba</td>\n",
       "      <td>Brazil</td>\n",
       "      <td>China</td>\n",
       "      <td>Croatia</td>\n",
       "      <td>12.0</td>\n",
       "      <td>NaN</td>\n",
       "      <td>NaN</td>\n",
       "    </tr>\n",
       "    <tr>\n",
       "      <th>21</th>\n",
       "      <td>1999 Details</td>\n",
       "      <td>Japan</td>\n",
       "      <td>Cuba</td>\n",
       "      <td>Russia</td>\n",
       "      <td>Brazil</td>\n",
       "      <td>South Korea</td>\n",
       "      <td>12.0</td>\n",
       "      <td>NaN</td>\n",
       "      <td>NaN</td>\n",
       "    </tr>\n",
       "    <tr>\n",
       "      <th>22</th>\n",
       "      <td>2003 Details</td>\n",
       "      <td>Japan</td>\n",
       "      <td>China</td>\n",
       "      <td>Brazil</td>\n",
       "      <td>United States</td>\n",
       "      <td>Italy</td>\n",
       "      <td>12.0</td>\n",
       "      <td>NaN</td>\n",
       "      <td>NaN</td>\n",
       "    </tr>\n",
       "    <tr>\n",
       "      <th>23</th>\n",
       "      <td>2007 Details</td>\n",
       "      <td>Japan</td>\n",
       "      <td>Italy</td>\n",
       "      <td>Brazil</td>\n",
       "      <td>United States</td>\n",
       "      <td>Cuba</td>\n",
       "      <td>12.0</td>\n",
       "      <td>NaN</td>\n",
       "      <td>NaN</td>\n",
       "    </tr>\n",
       "    <tr>\n",
       "      <th>24</th>\n",
       "      <td>2011 Details</td>\n",
       "      <td>Japan</td>\n",
       "      <td>Italy</td>\n",
       "      <td>United States</td>\n",
       "      <td>China</td>\n",
       "      <td>Japan</td>\n",
       "      <td>12.0</td>\n",
       "      <td>NaN</td>\n",
       "      <td>NaN</td>\n",
       "    </tr>\n",
       "    <tr>\n",
       "      <th>25</th>\n",
       "      <td>2015 Details</td>\n",
       "      <td>Japan</td>\n",
       "      <td>China</td>\n",
       "      <td>Serbia</td>\n",
       "      <td>United States</td>\n",
       "      <td>Russia</td>\n",
       "      <td>12.0</td>\n",
       "      <td>NaN</td>\n",
       "      <td>NaN</td>\n",
       "    </tr>\n",
       "    <tr>\n",
       "      <th>26</th>\n",
       "      <td>2019 Details</td>\n",
       "      <td>Japan</td>\n",
       "      <td>China</td>\n",
       "      <td>United States</td>\n",
       "      <td>Russia</td>\n",
       "      <td>Brazil</td>\n",
       "      <td>12.0</td>\n",
       "      <td>NaN</td>\n",
       "      <td>NaN</td>\n",
       "    </tr>\n",
       "  </tbody>\n",
       "</table>\n",
       "</div>"
      ],
      "text/plain": [
       "            Year     Host    Unnamed: 2      Champions     Runners-up  \\\n",
       "0            NaN      NaN           NaN            NaN            NaN   \n",
       "1            NaN      NaN           NaN            NaN            NaN   \n",
       "2            NaN      NaN           NaN            NaN            NaN   \n",
       "3            NaN      NaN           NaN            NaN            NaN   \n",
       "4            NaN      NaN           NaN            NaN            NaN   \n",
       "5            NaN      NaN           NaN            NaN            NaN   \n",
       "6            NaN      NaN           NaN            NaN            NaN   \n",
       "7            NaN      NaN           NaN            NaN            NaN   \n",
       "8            NaN      NaN           NaN            NaN            NaN   \n",
       "9            NaN      NaN           NaN            NaN            NaN   \n",
       "10           NaN      NaN           NaN            NaN            NaN   \n",
       "11           NaN      NaN           NaN            NaN            NaN   \n",
       "12           NaN      NaN           NaN            NaN            NaN   \n",
       "13           NaN      NaN           NaN            NaN            NaN   \n",
       "14  1973 Details  Uruguay  Soviet Union          Japan    South Korea   \n",
       "15  1977 Details    Japan         Japan           Cuba    South Korea   \n",
       "16  1981 Details    Japan         China          Japan   Soviet Union   \n",
       "17  1985 Details    Japan         China           Cuba   Soviet Union   \n",
       "18  1989 Details    Japan          Cuba   Soviet Union          China   \n",
       "19  1991 Details    Japan          Cuba          China   Soviet Union   \n",
       "20  1995 Details    Japan          Cuba         Brazil          China   \n",
       "21  1999 Details    Japan          Cuba         Russia         Brazil   \n",
       "22  2003 Details    Japan         China         Brazil  United States   \n",
       "23  2007 Details    Japan         Italy         Brazil  United States   \n",
       "24  2011 Details    Japan         Italy  United States          China   \n",
       "25  2015 Details    Japan         China         Serbia  United States   \n",
       "26  2019 Details    Japan         China  United States         Russia   \n",
       "\n",
       "        3rd place  4th place  Unnamed: 7  Teams  \n",
       "0             NaN        NaN         NaN    NaN  \n",
       "1             NaN        NaN         NaN    NaN  \n",
       "2             NaN        NaN         NaN    NaN  \n",
       "3             NaN        NaN         NaN    NaN  \n",
       "4             NaN        NaN         NaN    NaN  \n",
       "5             NaN        NaN         NaN    NaN  \n",
       "6             NaN        NaN         NaN    NaN  \n",
       "7             NaN        NaN         NaN    NaN  \n",
       "8             NaN        NaN         NaN    NaN  \n",
       "9             NaN        NaN         NaN    NaN  \n",
       "10            NaN        NaN         NaN    NaN  \n",
       "11            NaN        NaN         NaN    NaN  \n",
       "12            NaN        NaN         NaN    NaN  \n",
       "13            NaN        NaN         NaN    NaN  \n",
       "14           Peru       10.0         NaN    NaN  \n",
       "15          China        8.0         NaN    NaN  \n",
       "16  United States        8.0         NaN    NaN  \n",
       "17          Japan        8.0         NaN    NaN  \n",
       "18          Japan        8.0         NaN    NaN  \n",
       "19  United States       12.0         NaN    NaN  \n",
       "20        Croatia       12.0         NaN    NaN  \n",
       "21    South Korea       12.0         NaN    NaN  \n",
       "22          Italy       12.0         NaN    NaN  \n",
       "23           Cuba       12.0         NaN    NaN  \n",
       "24          Japan       12.0         NaN    NaN  \n",
       "25         Russia       12.0         NaN    NaN  \n",
       "26         Brazil       12.0         NaN    NaN  "
      ]
     },
     "execution_count": 24,
     "metadata": {},
     "output_type": "execute_result"
    }
   ],
   "source": [
    "# Display the content of results_df\n",
    "results_df"
   ]
  },
  {
   "cell_type": "code",
   "execution_count": 25,
   "id": "ccad4c78",
   "metadata": {},
   "outputs": [
    {
     "data": {
      "text/html": [
       "<div>\n",
       "<style scoped>\n",
       "    .dataframe tbody tr th:only-of-type {\n",
       "        vertical-align: middle;\n",
       "    }\n",
       "\n",
       "    .dataframe tbody tr th {\n",
       "        vertical-align: top;\n",
       "    }\n",
       "\n",
       "    .dataframe thead th {\n",
       "        text-align: right;\n",
       "    }\n",
       "</style>\n",
       "<table border=\"1\" class=\"dataframe\">\n",
       "  <thead>\n",
       "    <tr style=\"text-align: right;\">\n",
       "      <th></th>\n",
       "      <th>Year</th>\n",
       "      <th>Host</th>\n",
       "      <th>Unnamed: 2</th>\n",
       "      <th>Champions</th>\n",
       "      <th>Runners-up</th>\n",
       "      <th>3rd place</th>\n",
       "      <th>4th place</th>\n",
       "      <th>Unnamed: 7</th>\n",
       "      <th>Teams</th>\n",
       "    </tr>\n",
       "  </thead>\n",
       "  <tbody>\n",
       "    <tr>\n",
       "      <th>14</th>\n",
       "      <td>1973 Details</td>\n",
       "      <td>Uruguay</td>\n",
       "      <td>Soviet Union</td>\n",
       "      <td>Japan</td>\n",
       "      <td>South Korea</td>\n",
       "      <td>Peru</td>\n",
       "      <td>10.0</td>\n",
       "      <td>NaN</td>\n",
       "      <td>NaN</td>\n",
       "    </tr>\n",
       "    <tr>\n",
       "      <th>15</th>\n",
       "      <td>1977 Details</td>\n",
       "      <td>Japan</td>\n",
       "      <td>Japan</td>\n",
       "      <td>Cuba</td>\n",
       "      <td>South Korea</td>\n",
       "      <td>China</td>\n",
       "      <td>8.0</td>\n",
       "      <td>NaN</td>\n",
       "      <td>NaN</td>\n",
       "    </tr>\n",
       "    <tr>\n",
       "      <th>16</th>\n",
       "      <td>1981 Details</td>\n",
       "      <td>Japan</td>\n",
       "      <td>China</td>\n",
       "      <td>Japan</td>\n",
       "      <td>Soviet Union</td>\n",
       "      <td>United States</td>\n",
       "      <td>8.0</td>\n",
       "      <td>NaN</td>\n",
       "      <td>NaN</td>\n",
       "    </tr>\n",
       "    <tr>\n",
       "      <th>17</th>\n",
       "      <td>1985 Details</td>\n",
       "      <td>Japan</td>\n",
       "      <td>China</td>\n",
       "      <td>Cuba</td>\n",
       "      <td>Soviet Union</td>\n",
       "      <td>Japan</td>\n",
       "      <td>8.0</td>\n",
       "      <td>NaN</td>\n",
       "      <td>NaN</td>\n",
       "    </tr>\n",
       "    <tr>\n",
       "      <th>18</th>\n",
       "      <td>1989 Details</td>\n",
       "      <td>Japan</td>\n",
       "      <td>Cuba</td>\n",
       "      <td>Soviet Union</td>\n",
       "      <td>China</td>\n",
       "      <td>Japan</td>\n",
       "      <td>8.0</td>\n",
       "      <td>NaN</td>\n",
       "      <td>NaN</td>\n",
       "    </tr>\n",
       "    <tr>\n",
       "      <th>19</th>\n",
       "      <td>1991 Details</td>\n",
       "      <td>Japan</td>\n",
       "      <td>Cuba</td>\n",
       "      <td>China</td>\n",
       "      <td>Soviet Union</td>\n",
       "      <td>United States</td>\n",
       "      <td>12.0</td>\n",
       "      <td>NaN</td>\n",
       "      <td>NaN</td>\n",
       "    </tr>\n",
       "    <tr>\n",
       "      <th>20</th>\n",
       "      <td>1995 Details</td>\n",
       "      <td>Japan</td>\n",
       "      <td>Cuba</td>\n",
       "      <td>Brazil</td>\n",
       "      <td>China</td>\n",
       "      <td>Croatia</td>\n",
       "      <td>12.0</td>\n",
       "      <td>NaN</td>\n",
       "      <td>NaN</td>\n",
       "    </tr>\n",
       "    <tr>\n",
       "      <th>21</th>\n",
       "      <td>1999 Details</td>\n",
       "      <td>Japan</td>\n",
       "      <td>Cuba</td>\n",
       "      <td>Russia</td>\n",
       "      <td>Brazil</td>\n",
       "      <td>South Korea</td>\n",
       "      <td>12.0</td>\n",
       "      <td>NaN</td>\n",
       "      <td>NaN</td>\n",
       "    </tr>\n",
       "    <tr>\n",
       "      <th>22</th>\n",
       "      <td>2003 Details</td>\n",
       "      <td>Japan</td>\n",
       "      <td>China</td>\n",
       "      <td>Brazil</td>\n",
       "      <td>United States</td>\n",
       "      <td>Italy</td>\n",
       "      <td>12.0</td>\n",
       "      <td>NaN</td>\n",
       "      <td>NaN</td>\n",
       "    </tr>\n",
       "    <tr>\n",
       "      <th>23</th>\n",
       "      <td>2007 Details</td>\n",
       "      <td>Japan</td>\n",
       "      <td>Italy</td>\n",
       "      <td>Brazil</td>\n",
       "      <td>United States</td>\n",
       "      <td>Cuba</td>\n",
       "      <td>12.0</td>\n",
       "      <td>NaN</td>\n",
       "      <td>NaN</td>\n",
       "    </tr>\n",
       "    <tr>\n",
       "      <th>24</th>\n",
       "      <td>2011 Details</td>\n",
       "      <td>Japan</td>\n",
       "      <td>Italy</td>\n",
       "      <td>United States</td>\n",
       "      <td>China</td>\n",
       "      <td>Japan</td>\n",
       "      <td>12.0</td>\n",
       "      <td>NaN</td>\n",
       "      <td>NaN</td>\n",
       "    </tr>\n",
       "    <tr>\n",
       "      <th>25</th>\n",
       "      <td>2015 Details</td>\n",
       "      <td>Japan</td>\n",
       "      <td>China</td>\n",
       "      <td>Serbia</td>\n",
       "      <td>United States</td>\n",
       "      <td>Russia</td>\n",
       "      <td>12.0</td>\n",
       "      <td>NaN</td>\n",
       "      <td>NaN</td>\n",
       "    </tr>\n",
       "    <tr>\n",
       "      <th>26</th>\n",
       "      <td>2019 Details</td>\n",
       "      <td>Japan</td>\n",
       "      <td>China</td>\n",
       "      <td>United States</td>\n",
       "      <td>Russia</td>\n",
       "      <td>Brazil</td>\n",
       "      <td>12.0</td>\n",
       "      <td>NaN</td>\n",
       "      <td>NaN</td>\n",
       "    </tr>\n",
       "  </tbody>\n",
       "</table>\n",
       "</div>"
      ],
      "text/plain": [
       "            Year     Host    Unnamed: 2      Champions     Runners-up  \\\n",
       "14  1973 Details  Uruguay  Soviet Union          Japan    South Korea   \n",
       "15  1977 Details    Japan         Japan           Cuba    South Korea   \n",
       "16  1981 Details    Japan         China          Japan   Soviet Union   \n",
       "17  1985 Details    Japan         China           Cuba   Soviet Union   \n",
       "18  1989 Details    Japan          Cuba   Soviet Union          China   \n",
       "19  1991 Details    Japan          Cuba          China   Soviet Union   \n",
       "20  1995 Details    Japan          Cuba         Brazil          China   \n",
       "21  1999 Details    Japan          Cuba         Russia         Brazil   \n",
       "22  2003 Details    Japan         China         Brazil  United States   \n",
       "23  2007 Details    Japan         Italy         Brazil  United States   \n",
       "24  2011 Details    Japan         Italy  United States          China   \n",
       "25  2015 Details    Japan         China         Serbia  United States   \n",
       "26  2019 Details    Japan         China  United States         Russia   \n",
       "\n",
       "        3rd place  4th place  Unnamed: 7  Teams  \n",
       "14           Peru       10.0         NaN    NaN  \n",
       "15          China        8.0         NaN    NaN  \n",
       "16  United States        8.0         NaN    NaN  \n",
       "17          Japan        8.0         NaN    NaN  \n",
       "18          Japan        8.0         NaN    NaN  \n",
       "19  United States       12.0         NaN    NaN  \n",
       "20        Croatia       12.0         NaN    NaN  \n",
       "21    South Korea       12.0         NaN    NaN  \n",
       "22          Italy       12.0         NaN    NaN  \n",
       "23           Cuba       12.0         NaN    NaN  \n",
       "24          Japan       12.0         NaN    NaN  \n",
       "25         Russia       12.0         NaN    NaN  \n",
       "26         Brazil       12.0         NaN    NaN  "
      ]
     },
     "execution_count": 25,
     "metadata": {},
     "output_type": "execute_result"
    }
   ],
   "source": [
    "## Let' clean the data:\n",
    "# Remove the columns that contain only null values\n",
    "clean_df = results_df.dropna(how='all')\n",
    "\n",
    "clean_df"
   ]
  },
  {
   "cell_type": "markdown",
   "id": "676d3a3f-e72a-45c3-bb65-90521254cc78",
   "metadata": {},
   "source": [
    "#### Jump to the `Self-Work Exercises #1` Section"
   ]
  },
  {
   "cell_type": "markdown",
   "id": "4897a6dc",
   "metadata": {},
   "source": [
    "# Read zip files "
   ]
  },
  {
   "cell_type": "code",
   "execution_count": 26,
   "id": "d7f13fb6",
   "metadata": {},
   "outputs": [],
   "source": [
    "unemployment_rates = pd.read_csv(\"./data/arbeitsmarktstatistik_erwerbslosenquoten_geschlecht.zip\", \n",
    "                        sep=\";\",\n",
    "                        encoding='latin-1')\n",
    "\n",
    "# Note: erwerbslosenquoten means unemployment rate\n",
    "# arbeitsmarktstatistik means Statistics about the work market"
   ]
  },
  {
   "cell_type": "code",
   "execution_count": 27,
   "id": "23b13dfa",
   "metadata": {},
   "outputs": [
    {
     "data": {
      "text/html": [
       "<div>\n",
       "<style scoped>\n",
       "    .dataframe tbody tr th:only-of-type {\n",
       "        vertical-align: middle;\n",
       "    }\n",
       "\n",
       "    .dataframe tbody tr th {\n",
       "        vertical-align: top;\n",
       "    }\n",
       "\n",
       "    .dataframe thead th {\n",
       "        text-align: right;\n",
       "    }\n",
       "</style>\n",
       "<table border=\"1\" class=\"dataframe\">\n",
       "  <thead>\n",
       "    <tr style=\"text-align: right;\">\n",
       "      <th></th>\n",
       "      <th></th>\n",
       "      <th></th>\n",
       "      <th></th>\n",
       "      <th></th>\n",
       "      <th></th>\n",
       "      <th>ILO-Arbeitsmarktstatistik</th>\n",
       "    </tr>\n",
       "  </thead>\n",
       "  <tbody>\n",
       "    <tr>\n",
       "      <th>Datum</th>\n",
       "      <th>Erwerbslosenquoten Männer insgesamt, in %</th>\n",
       "      <th>Erwerbslosenquoten Männer unter 25 Jahren, in %</th>\n",
       "      <th>Erwerbslosenquoten Männer ab 25 Jahren, in %</th>\n",
       "      <th>Erwerbslosenquoten Frauen insgesamt, in %</th>\n",
       "      <th>Erwerbslosenquoten Frauen unter 25 Jahren, in %</th>\n",
       "      <td>Erwerbslosenquoten Frauen ab 25 Jahren, in %</td>\n",
       "    </tr>\n",
       "    <tr>\n",
       "      <th>01/03/2007</th>\n",
       "      <th>9,5</th>\n",
       "      <th>12,7</th>\n",
       "      <th>9,1</th>\n",
       "      <th>8,8</th>\n",
       "      <th>8,7</th>\n",
       "      <td>8,8</td>\n",
       "    </tr>\n",
       "    <tr>\n",
       "      <th>01/04/2007</th>\n",
       "      <th>8,3</th>\n",
       "      <th>13,6</th>\n",
       "      <th>7,7</th>\n",
       "      <th>9,0</th>\n",
       "      <th>10,6</th>\n",
       "      <td>8,7</td>\n",
       "    </tr>\n",
       "    <tr>\n",
       "      <th>01/05/2007</th>\n",
       "      <th>8,5</th>\n",
       "      <th>11,7</th>\n",
       "      <th>8,1</th>\n",
       "      <th>8,5</th>\n",
       "      <th>10,4</th>\n",
       "      <td>8,3</td>\n",
       "    </tr>\n",
       "    <tr>\n",
       "      <th>01/06/2007</th>\n",
       "      <th>8,0</th>\n",
       "      <th>12,5</th>\n",
       "      <th>7,4</th>\n",
       "      <th>8,7</th>\n",
       "      <th>12,9</th>\n",
       "      <td>8,2</td>\n",
       "    </tr>\n",
       "    <tr>\n",
       "      <th>...</th>\n",
       "      <th>...</th>\n",
       "      <th>...</th>\n",
       "      <th>...</th>\n",
       "      <th>...</th>\n",
       "      <th>...</th>\n",
       "      <td>...</td>\n",
       "    </tr>\n",
       "    <tr>\n",
       "      <th>01/04/2023</th>\n",
       "      <th>3,2</th>\n",
       "      <th>7,5</th>\n",
       "      <th>2,7</th>\n",
       "      <th>2,9</th>\n",
       "      <th>5,0</th>\n",
       "      <td>2,6</td>\n",
       "    </tr>\n",
       "    <tr>\n",
       "      <th>01/05/2023</th>\n",
       "      <th>3,1</th>\n",
       "      <th>5,8</th>\n",
       "      <th>2,8</th>\n",
       "      <th>2,5</th>\n",
       "      <th>4,4</th>\n",
       "      <td>2,3</td>\n",
       "    </tr>\n",
       "    <tr>\n",
       "      <th>01/06/2023</th>\n",
       "      <th>3,2</th>\n",
       "      <th>7,1</th>\n",
       "      <th>2,8</th>\n",
       "      <th>2,8</th>\n",
       "      <th>5,9</th>\n",
       "      <td>2,4</td>\n",
       "    </tr>\n",
       "    <tr>\n",
       "      <th>01/07/2023</th>\n",
       "      <th>3,2</th>\n",
       "      <th>6,9</th>\n",
       "      <th>2,8</th>\n",
       "      <th>2,8</th>\n",
       "      <th>7,1</th>\n",
       "      <td>2,3</td>\n",
       "    </tr>\n",
       "    <tr>\n",
       "      <th>01/08/2023</th>\n",
       "      <th>3,5</th>\n",
       "      <th>7,9</th>\n",
       "      <th>3,0</th>\n",
       "      <th>2,9</th>\n",
       "      <th>5,9</th>\n",
       "      <td>2,6</td>\n",
       "    </tr>\n",
       "  </tbody>\n",
       "</table>\n",
       "<p>199 rows × 1 columns</p>\n",
       "</div>"
      ],
      "text/plain": [
       "                                                                                                                                                                                                                                                                ILO-Arbeitsmarktstatistik\n",
       "Datum      Erwerbslosenquoten Männer insgesamt, in % Erwerbslosenquoten Männer unter 25 Jahren, in % Erwerbslosenquoten Männer ab 25 Jahren, in % Erwerbslosenquoten Frauen insgesamt, in % Erwerbslosenquoten Frauen unter 25 Jahren, in %  Erwerbslosenquoten Frauen ab 25 Jahren, in %\n",
       "01/03/2007 9,5                                       12,7                                            9,1                                          8,8                                       8,7                                                                                       8,8\n",
       "01/04/2007 8,3                                       13,6                                            7,7                                          9,0                                       10,6                                                                                      8,7\n",
       "01/05/2007 8,5                                       11,7                                            8,1                                          8,5                                       10,4                                                                                      8,3\n",
       "01/06/2007 8,0                                       12,5                                            7,4                                          8,7                                       12,9                                                                                      8,2\n",
       "...                                                                                                                                                                                                                                                                                   ...\n",
       "01/04/2023 3,2                                       7,5                                             2,7                                          2,9                                       5,0                                                                                       2,6\n",
       "01/05/2023 3,1                                       5,8                                             2,8                                          2,5                                       4,4                                                                                       2,3\n",
       "01/06/2023 3,2                                       7,1                                             2,8                                          2,8                                       5,9                                                                                       2,4\n",
       "01/07/2023 3,2                                       6,9                                             2,8                                          2,8                                       7,1                                                                                       2,3\n",
       "01/08/2023 3,5                                       7,9                                             3,0                                          2,9                                       5,9                                                                                       2,6\n",
       "\n",
       "[199 rows x 1 columns]"
      ]
     },
     "execution_count": 27,
     "metadata": {},
     "output_type": "execute_result"
    }
   ],
   "source": [
    "# Display the data\n",
    "unemployment_rates"
   ]
  },
  {
   "cell_type": "markdown",
   "id": "e2d44384",
   "metadata": {},
   "source": [
    "<br><br>\n",
    "# Introduction to JSON"
   ]
  },
  {
   "cell_type": "code",
   "execution_count": 28,
   "id": "1dcdde31",
   "metadata": {},
   "outputs": [],
   "source": [
    "# Import the json package\n",
    "import json"
   ]
  },
  {
   "cell_type": "code",
   "execution_count": 29,
   "id": "2e6e6e1a",
   "metadata": {},
   "outputs": [],
   "source": [
    "# Creating student records\n",
    "student1 = {\n",
    "    \"name\": \"Alice\",\n",
    "    \"age\": 15,\n",
    "    \"grade\": 10,\n",
    "    \"subjects\": [\"Math\", \"Science\", \"History\"],\n",
    "    \"city\": \"Augsburg\"\n",
    "}\n",
    "\n",
    "student2 = {\n",
    "    \"name\": \"Bob\",\n",
    "    \"age\": 16,\n",
    "    \"grade\": 11,\n",
    "    \"subjects\": [\"English\", \"Physics\", \"Geography\"],\n",
    "    \"city\": \"Berlin\"\n",
    "}\n",
    "\n",
    "student3 = {\n",
    "    \"name\": \"Carol\",\n",
    "    \"age\": 14,\n",
    "    \"grade\": 9,\n",
    "    \"subjects\": [\"Art\", \"Music\", \"PE\"],\n",
    "    \"city\": \"Cottbus\"\n",
    "}"
   ]
  },
  {
   "cell_type": "code",
   "execution_count": 30,
   "id": "3851d582",
   "metadata": {},
   "outputs": [],
   "source": [
    "# Creating a list of student records\n",
    "student_database = [student1, student2, student3]"
   ]
  },
  {
   "cell_type": "code",
   "execution_count": 31,
   "id": "e9b6e521-aa00-435c-8f36-9be219dc9c4d",
   "metadata": {},
   "outputs": [
    {
     "data": {
      "text/plain": [
       "[{'name': 'Alice',\n",
       "  'age': 15,\n",
       "  'grade': 10,\n",
       "  'subjects': ['Math', 'Science', 'History'],\n",
       "  'city': 'Augsburg'},\n",
       " {'name': 'Bob',\n",
       "  'age': 16,\n",
       "  'grade': 11,\n",
       "  'subjects': ['English', 'Physics', 'Geography'],\n",
       "  'city': 'Berlin'},\n",
       " {'name': 'Carol',\n",
       "  'age': 14,\n",
       "  'grade': 9,\n",
       "  'subjects': ['Art', 'Music', 'PE'],\n",
       "  'city': 'Cottbus'}]"
      ]
     },
     "execution_count": 31,
     "metadata": {},
     "output_type": "execute_result"
    }
   ],
   "source": [
    "# Printing list data\n",
    "student_database\n",
    "\n",
    "#print(type(student_database))\n",
    "#print(\"Real List:\", student_database)"
   ]
  },
  {
   "cell_type": "code",
   "execution_count": 32,
   "id": "c8959507",
   "metadata": {},
   "outputs": [],
   "source": [
    "# Converting the student database to JSON format\n",
    "json_data = json.dumps(student_database, indent=4)"
   ]
  },
  {
   "cell_type": "markdown",
   "id": "8765a0c7-2782-4874-8de4-bd8227f6408f",
   "metadata": {},
   "source": [
    "With indent=4: Each level of the JSON structure will be indented by 4 spaces, making it easier to read and visually understand the nested structure."
   ]
  },
  {
   "cell_type": "code",
   "execution_count": 55,
   "id": "a48ec2b3",
   "metadata": {},
   "outputs": [
    {
     "name": "stdout",
     "output_type": "stream",
     "text": [
      "[\n",
      "    {\n",
      "        \"name\": \"Alice\",\n",
      "        \"age\": 15,\n",
      "        \"grade\": 10,\n",
      "        \"subjects\": [\n",
      "            \"Math\",\n",
      "            \"Science\",\n",
      "            \"History\"\n",
      "        ],\n",
      "        \"city\": \"Augsburg\"\n",
      "    },\n",
      "    {\n",
      "        \"name\": \"Bob\",\n",
      "        \"age\": 16,\n",
      "        \"grade\": 11,\n",
      "        \"subjects\": [\n",
      "            \"English\",\n",
      "            \"Physics\",\n",
      "            \"Geography\"\n",
      "        ],\n",
      "        \"city\": \"Berlin\"\n",
      "    },\n",
      "    {\n",
      "        \"name\": \"Carol\",\n",
      "        \"age\": 14,\n",
      "        \"grade\": 9,\n",
      "        \"subjects\": [\n",
      "            \"Art\",\n",
      "            \"Music\",\n",
      "            \"PE\"\n",
      "        ],\n",
      "        \"city\": \"Cottbus\"\n",
      "    }\n",
      "]\n"
     ]
    }
   ],
   "source": [
    "# Printing the JSON data\n",
    "print(json_data)\n",
    "\n",
    "# print(type(json_data))\n",
    "# print(\"Json List:\", json_data)"
   ]
  },
  {
   "cell_type": "markdown",
   "id": "2c9ecb0b-25f3-465f-9d07-69f6a8bb1149",
   "metadata": {},
   "source": [
    "### Read a json file\n",
    "\n",
    "First, copy and paste the `animals.json` file into the `data` folder of your working directory"
   ]
  },
  {
   "cell_type": "markdown",
   "id": "635549cf",
   "metadata": {},
   "source": [
    "### Load the file"
   ]
  },
  {
   "cell_type": "code",
   "execution_count": 34,
   "id": "48a0bccf",
   "metadata": {},
   "outputs": [
    {
     "name": "stdout",
     "output_type": "stream",
     "text": [
      "[{'name': 'Ace', 'animal': 'Alpaca', 'tricks': ['spit'], 'demographics': {'sex': 'male', 'age': 2}, 'owner': 'Alice', 'city': 'Augsburg'}, {'name': 'Biscuit', 'animal': 'Beagle', 'tricks': ['sit', 'hunt'], 'demographics': {'sex': 'female', 'age': 1}, 'owner': 'Bob', 'city': 'Berlin'}, {'name': 'Coco', 'animal': 'Chinchilla', 'tricks': ['explore', 'climb'], 'demographics': {'sex': 'male', 'age': 5}, 'owner': 'Carol', 'city': 'Cottbus'}]\n"
     ]
    }
   ],
   "source": [
    "## We first load the file\n",
    "with open(\"./data/animals.json\") as f:\n",
    "    d = json.load(f)\n",
    "\n",
    "print(d)"
   ]
  },
  {
   "cell_type": "markdown",
   "id": "e8dfabe5",
   "metadata": {},
   "source": [
    "### Normalise the loaded data"
   ]
  },
  {
   "cell_type": "code",
   "execution_count": 35,
   "id": "54559a99",
   "metadata": {},
   "outputs": [],
   "source": [
    "# To convert each element in \"demographics\" section into new columns,\n",
    "# We prefer to use : pd.json_nomalize\n",
    "animals_v1 = pd.json_normalize(d)"
   ]
  },
  {
   "cell_type": "code",
   "execution_count": 36,
   "id": "b9d60ca6",
   "metadata": {
    "scrolled": true
   },
   "outputs": [
    {
     "data": {
      "text/html": [
       "<div>\n",
       "<style scoped>\n",
       "    .dataframe tbody tr th:only-of-type {\n",
       "        vertical-align: middle;\n",
       "    }\n",
       "\n",
       "    .dataframe tbody tr th {\n",
       "        vertical-align: top;\n",
       "    }\n",
       "\n",
       "    .dataframe thead th {\n",
       "        text-align: right;\n",
       "    }\n",
       "</style>\n",
       "<table border=\"1\" class=\"dataframe\">\n",
       "  <thead>\n",
       "    <tr style=\"text-align: right;\">\n",
       "      <th></th>\n",
       "      <th>name</th>\n",
       "      <th>animal</th>\n",
       "      <th>tricks</th>\n",
       "      <th>owner</th>\n",
       "      <th>city</th>\n",
       "      <th>demographics.sex</th>\n",
       "      <th>demographics.age</th>\n",
       "    </tr>\n",
       "  </thead>\n",
       "  <tbody>\n",
       "    <tr>\n",
       "      <th>0</th>\n",
       "      <td>Ace</td>\n",
       "      <td>Alpaca</td>\n",
       "      <td>[spit]</td>\n",
       "      <td>Alice</td>\n",
       "      <td>Augsburg</td>\n",
       "      <td>male</td>\n",
       "      <td>2</td>\n",
       "    </tr>\n",
       "    <tr>\n",
       "      <th>1</th>\n",
       "      <td>Biscuit</td>\n",
       "      <td>Beagle</td>\n",
       "      <td>[sit, hunt]</td>\n",
       "      <td>Bob</td>\n",
       "      <td>Berlin</td>\n",
       "      <td>female</td>\n",
       "      <td>1</td>\n",
       "    </tr>\n",
       "    <tr>\n",
       "      <th>2</th>\n",
       "      <td>Coco</td>\n",
       "      <td>Chinchilla</td>\n",
       "      <td>[explore, climb]</td>\n",
       "      <td>Carol</td>\n",
       "      <td>Cottbus</td>\n",
       "      <td>male</td>\n",
       "      <td>5</td>\n",
       "    </tr>\n",
       "  </tbody>\n",
       "</table>\n",
       "</div>"
      ],
      "text/plain": [
       "      name      animal            tricks  owner      city demographics.sex  \\\n",
       "0      Ace      Alpaca            [spit]  Alice  Augsburg             male   \n",
       "1  Biscuit      Beagle       [sit, hunt]    Bob    Berlin           female   \n",
       "2     Coco  Chinchilla  [explore, climb]  Carol   Cottbus             male   \n",
       "\n",
       "   demographics.age  \n",
       "0                 2  \n",
       "1                 1  \n",
       "2                 5  "
      ]
     },
     "execution_count": 36,
     "metadata": {},
     "output_type": "execute_result"
    }
   ],
   "source": [
    "# Display animals_v1\n",
    "animals_v1"
   ]
  },
  {
   "cell_type": "markdown",
   "id": "94dd5f3d",
   "metadata": {},
   "source": [
    "### Read a json file as a dataframe directly"
   ]
  },
  {
   "cell_type": "code",
   "execution_count": 37,
   "id": "32a5a977",
   "metadata": {},
   "outputs": [],
   "source": [
    "animals_v2 = pd.read_json(\"./data/animals.json\")"
   ]
  },
  {
   "cell_type": "code",
   "execution_count": 38,
   "id": "679b1a24",
   "metadata": {
    "scrolled": true
   },
   "outputs": [
    {
     "data": {
      "text/html": [
       "<div>\n",
       "<style scoped>\n",
       "    .dataframe tbody tr th:only-of-type {\n",
       "        vertical-align: middle;\n",
       "    }\n",
       "\n",
       "    .dataframe tbody tr th {\n",
       "        vertical-align: top;\n",
       "    }\n",
       "\n",
       "    .dataframe thead th {\n",
       "        text-align: right;\n",
       "    }\n",
       "</style>\n",
       "<table border=\"1\" class=\"dataframe\">\n",
       "  <thead>\n",
       "    <tr style=\"text-align: right;\">\n",
       "      <th></th>\n",
       "      <th>name</th>\n",
       "      <th>animal</th>\n",
       "      <th>tricks</th>\n",
       "      <th>demographics</th>\n",
       "      <th>owner</th>\n",
       "      <th>city</th>\n",
       "    </tr>\n",
       "  </thead>\n",
       "  <tbody>\n",
       "    <tr>\n",
       "      <th>0</th>\n",
       "      <td>Ace</td>\n",
       "      <td>Alpaca</td>\n",
       "      <td>[spit]</td>\n",
       "      <td>{'sex': 'male', 'age': 2}</td>\n",
       "      <td>Alice</td>\n",
       "      <td>Augsburg</td>\n",
       "    </tr>\n",
       "    <tr>\n",
       "      <th>1</th>\n",
       "      <td>Biscuit</td>\n",
       "      <td>Beagle</td>\n",
       "      <td>[sit, hunt]</td>\n",
       "      <td>{'sex': 'female', 'age': 1}</td>\n",
       "      <td>Bob</td>\n",
       "      <td>Berlin</td>\n",
       "    </tr>\n",
       "    <tr>\n",
       "      <th>2</th>\n",
       "      <td>Coco</td>\n",
       "      <td>Chinchilla</td>\n",
       "      <td>[explore, climb]</td>\n",
       "      <td>{'sex': 'male', 'age': 5}</td>\n",
       "      <td>Carol</td>\n",
       "      <td>Cottbus</td>\n",
       "    </tr>\n",
       "  </tbody>\n",
       "</table>\n",
       "</div>"
      ],
      "text/plain": [
       "      name      animal            tricks                 demographics  owner  \\\n",
       "0      Ace      Alpaca            [spit]    {'sex': 'male', 'age': 2}  Alice   \n",
       "1  Biscuit      Beagle       [sit, hunt]  {'sex': 'female', 'age': 1}    Bob   \n",
       "2     Coco  Chinchilla  [explore, climb]    {'sex': 'male', 'age': 5}  Carol   \n",
       "\n",
       "       city  \n",
       "0  Augsburg  \n",
       "1    Berlin  \n",
       "2   Cottbus  "
      ]
     },
     "execution_count": 38,
     "metadata": {},
     "output_type": "execute_result"
    }
   ],
   "source": [
    "# Display animals_v2\n",
    "animals_v2"
   ]
  },
  {
   "cell_type": "markdown",
   "id": "75098733-0de6-486a-87cf-057e42a99833",
   "metadata": {},
   "source": [
    "### Self-work exercises #1: 4 points\n",
    "\n",
    "#### What problems do you see with `clean_df`? Can you clean the DataFrame to obtain a clean one?\n",
    "\n",
    "Write a series of code commands in order to clean the DataFrame:\n",
    "- create a deep copy of the DataFrame `clean_df` and assign it to the variable `df`\n",
    "- get the list of useful columns, without copy-pasting them (use code!)\n",
    "- drop the columns that contain missing values\n",
    "- rename the columns so that each column corresponds to the correct header\n",
    "- transform the `Year` column to remove `Details`, which we don't need\n",
    "\n",
    "*Tip: this might be useful https://pandas.pydata.org/docs/reference/api/pandas.DataFrame.dropna.html*"
   ]
  },
  {
   "cell_type": "code",
   "execution_count": 67,
   "id": "1b181d44",
   "metadata": {},
   "outputs": [
    {
     "data": {
      "text/html": [
       "<div>\n",
       "<style scoped>\n",
       "    .dataframe tbody tr th:only-of-type {\n",
       "        vertical-align: middle;\n",
       "    }\n",
       "\n",
       "    .dataframe tbody tr th {\n",
       "        vertical-align: top;\n",
       "    }\n",
       "\n",
       "    .dataframe thead th {\n",
       "        text-align: right;\n",
       "    }\n",
       "</style>\n",
       "<table border=\"1\" class=\"dataframe\">\n",
       "  <thead>\n",
       "    <tr style=\"text-align: right;\">\n",
       "      <th></th>\n",
       "      <th>Year</th>\n",
       "      <th>Host</th>\n",
       "      <th>Champions</th>\n",
       "      <th>Runners-up</th>\n",
       "      <th>3rd place</th>\n",
       "      <th>4th place</th>\n",
       "      <th>Teams</th>\n",
       "    </tr>\n",
       "  </thead>\n",
       "  <tbody>\n",
       "    <tr>\n",
       "      <th>14</th>\n",
       "      <td>1973-01-01</td>\n",
       "      <td>Uruguay</td>\n",
       "      <td>Soviet Union</td>\n",
       "      <td>Japan</td>\n",
       "      <td>South Korea</td>\n",
       "      <td>Peru</td>\n",
       "      <td>10.0</td>\n",
       "    </tr>\n",
       "    <tr>\n",
       "      <th>15</th>\n",
       "      <td>1977-01-01</td>\n",
       "      <td>Japan</td>\n",
       "      <td>Japan</td>\n",
       "      <td>Cuba</td>\n",
       "      <td>South Korea</td>\n",
       "      <td>China</td>\n",
       "      <td>8.0</td>\n",
       "    </tr>\n",
       "    <tr>\n",
       "      <th>16</th>\n",
       "      <td>1981-01-01</td>\n",
       "      <td>Japan</td>\n",
       "      <td>China</td>\n",
       "      <td>Japan</td>\n",
       "      <td>Soviet Union</td>\n",
       "      <td>United States</td>\n",
       "      <td>8.0</td>\n",
       "    </tr>\n",
       "    <tr>\n",
       "      <th>17</th>\n",
       "      <td>1985-01-01</td>\n",
       "      <td>Japan</td>\n",
       "      <td>China</td>\n",
       "      <td>Cuba</td>\n",
       "      <td>Soviet Union</td>\n",
       "      <td>Japan</td>\n",
       "      <td>8.0</td>\n",
       "    </tr>\n",
       "    <tr>\n",
       "      <th>18</th>\n",
       "      <td>1989-01-01</td>\n",
       "      <td>Japan</td>\n",
       "      <td>Cuba</td>\n",
       "      <td>Soviet Union</td>\n",
       "      <td>China</td>\n",
       "      <td>Japan</td>\n",
       "      <td>8.0</td>\n",
       "    </tr>\n",
       "    <tr>\n",
       "      <th>19</th>\n",
       "      <td>1991-01-01</td>\n",
       "      <td>Japan</td>\n",
       "      <td>Cuba</td>\n",
       "      <td>China</td>\n",
       "      <td>Soviet Union</td>\n",
       "      <td>United States</td>\n",
       "      <td>12.0</td>\n",
       "    </tr>\n",
       "    <tr>\n",
       "      <th>20</th>\n",
       "      <td>1995-01-01</td>\n",
       "      <td>Japan</td>\n",
       "      <td>Cuba</td>\n",
       "      <td>Brazil</td>\n",
       "      <td>China</td>\n",
       "      <td>Croatia</td>\n",
       "      <td>12.0</td>\n",
       "    </tr>\n",
       "    <tr>\n",
       "      <th>21</th>\n",
       "      <td>1999-01-01</td>\n",
       "      <td>Japan</td>\n",
       "      <td>Cuba</td>\n",
       "      <td>Russia</td>\n",
       "      <td>Brazil</td>\n",
       "      <td>South Korea</td>\n",
       "      <td>12.0</td>\n",
       "    </tr>\n",
       "    <tr>\n",
       "      <th>22</th>\n",
       "      <td>2003-01-01</td>\n",
       "      <td>Japan</td>\n",
       "      <td>China</td>\n",
       "      <td>Brazil</td>\n",
       "      <td>United States</td>\n",
       "      <td>Italy</td>\n",
       "      <td>12.0</td>\n",
       "    </tr>\n",
       "    <tr>\n",
       "      <th>23</th>\n",
       "      <td>2007-01-01</td>\n",
       "      <td>Japan</td>\n",
       "      <td>Italy</td>\n",
       "      <td>Brazil</td>\n",
       "      <td>United States</td>\n",
       "      <td>Cuba</td>\n",
       "      <td>12.0</td>\n",
       "    </tr>\n",
       "    <tr>\n",
       "      <th>24</th>\n",
       "      <td>2011-01-01</td>\n",
       "      <td>Japan</td>\n",
       "      <td>Italy</td>\n",
       "      <td>United States</td>\n",
       "      <td>China</td>\n",
       "      <td>Japan</td>\n",
       "      <td>12.0</td>\n",
       "    </tr>\n",
       "    <tr>\n",
       "      <th>25</th>\n",
       "      <td>2015-01-01</td>\n",
       "      <td>Japan</td>\n",
       "      <td>China</td>\n",
       "      <td>Serbia</td>\n",
       "      <td>United States</td>\n",
       "      <td>Russia</td>\n",
       "      <td>12.0</td>\n",
       "    </tr>\n",
       "    <tr>\n",
       "      <th>26</th>\n",
       "      <td>2019-01-01</td>\n",
       "      <td>Japan</td>\n",
       "      <td>China</td>\n",
       "      <td>United States</td>\n",
       "      <td>Russia</td>\n",
       "      <td>Brazil</td>\n",
       "      <td>12.0</td>\n",
       "    </tr>\n",
       "  </tbody>\n",
       "</table>\n",
       "</div>"
      ],
      "text/plain": [
       "         Year     Host     Champions     Runners-up      3rd place  \\\n",
       "14 1973-01-01  Uruguay  Soviet Union          Japan    South Korea   \n",
       "15 1977-01-01    Japan         Japan           Cuba    South Korea   \n",
       "16 1981-01-01    Japan         China          Japan   Soviet Union   \n",
       "17 1985-01-01    Japan         China           Cuba   Soviet Union   \n",
       "18 1989-01-01    Japan          Cuba   Soviet Union          China   \n",
       "19 1991-01-01    Japan          Cuba          China   Soviet Union   \n",
       "20 1995-01-01    Japan          Cuba         Brazil          China   \n",
       "21 1999-01-01    Japan          Cuba         Russia         Brazil   \n",
       "22 2003-01-01    Japan         China         Brazil  United States   \n",
       "23 2007-01-01    Japan         Italy         Brazil  United States   \n",
       "24 2011-01-01    Japan         Italy  United States          China   \n",
       "25 2015-01-01    Japan         China         Serbia  United States   \n",
       "26 2019-01-01    Japan         China  United States         Russia   \n",
       "\n",
       "        4th place  Teams  \n",
       "14           Peru   10.0  \n",
       "15          China    8.0  \n",
       "16  United States    8.0  \n",
       "17          Japan    8.0  \n",
       "18          Japan    8.0  \n",
       "19  United States   12.0  \n",
       "20        Croatia   12.0  \n",
       "21    South Korea   12.0  \n",
       "22          Italy   12.0  \n",
       "23           Cuba   12.0  \n",
       "24          Japan   12.0  \n",
       "25         Russia   12.0  \n",
       "26         Brazil   12.0  "
      ]
     },
     "execution_count": 67,
     "metadata": {},
     "output_type": "execute_result"
    }
   ],
   "source": [
    "# Create a copy of the dataframe as df\n",
    "df = clean_df.copy()\n",
    "\n",
    "# Get the list of columns, and remove the weird \"Unnamed\" ones\n",
    "columns_list = [c for c in df.columns if not(c.startswith(\"Unnamed\"))]\n",
    "\n",
    "# Remove the columns that contain only null values\n",
    "df.dropna(axis = \"columns\", how = \"all\", inplace = True )\n",
    "\n",
    "# Give the right column names to the dataframe\n",
    "df.columns = columns_list\n",
    "\n",
    "# Remove \"Details\" from the \"Year\" column\n",
    "df[\"Year\"] = df[\"Year\"].str.split(\" \").str[0]\n",
    "\n",
    "# Change format of year to date\n",
    "df[\"Year\"] = pd.to_datetime(df[\"Year\"], format = \"%Y\")\n",
    "\n",
    "# Display the content of the dataframe\n",
    "df"
   ]
  },
  {
   "cell_type": "markdown",
   "id": "dfb83778",
   "metadata": {},
   "source": [
    "### Self-work exercises #2: 6 points\n",
    "\n",
    "#### Use the python commands to answer the following questions"
   ]
  },
  {
   "cell_type": "markdown",
   "id": "3f7e2173-0196-464f-b12a-0a1965bb2aaa",
   "metadata": {},
   "source": [
    "**1. What type is the resulting data (the loaded json: d) ?**"
   ]
  },
  {
   "cell_type": "code",
   "execution_count": 88,
   "id": "260ac9f1",
   "metadata": {},
   "outputs": [
    {
     "name": "stdout",
     "output_type": "stream",
     "text": [
      "Type of the resulting data:\n"
     ]
    },
    {
     "data": {
      "text/plain": [
       "list"
      ]
     },
     "execution_count": 88,
     "metadata": {},
     "output_type": "execute_result"
    }
   ],
   "source": [
    "print(\"Type of the resulting data:\")\n",
    "type(d)"
   ]
  },
  {
   "cell_type": "code",
   "execution_count": 101,
   "id": "167152ac-bd86-4310-a813-2207c5e7516b",
   "metadata": {},
   "outputs": [
    {
     "name": "stdout",
     "output_type": "stream",
     "text": [
      "Type of the resulting data: list\n"
     ]
    }
   ],
   "source": [
    "print(\"Type of the resulting data:\", type(d).__name__)"
   ]
  },
  {
   "cell_type": "markdown",
   "id": "edd259ec-2dee-44ab-951e-aebd169a7bca",
   "metadata": {},
   "source": [
    "**2. How many items does the resulting data have (the loaded json: d) ?**"
   ]
  },
  {
   "cell_type": "code",
   "execution_count": 102,
   "id": "0ad895d8",
   "metadata": {},
   "outputs": [
    {
     "name": "stdout",
     "output_type": "stream",
     "text": [
      "Number of items in the list: 3\n"
     ]
    }
   ],
   "source": [
    "print(\"Number of items in the list:\", len(d))"
   ]
  },
  {
   "cell_type": "markdown",
   "id": "11183a6f-63a9-4378-aec5-164a091781a9",
   "metadata": {},
   "source": [
    "**3. What is the type of each item in the resulting data (the loaded json: d) ?**"
   ]
  },
  {
   "cell_type": "code",
   "execution_count": 103,
   "id": "f3812b3c-13b0-493d-9537-89fdf7d81c01",
   "metadata": {
    "scrolled": true
   },
   "outputs": [
    {
     "name": "stdout",
     "output_type": "stream",
     "text": [
      "Item 0: dict\n",
      "Item 1: dict\n",
      "Item 2: dict\n"
     ]
    }
   ],
   "source": [
    "for i, item in enumerate(d):\n",
    "    print(f\"Item {i}: {type(item).__name__}\")\n",
    "\n",
    "# enumerate(d): Adds a counter to the iterable d and returns it as an enumerate object. \n",
    "# This means it provides both the index and the item during iteration.\n",
    "\n",
    "# Loop: It loops through each item in the list d, with i as the index and item as the current element from d.\n",
    "\n",
    "# Print statement: For each item in the list, it prints the index i and the type of the item, \n",
    "# but only the name of the type (type(item).__name__), making the output more readable."
   ]
  },
  {
   "cell_type": "markdown",
   "id": "0da87931-2591-4fa6-9a76-ba74fe1d5c01",
   "metadata": {},
   "source": [
    "**4. How many tricks does Coco know ? Use the code to output it**"
   ]
  },
  {
   "cell_type": "code",
   "execution_count": 110,
   "id": "15a7320b-e8a5-49e4-a2f8-2a3b7634fe90",
   "metadata": {},
   "outputs": [
    {
     "name": "stdout",
     "output_type": "stream",
     "text": [
      "Number of tricks Coco knows: 2\n"
     ]
    }
   ],
   "source": [
    "# Find the element for Coco and count her tricks\n",
    "for item in d:\n",
    "    if item.get(\"name\") == \"Coco\" and \"tricks\" in item:\n",
    "        print(\"Number of tricks Coco knows:\", len(item[\"tricks\"]))"
   ]
  },
  {
   "cell_type": "markdown",
   "id": "b7316743-0ac4-4e66-a19f-1b9a1c6c26fa",
   "metadata": {},
   "source": [
    "**5. How can you change the column name to be demographics_sex and demographics_age instead of demographics.sex and demographics.age?**\n",
    "\n",
    "Save it into animals_v3 variable\n",
    "\n",
    "*Tip: research online the pandas.json_normalize method*"
   ]
  },
  {
   "cell_type": "code",
   "execution_count": 106,
   "id": "581b4acf",
   "metadata": {},
   "outputs": [
    {
     "data": {
      "text/html": [
       "<div>\n",
       "<style scoped>\n",
       "    .dataframe tbody tr th:only-of-type {\n",
       "        vertical-align: middle;\n",
       "    }\n",
       "\n",
       "    .dataframe tbody tr th {\n",
       "        vertical-align: top;\n",
       "    }\n",
       "\n",
       "    .dataframe thead th {\n",
       "        text-align: right;\n",
       "    }\n",
       "</style>\n",
       "<table border=\"1\" class=\"dataframe\">\n",
       "  <thead>\n",
       "    <tr style=\"text-align: right;\">\n",
       "      <th></th>\n",
       "      <th>name</th>\n",
       "      <th>animal</th>\n",
       "      <th>tricks</th>\n",
       "      <th>owner</th>\n",
       "      <th>city</th>\n",
       "      <th>demographics_sex</th>\n",
       "      <th>demographics_age</th>\n",
       "    </tr>\n",
       "  </thead>\n",
       "  <tbody>\n",
       "    <tr>\n",
       "      <th>0</th>\n",
       "      <td>Ace</td>\n",
       "      <td>Alpaca</td>\n",
       "      <td>[spit]</td>\n",
       "      <td>Alice</td>\n",
       "      <td>Augsburg</td>\n",
       "      <td>male</td>\n",
       "      <td>2</td>\n",
       "    </tr>\n",
       "    <tr>\n",
       "      <th>1</th>\n",
       "      <td>Biscuit</td>\n",
       "      <td>Beagle</td>\n",
       "      <td>[sit, hunt]</td>\n",
       "      <td>Bob</td>\n",
       "      <td>Berlin</td>\n",
       "      <td>female</td>\n",
       "      <td>1</td>\n",
       "    </tr>\n",
       "    <tr>\n",
       "      <th>2</th>\n",
       "      <td>Coco</td>\n",
       "      <td>Chinchilla</td>\n",
       "      <td>[explore, climb]</td>\n",
       "      <td>Carol</td>\n",
       "      <td>Cottbus</td>\n",
       "      <td>male</td>\n",
       "      <td>5</td>\n",
       "    </tr>\n",
       "  </tbody>\n",
       "</table>\n",
       "</div>"
      ],
      "text/plain": [
       "      name      animal            tricks  owner      city demographics_sex  \\\n",
       "0      Ace      Alpaca            [spit]  Alice  Augsburg             male   \n",
       "1  Biscuit      Beagle       [sit, hunt]    Bob    Berlin           female   \n",
       "2     Coco  Chinchilla  [explore, climb]  Carol   Cottbus             male   \n",
       "\n",
       "   demographics_age  \n",
       "0                 2  \n",
       "1                 1  \n",
       "2                 5  "
      ]
     },
     "execution_count": 106,
     "metadata": {},
     "output_type": "execute_result"
    }
   ],
   "source": [
    "animals_v3 = pd.json_normalize(d, sep=\"_\")\n",
    "\n",
    "animals_v3"
   ]
  },
  {
   "cell_type": "markdown",
   "id": "8c93821b-9e19-4b34-82f3-255195e1e2ad",
   "metadata": {},
   "source": [
    "**6. Following the examples of students_database, create the teachers_database**\n",
    "\n",
    "Hints:\n",
    "- the teacher is very wise, therefore they are at least 100 years old!\n",
    "- Selma's city starts with S and is located in Germany\n",
    "- The subject is the course you are taking"
   ]
  },
  {
   "cell_type": "code",
   "execution_count": 107,
   "id": "0f3499d4",
   "metadata": {},
   "outputs": [],
   "source": [
    "### Complete the following program:\n",
    "\n",
    "from io import StringIO\n",
    "# StringIO is like an in-memory file object. \n",
    "# It lets you treat strings as file-like objects, making it easier to handle and process text data. \n",
    "\n",
    "teacher = {\n",
    "    \"name\": \"Fynn\",\n",
    "    \"age\": 25,\n",
    "    \"grade\": 1.3,\n",
    "    \"subjects\": [\"Data Scraping\"],\n",
    "    \"city\": \"Krefeld\"\n",
    "}\n",
    "\n",
    "teacher_database = [teacher]\n",
    "teacher_data = json.dumps(teacher_database, indent=4)\n",
    "teachers_df = pd.read_json(StringIO(teacher_data))\n",
    "\n",
    "# Without StringIO(...) -> Error Message\n",
    "    # /var/folders/tg/kjfbxsgs3wbc65334wg_zr_80000gn/T/ipykernel_12411/385830941.py:13: \n",
    "    # FutureWarning: Passing literal json to 'read_json' is deprecated and will be removed in a future version. \n",
    "    # To read from a literal string, wrap it in a 'StringIO' object.\n",
    "\n",
    "# By using StringIO, you can simulate reading a file, which is what pd.read_json expects. \n",
    "# So, instead of passing the JSON string directly, you wrap it in StringIO to trick pandas into thinking it’s reading from an actual file."
   ]
  },
  {
   "cell_type": "code",
   "execution_count": 108,
   "id": "967d8418-b1ea-4ced-b0eb-92d727342993",
   "metadata": {},
   "outputs": [
    {
     "data": {
      "text/html": [
       "<div>\n",
       "<style scoped>\n",
       "    .dataframe tbody tr th:only-of-type {\n",
       "        vertical-align: middle;\n",
       "    }\n",
       "\n",
       "    .dataframe tbody tr th {\n",
       "        vertical-align: top;\n",
       "    }\n",
       "\n",
       "    .dataframe thead th {\n",
       "        text-align: right;\n",
       "    }\n",
       "</style>\n",
       "<table border=\"1\" class=\"dataframe\">\n",
       "  <thead>\n",
       "    <tr style=\"text-align: right;\">\n",
       "      <th></th>\n",
       "      <th>name</th>\n",
       "      <th>age</th>\n",
       "      <th>grade</th>\n",
       "      <th>subjects</th>\n",
       "      <th>city</th>\n",
       "    </tr>\n",
       "  </thead>\n",
       "  <tbody>\n",
       "    <tr>\n",
       "      <th>0</th>\n",
       "      <td>Fynn</td>\n",
       "      <td>25</td>\n",
       "      <td>1.3</td>\n",
       "      <td>[Data Scraping]</td>\n",
       "      <td>Krefeld</td>\n",
       "    </tr>\n",
       "  </tbody>\n",
       "</table>\n",
       "</div>"
      ],
      "text/plain": [
       "   name  age  grade         subjects     city\n",
       "0  Fynn   25    1.3  [Data Scraping]  Krefeld"
      ]
     },
     "execution_count": 108,
     "metadata": {},
     "output_type": "execute_result"
    }
   ],
   "source": [
    "teachers_df"
   ]
  },
  {
   "cell_type": "code",
   "execution_count": null,
   "id": "36235479-3cf0-4258-aa07-128912f138b3",
   "metadata": {},
   "outputs": [],
   "source": []
  }
 ],
 "metadata": {
  "kernelspec": {
   "display_name": "Python 3 (ipykernel)",
   "language": "python",
   "name": "python3"
  },
  "language_info": {
   "codemirror_mode": {
    "name": "ipython",
    "version": 3
   },
   "file_extension": ".py",
   "mimetype": "text/x-python",
   "name": "python",
   "nbconvert_exporter": "python",
   "pygments_lexer": "ipython3",
   "version": "3.9.20"
  }
 },
 "nbformat": 4,
 "nbformat_minor": 5
}

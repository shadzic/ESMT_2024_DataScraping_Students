{
 "cells": [
  {
   "cell_type": "markdown",
   "id": "65096cc5",
   "metadata": {},
   "source": [
    "# Working with Data from the Web"
   ]
  },
  {
   "cell_type": "markdown",
   "id": "71396e4f-a70c-4e1f-ac89-945d008d486f",
   "metadata": {},
   "source": [
    "## Grading instructions\n",
    "\n",
    "1. Launch VS Code and open your working-folder\n",
    "2. Create a `Session_02` folder, in which you create another folder called `data`\n",
    "3. Copy paste this notebook `02_Data_from_the_Web_lecture` from the lectures repo to the working-folder. \n",
    "4. Copy the json file `animals.json` and the zip file `arbeitsmarktstatistik_erwerbslosenquoten_geschlecht.zip` into the `working-folder/Session_02/data` directory.\n",
    "\n",
    "#### There are two `Self-work exercises` in this notebook\n",
    "1. During the course, do the self-work exercises\n",
    "2. Once finished, copy-Paste this notebook `02_Data_from_the_Web_lecture` into `ESMT_2024_DataScraping_Students` folder in your computer\n",
    "3. Commit and push your self-work in your branch before the deadline. **Push only the notebook, not the files!**\n",
    "\n",
    "#### Number of points: 10 (weights 10% in the final grade)\n",
    "- `Self-work exercises #1`: 4 points\n",
    "- `Self-work exercises #2`: 6 points\n",
    "\n",
    "\n",
    "\n",
    "#### Deadline: October 18th 08:59 am CET\n",
    "#### Any missed deadline without justification to the Administration will result in 0 points for this homework.\n",
    "#### If the Github branch is not correctly named using the indicated format **LASTNAME_firstname**, then a penalty of -2 points will be applied"
   ]
  },
  {
   "cell_type": "markdown",
   "id": "8344deb5-6e30-464e-8dfa-a9abe593dba2",
   "metadata": {},
   "source": [
    "## Course content\n",
    "\n",
    "* Introduction to APIs\n",
    "* Using request package to download files\n",
    "* Loading files and tables from URLs (wikipedia)\n",
    "* Working with zip files in Python\n",
    "* Introduction to JSON (read_json, json_normalise)"
   ]
  },
  {
   "cell_type": "markdown",
   "id": "05b40e70",
   "metadata": {},
   "source": [
    "# Introduction to API\n",
    "\n",
    "An API, short for Application Programming Interface, is a concept used to describe – essentially – a piece of intermediary software (the interface) that facilitates communication between 2 other pieces of software (the applications). \n",
    "\n",
    "This very broad term is frequently used for web-based systems, database systems, operating systems, or even computer hardware. \n",
    "\n",
    "In this chapter we will focus on web-based APIs."
   ]
  },
  {
   "cell_type": "markdown",
   "id": "71e04021",
   "metadata": {},
   "source": [
    "### What is a Web API?\n",
    "\n",
    "A Web API typically means some kind of special website or URL that we use as a channel to get data from some company or web based program. \n",
    "\n",
    "We can write a Python program to retrieve data from the API. Put very bluntly, an API is a website providing data that is easy for a machine (e.g. python code) to understand (as opposed to a prettier, HTML-rendered, user interface for humans)."
   ]
  },
  {
   "cell_type": "markdown",
   "id": "64435555",
   "metadata": {},
   "source": [
    "**Intro to API (duration: 3'24):**\n",
    "https://www.youtube.com/watch?v=s7wmiS2mSXY"
   ]
  },
  {
   "cell_type": "markdown",
   "id": "0fde923d",
   "metadata": {},
   "source": [
    "### Examples of Web APIs\n",
    "* Google Maps: get map coordinates for an address\n",
    "* Spotify: read and modify a playlist\n",
    "* GitHub: read statistics on your code repo\n",
    "* WeatherAPI: get weather data for specific location\n",
    "* Google Translate: translate texts directly from a Python script\n",
    "\n",
    "<br>"
   ]
  },
  {
   "cell_type": "markdown",
   "id": "afa1c8da",
   "metadata": {},
   "source": [
    "# Python Requests Library\n",
    "\n",
    "The Python requests library is a popular third-party library that simplifies the process of making HTTP requests and working with HTTP responses. \n",
    "\n",
    "It provides a high-level interface for sending HTTP requests to web servers and receiving their responses. \n",
    "\n",
    "This library is widely used for tasks like fetching data from APIs, sending data to servers, and interacting with web resources."
   ]
  },
  {
   "cell_type": "markdown",
   "id": "9fa216a0",
   "metadata": {},
   "source": [
    "    Installation: You can install the requests library using pip, a package installer for Python:"
   ]
  },
  {
   "cell_type": "code",
   "execution_count": 1,
   "id": "fc56cd82",
   "metadata": {},
   "outputs": [
    {
     "name": "stdout",
     "output_type": "stream",
     "text": [
      "Requirement already satisfied: requests==2.32.3 in c:\\users\\asus\\appdata\\local\\programs\\python\\python312\\lib\\site-packages (2.32.3)\n",
      "Requirement already satisfied: charset-normalizer<4,>=2 in c:\\users\\asus\\appdata\\local\\programs\\python\\python312\\lib\\site-packages (from requests==2.32.3) (3.3.2)\n",
      "Requirement already satisfied: idna<4,>=2.5 in c:\\users\\asus\\appdata\\local\\programs\\python\\python312\\lib\\site-packages (from requests==2.32.3) (3.10)\n",
      "Requirement already satisfied: urllib3<3,>=1.21.1 in c:\\users\\asus\\appdata\\local\\programs\\python\\python312\\lib\\site-packages (from requests==2.32.3) (2.2.3)\n",
      "Requirement already satisfied: certifi>=2017.4.17 in c:\\users\\asus\\appdata\\local\\programs\\python\\python312\\lib\\site-packages (from requests==2.32.3) (2024.8.30)\n"
     ]
    }
   ],
   "source": [
    "!pip install requests==2.32.3"
   ]
  },
  {
   "cell_type": "markdown",
   "id": "53a668a4",
   "metadata": {},
   "source": [
    "    Importing: After installation, you need to import the library in your Python code before you can use it:"
   ]
  },
  {
   "cell_type": "code",
   "execution_count": 2,
   "id": "ee6ca8f4",
   "metadata": {},
   "outputs": [],
   "source": [
    "import requests"
   ]
  },
  {
   "cell_type": "markdown",
   "id": "b1b0f097",
   "metadata": {},
   "source": [
    "    HTTP Methods: The library supports various HTTP methods, such as GET, POST, PUT, DELETE, etc. These correspond to create, read, update, and delete (or CRUD) operations, respectively. You can choose the appropriate method for your request. \n",
    "\n",
    "To make a GET request:"
   ]
  },
  {
   "cell_type": "code",
   "execution_count": 3,
   "id": "ce5249be",
   "metadata": {},
   "outputs": [],
   "source": [
    "response = requests.get(\"https://randomuser.me/api/\")"
   ]
  },
  {
   "cell_type": "markdown",
   "id": "5e40d769",
   "metadata": {},
   "source": [
    "## API status code"
   ]
  },
  {
   "cell_type": "code",
   "execution_count": 4,
   "id": "05753289",
   "metadata": {},
   "outputs": [
    {
     "name": "stdout",
     "output_type": "stream",
     "text": [
      "200\n"
     ]
    }
   ],
   "source": [
    "print(response.status_code)"
   ]
  },
  {
   "cell_type": "markdown",
   "id": "f3bbd1cb",
   "metadata": {},
   "source": [
    "    API Status code:\n",
    "\n",
    "Status codes are returned with every request that is made to a web server. Status codes indicate information about what happened with a request. Here are some codes that are relevant to GET requests:\n",
    "\n",
    "    200: Everything went okay, and the result has been returned (if any).\n",
    "    301: The server is redirecting you to a different endpoint. This can happen when a company switches domain names, or an endpoint name is changed.\n",
    "    400: The server thinks you made a bad request. This can happen when you don’t send along the right data, among other things.\n",
    "    401: The server thinks you’re not authenticated. Many APIs require login credentials, so this happens when you don’t send the right credentials to access an API.\n",
    "    403: The resource you’re trying to access is forbidden: you don’t have the right permissions to see it.\n",
    "    404: The resource you tried to access wasn’t found on the server.\n",
    "    503: The server is not ready to handle the request."
   ]
  },
  {
   "cell_type": "markdown",
   "id": "9295e1d4-5607-43d6-97ee-bee5b8d3db60",
   "metadata": {},
   "source": [
    "For more information about the various HTTP status codes [click here](https://en.wikipedia.org/wiki/List_of_HTTP_status_codes)"
   ]
  },
  {
   "cell_type": "markdown",
   "id": "ffd88355",
   "metadata": {},
   "source": [
    "## Response Object"
   ]
  },
  {
   "cell_type": "markdown",
   "id": "bd95aa99",
   "metadata": {},
   "source": [
    "\n",
    "    Response Object: When you send a request using the requests library, you receive a response object that contains information about the server’s response:\n",
    "\n",
    "   * response.status_code: HTTP status code of the response (200 is a code meaning a successful operation)\n",
    "* response.content: Raw content of the response\n",
    "* response.text: Content of the response in text format\n",
    "* response.json(): Parses the response content as JSON if applicable\n",
    "* response.headers: Headers received from the server (additional information passed through both request and response. It could be for example List of acceptable encodings. It is usually hidden to end-user)\n",
    "* response.url: The URL that was accessed\n"
   ]
  },
  {
   "cell_type": "code",
   "execution_count": 5,
   "id": "8d975782",
   "metadata": {},
   "outputs": [
    {
     "data": {
      "text/plain": [
       "{'results': [{'gender': 'male',\n",
       "   'name': {'title': 'Mr', 'first': 'Joseph', 'last': 'Martinez'},\n",
       "   'location': {'street': {'number': 5257, 'name': 'Nowlin Rd'},\n",
       "    'city': 'Devonport',\n",
       "    'state': 'Queensland',\n",
       "    'country': 'Australia',\n",
       "    'postcode': 2190,\n",
       "    'coordinates': {'latitude': '-88.8811', 'longitude': '-142.1982'},\n",
       "    'timezone': {'offset': '+7:00', 'description': 'Bangkok, Hanoi, Jakarta'}},\n",
       "   'email': 'joseph.martinez@example.com',\n",
       "   'login': {'uuid': '88c88565-4130-492a-80be-46b72f0fd075',\n",
       "    'username': 'sadwolf358',\n",
       "    'password': '7779311',\n",
       "    'salt': 'sfpbKkNF',\n",
       "    'md5': '324a77f6ee2797a12072293124a91292',\n",
       "    'sha1': '8b0c5695b5b45463baaff16515afd751a07b756b',\n",
       "    'sha256': '71c63f1143b066841984e57e588fc10579a9b3ea47d7447a514268bc6bcb0b60'},\n",
       "   'dob': {'date': '1968-11-21T05:43:24.130Z', 'age': 55},\n",
       "   'registered': {'date': '2017-04-12T00:04:40.489Z', 'age': 7},\n",
       "   'phone': '01-9098-0435',\n",
       "   'cell': '0436-040-595',\n",
       "   'id': {'name': 'TFN', 'value': '515775321'},\n",
       "   'picture': {'large': 'https://randomuser.me/api/portraits/men/47.jpg',\n",
       "    'medium': 'https://randomuser.me/api/portraits/med/men/47.jpg',\n",
       "    'thumbnail': 'https://randomuser.me/api/portraits/thumb/men/47.jpg'},\n",
       "   'nat': 'AU'}],\n",
       " 'info': {'seed': '03f77c78746389e9',\n",
       "  'results': 1,\n",
       "  'page': 1,\n",
       "  'version': '1.4'}}"
      ]
     },
     "execution_count": 5,
     "metadata": {},
     "output_type": "execute_result"
    }
   ],
   "source": [
    "response.json()"
   ]
  },
  {
   "cell_type": "markdown",
   "id": "866a1889",
   "metadata": {},
   "source": [
    "## Query String Parameters\n",
    "\n",
    "One common way to customize a GET request is to pass values through query string parameters in the URL. \n",
    "\n",
    "To do this using get(), you pass data to params."
   ]
  },
  {
   "cell_type": "markdown",
   "id": "03bda1f8",
   "metadata": {},
   "source": [
    "### Weather API:\n",
    "1. Sign up to RapidAPI: https://rapidapi.com/signup\n",
    "2. Select the free plan: https://rapidapi.com/meteostat/api/meteostat/pricing \n",
    "\n",
    "It allows you to 500 requests per months, with 3 requests per second maximum.\n",
    "\n",
    "3. Go to this page and click on `Get Daily Station Data` on the left pane: https://rapidapi.com/meteostat/api/meteostat\n",
    "\n",
    "4. On the right part `Code snippets` should appear the `x-rapidapi-key`: copy paste it below\n",
    "\n",
    "5. Complete the information below to get the weather of Berlin today"
   ]
  },
  {
   "cell_type": "markdown",
   "id": "00c545a2",
   "metadata": {},
   "source": [
    "### Important note: do not push this notebook to Github! It contains your API Key, which you don't want to reveal. If you were to push this content to github, delete your API key before!\n"
   ]
  },
  {
   "cell_type": "code",
   "execution_count": 7,
   "id": "2411f5f4-24ab-462d-8b07-780b2ad31d3a",
   "metadata": {},
   "outputs": [],
   "source": [
    "# Use double quotes to assign your API key to private_api_key variable as a string\n",
    "private_api_key = \"875f8a569emshd1aaadd8f671a8fp1d77e7jsn1f35e320a336\""
   ]
  },
  {
   "cell_type": "code",
   "execution_count": 8,
   "id": "34d5b30c",
   "metadata": {},
   "outputs": [],
   "source": [
    "# Define your parameters as a dictionary\n",
    "params = {\n",
    "    \"lat\": 52.5200,  # Find Berlin's latitude and add it here\n",
    "    \"lon\": 13.404954,  # Find Berlin's longitude and add it here\n",
    "    \"start\": \"2023-10-08\",  # Replace with today's date\n",
    "    \"end\": \"2023-10-08\"  # Replace with today's date\n",
    "    #Error!!\n",
    "}\n",
    "\n",
    "response = requests.get(\"https://meteostat.p.rapidapi.com/point/daily\",\n",
    "                       params=params,\n",
    "                       headers={\n",
    "                           \"X-RapidAPI-Host\": \"meteostat.p.rapidapi.com\",\n",
    "                           \"X-RapidAPI-Key\": \"private_api_key\" # Add the private_api_key variable \n",
    "                       })\n",
    "\n",
    "# Do not push your API key to Github!"
   ]
  },
  {
   "cell_type": "code",
   "execution_count": 9,
   "id": "5880f166",
   "metadata": {},
   "outputs": [
    {
     "name": "stdout",
     "output_type": "stream",
     "text": [
      "{'message': 'You are not subscribed to this API.'}\n"
     ]
    }
   ],
   "source": [
    "print(response.json())"
   ]
  },
  {
   "cell_type": "markdown",
   "id": "4dd174ca",
   "metadata": {},
   "source": [
    "<br>\n",
    "<br>\n",
    "<br>\n",
    "<br><br><br><br><br><br>"
   ]
  },
  {
   "cell_type": "markdown",
   "id": "7c05a62f",
   "metadata": {},
   "source": [
    "# Data from Wikipedia"
   ]
  },
  {
   "cell_type": "markdown",
   "id": "9873e241",
   "metadata": {},
   "source": [
    "## Installation"
   ]
  },
  {
   "cell_type": "markdown",
   "id": "c6bb1353",
   "metadata": {},
   "source": [
    "First, install and import the package\n",
    "\n",
    "*Note: all information about the packages and their versions can be found on [Pypi](https://pypi.org/), for example the [wikipedia package](https://pypi.org/project/wikipedia/)*"
   ]
  },
  {
   "cell_type": "code",
   "execution_count": 10,
   "id": "5073812e",
   "metadata": {},
   "outputs": [
    {
     "name": "stdout",
     "output_type": "stream",
     "text": [
      "Collecting wikipedia==1.4.0\n",
      "  Using cached wikipedia-1.4.0-py3-none-any.whl\n",
      "Requirement already satisfied: beautifulsoup4 in c:\\users\\asus\\appdata\\local\\programs\\python\\python312\\lib\\site-packages (from wikipedia==1.4.0) (4.12.3)\n",
      "Requirement already satisfied: requests<3.0.0,>=2.0.0 in c:\\users\\asus\\appdata\\local\\programs\\python\\python312\\lib\\site-packages (from wikipedia==1.4.0) (2.32.3)\n",
      "Requirement already satisfied: charset-normalizer<4,>=2 in c:\\users\\asus\\appdata\\local\\programs\\python\\python312\\lib\\site-packages (from requests<3.0.0,>=2.0.0->wikipedia==1.4.0) (3.3.2)\n",
      "Requirement already satisfied: idna<4,>=2.5 in c:\\users\\asus\\appdata\\local\\programs\\python\\python312\\lib\\site-packages (from requests<3.0.0,>=2.0.0->wikipedia==1.4.0) (3.10)\n",
      "Requirement already satisfied: urllib3<3,>=1.21.1 in c:\\users\\asus\\appdata\\local\\programs\\python\\python312\\lib\\site-packages (from requests<3.0.0,>=2.0.0->wikipedia==1.4.0) (2.2.3)\n",
      "Requirement already satisfied: certifi>=2017.4.17 in c:\\users\\asus\\appdata\\local\\programs\\python\\python312\\lib\\site-packages (from requests<3.0.0,>=2.0.0->wikipedia==1.4.0) (2024.8.30)\n",
      "Requirement already satisfied: soupsieve>1.2 in c:\\users\\asus\\appdata\\local\\programs\\python\\python312\\lib\\site-packages (from beautifulsoup4->wikipedia==1.4.0) (2.6)\n",
      "Installing collected packages: wikipedia\n",
      "Successfully installed wikipedia-1.4.0\n"
     ]
    }
   ],
   "source": [
    "!pip install wikipedia==1.4.0"
   ]
  },
  {
   "cell_type": "code",
   "execution_count": 11,
   "id": "07e1b7a6",
   "metadata": {},
   "outputs": [],
   "source": [
    "# Import the package\n",
    "import wikipedia"
   ]
  },
  {
   "cell_type": "markdown",
   "id": "9886296c",
   "metadata": {},
   "source": [
    "## First commands\n",
    "* wikipedia.summary(<>): provides a summary of the page\n",
    "* wikipedia.page(<>).content: provides the content\n",
    "* wikipedia.page(<>).url: provides the URL of the page\n",
    "* wikipedia.set_lang(<>): changes the request language\n",
    "\n",
    "### Try the following commands:"
   ]
  },
  {
   "cell_type": "code",
   "execution_count": 12,
   "id": "de601b62",
   "metadata": {},
   "outputs": [
    {
     "data": {
      "text/plain": [
       "'The Kingkiller Chronicle is a planned fantasy trilogy by the American writer Patrick Rothfuss. The first two books, The Name of the Wind and The Wise Man\\'s Fear, were released in 2007 and 2011. The books released in the series have sold over 10 million copies.\\nThe series centers on a man named Kvothe, an infamous adventurer and musician telling his life story to a scribe. The book is told in a \"story-within-a-story\" format: a frame narrative relates the present day in which Kvothe runs an inn under an assumed name and is told in omniscient third person. The main plot, making up the majority of the books and concerning the actual details of Kvothe\\'s life, is told in the first person. The series also contains metafictional stories within stories from varying perspectives that tie to the main plot in various ways.\\n\\n'"
      ]
     },
     "execution_count": 12,
     "metadata": {},
     "output_type": "execute_result"
    }
   ],
   "source": [
    "wikipedia.summary(\"The Kingkiller Chronicle\")"
   ]
  },
  {
   "cell_type": "code",
   "execution_count": 13,
   "id": "c805dd79",
   "metadata": {},
   "outputs": [
    {
     "data": {
      "text/plain": [
       "'The Kingkiller Chronicle is a planned fantasy trilogy by the American writer Patrick Rothfuss. The first two books, The Name of the Wind and The Wise Man\\'s Fear, were released in 2007 and 2011. The books released in the series have sold over 10 million copies.\\nThe series centers on a man named Kvothe, an infamous adventurer and musician telling his life story to a scribe. The book is told in a \"story-within-a-story\" format: a frame narrative relates the present day in which Kvothe runs an inn under an assumed name and is told in omniscient third person. The main plot, making up the majority of the books and concerning the actual details of Kvothe\\'s life, is told in the first person. The series also contains metafictional stories within stories from varying perspectives that tie to the main plot in various ways.\\n\\n\\n== Synopsis ==\\nThe Kingkiller Chronicle tells the life story of a man named Kvothe. In the present day, Kvothe is a rural innkeeper, living under a pseudonym. In the past, he was a wandering trouper and musician who grew to be a notorious arcanist (wizard), known as the infamous \"Kingkiller\".\\nThe series is framed as the transcription of his three-day-long oral autobiography, where he \"trouped, traveled, loved, lost, trusted and was betrayed\". Present-day \"interludes\" concern his life as an innkeeper, with each present day depicted in a separate book.\\nThe series is a secondary world fantasy; the setting is named Temerant. It has its own magic system, mixing alchemy, sympathetic magic, sygaldry (a form of runic magic combined with medieval engineering), and naming (a type of magic that allows the user to command the classical elements and objects), plus others.\\n\\n\\n== Writing and publishing history ==\\nThe Kingkiller Chronicle is intended to be a trilogy. The books are set in a fictional world referred to as the Four Corners in-universe; the world\\'s official name, Temerant, was revealed in 2014.\\nRothfuss began writing the series in 1994, under the working title The Song of Flame and Thunder; the name was changed because he disliked it, as well as to avoid confusion with the George R. R. Martin series A Song of Ice and Fire. The first draft of the trilogy was completed in 2000, a draft he described as \"a hot mess\".\\nIn 2002, Rothfuss entered and won a Writers of the Future contest, which led him to a workshop with author Tim Powers. This eventually led him to meeting his agent, who helped Rothfuss revise the first third of the story—now entitled The Name of the Wind—and sold it to DAW, which published the book in March 2007.\\nDespite promises that the second and third books in the trilogy would follow on an annual schedule, revisions to the second book, including work to bring in the frame narrative and introduce characters that weren\\'t in the original draft, caused delays. The Wise Man\\'s Fear was released in 2011, topping the New York Times bestseller list.\\nThe Doors of Stone is unreleased as of 2024, a point of contention online. Rothfuss has said that the book would \"conclude Kvothe\\'s story\", closing off the current arc, but that further stories in the world of Temerant would be forthcoming. He also said that the book presented challenges different from The Wise Man\\'s Fear\\'s. In 2020, Rothfuss\\'s publisher and editor Elizabeth Wollheim expressed frustration with the delay, stating she had not read \"a word\" of the book nine years on.\\nIn 2021, Rothfuss apologized for the long delay in releasing The Doors of Stone, citing issues in his personal life and his mental health as reasons.\\n\\n\\n== The books ==\\nThe Kingkiller Chronicle is a projected trilogy:\\n\\nThe Name of the Wind (2007)\\nThe Wise Man\\'s Fear (2011)\\nThe Doors of Stone (forthcoming)\\n\\n\\n=== Related works ===\\n\"How Old Holly Came to Be\", an experimental short story, was published in Unfettered (2013), edited by Shawn Speakman.\\nThe Lightning Tree, a novella, was published in Rogues (2014), edited by George R. R. Martin & Gardner Dozois. The Lightning Tree takes place in the frame setting of The Kingkiller Chronicle, and includes characters from the trilogy, centered around the character of Bast.\\nThe Slow Regard of Silent Things (2014, ISBN 978-0756410438), a novella focusing on a secondary character that appears in The Kingkiller Chronicle\\'s main plot.\\nThe Narrow Road Between Desires, (2023, ISBN 978-0756419172), is a novella centered around the character of Bast (a revision and expansion of The Lightning Tree) and was published November 14, 2023.\\nIn 2012, Rothfuss sold three other books to his publisher, DAW. He has discussed a standalone novel, centered on a legendary figure in the world, with the working title The Tale of Laniel Young-Again. The project was two-thirds complete when it was shelved to focus on The Doors of Stone.\\n\\n\\n== In other media ==\\n\\n\\n=== Film and television ===\\nIn July 2013, 20th Century Fox optioned The Kingkiller Chronicle for a TV series. The production team included Arnon Milchan, Andrew Plotkin, Brad Weston, and Robert Lawrence. Two years later in October, the rights to the books expired and were reverted to Rothfuss. At the same time, Rothfuss announced that Lionsgate would be involved in adapting the series through a film, TV series, and video game. Hamilton creator Lin-Manuel Miranda was attached to serve as executive producer of the television series, along with John Rogers, Jennifer Court, Robert Lawrence, and Rothfuss, with music composed by Miranda. Showtime began developing the series as of October 2017 but ended their involvement two years later in September, causing the rights to return to Lionsgate TV, which is shopping it around.\\nLindsey Beer was hired to write the screenplay for the film in 2016, while Sam Raimi was announced as the director in 2018, one of several who reportedly sought the role.\\n\\n\\n=== Games ===\\nThe metafictional strategic board game Tak: A Beautiful Game was released by Rothfuss and Cheapass Games in 2016 and designed by James Ernest. In 2019, Cheapass Games, including Tak, was sold to Greater Than Games. In March 2021, Greater Than Games re-released Tak: A Beautiful Game (2nd Edition) under its own brand, with new box art and board designs co-created with Rothfuss. There are no differences in the rules between the original and second edition.\\n\\n\\n== Reception ==\\nThe series has received critical acclaim. George R. R. Martin called The Wise Man\\'s Fear his favorite fantasy novel of 2011, and said he wished he had written it. Authors such as Brandon Sanderson, Ursula K. Le Guin, Robin Hobb, Tad Williams, Anne McCaffrey, and Michael Chabon have expressed their admiration for the series. Lin-Manuel Miranda credited the books for inspiring a song in his show Hamilton, as well as a story beat in the Walt Disney film Moana.\\nThe Wise Man\\'s Fear topped The New York Times bestseller list, and the spin-off novella The Slow Regard of Silent Things spent a month on the same before dropping to the extended list.\\nAlthough fandom on the series has remained relatively small, there are several sites dedicated to fanfiction and fan art. A reason given that there is so little fan fiction is because of the unique style and tone, as well as the amount of time that Rothfuss gives to his writing. Rothfuss himself has spoken positively of fan fiction, saying that he\\'s looked forward to it, and that \"when people start writing fan fiction about your stuff, it shows that your writing has attained a level of popularity\".\\n\\n\\n== References ==\\n\\n\\n== External links ==\\n\\nThe Kingkiller Chronicle series listing at the Internet Speculative Fiction Database\\nThe Kingkiller Chronicle at the Internet Book List\\nPatrick Rothfuss\\' web site\\n\"Knackerman\" song, from lyrics Rothfuss had written for The Name of the Wind. Performed by Vi Hart, per the request of Rothfuss as part of an event for Rothfuss\\' Worldbuilders charity.'"
      ]
     },
     "execution_count": 13,
     "metadata": {},
     "output_type": "execute_result"
    }
   ],
   "source": [
    "wikipedia.page(\"The Kingkiller Chronicle\").content"
   ]
  },
  {
   "cell_type": "code",
   "execution_count": 14,
   "id": "1cdacd55",
   "metadata": {},
   "outputs": [
    {
     "data": {
      "text/plain": [
       "'https://en.wikipedia.org/wiki/The_Kingkiller_Chronicle'"
      ]
     },
     "execution_count": 14,
     "metadata": {},
     "output_type": "execute_result"
    }
   ],
   "source": [
    "wikipedia.page(\"The Kingkiller Chronicle\").url"
   ]
  },
  {
   "cell_type": "code",
   "execution_count": 15,
   "id": "46b4cdf6",
   "metadata": {},
   "outputs": [
    {
     "data": {
      "text/plain": [
       "'Die Königsmörder-Chronik (Originaltitel: The Kingkiller Chronicle) ist eine Fantasy-Romanreihe des US-amerikanischen Schriftstellers Patrick Rothfuss. Thematisiert wird der sagenumwobene Arkanist Kvothe, der seine eigene Lebensgeschichte in Form einer Autobiografie von einem Chronisten niederschreiben lässt. Die Geschichte ist folglich in eine Gegenwartshandlung und eine Vergangenheitshandlung unterteilt. Jeder Buchableger verkörpert einen Tag in der Gegenwart.\\n\\n'"
      ]
     },
     "execution_count": 15,
     "metadata": {},
     "output_type": "execute_result"
    }
   ],
   "source": [
    "wikipedia.set_lang('de')\n",
    "wikipedia.summary(\"The Kingkiller Chronicle\")"
   ]
  },
  {
   "cell_type": "markdown",
   "id": "30db374c",
   "metadata": {},
   "source": [
    "## Extract tabular data from wikipedia into a Pandas dataframe"
   ]
  },
  {
   "cell_type": "code",
   "execution_count": 16,
   "id": "fe4d27b0",
   "metadata": {},
   "outputs": [],
   "source": [
    "# First, import the pandas package\n",
    "import pandas as pd"
   ]
  },
  {
   "cell_type": "code",
   "execution_count": 17,
   "id": "fc84bb61",
   "metadata": {},
   "outputs": [
    {
     "name": "stdout",
     "output_type": "stream",
     "text": [
      "Collecting lxml\n",
      "  Downloading lxml-5.3.0-cp312-cp312-win_amd64.whl.metadata (3.9 kB)\n",
      "Downloading lxml-5.3.0-cp312-cp312-win_amd64.whl (3.8 MB)\n",
      "   ---------------------------------------- 0.0/3.8 MB ? eta -:--:--\n",
      "   ----- ---------------------------------- 0.5/3.8 MB 3.4 MB/s eta 0:00:01\n",
      "   ---------- ----------------------------- 1.0/3.8 MB 3.0 MB/s eta 0:00:01\n",
      "   ------------------- -------------------- 1.8/3.8 MB 3.1 MB/s eta 0:00:01\n",
      "   ------------------------ --------------- 2.4/3.8 MB 2.9 MB/s eta 0:00:01\n",
      "   ------------------------------ --------- 2.9/3.8 MB 3.0 MB/s eta 0:00:01\n",
      "   ----------------------------------- ---- 3.4/3.8 MB 3.0 MB/s eta 0:00:01\n",
      "   ---------------------------------------- 3.8/3.8 MB 3.0 MB/s eta 0:00:00\n",
      "Installing collected packages: lxml\n",
      "Successfully installed lxml-5.3.0\n"
     ]
    }
   ],
   "source": [
    "# You may need to pip install lxml package\n",
    "!pip install lxml"
   ]
  },
  {
   "cell_type": "code",
   "execution_count": 18,
   "id": "bbfc4d88",
   "metadata": {},
   "outputs": [],
   "source": [
    "# Import the lxml package\n",
    "import lxml"
   ]
  },
  {
   "cell_type": "code",
   "execution_count": 19,
   "id": "9ec891ca",
   "metadata": {},
   "outputs": [],
   "source": [
    "# Extract tabular data from wikipedia into a Pandas dataframe.\n",
    "# We will use pandas.read_html\n",
    "\n",
    "tables = pd.read_html(\"https://en.wikipedia.org/wiki/FIVB_Volleyball_Women%27s_World_Cup#Results_summary\",\n",
    "                     match='Champions')"
   ]
  },
  {
   "cell_type": "code",
   "execution_count": 20,
   "id": "93a0c25d",
   "metadata": {
    "scrolled": true
   },
   "outputs": [
    {
     "data": {
      "text/plain": [
       "[            Year     Host    Unnamed: 2      Champions     Runners-up  \\\n",
       " 0            NaN      NaN           NaN            NaN            NaN   \n",
       " 1            NaN      NaN           NaN            NaN            NaN   \n",
       " 2            NaN      NaN           NaN            NaN            NaN   \n",
       " 3            NaN      NaN           NaN            NaN            NaN   \n",
       " 4            NaN      NaN           NaN            NaN            NaN   \n",
       " 5            NaN      NaN           NaN            NaN            NaN   \n",
       " 6            NaN      NaN           NaN            NaN            NaN   \n",
       " 7            NaN      NaN           NaN            NaN            NaN   \n",
       " 8            NaN      NaN           NaN            NaN            NaN   \n",
       " 9            NaN      NaN           NaN            NaN            NaN   \n",
       " 10           NaN      NaN           NaN            NaN            NaN   \n",
       " 11           NaN      NaN           NaN            NaN            NaN   \n",
       " 12           NaN      NaN           NaN            NaN            NaN   \n",
       " 13           NaN      NaN           NaN            NaN            NaN   \n",
       " 14  1973 Details  Uruguay  Soviet Union          Japan    South Korea   \n",
       " 15  1977 Details    Japan         Japan           Cuba    South Korea   \n",
       " 16  1981 Details    Japan         China          Japan   Soviet Union   \n",
       " 17  1985 Details    Japan         China           Cuba   Soviet Union   \n",
       " 18  1989 Details    Japan          Cuba   Soviet Union          China   \n",
       " 19  1991 Details    Japan          Cuba          China   Soviet Union   \n",
       " 20  1995 Details    Japan          Cuba         Brazil          China   \n",
       " 21  1999 Details    Japan          Cuba         Russia         Brazil   \n",
       " 22  2003 Details    Japan         China         Brazil  United States   \n",
       " 23  2007 Details    Japan         Italy         Brazil  United States   \n",
       " 24  2011 Details    Japan         Italy  United States          China   \n",
       " 25  2015 Details    Japan         China         Serbia  United States   \n",
       " 26  2019 Details    Japan         China  United States         Russia   \n",
       " \n",
       "         3rd place  4th place  Unnamed: 7  Teams  \n",
       " 0             NaN        NaN         NaN    NaN  \n",
       " 1             NaN        NaN         NaN    NaN  \n",
       " 2             NaN        NaN         NaN    NaN  \n",
       " 3             NaN        NaN         NaN    NaN  \n",
       " 4             NaN        NaN         NaN    NaN  \n",
       " 5             NaN        NaN         NaN    NaN  \n",
       " 6             NaN        NaN         NaN    NaN  \n",
       " 7             NaN        NaN         NaN    NaN  \n",
       " 8             NaN        NaN         NaN    NaN  \n",
       " 9             NaN        NaN         NaN    NaN  \n",
       " 10            NaN        NaN         NaN    NaN  \n",
       " 11            NaN        NaN         NaN    NaN  \n",
       " 12            NaN        NaN         NaN    NaN  \n",
       " 13            NaN        NaN         NaN    NaN  \n",
       " 14           Peru       10.0         NaN    NaN  \n",
       " 15          China        8.0         NaN    NaN  \n",
       " 16  United States        8.0         NaN    NaN  \n",
       " 17          Japan        8.0         NaN    NaN  \n",
       " 18          Japan        8.0         NaN    NaN  \n",
       " 19  United States       12.0         NaN    NaN  \n",
       " 20        Croatia       12.0         NaN    NaN  \n",
       " 21    South Korea       12.0         NaN    NaN  \n",
       " 22          Italy       12.0         NaN    NaN  \n",
       " 23           Cuba       12.0         NaN    NaN  \n",
       " 24          Japan       12.0         NaN    NaN  \n",
       " 25         Russia       12.0         NaN    NaN  \n",
       " 26         Brazil       12.0         NaN    NaN  ,\n",
       "    vteInternational Federation of Volleyball (FIVB) competitions  \\\n",
       " 0                                      National teams              \n",
       " 1                                       Championships              \n",
       " 2                                                Cups              \n",
       " 3                                             Leagues              \n",
       " 4                                Youth national teams              \n",
       " 5                                       Championships              \n",
       " 6                                   Club competitions              \n",
       " 7                                       Championships              \n",
       " 8                                    Beach volleyball              \n",
       " 9                                       Championships              \n",
       " 10                                        World Tours              \n",
       " 11                                       Discontinued              \n",
       " 12                                      Championships              \n",
       " 13                                               Cups              \n",
       " 14                                            Leagues              \n",
       " \n",
       "    vteInternational Federation of Volleyball (FIVB) competitions.1  \n",
       " 0   Championships World championships Men's Women'...               \n",
       " 1                   World championships Men's Women's               \n",
       " 2                            World Cups Men's Women's               \n",
       " 3                       Nations Leagues Men's Women's               \n",
       " 4   Championships World championships Men's U21 Wo...               \n",
       " 5   World championships Men's U21 Women's U21 Boys...               \n",
       " 6   Championships World Club Championships Men's W...               \n",
       " 7              World Club Championships Men's Women's               \n",
       " 8   Championships World Championships Men's Women'...               \n",
       " 9                   World Championships Men's Women's               \n",
       " 10                     World Beach Tour Men's Women's               \n",
       " 11  Championships World Championships Men's U23 Wo...               \n",
       " 12          World Championships Men's U23 Women's U23               \n",
       " 13           World Grand Champions Cups Men's Women's               \n",
       " 14  World League World Grand Prix World Challenger...               ,\n",
       "                0                                  1\n",
       " 0  Championships  World championships Men's Women's\n",
       " 1           Cups           World Cups Men's Women's\n",
       " 2        Leagues      Nations Leagues Men's Women's,\n",
       "                0                                                  1\n",
       " 0  Championships  World championships Men's U21 Women's U21 Boys...,\n",
       "                0                                       1\n",
       " 0  Championships  World Club Championships Men's Women's,\n",
       "                0                                  1\n",
       " 0  Championships  World Championships Men's Women's\n",
       " 1    World Tours     World Beach Tour Men's Women's,\n",
       "                0                                                  1\n",
       " 0  Championships          World Championships Men's U23 Women's U23\n",
       " 1           Cups           World Grand Champions Cups Men's Women's\n",
       " 2        Leagues  World League World Grand Prix World Challenger...,\n",
       "                  vteInternational women's volleyball  \\\n",
       " 0  FIVB World Ranking Summer Olympic Games FIVB W...   \n",
       " 1                                             Africa   \n",
       " 2                                     Asia & Oceania   \n",
       " 3                                             Europe   \n",
       " 4                                      North America   \n",
       " 5                                    Central America   \n",
       " 6                                      South America   \n",
       " 7                                 Multi-sport events   \n",
       " 8                                       Discontinued   \n",
       " \n",
       "                vteInternational women's volleyball.1  \n",
       " 0  FIVB World Ranking Summer Olympic Games FIVB W...  \n",
       " 1            CAVB African Championship African Games  \n",
       " 2  AVC Asian Championship Asian Cup Asian Challen...  \n",
       " 3  CEV European Championship European League Smal...  \n",
       " 4  NORCECA NORCECA Championship Pan American Cup ...  \n",
       " 5  AFECAVOL Central American Championship Central...  \n",
       " 6  CSV South American Championship Pan American C...  \n",
       " 7  Arab Games Bolivarian Games Lusophone Games Me...  \n",
       " 8  FIVB World Grand Prix FIVB World Grand Champio...  ,\n",
       "                           vteInternational volleyball  \\\n",
       " 0   FIVB World Rankings Achievements by nation Rec...   \n",
       " 1                                           Worldwide   \n",
       " 2                                      Junior / Youth   \n",
       " 3                                  Multi-sport events   \n",
       " 4                                         Continental   \n",
       " 5                                       Africa (CAVB)   \n",
       " 6                              Asia and Oceania (AVC)   \n",
       " 7                                        Europe (CEV)   \n",
       " 8                                            Americas   \n",
       " 9                                          Top events   \n",
       " 10                            North America (NORCECA)   \n",
       " 11                         Central America (AFECAVOL)   \n",
       " 12                                South America (CSV)   \n",
       " \n",
       "                         vteInternational volleyball.1  \n",
       " 0   FIVB World Rankings Achievements by nation Rec...  \n",
       " 1   Olympic Games World Championships men women Na...  \n",
       " 2   Youth Olympic Games World Championships men U2...  \n",
       " 3   Arab Games Bolivarian Games Goodwill Games Isl...  \n",
       " 4   Africa (CAVB) African Championship men women m...  \n",
       " 5   African Championship men women men U23 women U...  \n",
       " 6   Asian Championship men women men U23 (defunct)...  \n",
       " 7   European Championship men women men U22 women ...  \n",
       " 8   Top events Pan American Games Pan-American Cup...  \n",
       " 9   Pan American Games Pan-American Cup men women ...  \n",
       " 10  NORCECA Championship men women men U21 women U...  \n",
       " 11  Central American Championship men women Centra...  \n",
       " 12  South American Championship men women men U23 ...  ,\n",
       "                             0  \\\n",
       " 0               Africa (CAVB)   \n",
       " 1      Asia and Oceania (AVC)   \n",
       " 2                Europe (CEV)   \n",
       " 3                    Americas   \n",
       " 4                  Top events   \n",
       " 5     North America (NORCECA)   \n",
       " 6  Central America (AFECAVOL)   \n",
       " 7         South America (CSV)   \n",
       " \n",
       "                                                    1  \n",
       " 0  African Championship men women men U23 women U...  \n",
       " 1  Asian Championship men women men U23 (defunct)...  \n",
       " 2  European Championship men women men U22 women ...  \n",
       " 3  Top events Pan American Games Pan-American Cup...  \n",
       " 4  Pan American Games Pan-American Cup men women ...  \n",
       " 5  NORCECA Championship men women men U21 women U...  \n",
       " 6  Central American Championship men women Centra...  \n",
       " 7  South American Championship men women men U23 ...  ,\n",
       "                             0  \\\n",
       " 0                  Top events   \n",
       " 1     North America (NORCECA)   \n",
       " 2  Central America (AFECAVOL)   \n",
       " 3         South America (CSV)   \n",
       " \n",
       "                                                    1  \n",
       " 0  Pan American Games Pan-American Cup men women ...  \n",
       " 1  NORCECA Championship men women men U21 women U...  \n",
       " 2  Central American Championship men women Centra...  \n",
       " 3  South American Championship men women men U23 ...  ]"
      ]
     },
     "execution_count": 20,
     "metadata": {},
     "output_type": "execute_result"
    }
   ],
   "source": [
    "# Show the tables variable\n",
    "tables"
   ]
  },
  {
   "cell_type": "code",
   "execution_count": 21,
   "id": "22ca6cc6-f388-4f80-8371-28c4c80fb674",
   "metadata": {},
   "outputs": [
    {
     "data": {
      "text/plain": [
       "11"
      ]
     },
     "execution_count": 21,
     "metadata": {},
     "output_type": "execute_result"
    }
   ],
   "source": [
    "# How big is tables?\n",
    "len(tables)"
   ]
  },
  {
   "cell_type": "code",
   "execution_count": 22,
   "id": "043c3f87",
   "metadata": {},
   "outputs": [],
   "source": [
    "# Let's get only the first result \n",
    "results_df = tables[0]"
   ]
  },
  {
   "cell_type": "code",
   "execution_count": 23,
   "id": "ad58e50b-4051-4d49-ab10-321ef64e99c8",
   "metadata": {},
   "outputs": [
    {
     "data": {
      "text/html": [
       "<div>\n",
       "<style scoped>\n",
       "    .dataframe tbody tr th:only-of-type {\n",
       "        vertical-align: middle;\n",
       "    }\n",
       "\n",
       "    .dataframe tbody tr th {\n",
       "        vertical-align: top;\n",
       "    }\n",
       "\n",
       "    .dataframe thead th {\n",
       "        text-align: right;\n",
       "    }\n",
       "</style>\n",
       "<table border=\"1\" class=\"dataframe\">\n",
       "  <thead>\n",
       "    <tr style=\"text-align: right;\">\n",
       "      <th></th>\n",
       "      <th>Year</th>\n",
       "      <th>Host</th>\n",
       "      <th>Unnamed: 2</th>\n",
       "      <th>Champions</th>\n",
       "      <th>Runners-up</th>\n",
       "      <th>3rd place</th>\n",
       "      <th>4th place</th>\n",
       "      <th>Unnamed: 7</th>\n",
       "      <th>Teams</th>\n",
       "    </tr>\n",
       "  </thead>\n",
       "  <tbody>\n",
       "    <tr>\n",
       "      <th>0</th>\n",
       "      <td>NaN</td>\n",
       "      <td>NaN</td>\n",
       "      <td>NaN</td>\n",
       "      <td>NaN</td>\n",
       "      <td>NaN</td>\n",
       "      <td>NaN</td>\n",
       "      <td>NaN</td>\n",
       "      <td>NaN</td>\n",
       "      <td>NaN</td>\n",
       "    </tr>\n",
       "    <tr>\n",
       "      <th>1</th>\n",
       "      <td>NaN</td>\n",
       "      <td>NaN</td>\n",
       "      <td>NaN</td>\n",
       "      <td>NaN</td>\n",
       "      <td>NaN</td>\n",
       "      <td>NaN</td>\n",
       "      <td>NaN</td>\n",
       "      <td>NaN</td>\n",
       "      <td>NaN</td>\n",
       "    </tr>\n",
       "    <tr>\n",
       "      <th>2</th>\n",
       "      <td>NaN</td>\n",
       "      <td>NaN</td>\n",
       "      <td>NaN</td>\n",
       "      <td>NaN</td>\n",
       "      <td>NaN</td>\n",
       "      <td>NaN</td>\n",
       "      <td>NaN</td>\n",
       "      <td>NaN</td>\n",
       "      <td>NaN</td>\n",
       "    </tr>\n",
       "    <tr>\n",
       "      <th>3</th>\n",
       "      <td>NaN</td>\n",
       "      <td>NaN</td>\n",
       "      <td>NaN</td>\n",
       "      <td>NaN</td>\n",
       "      <td>NaN</td>\n",
       "      <td>NaN</td>\n",
       "      <td>NaN</td>\n",
       "      <td>NaN</td>\n",
       "      <td>NaN</td>\n",
       "    </tr>\n",
       "    <tr>\n",
       "      <th>4</th>\n",
       "      <td>NaN</td>\n",
       "      <td>NaN</td>\n",
       "      <td>NaN</td>\n",
       "      <td>NaN</td>\n",
       "      <td>NaN</td>\n",
       "      <td>NaN</td>\n",
       "      <td>NaN</td>\n",
       "      <td>NaN</td>\n",
       "      <td>NaN</td>\n",
       "    </tr>\n",
       "    <tr>\n",
       "      <th>5</th>\n",
       "      <td>NaN</td>\n",
       "      <td>NaN</td>\n",
       "      <td>NaN</td>\n",
       "      <td>NaN</td>\n",
       "      <td>NaN</td>\n",
       "      <td>NaN</td>\n",
       "      <td>NaN</td>\n",
       "      <td>NaN</td>\n",
       "      <td>NaN</td>\n",
       "    </tr>\n",
       "    <tr>\n",
       "      <th>6</th>\n",
       "      <td>NaN</td>\n",
       "      <td>NaN</td>\n",
       "      <td>NaN</td>\n",
       "      <td>NaN</td>\n",
       "      <td>NaN</td>\n",
       "      <td>NaN</td>\n",
       "      <td>NaN</td>\n",
       "      <td>NaN</td>\n",
       "      <td>NaN</td>\n",
       "    </tr>\n",
       "    <tr>\n",
       "      <th>7</th>\n",
       "      <td>NaN</td>\n",
       "      <td>NaN</td>\n",
       "      <td>NaN</td>\n",
       "      <td>NaN</td>\n",
       "      <td>NaN</td>\n",
       "      <td>NaN</td>\n",
       "      <td>NaN</td>\n",
       "      <td>NaN</td>\n",
       "      <td>NaN</td>\n",
       "    </tr>\n",
       "    <tr>\n",
       "      <th>8</th>\n",
       "      <td>NaN</td>\n",
       "      <td>NaN</td>\n",
       "      <td>NaN</td>\n",
       "      <td>NaN</td>\n",
       "      <td>NaN</td>\n",
       "      <td>NaN</td>\n",
       "      <td>NaN</td>\n",
       "      <td>NaN</td>\n",
       "      <td>NaN</td>\n",
       "    </tr>\n",
       "    <tr>\n",
       "      <th>9</th>\n",
       "      <td>NaN</td>\n",
       "      <td>NaN</td>\n",
       "      <td>NaN</td>\n",
       "      <td>NaN</td>\n",
       "      <td>NaN</td>\n",
       "      <td>NaN</td>\n",
       "      <td>NaN</td>\n",
       "      <td>NaN</td>\n",
       "      <td>NaN</td>\n",
       "    </tr>\n",
       "    <tr>\n",
       "      <th>10</th>\n",
       "      <td>NaN</td>\n",
       "      <td>NaN</td>\n",
       "      <td>NaN</td>\n",
       "      <td>NaN</td>\n",
       "      <td>NaN</td>\n",
       "      <td>NaN</td>\n",
       "      <td>NaN</td>\n",
       "      <td>NaN</td>\n",
       "      <td>NaN</td>\n",
       "    </tr>\n",
       "    <tr>\n",
       "      <th>11</th>\n",
       "      <td>NaN</td>\n",
       "      <td>NaN</td>\n",
       "      <td>NaN</td>\n",
       "      <td>NaN</td>\n",
       "      <td>NaN</td>\n",
       "      <td>NaN</td>\n",
       "      <td>NaN</td>\n",
       "      <td>NaN</td>\n",
       "      <td>NaN</td>\n",
       "    </tr>\n",
       "    <tr>\n",
       "      <th>12</th>\n",
       "      <td>NaN</td>\n",
       "      <td>NaN</td>\n",
       "      <td>NaN</td>\n",
       "      <td>NaN</td>\n",
       "      <td>NaN</td>\n",
       "      <td>NaN</td>\n",
       "      <td>NaN</td>\n",
       "      <td>NaN</td>\n",
       "      <td>NaN</td>\n",
       "    </tr>\n",
       "    <tr>\n",
       "      <th>13</th>\n",
       "      <td>NaN</td>\n",
       "      <td>NaN</td>\n",
       "      <td>NaN</td>\n",
       "      <td>NaN</td>\n",
       "      <td>NaN</td>\n",
       "      <td>NaN</td>\n",
       "      <td>NaN</td>\n",
       "      <td>NaN</td>\n",
       "      <td>NaN</td>\n",
       "    </tr>\n",
       "    <tr>\n",
       "      <th>14</th>\n",
       "      <td>1973 Details</td>\n",
       "      <td>Uruguay</td>\n",
       "      <td>Soviet Union</td>\n",
       "      <td>Japan</td>\n",
       "      <td>South Korea</td>\n",
       "      <td>Peru</td>\n",
       "      <td>10.0</td>\n",
       "      <td>NaN</td>\n",
       "      <td>NaN</td>\n",
       "    </tr>\n",
       "    <tr>\n",
       "      <th>15</th>\n",
       "      <td>1977 Details</td>\n",
       "      <td>Japan</td>\n",
       "      <td>Japan</td>\n",
       "      <td>Cuba</td>\n",
       "      <td>South Korea</td>\n",
       "      <td>China</td>\n",
       "      <td>8.0</td>\n",
       "      <td>NaN</td>\n",
       "      <td>NaN</td>\n",
       "    </tr>\n",
       "    <tr>\n",
       "      <th>16</th>\n",
       "      <td>1981 Details</td>\n",
       "      <td>Japan</td>\n",
       "      <td>China</td>\n",
       "      <td>Japan</td>\n",
       "      <td>Soviet Union</td>\n",
       "      <td>United States</td>\n",
       "      <td>8.0</td>\n",
       "      <td>NaN</td>\n",
       "      <td>NaN</td>\n",
       "    </tr>\n",
       "    <tr>\n",
       "      <th>17</th>\n",
       "      <td>1985 Details</td>\n",
       "      <td>Japan</td>\n",
       "      <td>China</td>\n",
       "      <td>Cuba</td>\n",
       "      <td>Soviet Union</td>\n",
       "      <td>Japan</td>\n",
       "      <td>8.0</td>\n",
       "      <td>NaN</td>\n",
       "      <td>NaN</td>\n",
       "    </tr>\n",
       "    <tr>\n",
       "      <th>18</th>\n",
       "      <td>1989 Details</td>\n",
       "      <td>Japan</td>\n",
       "      <td>Cuba</td>\n",
       "      <td>Soviet Union</td>\n",
       "      <td>China</td>\n",
       "      <td>Japan</td>\n",
       "      <td>8.0</td>\n",
       "      <td>NaN</td>\n",
       "      <td>NaN</td>\n",
       "    </tr>\n",
       "    <tr>\n",
       "      <th>19</th>\n",
       "      <td>1991 Details</td>\n",
       "      <td>Japan</td>\n",
       "      <td>Cuba</td>\n",
       "      <td>China</td>\n",
       "      <td>Soviet Union</td>\n",
       "      <td>United States</td>\n",
       "      <td>12.0</td>\n",
       "      <td>NaN</td>\n",
       "      <td>NaN</td>\n",
       "    </tr>\n",
       "    <tr>\n",
       "      <th>20</th>\n",
       "      <td>1995 Details</td>\n",
       "      <td>Japan</td>\n",
       "      <td>Cuba</td>\n",
       "      <td>Brazil</td>\n",
       "      <td>China</td>\n",
       "      <td>Croatia</td>\n",
       "      <td>12.0</td>\n",
       "      <td>NaN</td>\n",
       "      <td>NaN</td>\n",
       "    </tr>\n",
       "    <tr>\n",
       "      <th>21</th>\n",
       "      <td>1999 Details</td>\n",
       "      <td>Japan</td>\n",
       "      <td>Cuba</td>\n",
       "      <td>Russia</td>\n",
       "      <td>Brazil</td>\n",
       "      <td>South Korea</td>\n",
       "      <td>12.0</td>\n",
       "      <td>NaN</td>\n",
       "      <td>NaN</td>\n",
       "    </tr>\n",
       "    <tr>\n",
       "      <th>22</th>\n",
       "      <td>2003 Details</td>\n",
       "      <td>Japan</td>\n",
       "      <td>China</td>\n",
       "      <td>Brazil</td>\n",
       "      <td>United States</td>\n",
       "      <td>Italy</td>\n",
       "      <td>12.0</td>\n",
       "      <td>NaN</td>\n",
       "      <td>NaN</td>\n",
       "    </tr>\n",
       "    <tr>\n",
       "      <th>23</th>\n",
       "      <td>2007 Details</td>\n",
       "      <td>Japan</td>\n",
       "      <td>Italy</td>\n",
       "      <td>Brazil</td>\n",
       "      <td>United States</td>\n",
       "      <td>Cuba</td>\n",
       "      <td>12.0</td>\n",
       "      <td>NaN</td>\n",
       "      <td>NaN</td>\n",
       "    </tr>\n",
       "    <tr>\n",
       "      <th>24</th>\n",
       "      <td>2011 Details</td>\n",
       "      <td>Japan</td>\n",
       "      <td>Italy</td>\n",
       "      <td>United States</td>\n",
       "      <td>China</td>\n",
       "      <td>Japan</td>\n",
       "      <td>12.0</td>\n",
       "      <td>NaN</td>\n",
       "      <td>NaN</td>\n",
       "    </tr>\n",
       "    <tr>\n",
       "      <th>25</th>\n",
       "      <td>2015 Details</td>\n",
       "      <td>Japan</td>\n",
       "      <td>China</td>\n",
       "      <td>Serbia</td>\n",
       "      <td>United States</td>\n",
       "      <td>Russia</td>\n",
       "      <td>12.0</td>\n",
       "      <td>NaN</td>\n",
       "      <td>NaN</td>\n",
       "    </tr>\n",
       "    <tr>\n",
       "      <th>26</th>\n",
       "      <td>2019 Details</td>\n",
       "      <td>Japan</td>\n",
       "      <td>China</td>\n",
       "      <td>United States</td>\n",
       "      <td>Russia</td>\n",
       "      <td>Brazil</td>\n",
       "      <td>12.0</td>\n",
       "      <td>NaN</td>\n",
       "      <td>NaN</td>\n",
       "    </tr>\n",
       "  </tbody>\n",
       "</table>\n",
       "</div>"
      ],
      "text/plain": [
       "            Year     Host    Unnamed: 2      Champions     Runners-up  \\\n",
       "0            NaN      NaN           NaN            NaN            NaN   \n",
       "1            NaN      NaN           NaN            NaN            NaN   \n",
       "2            NaN      NaN           NaN            NaN            NaN   \n",
       "3            NaN      NaN           NaN            NaN            NaN   \n",
       "4            NaN      NaN           NaN            NaN            NaN   \n",
       "5            NaN      NaN           NaN            NaN            NaN   \n",
       "6            NaN      NaN           NaN            NaN            NaN   \n",
       "7            NaN      NaN           NaN            NaN            NaN   \n",
       "8            NaN      NaN           NaN            NaN            NaN   \n",
       "9            NaN      NaN           NaN            NaN            NaN   \n",
       "10           NaN      NaN           NaN            NaN            NaN   \n",
       "11           NaN      NaN           NaN            NaN            NaN   \n",
       "12           NaN      NaN           NaN            NaN            NaN   \n",
       "13           NaN      NaN           NaN            NaN            NaN   \n",
       "14  1973 Details  Uruguay  Soviet Union          Japan    South Korea   \n",
       "15  1977 Details    Japan         Japan           Cuba    South Korea   \n",
       "16  1981 Details    Japan         China          Japan   Soviet Union   \n",
       "17  1985 Details    Japan         China           Cuba   Soviet Union   \n",
       "18  1989 Details    Japan          Cuba   Soviet Union          China   \n",
       "19  1991 Details    Japan          Cuba          China   Soviet Union   \n",
       "20  1995 Details    Japan          Cuba         Brazil          China   \n",
       "21  1999 Details    Japan          Cuba         Russia         Brazil   \n",
       "22  2003 Details    Japan         China         Brazil  United States   \n",
       "23  2007 Details    Japan         Italy         Brazil  United States   \n",
       "24  2011 Details    Japan         Italy  United States          China   \n",
       "25  2015 Details    Japan         China         Serbia  United States   \n",
       "26  2019 Details    Japan         China  United States         Russia   \n",
       "\n",
       "        3rd place  4th place  Unnamed: 7  Teams  \n",
       "0             NaN        NaN         NaN    NaN  \n",
       "1             NaN        NaN         NaN    NaN  \n",
       "2             NaN        NaN         NaN    NaN  \n",
       "3             NaN        NaN         NaN    NaN  \n",
       "4             NaN        NaN         NaN    NaN  \n",
       "5             NaN        NaN         NaN    NaN  \n",
       "6             NaN        NaN         NaN    NaN  \n",
       "7             NaN        NaN         NaN    NaN  \n",
       "8             NaN        NaN         NaN    NaN  \n",
       "9             NaN        NaN         NaN    NaN  \n",
       "10            NaN        NaN         NaN    NaN  \n",
       "11            NaN        NaN         NaN    NaN  \n",
       "12            NaN        NaN         NaN    NaN  \n",
       "13            NaN        NaN         NaN    NaN  \n",
       "14           Peru       10.0         NaN    NaN  \n",
       "15          China        8.0         NaN    NaN  \n",
       "16  United States        8.0         NaN    NaN  \n",
       "17          Japan        8.0         NaN    NaN  \n",
       "18          Japan        8.0         NaN    NaN  \n",
       "19  United States       12.0         NaN    NaN  \n",
       "20        Croatia       12.0         NaN    NaN  \n",
       "21    South Korea       12.0         NaN    NaN  \n",
       "22          Italy       12.0         NaN    NaN  \n",
       "23           Cuba       12.0         NaN    NaN  \n",
       "24          Japan       12.0         NaN    NaN  \n",
       "25         Russia       12.0         NaN    NaN  \n",
       "26         Brazil       12.0         NaN    NaN  "
      ]
     },
     "execution_count": 23,
     "metadata": {},
     "output_type": "execute_result"
    }
   ],
   "source": [
    "# Display the content of results_df\n",
    "results_df"
   ]
  },
  {
   "cell_type": "code",
   "execution_count": 24,
   "id": "ccad4c78",
   "metadata": {},
   "outputs": [
    {
     "data": {
      "text/html": [
       "<div>\n",
       "<style scoped>\n",
       "    .dataframe tbody tr th:only-of-type {\n",
       "        vertical-align: middle;\n",
       "    }\n",
       "\n",
       "    .dataframe tbody tr th {\n",
       "        vertical-align: top;\n",
       "    }\n",
       "\n",
       "    .dataframe thead th {\n",
       "        text-align: right;\n",
       "    }\n",
       "</style>\n",
       "<table border=\"1\" class=\"dataframe\">\n",
       "  <thead>\n",
       "    <tr style=\"text-align: right;\">\n",
       "      <th></th>\n",
       "      <th>Year</th>\n",
       "      <th>Host</th>\n",
       "      <th>Unnamed: 2</th>\n",
       "      <th>Champions</th>\n",
       "      <th>Runners-up</th>\n",
       "      <th>3rd place</th>\n",
       "      <th>4th place</th>\n",
       "      <th>Unnamed: 7</th>\n",
       "      <th>Teams</th>\n",
       "    </tr>\n",
       "  </thead>\n",
       "  <tbody>\n",
       "    <tr>\n",
       "      <th>14</th>\n",
       "      <td>1973 Details</td>\n",
       "      <td>Uruguay</td>\n",
       "      <td>Soviet Union</td>\n",
       "      <td>Japan</td>\n",
       "      <td>South Korea</td>\n",
       "      <td>Peru</td>\n",
       "      <td>10.0</td>\n",
       "      <td>NaN</td>\n",
       "      <td>NaN</td>\n",
       "    </tr>\n",
       "    <tr>\n",
       "      <th>15</th>\n",
       "      <td>1977 Details</td>\n",
       "      <td>Japan</td>\n",
       "      <td>Japan</td>\n",
       "      <td>Cuba</td>\n",
       "      <td>South Korea</td>\n",
       "      <td>China</td>\n",
       "      <td>8.0</td>\n",
       "      <td>NaN</td>\n",
       "      <td>NaN</td>\n",
       "    </tr>\n",
       "    <tr>\n",
       "      <th>16</th>\n",
       "      <td>1981 Details</td>\n",
       "      <td>Japan</td>\n",
       "      <td>China</td>\n",
       "      <td>Japan</td>\n",
       "      <td>Soviet Union</td>\n",
       "      <td>United States</td>\n",
       "      <td>8.0</td>\n",
       "      <td>NaN</td>\n",
       "      <td>NaN</td>\n",
       "    </tr>\n",
       "    <tr>\n",
       "      <th>17</th>\n",
       "      <td>1985 Details</td>\n",
       "      <td>Japan</td>\n",
       "      <td>China</td>\n",
       "      <td>Cuba</td>\n",
       "      <td>Soviet Union</td>\n",
       "      <td>Japan</td>\n",
       "      <td>8.0</td>\n",
       "      <td>NaN</td>\n",
       "      <td>NaN</td>\n",
       "    </tr>\n",
       "    <tr>\n",
       "      <th>18</th>\n",
       "      <td>1989 Details</td>\n",
       "      <td>Japan</td>\n",
       "      <td>Cuba</td>\n",
       "      <td>Soviet Union</td>\n",
       "      <td>China</td>\n",
       "      <td>Japan</td>\n",
       "      <td>8.0</td>\n",
       "      <td>NaN</td>\n",
       "      <td>NaN</td>\n",
       "    </tr>\n",
       "    <tr>\n",
       "      <th>19</th>\n",
       "      <td>1991 Details</td>\n",
       "      <td>Japan</td>\n",
       "      <td>Cuba</td>\n",
       "      <td>China</td>\n",
       "      <td>Soviet Union</td>\n",
       "      <td>United States</td>\n",
       "      <td>12.0</td>\n",
       "      <td>NaN</td>\n",
       "      <td>NaN</td>\n",
       "    </tr>\n",
       "    <tr>\n",
       "      <th>20</th>\n",
       "      <td>1995 Details</td>\n",
       "      <td>Japan</td>\n",
       "      <td>Cuba</td>\n",
       "      <td>Brazil</td>\n",
       "      <td>China</td>\n",
       "      <td>Croatia</td>\n",
       "      <td>12.0</td>\n",
       "      <td>NaN</td>\n",
       "      <td>NaN</td>\n",
       "    </tr>\n",
       "    <tr>\n",
       "      <th>21</th>\n",
       "      <td>1999 Details</td>\n",
       "      <td>Japan</td>\n",
       "      <td>Cuba</td>\n",
       "      <td>Russia</td>\n",
       "      <td>Brazil</td>\n",
       "      <td>South Korea</td>\n",
       "      <td>12.0</td>\n",
       "      <td>NaN</td>\n",
       "      <td>NaN</td>\n",
       "    </tr>\n",
       "    <tr>\n",
       "      <th>22</th>\n",
       "      <td>2003 Details</td>\n",
       "      <td>Japan</td>\n",
       "      <td>China</td>\n",
       "      <td>Brazil</td>\n",
       "      <td>United States</td>\n",
       "      <td>Italy</td>\n",
       "      <td>12.0</td>\n",
       "      <td>NaN</td>\n",
       "      <td>NaN</td>\n",
       "    </tr>\n",
       "    <tr>\n",
       "      <th>23</th>\n",
       "      <td>2007 Details</td>\n",
       "      <td>Japan</td>\n",
       "      <td>Italy</td>\n",
       "      <td>Brazil</td>\n",
       "      <td>United States</td>\n",
       "      <td>Cuba</td>\n",
       "      <td>12.0</td>\n",
       "      <td>NaN</td>\n",
       "      <td>NaN</td>\n",
       "    </tr>\n",
       "    <tr>\n",
       "      <th>24</th>\n",
       "      <td>2011 Details</td>\n",
       "      <td>Japan</td>\n",
       "      <td>Italy</td>\n",
       "      <td>United States</td>\n",
       "      <td>China</td>\n",
       "      <td>Japan</td>\n",
       "      <td>12.0</td>\n",
       "      <td>NaN</td>\n",
       "      <td>NaN</td>\n",
       "    </tr>\n",
       "    <tr>\n",
       "      <th>25</th>\n",
       "      <td>2015 Details</td>\n",
       "      <td>Japan</td>\n",
       "      <td>China</td>\n",
       "      <td>Serbia</td>\n",
       "      <td>United States</td>\n",
       "      <td>Russia</td>\n",
       "      <td>12.0</td>\n",
       "      <td>NaN</td>\n",
       "      <td>NaN</td>\n",
       "    </tr>\n",
       "    <tr>\n",
       "      <th>26</th>\n",
       "      <td>2019 Details</td>\n",
       "      <td>Japan</td>\n",
       "      <td>China</td>\n",
       "      <td>United States</td>\n",
       "      <td>Russia</td>\n",
       "      <td>Brazil</td>\n",
       "      <td>12.0</td>\n",
       "      <td>NaN</td>\n",
       "      <td>NaN</td>\n",
       "    </tr>\n",
       "  </tbody>\n",
       "</table>\n",
       "</div>"
      ],
      "text/plain": [
       "            Year     Host    Unnamed: 2      Champions     Runners-up  \\\n",
       "14  1973 Details  Uruguay  Soviet Union          Japan    South Korea   \n",
       "15  1977 Details    Japan         Japan           Cuba    South Korea   \n",
       "16  1981 Details    Japan         China          Japan   Soviet Union   \n",
       "17  1985 Details    Japan         China           Cuba   Soviet Union   \n",
       "18  1989 Details    Japan          Cuba   Soviet Union          China   \n",
       "19  1991 Details    Japan          Cuba          China   Soviet Union   \n",
       "20  1995 Details    Japan          Cuba         Brazil          China   \n",
       "21  1999 Details    Japan          Cuba         Russia         Brazil   \n",
       "22  2003 Details    Japan         China         Brazil  United States   \n",
       "23  2007 Details    Japan         Italy         Brazil  United States   \n",
       "24  2011 Details    Japan         Italy  United States          China   \n",
       "25  2015 Details    Japan         China         Serbia  United States   \n",
       "26  2019 Details    Japan         China  United States         Russia   \n",
       "\n",
       "        3rd place  4th place  Unnamed: 7  Teams  \n",
       "14           Peru       10.0         NaN    NaN  \n",
       "15          China        8.0         NaN    NaN  \n",
       "16  United States        8.0         NaN    NaN  \n",
       "17          Japan        8.0         NaN    NaN  \n",
       "18          Japan        8.0         NaN    NaN  \n",
       "19  United States       12.0         NaN    NaN  \n",
       "20        Croatia       12.0         NaN    NaN  \n",
       "21    South Korea       12.0         NaN    NaN  \n",
       "22          Italy       12.0         NaN    NaN  \n",
       "23           Cuba       12.0         NaN    NaN  \n",
       "24          Japan       12.0         NaN    NaN  \n",
       "25         Russia       12.0         NaN    NaN  \n",
       "26         Brazil       12.0         NaN    NaN  "
      ]
     },
     "execution_count": 24,
     "metadata": {},
     "output_type": "execute_result"
    }
   ],
   "source": [
    "# Let' clean the data:\n",
    "## Remove all rows that contain only null values\n",
    "\n",
    "clean_df = results_df.dropna(how=\"all\")\n",
    "clean_df"
   ]
  },
  {
   "cell_type": "markdown",
   "id": "676d3a3f-e72a-45c3-bb65-90521254cc78",
   "metadata": {},
   "source": [
    "#### Jump to the `Self-Work Exercises #1` Section"
   ]
  },
  {
   "cell_type": "markdown",
   "id": "4897a6dc",
   "metadata": {},
   "source": [
    "# Read zip files "
   ]
  },
  {
   "cell_type": "code",
   "execution_count": 25,
   "id": "d7f13fb6",
   "metadata": {},
   "outputs": [],
   "source": [
    "unemployment_rates = pd.read_csv(\"./data/arbeitsmarktstatistik_erwerbslosenquoten_geschlecht.zip\", \n",
    "                        sep=\";\",\n",
    "                        encoding='latin-1')\n",
    "\n",
    "# Note: erwerbslosenquoten means unemployment rate\n",
    "# arbeitsmarktstatistik means Statistics about the work market"
   ]
  },
  {
   "cell_type": "code",
   "execution_count": 30,
   "id": "23b13dfa",
   "metadata": {},
   "outputs": [
    {
     "data": {
      "text/html": [
       "<div>\n",
       "<style scoped>\n",
       "    .dataframe tbody tr th:only-of-type {\n",
       "        vertical-align: middle;\n",
       "    }\n",
       "\n",
       "    .dataframe tbody tr th {\n",
       "        vertical-align: top;\n",
       "    }\n",
       "\n",
       "    .dataframe thead th {\n",
       "        text-align: right;\n",
       "    }\n",
       "</style>\n",
       "<table border=\"1\" class=\"dataframe\">\n",
       "  <thead>\n",
       "    <tr style=\"text-align: right;\">\n",
       "      <th></th>\n",
       "      <th></th>\n",
       "      <th></th>\n",
       "      <th></th>\n",
       "      <th></th>\n",
       "      <th></th>\n",
       "      <th>ILO-Arbeitsmarktstatistik</th>\n",
       "    </tr>\n",
       "  </thead>\n",
       "  <tbody>\n",
       "    <tr>\n",
       "      <th>Datum</th>\n",
       "      <th>Erwerbslosenquoten Männer insgesamt, in %</th>\n",
       "      <th>Erwerbslosenquoten Männer unter 25 Jahren, in %</th>\n",
       "      <th>Erwerbslosenquoten Männer ab 25 Jahren, in %</th>\n",
       "      <th>Erwerbslosenquoten Frauen insgesamt, in %</th>\n",
       "      <th>Erwerbslosenquoten Frauen unter 25 Jahren, in %</th>\n",
       "      <td>Erwerbslosenquoten Frauen ab 25 Jahren, in %</td>\n",
       "    </tr>\n",
       "    <tr>\n",
       "      <th>01/03/2007</th>\n",
       "      <th>9,5</th>\n",
       "      <th>12,7</th>\n",
       "      <th>9,1</th>\n",
       "      <th>8,8</th>\n",
       "      <th>8,7</th>\n",
       "      <td>8,8</td>\n",
       "    </tr>\n",
       "    <tr>\n",
       "      <th>01/04/2007</th>\n",
       "      <th>8,3</th>\n",
       "      <th>13,6</th>\n",
       "      <th>7,7</th>\n",
       "      <th>9,0</th>\n",
       "      <th>10,6</th>\n",
       "      <td>8,7</td>\n",
       "    </tr>\n",
       "    <tr>\n",
       "      <th>01/05/2007</th>\n",
       "      <th>8,5</th>\n",
       "      <th>11,7</th>\n",
       "      <th>8,1</th>\n",
       "      <th>8,5</th>\n",
       "      <th>10,4</th>\n",
       "      <td>8,3</td>\n",
       "    </tr>\n",
       "    <tr>\n",
       "      <th>01/06/2007</th>\n",
       "      <th>8,0</th>\n",
       "      <th>12,5</th>\n",
       "      <th>7,4</th>\n",
       "      <th>8,7</th>\n",
       "      <th>12,9</th>\n",
       "      <td>8,2</td>\n",
       "    </tr>\n",
       "  </tbody>\n",
       "</table>\n",
       "</div>"
      ],
      "text/plain": [
       "                                                                                                                                                                                                                                                                ILO-Arbeitsmarktstatistik\n",
       "Datum      Erwerbslosenquoten Männer insgesamt, in % Erwerbslosenquoten Männer unter 25 Jahren, in % Erwerbslosenquoten Männer ab 25 Jahren, in % Erwerbslosenquoten Frauen insgesamt, in % Erwerbslosenquoten Frauen unter 25 Jahren, in %  Erwerbslosenquoten Frauen ab 25 Jahren, in %\n",
       "01/03/2007 9,5                                       12,7                                            9,1                                          8,8                                       8,7                                                                                       8,8\n",
       "01/04/2007 8,3                                       13,6                                            7,7                                          9,0                                       10,6                                                                                      8,7\n",
       "01/05/2007 8,5                                       11,7                                            8,1                                          8,5                                       10,4                                                                                      8,3\n",
       "01/06/2007 8,0                                       12,5                                            7,4                                          8,7                                       12,9                                                                                      8,2"
      ]
     },
     "execution_count": 30,
     "metadata": {},
     "output_type": "execute_result"
    }
   ],
   "source": [
    "# Display the data\n",
    "unemployment_rates.head()\n"
   ]
  },
  {
   "cell_type": "markdown",
   "id": "e2d44384",
   "metadata": {},
   "source": [
    "<br><br>\n",
    "# Introduction to JSON"
   ]
  },
  {
   "cell_type": "code",
   "execution_count": 31,
   "id": "1dcdde31",
   "metadata": {},
   "outputs": [],
   "source": [
    "# Import the json package\n",
    "import json"
   ]
  },
  {
   "cell_type": "code",
   "execution_count": 32,
   "id": "2e6e6e1a",
   "metadata": {},
   "outputs": [],
   "source": [
    "# Creating student records\n",
    "student1 = {\n",
    "    \"name\": \"Alice\",\n",
    "    \"age\": 15,\n",
    "    \"grade\": 10,\n",
    "    \"subjects\": [\"Math\", \"Science\", \"History\"],\n",
    "    \"city\": \"Augsburg\"\n",
    "}\n",
    "\n",
    "student2 = {\n",
    "    \"name\": \"Bob\",\n",
    "    \"age\": 16,\n",
    "    \"grade\": 11,\n",
    "    \"subjects\": [\"English\", \"Physics\", \"Geography\"],\n",
    "    \"city\": \"Berlin\"\n",
    "}\n",
    "\n",
    "student3 = {\n",
    "    \"name\": \"Carol\",\n",
    "    \"age\": 14,\n",
    "    \"grade\": 9,\n",
    "    \"subjects\": [\"Art\", \"Music\", \"PE\"],\n",
    "    \"city\": \"Cottbus\"\n",
    "}"
   ]
  },
  {
   "cell_type": "code",
   "execution_count": 33,
   "id": "3851d582",
   "metadata": {},
   "outputs": [],
   "source": [
    "# Creating a list of student records\n",
    "student_database = [student1, student2, student3]"
   ]
  },
  {
   "cell_type": "code",
   "execution_count": 34,
   "id": "c8959507",
   "metadata": {},
   "outputs": [],
   "source": [
    "# Converting the student database to JSON format\n",
    "json_data = json.dumps(student_database, indent=4)"
   ]
  },
  {
   "cell_type": "markdown",
   "id": "8765a0c7-2782-4874-8de4-bd8227f6408f",
   "metadata": {},
   "source": [
    "With indent=4: Each level of the JSON structure will be indented by 4 spaces, making it easier to read and visually understand the nested structure."
   ]
  },
  {
   "cell_type": "code",
   "execution_count": 35,
   "id": "a48ec2b3",
   "metadata": {},
   "outputs": [
    {
     "name": "stdout",
     "output_type": "stream",
     "text": [
      "[\n",
      "    {\n",
      "        \"name\": \"Alice\",\n",
      "        \"age\": 15,\n",
      "        \"grade\": 10,\n",
      "        \"subjects\": [\n",
      "            \"Math\",\n",
      "            \"Science\",\n",
      "            \"History\"\n",
      "        ],\n",
      "        \"city\": \"Augsburg\"\n",
      "    },\n",
      "    {\n",
      "        \"name\": \"Bob\",\n",
      "        \"age\": 16,\n",
      "        \"grade\": 11,\n",
      "        \"subjects\": [\n",
      "            \"English\",\n",
      "            \"Physics\",\n",
      "            \"Geography\"\n",
      "        ],\n",
      "        \"city\": \"Berlin\"\n",
      "    },\n",
      "    {\n",
      "        \"name\": \"Carol\",\n",
      "        \"age\": 14,\n",
      "        \"grade\": 9,\n",
      "        \"subjects\": [\n",
      "            \"Art\",\n",
      "            \"Music\",\n",
      "            \"PE\"\n",
      "        ],\n",
      "        \"city\": \"Cottbus\"\n",
      "    }\n",
      "]\n"
     ]
    }
   ],
   "source": [
    "# Printing the JSON data\n",
    "print(json_data)"
   ]
  },
  {
   "cell_type": "markdown",
   "id": "2c9ecb0b-25f3-465f-9d07-69f6a8bb1149",
   "metadata": {},
   "source": [
    "### Read a json file\n",
    "\n",
    "First, copy and paste the `animals.json` file into the `data` folder of your working directory"
   ]
  },
  {
   "cell_type": "markdown",
   "id": "635549cf",
   "metadata": {},
   "source": [
    "### Load the file"
   ]
  },
  {
   "cell_type": "code",
   "execution_count": 36,
   "id": "48a0bccf",
   "metadata": {},
   "outputs": [
    {
     "name": "stdout",
     "output_type": "stream",
     "text": [
      "[{'name': 'Ace', 'animal': 'Alpaca', 'tricks': ['spit'], 'demographics': {'sex': 'male', 'age': 2}, 'owner': 'Alice', 'city': 'Augsburg'}, {'name': 'Biscuit', 'animal': 'Beagle', 'tricks': ['sit', 'hunt'], 'demographics': {'sex': 'female', 'age': 1}, 'owner': 'Bob', 'city': 'Berlin'}, {'name': 'Coco', 'animal': 'Chinchilla', 'tricks': ['explore', 'climb'], 'demographics': {'sex': 'male', 'age': 5}, 'owner': 'Carol', 'city': 'Cottbus'}]\n"
     ]
    }
   ],
   "source": [
    "## We first load the file\n",
    "with open(\"./data/animals.json\") as f:\n",
    "    d = json.load(f)\n",
    "\n",
    "print(d)"
   ]
  },
  {
   "cell_type": "markdown",
   "id": "e8dfabe5",
   "metadata": {},
   "source": [
    "### Normalise the loaded data"
   ]
  },
  {
   "cell_type": "code",
   "execution_count": 37,
   "id": "54559a99",
   "metadata": {},
   "outputs": [],
   "source": [
    "# To convert each element in \"demographics\" section into new columns,\n",
    "# We prefer to use : pd.json_nomalize\n",
    "animals_v1 = pd.json_normalize(d)"
   ]
  },
  {
   "cell_type": "code",
   "execution_count": 38,
   "id": "b9d60ca6",
   "metadata": {
    "scrolled": true
   },
   "outputs": [
    {
     "data": {
      "text/html": [
       "<div>\n",
       "<style scoped>\n",
       "    .dataframe tbody tr th:only-of-type {\n",
       "        vertical-align: middle;\n",
       "    }\n",
       "\n",
       "    .dataframe tbody tr th {\n",
       "        vertical-align: top;\n",
       "    }\n",
       "\n",
       "    .dataframe thead th {\n",
       "        text-align: right;\n",
       "    }\n",
       "</style>\n",
       "<table border=\"1\" class=\"dataframe\">\n",
       "  <thead>\n",
       "    <tr style=\"text-align: right;\">\n",
       "      <th></th>\n",
       "      <th>name</th>\n",
       "      <th>animal</th>\n",
       "      <th>tricks</th>\n",
       "      <th>owner</th>\n",
       "      <th>city</th>\n",
       "      <th>demographics.sex</th>\n",
       "      <th>demographics.age</th>\n",
       "    </tr>\n",
       "  </thead>\n",
       "  <tbody>\n",
       "    <tr>\n",
       "      <th>0</th>\n",
       "      <td>Ace</td>\n",
       "      <td>Alpaca</td>\n",
       "      <td>[spit]</td>\n",
       "      <td>Alice</td>\n",
       "      <td>Augsburg</td>\n",
       "      <td>male</td>\n",
       "      <td>2</td>\n",
       "    </tr>\n",
       "    <tr>\n",
       "      <th>1</th>\n",
       "      <td>Biscuit</td>\n",
       "      <td>Beagle</td>\n",
       "      <td>[sit, hunt]</td>\n",
       "      <td>Bob</td>\n",
       "      <td>Berlin</td>\n",
       "      <td>female</td>\n",
       "      <td>1</td>\n",
       "    </tr>\n",
       "    <tr>\n",
       "      <th>2</th>\n",
       "      <td>Coco</td>\n",
       "      <td>Chinchilla</td>\n",
       "      <td>[explore, climb]</td>\n",
       "      <td>Carol</td>\n",
       "      <td>Cottbus</td>\n",
       "      <td>male</td>\n",
       "      <td>5</td>\n",
       "    </tr>\n",
       "  </tbody>\n",
       "</table>\n",
       "</div>"
      ],
      "text/plain": [
       "      name      animal            tricks  owner      city demographics.sex  \\\n",
       "0      Ace      Alpaca            [spit]  Alice  Augsburg             male   \n",
       "1  Biscuit      Beagle       [sit, hunt]    Bob    Berlin           female   \n",
       "2     Coco  Chinchilla  [explore, climb]  Carol   Cottbus             male   \n",
       "\n",
       "   demographics.age  \n",
       "0                 2  \n",
       "1                 1  \n",
       "2                 5  "
      ]
     },
     "execution_count": 38,
     "metadata": {},
     "output_type": "execute_result"
    }
   ],
   "source": [
    "# Display animals_v1\n",
    "animals_v1"
   ]
  },
  {
   "cell_type": "markdown",
   "id": "94dd5f3d",
   "metadata": {},
   "source": [
    "### Read a json file as a dataframe directly"
   ]
  },
  {
   "cell_type": "code",
   "execution_count": 39,
   "id": "32a5a977",
   "metadata": {},
   "outputs": [],
   "source": [
    "animals_v2 = pd.read_json(\"./data/animals.json\")"
   ]
  },
  {
   "cell_type": "code",
   "execution_count": 40,
   "id": "679b1a24",
   "metadata": {
    "scrolled": true
   },
   "outputs": [
    {
     "data": {
      "text/html": [
       "<div>\n",
       "<style scoped>\n",
       "    .dataframe tbody tr th:only-of-type {\n",
       "        vertical-align: middle;\n",
       "    }\n",
       "\n",
       "    .dataframe tbody tr th {\n",
       "        vertical-align: top;\n",
       "    }\n",
       "\n",
       "    .dataframe thead th {\n",
       "        text-align: right;\n",
       "    }\n",
       "</style>\n",
       "<table border=\"1\" class=\"dataframe\">\n",
       "  <thead>\n",
       "    <tr style=\"text-align: right;\">\n",
       "      <th></th>\n",
       "      <th>name</th>\n",
       "      <th>animal</th>\n",
       "      <th>tricks</th>\n",
       "      <th>demographics</th>\n",
       "      <th>owner</th>\n",
       "      <th>city</th>\n",
       "    </tr>\n",
       "  </thead>\n",
       "  <tbody>\n",
       "    <tr>\n",
       "      <th>0</th>\n",
       "      <td>Ace</td>\n",
       "      <td>Alpaca</td>\n",
       "      <td>[spit]</td>\n",
       "      <td>{'sex': 'male', 'age': 2}</td>\n",
       "      <td>Alice</td>\n",
       "      <td>Augsburg</td>\n",
       "    </tr>\n",
       "    <tr>\n",
       "      <th>1</th>\n",
       "      <td>Biscuit</td>\n",
       "      <td>Beagle</td>\n",
       "      <td>[sit, hunt]</td>\n",
       "      <td>{'sex': 'female', 'age': 1}</td>\n",
       "      <td>Bob</td>\n",
       "      <td>Berlin</td>\n",
       "    </tr>\n",
       "    <tr>\n",
       "      <th>2</th>\n",
       "      <td>Coco</td>\n",
       "      <td>Chinchilla</td>\n",
       "      <td>[explore, climb]</td>\n",
       "      <td>{'sex': 'male', 'age': 5}</td>\n",
       "      <td>Carol</td>\n",
       "      <td>Cottbus</td>\n",
       "    </tr>\n",
       "  </tbody>\n",
       "</table>\n",
       "</div>"
      ],
      "text/plain": [
       "      name      animal            tricks                 demographics  owner  \\\n",
       "0      Ace      Alpaca            [spit]    {'sex': 'male', 'age': 2}  Alice   \n",
       "1  Biscuit      Beagle       [sit, hunt]  {'sex': 'female', 'age': 1}    Bob   \n",
       "2     Coco  Chinchilla  [explore, climb]    {'sex': 'male', 'age': 5}  Carol   \n",
       "\n",
       "       city  \n",
       "0  Augsburg  \n",
       "1    Berlin  \n",
       "2   Cottbus  "
      ]
     },
     "execution_count": 40,
     "metadata": {},
     "output_type": "execute_result"
    }
   ],
   "source": [
    "# Display animals_v2\n",
    "animals_v2"
   ]
  },
  {
   "cell_type": "markdown",
   "id": "75098733-0de6-486a-87cf-057e42a99833",
   "metadata": {},
   "source": [
    "### Self-work exercises #1: 4 points\n",
    "\n",
    "#### What problems do you see with `clean_df`? Can you clean the DataFrame to obtain a clean one?\n",
    "\n",
    "Write a series of code commands in order to clean the DataFrame:\n",
    "- create a deep copy of the DataFrame `clean_df` and assign it to the variable `df`\n",
    "- get the list of useful columns, without copy-pasting them (use code!)\n",
    "- drop the columns that contain missing values\n",
    "- rename the columns so that each column corresponds to the correct header\n",
    "- transform the `Year` column to remove `Details`, which we don't need\n",
    "\n",
    "*Tip: this might be useful https://pandas.pydata.org/docs/reference/api/pandas.DataFrame.dropna.html*"
   ]
  },
  {
   "cell_type": "code",
   "execution_count": 43,
   "id": "1b181d44",
   "metadata": {},
   "outputs": [
    {
     "name": "stdout",
     "output_type": "stream",
     "text": [
      "    Year     Host     Champions    Runners-up     3rd place      4th place  \\\n",
      "14  1973  Uruguay  Soviet Union         Japan   South Korea           Peru   \n",
      "15  1977    Japan         Japan          Cuba   South Korea          China   \n",
      "16  1981    Japan         China         Japan  Soviet Union  United States   \n",
      "17  1985    Japan         China          Cuba  Soviet Union          Japan   \n",
      "18  1989    Japan          Cuba  Soviet Union         China          Japan   \n",
      "\n",
      "    Teams  \n",
      "14   10.0  \n",
      "15    8.0  \n",
      "16    8.0  \n",
      "17    8.0  \n",
      "18    8.0  \n"
     ]
    }
   ],
   "source": [
    "    \n",
    "df = clean_df.copy(True)\n",
    "columnlist = [c for c in df.columns if not(c.startswith(\"Unnamed\"))]  \n",
    "df.dropna(axis=\"columns\", how='all', inplace=True)\n",
    "df.columns = columnlist\n",
    "df['Year'] = df['Year'].str.split(\" \").str[0]\n",
    "print(df.head())"
   ]
  },
  {
   "cell_type": "markdown",
   "id": "dfb83778",
   "metadata": {},
   "source": [
    "### Self-work exercises #2: 6 points\n",
    "\n",
    "#### Use the python commands to answer the following questions"
   ]
  },
  {
   "cell_type": "markdown",
   "id": "3f7e2173-0196-464f-b12a-0a1965bb2aaa",
   "metadata": {},
   "source": [
    "**1. What type is the resulting data (the loaded json: d) ?**"
   ]
  },
  {
   "cell_type": "code",
   "execution_count": 44,
   "id": "260ac9f1",
   "metadata": {},
   "outputs": [
    {
     "name": "stdout",
     "output_type": "stream",
     "text": [
      "<class 'list'>\n"
     ]
    }
   ],
   "source": [
    "print(type(d))\n"
   ]
  },
  {
   "cell_type": "markdown",
   "id": "edd259ec-2dee-44ab-951e-aebd169a7bca",
   "metadata": {},
   "source": [
    "**2. How many items does the resulting data have (the loaded json: d) ?**"
   ]
  },
  {
   "cell_type": "code",
   "execution_count": 45,
   "id": "0ad895d8",
   "metadata": {},
   "outputs": [
    {
     "name": "stdout",
     "output_type": "stream",
     "text": [
      "3\n"
     ]
    }
   ],
   "source": [
    "print(len(d))"
   ]
  },
  {
   "cell_type": "markdown",
   "id": "11183a6f-63a9-4378-aec5-164a091781a9",
   "metadata": {},
   "source": [
    "    **3. What is the type of each item in the resulting data (the loaded json: d) ?**"
   ]
  },
  {
   "cell_type": "code",
   "execution_count": 46,
   "id": "92c06130",
   "metadata": {},
   "outputs": [
    {
     "name": "stdout",
     "output_type": "stream",
     "text": [
      "<class 'dict'>\n"
     ]
    }
   ],
   "source": [
    "print(type(d[1]))  \n",
    "\n",
    "\n"
   ]
  },
  {
   "cell_type": "markdown",
   "id": "0da87931-2591-4fa6-9a76-ba74fe1d5c01",
   "metadata": {},
   "source": [
    "**4. How many tricks does Coco know ? Use the code to output it**"
   ]
  },
  {
   "cell_type": "code",
   "execution_count": 47,
   "id": "1e0a0dfe",
   "metadata": {},
   "outputs": [
    {
     "name": "stdout",
     "output_type": "stream",
     "text": [
      "Coco knows 2 amazing tricks!\n"
     ]
    }
   ],
   "source": [
    "#Coco the chinchilla \n",
    "coco_tricks = next(len(item[\"tricks\"]) for item in d if item[\"name\"] == \"Coco\")\n",
    "print(\"Coco knows \" + str(coco_tricks) + \" amazing tricks!\")\n"
   ]
  },
  {
   "cell_type": "markdown",
   "id": "b7316743-0ac4-4e66-a19f-1b9a1c6c26fa",
   "metadata": {},
   "source": [
    "**5. How can you change the column name to be demographics_sex and demographics_age instead of demographics.sex and demographics.age?**\n",
    "\n",
    "Save it into animals_v3 variable\n",
    "\n",
    "*Tip: research online the pandas.json_normalize method*"
   ]
  },
  {
   "cell_type": "code",
   "execution_count": 48,
   "id": "581b4acf",
   "metadata": {},
   "outputs": [
    {
     "name": "stdout",
     "output_type": "stream",
     "text": [
      "      name      animal            tricks  owner      city demographics_sex  \\\n",
      "0      Ace      Alpaca            [spit]  Alice  Augsburg             male   \n",
      "1  Biscuit      Beagle       [sit, hunt]    Bob    Berlin           female   \n",
      "2     Coco  Chinchilla  [explore, climb]  Carol   Cottbus             male   \n",
      "\n",
      "   demographics_age  \n",
      "0                 2  \n",
      "1                 1  \n",
      "2                 5  \n"
     ]
    }
   ],
   "source": [
    "animals_v3 = pd.json_normalize(d, sep=\"_\")\n",
    "print(animals_v3)\n"
   ]
  },
  {
   "cell_type": "markdown",
   "id": "8c93821b-9e19-4b34-82f3-255195e1e2ad",
   "metadata": {},
   "source": [
    "**6. Following the examples of students_database, create the teachers_database**\n",
    "\n",
    "Hints:\n",
    "- the teacher is very wise, therefore they are at least 100 years old!\n",
    "- Selma's city starts with S and is located in Germany\n",
    "- The subject is the course you are taking"
   ]
  },
  {
   "cell_type": "code",
   "execution_count": 63,
   "id": "0f3499d4",
   "metadata": {},
   "outputs": [
    {
     "data": {
      "text/html": [
       "<div>\n",
       "<style scoped>\n",
       "    .dataframe tbody tr th:only-of-type {\n",
       "        vertical-align: middle;\n",
       "    }\n",
       "\n",
       "    .dataframe tbody tr th {\n",
       "        vertical-align: top;\n",
       "    }\n",
       "\n",
       "    .dataframe thead th {\n",
       "        text-align: right;\n",
       "    }\n",
       "</style>\n",
       "<table border=\"1\" class=\"dataframe\">\n",
       "  <thead>\n",
       "    <tr style=\"text-align: right;\">\n",
       "      <th></th>\n",
       "      <th>name</th>\n",
       "      <th>age</th>\n",
       "      <th>grade</th>\n",
       "      <th>subjects</th>\n",
       "      <th>city</th>\n",
       "    </tr>\n",
       "  </thead>\n",
       "  <tbody>\n",
       "    <tr>\n",
       "      <th>0</th>\n",
       "      <td>Krisztián</td>\n",
       "      <td>25</td>\n",
       "      <td>1</td>\n",
       "      <td>Data Scraping</td>\n",
       "      <td>Berlin</td>\n",
       "    </tr>\n",
       "  </tbody>\n",
       "</table>\n",
       "</div>"
      ],
      "text/plain": [
       "        name  age  grade       subjects    city\n",
       "0  Krisztián   25      1  Data Scraping  Berlin"
      ]
     },
     "execution_count": 63,
     "metadata": {},
     "output_type": "execute_result"
    }
   ],
   "source": [
    "### Complete the following program:\n",
    "from io import StringIO \n",
    "teacher = {\n",
    "    \"name\": \"Krisztián\",\n",
    "    \"age\": 25,\n",
    "    \"grade\": 1.0,\n",
    "    \"subjects\": \"Data Scraping\",  \n",
    "    \"city\": \"Berlin\"\n",
    "}\n",
    "\n",
    "teacher_database = [teacher]\n",
    "teacher_data = json.dumps(teacher_database, indent=4)\n",
    "\n",
    "# Wrap the JSON string in a StringIO object to prevent the FutureWarning\n",
    "teachers_df = pd.read_json(StringIO(teacher_data))\n",
    "\n",
    "teachers_df"
   ]
  },
  {
   "cell_type": "code",
   "execution_count": null,
   "id": "ebed8ae8",
   "metadata": {},
   "outputs": [],
   "source": []
  }
 ],
 "metadata": {
  "kernelspec": {
   "display_name": "Python 3",
   "language": "python",
   "name": "python3"
  },
  "language_info": {
   "codemirror_mode": {
    "name": "ipython",
    "version": 3
   },
   "file_extension": ".py",
   "mimetype": "text/x-python",
   "name": "python",
   "nbconvert_exporter": "python",
   "pygments_lexer": "ipython3",
   "version": "3.12.1"
  }
 },
 "nbformat": 4,
 "nbformat_minor": 5
}

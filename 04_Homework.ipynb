{
 "cells": [
  {
   "cell_type": "markdown",
   "id": "9fdbabd1-a139-42cd-86eb-3911f2363ea6",
   "metadata": {},
   "source": [
    "# 04 Homework\n",
    "© Copyright: 2024, Selma Hadzic, all rights reserved."
   ]
  },
  {
   "cell_type": "markdown",
   "id": "120d9520-a37c-4240-8c50-34e92d9d85f7",
   "metadata": {},
   "source": [
    "#### Number of points: 15 (weights 15% in the final grade)\n",
    "\n",
    "\n",
    "1. Pull from the `ESMT_2024_DataScraping_Lectures` repository: you should get this `04_Homework` file\n",
    "2. Launch VS Code and open your working-folder\n",
    "3. Create a `Session_04` folder, in which you create another folder called `data`\n",
    "4. Copy paste the notebook `04_Homework` from the lectures repo to the working-folder. Copy the csv file `WHO_COVID19_cases.csv` into the `working-folder/Session_04/data` directory.\n",
    "5. Do the exercises on 04_Homework in your working-folder\n",
    "6. Once you are finished, copy-Paste the notebook into `ESMT_2024_DataScraping_Students` folder in your computer\n",
    "8. Commit and push your homework in your branch before the deadline\n",
    "\n",
    "#### Deadline: October 24th 01:29 pm CET\n",
    "\n",
    "#### Any missed deadline without justification to the Administration will result in 0 points for this homework.\n",
    "#### If the Github branch is not correctly named using the indicated format **LASTNAME_firstname**, then a penalty of -2 points will be applied"
   ]
  },
  {
   "cell_type": "markdown",
   "id": "099d2883-1487-4402-9d9f-f4009bf1d844",
   "metadata": {},
   "source": [
    "## Dataset: use the WHO_COVID19_cases.csv dataset from Session_01"
   ]
  },
  {
   "cell_type": "markdown",
   "id": "180e5436-4077-44a0-be08-135e124f73d3",
   "metadata": {},
   "source": [
    "## 1- Filter the data for 3 countries and draw a line plot for Cumulative_cases vs Date_reported using seaborn (7.5 points)\n",
    "\n",
    "*Tip: you may want to explore `plt.xticks(rotation=90);` and `plt.gca().xaxis.set_major_locator(ticker.MultipleLocator(6)) ;` to unclutter the dates on the x-axis*"
   ]
  },
  {
   "cell_type": "code",
   "execution_count": 57,
   "id": "5c5c3d2f-f7e9-4fc1-912d-c3f41900cfdb",
   "metadata": {},
   "outputs": [],
   "source": [
    "\n",
    "#import packages\n",
    "import pandas as pd\n",
    "import seaborn as sns\n",
    "import matplotlib.pyplot as plt\n",
    "import matplotlib.ticker as ticker\n",
    "import plotly.express as px"
   ]
  },
  {
   "cell_type": "code",
   "execution_count": 68,
   "id": "53be5a6f-00d3-4134-9009-68d0dd42b729",
   "metadata": {},
   "outputs": [
    {
     "data": {
      "text/html": [
       "<div>\n",
       "<style scoped>\n",
       "    .dataframe tbody tr th:only-of-type {\n",
       "        vertical-align: middle;\n",
       "    }\n",
       "\n",
       "    .dataframe tbody tr th {\n",
       "        vertical-align: top;\n",
       "    }\n",
       "\n",
       "    .dataframe thead th {\n",
       "        text-align: right;\n",
       "    }\n",
       "</style>\n",
       "<table border=\"1\" class=\"dataframe\">\n",
       "  <thead>\n",
       "    <tr style=\"text-align: right;\">\n",
       "      <th></th>\n",
       "      <th>Date_reported</th>\n",
       "      <th>Country_code</th>\n",
       "      <th>Country</th>\n",
       "      <th>Continent</th>\n",
       "      <th>WHO_region</th>\n",
       "      <th>New_cases</th>\n",
       "      <th>Cumulative_cases</th>\n",
       "      <th>New_deaths</th>\n",
       "      <th>Cumulative_deaths</th>\n",
       "    </tr>\n",
       "  </thead>\n",
       "  <tbody>\n",
       "    <tr>\n",
       "      <th>0</th>\n",
       "      <td>2020-01-05</td>\n",
       "      <td>AF</td>\n",
       "      <td>Afghanistan</td>\n",
       "      <td>Asia</td>\n",
       "      <td>EMRO</td>\n",
       "      <td>NaN</td>\n",
       "      <td>0</td>\n",
       "      <td>NaN</td>\n",
       "      <td>0</td>\n",
       "    </tr>\n",
       "    <tr>\n",
       "      <th>1</th>\n",
       "      <td>2020-01-12</td>\n",
       "      <td>AF</td>\n",
       "      <td>Afghanistan</td>\n",
       "      <td>Asia</td>\n",
       "      <td>EMRO</td>\n",
       "      <td>NaN</td>\n",
       "      <td>0</td>\n",
       "      <td>NaN</td>\n",
       "      <td>0</td>\n",
       "    </tr>\n",
       "    <tr>\n",
       "      <th>2</th>\n",
       "      <td>2020-01-19</td>\n",
       "      <td>AF</td>\n",
       "      <td>Afghanistan</td>\n",
       "      <td>Asia</td>\n",
       "      <td>EMRO</td>\n",
       "      <td>NaN</td>\n",
       "      <td>0</td>\n",
       "      <td>NaN</td>\n",
       "      <td>0</td>\n",
       "    </tr>\n",
       "    <tr>\n",
       "      <th>3</th>\n",
       "      <td>2020-01-26</td>\n",
       "      <td>AF</td>\n",
       "      <td>Afghanistan</td>\n",
       "      <td>Asia</td>\n",
       "      <td>EMRO</td>\n",
       "      <td>NaN</td>\n",
       "      <td>0</td>\n",
       "      <td>NaN</td>\n",
       "      <td>0</td>\n",
       "    </tr>\n",
       "    <tr>\n",
       "      <th>4</th>\n",
       "      <td>2020-02-02</td>\n",
       "      <td>AF</td>\n",
       "      <td>Afghanistan</td>\n",
       "      <td>Asia</td>\n",
       "      <td>EMRO</td>\n",
       "      <td>NaN</td>\n",
       "      <td>0</td>\n",
       "      <td>NaN</td>\n",
       "      <td>0</td>\n",
       "    </tr>\n",
       "  </tbody>\n",
       "</table>\n",
       "</div>"
      ],
      "text/plain": [
       "  Date_reported Country_code      Country Continent WHO_region  New_cases  \\\n",
       "0    2020-01-05           AF  Afghanistan      Asia       EMRO        NaN   \n",
       "1    2020-01-12           AF  Afghanistan      Asia       EMRO        NaN   \n",
       "2    2020-01-19           AF  Afghanistan      Asia       EMRO        NaN   \n",
       "3    2020-01-26           AF  Afghanistan      Asia       EMRO        NaN   \n",
       "4    2020-02-02           AF  Afghanistan      Asia       EMRO        NaN   \n",
       "\n",
       "   Cumulative_cases  New_deaths  Cumulative_deaths  \n",
       "0                 0         NaN                  0  \n",
       "1                 0         NaN                  0  \n",
       "2                 0         NaN                  0  \n",
       "3                 0         NaN                  0  \n",
       "4                 0         NaN                  0  "
      ]
     },
     "execution_count": 68,
     "metadata": {},
     "output_type": "execute_result"
    }
   ],
   "source": [
    "#Reading the data\n",
    "df = pd.read_csv('./data/WHO_COVID19_cases.csv')\n",
    "df.head()"
   ]
  },
  {
   "cell_type": "code",
   "execution_count": 69,
   "id": "44470084-0480-4e1a-bd67-9f98a352df26",
   "metadata": {},
   "outputs": [
    {
     "data": {
      "text/html": [
       "<div>\n",
       "<style scoped>\n",
       "    .dataframe tbody tr th:only-of-type {\n",
       "        vertical-align: middle;\n",
       "    }\n",
       "\n",
       "    .dataframe tbody tr th {\n",
       "        vertical-align: top;\n",
       "    }\n",
       "\n",
       "    .dataframe thead th {\n",
       "        text-align: right;\n",
       "    }\n",
       "</style>\n",
       "<table border=\"1\" class=\"dataframe\">\n",
       "  <thead>\n",
       "    <tr style=\"text-align: right;\">\n",
       "      <th></th>\n",
       "      <th>Date_reported</th>\n",
       "      <th>Country_code</th>\n",
       "      <th>Country</th>\n",
       "      <th>Continent</th>\n",
       "      <th>WHO_region</th>\n",
       "      <th>New_cases</th>\n",
       "      <th>Cumulative_cases</th>\n",
       "      <th>New_deaths</th>\n",
       "      <th>Cumulative_deaths</th>\n",
       "    </tr>\n",
       "  </thead>\n",
       "  <tbody>\n",
       "    <tr>\n",
       "      <th>18788</th>\n",
       "      <td>2020-01-05</td>\n",
       "      <td>GE</td>\n",
       "      <td>Georgia</td>\n",
       "      <td>Asia</td>\n",
       "      <td>EURO</td>\n",
       "      <td>NaN</td>\n",
       "      <td>0</td>\n",
       "      <td>NaN</td>\n",
       "      <td>0</td>\n",
       "    </tr>\n",
       "    <tr>\n",
       "      <th>18789</th>\n",
       "      <td>2020-01-12</td>\n",
       "      <td>GE</td>\n",
       "      <td>Georgia</td>\n",
       "      <td>Asia</td>\n",
       "      <td>EURO</td>\n",
       "      <td>NaN</td>\n",
       "      <td>0</td>\n",
       "      <td>NaN</td>\n",
       "      <td>0</td>\n",
       "    </tr>\n",
       "    <tr>\n",
       "      <th>18790</th>\n",
       "      <td>2020-01-19</td>\n",
       "      <td>GE</td>\n",
       "      <td>Georgia</td>\n",
       "      <td>Asia</td>\n",
       "      <td>EURO</td>\n",
       "      <td>NaN</td>\n",
       "      <td>0</td>\n",
       "      <td>NaN</td>\n",
       "      <td>0</td>\n",
       "    </tr>\n",
       "    <tr>\n",
       "      <th>18791</th>\n",
       "      <td>2020-01-26</td>\n",
       "      <td>GE</td>\n",
       "      <td>Georgia</td>\n",
       "      <td>Asia</td>\n",
       "      <td>EURO</td>\n",
       "      <td>NaN</td>\n",
       "      <td>0</td>\n",
       "      <td>NaN</td>\n",
       "      <td>0</td>\n",
       "    </tr>\n",
       "    <tr>\n",
       "      <th>18792</th>\n",
       "      <td>2020-02-02</td>\n",
       "      <td>GE</td>\n",
       "      <td>Georgia</td>\n",
       "      <td>Asia</td>\n",
       "      <td>EURO</td>\n",
       "      <td>NaN</td>\n",
       "      <td>0</td>\n",
       "      <td>NaN</td>\n",
       "      <td>0</td>\n",
       "    </tr>\n",
       "  </tbody>\n",
       "</table>\n",
       "</div>"
      ],
      "text/plain": [
       "      Date_reported Country_code  Country Continent WHO_region  New_cases  \\\n",
       "18788    2020-01-05           GE  Georgia      Asia       EURO        NaN   \n",
       "18789    2020-01-12           GE  Georgia      Asia       EURO        NaN   \n",
       "18790    2020-01-19           GE  Georgia      Asia       EURO        NaN   \n",
       "18791    2020-01-26           GE  Georgia      Asia       EURO        NaN   \n",
       "18792    2020-02-02           GE  Georgia      Asia       EURO        NaN   \n",
       "\n",
       "       Cumulative_cases  New_deaths  Cumulative_deaths  \n",
       "18788                 0         NaN                  0  \n",
       "18789                 0         NaN                  0  \n",
       "18790                 0         NaN                  0  \n",
       "18791                 0         NaN                  0  \n",
       "18792                 0         NaN                  0  "
      ]
     },
     "execution_count": 69,
     "metadata": {},
     "output_type": "execute_result"
    }
   ],
   "source": [
    "#NNow you filter for the 3 you want\n",
    "countries_plot = ['Hungary', 'Georgia', 'Ireland']\n",
    "df_filtered = df[df['Country'].isin(countries_plot)]\n",
    "df_filtered.head()"
   ]
  },
  {
   "cell_type": "code",
   "execution_count": 70,
   "id": "149e3665",
   "metadata": {},
   "outputs": [
    {
     "data": {
      "text/plain": [
       "np.int64(0)"
      ]
     },
     "execution_count": 70,
     "metadata": {},
     "output_type": "execute_result"
    }
   ],
   "source": [
    "#Cleaning the data\n",
    "df_filtered.isnull().sum()\n",
    "df_filtered.duplicated().sum()\n"
   ]
  },
  {
   "cell_type": "code",
   "execution_count": 71,
   "id": "be4574e5",
   "metadata": {},
   "outputs": [
    {
     "data": {
      "image/png": "[encoded data removed]",
      "text/plain": [
       "<Figure size 640x480 with 1 Axes>"
      ]
     },
     "metadata": {},
     "output_type": "display_data"
    }
   ],
   "source": [
    "#Plotting with sns as requested\n",
    "sns.lineplot(data=df_filtered, x='Date_reported', y='Cumulative_cases', hue='Country', palette=\"cubehelix\")\n",
    "plt.xticks(rotation=90)\n",
    "plt.xlabel('date')\n",
    "plt.ylabel('cumulative cases')\n",
    "plt.title('Cumulative covid-19 cases over time')\n",
    "plt.gca().xaxis.set_major_locator(ticker.MultipleLocator(12))\n",
    "\n",
    "plt.show()"
   ]
  },
  {
   "cell_type": "markdown",
   "id": "fa8217b4-a79d-480f-b3aa-2c7c5397ab3e",
   "metadata": {},
   "source": [
    "## 2- Make a line plot showing the cumulative_deaths vs cumulative_cases for 3 countries using `plotly` (7.5 points)"
   ]
  },
  {
   "cell_type": "code",
   "execution_count": 74,
   "id": "fee1d763-3047-4f72-97e8-d6fb6be73665",
   "metadata": {},
   "outputs": [],
   "source": [
    "\n",
    "# Creating the line plot\n",
    "fig = px.line(\n",
    "    df_filtered,\n",
    "    x='Cumulative_cases',\n",
    "    y='Cumulative_deaths',\n",
    "    color='Country',\n",
    "    title='Cumulative Deaths vs Cumulative Cases for Selected Countries',\n",
    "    labels={\n",
    "        'Cumulative_cases': 'Cumulative Cases',\n",
    "        'Cumulative_deaths': 'Cumulative Deaths'\n",
    "    }\n",
    ")\n",
    "\n",
    "# Show the plot (I have used browser for this, it is easier when using plotly.)\n",
    "fig.show(renderer=\"browser\") \n",
    "\n"
   ]
  }
 ],
 "metadata": {
  "kernelspec": {
   "display_name": "Python 3",
   "language": "python",
   "name": "python3"
  },
  "language_info": {
   "codemirror_mode": {
    "name": "ipython",
    "version": 3
   },
   "file_extension": ".py",
   "mimetype": "text/x-python",
   "name": "python",
   "nbconvert_exporter": "python",
   "pygments_lexer": "ipython3",
   "version": "3.13.0"
  }
 },
 "nbformat": 4,
 "nbformat_minor": 5
}

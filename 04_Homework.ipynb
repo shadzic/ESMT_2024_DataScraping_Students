{
 "cells": [
  {
   "cell_type": "markdown",
   "id": "9fdbabd1-a139-42cd-86eb-3911f2363ea6",
   "metadata": {},
   "source": [
    "# 04 Homework\n",
    "© Copyright: 2024, Selma Hadzic, all rights reserved."
   ]
  },
  {
   "cell_type": "markdown",
   "id": "120d9520-a37c-4240-8c50-34e92d9d85f7",
   "metadata": {},
   "source": [
    "#### Number of points: 15 (weights 15% in the final grade)\n",
    "\n",
    "\n",
    "1. Pull from the `ESMT_2024_DataScraping_Lectures` repository: you should get this `04_Homework` file\n",
    "2. Launch VS Code and open your working-folder\n",
    "3. Create a `Session_04` folder, in which you create another folder called `data`\n",
    "4. Copy paste the notebook `04_Homework` from the lectures repo to the working-folder. Copy the csv file `WHO_COVID19_cases.csv` into the `working-folder/Session_04/data` directory.\n",
    "5. Do the exercises on 04_Homework in your working-folder\n",
    "6. Once you are finished, copy-Paste the notebook into `ESMT_2024_DataScraping_Students` folder in your computer\n",
    "8. Commit and push your homework in your branch before the deadline\n",
    "\n",
    "#### Deadline: October 24th 01:29 pm CET\n",
    "\n",
    "#### Any missed deadline without justification to the Administration will result in 0 points for this homework.\n",
    "#### If the Github branch is not correctly named using the indicated format **LASTNAME_firstname**, then a penalty of -2 points will be applied"
   ]
  },
  {
   "cell_type": "markdown",
   "id": "099d2883-1487-4402-9d9f-f4009bf1d844",
   "metadata": {},
   "source": [
    "## Dataset: use the WHO_COVID19_cases.csv dataset from Session_01"
   ]
  },
  {
   "cell_type": "markdown",
   "id": "180e5436-4077-44a0-be08-135e124f73d3",
   "metadata": {},
   "source": [
    "## 1- Filter the data for 3 countries and draw a line plot for Cumulative_cases vs Date_reported using seaborn (7.5 points)\n",
    "\n",
    "*Tip: you may want to explore `plt.xticks(rotation=90);` and `plt.gca().xaxis.set_major_locator(ticker.MultipleLocator(6)) ;` to unclutter the dates on the x-axis*"
   ]
  },
  {
   "cell_type": "code",
   "execution_count": 32,
   "id": "0cdc9b82-5b98-48d8-82d9-4b03be250757",
   "metadata": {},
   "outputs": [
    {
     "name": "stdout",
     "output_type": "stream",
     "text": [
      "Requirement already satisfied: seaborn in /Users/arshia/opt/anaconda3/envs/datascraping/lib/python3.9/site-packages (0.13.2)\n",
      "Requirement already satisfied: numpy!=1.24.0,>=1.20 in /Users/arshia/opt/anaconda3/envs/datascraping/lib/python3.9/site-packages (from seaborn) (2.0.2)\n",
      "Requirement already satisfied: pandas>=1.2 in /Users/arshia/opt/anaconda3/envs/datascraping/lib/python3.9/site-packages (from seaborn) (2.2.3)\n",
      "Requirement already satisfied: matplotlib!=3.6.1,>=3.4 in /Users/arshia/opt/anaconda3/envs/datascraping/lib/python3.9/site-packages (from seaborn) (3.9.2)\n",
      "Requirement already satisfied: contourpy>=1.0.1 in /Users/arshia/opt/anaconda3/envs/datascraping/lib/python3.9/site-packages (from matplotlib!=3.6.1,>=3.4->seaborn) (1.3.0)\n",
      "Requirement already satisfied: cycler>=0.10 in /Users/arshia/opt/anaconda3/envs/datascraping/lib/python3.9/site-packages (from matplotlib!=3.6.1,>=3.4->seaborn) (0.12.1)\n",
      "Requirement already satisfied: fonttools>=4.22.0 in /Users/arshia/opt/anaconda3/envs/datascraping/lib/python3.9/site-packages (from matplotlib!=3.6.1,>=3.4->seaborn) (4.54.1)\n",
      "Requirement already satisfied: kiwisolver>=1.3.1 in /Users/arshia/opt/anaconda3/envs/datascraping/lib/python3.9/site-packages (from matplotlib!=3.6.1,>=3.4->seaborn) (1.4.7)\n",
      "Requirement already satisfied: packaging>=20.0 in /Users/arshia/opt/anaconda3/envs/datascraping/lib/python3.9/site-packages (from matplotlib!=3.6.1,>=3.4->seaborn) (24.1)\n",
      "Requirement already satisfied: pillow>=8 in /Users/arshia/opt/anaconda3/envs/datascraping/lib/python3.9/site-packages (from matplotlib!=3.6.1,>=3.4->seaborn) (11.0.0)\n",
      "Requirement already satisfied: pyparsing>=2.3.1 in /Users/arshia/opt/anaconda3/envs/datascraping/lib/python3.9/site-packages (from matplotlib!=3.6.1,>=3.4->seaborn) (3.2.0)\n",
      "Requirement already satisfied: python-dateutil>=2.7 in /Users/arshia/opt/anaconda3/envs/datascraping/lib/python3.9/site-packages (from matplotlib!=3.6.1,>=3.4->seaborn) (2.9.0.post0)\n",
      "Requirement already satisfied: importlib-resources>=3.2.0 in /Users/arshia/opt/anaconda3/envs/datascraping/lib/python3.9/site-packages (from matplotlib!=3.6.1,>=3.4->seaborn) (6.4.5)\n",
      "Requirement already satisfied: pytz>=2020.1 in /Users/arshia/opt/anaconda3/envs/datascraping/lib/python3.9/site-packages (from pandas>=1.2->seaborn) (2024.2)\n",
      "Requirement already satisfied: tzdata>=2022.7 in /Users/arshia/opt/anaconda3/envs/datascraping/lib/python3.9/site-packages (from pandas>=1.2->seaborn) (2024.2)\n",
      "Requirement already satisfied: zipp>=3.1.0 in /Users/arshia/opt/anaconda3/envs/datascraping/lib/python3.9/site-packages (from importlib-resources>=3.2.0->matplotlib!=3.6.1,>=3.4->seaborn) (3.20.2)\n",
      "Requirement already satisfied: six>=1.5 in /Users/arshia/opt/anaconda3/envs/datascraping/lib/python3.9/site-packages (from python-dateutil>=2.7->matplotlib!=3.6.1,>=3.4->seaborn) (1.16.0)\n",
      "Requirement already satisfied: matplotlib in /Users/arshia/opt/anaconda3/envs/datascraping/lib/python3.9/site-packages (3.9.2)\n",
      "Requirement already satisfied: contourpy>=1.0.1 in /Users/arshia/opt/anaconda3/envs/datascraping/lib/python3.9/site-packages (from matplotlib) (1.3.0)\n",
      "Requirement already satisfied: cycler>=0.10 in /Users/arshia/opt/anaconda3/envs/datascraping/lib/python3.9/site-packages (from matplotlib) (0.12.1)\n",
      "Requirement already satisfied: fonttools>=4.22.0 in /Users/arshia/opt/anaconda3/envs/datascraping/lib/python3.9/site-packages (from matplotlib) (4.54.1)\n",
      "Requirement already satisfied: kiwisolver>=1.3.1 in /Users/arshia/opt/anaconda3/envs/datascraping/lib/python3.9/site-packages (from matplotlib) (1.4.7)\n",
      "Requirement already satisfied: numpy>=1.23 in /Users/arshia/opt/anaconda3/envs/datascraping/lib/python3.9/site-packages (from matplotlib) (2.0.2)\n",
      "Requirement already satisfied: packaging>=20.0 in /Users/arshia/opt/anaconda3/envs/datascraping/lib/python3.9/site-packages (from matplotlib) (24.1)\n",
      "Requirement already satisfied: pillow>=8 in /Users/arshia/opt/anaconda3/envs/datascraping/lib/python3.9/site-packages (from matplotlib) (11.0.0)\n",
      "Requirement already satisfied: pyparsing>=2.3.1 in /Users/arshia/opt/anaconda3/envs/datascraping/lib/python3.9/site-packages (from matplotlib) (3.2.0)\n",
      "Requirement already satisfied: python-dateutil>=2.7 in /Users/arshia/opt/anaconda3/envs/datascraping/lib/python3.9/site-packages (from matplotlib) (2.9.0.post0)\n",
      "Requirement already satisfied: importlib-resources>=3.2.0 in /Users/arshia/opt/anaconda3/envs/datascraping/lib/python3.9/site-packages (from matplotlib) (6.4.5)\n",
      "Requirement already satisfied: zipp>=3.1.0 in /Users/arshia/opt/anaconda3/envs/datascraping/lib/python3.9/site-packages (from importlib-resources>=3.2.0->matplotlib) (3.20.2)\n",
      "Requirement already satisfied: six>=1.5 in /Users/arshia/opt/anaconda3/envs/datascraping/lib/python3.9/site-packages (from python-dateutil>=2.7->matplotlib) (1.16.0)\n",
      "Requirement already satisfied: kaleido in /Users/arshia/opt/anaconda3/envs/datascraping/lib/python3.9/site-packages (0.2.1)\n",
      "Requirement already satisfied: plotly in /Users/arshia/opt/anaconda3/envs/datascraping/lib/python3.9/site-packages (5.24.1)\n",
      "Requirement already satisfied: tenacity>=6.2.0 in /Users/arshia/opt/anaconda3/envs/datascraping/lib/python3.9/site-packages (from plotly) (9.0.0)\n",
      "Requirement already satisfied: packaging in /Users/arshia/opt/anaconda3/envs/datascraping/lib/python3.9/site-packages (from plotly) (24.1)\n"
     ]
    }
   ],
   "source": [
    "!pip install seaborn\n",
    "!pip install matplotlib\n",
    "!pip install -U kaleido\n",
    "!pip install plotly"
   ]
  },
  {
   "cell_type": "code",
   "execution_count": 33,
   "id": "5c5c3d2f-f7e9-4fc1-912d-c3f41900cfdb",
   "metadata": {},
   "outputs": [],
   "source": [
    "import pandas as pd\n",
    "import matplotlib.pyplot as plt\n",
    "import seaborn as sns\n",
    "import matplotlib.ticker as ticker\n",
    "import plotly.express as px"
   ]
  },
  {
   "cell_type": "code",
   "execution_count": 34,
   "id": "53be5a6f-00d3-4134-9009-68d0dd42b729",
   "metadata": {},
   "outputs": [
    {
     "data": {
      "text/html": [
       "<div>\n",
       "<style scoped>\n",
       "    .dataframe tbody tr th:only-of-type {\n",
       "        vertical-align: middle;\n",
       "    }\n",
       "\n",
       "    .dataframe tbody tr th {\n",
       "        vertical-align: top;\n",
       "    }\n",
       "\n",
       "    .dataframe thead th {\n",
       "        text-align: right;\n",
       "    }\n",
       "</style>\n",
       "<table border=\"1\" class=\"dataframe\">\n",
       "  <thead>\n",
       "    <tr style=\"text-align: right;\">\n",
       "      <th></th>\n",
       "      <th>Date_reported</th>\n",
       "      <th>Country_code</th>\n",
       "      <th>Country</th>\n",
       "      <th>Continent</th>\n",
       "      <th>WHO_region</th>\n",
       "      <th>New_cases</th>\n",
       "      <th>Cumulative_cases</th>\n",
       "      <th>New_deaths</th>\n",
       "      <th>Cumulative_deaths</th>\n",
       "    </tr>\n",
       "  </thead>\n",
       "  <tbody>\n",
       "    <tr>\n",
       "      <th>0</th>\n",
       "      <td>2020-01-05</td>\n",
       "      <td>AF</td>\n",
       "      <td>Afghanistan</td>\n",
       "      <td>Asia</td>\n",
       "      <td>EMRO</td>\n",
       "      <td>NaN</td>\n",
       "      <td>0</td>\n",
       "      <td>NaN</td>\n",
       "      <td>0</td>\n",
       "    </tr>\n",
       "    <tr>\n",
       "      <th>1</th>\n",
       "      <td>2020-01-12</td>\n",
       "      <td>AF</td>\n",
       "      <td>Afghanistan</td>\n",
       "      <td>Asia</td>\n",
       "      <td>EMRO</td>\n",
       "      <td>NaN</td>\n",
       "      <td>0</td>\n",
       "      <td>NaN</td>\n",
       "      <td>0</td>\n",
       "    </tr>\n",
       "    <tr>\n",
       "      <th>2</th>\n",
       "      <td>2020-01-19</td>\n",
       "      <td>AF</td>\n",
       "      <td>Afghanistan</td>\n",
       "      <td>Asia</td>\n",
       "      <td>EMRO</td>\n",
       "      <td>NaN</td>\n",
       "      <td>0</td>\n",
       "      <td>NaN</td>\n",
       "      <td>0</td>\n",
       "    </tr>\n",
       "    <tr>\n",
       "      <th>3</th>\n",
       "      <td>2020-01-26</td>\n",
       "      <td>AF</td>\n",
       "      <td>Afghanistan</td>\n",
       "      <td>Asia</td>\n",
       "      <td>EMRO</td>\n",
       "      <td>NaN</td>\n",
       "      <td>0</td>\n",
       "      <td>NaN</td>\n",
       "      <td>0</td>\n",
       "    </tr>\n",
       "    <tr>\n",
       "      <th>4</th>\n",
       "      <td>2020-02-02</td>\n",
       "      <td>AF</td>\n",
       "      <td>Afghanistan</td>\n",
       "      <td>Asia</td>\n",
       "      <td>EMRO</td>\n",
       "      <td>NaN</td>\n",
       "      <td>0</td>\n",
       "      <td>NaN</td>\n",
       "      <td>0</td>\n",
       "    </tr>\n",
       "  </tbody>\n",
       "</table>\n",
       "</div>"
      ],
      "text/plain": [
       "  Date_reported Country_code      Country Continent WHO_region  New_cases  \\\n",
       "0    2020-01-05           AF  Afghanistan      Asia       EMRO        NaN   \n",
       "1    2020-01-12           AF  Afghanistan      Asia       EMRO        NaN   \n",
       "2    2020-01-19           AF  Afghanistan      Asia       EMRO        NaN   \n",
       "3    2020-01-26           AF  Afghanistan      Asia       EMRO        NaN   \n",
       "4    2020-02-02           AF  Afghanistan      Asia       EMRO        NaN   \n",
       "\n",
       "   Cumulative_cases  New_deaths  Cumulative_deaths  \n",
       "0                 0         NaN                  0  \n",
       "1                 0         NaN                  0  \n",
       "2                 0         NaN                  0  \n",
       "3                 0         NaN                  0  \n",
       "4                 0         NaN                  0  "
      ]
     },
     "execution_count": 34,
     "metadata": {},
     "output_type": "execute_result"
    }
   ],
   "source": [
    "df = pd.read_csv('WHO_COVID19_cases.csv')\n",
    "df.head()"
   ]
  },
  {
   "cell_type": "code",
   "execution_count": 35,
   "id": "44470084-0480-4e1a-bd67-9f98a352df26",
   "metadata": {},
   "outputs": [
    {
     "name": "stdout",
     "output_type": "stream",
     "text": [
      "      Date_reported Country_code Country Continent WHO_region  New_cases  \\\n",
      "10248    2020-01-05           CN   China      Asia       WPRO        1.0   \n",
      "10249    2020-01-12           CN   China      Asia       WPRO       44.0   \n",
      "10250    2020-01-19           CN   China      Asia       WPRO       80.0   \n",
      "10251    2020-01-26           CN   China      Asia       WPRO     1860.0   \n",
      "10252    2020-02-02           CN   China      Asia       WPRO    12426.0   \n",
      "...             ...          ...     ...       ...        ...        ...   \n",
      "23663    2024-08-04           IN   India      Asia      SEARO      313.0   \n",
      "23664    2024-08-11           IN   India      Asia      SEARO      306.0   \n",
      "23665    2024-08-18           IN   India      Asia      SEARO      266.0   \n",
      "23666    2024-08-25           IN   India      Asia      SEARO      200.0   \n",
      "23667    2024-09-01           IN   India      Asia      SEARO      282.0   \n",
      "\n",
      "       Cumulative_cases  New_deaths  Cumulative_deaths  \n",
      "10248                 1         NaN                  0  \n",
      "10249                45         1.0                  1  \n",
      "10250               125         2.0                  3  \n",
      "10251              1985        53.0                 56  \n",
      "10252             14411       305.0                361  \n",
      "...                 ...         ...                ...  \n",
      "23663          45041748         NaN             533623  \n",
      "23664          45042054         3.0             533626  \n",
      "23665          45042320         3.0             533629  \n",
      "23666          45042520         3.0             533632  \n",
      "23667          45042802         4.0             533636  \n",
      "\n",
      "[732 rows x 9 columns]\n"
     ]
    }
   ],
   "source": [
    "countries = ['China', 'India', 'Germany']\n",
    "filtered_df = df[df['Country'].isin(countries)]\n",
    "print(filtered_df)"
   ]
  },
  {
   "cell_type": "code",
   "execution_count": 36,
   "id": "9df61567-2e2e-4660-873c-3e159e3b0819",
   "metadata": {},
   "outputs": [
    {
     "data": {
      "image/png": "[encoded data removed]",
      "text/plain": [
       "<Figure size 1200x600 with 1 Axes>"
      ]
     },
     "metadata": {},
     "output_type": "display_data"
    }
   ],
   "source": [
    "plt.figure(figsize=(12, 6))\n",
    "sns.lineplot(data=filtered_df, x='Date_reported', y='Cumulative_cases', hue='Country')\n",
    "plt.xticks(rotation=90)\n",
    "plt.gca().xaxis.set_major_locator(ticker.MultipleLocator(6))\n",
    "plt.title('Cumulative COVID-19 Cases vs Date Reported')\n",
    "plt.xlabel('Date Reported')\n",
    "plt.ylabel('Cumulative Cases')\n",
    "plt.legend(title='Country')\n",
    "plt.tight_layout()\n",
    "plt.show()\n"
   ]
  },
  {
   "cell_type": "markdown",
   "id": "fa8217b4-a79d-480f-b3aa-2c7c5397ab3e",
   "metadata": {},
   "source": [
    "## 2- Make a line plot showing the cumulative_deaths vs cumulative_cases for 3 countries using `plotly` (7.5 points)"
   ]
  },
  {
   "cell_type": "code",
   "execution_count": 37,
   "id": "fee1d763-3047-4f72-97e8-d6fb6be73665",
   "metadata": {},
   "outputs": [
    {
     "name": "stdout",
     "output_type": "stream",
     "text": [
      "      Date_reported Country_code Country Continent WHO_region  New_cases  \\\n",
      "10248    2020-01-05           CN   China      Asia       WPRO        1.0   \n",
      "10249    2020-01-12           CN   China      Asia       WPRO       44.0   \n",
      "10250    2020-01-19           CN   China      Asia       WPRO       80.0   \n",
      "10251    2020-01-26           CN   China      Asia       WPRO     1860.0   \n",
      "10252    2020-02-02           CN   China      Asia       WPRO    12426.0   \n",
      "\n",
      "       Cumulative_cases  New_deaths  Cumulative_deaths  \n",
      "10248                 1         NaN                  0  \n",
      "10249                45         1.0                  1  \n",
      "10250               125         2.0                  3  \n",
      "10251              1985        53.0                 56  \n",
      "10252             14411       305.0                361  \n",
      "(732, 9)\n"
     ]
    }
   ],
   "source": [
    "# Filter the data for three countries\n",
    "countries = ['China', 'India', 'Germany']  # Replace with actual country names\n",
    "filtered_df = df[df['Country'].isin(countries)]\n",
    "\n",
    "# Check the filtered DataFrame\n",
    "print(filtered_df.head())\n",
    "print(filtered_df.shape)"
   ]
  },
  {
   "cell_type": "code",
   "execution_count": 38,
   "id": "679395d8-d2c8-486b-9816-79eff57c5da4",
   "metadata": {},
   "outputs": [
    {
     "name": "stderr",
     "output_type": "stream",
     "text": [
      "/var/folders/kx/35380zqx7fvczy74kh7ych5h0000gn/T/ipykernel_6000/259636719.py:2: SettingWithCopyWarning:\n",
      "\n",
      "\n",
      "A value is trying to be set on a copy of a slice from a DataFrame.\n",
      "Try using .loc[row_indexer,col_indexer] = value instead\n",
      "\n",
      "See the caveats in the documentation: https://pandas.pydata.org/pandas-docs/stable/user_guide/indexing.html#returning-a-view-versus-a-copy\n",
      "\n",
      "/var/folders/kx/35380zqx7fvczy74kh7ych5h0000gn/T/ipykernel_6000/259636719.py:3: SettingWithCopyWarning:\n",
      "\n",
      "\n",
      "A value is trying to be set on a copy of a slice from a DataFrame.\n",
      "Try using .loc[row_indexer,col_indexer] = value instead\n",
      "\n",
      "See the caveats in the documentation: https://pandas.pydata.org/pandas-docs/stable/user_guide/indexing.html#returning-a-view-versus-a-copy\n",
      "\n"
     ]
    }
   ],
   "source": [
    "# Convert to numeric if necessary\n",
    "filtered_df['Cumulative_cases'] = pd.to_numeric(filtered_df['Cumulative_cases'], errors='coerce')\n",
    "filtered_df['Cumulative_deaths'] = pd.to_numeric(filtered_df['Cumulative_deaths'], errors='coerce')"
   ]
  },
  {
   "cell_type": "code",
   "execution_count": 39,
   "id": "fc2d88b1-dc42-45d6-9faa-6a7db189a5ae",
   "metadata": {},
   "outputs": [
    {
     "data": {
      "application/vnd.plotly.v1+json": {
       "config": {
        "plotlyServerURL": "https://plot.ly"
       },
       "data": [
        {
         "hovertemplate": "Country=China<br>Cumulative Cases=%{x}<br>Cumulative Deaths=%{y}<extra></extra>",
         "legendgroup": "China",
         "line": {
          "color": "#636efa",
          "dash": "solid"
         },
         "marker": {
          "symbol": "circle"
         },
         "mode": "lines",
         "name": "China",
         "orientation": "v",
         "showlegend": true,
         "type": "scatter",
         "x": [
          1,
          45,
          125,
          1985,
          14411,
          37251,
          68584,
          77042,
          79968,
          80859,
          81048,
          81498,
          82341,
          82930,
          83482,
          84201,
          84338,
          84393,
          84430,
          84484,
          84525,
          84570,
          84629,
          84729,
          84997,
          85190,
          85306,
          85522,
          85937,
          86839,
          88302,
          89149,
          89761,
          90141,
          90351,
          90517,
          90666,
          90840,
          90966,
          91121,
          91305,
          91489,
          91674,
          91921,
          92195,
          92428,
          92648,
          93329,
          94160,
          94950,
          95716,
          96324,
          96972,
          97652,
          98794,
          100136,
          100974,
          101316,
          101536,
          101700,
          101920,
          102101,
          102363,
          102539,
          102698,
          102908,
          103113,
          103315,
          103484,
          103667,
          103808,
          104425,
          107187,
          111146,
          114667,
          116301,
          117548,
          118358,
          118896,
          119321,
          119698,
          120213,
          120837,
          121684,
          122378,
          122698,
          122995,
          123231,
          123544,
          124102,
          124495,
          124805,
          125055,
          125254,
          125565,
          126078,
          126710,
          127260,
          127512,
          127764,
          128393,
          129082,
          129794,
          130858,
          132508,
          134151,
          136027,
          137350,
          138992,
          141049,
          149640,
          180767,
          301154,
          603734,
          761907,
          846296,
          890267,
          922543,
          944191,
          974858,
          1017161,
          1109144,
          1336865,
          1750942,
          2304993,
          2878333,
          3392302,
          3882284,
          4288753,
          4611936,
          4841957,
          5065872,
          5263427,
          5444117,
          5616120,
          5779460,
          5946156,
          6118580,
          6313044,
          6551088,
          6814376,
          7112069,
          7404545,
          7707637,
          8041467,
          8370377,
          8655725,
          8913719,
          9132821,
          9304566,
          9463379,
          9607584,
          9753725,
          10871623,
          21970173,
          62445650,
          87090526,
          95152288,
          97513859,
          98269042,
          98444584,
          98637553,
          98785727,
          98904475,
          98982145,
          99066935,
          99159203,
          99224504,
          99238106,
          99239166,
          99240394,
          99242093,
          99244299,
          99247381,
          99251117,
          99255557,
          99259994,
          99266460,
          99271490,
          99278446,
          99283001,
          99285438,
          99289316,
          99292049,
          99294715,
          99297160,
          99299701,
          99301655,
          99302619,
          99304082,
          99305669,
          99307316,
          99308843,
          99309868,
          99311020,
          99313571,
          99315126,
          99316498,
          99317568,
          99318373,
          99319009,
          99319568,
          99320035,
          99320425,
          99320845,
          99321242,
          99321637,
          99322142,
          99322727,
          99323756,
          99325108,
          99326423,
          99327754,
          99329249,
          99330516,
          99331724,
          99334752,
          99336751,
          99339769,
          99343195,
          99345680,
          99347448,
          99348816,
          99350327,
          99351758,
          99353161,
          99354727,
          99356481,
          99357895,
          99359003,
          99359802,
          99360533,
          99361338,
          99362248,
          99363491,
          99365162,
          99367041,
          99369029,
          99371132,
          99373219,
          99375447,
          99376823,
          99377976,
          99379039
         ],
         "xaxis": "x",
         "y": [
          0,
          1,
          3,
          56,
          361,
          905,
          1767,
          2446,
          2873,
          3101,
          3204,
          3267,
          3306,
          3338,
          3349,
          4642,
          4642,
          4643,
          4643,
          4645,
          4645,
          4645,
          4645,
          4645,
          4646,
          4648,
          4648,
          4648,
          4653,
          4659,
          4674,
          4688,
          4710,
          4717,
          4728,
          4735,
          4741,
          4744,
          4746,
          4746,
          4746,
          4746,
          4746,
          4746,
          4748,
          4749,
          4749,
          4750,
          4753,
          4756,
          4770,
          4777,
          4791,
          4798,
          4804,
          4810,
          4823,
          4831,
          4838,
          4842,
          4843,
          4848,
          4849,
          4849,
          4851,
          4851,
          4853,
          4856,
          4856,
          4858,
          4858,
          4858,
          4869,
          4955,
          5106,
          5283,
          5395,
          5478,
          5535,
          5588,
          5616,
          5634,
          5637,
          5657,
          5669,
          5676,
          5682,
          5685,
          5687,
          5689,
          5690,
          5692,
          5695,
          5695,
          5695,
          5696,
          5696,
          5697,
          5697,
          5697,
          5697,
          5697,
          5699,
          5699,
          5699,
          5699,
          5700,
          5700,
          5700,
          5700,
          5706,
          5776,
          6148,
          7496,
          9482,
          11387,
          12743,
          13663,
          14262,
          14634,
          14881,
          15273,
          15450,
          15642,
          15989,
          16658,
          17702,
          18896,
          19987,
          20969,
          21658,
          22367,
          22895,
          23353,
          23704,
          24034,
          24258,
          24499,
          24766,
          25058,
          25354,
          25712,
          26244,
          26609,
          27044,
          27471,
          27950,
          28460,
          28939,
          29370,
          29838,
          30192,
          30567,
          31438,
          33146,
          38995,
          56888,
          69879,
          69879,
          69879,
          69879,
          117566,
          118926,
          119463,
          119821,
          120181,
          120510,
          120775,
          120894,
          120897,
          120905,
          120912,
          120923,
          120961,
          121015,
          121073,
          121144,
          121235,
          121236,
          121390,
          121390,
          121465,
          121490,
          121515,
          121536,
          121536,
          121536,
          121647,
          121671,
          121671,
          121679,
          121679,
          121702,
          121714,
          121722,
          121722,
          121797,
          121809,
          121823,
          121835,
          121867,
          121873,
          121874,
          121877,
          121886,
          121888,
          121888,
          121889,
          121893,
          121938,
          121916,
          121921,
          121933,
          121946,
          121956,
          121976,
          121993,
          122034,
          122050,
          122050,
          122106,
          122125,
          122143,
          122153,
          122170,
          122176,
          122196,
          122201,
          122215,
          122225,
          122243,
          122248,
          122254,
          122257,
          122261,
          122271,
          122273,
          122280,
          122289,
          122304,
          122309,
          122319,
          122323,
          122326
         ],
         "yaxis": "y"
        },
        {
         "hovertemplate": "Country=Germany<br>Cumulative Cases=%{x}<br>Cumulative Deaths=%{y}<extra></extra>",
         "legendgroup": "Germany",
         "line": {
          "color": "#EF553B",
          "dash": "solid"
         },
         "marker": {
          "symbol": "circle"
         },
         "mode": "lines",
         "name": "Germany",
         "orientation": "v",
         "showlegend": true,
         "type": "scatter",
         "x": [
          1,
          1,
          1,
          2,
          11,
          20,
          25,
          31,
          170,
          1075,
          7516,
          29923,
          63904,
          99971,
          127116,
          144461,
          156812,
          164254,
          170497,
          175272,
          178876,
          182082,
          184436,
          186784,
          190976,
          194143,
          196834,
          199263,
          202307,
          206243,
          211086,
          217153,
          225124,
          234704,
          243548,
          252157,
          261942,
          274227,
          287291,
          303237,
          329382,
          371413,
          446205,
          557214,
          682906,
          810768,
          939168,
          1062290,
          1190548,
          1346761,
          1521350,
          1660178,
          1783131,
          1928636,
          2047565,
          2143118,
          2221290,
          2285886,
          2336713,
          2389042,
          2445398,
          2503823,
          2575214,
          2667824,
          2784133,
          2894140,
          3012328,
          3154349,
          3299027,
          3423711,
          3524558,
          3595304,
          3647974,
          3677841,
          3698521,
          3712583,
          3719868,
          3724727,
          3729115,
          3734712,
          3743825,
          3756471,
          3771993,
          3792416,
          3824493,
          3874145,
          3940516,
          4015253,
          4086909,
          4148380,
          4202003,
          4258484,
          4316509,
          4381868,
          4479591,
          4616602,
          4794470,
          5065644,
          5417298,
          5820646,
          6208700,
          6546708,
          6820211,
          7014043,
          7222739,
          7560621,
          8046745,
          8843560,
          9957912,
          11250652,
          12560497,
          13753768,
          14846861,
          15980870,
          17394716,
          18977220,
          20566111,
          21861236,
          22845836,
          23624784,
          24356283,
          24953200,
          25424640,
          25833385,
          26125890,
          26313049,
          26558190,
          26889624,
          27303415,
          27877640,
          28500416,
          29129765,
          29804895,
          30432074,
          30927803,
          31290739,
          31589031,
          31852360,
          32080339,
          32282096,
          32486180,
          32715093,
          33001628,
          33460480,
          34054553,
          34699539,
          35244155,
          35618058,
          35861636,
          36063651,
          36233318,
          36403907,
          36588732,
          36788237,
          37011190,
          37241936,
          37393503,
          37523819,
          37612908,
          37675775,
          37749073,
          37833316,
          37919911,
          38017761,
          38131195,
          38217516,
          38261274,
          38301581,
          38334220,
          38356872,
          38371551,
          38384596,
          38396064,
          38405257,
          38412617,
          38419325,
          38423684,
          38427956,
          38430723,
          38433115,
          38435129,
          38436657,
          38437756,
          38437756,
          38437756,
          38437756,
          38437756,
          38437756,
          38437756,
          38437756,
          38437756,
          38437756,
          38437756,
          38437756,
          38437756,
          38437756,
          38437756,
          38437756,
          38437756,
          38437756,
          38437756,
          38437756,
          38437756,
          38437756,
          38437756,
          38437756,
          38437756,
          38437756,
          38437756,
          38437756,
          38437756,
          38437756,
          38437756,
          38437756,
          38437756,
          38437756,
          38437756,
          38437756,
          38437756,
          38437756,
          38437756,
          38437756,
          38437756,
          38437756,
          38437756,
          38437756,
          38437756,
          38437756,
          38437756,
          38437756,
          38437756,
          38437756,
          38437756,
          38437756,
          38437756,
          38437756,
          38437756,
          38437756,
          38437756,
          38437756,
          38437756,
          38437756,
          38437756,
          38437756
         ],
         "xaxis": "x",
         "y": [
          3,
          3,
          3,
          6,
          9,
          9,
          9,
          10,
          11,
          23,
          107,
          586,
          2045,
          4318,
          6196,
          7422,
          8149,
          8537,
          8795,
          8960,
          9071,
          9136,
          9180,
          9215,
          9256,
          9277,
          9303,
          9328,
          9359,
          9392,
          9429,
          9463,
          9494,
          9525,
          9543,
          9578,
          9646,
          9728,
          9838,
          9959,
          10206,
          10670,
          11685,
          13306,
          15216,
          17752,
          20978,
          24579,
          29059,
          34821,
          41281,
          47009,
          52753,
          58512,
          63608,
          67715,
          70817,
          73085,
          74765,
          76243,
          77470,
          78519,
          79623,
          80900,
          82426,
          84016,
          85598,
          87225,
          88847,
          90154,
          91164,
          91840,
          92288,
          92549,
          92690,
          92757,
          92804,
          92834,
          92859,
          92884,
          92914,
          92954,
          93026,
          93115,
          93259,
          93483,
          93834,
          94266,
          94715,
          95100,
          95454,
          95877,
          96366,
          96947,
          97998,
          99272,
          100944,
          103230,
          105940,
          109033,
          111898,
          114411,
          116405,
          117692,
          118721,
          119591,
          120284,
          121151,
          122268,
          123772,
          125477,
          127263,
          128908,
          130514,
          132292,
          134226,
          136107,
          137643,
          138935,
          139920,
          140728,
          141406,
          141947,
          142365,
          142695,
          142908,
          143131,
          143416,
          143818,
          144384,
          144994,
          145696,
          146656,
          147785,
          148823,
          149614,
          150237,
          150830,
          151227,
          151578,
          151895,
          152249,
          152769,
          153649,
          154933,
          156493,
          157970,
          159019,
          159717,
          160357,
          160910,
          161550,
          162350,
          163311,
          164450,
          165738,
          166708,
          167537,
          168054,
          168392,
          168723,
          169067,
          169522,
          170123,
          170722,
          171257,
          171829,
          172455,
          173000,
          173431,
          173709,
          174013,
          174244,
          174406,
          174573,
          174682,
          174767,
          174839,
          174894,
          174926,
          174956,
          174971,
          174979,
          174979,
          174979,
          174979,
          174979,
          174979,
          174979,
          174979,
          174979,
          174979,
          174979,
          174979,
          174979,
          174979,
          174979,
          174979,
          174979,
          174979,
          174979,
          174979,
          174979,
          174979,
          174979,
          174979,
          174979,
          174979,
          174979,
          174979,
          174979,
          174979,
          174979,
          174979,
          174979,
          174979,
          174979,
          174979,
          174979,
          174979,
          174979,
          174979,
          174979,
          174979,
          174979,
          174979,
          174979,
          174979,
          174979,
          174979,
          174979,
          174979,
          174979,
          174979,
          174979,
          174979,
          174979,
          174979,
          174979,
          174979,
          174979,
          174979,
          174979,
          174979
         ],
         "yaxis": "y"
        },
        {
         "hovertemplate": "Country=India<br>Cumulative Cases=%{x}<br>Cumulative Deaths=%{y}<extra></extra>",
         "legendgroup": "India",
         "line": {
          "color": "#00cc96",
          "dash": "solid"
         },
         "marker": {
          "symbol": "circle"
         },
         "mode": "lines",
         "name": "India",
         "orientation": "v",
         "showlegend": true,
         "type": "scatter",
         "x": [
          0,
          0,
          0,
          0,
          2,
          7,
          7,
          7,
          7,
          39,
          107,
          360,
          979,
          3374,
          8356,
          15712,
          26496,
          39980,
          62939,
          90927,
          131868,
          182143,
          246628,
          320922,
          410461,
          528859,
          673165,
          849553,
          1077618,
          1385522,
          1750723,
          2153010,
          2589682,
          3044940,
          3542733,
          4113811,
          4754356,
          5400619,
          5992532,
          6549373,
          7053806,
          7494551,
          7864811,
          8184082,
          8507754,
          8814579,
          9095806,
          9392919,
          9644222,
          9857029,
          10031223,
          10187850,
          10323965,
          10450284,
          10557985,
          10654533,
          10746183,
          10826363,
          10904940,
          10991651,
          11096731,
          11210799,
          11359048,
          11599130,
          11971624,
          12485509,
          13358805,
          14788109,
          16960172,
          19557457,
          22296414,
          24684077,
          26530132,
          27894800,
          28809339,
          29439989,
          29881965,
          30233183,
          30545433,
          30837222,
          31106065,
          31371901,
          31655824,
          31934455,
          32192576,
          32424234,
          32695030,
          32988673,
          33236921,
          33448163,
          33652745,
          33813903,
          33953475,
          34067719,
          34175468,
          34273300,
          34355536,
          34437307,
          34510413,
          34572523,
          34633255,
          34690510,
          34740275,
          34786802,
          34889132,
          35528004,
          37122164,
          39237264,
          41092522,
          42188138,
          42631421,
          42822473,
          42916117,
          42962953,
          42990991,
          43007841,
          43019453,
          43028131,
          43035271,
          43042097,
          43057545,
          43079188,
          43102194,
          43121599,
          43136371,
          43153043,
          43176817,
          43222017,
          43296692,
          43389973,
          43502429,
          43622651,
          43750599,
          43888755,
          44019811,
          44145732,
          44253464,
          44339429,
          44408132,
          44456535,
          44495359,
          44534188,
          44568114,
          44594487,
          44612013,
          44628828,
          44642742,
          44652266,
          44660579,
          44666377,
          44669015,
          44671562,
          44673392,
          44674822,
          44675952,
          44677106,
          44678649,
          44679924,
          44681040,
          44681921,
          44682639,
          44683363,
          44684118,
          44684917,
          44686017,
          44687820,
          44690492,
          44695420,
          44704147,
          44722605,
          44756616,
          44818115,
          44891989,
          44945389,
          44969630,
          44980674,
          44986461,
          44989744,
          44991582,
          44992788,
          44993480,
          44993952,
          44994281,
          44994575,
          44994878,
          44995264,
          44995588,
          44995980,
          44996274,
          44996599,
          44996963,
          44997326,
          44997710,
          44998162,
          44998525,
          44998838,
          44999328,
          44999588,
          45001052,
          45001245,
          45001384,
          45001456,
          45001575,
          45001764,
          45002179,
          45003055,
          45004816,
          45008620,
          45013172,
          45018134,
          45021758,
          45023751,
          45025076,
          45026139,
          45027151,
          45028053,
          45029035,
          45030212,
          45031414,
          45032655,
          45033644,
          45034360,
          45035055,
          45035573,
          45036197,
          45036953,
          45037776,
          45038518,
          45039140,
          45039510,
          45039872,
          45040036,
          45040074,
          45040284,
          45040618,
          45040752,
          45040752,
          45041192,
          45041435,
          45041748,
          45042054,
          45042320,
          45042520,
          45042802
         ],
         "xaxis": "x",
         "y": [
          0,
          0,
          0,
          0,
          0,
          0,
          0,
          0,
          0,
          0,
          2,
          7,
          25,
          77,
          273,
          507,
          824,
          1301,
          2109,
          2872,
          3867,
          5164,
          6929,
          9195,
          13254,
          16095,
          19268,
          22674,
          26816,
          32063,
          37364,
          43379,
          49980,
          56706,
          63498,
          70626,
          78586,
          86752,
          94503,
          101782,
          108334,
          114031,
          118534,
          122111,
          126121,
          129635,
          133227,
          136696,
          140182,
          143019,
          145477,
          147622,
          149435,
          150999,
          152274,
          153339,
          154274,
          154996,
          155642,
          156302,
          157051,
          157756,
          158607,
          159755,
          161552,
          164623,
          169275,
          177150,
          192311,
          215542,
          242362,
          270284,
          299266,
          325972,
          346759,
          370384,
          386713,
          395751,
          402005,
          408040,
          413609,
          420551,
          424351,
          427862,
          431225,
          434367,
          437830,
          440533,
          442655,
          444838,
          446918,
          448817,
          450589,
          452124,
          454269,
          458186,
          460791,
          463530,
          465662,
          468554,
          473326,
          475434,
          477422,
          479682,
          481770,
          483790,
          486066,
          489409,
          494091,
          501979,
          508665,
          511903,
          513724,
          515036,
          515850,
          516479,
          521004,
          521345,
          521685,
          521751,
          522193,
          523843,
          524064,
          524214,
          524413,
          524586,
          524692,
          524761,
          524855,
          524999,
          525199,
          525428,
          525709,
          526033,
          526357,
          526689,
          527037,
          527332,
          527754,
          527991,
          528150,
          528337,
          528510,
          528673,
          528799,
          528895,
          528961,
          529016,
          530500,
          530531,
          530574,
          530612,
          530628,
          530658,
          530672,
          530693,
          530705,
          530720,
          530726,
          530733,
          530740,
          530745,
          530750,
          530760,
          530769,
          530775,
          530781,
          530802,
          530831,
          530881,
          530965,
          531114,
          531329,
          531533,
          531680,
          531770,
          531832,
          531864,
          531880,
          531891,
          531895,
          531903,
          531907,
          531913,
          531915,
          531915,
          531916,
          531918,
          531921,
          531925,
          531928,
          532023,
          532027,
          532030,
          532031,
          532032,
          532034,
          532037,
          533291,
          533293,
          533294,
          533295,
          533295,
          533298,
          533300,
          533306,
          533316,
          533333,
          533361,
          533392,
          533414,
          533434,
          533445,
          533454,
          533462,
          533472,
          533478,
          533495,
          533510,
          533521,
          533539,
          533552,
          533565,
          533574,
          533581,
          533585,
          533589,
          533599,
          533610,
          533612,
          533617,
          533619,
          533619,
          533621,
          533622,
          533622,
          533622,
          533623,
          533623,
          533623,
          533626,
          533629,
          533632,
          533636
         ],
         "yaxis": "y"
        }
       ],
       "layout": {
        "legend": {
         "title": {
          "text": "Country"
         },
         "tracegroupgap": 0
        },
        "template": {
         "data": {
          "bar": [
           {
            "error_x": {
             "color": "#2a3f5f"
            },
            "error_y": {
             "color": "#2a3f5f"
            },
            "marker": {
             "line": {
              "color": "#E5ECF6",
              "width": 0.5
             },
             "pattern": {
              "fillmode": "overlay",
              "size": 10,
              "solidity": 0.2
             }
            },
            "type": "bar"
           }
          ],
          "barpolar": [
           {
            "marker": {
             "line": {
              "color": "#E5ECF6",
              "width": 0.5
             },
             "pattern": {
              "fillmode": "overlay",
              "size": 10,
              "solidity": 0.2
             }
            },
            "type": "barpolar"
           }
          ],
          "carpet": [
           {
            "aaxis": {
             "endlinecolor": "#2a3f5f",
             "gridcolor": "white",
             "linecolor": "white",
             "minorgridcolor": "white",
             "startlinecolor": "#2a3f5f"
            },
            "baxis": {
             "endlinecolor": "#2a3f5f",
             "gridcolor": "white",
             "linecolor": "white",
             "minorgridcolor": "white",
             "startlinecolor": "#2a3f5f"
            },
            "type": "carpet"
           }
          ],
          "choropleth": [
           {
            "colorbar": {
             "outlinewidth": 0,
             "ticks": ""
            },
            "type": "choropleth"
           }
          ],
          "contour": [
           {
            "colorbar": {
             "outlinewidth": 0,
             "ticks": ""
            },
            "colorscale": [
             [
              0,
              "#0d0887"
             ],
             [
              0.1111111111111111,
              "#46039f"
             ],
             [
              0.2222222222222222,
              "#7201a8"
             ],
             [
              0.3333333333333333,
              "#9c179e"
             ],
             [
              0.4444444444444444,
              "#bd3786"
             ],
             [
              0.5555555555555556,
              "#d8576b"
             ],
             [
              0.6666666666666666,
              "#ed7953"
             ],
             [
              0.7777777777777778,
              "#fb9f3a"
             ],
             [
              0.8888888888888888,
              "#fdca26"
             ],
             [
              1,
              "#f0f921"
             ]
            ],
            "type": "contour"
           }
          ],
          "contourcarpet": [
           {
            "colorbar": {
             "outlinewidth": 0,
             "ticks": ""
            },
            "type": "contourcarpet"
           }
          ],
          "heatmap": [
           {
            "colorbar": {
             "outlinewidth": 0,
             "ticks": ""
            },
            "colorscale": [
             [
              0,
              "#0d0887"
             ],
             [
              0.1111111111111111,
              "#46039f"
             ],
             [
              0.2222222222222222,
              "#7201a8"
             ],
             [
              0.3333333333333333,
              "#9c179e"
             ],
             [
              0.4444444444444444,
              "#bd3786"
             ],
             [
              0.5555555555555556,
              "#d8576b"
             ],
             [
              0.6666666666666666,
              "#ed7953"
             ],
             [
              0.7777777777777778,
              "#fb9f3a"
             ],
             [
              0.8888888888888888,
              "#fdca26"
             ],
             [
              1,
              "#f0f921"
             ]
            ],
            "type": "heatmap"
           }
          ],
          "heatmapgl": [
           {
            "colorbar": {
             "outlinewidth": 0,
             "ticks": ""
            },
            "colorscale": [
             [
              0,
              "#0d0887"
             ],
             [
              0.1111111111111111,
              "#46039f"
             ],
             [
              0.2222222222222222,
              "#7201a8"
             ],
             [
              0.3333333333333333,
              "#9c179e"
             ],
             [
              0.4444444444444444,
              "#bd3786"
             ],
             [
              0.5555555555555556,
              "#d8576b"
             ],
             [
              0.6666666666666666,
              "#ed7953"
             ],
             [
              0.7777777777777778,
              "#fb9f3a"
             ],
             [
              0.8888888888888888,
              "#fdca26"
             ],
             [
              1,
              "#f0f921"
             ]
            ],
            "type": "heatmapgl"
           }
          ],
          "histogram": [
           {
            "marker": {
             "pattern": {
              "fillmode": "overlay",
              "size": 10,
              "solidity": 0.2
             }
            },
            "type": "histogram"
           }
          ],
          "histogram2d": [
           {
            "colorbar": {
             "outlinewidth": 0,
             "ticks": ""
            },
            "colorscale": [
             [
              0,
              "#0d0887"
             ],
             [
              0.1111111111111111,
              "#46039f"
             ],
             [
              0.2222222222222222,
              "#7201a8"
             ],
             [
              0.3333333333333333,
              "#9c179e"
             ],
             [
              0.4444444444444444,
              "#bd3786"
             ],
             [
              0.5555555555555556,
              "#d8576b"
             ],
             [
              0.6666666666666666,
              "#ed7953"
             ],
             [
              0.7777777777777778,
              "#fb9f3a"
             ],
             [
              0.8888888888888888,
              "#fdca26"
             ],
             [
              1,
              "#f0f921"
             ]
            ],
            "type": "histogram2d"
           }
          ],
          "histogram2dcontour": [
           {
            "colorbar": {
             "outlinewidth": 0,
             "ticks": ""
            },
            "colorscale": [
             [
              0,
              "#0d0887"
             ],
             [
              0.1111111111111111,
              "#46039f"
             ],
             [
              0.2222222222222222,
              "#7201a8"
             ],
             [
              0.3333333333333333,
              "#9c179e"
             ],
             [
              0.4444444444444444,
              "#bd3786"
             ],
             [
              0.5555555555555556,
              "#d8576b"
             ],
             [
              0.6666666666666666,
              "#ed7953"
             ],
             [
              0.7777777777777778,
              "#fb9f3a"
             ],
             [
              0.8888888888888888,
              "#fdca26"
             ],
             [
              1,
              "#f0f921"
             ]
            ],
            "type": "histogram2dcontour"
           }
          ],
          "mesh3d": [
           {
            "colorbar": {
             "outlinewidth": 0,
             "ticks": ""
            },
            "type": "mesh3d"
           }
          ],
          "parcoords": [
           {
            "line": {
             "colorbar": {
              "outlinewidth": 0,
              "ticks": ""
             }
            },
            "type": "parcoords"
           }
          ],
          "pie": [
           {
            "automargin": true,
            "type": "pie"
           }
          ],
          "scatter": [
           {
            "fillpattern": {
             "fillmode": "overlay",
             "size": 10,
             "solidity": 0.2
            },
            "type": "scatter"
           }
          ],
          "scatter3d": [
           {
            "line": {
             "colorbar": {
              "outlinewidth": 0,
              "ticks": ""
             }
            },
            "marker": {
             "colorbar": {
              "outlinewidth": 0,
              "ticks": ""
             }
            },
            "type": "scatter3d"
           }
          ],
          "scattercarpet": [
           {
            "marker": {
             "colorbar": {
              "outlinewidth": 0,
              "ticks": ""
             }
            },
            "type": "scattercarpet"
           }
          ],
          "scattergeo": [
           {
            "marker": {
             "colorbar": {
              "outlinewidth": 0,
              "ticks": ""
             }
            },
            "type": "scattergeo"
           }
          ],
          "scattergl": [
           {
            "marker": {
             "colorbar": {
              "outlinewidth": 0,
              "ticks": ""
             }
            },
            "type": "scattergl"
           }
          ],
          "scattermapbox": [
           {
            "marker": {
             "colorbar": {
              "outlinewidth": 0,
              "ticks": ""
             }
            },
            "type": "scattermapbox"
           }
          ],
          "scatterpolar": [
           {
            "marker": {
             "colorbar": {
              "outlinewidth": 0,
              "ticks": ""
             }
            },
            "type": "scatterpolar"
           }
          ],
          "scatterpolargl": [
           {
            "marker": {
             "colorbar": {
              "outlinewidth": 0,
              "ticks": ""
             }
            },
            "type": "scatterpolargl"
           }
          ],
          "scatterternary": [
           {
            "marker": {
             "colorbar": {
              "outlinewidth": 0,
              "ticks": ""
             }
            },
            "type": "scatterternary"
           }
          ],
          "surface": [
           {
            "colorbar": {
             "outlinewidth": 0,
             "ticks": ""
            },
            "colorscale": [
             [
              0,
              "#0d0887"
             ],
             [
              0.1111111111111111,
              "#46039f"
             ],
             [
              0.2222222222222222,
              "#7201a8"
             ],
             [
              0.3333333333333333,
              "#9c179e"
             ],
             [
              0.4444444444444444,
              "#bd3786"
             ],
             [
              0.5555555555555556,
              "#d8576b"
             ],
             [
              0.6666666666666666,
              "#ed7953"
             ],
             [
              0.7777777777777778,
              "#fb9f3a"
             ],
             [
              0.8888888888888888,
              "#fdca26"
             ],
             [
              1,
              "#f0f921"
             ]
            ],
            "type": "surface"
           }
          ],
          "table": [
           {
            "cells": {
             "fill": {
              "color": "#EBF0F8"
             },
             "line": {
              "color": "white"
             }
            },
            "header": {
             "fill": {
              "color": "#C8D4E3"
             },
             "line": {
              "color": "white"
             }
            },
            "type": "table"
           }
          ]
         },
         "layout": {
          "annotationdefaults": {
           "arrowcolor": "#2a3f5f",
           "arrowhead": 0,
           "arrowwidth": 1
          },
          "autotypenumbers": "strict",
          "coloraxis": {
           "colorbar": {
            "outlinewidth": 0,
            "ticks": ""
           }
          },
          "colorscale": {
           "diverging": [
            [
             0,
             "#8e0152"
            ],
            [
             0.1,
             "#c51b7d"
            ],
            [
             0.2,
             "#de77ae"
            ],
            [
             0.3,
             "#f1b6da"
            ],
            [
             0.4,
             "#fde0ef"
            ],
            [
             0.5,
             "#f7f7f7"
            ],
            [
             0.6,
             "#e6f5d0"
            ],
            [
             0.7,
             "#b8e186"
            ],
            [
             0.8,
             "#7fbc41"
            ],
            [
             0.9,
             "#4d9221"
            ],
            [
             1,
             "#276419"
            ]
           ],
           "sequential": [
            [
             0,
             "#0d0887"
            ],
            [
             0.1111111111111111,
             "#46039f"
            ],
            [
             0.2222222222222222,
             "#7201a8"
            ],
            [
             0.3333333333333333,
             "#9c179e"
            ],
            [
             0.4444444444444444,
             "#bd3786"
            ],
            [
             0.5555555555555556,
             "#d8576b"
            ],
            [
             0.6666666666666666,
             "#ed7953"
            ],
            [
             0.7777777777777778,
             "#fb9f3a"
            ],
            [
             0.8888888888888888,
             "#fdca26"
            ],
            [
             1,
             "#f0f921"
            ]
           ],
           "sequentialminus": [
            [
             0,
             "#0d0887"
            ],
            [
             0.1111111111111111,
             "#46039f"
            ],
            [
             0.2222222222222222,
             "#7201a8"
            ],
            [
             0.3333333333333333,
             "#9c179e"
            ],
            [
             0.4444444444444444,
             "#bd3786"
            ],
            [
             0.5555555555555556,
             "#d8576b"
            ],
            [
             0.6666666666666666,
             "#ed7953"
            ],
            [
             0.7777777777777778,
             "#fb9f3a"
            ],
            [
             0.8888888888888888,
             "#fdca26"
            ],
            [
             1,
             "#f0f921"
            ]
           ]
          },
          "colorway": [
           "#636efa",
           "#EF553B",
           "#00cc96",
           "#ab63fa",
           "#FFA15A",
           "#19d3f3",
           "#FF6692",
           "#B6E880",
           "#FF97FF",
           "#FECB52"
          ],
          "font": {
           "color": "#2a3f5f"
          },
          "geo": {
           "bgcolor": "white",
           "lakecolor": "white",
           "landcolor": "#E5ECF6",
           "showlakes": true,
           "showland": true,
           "subunitcolor": "white"
          },
          "hoverlabel": {
           "align": "left"
          },
          "hovermode": "closest",
          "mapbox": {
           "style": "light"
          },
          "paper_bgcolor": "white",
          "plot_bgcolor": "#E5ECF6",
          "polar": {
           "angularaxis": {
            "gridcolor": "white",
            "linecolor": "white",
            "ticks": ""
           },
           "bgcolor": "#E5ECF6",
           "radialaxis": {
            "gridcolor": "white",
            "linecolor": "white",
            "ticks": ""
           }
          },
          "scene": {
           "xaxis": {
            "backgroundcolor": "#E5ECF6",
            "gridcolor": "white",
            "gridwidth": 2,
            "linecolor": "white",
            "showbackground": true,
            "ticks": "",
            "zerolinecolor": "white"
           },
           "yaxis": {
            "backgroundcolor": "#E5ECF6",
            "gridcolor": "white",
            "gridwidth": 2,
            "linecolor": "white",
            "showbackground": true,
            "ticks": "",
            "zerolinecolor": "white"
           },
           "zaxis": {
            "backgroundcolor": "#E5ECF6",
            "gridcolor": "white",
            "gridwidth": 2,
            "linecolor": "white",
            "showbackground": true,
            "ticks": "",
            "zerolinecolor": "white"
           }
          },
          "shapedefaults": {
           "line": {
            "color": "#2a3f5f"
           }
          },
          "ternary": {
           "aaxis": {
            "gridcolor": "white",
            "linecolor": "white",
            "ticks": ""
           },
           "baxis": {
            "gridcolor": "white",
            "linecolor": "white",
            "ticks": ""
           },
           "bgcolor": "#E5ECF6",
           "caxis": {
            "gridcolor": "white",
            "linecolor": "white",
            "ticks": ""
           }
          },
          "title": {
           "x": 0.05
          },
          "xaxis": {
           "automargin": true,
           "gridcolor": "white",
           "linecolor": "white",
           "ticks": "",
           "title": {
            "standoff": 15
           },
           "zerolinecolor": "white",
           "zerolinewidth": 2
          },
          "yaxis": {
           "automargin": true,
           "gridcolor": "white",
           "linecolor": "white",
           "ticks": "",
           "title": {
            "standoff": 15
           },
           "zerolinecolor": "white",
           "zerolinewidth": 2
          }
         }
        },
        "title": {
         "text": "Cumulative Deaths vs Cumulative Cases"
        },
        "xaxis": {
         "anchor": "y",
         "domain": [
          0,
          1
         ],
         "title": {
          "text": "Cumulative Cases"
         }
        },
        "yaxis": {
         "anchor": "x",
         "domain": [
          0,
          1
         ],
         "title": {
          "text": "Cumulative Deaths"
         }
        }
       }
      },
      "text/html": [
       "<div>                            <div id=\"8033a6cb-ea79-4d20-b2fc-fee0b03f5ef1\" class=\"plotly-graph-div\" style=\"height:525px; width:100%;\"></div>            <script type=\"text/javascript\">                require([\"plotly\"], function(Plotly) {                    window.PLOTLYENV=window.PLOTLYENV || {};                                    if (document.getElementById(\"8033a6cb-ea79-4d20-b2fc-fee0b03f5ef1\")) {                    Plotly.newPlot(                        \"8033a6cb-ea79-4d20-b2fc-fee0b03f5ef1\",                        [{\"hovertemplate\":\"Country=China\\u003cbr\\u003eCumulative Cases=%{x}\\u003cbr\\u003eCumulative Deaths=%{y}\\u003cextra\\u003e\\u003c\\u002fextra\\u003e\",\"legendgroup\":\"China\",\"line\":{\"color\":\"#636efa\",\"dash\":\"solid\"},\"marker\":{\"symbol\":\"circle\"},\"mode\":\"lines\",\"name\":\"China\",\"orientation\":\"v\",\"showlegend\":true,\"x\":[1,45,125,1985,14411,37251,68584,77042,79968,80859,81048,81498,82341,82930,83482,84201,84338,84393,84430,84484,84525,84570,84629,84729,84997,85190,85306,85522,85937,86839,88302,89149,89761,90141,90351,90517,90666,90840,90966,91121,91305,91489,91674,91921,92195,92428,92648,93329,94160,94950,95716,96324,96972,97652,98794,100136,100974,101316,101536,101700,101920,102101,102363,102539,102698,102908,103113,103315,103484,103667,103808,104425,107187,111146,114667,116301,117548,118358,118896,119321,119698,120213,120837,121684,122378,122698,122995,123231,123544,124102,124495,124805,125055,125254,125565,126078,126710,127260,127512,127764,128393,129082,129794,130858,132508,134151,136027,137350,138992,141049,149640,180767,301154,603734,761907,846296,890267,922543,944191,974858,1017161,1109144,1336865,1750942,2304993,2878333,3392302,3882284,4288753,4611936,4841957,5065872,5263427,5444117,5616120,5779460,5946156,6118580,6313044,6551088,6814376,7112069,7404545,7707637,8041467,8370377,8655725,8913719,9132821,9304566,9463379,9607584,9753725,10871623,21970173,62445650,87090526,95152288,97513859,98269042,98444584,98637553,98785727,98904475,98982145,99066935,99159203,99224504,99238106,99239166,99240394,99242093,99244299,99247381,99251117,99255557,99259994,99266460,99271490,99278446,99283001,99285438,99289316,99292049,99294715,99297160,99299701,99301655,99302619,99304082,99305669,99307316,99308843,99309868,99311020,99313571,99315126,99316498,99317568,99318373,99319009,99319568,99320035,99320425,99320845,99321242,99321637,99322142,99322727,99323756,99325108,99326423,99327754,99329249,99330516,99331724,99334752,99336751,99339769,99343195,99345680,99347448,99348816,99350327,99351758,99353161,99354727,99356481,99357895,99359003,99359802,99360533,99361338,99362248,99363491,99365162,99367041,99369029,99371132,99373219,99375447,99376823,99377976,99379039],\"xaxis\":\"x\",\"y\":[0,1,3,56,361,905,1767,2446,2873,3101,3204,3267,3306,3338,3349,4642,4642,4643,4643,4645,4645,4645,4645,4645,4646,4648,4648,4648,4653,4659,4674,4688,4710,4717,4728,4735,4741,4744,4746,4746,4746,4746,4746,4746,4748,4749,4749,4750,4753,4756,4770,4777,4791,4798,4804,4810,4823,4831,4838,4842,4843,4848,4849,4849,4851,4851,4853,4856,4856,4858,4858,4858,4869,4955,5106,5283,5395,5478,5535,5588,5616,5634,5637,5657,5669,5676,5682,5685,5687,5689,5690,5692,5695,5695,5695,5696,5696,5697,5697,5697,5697,5697,5699,5699,5699,5699,5700,5700,5700,5700,5706,5776,6148,7496,9482,11387,12743,13663,14262,14634,14881,15273,15450,15642,15989,16658,17702,18896,19987,20969,21658,22367,22895,23353,23704,24034,24258,24499,24766,25058,25354,25712,26244,26609,27044,27471,27950,28460,28939,29370,29838,30192,30567,31438,33146,38995,56888,69879,69879,69879,69879,117566,118926,119463,119821,120181,120510,120775,120894,120897,120905,120912,120923,120961,121015,121073,121144,121235,121236,121390,121390,121465,121490,121515,121536,121536,121536,121647,121671,121671,121679,121679,121702,121714,121722,121722,121797,121809,121823,121835,121867,121873,121874,121877,121886,121888,121888,121889,121893,121938,121916,121921,121933,121946,121956,121976,121993,122034,122050,122050,122106,122125,122143,122153,122170,122176,122196,122201,122215,122225,122243,122248,122254,122257,122261,122271,122273,122280,122289,122304,122309,122319,122323,122326],\"yaxis\":\"y\",\"type\":\"scatter\"},{\"hovertemplate\":\"Country=Germany\\u003cbr\\u003eCumulative Cases=%{x}\\u003cbr\\u003eCumulative Deaths=%{y}\\u003cextra\\u003e\\u003c\\u002fextra\\u003e\",\"legendgroup\":\"Germany\",\"line\":{\"color\":\"#EF553B\",\"dash\":\"solid\"},\"marker\":{\"symbol\":\"circle\"},\"mode\":\"lines\",\"name\":\"Germany\",\"orientation\":\"v\",\"showlegend\":true,\"x\":[1,1,1,2,11,20,25,31,170,1075,7516,29923,63904,99971,127116,144461,156812,164254,170497,175272,178876,182082,184436,186784,190976,194143,196834,199263,202307,206243,211086,217153,225124,234704,243548,252157,261942,274227,287291,303237,329382,371413,446205,557214,682906,810768,939168,1062290,1190548,1346761,1521350,1660178,1783131,1928636,2047565,2143118,2221290,2285886,2336713,2389042,2445398,2503823,2575214,2667824,2784133,2894140,3012328,3154349,3299027,3423711,3524558,3595304,3647974,3677841,3698521,3712583,3719868,3724727,3729115,3734712,3743825,3756471,3771993,3792416,3824493,3874145,3940516,4015253,4086909,4148380,4202003,4258484,4316509,4381868,4479591,4616602,4794470,5065644,5417298,5820646,6208700,6546708,6820211,7014043,7222739,7560621,8046745,8843560,9957912,11250652,12560497,13753768,14846861,15980870,17394716,18977220,20566111,21861236,22845836,23624784,24356283,24953200,25424640,25833385,26125890,26313049,26558190,26889624,27303415,27877640,28500416,29129765,29804895,30432074,30927803,31290739,31589031,31852360,32080339,32282096,32486180,32715093,33001628,33460480,34054553,34699539,35244155,35618058,35861636,36063651,36233318,36403907,36588732,36788237,37011190,37241936,37393503,37523819,37612908,37675775,37749073,37833316,37919911,38017761,38131195,38217516,38261274,38301581,38334220,38356872,38371551,38384596,38396064,38405257,38412617,38419325,38423684,38427956,38430723,38433115,38435129,38436657,38437756,38437756,38437756,38437756,38437756,38437756,38437756,38437756,38437756,38437756,38437756,38437756,38437756,38437756,38437756,38437756,38437756,38437756,38437756,38437756,38437756,38437756,38437756,38437756,38437756,38437756,38437756,38437756,38437756,38437756,38437756,38437756,38437756,38437756,38437756,38437756,38437756,38437756,38437756,38437756,38437756,38437756,38437756,38437756,38437756,38437756,38437756,38437756,38437756,38437756,38437756,38437756,38437756,38437756,38437756,38437756,38437756,38437756,38437756,38437756,38437756,38437756],\"xaxis\":\"x\",\"y\":[3,3,3,6,9,9,9,10,11,23,107,586,2045,4318,6196,7422,8149,8537,8795,8960,9071,9136,9180,9215,9256,9277,9303,9328,9359,9392,9429,9463,9494,9525,9543,9578,9646,9728,9838,9959,10206,10670,11685,13306,15216,17752,20978,24579,29059,34821,41281,47009,52753,58512,63608,67715,70817,73085,74765,76243,77470,78519,79623,80900,82426,84016,85598,87225,88847,90154,91164,91840,92288,92549,92690,92757,92804,92834,92859,92884,92914,92954,93026,93115,93259,93483,93834,94266,94715,95100,95454,95877,96366,96947,97998,99272,100944,103230,105940,109033,111898,114411,116405,117692,118721,119591,120284,121151,122268,123772,125477,127263,128908,130514,132292,134226,136107,137643,138935,139920,140728,141406,141947,142365,142695,142908,143131,143416,143818,144384,144994,145696,146656,147785,148823,149614,150237,150830,151227,151578,151895,152249,152769,153649,154933,156493,157970,159019,159717,160357,160910,161550,162350,163311,164450,165738,166708,167537,168054,168392,168723,169067,169522,170123,170722,171257,171829,172455,173000,173431,173709,174013,174244,174406,174573,174682,174767,174839,174894,174926,174956,174971,174979,174979,174979,174979,174979,174979,174979,174979,174979,174979,174979,174979,174979,174979,174979,174979,174979,174979,174979,174979,174979,174979,174979,174979,174979,174979,174979,174979,174979,174979,174979,174979,174979,174979,174979,174979,174979,174979,174979,174979,174979,174979,174979,174979,174979,174979,174979,174979,174979,174979,174979,174979,174979,174979,174979,174979,174979,174979,174979,174979,174979,174979],\"yaxis\":\"y\",\"type\":\"scatter\"},{\"hovertemplate\":\"Country=India\\u003cbr\\u003eCumulative Cases=%{x}\\u003cbr\\u003eCumulative Deaths=%{y}\\u003cextra\\u003e\\u003c\\u002fextra\\u003e\",\"legendgroup\":\"India\",\"line\":{\"color\":\"#00cc96\",\"dash\":\"solid\"},\"marker\":{\"symbol\":\"circle\"},\"mode\":\"lines\",\"name\":\"India\",\"orientation\":\"v\",\"showlegend\":true,\"x\":[0,0,0,0,2,7,7,7,7,39,107,360,979,3374,8356,15712,26496,39980,62939,90927,131868,182143,246628,320922,410461,528859,673165,849553,1077618,1385522,1750723,2153010,2589682,3044940,3542733,4113811,4754356,5400619,5992532,6549373,7053806,7494551,7864811,8184082,8507754,8814579,9095806,9392919,9644222,9857029,10031223,10187850,10323965,10450284,10557985,10654533,10746183,10826363,10904940,10991651,11096731,11210799,11359048,11599130,11971624,12485509,13358805,14788109,16960172,19557457,22296414,24684077,26530132,27894800,28809339,29439989,29881965,30233183,30545433,30837222,31106065,31371901,31655824,31934455,32192576,32424234,32695030,32988673,33236921,33448163,33652745,33813903,33953475,34067719,34175468,34273300,34355536,34437307,34510413,34572523,34633255,34690510,34740275,34786802,34889132,35528004,37122164,39237264,41092522,42188138,42631421,42822473,42916117,42962953,42990991,43007841,43019453,43028131,43035271,43042097,43057545,43079188,43102194,43121599,43136371,43153043,43176817,43222017,43296692,43389973,43502429,43622651,43750599,43888755,44019811,44145732,44253464,44339429,44408132,44456535,44495359,44534188,44568114,44594487,44612013,44628828,44642742,44652266,44660579,44666377,44669015,44671562,44673392,44674822,44675952,44677106,44678649,44679924,44681040,44681921,44682639,44683363,44684118,44684917,44686017,44687820,44690492,44695420,44704147,44722605,44756616,44818115,44891989,44945389,44969630,44980674,44986461,44989744,44991582,44992788,44993480,44993952,44994281,44994575,44994878,44995264,44995588,44995980,44996274,44996599,44996963,44997326,44997710,44998162,44998525,44998838,44999328,44999588,45001052,45001245,45001384,45001456,45001575,45001764,45002179,45003055,45004816,45008620,45013172,45018134,45021758,45023751,45025076,45026139,45027151,45028053,45029035,45030212,45031414,45032655,45033644,45034360,45035055,45035573,45036197,45036953,45037776,45038518,45039140,45039510,45039872,45040036,45040074,45040284,45040618,45040752,45040752,45041192,45041435,45041748,45042054,45042320,45042520,45042802],\"xaxis\":\"x\",\"y\":[0,0,0,0,0,0,0,0,0,0,2,7,25,77,273,507,824,1301,2109,2872,3867,5164,6929,9195,13254,16095,19268,22674,26816,32063,37364,43379,49980,56706,63498,70626,78586,86752,94503,101782,108334,114031,118534,122111,126121,129635,133227,136696,140182,143019,145477,147622,149435,150999,152274,153339,154274,154996,155642,156302,157051,157756,158607,159755,161552,164623,169275,177150,192311,215542,242362,270284,299266,325972,346759,370384,386713,395751,402005,408040,413609,420551,424351,427862,431225,434367,437830,440533,442655,444838,446918,448817,450589,452124,454269,458186,460791,463530,465662,468554,473326,475434,477422,479682,481770,483790,486066,489409,494091,501979,508665,511903,513724,515036,515850,516479,521004,521345,521685,521751,522193,523843,524064,524214,524413,524586,524692,524761,524855,524999,525199,525428,525709,526033,526357,526689,527037,527332,527754,527991,528150,528337,528510,528673,528799,528895,528961,529016,530500,530531,530574,530612,530628,530658,530672,530693,530705,530720,530726,530733,530740,530745,530750,530760,530769,530775,530781,530802,530831,530881,530965,531114,531329,531533,531680,531770,531832,531864,531880,531891,531895,531903,531907,531913,531915,531915,531916,531918,531921,531925,531928,532023,532027,532030,532031,532032,532034,532037,533291,533293,533294,533295,533295,533298,533300,533306,533316,533333,533361,533392,533414,533434,533445,533454,533462,533472,533478,533495,533510,533521,533539,533552,533565,533574,533581,533585,533589,533599,533610,533612,533617,533619,533619,533621,533622,533622,533622,533623,533623,533623,533626,533629,533632,533636],\"yaxis\":\"y\",\"type\":\"scatter\"}],                        {\"template\":{\"data\":{\"histogram2dcontour\":[{\"type\":\"histogram2dcontour\",\"colorbar\":{\"outlinewidth\":0,\"ticks\":\"\"},\"colorscale\":[[0.0,\"#0d0887\"],[0.1111111111111111,\"#46039f\"],[0.2222222222222222,\"#7201a8\"],[0.3333333333333333,\"#9c179e\"],[0.4444444444444444,\"#bd3786\"],[0.5555555555555556,\"#d8576b\"],[0.6666666666666666,\"#ed7953\"],[0.7777777777777778,\"#fb9f3a\"],[0.8888888888888888,\"#fdca26\"],[1.0,\"#f0f921\"]]}],\"choropleth\":[{\"type\":\"choropleth\",\"colorbar\":{\"outlinewidth\":0,\"ticks\":\"\"}}],\"histogram2d\":[{\"type\":\"histogram2d\",\"colorbar\":{\"outlinewidth\":0,\"ticks\":\"\"},\"colorscale\":[[0.0,\"#0d0887\"],[0.1111111111111111,\"#46039f\"],[0.2222222222222222,\"#7201a8\"],[0.3333333333333333,\"#9c179e\"],[0.4444444444444444,\"#bd3786\"],[0.5555555555555556,\"#d8576b\"],[0.6666666666666666,\"#ed7953\"],[0.7777777777777778,\"#fb9f3a\"],[0.8888888888888888,\"#fdca26\"],[1.0,\"#f0f921\"]]}],\"heatmap\":[{\"type\":\"heatmap\",\"colorbar\":{\"outlinewidth\":0,\"ticks\":\"\"},\"colorscale\":[[0.0,\"#0d0887\"],[0.1111111111111111,\"#46039f\"],[0.2222222222222222,\"#7201a8\"],[0.3333333333333333,\"#9c179e\"],[0.4444444444444444,\"#bd3786\"],[0.5555555555555556,\"#d8576b\"],[0.6666666666666666,\"#ed7953\"],[0.7777777777777778,\"#fb9f3a\"],[0.8888888888888888,\"#fdca26\"],[1.0,\"#f0f921\"]]}],\"heatmapgl\":[{\"type\":\"heatmapgl\",\"colorbar\":{\"outlinewidth\":0,\"ticks\":\"\"},\"colorscale\":[[0.0,\"#0d0887\"],[0.1111111111111111,\"#46039f\"],[0.2222222222222222,\"#7201a8\"],[0.3333333333333333,\"#9c179e\"],[0.4444444444444444,\"#bd3786\"],[0.5555555555555556,\"#d8576b\"],[0.6666666666666666,\"#ed7953\"],[0.7777777777777778,\"#fb9f3a\"],[0.8888888888888888,\"#fdca26\"],[1.0,\"#f0f921\"]]}],\"contourcarpet\":[{\"type\":\"contourcarpet\",\"colorbar\":{\"outlinewidth\":0,\"ticks\":\"\"}}],\"contour\":[{\"type\":\"contour\",\"colorbar\":{\"outlinewidth\":0,\"ticks\":\"\"},\"colorscale\":[[0.0,\"#0d0887\"],[0.1111111111111111,\"#46039f\"],[0.2222222222222222,\"#7201a8\"],[0.3333333333333333,\"#9c179e\"],[0.4444444444444444,\"#bd3786\"],[0.5555555555555556,\"#d8576b\"],[0.6666666666666666,\"#ed7953\"],[0.7777777777777778,\"#fb9f3a\"],[0.8888888888888888,\"#fdca26\"],[1.0,\"#f0f921\"]]}],\"surface\":[{\"type\":\"surface\",\"colorbar\":{\"outlinewidth\":0,\"ticks\":\"\"},\"colorscale\":[[0.0,\"#0d0887\"],[0.1111111111111111,\"#46039f\"],[0.2222222222222222,\"#7201a8\"],[0.3333333333333333,\"#9c179e\"],[0.4444444444444444,\"#bd3786\"],[0.5555555555555556,\"#d8576b\"],[0.6666666666666666,\"#ed7953\"],[0.7777777777777778,\"#fb9f3a\"],[0.8888888888888888,\"#fdca26\"],[1.0,\"#f0f921\"]]}],\"mesh3d\":[{\"type\":\"mesh3d\",\"colorbar\":{\"outlinewidth\":0,\"ticks\":\"\"}}],\"scatter\":[{\"fillpattern\":{\"fillmode\":\"overlay\",\"size\":10,\"solidity\":0.2},\"type\":\"scatter\"}],\"parcoords\":[{\"type\":\"parcoords\",\"line\":{\"colorbar\":{\"outlinewidth\":0,\"ticks\":\"\"}}}],\"scatterpolargl\":[{\"type\":\"scatterpolargl\",\"marker\":{\"colorbar\":{\"outlinewidth\":0,\"ticks\":\"\"}}}],\"bar\":[{\"error_x\":{\"color\":\"#2a3f5f\"},\"error_y\":{\"color\":\"#2a3f5f\"},\"marker\":{\"line\":{\"color\":\"#E5ECF6\",\"width\":0.5},\"pattern\":{\"fillmode\":\"overlay\",\"size\":10,\"solidity\":0.2}},\"type\":\"bar\"}],\"scattergeo\":[{\"type\":\"scattergeo\",\"marker\":{\"colorbar\":{\"outlinewidth\":0,\"ticks\":\"\"}}}],\"scatterpolar\":[{\"type\":\"scatterpolar\",\"marker\":{\"colorbar\":{\"outlinewidth\":0,\"ticks\":\"\"}}}],\"histogram\":[{\"marker\":{\"pattern\":{\"fillmode\":\"overlay\",\"size\":10,\"solidity\":0.2}},\"type\":\"histogram\"}],\"scattergl\":[{\"type\":\"scattergl\",\"marker\":{\"colorbar\":{\"outlinewidth\":0,\"ticks\":\"\"}}}],\"scatter3d\":[{\"type\":\"scatter3d\",\"line\":{\"colorbar\":{\"outlinewidth\":0,\"ticks\":\"\"}},\"marker\":{\"colorbar\":{\"outlinewidth\":0,\"ticks\":\"\"}}}],\"scattermapbox\":[{\"type\":\"scattermapbox\",\"marker\":{\"colorbar\":{\"outlinewidth\":0,\"ticks\":\"\"}}}],\"scatterternary\":[{\"type\":\"scatterternary\",\"marker\":{\"colorbar\":{\"outlinewidth\":0,\"ticks\":\"\"}}}],\"scattercarpet\":[{\"type\":\"scattercarpet\",\"marker\":{\"colorbar\":{\"outlinewidth\":0,\"ticks\":\"\"}}}],\"carpet\":[{\"aaxis\":{\"endlinecolor\":\"#2a3f5f\",\"gridcolor\":\"white\",\"linecolor\":\"white\",\"minorgridcolor\":\"white\",\"startlinecolor\":\"#2a3f5f\"},\"baxis\":{\"endlinecolor\":\"#2a3f5f\",\"gridcolor\":\"white\",\"linecolor\":\"white\",\"minorgridcolor\":\"white\",\"startlinecolor\":\"#2a3f5f\"},\"type\":\"carpet\"}],\"table\":[{\"cells\":{\"fill\":{\"color\":\"#EBF0F8\"},\"line\":{\"color\":\"white\"}},\"header\":{\"fill\":{\"color\":\"#C8D4E3\"},\"line\":{\"color\":\"white\"}},\"type\":\"table\"}],\"barpolar\":[{\"marker\":{\"line\":{\"color\":\"#E5ECF6\",\"width\":0.5},\"pattern\":{\"fillmode\":\"overlay\",\"size\":10,\"solidity\":0.2}},\"type\":\"barpolar\"}],\"pie\":[{\"automargin\":true,\"type\":\"pie\"}]},\"layout\":{\"autotypenumbers\":\"strict\",\"colorway\":[\"#636efa\",\"#EF553B\",\"#00cc96\",\"#ab63fa\",\"#FFA15A\",\"#19d3f3\",\"#FF6692\",\"#B6E880\",\"#FF97FF\",\"#FECB52\"],\"font\":{\"color\":\"#2a3f5f\"},\"hovermode\":\"closest\",\"hoverlabel\":{\"align\":\"left\"},\"paper_bgcolor\":\"white\",\"plot_bgcolor\":\"#E5ECF6\",\"polar\":{\"bgcolor\":\"#E5ECF6\",\"angularaxis\":{\"gridcolor\":\"white\",\"linecolor\":\"white\",\"ticks\":\"\"},\"radialaxis\":{\"gridcolor\":\"white\",\"linecolor\":\"white\",\"ticks\":\"\"}},\"ternary\":{\"bgcolor\":\"#E5ECF6\",\"aaxis\":{\"gridcolor\":\"white\",\"linecolor\":\"white\",\"ticks\":\"\"},\"baxis\":{\"gridcolor\":\"white\",\"linecolor\":\"white\",\"ticks\":\"\"},\"caxis\":{\"gridcolor\":\"white\",\"linecolor\":\"white\",\"ticks\":\"\"}},\"coloraxis\":{\"colorbar\":{\"outlinewidth\":0,\"ticks\":\"\"}},\"colorscale\":{\"sequential\":[[0.0,\"#0d0887\"],[0.1111111111111111,\"#46039f\"],[0.2222222222222222,\"#7201a8\"],[0.3333333333333333,\"#9c179e\"],[0.4444444444444444,\"#bd3786\"],[0.5555555555555556,\"#d8576b\"],[0.6666666666666666,\"#ed7953\"],[0.7777777777777778,\"#fb9f3a\"],[0.8888888888888888,\"#fdca26\"],[1.0,\"#f0f921\"]],\"sequentialminus\":[[0.0,\"#0d0887\"],[0.1111111111111111,\"#46039f\"],[0.2222222222222222,\"#7201a8\"],[0.3333333333333333,\"#9c179e\"],[0.4444444444444444,\"#bd3786\"],[0.5555555555555556,\"#d8576b\"],[0.6666666666666666,\"#ed7953\"],[0.7777777777777778,\"#fb9f3a\"],[0.8888888888888888,\"#fdca26\"],[1.0,\"#f0f921\"]],\"diverging\":[[0,\"#8e0152\"],[0.1,\"#c51b7d\"],[0.2,\"#de77ae\"],[0.3,\"#f1b6da\"],[0.4,\"#fde0ef\"],[0.5,\"#f7f7f7\"],[0.6,\"#e6f5d0\"],[0.7,\"#b8e186\"],[0.8,\"#7fbc41\"],[0.9,\"#4d9221\"],[1,\"#276419\"]]},\"xaxis\":{\"gridcolor\":\"white\",\"linecolor\":\"white\",\"ticks\":\"\",\"title\":{\"standoff\":15},\"zerolinecolor\":\"white\",\"automargin\":true,\"zerolinewidth\":2},\"yaxis\":{\"gridcolor\":\"white\",\"linecolor\":\"white\",\"ticks\":\"\",\"title\":{\"standoff\":15},\"zerolinecolor\":\"white\",\"automargin\":true,\"zerolinewidth\":2},\"scene\":{\"xaxis\":{\"backgroundcolor\":\"#E5ECF6\",\"gridcolor\":\"white\",\"linecolor\":\"white\",\"showbackground\":true,\"ticks\":\"\",\"zerolinecolor\":\"white\",\"gridwidth\":2},\"yaxis\":{\"backgroundcolor\":\"#E5ECF6\",\"gridcolor\":\"white\",\"linecolor\":\"white\",\"showbackground\":true,\"ticks\":\"\",\"zerolinecolor\":\"white\",\"gridwidth\":2},\"zaxis\":{\"backgroundcolor\":\"#E5ECF6\",\"gridcolor\":\"white\",\"linecolor\":\"white\",\"showbackground\":true,\"ticks\":\"\",\"zerolinecolor\":\"white\",\"gridwidth\":2}},\"shapedefaults\":{\"line\":{\"color\":\"#2a3f5f\"}},\"annotationdefaults\":{\"arrowcolor\":\"#2a3f5f\",\"arrowhead\":0,\"arrowwidth\":1},\"geo\":{\"bgcolor\":\"white\",\"landcolor\":\"#E5ECF6\",\"subunitcolor\":\"white\",\"showland\":true,\"showlakes\":true,\"lakecolor\":\"white\"},\"title\":{\"x\":0.05},\"mapbox\":{\"style\":\"light\"}}},\"xaxis\":{\"anchor\":\"y\",\"domain\":[0.0,1.0],\"title\":{\"text\":\"Cumulative Cases\"}},\"yaxis\":{\"anchor\":\"x\",\"domain\":[0.0,1.0],\"title\":{\"text\":\"Cumulative Deaths\"}},\"legend\":{\"title\":{\"text\":\"Country\"},\"tracegroupgap\":0},\"title\":{\"text\":\"Cumulative Deaths vs Cumulative Cases\"}},                        {\"responsive\": true}                    ).then(function(){\n",
       "                            \n",
       "var gd = document.getElementById('8033a6cb-ea79-4d20-b2fc-fee0b03f5ef1');\n",
       "var x = new MutationObserver(function (mutations, observer) {{\n",
       "        var display = window.getComputedStyle(gd).display;\n",
       "        if (!display || display === 'none') {{\n",
       "            console.log([gd, 'removed!']);\n",
       "            Plotly.purge(gd);\n",
       "            observer.disconnect();\n",
       "        }}\n",
       "}});\n",
       "\n",
       "// Listen for the removal of the full notebook cells\n",
       "var notebookContainer = gd.closest('#notebook-container');\n",
       "if (notebookContainer) {{\n",
       "    x.observe(notebookContainer, {childList: true});\n",
       "}}\n",
       "\n",
       "// Listen for the clearing of the current output cell\n",
       "var outputEl = gd.closest('.output');\n",
       "if (outputEl) {{\n",
       "    x.observe(outputEl, {childList: true});\n",
       "}}\n",
       "\n",
       "                        })                };                });            </script>        </div>"
      ]
     },
     "metadata": {},
     "output_type": "display_data"
    }
   ],
   "source": [
    "# Create a Plotly line plot\n",
    "fig = px.line(\n",
    "    filtered_df,\n",
    "    x='Cumulative_cases',\n",
    "    y='Cumulative_deaths',\n",
    "    color='Country',\n",
    "    title='Cumulative Deaths vs Cumulative Cases',\n",
    "    labels={'Cumulative_cases': 'Cumulative Cases', 'Cumulative_deaths': 'Cumulative Deaths'}\n",
    ")\n",
    "\n",
    "# Show the plot\n",
    "fig.show()\n"
   ]
  },
  {
   "cell_type": "code",
   "execution_count": null,
   "id": "866227ac-542d-4aaf-ad9e-c9fde2e2ea13",
   "metadata": {},
   "outputs": [],
   "source": []
  }
 ],
 "metadata": {
  "kernelspec": {
   "display_name": "Python 3 (ipykernel)",
   "language": "python",
   "name": "python3"
  },
  "language_info": {
   "codemirror_mode": {
    "name": "ipython",
    "version": 3
   },
   "file_extension": ".py",
   "mimetype": "text/x-python",
   "name": "python",
   "nbconvert_exporter": "python",
   "pygments_lexer": "ipython3",
   "version": "3.9.20"
  }
 },
 "nbformat": 4,
 "nbformat_minor": 5
}

{
 "cells": [
  {
   "cell_type": "markdown",
   "id": "9fdbabd1-a139-42cd-86eb-3911f2363ea6",
   "metadata": {},
   "source": [
    "# 04 Homework\n",
    "© Copyright: 2024, Selma Hadzic, all rights reserved."
   ]
  },
  {
   "cell_type": "markdown",
   "id": "120d9520-a37c-4240-8c50-34e92d9d85f7",
   "metadata": {},
   "source": [
    "#### Number of points: 15 (weights 15% in the final grade)\n",
    "\n",
    "\n",
    "1. Pull from the `ESMT_2024_DataScraping_Lectures` repository: you should get this `04_Homework` file\n",
    "2. Launch VS Code and open your working-folder\n",
    "3. Create a `Session_04` folder, in which you create another folder called `data`\n",
    "4. Copy paste the notebook `04_Homework` from the lectures repo to the working-folder. Copy the csv file `WHO_COVID19_cases.csv` into the `working-folder/Session_04/data` directory.\n",
    "5. Do the exercises on 04_Homework in your working-folder\n",
    "6. Once you are finished, copy-Paste the notebook into `ESMT_2024_DataScraping_Students` folder in your computer\n",
    "8. Commit and push your homework in your branch before the deadline\n",
    "\n",
    "#### Deadline: October 24th 01:29 pm CET\n",
    "\n",
    "#### Any missed deadline without justification to the Administration will result in 0 points for this homework.\n",
    "#### If the Github branch is not correctly named using the indicated format **LASTNAME_firstname**, then a penalty of -2 points will be applied"
   ]
  },
  {
   "cell_type": "markdown",
   "id": "099d2883-1487-4402-9d9f-f4009bf1d844",
   "metadata": {},
   "source": [
    "## Dataset: use the WHO_COVID19_cases.csv dataset from Session_01"
   ]
  },
  {
   "cell_type": "markdown",
   "id": "180e5436-4077-44a0-be08-135e124f73d3",
   "metadata": {},
   "source": [
    "## 1- Filter the data for 3 countries and draw a line plot for Cumulative_cases vs Date_reported using seaborn (7.5 points)\n",
    "\n",
    "*Tip: you may want to explore `plt.xticks(rotation=90);` and `plt.gca().xaxis.set_major_locator(ticker.MultipleLocator(6)) ;` to unclutter the dates on the x-axis*"
   ]
  },
  {
   "cell_type": "code",
   "execution_count": 3,
   "id": "0cdc9b82-5b98-48d8-82d9-4b03be250757",
   "metadata": {},
   "outputs": [],
   "source": [
    "import seaborn as sns\n",
    "import pandas as pd"
   ]
  },
  {
   "cell_type": "code",
   "execution_count": 4,
   "id": "5c5c3d2f-f7e9-4fc1-912d-c3f41900cfdb",
   "metadata": {},
   "outputs": [],
   "source": [
    "df = pd.read_csv('./data/WHO_COVID19_cases.csv')"
   ]
  },
  {
   "cell_type": "code",
   "execution_count": 5,
   "id": "53be5a6f-00d3-4134-9009-68d0dd42b729",
   "metadata": {},
   "outputs": [
    {
     "data": {
      "text/html": [
       "<div>\n",
       "<style scoped>\n",
       "    .dataframe tbody tr th:only-of-type {\n",
       "        vertical-align: middle;\n",
       "    }\n",
       "\n",
       "    .dataframe tbody tr th {\n",
       "        vertical-align: top;\n",
       "    }\n",
       "\n",
       "    .dataframe thead th {\n",
       "        text-align: right;\n",
       "    }\n",
       "</style>\n",
       "<table border=\"1\" class=\"dataframe\">\n",
       "  <thead>\n",
       "    <tr style=\"text-align: right;\">\n",
       "      <th></th>\n",
       "      <th>Date_reported</th>\n",
       "      <th>Country_code</th>\n",
       "      <th>Country</th>\n",
       "      <th>Continent</th>\n",
       "      <th>WHO_region</th>\n",
       "      <th>New_cases</th>\n",
       "      <th>Cumulative_cases</th>\n",
       "      <th>New_deaths</th>\n",
       "      <th>Cumulative_deaths</th>\n",
       "    </tr>\n",
       "  </thead>\n",
       "  <tbody>\n",
       "    <tr>\n",
       "      <th>0</th>\n",
       "      <td>2020-01-05</td>\n",
       "      <td>AF</td>\n",
       "      <td>Afghanistan</td>\n",
       "      <td>Asia</td>\n",
       "      <td>EMRO</td>\n",
       "      <td>NaN</td>\n",
       "      <td>0</td>\n",
       "      <td>NaN</td>\n",
       "      <td>0</td>\n",
       "    </tr>\n",
       "    <tr>\n",
       "      <th>1</th>\n",
       "      <td>2020-01-12</td>\n",
       "      <td>AF</td>\n",
       "      <td>Afghanistan</td>\n",
       "      <td>Asia</td>\n",
       "      <td>EMRO</td>\n",
       "      <td>NaN</td>\n",
       "      <td>0</td>\n",
       "      <td>NaN</td>\n",
       "      <td>0</td>\n",
       "    </tr>\n",
       "    <tr>\n",
       "      <th>2</th>\n",
       "      <td>2020-01-19</td>\n",
       "      <td>AF</td>\n",
       "      <td>Afghanistan</td>\n",
       "      <td>Asia</td>\n",
       "      <td>EMRO</td>\n",
       "      <td>NaN</td>\n",
       "      <td>0</td>\n",
       "      <td>NaN</td>\n",
       "      <td>0</td>\n",
       "    </tr>\n",
       "    <tr>\n",
       "      <th>3</th>\n",
       "      <td>2020-01-26</td>\n",
       "      <td>AF</td>\n",
       "      <td>Afghanistan</td>\n",
       "      <td>Asia</td>\n",
       "      <td>EMRO</td>\n",
       "      <td>NaN</td>\n",
       "      <td>0</td>\n",
       "      <td>NaN</td>\n",
       "      <td>0</td>\n",
       "    </tr>\n",
       "    <tr>\n",
       "      <th>4</th>\n",
       "      <td>2020-02-02</td>\n",
       "      <td>AF</td>\n",
       "      <td>Afghanistan</td>\n",
       "      <td>Asia</td>\n",
       "      <td>EMRO</td>\n",
       "      <td>NaN</td>\n",
       "      <td>0</td>\n",
       "      <td>NaN</td>\n",
       "      <td>0</td>\n",
       "    </tr>\n",
       "    <tr>\n",
       "      <th>5</th>\n",
       "      <td>2020-02-09</td>\n",
       "      <td>AF</td>\n",
       "      <td>Afghanistan</td>\n",
       "      <td>Asia</td>\n",
       "      <td>EMRO</td>\n",
       "      <td>NaN</td>\n",
       "      <td>0</td>\n",
       "      <td>NaN</td>\n",
       "      <td>0</td>\n",
       "    </tr>\n",
       "    <tr>\n",
       "      <th>6</th>\n",
       "      <td>2020-02-16</td>\n",
       "      <td>AF</td>\n",
       "      <td>Afghanistan</td>\n",
       "      <td>Asia</td>\n",
       "      <td>EMRO</td>\n",
       "      <td>NaN</td>\n",
       "      <td>0</td>\n",
       "      <td>NaN</td>\n",
       "      <td>0</td>\n",
       "    </tr>\n",
       "    <tr>\n",
       "      <th>7</th>\n",
       "      <td>2020-02-23</td>\n",
       "      <td>AF</td>\n",
       "      <td>Afghanistan</td>\n",
       "      <td>Asia</td>\n",
       "      <td>EMRO</td>\n",
       "      <td>NaN</td>\n",
       "      <td>0</td>\n",
       "      <td>NaN</td>\n",
       "      <td>0</td>\n",
       "    </tr>\n",
       "    <tr>\n",
       "      <th>8</th>\n",
       "      <td>2020-03-01</td>\n",
       "      <td>AF</td>\n",
       "      <td>Afghanistan</td>\n",
       "      <td>Asia</td>\n",
       "      <td>EMRO</td>\n",
       "      <td>1.0</td>\n",
       "      <td>1</td>\n",
       "      <td>NaN</td>\n",
       "      <td>0</td>\n",
       "    </tr>\n",
       "    <tr>\n",
       "      <th>9</th>\n",
       "      <td>2020-03-08</td>\n",
       "      <td>AF</td>\n",
       "      <td>Afghanistan</td>\n",
       "      <td>Asia</td>\n",
       "      <td>EMRO</td>\n",
       "      <td>NaN</td>\n",
       "      <td>1</td>\n",
       "      <td>NaN</td>\n",
       "      <td>0</td>\n",
       "    </tr>\n",
       "  </tbody>\n",
       "</table>\n",
       "</div>"
      ],
      "text/plain": [
       "  Date_reported Country_code      Country Continent WHO_region  New_cases  \\\n",
       "0    2020-01-05           AF  Afghanistan      Asia       EMRO        NaN   \n",
       "1    2020-01-12           AF  Afghanistan      Asia       EMRO        NaN   \n",
       "2    2020-01-19           AF  Afghanistan      Asia       EMRO        NaN   \n",
       "3    2020-01-26           AF  Afghanistan      Asia       EMRO        NaN   \n",
       "4    2020-02-02           AF  Afghanistan      Asia       EMRO        NaN   \n",
       "5    2020-02-09           AF  Afghanistan      Asia       EMRO        NaN   \n",
       "6    2020-02-16           AF  Afghanistan      Asia       EMRO        NaN   \n",
       "7    2020-02-23           AF  Afghanistan      Asia       EMRO        NaN   \n",
       "8    2020-03-01           AF  Afghanistan      Asia       EMRO        1.0   \n",
       "9    2020-03-08           AF  Afghanistan      Asia       EMRO        NaN   \n",
       "\n",
       "   Cumulative_cases  New_deaths  Cumulative_deaths  \n",
       "0                 0         NaN                  0  \n",
       "1                 0         NaN                  0  \n",
       "2                 0         NaN                  0  \n",
       "3                 0         NaN                  0  \n",
       "4                 0         NaN                  0  \n",
       "5                 0         NaN                  0  \n",
       "6                 0         NaN                  0  \n",
       "7                 0         NaN                  0  \n",
       "8                 1         NaN                  0  \n",
       "9                 1         NaN                  0  "
      ]
     },
     "execution_count": 5,
     "metadata": {},
     "output_type": "execute_result"
    }
   ],
   "source": [
    "df.head(10)"
   ]
  },
  {
   "cell_type": "code",
   "execution_count": 14,
   "id": "18c811b9-7fa6-4847-9e8c-e3be4f8dbac3",
   "metadata": {},
   "outputs": [
    {
     "name": "stderr",
     "output_type": "stream",
     "text": [
      "C:\\Users\\ReBear\\AppData\\Local\\Temp\\ipykernel_13404\\4000730311.py:4: SettingWithCopyWarning: \n",
      "A value is trying to be set on a copy of a slice from a DataFrame.\n",
      "Try using .loc[row_indexer,col_indexer] = value instead\n",
      "\n",
      "See the caveats in the documentation: https://pandas.pydata.org/pandas-docs/stable/user_guide/indexing.html#returning-a-view-versus-a-copy\n",
      "  filtered_data['Date_reported'] = pd.to_datetime(filtered_data['Date_reported'])\n"
     ]
    },
    {
     "data": {
      "text/plain": [
       "<Axes: xlabel='Date_reported', ylabel='Cumulative_cases'>"
      ]
     },
     "execution_count": 14,
     "metadata": {},
     "output_type": "execute_result"
    },
    {
     "data": {
      "image/png": "[encoded data removed]",
      "text/plain": [
       "<Figure size 640x480 with 1 Axes>"
      ]
     },
     "metadata": {},
     "output_type": "display_data"
    }
   ],
   "source": [
    "data = df.copy(deep=True)\n",
    "Countries_pick = ['China', 'Germany', 'France']\n",
    "filtered_data = data[data['Country'].isin(Countries_pick)]\n",
    "filtered_data['Date_reported'] = pd.to_datetime(filtered_data['Date_reported'])\n",
    "sns.lineplot(data=filtered_data, x='Date_reported', y='Cumulative_cases', hue='Country')"
   ]
  },
  {
   "cell_type": "markdown",
   "id": "fa8217b4-a79d-480f-b3aa-2c7c5397ab3e",
   "metadata": {},
   "source": [
    "## 2- Make a line plot showing the cumulative_deaths vs cumulative_cases for 3 countries using `plotly` (7.5 points)"
   ]
  },
  {
   "cell_type": "code",
   "execution_count": 16,
   "id": "fee1d763-3047-4f72-97e8-d6fb6be73665",
   "metadata": {},
   "outputs": [],
   "source": [
    "import plotly.express as px"
   ]
  },
  {
   "cell_type": "code",
   "execution_count": 19,
   "id": "679395d8-d2c8-486b-9816-79eff57c5da4",
   "metadata": {},
   "outputs": [
    {
     "data": {
      "application/vnd.plotly.v1+json": {
       "config": {
        "plotlyServerURL": "https://plot.ly"
       },
       "data": [
        {
         "hovertemplate": "Country=China<br>Cumulative_cases=%{x}<br>Cumulative_deaths=%{y}<extra></extra>",
         "legendgroup": "China",
         "line": {
          "color": "#636efa",
          "dash": "solid"
         },
         "marker": {
          "symbol": "circle"
         },
         "mode": "lines",
         "name": "China",
         "orientation": "v",
         "showlegend": true,
         "type": "scatter",
         "x": [
          1,
          45,
          125,
          1985,
          14411,
          37251,
          68584,
          77042,
          79968,
          80859,
          81048,
          81498,
          82341,
          82930,
          83482,
          84201,
          84338,
          84393,
          84430,
          84484,
          84525,
          84570,
          84629,
          84729,
          84997,
          85190,
          85306,
          85522,
          85937,
          86839,
          88302,
          89149,
          89761,
          90141,
          90351,
          90517,
          90666,
          90840,
          90966,
          91121,
          91305,
          91489,
          91674,
          91921,
          92195,
          92428,
          92648,
          93329,
          94160,
          94950,
          95716,
          96324,
          96972,
          97652,
          98794,
          100136,
          100974,
          101316,
          101536,
          101700,
          101920,
          102101,
          102363,
          102539,
          102698,
          102908,
          103113,
          103315,
          103484,
          103667,
          103808,
          104425,
          107187,
          111146,
          114667,
          116301,
          117548,
          118358,
          118896,
          119321,
          119698,
          120213,
          120837,
          121684,
          122378,
          122698,
          122995,
          123231,
          123544,
          124102,
          124495,
          124805,
          125055,
          125254,
          125565,
          126078,
          126710,
          127260,
          127512,
          127764,
          128393,
          129082,
          129794,
          130858,
          132508,
          134151,
          136027,
          137350,
          138992,
          141049,
          149640,
          180767,
          301154,
          603734,
          761907,
          846296,
          890267,
          922543,
          944191,
          974858,
          1017161,
          1109144,
          1336865,
          1750942,
          2304993,
          2878333,
          3392302,
          3882284,
          4288753,
          4611936,
          4841957,
          5065872,
          5263427,
          5444117,
          5616120,
          5779460,
          5946156,
          6118580,
          6313044,
          6551088,
          6814376,
          7112069,
          7404545,
          7707637,
          8041467,
          8370377,
          8655725,
          8913719,
          9132821,
          9304566,
          9463379,
          9607584,
          9753725,
          10871623,
          21970173,
          62445650,
          87090526,
          95152288,
          97513859,
          98269042,
          98444584,
          98637553,
          98785727,
          98904475,
          98982145,
          99066935,
          99159203,
          99224504,
          99238106,
          99239166,
          99240394,
          99242093,
          99244299,
          99247381,
          99251117,
          99255557,
          99259994,
          99266460,
          99271490,
          99278446,
          99283001,
          99285438,
          99289316,
          99292049,
          99294715,
          99297160,
          99299701,
          99301655,
          99302619,
          99304082,
          99305669,
          99307316,
          99308843,
          99309868,
          99311020,
          99313571,
          99315126,
          99316498,
          99317568,
          99318373,
          99319009,
          99319568,
          99320035,
          99320425,
          99320845,
          99321242,
          99321637,
          99322142,
          99322727,
          99323756,
          99325108,
          99326423,
          99327754,
          99329249,
          99330516,
          99331724,
          99334752,
          99336751,
          99339769,
          99343195,
          99345680,
          99347448,
          99348816,
          99350327,
          99351758,
          99353161,
          99354727,
          99356481,
          99357895,
          99359003,
          99359802,
          99360533,
          99361338,
          99362248,
          99363491,
          99365162,
          99367041,
          99369029,
          99371132,
          99373219,
          99375447,
          99376823,
          99377976,
          99379039
         ],
         "xaxis": "x",
         "y": [
          0,
          1,
          3,
          56,
          361,
          905,
          1767,
          2446,
          2873,
          3101,
          3204,
          3267,
          3306,
          3338,
          3349,
          4642,
          4642,
          4643,
          4643,
          4645,
          4645,
          4645,
          4645,
          4645,
          4646,
          4648,
          4648,
          4648,
          4653,
          4659,
          4674,
          4688,
          4710,
          4717,
          4728,
          4735,
          4741,
          4744,
          4746,
          4746,
          4746,
          4746,
          4746,
          4746,
          4748,
          4749,
          4749,
          4750,
          4753,
          4756,
          4770,
          4777,
          4791,
          4798,
          4804,
          4810,
          4823,
          4831,
          4838,
          4842,
          4843,
          4848,
          4849,
          4849,
          4851,
          4851,
          4853,
          4856,
          4856,
          4858,
          4858,
          4858,
          4869,
          4955,
          5106,
          5283,
          5395,
          5478,
          5535,
          5588,
          5616,
          5634,
          5637,
          5657,
          5669,
          5676,
          5682,
          5685,
          5687,
          5689,
          5690,
          5692,
          5695,
          5695,
          5695,
          5696,
          5696,
          5697,
          5697,
          5697,
          5697,
          5697,
          5699,
          5699,
          5699,
          5699,
          5700,
          5700,
          5700,
          5700,
          5706,
          5776,
          6148,
          7496,
          9482,
          11387,
          12743,
          13663,
          14262,
          14634,
          14881,
          15273,
          15450,
          15642,
          15989,
          16658,
          17702,
          18896,
          19987,
          20969,
          21658,
          22367,
          22895,
          23353,
          23704,
          24034,
          24258,
          24499,
          24766,
          25058,
          25354,
          25712,
          26244,
          26609,
          27044,
          27471,
          27950,
          28460,
          28939,
          29370,
          29838,
          30192,
          30567,
          31438,
          33146,
          38995,
          56888,
          69879,
          69879,
          69879,
          69879,
          117566,
          118926,
          119463,
          119821,
          120181,
          120510,
          120775,
          120894,
          120897,
          120905,
          120912,
          120923,
          120961,
          121015,
          121073,
          121144,
          121235,
          121236,
          121390,
          121390,
          121465,
          121490,
          121515,
          121536,
          121536,
          121536,
          121647,
          121671,
          121671,
          121679,
          121679,
          121702,
          121714,
          121722,
          121722,
          121797,
          121809,
          121823,
          121835,
          121867,
          121873,
          121874,
          121877,
          121886,
          121888,
          121888,
          121889,
          121893,
          121938,
          121916,
          121921,
          121933,
          121946,
          121956,
          121976,
          121993,
          122034,
          122050,
          122050,
          122106,
          122125,
          122143,
          122153,
          122170,
          122176,
          122196,
          122201,
          122215,
          122225,
          122243,
          122248,
          122254,
          122257,
          122261,
          122271,
          122273,
          122280,
          122289,
          122304,
          122309,
          122319,
          122323,
          122326
         ],
         "yaxis": "y"
        },
        {
         "hovertemplate": "Country=France<br>Cumulative_cases=%{x}<br>Cumulative_deaths=%{y}<extra></extra>",
         "legendgroup": "France",
         "line": {
          "color": "#EF553B",
          "dash": "solid"
         },
         "marker": {
          "symbol": "circle"
         },
         "mode": "lines",
         "name": "France",
         "orientation": "v",
         "showlegend": true,
         "type": "scatter",
         "x": [
          0,
          0,
          0,
          3,
          6,
          12,
          12,
          16,
          16,
          16,
          16,
          16,
          16,
          16,
          16,
          16,
          16,
          16,
          16,
          693,
          5033,
          8469,
          11214,
          13841,
          16108,
          18132,
          20456,
          23309,
          26819,
          32384,
          40060,
          50959,
          67609,
          92817,
          130570,
          180767,
          242199,
          315680,
          388189,
          463008,
          579167,
          747002,
          1008331,
          1340836,
          1643952,
          1820381,
          1935328,
          2012405,
          2083777,
          2161451,
          2254370,
          2338258,
          2427206,
          2549469,
          2668311,
          2798460,
          2931084,
          3059535,
          3169971,
          3287522,
          3415218,
          3539477,
          3682455,
          3866278,
          4090242,
          4332649,
          4535867,
          4738021,
          4917483,
          5060391,
          5167020,
          5247890,
          5331345,
          5391736,
          5438219,
          5465223,
          5480043,
          5490733,
          5504639,
          5527957,
          5574613,
          5692691,
          5835874,
          5983009,
          6133939,
          6267510,
          6379634,
          6465416,
          6530236,
          6576972,
          6613086,
          6644002,
          6670348,
          6701443,
          6735684,
          6774109,
          6822166,
          6888527,
          7008228,
          7203450,
          7492249,
          7829534,
          8190186,
          8709926,
          9850650,
          11576867,
          13538779,
          15955822,
          18285196,
          19992784,
          20951423,
          21517370,
          21910919,
          22259203,
          22678431,
          23264759,
          24116752,
          25076110,
          26004483,
          26826921,
          27366082,
          27742592,
          28007520,
          28224235,
          28386474,
          28499829,
          28647902,
          28841715,
          29139642,
          29596347,
          30327933,
          31231902,
          31915686,
          32437982,
          32767413,
          32979608,
          33130794,
          33250010,
          33367049,
          33473620,
          33585994,
          33774847,
          34005579,
          34315693,
          34701167,
          35093240,
          35441886,
          35664771,
          35818388,
          35969443,
          36191132,
          36484764,
          36868834,
          37298513,
          37689705,
          37989547,
          38141254,
          38222083,
          38265607,
          38297300,
          38327299,
          38353426,
          38375971,
          38400087,
          38426361,
          38451679,
          38487530,
          38533835,
          38588428,
          38645710,
          38701054,
          38753563,
          38802141,
          38842584,
          38873916,
          38898196,
          38918846,
          38944076,
          38962690,
          38978308,
          38989508,
          38997490,
          38997490,
          38997490,
          38997490,
          38997490,
          38997490,
          38997490,
          38997490,
          38997490,
          38997490,
          38997490,
          38997490,
          38997490,
          38997490,
          38997490,
          38997490,
          38997490,
          38997490,
          38997490,
          38997490,
          38997490,
          38997490,
          38997490,
          38997490,
          38997490,
          38997490,
          38997490,
          38997490,
          38997490,
          38997490,
          38997490,
          38997490,
          38997490,
          38997490,
          38997490,
          38997490,
          38997490,
          38997490,
          38997490,
          38997490,
          38997490,
          38997490,
          38997490,
          38997490,
          38997490,
          38997490,
          38997490,
          38997490,
          38997490,
          38997490,
          38997490,
          38997490,
          38997490,
          38997490,
          38997490,
          38997490,
          38997490,
          38997490,
          38997490,
          38997490,
          38997490,
          38997490,
          38997490
         ],
         "xaxis": "x",
         "y": [
          0,
          0,
          0,
          0,
          0,
          0,
          0,
          0,
          0,
          0,
          43,
          713,
          2712,
          5988,
          9332,
          12062,
          14158,
          15564,
          16620,
          17430,
          17992,
          18463,
          18794,
          19052,
          19211,
          19322,
          19422,
          19542,
          19636,
          19734,
          19811,
          19880,
          19972,
          20090,
          20201,
          20327,
          20585,
          21014,
          21573,
          22134,
          22824,
          23787,
          25561,
          28715,
          33509,
          38996,
          44598,
          49277,
          53240,
          57032,
          60415,
          63534,
          66449,
          69878,
          73332,
          76746,
          79905,
          82974,
          85866,
          88382,
          90533,
          92566,
          94438,
          96237,
          98071,
          100030,
          102150,
          104117,
          106179,
          108133,
          109666,
          110855,
          111795,
          112567,
          113132,
          113487,
          113796,
          114030,
          114201,
          114343,
          114439,
          114558,
          114798,
          115080,
          115433,
          116132,
          116596,
          117085,
          117522,
          117908,
          118239,
          118515,
          118706,
          118881,
          119060,
          119237,
          119449,
          119682,
          119999,
          120453,
          121072,
          121975,
          123008,
          124165,
          125480,
          126964,
          128463,
          130121,
          132054,
          134050,
          136038,
          137783,
          139114,
          140208,
          141028,
          141820,
          142547,
          143348,
          144136,
          144988,
          145877,
          146744,
          147493,
          148107,
          148573,
          148873,
          149202,
          149439,
          149704,
          149995,
          150259,
          150683,
          151268,
          151999,
          152596,
          153125,
          153643,
          154056,
          154373,
          154675,
          154938,
          155140,
          155357,
          155574,
          155888,
          156302,
          156824,
          157319,
          157764,
          158161,
          158630,
          159085,
          159570,
          160139,
          160860,
          161667,
          162475,
          163250,
          163756,
          164154,
          164480,
          164740,
          164911,
          165091,
          165261,
          165413,
          165538,
          165701,
          165869,
          166079,
          166267,
          166429,
          166709,
          166958,
          167197,
          167357,
          167489,
          167638,
          167750,
          167856,
          167923,
          167985,
          167985,
          167985,
          167985,
          167985,
          167985,
          167985,
          167985,
          167985,
          167985,
          167985,
          167985,
          167985,
          167985,
          167985,
          167985,
          167985,
          167985,
          167985,
          167990,
          167996,
          168003,
          168004,
          168017,
          168022,
          168029,
          168039,
          168047,
          168054,
          168065,
          168073,
          168081,
          168082,
          168084,
          168086,
          168089,
          168091,
          168091,
          168091,
          168091,
          168091,
          168091,
          168091,
          168091,
          168091,
          168091,
          168091,
          168091,
          168091,
          168091,
          168091,
          168091,
          168091,
          168091,
          168091,
          168091,
          168091,
          168091,
          168091,
          168091,
          168091,
          168091,
          168091
         ],
         "yaxis": "y"
        },
        {
         "hovertemplate": "Country=Germany<br>Cumulative_cases=%{x}<br>Cumulative_deaths=%{y}<extra></extra>",
         "legendgroup": "Germany",
         "line": {
          "color": "#00cc96",
          "dash": "solid"
         },
         "marker": {
          "symbol": "circle"
         },
         "mode": "lines",
         "name": "Germany",
         "orientation": "v",
         "showlegend": true,
         "type": "scatter",
         "x": [
          1,
          1,
          1,
          2,
          11,
          20,
          25,
          31,
          170,
          1075,
          7516,
          29923,
          63904,
          99971,
          127116,
          144461,
          156812,
          164254,
          170497,
          175272,
          178876,
          182082,
          184436,
          186784,
          190976,
          194143,
          196834,
          199263,
          202307,
          206243,
          211086,
          217153,
          225124,
          234704,
          243548,
          252157,
          261942,
          274227,
          287291,
          303237,
          329382,
          371413,
          446205,
          557214,
          682906,
          810768,
          939168,
          1062290,
          1190548,
          1346761,
          1521350,
          1660178,
          1783131,
          1928636,
          2047565,
          2143118,
          2221290,
          2285886,
          2336713,
          2389042,
          2445398,
          2503823,
          2575214,
          2667824,
          2784133,
          2894140,
          3012328,
          3154349,
          3299027,
          3423711,
          3524558,
          3595304,
          3647974,
          3677841,
          3698521,
          3712583,
          3719868,
          3724727,
          3729115,
          3734712,
          3743825,
          3756471,
          3771993,
          3792416,
          3824493,
          3874145,
          3940516,
          4015253,
          4086909,
          4148380,
          4202003,
          4258484,
          4316509,
          4381868,
          4479591,
          4616602,
          4794470,
          5065644,
          5417298,
          5820646,
          6208700,
          6546708,
          6820211,
          7014043,
          7222739,
          7560621,
          8046745,
          8843560,
          9957912,
          11250652,
          12560497,
          13753768,
          14846861,
          15980870,
          17394716,
          18977220,
          20566111,
          21861236,
          22845836,
          23624784,
          24356283,
          24953200,
          25424640,
          25833385,
          26125890,
          26313049,
          26558190,
          26889624,
          27303415,
          27877640,
          28500416,
          29129765,
          29804895,
          30432074,
          30927803,
          31290739,
          31589031,
          31852360,
          32080339,
          32282096,
          32486180,
          32715093,
          33001628,
          33460480,
          34054553,
          34699539,
          35244155,
          35618058,
          35861636,
          36063651,
          36233318,
          36403907,
          36588732,
          36788237,
          37011190,
          37241936,
          37393503,
          37523819,
          37612908,
          37675775,
          37749073,
          37833316,
          37919911,
          38017761,
          38131195,
          38217516,
          38261274,
          38301581,
          38334220,
          38356872,
          38371551,
          38384596,
          38396064,
          38405257,
          38412617,
          38419325,
          38423684,
          38427956,
          38430723,
          38433115,
          38435129,
          38436657,
          38437756,
          38437756,
          38437756,
          38437756,
          38437756,
          38437756,
          38437756,
          38437756,
          38437756,
          38437756,
          38437756,
          38437756,
          38437756,
          38437756,
          38437756,
          38437756,
          38437756,
          38437756,
          38437756,
          38437756,
          38437756,
          38437756,
          38437756,
          38437756,
          38437756,
          38437756,
          38437756,
          38437756,
          38437756,
          38437756,
          38437756,
          38437756,
          38437756,
          38437756,
          38437756,
          38437756,
          38437756,
          38437756,
          38437756,
          38437756,
          38437756,
          38437756,
          38437756,
          38437756,
          38437756,
          38437756,
          38437756,
          38437756,
          38437756,
          38437756,
          38437756,
          38437756,
          38437756,
          38437756,
          38437756,
          38437756,
          38437756,
          38437756,
          38437756,
          38437756,
          38437756,
          38437756
         ],
         "xaxis": "x",
         "y": [
          3,
          3,
          3,
          6,
          9,
          9,
          9,
          10,
          11,
          23,
          107,
          586,
          2045,
          4318,
          6196,
          7422,
          8149,
          8537,
          8795,
          8960,
          9071,
          9136,
          9180,
          9215,
          9256,
          9277,
          9303,
          9328,
          9359,
          9392,
          9429,
          9463,
          9494,
          9525,
          9543,
          9578,
          9646,
          9728,
          9838,
          9959,
          10206,
          10670,
          11685,
          13306,
          15216,
          17752,
          20978,
          24579,
          29059,
          34821,
          41281,
          47009,
          52753,
          58512,
          63608,
          67715,
          70817,
          73085,
          74765,
          76243,
          77470,
          78519,
          79623,
          80900,
          82426,
          84016,
          85598,
          87225,
          88847,
          90154,
          91164,
          91840,
          92288,
          92549,
          92690,
          92757,
          92804,
          92834,
          92859,
          92884,
          92914,
          92954,
          93026,
          93115,
          93259,
          93483,
          93834,
          94266,
          94715,
          95100,
          95454,
          95877,
          96366,
          96947,
          97998,
          99272,
          100944,
          103230,
          105940,
          109033,
          111898,
          114411,
          116405,
          117692,
          118721,
          119591,
          120284,
          121151,
          122268,
          123772,
          125477,
          127263,
          128908,
          130514,
          132292,
          134226,
          136107,
          137643,
          138935,
          139920,
          140728,
          141406,
          141947,
          142365,
          142695,
          142908,
          143131,
          143416,
          143818,
          144384,
          144994,
          145696,
          146656,
          147785,
          148823,
          149614,
          150237,
          150830,
          151227,
          151578,
          151895,
          152249,
          152769,
          153649,
          154933,
          156493,
          157970,
          159019,
          159717,
          160357,
          160910,
          161550,
          162350,
          163311,
          164450,
          165738,
          166708,
          167537,
          168054,
          168392,
          168723,
          169067,
          169522,
          170123,
          170722,
          171257,
          171829,
          172455,
          173000,
          173431,
          173709,
          174013,
          174244,
          174406,
          174573,
          174682,
          174767,
          174839,
          174894,
          174926,
          174956,
          174971,
          174979,
          174979,
          174979,
          174979,
          174979,
          174979,
          174979,
          174979,
          174979,
          174979,
          174979,
          174979,
          174979,
          174979,
          174979,
          174979,
          174979,
          174979,
          174979,
          174979,
          174979,
          174979,
          174979,
          174979,
          174979,
          174979,
          174979,
          174979,
          174979,
          174979,
          174979,
          174979,
          174979,
          174979,
          174979,
          174979,
          174979,
          174979,
          174979,
          174979,
          174979,
          174979,
          174979,
          174979,
          174979,
          174979,
          174979,
          174979,
          174979,
          174979,
          174979,
          174979,
          174979,
          174979,
          174979,
          174979,
          174979,
          174979,
          174979,
          174979,
          174979,
          174979
         ],
         "yaxis": "y"
        }
       ],
       "layout": {
        "autosize": true,
        "legend": {
         "title": {
          "text": "Country"
         },
         "tracegroupgap": 0
        },
        "template": {
         "data": {
          "bar": [
           {
            "error_x": {
             "color": "#2a3f5f"
            },
            "error_y": {
             "color": "#2a3f5f"
            },
            "marker": {
             "line": {
              "color": "#E5ECF6",
              "width": 0.5
             },
             "pattern": {
              "fillmode": "overlay",
              "size": 10,
              "solidity": 0.2
             }
            },
            "type": "bar"
           }
          ],
          "barpolar": [
           {
            "marker": {
             "line": {
              "color": "#E5ECF6",
              "width": 0.5
             },
             "pattern": {
              "fillmode": "overlay",
              "size": 10,
              "solidity": 0.2
             }
            },
            "type": "barpolar"
           }
          ],
          "carpet": [
           {
            "aaxis": {
             "endlinecolor": "#2a3f5f",
             "gridcolor": "white",
             "linecolor": "white",
             "minorgridcolor": "white",
             "startlinecolor": "#2a3f5f"
            },
            "baxis": {
             "endlinecolor": "#2a3f5f",
             "gridcolor": "white",
             "linecolor": "white",
             "minorgridcolor": "white",
             "startlinecolor": "#2a3f5f"
            },
            "type": "carpet"
           }
          ],
          "choropleth": [
           {
            "colorbar": {
             "outlinewidth": 0,
             "ticks": ""
            },
            "type": "choropleth"
           }
          ],
          "contour": [
           {
            "colorbar": {
             "outlinewidth": 0,
             "ticks": ""
            },
            "colorscale": [
             [
              0,
              "#0d0887"
             ],
             [
              0.1111111111111111,
              "#46039f"
             ],
             [
              0.2222222222222222,
              "#7201a8"
             ],
             [
              0.3333333333333333,
              "#9c179e"
             ],
             [
              0.4444444444444444,
              "#bd3786"
             ],
             [
              0.5555555555555556,
              "#d8576b"
             ],
             [
              0.6666666666666666,
              "#ed7953"
             ],
             [
              0.7777777777777778,
              "#fb9f3a"
             ],
             [
              0.8888888888888888,
              "#fdca26"
             ],
             [
              1,
              "#f0f921"
             ]
            ],
            "type": "contour"
           }
          ],
          "contourcarpet": [
           {
            "colorbar": {
             "outlinewidth": 0,
             "ticks": ""
            },
            "type": "contourcarpet"
           }
          ],
          "heatmap": [
           {
            "colorbar": {
             "outlinewidth": 0,
             "ticks": ""
            },
            "colorscale": [
             [
              0,
              "#0d0887"
             ],
             [
              0.1111111111111111,
              "#46039f"
             ],
             [
              0.2222222222222222,
              "#7201a8"
             ],
             [
              0.3333333333333333,
              "#9c179e"
             ],
             [
              0.4444444444444444,
              "#bd3786"
             ],
             [
              0.5555555555555556,
              "#d8576b"
             ],
             [
              0.6666666666666666,
              "#ed7953"
             ],
             [
              0.7777777777777778,
              "#fb9f3a"
             ],
             [
              0.8888888888888888,
              "#fdca26"
             ],
             [
              1,
              "#f0f921"
             ]
            ],
            "type": "heatmap"
           }
          ],
          "heatmapgl": [
           {
            "colorbar": {
             "outlinewidth": 0,
             "ticks": ""
            },
            "colorscale": [
             [
              0,
              "#0d0887"
             ],
             [
              0.1111111111111111,
              "#46039f"
             ],
             [
              0.2222222222222222,
              "#7201a8"
             ],
             [
              0.3333333333333333,
              "#9c179e"
             ],
             [
              0.4444444444444444,
              "#bd3786"
             ],
             [
              0.5555555555555556,
              "#d8576b"
             ],
             [
              0.6666666666666666,
              "#ed7953"
             ],
             [
              0.7777777777777778,
              "#fb9f3a"
             ],
             [
              0.8888888888888888,
              "#fdca26"
             ],
             [
              1,
              "#f0f921"
             ]
            ],
            "type": "heatmapgl"
           }
          ],
          "histogram": [
           {
            "marker": {
             "pattern": {
              "fillmode": "overlay",
              "size": 10,
              "solidity": 0.2
             }
            },
            "type": "histogram"
           }
          ],
          "histogram2d": [
           {
            "colorbar": {
             "outlinewidth": 0,
             "ticks": ""
            },
            "colorscale": [
             [
              0,
              "#0d0887"
             ],
             [
              0.1111111111111111,
              "#46039f"
             ],
             [
              0.2222222222222222,
              "#7201a8"
             ],
             [
              0.3333333333333333,
              "#9c179e"
             ],
             [
              0.4444444444444444,
              "#bd3786"
             ],
             [
              0.5555555555555556,
              "#d8576b"
             ],
             [
              0.6666666666666666,
              "#ed7953"
             ],
             [
              0.7777777777777778,
              "#fb9f3a"
             ],
             [
              0.8888888888888888,
              "#fdca26"
             ],
             [
              1,
              "#f0f921"
             ]
            ],
            "type": "histogram2d"
           }
          ],
          "histogram2dcontour": [
           {
            "colorbar": {
             "outlinewidth": 0,
             "ticks": ""
            },
            "colorscale": [
             [
              0,
              "#0d0887"
             ],
             [
              0.1111111111111111,
              "#46039f"
             ],
             [
              0.2222222222222222,
              "#7201a8"
             ],
             [
              0.3333333333333333,
              "#9c179e"
             ],
             [
              0.4444444444444444,
              "#bd3786"
             ],
             [
              0.5555555555555556,
              "#d8576b"
             ],
             [
              0.6666666666666666,
              "#ed7953"
             ],
             [
              0.7777777777777778,
              "#fb9f3a"
             ],
             [
              0.8888888888888888,
              "#fdca26"
             ],
             [
              1,
              "#f0f921"
             ]
            ],
            "type": "histogram2dcontour"
           }
          ],
          "mesh3d": [
           {
            "colorbar": {
             "outlinewidth": 0,
             "ticks": ""
            },
            "type": "mesh3d"
           }
          ],
          "parcoords": [
           {
            "line": {
             "colorbar": {
              "outlinewidth": 0,
              "ticks": ""
             }
            },
            "type": "parcoords"
           }
          ],
          "pie": [
           {
            "automargin": true,
            "type": "pie"
           }
          ],
          "scatter": [
           {
            "fillpattern": {
             "fillmode": "overlay",
             "size": 10,
             "solidity": 0.2
            },
            "type": "scatter"
           }
          ],
          "scatter3d": [
           {
            "line": {
             "colorbar": {
              "outlinewidth": 0,
              "ticks": ""
             }
            },
            "marker": {
             "colorbar": {
              "outlinewidth": 0,
              "ticks": ""
             }
            },
            "type": "scatter3d"
           }
          ],
          "scattercarpet": [
           {
            "marker": {
             "colorbar": {
              "outlinewidth": 0,
              "ticks": ""
             }
            },
            "type": "scattercarpet"
           }
          ],
          "scattergeo": [
           {
            "marker": {
             "colorbar": {
              "outlinewidth": 0,
              "ticks": ""
             }
            },
            "type": "scattergeo"
           }
          ],
          "scattergl": [
           {
            "marker": {
             "colorbar": {
              "outlinewidth": 0,
              "ticks": ""
             }
            },
            "type": "scattergl"
           }
          ],
          "scattermapbox": [
           {
            "marker": {
             "colorbar": {
              "outlinewidth": 0,
              "ticks": ""
             }
            },
            "type": "scattermapbox"
           }
          ],
          "scatterpolar": [
           {
            "marker": {
             "colorbar": {
              "outlinewidth": 0,
              "ticks": ""
             }
            },
            "type": "scatterpolar"
           }
          ],
          "scatterpolargl": [
           {
            "marker": {
             "colorbar": {
              "outlinewidth": 0,
              "ticks": ""
             }
            },
            "type": "scatterpolargl"
           }
          ],
          "scatterternary": [
           {
            "marker": {
             "colorbar": {
              "outlinewidth": 0,
              "ticks": ""
             }
            },
            "type": "scatterternary"
           }
          ],
          "surface": [
           {
            "colorbar": {
             "outlinewidth": 0,
             "ticks": ""
            },
            "colorscale": [
             [
              0,
              "#0d0887"
             ],
             [
              0.1111111111111111,
              "#46039f"
             ],
             [
              0.2222222222222222,
              "#7201a8"
             ],
             [
              0.3333333333333333,
              "#9c179e"
             ],
             [
              0.4444444444444444,
              "#bd3786"
             ],
             [
              0.5555555555555556,
              "#d8576b"
             ],
             [
              0.6666666666666666,
              "#ed7953"
             ],
             [
              0.7777777777777778,
              "#fb9f3a"
             ],
             [
              0.8888888888888888,
              "#fdca26"
             ],
             [
              1,
              "#f0f921"
             ]
            ],
            "type": "surface"
           }
          ],
          "table": [
           {
            "cells": {
             "fill": {
              "color": "#EBF0F8"
             },
             "line": {
              "color": "white"
             }
            },
            "header": {
             "fill": {
              "color": "#C8D4E3"
             },
             "line": {
              "color": "white"
             }
            },
            "type": "table"
           }
          ]
         },
         "layout": {
          "annotationdefaults": {
           "arrowcolor": "#2a3f5f",
           "arrowhead": 0,
           "arrowwidth": 1
          },
          "autotypenumbers": "strict",
          "coloraxis": {
           "colorbar": {
            "outlinewidth": 0,
            "ticks": ""
           }
          },
          "colorscale": {
           "diverging": [
            [
             0,
             "#8e0152"
            ],
            [
             0.1,
             "#c51b7d"
            ],
            [
             0.2,
             "#de77ae"
            ],
            [
             0.3,
             "#f1b6da"
            ],
            [
             0.4,
             "#fde0ef"
            ],
            [
             0.5,
             "#f7f7f7"
            ],
            [
             0.6,
             "#e6f5d0"
            ],
            [
             0.7,
             "#b8e186"
            ],
            [
             0.8,
             "#7fbc41"
            ],
            [
             0.9,
             "#4d9221"
            ],
            [
             1,
             "#276419"
            ]
           ],
           "sequential": [
            [
             0,
             "#0d0887"
            ],
            [
             0.1111111111111111,
             "#46039f"
            ],
            [
             0.2222222222222222,
             "#7201a8"
            ],
            [
             0.3333333333333333,
             "#9c179e"
            ],
            [
             0.4444444444444444,
             "#bd3786"
            ],
            [
             0.5555555555555556,
             "#d8576b"
            ],
            [
             0.6666666666666666,
             "#ed7953"
            ],
            [
             0.7777777777777778,
             "#fb9f3a"
            ],
            [
             0.8888888888888888,
             "#fdca26"
            ],
            [
             1,
             "#f0f921"
            ]
           ],
           "sequentialminus": [
            [
             0,
             "#0d0887"
            ],
            [
             0.1111111111111111,
             "#46039f"
            ],
            [
             0.2222222222222222,
             "#7201a8"
            ],
            [
             0.3333333333333333,
             "#9c179e"
            ],
            [
             0.4444444444444444,
             "#bd3786"
            ],
            [
             0.5555555555555556,
             "#d8576b"
            ],
            [
             0.6666666666666666,
             "#ed7953"
            ],
            [
             0.7777777777777778,
             "#fb9f3a"
            ],
            [
             0.8888888888888888,
             "#fdca26"
            ],
            [
             1,
             "#f0f921"
            ]
           ]
          },
          "colorway": [
           "#636efa",
           "#EF553B",
           "#00cc96",
           "#ab63fa",
           "#FFA15A",
           "#19d3f3",
           "#FF6692",
           "#B6E880",
           "#FF97FF",
           "#FECB52"
          ],
          "font": {
           "color": "#2a3f5f"
          },
          "geo": {
           "bgcolor": "white",
           "lakecolor": "white",
           "landcolor": "#E5ECF6",
           "showlakes": true,
           "showland": true,
           "subunitcolor": "white"
          },
          "hoverlabel": {
           "align": "left"
          },
          "hovermode": "closest",
          "mapbox": {
           "style": "light"
          },
          "paper_bgcolor": "white",
          "plot_bgcolor": "#E5ECF6",
          "polar": {
           "angularaxis": {
            "gridcolor": "white",
            "linecolor": "white",
            "ticks": ""
           },
           "bgcolor": "#E5ECF6",
           "radialaxis": {
            "gridcolor": "white",
            "linecolor": "white",
            "ticks": ""
           }
          },
          "scene": {
           "xaxis": {
            "backgroundcolor": "#E5ECF6",
            "gridcolor": "white",
            "gridwidth": 2,
            "linecolor": "white",
            "showbackground": true,
            "ticks": "",
            "zerolinecolor": "white"
           },
           "yaxis": {
            "backgroundcolor": "#E5ECF6",
            "gridcolor": "white",
            "gridwidth": 2,
            "linecolor": "white",
            "showbackground": true,
            "ticks": "",
            "zerolinecolor": "white"
           },
           "zaxis": {
            "backgroundcolor": "#E5ECF6",
            "gridcolor": "white",
            "gridwidth": 2,
            "linecolor": "white",
            "showbackground": true,
            "ticks": "",
            "zerolinecolor": "white"
           }
          },
          "shapedefaults": {
           "line": {
            "color": "#2a3f5f"
           }
          },
          "ternary": {
           "aaxis": {
            "gridcolor": "white",
            "linecolor": "white",
            "ticks": ""
           },
           "baxis": {
            "gridcolor": "white",
            "linecolor": "white",
            "ticks": ""
           },
           "bgcolor": "#E5ECF6",
           "caxis": {
            "gridcolor": "white",
            "linecolor": "white",
            "ticks": ""
           }
          },
          "title": {
           "x": 0.05
          },
          "xaxis": {
           "automargin": true,
           "gridcolor": "white",
           "linecolor": "white",
           "ticks": "",
           "title": {
            "standoff": 15
           },
           "zerolinecolor": "white",
           "zerolinewidth": 2
          },
          "yaxis": {
           "automargin": true,
           "gridcolor": "white",
           "linecolor": "white",
           "ticks": "",
           "title": {
            "standoff": 15
           },
           "zerolinecolor": "white",
           "zerolinewidth": 2
          }
         }
        },
        "title": {
         "text": "Cumulative Deaths vs Cumulative Cases for Selected Countries"
        },
        "xaxis": {
         "anchor": "y",
         "autorange": true,
         "domain": [
          0,
          1
         ],
         "range": [
          0,
          99379039
         ],
         "title": {
          "text": "Cumulative_cases"
         },
         "type": "linear"
        },
        "yaxis": {
         "anchor": "x",
         "autorange": true,
         "domain": [
          0,
          1
         ],
         "range": [
          -9721.055555555557,
          184700.05555555556
         ],
         "title": {
          "text": "Cumulative_deaths"
         },
         "type": "linear"
        }
       }
      },
      "image/png": "[encoded data removed]",
      "text/html": [
       "<div>                            <div id=\"9aea53c4-6520-4a19-8810-0133f3c0b644\" class=\"plotly-graph-div\" style=\"height:525px; width:100%;\"></div>            <script type=\"text/javascript\">                require([\"plotly\"], function(Plotly) {                    window.PLOTLYENV=window.PLOTLYENV || {};                                    if (document.getElementById(\"9aea53c4-6520-4a19-8810-0133f3c0b644\")) {                    Plotly.newPlot(                        \"9aea53c4-6520-4a19-8810-0133f3c0b644\",                        [{\"hovertemplate\":\"Country=China\\u003cbr\\u003eCumulative_cases=%{x}\\u003cbr\\u003eCumulative_deaths=%{y}\\u003cextra\\u003e\\u003c\\u002fextra\\u003e\",\"legendgroup\":\"China\",\"line\":{\"color\":\"#636efa\",\"dash\":\"solid\"},\"marker\":{\"symbol\":\"circle\"},\"mode\":\"lines\",\"name\":\"China\",\"orientation\":\"v\",\"showlegend\":true,\"x\":[1,45,125,1985,14411,37251,68584,77042,79968,80859,81048,81498,82341,82930,83482,84201,84338,84393,84430,84484,84525,84570,84629,84729,84997,85190,85306,85522,85937,86839,88302,89149,89761,90141,90351,90517,90666,90840,90966,91121,91305,91489,91674,91921,92195,92428,92648,93329,94160,94950,95716,96324,96972,97652,98794,100136,100974,101316,101536,101700,101920,102101,102363,102539,102698,102908,103113,103315,103484,103667,103808,104425,107187,111146,114667,116301,117548,118358,118896,119321,119698,120213,120837,121684,122378,122698,122995,123231,123544,124102,124495,124805,125055,125254,125565,126078,126710,127260,127512,127764,128393,129082,129794,130858,132508,134151,136027,137350,138992,141049,149640,180767,301154,603734,761907,846296,890267,922543,944191,974858,1017161,1109144,1336865,1750942,2304993,2878333,3392302,3882284,4288753,4611936,4841957,5065872,5263427,5444117,5616120,5779460,5946156,6118580,6313044,6551088,6814376,7112069,7404545,7707637,8041467,8370377,8655725,8913719,9132821,9304566,9463379,9607584,9753725,10871623,21970173,62445650,87090526,95152288,97513859,98269042,98444584,98637553,98785727,98904475,98982145,99066935,99159203,99224504,99238106,99239166,99240394,99242093,99244299,99247381,99251117,99255557,99259994,99266460,99271490,99278446,99283001,99285438,99289316,99292049,99294715,99297160,99299701,99301655,99302619,99304082,99305669,99307316,99308843,99309868,99311020,99313571,99315126,99316498,99317568,99318373,99319009,99319568,99320035,99320425,99320845,99321242,99321637,99322142,99322727,99323756,99325108,99326423,99327754,99329249,99330516,99331724,99334752,99336751,99339769,99343195,99345680,99347448,99348816,99350327,99351758,99353161,99354727,99356481,99357895,99359003,99359802,99360533,99361338,99362248,99363491,99365162,99367041,99369029,99371132,99373219,99375447,99376823,99377976,99379039],\"xaxis\":\"x\",\"y\":[0,1,3,56,361,905,1767,2446,2873,3101,3204,3267,3306,3338,3349,4642,4642,4643,4643,4645,4645,4645,4645,4645,4646,4648,4648,4648,4653,4659,4674,4688,4710,4717,4728,4735,4741,4744,4746,4746,4746,4746,4746,4746,4748,4749,4749,4750,4753,4756,4770,4777,4791,4798,4804,4810,4823,4831,4838,4842,4843,4848,4849,4849,4851,4851,4853,4856,4856,4858,4858,4858,4869,4955,5106,5283,5395,5478,5535,5588,5616,5634,5637,5657,5669,5676,5682,5685,5687,5689,5690,5692,5695,5695,5695,5696,5696,5697,5697,5697,5697,5697,5699,5699,5699,5699,5700,5700,5700,5700,5706,5776,6148,7496,9482,11387,12743,13663,14262,14634,14881,15273,15450,15642,15989,16658,17702,18896,19987,20969,21658,22367,22895,23353,23704,24034,24258,24499,24766,25058,25354,25712,26244,26609,27044,27471,27950,28460,28939,29370,29838,30192,30567,31438,33146,38995,56888,69879,69879,69879,69879,117566,118926,119463,119821,120181,120510,120775,120894,120897,120905,120912,120923,120961,121015,121073,121144,121235,121236,121390,121390,121465,121490,121515,121536,121536,121536,121647,121671,121671,121679,121679,121702,121714,121722,121722,121797,121809,121823,121835,121867,121873,121874,121877,121886,121888,121888,121889,121893,121938,121916,121921,121933,121946,121956,121976,121993,122034,122050,122050,122106,122125,122143,122153,122170,122176,122196,122201,122215,122225,122243,122248,122254,122257,122261,122271,122273,122280,122289,122304,122309,122319,122323,122326],\"yaxis\":\"y\",\"type\":\"scatter\"},{\"hovertemplate\":\"Country=France\\u003cbr\\u003eCumulative_cases=%{x}\\u003cbr\\u003eCumulative_deaths=%{y}\\u003cextra\\u003e\\u003c\\u002fextra\\u003e\",\"legendgroup\":\"France\",\"line\":{\"color\":\"#EF553B\",\"dash\":\"solid\"},\"marker\":{\"symbol\":\"circle\"},\"mode\":\"lines\",\"name\":\"France\",\"orientation\":\"v\",\"showlegend\":true,\"x\":[0,0,0,3,6,12,12,16,16,16,16,16,16,16,16,16,16,16,16,693,5033,8469,11214,13841,16108,18132,20456,23309,26819,32384,40060,50959,67609,92817,130570,180767,242199,315680,388189,463008,579167,747002,1008331,1340836,1643952,1820381,1935328,2012405,2083777,2161451,2254370,2338258,2427206,2549469,2668311,2798460,2931084,3059535,3169971,3287522,3415218,3539477,3682455,3866278,4090242,4332649,4535867,4738021,4917483,5060391,5167020,5247890,5331345,5391736,5438219,5465223,5480043,5490733,5504639,5527957,5574613,5692691,5835874,5983009,6133939,6267510,6379634,6465416,6530236,6576972,6613086,6644002,6670348,6701443,6735684,6774109,6822166,6888527,7008228,7203450,7492249,7829534,8190186,8709926,9850650,11576867,13538779,15955822,18285196,19992784,20951423,21517370,21910919,22259203,22678431,23264759,24116752,25076110,26004483,26826921,27366082,27742592,28007520,28224235,28386474,28499829,28647902,28841715,29139642,29596347,30327933,31231902,31915686,32437982,32767413,32979608,33130794,33250010,33367049,33473620,33585994,33774847,34005579,34315693,34701167,35093240,35441886,35664771,35818388,35969443,36191132,36484764,36868834,37298513,37689705,37989547,38141254,38222083,38265607,38297300,38327299,38353426,38375971,38400087,38426361,38451679,38487530,38533835,38588428,38645710,38701054,38753563,38802141,38842584,38873916,38898196,38918846,38944076,38962690,38978308,38989508,38997490,38997490,38997490,38997490,38997490,38997490,38997490,38997490,38997490,38997490,38997490,38997490,38997490,38997490,38997490,38997490,38997490,38997490,38997490,38997490,38997490,38997490,38997490,38997490,38997490,38997490,38997490,38997490,38997490,38997490,38997490,38997490,38997490,38997490,38997490,38997490,38997490,38997490,38997490,38997490,38997490,38997490,38997490,38997490,38997490,38997490,38997490,38997490,38997490,38997490,38997490,38997490,38997490,38997490,38997490,38997490,38997490,38997490,38997490,38997490,38997490,38997490,38997490],\"xaxis\":\"x\",\"y\":[0,0,0,0,0,0,0,0,0,0,43,713,2712,5988,9332,12062,14158,15564,16620,17430,17992,18463,18794,19052,19211,19322,19422,19542,19636,19734,19811,19880,19972,20090,20201,20327,20585,21014,21573,22134,22824,23787,25561,28715,33509,38996,44598,49277,53240,57032,60415,63534,66449,69878,73332,76746,79905,82974,85866,88382,90533,92566,94438,96237,98071,100030,102150,104117,106179,108133,109666,110855,111795,112567,113132,113487,113796,114030,114201,114343,114439,114558,114798,115080,115433,116132,116596,117085,117522,117908,118239,118515,118706,118881,119060,119237,119449,119682,119999,120453,121072,121975,123008,124165,125480,126964,128463,130121,132054,134050,136038,137783,139114,140208,141028,141820,142547,143348,144136,144988,145877,146744,147493,148107,148573,148873,149202,149439,149704,149995,150259,150683,151268,151999,152596,153125,153643,154056,154373,154675,154938,155140,155357,155574,155888,156302,156824,157319,157764,158161,158630,159085,159570,160139,160860,161667,162475,163250,163756,164154,164480,164740,164911,165091,165261,165413,165538,165701,165869,166079,166267,166429,166709,166958,167197,167357,167489,167638,167750,167856,167923,167985,167985,167985,167985,167985,167985,167985,167985,167985,167985,167985,167985,167985,167985,167985,167985,167985,167985,167985,167990,167996,168003,168004,168017,168022,168029,168039,168047,168054,168065,168073,168081,168082,168084,168086,168089,168091,168091,168091,168091,168091,168091,168091,168091,168091,168091,168091,168091,168091,168091,168091,168091,168091,168091,168091,168091,168091,168091,168091,168091,168091,168091,168091],\"yaxis\":\"y\",\"type\":\"scatter\"},{\"hovertemplate\":\"Country=Germany\\u003cbr\\u003eCumulative_cases=%{x}\\u003cbr\\u003eCumulative_deaths=%{y}\\u003cextra\\u003e\\u003c\\u002fextra\\u003e\",\"legendgroup\":\"Germany\",\"line\":{\"color\":\"#00cc96\",\"dash\":\"solid\"},\"marker\":{\"symbol\":\"circle\"},\"mode\":\"lines\",\"name\":\"Germany\",\"orientation\":\"v\",\"showlegend\":true,\"x\":[1,1,1,2,11,20,25,31,170,1075,7516,29923,63904,99971,127116,144461,156812,164254,170497,175272,178876,182082,184436,186784,190976,194143,196834,199263,202307,206243,211086,217153,225124,234704,243548,252157,261942,274227,287291,303237,329382,371413,446205,557214,682906,810768,939168,1062290,1190548,1346761,1521350,1660178,1783131,1928636,2047565,2143118,2221290,2285886,2336713,2389042,2445398,2503823,2575214,2667824,2784133,2894140,3012328,3154349,3299027,3423711,3524558,3595304,3647974,3677841,3698521,3712583,3719868,3724727,3729115,3734712,3743825,3756471,3771993,3792416,3824493,3874145,3940516,4015253,4086909,4148380,4202003,4258484,4316509,4381868,4479591,4616602,4794470,5065644,5417298,5820646,6208700,6546708,6820211,7014043,7222739,7560621,8046745,8843560,9957912,11250652,12560497,13753768,14846861,15980870,17394716,18977220,20566111,21861236,22845836,23624784,24356283,24953200,25424640,25833385,26125890,26313049,26558190,26889624,27303415,27877640,28500416,29129765,29804895,30432074,30927803,31290739,31589031,31852360,32080339,32282096,32486180,32715093,33001628,33460480,34054553,34699539,35244155,35618058,35861636,36063651,36233318,36403907,36588732,36788237,37011190,37241936,37393503,37523819,37612908,37675775,37749073,37833316,37919911,38017761,38131195,38217516,38261274,38301581,38334220,38356872,38371551,38384596,38396064,38405257,38412617,38419325,38423684,38427956,38430723,38433115,38435129,38436657,38437756,38437756,38437756,38437756,38437756,38437756,38437756,38437756,38437756,38437756,38437756,38437756,38437756,38437756,38437756,38437756,38437756,38437756,38437756,38437756,38437756,38437756,38437756,38437756,38437756,38437756,38437756,38437756,38437756,38437756,38437756,38437756,38437756,38437756,38437756,38437756,38437756,38437756,38437756,38437756,38437756,38437756,38437756,38437756,38437756,38437756,38437756,38437756,38437756,38437756,38437756,38437756,38437756,38437756,38437756,38437756,38437756,38437756,38437756,38437756,38437756,38437756],\"xaxis\":\"x\",\"y\":[3,3,3,6,9,9,9,10,11,23,107,586,2045,4318,6196,7422,8149,8537,8795,8960,9071,9136,9180,9215,9256,9277,9303,9328,9359,9392,9429,9463,9494,9525,9543,9578,9646,9728,9838,9959,10206,10670,11685,13306,15216,17752,20978,24579,29059,34821,41281,47009,52753,58512,63608,67715,70817,73085,74765,76243,77470,78519,79623,80900,82426,84016,85598,87225,88847,90154,91164,91840,92288,92549,92690,92757,92804,92834,92859,92884,92914,92954,93026,93115,93259,93483,93834,94266,94715,95100,95454,95877,96366,96947,97998,99272,100944,103230,105940,109033,111898,114411,116405,117692,118721,119591,120284,121151,122268,123772,125477,127263,128908,130514,132292,134226,136107,137643,138935,139920,140728,141406,141947,142365,142695,142908,143131,143416,143818,144384,144994,145696,146656,147785,148823,149614,150237,150830,151227,151578,151895,152249,152769,153649,154933,156493,157970,159019,159717,160357,160910,161550,162350,163311,164450,165738,166708,167537,168054,168392,168723,169067,169522,170123,170722,171257,171829,172455,173000,173431,173709,174013,174244,174406,174573,174682,174767,174839,174894,174926,174956,174971,174979,174979,174979,174979,174979,174979,174979,174979,174979,174979,174979,174979,174979,174979,174979,174979,174979,174979,174979,174979,174979,174979,174979,174979,174979,174979,174979,174979,174979,174979,174979,174979,174979,174979,174979,174979,174979,174979,174979,174979,174979,174979,174979,174979,174979,174979,174979,174979,174979,174979,174979,174979,174979,174979,174979,174979,174979,174979,174979,174979,174979,174979],\"yaxis\":\"y\",\"type\":\"scatter\"}],                        {\"template\":{\"data\":{\"histogram2dcontour\":[{\"type\":\"histogram2dcontour\",\"colorbar\":{\"outlinewidth\":0,\"ticks\":\"\"},\"colorscale\":[[0.0,\"#0d0887\"],[0.1111111111111111,\"#46039f\"],[0.2222222222222222,\"#7201a8\"],[0.3333333333333333,\"#9c179e\"],[0.4444444444444444,\"#bd3786\"],[0.5555555555555556,\"#d8576b\"],[0.6666666666666666,\"#ed7953\"],[0.7777777777777778,\"#fb9f3a\"],[0.8888888888888888,\"#fdca26\"],[1.0,\"#f0f921\"]]}],\"choropleth\":[{\"type\":\"choropleth\",\"colorbar\":{\"outlinewidth\":0,\"ticks\":\"\"}}],\"histogram2d\":[{\"type\":\"histogram2d\",\"colorbar\":{\"outlinewidth\":0,\"ticks\":\"\"},\"colorscale\":[[0.0,\"#0d0887\"],[0.1111111111111111,\"#46039f\"],[0.2222222222222222,\"#7201a8\"],[0.3333333333333333,\"#9c179e\"],[0.4444444444444444,\"#bd3786\"],[0.5555555555555556,\"#d8576b\"],[0.6666666666666666,\"#ed7953\"],[0.7777777777777778,\"#fb9f3a\"],[0.8888888888888888,\"#fdca26\"],[1.0,\"#f0f921\"]]}],\"heatmap\":[{\"type\":\"heatmap\",\"colorbar\":{\"outlinewidth\":0,\"ticks\":\"\"},\"colorscale\":[[0.0,\"#0d0887\"],[0.1111111111111111,\"#46039f\"],[0.2222222222222222,\"#7201a8\"],[0.3333333333333333,\"#9c179e\"],[0.4444444444444444,\"#bd3786\"],[0.5555555555555556,\"#d8576b\"],[0.6666666666666666,\"#ed7953\"],[0.7777777777777778,\"#fb9f3a\"],[0.8888888888888888,\"#fdca26\"],[1.0,\"#f0f921\"]]}],\"heatmapgl\":[{\"type\":\"heatmapgl\",\"colorbar\":{\"outlinewidth\":0,\"ticks\":\"\"},\"colorscale\":[[0.0,\"#0d0887\"],[0.1111111111111111,\"#46039f\"],[0.2222222222222222,\"#7201a8\"],[0.3333333333333333,\"#9c179e\"],[0.4444444444444444,\"#bd3786\"],[0.5555555555555556,\"#d8576b\"],[0.6666666666666666,\"#ed7953\"],[0.7777777777777778,\"#fb9f3a\"],[0.8888888888888888,\"#fdca26\"],[1.0,\"#f0f921\"]]}],\"contourcarpet\":[{\"type\":\"contourcarpet\",\"colorbar\":{\"outlinewidth\":0,\"ticks\":\"\"}}],\"contour\":[{\"type\":\"contour\",\"colorbar\":{\"outlinewidth\":0,\"ticks\":\"\"},\"colorscale\":[[0.0,\"#0d0887\"],[0.1111111111111111,\"#46039f\"],[0.2222222222222222,\"#7201a8\"],[0.3333333333333333,\"#9c179e\"],[0.4444444444444444,\"#bd3786\"],[0.5555555555555556,\"#d8576b\"],[0.6666666666666666,\"#ed7953\"],[0.7777777777777778,\"#fb9f3a\"],[0.8888888888888888,\"#fdca26\"],[1.0,\"#f0f921\"]]}],\"surface\":[{\"type\":\"surface\",\"colorbar\":{\"outlinewidth\":0,\"ticks\":\"\"},\"colorscale\":[[0.0,\"#0d0887\"],[0.1111111111111111,\"#46039f\"],[0.2222222222222222,\"#7201a8\"],[0.3333333333333333,\"#9c179e\"],[0.4444444444444444,\"#bd3786\"],[0.5555555555555556,\"#d8576b\"],[0.6666666666666666,\"#ed7953\"],[0.7777777777777778,\"#fb9f3a\"],[0.8888888888888888,\"#fdca26\"],[1.0,\"#f0f921\"]]}],\"mesh3d\":[{\"type\":\"mesh3d\",\"colorbar\":{\"outlinewidth\":0,\"ticks\":\"\"}}],\"scatter\":[{\"fillpattern\":{\"fillmode\":\"overlay\",\"size\":10,\"solidity\":0.2},\"type\":\"scatter\"}],\"parcoords\":[{\"type\":\"parcoords\",\"line\":{\"colorbar\":{\"outlinewidth\":0,\"ticks\":\"\"}}}],\"scatterpolargl\":[{\"type\":\"scatterpolargl\",\"marker\":{\"colorbar\":{\"outlinewidth\":0,\"ticks\":\"\"}}}],\"bar\":[{\"error_x\":{\"color\":\"#2a3f5f\"},\"error_y\":{\"color\":\"#2a3f5f\"},\"marker\":{\"line\":{\"color\":\"#E5ECF6\",\"width\":0.5},\"pattern\":{\"fillmode\":\"overlay\",\"size\":10,\"solidity\":0.2}},\"type\":\"bar\"}],\"scattergeo\":[{\"type\":\"scattergeo\",\"marker\":{\"colorbar\":{\"outlinewidth\":0,\"ticks\":\"\"}}}],\"scatterpolar\":[{\"type\":\"scatterpolar\",\"marker\":{\"colorbar\":{\"outlinewidth\":0,\"ticks\":\"\"}}}],\"histogram\":[{\"marker\":{\"pattern\":{\"fillmode\":\"overlay\",\"size\":10,\"solidity\":0.2}},\"type\":\"histogram\"}],\"scattergl\":[{\"type\":\"scattergl\",\"marker\":{\"colorbar\":{\"outlinewidth\":0,\"ticks\":\"\"}}}],\"scatter3d\":[{\"type\":\"scatter3d\",\"line\":{\"colorbar\":{\"outlinewidth\":0,\"ticks\":\"\"}},\"marker\":{\"colorbar\":{\"outlinewidth\":0,\"ticks\":\"\"}}}],\"scattermapbox\":[{\"type\":\"scattermapbox\",\"marker\":{\"colorbar\":{\"outlinewidth\":0,\"ticks\":\"\"}}}],\"scatterternary\":[{\"type\":\"scatterternary\",\"marker\":{\"colorbar\":{\"outlinewidth\":0,\"ticks\":\"\"}}}],\"scattercarpet\":[{\"type\":\"scattercarpet\",\"marker\":{\"colorbar\":{\"outlinewidth\":0,\"ticks\":\"\"}}}],\"carpet\":[{\"aaxis\":{\"endlinecolor\":\"#2a3f5f\",\"gridcolor\":\"white\",\"linecolor\":\"white\",\"minorgridcolor\":\"white\",\"startlinecolor\":\"#2a3f5f\"},\"baxis\":{\"endlinecolor\":\"#2a3f5f\",\"gridcolor\":\"white\",\"linecolor\":\"white\",\"minorgridcolor\":\"white\",\"startlinecolor\":\"#2a3f5f\"},\"type\":\"carpet\"}],\"table\":[{\"cells\":{\"fill\":{\"color\":\"#EBF0F8\"},\"line\":{\"color\":\"white\"}},\"header\":{\"fill\":{\"color\":\"#C8D4E3\"},\"line\":{\"color\":\"white\"}},\"type\":\"table\"}],\"barpolar\":[{\"marker\":{\"line\":{\"color\":\"#E5ECF6\",\"width\":0.5},\"pattern\":{\"fillmode\":\"overlay\",\"size\":10,\"solidity\":0.2}},\"type\":\"barpolar\"}],\"pie\":[{\"automargin\":true,\"type\":\"pie\"}]},\"layout\":{\"autotypenumbers\":\"strict\",\"colorway\":[\"#636efa\",\"#EF553B\",\"#00cc96\",\"#ab63fa\",\"#FFA15A\",\"#19d3f3\",\"#FF6692\",\"#B6E880\",\"#FF97FF\",\"#FECB52\"],\"font\":{\"color\":\"#2a3f5f\"},\"hovermode\":\"closest\",\"hoverlabel\":{\"align\":\"left\"},\"paper_bgcolor\":\"white\",\"plot_bgcolor\":\"#E5ECF6\",\"polar\":{\"bgcolor\":\"#E5ECF6\",\"angularaxis\":{\"gridcolor\":\"white\",\"linecolor\":\"white\",\"ticks\":\"\"},\"radialaxis\":{\"gridcolor\":\"white\",\"linecolor\":\"white\",\"ticks\":\"\"}},\"ternary\":{\"bgcolor\":\"#E5ECF6\",\"aaxis\":{\"gridcolor\":\"white\",\"linecolor\":\"white\",\"ticks\":\"\"},\"baxis\":{\"gridcolor\":\"white\",\"linecolor\":\"white\",\"ticks\":\"\"},\"caxis\":{\"gridcolor\":\"white\",\"linecolor\":\"white\",\"ticks\":\"\"}},\"coloraxis\":{\"colorbar\":{\"outlinewidth\":0,\"ticks\":\"\"}},\"colorscale\":{\"sequential\":[[0.0,\"#0d0887\"],[0.1111111111111111,\"#46039f\"],[0.2222222222222222,\"#7201a8\"],[0.3333333333333333,\"#9c179e\"],[0.4444444444444444,\"#bd3786\"],[0.5555555555555556,\"#d8576b\"],[0.6666666666666666,\"#ed7953\"],[0.7777777777777778,\"#fb9f3a\"],[0.8888888888888888,\"#fdca26\"],[1.0,\"#f0f921\"]],\"sequentialminus\":[[0.0,\"#0d0887\"],[0.1111111111111111,\"#46039f\"],[0.2222222222222222,\"#7201a8\"],[0.3333333333333333,\"#9c179e\"],[0.4444444444444444,\"#bd3786\"],[0.5555555555555556,\"#d8576b\"],[0.6666666666666666,\"#ed7953\"],[0.7777777777777778,\"#fb9f3a\"],[0.8888888888888888,\"#fdca26\"],[1.0,\"#f0f921\"]],\"diverging\":[[0,\"#8e0152\"],[0.1,\"#c51b7d\"],[0.2,\"#de77ae\"],[0.3,\"#f1b6da\"],[0.4,\"#fde0ef\"],[0.5,\"#f7f7f7\"],[0.6,\"#e6f5d0\"],[0.7,\"#b8e186\"],[0.8,\"#7fbc41\"],[0.9,\"#4d9221\"],[1,\"#276419\"]]},\"xaxis\":{\"gridcolor\":\"white\",\"linecolor\":\"white\",\"ticks\":\"\",\"title\":{\"standoff\":15},\"zerolinecolor\":\"white\",\"automargin\":true,\"zerolinewidth\":2},\"yaxis\":{\"gridcolor\":\"white\",\"linecolor\":\"white\",\"ticks\":\"\",\"title\":{\"standoff\":15},\"zerolinecolor\":\"white\",\"automargin\":true,\"zerolinewidth\":2},\"scene\":{\"xaxis\":{\"backgroundcolor\":\"#E5ECF6\",\"gridcolor\":\"white\",\"linecolor\":\"white\",\"showbackground\":true,\"ticks\":\"\",\"zerolinecolor\":\"white\",\"gridwidth\":2},\"yaxis\":{\"backgroundcolor\":\"#E5ECF6\",\"gridcolor\":\"white\",\"linecolor\":\"white\",\"showbackground\":true,\"ticks\":\"\",\"zerolinecolor\":\"white\",\"gridwidth\":2},\"zaxis\":{\"backgroundcolor\":\"#E5ECF6\",\"gridcolor\":\"white\",\"linecolor\":\"white\",\"showbackground\":true,\"ticks\":\"\",\"zerolinecolor\":\"white\",\"gridwidth\":2}},\"shapedefaults\":{\"line\":{\"color\":\"#2a3f5f\"}},\"annotationdefaults\":{\"arrowcolor\":\"#2a3f5f\",\"arrowhead\":0,\"arrowwidth\":1},\"geo\":{\"bgcolor\":\"white\",\"landcolor\":\"#E5ECF6\",\"subunitcolor\":\"white\",\"showland\":true,\"showlakes\":true,\"lakecolor\":\"white\"},\"title\":{\"x\":0.05},\"mapbox\":{\"style\":\"light\"}}},\"xaxis\":{\"anchor\":\"y\",\"domain\":[0.0,1.0],\"title\":{\"text\":\"Cumulative_cases\"}},\"yaxis\":{\"anchor\":\"x\",\"domain\":[0.0,1.0],\"title\":{\"text\":\"Cumulative_deaths\"}},\"legend\":{\"title\":{\"text\":\"Country\"},\"tracegroupgap\":0},\"title\":{\"text\":\"Cumulative Deaths vs Cumulative Cases for Selected Countries\"}},                        {\"responsive\": true}                    ).then(function(){\n",
       "                            \n",
       "var gd = document.getElementById('9aea53c4-6520-4a19-8810-0133f3c0b644');\n",
       "var x = new MutationObserver(function (mutations, observer) {{\n",
       "        var display = window.getComputedStyle(gd).display;\n",
       "        if (!display || display === 'none') {{\n",
       "            console.log([gd, 'removed!']);\n",
       "            Plotly.purge(gd);\n",
       "            observer.disconnect();\n",
       "        }}\n",
       "}});\n",
       "\n",
       "// Listen for the removal of the full notebook cells\n",
       "var notebookContainer = gd.closest('#notebook-container');\n",
       "if (notebookContainer) {{\n",
       "    x.observe(notebookContainer, {childList: true});\n",
       "}}\n",
       "\n",
       "// Listen for the clearing of the current output cell\n",
       "var outputEl = gd.closest('.output');\n",
       "if (outputEl) {{\n",
       "    x.observe(outputEl, {childList: true});\n",
       "}}\n",
       "\n",
       "                        })                };                });            </script>        </div>"
      ]
     },
     "metadata": {},
     "output_type": "display_data"
    }
   ],
   "source": [
    "fig = px.line(\n",
    "    filtered_data, \n",
    "    x='Cumulative_cases', \n",
    "    y='Cumulative_deaths', \n",
    "    color='Country',\n",
    "    title='Cumulative Deaths vs Cumulative Cases for Selected Countries'\n",
    ")\n",
    "fig.show()"
   ]
  },
  {
   "cell_type": "code",
   "execution_count": null,
   "id": "153fa426-d547-4280-8b89-ec838bb1510d",
   "metadata": {},
   "outputs": [],
   "source": []
  }
 ],
 "metadata": {
  "kernelspec": {
   "display_name": "Python 3 (ipykernel)",
   "language": "python",
   "name": "python3"
  },
  "language_info": {
   "codemirror_mode": {
    "name": "ipython",
    "version": 3
   },
   "file_extension": ".py",
   "mimetype": "text/x-python",
   "name": "python",
   "nbconvert_exporter": "python",
   "pygments_lexer": "ipython3",
   "version": "3.12.4"
  }
 },
 "nbformat": 4,
 "nbformat_minor": 5
}

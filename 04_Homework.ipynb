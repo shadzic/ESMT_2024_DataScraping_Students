{
 "cells": [
  {
   "cell_type": "markdown",
   "id": "9fdbabd1-a139-42cd-86eb-3911f2363ea6",
   "metadata": {},
   "source": [
    "# 04 Homework\n",
    "© Copyright: 2024, Selma Hadzic, all rights reserved."
   ]
  },
  {
   "cell_type": "markdown",
   "id": "120d9520-a37c-4240-8c50-34e92d9d85f7",
   "metadata": {},
   "source": [
    "#### Number of points: 15 (weights 15% in the final grade)\n",
    "\n",
    "\n",
    "1. Pull from the `ESMT_2024_DataScraping_Lectures` repository: you should get this `04_Homework` file\n",
    "2. Launch VS Code and open your working-folder\n",
    "3. Create a `Session_04` folder, in which you create another folder called `data`\n",
    "4. Copy paste the notebook `04_Homework` from the lectures repo to the working-folder. Copy the csv file `WHO_COVID19_cases.csv` into the `working-folder/Session_04/data` directory.\n",
    "5. Do the exercises on 04_Homework in your working-folder\n",
    "6. Once you are finished, copy-Paste the notebook into `ESMT_2024_DataScraping_Students` folder in your computer\n",
    "8. Commit and push your homework in your branch before the deadline\n",
    "\n",
    "#### Deadline: October 24th 01:29 pm CET\n",
    "\n",
    "#### Any missed deadline without justification to the Administration will result in 0 points for this homework.\n",
    "#### If the Github branch is not correctly named using the indicated format **LASTNAME_firstname**, then a penalty of -2 points will be applied"
   ]
  },
  {
   "cell_type": "markdown",
   "id": "099d2883-1487-4402-9d9f-f4009bf1d844",
   "metadata": {},
   "source": [
    "## Dataset: use the WHO_COVID19_cases.csv dataset from Session_01"
   ]
  },
  {
   "cell_type": "markdown",
   "id": "180e5436-4077-44a0-be08-135e124f73d3",
   "metadata": {},
   "source": [
    "## 1- Filter the data for 3 countries and draw a line plot for Cumulative_cases vs Date_reported using seaborn (7.5 points)\n",
    "\n",
    "*Tip: you may want to explore `plt.xticks(rotation=90);` and `plt.gca().xaxis.set_major_locator(ticker.MultipleLocator(6)) ;` to unclutter the dates on the x-axis*"
   ]
  },
  {
   "cell_type": "code",
   "execution_count": 13,
   "id": "0cdc9b82-5b98-48d8-82d9-4b03be250757",
   "metadata": {},
   "outputs": [
    {
     "data": {
      "text/html": [
       "<div>\n",
       "<style scoped>\n",
       "    .dataframe tbody tr th:only-of-type {\n",
       "        vertical-align: middle;\n",
       "    }\n",
       "\n",
       "    .dataframe tbody tr th {\n",
       "        vertical-align: top;\n",
       "    }\n",
       "\n",
       "    .dataframe thead th {\n",
       "        text-align: right;\n",
       "    }\n",
       "</style>\n",
       "<table border=\"1\" class=\"dataframe\">\n",
       "  <thead>\n",
       "    <tr style=\"text-align: right;\">\n",
       "      <th></th>\n",
       "      <th>Date_reported</th>\n",
       "      <th>Country_code</th>\n",
       "      <th>Country</th>\n",
       "      <th>Continent</th>\n",
       "      <th>WHO_region</th>\n",
       "      <th>New_cases</th>\n",
       "      <th>Cumulative_cases</th>\n",
       "      <th>New_deaths</th>\n",
       "      <th>Cumulative_deaths</th>\n",
       "    </tr>\n",
       "  </thead>\n",
       "  <tbody>\n",
       "    <tr>\n",
       "      <th>0</th>\n",
       "      <td>2020-01-05</td>\n",
       "      <td>AF</td>\n",
       "      <td>Afghanistan</td>\n",
       "      <td>Asia</td>\n",
       "      <td>EMRO</td>\n",
       "      <td>NaN</td>\n",
       "      <td>0</td>\n",
       "      <td>NaN</td>\n",
       "      <td>0</td>\n",
       "    </tr>\n",
       "    <tr>\n",
       "      <th>1</th>\n",
       "      <td>2020-01-12</td>\n",
       "      <td>AF</td>\n",
       "      <td>Afghanistan</td>\n",
       "      <td>Asia</td>\n",
       "      <td>EMRO</td>\n",
       "      <td>NaN</td>\n",
       "      <td>0</td>\n",
       "      <td>NaN</td>\n",
       "      <td>0</td>\n",
       "    </tr>\n",
       "    <tr>\n",
       "      <th>2</th>\n",
       "      <td>2020-01-19</td>\n",
       "      <td>AF</td>\n",
       "      <td>Afghanistan</td>\n",
       "      <td>Asia</td>\n",
       "      <td>EMRO</td>\n",
       "      <td>NaN</td>\n",
       "      <td>0</td>\n",
       "      <td>NaN</td>\n",
       "      <td>0</td>\n",
       "    </tr>\n",
       "    <tr>\n",
       "      <th>3</th>\n",
       "      <td>2020-01-26</td>\n",
       "      <td>AF</td>\n",
       "      <td>Afghanistan</td>\n",
       "      <td>Asia</td>\n",
       "      <td>EMRO</td>\n",
       "      <td>NaN</td>\n",
       "      <td>0</td>\n",
       "      <td>NaN</td>\n",
       "      <td>0</td>\n",
       "    </tr>\n",
       "    <tr>\n",
       "      <th>4</th>\n",
       "      <td>2020-02-02</td>\n",
       "      <td>AF</td>\n",
       "      <td>Afghanistan</td>\n",
       "      <td>Asia</td>\n",
       "      <td>EMRO</td>\n",
       "      <td>NaN</td>\n",
       "      <td>0</td>\n",
       "      <td>NaN</td>\n",
       "      <td>0</td>\n",
       "    </tr>\n",
       "    <tr>\n",
       "      <th>...</th>\n",
       "      <td>...</td>\n",
       "      <td>...</td>\n",
       "      <td>...</td>\n",
       "      <td>...</td>\n",
       "      <td>...</td>\n",
       "      <td>...</td>\n",
       "      <td>...</td>\n",
       "      <td>...</td>\n",
       "      <td>...</td>\n",
       "    </tr>\n",
       "    <tr>\n",
       "      <th>58555</th>\n",
       "      <td>2024-08-04</td>\n",
       "      <td>ZW</td>\n",
       "      <td>Zimbabwe</td>\n",
       "      <td>Africa</td>\n",
       "      <td>AFRO</td>\n",
       "      <td>1.0</td>\n",
       "      <td>266387</td>\n",
       "      <td>NaN</td>\n",
       "      <td>5740</td>\n",
       "    </tr>\n",
       "    <tr>\n",
       "      <th>58556</th>\n",
       "      <td>2024-08-11</td>\n",
       "      <td>ZW</td>\n",
       "      <td>Zimbabwe</td>\n",
       "      <td>Africa</td>\n",
       "      <td>AFRO</td>\n",
       "      <td>NaN</td>\n",
       "      <td>266387</td>\n",
       "      <td>NaN</td>\n",
       "      <td>5740</td>\n",
       "    </tr>\n",
       "    <tr>\n",
       "      <th>58557</th>\n",
       "      <td>2024-08-18</td>\n",
       "      <td>ZW</td>\n",
       "      <td>Zimbabwe</td>\n",
       "      <td>Africa</td>\n",
       "      <td>AFRO</td>\n",
       "      <td>NaN</td>\n",
       "      <td>266387</td>\n",
       "      <td>NaN</td>\n",
       "      <td>5740</td>\n",
       "    </tr>\n",
       "    <tr>\n",
       "      <th>58558</th>\n",
       "      <td>2024-08-25</td>\n",
       "      <td>ZW</td>\n",
       "      <td>Zimbabwe</td>\n",
       "      <td>Africa</td>\n",
       "      <td>AFRO</td>\n",
       "      <td>NaN</td>\n",
       "      <td>266387</td>\n",
       "      <td>NaN</td>\n",
       "      <td>5740</td>\n",
       "    </tr>\n",
       "    <tr>\n",
       "      <th>58559</th>\n",
       "      <td>2024-09-01</td>\n",
       "      <td>ZW</td>\n",
       "      <td>Zimbabwe</td>\n",
       "      <td>Africa</td>\n",
       "      <td>AFRO</td>\n",
       "      <td>NaN</td>\n",
       "      <td>266387</td>\n",
       "      <td>NaN</td>\n",
       "      <td>5740</td>\n",
       "    </tr>\n",
       "  </tbody>\n",
       "</table>\n",
       "<p>58560 rows × 9 columns</p>\n",
       "</div>"
      ],
      "text/plain": [
       "      Date_reported Country_code      Country Continent WHO_region  New_cases  \\\n",
       "0        2020-01-05           AF  Afghanistan      Asia       EMRO        NaN   \n",
       "1        2020-01-12           AF  Afghanistan      Asia       EMRO        NaN   \n",
       "2        2020-01-19           AF  Afghanistan      Asia       EMRO        NaN   \n",
       "3        2020-01-26           AF  Afghanistan      Asia       EMRO        NaN   \n",
       "4        2020-02-02           AF  Afghanistan      Asia       EMRO        NaN   \n",
       "...             ...          ...          ...       ...        ...        ...   \n",
       "58555    2024-08-04           ZW     Zimbabwe    Africa       AFRO        1.0   \n",
       "58556    2024-08-11           ZW     Zimbabwe    Africa       AFRO        NaN   \n",
       "58557    2024-08-18           ZW     Zimbabwe    Africa       AFRO        NaN   \n",
       "58558    2024-08-25           ZW     Zimbabwe    Africa       AFRO        NaN   \n",
       "58559    2024-09-01           ZW     Zimbabwe    Africa       AFRO        NaN   \n",
       "\n",
       "       Cumulative_cases  New_deaths  Cumulative_deaths  \n",
       "0                     0         NaN                  0  \n",
       "1                     0         NaN                  0  \n",
       "2                     0         NaN                  0  \n",
       "3                     0         NaN                  0  \n",
       "4                     0         NaN                  0  \n",
       "...                 ...         ...                ...  \n",
       "58555            266387         NaN               5740  \n",
       "58556            266387         NaN               5740  \n",
       "58557            266387         NaN               5740  \n",
       "58558            266387         NaN               5740  \n",
       "58559            266387         NaN               5740  \n",
       "\n",
       "[58560 rows x 9 columns]"
      ]
     },
     "execution_count": 13,
     "metadata": {},
     "output_type": "execute_result"
    }
   ],
   "source": [
    "import pandas as pd\n",
    "import seaborn as sns\n",
    "import matplotlib.pyplot as plt\n",
    "import matplotlib.ticker as ticker\n",
    "import seaborn as sns\n",
    "import plotly.express as px\n",
    "import plotly.io as pio\n",
    "\n",
    "df = pd.read_csv(\"./WHO_COVID19_cases.csv\")\n",
    "df\n",
    "\n",
    "\n"
   ]
  },
  {
   "cell_type": "code",
   "execution_count": 25,
   "id": "5c5c3d2f-f7e9-4fc1-912d-c3f41900cfdb",
   "metadata": {},
   "outputs": [
    {
     "name": "stdout",
     "output_type": "stream",
     "text": [
      "Africa: Algeria, Angola, Benin, Botswana, Burkina Faso, Burundi, Cabo Verde, Cameroon, Central African Republic, Chad, Comoros, Congo, Côte d'Ivoire, Democratic Republic of the Congo, Djibouti, Egypt, Equatorial Guinea, Eritrea, Eswatini, Ethiopia, Gabon, Gambia, Ghana, Gibraltar, Guinea, Guinea-Bissau, Kenya, Lesotho, Liberia, Libya, Madagascar, Malawi, Mali, Mauritania, Mauritius, Mayotte, Morocco, Mozambique, Namibia, Niger, Nigeria, Réunion, Rwanda, Sao Tome and Principe, Senegal, Seychelles, Sierra Leone, Somalia, South Africa, South Sudan, Sudan, Togo, Tunisia, Uganda, United Republic of Tanzania, Zambia, Zimbabwe\n",
      "Asia: Afghanistan, Armenia, Azerbaijan, Bahrain, Bangladesh, Bhutan, Brunei Darussalam, Cambodia, China, Democratic People's Republic of Korea, Georgia, India, Indonesia, Iran (Islamic Republic of), Iraq, Israel, Japan, Jordan, Kazakhstan, Kuwait, Kyrgyzstan, Lao People's Democratic Republic, Lebanon, Malaysia, Maldives, Mongolia, Myanmar, Nepal, occupied Palestinian territory, including east Jerusalem, Oman, Pakistan, Philippines, Qatar, Republic of Korea, Russian Federation, Saudi Arabia, Singapore, Sri Lanka, Syrian Arab Republic, Tajikistan, Thailand, Timor-Leste, Türkiye, Turkmenistan, United Arab Emirates, Uzbekistan, Viet Nam, Yemen\n",
      "Europe: Albania, Andorra, Austria, Belarus, Belgium, Bosnia and Herzegovina, Bulgaria, Croatia, Cyprus, Czechia, Denmark, Estonia, Faroe Islands, Finland, France, Germany, Greece, Guernsey, Holy See, Hungary, Iceland, Ireland, Isle of Man, Italy, Jersey, Kosovo, Latvia, Liechtenstein, Lithuania, Luxembourg, Malta, Monaco, Montenegro, Netherlands (Kingdom of the), North Macedonia, Norway, Poland, Portugal, Republic of Moldova, Romania, San Marino, Serbia, Slovakia, Slovenia, Spain, Sweden, Switzerland, United Kingdom of Great Britain and Northern Ireland, Ukraine\n",
      "North America: Anguilla, Antigua and Barbuda, Aruba, Bahamas, Barbados, Belize, Bermuda, Bonaire, Saint Eustatius and Saba, British Virgin Islands, Canada, Cayman Islands, Costa Rica, Cuba, Curaçao, Dominica, Dominican Republic, El Salvador, French Guiana, Greenland, Grenada, Guadeloupe, Guatemala, Haiti, Honduras, Jamaica, Martinique, Mexico, Montserrat, Nicaragua, Panama, Puerto Rico, Saint Barthélemy, Saint Kitts and Nevis, Saint Lucia, Saint Martin (French part), Saint Pierre and Miquelon, Saint Vincent and the Grenadines, Sint Maarten (Dutch part), Trinidad and Tobago, Turks and Caicos Islands, United States of America, United States Virgin Islands\n",
      "Oceania: American Samoa, Australia, Cook Islands, Fiji, French Polynesia, Guam, Kiribati, Marshall Islands, New Caledonia, New Zealand, Niue, Papua New Guinea, Samoa, Solomon Islands, Tokelau, Tonga, Tuvalu, Vanuatu, Wallis and Futuna\n",
      "South America: Argentina, Bolivia (Plurinational State of), Brazil, Chile, Colombia, Ecuador, Falkland Islands (Malvinas), Guyana, Paraguay, Peru, Suriname, Uruguay, Venezuela (Bolivarian Republic of)\n",
      "Uncategorized: International commercial vessel, International conveyance (American Samoa), International conveyance (Diamond Princess), International conveyance (Kiribati), International conveyance (Solomon Islands), International conveyance (Vanuatu)\n",
      "island: Micronesia (Federated States of), Nauru, Northern Mariana Islands, Palau, Pitcairn, Saint Helena\n"
     ]
    }
   ],
   "source": [
    "df['Country'].unique().tolist()\n",
    "df.groupby('Continent')['Country'].unique().reset_index()\n",
    "for continent, countries in countries_by_continent.items():\n",
    "    print(f\"{continent}: {', '.join(countries)}\")"
   ]
  },
  {
   "cell_type": "code",
   "execution_count": 26,
   "id": "feeb8306-e1fd-4be0-a152-e78af376f092",
   "metadata": {},
   "outputs": [
    {
     "data": {
      "text/plain": [
       "<Axes: xlabel='Date_reported', ylabel='Cumulative_cases'>"
      ]
     },
     "execution_count": 26,
     "metadata": {},
     "output_type": "execute_result"
    },
    {
     "data": {
      "image/png": "[encoded data removed]",
      "text/plain": [
       "<Figure size 1200x600 with 1 Axes>"
      ]
     },
     "metadata": {},
     "output_type": "display_data"
    }
   ],
   "source": [
    "countries = ['Kenya', 'Netherlands (Kingdom of the)', 'Singapore']  # Replace with actual country names from the dataset\n",
    "filtered_df = df[df['Country'].isin(countries)].copy()  # Use .copy() to avoid SettingWithCopyWarning\n",
    "\n",
    "filtered_df.loc[:, 'Date_reported'] = pd.to_datetime(filtered_df['Date_reported'])\n",
    "\n",
    "plt.figure(figsize=(12, 6))\n",
    "sns.lineplot(data=filtered_df, x='Date_reported', y='Cumulative_cases', hue='Country')\n"
   ]
  },
  {
   "cell_type": "code",
   "execution_count": null,
   "id": "53be5a6f-00d3-4134-9009-68d0dd42b729",
   "metadata": {},
   "outputs": [],
   "source": []
  },
  {
   "cell_type": "code",
   "execution_count": null,
   "id": "44470084-0480-4e1a-bd67-9f98a352df26",
   "metadata": {},
   "outputs": [],
   "source": []
  },
  {
   "cell_type": "markdown",
   "id": "fa8217b4-a79d-480f-b3aa-2c7c5397ab3e",
   "metadata": {},
   "source": [
    "## 2- Make a line plot showing the cumulative_deaths vs cumulative_cases for 3 countries using `plotly` (7.5 points)"
   ]
  },
  {
   "cell_type": "code",
   "execution_count": 33,
   "id": "fee1d763-3047-4f72-97e8-d6fb6be73665",
   "metadata": {},
   "outputs": [
    {
     "name": "stdout",
     "output_type": "stream",
     "text": [
      "Requirement already satisfied: plotly in c:\\users\\derosa\\miniconda3\\lib\\site-packages (5.24.1)\n",
      "Requirement already satisfied: tenacity>=6.2.0 in c:\\users\\derosa\\miniconda3\\lib\\site-packages (from plotly) (9.0.0)\n",
      "Requirement already satisfied: packaging in c:\\users\\derosa\\miniconda3\\lib\\site-packages (from plotly) (24.1)\n",
      "      Country  Cumulative_cases  Cumulative_deaths\n",
      "28060   Kenya                 0                  0\n",
      "28061   Kenya                 0                  0\n",
      "28062   Kenya                 0                  0\n",
      "28063   Kenya                 0                  0\n",
      "28064   Kenya                 0                  0\n"
     ]
    },
    {
     "data": {
      "application/vnd.plotly.v1+json": {
       "config": {
        "plotlyServerURL": "https://plot.ly"
       },
       "data": [
        {
         "hovertemplate": "Country=Kenya<br>Cumulative Cases=%{x}<br>Cumulative Deaths=%{y}<extra></extra>",
         "legendgroup": "Kenya",
         "line": {
          "color": "#636efa",
          "dash": "solid"
         },
         "marker": {
          "symbol": "circle"
         },
         "mode": "lines",
         "name": "Kenya",
         "orientation": "v",
         "showlegend": true,
         "type": "scatter",
         "x": [
          0,
          0,
          0,
          0,
          0,
          0,
          0,
          0,
          0,
          0,
          1,
          7,
          38,
          126,
          191,
          262,
          343,
          435,
          649,
          830,
          1192,
          1888,
          2600,
          3457,
          4478,
          5811,
          7577,
          9726,
          12750,
          16643,
          21363,
          25837,
          29849,
          32118,
          33794,
          35020,
          35963,
          36829,
          37871,
          39184,
          41158,
          44196,
          48790,
          55192,
          61769,
          69273,
          76404,
          82605,
          87984,
          91526,
          94151,
          95843,
          96678,
          98184,
          99082,
          99898,
          100675,
          101690,
          102792,
          103993,
          105648,
          108362,
          112805,
          120163,
          129330,
          138077,
          145184,
          151287,
          156318,
          160053,
          163238,
          165379,
          168108,
          170485,
          172325,
          175176,
          178792,
          182393,
          185591,
          188513,
          192435,
          196745,
          203213,
          211028,
          219938,
          228363,
          234589,
          239692,
          243456,
          246296,
          248392,
          250023,
          251057,
          251959,
          252628,
          253293,
          253813,
          254276,
          254688,
          254940,
          255408,
          256134,
          262335,
          281358,
          297155,
          310797,
          317324,
          320138,
          321234,
          322043,
          322436,
          322669,
          322906,
          323071,
          323171,
          323272,
          323365,
          323450,
          323531,
          323609,
          323696,
          323773,
          323868,
          324011,
          324222,
          324686,
          325442,
          326737,
          329107,
          331966,
          334249,
          335773,
          336690,
          337242,
          337599,
          337833,
          337938,
          338042,
          338153,
          338234,
          338290,
          338332,
          338389,
          338439,
          338493,
          338571,
          338749,
          339078,
          339671,
          340371,
          340975,
          341460,
          341636,
          341924,
          342107,
          342470,
          342507,
          342507,
          342599,
          342703,
          342785,
          342817,
          342849,
          342874,
          342915,
          342935,
          342942,
          342956,
          342967,
          342983,
          342992,
          343005,
          343032,
          343060,
          343074,
          343074,
          343074,
          343074,
          343312,
          343312,
          343466,
          343743,
          343786,
          343786,
          343850,
          343915,
          343918,
          343918,
          343955,
          343978,
          343985,
          343986,
          343995,
          343998,
          344011,
          344025,
          344042,
          344057,
          344072,
          344091,
          344094,
          344094,
          344094,
          344094,
          344094,
          344094,
          344094,
          344094,
          344094,
          344094,
          344094,
          344094,
          344094,
          344094,
          344094,
          344094,
          344094,
          344094,
          344094,
          344101,
          344101,
          344101,
          344101,
          344101,
          344101,
          344101,
          344101,
          344101,
          344101,
          344101,
          344101,
          344103,
          344104,
          344104,
          344105,
          344105,
          344105,
          344105,
          344106,
          344106,
          344109,
          344109,
          344109,
          344109
         ],
         "xaxis": "x",
         "y": [
          0,
          0,
          0,
          0,
          0,
          0,
          0,
          0,
          0,
          0,
          0,
          0,
          4,
          7,
          7,
          11,
          13,
          21,
          30,
          50,
          50,
          63,
          83,
          100,
          121,
          141,
          159,
          184,
          225,
          278,
          364,
          418,
          472,
          542,
          572,
          594,
          619,
          646,
          689,
          728,
          760,
          825,
          896,
          996,
          1103,
          1249,
          1366,
          1445,
          1518,
          1586,
          1633,
          1655,
          1685,
          1704,
          1728,
          1740,
          1755,
          1776,
          1795,
          1817,
          1854,
          1874,
          1908,
          1994,
          2104,
          2206,
          2330,
          2463,
          2603,
          2744,
          2883,
          3001,
          3049,
          3141,
          3264,
          3396,
          3447,
          3574,
          3671,
          3721,
          3760,
          3849,
          3931,
          4117,
          4319,
          4467,
          4694,
          4778,
          4902,
          4980,
          5096,
          5131,
          5181,
          5215,
          5255,
          5276,
          5305,
          5316,
          5325,
          5333,
          5335,
          5346,
          5353,
          5359,
          5381,
          5437,
          5488,
          5531,
          5578,
          5607,
          5629,
          5635,
          5639,
          5640,
          5644,
          5647,
          5647,
          5648,
          5648,
          5649,
          5649,
          5649,
          5649,
          5649,
          5649,
          5651,
          5651,
          5651,
          5651,
          5651,
          5655,
          5663,
          5668,
          5670,
          5672,
          5672,
          5673,
          5673,
          5673,
          5674,
          5674,
          5675,
          5675,
          5678,
          5678,
          5678,
          5678,
          5678,
          5678,
          5678,
          5684,
          5684,
          5684,
          5684,
          5684,
          5688,
          5688,
          5688,
          5688,
          5688,
          5688,
          5688,
          5688,
          5688,
          5688,
          5688,
          5688,
          5688,
          5688,
          5688,
          5688,
          5688,
          5688,
          5688,
          5688,
          5688,
          5688,
          5688,
          5688,
          5688,
          5689,
          5689,
          5689,
          5689,
          5689,
          5689,
          5689,
          5689,
          5689,
          5689,
          5689,
          5689,
          5689,
          5689,
          5689,
          5689,
          5689,
          5689,
          5689,
          5689,
          5689,
          5689,
          5689,
          5689,
          5689,
          5689,
          5689,
          5689,
          5689,
          5689,
          5689,
          5689,
          5689,
          5689,
          5689,
          5689,
          5689,
          5689,
          5689,
          5689,
          5689,
          5689,
          5689,
          5689,
          5689,
          5689,
          5689,
          5689,
          5689,
          5689,
          5689,
          5689,
          5689,
          5689,
          5689,
          5689,
          5689,
          5689,
          5689,
          5689,
          5689,
          5689,
          5689,
          5689
         ],
         "yaxis": "y"
        },
        {
         "hovertemplate": "Country=Netherlands (Kingdom of the)<br>Cumulative Cases=%{x}<br>Cumulative Deaths=%{y}<extra></extra>",
         "legendgroup": "Netherlands (Kingdom of the)",
         "line": {
          "color": "#EF553B",
          "dash": "solid"
         },
         "marker": {
          "symbol": "circle"
         },
         "mode": "lines",
         "name": "Netherlands (Kingdom of the)",
         "orientation": "v",
         "showlegend": true,
         "type": "scatter",
         "x": [
          0,
          0,
          0,
          0,
          0,
          0,
          0,
          0,
          19,
          330,
          1606,
          5381,
          12128,
          19289,
          27240,
          33911,
          38460,
          40955,
          42727,
          44054,
          45365,
          46488,
          47714,
          48819,
          49516,
          50055,
          50490,
          50992,
          51953,
          53251,
          55808,
          59669,
          63692,
          67348,
          70998,
          76317,
          84597,
          98404,
          117227,
          144275,
          187065,
          243042,
          310410,
          373195,
          417139,
          455053,
          491621,
          525229,
          567431,
          628321,
          706409,
          773198,
          829153,
          879403,
          918632,
          953961,
          982941,
          1008832,
          1033243,
          1062078,
          1093519,
          1125109,
          1163820,
          1209218,
          1260645,
          1308735,
          1358954,
          1412616,
          1468727,
          1519985,
          1566986,
          1602835,
          1629368,
          1649855,
          1664976,
          1674125,
          1680095,
          1684349,
          1691520,
          1741077,
          1810528,
          1849276,
          1871625,
          1888886,
          1905485,
          1922367,
          1939949,
          1957464,
          1973653,
          1987288,
          1998921,
          2010792,
          2028073,
          2053383,
          2091162,
          2144673,
          2220529,
          2335225,
          2489290,
          2643838,
          2788725,
          2904897,
          3000516,
          3085502,
          3195025,
          3396916,
          3648801,
          4072733,
          4655278,
          5281580,
          5795271,
          6121995,
          6365440,
          6773902,
          7222060,
          7546135,
          7777800,
          7923000,
          7996707,
          8024980,
          8041509,
          8051850,
          8062035,
          8070469,
          8078030,
          8084870,
          8094238,
          8108402,
          8133106,
          8166613,
          8205000,
          8247753,
          8288497,
          8316791,
          8339483,
          8355339,
          8367119,
          8376421,
          8384183,
          8391861,
          8400206,
          8408852,
          8420389,
          8438685,
          8462622,
          8485278,
          8503690,
          8516416,
          8524646,
          8530792,
          8536274,
          8541405,
          8546938,
          8552645,
          8558738,
          8566067,
          8571872,
          8576261,
          8578695,
          8580449,
          8582341,
          8584796,
          8587647,
          8591596,
          8596223,
          8600376,
          8604236,
          8607055,
          8608919,
          8610388,
          8611477,
          8612423,
          8613259,
          8613881,
          8614472,
          8614918,
          8615214,
          8615484,
          8615770,
          8615965,
          8616129,
          8616243,
          8616369,
          8616443,
          8616526,
          8616632,
          8616720,
          8616848,
          8617026,
          8617226,
          8617513,
          8617772,
          8618126,
          8618519,
          8618922,
          8619267,
          8619705,
          8620051,
          8620051,
          8620051,
          8620971,
          8621874,
          8622765,
          8623682,
          8624787,
          8626343,
          8628136,
          8629765,
          8631030,
          8632064,
          8632845,
          8633464,
          8634053,
          8634564,
          8634932,
          8635248,
          8635495,
          8635687,
          8635829,
          8635941,
          8636031,
          8636154,
          8636230,
          8636292,
          8636351,
          8636423,
          8636491,
          8636569,
          8636625,
          8636694,
          8636784,
          8636885,
          8637075,
          8637403,
          8637798,
          8638147,
          8638687,
          8639207,
          8639720,
          8640168,
          8640555,
          8640836,
          8641106,
          8641347
         ],
         "xaxis": "x",
         "y": [
          0,
          0,
          0,
          0,
          0,
          0,
          0,
          0,
          0,
          4,
          40,
          335,
          1132,
          2317,
          3357,
          4243,
          4948,
          5374,
          5669,
          5843,
          5963,
          6054,
          6110,
          6145,
          6170,
          6182,
          6194,
          6200,
          6207,
          6214,
          6223,
          6228,
          6254,
          6281,
          6304,
          6322,
          6342,
          6379,
          6470,
          6598,
          6770,
          7039,
          7409,
          7922,
          8481,
          8939,
          9307,
          9664,
          9986,
          10384,
          10913,
          11539,
          12205,
          12847,
          13397,
          13928,
          14348,
          14754,
          15152,
          15556,
          15833,
          16073,
          16259,
          16435,
          16586,
          16736,
          16876,
          17023,
          17162,
          17302,
          17438,
          17530,
          17613,
          17663,
          17719,
          17743,
          17756,
          17764,
          17772,
          17784,
          17796,
          17823,
          17859,
          17909,
          17953,
          17987,
          18037,
          18079,
          18116,
          18159,
          18183,
          18210,
          18233,
          18282,
          18364,
          18506,
          18680,
          18882,
          19229,
          19648,
          20081,
          20495,
          20787,
          20960,
          21092,
          21177,
          21236,
          21299,
          21352,
          21424,
          21514,
          21609,
          21668,
          21738,
          21816,
          21913,
          22020,
          22102,
          22165,
          22209,
          22238,
          22272,
          22285,
          22297,
          22310,
          22321,
          22325,
          22335,
          22349,
          22365,
          22393,
          22413,
          22448,
          22480,
          22512,
          22543,
          22571,
          22596,
          22608,
          22616,
          22631,
          22644,
          22655,
          22683,
          22719,
          22769,
          22807,
          22839,
          22865,
          22889,
          22899,
          22910,
          22924,
          22940,
          22955,
          22976,
          22986,
          22986,
          22986,
          22986,
          22986,
          22986,
          22986,
          22986,
          22986,
          22986,
          22986,
          22986,
          22986,
          22986,
          22986,
          22986,
          22986,
          22986,
          22986,
          22986,
          22986,
          22986,
          22986,
          22986,
          22986,
          22986,
          22986,
          22986,
          22986,
          22986,
          22986,
          22986,
          22986,
          22986,
          22986,
          22986,
          22986,
          22986,
          22986,
          22986,
          22986,
          22986,
          22986,
          22986,
          22986,
          22986,
          22986,
          22986,
          22986,
          22986,
          22986,
          22986,
          22986,
          22986,
          22986,
          22986,
          22986,
          22986,
          22986,
          22986,
          22986,
          22986,
          22986,
          22986,
          22986,
          22986,
          22986,
          22986,
          22986,
          22986,
          22986,
          22986,
          22986,
          22986,
          22986,
          22986,
          22986,
          22986,
          22986,
          22986,
          22986,
          22986,
          22986,
          22986,
          22986,
          22986,
          22986,
          22986
         ],
         "yaxis": "y"
        },
        {
         "hovertemplate": "Country=Singapore<br>Cumulative Cases=%{x}<br>Cumulative Deaths=%{y}<extra></extra>",
         "legendgroup": "Singapore",
         "line": {
          "color": "#00cc96",
          "dash": "solid"
         },
         "marker": {
          "symbol": "circle"
         },
         "mode": "lines",
         "name": "Singapore",
         "orientation": "v",
         "showlegend": true,
         "type": "scatter",
         "x": [
          0,
          0,
          0,
          4,
          18,
          40,
          72,
          89,
          102,
          138,
          212,
          432,
          802,
          1189,
          2299,
          5992,
          12693,
          17548,
          22460,
          27356,
          31068,
          34366,
          37527,
          40197,
          41833,
          43246,
          44664,
          45782,
          47655,
          49888,
          52512,
          54929,
          55661,
          56266,
          56717,
          56982,
          57357,
          57558,
          57685,
          57800,
          57866,
          57904,
          57965,
          58015,
          58054,
          58116,
          58148,
          58205,
          58255,
          58313,
          58403,
          58519,
          58697,
          58907,
          59113,
          59308,
          59536,
          59699,
          59800,
          59869,
          59936,
          60033,
          60105,
          60196,
          60300,
          60478,
          60653,
          60831,
          61006,
          61218,
          61359,
          61585,
          61824,
          62028,
          62196,
          62276,
          62414,
          62544,
          62617,
          62692,
          63073,
          64179,
          65102,
          65764,
          66172,
          66478,
          67304,
          68660,
          71687,
          77804,
          87892,
          103843,
          126966,
          148178,
          172644,
          198374,
          218333,
          237203,
          252188,
          262383,
          269211,
          273362,
          275910,
          277764,
          280290,
          285647,
          291849,
          313772,
          348330,
          397823,
          469495,
          582638,
          710880,
          832821,
          939436,
          1015017,
          1072005,
          1109744,
          1138001,
          1160300,
          1182168,
          1199640,
          1217922,
          1242884,
          1269635,
          1295920,
          1318984,
          1341256,
          1367761,
          1408358,
          1461107,
          1523881,
          1589099,
          1652981,
          1708950,
          1754777,
          1791046,
          1814917,
          1831332,
          1844785,
          1858497,
          1873290,
          1889544,
          1911417,
          1948402,
          2005884,
          2059709,
          2096520,
          2121435,
          2137876,
          2148794,
          2162594,
          2171389,
          2179755,
          2188409,
          2193890,
          2202214,
          2207670,
          2211546,
          2214064,
          2215889,
          2218881,
          2221762,
          2222006,
          2225855,
          2230326,
          2234752,
          2245104,
          2255568,
          2270035,
          2298445,
          2314463,
          2340535,
          2368353,
          2391770,
          2414394,
          2438690,
          2459457,
          2474308,
          2482839,
          2493271,
          2499988,
          2511724,
          2516026,
          2524570,
          2530202,
          2534940,
          2539891,
          2543376,
          2548327,
          2555372,
          2562022,
          2566317,
          2573565,
          2579966,
          2594809,
          2610145,
          2626395,
          2641196,
          2658319,
          2674381,
          2690776,
          2706217,
          2716943,
          2739037,
          2771072,
          2827115,
          2885415,
          2924515,
          2945715,
          2965515,
          2977715,
          2988415,
          2994295,
          2998665,
          3001665,
          3003705,
          3006155,
          3006155,
          3006155,
          3006155,
          3006155,
          3006155,
          3006155,
          3006155,
          3006155,
          3006155,
          3006155,
          3006155,
          3006155,
          3006155,
          3006155,
          3006155,
          3006155,
          3006155,
          3006155,
          3006155,
          3006155,
          3006155,
          3006155,
          3006155,
          3006155,
          3006155,
          3006155
         ],
         "xaxis": "x",
         "y": [
          0,
          0,
          0,
          0,
          0,
          0,
          0,
          0,
          0,
          0,
          0,
          2,
          2,
          5,
          8,
          11,
          12,
          17,
          20,
          22,
          23,
          23,
          25,
          26,
          26,
          26,
          26,
          26,
          27,
          27,
          27,
          27,
          27,
          27,
          27,
          27,
          27,
          27,
          27,
          27,
          27,
          28,
          28,
          28,
          28,
          28,
          28,
          29,
          29,
          29,
          29,
          29,
          29,
          29,
          29,
          29,
          29,
          29,
          29,
          29,
          29,
          29,
          29,
          29,
          29,
          29,
          29,
          29,
          29,
          31,
          31,
          31,
          32,
          33,
          33,
          34,
          34,
          36,
          36,
          36,
          36,
          37,
          37,
          42,
          44,
          49,
          55,
          55,
          58,
          60,
          78,
          113,
          162,
          233,
          315,
          407,
          497,
          586,
          662,
          701,
          759,
          794,
          813,
          822,
          829,
          838,
          843,
          848,
          854,
          871,
          897,
          945,
          1007,
          1078,
          1145,
          1198,
          1246,
          1274,
          1294,
          1316,
          1325,
          1336,
          1352,
          1363,
          1375,
          1383,
          1393,
          1398,
          1405,
          1409,
          1419,
          1432,
          1457,
          1483,
          1520,
          1541,
          1560,
          1584,
          1591,
          1596,
          1602,
          1608,
          1615,
          1622,
          1632,
          1646,
          1663,
          1680,
          1690,
          1697,
          1700,
          1702,
          1706,
          1707,
          1710,
          1711,
          1711,
          1712,
          1712,
          1712,
          1712,
          1722,
          1722,
          1722,
          1722,
          1722,
          1722,
          1722,
          1722,
          1722,
          1734,
          1734,
          1734,
          1734,
          1788,
          1788,
          1788,
          1788,
          1841,
          1841,
          1845,
          1872,
          1872,
          1872,
          1872,
          1872,
          1872,
          1872,
          1879,
          1879,
          1879,
          1879,
          1889,
          1889,
          1889,
          1889,
          1906,
          1906,
          1906,
          1906,
          1906,
          1933,
          1933,
          1933,
          1933,
          1954,
          1954,
          1954,
          1954,
          2024,
          2024,
          2024,
          2024,
          2024,
          2024,
          2024,
          2024,
          2024,
          2024,
          2024,
          2024,
          2024,
          2024,
          2024,
          2024,
          2024,
          2024,
          2024,
          2024,
          2024,
          2024,
          2024,
          2024,
          2024,
          2024,
          2024,
          2024,
          2024,
          2024,
          2024,
          2024,
          2024,
          2024,
          2024
         ],
         "yaxis": "y"
        }
       ],
       "layout": {
        "legend": {
         "title": {
          "text": "Country"
         },
         "tracegroupgap": 0
        },
        "template": {
         "data": {
          "bar": [
           {
            "error_x": {
             "color": "#2a3f5f"
            },
            "error_y": {
             "color": "#2a3f5f"
            },
            "marker": {
             "line": {
              "color": "#E5ECF6",
              "width": 0.5
             },
             "pattern": {
              "fillmode": "overlay",
              "size": 10,
              "solidity": 0.2
             }
            },
            "type": "bar"
           }
          ],
          "barpolar": [
           {
            "marker": {
             "line": {
              "color": "#E5ECF6",
              "width": 0.5
             },
             "pattern": {
              "fillmode": "overlay",
              "size": 10,
              "solidity": 0.2
             }
            },
            "type": "barpolar"
           }
          ],
          "carpet": [
           {
            "aaxis": {
             "endlinecolor": "#2a3f5f",
             "gridcolor": "white",
             "linecolor": "white",
             "minorgridcolor": "white",
             "startlinecolor": "#2a3f5f"
            },
            "baxis": {
             "endlinecolor": "#2a3f5f",
             "gridcolor": "white",
             "linecolor": "white",
             "minorgridcolor": "white",
             "startlinecolor": "#2a3f5f"
            },
            "type": "carpet"
           }
          ],
          "choropleth": [
           {
            "colorbar": {
             "outlinewidth": 0,
             "ticks": ""
            },
            "type": "choropleth"
           }
          ],
          "contour": [
           {
            "colorbar": {
             "outlinewidth": 0,
             "ticks": ""
            },
            "colorscale": [
             [
              0,
              "#0d0887"
             ],
             [
              0.1111111111111111,
              "#46039f"
             ],
             [
              0.2222222222222222,
              "#7201a8"
             ],
             [
              0.3333333333333333,
              "#9c179e"
             ],
             [
              0.4444444444444444,
              "#bd3786"
             ],
             [
              0.5555555555555556,
              "#d8576b"
             ],
             [
              0.6666666666666666,
              "#ed7953"
             ],
             [
              0.7777777777777778,
              "#fb9f3a"
             ],
             [
              0.8888888888888888,
              "#fdca26"
             ],
             [
              1,
              "#f0f921"
             ]
            ],
            "type": "contour"
           }
          ],
          "contourcarpet": [
           {
            "colorbar": {
             "outlinewidth": 0,
             "ticks": ""
            },
            "type": "contourcarpet"
           }
          ],
          "heatmap": [
           {
            "colorbar": {
             "outlinewidth": 0,
             "ticks": ""
            },
            "colorscale": [
             [
              0,
              "#0d0887"
             ],
             [
              0.1111111111111111,
              "#46039f"
             ],
             [
              0.2222222222222222,
              "#7201a8"
             ],
             [
              0.3333333333333333,
              "#9c179e"
             ],
             [
              0.4444444444444444,
              "#bd3786"
             ],
             [
              0.5555555555555556,
              "#d8576b"
             ],
             [
              0.6666666666666666,
              "#ed7953"
             ],
             [
              0.7777777777777778,
              "#fb9f3a"
             ],
             [
              0.8888888888888888,
              "#fdca26"
             ],
             [
              1,
              "#f0f921"
             ]
            ],
            "type": "heatmap"
           }
          ],
          "heatmapgl": [
           {
            "colorbar": {
             "outlinewidth": 0,
             "ticks": ""
            },
            "colorscale": [
             [
              0,
              "#0d0887"
             ],
             [
              0.1111111111111111,
              "#46039f"
             ],
             [
              0.2222222222222222,
              "#7201a8"
             ],
             [
              0.3333333333333333,
              "#9c179e"
             ],
             [
              0.4444444444444444,
              "#bd3786"
             ],
             [
              0.5555555555555556,
              "#d8576b"
             ],
             [
              0.6666666666666666,
              "#ed7953"
             ],
             [
              0.7777777777777778,
              "#fb9f3a"
             ],
             [
              0.8888888888888888,
              "#fdca26"
             ],
             [
              1,
              "#f0f921"
             ]
            ],
            "type": "heatmapgl"
           }
          ],
          "histogram": [
           {
            "marker": {
             "pattern": {
              "fillmode": "overlay",
              "size": 10,
              "solidity": 0.2
             }
            },
            "type": "histogram"
           }
          ],
          "histogram2d": [
           {
            "colorbar": {
             "outlinewidth": 0,
             "ticks": ""
            },
            "colorscale": [
             [
              0,
              "#0d0887"
             ],
             [
              0.1111111111111111,
              "#46039f"
             ],
             [
              0.2222222222222222,
              "#7201a8"
             ],
             [
              0.3333333333333333,
              "#9c179e"
             ],
             [
              0.4444444444444444,
              "#bd3786"
             ],
             [
              0.5555555555555556,
              "#d8576b"
             ],
             [
              0.6666666666666666,
              "#ed7953"
             ],
             [
              0.7777777777777778,
              "#fb9f3a"
             ],
             [
              0.8888888888888888,
              "#fdca26"
             ],
             [
              1,
              "#f0f921"
             ]
            ],
            "type": "histogram2d"
           }
          ],
          "histogram2dcontour": [
           {
            "colorbar": {
             "outlinewidth": 0,
             "ticks": ""
            },
            "colorscale": [
             [
              0,
              "#0d0887"
             ],
             [
              0.1111111111111111,
              "#46039f"
             ],
             [
              0.2222222222222222,
              "#7201a8"
             ],
             [
              0.3333333333333333,
              "#9c179e"
             ],
             [
              0.4444444444444444,
              "#bd3786"
             ],
             [
              0.5555555555555556,
              "#d8576b"
             ],
             [
              0.6666666666666666,
              "#ed7953"
             ],
             [
              0.7777777777777778,
              "#fb9f3a"
             ],
             [
              0.8888888888888888,
              "#fdca26"
             ],
             [
              1,
              "#f0f921"
             ]
            ],
            "type": "histogram2dcontour"
           }
          ],
          "mesh3d": [
           {
            "colorbar": {
             "outlinewidth": 0,
             "ticks": ""
            },
            "type": "mesh3d"
           }
          ],
          "parcoords": [
           {
            "line": {
             "colorbar": {
              "outlinewidth": 0,
              "ticks": ""
             }
            },
            "type": "parcoords"
           }
          ],
          "pie": [
           {
            "automargin": true,
            "type": "pie"
           }
          ],
          "scatter": [
           {
            "fillpattern": {
             "fillmode": "overlay",
             "size": 10,
             "solidity": 0.2
            },
            "type": "scatter"
           }
          ],
          "scatter3d": [
           {
            "line": {
             "colorbar": {
              "outlinewidth": 0,
              "ticks": ""
             }
            },
            "marker": {
             "colorbar": {
              "outlinewidth": 0,
              "ticks": ""
             }
            },
            "type": "scatter3d"
           }
          ],
          "scattercarpet": [
           {
            "marker": {
             "colorbar": {
              "outlinewidth": 0,
              "ticks": ""
             }
            },
            "type": "scattercarpet"
           }
          ],
          "scattergeo": [
           {
            "marker": {
             "colorbar": {
              "outlinewidth": 0,
              "ticks": ""
             }
            },
            "type": "scattergeo"
           }
          ],
          "scattergl": [
           {
            "marker": {
             "colorbar": {
              "outlinewidth": 0,
              "ticks": ""
             }
            },
            "type": "scattergl"
           }
          ],
          "scattermapbox": [
           {
            "marker": {
             "colorbar": {
              "outlinewidth": 0,
              "ticks": ""
             }
            },
            "type": "scattermapbox"
           }
          ],
          "scatterpolar": [
           {
            "marker": {
             "colorbar": {
              "outlinewidth": 0,
              "ticks": ""
             }
            },
            "type": "scatterpolar"
           }
          ],
          "scatterpolargl": [
           {
            "marker": {
             "colorbar": {
              "outlinewidth": 0,
              "ticks": ""
             }
            },
            "type": "scatterpolargl"
           }
          ],
          "scatterternary": [
           {
            "marker": {
             "colorbar": {
              "outlinewidth": 0,
              "ticks": ""
             }
            },
            "type": "scatterternary"
           }
          ],
          "surface": [
           {
            "colorbar": {
             "outlinewidth": 0,
             "ticks": ""
            },
            "colorscale": [
             [
              0,
              "#0d0887"
             ],
             [
              0.1111111111111111,
              "#46039f"
             ],
             [
              0.2222222222222222,
              "#7201a8"
             ],
             [
              0.3333333333333333,
              "#9c179e"
             ],
             [
              0.4444444444444444,
              "#bd3786"
             ],
             [
              0.5555555555555556,
              "#d8576b"
             ],
             [
              0.6666666666666666,
              "#ed7953"
             ],
             [
              0.7777777777777778,
              "#fb9f3a"
             ],
             [
              0.8888888888888888,
              "#fdca26"
             ],
             [
              1,
              "#f0f921"
             ]
            ],
            "type": "surface"
           }
          ],
          "table": [
           {
            "cells": {
             "fill": {
              "color": "#EBF0F8"
             },
             "line": {
              "color": "white"
             }
            },
            "header": {
             "fill": {
              "color": "#C8D4E3"
             },
             "line": {
              "color": "white"
             }
            },
            "type": "table"
           }
          ]
         },
         "layout": {
          "annotationdefaults": {
           "arrowcolor": "#2a3f5f",
           "arrowhead": 0,
           "arrowwidth": 1
          },
          "autotypenumbers": "strict",
          "coloraxis": {
           "colorbar": {
            "outlinewidth": 0,
            "ticks": ""
           }
          },
          "colorscale": {
           "diverging": [
            [
             0,
             "#8e0152"
            ],
            [
             0.1,
             "#c51b7d"
            ],
            [
             0.2,
             "#de77ae"
            ],
            [
             0.3,
             "#f1b6da"
            ],
            [
             0.4,
             "#fde0ef"
            ],
            [
             0.5,
             "#f7f7f7"
            ],
            [
             0.6,
             "#e6f5d0"
            ],
            [
             0.7,
             "#b8e186"
            ],
            [
             0.8,
             "#7fbc41"
            ],
            [
             0.9,
             "#4d9221"
            ],
            [
             1,
             "#276419"
            ]
           ],
           "sequential": [
            [
             0,
             "#0d0887"
            ],
            [
             0.1111111111111111,
             "#46039f"
            ],
            [
             0.2222222222222222,
             "#7201a8"
            ],
            [
             0.3333333333333333,
             "#9c179e"
            ],
            [
             0.4444444444444444,
             "#bd3786"
            ],
            [
             0.5555555555555556,
             "#d8576b"
            ],
            [
             0.6666666666666666,
             "#ed7953"
            ],
            [
             0.7777777777777778,
             "#fb9f3a"
            ],
            [
             0.8888888888888888,
             "#fdca26"
            ],
            [
             1,
             "#f0f921"
            ]
           ],
           "sequentialminus": [
            [
             0,
             "#0d0887"
            ],
            [
             0.1111111111111111,
             "#46039f"
            ],
            [
             0.2222222222222222,
             "#7201a8"
            ],
            [
             0.3333333333333333,
             "#9c179e"
            ],
            [
             0.4444444444444444,
             "#bd3786"
            ],
            [
             0.5555555555555556,
             "#d8576b"
            ],
            [
             0.6666666666666666,
             "#ed7953"
            ],
            [
             0.7777777777777778,
             "#fb9f3a"
            ],
            [
             0.8888888888888888,
             "#fdca26"
            ],
            [
             1,
             "#f0f921"
            ]
           ]
          },
          "colorway": [
           "#636efa",
           "#EF553B",
           "#00cc96",
           "#ab63fa",
           "#FFA15A",
           "#19d3f3",
           "#FF6692",
           "#B6E880",
           "#FF97FF",
           "#FECB52"
          ],
          "font": {
           "color": "#2a3f5f"
          },
          "geo": {
           "bgcolor": "white",
           "lakecolor": "white",
           "landcolor": "#E5ECF6",
           "showlakes": true,
           "showland": true,
           "subunitcolor": "white"
          },
          "hoverlabel": {
           "align": "left"
          },
          "hovermode": "closest",
          "mapbox": {
           "style": "light"
          },
          "paper_bgcolor": "white",
          "plot_bgcolor": "#E5ECF6",
          "polar": {
           "angularaxis": {
            "gridcolor": "white",
            "linecolor": "white",
            "ticks": ""
           },
           "bgcolor": "#E5ECF6",
           "radialaxis": {
            "gridcolor": "white",
            "linecolor": "white",
            "ticks": ""
           }
          },
          "scene": {
           "xaxis": {
            "backgroundcolor": "#E5ECF6",
            "gridcolor": "white",
            "gridwidth": 2,
            "linecolor": "white",
            "showbackground": true,
            "ticks": "",
            "zerolinecolor": "white"
           },
           "yaxis": {
            "backgroundcolor": "#E5ECF6",
            "gridcolor": "white",
            "gridwidth": 2,
            "linecolor": "white",
            "showbackground": true,
            "ticks": "",
            "zerolinecolor": "white"
           },
           "zaxis": {
            "backgroundcolor": "#E5ECF6",
            "gridcolor": "white",
            "gridwidth": 2,
            "linecolor": "white",
            "showbackground": true,
            "ticks": "",
            "zerolinecolor": "white"
           }
          },
          "shapedefaults": {
           "line": {
            "color": "#2a3f5f"
           }
          },
          "ternary": {
           "aaxis": {
            "gridcolor": "white",
            "linecolor": "white",
            "ticks": ""
           },
           "baxis": {
            "gridcolor": "white",
            "linecolor": "white",
            "ticks": ""
           },
           "bgcolor": "#E5ECF6",
           "caxis": {
            "gridcolor": "white",
            "linecolor": "white",
            "ticks": ""
           }
          },
          "title": {
           "x": 0.05
          },
          "xaxis": {
           "automargin": true,
           "gridcolor": "white",
           "linecolor": "white",
           "ticks": "",
           "title": {
            "standoff": 15
           },
           "zerolinecolor": "white",
           "zerolinewidth": 2
          },
          "yaxis": {
           "automargin": true,
           "gridcolor": "white",
           "linecolor": "white",
           "ticks": "",
           "title": {
            "standoff": 15
           },
           "zerolinecolor": "white",
           "zerolinewidth": 2
          }
         }
        },
        "title": {
         "text": "Cumulative Deaths vs Cumulative Cases"
        },
        "xaxis": {
         "anchor": "y",
         "domain": [
          0,
          1
         ],
         "title": {
          "text": "Cumulative Cases"
         }
        },
        "yaxis": {
         "anchor": "x",
         "domain": [
          0,
          1
         ],
         "title": {
          "text": "Cumulative Deaths"
         }
        }
       }
      },
      "text/html": [
       "<div>                            <div id=\"9de5868d-a67c-4a38-8950-43f391acbf29\" class=\"plotly-graph-div\" style=\"height:525px; width:100%;\"></div>            <script type=\"text/javascript\">                require([\"plotly\"], function(Plotly) {                    window.PLOTLYENV=window.PLOTLYENV || {};                                    if (document.getElementById(\"9de5868d-a67c-4a38-8950-43f391acbf29\")) {                    Plotly.newPlot(                        \"9de5868d-a67c-4a38-8950-43f391acbf29\",                        [{\"hovertemplate\":\"Country=Kenya\\u003cbr\\u003eCumulative Cases=%{x}\\u003cbr\\u003eCumulative Deaths=%{y}\\u003cextra\\u003e\\u003c\\u002fextra\\u003e\",\"legendgroup\":\"Kenya\",\"line\":{\"color\":\"#636efa\",\"dash\":\"solid\"},\"marker\":{\"symbol\":\"circle\"},\"mode\":\"lines\",\"name\":\"Kenya\",\"orientation\":\"v\",\"showlegend\":true,\"x\":[0,0,0,0,0,0,0,0,0,0,1,7,38,126,191,262,343,435,649,830,1192,1888,2600,3457,4478,5811,7577,9726,12750,16643,21363,25837,29849,32118,33794,35020,35963,36829,37871,39184,41158,44196,48790,55192,61769,69273,76404,82605,87984,91526,94151,95843,96678,98184,99082,99898,100675,101690,102792,103993,105648,108362,112805,120163,129330,138077,145184,151287,156318,160053,163238,165379,168108,170485,172325,175176,178792,182393,185591,188513,192435,196745,203213,211028,219938,228363,234589,239692,243456,246296,248392,250023,251057,251959,252628,253293,253813,254276,254688,254940,255408,256134,262335,281358,297155,310797,317324,320138,321234,322043,322436,322669,322906,323071,323171,323272,323365,323450,323531,323609,323696,323773,323868,324011,324222,324686,325442,326737,329107,331966,334249,335773,336690,337242,337599,337833,337938,338042,338153,338234,338290,338332,338389,338439,338493,338571,338749,339078,339671,340371,340975,341460,341636,341924,342107,342470,342507,342507,342599,342703,342785,342817,342849,342874,342915,342935,342942,342956,342967,342983,342992,343005,343032,343060,343074,343074,343074,343074,343312,343312,343466,343743,343786,343786,343850,343915,343918,343918,343955,343978,343985,343986,343995,343998,344011,344025,344042,344057,344072,344091,344094,344094,344094,344094,344094,344094,344094,344094,344094,344094,344094,344094,344094,344094,344094,344094,344094,344094,344094,344101,344101,344101,344101,344101,344101,344101,344101,344101,344101,344101,344101,344103,344104,344104,344105,344105,344105,344105,344106,344106,344109,344109,344109,344109],\"xaxis\":\"x\",\"y\":[0,0,0,0,0,0,0,0,0,0,0,0,4,7,7,11,13,21,30,50,50,63,83,100,121,141,159,184,225,278,364,418,472,542,572,594,619,646,689,728,760,825,896,996,1103,1249,1366,1445,1518,1586,1633,1655,1685,1704,1728,1740,1755,1776,1795,1817,1854,1874,1908,1994,2104,2206,2330,2463,2603,2744,2883,3001,3049,3141,3264,3396,3447,3574,3671,3721,3760,3849,3931,4117,4319,4467,4694,4778,4902,4980,5096,5131,5181,5215,5255,5276,5305,5316,5325,5333,5335,5346,5353,5359,5381,5437,5488,5531,5578,5607,5629,5635,5639,5640,5644,5647,5647,5648,5648,5649,5649,5649,5649,5649,5649,5651,5651,5651,5651,5651,5655,5663,5668,5670,5672,5672,5673,5673,5673,5674,5674,5675,5675,5678,5678,5678,5678,5678,5678,5678,5684,5684,5684,5684,5684,5688,5688,5688,5688,5688,5688,5688,5688,5688,5688,5688,5688,5688,5688,5688,5688,5688,5688,5688,5688,5688,5688,5688,5688,5688,5689,5689,5689,5689,5689,5689,5689,5689,5689,5689,5689,5689,5689,5689,5689,5689,5689,5689,5689,5689,5689,5689,5689,5689,5689,5689,5689,5689,5689,5689,5689,5689,5689,5689,5689,5689,5689,5689,5689,5689,5689,5689,5689,5689,5689,5689,5689,5689,5689,5689,5689,5689,5689,5689,5689,5689,5689,5689,5689,5689,5689,5689,5689,5689],\"yaxis\":\"y\",\"type\":\"scatter\"},{\"hovertemplate\":\"Country=Netherlands (Kingdom of the)\\u003cbr\\u003eCumulative Cases=%{x}\\u003cbr\\u003eCumulative Deaths=%{y}\\u003cextra\\u003e\\u003c\\u002fextra\\u003e\",\"legendgroup\":\"Netherlands (Kingdom of the)\",\"line\":{\"color\":\"#EF553B\",\"dash\":\"solid\"},\"marker\":{\"symbol\":\"circle\"},\"mode\":\"lines\",\"name\":\"Netherlands (Kingdom of the)\",\"orientation\":\"v\",\"showlegend\":true,\"x\":[0,0,0,0,0,0,0,0,19,330,1606,5381,12128,19289,27240,33911,38460,40955,42727,44054,45365,46488,47714,48819,49516,50055,50490,50992,51953,53251,55808,59669,63692,67348,70998,76317,84597,98404,117227,144275,187065,243042,310410,373195,417139,455053,491621,525229,567431,628321,706409,773198,829153,879403,918632,953961,982941,1008832,1033243,1062078,1093519,1125109,1163820,1209218,1260645,1308735,1358954,1412616,1468727,1519985,1566986,1602835,1629368,1649855,1664976,1674125,1680095,1684349,1691520,1741077,1810528,1849276,1871625,1888886,1905485,1922367,1939949,1957464,1973653,1987288,1998921,2010792,2028073,2053383,2091162,2144673,2220529,2335225,2489290,2643838,2788725,2904897,3000516,3085502,3195025,3396916,3648801,4072733,4655278,5281580,5795271,6121995,6365440,6773902,7222060,7546135,7777800,7923000,7996707,8024980,8041509,8051850,8062035,8070469,8078030,8084870,8094238,8108402,8133106,8166613,8205000,8247753,8288497,8316791,8339483,8355339,8367119,8376421,8384183,8391861,8400206,8408852,8420389,8438685,8462622,8485278,8503690,8516416,8524646,8530792,8536274,8541405,8546938,8552645,8558738,8566067,8571872,8576261,8578695,8580449,8582341,8584796,8587647,8591596,8596223,8600376,8604236,8607055,8608919,8610388,8611477,8612423,8613259,8613881,8614472,8614918,8615214,8615484,8615770,8615965,8616129,8616243,8616369,8616443,8616526,8616632,8616720,8616848,8617026,8617226,8617513,8617772,8618126,8618519,8618922,8619267,8619705,8620051,8620051,8620051,8620971,8621874,8622765,8623682,8624787,8626343,8628136,8629765,8631030,8632064,8632845,8633464,8634053,8634564,8634932,8635248,8635495,8635687,8635829,8635941,8636031,8636154,8636230,8636292,8636351,8636423,8636491,8636569,8636625,8636694,8636784,8636885,8637075,8637403,8637798,8638147,8638687,8639207,8639720,8640168,8640555,8640836,8641106,8641347],\"xaxis\":\"x\",\"y\":[0,0,0,0,0,0,0,0,0,4,40,335,1132,2317,3357,4243,4948,5374,5669,5843,5963,6054,6110,6145,6170,6182,6194,6200,6207,6214,6223,6228,6254,6281,6304,6322,6342,6379,6470,6598,6770,7039,7409,7922,8481,8939,9307,9664,9986,10384,10913,11539,12205,12847,13397,13928,14348,14754,15152,15556,15833,16073,16259,16435,16586,16736,16876,17023,17162,17302,17438,17530,17613,17663,17719,17743,17756,17764,17772,17784,17796,17823,17859,17909,17953,17987,18037,18079,18116,18159,18183,18210,18233,18282,18364,18506,18680,18882,19229,19648,20081,20495,20787,20960,21092,21177,21236,21299,21352,21424,21514,21609,21668,21738,21816,21913,22020,22102,22165,22209,22238,22272,22285,22297,22310,22321,22325,22335,22349,22365,22393,22413,22448,22480,22512,22543,22571,22596,22608,22616,22631,22644,22655,22683,22719,22769,22807,22839,22865,22889,22899,22910,22924,22940,22955,22976,22986,22986,22986,22986,22986,22986,22986,22986,22986,22986,22986,22986,22986,22986,22986,22986,22986,22986,22986,22986,22986,22986,22986,22986,22986,22986,22986,22986,22986,22986,22986,22986,22986,22986,22986,22986,22986,22986,22986,22986,22986,22986,22986,22986,22986,22986,22986,22986,22986,22986,22986,22986,22986,22986,22986,22986,22986,22986,22986,22986,22986,22986,22986,22986,22986,22986,22986,22986,22986,22986,22986,22986,22986,22986,22986,22986,22986,22986,22986,22986,22986,22986,22986,22986,22986,22986,22986,22986],\"yaxis\":\"y\",\"type\":\"scatter\"},{\"hovertemplate\":\"Country=Singapore\\u003cbr\\u003eCumulative Cases=%{x}\\u003cbr\\u003eCumulative Deaths=%{y}\\u003cextra\\u003e\\u003c\\u002fextra\\u003e\",\"legendgroup\":\"Singapore\",\"line\":{\"color\":\"#00cc96\",\"dash\":\"solid\"},\"marker\":{\"symbol\":\"circle\"},\"mode\":\"lines\",\"name\":\"Singapore\",\"orientation\":\"v\",\"showlegend\":true,\"x\":[0,0,0,4,18,40,72,89,102,138,212,432,802,1189,2299,5992,12693,17548,22460,27356,31068,34366,37527,40197,41833,43246,44664,45782,47655,49888,52512,54929,55661,56266,56717,56982,57357,57558,57685,57800,57866,57904,57965,58015,58054,58116,58148,58205,58255,58313,58403,58519,58697,58907,59113,59308,59536,59699,59800,59869,59936,60033,60105,60196,60300,60478,60653,60831,61006,61218,61359,61585,61824,62028,62196,62276,62414,62544,62617,62692,63073,64179,65102,65764,66172,66478,67304,68660,71687,77804,87892,103843,126966,148178,172644,198374,218333,237203,252188,262383,269211,273362,275910,277764,280290,285647,291849,313772,348330,397823,469495,582638,710880,832821,939436,1015017,1072005,1109744,1138001,1160300,1182168,1199640,1217922,1242884,1269635,1295920,1318984,1341256,1367761,1408358,1461107,1523881,1589099,1652981,1708950,1754777,1791046,1814917,1831332,1844785,1858497,1873290,1889544,1911417,1948402,2005884,2059709,2096520,2121435,2137876,2148794,2162594,2171389,2179755,2188409,2193890,2202214,2207670,2211546,2214064,2215889,2218881,2221762,2222006,2225855,2230326,2234752,2245104,2255568,2270035,2298445,2314463,2340535,2368353,2391770,2414394,2438690,2459457,2474308,2482839,2493271,2499988,2511724,2516026,2524570,2530202,2534940,2539891,2543376,2548327,2555372,2562022,2566317,2573565,2579966,2594809,2610145,2626395,2641196,2658319,2674381,2690776,2706217,2716943,2739037,2771072,2827115,2885415,2924515,2945715,2965515,2977715,2988415,2994295,2998665,3001665,3003705,3006155,3006155,3006155,3006155,3006155,3006155,3006155,3006155,3006155,3006155,3006155,3006155,3006155,3006155,3006155,3006155,3006155,3006155,3006155,3006155,3006155,3006155,3006155,3006155,3006155,3006155,3006155],\"xaxis\":\"x\",\"y\":[0,0,0,0,0,0,0,0,0,0,0,2,2,5,8,11,12,17,20,22,23,23,25,26,26,26,26,26,27,27,27,27,27,27,27,27,27,27,27,27,27,28,28,28,28,28,28,29,29,29,29,29,29,29,29,29,29,29,29,29,29,29,29,29,29,29,29,29,29,31,31,31,32,33,33,34,34,36,36,36,36,37,37,42,44,49,55,55,58,60,78,113,162,233,315,407,497,586,662,701,759,794,813,822,829,838,843,848,854,871,897,945,1007,1078,1145,1198,1246,1274,1294,1316,1325,1336,1352,1363,1375,1383,1393,1398,1405,1409,1419,1432,1457,1483,1520,1541,1560,1584,1591,1596,1602,1608,1615,1622,1632,1646,1663,1680,1690,1697,1700,1702,1706,1707,1710,1711,1711,1712,1712,1712,1712,1722,1722,1722,1722,1722,1722,1722,1722,1722,1734,1734,1734,1734,1788,1788,1788,1788,1841,1841,1845,1872,1872,1872,1872,1872,1872,1872,1879,1879,1879,1879,1889,1889,1889,1889,1906,1906,1906,1906,1906,1933,1933,1933,1933,1954,1954,1954,1954,2024,2024,2024,2024,2024,2024,2024,2024,2024,2024,2024,2024,2024,2024,2024,2024,2024,2024,2024,2024,2024,2024,2024,2024,2024,2024,2024,2024,2024,2024,2024,2024,2024,2024,2024],\"yaxis\":\"y\",\"type\":\"scatter\"}],                        {\"template\":{\"data\":{\"histogram2dcontour\":[{\"type\":\"histogram2dcontour\",\"colorbar\":{\"outlinewidth\":0,\"ticks\":\"\"},\"colorscale\":[[0.0,\"#0d0887\"],[0.1111111111111111,\"#46039f\"],[0.2222222222222222,\"#7201a8\"],[0.3333333333333333,\"#9c179e\"],[0.4444444444444444,\"#bd3786\"],[0.5555555555555556,\"#d8576b\"],[0.6666666666666666,\"#ed7953\"],[0.7777777777777778,\"#fb9f3a\"],[0.8888888888888888,\"#fdca26\"],[1.0,\"#f0f921\"]]}],\"choropleth\":[{\"type\":\"choropleth\",\"colorbar\":{\"outlinewidth\":0,\"ticks\":\"\"}}],\"histogram2d\":[{\"type\":\"histogram2d\",\"colorbar\":{\"outlinewidth\":0,\"ticks\":\"\"},\"colorscale\":[[0.0,\"#0d0887\"],[0.1111111111111111,\"#46039f\"],[0.2222222222222222,\"#7201a8\"],[0.3333333333333333,\"#9c179e\"],[0.4444444444444444,\"#bd3786\"],[0.5555555555555556,\"#d8576b\"],[0.6666666666666666,\"#ed7953\"],[0.7777777777777778,\"#fb9f3a\"],[0.8888888888888888,\"#fdca26\"],[1.0,\"#f0f921\"]]}],\"heatmap\":[{\"type\":\"heatmap\",\"colorbar\":{\"outlinewidth\":0,\"ticks\":\"\"},\"colorscale\":[[0.0,\"#0d0887\"],[0.1111111111111111,\"#46039f\"],[0.2222222222222222,\"#7201a8\"],[0.3333333333333333,\"#9c179e\"],[0.4444444444444444,\"#bd3786\"],[0.5555555555555556,\"#d8576b\"],[0.6666666666666666,\"#ed7953\"],[0.7777777777777778,\"#fb9f3a\"],[0.8888888888888888,\"#fdca26\"],[1.0,\"#f0f921\"]]}],\"heatmapgl\":[{\"type\":\"heatmapgl\",\"colorbar\":{\"outlinewidth\":0,\"ticks\":\"\"},\"colorscale\":[[0.0,\"#0d0887\"],[0.1111111111111111,\"#46039f\"],[0.2222222222222222,\"#7201a8\"],[0.3333333333333333,\"#9c179e\"],[0.4444444444444444,\"#bd3786\"],[0.5555555555555556,\"#d8576b\"],[0.6666666666666666,\"#ed7953\"],[0.7777777777777778,\"#fb9f3a\"],[0.8888888888888888,\"#fdca26\"],[1.0,\"#f0f921\"]]}],\"contourcarpet\":[{\"type\":\"contourcarpet\",\"colorbar\":{\"outlinewidth\":0,\"ticks\":\"\"}}],\"contour\":[{\"type\":\"contour\",\"colorbar\":{\"outlinewidth\":0,\"ticks\":\"\"},\"colorscale\":[[0.0,\"#0d0887\"],[0.1111111111111111,\"#46039f\"],[0.2222222222222222,\"#7201a8\"],[0.3333333333333333,\"#9c179e\"],[0.4444444444444444,\"#bd3786\"],[0.5555555555555556,\"#d8576b\"],[0.6666666666666666,\"#ed7953\"],[0.7777777777777778,\"#fb9f3a\"],[0.8888888888888888,\"#fdca26\"],[1.0,\"#f0f921\"]]}],\"surface\":[{\"type\":\"surface\",\"colorbar\":{\"outlinewidth\":0,\"ticks\":\"\"},\"colorscale\":[[0.0,\"#0d0887\"],[0.1111111111111111,\"#46039f\"],[0.2222222222222222,\"#7201a8\"],[0.3333333333333333,\"#9c179e\"],[0.4444444444444444,\"#bd3786\"],[0.5555555555555556,\"#d8576b\"],[0.6666666666666666,\"#ed7953\"],[0.7777777777777778,\"#fb9f3a\"],[0.8888888888888888,\"#fdca26\"],[1.0,\"#f0f921\"]]}],\"mesh3d\":[{\"type\":\"mesh3d\",\"colorbar\":{\"outlinewidth\":0,\"ticks\":\"\"}}],\"scatter\":[{\"fillpattern\":{\"fillmode\":\"overlay\",\"size\":10,\"solidity\":0.2},\"type\":\"scatter\"}],\"parcoords\":[{\"type\":\"parcoords\",\"line\":{\"colorbar\":{\"outlinewidth\":0,\"ticks\":\"\"}}}],\"scatterpolargl\":[{\"type\":\"scatterpolargl\",\"marker\":{\"colorbar\":{\"outlinewidth\":0,\"ticks\":\"\"}}}],\"bar\":[{\"error_x\":{\"color\":\"#2a3f5f\"},\"error_y\":{\"color\":\"#2a3f5f\"},\"marker\":{\"line\":{\"color\":\"#E5ECF6\",\"width\":0.5},\"pattern\":{\"fillmode\":\"overlay\",\"size\":10,\"solidity\":0.2}},\"type\":\"bar\"}],\"scattergeo\":[{\"type\":\"scattergeo\",\"marker\":{\"colorbar\":{\"outlinewidth\":0,\"ticks\":\"\"}}}],\"scatterpolar\":[{\"type\":\"scatterpolar\",\"marker\":{\"colorbar\":{\"outlinewidth\":0,\"ticks\":\"\"}}}],\"histogram\":[{\"marker\":{\"pattern\":{\"fillmode\":\"overlay\",\"size\":10,\"solidity\":0.2}},\"type\":\"histogram\"}],\"scattergl\":[{\"type\":\"scattergl\",\"marker\":{\"colorbar\":{\"outlinewidth\":0,\"ticks\":\"\"}}}],\"scatter3d\":[{\"type\":\"scatter3d\",\"line\":{\"colorbar\":{\"outlinewidth\":0,\"ticks\":\"\"}},\"marker\":{\"colorbar\":{\"outlinewidth\":0,\"ticks\":\"\"}}}],\"scattermapbox\":[{\"type\":\"scattermapbox\",\"marker\":{\"colorbar\":{\"outlinewidth\":0,\"ticks\":\"\"}}}],\"scatterternary\":[{\"type\":\"scatterternary\",\"marker\":{\"colorbar\":{\"outlinewidth\":0,\"ticks\":\"\"}}}],\"scattercarpet\":[{\"type\":\"scattercarpet\",\"marker\":{\"colorbar\":{\"outlinewidth\":0,\"ticks\":\"\"}}}],\"carpet\":[{\"aaxis\":{\"endlinecolor\":\"#2a3f5f\",\"gridcolor\":\"white\",\"linecolor\":\"white\",\"minorgridcolor\":\"white\",\"startlinecolor\":\"#2a3f5f\"},\"baxis\":{\"endlinecolor\":\"#2a3f5f\",\"gridcolor\":\"white\",\"linecolor\":\"white\",\"minorgridcolor\":\"white\",\"startlinecolor\":\"#2a3f5f\"},\"type\":\"carpet\"}],\"table\":[{\"cells\":{\"fill\":{\"color\":\"#EBF0F8\"},\"line\":{\"color\":\"white\"}},\"header\":{\"fill\":{\"color\":\"#C8D4E3\"},\"line\":{\"color\":\"white\"}},\"type\":\"table\"}],\"barpolar\":[{\"marker\":{\"line\":{\"color\":\"#E5ECF6\",\"width\":0.5},\"pattern\":{\"fillmode\":\"overlay\",\"size\":10,\"solidity\":0.2}},\"type\":\"barpolar\"}],\"pie\":[{\"automargin\":true,\"type\":\"pie\"}]},\"layout\":{\"autotypenumbers\":\"strict\",\"colorway\":[\"#636efa\",\"#EF553B\",\"#00cc96\",\"#ab63fa\",\"#FFA15A\",\"#19d3f3\",\"#FF6692\",\"#B6E880\",\"#FF97FF\",\"#FECB52\"],\"font\":{\"color\":\"#2a3f5f\"},\"hovermode\":\"closest\",\"hoverlabel\":{\"align\":\"left\"},\"paper_bgcolor\":\"white\",\"plot_bgcolor\":\"#E5ECF6\",\"polar\":{\"bgcolor\":\"#E5ECF6\",\"angularaxis\":{\"gridcolor\":\"white\",\"linecolor\":\"white\",\"ticks\":\"\"},\"radialaxis\":{\"gridcolor\":\"white\",\"linecolor\":\"white\",\"ticks\":\"\"}},\"ternary\":{\"bgcolor\":\"#E5ECF6\",\"aaxis\":{\"gridcolor\":\"white\",\"linecolor\":\"white\",\"ticks\":\"\"},\"baxis\":{\"gridcolor\":\"white\",\"linecolor\":\"white\",\"ticks\":\"\"},\"caxis\":{\"gridcolor\":\"white\",\"linecolor\":\"white\",\"ticks\":\"\"}},\"coloraxis\":{\"colorbar\":{\"outlinewidth\":0,\"ticks\":\"\"}},\"colorscale\":{\"sequential\":[[0.0,\"#0d0887\"],[0.1111111111111111,\"#46039f\"],[0.2222222222222222,\"#7201a8\"],[0.3333333333333333,\"#9c179e\"],[0.4444444444444444,\"#bd3786\"],[0.5555555555555556,\"#d8576b\"],[0.6666666666666666,\"#ed7953\"],[0.7777777777777778,\"#fb9f3a\"],[0.8888888888888888,\"#fdca26\"],[1.0,\"#f0f921\"]],\"sequentialminus\":[[0.0,\"#0d0887\"],[0.1111111111111111,\"#46039f\"],[0.2222222222222222,\"#7201a8\"],[0.3333333333333333,\"#9c179e\"],[0.4444444444444444,\"#bd3786\"],[0.5555555555555556,\"#d8576b\"],[0.6666666666666666,\"#ed7953\"],[0.7777777777777778,\"#fb9f3a\"],[0.8888888888888888,\"#fdca26\"],[1.0,\"#f0f921\"]],\"diverging\":[[0,\"#8e0152\"],[0.1,\"#c51b7d\"],[0.2,\"#de77ae\"],[0.3,\"#f1b6da\"],[0.4,\"#fde0ef\"],[0.5,\"#f7f7f7\"],[0.6,\"#e6f5d0\"],[0.7,\"#b8e186\"],[0.8,\"#7fbc41\"],[0.9,\"#4d9221\"],[1,\"#276419\"]]},\"xaxis\":{\"gridcolor\":\"white\",\"linecolor\":\"white\",\"ticks\":\"\",\"title\":{\"standoff\":15},\"zerolinecolor\":\"white\",\"automargin\":true,\"zerolinewidth\":2},\"yaxis\":{\"gridcolor\":\"white\",\"linecolor\":\"white\",\"ticks\":\"\",\"title\":{\"standoff\":15},\"zerolinecolor\":\"white\",\"automargin\":true,\"zerolinewidth\":2},\"scene\":{\"xaxis\":{\"backgroundcolor\":\"#E5ECF6\",\"gridcolor\":\"white\",\"linecolor\":\"white\",\"showbackground\":true,\"ticks\":\"\",\"zerolinecolor\":\"white\",\"gridwidth\":2},\"yaxis\":{\"backgroundcolor\":\"#E5ECF6\",\"gridcolor\":\"white\",\"linecolor\":\"white\",\"showbackground\":true,\"ticks\":\"\",\"zerolinecolor\":\"white\",\"gridwidth\":2},\"zaxis\":{\"backgroundcolor\":\"#E5ECF6\",\"gridcolor\":\"white\",\"linecolor\":\"white\",\"showbackground\":true,\"ticks\":\"\",\"zerolinecolor\":\"white\",\"gridwidth\":2}},\"shapedefaults\":{\"line\":{\"color\":\"#2a3f5f\"}},\"annotationdefaults\":{\"arrowcolor\":\"#2a3f5f\",\"arrowhead\":0,\"arrowwidth\":1},\"geo\":{\"bgcolor\":\"white\",\"landcolor\":\"#E5ECF6\",\"subunitcolor\":\"white\",\"showland\":true,\"showlakes\":true,\"lakecolor\":\"white\"},\"title\":{\"x\":0.05},\"mapbox\":{\"style\":\"light\"}}},\"xaxis\":{\"anchor\":\"y\",\"domain\":[0.0,1.0],\"title\":{\"text\":\"Cumulative Cases\"}},\"yaxis\":{\"anchor\":\"x\",\"domain\":[0.0,1.0],\"title\":{\"text\":\"Cumulative Deaths\"}},\"legend\":{\"title\":{\"text\":\"Country\"},\"tracegroupgap\":0},\"title\":{\"text\":\"Cumulative Deaths vs Cumulative Cases\"}},                        {\"responsive\": true}                    ).then(function(){\n",
       "                            \n",
       "var gd = document.getElementById('9de5868d-a67c-4a38-8950-43f391acbf29');\n",
       "var x = new MutationObserver(function (mutations, observer) {{\n",
       "        var display = window.getComputedStyle(gd).display;\n",
       "        if (!display || display === 'none') {{\n",
       "            console.log([gd, 'removed!']);\n",
       "            Plotly.purge(gd);\n",
       "            observer.disconnect();\n",
       "        }}\n",
       "}});\n",
       "\n",
       "// Listen for the removal of the full notebook cells\n",
       "var notebookContainer = gd.closest('#notebook-container');\n",
       "if (notebookContainer) {{\n",
       "    x.observe(notebookContainer, {childList: true});\n",
       "}}\n",
       "\n",
       "// Listen for the clearing of the current output cell\n",
       "var outputEl = gd.closest('.output');\n",
       "if (outputEl) {{\n",
       "    x.observe(outputEl, {childList: true});\n",
       "}}\n",
       "\n",
       "                        })                };                });            </script>        </div>"
      ]
     },
     "metadata": {},
     "output_type": "display_data"
    }
   ],
   "source": [
    "!pip install plotly\n",
    "import pandas as pd\n",
    "import plotly.express as px\n",
    "\n",
    "df = pd.read_csv(\"./WHO_COVID19_cases.csv\")\n",
    "countries = ['Kenya', 'Netherlands (Kingdom of the)', 'Singapore']  # Ensure these names match those in your dataset\n",
    "\n",
    "filtered_df = df[df['Country'].isin(countries)].copy()\n",
    "print(filtered_df[['Country', 'Cumulative_cases', 'Cumulative_deaths']].head())\n",
    "\n",
    "# Create a line plot using Plotly\n",
    "fig = px.line(\n",
    "    filtered_df,\n",
    "    x='Cumulative_cases',\n",
    "    y='Cumulative_deaths',\n",
    "    color='Country',\n",
    "    title='Cumulative Deaths vs Cumulative Cases',\n",
    "    labels={\n",
    "        'Cumulative_cases': 'Cumulative Cases',\n",
    "        'Cumulative_deaths': 'Cumulative Deaths'\n",
    "    }\n",
    ")\n",
    "\n",
    "fig.show()\n"
   ]
  },
  {
   "cell_type": "code",
   "execution_count": null,
   "id": "679395d8-d2c8-486b-9816-79eff57c5da4",
   "metadata": {},
   "outputs": [],
   "source": []
  },
  {
   "cell_type": "code",
   "execution_count": null,
   "id": "153fa426-d547-4280-8b89-ec838bb1510d",
   "metadata": {},
   "outputs": [],
   "source": []
  }
 ],
 "metadata": {
  "kernelspec": {
   "display_name": "Python 3 (ipykernel)",
   "language": "python",
   "name": "python3"
  },
  "language_info": {
   "codemirror_mode": {
    "name": "ipython",
    "version": 3
   },
   "file_extension": ".py",
   "mimetype": "text/x-python",
   "name": "python",
   "nbconvert_exporter": "python",
   "pygments_lexer": "ipython3",
   "version": "3.12.4"
  }
 },
 "nbformat": 4,
 "nbformat_minor": 5
}

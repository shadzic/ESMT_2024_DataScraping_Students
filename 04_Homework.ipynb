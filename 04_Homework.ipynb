{
 "cells": [
  {
   "cell_type": "markdown",
   "id": "9fdbabd1-a139-42cd-86eb-3911f2363ea6",
   "metadata": {},
   "source": [
    "# 04 Homework\n",
    "© Copyright: 2024, Selma Hadzic, all rights reserved."
   ]
  },
  {
   "cell_type": "markdown",
   "id": "120d9520-a37c-4240-8c50-34e92d9d85f7",
   "metadata": {},
   "source": [
    "#### Number of points: 15 (weights 15% in the final grade)\n",
    "\n",
    "\n",
    "1. Pull from the `ESMT_2024_DataScraping_Lectures` repository: you should get this `04_Homework` file\n",
    "2. Launch VS Code and open your working-folder\n",
    "3. Create a `Session_04` folder, in which you create another folder called `data`\n",
    "4. Copy paste the notebook `04_Homework` from the lectures repo to the working-folder. Copy the csv file `WHO_COVID19_cases.csv` into the `working-folder/Session_04/data` directory.\n",
    "5. Do the exercises on 04_Homework in your working-folder\n",
    "6. Once you are finished, copy-Paste the notebook into `ESMT_2024_DataScraping_Students` folder in your computer\n",
    "8. Commit and push your homework in your branch before the deadline\n",
    "\n",
    "#### Deadline: October 24th 01:29 pm CET\n",
    "\n",
    "#### Any missed deadline without justification to the Administration will result in 0 points for this homework.\n",
    "#### If the Github branch is not correctly named using the indicated format **LASTNAME_firstname**, then a penalty of -2 points will be applied"
   ]
  },
  {
   "cell_type": "markdown",
   "id": "099d2883-1487-4402-9d9f-f4009bf1d844",
   "metadata": {},
   "source": [
    "## Dataset: use the WHO_COVID19_cases.csv dataset from Session_01"
   ]
  },
  {
   "cell_type": "markdown",
   "id": "180e5436-4077-44a0-be08-135e124f73d3",
   "metadata": {},
   "source": [
    "## 1- Filter the data for 3 countries and draw a line plot for Cumulative_cases vs Date_reported using seaborn (7.5 points)\n",
    "\n",
    "*Tip: you may want to explore `plt.xticks(rotation=90);` and `plt.gca().xaxis.set_major_locator(ticker.MultipleLocator(6)) ;` to unclutter the dates on the x-axis*"
   ]
  },
  {
   "cell_type": "code",
   "execution_count": 1,
   "id": "0cdc9b82-5b98-48d8-82d9-4b03be250757",
   "metadata": {},
   "outputs": [],
   "source": [
    "import pandas as pd\n",
    "import matplotlib.pyplot as plt\n",
    "import seaborn as sns\n",
    "import matplotlib.ticker as ticker"
   ]
  },
  {
   "cell_type": "code",
   "execution_count": 13,
   "id": "5c5c3d2f-f7e9-4fc1-912d-c3f41900cfdb",
   "metadata": {},
   "outputs": [
    {
     "name": "stdout",
     "output_type": "stream",
     "text": [
      "   Date_reported Country_code      Country Continent WHO_region  New_cases  \\\n",
      "0     2020-01-05           AF  Afghanistan      Asia       EMRO        NaN   \n",
      "1     2020-01-12           AF  Afghanistan      Asia       EMRO        NaN   \n",
      "2     2020-01-19           AF  Afghanistan      Asia       EMRO        NaN   \n",
      "3     2020-01-26           AF  Afghanistan      Asia       EMRO        NaN   \n",
      "4     2020-02-02           AF  Afghanistan      Asia       EMRO        NaN   \n",
      "5     2020-02-09           AF  Afghanistan      Asia       EMRO        NaN   \n",
      "6     2020-02-16           AF  Afghanistan      Asia       EMRO        NaN   \n",
      "7     2020-02-23           AF  Afghanistan      Asia       EMRO        NaN   \n",
      "8     2020-03-01           AF  Afghanistan      Asia       EMRO        1.0   \n",
      "9     2020-03-08           AF  Afghanistan      Asia       EMRO        NaN   \n",
      "10    2020-03-15           AF  Afghanistan      Asia       EMRO        6.0   \n",
      "11    2020-03-22           AF  Afghanistan      Asia       EMRO       17.0   \n",
      "12    2020-03-29           AF  Afghanistan      Asia       EMRO       67.0   \n",
      "13    2020-04-05           AF  Afghanistan      Asia       EMRO      183.0   \n",
      "14    2020-04-12           AF  Afghanistan      Asia       EMRO      247.0   \n",
      "15    2020-04-19           AF  Afghanistan      Asia       EMRO      387.0   \n",
      "16    2020-04-26           AF  Afghanistan      Asia       EMRO      422.0   \n",
      "17    2020-05-03           AF  Afghanistan      Asia       EMRO      841.0   \n",
      "18    2020-05-10           AF  Afghanistan      Asia       EMRO     1392.0   \n",
      "19    2020-05-17           AF  Afghanistan      Asia       EMRO     2490.0   \n",
      "20    2020-05-24           AF  Afghanistan      Asia       EMRO     3813.0   \n",
      "21    2020-05-31           AF  Afghanistan      Asia       EMRO     4577.0   \n",
      "22    2020-06-07           AF  Afghanistan      Asia       EMRO     5108.0   \n",
      "23    2020-06-14           AF  Afghanistan      Asia       EMRO     4551.0   \n",
      "24    2020-06-21           AF  Afghanistan      Asia       EMRO     4195.0   \n",
      "25    2020-06-28           AF  Afghanistan      Asia       EMRO     2319.0   \n",
      "26    2020-07-05           AF  Afghanistan      Asia       EMRO     2056.0   \n",
      "27    2020-07-12           AF  Afghanistan      Asia       EMRO     1679.0   \n",
      "28    2020-07-19           AF  Afghanistan      Asia       EMRO      938.0   \n",
      "29    2020-07-26           AF  Afghanistan      Asia       EMRO      747.0   \n",
      "\n",
      "    Cumulative_cases  New_deaths  Cumulative_deaths  \n",
      "0                  0         NaN                  0  \n",
      "1                  0         NaN                  0  \n",
      "2                  0         NaN                  0  \n",
      "3                  0         NaN                  0  \n",
      "4                  0         NaN                  0  \n",
      "5                  0         NaN                  0  \n",
      "6                  0         NaN                  0  \n",
      "7                  0         NaN                  0  \n",
      "8                  1         NaN                  0  \n",
      "9                  1         NaN                  0  \n",
      "10                 7         NaN                  0  \n",
      "11                24         NaN                  0  \n",
      "12                91         2.0                  2  \n",
      "13               274         3.0                  5  \n",
      "14               521        10.0                 15  \n",
      "15               908        15.0                 30  \n",
      "16              1330        13.0                 43  \n",
      "17              2171        21.0                 64  \n",
      "18              3563        41.0                105  \n",
      "19              6053        48.0                153  \n",
      "20              9866        58.0                211  \n",
      "21             14443        37.0                248  \n",
      "22             19551        79.0                327  \n",
      "23             24102       124.0                451  \n",
      "24             28297        97.0                548  \n",
      "25             30616       155.0                703  \n",
      "26             32672       123.0                826  \n",
      "27             34351       149.0                975  \n",
      "28             35289       172.0               1147  \n",
      "29             36036        99.0               1246  \n",
      "['Afghanistan' 'Albania' 'Algeria' 'American Samoa' 'Andorra' 'Angola'\n",
      " 'Anguilla' 'Antigua and Barbuda' 'Argentina' 'Armenia' 'Aruba'\n",
      " 'Australia' 'Austria' 'Azerbaijan' 'Bahamas' 'Bahrain' 'Bangladesh'\n",
      " 'Barbados' 'Belarus' 'Belgium' 'Belize' 'Benin' 'Bermuda' 'Bhutan'\n",
      " 'Bolivia (Plurinational State of)' 'Bonaire, Saint Eustatius and Saba'\n",
      " 'Bosnia and Herzegovina' 'Botswana' 'Brazil' 'British Virgin Islands'\n",
      " 'Brunei Darussalam' 'Bulgaria' 'Burkina Faso' 'Burundi' 'Cabo Verde'\n",
      " 'Cambodia' 'Cameroon' 'Canada' 'Cayman Islands'\n",
      " 'Central African Republic' 'Chad' 'Chile' 'China' 'Colombia' 'Comoros'\n",
      " 'Congo' 'Cook Islands' 'Costa Rica' \"Côte d'Ivoire\" 'Croatia' 'Cuba'\n",
      " 'Curaçao' 'Cyprus' 'Czechia' \"Democratic People's Republic of Korea\"\n",
      " 'Democratic Republic of the Congo' 'Denmark' 'Djibouti' 'Dominica'\n",
      " 'Dominican Republic' 'Ecuador' 'Egypt' 'El Salvador' 'Equatorial Guinea'\n",
      " 'Eritrea' 'Estonia' 'Eswatini' 'Ethiopia' 'Falkland Islands (Malvinas)'\n",
      " 'Faroe Islands' 'Fiji' 'Finland' 'France' 'French Guiana'\n",
      " 'French Polynesia' 'Gabon' 'Gambia' 'Georgia' 'Germany' 'Ghana'\n",
      " 'Gibraltar' 'Greece' 'Greenland' 'Grenada' 'Guadeloupe' 'Guam'\n",
      " 'Guatemala' 'Guernsey' 'Guinea' 'Guinea-Bissau' 'Guyana' 'Haiti'\n",
      " 'Holy See' 'Honduras' 'Hungary' 'Iceland' 'India' 'Indonesia'\n",
      " 'International commercial vessel'\n",
      " 'International conveyance (American Samoa)'\n",
      " 'International conveyance (Diamond Princess)'\n",
      " 'International conveyance (Kiribati)'\n",
      " 'International conveyance (Solomon Islands)'\n",
      " 'International conveyance (Vanuatu)' 'Iran (Islamic Republic of)' 'Iraq'\n",
      " 'Ireland' 'Isle of Man' 'Israel' 'Italy' 'Jamaica' 'Japan' 'Jersey'\n",
      " 'Jordan' 'Kazakhstan' 'Kenya' 'Kiribati' 'Kosovo' 'Kuwait' 'Kyrgyzstan'\n",
      " \"Lao People's Democratic Republic\" 'Latvia' 'Lebanon' 'Lesotho' 'Liberia'\n",
      " 'Libya' 'Liechtenstein' 'Lithuania' 'Luxembourg' 'Madagascar' 'Malawi'\n",
      " 'Malaysia' 'Maldives' 'Mali' 'Malta' 'Marshall Islands' 'Martinique'\n",
      " 'Mauritania' 'Mauritius' 'Mayotte' 'Mexico'\n",
      " 'Micronesia (Federated States of)' 'Monaco' 'Mongolia' 'Montenegro'\n",
      " 'Montserrat' 'Morocco' 'Mozambique' 'Myanmar' 'Namibia' 'Nauru' 'Nepal'\n",
      " 'Netherlands (Kingdom of the)' 'New Caledonia' 'New Zealand' 'Nicaragua'\n",
      " 'Niger' 'Nigeria' 'Niue' 'North Macedonia' 'Northern Mariana Islands'\n",
      " 'Norway' 'occupied Palestinian territory, including east Jerusalem'\n",
      " 'Oman' 'Pakistan' 'Palau' 'Panama' 'Papua New Guinea' 'Paraguay' 'Peru'\n",
      " 'Philippines' 'Pitcairn' 'Poland' 'Portugal' 'Puerto Rico' 'Qatar'\n",
      " 'Republic of Korea' 'Republic of Moldova' 'Réunion' 'Romania'\n",
      " 'Russian Federation' 'Rwanda' 'Saint Barthélemy' 'Saint Helena'\n",
      " 'Saint Kitts and Nevis' 'Saint Lucia' 'Saint Martin (French part)'\n",
      " 'Saint Pierre and Miquelon' 'Saint Vincent and the Grenadines' 'Samoa'\n",
      " 'San Marino' 'Sao Tome and Principe' 'Saudi Arabia' 'Senegal' 'Serbia'\n",
      " 'Seychelles' 'Sierra Leone' 'Singapore' 'Sint Maarten (Dutch part)'\n",
      " 'Slovakia' 'Slovenia' 'Solomon Islands' 'Somalia' 'South Africa'\n",
      " 'South Sudan' 'Spain' 'Sri Lanka' 'Sudan' 'Suriname' 'Sweden'\n",
      " 'Switzerland' 'Syrian Arab Republic' 'Tajikistan' 'Thailand'\n",
      " 'United Kingdom of Great Britain and Northern Ireland' 'Timor-Leste'\n",
      " 'Togo' 'Tokelau' 'Tonga' 'Trinidad and Tobago' 'Tunisia' 'Türkiye'\n",
      " 'Turkmenistan' 'Turks and Caicos Islands' 'Tuvalu' 'Uganda' 'Ukraine'\n",
      " 'United Arab Emirates' 'United Republic of Tanzania'\n",
      " 'United States of America' 'United States Virgin Islands' 'Uruguay'\n",
      " 'Uzbekistan' 'Vanuatu' 'Venezuela (Bolivarian Republic of)' 'Viet Nam'\n",
      " 'Wallis and Futuna' 'Yemen' 'Zambia' 'Zimbabwe']\n"
     ]
    }
   ],
   "source": [
    "df = pd.read_csv('data/WHO_COVID19_cases.csv')\n",
    "\n",
    "print(df.head(30))\n",
    "\n",
    "print(df['Country'].unique())"
   ]
  },
  {
   "cell_type": "code",
   "execution_count": 15,
   "id": "53be5a6f-00d3-4134-9009-68d0dd42b729",
   "metadata": {},
   "outputs": [],
   "source": [
    "# Filter data for three countries\n",
    "countries = ['Romania', 'Hungary', 'Ukraine']\n",
    "df_filtered_countries = df[df['Country'].isin(countries)]"
   ]
  },
  {
   "cell_type": "code",
   "execution_count": 17,
   "id": "44470084-0480-4e1a-bd67-9f98a352df26",
   "metadata": {},
   "outputs": [
    {
     "data": {
      "image/png": "[encoded data removed]",
      "text/plain": [
       "<Figure size 720x432 with 1 Axes>"
      ]
     },
     "metadata": {
      "needs_background": "light"
     },
     "output_type": "display_data"
    }
   ],
   "source": [
    "plt.figure(figsize=(10,6))\n",
    "sns.lineplot(data=df_filtered_countries, x='Date_reported', y='Cumulative_cases', hue='Country')\n",
    "\n",
    "# Rotate the x-axis labels for better readability\n",
    "plt.xticks(rotation=90)\n",
    "\n",
    "# Adjust the frequency of ticks on the x-axis\n",
    "plt.gca().xaxis.set_major_locator(ticker.MultipleLocator(6))\n",
    "\n",
    "# Add plot labels and title\n",
    "plt.xlabel('Date Reported')\n",
    "plt.ylabel('Cumulative Cases')\n",
    "plt.title('Cumulative COVID Cases Over Time for Romania, Hungary and Ukraine')\n",
    "\n",
    "# Show plot\n",
    "plt.tight_layout()\n",
    "plt.show()"
   ]
  },
  {
   "cell_type": "markdown",
   "id": "fa8217b4-a79d-480f-b3aa-2c7c5397ab3e",
   "metadata": {},
   "source": [
    "## 2- Make a line plot showing the cumulative_deaths vs cumulative_cases for 3 countries using `plotly` (7.5 points)"
   ]
  },
  {
   "cell_type": "code",
   "execution_count": 9,
   "id": "679395d8-d2c8-486b-9816-79eff57c5da4",
   "metadata": {},
   "outputs": [],
   "source": [
    "import plotly.express as px"
   ]
  },
  {
   "cell_type": "code",
   "execution_count": 18,
   "id": "fee1d763-3047-4f72-97e8-d6fb6be73665",
   "metadata": {},
   "outputs": [
    {
     "data": {
      "application/vnd.plotly.v1+json": {
       "config": {
        "plotlyServerURL": "https://plot.ly"
       },
       "data": [
        {
         "hovertemplate": "Country=Hungary<br>Cumulative_cases=%{x}<br>Cumulative_deaths=%{y}<extra></extra>",
         "legendgroup": "Hungary",
         "line": {
          "color": "#636efa",
          "dash": "solid"
         },
         "marker": {
          "symbol": "circle"
         },
         "mode": "lines",
         "name": "Hungary",
         "orientation": "v",
         "showlegend": true,
         "type": "scatter",
         "x": [
          0,
          0,
          0,
          0,
          0,
          0,
          0,
          0,
          0,
          7,
          31,
          131,
          408,
          733,
          1410,
          1916,
          2500,
          2998,
          3263,
          3509,
          3741,
          3867,
          3970,
          4064,
          4094,
          4138,
          4183,
          4229,
          4315,
          4435,
          4526,
          4653,
          4877,
          5133,
          5669,
          7892,
          11825,
          17990,
          24014,
          30575,
          37664,
          46290,
          59247,
          79199,
          109616,
          140961,
          174618,
          211527,
          250278,
          280400,
          302989,
          316060,
          327995,
          342237,
          351828,
          359574,
          367586,
          376495,
          387462,
          403023,
          428599,
          466017,
          516490,
          571596,
          633861,
          685979,
          720164,
          750508,
          769518,
          782892,
          791709,
          798147,
          802088,
          804032,
          806008,
          806790,
          807428,
          807910,
          808197,
          808437,
          808725,
          809101,
          809491,
          809855,
          810316,
          810781,
          811706,
          813040,
          814732,
          817159,
          820078,
          823384,
          827410,
          833115,
          843825,
          863419,
          892164,
          939784,
          998488,
          1068888,
          1134869,
          1182922,
          1218295,
          1237330,
          1256415,
          1282957,
          1327014,
          1401457,
          1508358,
          1616846,
          1695991,
          1746424,
          1779174,
          1800046,
          1814362,
          1824089,
          1839358,
          1854198,
          1868007,
          1879480,
          1890953,
          1901017,
          1903200,
          1909948,
          1914697,
          1917777,
          1919840,
          1921486,
          1923122,
          1925083,
          1928125,
          1932788,
          1940824,
          1951079,
          1965481,
          1987321,
          2005399,
          2021648,
          2036390,
          2048547,
          2058847,
          2070443,
          2082750,
          2094142,
          2107907,
          2120543,
          2132490,
          2141513,
          2149008,
          2153564,
          2157995,
          2162093,
          2166352,
          2171056,
          2176249,
          2181419,
          2185816,
          2188737,
          2190333,
          2191199,
          2191826,
          2192447,
          2193272,
          2194102,
          2194969,
          2195926,
          2196804,
          2197820,
          2198461,
          2199146,
          2199764,
          2200211,
          2200739,
          2201355,
          2201824,
          2202179,
          2202491,
          2202716,
          2202887,
          2202990,
          2203082,
          2203129,
          2203171,
          2203200,
          2203222,
          2203262,
          2203289,
          2203315,
          2203356,
          2203441,
          2203564,
          2203761,
          2204090,
          2204488,
          2205322,
          2206311,
          2207180,
          2207969,
          2208950,
          2209972,
          2210846,
          2211830,
          2213046,
          2214721,
          2217184,
          2220220,
          2223831,
          2226085,
          2227159,
          2228206,
          2228828,
          2229267,
          2229538,
          2229804,
          2229987,
          2230094,
          2230159,
          2230202,
          2230232,
          2230249,
          2230274,
          2230293,
          2230312,
          2230325,
          2230351,
          2230371,
          2230381,
          2230396,
          2230419,
          2230423,
          2230438,
          2230444,
          2230453,
          2230472,
          2230485,
          2230504,
          2230548,
          2230591,
          2230657,
          2230800,
          2230925,
          2231074,
          2231207,
          2231405
         ],
         "xaxis": "x",
         "y": [
          0,
          0,
          0,
          0,
          0,
          0,
          0,
          0,
          0,
          0,
          0,
          4,
          13,
          34,
          99,
          189,
          272,
          340,
          413,
          451,
          486,
          524,
          542,
          559,
          570,
          578,
          589,
          595,
          596,
          596,
          597,
          602,
          607,
          611,
          614,
          624,
          633,
          683,
          736,
          822,
          954,
          1142,
          1425,
          1819,
          2438,
          3097,
          3800,
          4672,
          5868,
          6965,
          8099,
          9047,
          9884,
          10648,
          11341,
          11968,
          12524,
          13090,
          13706,
          14299,
          14974,
          15873,
          16952,
          18262,
          19972,
          21715,
          23417,
          25184,
          26625,
          27802,
          28602,
          29175,
          29519,
          29709,
          29855,
          29905,
          29951,
          29981,
          29992,
          30004,
          30015,
          30020,
          30026,
          30033,
          30038,
          30046,
          30057,
          30061,
          30086,
          30123,
          30151,
          30199,
          30275,
          30351,
          30492,
          30729,
          31184,
          31867,
          32780,
          33866,
          35122,
          36429,
          37530,
          38307,
          39186,
          39780,
          40237,
          40822,
          41229,
          41741,
          42360,
          43066,
          43752,
          44286,
          44653,
          44961,
          45258,
          45510,
          45721,
          45865,
          46048,
          46201,
          46266,
          46343,
          46446,
          46507,
          46547,
          46571,
          46594,
          46626,
          46647,
          46661,
          46696,
          46736,
          46790,
          46886,
          46966,
          47083,
          47191,
          47291,
          47367,
          47409,
          47457,
          47503,
          47576,
          47680,
          47798,
          47938,
          48019,
          48111,
          48184,
          48245,
          48287,
          48337,
          48380,
          48439,
          48495,
          48560,
          48604,
          48621,
          48638,
          48647,
          48655,
          48664,
          48670,
          48681,
          48693,
          48709,
          48720,
          48730,
          48745,
          48753,
          48764,
          48770,
          48778,
          48782,
          48786,
          48791,
          48794,
          48795,
          48797,
          48797,
          48798,
          48799,
          48799,
          48799,
          48800,
          48801,
          48802,
          48802,
          48803,
          48803,
          48803,
          48806,
          48807,
          48812,
          48815,
          48819,
          48822,
          48831,
          48841,
          48854,
          48869,
          48886,
          48902,
          48922,
          48946,
          48967,
          48991,
          49006,
          49016,
          49026,
          49031,
          49040,
          49043,
          49046,
          49047,
          49048,
          49048,
          49048,
          49048,
          49049,
          49051,
          49051,
          49051,
          49051,
          49051,
          49051,
          49051,
          49051,
          49051,
          49051,
          49051,
          49051,
          49051,
          49051,
          49051,
          49053,
          49053,
          49053,
          49054,
          49055,
          49056,
          49057
         ],
         "yaxis": "y"
        },
        {
         "hovertemplate": "Country=Romania<br>Cumulative_cases=%{x}<br>Cumulative_deaths=%{y}<extra></extra>",
         "legendgroup": "Romania",
         "line": {
          "color": "#EF553B",
          "dash": "solid"
         },
         "marker": {
          "symbol": "circle"
         },
         "mode": "lines",
         "name": "Romania",
         "orientation": "v",
         "showlegend": true,
         "type": "scatter",
         "x": [
          0,
          0,
          0,
          0,
          0,
          0,
          0,
          0,
          4,
          15,
          139,
          367,
          1452,
          3613,
          5990,
          8418,
          10635,
          12732,
          15131,
          16704,
          17857,
          19133,
          20290,
          21679,
          23730,
          26022,
          28582,
          32079,
          36691,
          43678,
          52111,
          60623,
          69374,
          77544,
          85833,
          93864,
          102386,
          111550,
          121235,
          134065,
          152403,
          176468,
          205793,
          241339,
          296999,
          353185,
          412808,
          465982,
          508345,
          551900,
          587944,
          613760,
          637395,
          668202,
          691488,
          709194,
          726918,
          743343,
          760091,
          777276,
          799164,
          824995,
          855326,
          892848,
          932179,
          970224,
          1002865,
          1027039,
          1044722,
          1056572,
          1065254,
          1071334,
          1075236,
          1077426,
          1078742,
          1079657,
          1080203,
          1080584,
          1080918,
          1081210,
          1081588,
          1082183,
          1083189,
          1084711,
          1086900,
          1090408,
          1095885,
          1104766,
          1118549,
          1144893,
          1187773,
          1257145,
          1346240,
          1445714,
          1550203,
          1640607,
          1701589,
          1739283,
          1760765,
          1775572,
          1785120,
          1792433,
          1797706,
          1802396,
          1810342,
          1839825,
          1895833,
          2003041,
          2176726,
          2385713,
          2550348,
          2655933,
          2724480,
          2765169,
          2790368,
          2813798,
          2838849,
          2858665,
          2871937,
          2881322,
          2887824,
          2893876,
          2898848,
          2902790,
          2905859,
          2908313,
          2910392,
          2912537,
          2912878,
          2915487,
          2919461,
          2927187,
          2961769,
          3002662,
          3059568,
          3112474,
          3154721,
          3184930,
          3208903,
          3226207,
          3239392,
          3252363,
          3261614,
          3269498,
          3275276,
          3279623,
          3283147,
          3286185,
          3289004,
          3291589,
          3294065,
          3294447,
          3296834,
          3298738,
          3301662,
          3305048,
          3308480,
          3312085,
          3316192,
          3322648,
          3325006,
          3327805,
          3331005,
          3335131,
          3340342,
          3346046,
          3352356,
          3359839,
          3367921,
          3374825,
          3380891,
          3385092,
          3390124,
          3393902,
          3397365,
          3399977,
          3402356,
          3404197,
          3405206,
          3406169,
          3406899,
          3407485,
          3407995,
          3408455,
          3408885,
          3409402,
          3409997,
          3410903,
          3411957,
          3413851,
          3417177,
          3421949,
          3429120,
          3440346,
          3455207,
          3468372,
          3478091,
          3485792,
          3492196,
          3497226,
          3499524,
          3501060,
          3502427,
          3503826,
          3505055,
          3506515,
          3508330,
          3510398,
          3512593,
          3514689,
          3516701,
          3518825,
          3520642,
          3522367,
          3523986,
          3524972,
          3525805,
          3526363,
          3526835,
          3527230,
          3527560,
          3527873,
          3528126,
          3528309,
          3528450,
          3528581,
          3528662,
          3528753,
          3528866,
          3529011,
          3529213,
          3529446,
          3529682,
          3529960,
          3530405,
          3531029,
          3532143,
          3533987,
          3536986,
          3541619,
          3546652,
          3551392,
          3556043,
          3559978
         ],
         "xaxis": "x",
         "y": [
          0,
          0,
          0,
          0,
          0,
          0,
          0,
          0,
          0,
          0,
          0,
          0,
          37,
          146,
          291,
          421,
          601,
          771,
          939,
          1094,
          1176,
          1259,
          1318,
          1394,
          1500,
          1589,
          1731,
          1871,
          2009,
          2165,
          2379,
          2659,
          2954,
          3233,
          3539,
          3850,
          4127,
          4402,
          4687,
          4947,
          5358,
          5812,
          6318,
          6968,
          7793,
          8813,
          9916,
          11045,
          12186,
          13264,
          14296,
          15108,
          15919,
          16592,
          17164,
          17722,
          18264,
          18809,
          19325,
          19795,
          20287,
          20854,
          21439,
          22132,
          22997,
          23973,
          25006,
          26072,
          27267,
          28194,
          28903,
          29485,
          29885,
          30247,
          30725,
          31804,
          32308,
          33177,
          33925,
          34216,
          34252,
          34267,
          34281,
          34313,
          34342,
          34403,
          34509,
          34678,
          34961,
          35456,
          36230,
          37394,
          39209,
          41482,
          44290,
          47324,
          50482,
          52836,
          54838,
          56169,
          57021,
          57636,
          58143,
          58536,
          58779,
          58997,
          59212,
          59525,
          59932,
          60560,
          61520,
          62471,
          63294,
          63931,
          64335,
          64669,
          64895,
          65079,
          65198,
          65331,
          65421,
          65486,
          65560,
          65606,
          65651,
          65677,
          65691,
          65713,
          65714,
          65726,
          65739,
          65755,
          65812,
          65853,
          65983,
          66171,
          66336,
          66483,
          66631,
          66766,
          66849,
          66912,
          66972,
          67027,
          67076,
          67119,
          67161,
          67186,
          67211,
          67236,
          67253,
          67253,
          67276,
          67289,
          67310,
          67341,
          67374,
          67408,
          67460,
          67542,
          67576,
          67619,
          67650,
          67675,
          67704,
          67736,
          67773,
          67821,
          67858,
          67917,
          67961,
          68001,
          68047,
          68089,
          68117,
          68143,
          68172,
          68184,
          68193,
          68217,
          68224,
          68233,
          68240,
          68243,
          68246,
          68249,
          68253,
          68259,
          68262,
          68266,
          68270,
          68282,
          68296,
          68314,
          68341,
          68372,
          68409,
          68455,
          68487,
          68525,
          68557,
          68576,
          68602,
          68627,
          68639,
          68651,
          68669,
          68690,
          68714,
          68732,
          68744,
          68753,
          68760,
          68768,
          68774,
          68781,
          68785,
          68785,
          68787,
          68788,
          68792,
          68792,
          68794,
          68799,
          68799,
          68799,
          68800,
          68802,
          68803,
          68803,
          68803,
          68803,
          68805,
          68806,
          68807,
          68808,
          68809,
          68815,
          68819,
          68825,
          68841,
          68853,
          68867,
          68879
         ],
         "yaxis": "y"
        },
        {
         "hovertemplate": "Country=Ukraine<br>Cumulative_cases=%{x}<br>Cumulative_deaths=%{y}<extra></extra>",
         "legendgroup": "Ukraine",
         "line": {
          "color": "#00cc96",
          "dash": "solid"
         },
         "marker": {
          "symbol": "circle"
         },
         "mode": "lines",
         "name": "Ukraine",
         "orientation": "v",
         "showlegend": true,
         "type": "scatter",
         "x": [
          0,
          0,
          0,
          0,
          0,
          0,
          0,
          0,
          0,
          0,
          18,
          125,
          515,
          1280,
          2965,
          5438,
          8449,
          11395,
          14380,
          16992,
          19330,
          21766,
          24901,
          28838,
          33722,
          39906,
          45094,
          50039,
          55123,
          61169,
          68181,
          76312,
          86336,
          99588,
          113410,
          130824,
          149735,
          170827,
          192126,
          219324,
          253138,
          288624,
          330207,
          378725,
          438286,
          513605,
          602256,
          697811,
          785214,
          861981,
          930717,
          988108,
          1037359,
          1077015,
          1121417,
          1152029,
          1179187,
          1204695,
          1231193,
          1265381,
          1309853,
          1365229,
          1425267,
          1505606,
          1610128,
          1713607,
          1818824,
          1910735,
          1988052,
          2043657,
          2080589,
          2113735,
          2141575,
          2161201,
          2172772,
          2182145,
          2187754,
          2192114,
          2195543,
          2199094,
          2202395,
          2206549,
          2211254,
          2217175,
          2224054,
          2233132,
          2242665,
          2256032,
          2275549,
          2308371,
          2353130,
          2417736,
          2507815,
          2602420,
          2741764,
          2893963,
          3046226,
          3186167,
          3298132,
          3385552,
          3459680,
          3520890,
          3568411,
          3606084,
          3634067,
          3662167,
          3717255,
          3828095,
          4022220,
          4265162,
          4500418,
          4692058,
          4793201,
          4832732,
          4864133,
          4894490,
          4916807,
          4931463,
          4942854,
          4950889,
          4956242,
          4960463,
          4964195,
          4967036,
          4969168,
          4971064,
          4972664,
          4973729,
          4974773,
          4975754,
          4976860,
          4977916,
          4979347,
          4981445,
          4984231,
          4988124,
          4993563,
          5002676,
          5014113,
          5030268,
          5054132,
          5090815,
          5134952,
          5177754,
          5214167,
          5237081,
          5253989,
          5270367,
          5279954,
          5287271,
          5294028,
          5299019,
          5303829,
          5308115,
          5312473,
          5315676,
          5319087,
          5322057,
          5324767,
          5327866,
          5330839,
          5334547,
          5339830,
          5347174,
          5356966,
          5369723,
          5385095,
          5403714,
          5423689,
          5442671,
          5459754,
          5476349,
          5487194,
          5496092,
          5502704,
          5507443,
          5510766,
          5513765,
          5515730,
          5517281,
          5518589,
          5519585,
          5520483,
          5520483,
          5520483,
          5520483,
          5520483,
          5520483,
          5520483,
          5520483,
          5520483,
          5520483,
          5520483,
          5520483,
          5520483,
          5520483,
          5520483,
          5520483,
          5520483,
          5520483,
          5521044,
          5521657,
          5522212,
          5523002,
          5523693,
          5524715,
          5525469,
          5526237,
          5527002,
          5527628,
          5528177,
          5528578,
          5528966,
          5529285,
          5529508,
          5529813,
          5530138,
          5530457,
          5530754,
          5531051,
          5531364,
          5531605,
          5531842,
          5532011,
          5532180,
          5532294,
          5532380,
          5532467,
          5532541,
          5532575,
          5532603,
          5532628,
          5532643,
          5532658,
          5532681,
          5532720,
          5532763,
          5532834,
          5532922,
          5533093,
          5533368,
          5533807,
          5535160,
          5536989
         ],
         "xaxis": "x",
         "y": [
          0,
          0,
          0,
          0,
          0,
          0,
          0,
          0,
          0,
          0,
          2,
          5,
          13,
          36,
          65,
          85,
          130,
          155,
          195,
          238,
          261,
          294,
          321,
          354,
          394,
          462,
          515,
          571,
          623,
          720,
          799,
          926,
          1047,
          1149,
          1367,
          1569,
          1706,
          2032,
          2310,
          2588,
          3030,
          3435,
          3880,
          4803,
          5995,
          7125,
          8504,
          9756,
          11162,
          12676,
          14296,
          15278,
          16532,
          17264,
          18298,
          19353,
          20197,
          21073,
          21821,
          22585,
          23480,
          24625,
          25863,
          27506,
          29563,
          32017,
          34731,
          37430,
          39948,
          42180,
          44052,
          45614,
          46876,
          48136,
          48655,
          49199,
          49491,
          49740,
          49924,
          50078,
          50171,
          50314,
          50395,
          50540,
          50709,
          50940,
          51178,
          51441,
          51800,
          52359,
          53160,
          54329,
          56140,
          58249,
          61641,
          65466,
          69996,
          74587,
          79037,
          82851,
          85957,
          88652,
          90699,
          92533,
          93738,
          94762,
          95798,
          96719,
          97640,
          98829,
          100387,
          102082,
          103384,
          104115,
          104620,
          105033,
          105297,
          105455,
          105575,
          105692,
          105765,
          105848,
          105886,
          105934,
          105975,
          106006,
          106041,
          106058,
          106074,
          106092,
          106107,
          106126,
          106135,
          106149,
          106163,
          106179,
          106216,
          106239,
          106277,
          106321,
          106391,
          106481,
          106642,
          106844,
          107052,
          107255,
          107444,
          107623,
          107737,
          107840,
          107942,
          108022,
          108076,
          108132,
          108202,
          108249,
          108295,
          108356,
          108414,
          108456,
          108499,
          108567,
          108611,
          108671,
          108734,
          108801,
          108893,
          108994,
          109112,
          109225,
          109348,
          109459,
          109564,
          109646,
          109707,
          109751,
          109788,
          109830,
          109854,
          109869,
          109889,
          109905,
          109918,
          109918,
          109918,
          109918,
          109918,
          109918,
          109918,
          109918,
          109918,
          109918,
          109918,
          109918,
          109918,
          109918,
          109918,
          109918,
          109918,
          109918,
          109918,
          109918,
          109918,
          109918,
          109918,
          109918,
          109918,
          109918,
          109918,
          109918,
          109918,
          109918,
          109918,
          109918,
          109918,
          109918,
          109918,
          109918,
          109919,
          109920,
          109920,
          109920,
          109920,
          109920,
          109920,
          109920,
          109920,
          109920,
          109920,
          109920,
          109920,
          109920,
          109920,
          109920,
          109920,
          109920,
          109920,
          109920,
          109920,
          109920,
          109923,
          109923,
          109923,
          109923
         ],
         "yaxis": "y"
        }
       ],
       "layout": {
        "legend": {
         "title": {
          "text": "Country"
         },
         "tracegroupgap": 0
        },
        "template": {
         "data": {
          "bar": [
           {
            "error_x": {
             "color": "#2a3f5f"
            },
            "error_y": {
             "color": "#2a3f5f"
            },
            "marker": {
             "line": {
              "color": "#E5ECF6",
              "width": 0.5
             },
             "pattern": {
              "fillmode": "overlay",
              "size": 10,
              "solidity": 0.2
             }
            },
            "type": "bar"
           }
          ],
          "barpolar": [
           {
            "marker": {
             "line": {
              "color": "#E5ECF6",
              "width": 0.5
             },
             "pattern": {
              "fillmode": "overlay",
              "size": 10,
              "solidity": 0.2
             }
            },
            "type": "barpolar"
           }
          ],
          "carpet": [
           {
            "aaxis": {
             "endlinecolor": "#2a3f5f",
             "gridcolor": "white",
             "linecolor": "white",
             "minorgridcolor": "white",
             "startlinecolor": "#2a3f5f"
            },
            "baxis": {
             "endlinecolor": "#2a3f5f",
             "gridcolor": "white",
             "linecolor": "white",
             "minorgridcolor": "white",
             "startlinecolor": "#2a3f5f"
            },
            "type": "carpet"
           }
          ],
          "choropleth": [
           {
            "colorbar": {
             "outlinewidth": 0,
             "ticks": ""
            },
            "type": "choropleth"
           }
          ],
          "contour": [
           {
            "colorbar": {
             "outlinewidth": 0,
             "ticks": ""
            },
            "colorscale": [
             [
              0,
              "#0d0887"
             ],
             [
              0.1111111111111111,
              "#46039f"
             ],
             [
              0.2222222222222222,
              "#7201a8"
             ],
             [
              0.3333333333333333,
              "#9c179e"
             ],
             [
              0.4444444444444444,
              "#bd3786"
             ],
             [
              0.5555555555555556,
              "#d8576b"
             ],
             [
              0.6666666666666666,
              "#ed7953"
             ],
             [
              0.7777777777777778,
              "#fb9f3a"
             ],
             [
              0.8888888888888888,
              "#fdca26"
             ],
             [
              1,
              "#f0f921"
             ]
            ],
            "type": "contour"
           }
          ],
          "contourcarpet": [
           {
            "colorbar": {
             "outlinewidth": 0,
             "ticks": ""
            },
            "type": "contourcarpet"
           }
          ],
          "heatmap": [
           {
            "colorbar": {
             "outlinewidth": 0,
             "ticks": ""
            },
            "colorscale": [
             [
              0,
              "#0d0887"
             ],
             [
              0.1111111111111111,
              "#46039f"
             ],
             [
              0.2222222222222222,
              "#7201a8"
             ],
             [
              0.3333333333333333,
              "#9c179e"
             ],
             [
              0.4444444444444444,
              "#bd3786"
             ],
             [
              0.5555555555555556,
              "#d8576b"
             ],
             [
              0.6666666666666666,
              "#ed7953"
             ],
             [
              0.7777777777777778,
              "#fb9f3a"
             ],
             [
              0.8888888888888888,
              "#fdca26"
             ],
             [
              1,
              "#f0f921"
             ]
            ],
            "type": "heatmap"
           }
          ],
          "heatmapgl": [
           {
            "colorbar": {
             "outlinewidth": 0,
             "ticks": ""
            },
            "colorscale": [
             [
              0,
              "#0d0887"
             ],
             [
              0.1111111111111111,
              "#46039f"
             ],
             [
              0.2222222222222222,
              "#7201a8"
             ],
             [
              0.3333333333333333,
              "#9c179e"
             ],
             [
              0.4444444444444444,
              "#bd3786"
             ],
             [
              0.5555555555555556,
              "#d8576b"
             ],
             [
              0.6666666666666666,
              "#ed7953"
             ],
             [
              0.7777777777777778,
              "#fb9f3a"
             ],
             [
              0.8888888888888888,
              "#fdca26"
             ],
             [
              1,
              "#f0f921"
             ]
            ],
            "type": "heatmapgl"
           }
          ],
          "histogram": [
           {
            "marker": {
             "pattern": {
              "fillmode": "overlay",
              "size": 10,
              "solidity": 0.2
             }
            },
            "type": "histogram"
           }
          ],
          "histogram2d": [
           {
            "colorbar": {
             "outlinewidth": 0,
             "ticks": ""
            },
            "colorscale": [
             [
              0,
              "#0d0887"
             ],
             [
              0.1111111111111111,
              "#46039f"
             ],
             [
              0.2222222222222222,
              "#7201a8"
             ],
             [
              0.3333333333333333,
              "#9c179e"
             ],
             [
              0.4444444444444444,
              "#bd3786"
             ],
             [
              0.5555555555555556,
              "#d8576b"
             ],
             [
              0.6666666666666666,
              "#ed7953"
             ],
             [
              0.7777777777777778,
              "#fb9f3a"
             ],
             [
              0.8888888888888888,
              "#fdca26"
             ],
             [
              1,
              "#f0f921"
             ]
            ],
            "type": "histogram2d"
           }
          ],
          "histogram2dcontour": [
           {
            "colorbar": {
             "outlinewidth": 0,
             "ticks": ""
            },
            "colorscale": [
             [
              0,
              "#0d0887"
             ],
             [
              0.1111111111111111,
              "#46039f"
             ],
             [
              0.2222222222222222,
              "#7201a8"
             ],
             [
              0.3333333333333333,
              "#9c179e"
             ],
             [
              0.4444444444444444,
              "#bd3786"
             ],
             [
              0.5555555555555556,
              "#d8576b"
             ],
             [
              0.6666666666666666,
              "#ed7953"
             ],
             [
              0.7777777777777778,
              "#fb9f3a"
             ],
             [
              0.8888888888888888,
              "#fdca26"
             ],
             [
              1,
              "#f0f921"
             ]
            ],
            "type": "histogram2dcontour"
           }
          ],
          "mesh3d": [
           {
            "colorbar": {
             "outlinewidth": 0,
             "ticks": ""
            },
            "type": "mesh3d"
           }
          ],
          "parcoords": [
           {
            "line": {
             "colorbar": {
              "outlinewidth": 0,
              "ticks": ""
             }
            },
            "type": "parcoords"
           }
          ],
          "pie": [
           {
            "automargin": true,
            "type": "pie"
           }
          ],
          "scatter": [
           {
            "fillpattern": {
             "fillmode": "overlay",
             "size": 10,
             "solidity": 0.2
            },
            "type": "scatter"
           }
          ],
          "scatter3d": [
           {
            "line": {
             "colorbar": {
              "outlinewidth": 0,
              "ticks": ""
             }
            },
            "marker": {
             "colorbar": {
              "outlinewidth": 0,
              "ticks": ""
             }
            },
            "type": "scatter3d"
           }
          ],
          "scattercarpet": [
           {
            "marker": {
             "colorbar": {
              "outlinewidth": 0,
              "ticks": ""
             }
            },
            "type": "scattercarpet"
           }
          ],
          "scattergeo": [
           {
            "marker": {
             "colorbar": {
              "outlinewidth": 0,
              "ticks": ""
             }
            },
            "type": "scattergeo"
           }
          ],
          "scattergl": [
           {
            "marker": {
             "colorbar": {
              "outlinewidth": 0,
              "ticks": ""
             }
            },
            "type": "scattergl"
           }
          ],
          "scattermapbox": [
           {
            "marker": {
             "colorbar": {
              "outlinewidth": 0,
              "ticks": ""
             }
            },
            "type": "scattermapbox"
           }
          ],
          "scatterpolar": [
           {
            "marker": {
             "colorbar": {
              "outlinewidth": 0,
              "ticks": ""
             }
            },
            "type": "scatterpolar"
           }
          ],
          "scatterpolargl": [
           {
            "marker": {
             "colorbar": {
              "outlinewidth": 0,
              "ticks": ""
             }
            },
            "type": "scatterpolargl"
           }
          ],
          "scatterternary": [
           {
            "marker": {
             "colorbar": {
              "outlinewidth": 0,
              "ticks": ""
             }
            },
            "type": "scatterternary"
           }
          ],
          "surface": [
           {
            "colorbar": {
             "outlinewidth": 0,
             "ticks": ""
            },
            "colorscale": [
             [
              0,
              "#0d0887"
             ],
             [
              0.1111111111111111,
              "#46039f"
             ],
             [
              0.2222222222222222,
              "#7201a8"
             ],
             [
              0.3333333333333333,
              "#9c179e"
             ],
             [
              0.4444444444444444,
              "#bd3786"
             ],
             [
              0.5555555555555556,
              "#d8576b"
             ],
             [
              0.6666666666666666,
              "#ed7953"
             ],
             [
              0.7777777777777778,
              "#fb9f3a"
             ],
             [
              0.8888888888888888,
              "#fdca26"
             ],
             [
              1,
              "#f0f921"
             ]
            ],
            "type": "surface"
           }
          ],
          "table": [
           {
            "cells": {
             "fill": {
              "color": "#EBF0F8"
             },
             "line": {
              "color": "white"
             }
            },
            "header": {
             "fill": {
              "color": "#C8D4E3"
             },
             "line": {
              "color": "white"
             }
            },
            "type": "table"
           }
          ]
         },
         "layout": {
          "annotationdefaults": {
           "arrowcolor": "#2a3f5f",
           "arrowhead": 0,
           "arrowwidth": 1
          },
          "autotypenumbers": "strict",
          "coloraxis": {
           "colorbar": {
            "outlinewidth": 0,
            "ticks": ""
           }
          },
          "colorscale": {
           "diverging": [
            [
             0,
             "#8e0152"
            ],
            [
             0.1,
             "#c51b7d"
            ],
            [
             0.2,
             "#de77ae"
            ],
            [
             0.3,
             "#f1b6da"
            ],
            [
             0.4,
             "#fde0ef"
            ],
            [
             0.5,
             "#f7f7f7"
            ],
            [
             0.6,
             "#e6f5d0"
            ],
            [
             0.7,
             "#b8e186"
            ],
            [
             0.8,
             "#7fbc41"
            ],
            [
             0.9,
             "#4d9221"
            ],
            [
             1,
             "#276419"
            ]
           ],
           "sequential": [
            [
             0,
             "#0d0887"
            ],
            [
             0.1111111111111111,
             "#46039f"
            ],
            [
             0.2222222222222222,
             "#7201a8"
            ],
            [
             0.3333333333333333,
             "#9c179e"
            ],
            [
             0.4444444444444444,
             "#bd3786"
            ],
            [
             0.5555555555555556,
             "#d8576b"
            ],
            [
             0.6666666666666666,
             "#ed7953"
            ],
            [
             0.7777777777777778,
             "#fb9f3a"
            ],
            [
             0.8888888888888888,
             "#fdca26"
            ],
            [
             1,
             "#f0f921"
            ]
           ],
           "sequentialminus": [
            [
             0,
             "#0d0887"
            ],
            [
             0.1111111111111111,
             "#46039f"
            ],
            [
             0.2222222222222222,
             "#7201a8"
            ],
            [
             0.3333333333333333,
             "#9c179e"
            ],
            [
             0.4444444444444444,
             "#bd3786"
            ],
            [
             0.5555555555555556,
             "#d8576b"
            ],
            [
             0.6666666666666666,
             "#ed7953"
            ],
            [
             0.7777777777777778,
             "#fb9f3a"
            ],
            [
             0.8888888888888888,
             "#fdca26"
            ],
            [
             1,
             "#f0f921"
            ]
           ]
          },
          "colorway": [
           "#636efa",
           "#EF553B",
           "#00cc96",
           "#ab63fa",
           "#FFA15A",
           "#19d3f3",
           "#FF6692",
           "#B6E880",
           "#FF97FF",
           "#FECB52"
          ],
          "font": {
           "color": "#2a3f5f"
          },
          "geo": {
           "bgcolor": "white",
           "lakecolor": "white",
           "landcolor": "#E5ECF6",
           "showlakes": true,
           "showland": true,
           "subunitcolor": "white"
          },
          "hoverlabel": {
           "align": "left"
          },
          "hovermode": "closest",
          "mapbox": {
           "style": "light"
          },
          "paper_bgcolor": "white",
          "plot_bgcolor": "#E5ECF6",
          "polar": {
           "angularaxis": {
            "gridcolor": "white",
            "linecolor": "white",
            "ticks": ""
           },
           "bgcolor": "#E5ECF6",
           "radialaxis": {
            "gridcolor": "white",
            "linecolor": "white",
            "ticks": ""
           }
          },
          "scene": {
           "xaxis": {
            "backgroundcolor": "#E5ECF6",
            "gridcolor": "white",
            "gridwidth": 2,
            "linecolor": "white",
            "showbackground": true,
            "ticks": "",
            "zerolinecolor": "white"
           },
           "yaxis": {
            "backgroundcolor": "#E5ECF6",
            "gridcolor": "white",
            "gridwidth": 2,
            "linecolor": "white",
            "showbackground": true,
            "ticks": "",
            "zerolinecolor": "white"
           },
           "zaxis": {
            "backgroundcolor": "#E5ECF6",
            "gridcolor": "white",
            "gridwidth": 2,
            "linecolor": "white",
            "showbackground": true,
            "ticks": "",
            "zerolinecolor": "white"
           }
          },
          "shapedefaults": {
           "line": {
            "color": "#2a3f5f"
           }
          },
          "ternary": {
           "aaxis": {
            "gridcolor": "white",
            "linecolor": "white",
            "ticks": ""
           },
           "baxis": {
            "gridcolor": "white",
            "linecolor": "white",
            "ticks": ""
           },
           "bgcolor": "#E5ECF6",
           "caxis": {
            "gridcolor": "white",
            "linecolor": "white",
            "ticks": ""
           }
          },
          "title": {
           "x": 0.05
          },
          "xaxis": {
           "automargin": true,
           "gridcolor": "white",
           "linecolor": "white",
           "ticks": "",
           "title": {
            "standoff": 15
           },
           "zerolinecolor": "white",
           "zerolinewidth": 2
          },
          "yaxis": {
           "automargin": true,
           "gridcolor": "white",
           "linecolor": "white",
           "ticks": "",
           "title": {
            "standoff": 15
           },
           "zerolinecolor": "white",
           "zerolinewidth": 2
          }
         }
        },
        "title": {
         "text": "Cumulative Deaths vs Cumulative Cases for Romania, Hungary and Ukraine"
        },
        "xaxis": {
         "anchor": "y",
         "domain": [
          0,
          1
         ],
         "title": {
          "text": "Cumulative_cases"
         }
        },
        "yaxis": {
         "anchor": "x",
         "domain": [
          0,
          1
         ],
         "title": {
          "text": "Cumulative_deaths"
         }
        }
       }
      }
     },
     "metadata": {},
     "output_type": "display_data"
    }
   ],
   "source": [
    "fig = px.line(df_filtered_countries, \n",
    "              x='Cumulative_cases', \n",
    "              y='Cumulative_deaths', \n",
    "              color='Country', \n",
    "              title='Cumulative Deaths vs Cumulative Cases for Romania, Hungary and Ukraine')\n",
    "\n",
    "fig.show()"
   ]
  },
  {
   "cell_type": "code",
   "execution_count": null,
   "id": "153fa426-d547-4280-8b89-ec838bb1510d",
   "metadata": {},
   "outputs": [],
   "source": []
  }
 ],
 "metadata": {
  "kernelspec": {
   "display_name": "Python 3",
   "language": "python",
   "name": "python3"
  },
  "language_info": {
   "codemirror_mode": {
    "name": "ipython",
    "version": 3
   },
   "file_extension": ".py",
   "mimetype": "text/x-python",
   "name": "python",
   "nbconvert_exporter": "python",
   "pygments_lexer": "ipython3",
   "version": "3.10.11"
  }
 },
 "nbformat": 4,
 "nbformat_minor": 5
}

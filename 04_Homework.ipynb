{
 "cells": [
  {
   "cell_type": "markdown",
   "id": "9fdbabd1-a139-42cd-86eb-3911f2363ea6",
   "metadata": {},
   "source": [
    "# 04 Homework\n",
    "© Copyright: 2024, Selma Hadzic, all rights reserved."
   ]
  },
  {
   "cell_type": "markdown",
   "id": "120d9520-a37c-4240-8c50-34e92d9d85f7",
   "metadata": {},
   "source": [
    "#### Number of points: 15 (weights 15% in the final grade)\n",
    "\n",
    "\n",
    "1. Pull from the `ESMT_2024_DataScraping_Lectures` repository: you should get this `04_Homework` file\n",
    "2. Launch VS Code and open your working-folder\n",
    "3. Create a `Session_04` folder, in which you create another folder called `data`\n",
    "4. Copy paste the notebook `04_Homework` from the lectures repo to the working-folder. Copy the csv file `WHO_COVID19_cases.csv` into the `working-folder/Session_04/data` directory.\n",
    "5. Do the exercises on 04_Homework in your working-folder\n",
    "6. Once you are finished, copy-Paste the notebook into `ESMT_2024_DataScraping_Students` folder in your computer\n",
    "8. Commit and push your homework in your branch before the deadline\n",
    "\n",
    "#### Deadline: October 24th 01:29 pm CET\n",
    "\n",
    "#### Any missed deadline without justification to the Administration will result in 0 points for this homework.\n",
    "#### If the Github branch is not correctly named using the indicated format **LASTNAME_firstname**, then a penalty of -2 points will be applied"
   ]
  },
  {
   "cell_type": "markdown",
   "id": "099d2883-1487-4402-9d9f-f4009bf1d844",
   "metadata": {},
   "source": [
    "## Dataset: use the WHO_COVID19_cases.csv dataset from Session_01"
   ]
  },
  {
   "cell_type": "markdown",
   "id": "180e5436-4077-44a0-be08-135e124f73d3",
   "metadata": {},
   "source": [
    "## 1- Filter the data for 3 countries and draw a line plot for Cumulative_cases vs Date_reported using seaborn (7.5 points)\n",
    "\n",
    "*Tip: you may want to explore `plt.xticks(rotation=90);` and `plt.gca().xaxis.set_major_locator(ticker.MultipleLocator(6)) ;` to unclutter the dates on the x-axis*"
   ]
  },
  {
   "cell_type": "code",
   "execution_count": 10,
   "id": "0cdc9b82-5b98-48d8-82d9-4b03be250757",
   "metadata": {},
   "outputs": [],
   "source": [
    "import pandas as pd\n",
    "import matplotlib.pyplot as plt\n",
    "import seaborn as sns\n",
    "import matplotlib.ticker as ticker"
   ]
  },
  {
   "cell_type": "code",
   "execution_count": 2,
   "id": "5c5c3d2f-f7e9-4fc1-912d-c3f41900cfdb",
   "metadata": {
    "scrolled": false
   },
   "outputs": [
    {
     "data": {
      "text/html": [
       "<div>\n",
       "<style scoped>\n",
       "    .dataframe tbody tr th:only-of-type {\n",
       "        vertical-align: middle;\n",
       "    }\n",
       "\n",
       "    .dataframe tbody tr th {\n",
       "        vertical-align: top;\n",
       "    }\n",
       "\n",
       "    .dataframe thead th {\n",
       "        text-align: right;\n",
       "    }\n",
       "</style>\n",
       "<table border=\"1\" class=\"dataframe\">\n",
       "  <thead>\n",
       "    <tr style=\"text-align: right;\">\n",
       "      <th></th>\n",
       "      <th>Date_reported</th>\n",
       "      <th>Country_code</th>\n",
       "      <th>Country</th>\n",
       "      <th>Continent</th>\n",
       "      <th>WHO_region</th>\n",
       "      <th>New_cases</th>\n",
       "      <th>Cumulative_cases</th>\n",
       "      <th>New_deaths</th>\n",
       "      <th>Cumulative_deaths</th>\n",
       "    </tr>\n",
       "  </thead>\n",
       "  <tbody>\n",
       "    <tr>\n",
       "      <th>0</th>\n",
       "      <td>2020-01-05</td>\n",
       "      <td>AF</td>\n",
       "      <td>Afghanistan</td>\n",
       "      <td>Asia</td>\n",
       "      <td>EMRO</td>\n",
       "      <td>NaN</td>\n",
       "      <td>0</td>\n",
       "      <td>NaN</td>\n",
       "      <td>0</td>\n",
       "    </tr>\n",
       "    <tr>\n",
       "      <th>1</th>\n",
       "      <td>2020-01-12</td>\n",
       "      <td>AF</td>\n",
       "      <td>Afghanistan</td>\n",
       "      <td>Asia</td>\n",
       "      <td>EMRO</td>\n",
       "      <td>NaN</td>\n",
       "      <td>0</td>\n",
       "      <td>NaN</td>\n",
       "      <td>0</td>\n",
       "    </tr>\n",
       "    <tr>\n",
       "      <th>2</th>\n",
       "      <td>2020-01-19</td>\n",
       "      <td>AF</td>\n",
       "      <td>Afghanistan</td>\n",
       "      <td>Asia</td>\n",
       "      <td>EMRO</td>\n",
       "      <td>NaN</td>\n",
       "      <td>0</td>\n",
       "      <td>NaN</td>\n",
       "      <td>0</td>\n",
       "    </tr>\n",
       "    <tr>\n",
       "      <th>3</th>\n",
       "      <td>2020-01-26</td>\n",
       "      <td>AF</td>\n",
       "      <td>Afghanistan</td>\n",
       "      <td>Asia</td>\n",
       "      <td>EMRO</td>\n",
       "      <td>NaN</td>\n",
       "      <td>0</td>\n",
       "      <td>NaN</td>\n",
       "      <td>0</td>\n",
       "    </tr>\n",
       "    <tr>\n",
       "      <th>4</th>\n",
       "      <td>2020-02-02</td>\n",
       "      <td>AF</td>\n",
       "      <td>Afghanistan</td>\n",
       "      <td>Asia</td>\n",
       "      <td>EMRO</td>\n",
       "      <td>NaN</td>\n",
       "      <td>0</td>\n",
       "      <td>NaN</td>\n",
       "      <td>0</td>\n",
       "    </tr>\n",
       "  </tbody>\n",
       "</table>\n",
       "</div>"
      ],
      "text/plain": [
       "  Date_reported Country_code      Country Continent WHO_region  New_cases  \\\n",
       "0    2020-01-05           AF  Afghanistan      Asia       EMRO        NaN   \n",
       "1    2020-01-12           AF  Afghanistan      Asia       EMRO        NaN   \n",
       "2    2020-01-19           AF  Afghanistan      Asia       EMRO        NaN   \n",
       "3    2020-01-26           AF  Afghanistan      Asia       EMRO        NaN   \n",
       "4    2020-02-02           AF  Afghanistan      Asia       EMRO        NaN   \n",
       "\n",
       "   Cumulative_cases  New_deaths  Cumulative_deaths  \n",
       "0                 0         NaN                  0  \n",
       "1                 0         NaN                  0  \n",
       "2                 0         NaN                  0  \n",
       "3                 0         NaN                  0  \n",
       "4                 0         NaN                  0  "
      ]
     },
     "execution_count": 2,
     "metadata": {},
     "output_type": "execute_result"
    }
   ],
   "source": [
    "df = pd.read_csv('./data/WHO_COVID19_cases.csv')\n",
    "df.head(5)"
   ]
  },
  {
   "cell_type": "code",
   "execution_count": 3,
   "id": "53be5a6f-00d3-4134-9009-68d0dd42b729",
   "metadata": {},
   "outputs": [
    {
     "data": {
      "text/html": [
       "<div>\n",
       "<style scoped>\n",
       "    .dataframe tbody tr th:only-of-type {\n",
       "        vertical-align: middle;\n",
       "    }\n",
       "\n",
       "    .dataframe tbody tr th {\n",
       "        vertical-align: top;\n",
       "    }\n",
       "\n",
       "    .dataframe thead th {\n",
       "        text-align: right;\n",
       "    }\n",
       "</style>\n",
       "<table border=\"1\" class=\"dataframe\">\n",
       "  <thead>\n",
       "    <tr style=\"text-align: right;\">\n",
       "      <th></th>\n",
       "      <th>Date_reported</th>\n",
       "      <th>Country_code</th>\n",
       "      <th>Country</th>\n",
       "      <th>Continent</th>\n",
       "      <th>WHO_region</th>\n",
       "      <th>New_cases</th>\n",
       "      <th>Cumulative_cases</th>\n",
       "      <th>New_deaths</th>\n",
       "      <th>Cumulative_deaths</th>\n",
       "    </tr>\n",
       "  </thead>\n",
       "  <tbody>\n",
       "    <tr>\n",
       "      <th>25864</th>\n",
       "      <td>2020-01-05</td>\n",
       "      <td>IE</td>\n",
       "      <td>Ireland</td>\n",
       "      <td>Europe</td>\n",
       "      <td>EURO</td>\n",
       "      <td>NaN</td>\n",
       "      <td>0</td>\n",
       "      <td>NaN</td>\n",
       "      <td>0</td>\n",
       "    </tr>\n",
       "    <tr>\n",
       "      <th>25865</th>\n",
       "      <td>2020-01-12</td>\n",
       "      <td>IE</td>\n",
       "      <td>Ireland</td>\n",
       "      <td>Europe</td>\n",
       "      <td>EURO</td>\n",
       "      <td>NaN</td>\n",
       "      <td>0</td>\n",
       "      <td>NaN</td>\n",
       "      <td>0</td>\n",
       "    </tr>\n",
       "    <tr>\n",
       "      <th>25866</th>\n",
       "      <td>2020-01-19</td>\n",
       "      <td>IE</td>\n",
       "      <td>Ireland</td>\n",
       "      <td>Europe</td>\n",
       "      <td>EURO</td>\n",
       "      <td>NaN</td>\n",
       "      <td>0</td>\n",
       "      <td>NaN</td>\n",
       "      <td>0</td>\n",
       "    </tr>\n",
       "    <tr>\n",
       "      <th>25867</th>\n",
       "      <td>2020-01-26</td>\n",
       "      <td>IE</td>\n",
       "      <td>Ireland</td>\n",
       "      <td>Europe</td>\n",
       "      <td>EURO</td>\n",
       "      <td>NaN</td>\n",
       "      <td>0</td>\n",
       "      <td>NaN</td>\n",
       "      <td>0</td>\n",
       "    </tr>\n",
       "    <tr>\n",
       "      <th>25868</th>\n",
       "      <td>2020-02-02</td>\n",
       "      <td>IE</td>\n",
       "      <td>Ireland</td>\n",
       "      <td>Europe</td>\n",
       "      <td>EURO</td>\n",
       "      <td>NaN</td>\n",
       "      <td>0</td>\n",
       "      <td>NaN</td>\n",
       "      <td>0</td>\n",
       "    </tr>\n",
       "  </tbody>\n",
       "</table>\n",
       "</div>"
      ],
      "text/plain": [
       "      Date_reported Country_code  Country Continent WHO_region  New_cases  \\\n",
       "25864    2020-01-05           IE  Ireland    Europe       EURO        NaN   \n",
       "25865    2020-01-12           IE  Ireland    Europe       EURO        NaN   \n",
       "25866    2020-01-19           IE  Ireland    Europe       EURO        NaN   \n",
       "25867    2020-01-26           IE  Ireland    Europe       EURO        NaN   \n",
       "25868    2020-02-02           IE  Ireland    Europe       EURO        NaN   \n",
       "\n",
       "       Cumulative_cases  New_deaths  Cumulative_deaths  \n",
       "25864                 0         NaN                  0  \n",
       "25865                 0         NaN                  0  \n",
       "25866                 0         NaN                  0  \n",
       "25867                 0         NaN                  0  \n",
       "25868                 0         NaN                  0  "
      ]
     },
     "execution_count": 3,
     "metadata": {},
     "output_type": "execute_result"
    }
   ],
   "source": [
    "countries = ['Italy', 'Ireland', 'Japan']\n",
    "df_countries = df[df['Country'].isin(countries)]\n",
    "df_countries.head()"
   ]
  },
  {
   "cell_type": "code",
   "execution_count": 7,
   "id": "44470084-0480-4e1a-bd67-9f98a352df26",
   "metadata": {
    "scrolled": true
   },
   "outputs": [
    {
     "name": "stderr",
     "output_type": "stream",
     "text": [
      "C:\\Users\\armel\\AppData\\Local\\Temp\\ipykernel_18732\\3875922831.py:1: SettingWithCopyWarning: \n",
      "A value is trying to be set on a copy of a slice from a DataFrame.\n",
      "Try using .loc[row_indexer,col_indexer] = value instead\n",
      "\n",
      "See the caveats in the documentation: https://pandas.pydata.org/pandas-docs/stable/user_guide/indexing.html#returning-a-view-versus-a-copy\n",
      "  df_countries['Date_reported'] = pd.to_datetime(df_countries['Date_reported'])\n"
     ]
    },
    {
     "data": {
      "text/plain": [
       "dtype('<M8[ns]')"
      ]
     },
     "execution_count": 7,
     "metadata": {},
     "output_type": "execute_result"
    }
   ],
   "source": [
    "df_countries['Date_reported'] = pd.to_datetime(df_countries['Date_reported'])\n",
    "df_countries['Date_reported'].dtype"
   ]
  },
  {
   "cell_type": "code",
   "execution_count": 29,
   "id": "4b8e5fae",
   "metadata": {},
   "outputs": [
    {
     "data": {
      "image/png": "[encoded data removed]",
      "text/plain": [
       "<Figure size 1200x600 with 1 Axes>"
      ]
     },
     "metadata": {},
     "output_type": "display_data"
    }
   ],
   "source": [
    "plt.figure(figsize=(12, 6))\n",
    "sns.lineplot(data = df_countries, x = 'Date_reported', y = 'Cumulative_cases', hue='Country')\n",
    "\n",
    "# Customize the x-axis\n",
    "plt.xticks(rotation=90) \n",
    "plt.gca().xaxis.set_major_locator(ticker.MultipleLocator(30))\n",
    "\n",
    "# Add labels and title\n",
    "plt.xlabel('Date reported')\n",
    "plt.ylabel('Cumulative cases')\n",
    "plt.title('Cumulative COVID-19 cases over time for Italy, Ireland and Japan')\n",
    "\n",
    "plt.show()"
   ]
  },
  {
   "cell_type": "markdown",
   "id": "fa8217b4-a79d-480f-b3aa-2c7c5397ab3e",
   "metadata": {},
   "source": [
    "## 2- Make a line plot showing the cumulative_deaths vs cumulative_cases for 3 countries using `plotly` (7.5 points)"
   ]
  },
  {
   "cell_type": "code",
   "execution_count": 16,
   "id": "696feb0b",
   "metadata": {},
   "outputs": [],
   "source": [
    "import plotly.express as px"
   ]
  },
  {
   "cell_type": "code",
   "execution_count": 24,
   "id": "fee1d763-3047-4f72-97e8-d6fb6be73665",
   "metadata": {},
   "outputs": [],
   "source": [
    "countries = ['Austria', 'Argentina', 'Australia'] \n",
    "df_countries_2 = df[df['Country'].isin(countries)]"
   ]
  },
  {
   "cell_type": "code",
   "execution_count": 28,
   "id": "679395d8-d2c8-486b-9816-79eff57c5da4",
   "metadata": {},
   "outputs": [
    {
     "data": {
      "application/vnd.plotly.v1+json": {
       "config": {
        "plotlyServerURL": "https://plot.ly"
       },
       "data": [
        {
         "hovertemplate": "Country=Argentina<br>Cumulative cases=%{x}<br>Cumulative deaths=%{y}<extra></extra>",
         "legendgroup": "Argentina",
         "line": {
          "color": "#636efa",
          "dash": "solid"
         },
         "marker": {
          "symbol": "circle"
         },
         "mode": "lines",
         "name": "Argentina",
         "orientation": "v",
         "showlegend": true,
         "type": "scatter",
         "x": [
          0,
          0,
          0,
          0,
          0,
          0,
          0,
          0,
          0,
          22,
          131,
          536,
          1282,
          2073,
          2990,
          4066,
          5464,
          6753,
          8650,
          11560,
          16621,
          22406,
          29703,
          40388,
          54438,
          73445,
          93640,
          118611,
          150183,
          189430,
          231395,
          283036,
          331713,
          382896,
          451875,
          524195,
          602353,
          677683,
          759395,
          846449,
          942666,
          1038648,
          1136236,
          1217740,
          1288465,
          1355594,
          1413481,
          1461515,
          1504277,
          1539591,
          1585045,
          1629908,
          1690372,
          1775105,
          1853051,
          1932367,
          1993552,
          2044821,
          2095565,
          2138252,
          2182953,
          2226676,
          2276955,
          2328586,
          2400067,
          2494044,
          2647413,
          2811936,
          2977690,
          3119183,
          3263891,
          3429880,
          3664540,
          3872872,
          4068077,
          4230846,
          4368482,
          4501629,
          4627073,
          4735954,
          4841064,
          4929412,
          5016637,
          5097074,
          5159380,
          5206634,
          5244899,
          5273430,
          5293290,
          5307511,
          5318508,
          5327758,
          5334391,
          5341605,
          5350202,
          5359226,
          5367868,
          5377283,
          5387530,
          5399385,
          5415148,
          5435325,
          5473126,
          5559916,
          5821928,
          6469649,
          7240336,
          7968118,
          8400422,
          8627251,
          8751916,
          8835152,
          8899363,
          8935976,
          8967916,
          9001945,
          9017872,
          9030866,
          9040703,
          9047398,
          9072230,
          9083673,
          9101319,
          9135308,
          9178795,
          9230573,
          9276618,
          9313453,
          9341492,
          9367172,
          9394326,
          9426171,
          9465827,
          9507562,
          9560307,
          9602534,
          9633732,
          9658391,
          9678225,
          9689861,
          9697763,
          9703938,
          9708420,
          9711355,
          9713594,
          9715464,
          9717546,
          9718875,
          9720232,
          9721718,
          9723924,
          9727247,
          9739856,
          9766975,
          9829236,
          9891139,
          9963697,
          10004679,
          10024095,
          10032709,
          10037135,
          10040329,
          10042136,
          10043308,
          10044125,
          10044957,
          10044957,
          10044957,
          10044957,
          10044957,
          10044957,
          10044957,
          10044957,
          10044957,
          10044957,
          10044957,
          10044957,
          10044957,
          10044957,
          10044957,
          10044957,
          10044957,
          10044957,
          10044957,
          10044957,
          10044957,
          10044957,
          10044957,
          10044957,
          10044957,
          10044957,
          10044957,
          10044957,
          10044957,
          10044957,
          10044957,
          10044957,
          10044957,
          10044957,
          10044957,
          10044957,
          10044957,
          10044957,
          10044957,
          10044957,
          10044957,
          10044957,
          10044957,
          10044957,
          10047173,
          10051206,
          10057795,
          10066822,
          10075726,
          10081924,
          10085671,
          10089753,
          10092775,
          10094866,
          10096783,
          10098101,
          10098777,
          10099194,
          10099472,
          10099683,
          10099834,
          10099955,
          10100033,
          10100126,
          10100242,
          10100349,
          10100481,
          10100616,
          10100738,
          10100847,
          10100930,
          10101009,
          10101104,
          10101204,
          10101326,
          10101456,
          10101599,
          10101749,
          10101858
         ],
         "xaxis": "x",
         "y": [
          0,
          0,
          0,
          0,
          0,
          0,
          0,
          0,
          0,
          1,
          9,
          20,
          70,
          131,
          205,
          279,
          411,
          526,
          646,
          790,
          1009,
          1306,
          1664,
          2122,
          2724,
          3500,
          4403,
          5556,
          6930,
          8474,
          9930,
          11692,
          13354,
          15231,
          17491,
          19815,
          22261,
          24601,
          27057,
          29580,
          32182,
          34631,
          36979,
          38833,
          40516,
          41968,
          43138,
          44081,
          44943,
          45738,
          46648,
          47507,
          48610,
          50025,
          51325,
          52585,
          53716,
          54664,
          55599,
          56396,
          57227,
          58111,
          59088,
          60082,
          61341,
          62995,
          65614,
          68907,
          72377,
          75492,
          78681,
          82322,
          86838,
          91177,
          95155,
          98472,
          101166,
          103698,
          105867,
          107756,
          109538,
          110905,
          112110,
          113267,
          114160,
          114844,
          115381,
          115799,
          116089,
          116307,
          116434,
          116521,
          116605,
          116691,
          116761,
          116823,
          116887,
          116969,
          117068,
          117182,
          117299,
          117434,
          117597,
          117830,
          118251,
          119254,
          121062,
          123526,
          125514,
          126726,
          127354,
          127808,
          128031,
          128144,
          128215,
          128266,
          128299,
          128330,
          128341,
          128344,
          128542,
          128653,
          128729,
          128776,
          128825,
          128889,
          128973,
          128994,
          129016,
          129070,
          129109,
          129145,
          129202,
          129278,
          129369,
          129440,
          129566,
          129646,
          129711,
          129769,
          129830,
          129855,
          129897,
          129937,
          129958,
          129970,
          129979,
          129991,
          130003,
          130011,
          130017,
          130025,
          130034,
          130041,
          130080,
          130124,
          130171,
          130249,
          130338,
          130394,
          130421,
          130437,
          130448,
          130458,
          130463,
          130472,
          130472,
          130472,
          130472,
          130472,
          130472,
          130472,
          130472,
          130472,
          130472,
          130472,
          130472,
          130472,
          130472,
          130472,
          130472,
          130472,
          130472,
          130472,
          130472,
          130472,
          130472,
          130472,
          130472,
          130472,
          130472,
          130472,
          130472,
          130472,
          130472,
          130472,
          130472,
          130472,
          130472,
          130472,
          130472,
          130472,
          130472,
          130472,
          130472,
          130472,
          130472,
          130472,
          130472,
          130478,
          130490,
          130508,
          130526,
          130551,
          130575,
          130595,
          130604,
          130615,
          130622,
          130630,
          130638,
          130644,
          130644,
          130645,
          130647,
          130647,
          130650,
          130650,
          130652,
          130655,
          130656,
          130659,
          130659,
          130660,
          130660,
          130661,
          130662,
          130662,
          130663,
          130665,
          130665,
          130666,
          130666,
          130667
         ],
         "yaxis": "y"
        },
        {
         "hovertemplate": "Country=Australia<br>Cumulative cases=%{x}<br>Cumulative deaths=%{y}<extra></extra>",
         "legendgroup": "Australia",
         "line": {
          "color": "#EF553B",
          "dash": "solid"
         },
         "marker": {
          "symbol": "circle"
         },
         "mode": "lines",
         "name": "Australia",
         "orientation": "v",
         "showlegend": true,
         "type": "scatter",
         "x": [
          0,
          0,
          0,
          4,
          12,
          15,
          15,
          22,
          25,
          70,
          249,
          1081,
          3809,
          5635,
          6289,
          6586,
          6703,
          6783,
          6929,
          7036,
          7106,
          7185,
          7255,
          7302,
          7436,
          7641,
          8362,
          9553,
          11441,
          13950,
          17282,
          20698,
          23035,
          24602,
          25547,
          26207,
          26607,
          26885,
          27016,
          27121,
          27244,
          27383,
          27499,
          27590,
          27652,
          27711,
          27807,
          27885,
          27956,
          28025,
          28128,
          28296,
          28483,
          28595,
          28708,
          28766,
          28811,
          28850,
          28898,
          28926,
          28970,
          29037,
          29117,
          29196,
          29260,
          29348,
          29405,
          29519,
          29666,
          29826,
          29923,
          29975,
          30011,
          30098,
          30455,
          30513,
          30600,
          30835,
          31111,
          31660,
          32535,
          33795,
          35462,
          37775,
          41388,
          47521,
          55661,
          66755,
          79351,
          91652,
          104150,
          119551,
          134832,
          150179,
          163938,
          173984,
          183650,
          192351,
          201681,
          211425,
          221951,
          235354,
          266843,
          366607,
          656221,
          1245034,
          1707359,
          2055319,
          2323136,
          2524248,
          2696002,
          2856431,
          3016833,
          3212550,
          3454398,
          3781638,
          4167400,
          4563382,
          4923147,
          5229331,
          5518613,
          5790667,
          6094728,
          6445103,
          6756819,
          6997248,
          7197212,
          7381684,
          7572727,
          7777035,
          7777035,
          8020732,
          8292337,
          8595366,
          8915145,
          9174479,
          9374876,
          9514054,
          9617238,
          9697223,
          9760615,
          9811888,
          9855289,
          9892867,
          9931541,
          9962868,
          9992488,
          10022851,
          10058614,
          10110924,
          10184497,
          10267904,
          10365801,
          10473703,
          10585719,
          10694041,
          10785559,
          10872548,
          10918551,
          10949460,
          10971501,
          10990423,
          11007490,
          11025417,
          11043231,
          11061493,
          11081273,
          11102954,
          11125968,
          11151489,
          11179139,
          11206194,
          11236160,
          11265591,
          11295254,
          11327113,
          11364833,
          11405845,
          11444896,
          11478021,
          11500790,
          11517612,
          11531163,
          11541674,
          11549500,
          11555995,
          11561520,
          11566930,
          11572046,
          11577240,
          11582416,
          11587907,
          11592940,
          11597957,
          11603146,
          11608539,
          11614100,
          11618791,
          11624149,
          11630496,
          11638183,
          11648476,
          11659275,
          11669557,
          11679177,
          11689158,
          11699655,
          11710801,
          11721535,
          11731353,
          11742407,
          11753199,
          11762242,
          11770160,
          11778260,
          11785721,
          11793119,
          11800507,
          11807226,
          11813740,
          11818941,
          11823639,
          11827920,
          11832442,
          11836866,
          11841523,
          11846389,
          11853158,
          11861161,
          11861161,
          11861161,
          11861161,
          11861161,
          11861161,
          11861161,
          11861161,
          11861161,
          11861161,
          11861161,
          11861161,
          11861161,
          11861161,
          11861161,
          11861161
         ],
         "xaxis": "x",
         "y": [
          0,
          0,
          0,
          0,
          0,
          0,
          0,
          0,
          0,
          4,
          7,
          9,
          16,
          36,
          61,
          73,
          85,
          99,
          101,
          103,
          107,
          107,
          107,
          107,
          107,
          108,
          109,
          113,
          129,
          174,
          269,
          375,
          513,
          627,
          724,
          782,
          828,
          864,
          887,
          906,
          911,
          912,
          914,
          914,
          914,
          917,
          917,
          918,
          919,
          919,
          919,
          920,
          922,
          922,
          923,
          923,
          923,
          923,
          923,
          924,
          924,
          924,
          925,
          925,
          925,
          926,
          926,
          928,
          928,
          928,
          928,
          928,
          928,
          928,
          928,
          928,
          928,
          928,
          928,
          930,
          935,
          940,
          947,
          963,
          990,
          1012,
          1032,
          1084,
          1140,
          1217,
          1312,
          1422,
          1541,
          1646,
          1754,
          1866,
          1963,
          2029,
          2110,
          2166,
          2218,
          2254,
          2308,
          2377,
          2480,
          2699,
          3139,
          3799,
          4469,
          5050,
          5486,
          5810,
          6052,
          6203,
          6343,
          6482,
          6631,
          6831,
          7029,
          7279,
          7594,
          7889,
          8204,
          8543,
          8860,
          9204,
          9579,
          9910,
          10254,
          10578,
          10922,
          11322,
          11773,
          12380,
          12998,
          13601,
          14127,
          14502,
          14831,
          15071,
          15285,
          15469,
          15616,
          15729,
          15831,
          15905,
          16008,
          16093,
          16204,
          16320,
          16474,
          16652,
          16911,
          17183,
          17482,
          17816,
          18910,
          18910,
          18910,
          18910,
          18910,
          20071,
          20167,
          20256,
          20346,
          20424,
          20502,
          20590,
          20683,
          20786,
          20909,
          21040,
          21186,
          21341,
          21514,
          21687,
          21857,
          22070,
          22302,
          22528,
          22711,
          22770,
          22770,
          22770,
          22770,
          22694,
          22779,
          22839,
          22906,
          22962,
          23015,
          23054,
          23094,
          23132,
          23169,
          23202,
          23280,
          23325,
          23377,
          23449,
          23500,
          23613,
          23704,
          23793,
          23945,
          24117,
          24209,
          24273,
          24344,
          24407,
          24467,
          24604,
          24657,
          24710,
          24785,
          24843,
          24883,
          24925,
          24958,
          24958,
          25005,
          25039,
          25090,
          25131,
          25165,
          25186,
          25202,
          25220,
          25236,
          25236,
          25236,
          25236,
          25236,
          25236,
          25236,
          25236,
          25236,
          25236,
          25236,
          25236,
          25236,
          25236,
          25236,
          25236
         ],
         "yaxis": "y"
        },
        {
         "hovertemplate": "Country=Austria<br>Cumulative cases=%{x}<br>Cumulative deaths=%{y}<extra></extra>",
         "legendgroup": "Austria",
         "line": {
          "color": "#00cc96",
          "dash": "solid"
         },
         "marker": {
          "symbol": "circle"
         },
         "mode": "lines",
         "name": "Austria",
         "orientation": "v",
         "showlegend": true,
         "type": "scatter",
         "x": [
          0,
          0,
          0,
          0,
          0,
          0,
          0,
          0,
          7,
          75,
          588,
          1132,
          4946,
          8699,
          10641,
          11530,
          11980,
          12346,
          12605,
          12934,
          13183,
          13396,
          13604,
          13792,
          14019,
          14307,
          14872,
          15508,
          16266,
          17093,
          17969,
          18645,
          19955,
          21767,
          23671,
          25812,
          29562,
          34468,
          39129,
          44420,
          51522,
          60581,
          76114,
          103932,
          146894,
          196085,
          238882,
          271456,
          295705,
          314181,
          331311,
          344732,
          358944,
          374048,
          385518,
          396046,
          405558,
          414739,
          424012,
          435117,
          448598,
          464277,
          482257,
          502637,
          524181,
          545682,
          564412,
          581195,
          596850,
          610362,
          620013,
          626334,
          630836,
          634135,
          636634,
          638645,
          639733,
          640498,
          641128,
          642023,
          643963,
          646444,
          649578,
          653011,
          658280,
          665889,
          674984,
          685720,
          699542,
          713775,
          725512,
          737953,
          750773,
          764851,
          786497,
          816962,
          867682,
          939902,
          1033830,
          1124509,
          1183306,
          1215493,
          1236974,
          1252088,
          1272013,
          1319155,
          1420424,
          1579059,
          1799543,
          2031257,
          2254345,
          2455278,
          2640416,
          2846664,
          3128261,
          3447369,
          3717601,
          3890190,
          3994180,
          4062353,
          4114550,
          4156240,
          4194228,
          4225518,
          4248083,
          4263234,
          4281912,
          4305880,
          4341296,
          4399333,
          4467895,
          4542118,
          4622675,
          4705229,
          4765609,
          4809941,
          4849225,
          4886836,
          4921655,
          4951809,
          4980755,
          5014675,
          5062434,
          5140089,
          5236910,
          5327745,
          5392295,
          5431543,
          5462376,
          5487967,
          5514486,
          5543813,
          5576833,
          5608655,
          5644906,
          5678345,
          5705073,
          5724179,
          5740529,
          5754028,
          5772271,
          5798376,
          5826139,
          5859463,
          5897226,
          5936699,
          5971117,
          5999464,
          6021781,
          6036091,
          6045180,
          6052688,
          6059364,
          6064827,
          6068853,
          6071914,
          6074059,
          6076404,
          6077872,
          6078890,
          6079947,
          6080775,
          6081287,
          6081287,
          6081287,
          6081287,
          6081287,
          6081287,
          6081287,
          6081287,
          6081287,
          6081287,
          6081287,
          6081287,
          6081287,
          6081287,
          6081287,
          6081287,
          6081287,
          6081287,
          6081350,
          6081437,
          6081513,
          6081617,
          6081748,
          6081850,
          6081998,
          6082124,
          6082170,
          6082220,
          6082255,
          6082279,
          6082292,
          6082307,
          6082323,
          6082327,
          6082330,
          6082334,
          6082336,
          6082337,
          6082339,
          6082341,
          6082341,
          6082342,
          6082343,
          6082345,
          6082347,
          6082347,
          6082348,
          6082348,
          6082351,
          6082354,
          6082356,
          6082365,
          6082373,
          6082390,
          6082402,
          6082414,
          6082429,
          6082444,
          6082465,
          6082479,
          6082493,
          6082508
         ],
         "xaxis": "x",
         "y": [
          0,
          0,
          0,
          0,
          0,
          0,
          0,
          0,
          0,
          0,
          1,
          15,
          66,
          169,
          320,
          431,
          516,
          576,
          609,
          629,
          646,
          658,
          674,
          686,
          703,
          719,
          730,
          735,
          744,
          754,
          767,
          780,
          791,
          802,
          812,
          825,
          838,
          858,
          889,
          925,
          988,
          1050,
          1162,
          1376,
          1729,
          2300,
          3027,
          3849,
          4806,
          5677,
          6406,
          7049,
          7599,
          8052,
          8490,
          8891,
          9278,
          9599,
          9867,
          10084,
          10309,
          10505,
          10713,
          10956,
          11175,
          11424,
          11688,
          11938,
          12159,
          12337,
          12517,
          12634,
          12714,
          12789,
          12844,
          12883,
          12914,
          12940,
          12962,
          12978,
          12992,
          13005,
          13018,
          13041,
          13054,
          13068,
          13095,
          13133,
          13192,
          13260,
          13338,
          13415,
          13492,
          13580,
          13691,
          13828,
          14020,
          14307,
          14693,
          15160,
          15643,
          16086,
          16389,
          16587,
          16741,
          16830,
          16902,
          16973,
          17079,
          17206,
          17376,
          17577,
          17790,
          18018,
          18210,
          18436,
          18724,
          19013,
          19239,
          19418,
          19556,
          19656,
          19732,
          19793,
          19827,
          19866,
          19887,
          19909,
          19937,
          19970,
          20023,
          20081,
          20138,
          20227,
          20331,
          20407,
          20490,
          20547,
          20602,
          20634,
          20686,
          20720,
          20753,
          20804,
          20890,
          20983,
          21052,
          21143,
          21200,
          21249,
          21310,
          21351,
          21401,
          21444,
          21496,
          21571,
          21644,
          21708,
          21774,
          21816,
          21858,
          21912,
          21949,
          21983,
          22043,
          22097,
          22169,
          22216,
          22274,
          22315,
          22353,
          22389,
          22418,
          22451,
          22471,
          22484,
          22496,
          22508,
          22520,
          22525,
          22532,
          22534,
          22534,
          22534,
          22534,
          22534,
          22534,
          22534,
          22534,
          22534,
          22534,
          22534,
          22534,
          22534,
          22534,
          22534,
          22534,
          22534,
          22534,
          22534,
          22534,
          22534,
          22534,
          22534,
          22534,
          22534,
          22534,
          22534,
          22534,
          22534,
          22534,
          22534,
          22534,
          22534,
          22534,
          22534,
          22534,
          22534,
          22534,
          22534,
          22534,
          22534,
          22534,
          22534,
          22534,
          22534,
          22534,
          22534,
          22534,
          22534,
          22534,
          22534,
          22534,
          22534,
          22534,
          22534,
          22534,
          22534,
          22534,
          22534,
          22534,
          22534,
          22534,
          22534
         ],
         "yaxis": "y"
        }
       ],
       "layout": {
        "legend": {
         "title": {
          "text": "Country"
         },
         "tracegroupgap": 0
        },
        "template": {
         "data": {
          "bar": [
           {
            "error_x": {
             "color": "#2a3f5f"
            },
            "error_y": {
             "color": "#2a3f5f"
            },
            "marker": {
             "line": {
              "color": "#E5ECF6",
              "width": 0.5
             },
             "pattern": {
              "fillmode": "overlay",
              "size": 10,
              "solidity": 0.2
             }
            },
            "type": "bar"
           }
          ],
          "barpolar": [
           {
            "marker": {
             "line": {
              "color": "#E5ECF6",
              "width": 0.5
             },
             "pattern": {
              "fillmode": "overlay",
              "size": 10,
              "solidity": 0.2
             }
            },
            "type": "barpolar"
           }
          ],
          "carpet": [
           {
            "aaxis": {
             "endlinecolor": "#2a3f5f",
             "gridcolor": "white",
             "linecolor": "white",
             "minorgridcolor": "white",
             "startlinecolor": "#2a3f5f"
            },
            "baxis": {
             "endlinecolor": "#2a3f5f",
             "gridcolor": "white",
             "linecolor": "white",
             "minorgridcolor": "white",
             "startlinecolor": "#2a3f5f"
            },
            "type": "carpet"
           }
          ],
          "choropleth": [
           {
            "colorbar": {
             "outlinewidth": 0,
             "ticks": ""
            },
            "type": "choropleth"
           }
          ],
          "contour": [
           {
            "colorbar": {
             "outlinewidth": 0,
             "ticks": ""
            },
            "colorscale": [
             [
              0,
              "#0d0887"
             ],
             [
              0.1111111111111111,
              "#46039f"
             ],
             [
              0.2222222222222222,
              "#7201a8"
             ],
             [
              0.3333333333333333,
              "#9c179e"
             ],
             [
              0.4444444444444444,
              "#bd3786"
             ],
             [
              0.5555555555555556,
              "#d8576b"
             ],
             [
              0.6666666666666666,
              "#ed7953"
             ],
             [
              0.7777777777777778,
              "#fb9f3a"
             ],
             [
              0.8888888888888888,
              "#fdca26"
             ],
             [
              1,
              "#f0f921"
             ]
            ],
            "type": "contour"
           }
          ],
          "contourcarpet": [
           {
            "colorbar": {
             "outlinewidth": 0,
             "ticks": ""
            },
            "type": "contourcarpet"
           }
          ],
          "heatmap": [
           {
            "colorbar": {
             "outlinewidth": 0,
             "ticks": ""
            },
            "colorscale": [
             [
              0,
              "#0d0887"
             ],
             [
              0.1111111111111111,
              "#46039f"
             ],
             [
              0.2222222222222222,
              "#7201a8"
             ],
             [
              0.3333333333333333,
              "#9c179e"
             ],
             [
              0.4444444444444444,
              "#bd3786"
             ],
             [
              0.5555555555555556,
              "#d8576b"
             ],
             [
              0.6666666666666666,
              "#ed7953"
             ],
             [
              0.7777777777777778,
              "#fb9f3a"
             ],
             [
              0.8888888888888888,
              "#fdca26"
             ],
             [
              1,
              "#f0f921"
             ]
            ],
            "type": "heatmap"
           }
          ],
          "heatmapgl": [
           {
            "colorbar": {
             "outlinewidth": 0,
             "ticks": ""
            },
            "colorscale": [
             [
              0,
              "#0d0887"
             ],
             [
              0.1111111111111111,
              "#46039f"
             ],
             [
              0.2222222222222222,
              "#7201a8"
             ],
             [
              0.3333333333333333,
              "#9c179e"
             ],
             [
              0.4444444444444444,
              "#bd3786"
             ],
             [
              0.5555555555555556,
              "#d8576b"
             ],
             [
              0.6666666666666666,
              "#ed7953"
             ],
             [
              0.7777777777777778,
              "#fb9f3a"
             ],
             [
              0.8888888888888888,
              "#fdca26"
             ],
             [
              1,
              "#f0f921"
             ]
            ],
            "type": "heatmapgl"
           }
          ],
          "histogram": [
           {
            "marker": {
             "pattern": {
              "fillmode": "overlay",
              "size": 10,
              "solidity": 0.2
             }
            },
            "type": "histogram"
           }
          ],
          "histogram2d": [
           {
            "colorbar": {
             "outlinewidth": 0,
             "ticks": ""
            },
            "colorscale": [
             [
              0,
              "#0d0887"
             ],
             [
              0.1111111111111111,
              "#46039f"
             ],
             [
              0.2222222222222222,
              "#7201a8"
             ],
             [
              0.3333333333333333,
              "#9c179e"
             ],
             [
              0.4444444444444444,
              "#bd3786"
             ],
             [
              0.5555555555555556,
              "#d8576b"
             ],
             [
              0.6666666666666666,
              "#ed7953"
             ],
             [
              0.7777777777777778,
              "#fb9f3a"
             ],
             [
              0.8888888888888888,
              "#fdca26"
             ],
             [
              1,
              "#f0f921"
             ]
            ],
            "type": "histogram2d"
           }
          ],
          "histogram2dcontour": [
           {
            "colorbar": {
             "outlinewidth": 0,
             "ticks": ""
            },
            "colorscale": [
             [
              0,
              "#0d0887"
             ],
             [
              0.1111111111111111,
              "#46039f"
             ],
             [
              0.2222222222222222,
              "#7201a8"
             ],
             [
              0.3333333333333333,
              "#9c179e"
             ],
             [
              0.4444444444444444,
              "#bd3786"
             ],
             [
              0.5555555555555556,
              "#d8576b"
             ],
             [
              0.6666666666666666,
              "#ed7953"
             ],
             [
              0.7777777777777778,
              "#fb9f3a"
             ],
             [
              0.8888888888888888,
              "#fdca26"
             ],
             [
              1,
              "#f0f921"
             ]
            ],
            "type": "histogram2dcontour"
           }
          ],
          "mesh3d": [
           {
            "colorbar": {
             "outlinewidth": 0,
             "ticks": ""
            },
            "type": "mesh3d"
           }
          ],
          "parcoords": [
           {
            "line": {
             "colorbar": {
              "outlinewidth": 0,
              "ticks": ""
             }
            },
            "type": "parcoords"
           }
          ],
          "pie": [
           {
            "automargin": true,
            "type": "pie"
           }
          ],
          "scatter": [
           {
            "fillpattern": {
             "fillmode": "overlay",
             "size": 10,
             "solidity": 0.2
            },
            "type": "scatter"
           }
          ],
          "scatter3d": [
           {
            "line": {
             "colorbar": {
              "outlinewidth": 0,
              "ticks": ""
             }
            },
            "marker": {
             "colorbar": {
              "outlinewidth": 0,
              "ticks": ""
             }
            },
            "type": "scatter3d"
           }
          ],
          "scattercarpet": [
           {
            "marker": {
             "colorbar": {
              "outlinewidth": 0,
              "ticks": ""
             }
            },
            "type": "scattercarpet"
           }
          ],
          "scattergeo": [
           {
            "marker": {
             "colorbar": {
              "outlinewidth": 0,
              "ticks": ""
             }
            },
            "type": "scattergeo"
           }
          ],
          "scattergl": [
           {
            "marker": {
             "colorbar": {
              "outlinewidth": 0,
              "ticks": ""
             }
            },
            "type": "scattergl"
           }
          ],
          "scattermapbox": [
           {
            "marker": {
             "colorbar": {
              "outlinewidth": 0,
              "ticks": ""
             }
            },
            "type": "scattermapbox"
           }
          ],
          "scatterpolar": [
           {
            "marker": {
             "colorbar": {
              "outlinewidth": 0,
              "ticks": ""
             }
            },
            "type": "scatterpolar"
           }
          ],
          "scatterpolargl": [
           {
            "marker": {
             "colorbar": {
              "outlinewidth": 0,
              "ticks": ""
             }
            },
            "type": "scatterpolargl"
           }
          ],
          "scatterternary": [
           {
            "marker": {
             "colorbar": {
              "outlinewidth": 0,
              "ticks": ""
             }
            },
            "type": "scatterternary"
           }
          ],
          "surface": [
           {
            "colorbar": {
             "outlinewidth": 0,
             "ticks": ""
            },
            "colorscale": [
             [
              0,
              "#0d0887"
             ],
             [
              0.1111111111111111,
              "#46039f"
             ],
             [
              0.2222222222222222,
              "#7201a8"
             ],
             [
              0.3333333333333333,
              "#9c179e"
             ],
             [
              0.4444444444444444,
              "#bd3786"
             ],
             [
              0.5555555555555556,
              "#d8576b"
             ],
             [
              0.6666666666666666,
              "#ed7953"
             ],
             [
              0.7777777777777778,
              "#fb9f3a"
             ],
             [
              0.8888888888888888,
              "#fdca26"
             ],
             [
              1,
              "#f0f921"
             ]
            ],
            "type": "surface"
           }
          ],
          "table": [
           {
            "cells": {
             "fill": {
              "color": "#EBF0F8"
             },
             "line": {
              "color": "white"
             }
            },
            "header": {
             "fill": {
              "color": "#C8D4E3"
             },
             "line": {
              "color": "white"
             }
            },
            "type": "table"
           }
          ]
         },
         "layout": {
          "annotationdefaults": {
           "arrowcolor": "#2a3f5f",
           "arrowhead": 0,
           "arrowwidth": 1
          },
          "autotypenumbers": "strict",
          "coloraxis": {
           "colorbar": {
            "outlinewidth": 0,
            "ticks": ""
           }
          },
          "colorscale": {
           "diverging": [
            [
             0,
             "#8e0152"
            ],
            [
             0.1,
             "#c51b7d"
            ],
            [
             0.2,
             "#de77ae"
            ],
            [
             0.3,
             "#f1b6da"
            ],
            [
             0.4,
             "#fde0ef"
            ],
            [
             0.5,
             "#f7f7f7"
            ],
            [
             0.6,
             "#e6f5d0"
            ],
            [
             0.7,
             "#b8e186"
            ],
            [
             0.8,
             "#7fbc41"
            ],
            [
             0.9,
             "#4d9221"
            ],
            [
             1,
             "#276419"
            ]
           ],
           "sequential": [
            [
             0,
             "#0d0887"
            ],
            [
             0.1111111111111111,
             "#46039f"
            ],
            [
             0.2222222222222222,
             "#7201a8"
            ],
            [
             0.3333333333333333,
             "#9c179e"
            ],
            [
             0.4444444444444444,
             "#bd3786"
            ],
            [
             0.5555555555555556,
             "#d8576b"
            ],
            [
             0.6666666666666666,
             "#ed7953"
            ],
            [
             0.7777777777777778,
             "#fb9f3a"
            ],
            [
             0.8888888888888888,
             "#fdca26"
            ],
            [
             1,
             "#f0f921"
            ]
           ],
           "sequentialminus": [
            [
             0,
             "#0d0887"
            ],
            [
             0.1111111111111111,
             "#46039f"
            ],
            [
             0.2222222222222222,
             "#7201a8"
            ],
            [
             0.3333333333333333,
             "#9c179e"
            ],
            [
             0.4444444444444444,
             "#bd3786"
            ],
            [
             0.5555555555555556,
             "#d8576b"
            ],
            [
             0.6666666666666666,
             "#ed7953"
            ],
            [
             0.7777777777777778,
             "#fb9f3a"
            ],
            [
             0.8888888888888888,
             "#fdca26"
            ],
            [
             1,
             "#f0f921"
            ]
           ]
          },
          "colorway": [
           "#636efa",
           "#EF553B",
           "#00cc96",
           "#ab63fa",
           "#FFA15A",
           "#19d3f3",
           "#FF6692",
           "#B6E880",
           "#FF97FF",
           "#FECB52"
          ],
          "font": {
           "color": "#2a3f5f"
          },
          "geo": {
           "bgcolor": "white",
           "lakecolor": "white",
           "landcolor": "#E5ECF6",
           "showlakes": true,
           "showland": true,
           "subunitcolor": "white"
          },
          "hoverlabel": {
           "align": "left"
          },
          "hovermode": "closest",
          "mapbox": {
           "style": "light"
          },
          "paper_bgcolor": "white",
          "plot_bgcolor": "#E5ECF6",
          "polar": {
           "angularaxis": {
            "gridcolor": "white",
            "linecolor": "white",
            "ticks": ""
           },
           "bgcolor": "#E5ECF6",
           "radialaxis": {
            "gridcolor": "white",
            "linecolor": "white",
            "ticks": ""
           }
          },
          "scene": {
           "xaxis": {
            "backgroundcolor": "#E5ECF6",
            "gridcolor": "white",
            "gridwidth": 2,
            "linecolor": "white",
            "showbackground": true,
            "ticks": "",
            "zerolinecolor": "white"
           },
           "yaxis": {
            "backgroundcolor": "#E5ECF6",
            "gridcolor": "white",
            "gridwidth": 2,
            "linecolor": "white",
            "showbackground": true,
            "ticks": "",
            "zerolinecolor": "white"
           },
           "zaxis": {
            "backgroundcolor": "#E5ECF6",
            "gridcolor": "white",
            "gridwidth": 2,
            "linecolor": "white",
            "showbackground": true,
            "ticks": "",
            "zerolinecolor": "white"
           }
          },
          "shapedefaults": {
           "line": {
            "color": "#2a3f5f"
           }
          },
          "ternary": {
           "aaxis": {
            "gridcolor": "white",
            "linecolor": "white",
            "ticks": ""
           },
           "baxis": {
            "gridcolor": "white",
            "linecolor": "white",
            "ticks": ""
           },
           "bgcolor": "#E5ECF6",
           "caxis": {
            "gridcolor": "white",
            "linecolor": "white",
            "ticks": ""
           }
          },
          "title": {
           "x": 0.05
          },
          "xaxis": {
           "automargin": true,
           "gridcolor": "white",
           "linecolor": "white",
           "ticks": "",
           "title": {
            "standoff": 15
           },
           "zerolinecolor": "white",
           "zerolinewidth": 2
          },
          "yaxis": {
           "automargin": true,
           "gridcolor": "white",
           "linecolor": "white",
           "ticks": "",
           "title": {
            "standoff": 15
           },
           "zerolinecolor": "white",
           "zerolinewidth": 2
          }
         }
        },
        "title": {
         "text": "Cumulative deaths vs cumulative cases for Austria, Argentina and Australia"
        },
        "xaxis": {
         "anchor": "y",
         "domain": [
          0,
          1
         ],
         "title": {
          "text": "Cumulative cases"
         }
        },
        "yaxis": {
         "anchor": "x",
         "domain": [
          0,
          1
         ],
         "title": {
          "text": "Cumulative deaths"
         }
        }
       }
      },
      "text/html": [
       "<div>                            <div id=\"efc7befa-a8b7-4601-a2b4-18766d3750f3\" class=\"plotly-graph-div\" style=\"height:525px; width:100%;\"></div>            <script type=\"text/javascript\">                require([\"plotly\"], function(Plotly) {                    window.PLOTLYENV=window.PLOTLYENV || {};                                    if (document.getElementById(\"efc7befa-a8b7-4601-a2b4-18766d3750f3\")) {                    Plotly.newPlot(                        \"efc7befa-a8b7-4601-a2b4-18766d3750f3\",                        [{\"hovertemplate\":\"Country=Argentina<br>Cumulative cases=%{x}<br>Cumulative deaths=%{y}<extra></extra>\",\"legendgroup\":\"Argentina\",\"line\":{\"color\":\"#636efa\",\"dash\":\"solid\"},\"marker\":{\"symbol\":\"circle\"},\"mode\":\"lines\",\"name\":\"Argentina\",\"orientation\":\"v\",\"showlegend\":true,\"x\":[0,0,0,0,0,0,0,0,0,22,131,536,1282,2073,2990,4066,5464,6753,8650,11560,16621,22406,29703,40388,54438,73445,93640,118611,150183,189430,231395,283036,331713,382896,451875,524195,602353,677683,759395,846449,942666,1038648,1136236,1217740,1288465,1355594,1413481,1461515,1504277,1539591,1585045,1629908,1690372,1775105,1853051,1932367,1993552,2044821,2095565,2138252,2182953,2226676,2276955,2328586,2400067,2494044,2647413,2811936,2977690,3119183,3263891,3429880,3664540,3872872,4068077,4230846,4368482,4501629,4627073,4735954,4841064,4929412,5016637,5097074,5159380,5206634,5244899,5273430,5293290,5307511,5318508,5327758,5334391,5341605,5350202,5359226,5367868,5377283,5387530,5399385,5415148,5435325,5473126,5559916,5821928,6469649,7240336,7968118,8400422,8627251,8751916,8835152,8899363,8935976,8967916,9001945,9017872,9030866,9040703,9047398,9072230,9083673,9101319,9135308,9178795,9230573,9276618,9313453,9341492,9367172,9394326,9426171,9465827,9507562,9560307,9602534,9633732,9658391,9678225,9689861,9697763,9703938,9708420,9711355,9713594,9715464,9717546,9718875,9720232,9721718,9723924,9727247,9739856,9766975,9829236,9891139,9963697,10004679,10024095,10032709,10037135,10040329,10042136,10043308,10044125,10044957,10044957,10044957,10044957,10044957,10044957,10044957,10044957,10044957,10044957,10044957,10044957,10044957,10044957,10044957,10044957,10044957,10044957,10044957,10044957,10044957,10044957,10044957,10044957,10044957,10044957,10044957,10044957,10044957,10044957,10044957,10044957,10044957,10044957,10044957,10044957,10044957,10044957,10044957,10044957,10044957,10044957,10044957,10044957,10047173,10051206,10057795,10066822,10075726,10081924,10085671,10089753,10092775,10094866,10096783,10098101,10098777,10099194,10099472,10099683,10099834,10099955,10100033,10100126,10100242,10100349,10100481,10100616,10100738,10100847,10100930,10101009,10101104,10101204,10101326,10101456,10101599,10101749,10101858],\"xaxis\":\"x\",\"y\":[0,0,0,0,0,0,0,0,0,1,9,20,70,131,205,279,411,526,646,790,1009,1306,1664,2122,2724,3500,4403,5556,6930,8474,9930,11692,13354,15231,17491,19815,22261,24601,27057,29580,32182,34631,36979,38833,40516,41968,43138,44081,44943,45738,46648,47507,48610,50025,51325,52585,53716,54664,55599,56396,57227,58111,59088,60082,61341,62995,65614,68907,72377,75492,78681,82322,86838,91177,95155,98472,101166,103698,105867,107756,109538,110905,112110,113267,114160,114844,115381,115799,116089,116307,116434,116521,116605,116691,116761,116823,116887,116969,117068,117182,117299,117434,117597,117830,118251,119254,121062,123526,125514,126726,127354,127808,128031,128144,128215,128266,128299,128330,128341,128344,128542,128653,128729,128776,128825,128889,128973,128994,129016,129070,129109,129145,129202,129278,129369,129440,129566,129646,129711,129769,129830,129855,129897,129937,129958,129970,129979,129991,130003,130011,130017,130025,130034,130041,130080,130124,130171,130249,130338,130394,130421,130437,130448,130458,130463,130472,130472,130472,130472,130472,130472,130472,130472,130472,130472,130472,130472,130472,130472,130472,130472,130472,130472,130472,130472,130472,130472,130472,130472,130472,130472,130472,130472,130472,130472,130472,130472,130472,130472,130472,130472,130472,130472,130472,130472,130472,130472,130472,130472,130478,130490,130508,130526,130551,130575,130595,130604,130615,130622,130630,130638,130644,130644,130645,130647,130647,130650,130650,130652,130655,130656,130659,130659,130660,130660,130661,130662,130662,130663,130665,130665,130666,130666,130667],\"yaxis\":\"y\",\"type\":\"scatter\"},{\"hovertemplate\":\"Country=Australia<br>Cumulative cases=%{x}<br>Cumulative deaths=%{y}<extra></extra>\",\"legendgroup\":\"Australia\",\"line\":{\"color\":\"#EF553B\",\"dash\":\"solid\"},\"marker\":{\"symbol\":\"circle\"},\"mode\":\"lines\",\"name\":\"Australia\",\"orientation\":\"v\",\"showlegend\":true,\"x\":[0,0,0,4,12,15,15,22,25,70,249,1081,3809,5635,6289,6586,6703,6783,6929,7036,7106,7185,7255,7302,7436,7641,8362,9553,11441,13950,17282,20698,23035,24602,25547,26207,26607,26885,27016,27121,27244,27383,27499,27590,27652,27711,27807,27885,27956,28025,28128,28296,28483,28595,28708,28766,28811,28850,28898,28926,28970,29037,29117,29196,29260,29348,29405,29519,29666,29826,29923,29975,30011,30098,30455,30513,30600,30835,31111,31660,32535,33795,35462,37775,41388,47521,55661,66755,79351,91652,104150,119551,134832,150179,163938,173984,183650,192351,201681,211425,221951,235354,266843,366607,656221,1245034,1707359,2055319,2323136,2524248,2696002,2856431,3016833,3212550,3454398,3781638,4167400,4563382,4923147,5229331,5518613,5790667,6094728,6445103,6756819,6997248,7197212,7381684,7572727,7777035,7777035,8020732,8292337,8595366,8915145,9174479,9374876,9514054,9617238,9697223,9760615,9811888,9855289,9892867,9931541,9962868,9992488,10022851,10058614,10110924,10184497,10267904,10365801,10473703,10585719,10694041,10785559,10872548,10918551,10949460,10971501,10990423,11007490,11025417,11043231,11061493,11081273,11102954,11125968,11151489,11179139,11206194,11236160,11265591,11295254,11327113,11364833,11405845,11444896,11478021,11500790,11517612,11531163,11541674,11549500,11555995,11561520,11566930,11572046,11577240,11582416,11587907,11592940,11597957,11603146,11608539,11614100,11618791,11624149,11630496,11638183,11648476,11659275,11669557,11679177,11689158,11699655,11710801,11721535,11731353,11742407,11753199,11762242,11770160,11778260,11785721,11793119,11800507,11807226,11813740,11818941,11823639,11827920,11832442,11836866,11841523,11846389,11853158,11861161,11861161,11861161,11861161,11861161,11861161,11861161,11861161,11861161,11861161,11861161,11861161,11861161,11861161,11861161,11861161],\"xaxis\":\"x\",\"y\":[0,0,0,0,0,0,0,0,0,4,7,9,16,36,61,73,85,99,101,103,107,107,107,107,107,108,109,113,129,174,269,375,513,627,724,782,828,864,887,906,911,912,914,914,914,917,917,918,919,919,919,920,922,922,923,923,923,923,923,924,924,924,925,925,925,926,926,928,928,928,928,928,928,928,928,928,928,928,928,930,935,940,947,963,990,1012,1032,1084,1140,1217,1312,1422,1541,1646,1754,1866,1963,2029,2110,2166,2218,2254,2308,2377,2480,2699,3139,3799,4469,5050,5486,5810,6052,6203,6343,6482,6631,6831,7029,7279,7594,7889,8204,8543,8860,9204,9579,9910,10254,10578,10922,11322,11773,12380,12998,13601,14127,14502,14831,15071,15285,15469,15616,15729,15831,15905,16008,16093,16204,16320,16474,16652,16911,17183,17482,17816,18910,18910,18910,18910,18910,20071,20167,20256,20346,20424,20502,20590,20683,20786,20909,21040,21186,21341,21514,21687,21857,22070,22302,22528,22711,22770,22770,22770,22770,22694,22779,22839,22906,22962,23015,23054,23094,23132,23169,23202,23280,23325,23377,23449,23500,23613,23704,23793,23945,24117,24209,24273,24344,24407,24467,24604,24657,24710,24785,24843,24883,24925,24958,24958,25005,25039,25090,25131,25165,25186,25202,25220,25236,25236,25236,25236,25236,25236,25236,25236,25236,25236,25236,25236,25236,25236,25236,25236],\"yaxis\":\"y\",\"type\":\"scatter\"},{\"hovertemplate\":\"Country=Austria<br>Cumulative cases=%{x}<br>Cumulative deaths=%{y}<extra></extra>\",\"legendgroup\":\"Austria\",\"line\":{\"color\":\"#00cc96\",\"dash\":\"solid\"},\"marker\":{\"symbol\":\"circle\"},\"mode\":\"lines\",\"name\":\"Austria\",\"orientation\":\"v\",\"showlegend\":true,\"x\":[0,0,0,0,0,0,0,0,7,75,588,1132,4946,8699,10641,11530,11980,12346,12605,12934,13183,13396,13604,13792,14019,14307,14872,15508,16266,17093,17969,18645,19955,21767,23671,25812,29562,34468,39129,44420,51522,60581,76114,103932,146894,196085,238882,271456,295705,314181,331311,344732,358944,374048,385518,396046,405558,414739,424012,435117,448598,464277,482257,502637,524181,545682,564412,581195,596850,610362,620013,626334,630836,634135,636634,638645,639733,640498,641128,642023,643963,646444,649578,653011,658280,665889,674984,685720,699542,713775,725512,737953,750773,764851,786497,816962,867682,939902,1033830,1124509,1183306,1215493,1236974,1252088,1272013,1319155,1420424,1579059,1799543,2031257,2254345,2455278,2640416,2846664,3128261,3447369,3717601,3890190,3994180,4062353,4114550,4156240,4194228,4225518,4248083,4263234,4281912,4305880,4341296,4399333,4467895,4542118,4622675,4705229,4765609,4809941,4849225,4886836,4921655,4951809,4980755,5014675,5062434,5140089,5236910,5327745,5392295,5431543,5462376,5487967,5514486,5543813,5576833,5608655,5644906,5678345,5705073,5724179,5740529,5754028,5772271,5798376,5826139,5859463,5897226,5936699,5971117,5999464,6021781,6036091,6045180,6052688,6059364,6064827,6068853,6071914,6074059,6076404,6077872,6078890,6079947,6080775,6081287,6081287,6081287,6081287,6081287,6081287,6081287,6081287,6081287,6081287,6081287,6081287,6081287,6081287,6081287,6081287,6081287,6081287,6081350,6081437,6081513,6081617,6081748,6081850,6081998,6082124,6082170,6082220,6082255,6082279,6082292,6082307,6082323,6082327,6082330,6082334,6082336,6082337,6082339,6082341,6082341,6082342,6082343,6082345,6082347,6082347,6082348,6082348,6082351,6082354,6082356,6082365,6082373,6082390,6082402,6082414,6082429,6082444,6082465,6082479,6082493,6082508],\"xaxis\":\"x\",\"y\":[0,0,0,0,0,0,0,0,0,0,1,15,66,169,320,431,516,576,609,629,646,658,674,686,703,719,730,735,744,754,767,780,791,802,812,825,838,858,889,925,988,1050,1162,1376,1729,2300,3027,3849,4806,5677,6406,7049,7599,8052,8490,8891,9278,9599,9867,10084,10309,10505,10713,10956,11175,11424,11688,11938,12159,12337,12517,12634,12714,12789,12844,12883,12914,12940,12962,12978,12992,13005,13018,13041,13054,13068,13095,13133,13192,13260,13338,13415,13492,13580,13691,13828,14020,14307,14693,15160,15643,16086,16389,16587,16741,16830,16902,16973,17079,17206,17376,17577,17790,18018,18210,18436,18724,19013,19239,19418,19556,19656,19732,19793,19827,19866,19887,19909,19937,19970,20023,20081,20138,20227,20331,20407,20490,20547,20602,20634,20686,20720,20753,20804,20890,20983,21052,21143,21200,21249,21310,21351,21401,21444,21496,21571,21644,21708,21774,21816,21858,21912,21949,21983,22043,22097,22169,22216,22274,22315,22353,22389,22418,22451,22471,22484,22496,22508,22520,22525,22532,22534,22534,22534,22534,22534,22534,22534,22534,22534,22534,22534,22534,22534,22534,22534,22534,22534,22534,22534,22534,22534,22534,22534,22534,22534,22534,22534,22534,22534,22534,22534,22534,22534,22534,22534,22534,22534,22534,22534,22534,22534,22534,22534,22534,22534,22534,22534,22534,22534,22534,22534,22534,22534,22534,22534,22534,22534,22534,22534,22534,22534,22534,22534],\"yaxis\":\"y\",\"type\":\"scatter\"}],                        {\"template\":{\"data\":{\"histogram2dcontour\":[{\"type\":\"histogram2dcontour\",\"colorbar\":{\"outlinewidth\":0,\"ticks\":\"\"},\"colorscale\":[[0.0,\"#0d0887\"],[0.1111111111111111,\"#46039f\"],[0.2222222222222222,\"#7201a8\"],[0.3333333333333333,\"#9c179e\"],[0.4444444444444444,\"#bd3786\"],[0.5555555555555556,\"#d8576b\"],[0.6666666666666666,\"#ed7953\"],[0.7777777777777778,\"#fb9f3a\"],[0.8888888888888888,\"#fdca26\"],[1.0,\"#f0f921\"]]}],\"choropleth\":[{\"type\":\"choropleth\",\"colorbar\":{\"outlinewidth\":0,\"ticks\":\"\"}}],\"histogram2d\":[{\"type\":\"histogram2d\",\"colorbar\":{\"outlinewidth\":0,\"ticks\":\"\"},\"colorscale\":[[0.0,\"#0d0887\"],[0.1111111111111111,\"#46039f\"],[0.2222222222222222,\"#7201a8\"],[0.3333333333333333,\"#9c179e\"],[0.4444444444444444,\"#bd3786\"],[0.5555555555555556,\"#d8576b\"],[0.6666666666666666,\"#ed7953\"],[0.7777777777777778,\"#fb9f3a\"],[0.8888888888888888,\"#fdca26\"],[1.0,\"#f0f921\"]]}],\"heatmap\":[{\"type\":\"heatmap\",\"colorbar\":{\"outlinewidth\":0,\"ticks\":\"\"},\"colorscale\":[[0.0,\"#0d0887\"],[0.1111111111111111,\"#46039f\"],[0.2222222222222222,\"#7201a8\"],[0.3333333333333333,\"#9c179e\"],[0.4444444444444444,\"#bd3786\"],[0.5555555555555556,\"#d8576b\"],[0.6666666666666666,\"#ed7953\"],[0.7777777777777778,\"#fb9f3a\"],[0.8888888888888888,\"#fdca26\"],[1.0,\"#f0f921\"]]}],\"heatmapgl\":[{\"type\":\"heatmapgl\",\"colorbar\":{\"outlinewidth\":0,\"ticks\":\"\"},\"colorscale\":[[0.0,\"#0d0887\"],[0.1111111111111111,\"#46039f\"],[0.2222222222222222,\"#7201a8\"],[0.3333333333333333,\"#9c179e\"],[0.4444444444444444,\"#bd3786\"],[0.5555555555555556,\"#d8576b\"],[0.6666666666666666,\"#ed7953\"],[0.7777777777777778,\"#fb9f3a\"],[0.8888888888888888,\"#fdca26\"],[1.0,\"#f0f921\"]]}],\"contourcarpet\":[{\"type\":\"contourcarpet\",\"colorbar\":{\"outlinewidth\":0,\"ticks\":\"\"}}],\"contour\":[{\"type\":\"contour\",\"colorbar\":{\"outlinewidth\":0,\"ticks\":\"\"},\"colorscale\":[[0.0,\"#0d0887\"],[0.1111111111111111,\"#46039f\"],[0.2222222222222222,\"#7201a8\"],[0.3333333333333333,\"#9c179e\"],[0.4444444444444444,\"#bd3786\"],[0.5555555555555556,\"#d8576b\"],[0.6666666666666666,\"#ed7953\"],[0.7777777777777778,\"#fb9f3a\"],[0.8888888888888888,\"#fdca26\"],[1.0,\"#f0f921\"]]}],\"surface\":[{\"type\":\"surface\",\"colorbar\":{\"outlinewidth\":0,\"ticks\":\"\"},\"colorscale\":[[0.0,\"#0d0887\"],[0.1111111111111111,\"#46039f\"],[0.2222222222222222,\"#7201a8\"],[0.3333333333333333,\"#9c179e\"],[0.4444444444444444,\"#bd3786\"],[0.5555555555555556,\"#d8576b\"],[0.6666666666666666,\"#ed7953\"],[0.7777777777777778,\"#fb9f3a\"],[0.8888888888888888,\"#fdca26\"],[1.0,\"#f0f921\"]]}],\"mesh3d\":[{\"type\":\"mesh3d\",\"colorbar\":{\"outlinewidth\":0,\"ticks\":\"\"}}],\"scatter\":[{\"fillpattern\":{\"fillmode\":\"overlay\",\"size\":10,\"solidity\":0.2},\"type\":\"scatter\"}],\"parcoords\":[{\"type\":\"parcoords\",\"line\":{\"colorbar\":{\"outlinewidth\":0,\"ticks\":\"\"}}}],\"scatterpolargl\":[{\"type\":\"scatterpolargl\",\"marker\":{\"colorbar\":{\"outlinewidth\":0,\"ticks\":\"\"}}}],\"bar\":[{\"error_x\":{\"color\":\"#2a3f5f\"},\"error_y\":{\"color\":\"#2a3f5f\"},\"marker\":{\"line\":{\"color\":\"#E5ECF6\",\"width\":0.5},\"pattern\":{\"fillmode\":\"overlay\",\"size\":10,\"solidity\":0.2}},\"type\":\"bar\"}],\"scattergeo\":[{\"type\":\"scattergeo\",\"marker\":{\"colorbar\":{\"outlinewidth\":0,\"ticks\":\"\"}}}],\"scatterpolar\":[{\"type\":\"scatterpolar\",\"marker\":{\"colorbar\":{\"outlinewidth\":0,\"ticks\":\"\"}}}],\"histogram\":[{\"marker\":{\"pattern\":{\"fillmode\":\"overlay\",\"size\":10,\"solidity\":0.2}},\"type\":\"histogram\"}],\"scattergl\":[{\"type\":\"scattergl\",\"marker\":{\"colorbar\":{\"outlinewidth\":0,\"ticks\":\"\"}}}],\"scatter3d\":[{\"type\":\"scatter3d\",\"line\":{\"colorbar\":{\"outlinewidth\":0,\"ticks\":\"\"}},\"marker\":{\"colorbar\":{\"outlinewidth\":0,\"ticks\":\"\"}}}],\"scattermapbox\":[{\"type\":\"scattermapbox\",\"marker\":{\"colorbar\":{\"outlinewidth\":0,\"ticks\":\"\"}}}],\"scatterternary\":[{\"type\":\"scatterternary\",\"marker\":{\"colorbar\":{\"outlinewidth\":0,\"ticks\":\"\"}}}],\"scattercarpet\":[{\"type\":\"scattercarpet\",\"marker\":{\"colorbar\":{\"outlinewidth\":0,\"ticks\":\"\"}}}],\"carpet\":[{\"aaxis\":{\"endlinecolor\":\"#2a3f5f\",\"gridcolor\":\"white\",\"linecolor\":\"white\",\"minorgridcolor\":\"white\",\"startlinecolor\":\"#2a3f5f\"},\"baxis\":{\"endlinecolor\":\"#2a3f5f\",\"gridcolor\":\"white\",\"linecolor\":\"white\",\"minorgridcolor\":\"white\",\"startlinecolor\":\"#2a3f5f\"},\"type\":\"carpet\"}],\"table\":[{\"cells\":{\"fill\":{\"color\":\"#EBF0F8\"},\"line\":{\"color\":\"white\"}},\"header\":{\"fill\":{\"color\":\"#C8D4E3\"},\"line\":{\"color\":\"white\"}},\"type\":\"table\"}],\"barpolar\":[{\"marker\":{\"line\":{\"color\":\"#E5ECF6\",\"width\":0.5},\"pattern\":{\"fillmode\":\"overlay\",\"size\":10,\"solidity\":0.2}},\"type\":\"barpolar\"}],\"pie\":[{\"automargin\":true,\"type\":\"pie\"}]},\"layout\":{\"autotypenumbers\":\"strict\",\"colorway\":[\"#636efa\",\"#EF553B\",\"#00cc96\",\"#ab63fa\",\"#FFA15A\",\"#19d3f3\",\"#FF6692\",\"#B6E880\",\"#FF97FF\",\"#FECB52\"],\"font\":{\"color\":\"#2a3f5f\"},\"hovermode\":\"closest\",\"hoverlabel\":{\"align\":\"left\"},\"paper_bgcolor\":\"white\",\"plot_bgcolor\":\"#E5ECF6\",\"polar\":{\"bgcolor\":\"#E5ECF6\",\"angularaxis\":{\"gridcolor\":\"white\",\"linecolor\":\"white\",\"ticks\":\"\"},\"radialaxis\":{\"gridcolor\":\"white\",\"linecolor\":\"white\",\"ticks\":\"\"}},\"ternary\":{\"bgcolor\":\"#E5ECF6\",\"aaxis\":{\"gridcolor\":\"white\",\"linecolor\":\"white\",\"ticks\":\"\"},\"baxis\":{\"gridcolor\":\"white\",\"linecolor\":\"white\",\"ticks\":\"\"},\"caxis\":{\"gridcolor\":\"white\",\"linecolor\":\"white\",\"ticks\":\"\"}},\"coloraxis\":{\"colorbar\":{\"outlinewidth\":0,\"ticks\":\"\"}},\"colorscale\":{\"sequential\":[[0.0,\"#0d0887\"],[0.1111111111111111,\"#46039f\"],[0.2222222222222222,\"#7201a8\"],[0.3333333333333333,\"#9c179e\"],[0.4444444444444444,\"#bd3786\"],[0.5555555555555556,\"#d8576b\"],[0.6666666666666666,\"#ed7953\"],[0.7777777777777778,\"#fb9f3a\"],[0.8888888888888888,\"#fdca26\"],[1.0,\"#f0f921\"]],\"sequentialminus\":[[0.0,\"#0d0887\"],[0.1111111111111111,\"#46039f\"],[0.2222222222222222,\"#7201a8\"],[0.3333333333333333,\"#9c179e\"],[0.4444444444444444,\"#bd3786\"],[0.5555555555555556,\"#d8576b\"],[0.6666666666666666,\"#ed7953\"],[0.7777777777777778,\"#fb9f3a\"],[0.8888888888888888,\"#fdca26\"],[1.0,\"#f0f921\"]],\"diverging\":[[0,\"#8e0152\"],[0.1,\"#c51b7d\"],[0.2,\"#de77ae\"],[0.3,\"#f1b6da\"],[0.4,\"#fde0ef\"],[0.5,\"#f7f7f7\"],[0.6,\"#e6f5d0\"],[0.7,\"#b8e186\"],[0.8,\"#7fbc41\"],[0.9,\"#4d9221\"],[1,\"#276419\"]]},\"xaxis\":{\"gridcolor\":\"white\",\"linecolor\":\"white\",\"ticks\":\"\",\"title\":{\"standoff\":15},\"zerolinecolor\":\"white\",\"automargin\":true,\"zerolinewidth\":2},\"yaxis\":{\"gridcolor\":\"white\",\"linecolor\":\"white\",\"ticks\":\"\",\"title\":{\"standoff\":15},\"zerolinecolor\":\"white\",\"automargin\":true,\"zerolinewidth\":2},\"scene\":{\"xaxis\":{\"backgroundcolor\":\"#E5ECF6\",\"gridcolor\":\"white\",\"linecolor\":\"white\",\"showbackground\":true,\"ticks\":\"\",\"zerolinecolor\":\"white\",\"gridwidth\":2},\"yaxis\":{\"backgroundcolor\":\"#E5ECF6\",\"gridcolor\":\"white\",\"linecolor\":\"white\",\"showbackground\":true,\"ticks\":\"\",\"zerolinecolor\":\"white\",\"gridwidth\":2},\"zaxis\":{\"backgroundcolor\":\"#E5ECF6\",\"gridcolor\":\"white\",\"linecolor\":\"white\",\"showbackground\":true,\"ticks\":\"\",\"zerolinecolor\":\"white\",\"gridwidth\":2}},\"shapedefaults\":{\"line\":{\"color\":\"#2a3f5f\"}},\"annotationdefaults\":{\"arrowcolor\":\"#2a3f5f\",\"arrowhead\":0,\"arrowwidth\":1},\"geo\":{\"bgcolor\":\"white\",\"landcolor\":\"#E5ECF6\",\"subunitcolor\":\"white\",\"showland\":true,\"showlakes\":true,\"lakecolor\":\"white\"},\"title\":{\"x\":0.05},\"mapbox\":{\"style\":\"light\"}}},\"xaxis\":{\"anchor\":\"y\",\"domain\":[0.0,1.0],\"title\":{\"text\":\"Cumulative cases\"}},\"yaxis\":{\"anchor\":\"x\",\"domain\":[0.0,1.0],\"title\":{\"text\":\"Cumulative deaths\"}},\"legend\":{\"title\":{\"text\":\"Country\"},\"tracegroupgap\":0},\"title\":{\"text\":\"Cumulative deaths vs cumulative cases for Austria, Argentina and Australia\"}},                        {\"responsive\": true}                    ).then(function(){\n",
       "                            \n",
       "var gd = document.getElementById('efc7befa-a8b7-4601-a2b4-18766d3750f3');\n",
       "var x = new MutationObserver(function (mutations, observer) {{\n",
       "        var display = window.getComputedStyle(gd).display;\n",
       "        if (!display || display === 'none') {{\n",
       "            console.log([gd, 'removed!']);\n",
       "            Plotly.purge(gd);\n",
       "            observer.disconnect();\n",
       "        }}\n",
       "}});\n",
       "\n",
       "// Listen for the removal of the full notebook cells\n",
       "var notebookContainer = gd.closest('#notebook-container');\n",
       "if (notebookContainer) {{\n",
       "    x.observe(notebookContainer, {childList: true});\n",
       "}}\n",
       "\n",
       "// Listen for the clearing of the current output cell\n",
       "var outputEl = gd.closest('.output');\n",
       "if (outputEl) {{\n",
       "    x.observe(outputEl, {childList: true});\n",
       "}}\n",
       "\n",
       "                        })                };                });            </script>        </div>"
      ]
     },
     "metadata": {},
     "output_type": "display_data"
    }
   ],
   "source": [
    "# Create an interactive line plot for Cumulative_deaths vs Cumulative_cases\n",
    "fig = px.line(df_countries_2, x='Cumulative_cases', y='Cumulative_deaths', color='Country', title='Cumulative deaths vs cumulative cases for Austria, Argentina and Australia', labels={'Cumulative_cases': 'Cumulative cases', 'Cumulative_deaths': 'Cumulative deaths'})\n",
    "fig.show()"
   ]
  },
  {
   "cell_type": "code",
   "execution_count": null,
   "id": "153fa426-d547-4280-8b89-ec838bb1510d",
   "metadata": {},
   "outputs": [],
   "source": []
  }
 ],
 "metadata": {
  "kernelspec": {
   "display_name": "Python 3 (ipykernel)",
   "language": "python",
   "name": "python3"
  },
  "language_info": {
   "codemirror_mode": {
    "name": "ipython",
    "version": 3
   },
   "file_extension": ".py",
   "mimetype": "text/x-python",
   "name": "python",
   "nbconvert_exporter": "python",
   "pygments_lexer": "ipython3",
   "version": "3.11.4"
  }
 },
 "nbformat": 4,
 "nbformat_minor": 5
}

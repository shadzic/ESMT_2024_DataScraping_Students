{
 "cells": [
  {
   "cell_type": "markdown",
   "id": "9fdbabd1-a139-42cd-86eb-3911f2363ea6",
   "metadata": {},
   "source": [
    "# 04 Homework\n",
    "© Copyright: 2024, Selma Hadzic, all rights reserved."
   ]
  },
  {
   "cell_type": "markdown",
   "id": "120d9520-a37c-4240-8c50-34e92d9d85f7",
   "metadata": {},
   "source": [
    "#### Number of points: 15 (weights 15% in the final grade)\n",
    "\n",
    "\n",
    "1. Pull from the `ESMT_2024_DataScraping_Lectures` repository: you should get this `04_Homework` file\n",
    "2. Launch VS Code and open your working-folder\n",
    "3. Create a `Session_04` folder, in which you create another folder called `data`\n",
    "4. Copy paste the notebook `04_Homework` from the lectures repo to the working-folder. Copy the csv file `WHO_COVID19_cases.csv` into the `working-folder/Session_04/data` directory.\n",
    "5. Do the exercises on 04_Homework in your working-folder\n",
    "6. Once you are finished, copy-Paste the notebook into `ESMT_2024_DataScraping_Students` folder in your computer\n",
    "8. Commit and push your homework in your branch before the deadline\n",
    "\n",
    "#### Deadline: October 24th 01:29 pm CET\n",
    "\n",
    "#### Any missed deadline without justification to the Administration will result in 0 points for this homework.\n",
    "#### If the Github branch is not correctly named using the indicated format **LASTNAME_firstname**, then a penalty of -2 points will be applied"
   ]
  },
  {
   "cell_type": "markdown",
   "id": "099d2883-1487-4402-9d9f-f4009bf1d844",
   "metadata": {},
   "source": [
    "## Dataset: use the WHO_COVID19_cases.csv dataset from Session_01"
   ]
  },
  {
   "cell_type": "markdown",
   "id": "180e5436-4077-44a0-be08-135e124f73d3",
   "metadata": {},
   "source": [
    "## 1- Filter the data for 3 countries and draw a line plot for Cumulative_cases vs Date_reported using seaborn (7.5 points)\n",
    "\n",
    "*Tip: you may want to explore `plt.xticks(rotation=90);` and `plt.gca().xaxis.set_major_locator(ticker.MultipleLocator(6)) ;` to unclutter the dates on the x-axis*"
   ]
  },
  {
   "cell_type": "code",
   "execution_count": 19,
   "id": "0cdc9b82-5b98-48d8-82d9-4b03be250757",
   "metadata": {},
   "outputs": [],
   "source": [
    "import pandas as pd\n",
    "import seaborn as sns\n",
    "import matplotlib.pyplot as plt\n",
    "import matplotlib.ticker as ticker\n",
    "import plotly.express as px"
   ]
  },
  {
   "cell_type": "code",
   "execution_count": 3,
   "id": "5c5c3d2f-f7e9-4fc1-912d-c3f41900cfdb",
   "metadata": {},
   "outputs": [
    {
     "data": {
      "text/html": [
       "<div>\n",
       "<style scoped>\n",
       "    .dataframe tbody tr th:only-of-type {\n",
       "        vertical-align: middle;\n",
       "    }\n",
       "\n",
       "    .dataframe tbody tr th {\n",
       "        vertical-align: top;\n",
       "    }\n",
       "\n",
       "    .dataframe thead th {\n",
       "        text-align: right;\n",
       "    }\n",
       "</style>\n",
       "<table border=\"1\" class=\"dataframe\">\n",
       "  <thead>\n",
       "    <tr style=\"text-align: right;\">\n",
       "      <th></th>\n",
       "      <th>Date_reported</th>\n",
       "      <th>Country_code</th>\n",
       "      <th>Country</th>\n",
       "      <th>Continent</th>\n",
       "      <th>WHO_region</th>\n",
       "      <th>New_cases</th>\n",
       "      <th>Cumulative_cases</th>\n",
       "      <th>New_deaths</th>\n",
       "      <th>Cumulative_deaths</th>\n",
       "    </tr>\n",
       "  </thead>\n",
       "  <tbody>\n",
       "    <tr>\n",
       "      <th>0</th>\n",
       "      <td>2020-01-05</td>\n",
       "      <td>AF</td>\n",
       "      <td>Afghanistan</td>\n",
       "      <td>Asia</td>\n",
       "      <td>EMRO</td>\n",
       "      <td>NaN</td>\n",
       "      <td>0</td>\n",
       "      <td>NaN</td>\n",
       "      <td>0</td>\n",
       "    </tr>\n",
       "    <tr>\n",
       "      <th>1</th>\n",
       "      <td>2020-01-12</td>\n",
       "      <td>AF</td>\n",
       "      <td>Afghanistan</td>\n",
       "      <td>Asia</td>\n",
       "      <td>EMRO</td>\n",
       "      <td>NaN</td>\n",
       "      <td>0</td>\n",
       "      <td>NaN</td>\n",
       "      <td>0</td>\n",
       "    </tr>\n",
       "    <tr>\n",
       "      <th>2</th>\n",
       "      <td>2020-01-19</td>\n",
       "      <td>AF</td>\n",
       "      <td>Afghanistan</td>\n",
       "      <td>Asia</td>\n",
       "      <td>EMRO</td>\n",
       "      <td>NaN</td>\n",
       "      <td>0</td>\n",
       "      <td>NaN</td>\n",
       "      <td>0</td>\n",
       "    </tr>\n",
       "    <tr>\n",
       "      <th>3</th>\n",
       "      <td>2020-01-26</td>\n",
       "      <td>AF</td>\n",
       "      <td>Afghanistan</td>\n",
       "      <td>Asia</td>\n",
       "      <td>EMRO</td>\n",
       "      <td>NaN</td>\n",
       "      <td>0</td>\n",
       "      <td>NaN</td>\n",
       "      <td>0</td>\n",
       "    </tr>\n",
       "    <tr>\n",
       "      <th>4</th>\n",
       "      <td>2020-02-02</td>\n",
       "      <td>AF</td>\n",
       "      <td>Afghanistan</td>\n",
       "      <td>Asia</td>\n",
       "      <td>EMRO</td>\n",
       "      <td>NaN</td>\n",
       "      <td>0</td>\n",
       "      <td>NaN</td>\n",
       "      <td>0</td>\n",
       "    </tr>\n",
       "  </tbody>\n",
       "</table>\n",
       "</div>"
      ],
      "text/plain": [
       "  Date_reported Country_code      Country Continent WHO_region  New_cases  \\\n",
       "0    2020-01-05           AF  Afghanistan      Asia       EMRO        NaN   \n",
       "1    2020-01-12           AF  Afghanistan      Asia       EMRO        NaN   \n",
       "2    2020-01-19           AF  Afghanistan      Asia       EMRO        NaN   \n",
       "3    2020-01-26           AF  Afghanistan      Asia       EMRO        NaN   \n",
       "4    2020-02-02           AF  Afghanistan      Asia       EMRO        NaN   \n",
       "\n",
       "   Cumulative_cases  New_deaths  Cumulative_deaths  \n",
       "0                 0         NaN                  0  \n",
       "1                 0         NaN                  0  \n",
       "2                 0         NaN                  0  \n",
       "3                 0         NaN                  0  \n",
       "4                 0         NaN                  0  "
      ]
     },
     "execution_count": 3,
     "metadata": {},
     "output_type": "execute_result"
    }
   ],
   "source": [
    "df = pd.read_csv(\"data/WHO_COVID19_cases.csv\")\n",
    "df.head()"
   ]
  },
  {
   "cell_type": "code",
   "execution_count": 26,
   "id": "53be5a6f-00d3-4134-9009-68d0dd42b729",
   "metadata": {},
   "outputs": [],
   "source": [
    "countries = ['Romania', 'Hungary', 'Croatia']\n",
    "filtered_df = df[df['Country'].isin(countries)]"
   ]
  },
  {
   "cell_type": "code",
   "execution_count": 29,
   "id": "5f67f454-e159-4a26-ac15-d3b0acb81d63",
   "metadata": {},
   "outputs": [
    {
     "data": {
      "image/png": "[encoded data removed]",
      "text/plain": [
       "<Figure size 640x480 with 1 Axes>"
      ]
     },
     "metadata": {},
     "output_type": "display_data"
    }
   ],
   "source": [
    "sns.lineplot(data=filtered_df, x='Date_reported', y='Cumulative_cases', hue='Country');\n",
    "\n",
    "plt.title('Cumulative Cases Over Time')\n",
    "plt.xlabel('Date Reported')\n",
    "plt.ylabel('Cumulative Cases')\n",
    "\n",
    "plt.xticks(rotation=90)\n",
    "\n",
    "plt.gca().xaxis.set_major_locator(ticker.MultipleLocator(6))\n",
    "\n",
    "plt.tight_layout()\n",
    "plt.show()"
   ]
  },
  {
   "cell_type": "markdown",
   "id": "fa8217b4-a79d-480f-b3aa-2c7c5397ab3e",
   "metadata": {},
   "source": [
    "## 2- Make a line plot showing the cumulative_deaths vs cumulative_cases for 3 countries using `plotly` (7.5 points)"
   ]
  },
  {
   "cell_type": "code",
   "execution_count": 30,
   "id": "fee1d763-3047-4f72-97e8-d6fb6be73665",
   "metadata": {},
   "outputs": [
    {
     "data": {
      "application/vnd.plotly.v1+json": {
       "config": {
        "plotlyServerURL": "https://plot.ly"
       },
       "data": [
        {
         "hovertemplate": "Country=Croatia<br>Cumulative_cases=%{x}<br>Cumulative_deaths=%{y}<extra></extra>",
         "legendgroup": "Croatia",
         "line": {
          "color": "#636efa",
          "dash": "solid"
         },
         "marker": {
          "symbol": "circle"
         },
         "mode": "lines+markers",
         "name": "Croatia",
         "orientation": "v",
         "showlegend": true,
         "type": "scatter",
         "x": [
          0,
          0,
          0,
          0,
          0,
          0,
          0,
          0,
          6,
          12,
          38,
          206,
          657,
          1126,
          1534,
          1832,
          2016,
          2088,
          2176,
          2224,
          2243,
          2246,
          2247,
          2251,
          2299,
          2624,
          3094,
          3672,
          4253,
          4792,
          5224,
          5543,
          6420,
          7900,
          9861,
          11739,
          13368,
          14725,
          16007,
          17401,
          19932,
          24761,
          33959,
          49316,
          64704,
          81844,
          100410,
          123693,
          147454,
          172523,
          192987,
          204312,
          212262,
          219347,
          224575,
          228568,
          232090,
          235126,
          237459,
          239685,
          242617,
          246120,
          250484,
          256805,
          265901,
          278650,
          290899,
          306225,
          321372,
          334229,
          343829,
          349910,
          353735,
          355955,
          357408,
          358504,
          359115,
          359607,
          360181,
          360768,
          361488,
          362496,
          363615,
          364832,
          366724,
          369392,
          372814,
          377299,
          383108,
          391109,
          399054,
          407755,
          416950,
          426613,
          443032,
          467029,
          497168,
          534601,
          566118,
          599977,
          628241,
          651863,
          673427,
          693102,
          720538,
          758272,
          811703,
          869965,
          929502,
          979000,
          1012703,
          1039157,
          1053568,
          1062953,
          1072430,
          1083111,
          1093098,
          1101921,
          1108551,
          1113135,
          1117175,
          1122459,
          1127336,
          1131105,
          1134027,
          1136229,
          1137864,
          1139663,
          1141576,
          1145053,
          1150653,
          1158420,
          1167132,
          1176519,
          1185799,
          1192555,
          1200113,
          1205948,
          1211419,
          1215999,
          1220015,
          1224366,
          1228574,
          1233260,
          1237687,
          1241383,
          1244365,
          1246731,
          1248450,
          1249943,
          1251225,
          1252886,
          1254644,
          1256818,
          1259113,
          1261766,
          1263901,
          1265333,
          1266405,
          1267021,
          1267467,
          1267850,
          1268185,
          1268561,
          1268666,
          1268992,
          1269326,
          1269687,
          1270075,
          1270513,
          1270891,
          1271276,
          1271818,
          1272377,
          1272886,
          1273256,
          1273508,
          1273671,
          1273795,
          1273871,
          1273907,
          1273959,
          1273991,
          1274014,
          1274040,
          1274068,
          1274090,
          1274123,
          1274154,
          1274198,
          1274281,
          1274434,
          1274603,
          1274834,
          1275071,
          1275337,
          1275559,
          1275762,
          1276001,
          1276216,
          1277908,
          1279890,
          1282425,
          1285460,
          1289829,
          1295123,
          1301545,
          1306928,
          1309728,
          1312093,
          1314169,
          1315463,
          1316310,
          1316865,
          1317235,
          1317452,
          1317646,
          1317789,
          1317886,
          1317971,
          1318032,
          1318074,
          1318115,
          1318140,
          1318189,
          1318238,
          1318299,
          1318370,
          1318459,
          1318531,
          1318571,
          1318697,
          1318879,
          1319095,
          1319350,
          1319758,
          1320233,
          1320907,
          1321825,
          1322750,
          1323668,
          1324814,
          1326996,
          1329451
         ],
         "xaxis": "x",
         "y": [
          0,
          0,
          0,
          0,
          0,
          0,
          0,
          0,
          0,
          0,
          0,
          1,
          5,
          12,
          21,
          39,
          54,
          77,
          87,
          95,
          99,
          103,
          104,
          107,
          107,
          107,
          113,
          118,
          120,
          133,
          145,
          157,
          165,
          170,
          183,
          197,
          218,
          244,
          269,
          293,
          317,
          355,
          429,
          546,
          752,
          1006,
          1304,
          1655,
          2102,
          2562,
          3101,
          3613,
          4016,
          4342,
          4588,
          4799,
          4998,
          5144,
          5299,
          5420,
          5511,
          5585,
          5670,
          5753,
          5872,
          6025,
          6269,
          6523,
          6815,
          7130,
          7424,
          7687,
          7883,
          8002,
          8080,
          8132,
          8169,
          8197,
          8215,
          8227,
          8236,
          8245,
          8259,
          8271,
          8282,
          8298,
          8324,
          8362,
          8427,
          8493,
          8580,
          8664,
          8763,
          8877,
          9010,
          9198,
          9450,
          9840,
          10243,
          10695,
          11150,
          11574,
          11930,
          12279,
          12571,
          12841,
          13073,
          13371,
          13731,
          14078,
          14424,
          14773,
          15012,
          15194,
          15321,
          15425,
          15509,
          15592,
          15675,
          15725,
          15778,
          15828,
          15881,
          15925,
          15961,
          15979,
          15998,
          16016,
          16027,
          16048,
          16073,
          16103,
          16147,
          16206,
          16300,
          16389,
          16484,
          16559,
          16646,
          16732,
          16792,
          16837,
          16875,
          16912,
          16959,
          17012,
          17070,
          17128,
          17185,
          17218,
          17260,
          17292,
          17339,
          17396,
          17447,
          17515,
          17596,
          17669,
          17759,
          17809,
          17858,
          17891,
          17921,
          17942,
          17950,
          17971,
          17987,
          18006,
          18025,
          18044,
          18069,
          18091,
          18129,
          18155,
          18180,
          18213,
          18230,
          18246,
          18255,
          18266,
          18267,
          18269,
          18273,
          18275,
          18276,
          18281,
          18282,
          18286,
          18288,
          18290,
          18292,
          18297,
          18306,
          18318,
          18332,
          18351,
          18358,
          18374,
          18397,
          18414,
          18433,
          18446,
          18470,
          18487,
          18529,
          18572,
          18627,
          18664,
          18687,
          18725,
          18732,
          18736,
          18744,
          18748,
          18748,
          18748,
          18749,
          18750,
          18750,
          18751,
          18751,
          18751,
          18751,
          18752,
          18752,
          18752,
          18752,
          18752,
          18752,
          18752,
          18752,
          18752,
          18752,
          18752,
          18752,
          18752,
          18752,
          18752,
          18752,
          18753,
          18754,
          18755,
          18755,
          18755
         ],
         "yaxis": "y"
        },
        {
         "hovertemplate": "Country=Hungary<br>Cumulative_cases=%{x}<br>Cumulative_deaths=%{y}<extra></extra>",
         "legendgroup": "Hungary",
         "line": {
          "color": "#EF553B",
          "dash": "solid"
         },
         "marker": {
          "symbol": "circle"
         },
         "mode": "lines+markers",
         "name": "Hungary",
         "orientation": "v",
         "showlegend": true,
         "type": "scatter",
         "x": [
          0,
          0,
          0,
          0,
          0,
          0,
          0,
          0,
          0,
          7,
          31,
          131,
          408,
          733,
          1410,
          1916,
          2500,
          2998,
          3263,
          3509,
          3741,
          3867,
          3970,
          4064,
          4094,
          4138,
          4183,
          4229,
          4315,
          4435,
          4526,
          4653,
          4877,
          5133,
          5669,
          7892,
          11825,
          17990,
          24014,
          30575,
          37664,
          46290,
          59247,
          79199,
          109616,
          140961,
          174618,
          211527,
          250278,
          280400,
          302989,
          316060,
          327995,
          342237,
          351828,
          359574,
          367586,
          376495,
          387462,
          403023,
          428599,
          466017,
          516490,
          571596,
          633861,
          685979,
          720164,
          750508,
          769518,
          782892,
          791709,
          798147,
          802088,
          804032,
          806008,
          806790,
          807428,
          807910,
          808197,
          808437,
          808725,
          809101,
          809491,
          809855,
          810316,
          810781,
          811706,
          813040,
          814732,
          817159,
          820078,
          823384,
          827410,
          833115,
          843825,
          863419,
          892164,
          939784,
          998488,
          1068888,
          1134869,
          1182922,
          1218295,
          1237330,
          1256415,
          1282957,
          1327014,
          1401457,
          1508358,
          1616846,
          1695991,
          1746424,
          1779174,
          1800046,
          1814362,
          1824089,
          1839358,
          1854198,
          1868007,
          1879480,
          1890953,
          1901017,
          1903200,
          1909948,
          1914697,
          1917777,
          1919840,
          1921486,
          1923122,
          1925083,
          1928125,
          1932788,
          1940824,
          1951079,
          1965481,
          1987321,
          2005399,
          2021648,
          2036390,
          2048547,
          2058847,
          2070443,
          2082750,
          2094142,
          2107907,
          2120543,
          2132490,
          2141513,
          2149008,
          2153564,
          2157995,
          2162093,
          2166352,
          2171056,
          2176249,
          2181419,
          2185816,
          2188737,
          2190333,
          2191199,
          2191826,
          2192447,
          2193272,
          2194102,
          2194969,
          2195926,
          2196804,
          2197820,
          2198461,
          2199146,
          2199764,
          2200211,
          2200739,
          2201355,
          2201824,
          2202179,
          2202491,
          2202716,
          2202887,
          2202990,
          2203082,
          2203129,
          2203171,
          2203200,
          2203222,
          2203262,
          2203289,
          2203315,
          2203356,
          2203441,
          2203564,
          2203761,
          2204090,
          2204488,
          2205322,
          2206311,
          2207180,
          2207969,
          2208950,
          2209972,
          2210846,
          2211830,
          2213046,
          2214721,
          2217184,
          2220220,
          2223831,
          2226085,
          2227159,
          2228206,
          2228828,
          2229267,
          2229538,
          2229804,
          2229987,
          2230094,
          2230159,
          2230202,
          2230232,
          2230249,
          2230274,
          2230293,
          2230312,
          2230325,
          2230351,
          2230371,
          2230381,
          2230396,
          2230419,
          2230423,
          2230438,
          2230444,
          2230453,
          2230472,
          2230485,
          2230504,
          2230548,
          2230591,
          2230657,
          2230800,
          2230925,
          2231074,
          2231207,
          2231405
         ],
         "xaxis": "x",
         "y": [
          0,
          0,
          0,
          0,
          0,
          0,
          0,
          0,
          0,
          0,
          0,
          4,
          13,
          34,
          99,
          189,
          272,
          340,
          413,
          451,
          486,
          524,
          542,
          559,
          570,
          578,
          589,
          595,
          596,
          596,
          597,
          602,
          607,
          611,
          614,
          624,
          633,
          683,
          736,
          822,
          954,
          1142,
          1425,
          1819,
          2438,
          3097,
          3800,
          4672,
          5868,
          6965,
          8099,
          9047,
          9884,
          10648,
          11341,
          11968,
          12524,
          13090,
          13706,
          14299,
          14974,
          15873,
          16952,
          18262,
          19972,
          21715,
          23417,
          25184,
          26625,
          27802,
          28602,
          29175,
          29519,
          29709,
          29855,
          29905,
          29951,
          29981,
          29992,
          30004,
          30015,
          30020,
          30026,
          30033,
          30038,
          30046,
          30057,
          30061,
          30086,
          30123,
          30151,
          30199,
          30275,
          30351,
          30492,
          30729,
          31184,
          31867,
          32780,
          33866,
          35122,
          36429,
          37530,
          38307,
          39186,
          39780,
          40237,
          40822,
          41229,
          41741,
          42360,
          43066,
          43752,
          44286,
          44653,
          44961,
          45258,
          45510,
          45721,
          45865,
          46048,
          46201,
          46266,
          46343,
          46446,
          46507,
          46547,
          46571,
          46594,
          46626,
          46647,
          46661,
          46696,
          46736,
          46790,
          46886,
          46966,
          47083,
          47191,
          47291,
          47367,
          47409,
          47457,
          47503,
          47576,
          47680,
          47798,
          47938,
          48019,
          48111,
          48184,
          48245,
          48287,
          48337,
          48380,
          48439,
          48495,
          48560,
          48604,
          48621,
          48638,
          48647,
          48655,
          48664,
          48670,
          48681,
          48693,
          48709,
          48720,
          48730,
          48745,
          48753,
          48764,
          48770,
          48778,
          48782,
          48786,
          48791,
          48794,
          48795,
          48797,
          48797,
          48798,
          48799,
          48799,
          48799,
          48800,
          48801,
          48802,
          48802,
          48803,
          48803,
          48803,
          48806,
          48807,
          48812,
          48815,
          48819,
          48822,
          48831,
          48841,
          48854,
          48869,
          48886,
          48902,
          48922,
          48946,
          48967,
          48991,
          49006,
          49016,
          49026,
          49031,
          49040,
          49043,
          49046,
          49047,
          49048,
          49048,
          49048,
          49048,
          49049,
          49051,
          49051,
          49051,
          49051,
          49051,
          49051,
          49051,
          49051,
          49051,
          49051,
          49051,
          49051,
          49051,
          49051,
          49051,
          49053,
          49053,
          49053,
          49054,
          49055,
          49056,
          49057
         ],
         "yaxis": "y"
        },
        {
         "hovertemplate": "Country=Romania<br>Cumulative_cases=%{x}<br>Cumulative_deaths=%{y}<extra></extra>",
         "legendgroup": "Romania",
         "line": {
          "color": "#00cc96",
          "dash": "solid"
         },
         "marker": {
          "symbol": "circle"
         },
         "mode": "lines+markers",
         "name": "Romania",
         "orientation": "v",
         "showlegend": true,
         "type": "scatter",
         "x": [
          0,
          0,
          0,
          0,
          0,
          0,
          0,
          0,
          4,
          15,
          139,
          367,
          1452,
          3613,
          5990,
          8418,
          10635,
          12732,
          15131,
          16704,
          17857,
          19133,
          20290,
          21679,
          23730,
          26022,
          28582,
          32079,
          36691,
          43678,
          52111,
          60623,
          69374,
          77544,
          85833,
          93864,
          102386,
          111550,
          121235,
          134065,
          152403,
          176468,
          205793,
          241339,
          296999,
          353185,
          412808,
          465982,
          508345,
          551900,
          587944,
          613760,
          637395,
          668202,
          691488,
          709194,
          726918,
          743343,
          760091,
          777276,
          799164,
          824995,
          855326,
          892848,
          932179,
          970224,
          1002865,
          1027039,
          1044722,
          1056572,
          1065254,
          1071334,
          1075236,
          1077426,
          1078742,
          1079657,
          1080203,
          1080584,
          1080918,
          1081210,
          1081588,
          1082183,
          1083189,
          1084711,
          1086900,
          1090408,
          1095885,
          1104766,
          1118549,
          1144893,
          1187773,
          1257145,
          1346240,
          1445714,
          1550203,
          1640607,
          1701589,
          1739283,
          1760765,
          1775572,
          1785120,
          1792433,
          1797706,
          1802396,
          1810342,
          1839825,
          1895833,
          2003041,
          2176726,
          2385713,
          2550348,
          2655933,
          2724480,
          2765169,
          2790368,
          2813798,
          2838849,
          2858665,
          2871937,
          2881322,
          2887824,
          2893876,
          2898848,
          2902790,
          2905859,
          2908313,
          2910392,
          2912537,
          2912878,
          2915487,
          2919461,
          2927187,
          2961769,
          3002662,
          3059568,
          3112474,
          3154721,
          3184930,
          3208903,
          3226207,
          3239392,
          3252363,
          3261614,
          3269498,
          3275276,
          3279623,
          3283147,
          3286185,
          3289004,
          3291589,
          3294065,
          3294447,
          3296834,
          3298738,
          3301662,
          3305048,
          3308480,
          3312085,
          3316192,
          3322648,
          3325006,
          3327805,
          3331005,
          3335131,
          3340342,
          3346046,
          3352356,
          3359839,
          3367921,
          3374825,
          3380891,
          3385092,
          3390124,
          3393902,
          3397365,
          3399977,
          3402356,
          3404197,
          3405206,
          3406169,
          3406899,
          3407485,
          3407995,
          3408455,
          3408885,
          3409402,
          3409997,
          3410903,
          3411957,
          3413851,
          3417177,
          3421949,
          3429120,
          3440346,
          3455207,
          3468372,
          3478091,
          3485792,
          3492196,
          3497226,
          3499524,
          3501060,
          3502427,
          3503826,
          3505055,
          3506515,
          3508330,
          3510398,
          3512593,
          3514689,
          3516701,
          3518825,
          3520642,
          3522367,
          3523986,
          3524972,
          3525805,
          3526363,
          3526835,
          3527230,
          3527560,
          3527873,
          3528126,
          3528309,
          3528450,
          3528581,
          3528662,
          3528753,
          3528866,
          3529011,
          3529213,
          3529446,
          3529682,
          3529960,
          3530405,
          3531029,
          3532143,
          3533987,
          3536986,
          3541619,
          3546652,
          3551392,
          3556043,
          3559978
         ],
         "xaxis": "x",
         "y": [
          0,
          0,
          0,
          0,
          0,
          0,
          0,
          0,
          0,
          0,
          0,
          0,
          37,
          146,
          291,
          421,
          601,
          771,
          939,
          1094,
          1176,
          1259,
          1318,
          1394,
          1500,
          1589,
          1731,
          1871,
          2009,
          2165,
          2379,
          2659,
          2954,
          3233,
          3539,
          3850,
          4127,
          4402,
          4687,
          4947,
          5358,
          5812,
          6318,
          6968,
          7793,
          8813,
          9916,
          11045,
          12186,
          13264,
          14296,
          15108,
          15919,
          16592,
          17164,
          17722,
          18264,
          18809,
          19325,
          19795,
          20287,
          20854,
          21439,
          22132,
          22997,
          23973,
          25006,
          26072,
          27267,
          28194,
          28903,
          29485,
          29885,
          30247,
          30725,
          31804,
          32308,
          33177,
          33925,
          34216,
          34252,
          34267,
          34281,
          34313,
          34342,
          34403,
          34509,
          34678,
          34961,
          35456,
          36230,
          37394,
          39209,
          41482,
          44290,
          47324,
          50482,
          52836,
          54838,
          56169,
          57021,
          57636,
          58143,
          58536,
          58779,
          58997,
          59212,
          59525,
          59932,
          60560,
          61520,
          62471,
          63294,
          63931,
          64335,
          64669,
          64895,
          65079,
          65198,
          65331,
          65421,
          65486,
          65560,
          65606,
          65651,
          65677,
          65691,
          65713,
          65714,
          65726,
          65739,
          65755,
          65812,
          65853,
          65983,
          66171,
          66336,
          66483,
          66631,
          66766,
          66849,
          66912,
          66972,
          67027,
          67076,
          67119,
          67161,
          67186,
          67211,
          67236,
          67253,
          67253,
          67276,
          67289,
          67310,
          67341,
          67374,
          67408,
          67460,
          67542,
          67576,
          67619,
          67650,
          67675,
          67704,
          67736,
          67773,
          67821,
          67858,
          67917,
          67961,
          68001,
          68047,
          68089,
          68117,
          68143,
          68172,
          68184,
          68193,
          68217,
          68224,
          68233,
          68240,
          68243,
          68246,
          68249,
          68253,
          68259,
          68262,
          68266,
          68270,
          68282,
          68296,
          68314,
          68341,
          68372,
          68409,
          68455,
          68487,
          68525,
          68557,
          68576,
          68602,
          68627,
          68639,
          68651,
          68669,
          68690,
          68714,
          68732,
          68744,
          68753,
          68760,
          68768,
          68774,
          68781,
          68785,
          68785,
          68787,
          68788,
          68792,
          68792,
          68794,
          68799,
          68799,
          68799,
          68800,
          68802,
          68803,
          68803,
          68803,
          68803,
          68805,
          68806,
          68807,
          68808,
          68809,
          68815,
          68819,
          68825,
          68841,
          68853,
          68867,
          68879
         ],
         "yaxis": "y"
        }
       ],
       "layout": {
        "autosize": true,
        "legend": {
         "title": {
          "text": "Country"
         },
         "tracegroupgap": 0
        },
        "template": {
         "data": {
          "bar": [
           {
            "error_x": {
             "color": "#2a3f5f"
            },
            "error_y": {
             "color": "#2a3f5f"
            },
            "marker": {
             "line": {
              "color": "#E5ECF6",
              "width": 0.5
             },
             "pattern": {
              "fillmode": "overlay",
              "size": 10,
              "solidity": 0.2
             }
            },
            "type": "bar"
           }
          ],
          "barpolar": [
           {
            "marker": {
             "line": {
              "color": "#E5ECF6",
              "width": 0.5
             },
             "pattern": {
              "fillmode": "overlay",
              "size": 10,
              "solidity": 0.2
             }
            },
            "type": "barpolar"
           }
          ],
          "carpet": [
           {
            "aaxis": {
             "endlinecolor": "#2a3f5f",
             "gridcolor": "white",
             "linecolor": "white",
             "minorgridcolor": "white",
             "startlinecolor": "#2a3f5f"
            },
            "baxis": {
             "endlinecolor": "#2a3f5f",
             "gridcolor": "white",
             "linecolor": "white",
             "minorgridcolor": "white",
             "startlinecolor": "#2a3f5f"
            },
            "type": "carpet"
           }
          ],
          "choropleth": [
           {
            "colorbar": {
             "outlinewidth": 0,
             "ticks": ""
            },
            "type": "choropleth"
           }
          ],
          "contour": [
           {
            "colorbar": {
             "outlinewidth": 0,
             "ticks": ""
            },
            "colorscale": [
             [
              0,
              "#0d0887"
             ],
             [
              0.1111111111111111,
              "#46039f"
             ],
             [
              0.2222222222222222,
              "#7201a8"
             ],
             [
              0.3333333333333333,
              "#9c179e"
             ],
             [
              0.4444444444444444,
              "#bd3786"
             ],
             [
              0.5555555555555556,
              "#d8576b"
             ],
             [
              0.6666666666666666,
              "#ed7953"
             ],
             [
              0.7777777777777778,
              "#fb9f3a"
             ],
             [
              0.8888888888888888,
              "#fdca26"
             ],
             [
              1,
              "#f0f921"
             ]
            ],
            "type": "contour"
           }
          ],
          "contourcarpet": [
           {
            "colorbar": {
             "outlinewidth": 0,
             "ticks": ""
            },
            "type": "contourcarpet"
           }
          ],
          "heatmap": [
           {
            "colorbar": {
             "outlinewidth": 0,
             "ticks": ""
            },
            "colorscale": [
             [
              0,
              "#0d0887"
             ],
             [
              0.1111111111111111,
              "#46039f"
             ],
             [
              0.2222222222222222,
              "#7201a8"
             ],
             [
              0.3333333333333333,
              "#9c179e"
             ],
             [
              0.4444444444444444,
              "#bd3786"
             ],
             [
              0.5555555555555556,
              "#d8576b"
             ],
             [
              0.6666666666666666,
              "#ed7953"
             ],
             [
              0.7777777777777778,
              "#fb9f3a"
             ],
             [
              0.8888888888888888,
              "#fdca26"
             ],
             [
              1,
              "#f0f921"
             ]
            ],
            "type": "heatmap"
           }
          ],
          "heatmapgl": [
           {
            "colorbar": {
             "outlinewidth": 0,
             "ticks": ""
            },
            "colorscale": [
             [
              0,
              "#0d0887"
             ],
             [
              0.1111111111111111,
              "#46039f"
             ],
             [
              0.2222222222222222,
              "#7201a8"
             ],
             [
              0.3333333333333333,
              "#9c179e"
             ],
             [
              0.4444444444444444,
              "#bd3786"
             ],
             [
              0.5555555555555556,
              "#d8576b"
             ],
             [
              0.6666666666666666,
              "#ed7953"
             ],
             [
              0.7777777777777778,
              "#fb9f3a"
             ],
             [
              0.8888888888888888,
              "#fdca26"
             ],
             [
              1,
              "#f0f921"
             ]
            ],
            "type": "heatmapgl"
           }
          ],
          "histogram": [
           {
            "marker": {
             "pattern": {
              "fillmode": "overlay",
              "size": 10,
              "solidity": 0.2
             }
            },
            "type": "histogram"
           }
          ],
          "histogram2d": [
           {
            "colorbar": {
             "outlinewidth": 0,
             "ticks": ""
            },
            "colorscale": [
             [
              0,
              "#0d0887"
             ],
             [
              0.1111111111111111,
              "#46039f"
             ],
             [
              0.2222222222222222,
              "#7201a8"
             ],
             [
              0.3333333333333333,
              "#9c179e"
             ],
             [
              0.4444444444444444,
              "#bd3786"
             ],
             [
              0.5555555555555556,
              "#d8576b"
             ],
             [
              0.6666666666666666,
              "#ed7953"
             ],
             [
              0.7777777777777778,
              "#fb9f3a"
             ],
             [
              0.8888888888888888,
              "#fdca26"
             ],
             [
              1,
              "#f0f921"
             ]
            ],
            "type": "histogram2d"
           }
          ],
          "histogram2dcontour": [
           {
            "colorbar": {
             "outlinewidth": 0,
             "ticks": ""
            },
            "colorscale": [
             [
              0,
              "#0d0887"
             ],
             [
              0.1111111111111111,
              "#46039f"
             ],
             [
              0.2222222222222222,
              "#7201a8"
             ],
             [
              0.3333333333333333,
              "#9c179e"
             ],
             [
              0.4444444444444444,
              "#bd3786"
             ],
             [
              0.5555555555555556,
              "#d8576b"
             ],
             [
              0.6666666666666666,
              "#ed7953"
             ],
             [
              0.7777777777777778,
              "#fb9f3a"
             ],
             [
              0.8888888888888888,
              "#fdca26"
             ],
             [
              1,
              "#f0f921"
             ]
            ],
            "type": "histogram2dcontour"
           }
          ],
          "mesh3d": [
           {
            "colorbar": {
             "outlinewidth": 0,
             "ticks": ""
            },
            "type": "mesh3d"
           }
          ],
          "parcoords": [
           {
            "line": {
             "colorbar": {
              "outlinewidth": 0,
              "ticks": ""
             }
            },
            "type": "parcoords"
           }
          ],
          "pie": [
           {
            "automargin": true,
            "type": "pie"
           }
          ],
          "scatter": [
           {
            "fillpattern": {
             "fillmode": "overlay",
             "size": 10,
             "solidity": 0.2
            },
            "type": "scatter"
           }
          ],
          "scatter3d": [
           {
            "line": {
             "colorbar": {
              "outlinewidth": 0,
              "ticks": ""
             }
            },
            "marker": {
             "colorbar": {
              "outlinewidth": 0,
              "ticks": ""
             }
            },
            "type": "scatter3d"
           }
          ],
          "scattercarpet": [
           {
            "marker": {
             "colorbar": {
              "outlinewidth": 0,
              "ticks": ""
             }
            },
            "type": "scattercarpet"
           }
          ],
          "scattergeo": [
           {
            "marker": {
             "colorbar": {
              "outlinewidth": 0,
              "ticks": ""
             }
            },
            "type": "scattergeo"
           }
          ],
          "scattergl": [
           {
            "marker": {
             "colorbar": {
              "outlinewidth": 0,
              "ticks": ""
             }
            },
            "type": "scattergl"
           }
          ],
          "scattermapbox": [
           {
            "marker": {
             "colorbar": {
              "outlinewidth": 0,
              "ticks": ""
             }
            },
            "type": "scattermapbox"
           }
          ],
          "scatterpolar": [
           {
            "marker": {
             "colorbar": {
              "outlinewidth": 0,
              "ticks": ""
             }
            },
            "type": "scatterpolar"
           }
          ],
          "scatterpolargl": [
           {
            "marker": {
             "colorbar": {
              "outlinewidth": 0,
              "ticks": ""
             }
            },
            "type": "scatterpolargl"
           }
          ],
          "scatterternary": [
           {
            "marker": {
             "colorbar": {
              "outlinewidth": 0,
              "ticks": ""
             }
            },
            "type": "scatterternary"
           }
          ],
          "surface": [
           {
            "colorbar": {
             "outlinewidth": 0,
             "ticks": ""
            },
            "colorscale": [
             [
              0,
              "#0d0887"
             ],
             [
              0.1111111111111111,
              "#46039f"
             ],
             [
              0.2222222222222222,
              "#7201a8"
             ],
             [
              0.3333333333333333,
              "#9c179e"
             ],
             [
              0.4444444444444444,
              "#bd3786"
             ],
             [
              0.5555555555555556,
              "#d8576b"
             ],
             [
              0.6666666666666666,
              "#ed7953"
             ],
             [
              0.7777777777777778,
              "#fb9f3a"
             ],
             [
              0.8888888888888888,
              "#fdca26"
             ],
             [
              1,
              "#f0f921"
             ]
            ],
            "type": "surface"
           }
          ],
          "table": [
           {
            "cells": {
             "fill": {
              "color": "#EBF0F8"
             },
             "line": {
              "color": "white"
             }
            },
            "header": {
             "fill": {
              "color": "#C8D4E3"
             },
             "line": {
              "color": "white"
             }
            },
            "type": "table"
           }
          ]
         },
         "layout": {
          "annotationdefaults": {
           "arrowcolor": "#2a3f5f",
           "arrowhead": 0,
           "arrowwidth": 1
          },
          "autotypenumbers": "strict",
          "coloraxis": {
           "colorbar": {
            "outlinewidth": 0,
            "ticks": ""
           }
          },
          "colorscale": {
           "diverging": [
            [
             0,
             "#8e0152"
            ],
            [
             0.1,
             "#c51b7d"
            ],
            [
             0.2,
             "#de77ae"
            ],
            [
             0.3,
             "#f1b6da"
            ],
            [
             0.4,
             "#fde0ef"
            ],
            [
             0.5,
             "#f7f7f7"
            ],
            [
             0.6,
             "#e6f5d0"
            ],
            [
             0.7,
             "#b8e186"
            ],
            [
             0.8,
             "#7fbc41"
            ],
            [
             0.9,
             "#4d9221"
            ],
            [
             1,
             "#276419"
            ]
           ],
           "sequential": [
            [
             0,
             "#0d0887"
            ],
            [
             0.1111111111111111,
             "#46039f"
            ],
            [
             0.2222222222222222,
             "#7201a8"
            ],
            [
             0.3333333333333333,
             "#9c179e"
            ],
            [
             0.4444444444444444,
             "#bd3786"
            ],
            [
             0.5555555555555556,
             "#d8576b"
            ],
            [
             0.6666666666666666,
             "#ed7953"
            ],
            [
             0.7777777777777778,
             "#fb9f3a"
            ],
            [
             0.8888888888888888,
             "#fdca26"
            ],
            [
             1,
             "#f0f921"
            ]
           ],
           "sequentialminus": [
            [
             0,
             "#0d0887"
            ],
            [
             0.1111111111111111,
             "#46039f"
            ],
            [
             0.2222222222222222,
             "#7201a8"
            ],
            [
             0.3333333333333333,
             "#9c179e"
            ],
            [
             0.4444444444444444,
             "#bd3786"
            ],
            [
             0.5555555555555556,
             "#d8576b"
            ],
            [
             0.6666666666666666,
             "#ed7953"
            ],
            [
             0.7777777777777778,
             "#fb9f3a"
            ],
            [
             0.8888888888888888,
             "#fdca26"
            ],
            [
             1,
             "#f0f921"
            ]
           ]
          },
          "colorway": [
           "#636efa",
           "#EF553B",
           "#00cc96",
           "#ab63fa",
           "#FFA15A",
           "#19d3f3",
           "#FF6692",
           "#B6E880",
           "#FF97FF",
           "#FECB52"
          ],
          "font": {
           "color": "#2a3f5f"
          },
          "geo": {
           "bgcolor": "white",
           "lakecolor": "white",
           "landcolor": "#E5ECF6",
           "showlakes": true,
           "showland": true,
           "subunitcolor": "white"
          },
          "hoverlabel": {
           "align": "left"
          },
          "hovermode": "closest",
          "mapbox": {
           "style": "light"
          },
          "paper_bgcolor": "white",
          "plot_bgcolor": "#E5ECF6",
          "polar": {
           "angularaxis": {
            "gridcolor": "white",
            "linecolor": "white",
            "ticks": ""
           },
           "bgcolor": "#E5ECF6",
           "radialaxis": {
            "gridcolor": "white",
            "linecolor": "white",
            "ticks": ""
           }
          },
          "scene": {
           "xaxis": {
            "backgroundcolor": "#E5ECF6",
            "gridcolor": "white",
            "gridwidth": 2,
            "linecolor": "white",
            "showbackground": true,
            "ticks": "",
            "zerolinecolor": "white"
           },
           "yaxis": {
            "backgroundcolor": "#E5ECF6",
            "gridcolor": "white",
            "gridwidth": 2,
            "linecolor": "white",
            "showbackground": true,
            "ticks": "",
            "zerolinecolor": "white"
           },
           "zaxis": {
            "backgroundcolor": "#E5ECF6",
            "gridcolor": "white",
            "gridwidth": 2,
            "linecolor": "white",
            "showbackground": true,
            "ticks": "",
            "zerolinecolor": "white"
           }
          },
          "shapedefaults": {
           "line": {
            "color": "#2a3f5f"
           }
          },
          "ternary": {
           "aaxis": {
            "gridcolor": "white",
            "linecolor": "white",
            "ticks": ""
           },
           "baxis": {
            "gridcolor": "white",
            "linecolor": "white",
            "ticks": ""
           },
           "bgcolor": "#E5ECF6",
           "caxis": {
            "gridcolor": "white",
            "linecolor": "white",
            "ticks": ""
           }
          },
          "title": {
           "x": 0.05
          },
          "xaxis": {
           "automargin": true,
           "gridcolor": "white",
           "linecolor": "white",
           "ticks": "",
           "title": {
            "standoff": 15
           },
           "zerolinecolor": "white",
           "zerolinewidth": 2
          },
          "yaxis": {
           "automargin": true,
           "gridcolor": "white",
           "linecolor": "white",
           "ticks": "",
           "title": {
            "standoff": 15
           },
           "zerolinecolor": "white",
           "zerolinewidth": 2
          }
         }
        },
        "title": {
         "text": "Cumulative Deaths vs Cumulative Cases for 3 Countries"
        },
        "xaxis": {
         "anchor": "y",
         "autorange": true,
         "domain": [
          0,
          1
         ],
         "range": [
          -216343.63737639255,
          3776321.6373763927
         ],
         "title": {
          "text": "Cumulative Cases"
         },
         "type": "linear"
        },
        "yaxis": {
         "anchor": "x",
         "autorange": true,
         "domain": [
          0,
          1
         ],
         "range": [
          -5684.189320388349,
          74563.18932038835
         ],
         "title": {
          "text": "Cumulative Deaths"
         },
         "type": "linear"
        }
       }
      },
      "image/png": "[encoded data removed]",
      "text/html": [
       "<div>                            <div id=\"b4e1c62f-ec1b-46b8-a687-785cf1265646\" class=\"plotly-graph-div\" style=\"height:525px; width:100%;\"></div>            <script type=\"text/javascript\">                require([\"plotly\"], function(Plotly) {                    window.PLOTLYENV=window.PLOTLYENV || {};                                    if (document.getElementById(\"b4e1c62f-ec1b-46b8-a687-785cf1265646\")) {                    Plotly.newPlot(                        \"b4e1c62f-ec1b-46b8-a687-785cf1265646\",                        [{\"hovertemplate\":\"Country=Croatia\\u003cbr\\u003eCumulative_cases=%{x}\\u003cbr\\u003eCumulative_deaths=%{y}\\u003cextra\\u003e\\u003c\\u002fextra\\u003e\",\"legendgroup\":\"Croatia\",\"line\":{\"color\":\"#636efa\",\"dash\":\"solid\"},\"marker\":{\"symbol\":\"circle\"},\"mode\":\"lines+markers\",\"name\":\"Croatia\",\"orientation\":\"v\",\"showlegend\":true,\"x\":[0,0,0,0,0,0,0,0,6,12,38,206,657,1126,1534,1832,2016,2088,2176,2224,2243,2246,2247,2251,2299,2624,3094,3672,4253,4792,5224,5543,6420,7900,9861,11739,13368,14725,16007,17401,19932,24761,33959,49316,64704,81844,100410,123693,147454,172523,192987,204312,212262,219347,224575,228568,232090,235126,237459,239685,242617,246120,250484,256805,265901,278650,290899,306225,321372,334229,343829,349910,353735,355955,357408,358504,359115,359607,360181,360768,361488,362496,363615,364832,366724,369392,372814,377299,383108,391109,399054,407755,416950,426613,443032,467029,497168,534601,566118,599977,628241,651863,673427,693102,720538,758272,811703,869965,929502,979000,1012703,1039157,1053568,1062953,1072430,1083111,1093098,1101921,1108551,1113135,1117175,1122459,1127336,1131105,1134027,1136229,1137864,1139663,1141576,1145053,1150653,1158420,1167132,1176519,1185799,1192555,1200113,1205948,1211419,1215999,1220015,1224366,1228574,1233260,1237687,1241383,1244365,1246731,1248450,1249943,1251225,1252886,1254644,1256818,1259113,1261766,1263901,1265333,1266405,1267021,1267467,1267850,1268185,1268561,1268666,1268992,1269326,1269687,1270075,1270513,1270891,1271276,1271818,1272377,1272886,1273256,1273508,1273671,1273795,1273871,1273907,1273959,1273991,1274014,1274040,1274068,1274090,1274123,1274154,1274198,1274281,1274434,1274603,1274834,1275071,1275337,1275559,1275762,1276001,1276216,1277908,1279890,1282425,1285460,1289829,1295123,1301545,1306928,1309728,1312093,1314169,1315463,1316310,1316865,1317235,1317452,1317646,1317789,1317886,1317971,1318032,1318074,1318115,1318140,1318189,1318238,1318299,1318370,1318459,1318531,1318571,1318697,1318879,1319095,1319350,1319758,1320233,1320907,1321825,1322750,1323668,1324814,1326996,1329451],\"xaxis\":\"x\",\"y\":[0,0,0,0,0,0,0,0,0,0,0,1,5,12,21,39,54,77,87,95,99,103,104,107,107,107,113,118,120,133,145,157,165,170,183,197,218,244,269,293,317,355,429,546,752,1006,1304,1655,2102,2562,3101,3613,4016,4342,4588,4799,4998,5144,5299,5420,5511,5585,5670,5753,5872,6025,6269,6523,6815,7130,7424,7687,7883,8002,8080,8132,8169,8197,8215,8227,8236,8245,8259,8271,8282,8298,8324,8362,8427,8493,8580,8664,8763,8877,9010,9198,9450,9840,10243,10695,11150,11574,11930,12279,12571,12841,13073,13371,13731,14078,14424,14773,15012,15194,15321,15425,15509,15592,15675,15725,15778,15828,15881,15925,15961,15979,15998,16016,16027,16048,16073,16103,16147,16206,16300,16389,16484,16559,16646,16732,16792,16837,16875,16912,16959,17012,17070,17128,17185,17218,17260,17292,17339,17396,17447,17515,17596,17669,17759,17809,17858,17891,17921,17942,17950,17971,17987,18006,18025,18044,18069,18091,18129,18155,18180,18213,18230,18246,18255,18266,18267,18269,18273,18275,18276,18281,18282,18286,18288,18290,18292,18297,18306,18318,18332,18351,18358,18374,18397,18414,18433,18446,18470,18487,18529,18572,18627,18664,18687,18725,18732,18736,18744,18748,18748,18748,18749,18750,18750,18751,18751,18751,18751,18752,18752,18752,18752,18752,18752,18752,18752,18752,18752,18752,18752,18752,18752,18752,18752,18753,18754,18755,18755,18755],\"yaxis\":\"y\",\"type\":\"scatter\"},{\"hovertemplate\":\"Country=Hungary\\u003cbr\\u003eCumulative_cases=%{x}\\u003cbr\\u003eCumulative_deaths=%{y}\\u003cextra\\u003e\\u003c\\u002fextra\\u003e\",\"legendgroup\":\"Hungary\",\"line\":{\"color\":\"#EF553B\",\"dash\":\"solid\"},\"marker\":{\"symbol\":\"circle\"},\"mode\":\"lines+markers\",\"name\":\"Hungary\",\"orientation\":\"v\",\"showlegend\":true,\"x\":[0,0,0,0,0,0,0,0,0,7,31,131,408,733,1410,1916,2500,2998,3263,3509,3741,3867,3970,4064,4094,4138,4183,4229,4315,4435,4526,4653,4877,5133,5669,7892,11825,17990,24014,30575,37664,46290,59247,79199,109616,140961,174618,211527,250278,280400,302989,316060,327995,342237,351828,359574,367586,376495,387462,403023,428599,466017,516490,571596,633861,685979,720164,750508,769518,782892,791709,798147,802088,804032,806008,806790,807428,807910,808197,808437,808725,809101,809491,809855,810316,810781,811706,813040,814732,817159,820078,823384,827410,833115,843825,863419,892164,939784,998488,1068888,1134869,1182922,1218295,1237330,1256415,1282957,1327014,1401457,1508358,1616846,1695991,1746424,1779174,1800046,1814362,1824089,1839358,1854198,1868007,1879480,1890953,1901017,1903200,1909948,1914697,1917777,1919840,1921486,1923122,1925083,1928125,1932788,1940824,1951079,1965481,1987321,2005399,2021648,2036390,2048547,2058847,2070443,2082750,2094142,2107907,2120543,2132490,2141513,2149008,2153564,2157995,2162093,2166352,2171056,2176249,2181419,2185816,2188737,2190333,2191199,2191826,2192447,2193272,2194102,2194969,2195926,2196804,2197820,2198461,2199146,2199764,2200211,2200739,2201355,2201824,2202179,2202491,2202716,2202887,2202990,2203082,2203129,2203171,2203200,2203222,2203262,2203289,2203315,2203356,2203441,2203564,2203761,2204090,2204488,2205322,2206311,2207180,2207969,2208950,2209972,2210846,2211830,2213046,2214721,2217184,2220220,2223831,2226085,2227159,2228206,2228828,2229267,2229538,2229804,2229987,2230094,2230159,2230202,2230232,2230249,2230274,2230293,2230312,2230325,2230351,2230371,2230381,2230396,2230419,2230423,2230438,2230444,2230453,2230472,2230485,2230504,2230548,2230591,2230657,2230800,2230925,2231074,2231207,2231405],\"xaxis\":\"x\",\"y\":[0,0,0,0,0,0,0,0,0,0,0,4,13,34,99,189,272,340,413,451,486,524,542,559,570,578,589,595,596,596,597,602,607,611,614,624,633,683,736,822,954,1142,1425,1819,2438,3097,3800,4672,5868,6965,8099,9047,9884,10648,11341,11968,12524,13090,13706,14299,14974,15873,16952,18262,19972,21715,23417,25184,26625,27802,28602,29175,29519,29709,29855,29905,29951,29981,29992,30004,30015,30020,30026,30033,30038,30046,30057,30061,30086,30123,30151,30199,30275,30351,30492,30729,31184,31867,32780,33866,35122,36429,37530,38307,39186,39780,40237,40822,41229,41741,42360,43066,43752,44286,44653,44961,45258,45510,45721,45865,46048,46201,46266,46343,46446,46507,46547,46571,46594,46626,46647,46661,46696,46736,46790,46886,46966,47083,47191,47291,47367,47409,47457,47503,47576,47680,47798,47938,48019,48111,48184,48245,48287,48337,48380,48439,48495,48560,48604,48621,48638,48647,48655,48664,48670,48681,48693,48709,48720,48730,48745,48753,48764,48770,48778,48782,48786,48791,48794,48795,48797,48797,48798,48799,48799,48799,48800,48801,48802,48802,48803,48803,48803,48806,48807,48812,48815,48819,48822,48831,48841,48854,48869,48886,48902,48922,48946,48967,48991,49006,49016,49026,49031,49040,49043,49046,49047,49048,49048,49048,49048,49049,49051,49051,49051,49051,49051,49051,49051,49051,49051,49051,49051,49051,49051,49051,49051,49053,49053,49053,49054,49055,49056,49057],\"yaxis\":\"y\",\"type\":\"scatter\"},{\"hovertemplate\":\"Country=Romania\\u003cbr\\u003eCumulative_cases=%{x}\\u003cbr\\u003eCumulative_deaths=%{y}\\u003cextra\\u003e\\u003c\\u002fextra\\u003e\",\"legendgroup\":\"Romania\",\"line\":{\"color\":\"#00cc96\",\"dash\":\"solid\"},\"marker\":{\"symbol\":\"circle\"},\"mode\":\"lines+markers\",\"name\":\"Romania\",\"orientation\":\"v\",\"showlegend\":true,\"x\":[0,0,0,0,0,0,0,0,4,15,139,367,1452,3613,5990,8418,10635,12732,15131,16704,17857,19133,20290,21679,23730,26022,28582,32079,36691,43678,52111,60623,69374,77544,85833,93864,102386,111550,121235,134065,152403,176468,205793,241339,296999,353185,412808,465982,508345,551900,587944,613760,637395,668202,691488,709194,726918,743343,760091,777276,799164,824995,855326,892848,932179,970224,1002865,1027039,1044722,1056572,1065254,1071334,1075236,1077426,1078742,1079657,1080203,1080584,1080918,1081210,1081588,1082183,1083189,1084711,1086900,1090408,1095885,1104766,1118549,1144893,1187773,1257145,1346240,1445714,1550203,1640607,1701589,1739283,1760765,1775572,1785120,1792433,1797706,1802396,1810342,1839825,1895833,2003041,2176726,2385713,2550348,2655933,2724480,2765169,2790368,2813798,2838849,2858665,2871937,2881322,2887824,2893876,2898848,2902790,2905859,2908313,2910392,2912537,2912878,2915487,2919461,2927187,2961769,3002662,3059568,3112474,3154721,3184930,3208903,3226207,3239392,3252363,3261614,3269498,3275276,3279623,3283147,3286185,3289004,3291589,3294065,3294447,3296834,3298738,3301662,3305048,3308480,3312085,3316192,3322648,3325006,3327805,3331005,3335131,3340342,3346046,3352356,3359839,3367921,3374825,3380891,3385092,3390124,3393902,3397365,3399977,3402356,3404197,3405206,3406169,3406899,3407485,3407995,3408455,3408885,3409402,3409997,3410903,3411957,3413851,3417177,3421949,3429120,3440346,3455207,3468372,3478091,3485792,3492196,3497226,3499524,3501060,3502427,3503826,3505055,3506515,3508330,3510398,3512593,3514689,3516701,3518825,3520642,3522367,3523986,3524972,3525805,3526363,3526835,3527230,3527560,3527873,3528126,3528309,3528450,3528581,3528662,3528753,3528866,3529011,3529213,3529446,3529682,3529960,3530405,3531029,3532143,3533987,3536986,3541619,3546652,3551392,3556043,3559978],\"xaxis\":\"x\",\"y\":[0,0,0,0,0,0,0,0,0,0,0,0,37,146,291,421,601,771,939,1094,1176,1259,1318,1394,1500,1589,1731,1871,2009,2165,2379,2659,2954,3233,3539,3850,4127,4402,4687,4947,5358,5812,6318,6968,7793,8813,9916,11045,12186,13264,14296,15108,15919,16592,17164,17722,18264,18809,19325,19795,20287,20854,21439,22132,22997,23973,25006,26072,27267,28194,28903,29485,29885,30247,30725,31804,32308,33177,33925,34216,34252,34267,34281,34313,34342,34403,34509,34678,34961,35456,36230,37394,39209,41482,44290,47324,50482,52836,54838,56169,57021,57636,58143,58536,58779,58997,59212,59525,59932,60560,61520,62471,63294,63931,64335,64669,64895,65079,65198,65331,65421,65486,65560,65606,65651,65677,65691,65713,65714,65726,65739,65755,65812,65853,65983,66171,66336,66483,66631,66766,66849,66912,66972,67027,67076,67119,67161,67186,67211,67236,67253,67253,67276,67289,67310,67341,67374,67408,67460,67542,67576,67619,67650,67675,67704,67736,67773,67821,67858,67917,67961,68001,68047,68089,68117,68143,68172,68184,68193,68217,68224,68233,68240,68243,68246,68249,68253,68259,68262,68266,68270,68282,68296,68314,68341,68372,68409,68455,68487,68525,68557,68576,68602,68627,68639,68651,68669,68690,68714,68732,68744,68753,68760,68768,68774,68781,68785,68785,68787,68788,68792,68792,68794,68799,68799,68799,68800,68802,68803,68803,68803,68803,68805,68806,68807,68808,68809,68815,68819,68825,68841,68853,68867,68879],\"yaxis\":\"y\",\"type\":\"scatter\"}],                        {\"template\":{\"data\":{\"histogram2dcontour\":[{\"type\":\"histogram2dcontour\",\"colorbar\":{\"outlinewidth\":0,\"ticks\":\"\"},\"colorscale\":[[0.0,\"#0d0887\"],[0.1111111111111111,\"#46039f\"],[0.2222222222222222,\"#7201a8\"],[0.3333333333333333,\"#9c179e\"],[0.4444444444444444,\"#bd3786\"],[0.5555555555555556,\"#d8576b\"],[0.6666666666666666,\"#ed7953\"],[0.7777777777777778,\"#fb9f3a\"],[0.8888888888888888,\"#fdca26\"],[1.0,\"#f0f921\"]]}],\"choropleth\":[{\"type\":\"choropleth\",\"colorbar\":{\"outlinewidth\":0,\"ticks\":\"\"}}],\"histogram2d\":[{\"type\":\"histogram2d\",\"colorbar\":{\"outlinewidth\":0,\"ticks\":\"\"},\"colorscale\":[[0.0,\"#0d0887\"],[0.1111111111111111,\"#46039f\"],[0.2222222222222222,\"#7201a8\"],[0.3333333333333333,\"#9c179e\"],[0.4444444444444444,\"#bd3786\"],[0.5555555555555556,\"#d8576b\"],[0.6666666666666666,\"#ed7953\"],[0.7777777777777778,\"#fb9f3a\"],[0.8888888888888888,\"#fdca26\"],[1.0,\"#f0f921\"]]}],\"heatmap\":[{\"type\":\"heatmap\",\"colorbar\":{\"outlinewidth\":0,\"ticks\":\"\"},\"colorscale\":[[0.0,\"#0d0887\"],[0.1111111111111111,\"#46039f\"],[0.2222222222222222,\"#7201a8\"],[0.3333333333333333,\"#9c179e\"],[0.4444444444444444,\"#bd3786\"],[0.5555555555555556,\"#d8576b\"],[0.6666666666666666,\"#ed7953\"],[0.7777777777777778,\"#fb9f3a\"],[0.8888888888888888,\"#fdca26\"],[1.0,\"#f0f921\"]]}],\"heatmapgl\":[{\"type\":\"heatmapgl\",\"colorbar\":{\"outlinewidth\":0,\"ticks\":\"\"},\"colorscale\":[[0.0,\"#0d0887\"],[0.1111111111111111,\"#46039f\"],[0.2222222222222222,\"#7201a8\"],[0.3333333333333333,\"#9c179e\"],[0.4444444444444444,\"#bd3786\"],[0.5555555555555556,\"#d8576b\"],[0.6666666666666666,\"#ed7953\"],[0.7777777777777778,\"#fb9f3a\"],[0.8888888888888888,\"#fdca26\"],[1.0,\"#f0f921\"]]}],\"contourcarpet\":[{\"type\":\"contourcarpet\",\"colorbar\":{\"outlinewidth\":0,\"ticks\":\"\"}}],\"contour\":[{\"type\":\"contour\",\"colorbar\":{\"outlinewidth\":0,\"ticks\":\"\"},\"colorscale\":[[0.0,\"#0d0887\"],[0.1111111111111111,\"#46039f\"],[0.2222222222222222,\"#7201a8\"],[0.3333333333333333,\"#9c179e\"],[0.4444444444444444,\"#bd3786\"],[0.5555555555555556,\"#d8576b\"],[0.6666666666666666,\"#ed7953\"],[0.7777777777777778,\"#fb9f3a\"],[0.8888888888888888,\"#fdca26\"],[1.0,\"#f0f921\"]]}],\"surface\":[{\"type\":\"surface\",\"colorbar\":{\"outlinewidth\":0,\"ticks\":\"\"},\"colorscale\":[[0.0,\"#0d0887\"],[0.1111111111111111,\"#46039f\"],[0.2222222222222222,\"#7201a8\"],[0.3333333333333333,\"#9c179e\"],[0.4444444444444444,\"#bd3786\"],[0.5555555555555556,\"#d8576b\"],[0.6666666666666666,\"#ed7953\"],[0.7777777777777778,\"#fb9f3a\"],[0.8888888888888888,\"#fdca26\"],[1.0,\"#f0f921\"]]}],\"mesh3d\":[{\"type\":\"mesh3d\",\"colorbar\":{\"outlinewidth\":0,\"ticks\":\"\"}}],\"scatter\":[{\"fillpattern\":{\"fillmode\":\"overlay\",\"size\":10,\"solidity\":0.2},\"type\":\"scatter\"}],\"parcoords\":[{\"type\":\"parcoords\",\"line\":{\"colorbar\":{\"outlinewidth\":0,\"ticks\":\"\"}}}],\"scatterpolargl\":[{\"type\":\"scatterpolargl\",\"marker\":{\"colorbar\":{\"outlinewidth\":0,\"ticks\":\"\"}}}],\"bar\":[{\"error_x\":{\"color\":\"#2a3f5f\"},\"error_y\":{\"color\":\"#2a3f5f\"},\"marker\":{\"line\":{\"color\":\"#E5ECF6\",\"width\":0.5},\"pattern\":{\"fillmode\":\"overlay\",\"size\":10,\"solidity\":0.2}},\"type\":\"bar\"}],\"scattergeo\":[{\"type\":\"scattergeo\",\"marker\":{\"colorbar\":{\"outlinewidth\":0,\"ticks\":\"\"}}}],\"scatterpolar\":[{\"type\":\"scatterpolar\",\"marker\":{\"colorbar\":{\"outlinewidth\":0,\"ticks\":\"\"}}}],\"histogram\":[{\"marker\":{\"pattern\":{\"fillmode\":\"overlay\",\"size\":10,\"solidity\":0.2}},\"type\":\"histogram\"}],\"scattergl\":[{\"type\":\"scattergl\",\"marker\":{\"colorbar\":{\"outlinewidth\":0,\"ticks\":\"\"}}}],\"scatter3d\":[{\"type\":\"scatter3d\",\"line\":{\"colorbar\":{\"outlinewidth\":0,\"ticks\":\"\"}},\"marker\":{\"colorbar\":{\"outlinewidth\":0,\"ticks\":\"\"}}}],\"scattermapbox\":[{\"type\":\"scattermapbox\",\"marker\":{\"colorbar\":{\"outlinewidth\":0,\"ticks\":\"\"}}}],\"scatterternary\":[{\"type\":\"scatterternary\",\"marker\":{\"colorbar\":{\"outlinewidth\":0,\"ticks\":\"\"}}}],\"scattercarpet\":[{\"type\":\"scattercarpet\",\"marker\":{\"colorbar\":{\"outlinewidth\":0,\"ticks\":\"\"}}}],\"carpet\":[{\"aaxis\":{\"endlinecolor\":\"#2a3f5f\",\"gridcolor\":\"white\",\"linecolor\":\"white\",\"minorgridcolor\":\"white\",\"startlinecolor\":\"#2a3f5f\"},\"baxis\":{\"endlinecolor\":\"#2a3f5f\",\"gridcolor\":\"white\",\"linecolor\":\"white\",\"minorgridcolor\":\"white\",\"startlinecolor\":\"#2a3f5f\"},\"type\":\"carpet\"}],\"table\":[{\"cells\":{\"fill\":{\"color\":\"#EBF0F8\"},\"line\":{\"color\":\"white\"}},\"header\":{\"fill\":{\"color\":\"#C8D4E3\"},\"line\":{\"color\":\"white\"}},\"type\":\"table\"}],\"barpolar\":[{\"marker\":{\"line\":{\"color\":\"#E5ECF6\",\"width\":0.5},\"pattern\":{\"fillmode\":\"overlay\",\"size\":10,\"solidity\":0.2}},\"type\":\"barpolar\"}],\"pie\":[{\"automargin\":true,\"type\":\"pie\"}]},\"layout\":{\"autotypenumbers\":\"strict\",\"colorway\":[\"#636efa\",\"#EF553B\",\"#00cc96\",\"#ab63fa\",\"#FFA15A\",\"#19d3f3\",\"#FF6692\",\"#B6E880\",\"#FF97FF\",\"#FECB52\"],\"font\":{\"color\":\"#2a3f5f\"},\"hovermode\":\"closest\",\"hoverlabel\":{\"align\":\"left\"},\"paper_bgcolor\":\"white\",\"plot_bgcolor\":\"#E5ECF6\",\"polar\":{\"bgcolor\":\"#E5ECF6\",\"angularaxis\":{\"gridcolor\":\"white\",\"linecolor\":\"white\",\"ticks\":\"\"},\"radialaxis\":{\"gridcolor\":\"white\",\"linecolor\":\"white\",\"ticks\":\"\"}},\"ternary\":{\"bgcolor\":\"#E5ECF6\",\"aaxis\":{\"gridcolor\":\"white\",\"linecolor\":\"white\",\"ticks\":\"\"},\"baxis\":{\"gridcolor\":\"white\",\"linecolor\":\"white\",\"ticks\":\"\"},\"caxis\":{\"gridcolor\":\"white\",\"linecolor\":\"white\",\"ticks\":\"\"}},\"coloraxis\":{\"colorbar\":{\"outlinewidth\":0,\"ticks\":\"\"}},\"colorscale\":{\"sequential\":[[0.0,\"#0d0887\"],[0.1111111111111111,\"#46039f\"],[0.2222222222222222,\"#7201a8\"],[0.3333333333333333,\"#9c179e\"],[0.4444444444444444,\"#bd3786\"],[0.5555555555555556,\"#d8576b\"],[0.6666666666666666,\"#ed7953\"],[0.7777777777777778,\"#fb9f3a\"],[0.8888888888888888,\"#fdca26\"],[1.0,\"#f0f921\"]],\"sequentialminus\":[[0.0,\"#0d0887\"],[0.1111111111111111,\"#46039f\"],[0.2222222222222222,\"#7201a8\"],[0.3333333333333333,\"#9c179e\"],[0.4444444444444444,\"#bd3786\"],[0.5555555555555556,\"#d8576b\"],[0.6666666666666666,\"#ed7953\"],[0.7777777777777778,\"#fb9f3a\"],[0.8888888888888888,\"#fdca26\"],[1.0,\"#f0f921\"]],\"diverging\":[[0,\"#8e0152\"],[0.1,\"#c51b7d\"],[0.2,\"#de77ae\"],[0.3,\"#f1b6da\"],[0.4,\"#fde0ef\"],[0.5,\"#f7f7f7\"],[0.6,\"#e6f5d0\"],[0.7,\"#b8e186\"],[0.8,\"#7fbc41\"],[0.9,\"#4d9221\"],[1,\"#276419\"]]},\"xaxis\":{\"gridcolor\":\"white\",\"linecolor\":\"white\",\"ticks\":\"\",\"title\":{\"standoff\":15},\"zerolinecolor\":\"white\",\"automargin\":true,\"zerolinewidth\":2},\"yaxis\":{\"gridcolor\":\"white\",\"linecolor\":\"white\",\"ticks\":\"\",\"title\":{\"standoff\":15},\"zerolinecolor\":\"white\",\"automargin\":true,\"zerolinewidth\":2},\"scene\":{\"xaxis\":{\"backgroundcolor\":\"#E5ECF6\",\"gridcolor\":\"white\",\"linecolor\":\"white\",\"showbackground\":true,\"ticks\":\"\",\"zerolinecolor\":\"white\",\"gridwidth\":2},\"yaxis\":{\"backgroundcolor\":\"#E5ECF6\",\"gridcolor\":\"white\",\"linecolor\":\"white\",\"showbackground\":true,\"ticks\":\"\",\"zerolinecolor\":\"white\",\"gridwidth\":2},\"zaxis\":{\"backgroundcolor\":\"#E5ECF6\",\"gridcolor\":\"white\",\"linecolor\":\"white\",\"showbackground\":true,\"ticks\":\"\",\"zerolinecolor\":\"white\",\"gridwidth\":2}},\"shapedefaults\":{\"line\":{\"color\":\"#2a3f5f\"}},\"annotationdefaults\":{\"arrowcolor\":\"#2a3f5f\",\"arrowhead\":0,\"arrowwidth\":1},\"geo\":{\"bgcolor\":\"white\",\"landcolor\":\"#E5ECF6\",\"subunitcolor\":\"white\",\"showland\":true,\"showlakes\":true,\"lakecolor\":\"white\"},\"title\":{\"x\":0.05},\"mapbox\":{\"style\":\"light\"}}},\"xaxis\":{\"anchor\":\"y\",\"domain\":[0.0,1.0],\"title\":{\"text\":\"Cumulative Cases\"}},\"yaxis\":{\"anchor\":\"x\",\"domain\":[0.0,1.0],\"title\":{\"text\":\"Cumulative Deaths\"}},\"legend\":{\"title\":{\"text\":\"Country\"},\"tracegroupgap\":0},\"title\":{\"text\":\"Cumulative Deaths vs Cumulative Cases for 3 Countries\"}},                        {\"responsive\": true}                    ).then(function(){\n",
       "                            \n",
       "var gd = document.getElementById('b4e1c62f-ec1b-46b8-a687-785cf1265646');\n",
       "var x = new MutationObserver(function (mutations, observer) {{\n",
       "        var display = window.getComputedStyle(gd).display;\n",
       "        if (!display || display === 'none') {{\n",
       "            console.log([gd, 'removed!']);\n",
       "            Plotly.purge(gd);\n",
       "            observer.disconnect();\n",
       "        }}\n",
       "}});\n",
       "\n",
       "// Listen for the removal of the full notebook cells\n",
       "var notebookContainer = gd.closest('#notebook-container');\n",
       "if (notebookContainer) {{\n",
       "    x.observe(notebookContainer, {childList: true});\n",
       "}}\n",
       "\n",
       "// Listen for the clearing of the current output cell\n",
       "var outputEl = gd.closest('.output');\n",
       "if (outputEl) {{\n",
       "    x.observe(outputEl, {childList: true});\n",
       "}}\n",
       "\n",
       "                        })                };                });            </script>        </div>"
      ]
     },
     "metadata": {},
     "output_type": "display_data"
    }
   ],
   "source": [
    "countries = ['Romania', 'Hungary', 'Croatia']\n",
    "filtered_df = df[df['Country'].isin(countries)]\n",
    "\n",
    "fig = px.line(filtered_df, \n",
    "              x='Cumulative_cases', \n",
    "              y='Cumulative_deaths', \n",
    "              color='Country',\n",
    "              markers=True,\n",
    "              title='Cumulative Deaths vs Cumulative Cases for 3 Countries')\n",
    "\n",
    "# Update labels\n",
    "fig.update_layout(\n",
    "    xaxis_title='Cumulative Cases',\n",
    "    yaxis_title='Cumulative Deaths'\n",
    ")\n",
    "\n",
    "# Show plot\n",
    "fig.show()"
   ]
  },
  {
   "cell_type": "code",
   "execution_count": null,
   "id": "90b9a749-65a6-4a40-a2b2-d966ed6ff61e",
   "metadata": {},
   "outputs": [],
   "source": []
  }
 ],
 "metadata": {
  "kernelspec": {
   "display_name": "Python 3 (ipykernel)",
   "language": "python",
   "name": "python3"
  },
  "language_info": {
   "codemirror_mode": {
    "name": "ipython",
    "version": 3
   },
   "file_extension": ".py",
   "mimetype": "text/x-python",
   "name": "python",
   "nbconvert_exporter": "python",
   "pygments_lexer": "ipython3",
   "version": "3.9.13"
  }
 },
 "nbformat": 4,
 "nbformat_minor": 5
}

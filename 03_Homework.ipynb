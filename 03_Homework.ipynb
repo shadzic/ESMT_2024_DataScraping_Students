{
 "cells": [
  {
   "cell_type": "markdown",
   "id": "2abb51e6-e8ae-4cb3-a1b7-43706ea2d5f7",
   "metadata": {},
   "source": [
    "# 03 Homework\n",
    "© Copyright: 2024, Selma Hadzic, all rights reserved.\n",
    "\n",
    "#### Number of points: 15 (weights 15% in the final grade)\n",
    "\n",
    "\n",
    "1. Pull from the `ESMT_2024_DataScraping_Lectures` repository: you should get this `03_Homework` file\n",
    "2. Launch VS Code and open your working-folder\n",
    "3. Create a `Session_03` folder, in which you create another folder called `data`\n",
    "4. Copy paste the notebook `03_Homework` from the lectures repo to the working-folder. Copy the csv files `movies.csv` and `movies_metadata.csv` into the `working-folder/Session_03/data` directory.\n",
    "5. Do the exercises on 03_Homework in your working-folder\n",
    "6. Once you are finished, copy-Paste the notebook into `ESMT_2024_DataScraping_Students` folder in your computer\n",
    "8. Commit and push your homework in your branch before the deadline\n",
    "\n",
    "#### Deadline: October 21st 08:59 am CET\n",
    "\n",
    "#### Any missed deadline without justification to the Administration will result in 0 points for this homework.\n",
    "#### If the Github branch is not correctly named using the indicated format **LASTNAME_firstname**, then a penalty of -2 points will be applied"
   ]
  },
  {
   "cell_type": "markdown",
   "id": "2ea70485-ebf4-460f-9030-e08b673127a2",
   "metadata": {},
   "source": [
    "## 1. Exploration and data cleaning (6 points)"
   ]
  },
  {
   "cell_type": "markdown",
   "id": "b76c778b-c041-4c18-acc9-5186aef41c88",
   "metadata": {},
   "source": [
    "**1.1. Read the dataset `movies.csv` and visualise it**"
   ]
  },
  {
   "cell_type": "code",
   "execution_count": 125,
   "id": "1c158e75-df74-4241-9c7c-7b6cbaf27935",
   "metadata": {},
   "outputs": [],
   "source": [
    "import pandas as pd\n",
    "import matplotlib.pyplot as plt\n",
    "df = pd.read_csv(r'C:\\Users\\alvlj\\Desktop\\ESMT_DSP\\Working_Directory\\data\\movies.csv')"
   ]
  },
  {
   "cell_type": "code",
   "execution_count": 126,
   "id": "cd8f705d-05ea-4af9-b40e-f5f3df582455",
   "metadata": {},
   "outputs": [
    {
     "data": {
      "text/html": [
       "<div>\n",
       "<style scoped>\n",
       "    .dataframe tbody tr th:only-of-type {\n",
       "        vertical-align: middle;\n",
       "    }\n",
       "\n",
       "    .dataframe tbody tr th {\n",
       "        vertical-align: top;\n",
       "    }\n",
       "\n",
       "    .dataframe thead th {\n",
       "        text-align: right;\n",
       "    }\n",
       "</style>\n",
       "<table border=\"1\" class=\"dataframe\">\n",
       "  <thead>\n",
       "    <tr style=\"text-align: right;\">\n",
       "      <th></th>\n",
       "      <th>MOVIES</th>\n",
       "      <th>YEAR</th>\n",
       "      <th>GENRE</th>\n",
       "      <th>RATING</th>\n",
       "      <th>ONE-LINE</th>\n",
       "      <th>STARS</th>\n",
       "      <th>VOTES</th>\n",
       "      <th>RunTime</th>\n",
       "      <th>Gross</th>\n",
       "    </tr>\n",
       "  </thead>\n",
       "  <tbody>\n",
       "    <tr>\n",
       "      <th>0</th>\n",
       "      <td>Blood Red Sky</td>\n",
       "      <td>(2021)</td>\n",
       "      <td>\\nAction, Horror, Thriller</td>\n",
       "      <td>6.1</td>\n",
       "      <td>\\nA woman with a mysterious illness is forced ...</td>\n",
       "      <td>\\n    Director:\\nPeter Thorwarth\\n| \\n    Star...</td>\n",
       "      <td>21,062</td>\n",
       "      <td>121.0</td>\n",
       "      <td>NaN</td>\n",
       "    </tr>\n",
       "    <tr>\n",
       "      <th>1</th>\n",
       "      <td>Masters of the Universe: Revelation</td>\n",
       "      <td>(2021– )</td>\n",
       "      <td>\\nAnimation, Action, Adventure</td>\n",
       "      <td>5.0</td>\n",
       "      <td>\\nThe war for Eternia begins again in what may...</td>\n",
       "      <td>\\n            \\n    Stars:\\nChris Wood, \\nSara...</td>\n",
       "      <td>17,870</td>\n",
       "      <td>25.0</td>\n",
       "      <td>NaN</td>\n",
       "    </tr>\n",
       "    <tr>\n",
       "      <th>2</th>\n",
       "      <td>The Walking Dead</td>\n",
       "      <td>(2010–2022)</td>\n",
       "      <td>\\nDrama, Horror, Thriller</td>\n",
       "      <td>8.2</td>\n",
       "      <td>\\nSheriff Deputy Rick Grimes wakes up from a c...</td>\n",
       "      <td>\\n            \\n    Stars:\\nAndrew Lincoln, \\n...</td>\n",
       "      <td>885,805</td>\n",
       "      <td>44.0</td>\n",
       "      <td>NaN</td>\n",
       "    </tr>\n",
       "    <tr>\n",
       "      <th>3</th>\n",
       "      <td>Rick and Morty</td>\n",
       "      <td>(2013– )</td>\n",
       "      <td>\\nAnimation, Adventure, Comedy</td>\n",
       "      <td>9.2</td>\n",
       "      <td>\\nAn animated series that follows the exploits...</td>\n",
       "      <td>\\n            \\n    Stars:\\nJustin Roiland, \\n...</td>\n",
       "      <td>414,849</td>\n",
       "      <td>23.0</td>\n",
       "      <td>NaN</td>\n",
       "    </tr>\n",
       "    <tr>\n",
       "      <th>4</th>\n",
       "      <td>Army of Thieves</td>\n",
       "      <td>(2021)</td>\n",
       "      <td>\\nAction, Crime, Horror</td>\n",
       "      <td>NaN</td>\n",
       "      <td>\\nA prequel, set before the events of Army of ...</td>\n",
       "      <td>\\n    Director:\\nMatthias Schweighöfer\\n| \\n  ...</td>\n",
       "      <td>NaN</td>\n",
       "      <td>NaN</td>\n",
       "      <td>NaN</td>\n",
       "    </tr>\n",
       "  </tbody>\n",
       "</table>\n",
       "</div>"
      ],
      "text/plain": [
       "                                MOVIES         YEAR  \\\n",
       "0                        Blood Red Sky       (2021)   \n",
       "1  Masters of the Universe: Revelation     (2021– )   \n",
       "2                     The Walking Dead  (2010–2022)   \n",
       "3                       Rick and Morty     (2013– )   \n",
       "4                      Army of Thieves       (2021)   \n",
       "\n",
       "                                        GENRE  RATING  \\\n",
       "0      \\nAction, Horror, Thriller                 6.1   \n",
       "1  \\nAnimation, Action, Adventure                 5.0   \n",
       "2       \\nDrama, Horror, Thriller                 8.2   \n",
       "3  \\nAnimation, Adventure, Comedy                 9.2   \n",
       "4         \\nAction, Crime, Horror                 NaN   \n",
       "\n",
       "                                            ONE-LINE  \\\n",
       "0  \\nA woman with a mysterious illness is forced ...   \n",
       "1  \\nThe war for Eternia begins again in what may...   \n",
       "2  \\nSheriff Deputy Rick Grimes wakes up from a c...   \n",
       "3  \\nAn animated series that follows the exploits...   \n",
       "4  \\nA prequel, set before the events of Army of ...   \n",
       "\n",
       "                                               STARS    VOTES  RunTime Gross  \n",
       "0  \\n    Director:\\nPeter Thorwarth\\n| \\n    Star...   21,062    121.0   NaN  \n",
       "1  \\n            \\n    Stars:\\nChris Wood, \\nSara...   17,870     25.0   NaN  \n",
       "2  \\n            \\n    Stars:\\nAndrew Lincoln, \\n...  885,805     44.0   NaN  \n",
       "3  \\n            \\n    Stars:\\nJustin Roiland, \\n...  414,849     23.0   NaN  \n",
       "4  \\n    Director:\\nMatthias Schweighöfer\\n| \\n  ...      NaN      NaN   NaN  "
      ]
     },
     "execution_count": 126,
     "metadata": {},
     "output_type": "execute_result"
    }
   ],
   "source": [
    "df.head()"
   ]
  },
  {
   "cell_type": "markdown",
   "id": "c7357647-fad3-483f-bdf8-d72c7c0d0ed5",
   "metadata": {},
   "source": [
    "**1.2 Display the size and the number of missing data points per column of the DataFrame**"
   ]
  },
  {
   "cell_type": "code",
   "execution_count": 127,
   "id": "4675b85b-5d7e-4bcb-a8b1-da8e59d050ab",
   "metadata": {},
   "outputs": [
    {
     "name": "stdout",
     "output_type": "stream",
     "text": [
      "<class 'pandas.core.frame.DataFrame'>\n",
      "RangeIndex: 9999 entries, 0 to 9998\n",
      "Data columns (total 9 columns):\n",
      " #   Column    Non-Null Count  Dtype  \n",
      "---  ------    --------------  -----  \n",
      " 0   MOVIES    9999 non-null   object \n",
      " 1   YEAR      9355 non-null   object \n",
      " 2   GENRE     9919 non-null   object \n",
      " 3   RATING    8179 non-null   float64\n",
      " 4   ONE-LINE  9999 non-null   object \n",
      " 5   STARS     9999 non-null   object \n",
      " 6   VOTES     8179 non-null   object \n",
      " 7   RunTime   7041 non-null   float64\n",
      " 8   Gross     460 non-null    object \n",
      "dtypes: float64(2), object(7)\n",
      "memory usage: 703.2+ KB\n",
      "None\n",
      "DataFrame size: (9999, 9)\n"
     ]
    }
   ],
   "source": [
    "df.shape\n",
    "\n",
    "print(df.info())\n",
    "\n",
    "print(f\"DataFrame size: {df.shape}\")"
   ]
  },
  {
   "cell_type": "code",
   "execution_count": 128,
   "id": "f71bd766-c8ca-47be-be3d-cb939f4fa1b7",
   "metadata": {},
   "outputs": [
    {
     "name": "stdout",
     "output_type": "stream",
     "text": [
      "MOVIES         0\n",
      "YEAR         644\n",
      "GENRE         80\n",
      "RATING      1820\n",
      "ONE-LINE       0\n",
      "STARS          0\n",
      "VOTES       1820\n",
      "RunTime     2958\n",
      "Gross       9539\n",
      "dtype: int64\n"
     ]
    }
   ],
   "source": [
    "# Display the number of missing data points per column\n",
    "print(df.isnull().sum())"
   ]
  },
  {
   "cell_type": "markdown",
   "id": "e2990509-31bf-45f1-bda1-f1c6116fe765",
   "metadata": {},
   "source": [
    "**1.3 Fill the NaN and replace the original dataset**\n",
    "- YEAR: 'Unknown'\n",
    "- GENRE: 'Unknown'\n",
    "- RATING: with the median value\n",
    "- VOTES: 0\n",
    "\n",
    "We leave the NaN of RunTime and Gross for now, as there is no straightforward way to fill them."
   ]
  },
  {
   "cell_type": "code",
   "execution_count": 130,
   "id": "f0b8410d-5477-4ba7-8c83-1d9f241d2695",
   "metadata": {},
   "outputs": [],
   "source": [
    "df['YEAR'] = df['YEAR'].fillna('Unknown')\n",
    "df['GENRE'] = df['GENRE'].fillna('Unknown')\n",
    "df['RATING'] = df['RATING'].fillna(df['RATING'].median())\n",
    "df['VOTES'] = df['VOTES'].fillna(0)"
   ]
  },
  {
   "cell_type": "code",
   "execution_count": 131,
   "id": "2f25ffa6-f640-4647-ae1b-5825d722e1f0",
   "metadata": {},
   "outputs": [
    {
     "name": "stdout",
     "output_type": "stream",
     "text": [
      "                                MOVIES         YEAR  \\\n",
      "0                        Blood Red Sky       (2021)   \n",
      "1  Masters of the Universe: Revelation     (2021– )   \n",
      "2                     The Walking Dead  (2010–2022)   \n",
      "3                       Rick and Morty     (2013– )   \n",
      "4                      Army of Thieves       (2021)   \n",
      "\n",
      "                                        GENRE  RATING  \\\n",
      "0      \\nAction, Horror, Thriller                 6.1   \n",
      "1  \\nAnimation, Action, Adventure                 5.0   \n",
      "2       \\nDrama, Horror, Thriller                 8.2   \n",
      "3  \\nAnimation, Adventure, Comedy                 9.2   \n",
      "4         \\nAction, Crime, Horror                 7.1   \n",
      "\n",
      "                                            ONE-LINE  \\\n",
      "0  \\nA woman with a mysterious illness is forced ...   \n",
      "1  \\nThe war for Eternia begins again in what may...   \n",
      "2  \\nSheriff Deputy Rick Grimes wakes up from a c...   \n",
      "3  \\nAn animated series that follows the exploits...   \n",
      "4  \\nA prequel, set before the events of Army of ...   \n",
      "\n",
      "                                               STARS    VOTES  RunTime Gross  \n",
      "0  \\n    Director:\\nPeter Thorwarth\\n| \\n    Star...   21,062    121.0   NaN  \n",
      "1  \\n            \\n    Stars:\\nChris Wood, \\nSara...   17,870     25.0   NaN  \n",
      "2  \\n            \\n    Stars:\\nAndrew Lincoln, \\n...  885,805     44.0   NaN  \n",
      "3  \\n            \\n    Stars:\\nJustin Roiland, \\n...  414,849     23.0   NaN  \n",
      "4  \\n    Director:\\nMatthias Schweighöfer\\n| \\n  ...        0      NaN   NaN  \n",
      "MOVIES         0\n",
      "YEAR           0\n",
      "GENRE          0\n",
      "RATING         0\n",
      "ONE-LINE       0\n",
      "STARS          0\n",
      "VOTES          0\n",
      "RunTime     2958\n",
      "Gross       9539\n",
      "dtype: int64\n",
      "<class 'pandas.core.frame.DataFrame'>\n",
      "RangeIndex: 9999 entries, 0 to 9998\n",
      "Data columns (total 9 columns):\n",
      " #   Column    Non-Null Count  Dtype  \n",
      "---  ------    --------------  -----  \n",
      " 0   MOVIES    9999 non-null   object \n",
      " 1   YEAR      9999 non-null   object \n",
      " 2   GENRE     9999 non-null   object \n",
      " 3   RATING    9999 non-null   float64\n",
      " 4   ONE-LINE  9999 non-null   object \n",
      " 5   STARS     9999 non-null   object \n",
      " 6   VOTES     9999 non-null   object \n",
      " 7   RunTime   7041 non-null   float64\n",
      " 8   Gross     460 non-null    object \n",
      "dtypes: float64(2), object(7)\n",
      "memory usage: 703.2+ KB\n",
      "None\n"
     ]
    }
   ],
   "source": [
    "print(df.head())\n",
    "\n",
    "print(df.isnull().sum())\n",
    "\n",
    "print(df.info())"
   ]
  },
  {
   "cell_type": "markdown",
   "id": "eff0a902-87b7-4c8d-8503-06b32ff01638",
   "metadata": {},
   "source": [
    "**1.4 Drop the duplicated rows**"
   ]
  },
  {
   "cell_type": "code",
   "execution_count": 132,
   "id": "ac3746e7-3d00-4c8e-a00a-b39bc6a06beb",
   "metadata": {},
   "outputs": [],
   "source": [
    "df = df.drop_duplicates()"
   ]
  },
  {
   "cell_type": "code",
   "execution_count": 133,
   "id": "91834b28-eb79-4375-b316-cbf601979d5d",
   "metadata": {},
   "outputs": [
    {
     "data": {
      "text/html": [
       "<div>\n",
       "<style scoped>\n",
       "    .dataframe tbody tr th:only-of-type {\n",
       "        vertical-align: middle;\n",
       "    }\n",
       "\n",
       "    .dataframe tbody tr th {\n",
       "        vertical-align: top;\n",
       "    }\n",
       "\n",
       "    .dataframe thead th {\n",
       "        text-align: right;\n",
       "    }\n",
       "</style>\n",
       "<table border=\"1\" class=\"dataframe\">\n",
       "  <thead>\n",
       "    <tr style=\"text-align: right;\">\n",
       "      <th></th>\n",
       "      <th>MOVIES</th>\n",
       "      <th>YEAR</th>\n",
       "      <th>GENRE</th>\n",
       "      <th>RATING</th>\n",
       "      <th>ONE-LINE</th>\n",
       "      <th>STARS</th>\n",
       "      <th>VOTES</th>\n",
       "      <th>RunTime</th>\n",
       "      <th>Gross</th>\n",
       "    </tr>\n",
       "  </thead>\n",
       "  <tbody>\n",
       "    <tr>\n",
       "      <th>0</th>\n",
       "      <td>Blood Red Sky</td>\n",
       "      <td>(2021)</td>\n",
       "      <td>\\nAction, Horror, Thriller</td>\n",
       "      <td>6.1</td>\n",
       "      <td>\\nA woman with a mysterious illness is forced ...</td>\n",
       "      <td>\\n    Director:\\nPeter Thorwarth\\n| \\n    Star...</td>\n",
       "      <td>21,062</td>\n",
       "      <td>121.0</td>\n",
       "      <td>NaN</td>\n",
       "    </tr>\n",
       "    <tr>\n",
       "      <th>1</th>\n",
       "      <td>Masters of the Universe: Revelation</td>\n",
       "      <td>(2021– )</td>\n",
       "      <td>\\nAnimation, Action, Adventure</td>\n",
       "      <td>5.0</td>\n",
       "      <td>\\nThe war for Eternia begins again in what may...</td>\n",
       "      <td>\\n            \\n    Stars:\\nChris Wood, \\nSara...</td>\n",
       "      <td>17,870</td>\n",
       "      <td>25.0</td>\n",
       "      <td>NaN</td>\n",
       "    </tr>\n",
       "    <tr>\n",
       "      <th>2</th>\n",
       "      <td>The Walking Dead</td>\n",
       "      <td>(2010–2022)</td>\n",
       "      <td>\\nDrama, Horror, Thriller</td>\n",
       "      <td>8.2</td>\n",
       "      <td>\\nSheriff Deputy Rick Grimes wakes up from a c...</td>\n",
       "      <td>\\n            \\n    Stars:\\nAndrew Lincoln, \\n...</td>\n",
       "      <td>885,805</td>\n",
       "      <td>44.0</td>\n",
       "      <td>NaN</td>\n",
       "    </tr>\n",
       "    <tr>\n",
       "      <th>3</th>\n",
       "      <td>Rick and Morty</td>\n",
       "      <td>(2013– )</td>\n",
       "      <td>\\nAnimation, Adventure, Comedy</td>\n",
       "      <td>9.2</td>\n",
       "      <td>\\nAn animated series that follows the exploits...</td>\n",
       "      <td>\\n            \\n    Stars:\\nJustin Roiland, \\n...</td>\n",
       "      <td>414,849</td>\n",
       "      <td>23.0</td>\n",
       "      <td>NaN</td>\n",
       "    </tr>\n",
       "    <tr>\n",
       "      <th>4</th>\n",
       "      <td>Army of Thieves</td>\n",
       "      <td>(2021)</td>\n",
       "      <td>\\nAction, Crime, Horror</td>\n",
       "      <td>7.1</td>\n",
       "      <td>\\nA prequel, set before the events of Army of ...</td>\n",
       "      <td>\\n    Director:\\nMatthias Schweighöfer\\n| \\n  ...</td>\n",
       "      <td>0</td>\n",
       "      <td>NaN</td>\n",
       "      <td>NaN</td>\n",
       "    </tr>\n",
       "  </tbody>\n",
       "</table>\n",
       "</div>"
      ],
      "text/plain": [
       "                                MOVIES         YEAR  \\\n",
       "0                        Blood Red Sky       (2021)   \n",
       "1  Masters of the Universe: Revelation     (2021– )   \n",
       "2                     The Walking Dead  (2010–2022)   \n",
       "3                       Rick and Morty     (2013– )   \n",
       "4                      Army of Thieves       (2021)   \n",
       "\n",
       "                                        GENRE  RATING  \\\n",
       "0      \\nAction, Horror, Thriller                 6.1   \n",
       "1  \\nAnimation, Action, Adventure                 5.0   \n",
       "2       \\nDrama, Horror, Thriller                 8.2   \n",
       "3  \\nAnimation, Adventure, Comedy                 9.2   \n",
       "4         \\nAction, Crime, Horror                 7.1   \n",
       "\n",
       "                                            ONE-LINE  \\\n",
       "0  \\nA woman with a mysterious illness is forced ...   \n",
       "1  \\nThe war for Eternia begins again in what may...   \n",
       "2  \\nSheriff Deputy Rick Grimes wakes up from a c...   \n",
       "3  \\nAn animated series that follows the exploits...   \n",
       "4  \\nA prequel, set before the events of Army of ...   \n",
       "\n",
       "                                               STARS    VOTES  RunTime Gross  \n",
       "0  \\n    Director:\\nPeter Thorwarth\\n| \\n    Star...   21,062    121.0   NaN  \n",
       "1  \\n            \\n    Stars:\\nChris Wood, \\nSara...   17,870     25.0   NaN  \n",
       "2  \\n            \\n    Stars:\\nAndrew Lincoln, \\n...  885,805     44.0   NaN  \n",
       "3  \\n            \\n    Stars:\\nJustin Roiland, \\n...  414,849     23.0   NaN  \n",
       "4  \\n    Director:\\nMatthias Schweighöfer\\n| \\n  ...        0      NaN   NaN  "
      ]
     },
     "execution_count": 133,
     "metadata": {},
     "output_type": "execute_result"
    }
   ],
   "source": [
    "df.head()"
   ]
  },
  {
   "cell_type": "markdown",
   "id": "57744aba-ddb9-4738-a937-e0c64829b038",
   "metadata": {},
   "source": [
    "**1.5 Replace the columns names to make them all lowercase**"
   ]
  },
  {
   "cell_type": "code",
   "execution_count": 134,
   "id": "5bcfa8ef-101f-463a-b2a9-cbd65fba9e43",
   "metadata": {},
   "outputs": [],
   "source": [
    "df.columns = movie_df.columns.str.lower()"
   ]
  },
  {
   "cell_type": "code",
   "execution_count": 135,
   "id": "ce4fb9c5-6d6d-4b10-a5c5-597a7e3213c9",
   "metadata": {},
   "outputs": [
    {
     "data": {
      "text/html": [
       "<div>\n",
       "<style scoped>\n",
       "    .dataframe tbody tr th:only-of-type {\n",
       "        vertical-align: middle;\n",
       "    }\n",
       "\n",
       "    .dataframe tbody tr th {\n",
       "        vertical-align: top;\n",
       "    }\n",
       "\n",
       "    .dataframe thead th {\n",
       "        text-align: right;\n",
       "    }\n",
       "</style>\n",
       "<table border=\"1\" class=\"dataframe\">\n",
       "  <thead>\n",
       "    <tr style=\"text-align: right;\">\n",
       "      <th></th>\n",
       "      <th>movies</th>\n",
       "      <th>year</th>\n",
       "      <th>genre</th>\n",
       "      <th>rating</th>\n",
       "      <th>one-line</th>\n",
       "      <th>stars</th>\n",
       "      <th>votes</th>\n",
       "      <th>runtime</th>\n",
       "      <th>gross</th>\n",
       "    </tr>\n",
       "  </thead>\n",
       "  <tbody>\n",
       "    <tr>\n",
       "      <th>0</th>\n",
       "      <td>Blood Red Sky</td>\n",
       "      <td>(2021)</td>\n",
       "      <td>\\nAction, Horror, Thriller</td>\n",
       "      <td>6.1</td>\n",
       "      <td>\\nA woman with a mysterious illness is forced ...</td>\n",
       "      <td>\\n    Director:\\nPeter Thorwarth\\n| \\n    Star...</td>\n",
       "      <td>21,062</td>\n",
       "      <td>121.0</td>\n",
       "      <td>NaN</td>\n",
       "    </tr>\n",
       "    <tr>\n",
       "      <th>1</th>\n",
       "      <td>Masters of the Universe: Revelation</td>\n",
       "      <td>(2021– )</td>\n",
       "      <td>\\nAnimation, Action, Adventure</td>\n",
       "      <td>5.0</td>\n",
       "      <td>\\nThe war for Eternia begins again in what may...</td>\n",
       "      <td>\\n            \\n    Stars:\\nChris Wood, \\nSara...</td>\n",
       "      <td>17,870</td>\n",
       "      <td>25.0</td>\n",
       "      <td>NaN</td>\n",
       "    </tr>\n",
       "    <tr>\n",
       "      <th>2</th>\n",
       "      <td>The Walking Dead</td>\n",
       "      <td>(2010–2022)</td>\n",
       "      <td>\\nDrama, Horror, Thriller</td>\n",
       "      <td>8.2</td>\n",
       "      <td>\\nSheriff Deputy Rick Grimes wakes up from a c...</td>\n",
       "      <td>\\n            \\n    Stars:\\nAndrew Lincoln, \\n...</td>\n",
       "      <td>885,805</td>\n",
       "      <td>44.0</td>\n",
       "      <td>NaN</td>\n",
       "    </tr>\n",
       "    <tr>\n",
       "      <th>3</th>\n",
       "      <td>Rick and Morty</td>\n",
       "      <td>(2013– )</td>\n",
       "      <td>\\nAnimation, Adventure, Comedy</td>\n",
       "      <td>9.2</td>\n",
       "      <td>\\nAn animated series that follows the exploits...</td>\n",
       "      <td>\\n            \\n    Stars:\\nJustin Roiland, \\n...</td>\n",
       "      <td>414,849</td>\n",
       "      <td>23.0</td>\n",
       "      <td>NaN</td>\n",
       "    </tr>\n",
       "    <tr>\n",
       "      <th>4</th>\n",
       "      <td>Army of Thieves</td>\n",
       "      <td>(2021)</td>\n",
       "      <td>\\nAction, Crime, Horror</td>\n",
       "      <td>7.1</td>\n",
       "      <td>\\nA prequel, set before the events of Army of ...</td>\n",
       "      <td>\\n    Director:\\nMatthias Schweighöfer\\n| \\n  ...</td>\n",
       "      <td>0</td>\n",
       "      <td>NaN</td>\n",
       "      <td>NaN</td>\n",
       "    </tr>\n",
       "  </tbody>\n",
       "</table>\n",
       "</div>"
      ],
      "text/plain": [
       "                                movies         year  \\\n",
       "0                        Blood Red Sky       (2021)   \n",
       "1  Masters of the Universe: Revelation     (2021– )   \n",
       "2                     The Walking Dead  (2010–2022)   \n",
       "3                       Rick and Morty     (2013– )   \n",
       "4                      Army of Thieves       (2021)   \n",
       "\n",
       "                                        genre  rating  \\\n",
       "0      \\nAction, Horror, Thriller                 6.1   \n",
       "1  \\nAnimation, Action, Adventure                 5.0   \n",
       "2       \\nDrama, Horror, Thriller                 8.2   \n",
       "3  \\nAnimation, Adventure, Comedy                 9.2   \n",
       "4         \\nAction, Crime, Horror                 7.1   \n",
       "\n",
       "                                            one-line  \\\n",
       "0  \\nA woman with a mysterious illness is forced ...   \n",
       "1  \\nThe war for Eternia begins again in what may...   \n",
       "2  \\nSheriff Deputy Rick Grimes wakes up from a c...   \n",
       "3  \\nAn animated series that follows the exploits...   \n",
       "4  \\nA prequel, set before the events of Army of ...   \n",
       "\n",
       "                                               stars    votes  runtime gross  \n",
       "0  \\n    Director:\\nPeter Thorwarth\\n| \\n    Star...   21,062    121.0   NaN  \n",
       "1  \\n            \\n    Stars:\\nChris Wood, \\nSara...   17,870     25.0   NaN  \n",
       "2  \\n            \\n    Stars:\\nAndrew Lincoln, \\n...  885,805     44.0   NaN  \n",
       "3  \\n            \\n    Stars:\\nJustin Roiland, \\n...  414,849     23.0   NaN  \n",
       "4  \\n    Director:\\nMatthias Schweighöfer\\n| \\n  ...        0      NaN   NaN  "
      ]
     },
     "execution_count": 135,
     "metadata": {},
     "output_type": "execute_result"
    }
   ],
   "source": [
    "df.head()"
   ]
  },
  {
   "cell_type": "markdown",
   "id": "2f4750a5-964b-4ad7-beb5-74935b5841e4",
   "metadata": {},
   "source": [
    "**1.6 Convert the `votes` column into a `float type`**\n",
    "\n",
    "*Hint: the U.K. and U.S. use a comma to separate groups of thousands. You might need to remove this comma first before converting the numbers*"
   ]
  },
  {
   "cell_type": "code",
   "execution_count": 136,
   "id": "beabfbe6-7e57-494b-a853-274b9c191187",
   "metadata": {},
   "outputs": [],
   "source": [
    "if 'votes' in df.columns:\n",
    "    df['votes'] = df['votes'].replace({',': ''}, regex=True).astype(float)"
   ]
  },
  {
   "cell_type": "markdown",
   "id": "e581e6d2-7046-4db5-9300-73072f0e3c6d",
   "metadata": {},
   "source": [
    "## 2. Descriptive statistics (5 points)"
   ]
  },
  {
   "cell_type": "markdown",
   "id": "793e3799-dcb8-4b69-a18a-438a6c9bce64",
   "metadata": {},
   "source": [
    "**2.1 What is the average rating?**"
   ]
  },
  {
   "cell_type": "code",
   "execution_count": 137,
   "id": "12f35963-d581-4673-873c-718e2a3d49e4",
   "metadata": {},
   "outputs": [],
   "source": [
    "average_rating = df['rating'].mean()"
   ]
  },
  {
   "cell_type": "code",
   "execution_count": 138,
   "id": "8ddacc81-30d5-4f36-88ac-c345df2966b3",
   "metadata": {},
   "outputs": [
    {
     "name": "stdout",
     "output_type": "stream",
     "text": [
      "6.94608068561873\n"
     ]
    }
   ],
   "source": [
    "print(average_rating)"
   ]
  },
  {
   "cell_type": "markdown",
   "id": "264e2420-45b8-4b9e-a289-8a8496f83bf0",
   "metadata": {},
   "source": [
    "**2.2 What is the maximum runtime?**"
   ]
  },
  {
   "cell_type": "code",
   "execution_count": 139,
   "id": "c544c6c3-639d-4a05-b5b4-378eb89dc4eb",
   "metadata": {},
   "outputs": [],
   "source": [
    "max_runtime = df['runtime'].max()"
   ]
  },
  {
   "cell_type": "code",
   "execution_count": 140,
   "id": "6a73e0a6-6842-4b2a-b33b-0930e524239f",
   "metadata": {},
   "outputs": [
    {
     "name": "stdout",
     "output_type": "stream",
     "text": [
      "853.0\n"
     ]
    }
   ],
   "source": [
    "print(max_runtime)"
   ]
  },
  {
   "cell_type": "markdown",
   "id": "48a0f4b9-7999-4455-a253-ea660288db77",
   "metadata": {},
   "source": [
    "**2.3 Filter the dataset to show which movie/serie has the longest runtime**"
   ]
  },
  {
   "cell_type": "code",
   "execution_count": 141,
   "id": "659af824-504c-4ed4-863d-bac28f76d210",
   "metadata": {},
   "outputs": [],
   "source": [
    "long_movie = movie_df[df['runtime'] == df['runtime'].max()]"
   ]
  },
  {
   "cell_type": "code",
   "execution_count": 142,
   "id": "30493be7-1eea-4675-9bc8-38d8c5d9acf8",
   "metadata": {},
   "outputs": [
    {
     "name": "stdout",
     "output_type": "stream",
     "text": [
      "                        movies  runtime\n",
      "1902  El tiempo entre costuras    853.0\n"
     ]
    }
   ],
   "source": [
    "print(long_movie[['movies', 'runtime']])"
   ]
  },
  {
   "cell_type": "markdown",
   "id": "37a367eb-d842-45a7-a48e-af0d7fcb77f0",
   "metadata": {},
   "source": [
    "**2.4 Plot the histogram of runtimes, filtering on (0, 200) range with 200 bins**"
   ]
  },
  {
   "cell_type": "code",
   "execution_count": 143,
   "id": "b18e1799-6cc0-49ad-8e7e-e4c7e1e9efae",
   "metadata": {},
   "outputs": [
    {
     "data": {
      "image/png": "[encoded data removed]",
      "text/plain": [
       "<Figure size 640x480 with 1 Axes>"
      ]
     },
     "metadata": {},
     "output_type": "display_data"
    }
   ],
   "source": [
    "df['runtime'][(df['runtime'] > 0) & (df['runtime'] <= 200)].plot(kind='hist', bins=200, title='Histogram of Runtimes (0-200 minutes)', edgecolor='black')\n",
    "plt.show()"
   ]
  },
  {
   "cell_type": "markdown",
   "id": "29d75e94-ce19-454b-9365-0ac37e468765",
   "metadata": {},
   "source": [
    "**2.5 What is the number of votes a movie needs to have, to be in the top 10% most voted film?**\n",
    "\n",
    "*Tip: the 90th quantile*"
   ]
  },
  {
   "cell_type": "code",
   "execution_count": 144,
   "id": "5e49a5b6-9aa6-402a-b6e9-4941a56c7cd7",
   "metadata": {},
   "outputs": [],
   "source": [
    "top_10_votes = df['votes'].quantile(0.9)"
   ]
  },
  {
   "cell_type": "code",
   "execution_count": 145,
   "id": "93dcd819-1efe-4671-afc1-b3d93245a049",
   "metadata": {},
   "outputs": [
    {
     "name": "stdout",
     "output_type": "stream",
     "text": [
      "16266.200000000015\n"
     ]
    }
   ],
   "source": [
    "print(top_10_votes)"
   ]
  },
  {
   "cell_type": "markdown",
   "id": "2ff85744-7efb-4723-a145-f933af5d1232",
   "metadata": {},
   "source": [
    "## 3. Merging datasets (4 points)"
   ]
  },
  {
   "cell_type": "markdown",
   "id": "4af297a4-e487-490e-819c-0437d256a7ef",
   "metadata": {},
   "source": [
    "**Read `movies_metadata.csv` and assign it to a `df_meta` variable**\n",
    "\n",
    "**Create a `merge_df` DataFrame from an `inner join` between `df` and `df_meta`**\n",
    "\n",
    "*Hint: you need to find the right key to join on*"
   ]
  },
  {
   "cell_type": "code",
   "execution_count": 146,
   "id": "ca68a335-9f5c-42dc-b577-9ca7bf905dba",
   "metadata": {},
   "outputs": [],
   "source": [
    "df_meta = pd.read_csv(r'C:\\Users\\alvlj\\Desktop\\ESMT_DSP\\Working_Directory\\data\\movies_metadata.csv', low_memory=False)"
   ]
  },
  {
   "cell_type": "code",
   "execution_count": 147,
   "id": "052e3ae0-9fe9-4f4a-b5ea-c6375897a13c",
   "metadata": {},
   "outputs": [],
   "source": [
    "df_meta.columns = df_meta.columns.str.lower()"
   ]
  },
  {
   "cell_type": "code",
   "execution_count": 148,
   "id": "6f5dda5e-3c9e-4ff3-8eed-0f2aa133e326",
   "metadata": {},
   "outputs": [],
   "source": [
    "join_key_movie_df = 'movies' if 'movies' in df.columns else None\n",
    "join_key_df_meta = 'title' if 'title' in df_meta.columns else None"
   ]
  },
  {
   "cell_type": "code",
   "execution_count": 150,
   "id": "28a6ebde-2c6b-4435-a46c-129b8932d625",
   "metadata": {},
   "outputs": [],
   "source": [
    "if join_key_movie_df and join_key_df_meta:\n",
    "    df = df.dropna(subset=[join_key_movie_df])\n",
    "    df_meta = df_meta.dropna(subset=[join_key_df_meta])"
   ]
  },
  {
   "cell_type": "code",
   "execution_count": 151,
   "id": "5bccb5be-397e-4bf6-ab87-8932be2f62ce",
   "metadata": {},
   "outputs": [],
   "source": [
    "merge_df = movie_df.merge(df_meta, how='inner', left_on=join_key_movie_df, right_on=join_key_df_meta)\n"
   ]
  },
  {
   "cell_type": "code",
   "execution_count": 152,
   "id": "aca678f8-54fe-4756-b3ff-e79a86a352e8",
   "metadata": {},
   "outputs": [
    {
     "name": "stdout",
     "output_type": "stream",
     "text": [
      "                            movies         year  \\\n",
      "0                 The Walking Dead  (2010–2022)   \n",
      "1                 The Walking Dead  (2010–2022)   \n",
      "2                          Lucifer  (2016–2021)   \n",
      "3                  The Good Doctor     (2017– )   \n",
      "4                     Supernatural  (2005–2020)   \n",
      "...                            ...          ...   \n",
      "1741                     Connected          NaN   \n",
      "1742  How to Win the US Presidency       (2016)   \n",
      "1743                       Curtain          NaN   \n",
      "1744                         Metro       (2008)   \n",
      "1745                         Metro       (2008)   \n",
      "\n",
      "                                      genre  rating  \\\n",
      "0     \\nDrama, Horror, Thriller                 8.2   \n",
      "1     \\nDrama, Horror, Thriller                 8.2   \n",
      "2       \\nCrime, Drama, Fantasy                 8.1   \n",
      "3                       \\nDrama                 8.1   \n",
      "4      \\nDrama, Fantasy, Horror                 8.4   \n",
      "...                                     ...     ...   \n",
      "1741              \\nDocumentary                 NaN   \n",
      "1742              \\nDocumentary                 6.2   \n",
      "1743                                    NaN     NaN   \n",
      "1744                    \\nDrama                 NaN   \n",
      "1745                    \\nDrama                 NaN   \n",
      "\n",
      "                                               one-line  \\\n",
      "0     \\nSheriff Deputy Rick Grimes wakes up from a c...   \n",
      "1     \\nSheriff Deputy Rick Grimes wakes up from a c...   \n",
      "2     \\nLucifer Morningstar has decided he's had eno...   \n",
      "3     \\nShaun Murphy, a young surgeon with autism an...   \n",
      "4     \\nTwo brothers follow their father's footsteps...   \n",
      "...                                                 ...   \n",
      "1741  \\nExploring the intricate and surprising conne...   \n",
      "1742  \\nThis whimsical look at rough-and-tumble Amer...   \n",
      "1743  \\nA female nurse escaping traumatic events who...   \n",
      "1744  \\nThe dark heart of the city is the setting fo...   \n",
      "1745  \\nThe dark heart of the city is the setting fo...   \n",
      "\n",
      "                                                  stars     votes  runtime_x  \\\n",
      "0     \\n            \\n    Stars:\\nAndrew Lincoln, \\n...  885805.0       44.0   \n",
      "1     \\n            \\n    Stars:\\nAndrew Lincoln, \\n...  885805.0       44.0   \n",
      "2     \\n            \\n    Stars:\\nTom Ellis, \\nLesle...  264222.0       42.0   \n",
      "3     \\n            \\n    Stars:\\nFreddie Highmore, ...   70871.0       41.0   \n",
      "4     \\n            \\n    Stars:\\nJared Padalecki, \\...  404273.0       44.0   \n",
      "...                                                 ...       ...        ...   \n",
      "1741          \\n            \\n    Star:\\nLatif Nasser\\n       NaN        NaN   \n",
      "1742  \\n    Director:\\nCal Seville\\n| \\n    Stars:\\n...     127.0       50.0   \n",
      "1743                \\n    Director:\\nMohamed Alsalman\\n       NaN        NaN   \n",
      "1744  \\n    Director:\\nChristopher Dorrah\\n| \\n    S...       NaN      120.0   \n",
      "1745  \\n    Director:\\nChristopher Dorrah\\n| \\n    S...       NaN      120.0   \n",
      "\n",
      "     gross  adult  ... release_date     revenue runtime_y  \\\n",
      "0      NaN  False  ...   1995-02-24         0.0      88.0   \n",
      "1      NaN  False  ...   1936-03-14         0.0      66.0   \n",
      "2      NaN  False  ...   2014-10-22         0.0     108.0   \n",
      "3      NaN  False  ...   2011-01-01      5206.0      93.0   \n",
      "4      NaN  False  ...   1933-05-12         0.0      65.0   \n",
      "...    ...    ...  ...          ...         ...       ...   \n",
      "1741   NaN  False  ...   2008-09-25         0.0     110.0   \n",
      "1742   NaN  False  ...   2016-08-01         0.0      50.0   \n",
      "1743   NaN  False  ...   2015-11-19         0.0      74.0   \n",
      "1744   NaN  False  ...   1997-01-16  31987563.0     117.0   \n",
      "1745   NaN  False  ...   2013-02-21         0.0     130.0   \n",
      "\n",
      "                                       spoken_languages    status  \\\n",
      "0              [{'iso_639_1': 'en', 'name': 'English'}]  Released   \n",
      "1              [{'iso_639_1': 'en', 'name': 'English'}]  Released   \n",
      "2              [{'iso_639_1': 'es', 'name': 'Español'}]  Released   \n",
      "3     [{'iso_639_1': 'en', 'name': 'English'}, {'iso...  Released   \n",
      "4              [{'iso_639_1': 'en', 'name': 'English'}]  Released   \n",
      "...                                                 ...       ...   \n",
      "1741  [{'iso_639_1': 'cn', 'name': '广州话 / 廣州話'}, {'i...  Released   \n",
      "1742                                                 []  Released   \n",
      "1743           [{'iso_639_1': 'en', 'name': 'English'}]  Released   \n",
      "1744           [{'iso_639_1': 'en', 'name': 'English'}]  Released   \n",
      "1745           [{'iso_639_1': 'ru', 'name': 'Pусский'}]  Released   \n",
      "\n",
      "                                                tagline  \\\n",
      "0           Surviving the streets was just a rehearsal.   \n",
      "1     HE DIED a man with a hunger to love... and ret...   \n",
      "2                                                   NaN   \n",
      "3                                           Do no harm.   \n",
      "4                                                   NaN   \n",
      "...                                                 ...   \n",
      "1741                                                NaN   \n",
      "1742                                                NaN   \n",
      "1743                                                NaN   \n",
      "1744  San Francisco's top police hostage negotiator ...   \n",
      "1745                                                NaN   \n",
      "\n",
      "                             title  video vote_average vote_count  \n",
      "0                 The Walking Dead  False          6.6        4.0  \n",
      "1                 The Walking Dead  False          6.6       14.0  \n",
      "2                          Lucifer  False          5.8        4.0  \n",
      "3                  The Good Doctor  False          5.0       52.0  \n",
      "4                     Supernatural  False          4.3        4.0  \n",
      "...                            ...    ...          ...        ...  \n",
      "1741                     Connected  False          7.0       20.0  \n",
      "1742  How to Win the US Presidency  False          0.0        0.0  \n",
      "1743                       Curtain  False          5.4        8.0  \n",
      "1744                         Metro  False          5.3      136.0  \n",
      "1745                         Metro  False          6.0       60.0  \n",
      "\n",
      "[1746 rows x 33 columns]\n"
     ]
    }
   ],
   "source": [
    "print(merge_df)"
   ]
  }
 ],
 "metadata": {
  "kernelspec": {
   "display_name": "Python 3 (ipykernel)",
   "language": "python",
   "name": "python3"
  },
  "language_info": {
   "codemirror_mode": {
    "name": "ipython",
    "version": 3
   },
   "file_extension": ".py",
   "mimetype": "text/x-python",
   "name": "python",
   "nbconvert_exporter": "python",
   "pygments_lexer": "ipython3",
   "version": "3.9.20"
  }
 },
 "nbformat": 4,
 "nbformat_minor": 5
}

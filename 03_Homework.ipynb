{
 "cells": [
  {
   "cell_type": "markdown",
   "id": "2abb51e6-e8ae-4cb3-a1b7-43706ea2d5f7",
   "metadata": {},
   "source": [
    "# 03 Homework\n",
    "© Copyright: 2024, Selma Hadzic, all rights reserved.\n",
    "\n",
    "#### Number of points: 15 (weights 15% in the final grade)\n",
    "\n",
    "\n",
    "1. Pull from the `ESMT_2024_DataScraping_Lectures` repository: you should get this `03_Homework` file\n",
    "2. Launch VS Code and open your working-folder\n",
    "3. Create a `Session_03` folder, in which you create another folder called `data`\n",
    "4. Copy paste the notebook `03_Homework` from the lectures repo to the working-folder. Copy the csv files `movies.csv` and `movies_metadata.csv` into the `working-folder/Session_03/data` directory.\n",
    "5. Do the exercises on 03_Homework in your working-folder\n",
    "6. Once you are finished, copy-Paste the notebook into `ESMT_2024_DataScraping_Students` folder in your computer\n",
    "8. Commit and push your homework in your branch before the deadline\n",
    "\n",
    "#### Deadline: October 21st 08:59 am CET\n",
    "\n",
    "#### Any missed deadline without justification to the Administration will result in 0 points for this homework.\n",
    "#### If the Github branch is not correctly named using the indicated format **LASTNAME_firstname**, then a penalty of -2 points will be applied"
   ]
  },
  {
   "cell_type": "markdown",
   "id": "2ea70485-ebf4-460f-9030-e08b673127a2",
   "metadata": {},
   "source": [
    "## 1. Exploration and data cleaning (6 points)"
   ]
  },
  {
   "cell_type": "markdown",
   "id": "b76c778b-c041-4c18-acc9-5186aef41c88",
   "metadata": {},
   "source": [
    "**1.1. Read the dataset `movies.csv` and visualise it**"
   ]
  },
  {
   "cell_type": "code",
   "execution_count": 13,
   "id": "1c158e75-df74-4241-9c7c-7b6cbaf27935",
   "metadata": {},
   "outputs": [],
   "source": [
    "import pandas as pd\n",
    "# load the data\n",
    "movies = pd.read_csv('movies.csv')"
   ]
  },
  {
   "cell_type": "markdown",
   "id": "c7357647-fad3-483f-bdf8-d72c7c0d0ed5",
   "metadata": {},
   "source": [
    "**1.2 Display the size and the number of missing data points per column of the DataFrame**"
   ]
  },
  {
   "cell_type": "code",
   "execution_count": 14,
   "id": "4675b85b-5d7e-4bcb-a8b1-da8e59d050ab",
   "metadata": {},
   "outputs": [
    {
     "name": "stdout",
     "output_type": "stream",
     "text": [
      "Size of the DataFrame: (9999, 9)\n"
     ]
    }
   ],
   "source": [
    "# Display the size of the DataFrame\n",
    "print(\"Size of the DataFrame:\", movies.shape)\n"
   ]
  },
  {
   "cell_type": "code",
   "execution_count": 15,
   "id": "f71bd766-c8ca-47be-be3d-cb939f4fa1b7",
   "metadata": {},
   "outputs": [
    {
     "name": "stdout",
     "output_type": "stream",
     "text": [
      "\n",
      "Missing data points per column:\n",
      " MOVIES         0\n",
      "YEAR         644\n",
      "GENRE         80\n",
      "RATING      1820\n",
      "ONE-LINE       0\n",
      "STARS          0\n",
      "VOTES       1820\n",
      "RunTime     2958\n",
      "Gross       9539\n",
      "dtype: int64\n"
     ]
    }
   ],
   "source": [
    "# Display the number of missing data points per column\n",
    "missing_data = movies.isnull().sum()\n",
    "print(\"\\nMissing data points per column:\\n\", missing_data)"
   ]
  },
  {
   "cell_type": "markdown",
   "id": "e2990509-31bf-45f1-bda1-f1c6116fe765",
   "metadata": {},
   "source": [
    "**1.3 Fill the NaN and replace the original dataset**\n",
    "- YEAR: 'Unknown'\n",
    "- GENRE: 'Unknown'\n",
    "- RATING: with the median value\n",
    "- VOTES: 0\n",
    "\n",
    "We leave the NaN of RunTime and Gross for now, as there is no straightforward way to fill them."
   ]
  },
  {
   "cell_type": "code",
   "execution_count": 16,
   "id": "f0b8410d-5477-4ba7-8c83-1d9f241d2695",
   "metadata": {},
   "outputs": [],
   "source": [
    " # Fill missing values as specified\n",
    "movies['YEAR'] = movies['YEAR'].fillna('Unknown')\n",
    "movies['GENRE'] = movies['GENRE'].fillna('Unknown')\n",
    "movies['RATING'] = movies['RATING'].fillna(movies['RATING'].median())\n",
    "movies['VOTES'] = movies['VOTES'].fillna(0)\n",
    "\n"
   ]
  },
  {
   "cell_type": "code",
   "execution_count": 19,
   "id": "2f25ffa6-f640-4647-ae1b-5825d722e1f0",
   "metadata": {},
   "outputs": [
    {
     "name": "stdout",
     "output_type": "stream",
     "text": [
      "                                MOVIES         YEAR  \\\n",
      "0                        Blood Red Sky       (2021)   \n",
      "1  Masters of the Universe: Revelation     (2021– )   \n",
      "2                     The Walking Dead  (2010–2022)   \n",
      "3                       Rick and Morty     (2013– )   \n",
      "4                      Army of Thieves       (2021)   \n",
      "\n",
      "                                        GENRE  RATING  \\\n",
      "0      \\nAction, Horror, Thriller                 6.1   \n",
      "1  \\nAnimation, Action, Adventure                 5.0   \n",
      "2       \\nDrama, Horror, Thriller                 8.2   \n",
      "3  \\nAnimation, Adventure, Comedy                 9.2   \n",
      "4         \\nAction, Crime, Horror                 7.1   \n",
      "\n",
      "                                            ONE-LINE  \\\n",
      "0  \\nA woman with a mysterious illness is forced ...   \n",
      "1  \\nThe war for Eternia begins again in what may...   \n",
      "2  \\nSheriff Deputy Rick Grimes wakes up from a c...   \n",
      "3  \\nAn animated series that follows the exploits...   \n",
      "4  \\nA prequel, set before the events of Army of ...   \n",
      "\n",
      "                                               STARS    VOTES  RunTime Gross  \n",
      "0  \\n    Director:\\nPeter Thorwarth\\n| \\n    Star...   21,062    121.0   NaN  \n",
      "1  \\n            \\n    Stars:\\nChris Wood, \\nSara...   17,870     25.0   NaN  \n",
      "2  \\n            \\n    Stars:\\nAndrew Lincoln, \\n...  885,805     44.0   NaN  \n",
      "3  \\n            \\n    Stars:\\nJustin Roiland, \\n...  414,849     23.0   NaN  \n",
      "4  \\n    Director:\\nMatthias Schweighöfer\\n| \\n  ...        0      NaN   NaN  \n"
     ]
    }
   ],
   "source": [
    "print(movies.head())"
   ]
  },
  {
   "cell_type": "markdown",
   "id": "eff0a902-87b7-4c8d-8503-06b32ff01638",
   "metadata": {},
   "source": [
    "**1.4 Drop the duplicated rows**"
   ]
  },
  {
   "cell_type": "code",
   "execution_count": 17,
   "id": "5bcfa8ef-101f-463a-b2a9-cbd65fba9e43",
   "metadata": {},
   "outputs": [
    {
     "name": "stdout",
     "output_type": "stream",
     "text": [
      "                                MOVIES         YEAR  \\\n",
      "0                        Blood Red Sky       (2021)   \n",
      "1  Masters of the Universe: Revelation     (2021– )   \n",
      "2                     The Walking Dead  (2010–2022)   \n",
      "3                       Rick and Morty     (2013– )   \n",
      "4                      Army of Thieves       (2021)   \n",
      "\n",
      "                                        GENRE  RATING  \\\n",
      "0      \\nAction, Horror, Thriller                 6.1   \n",
      "1  \\nAnimation, Action, Adventure                 5.0   \n",
      "2       \\nDrama, Horror, Thriller                 8.2   \n",
      "3  \\nAnimation, Adventure, Comedy                 9.2   \n",
      "4         \\nAction, Crime, Horror                 7.1   \n",
      "\n",
      "                                            ONE-LINE  \\\n",
      "0  \\nA woman with a mysterious illness is forced ...   \n",
      "1  \\nThe war for Eternia begins again in what may...   \n",
      "2  \\nSheriff Deputy Rick Grimes wakes up from a c...   \n",
      "3  \\nAn animated series that follows the exploits...   \n",
      "4  \\nA prequel, set before the events of Army of ...   \n",
      "\n",
      "                                               STARS    VOTES  RunTime Gross  \n",
      "0  \\n    Director:\\nPeter Thorwarth\\n| \\n    Star...   21,062    121.0   NaN  \n",
      "1  \\n            \\n    Stars:\\nChris Wood, \\nSara...   17,870     25.0   NaN  \n",
      "2  \\n            \\n    Stars:\\nAndrew Lincoln, \\n...  885,805     44.0   NaN  \n",
      "3  \\n            \\n    Stars:\\nJustin Roiland, \\n...  414,849     23.0   NaN  \n",
      "4  \\n    Director:\\nMatthias Schweighöfer\\n| \\n  ...        0      NaN   NaN  \n"
     ]
    }
   ],
   "source": [
    "movies.drop_duplicates(inplace=True)\n",
    "# Display the updated DataFrame\n",
    "print(movies.head())\n",
    "\n"
   ]
  },
  {
   "cell_type": "markdown",
   "id": "57744aba-ddb9-4738-a937-e0c64829b038",
   "metadata": {},
   "source": [
    "**1.5 Replace the columns names to make them all lowercase**"
   ]
  },
  {
   "cell_type": "code",
   "execution_count": 18,
   "id": "ce4fb9c5-6d6d-4b10-a5c5-597a7e3213c9",
   "metadata": {},
   "outputs": [],
   "source": [
    "# Replace column names with lowercase\n",
    "movies.columns = movies.columns.str.lower()"
   ]
  },
  {
   "cell_type": "code",
   "execution_count": 19,
   "id": "00be34ab-0c87-49f0-ae75-67172573b057",
   "metadata": {},
   "outputs": [
    {
     "name": "stdout",
     "output_type": "stream",
     "text": [
      "Index(['movies', 'year', 'genre', 'rating', 'one-line', 'stars', 'votes',\n",
      "       'runtime', 'gross'],\n",
      "      dtype='object')\n"
     ]
    }
   ],
   "source": [
    "\n",
    "print(movies.columns)"
   ]
  },
  {
   "cell_type": "markdown",
   "id": "2f4750a5-964b-4ad7-beb5-74935b5841e4",
   "metadata": {},
   "source": [
    "**1.6 Convert the `votes` column into a `float type`**\n",
    "\n",
    "*Hint: the U.K. and U.S. use a comma to separate groups of thousands. You might need to remove this comma first before converting the numbers*"
   ]
  },
  {
   "cell_type": "code",
   "execution_count": 20,
   "id": "beabfbe6-7e57-494b-a853-274b9c191187",
   "metadata": {},
   "outputs": [],
   "source": [
    "# Convert 'votes' column to float\n",
    "movies['votes'] = movies['votes'].astype(str).str.replace(',', '').astype(float)\n"
   ]
  },
  {
   "cell_type": "code",
   "execution_count": 21,
   "id": "65a4c40a-0924-4b57-bcb7-eb4d787be363",
   "metadata": {},
   "outputs": [
    {
     "name": "stdout",
     "output_type": "stream",
     "text": [
      "0        21062.0\n",
      "1        17870.0\n",
      "2       885805.0\n",
      "3       414849.0\n",
      "4            0.0\n",
      "          ...   \n",
      "9993         0.0\n",
      "9995         0.0\n",
      "9996         0.0\n",
      "9997         0.0\n",
      "9998         0.0\n",
      "Name: votes, Length: 9568, dtype: float64\n"
     ]
    }
   ],
   "source": [
    "\n",
    "print(movies.votes)"
   ]
  },
  {
   "cell_type": "markdown",
   "id": "e581e6d2-7046-4db5-9300-73072f0e3c6d",
   "metadata": {},
   "source": [
    "## 2. Descriptive statistics (5 points)"
   ]
  },
  {
   "cell_type": "markdown",
   "id": "793e3799-dcb8-4b69-a18a-438a6c9bce64",
   "metadata": {},
   "source": [
    "**2.1 What is the average rating?**"
   ]
  },
  {
   "cell_type": "code",
   "execution_count": 22,
   "id": "12f35963-d581-4673-873c-718e2a3d49e4",
   "metadata": {},
   "outputs": [
    {
     "name": "stdout",
     "output_type": "stream",
     "text": [
      "6.94608068561873\n"
     ]
    }
   ],
   "source": [
    "# Calculate the average rating\n",
    "average_rating = movies['rating'].mean()\n",
    "print(average_rating)"
   ]
  },
  {
   "cell_type": "markdown",
   "id": "264e2420-45b8-4b9e-a289-8a8496f83bf0",
   "metadata": {},
   "source": [
    "**2.2 What is the maximum runtime?**"
   ]
  },
  {
   "cell_type": "code",
   "execution_count": 23,
   "id": "659af824-504c-4ed4-863d-bac28f76d210",
   "metadata": {},
   "outputs": [
    {
     "name": "stdout",
     "output_type": "stream",
     "text": [
      "853.0\n"
     ]
    }
   ],
   "source": [
    "# Find the maximum runtime\n",
    "max_runtime = movies['runtime'].max()\n",
    "print(max_runtime)"
   ]
  },
  {
   "cell_type": "markdown",
   "id": "48a0f4b9-7999-4455-a253-ea660288db77",
   "metadata": {},
   "source": [
    "**2.3 Filter the dataset to show which movie/serie has the longest runtime**"
   ]
  },
  {
   "cell_type": "code",
   "execution_count": 24,
   "id": "30493be7-1eea-4675-9bc8-38d8c5d9acf8",
   "metadata": {},
   "outputs": [
    {
     "name": "stdout",
     "output_type": "stream",
     "text": [
      "                        movies         year  \\\n",
      "1902  El tiempo entre costuras  (2013–2014)   \n",
      "\n",
      "                                        genre  rating  \\\n",
      "1902  \\nAdventure, Drama, History                 8.3   \n",
      "\n",
      "                                               one-line  \\\n",
      "1902  \\nSira Quiroga is a young Spanish dressmaker e...   \n",
      "\n",
      "                                                  stars   votes  runtime gross  \n",
      "1902  \\n            \\n    Stars:\\nAdriana Ugarte, \\n...  3876.0    853.0   NaN  \n"
     ]
    }
   ],
   "source": [
    "# Filter to find the movie/series with the longest runtime\n",
    "longest_runtime_movie = movies[movies['runtime'] == movies['runtime'].max()]\n",
    "print(longest_runtime_movie)"
   ]
  },
  {
   "cell_type": "markdown",
   "id": "37a367eb-d842-45a7-a48e-af0d7fcb77f0",
   "metadata": {},
   "source": [
    "**2.4 Plot the histogram of runtimes, filtering on (0, 200) range with 200 bins**"
   ]
  },
  {
   "cell_type": "code",
   "execution_count": 25,
   "id": "b18e1799-6cc0-49ad-8e7e-e4c7e1e9efae",
   "metadata": {},
   "outputs": [
    {
     "name": "stdout",
     "output_type": "stream",
     "text": [
      "Requirement already satisfied: matplotlib in /opt/anaconda3/envs/datascraping/lib/python3.9/site-packages (3.9.2)\n",
      "Requirement already satisfied: contourpy>=1.0.1 in /opt/anaconda3/envs/datascraping/lib/python3.9/site-packages (from matplotlib) (1.3.0)\n",
      "Requirement already satisfied: cycler>=0.10 in /opt/anaconda3/envs/datascraping/lib/python3.9/site-packages (from matplotlib) (0.12.1)\n",
      "Requirement already satisfied: fonttools>=4.22.0 in /opt/anaconda3/envs/datascraping/lib/python3.9/site-packages (from matplotlib) (4.54.1)\n",
      "Requirement already satisfied: kiwisolver>=1.3.1 in /opt/anaconda3/envs/datascraping/lib/python3.9/site-packages (from matplotlib) (1.4.7)\n",
      "Requirement already satisfied: numpy>=1.23 in /opt/anaconda3/envs/datascraping/lib/python3.9/site-packages (from matplotlib) (2.0.2)\n",
      "Requirement already satisfied: packaging>=20.0 in /opt/anaconda3/envs/datascraping/lib/python3.9/site-packages (from matplotlib) (24.1)\n",
      "Requirement already satisfied: pillow>=8 in /opt/anaconda3/envs/datascraping/lib/python3.9/site-packages (from matplotlib) (11.0.0)\n",
      "Requirement already satisfied: pyparsing>=2.3.1 in /opt/anaconda3/envs/datascraping/lib/python3.9/site-packages (from matplotlib) (3.2.0)\n",
      "Requirement already satisfied: python-dateutil>=2.7 in /opt/anaconda3/envs/datascraping/lib/python3.9/site-packages (from matplotlib) (2.9.0.post0)\n",
      "Requirement already satisfied: importlib-resources>=3.2.0 in /opt/anaconda3/envs/datascraping/lib/python3.9/site-packages (from matplotlib) (6.4.5)\n",
      "Requirement already satisfied: zipp>=3.1.0 in /opt/anaconda3/envs/datascraping/lib/python3.9/site-packages (from importlib-resources>=3.2.0->matplotlib) (3.20.2)\n",
      "Requirement already satisfied: six>=1.5 in /opt/anaconda3/envs/datascraping/lib/python3.9/site-packages (from python-dateutil>=2.7->matplotlib) (1.16.0)\n"
     ]
    },
    {
     "data": {
      "text/plain": [
       "<Axes: title={'center': 'Histogram of Movie Runtimes (0 to 200 minutes)'}, ylabel='Frequency'>"
      ]
     },
     "execution_count": 25,
     "metadata": {},
     "output_type": "execute_result"
    },
    {
     "data": {
      "image/png": "[encoded data removed]",
      "text/plain": [
       "<Figure size 640x480 with 1 Axes>"
      ]
     },
     "metadata": {},
     "output_type": "display_data"
    }
   ],
   "source": [
    "!pip install matplotlib\n",
    "#plot the histogram for runtimes\n",
    "filtered_runtimes = movies[(movies['runtime'] > 0) & (movies['runtime'] < 200)]\n",
    "\n",
    "filtered_runtimes['runtime'].plot(kind='hist', title=\"Histogram of Movie Runtimes (0 to 200 minutes)\", range=(0, 200), bins=200)"
   ]
  },
  {
   "cell_type": "markdown",
   "id": "29d75e94-ce19-454b-9365-0ac37e468765",
   "metadata": {},
   "source": [
    "**2.5 What is the number of votes a movie needs to have, to be in the top 10% most voted film?**\n",
    "\n",
    "*Tip: the 90th quantile*"
   ]
  },
  {
   "cell_type": "code",
   "execution_count": 26,
   "id": "5e49a5b6-9aa6-402a-b6e9-4941a56c7cd7",
   "metadata": {},
   "outputs": [
    {
     "name": "stdout",
     "output_type": "stream",
     "text": [
      "16266.200000000015\n"
     ]
    }
   ],
   "source": [
    "# Calculate the 90th quantile of the votes\n",
    "top_10_percent_votes = movies['votes'].quantile(0.90)\n",
    "print(top_10_percent_votes)"
   ]
  },
  {
   "cell_type": "markdown",
   "id": "2ff85744-7efb-4723-a145-f933af5d1232",
   "metadata": {},
   "source": [
    "## 3. Merging datasets (4 points)"
   ]
  },
  {
   "cell_type": "markdown",
   "id": "4af297a4-e487-490e-819c-0437d256a7ef",
   "metadata": {},
   "source": [
    "**Read `movies_metadata.csv` and assign it to a `df_meta` variable**\n",
    "\n",
    "**Create a `merge_df` DataFrame from an `inner join` between `df` and `df_meta`**\n",
    "\n",
    "*Hint: you need to find the right key to join on*"
   ]
  },
  {
   "cell_type": "code",
   "execution_count": 30,
   "id": "ca68a335-9f5c-42dc-b577-9ca7bf905dba",
   "metadata": {},
   "outputs": [
    {
     "name": "stdout",
     "output_type": "stream",
     "text": [
      "       adult                              belongs_to_collection    budget  \\\n",
      "0      False  {'id': 10194, 'name': 'Toy Story Collection', ...  30000000   \n",
      "1      False                                                NaN  65000000   \n",
      "2      False  {'id': 119050, 'name': 'Grumpy Old Men Collect...         0   \n",
      "3      False                                                NaN  16000000   \n",
      "4      False  {'id': 96871, 'name': 'Father of the Bride Col...         0   \n",
      "...      ...                                                ...       ...   \n",
      "45461  False                                                NaN         0   \n",
      "45462  False                                                NaN         0   \n",
      "45463  False                                                NaN         0   \n",
      "45464  False                                                NaN         0   \n",
      "45465  False                                                NaN         0   \n",
      "\n",
      "                                                  genres  \\\n",
      "0      [{'id': 16, 'name': 'Animation'}, {'id': 35, '...   \n",
      "1      [{'id': 12, 'name': 'Adventure'}, {'id': 14, '...   \n",
      "2      [{'id': 10749, 'name': 'Romance'}, {'id': 35, ...   \n",
      "3      [{'id': 35, 'name': 'Comedy'}, {'id': 18, 'nam...   \n",
      "4                         [{'id': 35, 'name': 'Comedy'}]   \n",
      "...                                                  ...   \n",
      "45461  [{'id': 18, 'name': 'Drama'}, {'id': 10751, 'n...   \n",
      "45462                      [{'id': 18, 'name': 'Drama'}]   \n",
      "45463  [{'id': 28, 'name': 'Action'}, {'id': 18, 'nam...   \n",
      "45464                                                 []   \n",
      "45465                                                 []   \n",
      "\n",
      "                                   homepage      id    imdb_id  \\\n",
      "0      http://toystory.disney.com/toy-story     862  tt0114709   \n",
      "1                                       NaN    8844  tt0113497   \n",
      "2                                       NaN   15602  tt0113228   \n",
      "3                                       NaN   31357  tt0114885   \n",
      "4                                       NaN   11862  tt0113041   \n",
      "...                                     ...     ...        ...   \n",
      "45461  http://www.imdb.com/title/tt6209470/  439050  tt6209470   \n",
      "45462                                   NaN  111109  tt2028550   \n",
      "45463                                   NaN   67758  tt0303758   \n",
      "45464                                   NaN  227506  tt0008536   \n",
      "45465                                   NaN  461257  tt6980792   \n",
      "\n",
      "      original_language               original_title  \\\n",
      "0                    en                    Toy Story   \n",
      "1                    en                      Jumanji   \n",
      "2                    en             Grumpier Old Men   \n",
      "3                    en            Waiting to Exhale   \n",
      "4                    en  Father of the Bride Part II   \n",
      "...                 ...                          ...   \n",
      "45461                fa                      رگ خواب   \n",
      "45462                tl          Siglo ng Pagluluwal   \n",
      "45463                en                     Betrayal   \n",
      "45464                en          Satana likuyushchiy   \n",
      "45465                en                     Queerama   \n",
      "\n",
      "                                                overview  ... release_date  \\\n",
      "0      Led by Woody, Andy's toys live happily in his ...  ...   1995-10-30   \n",
      "1      When siblings Judy and Peter discover an encha...  ...   1995-12-15   \n",
      "2      A family wedding reignites the ancient feud be...  ...   1995-12-22   \n",
      "3      Cheated on, mistreated and stepped on, the wom...  ...   1995-12-22   \n",
      "4      Just when George Banks has recovered from his ...  ...   1995-02-10   \n",
      "...                                                  ...  ...          ...   \n",
      "45461        Rising and falling between a man and woman.  ...          NaN   \n",
      "45462  An artist struggles to finish his work while a...  ...   2011-11-17   \n",
      "45463  When one of her hits goes wrong, a professiona...  ...   2003-08-01   \n",
      "45464  In a small town live two brothers, one a minis...  ...   1917-10-21   \n",
      "45465  50 years after decriminalisation of homosexual...  ...   2017-06-09   \n",
      "\n",
      "           revenue runtime                                   spoken_languages  \\\n",
      "0      373554033.0    81.0           [{'iso_639_1': 'en', 'name': 'English'}]   \n",
      "1      262797249.0   104.0  [{'iso_639_1': 'en', 'name': 'English'}, {'iso...   \n",
      "2              0.0   101.0           [{'iso_639_1': 'en', 'name': 'English'}]   \n",
      "3       81452156.0   127.0           [{'iso_639_1': 'en', 'name': 'English'}]   \n",
      "4       76578911.0   106.0           [{'iso_639_1': 'en', 'name': 'English'}]   \n",
      "...            ...     ...                                                ...   \n",
      "45461          0.0    90.0             [{'iso_639_1': 'fa', 'name': 'فارسی'}]   \n",
      "45462          0.0   360.0                  [{'iso_639_1': 'tl', 'name': ''}]   \n",
      "45463          0.0    90.0           [{'iso_639_1': 'en', 'name': 'English'}]   \n",
      "45464          0.0    87.0                                                 []   \n",
      "45465          0.0    75.0           [{'iso_639_1': 'en', 'name': 'English'}]   \n",
      "\n",
      "         status                                            tagline  \\\n",
      "0      Released                                                NaN   \n",
      "1      Released          Roll the dice and unleash the excitement!   \n",
      "2      Released  Still Yelling. Still Fighting. Still Ready for...   \n",
      "3      Released  Friends are the people who let you be yourself...   \n",
      "4      Released  Just When His World Is Back To Normal... He's ...   \n",
      "...         ...                                                ...   \n",
      "45461  Released         Rising and falling between a man and woman   \n",
      "45462  Released                                                NaN   \n",
      "45463  Released                             A deadly game of wits.   \n",
      "45464  Released                                                NaN   \n",
      "45465  Released                                                NaN   \n",
      "\n",
      "                             title  video vote_average vote_count  \n",
      "0                        Toy Story  False          7.7     5415.0  \n",
      "1                          Jumanji  False          6.9     2413.0  \n",
      "2                 Grumpier Old Men  False          6.5       92.0  \n",
      "3                Waiting to Exhale  False          6.1       34.0  \n",
      "4      Father of the Bride Part II  False          5.7      173.0  \n",
      "...                            ...    ...          ...        ...  \n",
      "45461                       Subdue  False          4.0        1.0  \n",
      "45462          Century of Birthing  False          9.0        3.0  \n",
      "45463                     Betrayal  False          3.8        6.0  \n",
      "45464             Satan Triumphant  False          0.0        0.0  \n",
      "45465                     Queerama  False          0.0        0.0  \n",
      "\n",
      "[45466 rows x 24 columns]\n"
     ]
    },
    {
     "name": "stderr",
     "output_type": "stream",
     "text": [
      "/var/folders/l9/jp50bfk9457by72k__0yxw2h0000gn/T/ipykernel_1740/1101120299.py:2: DtypeWarning: Columns (10) have mixed types. Specify dtype option on import or set low_memory=False.\n",
      "  df_meta = pd.read_csv('movies_metadata.csv')\n"
     ]
    }
   ],
   "source": [
    "# Read the movies_metadata.csv file into a DataFrame\n",
    "df_meta = pd.read_csv('movies_metadata.csv')\n",
    "print(df_meta)\n"
   ]
  },
  {
   "cell_type": "code",
   "execution_count": 31,
   "id": "ef0d120a-5ac7-4a0e-b7e4-b0589f6efcac",
   "metadata": {},
   "outputs": [],
   "source": [
    "# Perform an inner merge between df_meta and movies DataFrames\n",
    "inner_df = df_meta.merge(movies, how=\"inner\", left_on= \"runtime\", right_on=\"runtime\")"
   ]
  },
  {
   "cell_type": "code",
   "execution_count": 32,
   "id": "b1983532-d47c-4ec1-9903-57b3c932a7c2",
   "metadata": {},
   "outputs": [
    {
     "name": "stdout",
     "output_type": "stream",
     "text": [
      "         adult                              belongs_to_collection    budget  \\\n",
      "0        False  {'id': 10194, 'name': 'Toy Story Collection', ...  30000000   \n",
      "1        False  {'id': 10194, 'name': 'Toy Story Collection', ...  30000000   \n",
      "2        False  {'id': 10194, 'name': 'Toy Story Collection', ...  30000000   \n",
      "3        False  {'id': 10194, 'name': 'Toy Story Collection', ...  30000000   \n",
      "4        False  {'id': 10194, 'name': 'Toy Story Collection', ...  30000000   \n",
      "...        ...                                                ...       ...   \n",
      "3283156  False                                                NaN         0   \n",
      "3283157  False                                                NaN         0   \n",
      "3283158  False                                                NaN         0   \n",
      "3283159  False                                                NaN         0   \n",
      "3283160  False                                                NaN         0   \n",
      "\n",
      "                                                    genres  \\\n",
      "0        [{'id': 16, 'name': 'Animation'}, {'id': 35, '...   \n",
      "1        [{'id': 16, 'name': 'Animation'}, {'id': 35, '...   \n",
      "2        [{'id': 16, 'name': 'Animation'}, {'id': 35, '...   \n",
      "3        [{'id': 16, 'name': 'Animation'}, {'id': 35, '...   \n",
      "4        [{'id': 16, 'name': 'Animation'}, {'id': 35, '...   \n",
      "...                                                    ...   \n",
      "3283156                                                 []   \n",
      "3283157                                                 []   \n",
      "3283158                                                 []   \n",
      "3283159                                                 []   \n",
      "3283160                                                 []   \n",
      "\n",
      "                                     homepage      id    imdb_id  \\\n",
      "0        http://toystory.disney.com/toy-story     862  tt0114709   \n",
      "1        http://toystory.disney.com/toy-story     862  tt0114709   \n",
      "2        http://toystory.disney.com/toy-story     862  tt0114709   \n",
      "3        http://toystory.disney.com/toy-story     862  tt0114709   \n",
      "4        http://toystory.disney.com/toy-story     862  tt0114709   \n",
      "...                                       ...     ...        ...   \n",
      "3283156                                   NaN  461257  tt6980792   \n",
      "3283157                                   NaN  461257  tt6980792   \n",
      "3283158                                   NaN  461257  tt6980792   \n",
      "3283159                                   NaN  461257  tt6980792   \n",
      "3283160                                   NaN  461257  tt6980792   \n",
      "\n",
      "        original_language original_title  \\\n",
      "0                      en      Toy Story   \n",
      "1                      en      Toy Story   \n",
      "2                      en      Toy Story   \n",
      "3                      en      Toy Story   \n",
      "4                      en      Toy Story   \n",
      "...                   ...            ...   \n",
      "3283156                en       Queerama   \n",
      "3283157                en       Queerama   \n",
      "3283158                en       Queerama   \n",
      "3283159                en       Queerama   \n",
      "3283160                en       Queerama   \n",
      "\n",
      "                                                  overview  ... vote_average  \\\n",
      "0        Led by Woody, Andy's toys live happily in his ...  ...          7.7   \n",
      "1        Led by Woody, Andy's toys live happily in his ...  ...          7.7   \n",
      "2        Led by Woody, Andy's toys live happily in his ...  ...          7.7   \n",
      "3        Led by Woody, Andy's toys live happily in his ...  ...          7.7   \n",
      "4        Led by Woody, Andy's toys live happily in his ...  ...          7.7   \n",
      "...                                                    ...  ...          ...   \n",
      "3283156  50 years after decriminalisation of homosexual...  ...          0.0   \n",
      "3283157  50 years after decriminalisation of homosexual...  ...          0.0   \n",
      "3283158  50 years after decriminalisation of homosexual...  ...          0.0   \n",
      "3283159  50 years after decriminalisation of homosexual...  ...          0.0   \n",
      "3283160  50 years after decriminalisation of homosexual...  ...          0.0   \n",
      "\n",
      "        vote_count                              movies          year  \\\n",
      "0           5415.0  The Witcher: Nightmare of the Wolf        (2021)   \n",
      "1           5415.0                J'ai perdu mon corps        (2019)   \n",
      "2           5415.0                      Fun Mom Dinner        (2017)   \n",
      "3           5415.0                           Braqueurs        (2015)   \n",
      "4           5415.0                         V/H/S Viral        (2014)   \n",
      "...            ...                                 ...           ...   \n",
      "3283156        0.0                Battle of the Hearts        (2020)   \n",
      "3283157        0.0          The Night of the Wild Boar        (2016)   \n",
      "3283158        0.0            Little Town of Bethlehem  (2010 Video)   \n",
      "3283159        0.0                    Meeting a Bullet  (2004 Video)   \n",
      "3283160        0.0  Graffiti Verite' 10: Hip-Hop Dance        (2010)   \n",
      "\n",
      "                                              genre  rating  \\\n",
      "0        \\nAnimation, Action, Adventure                 7.1   \n",
      "1           \\nAnimation, Drama, Fantasy                 7.6   \n",
      "2                              \\nComedy                 5.3   \n",
      "3                \\nAction, Crime, Drama                 6.3   \n",
      "4                    \\nHorror, Thriller                 4.2   \n",
      "...                                             ...     ...   \n",
      "3283156               \\nCrime, Thriller                 7.1   \n",
      "3283157        \\nCrime, Horror, Mystery                 4.3   \n",
      "3283158                   \\nDocumentary                 7.6   \n",
      "3283159                         \\nCrime                 3.8   \n",
      "3283160                   \\nDocumentary                 7.1   \n",
      "\n",
      "                                                  one-line  \\\n",
      "0        \\nEscaping from poverty to become a witcher, V...   \n",
      "1        \\nA story of Naoufel, a young man who is in lo...   \n",
      "2        \\nFour moms whose only common ground is their ...   \n",
      "3        \\nWork-life balance breaks down for Paris's mo...   \n",
      "4        \\nA Los Angeles police chase sends a fame-obse...   \n",
      "...                                                    ...   \n",
      "3283156                                     \\nAdd a Plot\\n   \n",
      "3283157  \\nWhile looking for answers about her boyfrien...   \n",
      "3283158  \\n\"Little Town of Bethlehem\" shares the grippi...   \n",
      "3283159  \\nA dirty cop accuses a young individual of a ...   \n",
      "3283160  \\nExplores all genres of Dance known as Hip Ho...   \n",
      "\n",
      "                                                     stars    votes   gross  \n",
      "0        \\n    Director:\\nKwang Il Han\\n| \\n    Stars:\\...      0.0     NaN  \n",
      "1        \\n    Director:\\nJérémy Clapin\\n| \\n    Stars:...  28790.0     NaN  \n",
      "2        \\n    Director:\\nAlethea Jones\\n| \\n    Stars:...   5222.0     NaN  \n",
      "3        \\n    Director:\\nJulien Leclercq\\n| \\n    Star...   4641.0     NaN  \n",
      "4        \\n    Directors:\\nJustin Benson, \\nGregg Bisho...  15520.0  $0.00M  \n",
      "...                                                    ...      ...     ...  \n",
      "3283156  \\n    Director:\\nT.T. Dhavamanni\\n| \\n    Star...      0.0     NaN  \n",
      "3283157  \\n    Director:\\nRamiro Tenorio\\n| \\n    Stars...    226.0     NaN  \n",
      "3283158  \\n    Director:\\nJim Hanon\\n| \\n    Stars:\\nSa...     34.0     NaN  \n",
      "3283159  \\n    Director:\\nDouglas Elford-Argent\\n| \\n  ...    115.0     NaN  \n",
      "3283160  \\n    Director:\\nBob Bryan\\n| \\n    Stars:\\nKe...      0.0     NaN  \n",
      "\n",
      "[3283161 rows x 32 columns]\n"
     ]
    }
   ],
   "source": [
    "print(inner_df)"
   ]
  }
 ],
 "metadata": {
  "kernelspec": {
   "display_name": "Python 3 (ipykernel)",
   "language": "python",
   "name": "python3"
  },
  "language_info": {
   "codemirror_mode": {
    "name": "ipython",
    "version": 3
   },
   "file_extension": ".py",
   "mimetype": "text/x-python",
   "name": "python",
   "nbconvert_exporter": "python",
   "pygments_lexer": "ipython3",
   "version": "3.9.20"
  }
 },
 "nbformat": 4,
 "nbformat_minor": 5
}

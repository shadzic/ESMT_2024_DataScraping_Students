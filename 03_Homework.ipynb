{
 "cells": [
  {
   "cell_type": "markdown",
   "id": "2abb51e6-e8ae-4cb3-a1b7-43706ea2d5f7",
   "metadata": {},
   "source": [
    "# 03 Homework\n",
    "© Copyright: 2024, Selma Hadzic, all rights reserved.\n",
    "\n",
    "#### Number of points: 15 (weights 15% in the final grade)\n",
    "\n",
    "\n",
    "1. Pull from the `ESMT_2024_DataScraping_Lectures` repository: you should get this `03_Homework` file\n",
    "2. Launch VS Code and open your working-folder\n",
    "3. Create a `Session_03` folder, in which you create another folder called `data`\n",
    "4. Copy paste the notebook `03_Homework` from the lectures repo to the working-folder. Copy the csv files `movies.csv` and `movies_metadata.csv` into the `working-folder/Session_03/data` directory.\n",
    "5. Do the exercises on 03_Homework in your working-folder\n",
    "6. Once you are finished, copy-Paste the notebook into `ESMT_2024_DataScraping_Students` folder in your computer\n",
    "8. Commit and push your homework in your branch before the deadline\n",
    "\n",
    "#### Deadline: October 21st 08:59 am CET\n",
    "\n",
    "#### Any missed deadline without justification to the Administration will result in 0 points for this homework.\n",
    "#### If the Github branch is not correctly named using the indicated format **LASTNAME_firstname**, then a penalty of -2 points will be applied"
   ]
  },
  {
   "cell_type": "markdown",
   "id": "2ea70485-ebf4-460f-9030-e08b673127a2",
   "metadata": {},
   "source": [
    "## 1. Exploration and data cleaning (6 points)"
   ]
  },
  {
   "cell_type": "markdown",
   "id": "b76c778b-c041-4c18-acc9-5186aef41c88",
   "metadata": {},
   "source": [
    "**1.1. Read the dataset `movies.csv` and visualise it**"
   ]
  },
  {
   "cell_type": "code",
   "execution_count": 33,
   "id": "1c158e75-df74-4241-9c7c-7b6cbaf27935",
   "metadata": {},
   "outputs": [
    {
     "name": "stdout",
     "output_type": "stream",
     "text": [
      "Requirement already satisfied: pandas in /opt/miniconda3/envs/datascraping/lib/python3.9/site-packages (2.2.3)\n",
      "Requirement already satisfied: numpy>=1.22.4 in /opt/miniconda3/envs/datascraping/lib/python3.9/site-packages (from pandas) (2.0.2)\n",
      "Requirement already satisfied: python-dateutil>=2.8.2 in /opt/miniconda3/envs/datascraping/lib/python3.9/site-packages (from pandas) (2.9.0.post0)\n",
      "Requirement already satisfied: pytz>=2020.1 in /opt/miniconda3/envs/datascraping/lib/python3.9/site-packages (from pandas) (2024.2)\n",
      "Requirement already satisfied: tzdata>=2022.7 in /opt/miniconda3/envs/datascraping/lib/python3.9/site-packages (from pandas) (2024.2)\n",
      "Requirement already satisfied: six>=1.5 in /opt/miniconda3/envs/datascraping/lib/python3.9/site-packages (from python-dateutil>=2.8.2->pandas) (1.16.0)\n"
     ]
    }
   ],
   "source": [
    "!pip install pandas\n",
    "import pandas as pd"
   ]
  },
  {
   "cell_type": "code",
   "execution_count": 34,
   "id": "cd8f705d-05ea-4af9-b40e-f5f3df582455",
   "metadata": {},
   "outputs": [
    {
     "name": "stdout",
     "output_type": "stream",
     "text": [
      "                                   MOVIES         YEAR  \\\n",
      "0                           Blood Red Sky       (2021)   \n",
      "1     Masters of the Universe: Revelation     (2021– )   \n",
      "2                        The Walking Dead  (2010–2022)   \n",
      "3                          Rick and Morty     (2013– )   \n",
      "4                         Army of Thieves       (2021)   \n",
      "...                                   ...          ...   \n",
      "9994                       The Imperfects     (2021– )   \n",
      "9995                               Arcane     (2021– )   \n",
      "9996                    Heart of Invictus     (2022– )   \n",
      "9997                       The Imperfects     (2021– )   \n",
      "9998                       The Imperfects     (2021– )   \n",
      "\n",
      "                                           GENRE  RATING  \\\n",
      "0         \\nAction, Horror, Thriller                 6.1   \n",
      "1     \\nAnimation, Action, Adventure                 5.0   \n",
      "2          \\nDrama, Horror, Thriller                 8.2   \n",
      "3     \\nAnimation, Adventure, Comedy                 9.2   \n",
      "4            \\nAction, Crime, Horror                 NaN   \n",
      "...                                          ...     ...   \n",
      "9994     \\nAdventure, Drama, Fantasy                 NaN   \n",
      "9995  \\nAnimation, Action, Adventure                 NaN   \n",
      "9996            \\nDocumentary, Sport                 NaN   \n",
      "9997     \\nAdventure, Drama, Fantasy                 NaN   \n",
      "9998     \\nAdventure, Drama, Fantasy                 NaN   \n",
      "\n",
      "                                               ONE-LINE  \\\n",
      "0     \\nA woman with a mysterious illness is forced ...   \n",
      "1     \\nThe war for Eternia begins again in what may...   \n",
      "2     \\nSheriff Deputy Rick Grimes wakes up from a c...   \n",
      "3     \\nAn animated series that follows the exploits...   \n",
      "4     \\nA prequel, set before the events of Army of ...   \n",
      "...                                                 ...   \n",
      "9994                                     \\nAdd a Plot\\n   \n",
      "9995                                     \\nAdd a Plot\\n   \n",
      "9996                                     \\nAdd a Plot\\n   \n",
      "9997                                     \\nAdd a Plot\\n   \n",
      "9998                                     \\nAdd a Plot\\n   \n",
      "\n",
      "                                                  STARS    VOTES  RunTime  \\\n",
      "0     \\n    Director:\\nPeter Thorwarth\\n| \\n    Star...   21,062    121.0   \n",
      "1     \\n            \\n    Stars:\\nChris Wood, \\nSara...   17,870     25.0   \n",
      "2     \\n            \\n    Stars:\\nAndrew Lincoln, \\n...  885,805     44.0   \n",
      "3     \\n            \\n    Stars:\\nJustin Roiland, \\n...  414,849     23.0   \n",
      "4     \\n    Director:\\nMatthias Schweighöfer\\n| \\n  ...      NaN      NaN   \n",
      "...                                                 ...      ...      ...   \n",
      "9994  \\n            \\n    Stars:\\nMorgan Taylor Camp...      NaN      NaN   \n",
      "9995                                                 \\n      NaN      NaN   \n",
      "9996  \\n    Director:\\nOrlando von Einsiedel\\n| \\n  ...      NaN      NaN   \n",
      "9997  \\n    Director:\\nJovanka Vuckovic\\n| \\n    Sta...      NaN      NaN   \n",
      "9998  \\n    Director:\\nJovanka Vuckovic\\n| \\n    Sta...      NaN      NaN   \n",
      "\n",
      "     Gross  \n",
      "0      NaN  \n",
      "1      NaN  \n",
      "2      NaN  \n",
      "3      NaN  \n",
      "4      NaN  \n",
      "...    ...  \n",
      "9994   NaN  \n",
      "9995   NaN  \n",
      "9996   NaN  \n",
      "9997   NaN  \n",
      "9998   NaN  \n",
      "\n",
      "[9999 rows x 9 columns]\n"
     ]
    }
   ],
   "source": [
    "df=pd.read_csv(\"./data/movies.csv\")\n",
    "print(df)"
   ]
  },
  {
   "cell_type": "markdown",
   "id": "c7357647-fad3-483f-bdf8-d72c7c0d0ed5",
   "metadata": {},
   "source": [
    "**1.2 Display the size and the number of missing data points per column of the DataFrame**"
   ]
  },
  {
   "cell_type": "code",
   "execution_count": 35,
   "id": "4675b85b-5d7e-4bcb-a8b1-da8e59d050ab",
   "metadata": {},
   "outputs": [
    {
     "data": {
      "text/plain": [
       "(9999, 9)"
      ]
     },
     "execution_count": 35,
     "metadata": {},
     "output_type": "execute_result"
    }
   ],
   "source": [
    "df.shape"
   ]
  },
  {
   "cell_type": "code",
   "execution_count": 36,
   "id": "f71bd766-c8ca-47be-be3d-cb939f4fa1b7",
   "metadata": {},
   "outputs": [
    {
     "data": {
      "text/plain": [
       "MOVIES         0\n",
       "YEAR         644\n",
       "GENRE         80\n",
       "RATING      1820\n",
       "ONE-LINE       0\n",
       "STARS          0\n",
       "VOTES       1820\n",
       "RunTime     2958\n",
       "Gross       9539\n",
       "dtype: int64"
      ]
     },
     "execution_count": 36,
     "metadata": {},
     "output_type": "execute_result"
    }
   ],
   "source": [
    "df.isnull().sum()"
   ]
  },
  {
   "cell_type": "markdown",
   "id": "e2990509-31bf-45f1-bda1-f1c6116fe765",
   "metadata": {},
   "source": [
    "**1.3 Fill the NaN and replace the original dataset**\n",
    "- YEAR: 'Unknown'\n",
    "- GENRE: 'Unknown'\n",
    "- RATING: with the median value\n",
    "- VOTES: 0\n",
    "\n",
    "We leave the NaN of RunTime and Gross for now, as there is no straightforward way to fill them."
   ]
  },
  {
   "cell_type": "code",
   "execution_count": 37,
   "id": "f0b8410d-5477-4ba7-8c83-1d9f241d2695",
   "metadata": {},
   "outputs": [],
   "source": [
    "data=df.copy(deep=True)\n",
    "data.fillna({'Unknown':'NaN'}, inplace=True)\n",
    "median=data.RATING.median()\n",
    "data.fillna({'RATING':median},inplace=True)\n",
    "data.fillna({'VOTES':0},inplace=True)"
   ]
  },
  {
   "cell_type": "code",
   "execution_count": 38,
   "id": "2f25ffa6-f640-4647-ae1b-5825d722e1f0",
   "metadata": {},
   "outputs": [
    {
     "name": "stdout",
     "output_type": "stream",
     "text": [
      "                                   MOVIES         YEAR  \\\n",
      "0                           Blood Red Sky       (2021)   \n",
      "1     Masters of the Universe: Revelation     (2021– )   \n",
      "2                        The Walking Dead  (2010–2022)   \n",
      "3                          Rick and Morty     (2013– )   \n",
      "4                         Army of Thieves       (2021)   \n",
      "...                                   ...          ...   \n",
      "9994                       The Imperfects     (2021– )   \n",
      "9995                               Arcane     (2021– )   \n",
      "9996                    Heart of Invictus     (2022– )   \n",
      "9997                       The Imperfects     (2021– )   \n",
      "9998                       The Imperfects     (2021– )   \n",
      "\n",
      "                                           GENRE  RATING  \\\n",
      "0         \\nAction, Horror, Thriller                 6.1   \n",
      "1     \\nAnimation, Action, Adventure                 5.0   \n",
      "2          \\nDrama, Horror, Thriller                 8.2   \n",
      "3     \\nAnimation, Adventure, Comedy                 9.2   \n",
      "4            \\nAction, Crime, Horror                 7.1   \n",
      "...                                          ...     ...   \n",
      "9994     \\nAdventure, Drama, Fantasy                 7.1   \n",
      "9995  \\nAnimation, Action, Adventure                 7.1   \n",
      "9996            \\nDocumentary, Sport                 7.1   \n",
      "9997     \\nAdventure, Drama, Fantasy                 7.1   \n",
      "9998     \\nAdventure, Drama, Fantasy                 7.1   \n",
      "\n",
      "                                               ONE-LINE  \\\n",
      "0     \\nA woman with a mysterious illness is forced ...   \n",
      "1     \\nThe war for Eternia begins again in what may...   \n",
      "2     \\nSheriff Deputy Rick Grimes wakes up from a c...   \n",
      "3     \\nAn animated series that follows the exploits...   \n",
      "4     \\nA prequel, set before the events of Army of ...   \n",
      "...                                                 ...   \n",
      "9994                                     \\nAdd a Plot\\n   \n",
      "9995                                     \\nAdd a Plot\\n   \n",
      "9996                                     \\nAdd a Plot\\n   \n",
      "9997                                     \\nAdd a Plot\\n   \n",
      "9998                                     \\nAdd a Plot\\n   \n",
      "\n",
      "                                                  STARS    VOTES  RunTime  \\\n",
      "0     \\n    Director:\\nPeter Thorwarth\\n| \\n    Star...   21,062    121.0   \n",
      "1     \\n            \\n    Stars:\\nChris Wood, \\nSara...   17,870     25.0   \n",
      "2     \\n            \\n    Stars:\\nAndrew Lincoln, \\n...  885,805     44.0   \n",
      "3     \\n            \\n    Stars:\\nJustin Roiland, \\n...  414,849     23.0   \n",
      "4     \\n    Director:\\nMatthias Schweighöfer\\n| \\n  ...        0      NaN   \n",
      "...                                                 ...      ...      ...   \n",
      "9994  \\n            \\n    Stars:\\nMorgan Taylor Camp...        0      NaN   \n",
      "9995                                                 \\n        0      NaN   \n",
      "9996  \\n    Director:\\nOrlando von Einsiedel\\n| \\n  ...        0      NaN   \n",
      "9997  \\n    Director:\\nJovanka Vuckovic\\n| \\n    Sta...        0      NaN   \n",
      "9998  \\n    Director:\\nJovanka Vuckovic\\n| \\n    Sta...        0      NaN   \n",
      "\n",
      "     Gross  \n",
      "0      NaN  \n",
      "1      NaN  \n",
      "2      NaN  \n",
      "3      NaN  \n",
      "4      NaN  \n",
      "...    ...  \n",
      "9994   NaN  \n",
      "9995   NaN  \n",
      "9996   NaN  \n",
      "9997   NaN  \n",
      "9998   NaN  \n",
      "\n",
      "[9999 rows x 9 columns]\n"
     ]
    }
   ],
   "source": [
    "print(data)"
   ]
  },
  {
   "cell_type": "markdown",
   "id": "eff0a902-87b7-4c8d-8503-06b32ff01638",
   "metadata": {},
   "source": [
    "**1.4 Drop the duplicated rows**"
   ]
  },
  {
   "cell_type": "code",
   "execution_count": 39,
   "id": "5bcfa8ef-101f-463a-b2a9-cbd65fba9e43",
   "metadata": {},
   "outputs": [],
   "source": [
    "data.drop_duplicates(inplace=True)"
   ]
  },
  {
   "cell_type": "markdown",
   "id": "57744aba-ddb9-4738-a937-e0c64829b038",
   "metadata": {},
   "source": [
    "**1.5 Replace the columns names to make them all lowercase**"
   ]
  },
  {
   "cell_type": "code",
   "execution_count": 40,
   "id": "ce4fb9c5-6d6d-4b10-a5c5-597a7e3213c9",
   "metadata": {},
   "outputs": [],
   "source": [
    "data.columns=data.columns.str.lower()"
   ]
  },
  {
   "cell_type": "code",
   "execution_count": 41,
   "id": "00be34ab-0c87-49f0-ae75-67172573b057",
   "metadata": {},
   "outputs": [
    {
     "name": "stdout",
     "output_type": "stream",
     "text": [
      "                                   movies         year  \\\n",
      "0                           Blood Red Sky       (2021)   \n",
      "1     Masters of the Universe: Revelation     (2021– )   \n",
      "2                        The Walking Dead  (2010–2022)   \n",
      "3                          Rick and Morty     (2013– )   \n",
      "4                         Army of Thieves       (2021)   \n",
      "...                                   ...          ...   \n",
      "9993                            Totenfrau     (2022– )   \n",
      "9995                               Arcane     (2021– )   \n",
      "9996                    Heart of Invictus     (2022– )   \n",
      "9997                       The Imperfects     (2021– )   \n",
      "9998                       The Imperfects     (2021– )   \n",
      "\n",
      "                                           genre  rating  \\\n",
      "0         \\nAction, Horror, Thriller                 6.1   \n",
      "1     \\nAnimation, Action, Adventure                 5.0   \n",
      "2          \\nDrama, Horror, Thriller                 8.2   \n",
      "3     \\nAnimation, Adventure, Comedy                 9.2   \n",
      "4            \\nAction, Crime, Horror                 7.1   \n",
      "...                                          ...     ...   \n",
      "9993               \\nDrama, Thriller                 7.1   \n",
      "9995  \\nAnimation, Action, Adventure                 7.1   \n",
      "9996            \\nDocumentary, Sport                 7.1   \n",
      "9997     \\nAdventure, Drama, Fantasy                 7.1   \n",
      "9998     \\nAdventure, Drama, Fantasy                 7.1   \n",
      "\n",
      "                                               one-line  \\\n",
      "0     \\nA woman with a mysterious illness is forced ...   \n",
      "1     \\nThe war for Eternia begins again in what may...   \n",
      "2     \\nSheriff Deputy Rick Grimes wakes up from a c...   \n",
      "3     \\nAn animated series that follows the exploits...   \n",
      "4     \\nA prequel, set before the events of Army of ...   \n",
      "...                                                 ...   \n",
      "9993                                     \\nAdd a Plot\\n   \n",
      "9995                                     \\nAdd a Plot\\n   \n",
      "9996                                     \\nAdd a Plot\\n   \n",
      "9997                                     \\nAdd a Plot\\n   \n",
      "9998                                     \\nAdd a Plot\\n   \n",
      "\n",
      "                                                  stars    votes  runtime  \\\n",
      "0     \\n    Director:\\nPeter Thorwarth\\n| \\n    Star...   21,062    121.0   \n",
      "1     \\n            \\n    Stars:\\nChris Wood, \\nSara...   17,870     25.0   \n",
      "2     \\n            \\n    Stars:\\nAndrew Lincoln, \\n...  885,805     44.0   \n",
      "3     \\n            \\n    Stars:\\nJustin Roiland, \\n...  414,849     23.0   \n",
      "4     \\n    Director:\\nMatthias Schweighöfer\\n| \\n  ...        0      NaN   \n",
      "...                                                 ...      ...      ...   \n",
      "9993  \\n    Director:\\nNicolai Rohde\\n| \\n    Stars:...        0      NaN   \n",
      "9995                                                 \\n        0      NaN   \n",
      "9996  \\n    Director:\\nOrlando von Einsiedel\\n| \\n  ...        0      NaN   \n",
      "9997  \\n    Director:\\nJovanka Vuckovic\\n| \\n    Sta...        0      NaN   \n",
      "9998  \\n    Director:\\nJovanka Vuckovic\\n| \\n    Sta...        0      NaN   \n",
      "\n",
      "     gross  \n",
      "0      NaN  \n",
      "1      NaN  \n",
      "2      NaN  \n",
      "3      NaN  \n",
      "4      NaN  \n",
      "...    ...  \n",
      "9993   NaN  \n",
      "9995   NaN  \n",
      "9996   NaN  \n",
      "9997   NaN  \n",
      "9998   NaN  \n",
      "\n",
      "[9568 rows x 9 columns]\n"
     ]
    }
   ],
   "source": [
    "print(data)"
   ]
  },
  {
   "cell_type": "markdown",
   "id": "2f4750a5-964b-4ad7-beb5-74935b5841e4",
   "metadata": {},
   "source": [
    "**1.6 Convert the `votes` column into a `float type`**\n",
    "\n",
    "*Hint: the U.K. and U.S. use a comma to separate groups of thousands. You might need to remove this comma first before converting the numbers*"
   ]
  },
  {
   "cell_type": "code",
   "execution_count": 42,
   "id": "beabfbe6-7e57-494b-a853-274b9c191187",
   "metadata": {},
   "outputs": [],
   "source": [
    "data['votes']=data['votes'].str.replace(',', '').astype(float)"
   ]
  },
  {
   "cell_type": "code",
   "execution_count": 43,
   "id": "65a4c40a-0924-4b57-bcb7-eb4d787be363",
   "metadata": {},
   "outputs": [
    {
     "name": "stdout",
     "output_type": "stream",
     "text": [
      "                                   movies         year  \\\n",
      "0                           Blood Red Sky       (2021)   \n",
      "1     Masters of the Universe: Revelation     (2021– )   \n",
      "2                        The Walking Dead  (2010–2022)   \n",
      "3                          Rick and Morty     (2013– )   \n",
      "4                         Army of Thieves       (2021)   \n",
      "...                                   ...          ...   \n",
      "9993                            Totenfrau     (2022– )   \n",
      "9995                               Arcane     (2021– )   \n",
      "9996                    Heart of Invictus     (2022– )   \n",
      "9997                       The Imperfects     (2021– )   \n",
      "9998                       The Imperfects     (2021– )   \n",
      "\n",
      "                                           genre  rating  \\\n",
      "0         \\nAction, Horror, Thriller                 6.1   \n",
      "1     \\nAnimation, Action, Adventure                 5.0   \n",
      "2          \\nDrama, Horror, Thriller                 8.2   \n",
      "3     \\nAnimation, Adventure, Comedy                 9.2   \n",
      "4            \\nAction, Crime, Horror                 7.1   \n",
      "...                                          ...     ...   \n",
      "9993               \\nDrama, Thriller                 7.1   \n",
      "9995  \\nAnimation, Action, Adventure                 7.1   \n",
      "9996            \\nDocumentary, Sport                 7.1   \n",
      "9997     \\nAdventure, Drama, Fantasy                 7.1   \n",
      "9998     \\nAdventure, Drama, Fantasy                 7.1   \n",
      "\n",
      "                                               one-line  \\\n",
      "0     \\nA woman with a mysterious illness is forced ...   \n",
      "1     \\nThe war for Eternia begins again in what may...   \n",
      "2     \\nSheriff Deputy Rick Grimes wakes up from a c...   \n",
      "3     \\nAn animated series that follows the exploits...   \n",
      "4     \\nA prequel, set before the events of Army of ...   \n",
      "...                                                 ...   \n",
      "9993                                     \\nAdd a Plot\\n   \n",
      "9995                                     \\nAdd a Plot\\n   \n",
      "9996                                     \\nAdd a Plot\\n   \n",
      "9997                                     \\nAdd a Plot\\n   \n",
      "9998                                     \\nAdd a Plot\\n   \n",
      "\n",
      "                                                  stars     votes  runtime  \\\n",
      "0     \\n    Director:\\nPeter Thorwarth\\n| \\n    Star...   21062.0    121.0   \n",
      "1     \\n            \\n    Stars:\\nChris Wood, \\nSara...   17870.0     25.0   \n",
      "2     \\n            \\n    Stars:\\nAndrew Lincoln, \\n...  885805.0     44.0   \n",
      "3     \\n            \\n    Stars:\\nJustin Roiland, \\n...  414849.0     23.0   \n",
      "4     \\n    Director:\\nMatthias Schweighöfer\\n| \\n  ...       NaN      NaN   \n",
      "...                                                 ...       ...      ...   \n",
      "9993  \\n    Director:\\nNicolai Rohde\\n| \\n    Stars:...       NaN      NaN   \n",
      "9995                                                 \\n       NaN      NaN   \n",
      "9996  \\n    Director:\\nOrlando von Einsiedel\\n| \\n  ...       NaN      NaN   \n",
      "9997  \\n    Director:\\nJovanka Vuckovic\\n| \\n    Sta...       NaN      NaN   \n",
      "9998  \\n    Director:\\nJovanka Vuckovic\\n| \\n    Sta...       NaN      NaN   \n",
      "\n",
      "     gross  \n",
      "0      NaN  \n",
      "1      NaN  \n",
      "2      NaN  \n",
      "3      NaN  \n",
      "4      NaN  \n",
      "...    ...  \n",
      "9993   NaN  \n",
      "9995   NaN  \n",
      "9996   NaN  \n",
      "9997   NaN  \n",
      "9998   NaN  \n",
      "\n",
      "[9568 rows x 9 columns]\n"
     ]
    }
   ],
   "source": [
    "print(data)"
   ]
  },
  {
   "cell_type": "markdown",
   "id": "e581e6d2-7046-4db5-9300-73072f0e3c6d",
   "metadata": {},
   "source": [
    "## 2. Descriptive statistics (5 points)"
   ]
  },
  {
   "cell_type": "markdown",
   "id": "793e3799-dcb8-4b69-a18a-438a6c9bce64",
   "metadata": {},
   "source": [
    "**2.1 What is the average rating?**"
   ]
  },
  {
   "cell_type": "code",
   "execution_count": 44,
   "id": "12f35963-d581-4673-873c-718e2a3d49e4",
   "metadata": {},
   "outputs": [
    {
     "data": {
      "text/plain": [
       "np.float64(6.94608068561873)"
      ]
     },
     "execution_count": 44,
     "metadata": {},
     "output_type": "execute_result"
    }
   ],
   "source": [
    "data[\"rating\"].mean()"
   ]
  },
  {
   "cell_type": "markdown",
   "id": "264e2420-45b8-4b9e-a289-8a8496f83bf0",
   "metadata": {},
   "source": [
    "**2.2 What is the maximum runtime?**"
   ]
  },
  {
   "cell_type": "code",
   "execution_count": 45,
   "id": "659af824-504c-4ed4-863d-bac28f76d210",
   "metadata": {},
   "outputs": [
    {
     "data": {
      "text/plain": [
       "np.float64(853.0)"
      ]
     },
     "execution_count": 45,
     "metadata": {},
     "output_type": "execute_result"
    }
   ],
   "source": [
    "data[\"runtime\"].max()"
   ]
  },
  {
   "cell_type": "markdown",
   "id": "48a0f4b9-7999-4455-a253-ea660288db77",
   "metadata": {},
   "source": [
    "**2.3 Filter the dataset to show which movie/serie has the longest runtime**"
   ]
  },
  {
   "cell_type": "code",
   "execution_count": 48,
   "id": "30493be7-1eea-4675-9bc8-38d8c5d9acf8",
   "metadata": {},
   "outputs": [
    {
     "name": "stdout",
     "output_type": "stream",
     "text": [
      "                        movies         year  \\\n",
      "1902  El tiempo entre costuras  (2013–2014)   \n",
      "\n",
      "                                        genre  rating  \\\n",
      "1902  \\nAdventure, Drama, History                 8.3   \n",
      "\n",
      "                                               one-line  \\\n",
      "1902  \\nSira Quiroga is a young Spanish dressmaker e...   \n",
      "\n",
      "                                                  stars   votes  runtime gross  \n",
      "1902  \\n            \\n    Stars:\\nAdriana Ugarte, \\n...  3876.0    853.0   NaN  \n"
     ]
    }
   ],
   "source": [
    "max_runtime=data['runtime'].max()\n",
    "data_filtered=data[data['runtime'] == max_runtime]\n",
    "print(data_filtered)"
   ]
  },
  {
   "cell_type": "markdown",
   "id": "37a367eb-d842-45a7-a48e-af0d7fcb77f0",
   "metadata": {},
   "source": [
    "**2.4 Plot the histogram of runtimes, filtering on (0, 200) range with 200 bins**"
   ]
  },
  {
   "cell_type": "code",
   "execution_count": 53,
   "id": "b18e1799-6cc0-49ad-8e7e-e4c7e1e9efae",
   "metadata": {},
   "outputs": [
    {
     "data": {
      "image/png": "[encoded data removed]",
      "text/plain": [
       "<Figure size 640x480 with 1 Axes>"
      ]
     },
     "metadata": {},
     "output_type": "display_data"
    }
   ],
   "source": [
    "import matplotlib.pyplot as plt\n",
    "filtered_data= data[(data['runtime']>=0) & (data['runtime']<=200)]\n",
    "plt.hist(filtered_data['runtime'], bins=200, range=(0, 200))\n",
    "plt.title('Histogram of Runtimes (0-200 mins)')\n",
    "plt.xlabel('Runtime (minutes)')\n",
    "plt.ylabel('Frequency')\n",
    "plt.show()"
   ]
  },
  {
   "cell_type": "markdown",
   "id": "29d75e94-ce19-454b-9365-0ac37e468765",
   "metadata": {},
   "source": [
    "**2.5 What is the number of votes a movie needs to have, to be in the top 10% most voted film?**\n",
    "\n",
    "*Tip: the 90th quantile*"
   ]
  },
  {
   "cell_type": "code",
   "execution_count": 54,
   "id": "5e49a5b6-9aa6-402a-b6e9-4941a56c7cd7",
   "metadata": {},
   "outputs": [
    {
     "name": "stdout",
     "output_type": "stream",
     "text": [
      "to be in the top 10%, a movie needs at least 22193.100000000035 votes.\n"
     ]
    }
   ],
   "source": [
    "top_10_percent_votes=data['votes'].quantile(0.90)\n",
    "print(f\"to be in the top 10%, a movie needs at least {top_10_percent_votes} votes.\")"
   ]
  },
  {
   "cell_type": "markdown",
   "id": "2ff85744-7efb-4723-a145-f933af5d1232",
   "metadata": {},
   "source": [
    "## 3. Merging datasets (4 points)"
   ]
  },
  {
   "cell_type": "markdown",
   "id": "4af297a4-e487-490e-819c-0437d256a7ef",
   "metadata": {},
   "source": [
    "**Read `movies_metadata.csv` and assign it to a `df_meta` variable**\n",
    "\n",
    "**Create a `merge_df` DataFrame from an `inner join` between `df` and `df_meta`**\n",
    "\n",
    "*Hint: you need to find the right key to join on*"
   ]
  },
  {
   "cell_type": "code",
   "execution_count": 74,
   "id": "ca68a335-9f5c-42dc-b577-9ca7bf905dba",
   "metadata": {},
   "outputs": [
    {
     "name": "stdout",
     "output_type": "stream",
     "text": [
      "Index(['MOVIES', 'YEAR', 'GENRE', 'RATING', 'ONE-LINE', 'STARS', 'VOTES',\n",
      "       'RunTime', 'Gross'],\n",
      "      dtype='object')\n",
      "Index(['adult', 'belongs_to_collection', 'budget', 'genres', 'homepage', 'id',\n",
      "       'imdb_id', 'original_language', 'original_title', 'overview',\n",
      "       'popularity', 'poster_path', 'production_companies',\n",
      "       'production_countries', 'release_date', 'revenue', 'runtime',\n",
      "       'spoken_languages', 'status', 'tagline', 'title', 'video',\n",
      "       'vote_average', 'vote_count'],\n",
      "      dtype='object')\n"
     ]
    }
   ],
   "source": [
    "import pandas as pd\n",
    "df_meta=pd.read_csv(\"./data/movies_metadata.csv\", low_memory=False)\n",
    "print(df.columns)\n",
    "print(df_meta.columns)"
   ]
  },
  {
   "cell_type": "code",
   "execution_count": 78,
   "id": "052e3ae0-9fe9-4f4a-b5ea-c6375897a13c",
   "metadata": {},
   "outputs": [
    {
     "name": "stdout",
     "output_type": "stream",
     "text": [
      "             MOVIES         YEAR                                  GENRE  \\\n",
      "0  The Walking Dead  (2010–2022)  \\nDrama, Horror, Thriller               \n",
      "1  The Walking Dead  (2010–2022)  \\nDrama, Horror, Thriller               \n",
      "2           Lucifer  (2016–2021)    \\nCrime, Drama, Fantasy               \n",
      "3   The Good Doctor     (2017– )                    \\nDrama               \n",
      "4      Supernatural  (2005–2020)   \\nDrama, Fantasy, Horror               \n",
      "\n",
      "   RATING                                           ONE-LINE  \\\n",
      "0     8.2  \\nSheriff Deputy Rick Grimes wakes up from a c...   \n",
      "1     8.2  \\nSheriff Deputy Rick Grimes wakes up from a c...   \n",
      "2     8.1  \\nLucifer Morningstar has decided he's had eno...   \n",
      "3     8.1  \\nShaun Murphy, a young surgeon with autism an...   \n",
      "4     8.4  \\nTwo brothers follow their father's footsteps...   \n",
      "\n",
      "                                               STARS    VOTES  RunTime Gross  \\\n",
      "0  \\n            \\n    Stars:\\nAndrew Lincoln, \\n...  885,805     44.0   NaN   \n",
      "1  \\n            \\n    Stars:\\nAndrew Lincoln, \\n...  885,805     44.0   NaN   \n",
      "2  \\n            \\n    Stars:\\nTom Ellis, \\nLesle...  264,222     42.0   NaN   \n",
      "3  \\n            \\n    Stars:\\nFreddie Highmore, ...   70,871     41.0   NaN   \n",
      "4  \\n            \\n    Stars:\\nJared Padalecki, \\...  404,273     44.0   NaN   \n",
      "\n",
      "   adult  ... release_date revenue runtime  \\\n",
      "0  False  ...   1995-02-24     0.0    88.0   \n",
      "1  False  ...   1936-03-14     0.0    66.0   \n",
      "2  False  ...   2014-10-22     0.0   108.0   \n",
      "3  False  ...   2011-01-01  5206.0    93.0   \n",
      "4  False  ...   1933-05-12     0.0    65.0   \n",
      "\n",
      "                                    spoken_languages    status  \\\n",
      "0           [{'iso_639_1': 'en', 'name': 'English'}]  Released   \n",
      "1           [{'iso_639_1': 'en', 'name': 'English'}]  Released   \n",
      "2           [{'iso_639_1': 'es', 'name': 'Español'}]  Released   \n",
      "3  [{'iso_639_1': 'en', 'name': 'English'}, {'iso...  Released   \n",
      "4           [{'iso_639_1': 'en', 'name': 'English'}]  Released   \n",
      "\n",
      "                                             tagline             title  video  \\\n",
      "0        Surviving the streets was just a rehearsal.  The Walking Dead  False   \n",
      "1  HE DIED a man with a hunger to love... and ret...  The Walking Dead  False   \n",
      "2                                                NaN           Lucifer  False   \n",
      "3                                        Do no harm.   The Good Doctor  False   \n",
      "4                                                NaN      Supernatural  False   \n",
      "\n",
      "  vote_average vote_count  \n",
      "0          6.6        4.0  \n",
      "1          6.6       14.0  \n",
      "2          5.8        4.0  \n",
      "3          5.0       52.0  \n",
      "4          4.3        4.0  \n",
      "\n",
      "[5 rows x 33 columns]\n"
     ]
    }
   ],
   "source": [
    "merged_df=pd.merge(df, df_meta, how='inner', left_on='MOVIES', right_on='title')\n",
    "print(merged_df.head())"
   ]
  },
  {
   "cell_type": "code",
   "execution_count": null,
   "id": "ef0d120a-5ac7-4a0e-b7e4-b0589f6efcac",
   "metadata": {},
   "outputs": [],
   "source": []
  }
 ],
 "metadata": {
  "kernelspec": {
   "display_name": "Python 3 (ipykernel)",
   "language": "python",
   "name": "python3"
  },
  "language_info": {
   "codemirror_mode": {
    "name": "ipython",
    "version": 3
   },
   "file_extension": ".py",
   "mimetype": "text/x-python",
   "name": "python",
   "nbconvert_exporter": "python",
   "pygments_lexer": "ipython3",
   "version": "3.9.20"
  }
 },
 "nbformat": 4,
 "nbformat_minor": 5
}

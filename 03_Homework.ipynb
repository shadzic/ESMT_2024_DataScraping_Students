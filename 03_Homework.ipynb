{
 "cells": [
  {
   "cell_type": "markdown",
   "id": "2abb51e6-e8ae-4cb3-a1b7-43706ea2d5f7",
   "metadata": {},
   "source": [
    "# 03 Homework\n",
    "© Copyright: 2024, Selma Hadzic, all rights reserved.\n",
    "\n",
    "#### Number of points: 15 (weights 15% in the final grade)\n",
    "\n",
    "\n",
    "1. Pull from the `ESMT_2024_DataScraping_Lectures` repository: you should get this `03_Homework` file\n",
    "2. Launch VS Code and open your working-folder\n",
    "3. Create a `Session_03` folder, in which you create another folder called `data`\n",
    "4. Copy paste the notebook `03_Homework` from the lectures repo to the working-folder. Copy the csv files `movies.csv` and `movies_metadata.csv` into the `working-folder/Session_03/data` directory.\n",
    "5. Do the exercises on 03_Homework in your working-folder\n",
    "6. Once you are finished, copy-Paste the notebook into `ESMT_2024_DataScraping_Students` folder in your computer\n",
    "8. Commit and push your homework in your branch before the deadline\n",
    "\n",
    "#### Deadline: October 21st 08:59 am CET\n",
    "\n",
    "#### Any missed deadline without justification to the Administration will result in 0 points for this homework.\n",
    "#### If the Github branch is not correctly named using the indicated format **LASTNAME_firstname**, then a penalty of -2 points will be applied"
   ]
  },
  {
   "cell_type": "markdown",
   "id": "2ea70485-ebf4-460f-9030-e08b673127a2",
   "metadata": {},
   "source": [
    "## 1. Exploration and data cleaning (6 points)"
   ]
  },
  {
   "cell_type": "markdown",
   "id": "b76c778b-c041-4c18-acc9-5186aef41c88",
   "metadata": {},
   "source": [
    "**1.1. Read the dataset `movies.csv` and visualise it**"
   ]
  },
  {
   "cell_type": "code",
   "execution_count": 48,
   "id": "1c158e75-df74-4241-9c7c-7b6cbaf27935",
   "metadata": {},
   "outputs": [],
   "source": [
    "#importing the package\n",
    "import pandas as pd\n",
    "import matplotlib.pyplot as plt"
   ]
  },
  {
   "cell_type": "code",
   "execution_count": 49,
   "id": "cd8f705d-05ea-4af9-b40e-f5f3df582455",
   "metadata": {},
   "outputs": [
    {
     "data": {
      "text/html": [
       "<div>\n",
       "<style scoped>\n",
       "    .dataframe tbody tr th:only-of-type {\n",
       "        vertical-align: middle;\n",
       "    }\n",
       "\n",
       "    .dataframe tbody tr th {\n",
       "        vertical-align: top;\n",
       "    }\n",
       "\n",
       "    .dataframe thead th {\n",
       "        text-align: right;\n",
       "    }\n",
       "</style>\n",
       "<table border=\"1\" class=\"dataframe\">\n",
       "  <thead>\n",
       "    <tr style=\"text-align: right;\">\n",
       "      <th></th>\n",
       "      <th>MOVIES</th>\n",
       "      <th>YEAR</th>\n",
       "      <th>GENRE</th>\n",
       "      <th>RATING</th>\n",
       "      <th>ONE-LINE</th>\n",
       "      <th>STARS</th>\n",
       "      <th>VOTES</th>\n",
       "      <th>RunTime</th>\n",
       "      <th>Gross</th>\n",
       "    </tr>\n",
       "  </thead>\n",
       "  <tbody>\n",
       "    <tr>\n",
       "      <th>0</th>\n",
       "      <td>Blood Red Sky</td>\n",
       "      <td>(2021)</td>\n",
       "      <td>\\nAction, Horror, Thriller</td>\n",
       "      <td>6.1</td>\n",
       "      <td>\\nA woman with a mysterious illness is forced ...</td>\n",
       "      <td>\\n    Director:\\nPeter Thorwarth\\n| \\n    Star...</td>\n",
       "      <td>21,062</td>\n",
       "      <td>121.0</td>\n",
       "      <td>NaN</td>\n",
       "    </tr>\n",
       "    <tr>\n",
       "      <th>1</th>\n",
       "      <td>Masters of the Universe: Revelation</td>\n",
       "      <td>(2021– )</td>\n",
       "      <td>\\nAnimation, Action, Adventure</td>\n",
       "      <td>5.0</td>\n",
       "      <td>\\nThe war for Eternia begins again in what may...</td>\n",
       "      <td>\\n            \\n    Stars:\\nChris Wood, \\nSara...</td>\n",
       "      <td>17,870</td>\n",
       "      <td>25.0</td>\n",
       "      <td>NaN</td>\n",
       "    </tr>\n",
       "    <tr>\n",
       "      <th>2</th>\n",
       "      <td>The Walking Dead</td>\n",
       "      <td>(2010–2022)</td>\n",
       "      <td>\\nDrama, Horror, Thriller</td>\n",
       "      <td>8.2</td>\n",
       "      <td>\\nSheriff Deputy Rick Grimes wakes up from a c...</td>\n",
       "      <td>\\n            \\n    Stars:\\nAndrew Lincoln, \\n...</td>\n",
       "      <td>885,805</td>\n",
       "      <td>44.0</td>\n",
       "      <td>NaN</td>\n",
       "    </tr>\n",
       "    <tr>\n",
       "      <th>3</th>\n",
       "      <td>Rick and Morty</td>\n",
       "      <td>(2013– )</td>\n",
       "      <td>\\nAnimation, Adventure, Comedy</td>\n",
       "      <td>9.2</td>\n",
       "      <td>\\nAn animated series that follows the exploits...</td>\n",
       "      <td>\\n            \\n    Stars:\\nJustin Roiland, \\n...</td>\n",
       "      <td>414,849</td>\n",
       "      <td>23.0</td>\n",
       "      <td>NaN</td>\n",
       "    </tr>\n",
       "    <tr>\n",
       "      <th>4</th>\n",
       "      <td>Army of Thieves</td>\n",
       "      <td>(2021)</td>\n",
       "      <td>\\nAction, Crime, Horror</td>\n",
       "      <td>NaN</td>\n",
       "      <td>\\nA prequel, set before the events of Army of ...</td>\n",
       "      <td>\\n    Director:\\nMatthias Schweighöfer\\n| \\n  ...</td>\n",
       "      <td>NaN</td>\n",
       "      <td>NaN</td>\n",
       "      <td>NaN</td>\n",
       "    </tr>\n",
       "    <tr>\n",
       "      <th>5</th>\n",
       "      <td>Outer Banks</td>\n",
       "      <td>(2020– )</td>\n",
       "      <td>\\nAction, Crime, Drama</td>\n",
       "      <td>7.6</td>\n",
       "      <td>\\nA group of teenagers from the wrong side of ...</td>\n",
       "      <td>\\n            \\n    Stars:\\nChase Stokes, \\nMa...</td>\n",
       "      <td>25,858</td>\n",
       "      <td>50.0</td>\n",
       "      <td>NaN</td>\n",
       "    </tr>\n",
       "    <tr>\n",
       "      <th>6</th>\n",
       "      <td>The Last Letter from Your Lover</td>\n",
       "      <td>(2021)</td>\n",
       "      <td>\\nDrama, Romance</td>\n",
       "      <td>6.8</td>\n",
       "      <td>\\nA pair of interwoven stories set in the past...</td>\n",
       "      <td>\\n    Director:\\nAugustine Frizzell\\n| \\n    S...</td>\n",
       "      <td>5,283</td>\n",
       "      <td>110.0</td>\n",
       "      <td>NaN</td>\n",
       "    </tr>\n",
       "    <tr>\n",
       "      <th>7</th>\n",
       "      <td>Dexter</td>\n",
       "      <td>(2006–2013)</td>\n",
       "      <td>\\nCrime, Drama, Mystery</td>\n",
       "      <td>8.6</td>\n",
       "      <td>\\nBy day, mild-mannered Dexter is a blood-spat...</td>\n",
       "      <td>\\n            \\n    Stars:\\nMichael C. Hall, \\...</td>\n",
       "      <td>665,387</td>\n",
       "      <td>53.0</td>\n",
       "      <td>NaN</td>\n",
       "    </tr>\n",
       "    <tr>\n",
       "      <th>8</th>\n",
       "      <td>Never Have I Ever</td>\n",
       "      <td>(2020– )</td>\n",
       "      <td>\\nComedy</td>\n",
       "      <td>7.9</td>\n",
       "      <td>\\nThe complicated life of a modern-day first g...</td>\n",
       "      <td>\\n            \\n    Stars:\\nMaitreyi Ramakrish...</td>\n",
       "      <td>34,530</td>\n",
       "      <td>30.0</td>\n",
       "      <td>NaN</td>\n",
       "    </tr>\n",
       "    <tr>\n",
       "      <th>9</th>\n",
       "      <td>Virgin River</td>\n",
       "      <td>(2019– )</td>\n",
       "      <td>\\nDrama, Romance</td>\n",
       "      <td>7.4</td>\n",
       "      <td>\\nSeeking a fresh start, nurse practitioner Me...</td>\n",
       "      <td>\\n            \\n    Stars:\\nAlexandra Breckenr...</td>\n",
       "      <td>27,279</td>\n",
       "      <td>44.0</td>\n",
       "      <td>NaN</td>\n",
       "    </tr>\n",
       "  </tbody>\n",
       "</table>\n",
       "</div>"
      ],
      "text/plain": [
       "                                MOVIES         YEAR  \\\n",
       "0                        Blood Red Sky       (2021)   \n",
       "1  Masters of the Universe: Revelation     (2021– )   \n",
       "2                     The Walking Dead  (2010–2022)   \n",
       "3                       Rick and Morty     (2013– )   \n",
       "4                      Army of Thieves       (2021)   \n",
       "5                          Outer Banks     (2020– )   \n",
       "6      The Last Letter from Your Lover       (2021)   \n",
       "7                               Dexter  (2006–2013)   \n",
       "8                    Never Have I Ever     (2020– )   \n",
       "9                         Virgin River     (2019– )   \n",
       "\n",
       "                                        GENRE  RATING  \\\n",
       "0      \\nAction, Horror, Thriller                 6.1   \n",
       "1  \\nAnimation, Action, Adventure                 5.0   \n",
       "2       \\nDrama, Horror, Thriller                 8.2   \n",
       "3  \\nAnimation, Adventure, Comedy                 9.2   \n",
       "4         \\nAction, Crime, Horror                 NaN   \n",
       "5          \\nAction, Crime, Drama                 7.6   \n",
       "6                \\nDrama, Romance                 6.8   \n",
       "7         \\nCrime, Drama, Mystery                 8.6   \n",
       "8                        \\nComedy                 7.9   \n",
       "9                \\nDrama, Romance                 7.4   \n",
       "\n",
       "                                            ONE-LINE  \\\n",
       "0  \\nA woman with a mysterious illness is forced ...   \n",
       "1  \\nThe war for Eternia begins again in what may...   \n",
       "2  \\nSheriff Deputy Rick Grimes wakes up from a c...   \n",
       "3  \\nAn animated series that follows the exploits...   \n",
       "4  \\nA prequel, set before the events of Army of ...   \n",
       "5  \\nA group of teenagers from the wrong side of ...   \n",
       "6  \\nA pair of interwoven stories set in the past...   \n",
       "7  \\nBy day, mild-mannered Dexter is a blood-spat...   \n",
       "8  \\nThe complicated life of a modern-day first g...   \n",
       "9  \\nSeeking a fresh start, nurse practitioner Me...   \n",
       "\n",
       "                                               STARS    VOTES  RunTime Gross  \n",
       "0  \\n    Director:\\nPeter Thorwarth\\n| \\n    Star...   21,062    121.0   NaN  \n",
       "1  \\n            \\n    Stars:\\nChris Wood, \\nSara...   17,870     25.0   NaN  \n",
       "2  \\n            \\n    Stars:\\nAndrew Lincoln, \\n...  885,805     44.0   NaN  \n",
       "3  \\n            \\n    Stars:\\nJustin Roiland, \\n...  414,849     23.0   NaN  \n",
       "4  \\n    Director:\\nMatthias Schweighöfer\\n| \\n  ...      NaN      NaN   NaN  \n",
       "5  \\n            \\n    Stars:\\nChase Stokes, \\nMa...   25,858     50.0   NaN  \n",
       "6  \\n    Director:\\nAugustine Frizzell\\n| \\n    S...    5,283    110.0   NaN  \n",
       "7  \\n            \\n    Stars:\\nMichael C. Hall, \\...  665,387     53.0   NaN  \n",
       "8  \\n            \\n    Stars:\\nMaitreyi Ramakrish...   34,530     30.0   NaN  \n",
       "9  \\n            \\n    Stars:\\nAlexandra Breckenr...   27,279     44.0   NaN  "
      ]
     },
     "execution_count": 49,
     "metadata": {},
     "output_type": "execute_result"
    }
   ],
   "source": [
    "#read the dataset and visualizing the first 10 row\n",
    "df = pd.read_csv(\"./data/movies.csv\")\n",
    "df.head(10)"
   ]
  },
  {
   "cell_type": "markdown",
   "id": "c7357647-fad3-483f-bdf8-d72c7c0d0ed5",
   "metadata": {},
   "source": [
    "**1.2 Display the size and the number of missing data points per column of the DataFrame**"
   ]
  },
  {
   "cell_type": "code",
   "execution_count": 50,
   "id": "4675b85b-5d7e-4bcb-a8b1-da8e59d050ab",
   "metadata": {},
   "outputs": [
    {
     "data": {
      "text/plain": [
       "(9999, 9)"
      ]
     },
     "execution_count": 50,
     "metadata": {},
     "output_type": "execute_result"
    }
   ],
   "source": [
    "#size\n",
    "df.shape"
   ]
  },
  {
   "cell_type": "code",
   "execution_count": 51,
   "id": "f71bd766-c8ca-47be-be3d-cb939f4fa1b7",
   "metadata": {},
   "outputs": [
    {
     "data": {
      "text/plain": [
       "MOVIES         0\n",
       "YEAR         644\n",
       "GENRE         80\n",
       "RATING      1820\n",
       "ONE-LINE       0\n",
       "STARS          0\n",
       "VOTES       1820\n",
       "RunTime     2958\n",
       "Gross       9539\n",
       "dtype: int64"
      ]
     },
     "execution_count": 51,
     "metadata": {},
     "output_type": "execute_result"
    }
   ],
   "source": [
    "#number of missing data points\n",
    "df.isnull().sum()"
   ]
  },
  {
   "cell_type": "markdown",
   "id": "e2990509-31bf-45f1-bda1-f1c6116fe765",
   "metadata": {},
   "source": [
    "**1.3 Fill the NaN and replace the original dataset**\n",
    "- YEAR: 'Unknown'\n",
    "- GENRE: 'Unknown'\n",
    "- RATING: with the median value\n",
    "- VOTES: 0\n",
    "\n",
    "We leave the NaN of RunTime and Gross for now, as there is no straightforward way to fill them."
   ]
  },
  {
   "cell_type": "code",
   "execution_count": 80,
   "id": "f0b8410d-5477-4ba7-8c83-1d9f241d2695",
   "metadata": {},
   "outputs": [],
   "source": [
    "#deep copy for futher editing the data without changing the source data \n",
    "data = df.copy(deep=True)\n",
    "\n",
    "#replace the missing data\n",
    "data.fillna({'YEAR': 'Unknown'}, inplace=True)\n",
    "data.fillna({'GENRE': 'Unknown'}, inplace=True)\n",
    "data.fillna({'VOTES': '0'}, inplace=True)"
   ]
  },
  {
   "cell_type": "code",
   "execution_count": 81,
   "id": "2f25ffa6-f640-4647-ae1b-5825d722e1f0",
   "metadata": {},
   "outputs": [
    {
     "data": {
      "text/plain": [
       "MOVIES         0\n",
       "YEAR           0\n",
       "GENRE          0\n",
       "RATING         0\n",
       "ONE-LINE       0\n",
       "STARS          0\n",
       "VOTES          0\n",
       "RunTime     2958\n",
       "Gross       9539\n",
       "dtype: int64"
      ]
     },
     "execution_count": 81,
     "metadata": {},
     "output_type": "execute_result"
    }
   ],
   "source": [
    "#calculating median for column: rating\n",
    "median = data.RATING.median()\n",
    "data.fillna({'RATING':median}, inplace=True)\n",
    "\n",
    "#show that all missing values are filled\n",
    "data.isnull().sum()"
   ]
  },
  {
   "cell_type": "markdown",
   "id": "eff0a902-87b7-4c8d-8503-06b32ff01638",
   "metadata": {},
   "source": [
    "**1.4 Drop the duplicated rows**"
   ]
  },
  {
   "cell_type": "code",
   "execution_count": 54,
   "id": "5bcfa8ef-101f-463a-b2a9-cbd65fba9e43",
   "metadata": {},
   "outputs": [
    {
     "name": "stdout",
     "output_type": "stream",
     "text": [
      "9568 9999\n"
     ]
    },
    {
     "data": {
      "text/html": [
       "<div>\n",
       "<style scoped>\n",
       "    .dataframe tbody tr th:only-of-type {\n",
       "        vertical-align: middle;\n",
       "    }\n",
       "\n",
       "    .dataframe tbody tr th {\n",
       "        vertical-align: top;\n",
       "    }\n",
       "\n",
       "    .dataframe thead th {\n",
       "        text-align: right;\n",
       "    }\n",
       "</style>\n",
       "<table border=\"1\" class=\"dataframe\">\n",
       "  <thead>\n",
       "    <tr style=\"text-align: right;\">\n",
       "      <th></th>\n",
       "      <th>MOVIES</th>\n",
       "      <th>YEAR</th>\n",
       "      <th>GENRE</th>\n",
       "      <th>RATING</th>\n",
       "      <th>ONE-LINE</th>\n",
       "      <th>STARS</th>\n",
       "      <th>VOTES</th>\n",
       "      <th>RunTime</th>\n",
       "      <th>Gross</th>\n",
       "    </tr>\n",
       "  </thead>\n",
       "  <tbody>\n",
       "    <tr>\n",
       "      <th>0</th>\n",
       "      <td>Blood Red Sky</td>\n",
       "      <td>(2021)</td>\n",
       "      <td>\\nAction, Horror, Thriller</td>\n",
       "      <td>6.1</td>\n",
       "      <td>\\nA woman with a mysterious illness is forced ...</td>\n",
       "      <td>\\n    Director:\\nPeter Thorwarth\\n| \\n    Star...</td>\n",
       "      <td>21,062</td>\n",
       "      <td>121.0</td>\n",
       "      <td>NaN</td>\n",
       "    </tr>\n",
       "    <tr>\n",
       "      <th>1</th>\n",
       "      <td>Masters of the Universe: Revelation</td>\n",
       "      <td>(2021– )</td>\n",
       "      <td>\\nAnimation, Action, Adventure</td>\n",
       "      <td>5.0</td>\n",
       "      <td>\\nThe war for Eternia begins again in what may...</td>\n",
       "      <td>\\n            \\n    Stars:\\nChris Wood, \\nSara...</td>\n",
       "      <td>17,870</td>\n",
       "      <td>25.0</td>\n",
       "      <td>NaN</td>\n",
       "    </tr>\n",
       "    <tr>\n",
       "      <th>2</th>\n",
       "      <td>The Walking Dead</td>\n",
       "      <td>(2010–2022)</td>\n",
       "      <td>\\nDrama, Horror, Thriller</td>\n",
       "      <td>8.2</td>\n",
       "      <td>\\nSheriff Deputy Rick Grimes wakes up from a c...</td>\n",
       "      <td>\\n            \\n    Stars:\\nAndrew Lincoln, \\n...</td>\n",
       "      <td>885,805</td>\n",
       "      <td>44.0</td>\n",
       "      <td>NaN</td>\n",
       "    </tr>\n",
       "    <tr>\n",
       "      <th>3</th>\n",
       "      <td>Rick and Morty</td>\n",
       "      <td>(2013– )</td>\n",
       "      <td>\\nAnimation, Adventure, Comedy</td>\n",
       "      <td>9.2</td>\n",
       "      <td>\\nAn animated series that follows the exploits...</td>\n",
       "      <td>\\n            \\n    Stars:\\nJustin Roiland, \\n...</td>\n",
       "      <td>414,849</td>\n",
       "      <td>23.0</td>\n",
       "      <td>NaN</td>\n",
       "    </tr>\n",
       "    <tr>\n",
       "      <th>4</th>\n",
       "      <td>Army of Thieves</td>\n",
       "      <td>(2021)</td>\n",
       "      <td>\\nAction, Crime, Horror</td>\n",
       "      <td>7.1</td>\n",
       "      <td>\\nA prequel, set before the events of Army of ...</td>\n",
       "      <td>\\n    Director:\\nMatthias Schweighöfer\\n| \\n  ...</td>\n",
       "      <td>0</td>\n",
       "      <td>NaN</td>\n",
       "      <td>NaN</td>\n",
       "    </tr>\n",
       "  </tbody>\n",
       "</table>\n",
       "</div>"
      ],
      "text/plain": [
       "                                MOVIES         YEAR  \\\n",
       "0                        Blood Red Sky       (2021)   \n",
       "1  Masters of the Universe: Revelation     (2021– )   \n",
       "2                     The Walking Dead  (2010–2022)   \n",
       "3                       Rick and Morty     (2013– )   \n",
       "4                      Army of Thieves       (2021)   \n",
       "\n",
       "                                        GENRE  RATING  \\\n",
       "0      \\nAction, Horror, Thriller                 6.1   \n",
       "1  \\nAnimation, Action, Adventure                 5.0   \n",
       "2       \\nDrama, Horror, Thriller                 8.2   \n",
       "3  \\nAnimation, Adventure, Comedy                 9.2   \n",
       "4         \\nAction, Crime, Horror                 7.1   \n",
       "\n",
       "                                            ONE-LINE  \\\n",
       "0  \\nA woman with a mysterious illness is forced ...   \n",
       "1  \\nThe war for Eternia begins again in what may...   \n",
       "2  \\nSheriff Deputy Rick Grimes wakes up from a c...   \n",
       "3  \\nAn animated series that follows the exploits...   \n",
       "4  \\nA prequel, set before the events of Army of ...   \n",
       "\n",
       "                                               STARS    VOTES  RunTime Gross  \n",
       "0  \\n    Director:\\nPeter Thorwarth\\n| \\n    Star...   21,062    121.0   NaN  \n",
       "1  \\n            \\n    Stars:\\nChris Wood, \\nSara...   17,870     25.0   NaN  \n",
       "2  \\n            \\n    Stars:\\nAndrew Lincoln, \\n...  885,805     44.0   NaN  \n",
       "3  \\n            \\n    Stars:\\nJustin Roiland, \\n...  414,849     23.0   NaN  \n",
       "4  \\n    Director:\\nMatthias Schweighöfer\\n| \\n  ...        0      NaN   NaN  "
      ]
     },
     "execution_count": 54,
     "metadata": {},
     "output_type": "execute_result"
    }
   ],
   "source": [
    "data.drop_duplicates(inplace=True)\n",
    "\n",
    "#comparing the number of row before and after dropping duplicate\n",
    "print(data.shape[0], df.shape[0])\n",
    "data.head()"
   ]
  },
  {
   "cell_type": "markdown",
   "id": "57744aba-ddb9-4738-a937-e0c64829b038",
   "metadata": {},
   "source": [
    "**1.5 Replace the columns names to make them all lowercase**"
   ]
  },
  {
   "cell_type": "code",
   "execution_count": 55,
   "id": "ce4fb9c5-6d6d-4b10-a5c5-597a7e3213c9",
   "metadata": {},
   "outputs": [
    {
     "data": {
      "text/plain": [
       "Index(['MOVIES', 'YEAR', 'GENRE', 'RATING', 'ONE-LINE', 'STARS', 'VOTES',\n",
       "       'RunTime', 'Gross'],\n",
       "      dtype='object')"
      ]
     },
     "execution_count": 55,
     "metadata": {},
     "output_type": "execute_result"
    }
   ],
   "source": [
    "data.columns"
   ]
  },
  {
   "cell_type": "code",
   "execution_count": 56,
   "id": "00be34ab-0c87-49f0-ae75-67172573b057",
   "metadata": {},
   "outputs": [
    {
     "data": {
      "text/plain": [
       "Index(['movies', 'year', 'genre', 'rating', 'one-line', 'stars', 'votes',\n",
       "       'runtime', 'gross'],\n",
       "      dtype='object')"
      ]
     },
     "execution_count": 56,
     "metadata": {},
     "output_type": "execute_result"
    }
   ],
   "source": [
    "data.columns = ['movies','year', 'genre','rating', 'one-line', 'stars',\n",
    "       'votes', 'runtime', 'gross']\n",
    "data.columns"
   ]
  },
  {
   "cell_type": "markdown",
   "id": "2f4750a5-964b-4ad7-beb5-74935b5841e4",
   "metadata": {},
   "source": [
    "**1.6 Convert the `votes` column into a `float type`**\n",
    "\n",
    "*Hint: the U.K. and U.S. use a comma to separate groups of thousands. You might need to remove this comma first before converting the numbers*"
   ]
  },
  {
   "cell_type": "code",
   "execution_count": 57,
   "id": "beabfbe6-7e57-494b-a853-274b9c191187",
   "metadata": {},
   "outputs": [],
   "source": [
    "#deleting the comas from votes data\n",
    "data.votes = data.votes.str.replace(',', '')"
   ]
  },
  {
   "cell_type": "code",
   "execution_count": 60,
   "id": "65a4c40a-0924-4b57-bcb7-eb4d787be363",
   "metadata": {},
   "outputs": [
    {
     "data": {
      "text/plain": [
       "movies       object\n",
       "year         object\n",
       "genre        object\n",
       "rating      float64\n",
       "one-line     object\n",
       "stars        object\n",
       "votes       float64\n",
       "runtime     float64\n",
       "gross        object\n",
       "dtype: object"
      ]
     },
     "execution_count": 60,
     "metadata": {},
     "output_type": "execute_result"
    }
   ],
   "source": [
    "#converting vote data to float\n",
    "data['votes'] = data['votes'].astype(float)\n",
    "data.dtypes"
   ]
  },
  {
   "cell_type": "markdown",
   "id": "e581e6d2-7046-4db5-9300-73072f0e3c6d",
   "metadata": {},
   "source": [
    "## 2. Descriptive statistics (5 points)"
   ]
  },
  {
   "cell_type": "markdown",
   "id": "793e3799-dcb8-4b69-a18a-438a6c9bce64",
   "metadata": {},
   "source": [
    "**2.1 What is the average rating?**"
   ]
  },
  {
   "cell_type": "code",
   "execution_count": 62,
   "id": "12f35963-d581-4673-873c-718e2a3d49e4",
   "metadata": {},
   "outputs": [
    {
     "data": {
      "text/plain": [
       "np.float64(6.94608068561873)"
      ]
     },
     "execution_count": 62,
     "metadata": {},
     "output_type": "execute_result"
    }
   ],
   "source": [
    "data['rating'].mean()"
   ]
  },
  {
   "cell_type": "markdown",
   "id": "264e2420-45b8-4b9e-a289-8a8496f83bf0",
   "metadata": {},
   "source": [
    "**2.2 What is the maximum runtime?**"
   ]
  },
  {
   "cell_type": "code",
   "execution_count": 64,
   "id": "659af824-504c-4ed4-863d-bac28f76d210",
   "metadata": {},
   "outputs": [
    {
     "data": {
      "text/plain": [
       "np.float64(853.0)"
      ]
     },
     "execution_count": 64,
     "metadata": {},
     "output_type": "execute_result"
    }
   ],
   "source": [
    "data['runtime'].max()"
   ]
  },
  {
   "cell_type": "markdown",
   "id": "48a0f4b9-7999-4455-a253-ea660288db77",
   "metadata": {},
   "source": [
    "**2.3 Filter the dataset to show which movie/serie has the longest runtime**"
   ]
  },
  {
   "cell_type": "code",
   "execution_count": 66,
   "id": "30493be7-1eea-4675-9bc8-38d8c5d9acf8",
   "metadata": {},
   "outputs": [
    {
     "data": {
      "text/html": [
       "<div>\n",
       "<style scoped>\n",
       "    .dataframe tbody tr th:only-of-type {\n",
       "        vertical-align: middle;\n",
       "    }\n",
       "\n",
       "    .dataframe tbody tr th {\n",
       "        vertical-align: top;\n",
       "    }\n",
       "\n",
       "    .dataframe thead th {\n",
       "        text-align: right;\n",
       "    }\n",
       "</style>\n",
       "<table border=\"1\" class=\"dataframe\">\n",
       "  <thead>\n",
       "    <tr style=\"text-align: right;\">\n",
       "      <th></th>\n",
       "      <th>movies</th>\n",
       "      <th>year</th>\n",
       "      <th>genre</th>\n",
       "      <th>rating</th>\n",
       "      <th>one-line</th>\n",
       "      <th>stars</th>\n",
       "      <th>votes</th>\n",
       "      <th>runtime</th>\n",
       "      <th>gross</th>\n",
       "    </tr>\n",
       "  </thead>\n",
       "  <tbody>\n",
       "    <tr>\n",
       "      <th>1902</th>\n",
       "      <td>El tiempo entre costuras</td>\n",
       "      <td>(2013–2014)</td>\n",
       "      <td>\\nAdventure, Drama, History</td>\n",
       "      <td>8.3</td>\n",
       "      <td>\\nSira Quiroga is a young Spanish dressmaker e...</td>\n",
       "      <td>\\n            \\n    Stars:\\nAdriana Ugarte, \\n...</td>\n",
       "      <td>3876.0</td>\n",
       "      <td>853.0</td>\n",
       "      <td>NaN</td>\n",
       "    </tr>\n",
       "  </tbody>\n",
       "</table>\n",
       "</div>"
      ],
      "text/plain": [
       "                        movies         year  \\\n",
       "1902  El tiempo entre costuras  (2013–2014)   \n",
       "\n",
       "                                        genre  rating  \\\n",
       "1902  \\nAdventure, Drama, History                 8.3   \n",
       "\n",
       "                                               one-line  \\\n",
       "1902  \\nSira Quiroga is a young Spanish dressmaker e...   \n",
       "\n",
       "                                                  stars   votes  runtime gross  \n",
       "1902  \\n            \\n    Stars:\\nAdriana Ugarte, \\n...  3876.0    853.0   NaN  "
      ]
     },
     "execution_count": 66,
     "metadata": {},
     "output_type": "execute_result"
    }
   ],
   "source": [
    "data[data['runtime']==853]"
   ]
  },
  {
   "cell_type": "markdown",
   "id": "37a367eb-d842-45a7-a48e-af0d7fcb77f0",
   "metadata": {},
   "source": [
    "**2.4 Plot the histogram of runtimes, filtering on (0, 200) range with 200 bins**"
   ]
  },
  {
   "cell_type": "code",
   "execution_count": 67,
   "id": "b18e1799-6cc0-49ad-8e7e-e4c7e1e9efae",
   "metadata": {},
   "outputs": [
    {
     "data": {
      "text/plain": [
       "<Axes: title={'center': 'Histogram of Runtime'}, ylabel='Frequency'>"
      ]
     },
     "execution_count": 67,
     "metadata": {},
     "output_type": "execute_result"
    },
    {
     "data": {
      "image/png": "[encoded data removed]",
      "text/plain": [
       "<Figure size 640x480 with 1 Axes>"
      ]
     },
     "metadata": {},
     "output_type": "display_data"
    }
   ],
   "source": [
    "data.runtime.plot(kind='hist', title=\"Histogram of Runtime\", range=(0,200), bins=200 )"
   ]
  },
  {
   "cell_type": "markdown",
   "id": "29d75e94-ce19-454b-9365-0ac37e468765",
   "metadata": {},
   "source": [
    "**2.5 What is the number of votes a movie needs to have, to be in the top 10% most voted film?**\n",
    "\n",
    "*Tip: the 90th quantile*"
   ]
  },
  {
   "cell_type": "code",
   "execution_count": 69,
   "id": "5e49a5b6-9aa6-402a-b6e9-4941a56c7cd7",
   "metadata": {},
   "outputs": [
    {
     "data": {
      "text/plain": [
       "np.float64(16266.200000000015)"
      ]
     },
     "execution_count": 69,
     "metadata": {},
     "output_type": "execute_result"
    }
   ],
   "source": [
    "data['votes'].quantile(0.90)"
   ]
  },
  {
   "cell_type": "markdown",
   "id": "2ff85744-7efb-4723-a145-f933af5d1232",
   "metadata": {},
   "source": [
    "## 3. Merging datasets (4 points)"
   ]
  },
  {
   "cell_type": "markdown",
   "id": "4af297a4-e487-490e-819c-0437d256a7ef",
   "metadata": {},
   "source": [
    "**Read `movies_metadata.csv` and assign it to a `df_meta` variable**\n",
    "\n",
    "**Create a `merge_df` DataFrame from an `inner join` between `df` and `df_meta`**\n",
    "\n",
    "*Hint: you need to find the right key to join on*"
   ]
  },
  {
   "cell_type": "code",
   "execution_count": 70,
   "id": "ca68a335-9f5c-42dc-b577-9ca7bf905dba",
   "metadata": {},
   "outputs": [
    {
     "name": "stderr",
     "output_type": "stream",
     "text": [
      "C:\\Users\\Stephen Sukirno Sie\\AppData\\Local\\Temp\\ipykernel_704\\1916106144.py:1: DtypeWarning: Columns (10) have mixed types. Specify dtype option on import or set low_memory=False.\n",
      "  df_meta = pd.read_csv(\"./data/movies_metadata.csv\")\n"
     ]
    }
   ],
   "source": [
    "df_meta = pd.read_csv(\"./data/movies_metadata.csv\")"
   ]
  },
  {
   "cell_type": "code",
   "execution_count": 78,
   "id": "052e3ae0-9fe9-4f4a-b5ea-c6375897a13c",
   "metadata": {},
   "outputs": [],
   "source": [
    "merge_df= data.merge(df_meta, how=\"inner\", left_on= \"movies\", right_on=\"original_title\")"
   ]
  },
  {
   "cell_type": "code",
   "execution_count": 79,
   "id": "ef0d120a-5ac7-4a0e-b7e4-b0589f6efcac",
   "metadata": {},
   "outputs": [
    {
     "data": {
      "text/html": [
       "<div>\n",
       "<style scoped>\n",
       "    .dataframe tbody tr th:only-of-type {\n",
       "        vertical-align: middle;\n",
       "    }\n",
       "\n",
       "    .dataframe tbody tr th {\n",
       "        vertical-align: top;\n",
       "    }\n",
       "\n",
       "    .dataframe thead th {\n",
       "        text-align: right;\n",
       "    }\n",
       "</style>\n",
       "<table border=\"1\" class=\"dataframe\">\n",
       "  <thead>\n",
       "    <tr style=\"text-align: right;\">\n",
       "      <th></th>\n",
       "      <th>movies</th>\n",
       "      <th>year</th>\n",
       "      <th>genre</th>\n",
       "      <th>rating</th>\n",
       "      <th>one-line</th>\n",
       "      <th>stars</th>\n",
       "      <th>votes</th>\n",
       "      <th>runtime_x</th>\n",
       "      <th>gross</th>\n",
       "      <th>adult</th>\n",
       "      <th>...</th>\n",
       "      <th>release_date</th>\n",
       "      <th>revenue</th>\n",
       "      <th>runtime_y</th>\n",
       "      <th>spoken_languages</th>\n",
       "      <th>status</th>\n",
       "      <th>tagline</th>\n",
       "      <th>title</th>\n",
       "      <th>video</th>\n",
       "      <th>vote_average</th>\n",
       "      <th>vote_count</th>\n",
       "    </tr>\n",
       "  </thead>\n",
       "  <tbody>\n",
       "    <tr>\n",
       "      <th>0</th>\n",
       "      <td>The Walking Dead</td>\n",
       "      <td>(2010–2022)</td>\n",
       "      <td>\\nDrama, Horror, Thriller</td>\n",
       "      <td>8.2</td>\n",
       "      <td>\\nSheriff Deputy Rick Grimes wakes up from a c...</td>\n",
       "      <td>\\n            \\n    Stars:\\nAndrew Lincoln, \\n...</td>\n",
       "      <td>885805.0</td>\n",
       "      <td>44.0</td>\n",
       "      <td>NaN</td>\n",
       "      <td>False</td>\n",
       "      <td>...</td>\n",
       "      <td>1995-02-24</td>\n",
       "      <td>0.0</td>\n",
       "      <td>88.0</td>\n",
       "      <td>[{'iso_639_1': 'en', 'name': 'English'}]</td>\n",
       "      <td>Released</td>\n",
       "      <td>Surviving the streets was just a rehearsal.</td>\n",
       "      <td>The Walking Dead</td>\n",
       "      <td>False</td>\n",
       "      <td>6.6</td>\n",
       "      <td>4.0</td>\n",
       "    </tr>\n",
       "    <tr>\n",
       "      <th>1</th>\n",
       "      <td>The Walking Dead</td>\n",
       "      <td>(2010–2022)</td>\n",
       "      <td>\\nDrama, Horror, Thriller</td>\n",
       "      <td>8.2</td>\n",
       "      <td>\\nSheriff Deputy Rick Grimes wakes up from a c...</td>\n",
       "      <td>\\n            \\n    Stars:\\nAndrew Lincoln, \\n...</td>\n",
       "      <td>885805.0</td>\n",
       "      <td>44.0</td>\n",
       "      <td>NaN</td>\n",
       "      <td>False</td>\n",
       "      <td>...</td>\n",
       "      <td>1936-03-14</td>\n",
       "      <td>0.0</td>\n",
       "      <td>66.0</td>\n",
       "      <td>[{'iso_639_1': 'en', 'name': 'English'}]</td>\n",
       "      <td>Released</td>\n",
       "      <td>HE DIED a man with a hunger to love... and ret...</td>\n",
       "      <td>The Walking Dead</td>\n",
       "      <td>False</td>\n",
       "      <td>6.6</td>\n",
       "      <td>14.0</td>\n",
       "    </tr>\n",
       "    <tr>\n",
       "      <th>2</th>\n",
       "      <td>Lucifer</td>\n",
       "      <td>(2016–2021)</td>\n",
       "      <td>\\nCrime, Drama, Fantasy</td>\n",
       "      <td>8.1</td>\n",
       "      <td>\\nLucifer Morningstar has decided he's had eno...</td>\n",
       "      <td>\\n            \\n    Stars:\\nTom Ellis, \\nLesle...</td>\n",
       "      <td>264222.0</td>\n",
       "      <td>42.0</td>\n",
       "      <td>NaN</td>\n",
       "      <td>False</td>\n",
       "      <td>...</td>\n",
       "      <td>2014-10-22</td>\n",
       "      <td>0.0</td>\n",
       "      <td>108.0</td>\n",
       "      <td>[{'iso_639_1': 'es', 'name': 'Español'}]</td>\n",
       "      <td>Released</td>\n",
       "      <td>NaN</td>\n",
       "      <td>Lucifer</td>\n",
       "      <td>False</td>\n",
       "      <td>5.8</td>\n",
       "      <td>4.0</td>\n",
       "    </tr>\n",
       "    <tr>\n",
       "      <th>3</th>\n",
       "      <td>The Good Doctor</td>\n",
       "      <td>(2017– )</td>\n",
       "      <td>\\nDrama</td>\n",
       "      <td>8.1</td>\n",
       "      <td>\\nShaun Murphy, a young surgeon with autism an...</td>\n",
       "      <td>\\n            \\n    Stars:\\nFreddie Highmore, ...</td>\n",
       "      <td>70871.0</td>\n",
       "      <td>41.0</td>\n",
       "      <td>NaN</td>\n",
       "      <td>False</td>\n",
       "      <td>...</td>\n",
       "      <td>2011-01-01</td>\n",
       "      <td>5206.0</td>\n",
       "      <td>93.0</td>\n",
       "      <td>[{'iso_639_1': 'en', 'name': 'English'}, {'iso...</td>\n",
       "      <td>Released</td>\n",
       "      <td>Do no harm.</td>\n",
       "      <td>The Good Doctor</td>\n",
       "      <td>False</td>\n",
       "      <td>5.0</td>\n",
       "      <td>52.0</td>\n",
       "    </tr>\n",
       "    <tr>\n",
       "      <th>4</th>\n",
       "      <td>Supernatural</td>\n",
       "      <td>(2005–2020)</td>\n",
       "      <td>\\nDrama, Fantasy, Horror</td>\n",
       "      <td>8.4</td>\n",
       "      <td>\\nTwo brothers follow their father's footsteps...</td>\n",
       "      <td>\\n            \\n    Stars:\\nJared Padalecki, \\...</td>\n",
       "      <td>404273.0</td>\n",
       "      <td>44.0</td>\n",
       "      <td>NaN</td>\n",
       "      <td>False</td>\n",
       "      <td>...</td>\n",
       "      <td>1933-05-12</td>\n",
       "      <td>0.0</td>\n",
       "      <td>65.0</td>\n",
       "      <td>[{'iso_639_1': 'en', 'name': 'English'}]</td>\n",
       "      <td>Released</td>\n",
       "      <td>NaN</td>\n",
       "      <td>Supernatural</td>\n",
       "      <td>False</td>\n",
       "      <td>4.3</td>\n",
       "      <td>4.0</td>\n",
       "    </tr>\n",
       "  </tbody>\n",
       "</table>\n",
       "<p>5 rows × 33 columns</p>\n",
       "</div>"
      ],
      "text/plain": [
       "             movies         year                                  genre  \\\n",
       "0  The Walking Dead  (2010–2022)  \\nDrama, Horror, Thriller               \n",
       "1  The Walking Dead  (2010–2022)  \\nDrama, Horror, Thriller               \n",
       "2           Lucifer  (2016–2021)    \\nCrime, Drama, Fantasy               \n",
       "3   The Good Doctor     (2017– )                    \\nDrama               \n",
       "4      Supernatural  (2005–2020)   \\nDrama, Fantasy, Horror               \n",
       "\n",
       "   rating                                           one-line  \\\n",
       "0     8.2  \\nSheriff Deputy Rick Grimes wakes up from a c...   \n",
       "1     8.2  \\nSheriff Deputy Rick Grimes wakes up from a c...   \n",
       "2     8.1  \\nLucifer Morningstar has decided he's had eno...   \n",
       "3     8.1  \\nShaun Murphy, a young surgeon with autism an...   \n",
       "4     8.4  \\nTwo brothers follow their father's footsteps...   \n",
       "\n",
       "                                               stars     votes  runtime_x  \\\n",
       "0  \\n            \\n    Stars:\\nAndrew Lincoln, \\n...  885805.0       44.0   \n",
       "1  \\n            \\n    Stars:\\nAndrew Lincoln, \\n...  885805.0       44.0   \n",
       "2  \\n            \\n    Stars:\\nTom Ellis, \\nLesle...  264222.0       42.0   \n",
       "3  \\n            \\n    Stars:\\nFreddie Highmore, ...   70871.0       41.0   \n",
       "4  \\n            \\n    Stars:\\nJared Padalecki, \\...  404273.0       44.0   \n",
       "\n",
       "  gross  adult  ... release_date revenue runtime_y  \\\n",
       "0   NaN  False  ...   1995-02-24     0.0      88.0   \n",
       "1   NaN  False  ...   1936-03-14     0.0      66.0   \n",
       "2   NaN  False  ...   2014-10-22     0.0     108.0   \n",
       "3   NaN  False  ...   2011-01-01  5206.0      93.0   \n",
       "4   NaN  False  ...   1933-05-12     0.0      65.0   \n",
       "\n",
       "                                    spoken_languages    status  \\\n",
       "0           [{'iso_639_1': 'en', 'name': 'English'}]  Released   \n",
       "1           [{'iso_639_1': 'en', 'name': 'English'}]  Released   \n",
       "2           [{'iso_639_1': 'es', 'name': 'Español'}]  Released   \n",
       "3  [{'iso_639_1': 'en', 'name': 'English'}, {'iso...  Released   \n",
       "4           [{'iso_639_1': 'en', 'name': 'English'}]  Released   \n",
       "\n",
       "                                             tagline             title  video  \\\n",
       "0        Surviving the streets was just a rehearsal.  The Walking Dead  False   \n",
       "1  HE DIED a man with a hunger to love... and ret...  The Walking Dead  False   \n",
       "2                                                NaN           Lucifer  False   \n",
       "3                                        Do no harm.   The Good Doctor  False   \n",
       "4                                                NaN      Supernatural  False   \n",
       "\n",
       "  vote_average vote_count  \n",
       "0          6.6        4.0  \n",
       "1          6.6       14.0  \n",
       "2          5.8        4.0  \n",
       "3          5.0       52.0  \n",
       "4          4.3        4.0  \n",
       "\n",
       "[5 rows x 33 columns]"
      ]
     },
     "execution_count": 79,
     "metadata": {},
     "output_type": "execute_result"
    }
   ],
   "source": [
    "merge_df.head()"
   ]
  },
  {
   "cell_type": "code",
   "execution_count": null,
   "id": "d252840f-af83-4f4d-b30a-cb5523604660",
   "metadata": {},
   "outputs": [],
   "source": []
  }
 ],
 "metadata": {
  "kernelspec": {
   "display_name": "Python 3 (ipykernel)",
   "language": "python",
   "name": "python3"
  },
  "language_info": {
   "codemirror_mode": {
    "name": "ipython",
    "version": 3
   },
   "file_extension": ".py",
   "mimetype": "text/x-python",
   "name": "python",
   "nbconvert_exporter": "python",
   "pygments_lexer": "ipython3",
   "version": "3.12.4"
  }
 },
 "nbformat": 4,
 "nbformat_minor": 5
}
